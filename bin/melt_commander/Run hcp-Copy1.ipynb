{
 "cells": [
  {
   "cell_type": "markdown",
   "id": "03fb6613-22cc-47d6-b61c-16475621b1c3",
   "metadata": {},
   "source": [
    "# Run all hcp"
   ]
  },
  {
   "cell_type": "code",
   "execution_count": 1,
   "id": "be2c722b-e434-4085-bbcf-554620d56c1a",
   "metadata": {},
   "outputs": [],
   "source": [
    "import iprPy\n",
    "import atomman as am\n",
    "\n",
    "from MeltCommander import MeltCommander\n",
    "\n",
    "import pandas as pd"
   ]
  },
  {
   "cell_type": "markdown",
   "id": "4c7c4ca9-ed2b-4cd1-8db9-b264887aac48",
   "metadata": {},
   "source": [
    "Load hcp structure info"
   ]
  },
  {
   "cell_type": "code",
   "execution_count": 2,
   "id": "3eb1e772-dc98-46a9-aca6-eb8584145a64",
   "metadata": {},
   "outputs": [],
   "source": [
    "hcp_props = pd.read_csv('Melting_temperatures_hcp.csv')"
   ]
  },
  {
   "cell_type": "markdown",
   "id": "85ad437b-5480-46a1-a9f0-d8fec322ea13",
   "metadata": {},
   "source": [
    "Check for duplicate entries"
   ]
  },
  {
   "cell_type": "code",
   "execution_count": 3,
   "id": "f30c129b-b980-4ef0-80d4-208c4b173321",
   "metadata": {},
   "outputs": [],
   "source": [
    "for i in hcp_props.index[:-1]:\n",
    "    series0 = hcp_props.loc[i]\n",
    "    series1 = hcp_props.loc[i+1]\n",
    "    if ((series0.potential_LAMMPS_id == series1.potential_LAMMPS_id) &\n",
    "        (series0.composition == series1.composition)):\n",
    "        print(series0.to_dict())\n",
    "        print(series1.to_dict())\n",
    "        print()"
   ]
  },
  {
   "cell_type": "markdown",
   "id": "04404545-8259-4d98-9408-669f0cd4cab9",
   "metadata": {},
   "source": [
    "## Simulation settings"
   ]
  },
  {
   "cell_type": "code",
   "execution_count": 4,
   "id": "6d283cf6-eada-446d-bd92-3f80c783dae9",
   "metadata": {},
   "outputs": [],
   "source": [
    "database = 'master'\n",
    "lammps_command = '/home/lmh1/LAMMPS/2022-06-23/src/lmp_serial'\n",
    "run_directory = 'master_4'\n",
    "\n",
    "min_temperature = 50\n",
    "max_temperature = 9000\n",
    "alat_mult = 1.03\n",
    "max_melts = 10\n",
    "max_runs = 35"
   ]
  },
  {
   "cell_type": "code",
   "execution_count": 5,
   "id": "bd776daa-1059-4012-a87e-d2b509256887",
   "metadata": {},
   "outputs": [
    {
     "data": {
      "text/html": [
       "<div>\n",
       "<style scoped>\n",
       "    .dataframe tbody tr th:only-of-type {\n",
       "        vertical-align: middle;\n",
       "    }\n",
       "\n",
       "    .dataframe tbody tr th {\n",
       "        vertical-align: top;\n",
       "    }\n",
       "\n",
       "    .dataframe thead th {\n",
       "        text-align: right;\n",
       "    }\n",
       "</style>\n",
       "<table border=\"1\" class=\"dataframe\">\n",
       "  <thead>\n",
       "    <tr style=\"text-align: right;\">\n",
       "      <th></th>\n",
       "      <th>potential_LAMMPS_id</th>\n",
       "      <th>composition</th>\n",
       "      <th>a</th>\n",
       "      <th>Epot (eV/atom)</th>\n",
       "    </tr>\n",
       "  </thead>\n",
       "  <tbody>\n",
       "    <tr>\n",
       "      <th>0</th>\n",
       "      <td>1986--Foiles-S-M--Ag--LAMMPS--ipr1</td>\n",
       "      <td>Ag</td>\n",
       "      <td>2.892481</td>\n",
       "      <td>-2.849670</td>\n",
       "    </tr>\n",
       "    <tr>\n",
       "      <th>1</th>\n",
       "      <td>1986--Foiles-S-M--Ag-Au-Cu-Ni-Pd-Pt--LAMMPS--ipr1</td>\n",
       "      <td>Ag</td>\n",
       "      <td>2.892481</td>\n",
       "      <td>-2.849670</td>\n",
       "    </tr>\n",
       "    <tr>\n",
       "      <th>2</th>\n",
       "      <td>1986--Foiles-S-M--Ag-Au-Cu-Ni-Pd-Pt--LAMMPS--ipr1</td>\n",
       "      <td>Au</td>\n",
       "      <td>2.886388</td>\n",
       "      <td>-3.928946</td>\n",
       "    </tr>\n",
       "    <tr>\n",
       "      <th>3</th>\n",
       "      <td>1986--Foiles-S-M--Ag-Au-Cu-Ni-Pd-Pt--LAMMPS--ipr1</td>\n",
       "      <td>Cu</td>\n",
       "      <td>2.556979</td>\n",
       "      <td>-3.536928</td>\n",
       "    </tr>\n",
       "    <tr>\n",
       "      <th>4</th>\n",
       "      <td>1986--Foiles-S-M--Ag-Au-Cu-Ni-Pd-Pt--LAMMPS--ipr1</td>\n",
       "      <td>Ni</td>\n",
       "      <td>2.489294</td>\n",
       "      <td>-4.447602</td>\n",
       "    </tr>\n",
       "    <tr>\n",
       "      <th>5</th>\n",
       "      <td>1986--Foiles-S-M--Ag-Au-Cu-Ni-Pd-Pt--LAMMPS--ipr1</td>\n",
       "      <td>Pd</td>\n",
       "      <td>2.752135</td>\n",
       "      <td>-3.906982</td>\n",
       "    </tr>\n",
       "    <tr>\n",
       "      <th>6</th>\n",
       "      <td>1986--Foiles-S-M--Ag-Au-Cu-Ni-Pd-Pt--LAMMPS--ipr1</td>\n",
       "      <td>Pt</td>\n",
       "      <td>2.769028</td>\n",
       "      <td>-5.767002</td>\n",
       "    </tr>\n",
       "    <tr>\n",
       "      <th>7</th>\n",
       "      <td>1986--Foiles-S-M--Au--LAMMPS--ipr1</td>\n",
       "      <td>Au</td>\n",
       "      <td>2.886388</td>\n",
       "      <td>-3.928946</td>\n",
       "    </tr>\n",
       "    <tr>\n",
       "      <th>8</th>\n",
       "      <td>1986--Foiles-S-M--Cu--LAMMPS--ipr1</td>\n",
       "      <td>Cu</td>\n",
       "      <td>2.556979</td>\n",
       "      <td>-3.536928</td>\n",
       "    </tr>\n",
       "    <tr>\n",
       "      <th>9</th>\n",
       "      <td>1986--Foiles-S-M--Ni--LAMMPS--ipr1</td>\n",
       "      <td>Ni</td>\n",
       "      <td>2.489294</td>\n",
       "      <td>-4.447602</td>\n",
       "    </tr>\n",
       "    <tr>\n",
       "      <th>10</th>\n",
       "      <td>1986--Foiles-S-M--Pd--LAMMPS--ipr1</td>\n",
       "      <td>Pd</td>\n",
       "      <td>2.752135</td>\n",
       "      <td>-3.906982</td>\n",
       "    </tr>\n",
       "    <tr>\n",
       "      <th>11</th>\n",
       "      <td>1986--Foiles-S-M--Pt--LAMMPS--ipr1</td>\n",
       "      <td>Pt</td>\n",
       "      <td>2.769028</td>\n",
       "      <td>-5.767002</td>\n",
       "    </tr>\n",
       "    <tr>\n",
       "      <th>12</th>\n",
       "      <td>1987--Ackland-G-J--Au--LAMMPS--ipr1</td>\n",
       "      <td>Au</td>\n",
       "      <td>2.865460</td>\n",
       "      <td>-3.783518</td>\n",
       "    </tr>\n",
       "    <tr>\n",
       "      <th>13</th>\n",
       "      <td>1987--Ackland-G-J--Au--LAMMPS--ipr2</td>\n",
       "      <td>Au</td>\n",
       "      <td>2.865460</td>\n",
       "      <td>-3.783518</td>\n",
       "    </tr>\n",
       "    <tr>\n",
       "      <th>14</th>\n",
       "      <td>1987--Ackland-G-J--Mo--LAMMPS--ipr1</td>\n",
       "      <td>Mo</td>\n",
       "      <td>3.036581</td>\n",
       "      <td>-6.401780</td>\n",
       "    </tr>\n",
       "    <tr>\n",
       "      <th>15</th>\n",
       "      <td>1987--Ackland-G-J--Ni--LAMMPS--ipr1</td>\n",
       "      <td>Ni</td>\n",
       "      <td>2.489636</td>\n",
       "      <td>-4.454829</td>\n",
       "    </tr>\n",
       "  </tbody>\n",
       "</table>\n",
       "</div>"
      ],
      "text/plain": [
       "                                  potential_LAMMPS_id composition         a  \\\n",
       "0                  1986--Foiles-S-M--Ag--LAMMPS--ipr1          Ag  2.892481   \n",
       "1   1986--Foiles-S-M--Ag-Au-Cu-Ni-Pd-Pt--LAMMPS--ipr1          Ag  2.892481   \n",
       "2   1986--Foiles-S-M--Ag-Au-Cu-Ni-Pd-Pt--LAMMPS--ipr1          Au  2.886388   \n",
       "3   1986--Foiles-S-M--Ag-Au-Cu-Ni-Pd-Pt--LAMMPS--ipr1          Cu  2.556979   \n",
       "4   1986--Foiles-S-M--Ag-Au-Cu-Ni-Pd-Pt--LAMMPS--ipr1          Ni  2.489294   \n",
       "5   1986--Foiles-S-M--Ag-Au-Cu-Ni-Pd-Pt--LAMMPS--ipr1          Pd  2.752135   \n",
       "6   1986--Foiles-S-M--Ag-Au-Cu-Ni-Pd-Pt--LAMMPS--ipr1          Pt  2.769028   \n",
       "7                  1986--Foiles-S-M--Au--LAMMPS--ipr1          Au  2.886388   \n",
       "8                  1986--Foiles-S-M--Cu--LAMMPS--ipr1          Cu  2.556979   \n",
       "9                  1986--Foiles-S-M--Ni--LAMMPS--ipr1          Ni  2.489294   \n",
       "10                 1986--Foiles-S-M--Pd--LAMMPS--ipr1          Pd  2.752135   \n",
       "11                 1986--Foiles-S-M--Pt--LAMMPS--ipr1          Pt  2.769028   \n",
       "12                1987--Ackland-G-J--Au--LAMMPS--ipr1          Au  2.865460   \n",
       "13                1987--Ackland-G-J--Au--LAMMPS--ipr2          Au  2.865460   \n",
       "14                1987--Ackland-G-J--Mo--LAMMPS--ipr1          Mo  3.036581   \n",
       "15                1987--Ackland-G-J--Ni--LAMMPS--ipr1          Ni  2.489636   \n",
       "\n",
       "    Epot (eV/atom)  \n",
       "0        -2.849670  \n",
       "1        -2.849670  \n",
       "2        -3.928946  \n",
       "3        -3.536928  \n",
       "4        -4.447602  \n",
       "5        -3.906982  \n",
       "6        -5.767002  \n",
       "7        -3.928946  \n",
       "8        -3.536928  \n",
       "9        -4.447602  \n",
       "10       -3.906982  \n",
       "11       -5.767002  \n",
       "12       -3.783518  \n",
       "13       -3.783518  \n",
       "14       -6.401780  \n",
       "15       -4.454829  "
      ]
     },
     "execution_count": 5,
     "metadata": {},
     "output_type": "execute_result"
    }
   ],
   "source": [
    "hcp_props.loc[:15]"
   ]
  },
  {
   "cell_type": "code",
   "execution_count": null,
   "id": "62dfdcc5-8417-4b7b-b5bb-92ebd94cbaba",
   "metadata": {},
   "outputs": [],
   "source": [
    "for i in hcp_props.index[-2::-1]:\n",
    "    print(i)\n",
    "    "
   ]
  },
  {
   "cell_type": "markdown",
   "id": "bd9ac4da-2fc5-4248-ad5e-2fab8684bae6",
   "metadata": {},
   "source": [
    "## Run loop"
   ]
  },
  {
   "cell_type": "code",
   "execution_count": null,
   "id": "3b9591ae-5b71-4e66-a096-c7fb19d175b3",
   "metadata": {
    "scrolled": true
   },
   "outputs": [
    {
     "name": "stdout",
     "output_type": "stream",
     "text": [
      "202 2022--Zhou-M--Zr--LAMMPS--ipr1\n",
      "0 existing calculation records provided\n"
     ]
    },
    {
     "name": "stderr",
     "output_type": "stream",
     "text": [
      "100%|█████████████████████████████████████████████████████████████████████████████████████| 1/1 [00:00<00:00,  3.48it/s]"
     ]
    },
    {
     "name": "stdout",
     "output_type": "stream",
     "text": [
      "1 calculation combinations to check\n",
      "1 new records to prepare\n"
     ]
    },
    {
     "name": "stderr",
     "output_type": "stream",
     "text": [
      "\n",
      "preparing: 100%|##########################################################################| 1/1 [00:00<00:00, 37.34it/s]\n"
     ]
    },
    {
     "name": "stdout",
     "output_type": "stream",
     "text": [
      "63224c99-2b20-4058-851d-1f9242a8bc4e\n",
      "sim calculated successfully\n",
      "\n",
      "4525.000 2.069e-05 4515.423\n",
      "0 existing calculation records provided\n"
     ]
    },
    {
     "name": "stderr",
     "output_type": "stream",
     "text": [
      "100%|█████████████████████████████████████████████████████████████████████████████████████| 1/1 [00:00<00:00,  4.11it/s]"
     ]
    },
    {
     "name": "stdout",
     "output_type": "stream",
     "text": [
      "1 calculation combinations to check\n",
      "1 new records to prepare\n"
     ]
    },
    {
     "name": "stderr",
     "output_type": "stream",
     "text": [
      "\n",
      "preparing: 100%|##########################################################################| 1/1 [00:00<00:00, 79.87it/s]\n"
     ]
    },
    {
     "name": "stdout",
     "output_type": "stream",
     "text": [
      "7d45eb1f-395b-4245-82e7-f3ac4f4d291a\n",
      "sim calculated successfully\n",
      "\n",
      "2287.500 0.0008276 2245.182\n",
      "0 existing calculation records provided\n"
     ]
    },
    {
     "name": "stderr",
     "output_type": "stream",
     "text": [
      "100%|█████████████████████████████████████████████████████████████████████████████████████| 1/1 [00:00<00:00,  2.65it/s]"
     ]
    },
    {
     "name": "stdout",
     "output_type": "stream",
     "text": [
      "1 calculation combinations to check\n",
      "1 new records to prepare\n"
     ]
    },
    {
     "name": "stderr",
     "output_type": "stream",
     "text": [
      "\n",
      "preparing: 100%|##########################################################################| 1/1 [00:00<00:00, 80.10it/s]\n"
     ]
    },
    {
     "name": "stdout",
     "output_type": "stream",
     "text": [
      "800e2fd4-63f5-4398-b93a-8e917f89eb12\n",
      "sim calculated successfully\n",
      "\n",
      "1168.750 0.9932 1167.765\n",
      "0 existing calculation records provided\n"
     ]
    },
    {
     "name": "stderr",
     "output_type": "stream",
     "text": [
      "100%|█████████████████████████████████████████████████████████████████████████████████████| 1/1 [00:00<00:00,  4.25it/s]"
     ]
    },
    {
     "name": "stdout",
     "output_type": "stream",
     "text": [
      "1 calculation combinations to check\n",
      "1 new records to prepare\n"
     ]
    },
    {
     "name": "stderr",
     "output_type": "stream",
     "text": [
      "\n",
      "preparing: 100%|##########################################################################| 1/1 [00:00<00:00, 74.80it/s]\n"
     ]
    },
    {
     "name": "stdout",
     "output_type": "stream",
     "text": [
      "9cd77048-a644-47d2-af2d-026122b66975\n",
      "sim calculated successfully\n",
      "\n",
      "1728.125 0.1822 1605.323\n",
      "0 existing calculation records provided\n"
     ]
    },
    {
     "name": "stderr",
     "output_type": "stream",
     "text": [
      "100%|█████████████████████████████████████████████████████████████████████████████████████| 1/1 [00:00<00:00,  4.38it/s]"
     ]
    },
    {
     "name": "stdout",
     "output_type": "stream",
     "text": [
      "1 calculation combinations to check\n",
      "1 new records to prepare\n"
     ]
    },
    {
     "name": "stderr",
     "output_type": "stream",
     "text": [
      "\n",
      "preparing: 100%|##########################################################################| 1/1 [00:00<00:00, 45.55it/s]\n"
     ]
    },
    {
     "name": "stdout",
     "output_type": "stream",
     "text": [
      "a3ec7971-2e6f-44d6-89a4-36d8fbe74bd5\n",
      "sim calculated successfully\n",
      "\n",
      "1448.438 0.7709 1573.078\n",
      "0 existing calculation records provided\n"
     ]
    },
    {
     "name": "stderr",
     "output_type": "stream",
     "text": [
      "100%|█████████████████████████████████████████████████████████████████████████████████████| 1/1 [00:00<00:00,  2.67it/s]"
     ]
    },
    {
     "name": "stdout",
     "output_type": "stream",
     "text": [
      "1 calculation combinations to check\n",
      "1 new records to prepare\n"
     ]
    },
    {
     "name": "stderr",
     "output_type": "stream",
     "text": [
      "\n",
      "preparing: 100%|##########################################################################| 1/1 [00:00<00:00, 72.46it/s]\n"
     ]
    },
    {
     "name": "stdout",
     "output_type": "stream",
     "text": [
      "8d283e7b-d4c8-4d72-a65a-53c0c35fc30c\n",
      "sim calculated successfully\n",
      "\n",
      "1588.281 0.5235 1596.335\n",
      "0 existing calculation records provided\n"
     ]
    },
    {
     "name": "stderr",
     "output_type": "stream",
     "text": [
      "100%|█████████████████████████████████████████████████████████████████████████████████████| 1/1 [00:00<00:00,  4.12it/s]"
     ]
    },
    {
     "name": "stdout",
     "output_type": "stream",
     "text": [
      "1 calculation combinations to check\n",
      "1 new records to prepare\n"
     ]
    },
    {
     "name": "stderr",
     "output_type": "stream",
     "text": [
      "\n",
      "preparing: 100%|##########################################################################| 1/1 [00:00<00:00, 42.98it/s]\n"
     ]
    },
    {
     "name": "stdout",
     "output_type": "stream",
     "text": [
      "6a90fe7c-5e17-41be-9d1a-5188e49eec82\n",
      "sim calculated successfully\n",
      "\n",
      "1588.281 0.5129 1578.294\n",
      "0 existing calculation records provided\n"
     ]
    },
    {
     "name": "stderr",
     "output_type": "stream",
     "text": [
      "100%|█████████████████████████████████████████████████████████████████████████████████████| 1/1 [00:00<00:00,  4.43it/s]"
     ]
    },
    {
     "name": "stdout",
     "output_type": "stream",
     "text": [
      "1 calculation combinations to check\n",
      "1 new records to prepare\n"
     ]
    },
    {
     "name": "stderr",
     "output_type": "stream",
     "text": [
      "\n",
      "preparing: 100%|##########################################################################| 1/1 [00:00<00:00, 48.55it/s]\n"
     ]
    },
    {
     "name": "stdout",
     "output_type": "stream",
     "text": [
      "60da5e0c-722b-4446-9ea3-48d4a563a41f\n",
      "sim calculated successfully\n",
      "\n",
      "1588.281 0.4865 1585.493\n",
      "0 existing calculation records provided\n"
     ]
    },
    {
     "name": "stderr",
     "output_type": "stream",
     "text": [
      "100%|█████████████████████████████████████████████████████████████████████████████████████| 1/1 [00:00<00:00,  4.31it/s]"
     ]
    },
    {
     "name": "stdout",
     "output_type": "stream",
     "text": [
      "1 calculation combinations to check\n",
      "1 new records to prepare\n"
     ]
    },
    {
     "name": "stderr",
     "output_type": "stream",
     "text": [
      "\n",
      "preparing: 100%|##########################################################################| 1/1 [00:00<00:00, 83.49it/s]\n"
     ]
    },
    {
     "name": "stdout",
     "output_type": "stream",
     "text": [
      "1e0b06f9-2c74-40aa-8b7b-893edcabc4c7\n",
      "sim calculated successfully\n",
      "\n",
      "1588.281 0.508 1595.788\n",
      "0 existing calculation records provided\n"
     ]
    },
    {
     "name": "stderr",
     "output_type": "stream",
     "text": [
      "100%|█████████████████████████████████████████████████████████████████████████████████████| 1/1 [00:00<00:00,  4.12it/s]"
     ]
    },
    {
     "name": "stdout",
     "output_type": "stream",
     "text": [
      "1 calculation combinations to check\n",
      "1 new records to prepare\n"
     ]
    },
    {
     "name": "stderr",
     "output_type": "stream",
     "text": [
      "\n",
      "preparing: 100%|##########################################################################| 1/1 [00:00<00:00, 43.56it/s]\n"
     ]
    },
    {
     "name": "stdout",
     "output_type": "stream",
     "text": [
      "51d1c232-7155-4b67-bf5b-bdb1325e3cd1\n",
      "sim calculated successfully\n",
      "\n",
      "1588.281 0.5196 1595.196\n",
      "0 existing calculation records provided\n"
     ]
    },
    {
     "name": "stderr",
     "output_type": "stream",
     "text": [
      "100%|█████████████████████████████████████████████████████████████████████████████████████| 1/1 [00:00<00:00,  4.31it/s]"
     ]
    },
    {
     "name": "stdout",
     "output_type": "stream",
     "text": [
      "1 calculation combinations to check\n",
      "1 new records to prepare\n"
     ]
    },
    {
     "name": "stderr",
     "output_type": "stream",
     "text": [
      "\n",
      "preparing: 100%|##########################################################################| 1/1 [00:00<00:00, 47.53it/s]\n"
     ]
    },
    {
     "name": "stdout",
     "output_type": "stream",
     "text": [
      "198592e8-2c77-4cc3-b787-b60d7b561b07\n",
      "sim calculated successfully\n",
      "\n",
      "1588.281 0.5041 1589.065\n",
      "0 existing calculation records provided\n"
     ]
    },
    {
     "name": "stderr",
     "output_type": "stream",
     "text": [
      "100%|█████████████████████████████████████████████████████████████████████████████████████| 1/1 [00:00<00:00,  2.70it/s]"
     ]
    },
    {
     "name": "stdout",
     "output_type": "stream",
     "text": [
      "1 calculation combinations to check\n",
      "1 new records to prepare\n"
     ]
    },
    {
     "name": "stderr",
     "output_type": "stream",
     "text": [
      "\n",
      "preparing: 100%|##########################################################################| 1/1 [00:00<00:00, 83.44it/s]\n"
     ]
    },
    {
     "name": "stdout",
     "output_type": "stream",
     "text": [
      "d6956fcc-b3cb-4912-81a1-ea393a945678\n",
      "sim calculated successfully\n",
      "\n",
      "1588.281 0.527 1588.514\n",
      "0 existing calculation records provided\n"
     ]
    },
    {
     "name": "stderr",
     "output_type": "stream",
     "text": [
      "100%|█████████████████████████████████████████████████████████████████████████████████████| 1/1 [00:00<00:00,  4.35it/s]"
     ]
    },
    {
     "name": "stdout",
     "output_type": "stream",
     "text": [
      "1 calculation combinations to check\n",
      "1 new records to prepare\n"
     ]
    },
    {
     "name": "stderr",
     "output_type": "stream",
     "text": [
      "\n",
      "preparing: 100%|##########################################################################| 1/1 [00:00<00:00, 40.13it/s]\n"
     ]
    },
    {
     "name": "stdout",
     "output_type": "stream",
     "text": [
      "4c957e52-7303-4917-8855-d47da8964092\n",
      "sim calculated successfully\n",
      "\n",
      "1588.281 0.4984 1585.002\n",
      "0 existing calculation records provided\n"
     ]
    },
    {
     "name": "stderr",
     "output_type": "stream",
     "text": [
      "100%|█████████████████████████████████████████████████████████████████████████████████████| 1/1 [00:00<00:00,  2.45it/s]"
     ]
    },
    {
     "name": "stdout",
     "output_type": "stream",
     "text": [
      "1 calculation combinations to check\n",
      "1 new records to prepare\n"
     ]
    },
    {
     "name": "stderr",
     "output_type": "stream",
     "text": [
      "\n",
      "preparing: 100%|##########################################################################| 1/1 [00:00<00:00, 80.29it/s]\n"
     ]
    },
    {
     "name": "stdout",
     "output_type": "stream",
     "text": [
      "97cf2693-2a2a-4db2-891d-e5e5e5d9a72d\n",
      "sim calculated successfully\n",
      "\n",
      "1588.281 0.5031 1588.265\n",
      "0 existing calculation records provided\n"
     ]
    },
    {
     "name": "stderr",
     "output_type": "stream",
     "text": [
      "100%|█████████████████████████████████████████████████████████████████████████████████████| 1/1 [00:00<00:00,  4.41it/s]"
     ]
    },
    {
     "name": "stdout",
     "output_type": "stream",
     "text": [
      "1 calculation combinations to check\n",
      "1 new records to prepare\n"
     ]
    },
    {
     "name": "stderr",
     "output_type": "stream",
     "text": [
      "\n",
      "preparing: 100%|##########################################################################| 1/1 [00:00<00:00, 47.55it/s]\n"
     ]
    },
    {
     "name": "stdout",
     "output_type": "stream",
     "text": [
      "0ab5be7c-2466-4a81-9490-c6f2c7167423\n",
      "sim calculated successfully\n",
      "\n",
      "1588.281 0.5136 1585.067\n",
      "201 2022--Sun-Y--Fe--LAMMPS--ipr1\n",
      "0 existing calculation records provided\n"
     ]
    },
    {
     "name": "stderr",
     "output_type": "stream",
     "text": [
      "100%|█████████████████████████████████████████████████████████████████████████████████████| 1/1 [00:00<00:00,  4.24it/s]"
     ]
    },
    {
     "name": "stdout",
     "output_type": "stream",
     "text": [
      "1 calculation combinations to check\n",
      "1 new records to prepare\n"
     ]
    },
    {
     "name": "stderr",
     "output_type": "stream",
     "text": [
      "\n",
      "preparing: 100%|##########################################################################| 1/1 [00:00<00:00, 75.81it/s]\n"
     ]
    },
    {
     "name": "stdout",
     "output_type": "stream",
     "text": [
      "568f5595-df7e-42c6-a5a2-0f642e330ae5\n",
      "sim calculated successfully\n",
      "\n",
      "4525.000 0.0 4516.521\n",
      "0 existing calculation records provided\n"
     ]
    },
    {
     "name": "stderr",
     "output_type": "stream",
     "text": [
      "100%|█████████████████████████████████████████████████████████████████████████████████████| 1/1 [00:00<00:00,  4.16it/s]"
     ]
    },
    {
     "name": "stdout",
     "output_type": "stream",
     "text": [
      "1 calculation combinations to check\n",
      "1 new records to prepare\n"
     ]
    },
    {
     "name": "stderr",
     "output_type": "stream",
     "text": [
      "\n",
      "preparing: 100%|##########################################################################| 1/1 [00:00<00:00, 67.93it/s]\n"
     ]
    },
    {
     "name": "stdout",
     "output_type": "stream",
     "text": [
      "0999c26a-4436-409c-8fa6-c6c4be820453\n",
      "sim calculated successfully\n",
      "\n",
      "2287.500 1.034e-05 2281.621\n",
      "0 existing calculation records provided\n"
     ]
    },
    {
     "name": "stderr",
     "output_type": "stream",
     "text": [
      "100%|█████████████████████████████████████████████████████████████████████████████████████| 1/1 [00:00<00:00,  4.30it/s]"
     ]
    },
    {
     "name": "stdout",
     "output_type": "stream",
     "text": [
      "1 calculation combinations to check\n",
      "1 new records to prepare\n"
     ]
    },
    {
     "name": "stderr",
     "output_type": "stream",
     "text": [
      "\n",
      "preparing: 100%|##########################################################################| 1/1 [00:00<00:00, 73.19it/s]\n"
     ]
    },
    {
     "name": "stdout",
     "output_type": "stream",
     "text": [
      "a50f7fa1-4ab8-4292-9d41-b3aba12e65ab\n",
      "sim calculated successfully\n",
      "\n",
      "1168.750 1.034e-05 1164.013\n",
      "0 existing calculation records provided\n"
     ]
    },
    {
     "name": "stderr",
     "output_type": "stream",
     "text": [
      "100%|█████████████████████████████████████████████████████████████████████████████████████| 1/1 [00:00<00:00,  4.15it/s]"
     ]
    },
    {
     "name": "stdout",
     "output_type": "stream",
     "text": [
      "1 calculation combinations to check\n",
      "1 new records to prepare\n"
     ]
    },
    {
     "name": "stderr",
     "output_type": "stream",
     "text": [
      "\n",
      "preparing: 100%|##########################################################################| 1/1 [00:00<00:00, 61.47it/s]\n"
     ]
    },
    {
     "name": "stdout",
     "output_type": "stream",
     "text": [
      "577aee03-bed9-4fbc-9a30-abb6a3ec62cd\n",
      "sim calculated successfully\n",
      "\n",
      "609.375 4.138e-05 608.919\n",
      "0 existing calculation records provided\n"
     ]
    },
    {
     "name": "stderr",
     "output_type": "stream",
     "text": [
      "100%|█████████████████████████████████████████████████████████████████████████████████████| 1/1 [00:00<00:00,  4.30it/s]"
     ]
    },
    {
     "name": "stdout",
     "output_type": "stream",
     "text": [
      "1 calculation combinations to check\n",
      "1 new records to prepare\n"
     ]
    },
    {
     "name": "stderr",
     "output_type": "stream",
     "text": [
      "\n",
      "preparing: 100%|##########################################################################| 1/1 [00:00<00:00, 47.16it/s]\n"
     ]
    },
    {
     "name": "stdout",
     "output_type": "stream",
     "text": [
      "135f2e93-dae2-427d-8239-530f5b7c75b3\n",
      "sim calculated successfully\n",
      "\n",
      "329.688 0.009445 327.068\n",
      "0 existing calculation records provided\n"
     ]
    },
    {
     "name": "stderr",
     "output_type": "stream",
     "text": [
      "100%|█████████████████████████████████████████████████████████████████████████████████████| 1/1 [00:00<00:00,  4.38it/s]"
     ]
    },
    {
     "name": "stdout",
     "output_type": "stream",
     "text": [
      "1 calculation combinations to check\n",
      "1 new records to prepare\n"
     ]
    },
    {
     "name": "stderr",
     "output_type": "stream",
     "text": [
      "\n",
      "preparing: 100%|##########################################################################| 1/1 [00:00<00:00, 38.12it/s]\n"
     ]
    },
    {
     "name": "stdout",
     "output_type": "stream",
     "text": [
      "bd93d996-bd69-43ec-8c4b-71459c9df5ab\n",
      "sim calculated successfully\n",
      "\n",
      "189.844 1.0 188.843\n",
      "0 existing calculation records provided\n"
     ]
    },
    {
     "name": "stderr",
     "output_type": "stream",
     "text": [
      "100%|█████████████████████████████████████████████████████████████████████████████████████| 1/1 [00:00<00:00,  2.58it/s]"
     ]
    },
    {
     "name": "stdout",
     "output_type": "stream",
     "text": [
      "1 calculation combinations to check\n",
      "1 new records to prepare\n"
     ]
    },
    {
     "name": "stderr",
     "output_type": "stream",
     "text": [
      "\n",
      "preparing: 100%|##########################################################################| 1/1 [00:00<00:00, 74.34it/s]\n"
     ]
    },
    {
     "name": "stdout",
     "output_type": "stream",
     "text": [
      "5887e642-6c39-49ae-9730-0e9ecf7c2671\n",
      "sim calculated successfully\n",
      "\n",
      "259.766 0.007593 278.973\n",
      "0 existing calculation records provided\n"
     ]
    },
    {
     "name": "stderr",
     "output_type": "stream",
     "text": [
      "100%|█████████████████████████████████████████████████████████████████████████████████████| 1/1 [00:00<00:00,  3.95it/s]"
     ]
    },
    {
     "name": "stdout",
     "output_type": "stream",
     "text": [
      "1 calculation combinations to check\n",
      "1 new records to prepare\n"
     ]
    },
    {
     "name": "stderr",
     "output_type": "stream",
     "text": [
      "\n",
      "preparing: 100%|##########################################################################| 1/1 [00:00<00:00, 34.07it/s]\n"
     ]
    },
    {
     "name": "stdout",
     "output_type": "stream",
     "text": [
      "ed7dde39-165f-4516-8ac7-c9b53802c264\n",
      "sim calculated successfully\n",
      "\n",
      "224.805 0.5488 224.275\n",
      "0 existing calculation records provided\n"
     ]
    },
    {
     "name": "stderr",
     "output_type": "stream",
     "text": [
      "100%|█████████████████████████████████████████████████████████████████████████████████████| 1/1 [00:00<00:00,  3.86it/s]"
     ]
    },
    {
     "name": "stdout",
     "output_type": "stream",
     "text": [
      "1 calculation combinations to check\n",
      "1 new records to prepare\n"
     ]
    },
    {
     "name": "stderr",
     "output_type": "stream",
     "text": [
      "\n",
      "preparing: 100%|##########################################################################| 1/1 [00:00<00:00, 38.66it/s]\n"
     ]
    },
    {
     "name": "stdout",
     "output_type": "stream",
     "text": [
      "72183644-d1b6-49e1-9af9-428ac5d4c3ef\n",
      "sim calculated successfully\n",
      "\n",
      "224.805 0.005907 248.508\n",
      "0 existing calculation records provided\n"
     ]
    },
    {
     "name": "stderr",
     "output_type": "stream",
     "text": [
      "100%|█████████████████████████████████████████████████████████████████████████████████████| 1/1 [00:00<00:00,  4.41it/s]"
     ]
    },
    {
     "name": "stdout",
     "output_type": "stream",
     "text": [
      "1 calculation combinations to check\n",
      "1 new records to prepare\n"
     ]
    },
    {
     "name": "stderr",
     "output_type": "stream",
     "text": [
      "\n",
      "preparing: 100%|##########################################################################| 1/1 [00:00<00:00, 43.40it/s]\n"
     ]
    },
    {
     "name": "stdout",
     "output_type": "stream",
     "text": [
      "6432c8e8-bb3f-4315-9a0a-444bedaf5dcf\n",
      "sim calculated successfully\n",
      "\n",
      "207.324 1.0 205.914\n",
      "0 existing calculation records provided\n"
     ]
    },
    {
     "name": "stderr",
     "output_type": "stream",
     "text": [
      "100%|█████████████████████████████████████████████████████████████████████████████████████| 1/1 [00:00<00:00,  2.58it/s]"
     ]
    },
    {
     "name": "stdout",
     "output_type": "stream",
     "text": [
      "1 calculation combinations to check\n",
      "1 new records to prepare\n"
     ]
    },
    {
     "name": "stderr",
     "output_type": "stream",
     "text": [
      "\n",
      "preparing: 100%|##########################################################################| 1/1 [00:00<00:00, 65.45it/s]\n"
     ]
    },
    {
     "name": "stdout",
     "output_type": "stream",
     "text": [
      "d740e7a2-e535-4b1a-80a0-9899ee00776f\n",
      "sim calculated successfully\n",
      "\n",
      "216.064 1.0 214.965\n",
      "0 existing calculation records provided\n"
     ]
    },
    {
     "name": "stderr",
     "output_type": "stream",
     "text": [
      "100%|█████████████████████████████████████████████████████████████████████████████████████| 1/1 [00:00<00:00,  4.14it/s]"
     ]
    },
    {
     "name": "stdout",
     "output_type": "stream",
     "text": [
      "1 calculation combinations to check\n",
      "1 new records to prepare\n"
     ]
    },
    {
     "name": "stderr",
     "output_type": "stream",
     "text": [
      "\n",
      "preparing: 100%|##########################################################################| 1/1 [00:00<00:00, 42.44it/s]\n"
     ]
    },
    {
     "name": "stdout",
     "output_type": "stream",
     "text": [
      "269c9a46-7c76-4e2e-8a9c-fec3858daacb\n",
      "sim calculated successfully\n",
      "\n",
      "220.435 0.5481 219.798\n",
      "0 existing calculation records provided\n"
     ]
    },
    {
     "name": "stderr",
     "output_type": "stream",
     "text": [
      "100%|█████████████████████████████████████████████████████████████████████████████████████| 1/1 [00:00<00:00,  4.66it/s]"
     ]
    },
    {
     "name": "stdout",
     "output_type": "stream",
     "text": [
      "1 calculation combinations to check\n",
      "1 new records to prepare\n"
     ]
    },
    {
     "name": "stderr",
     "output_type": "stream",
     "text": [
      "\n",
      "preparing: 100%|##########################################################################| 1/1 [00:00<00:00, 43.56it/s]\n"
     ]
    },
    {
     "name": "stdout",
     "output_type": "stream",
     "text": [
      "799f5303-fce9-4ca2-a917-a9f20eb1228d\n",
      "sim calculated successfully\n",
      "\n",
      "220.435 0.7079 219.325\n",
      "0 existing calculation records provided\n"
     ]
    },
    {
     "name": "stderr",
     "output_type": "stream",
     "text": [
      "100%|█████████████████████████████████████████████████████████████████████████████████████| 1/1 [00:00<00:00,  4.44it/s]"
     ]
    },
    {
     "name": "stdout",
     "output_type": "stream",
     "text": [
      "1 calculation combinations to check\n",
      "1 new records to prepare\n"
     ]
    },
    {
     "name": "stderr",
     "output_type": "stream",
     "text": [
      "\n",
      "preparing: 100%|##########################################################################| 1/1 [00:00<00:00, 41.87it/s]\n"
     ]
    },
    {
     "name": "stdout",
     "output_type": "stream",
     "text": [
      "28a82991-3f7b-48c3-90a6-ab9ba34098ce\n",
      "sim calculated successfully\n",
      "\n",
      "222.620 0.005193 219.948\n",
      "0 existing calculation records provided\n"
     ]
    },
    {
     "name": "stderr",
     "output_type": "stream",
     "text": [
      "100%|█████████████████████████████████████████████████████████████████████████████████████| 1/1 [00:00<00:00,  4.70it/s]"
     ]
    },
    {
     "name": "stdout",
     "output_type": "stream",
     "text": [
      "1 calculation combinations to check\n",
      "1 new records to prepare\n"
     ]
    },
    {
     "name": "stderr",
     "output_type": "stream",
     "text": [
      "\n",
      "preparing: 100%|##########################################################################| 1/1 [00:00<00:00, 49.66it/s]\n"
     ]
    },
    {
     "name": "stdout",
     "output_type": "stream",
     "text": [
      "d66701a0-ba17-4830-a8e9-d8846c5439a1\n",
      "sim calculated successfully\n",
      "\n",
      "219.342 0.004934 217.908\n",
      "0 existing calculation records provided\n"
     ]
    },
    {
     "name": "stderr",
     "output_type": "stream",
     "text": [
      "100%|█████████████████████████████████████████████████████████████████████████████████████| 1/1 [00:00<00:00,  4.15it/s]"
     ]
    },
    {
     "name": "stdout",
     "output_type": "stream",
     "text": [
      "1 calculation combinations to check\n",
      "1 new records to prepare\n"
     ]
    },
    {
     "name": "stderr",
     "output_type": "stream",
     "text": [
      "\n",
      "preparing: 100%|##########################################################################| 1/1 [00:00<00:00, 42.63it/s]\n"
     ]
    },
    {
     "name": "stdout",
     "output_type": "stream",
     "text": [
      "17f7ba76-efd9-4156-ae48-77e543d04cd6\n",
      "sim calculated successfully\n",
      "\n",
      "217.703 0.5158 217.768\n",
      "0 existing calculation records provided\n"
     ]
    },
    {
     "name": "stderr",
     "output_type": "stream",
     "text": [
      "100%|█████████████████████████████████████████████████████████████████████████████████████| 1/1 [00:00<00:00,  4.44it/s]"
     ]
    },
    {
     "name": "stdout",
     "output_type": "stream",
     "text": [
      "1 calculation combinations to check\n",
      "1 new records to prepare\n"
     ]
    },
    {
     "name": "stderr",
     "output_type": "stream",
     "text": [
      "\n",
      "preparing: 100%|##########################################################################| 1/1 [00:00<00:00, 49.76it/s]\n"
     ]
    },
    {
     "name": "stdout",
     "output_type": "stream",
     "text": [
      "399b5f0a-22db-405c-99da-6f7e142006dc\n",
      "sim calculated successfully\n",
      "\n",
      "217.703 0.004531 217.932\n",
      "0 existing calculation records provided\n"
     ]
    },
    {
     "name": "stderr",
     "output_type": "stream",
     "text": [
      "100%|█████████████████████████████████████████████████████████████████████████████████████| 1/1 [00:00<00:00,  4.43it/s]"
     ]
    },
    {
     "name": "stdout",
     "output_type": "stream",
     "text": [
      "1 calculation combinations to check\n",
      "1 new records to prepare\n"
     ]
    },
    {
     "name": "stderr",
     "output_type": "stream",
     "text": [
      "\n",
      "preparing: 100%|##########################################################################| 1/1 [00:00<00:00, 44.35it/s]\n"
     ]
    },
    {
     "name": "stdout",
     "output_type": "stream",
     "text": [
      "b86237c5-abb6-4625-8650-49089f381df6\n",
      "sim calculated successfully\n",
      "\n",
      "216.884 1.0 215.983\n",
      "0 existing calculation records provided\n"
     ]
    },
    {
     "name": "stderr",
     "output_type": "stream",
     "text": [
      "100%|█████████████████████████████████████████████████████████████████████████████████████| 1/1 [00:00<00:00,  2.65it/s]"
     ]
    },
    {
     "name": "stdout",
     "output_type": "stream",
     "text": [
      "1 calculation combinations to check\n",
      "1 new records to prepare\n"
     ]
    },
    {
     "name": "stderr",
     "output_type": "stream",
     "text": [
      "\n",
      "preparing: 100%|##########################################################################| 1/1 [00:00<00:00, 75.53it/s]\n"
     ]
    },
    {
     "name": "stdout",
     "output_type": "stream",
     "text": [
      "22dad7a3-ee4d-4b54-9b6a-4f94880733e5\n",
      "sim calculated successfully\n",
      "\n",
      "217.294 1.0 216.577\n",
      "0 existing calculation records provided\n"
     ]
    },
    {
     "name": "stderr",
     "output_type": "stream",
     "text": [
      "100%|█████████████████████████████████████████████████████████████████████████████████████| 1/1 [00:00<00:00,  4.28it/s]"
     ]
    },
    {
     "name": "stdout",
     "output_type": "stream",
     "text": [
      "1 calculation combinations to check\n",
      "1 new records to prepare\n"
     ]
    },
    {
     "name": "stderr",
     "output_type": "stream",
     "text": [
      "\n",
      "preparing: 100%|##########################################################################| 1/1 [00:00<00:00, 41.41it/s]\n"
     ]
    },
    {
     "name": "stdout",
     "output_type": "stream",
     "text": [
      "c7ecfb83-8551-443a-bc37-84c26d0c575a\n",
      "sim calculated successfully\n",
      "\n",
      "217.498 1.0 216.666\n",
      "0 existing calculation records provided\n"
     ]
    },
    {
     "name": "stderr",
     "output_type": "stream",
     "text": [
      "100%|█████████████████████████████████████████████████████████████████████████████████████| 1/1 [00:00<00:00,  4.49it/s]"
     ]
    },
    {
     "name": "stdout",
     "output_type": "stream",
     "text": [
      "1 calculation combinations to check\n",
      "1 new records to prepare\n"
     ]
    },
    {
     "name": "stderr",
     "output_type": "stream",
     "text": [
      "\n",
      "preparing: 100%|##########################################################################| 1/1 [00:00<00:00, 43.56it/s]\n"
     ]
    },
    {
     "name": "stdout",
     "output_type": "stream",
     "text": [
      "0c4887f0-24b2-4757-ad01-06f47fbf6f49\n",
      "sim calculated successfully\n",
      "\n",
      "217.601 1.0 216.664\n",
      "0 existing calculation records provided\n"
     ]
    },
    {
     "name": "stderr",
     "output_type": "stream",
     "text": [
      "100%|█████████████████████████████████████████████████████████████████████████████████████| 1/1 [00:00<00:00,  2.48it/s]"
     ]
    },
    {
     "name": "stdout",
     "output_type": "stream",
     "text": [
      "1 calculation combinations to check\n",
      "1 new records to prepare\n"
     ]
    },
    {
     "name": "stderr",
     "output_type": "stream",
     "text": [
      "\n",
      "preparing: 100%|##########################################################################| 1/1 [00:00<00:00, 63.71it/s]\n"
     ]
    },
    {
     "name": "stdout",
     "output_type": "stream",
     "text": [
      "28c9c170-53b4-4f66-84a5-2a7c92d4dd55\n",
      "sim calculated successfully\n",
      "\n",
      "217.652 0.5452 216.888\n",
      "0 existing calculation records provided\n"
     ]
    },
    {
     "name": "stderr",
     "output_type": "stream",
     "text": [
      "100%|█████████████████████████████████████████████████████████████████████████████████████| 1/1 [00:00<00:00,  4.38it/s]"
     ]
    },
    {
     "name": "stdout",
     "output_type": "stream",
     "text": [
      "1 calculation combinations to check\n",
      "1 new records to prepare\n"
     ]
    },
    {
     "name": "stderr",
     "output_type": "stream",
     "text": [
      "\n",
      "preparing: 100%|##########################################################################| 1/1 [00:00<00:00, 42.82it/s]\n"
     ]
    },
    {
     "name": "stdout",
     "output_type": "stream",
     "text": [
      "701d606b-b251-4048-b392-b2212cdd3b9f\n",
      "sim calculated successfully\n",
      "\n",
      "217.652 1.0 216.616\n",
      "0 existing calculation records provided\n"
     ]
    },
    {
     "name": "stderr",
     "output_type": "stream",
     "text": [
      "100%|█████████████████████████████████████████████████████████████████████████████████████| 1/1 [00:00<00:00,  3.72it/s]"
     ]
    },
    {
     "name": "stdout",
     "output_type": "stream",
     "text": [
      "1 calculation combinations to check\n",
      "1 new records to prepare\n"
     ]
    },
    {
     "name": "stderr",
     "output_type": "stream",
     "text": [
      "\n",
      "preparing: 100%|##########################################################################| 1/1 [00:00<00:00, 44.74it/s]\n"
     ]
    },
    {
     "name": "stdout",
     "output_type": "stream",
     "text": [
      "616fa93f-1012-4405-a93a-f575b8818907\n",
      "sim calculated successfully\n",
      "\n",
      "217.678 1.0 216.287\n",
      "0 existing calculation records provided\n"
     ]
    },
    {
     "name": "stderr",
     "output_type": "stream",
     "text": [
      "100%|█████████████████████████████████████████████████████████████████████████████████████| 1/1 [00:00<00:00,  4.32it/s]"
     ]
    },
    {
     "name": "stdout",
     "output_type": "stream",
     "text": [
      "1 calculation combinations to check\n",
      "1 new records to prepare\n"
     ]
    },
    {
     "name": "stderr",
     "output_type": "stream",
     "text": [
      "\n",
      "preparing: 100%|##########################################################################| 1/1 [00:00<00:00, 43.64it/s]\n"
     ]
    },
    {
     "name": "stdout",
     "output_type": "stream",
     "text": [
      "b55b8311-8004-4bd2-a5f6-a6b5b76927c8\n",
      "sim calculated successfully\n",
      "\n",
      "217.690 1.0 216.412\n",
      "0 existing calculation records provided\n"
     ]
    },
    {
     "name": "stderr",
     "output_type": "stream",
     "text": [
      "100%|█████████████████████████████████████████████████████████████████████████████████████| 1/1 [00:00<00:00,  4.40it/s]"
     ]
    },
    {
     "name": "stdout",
     "output_type": "stream",
     "text": [
      "1 calculation combinations to check\n",
      "1 new records to prepare\n"
     ]
    },
    {
     "name": "stderr",
     "output_type": "stream",
     "text": [
      "\n",
      "preparing: 100%|##########################################################################| 1/1 [00:00<00:00, 44.47it/s]\n"
     ]
    },
    {
     "name": "stdout",
     "output_type": "stream",
     "text": [
      "2126a7da-ca83-40a2-afaf-88fda6bbbf27\n",
      "sim calculated successfully\n",
      "\n",
      "217.697 0.5464 217.230\n",
      "0 existing calculation records provided\n"
     ]
    },
    {
     "name": "stderr",
     "output_type": "stream",
     "text": [
      "100%|█████████████████████████████████████████████████████████████████████████████████████| 1/1 [00:00<00:00,  4.12it/s]"
     ]
    },
    {
     "name": "stdout",
     "output_type": "stream",
     "text": [
      "1 calculation combinations to check\n",
      "1 new records to prepare\n"
     ]
    },
    {
     "name": "stderr",
     "output_type": "stream",
     "text": [
      "\n",
      "preparing: 100%|##########################################################################| 1/1 [00:00<00:00, 40.95it/s]\n"
     ]
    },
    {
     "name": "stdout",
     "output_type": "stream",
     "text": [
      "4fa4ac58-b6f7-43ed-adb5-b13cc717f6b4\n",
      "sim calculated successfully\n",
      "\n",
      "217.697 1.0 216.494\n",
      "0 existing calculation records provided\n"
     ]
    },
    {
     "name": "stderr",
     "output_type": "stream",
     "text": [
      "100%|█████████████████████████████████████████████████████████████████████████████████████| 1/1 [00:00<00:00,  4.37it/s]"
     ]
    },
    {
     "name": "stdout",
     "output_type": "stream",
     "text": [
      "1 calculation combinations to check\n",
      "1 new records to prepare\n"
     ]
    },
    {
     "name": "stderr",
     "output_type": "stream",
     "text": [
      "\n",
      "preparing: 100%|##########################################################################| 1/1 [00:00<00:00, 41.08it/s]\n"
     ]
    },
    {
     "name": "stdout",
     "output_type": "stream",
     "text": [
      "0e799b83-88ed-49cd-9561-535fda136e9a\n",
      "sim calculated successfully\n",
      "\n",
      "217.700 1.0 216.784\n",
      "0 existing calculation records provided\n"
     ]
    },
    {
     "name": "stderr",
     "output_type": "stream",
     "text": [
      "100%|█████████████████████████████████████████████████████████████████████████████████████| 1/1 [00:00<00:00,  3.90it/s]"
     ]
    },
    {
     "name": "stdout",
     "output_type": "stream",
     "text": [
      "1 calculation combinations to check\n",
      "1 new records to prepare\n"
     ]
    },
    {
     "name": "stderr",
     "output_type": "stream",
     "text": [
      "\n",
      "preparing: 100%|##########################################################################| 1/1 [00:00<00:00, 42.57it/s]\n"
     ]
    },
    {
     "name": "stdout",
     "output_type": "stream",
     "text": [
      "5a2e0041-fd4a-46b4-9203-736a2ada9ea8\n",
      "sim calculated successfully\n",
      "\n",
      "217.702 0.9697 216.338\n",
      "0 existing calculation records provided\n"
     ]
    },
    {
     "name": "stderr",
     "output_type": "stream",
     "text": [
      "100%|█████████████████████████████████████████████████████████████████████████████████████| 1/1 [00:00<00:00,  4.32it/s]"
     ]
    },
    {
     "name": "stdout",
     "output_type": "stream",
     "text": [
      "1 calculation combinations to check\n",
      "1 new records to prepare\n"
     ]
    },
    {
     "name": "stderr",
     "output_type": "stream",
     "text": [
      "\n",
      "preparing: 100%|##########################################################################| 1/1 [00:00<00:00, 42.78it/s]\n"
     ]
    },
    {
     "name": "stdout",
     "output_type": "stream",
     "text": [
      "8552f902-9d26-4bef-9ca9-79e107033e00\n",
      "sim calculated successfully\n",
      "\n",
      "217.702 0.6756 216.116\n",
      "0 existing calculation records provided\n"
     ]
    },
    {
     "name": "stderr",
     "output_type": "stream",
     "text": [
      "100%|█████████████████████████████████████████████████████████████████████████████████████| 1/1 [00:00<00:00,  4.24it/s]"
     ]
    },
    {
     "name": "stdout",
     "output_type": "stream",
     "text": [
      "1 calculation combinations to check\n",
      "1 new records to prepare\n"
     ]
    },
    {
     "name": "stderr",
     "output_type": "stream",
     "text": [
      "\n",
      "preparing: 100%|##########################################################################| 1/1 [00:00<00:00, 68.41it/s]\n"
     ]
    },
    {
     "name": "stdout",
     "output_type": "stream",
     "text": [
      "43f13a4c-f633-47ac-ab69-3e503125bca3\n",
      "sim calculated successfully\n",
      "\n",
      "217.703 1.0 216.696\n",
      "0 existing calculation records provided\n"
     ]
    },
    {
     "name": "stderr",
     "output_type": "stream",
     "text": [
      "100%|█████████████████████████████████████████████████████████████████████████████████████| 1/1 [00:00<00:00,  4.23it/s]"
     ]
    },
    {
     "name": "stdout",
     "output_type": "stream",
     "text": [
      "1 calculation combinations to check\n",
      "1 new records to prepare\n"
     ]
    },
    {
     "name": "stderr",
     "output_type": "stream",
     "text": [
      "\n",
      "preparing: 100%|##########################################################################| 1/1 [00:00<00:00, 42.16it/s]\n"
     ]
    },
    {
     "name": "stdout",
     "output_type": "stream",
     "text": [
      "d61a49b7-f475-43e4-b886-ced0b6bc1078\n",
      "sim calculated successfully\n",
      "\n",
      "217.703 0.6577 216.119\n",
      "0 existing calculation records provided\n"
     ]
    },
    {
     "name": "stderr",
     "output_type": "stream",
     "text": [
      "100%|█████████████████████████████████████████████████████████████████████████████████████| 1/1 [00:00<00:00,  3.92it/s]"
     ]
    },
    {
     "name": "stdout",
     "output_type": "stream",
     "text": [
      "1 calculation combinations to check\n",
      "1 new records to prepare\n"
     ]
    },
    {
     "name": "stderr",
     "output_type": "stream",
     "text": [
      "\n",
      "preparing: 100%|##########################################################################| 1/1 [00:00<00:00, 62.91it/s]\n"
     ]
    },
    {
     "name": "stdout",
     "output_type": "stream",
     "text": [
      "63d5e10e-941a-4b2c-8ae6-b1380cd65b49\n",
      "sim calculated successfully\n",
      "\n",
      "217.703 1.0 216.643\n",
      "0 existing calculation records provided\n"
     ]
    },
    {
     "name": "stderr",
     "output_type": "stream",
     "text": [
      "100%|█████████████████████████████████████████████████████████████████████████████████████| 1/1 [00:00<00:00,  3.97it/s]"
     ]
    },
    {
     "name": "stdout",
     "output_type": "stream",
     "text": [
      "1 calculation combinations to check\n",
      "1 new records to prepare\n"
     ]
    },
    {
     "name": "stderr",
     "output_type": "stream",
     "text": [
      "\n",
      "preparing: 100%|##########################################################################| 1/1 [00:00<00:00, 67.24it/s]\n"
     ]
    },
    {
     "name": "stdout",
     "output_type": "stream",
     "text": [
      "7273a13c-0ac5-4af9-9885-cd4ac65d8095\n",
      "sim calculated successfully\n",
      "\n",
      "217.703 0.004345 212.526\n",
      "0 existing calculation records provided\n"
     ]
    },
    {
     "name": "stderr",
     "output_type": "stream",
     "text": [
      "100%|█████████████████████████████████████████████████████████████████████████████████████| 1/1 [00:00<00:00,  4.03it/s]"
     ]
    },
    {
     "name": "stdout",
     "output_type": "stream",
     "text": [
      "1 calculation combinations to check\n",
      "1 new records to prepare\n"
     ]
    },
    {
     "name": "stderr",
     "output_type": "stream",
     "text": [
      "\n",
      "preparing: 100%|##########################################################################| 1/1 [00:00<00:00, 40.84it/s]\n"
     ]
    },
    {
     "name": "stdout",
     "output_type": "stream",
     "text": [
      "a866463d-58d4-4f6e-a869-e9e70d9b5ebf\n",
      "sim calculated successfully\n",
      "\n",
      "217.703 1.0 217.070\n",
      "Max number of runs reached!\n",
      "200 2022--Mendelev-M-I--Ni-Nb--LAMMPS--ipr1\n",
      "0 existing calculation records provided\n"
     ]
    },
    {
     "name": "stderr",
     "output_type": "stream",
     "text": [
      "100%|█████████████████████████████████████████████████████████████████████████████████████| 1/1 [00:00<00:00,  2.50it/s]"
     ]
    },
    {
     "name": "stdout",
     "output_type": "stream",
     "text": [
      "1 calculation combinations to check\n",
      "1 new records to prepare\n"
     ]
    },
    {
     "name": "stderr",
     "output_type": "stream",
     "text": [
      "\n",
      "preparing: 100%|##########################################################################| 1/1 [00:00<00:00, 34.91it/s]\n"
     ]
    },
    {
     "name": "stdout",
     "output_type": "stream",
     "text": [
      "18858eec-9b71-45db-b477-4b00fc307d15\n",
      "sim calculated successfully\n",
      "\n",
      "4525.000 8.276e-05 4504.504\n",
      "0 existing calculation records provided\n"
     ]
    },
    {
     "name": "stderr",
     "output_type": "stream",
     "text": [
      "100%|█████████████████████████████████████████████████████████████████████████████████████| 1/1 [00:00<00:00,  2.59it/s]"
     ]
    },
    {
     "name": "stdout",
     "output_type": "stream",
     "text": [
      "1 calculation combinations to check\n",
      "1 new records to prepare\n"
     ]
    },
    {
     "name": "stderr",
     "output_type": "stream",
     "text": [
      "\n",
      "preparing: 100%|##########################################################################| 1/1 [00:00<00:00, 46.76it/s]\n"
     ]
    },
    {
     "name": "stdout",
     "output_type": "stream",
     "text": [
      "07618d3d-2676-40b8-96d5-cee0dc93d778\n",
      "sim calculated successfully\n",
      "\n",
      "2287.500 0.002545 2199.066\n",
      "0 existing calculation records provided\n"
     ]
    },
    {
     "name": "stderr",
     "output_type": "stream",
     "text": [
      "100%|█████████████████████████████████████████████████████████████████████████████████████| 1/1 [00:00<00:00,  4.32it/s]"
     ]
    },
    {
     "name": "stdout",
     "output_type": "stream",
     "text": [
      "1 calculation combinations to check\n",
      "1 new records to prepare\n"
     ]
    },
    {
     "name": "stderr",
     "output_type": "stream",
     "text": [
      "\n",
      "preparing: 100%|##########################################################################| 1/1 [00:00<00:00, 30.03it/s]\n"
     ]
    },
    {
     "name": "stdout",
     "output_type": "stream",
     "text": [
      "00740e6c-5f64-4ae7-b910-12a0f4d86622\n",
      "sim calculated successfully\n",
      "\n",
      "1168.750 0.9991 1165.770\n",
      "0 existing calculation records provided\n"
     ]
    },
    {
     "name": "stderr",
     "output_type": "stream",
     "text": [
      "100%|█████████████████████████████████████████████████████████████████████████████████████| 1/1 [00:00<00:00,  3.75it/s]"
     ]
    },
    {
     "name": "stdout",
     "output_type": "stream",
     "text": [
      "1 calculation combinations to check\n",
      "1 new records to prepare\n"
     ]
    },
    {
     "name": "stderr",
     "output_type": "stream",
     "text": [
      "\n",
      "preparing: 100%|##########################################################################| 1/1 [00:00<00:00, 29.86it/s]\n"
     ]
    },
    {
     "name": "stdout",
     "output_type": "stream",
     "text": [
      "400acea0-e561-4cf3-a093-1945074e3fca\n",
      "sim calculated successfully\n",
      "\n",
      "1728.125 0.5658 1811.204\n",
      "0 existing calculation records provided\n"
     ]
    },
    {
     "name": "stderr",
     "output_type": "stream",
     "text": [
      "100%|█████████████████████████████████████████████████████████████████████████████████████| 1/1 [00:00<00:00,  2.67it/s]"
     ]
    },
    {
     "name": "stdout",
     "output_type": "stream",
     "text": [
      "1 calculation combinations to check\n",
      "1 new records to prepare\n"
     ]
    },
    {
     "name": "stderr",
     "output_type": "stream",
     "text": [
      "\n",
      "preparing: 100%|##########################################################################| 1/1 [00:00<00:00, 43.34it/s]\n"
     ]
    },
    {
     "name": "stdout",
     "output_type": "stream",
     "text": [
      "3e0e2d1b-157b-4d90-aed6-0fb71194359c\n",
      "sim calculated successfully\n",
      "\n",
      "1728.125 0.5366 1804.805\n",
      "0 existing calculation records provided\n"
     ]
    },
    {
     "name": "stderr",
     "output_type": "stream",
     "text": [
      "100%|█████████████████████████████████████████████████████████████████████████████████████| 1/1 [00:00<00:00,  2.85it/s]"
     ]
    },
    {
     "name": "stdout",
     "output_type": "stream",
     "text": [
      "1 calculation combinations to check\n",
      "1 new records to prepare\n"
     ]
    },
    {
     "name": "stderr",
     "output_type": "stream",
     "text": [
      "\n",
      "preparing: 100%|##########################################################################| 1/1 [00:00<00:00, 45.99it/s]\n"
     ]
    },
    {
     "name": "stdout",
     "output_type": "stream",
     "text": [
      "faec7353-0f33-4281-94ce-ecc5d59d0292\n",
      "sim calculated successfully\n",
      "\n",
      "1728.125 0.5508 1819.114\n",
      "0 existing calculation records provided\n"
     ]
    },
    {
     "name": "stderr",
     "output_type": "stream",
     "text": [
      "100%|█████████████████████████████████████████████████████████████████████████████████████| 1/1 [00:00<00:00,  4.22it/s]"
     ]
    },
    {
     "name": "stdout",
     "output_type": "stream",
     "text": [
      "1 calculation combinations to check\n",
      "1 new records to prepare\n"
     ]
    },
    {
     "name": "stderr",
     "output_type": "stream",
     "text": [
      "\n",
      "preparing: 100%|##########################################################################| 1/1 [00:00<00:00, 42.34it/s]\n"
     ]
    },
    {
     "name": "stdout",
     "output_type": "stream",
     "text": [
      "58ae4300-bf1f-4e51-87cb-c5e8cfd79424\n",
      "sim calculated successfully\n",
      "\n",
      "1728.125 0.5506 1802.388\n",
      "0 existing calculation records provided\n"
     ]
    },
    {
     "name": "stderr",
     "output_type": "stream",
     "text": [
      "100%|█████████████████████████████████████████████████████████████████████████████████████| 1/1 [00:00<00:00,  4.25it/s]"
     ]
    },
    {
     "name": "stdout",
     "output_type": "stream",
     "text": [
      "1 calculation combinations to check\n",
      "1 new records to prepare\n"
     ]
    },
    {
     "name": "stderr",
     "output_type": "stream",
     "text": [
      "\n",
      "preparing: 100%|##########################################################################| 1/1 [00:00<00:00, 29.47it/s]\n"
     ]
    },
    {
     "name": "stdout",
     "output_type": "stream",
     "text": [
      "2c35e873-5151-4810-b019-3e2d4a8fd29e\n",
      "sim calculated successfully\n",
      "\n",
      "1728.125 0.5635 1789.264\n",
      "0 existing calculation records provided\n"
     ]
    },
    {
     "name": "stderr",
     "output_type": "stream",
     "text": [
      "100%|█████████████████████████████████████████████████████████████████████████████████████| 1/1 [00:00<00:00,  4.35it/s]"
     ]
    },
    {
     "name": "stdout",
     "output_type": "stream",
     "text": [
      "1 calculation combinations to check\n",
      "1 new records to prepare\n"
     ]
    },
    {
     "name": "stderr",
     "output_type": "stream",
     "text": [
      "\n",
      "preparing: 100%|##########################################################################| 1/1 [00:00<00:00, 44.60it/s]\n"
     ]
    },
    {
     "name": "stdout",
     "output_type": "stream",
     "text": [
      "231beae6-2999-4377-9b9b-66327f00e30d\n",
      "sim calculated successfully\n",
      "\n",
      "1728.125 0.5499 1814.033\n",
      "0 existing calculation records provided\n"
     ]
    },
    {
     "name": "stderr",
     "output_type": "stream",
     "text": [
      "100%|█████████████████████████████████████████████████████████████████████████████████████| 1/1 [00:00<00:00,  4.22it/s]"
     ]
    },
    {
     "name": "stdout",
     "output_type": "stream",
     "text": [
      "1 calculation combinations to check\n",
      "1 new records to prepare\n"
     ]
    },
    {
     "name": "stderr",
     "output_type": "stream",
     "text": [
      "\n",
      "preparing: 100%|##########################################################################| 1/1 [00:00<00:00, 31.46it/s]\n"
     ]
    },
    {
     "name": "stdout",
     "output_type": "stream",
     "text": [
      "c7a854f0-4e46-4d82-9048-975ee2818663\n",
      "sim calculated successfully\n",
      "\n",
      "1728.125 0.566 1810.300\n",
      "0 existing calculation records provided\n"
     ]
    },
    {
     "name": "stderr",
     "output_type": "stream",
     "text": [
      "100%|█████████████████████████████████████████████████████████████████████████████████████| 1/1 [00:00<00:00,  2.86it/s]"
     ]
    },
    {
     "name": "stdout",
     "output_type": "stream",
     "text": [
      "1 calculation combinations to check\n",
      "1 new records to prepare\n"
     ]
    },
    {
     "name": "stderr",
     "output_type": "stream",
     "text": [
      "\n",
      "preparing: 100%|##########################################################################| 1/1 [00:00<00:00, 45.21it/s]\n"
     ]
    },
    {
     "name": "stdout",
     "output_type": "stream",
     "text": [
      "401bef2c-f87e-451e-ab4a-9b2355dd53ee\n",
      "sim calculated successfully\n",
      "\n",
      "1728.125 0.5335 1795.361\n",
      "0 existing calculation records provided\n"
     ]
    },
    {
     "name": "stderr",
     "output_type": "stream",
     "text": [
      "100%|█████████████████████████████████████████████████████████████████████████████████████| 1/1 [00:00<00:00,  4.30it/s]"
     ]
    },
    {
     "name": "stdout",
     "output_type": "stream",
     "text": [
      "1 calculation combinations to check\n",
      "1 new records to prepare\n"
     ]
    },
    {
     "name": "stderr",
     "output_type": "stream",
     "text": [
      "\n",
      "preparing: 100%|##########################################################################| 1/1 [00:00<00:00, 31.08it/s]\n"
     ]
    },
    {
     "name": "stdout",
     "output_type": "stream",
     "text": [
      "817c943c-fda5-482f-b049-a8b13e15d108\n",
      "sim calculated successfully\n",
      "\n",
      "1728.125 0.567 1804.147\n",
      "0 existing calculation records provided\n"
     ]
    },
    {
     "name": "stderr",
     "output_type": "stream",
     "text": [
      "100%|█████████████████████████████████████████████████████████████████████████████████████| 1/1 [00:00<00:00,  4.62it/s]"
     ]
    },
    {
     "name": "stdout",
     "output_type": "stream",
     "text": [
      "1 calculation combinations to check\n",
      "1 new records to prepare\n"
     ]
    },
    {
     "name": "stderr",
     "output_type": "stream",
     "text": [
      "\n",
      "preparing: 100%|##########################################################################| 1/1 [00:00<00:00, 33.58it/s]\n"
     ]
    },
    {
     "name": "stdout",
     "output_type": "stream",
     "text": [
      "baec37c6-a5d1-476e-9633-cfbbc1ddf774\n",
      "sim calculated successfully\n",
      "\n",
      "1728.125 0.5521 1805.604\n",
      "199 2022--Mendelev-M-I--Ni-Nb--LAMMPS--ipr1\n",
      "0 existing calculation records provided\n"
     ]
    },
    {
     "name": "stderr",
     "output_type": "stream",
     "text": [
      "100%|█████████████████████████████████████████████████████████████████████████████████████| 1/1 [00:00<00:00,  2.93it/s]"
     ]
    },
    {
     "name": "stdout",
     "output_type": "stream",
     "text": [
      "1 calculation combinations to check\n",
      "1 new records to prepare\n"
     ]
    },
    {
     "name": "stderr",
     "output_type": "stream",
     "text": [
      "\n",
      "preparing: 100%|##########################################################################| 1/1 [00:00<00:00, 33.33it/s]\n"
     ]
    },
    {
     "name": "stdout",
     "output_type": "stream",
     "text": [
      "c3ffa4d5-081c-4a46-9d43-45e48c4f8af9\n",
      "sim calculated successfully\n",
      "\n",
      "4525.000 0.0002379 4513.451\n",
      "0 existing calculation records provided\n"
     ]
    },
    {
     "name": "stderr",
     "output_type": "stream",
     "text": [
      "100%|█████████████████████████████████████████████████████████████████████████████████████| 1/1 [00:00<00:00,  2.94it/s]"
     ]
    },
    {
     "name": "stdout",
     "output_type": "stream",
     "text": [
      "1 calculation combinations to check\n",
      "1 new records to prepare\n"
     ]
    },
    {
     "name": "stderr",
     "output_type": "stream",
     "text": [
      "\n",
      "preparing: 100%|##########################################################################| 1/1 [00:00<00:00, 43.04it/s]\n"
     ]
    },
    {
     "name": "stdout",
     "output_type": "stream",
     "text": [
      "659a35d3-729b-4d39-a84e-01d1be7329f2\n",
      "sim calculated successfully\n",
      "\n",
      "2287.500 0.2046 2513.892\n",
      "0 existing calculation records provided\n"
     ]
    },
    {
     "name": "stderr",
     "output_type": "stream",
     "text": [
      "100%|█████████████████████████████████████████████████████████████████████████████████████| 1/1 [00:00<00:00,  2.49it/s]"
     ]
    },
    {
     "name": "stdout",
     "output_type": "stream",
     "text": [
      "1 calculation combinations to check\n",
      "1 new records to prepare\n"
     ]
    },
    {
     "name": "stderr",
     "output_type": "stream",
     "text": [
      "\n",
      "preparing: 100%|##########################################################################| 1/1 [00:00<00:00, 43.44it/s]\n"
     ]
    },
    {
     "name": "stdout",
     "output_type": "stream",
     "text": [
      "a69adf8e-0ed2-44b1-b007-07f864f28ebf\n",
      "sim calculated successfully\n",
      "\n",
      "1168.750 0.9996 1171.469\n",
      "0 existing calculation records provided\n"
     ]
    },
    {
     "name": "stderr",
     "output_type": "stream",
     "text": [
      "100%|█████████████████████████████████████████████████████████████████████████████████████| 1/1 [00:00<00:00,  2.50it/s]"
     ]
    },
    {
     "name": "stdout",
     "output_type": "stream",
     "text": [
      "1 calculation combinations to check\n",
      "1 new records to prepare\n"
     ]
    },
    {
     "name": "stderr",
     "output_type": "stream",
     "text": [
      "\n",
      "preparing: 100%|##########################################################################| 1/1 [00:00<00:00, 46.99it/s]\n"
     ]
    },
    {
     "name": "stdout",
     "output_type": "stream",
     "text": [
      "799c2692-8aa4-470b-86d4-2e8a001ddb8c\n",
      "sim calculated successfully\n",
      "\n",
      "1728.125 0.278 1741.857\n",
      "0 existing calculation records provided\n"
     ]
    },
    {
     "name": "stderr",
     "output_type": "stream",
     "text": [
      "100%|█████████████████████████████████████████████████████████████████████████████████████| 1/1 [00:00<00:00,  4.47it/s]"
     ]
    },
    {
     "name": "stdout",
     "output_type": "stream",
     "text": [
      "1 calculation combinations to check\n",
      "1 new records to prepare\n"
     ]
    },
    {
     "name": "stderr",
     "output_type": "stream",
     "text": [
      "\n",
      "preparing: 100%|##########################################################################| 1/1 [00:00<00:00, 34.07it/s]\n"
     ]
    },
    {
     "name": "stdout",
     "output_type": "stream",
     "text": [
      "4111d201-7481-40c0-b40e-745b8f55f7a2\n",
      "sim calculated successfully\n",
      "\n",
      "1448.438 0.9966 1454.061\n",
      "0 existing calculation records provided\n"
     ]
    },
    {
     "name": "stderr",
     "output_type": "stream",
     "text": [
      "100%|█████████████████████████████████████████████████████████████████████████████████████| 1/1 [00:00<00:00,  4.72it/s]"
     ]
    },
    {
     "name": "stdout",
     "output_type": "stream",
     "text": [
      "1 calculation combinations to check\n",
      "1 new records to prepare\n"
     ]
    },
    {
     "name": "stderr",
     "output_type": "stream",
     "text": [
      "\n",
      "preparing: 100%|##########################################################################| 1/1 [00:00<00:00, 33.02it/s]\n"
     ]
    },
    {
     "name": "stdout",
     "output_type": "stream",
     "text": [
      "6ccb65b1-acba-4071-ab06-b5fc2a099a99\n",
      "sim calculated successfully\n",
      "\n",
      "1867.969 0.2674 1899.203\n",
      "0 existing calculation records provided\n"
     ]
    },
    {
     "name": "stderr",
     "output_type": "stream",
     "text": [
      "100%|█████████████████████████████████████████████████████████████████████████████████████| 1/1 [00:00<00:00,  2.93it/s]"
     ]
    },
    {
     "name": "stdout",
     "output_type": "stream",
     "text": [
      "1 calculation combinations to check\n",
      "1 new records to prepare\n"
     ]
    },
    {
     "name": "stderr",
     "output_type": "stream",
     "text": [
      "\n",
      "preparing: 100%|##########################################################################| 1/1 [00:00<00:00, 43.97it/s]\n"
     ]
    },
    {
     "name": "stdout",
     "output_type": "stream",
     "text": [
      "e95884af-2786-4d15-ac96-48da9017bd63\n",
      "sim calculated successfully\n",
      "\n",
      "1658.203 0.2976 1704.870\n",
      "0 existing calculation records provided\n"
     ]
    },
    {
     "name": "stderr",
     "output_type": "stream",
     "text": [
      "100%|█████████████████████████████████████████████████████████████████████████████████████| 1/1 [00:00<00:00,  2.64it/s]"
     ]
    },
    {
     "name": "stdout",
     "output_type": "stream",
     "text": [
      "1 calculation combinations to check\n",
      "1 new records to prepare\n"
     ]
    },
    {
     "name": "stderr",
     "output_type": "stream",
     "text": [
      "\n",
      "preparing: 100%|##########################################################################| 1/1 [00:00<00:00, 47.60it/s]\n"
     ]
    },
    {
     "name": "stdout",
     "output_type": "stream",
     "text": [
      "c7aaa71a-adf4-4b21-9a0e-ec1ee5db8bbe\n",
      "sim calculated successfully\n",
      "\n",
      "1553.320 0.9931 1557.970\n",
      "0 existing calculation records provided\n"
     ]
    },
    {
     "name": "stderr",
     "output_type": "stream",
     "text": [
      "100%|█████████████████████████████████████████████████████████████████████████████████████| 1/1 [00:00<00:00,  2.58it/s]"
     ]
    },
    {
     "name": "stdout",
     "output_type": "stream",
     "text": [
      "1 calculation combinations to check\n",
      "1 new records to prepare\n"
     ]
    },
    {
     "name": "stderr",
     "output_type": "stream",
     "text": [
      "\n",
      "preparing: 100%|##########################################################################| 1/1 [00:00<00:00, 47.84it/s]\n"
     ]
    },
    {
     "name": "stdout",
     "output_type": "stream",
     "text": [
      "ad7e485a-857c-4b12-8cf7-aadd6d672b49\n",
      "sim calculated successfully\n",
      "\n",
      "1920.410 0.2665 1955.090\n",
      "0 existing calculation records provided\n"
     ]
    },
    {
     "name": "stderr",
     "output_type": "stream",
     "text": [
      "100%|█████████████████████████████████████████████████████████████████████████████████████| 1/1 [00:00<00:00,  2.32it/s]"
     ]
    },
    {
     "name": "stdout",
     "output_type": "stream",
     "text": [
      "1 calculation combinations to check\n",
      "1 new records to prepare\n"
     ]
    },
    {
     "name": "stderr",
     "output_type": "stream",
     "text": [
      "\n",
      "preparing: 100%|##########################################################################| 1/1 [00:00<00:00, 46.18it/s]\n"
     ]
    },
    {
     "name": "stdout",
     "output_type": "stream",
     "text": [
      "aeda0496-f01b-48cc-8257-270be8463573\n",
      "sim calculated successfully\n",
      "\n",
      "1736.865 0.2889 1782.373\n",
      "0 existing calculation records provided\n"
     ]
    },
    {
     "name": "stderr",
     "output_type": "stream",
     "text": [
      "100%|█████████████████████████████████████████████████████████████████████████████████████| 1/1 [00:00<00:00,  2.94it/s]"
     ]
    },
    {
     "name": "stdout",
     "output_type": "stream",
     "text": [
      "1 calculation combinations to check\n",
      "1 new records to prepare\n"
     ]
    },
    {
     "name": "stderr",
     "output_type": "stream",
     "text": [
      "\n",
      "preparing: 100%|##########################################################################| 1/1 [00:00<00:00, 42.07it/s]\n"
     ]
    },
    {
     "name": "stdout",
     "output_type": "stream",
     "text": [
      "5cc07f5c-2ae6-461e-a846-e020da96b7ca\n",
      "sim calculated successfully\n",
      "\n",
      "1645.093 0.3151 1674.873\n",
      "0 existing calculation records provided\n"
     ]
    },
    {
     "name": "stderr",
     "output_type": "stream",
     "text": [
      "100%|█████████████████████████████████████████████████████████████████████████████████████| 1/1 [00:00<00:00,  2.66it/s]"
     ]
    },
    {
     "name": "stdout",
     "output_type": "stream",
     "text": [
      "1 calculation combinations to check\n",
      "1 new records to prepare\n"
     ]
    },
    {
     "name": "stderr",
     "output_type": "stream",
     "text": [
      "\n",
      "preparing: 100%|##########################################################################| 1/1 [00:00<00:00, 32.59it/s]\n"
     ]
    },
    {
     "name": "stdout",
     "output_type": "stream",
     "text": [
      "6e80f6a8-b767-408d-bcd7-5d153ef8b1f6\n",
      "sim calculated successfully\n",
      "\n",
      "1599.207 0.2997 1625.824\n",
      "0 existing calculation records provided\n"
     ]
    },
    {
     "name": "stderr",
     "output_type": "stream",
     "text": [
      "100%|█████████████████████████████████████████████████████████████████████████████████████| 1/1 [00:00<00:00,  2.99it/s]"
     ]
    },
    {
     "name": "stdout",
     "output_type": "stream",
     "text": [
      "1 calculation combinations to check\n",
      "1 new records to prepare\n"
     ]
    },
    {
     "name": "stderr",
     "output_type": "stream",
     "text": [
      "\n",
      "preparing: 100%|##########################################################################| 1/1 [00:00<00:00, 33.08it/s]\n"
     ]
    },
    {
     "name": "stdout",
     "output_type": "stream",
     "text": [
      "a2842a42-0f67-4637-80c4-f2db758657cc\n",
      "sim calculated successfully\n",
      "\n",
      "1576.263 0.3057 1616.348\n",
      "0 existing calculation records provided\n"
     ]
    },
    {
     "name": "stderr",
     "output_type": "stream",
     "text": [
      "100%|█████████████████████████████████████████████████████████████████████████████████████| 1/1 [00:00<00:00,  3.00it/s]"
     ]
    },
    {
     "name": "stdout",
     "output_type": "stream",
     "text": [
      "1 calculation combinations to check\n",
      "1 new records to prepare\n"
     ]
    },
    {
     "name": "stderr",
     "output_type": "stream",
     "text": [
      "\n",
      "preparing: 100%|##########################################################################| 1/1 [00:00<00:00, 53.78it/s]\n"
     ]
    },
    {
     "name": "stdout",
     "output_type": "stream",
     "text": [
      "8a9ddcfb-2b0a-4858-bc3e-fced81e97076\n",
      "sim calculated successfully\n",
      "\n",
      "1564.792 0.2957 1578.333\n",
      "0 existing calculation records provided\n"
     ]
    },
    {
     "name": "stderr",
     "output_type": "stream",
     "text": [
      "100%|█████████████████████████████████████████████████████████████████████████████████████| 1/1 [00:00<00:00,  2.45it/s]"
     ]
    },
    {
     "name": "stdout",
     "output_type": "stream",
     "text": [
      "1 calculation combinations to check\n",
      "1 new records to prepare\n"
     ]
    },
    {
     "name": "stderr",
     "output_type": "stream",
     "text": [
      "\n",
      "preparing: 100%|##########################################################################| 1/1 [00:00<00:00, 47.28it/s]\n"
     ]
    },
    {
     "name": "stdout",
     "output_type": "stream",
     "text": [
      "f867dd9c-2446-41ca-82f5-89a903c5d320\n",
      "sim calculated successfully\n",
      "\n",
      "1559.056 0.3128 1589.783\n",
      "198 2022--Mendelev-M-I--Ni-Al--LAMMPS--ipr1\n",
      "0 existing calculation records provided\n"
     ]
    },
    {
     "name": "stderr",
     "output_type": "stream",
     "text": [
      "100%|█████████████████████████████████████████████████████████████████████████████████████| 1/1 [00:00<00:00,  2.19it/s]"
     ]
    },
    {
     "name": "stdout",
     "output_type": "stream",
     "text": [
      "1 calculation combinations to check\n",
      "1 new records to prepare\n"
     ]
    },
    {
     "name": "stderr",
     "output_type": "stream",
     "text": [
      "\n",
      "preparing: 100%|##########################################################################| 1/1 [00:00<00:00, 44.77it/s]\n"
     ]
    },
    {
     "name": "stdout",
     "output_type": "stream",
     "text": [
      "5574b657-4e68-4b28-af12-007c04799560\n",
      "sim calculated successfully\n",
      "\n",
      "4525.000 0.0 4610.784\n",
      "0 existing calculation records provided\n"
     ]
    },
    {
     "name": "stderr",
     "output_type": "stream",
     "text": [
      "100%|█████████████████████████████████████████████████████████████████████████████████████| 1/1 [00:00<00:00,  2.77it/s]"
     ]
    },
    {
     "name": "stdout",
     "output_type": "stream",
     "text": [
      "1 calculation combinations to check\n",
      "1 new records to prepare\n"
     ]
    },
    {
     "name": "stderr",
     "output_type": "stream",
     "text": [
      "\n",
      "preparing: 100%|##########################################################################| 1/1 [00:00<00:00, 41.97it/s]\n"
     ]
    },
    {
     "name": "stdout",
     "output_type": "stream",
     "text": [
      "193486fe-02f2-4224-991e-8ce6ccc7ef6a\n",
      "sim calculated successfully\n",
      "\n",
      "2287.500 0.000931 2253.303\n",
      "0 existing calculation records provided\n"
     ]
    },
    {
     "name": "stderr",
     "output_type": "stream",
     "text": [
      "100%|█████████████████████████████████████████████████████████████████████████████████████| 1/1 [00:00<00:00,  2.78it/s]"
     ]
    },
    {
     "name": "stdout",
     "output_type": "stream",
     "text": [
      "1 calculation combinations to check\n",
      "1 new records to prepare\n"
     ]
    },
    {
     "name": "stderr",
     "output_type": "stream",
     "text": [
      "\n",
      "preparing: 100%|##########################################################################| 1/1 [00:00<00:00, 44.72it/s]\n"
     ]
    },
    {
     "name": "stdout",
     "output_type": "stream",
     "text": [
      "5c6cd083-9a9c-4418-9a72-c317b9607164\n",
      "sim calculated successfully\n",
      "\n",
      "1168.750 0.9981 1165.148\n",
      "0 existing calculation records provided\n"
     ]
    },
    {
     "name": "stderr",
     "output_type": "stream",
     "text": [
      "100%|█████████████████████████████████████████████████████████████████████████████████████| 1/1 [00:00<00:00,  2.65it/s]"
     ]
    },
    {
     "name": "stdout",
     "output_type": "stream",
     "text": [
      "1 calculation combinations to check\n",
      "1 new records to prepare\n"
     ]
    },
    {
     "name": "stderr",
     "output_type": "stream",
     "text": [
      "\n",
      "preparing: 100%|##########################################################################| 1/1 [00:00<00:00, 43.77it/s]\n"
     ]
    },
    {
     "name": "stdout",
     "output_type": "stream",
     "text": [
      "fa41451f-b753-4d48-b0b9-5a79aad4c3b7\n",
      "sim calculated successfully\n",
      "\n",
      "1728.125 0.2519 1633.954\n",
      "0 existing calculation records provided\n"
     ]
    },
    {
     "name": "stderr",
     "output_type": "stream",
     "text": [
      "100%|█████████████████████████████████████████████████████████████████████████████████████| 1/1 [00:00<00:00,  2.50it/s]"
     ]
    },
    {
     "name": "stdout",
     "output_type": "stream",
     "text": [
      "1 calculation combinations to check\n",
      "1 new records to prepare\n"
     ]
    },
    {
     "name": "stderr",
     "output_type": "stream",
     "text": [
      "\n",
      "preparing: 100%|##########################################################################| 1/1 [00:00<00:00, 44.15it/s]\n"
     ]
    },
    {
     "name": "stdout",
     "output_type": "stream",
     "text": [
      "e845748b-fba8-472a-8bcb-2a78399595e0\n",
      "sim calculated successfully\n",
      "\n",
      "1448.438 0.8221 1573.016\n",
      "0 existing calculation records provided\n"
     ]
    },
    {
     "name": "stderr",
     "output_type": "stream",
     "text": [
      "100%|█████████████████████████████████████████████████████████████████████████████████████| 1/1 [00:00<00:00,  2.75it/s]"
     ]
    },
    {
     "name": "stdout",
     "output_type": "stream",
     "text": [
      "1 calculation combinations to check\n",
      "1 new records to prepare\n"
     ]
    },
    {
     "name": "stderr",
     "output_type": "stream",
     "text": [
      "\n",
      "preparing: 100%|##########################################################################| 1/1 [00:00<00:00, 49.41it/s]\n"
     ]
    },
    {
     "name": "stdout",
     "output_type": "stream",
     "text": [
      "ae10b558-c04f-4804-9057-4f1a57070fe5\n",
      "sim calculated successfully\n",
      "\n",
      "1867.969 0.003228 1679.347\n",
      "0 existing calculation records provided\n"
     ]
    },
    {
     "name": "stderr",
     "output_type": "stream",
     "text": [
      "100%|█████████████████████████████████████████████████████████████████████████████████████| 1/1 [00:00<00:00,  3.01it/s]"
     ]
    },
    {
     "name": "stdout",
     "output_type": "stream",
     "text": [
      "1 calculation combinations to check\n",
      "1 new records to prepare\n"
     ]
    },
    {
     "name": "stderr",
     "output_type": "stream",
     "text": [
      "\n",
      "preparing: 100%|##########################################################################| 1/1 [00:00<00:00, 38.08it/s]\n"
     ]
    },
    {
     "name": "stdout",
     "output_type": "stream",
     "text": [
      "ae9b6bac-a77e-40c6-aa13-63f191de01da\n",
      "sim calculated successfully\n",
      "\n",
      "1658.203 0.4965 1678.256\n",
      "0 existing calculation records provided\n"
     ]
    },
    {
     "name": "stderr",
     "output_type": "stream",
     "text": [
      "100%|█████████████████████████████████████████████████████████████████████████████████████| 1/1 [00:00<00:00,  2.74it/s]"
     ]
    },
    {
     "name": "stdout",
     "output_type": "stream",
     "text": [
      "1 calculation combinations to check\n",
      "1 new records to prepare\n"
     ]
    },
    {
     "name": "stderr",
     "output_type": "stream",
     "text": [
      "\n",
      "preparing: 100%|##########################################################################| 1/1 [00:00<00:00, 45.79it/s]\n"
     ]
    },
    {
     "name": "stdout",
     "output_type": "stream",
     "text": [
      "9a96d850-cd3e-4be0-9f34-6c243c39ddf1\n",
      "sim calculated successfully\n",
      "\n",
      "1658.203 0.4625 1664.934\n",
      "0 existing calculation records provided\n"
     ]
    },
    {
     "name": "stderr",
     "output_type": "stream",
     "text": [
      "100%|█████████████████████████████████████████████████████████████████████████████████████| 1/1 [00:00<00:00,  2.31it/s]"
     ]
    },
    {
     "name": "stdout",
     "output_type": "stream",
     "text": [
      "1 calculation combinations to check\n",
      "1 new records to prepare\n"
     ]
    },
    {
     "name": "stderr",
     "output_type": "stream",
     "text": [
      "\n",
      "preparing: 100%|##########################################################################| 1/1 [00:00<00:00, 45.02it/s]\n"
     ]
    },
    {
     "name": "stdout",
     "output_type": "stream",
     "text": [
      "4ded31e9-ad9a-477e-b94f-c99086868345\n",
      "sim calculated successfully\n",
      "\n",
      "1658.203 0.5145 1680.454\n",
      "0 existing calculation records provided\n"
     ]
    },
    {
     "name": "stderr",
     "output_type": "stream",
     "text": [
      "100%|█████████████████████████████████████████████████████████████████████████████████████| 1/1 [00:00<00:00,  1.89it/s]"
     ]
    },
    {
     "name": "stdout",
     "output_type": "stream",
     "text": [
      "1 calculation combinations to check\n",
      "1 new records to prepare\n"
     ]
    },
    {
     "name": "stderr",
     "output_type": "stream",
     "text": [
      "\n",
      "preparing: 100%|##########################################################################| 1/1 [00:00<00:00, 45.98it/s]\n"
     ]
    },
    {
     "name": "stdout",
     "output_type": "stream",
     "text": [
      "3c09696a-d9ee-4e41-aeca-1c4eec3702b7\n",
      "sim calculated successfully\n",
      "\n",
      "1658.203 0.4449 1662.289\n",
      "0 existing calculation records provided\n"
     ]
    },
    {
     "name": "stderr",
     "output_type": "stream",
     "text": [
      "100%|█████████████████████████████████████████████████████████████████████████████████████| 1/1 [00:00<00:00,  2.50it/s]"
     ]
    },
    {
     "name": "stdout",
     "output_type": "stream",
     "text": [
      "1 calculation combinations to check\n",
      "1 new records to prepare\n"
     ]
    },
    {
     "name": "stderr",
     "output_type": "stream",
     "text": [
      "\n",
      "preparing: 100%|##########################################################################| 1/1 [00:00<00:00, 35.37it/s]\n"
     ]
    },
    {
     "name": "stdout",
     "output_type": "stream",
     "text": [
      "2aa76209-700f-4e0f-9524-aaca0ae3a4da\n",
      "sim calculated successfully\n",
      "\n",
      "1658.203 0.529 1693.505\n",
      "0 existing calculation records provided\n"
     ]
    },
    {
     "name": "stderr",
     "output_type": "stream",
     "text": [
      "100%|█████████████████████████████████████████████████████████████████████████████████████| 1/1 [00:00<00:00,  2.28it/s]"
     ]
    },
    {
     "name": "stdout",
     "output_type": "stream",
     "text": [
      "1 calculation combinations to check\n",
      "1 new records to prepare\n"
     ]
    },
    {
     "name": "stderr",
     "output_type": "stream",
     "text": [
      "\n",
      "preparing: 100%|##########################################################################| 1/1 [00:00<00:00, 42.42it/s]\n"
     ]
    },
    {
     "name": "stdout",
     "output_type": "stream",
     "text": [
      "32fa2e67-be73-4422-b481-807b0aff3076\n",
      "sim calculated successfully\n",
      "\n",
      "1658.203 0.4581 1656.878\n",
      "0 existing calculation records provided\n"
     ]
    },
    {
     "name": "stderr",
     "output_type": "stream",
     "text": [
      "100%|█████████████████████████████████████████████████████████████████████████████████████| 1/1 [00:00<00:00,  2.21it/s]"
     ]
    },
    {
     "name": "stdout",
     "output_type": "stream",
     "text": [
      "1 calculation combinations to check\n",
      "1 new records to prepare\n"
     ]
    },
    {
     "name": "stderr",
     "output_type": "stream",
     "text": [
      "\n",
      "preparing: 100%|##########################################################################| 1/1 [00:00<00:00, 35.51it/s]\n"
     ]
    },
    {
     "name": "stdout",
     "output_type": "stream",
     "text": [
      "3c026f88-91dc-420a-b511-1721178be702\n",
      "sim calculated successfully\n",
      "\n",
      "1658.203 0.455 1701.379\n",
      "0 existing calculation records provided\n"
     ]
    },
    {
     "name": "stderr",
     "output_type": "stream",
     "text": [
      "100%|█████████████████████████████████████████████████████████████████████████████████████| 1/1 [00:00<00:00,  2.35it/s]"
     ]
    },
    {
     "name": "stdout",
     "output_type": "stream",
     "text": [
      "1 calculation combinations to check\n",
      "1 new records to prepare\n"
     ]
    },
    {
     "name": "stderr",
     "output_type": "stream",
     "text": [
      "\n",
      "preparing: 100%|##########################################################################| 1/1 [00:00<00:00, 42.60it/s]\n"
     ]
    },
    {
     "name": "stdout",
     "output_type": "stream",
     "text": [
      "fa6ade0e-75c5-4ae9-ac46-3f99eb2d835a\n",
      "sim calculated successfully\n",
      "\n",
      "1658.203 0.4594 1684.868\n",
      "0 existing calculation records provided\n"
     ]
    },
    {
     "name": "stderr",
     "output_type": "stream",
     "text": [
      "100%|█████████████████████████████████████████████████████████████████████████████████████| 1/1 [00:00<00:00,  2.46it/s]"
     ]
    },
    {
     "name": "stdout",
     "output_type": "stream",
     "text": [
      "1 calculation combinations to check\n",
      "1 new records to prepare\n"
     ]
    },
    {
     "name": "stderr",
     "output_type": "stream",
     "text": [
      "\n",
      "preparing: 100%|##########################################################################| 1/1 [00:00<00:00, 37.37it/s]\n"
     ]
    },
    {
     "name": "stdout",
     "output_type": "stream",
     "text": [
      "82501ce9-b6dc-41ea-aa14-75257e59b8b8\n",
      "sim calculated successfully\n",
      "\n",
      "1658.203 0.4575 1675.430\n",
      "197 2022--Mendelev-M-I--Ni-Al--LAMMPS--ipr1\n",
      "0 existing calculation records provided\n"
     ]
    },
    {
     "name": "stderr",
     "output_type": "stream",
     "text": [
      "100%|█████████████████████████████████████████████████████████████████████████████████████| 1/1 [00:00<00:00,  2.78it/s]"
     ]
    },
    {
     "name": "stdout",
     "output_type": "stream",
     "text": [
      "1 calculation combinations to check\n",
      "1 new records to prepare\n"
     ]
    },
    {
     "name": "stderr",
     "output_type": "stream",
     "text": [
      "\n",
      "preparing: 100%|##########################################################################| 1/1 [00:00<00:00, 45.01it/s]\n"
     ]
    },
    {
     "name": "stdout",
     "output_type": "stream",
     "text": [
      "2d35c793-5a1f-481a-9854-9a8eab5e4aca\n",
      "sim calculated successfully\n",
      "\n",
      "4525.000 0.007396 3958.634\n",
      "0 existing calculation records provided\n"
     ]
    },
    {
     "name": "stderr",
     "output_type": "stream",
     "text": [
      "100%|█████████████████████████████████████████████████████████████████████████████████████| 1/1 [00:00<00:00,  2.48it/s]"
     ]
    },
    {
     "name": "stdout",
     "output_type": "stream",
     "text": [
      "1 calculation combinations to check\n",
      "1 new records to prepare\n"
     ]
    },
    {
     "name": "stderr",
     "output_type": "stream",
     "text": [
      "\n",
      "preparing: 100%|##########################################################################| 1/1 [00:00<00:00, 44.56it/s]\n"
     ]
    },
    {
     "name": "stdout",
     "output_type": "stream",
     "text": [
      "712d7c15-ab13-477b-845a-dd4395f7b754\n",
      "sim calculated successfully\n",
      "\n",
      "2287.500 3.103e-05 2281.214\n",
      "0 existing calculation records provided\n"
     ]
    },
    {
     "name": "stderr",
     "output_type": "stream",
     "text": [
      "100%|█████████████████████████████████████████████████████████████████████████████████████| 1/1 [00:00<00:00,  2.54it/s]"
     ]
    },
    {
     "name": "stdout",
     "output_type": "stream",
     "text": [
      "1 calculation combinations to check\n",
      "1 new records to prepare\n"
     ]
    },
    {
     "name": "stderr",
     "output_type": "stream",
     "text": [
      "\n",
      "preparing: 100%|##########################################################################| 1/1 [00:00<00:00, 42.25it/s]\n"
     ]
    },
    {
     "name": "stdout",
     "output_type": "stream",
     "text": [
      "46e5d63e-6efc-4ee2-b194-c81446c4d949\n",
      "sim calculated successfully\n",
      "\n",
      "1168.750 0.001386 1135.081\n",
      "0 existing calculation records provided\n"
     ]
    },
    {
     "name": "stderr",
     "output_type": "stream",
     "text": [
      "100%|█████████████████████████████████████████████████████████████████████████████████████| 1/1 [00:00<00:00,  2.38it/s]"
     ]
    },
    {
     "name": "stdout",
     "output_type": "stream",
     "text": [
      "1 calculation combinations to check\n",
      "1 new records to prepare\n"
     ]
    },
    {
     "name": "stderr",
     "output_type": "stream",
     "text": [
      "\n",
      "preparing: 100%|##########################################################################| 1/1 [00:00<00:00, 44.27it/s]\n"
     ]
    },
    {
     "name": "stdout",
     "output_type": "stream",
     "text": [
      "3fd4d23a-9e37-4046-b55f-0dde0118ec5b\n",
      "sim calculated successfully\n",
      "\n",
      "609.375 0.9897 607.443\n",
      "0 existing calculation records provided\n"
     ]
    },
    {
     "name": "stderr",
     "output_type": "stream",
     "text": [
      "100%|█████████████████████████████████████████████████████████████████████████████████████| 1/1 [00:00<00:00,  2.34it/s]"
     ]
    },
    {
     "name": "stdout",
     "output_type": "stream",
     "text": [
      "1 calculation combinations to check\n",
      "1 new records to prepare\n"
     ]
    },
    {
     "name": "stderr",
     "output_type": "stream",
     "text": [
      "\n",
      "preparing: 100%|##########################################################################| 1/1 [00:00<00:00, 34.50it/s]\n"
     ]
    },
    {
     "name": "stdout",
     "output_type": "stream",
     "text": [
      "23857bcc-90d4-49c0-8cb1-73e59484195d\n",
      "sim calculated successfully\n",
      "\n",
      "889.062 0.02455 896.648\n",
      "0 existing calculation records provided\n"
     ]
    },
    {
     "name": "stderr",
     "output_type": "stream",
     "text": [
      "100%|█████████████████████████████████████████████████████████████████████████████████████| 1/1 [00:00<00:00,  2.95it/s]"
     ]
    },
    {
     "name": "stdout",
     "output_type": "stream",
     "text": [
      "1 calculation combinations to check\n",
      "1 new records to prepare\n"
     ]
    },
    {
     "name": "stderr",
     "output_type": "stream",
     "text": [
      "\n",
      "preparing: 100%|##########################################################################| 1/1 [00:00<00:00, 27.24it/s]\n"
     ]
    },
    {
     "name": "stdout",
     "output_type": "stream",
     "text": [
      "f7f879cb-0c07-4677-8d39-29d456e98bcb\n",
      "sim calculated successfully\n",
      "\n",
      "749.219 0.569 834.967\n",
      "0 existing calculation records provided\n"
     ]
    },
    {
     "name": "stderr",
     "output_type": "stream",
     "text": [
      "100%|█████████████████████████████████████████████████████████████████████████████████████| 1/1 [00:00<00:00,  2.27it/s]"
     ]
    },
    {
     "name": "stdout",
     "output_type": "stream",
     "text": [
      "1 calculation combinations to check\n",
      "1 new records to prepare\n"
     ]
    },
    {
     "name": "stderr",
     "output_type": "stream",
     "text": [
      "\n",
      "preparing: 100%|##########################################################################| 1/1 [00:00<00:00, 40.97it/s]\n"
     ]
    },
    {
     "name": "stdout",
     "output_type": "stream",
     "text": [
      "acb9acf9-bf96-4b95-ba26-efbae7b40a4c\n",
      "sim calculated successfully\n",
      "\n",
      "749.219 0.63 830.481\n",
      "0 existing calculation records provided\n"
     ]
    },
    {
     "name": "stderr",
     "output_type": "stream",
     "text": [
      "100%|█████████████████████████████████████████████████████████████████████████████████████| 1/1 [00:00<00:00,  2.31it/s]"
     ]
    },
    {
     "name": "stdout",
     "output_type": "stream",
     "text": [
      "1 calculation combinations to check\n",
      "1 new records to prepare\n"
     ]
    },
    {
     "name": "stderr",
     "output_type": "stream",
     "text": [
      "\n",
      "preparing: 100%|##########################################################################| 1/1 [00:00<00:00, 41.93it/s]\n"
     ]
    },
    {
     "name": "stdout",
     "output_type": "stream",
     "text": [
      "83e860f9-8abf-42ab-9f5a-dce196c6eb2e\n",
      "sim calculated successfully\n",
      "\n",
      "819.141 0.1704 891.692\n",
      "0 existing calculation records provided\n"
     ]
    },
    {
     "name": "stderr",
     "output_type": "stream",
     "text": [
      "100%|█████████████████████████████████████████████████████████████████████████████████████| 1/1 [00:00<00:00,  2.54it/s]"
     ]
    },
    {
     "name": "stdout",
     "output_type": "stream",
     "text": [
      "1 calculation combinations to check\n",
      "1 new records to prepare\n"
     ]
    },
    {
     "name": "stderr",
     "output_type": "stream",
     "text": [
      "\n",
      "preparing: 100%|##########################################################################| 1/1 [00:00<00:00, 42.65it/s]\n"
     ]
    },
    {
     "name": "stdout",
     "output_type": "stream",
     "text": [
      "3a3d37b6-04bd-4c96-9e78-e76bf9f2137f\n",
      "sim calculated successfully\n",
      "\n",
      "714.258 0.9088 718.745\n",
      "0 existing calculation records provided\n"
     ]
    },
    {
     "name": "stderr",
     "output_type": "stream",
     "text": [
      "100%|█████████████████████████████████████████████████████████████████████████████████████| 1/1 [00:00<00:00,  4.52it/s]"
     ]
    },
    {
     "name": "stdout",
     "output_type": "stream",
     "text": [
      "1 calculation combinations to check\n",
      "1 new records to prepare\n"
     ]
    },
    {
     "name": "stderr",
     "output_type": "stream",
     "text": [
      "\n",
      "preparing: 100%|##########################################################################| 1/1 [00:00<00:00, 47.10it/s]\n"
     ]
    },
    {
     "name": "stdout",
     "output_type": "stream",
     "text": [
      "7d0a851f-f00d-4685-bd50-6057ddee687b\n",
      "sim calculated successfully\n",
      "\n",
      "766.699 0.1492 853.000\n",
      "0 existing calculation records provided\n"
     ]
    },
    {
     "name": "stderr",
     "output_type": "stream",
     "text": [
      "100%|█████████████████████████████████████████████████████████████████████████████████████| 1/1 [00:00<00:00,  4.60it/s]"
     ]
    },
    {
     "name": "stdout",
     "output_type": "stream",
     "text": [
      "1 calculation combinations to check\n",
      "1 new records to prepare\n"
     ]
    },
    {
     "name": "stderr",
     "output_type": "stream",
     "text": [
      "\n",
      "preparing: 100%|##########################################################################| 1/1 [00:00<00:00, 34.17it/s]\n"
     ]
    },
    {
     "name": "stdout",
     "output_type": "stream",
     "text": [
      "a64acd59-b340-4b79-8881-c571813bf6d6\n",
      "sim calculated successfully\n",
      "\n",
      "740.479 0.3065 842.425\n",
      "0 existing calculation records provided\n"
     ]
    },
    {
     "name": "stderr",
     "output_type": "stream",
     "text": [
      "100%|█████████████████████████████████████████████████████████████████████████████████████| 1/1 [00:00<00:00,  4.30it/s]"
     ]
    },
    {
     "name": "stdout",
     "output_type": "stream",
     "text": [
      "1 calculation combinations to check\n",
      "1 new records to prepare\n"
     ]
    },
    {
     "name": "stderr",
     "output_type": "stream",
     "text": [
      "\n",
      "preparing: 100%|##########################################################################| 1/1 [00:00<00:00, 30.97it/s]\n"
     ]
    },
    {
     "name": "stdout",
     "output_type": "stream",
     "text": [
      "31731395-b7c5-4fc1-9fca-0e3d59ac7647\n",
      "sim calculated successfully\n",
      "\n",
      "727.368 0.9654 724.934\n",
      "0 existing calculation records provided\n"
     ]
    },
    {
     "name": "stderr",
     "output_type": "stream",
     "text": [
      "100%|█████████████████████████████████████████████████████████████████████████████████████| 1/1 [00:00<00:00,  2.71it/s]"
     ]
    },
    {
     "name": "stdout",
     "output_type": "stream",
     "text": [
      "1 calculation combinations to check\n",
      "1 new records to prepare\n"
     ]
    },
    {
     "name": "stderr",
     "output_type": "stream",
     "text": [
      "\n",
      "preparing: 100%|##########################################################################| 1/1 [00:00<00:00, 36.81it/s]\n"
     ]
    },
    {
     "name": "stdout",
     "output_type": "stream",
     "text": [
      "e803ab9c-9943-4626-8f16-7fecd4738ebf\n",
      "sim calculated successfully\n",
      "\n",
      "747.034 0.9109 748.029\n",
      "0 existing calculation records provided\n"
     ]
    },
    {
     "name": "stderr",
     "output_type": "stream",
     "text": [
      "100%|█████████████████████████████████████████████████████████████████████████████████████| 1/1 [00:00<00:00,  4.90it/s]"
     ]
    },
    {
     "name": "stdout",
     "output_type": "stream",
     "text": [
      "1 calculation combinations to check\n",
      "1 new records to prepare\n"
     ]
    },
    {
     "name": "stderr",
     "output_type": "stream",
     "text": [
      "\n",
      "preparing: 100%|##########################################################################| 1/1 [00:00<00:00, 43.22it/s]\n"
     ]
    },
    {
     "name": "stdout",
     "output_type": "stream",
     "text": [
      "8fa09f8f-51d2-4d85-a7d4-e67bb7635155\n",
      "sim calculated successfully\n",
      "\n",
      "756.866 0.4298 859.701\n",
      "0 existing calculation records provided\n"
     ]
    },
    {
     "name": "stderr",
     "output_type": "stream",
     "text": [
      "100%|█████████████████████████████████████████████████████████████████████████████████████| 1/1 [00:00<00:00,  4.40it/s]"
     ]
    },
    {
     "name": "stdout",
     "output_type": "stream",
     "text": [
      "1 calculation combinations to check\n",
      "1 new records to prepare\n"
     ]
    },
    {
     "name": "stderr",
     "output_type": "stream",
     "text": [
      "\n",
      "preparing: 100%|##########################################################################| 1/1 [00:00<00:00, 28.74it/s]\n"
     ]
    },
    {
     "name": "stdout",
     "output_type": "stream",
     "text": [
      "76737e6b-c6ef-43e1-bf81-cc594cf24d10\n",
      "sim calculated successfully\n",
      "\n",
      "756.866 0.5393 850.569\n",
      "0 existing calculation records provided\n"
     ]
    },
    {
     "name": "stderr",
     "output_type": "stream",
     "text": [
      "100%|█████████████████████████████████████████████████████████████████████████████████████| 1/1 [00:00<00:00,  4.56it/s]"
     ]
    },
    {
     "name": "stdout",
     "output_type": "stream",
     "text": [
      "1 calculation combinations to check\n",
      "1 new records to prepare\n"
     ]
    },
    {
     "name": "stderr",
     "output_type": "stream",
     "text": [
      "\n",
      "preparing: 100%|##########################################################################| 1/1 [00:00<00:00, 35.78it/s]\n"
     ]
    },
    {
     "name": "stdout",
     "output_type": "stream",
     "text": [
      "9a6caadf-a46d-4cd7-a6ab-7b57a96d9347\n",
      "sim calculated successfully\n",
      "\n",
      "756.866 0.2791 875.788\n",
      "0 existing calculation records provided\n"
     ]
    },
    {
     "name": "stderr",
     "output_type": "stream",
     "text": [
      "100%|█████████████████████████████████████████████████████████████████████████████████████| 1/1 [00:00<00:00,  4.73it/s]"
     ]
    },
    {
     "name": "stdout",
     "output_type": "stream",
     "text": [
      "1 calculation combinations to check\n",
      "1 new records to prepare\n"
     ]
    },
    {
     "name": "stderr",
     "output_type": "stream",
     "text": [
      "\n",
      "preparing: 100%|##########################################################################| 1/1 [00:00<00:00, 43.24it/s]\n"
     ]
    },
    {
     "name": "stdout",
     "output_type": "stream",
     "text": [
      "bdb12745-12d4-4fe5-9fef-1afb81d96cee\n",
      "sim calculated successfully\n",
      "\n",
      "751.950 0.1694 885.691\n",
      "0 existing calculation records provided\n"
     ]
    },
    {
     "name": "stderr",
     "output_type": "stream",
     "text": [
      "100%|█████████████████████████████████████████████████████████████████████████████████████| 1/1 [00:00<00:00,  4.78it/s]"
     ]
    },
    {
     "name": "stdout",
     "output_type": "stream",
     "text": [
      "1 calculation combinations to check\n",
      "1 new records to prepare\n"
     ]
    },
    {
     "name": "stderr",
     "output_type": "stream",
     "text": [
      "\n",
      "preparing: 100%|##########################################################################| 1/1 [00:00<00:00, 30.02it/s]\n"
     ]
    },
    {
     "name": "stdout",
     "output_type": "stream",
     "text": [
      "4a55985d-d6ba-4972-8ea5-f962eb492a95\n",
      "sim calculated successfully\n",
      "\n",
      "749.492 0.4678 851.423\n",
      "0 existing calculation records provided\n"
     ]
    },
    {
     "name": "stderr",
     "output_type": "stream",
     "text": [
      "100%|█████████████████████████████████████████████████████████████████████████████████████| 1/1 [00:00<00:00,  4.63it/s]"
     ]
    },
    {
     "name": "stdout",
     "output_type": "stream",
     "text": [
      "1 calculation combinations to check\n",
      "1 new records to prepare\n"
     ]
    },
    {
     "name": "stderr",
     "output_type": "stream",
     "text": [
      "\n",
      "preparing: 100%|##########################################################################| 1/1 [00:00<00:00, 26.43it/s]\n"
     ]
    },
    {
     "name": "stdout",
     "output_type": "stream",
     "text": [
      "e407f6e7-abd8-4684-9bb4-b2a36e5a1df7\n",
      "sim calculated successfully\n",
      "\n",
      "749.492 0.1846 874.102\n",
      "0 existing calculation records provided\n"
     ]
    },
    {
     "name": "stderr",
     "output_type": "stream",
     "text": [
      "100%|█████████████████████████████████████████████████████████████████████████████████████| 1/1 [00:00<00:00,  4.78it/s]"
     ]
    },
    {
     "name": "stdout",
     "output_type": "stream",
     "text": [
      "1 calculation combinations to check\n",
      "1 new records to prepare\n"
     ]
    },
    {
     "name": "stderr",
     "output_type": "stream",
     "text": [
      "\n",
      "preparing: 100%|##########################################################################| 1/1 [00:00<00:00, 27.88it/s]\n"
     ]
    },
    {
     "name": "stdout",
     "output_type": "stream",
     "text": [
      "c2ad43e2-2158-452f-824d-edf30c6eec68\n",
      "sim calculated successfully\n",
      "\n",
      "748.263 0.1486 882.521\n",
      "0 existing calculation records provided\n"
     ]
    },
    {
     "name": "stderr",
     "output_type": "stream",
     "text": [
      "100%|█████████████████████████████████████████████████████████████████████████████████████| 1/1 [00:00<00:00,  4.75it/s]"
     ]
    },
    {
     "name": "stdout",
     "output_type": "stream",
     "text": [
      "1 calculation combinations to check\n",
      "1 new records to prepare\n"
     ]
    },
    {
     "name": "stderr",
     "output_type": "stream",
     "text": [
      "\n",
      "preparing: 100%|##########################################################################| 1/1 [00:00<00:00, 44.41it/s]\n"
     ]
    },
    {
     "name": "stdout",
     "output_type": "stream",
     "text": [
      "77dbe475-b280-47ee-a7db-baf361c19ef4\n",
      "sim calculated successfully\n",
      "\n",
      "747.648 0.4758 845.133\n",
      "0 existing calculation records provided\n"
     ]
    },
    {
     "name": "stderr",
     "output_type": "stream",
     "text": [
      "100%|█████████████████████████████████████████████████████████████████████████████████████| 1/1 [00:00<00:00,  2.88it/s]"
     ]
    },
    {
     "name": "stdout",
     "output_type": "stream",
     "text": [
      "1 calculation combinations to check\n",
      "1 new records to prepare\n"
     ]
    },
    {
     "name": "stderr",
     "output_type": "stream",
     "text": [
      "\n",
      "preparing: 100%|##########################################################################| 1/1 [00:00<00:00, 47.57it/s]\n"
     ]
    },
    {
     "name": "stdout",
     "output_type": "stream",
     "text": [
      "d404a791-5378-4b4d-9fa8-a4861127f788\n",
      "sim calculated successfully\n",
      "\n",
      "747.648 0.5682 832.218\n",
      "0 existing calculation records provided\n"
     ]
    },
    {
     "name": "stderr",
     "output_type": "stream",
     "text": [
      "100%|█████████████████████████████████████████████████████████████████████████████████████| 1/1 [00:00<00:00,  2.71it/s]"
     ]
    },
    {
     "name": "stdout",
     "output_type": "stream",
     "text": [
      "1 calculation combinations to check\n",
      "1 new records to prepare\n"
     ]
    },
    {
     "name": "stderr",
     "output_type": "stream",
     "text": [
      "\n",
      "preparing: 100%|##########################################################################| 1/1 [00:00<00:00, 43.53it/s]\n"
     ]
    },
    {
     "name": "stdout",
     "output_type": "stream",
     "text": [
      "5542c674-c31e-4d7a-b186-fdea15ea373b\n",
      "sim calculated successfully\n",
      "\n",
      "747.648 0.6355 825.998\n",
      "196 2021--Wen-M--Fe-H--LAMMPS--ipr1\n",
      "0 existing calculation records provided\n"
     ]
    },
    {
     "name": "stderr",
     "output_type": "stream",
     "text": [
      "100%|█████████████████████████████████████████████████████████████████████████████████████| 1/1 [00:00<00:00,  2.77it/s]"
     ]
    },
    {
     "name": "stdout",
     "output_type": "stream",
     "text": [
      "1 calculation combinations to check\n",
      "1 new records to prepare\n"
     ]
    },
    {
     "name": "stderr",
     "output_type": "stream",
     "text": [
      "\n",
      "preparing: 100%|##########################################################################| 1/1 [00:00<00:00, 52.24it/s]\n"
     ]
    },
    {
     "name": "stdout",
     "output_type": "stream",
     "text": [
      "53b1adec-1905-4c6b-b723-7a6579e69efc\n",
      "error: \n",
      "0 existing calculation records provided\n"
     ]
    },
    {
     "name": "stderr",
     "output_type": "stream",
     "text": [
      "100%|█████████████████████████████████████████████████████████████████████████████████████| 1/1 [00:00<00:00,  4.15it/s]"
     ]
    },
    {
     "name": "stdout",
     "output_type": "stream",
     "text": [
      "1 calculation combinations to check\n",
      "1 new records to prepare\n"
     ]
    },
    {
     "name": "stderr",
     "output_type": "stream",
     "text": [
      "\n",
      "preparing: 100%|##########################################################################| 1/1 [00:00<00:00, 39.45it/s]\n"
     ]
    },
    {
     "name": "stdout",
     "output_type": "stream",
     "text": [
      "86e38a3e-b62b-405c-8d22-8610066ebf51\n",
      "error: \n",
      "0 existing calculation records provided\n"
     ]
    },
    {
     "name": "stderr",
     "output_type": "stream",
     "text": [
      "100%|█████████████████████████████████████████████████████████████████████████████████████| 1/1 [00:00<00:00,  4.07it/s]"
     ]
    },
    {
     "name": "stdout",
     "output_type": "stream",
     "text": [
      "1 calculation combinations to check\n",
      "1 new records to prepare\n"
     ]
    },
    {
     "name": "stderr",
     "output_type": "stream",
     "text": [
      "\n",
      "preparing: 100%|##########################################################################| 1/1 [00:00<00:00, 40.71it/s]\n"
     ]
    },
    {
     "name": "stdout",
     "output_type": "stream",
     "text": [
      "6c214459-a287-4815-b37a-ca87e376bd57\n",
      "error: \n",
      "0 existing calculation records provided\n"
     ]
    },
    {
     "name": "stderr",
     "output_type": "stream",
     "text": [
      "100%|█████████████████████████████████████████████████████████████████████████████████████| 1/1 [00:00<00:00,  4.19it/s]"
     ]
    },
    {
     "name": "stdout",
     "output_type": "stream",
     "text": [
      "1 calculation combinations to check\n",
      "1 new records to prepare\n"
     ]
    },
    {
     "name": "stderr",
     "output_type": "stream",
     "text": [
      "\n",
      "preparing: 100%|##########################################################################| 1/1 [00:00<00:00, 41.15it/s]\n"
     ]
    },
    {
     "name": "stdout",
     "output_type": "stream",
     "text": [
      "675dfaf2-818a-4764-9bd4-b240522eb191\n",
      "error: \n",
      "0 existing calculation records provided\n"
     ]
    },
    {
     "name": "stderr",
     "output_type": "stream",
     "text": [
      "100%|█████████████████████████████████████████████████████████████████████████████████████| 1/1 [00:00<00:00,  4.70it/s]"
     ]
    },
    {
     "name": "stdout",
     "output_type": "stream",
     "text": [
      "1 calculation combinations to check\n",
      "1 new records to prepare\n"
     ]
    },
    {
     "name": "stderr",
     "output_type": "stream",
     "text": [
      "\n",
      "preparing: 100%|##########################################################################| 1/1 [00:00<00:00, 48.41it/s]\n"
     ]
    },
    {
     "name": "stdout",
     "output_type": "stream",
     "text": [
      "71804dee-4420-4111-b4b4-7c4bcb554b57\n",
      "error: \n",
      "0 existing calculation records provided\n"
     ]
    },
    {
     "name": "stderr",
     "output_type": "stream",
     "text": [
      "100%|█████████████████████████████████████████████████████████████████████████████████████| 1/1 [00:00<00:00,  4.49it/s]"
     ]
    },
    {
     "name": "stdout",
     "output_type": "stream",
     "text": [
      "1 calculation combinations to check\n",
      "1 new records to prepare\n"
     ]
    },
    {
     "name": "stderr",
     "output_type": "stream",
     "text": [
      "\n",
      "preparing: 100%|##########################################################################| 1/1 [00:00<00:00, 46.68it/s]\n"
     ]
    },
    {
     "name": "stdout",
     "output_type": "stream",
     "text": [
      "ec6aef49-2988-43a4-aa24-809eb205fb0a\n",
      "error: \n",
      "0 existing calculation records provided\n"
     ]
    },
    {
     "name": "stderr",
     "output_type": "stream",
     "text": [
      "100%|█████████████████████████████████████████████████████████████████████████████████████| 1/1 [00:00<00:00,  4.27it/s]"
     ]
    },
    {
     "name": "stdout",
     "output_type": "stream",
     "text": [
      "1 calculation combinations to check\n",
      "1 new records to prepare\n"
     ]
    },
    {
     "name": "stderr",
     "output_type": "stream",
     "text": [
      "\n",
      "preparing: 100%|##########################################################################| 1/1 [00:00<00:00, 41.93it/s]\n"
     ]
    },
    {
     "name": "stdout",
     "output_type": "stream",
     "text": [
      "208a8f27-4f12-4609-a0a5-1f9df0ef6d3d\n",
      "error: \n",
      "0 existing calculation records provided\n"
     ]
    },
    {
     "name": "stderr",
     "output_type": "stream",
     "text": [
      "100%|█████████████████████████████████████████████████████████████████████████████████████| 1/1 [00:00<00:00,  4.08it/s]"
     ]
    },
    {
     "name": "stdout",
     "output_type": "stream",
     "text": [
      "1 calculation combinations to check\n",
      "1 new records to prepare\n"
     ]
    },
    {
     "name": "stderr",
     "output_type": "stream",
     "text": [
      "\n",
      "preparing: 100%|##########################################################################| 1/1 [00:00<00:00, 40.58it/s]\n"
     ]
    },
    {
     "name": "stdout",
     "output_type": "stream",
     "text": [
      "4aa13d58-d36e-4295-aa6a-087af287f026\n",
      "error: \n",
      "0 existing calculation records provided\n"
     ]
    },
    {
     "name": "stderr",
     "output_type": "stream",
     "text": [
      "100%|█████████████████████████████████████████████████████████████████████████████████████| 1/1 [00:00<00:00,  4.06it/s]"
     ]
    },
    {
     "name": "stdout",
     "output_type": "stream",
     "text": [
      "1 calculation combinations to check\n",
      "1 new records to prepare\n"
     ]
    },
    {
     "name": "stderr",
     "output_type": "stream",
     "text": [
      "\n",
      "preparing: 100%|##########################################################################| 1/1 [00:00<00:00, 39.06it/s]\n"
     ]
    },
    {
     "name": "stdout",
     "output_type": "stream",
     "text": [
      "1cacddeb-5ce1-4fbb-8923-459676532e7c\n",
      "error: \n",
      "0 existing calculation records provided\n"
     ]
    },
    {
     "name": "stderr",
     "output_type": "stream",
     "text": [
      "100%|█████████████████████████████████████████████████████████████████████████████████████| 1/1 [00:00<00:00,  4.32it/s]"
     ]
    },
    {
     "name": "stdout",
     "output_type": "stream",
     "text": [
      "1 calculation combinations to check\n",
      "1 new records to prepare\n"
     ]
    },
    {
     "name": "stderr",
     "output_type": "stream",
     "text": [
      "\n",
      "preparing: 100%|##########################################################################| 1/1 [00:00<00:00, 42.66it/s]\n"
     ]
    },
    {
     "name": "stdout",
     "output_type": "stream",
     "text": [
      "f0741fd9-cb4b-415c-9070-f7e8649e2028\n",
      "error: \n",
      "0 existing calculation records provided\n"
     ]
    },
    {
     "name": "stderr",
     "output_type": "stream",
     "text": [
      "100%|█████████████████████████████████████████████████████████████████████████████████████| 1/1 [00:00<00:00,  4.35it/s]"
     ]
    },
    {
     "name": "stdout",
     "output_type": "stream",
     "text": [
      "1 calculation combinations to check\n",
      "1 new records to prepare\n"
     ]
    },
    {
     "name": "stderr",
     "output_type": "stream",
     "text": [
      "\n",
      "preparing: 100%|##########################################################################| 1/1 [00:00<00:00, 38.49it/s]\n"
     ]
    },
    {
     "name": "stdout",
     "output_type": "stream",
     "text": [
      "28b46675-33bc-4eef-8e1b-71c72245ae3b\n",
      "error: \n",
      "0 existing calculation records provided\n"
     ]
    },
    {
     "name": "stderr",
     "output_type": "stream",
     "text": [
      "100%|█████████████████████████████████████████████████████████████████████████████████████| 1/1 [00:00<00:00,  3.94it/s]"
     ]
    },
    {
     "name": "stdout",
     "output_type": "stream",
     "text": [
      "1 calculation combinations to check\n",
      "1 new records to prepare\n"
     ]
    },
    {
     "name": "stderr",
     "output_type": "stream",
     "text": [
      "\n",
      "preparing: 100%|##########################################################################| 1/1 [00:00<00:00, 38.32it/s]\n"
     ]
    },
    {
     "name": "stdout",
     "output_type": "stream",
     "text": [
      "bac15bbe-10af-4293-b0eb-3d1b6b11d381\n",
      "error: \n",
      "0 existing calculation records provided\n"
     ]
    },
    {
     "name": "stderr",
     "output_type": "stream",
     "text": [
      "100%|█████████████████████████████████████████████████████████████████████████████████████| 1/1 [00:00<00:00,  4.08it/s]"
     ]
    },
    {
     "name": "stdout",
     "output_type": "stream",
     "text": [
      "1 calculation combinations to check\n",
      "1 new records to prepare\n"
     ]
    },
    {
     "name": "stderr",
     "output_type": "stream",
     "text": [
      "\n",
      "preparing: 100%|##########################################################################| 1/1 [00:00<00:00, 39.00it/s]\n"
     ]
    },
    {
     "name": "stdout",
     "output_type": "stream",
     "text": [
      "1c1e3d95-63d8-47e6-9958-18a517956ca2\n",
      "error: \n",
      "0 existing calculation records provided\n"
     ]
    },
    {
     "name": "stderr",
     "output_type": "stream",
     "text": [
      "100%|█████████████████████████████████████████████████████████████████████████████████████| 1/1 [00:00<00:00,  4.40it/s]"
     ]
    },
    {
     "name": "stdout",
     "output_type": "stream",
     "text": [
      "1 calculation combinations to check\n",
      "1 new records to prepare\n"
     ]
    },
    {
     "name": "stderr",
     "output_type": "stream",
     "text": [
      "\n",
      "preparing: 100%|##########################################################################| 1/1 [00:00<00:00, 40.27it/s]\n"
     ]
    },
    {
     "name": "stdout",
     "output_type": "stream",
     "text": [
      "a09e06b2-a6b0-4a17-adf1-350520198cb7\n",
      "error: \n",
      "0 existing calculation records provided\n"
     ]
    },
    {
     "name": "stderr",
     "output_type": "stream",
     "text": [
      "100%|█████████████████████████████████████████████████████████████████████████████████████| 1/1 [00:00<00:00,  4.24it/s]"
     ]
    },
    {
     "name": "stdout",
     "output_type": "stream",
     "text": [
      "1 calculation combinations to check\n",
      "1 new records to prepare\n"
     ]
    },
    {
     "name": "stderr",
     "output_type": "stream",
     "text": [
      "\n",
      "preparing: 100%|##########################################################################| 1/1 [00:00<00:00, 43.15it/s]\n"
     ]
    },
    {
     "name": "stdout",
     "output_type": "stream",
     "text": [
      "da31b967-30f4-43c4-9490-0d07a2943298\n",
      "error: \n",
      "0 existing calculation records provided\n"
     ]
    },
    {
     "name": "stderr",
     "output_type": "stream",
     "text": [
      "100%|█████████████████████████████████████████████████████████████████████████████████████| 1/1 [00:00<00:00,  4.28it/s]"
     ]
    },
    {
     "name": "stdout",
     "output_type": "stream",
     "text": [
      "1 calculation combinations to check\n",
      "1 new records to prepare\n"
     ]
    },
    {
     "name": "stderr",
     "output_type": "stream",
     "text": [
      "\n",
      "preparing: 100%|##########################################################################| 1/1 [00:00<00:00, 40.20it/s]\n"
     ]
    },
    {
     "name": "stdout",
     "output_type": "stream",
     "text": [
      "9449f47a-ed20-4cc0-a099-492afa3ce94a\n",
      "error: \n",
      "0 existing calculation records provided\n"
     ]
    },
    {
     "name": "stderr",
     "output_type": "stream",
     "text": [
      "100%|█████████████████████████████████████████████████████████████████████████████████████| 1/1 [00:00<00:00,  4.28it/s]"
     ]
    },
    {
     "name": "stdout",
     "output_type": "stream",
     "text": [
      "1 calculation combinations to check\n",
      "1 new records to prepare\n"
     ]
    },
    {
     "name": "stderr",
     "output_type": "stream",
     "text": [
      "\n",
      "preparing: 100%|##########################################################################| 1/1 [00:00<00:00, 43.78it/s]\n"
     ]
    },
    {
     "name": "stdout",
     "output_type": "stream",
     "text": [
      "bdd2271a-948b-4f3c-8833-1fc90222309b\n",
      "error: \n",
      "0 existing calculation records provided\n"
     ]
    },
    {
     "name": "stderr",
     "output_type": "stream",
     "text": [
      "100%|█████████████████████████████████████████████████████████████████████████████████████| 1/1 [00:00<00:00,  4.32it/s]"
     ]
    },
    {
     "name": "stdout",
     "output_type": "stream",
     "text": [
      "1 calculation combinations to check\n",
      "1 new records to prepare\n"
     ]
    },
    {
     "name": "stderr",
     "output_type": "stream",
     "text": [
      "\n",
      "preparing: 100%|##########################################################################| 1/1 [00:00<00:00, 36.22it/s]\n"
     ]
    },
    {
     "name": "stdout",
     "output_type": "stream",
     "text": [
      "6bc49402-11d2-401e-a6a8-4971425f0464\n",
      "error: \n",
      "0 existing calculation records provided\n"
     ]
    },
    {
     "name": "stderr",
     "output_type": "stream",
     "text": [
      "100%|█████████████████████████████████████████████████████████████████████████████████████| 1/1 [00:00<00:00,  4.30it/s]"
     ]
    },
    {
     "name": "stdout",
     "output_type": "stream",
     "text": [
      "1 calculation combinations to check\n",
      "1 new records to prepare\n"
     ]
    },
    {
     "name": "stderr",
     "output_type": "stream",
     "text": [
      "\n",
      "preparing: 100%|##########################################################################| 1/1 [00:00<00:00, 39.24it/s]\n"
     ]
    },
    {
     "name": "stdout",
     "output_type": "stream",
     "text": [
      "8221f0de-3500-42e3-b5ad-ba9cdcd1f9a5\n",
      "error: \n",
      "0 existing calculation records provided\n"
     ]
    },
    {
     "name": "stderr",
     "output_type": "stream",
     "text": [
      "100%|█████████████████████████████████████████████████████████████████████████████████████| 1/1 [00:00<00:00,  3.79it/s]"
     ]
    },
    {
     "name": "stdout",
     "output_type": "stream",
     "text": [
      "1 calculation combinations to check\n",
      "1 new records to prepare\n"
     ]
    },
    {
     "name": "stderr",
     "output_type": "stream",
     "text": [
      "\n",
      "preparing: 100%|##########################################################################| 1/1 [00:00<00:00, 34.12it/s]\n"
     ]
    },
    {
     "name": "stdout",
     "output_type": "stream",
     "text": [
      "0c164303-12c2-47e4-ac65-809c8fe2ffbf\n",
      "error: \n",
      "0 existing calculation records provided\n"
     ]
    },
    {
     "name": "stderr",
     "output_type": "stream",
     "text": [
      "100%|█████████████████████████████████████████████████████████████████████████████████████| 1/1 [00:00<00:00,  4.33it/s]"
     ]
    },
    {
     "name": "stdout",
     "output_type": "stream",
     "text": [
      "1 calculation combinations to check\n",
      "1 new records to prepare\n"
     ]
    },
    {
     "name": "stderr",
     "output_type": "stream",
     "text": [
      "\n",
      "preparing: 100%|##########################################################################| 1/1 [00:00<00:00, 50.51it/s]\n"
     ]
    },
    {
     "name": "stdout",
     "output_type": "stream",
     "text": [
      "552a3e2a-24d8-4483-a18b-d5df4a6e944c\n",
      "error: \n",
      "0 existing calculation records provided\n"
     ]
    },
    {
     "name": "stderr",
     "output_type": "stream",
     "text": [
      "100%|█████████████████████████████████████████████████████████████████████████████████████| 1/1 [00:00<00:00,  4.07it/s]"
     ]
    },
    {
     "name": "stdout",
     "output_type": "stream",
     "text": [
      "1 calculation combinations to check\n",
      "1 new records to prepare\n"
     ]
    },
    {
     "name": "stderr",
     "output_type": "stream",
     "text": [
      "\n",
      "preparing: 100%|##########################################################################| 1/1 [00:00<00:00, 31.44it/s]\n"
     ]
    },
    {
     "name": "stdout",
     "output_type": "stream",
     "text": [
      "45b7798e-8c59-465d-9f67-a5b87ddb760b\n",
      "error: \n",
      "0 existing calculation records provided\n"
     ]
    },
    {
     "name": "stderr",
     "output_type": "stream",
     "text": [
      "100%|█████████████████████████████████████████████████████████████████████████████████████| 1/1 [00:00<00:00,  4.14it/s]"
     ]
    },
    {
     "name": "stdout",
     "output_type": "stream",
     "text": [
      "1 calculation combinations to check\n",
      "1 new records to prepare\n"
     ]
    },
    {
     "name": "stderr",
     "output_type": "stream",
     "text": [
      "\n",
      "preparing: 100%|##########################################################################| 1/1 [00:00<00:00, 34.28it/s]\n"
     ]
    },
    {
     "name": "stdout",
     "output_type": "stream",
     "text": [
      "2545d989-fcf1-4ede-9e4e-1c93b9cc8098\n",
      "error: \n",
      "0 existing calculation records provided\n"
     ]
    },
    {
     "name": "stderr",
     "output_type": "stream",
     "text": [
      "100%|█████████████████████████████████████████████████████████████████████████████████████| 1/1 [00:00<00:00,  4.11it/s]"
     ]
    },
    {
     "name": "stdout",
     "output_type": "stream",
     "text": [
      "1 calculation combinations to check\n",
      "1 new records to prepare\n"
     ]
    },
    {
     "name": "stderr",
     "output_type": "stream",
     "text": [
      "\n",
      "preparing: 100%|##########################################################################| 1/1 [00:00<00:00, 40.71it/s]\n"
     ]
    },
    {
     "name": "stdout",
     "output_type": "stream",
     "text": [
      "b412bec8-daa5-4226-a4b3-8f72f22cbc18\n",
      "error: \n",
      "0 existing calculation records provided\n"
     ]
    },
    {
     "name": "stderr",
     "output_type": "stream",
     "text": [
      "100%|█████████████████████████████████████████████████████████████████████████████████████| 1/1 [00:00<00:00,  4.38it/s]"
     ]
    },
    {
     "name": "stdout",
     "output_type": "stream",
     "text": [
      "1 calculation combinations to check\n",
      "1 new records to prepare\n"
     ]
    },
    {
     "name": "stderr",
     "output_type": "stream",
     "text": [
      "\n",
      "preparing: 100%|##########################################################################| 1/1 [00:00<00:00, 37.05it/s]\n"
     ]
    },
    {
     "name": "stdout",
     "output_type": "stream",
     "text": [
      "2b165a0d-fb9f-479b-bed5-d3f5be4e7cbf\n",
      "error: \n",
      "0 existing calculation records provided\n"
     ]
    },
    {
     "name": "stderr",
     "output_type": "stream",
     "text": [
      "100%|█████████████████████████████████████████████████████████████████████████████████████| 1/1 [00:00<00:00,  4.14it/s]"
     ]
    },
    {
     "name": "stdout",
     "output_type": "stream",
     "text": [
      "1 calculation combinations to check\n",
      "1 new records to prepare\n"
     ]
    },
    {
     "name": "stderr",
     "output_type": "stream",
     "text": [
      "\n",
      "preparing: 100%|##########################################################################| 1/1 [00:00<00:00, 42.56it/s]\n"
     ]
    },
    {
     "name": "stdout",
     "output_type": "stream",
     "text": [
      "1e0ada8f-0e53-4053-a90d-93da98edcb7e\n",
      "error: \n",
      "0 existing calculation records provided\n"
     ]
    },
    {
     "name": "stderr",
     "output_type": "stream",
     "text": [
      "100%|█████████████████████████████████████████████████████████████████████████████████████| 1/1 [00:00<00:00,  3.97it/s]"
     ]
    },
    {
     "name": "stdout",
     "output_type": "stream",
     "text": [
      "1 calculation combinations to check\n",
      "1 new records to prepare\n"
     ]
    },
    {
     "name": "stderr",
     "output_type": "stream",
     "text": [
      "\n",
      "preparing: 100%|##########################################################################| 1/1 [00:00<00:00, 40.76it/s]\n"
     ]
    },
    {
     "name": "stdout",
     "output_type": "stream",
     "text": [
      "6fde1c83-ac5b-43e2-a1e1-f3e93bac1c3b\n",
      "error: \n",
      "0 existing calculation records provided\n"
     ]
    },
    {
     "name": "stderr",
     "output_type": "stream",
     "text": [
      "100%|█████████████████████████████████████████████████████████████████████████████████████| 1/1 [00:00<00:00,  4.03it/s]"
     ]
    },
    {
     "name": "stdout",
     "output_type": "stream",
     "text": [
      "1 calculation combinations to check\n",
      "1 new records to prepare\n"
     ]
    },
    {
     "name": "stderr",
     "output_type": "stream",
     "text": [
      "\n",
      "preparing: 100%|##########################################################################| 1/1 [00:00<00:00, 40.65it/s]\n"
     ]
    },
    {
     "name": "stdout",
     "output_type": "stream",
     "text": [
      "0d10f3f7-baf6-4c01-8177-831467a91831\n",
      "error: \n",
      "0 existing calculation records provided\n"
     ]
    },
    {
     "name": "stderr",
     "output_type": "stream",
     "text": [
      "100%|█████████████████████████████████████████████████████████████████████████████████████| 1/1 [00:00<00:00,  4.34it/s]"
     ]
    },
    {
     "name": "stdout",
     "output_type": "stream",
     "text": [
      "1 calculation combinations to check\n",
      "1 new records to prepare\n"
     ]
    },
    {
     "name": "stderr",
     "output_type": "stream",
     "text": [
      "\n",
      "preparing: 100%|##########################################################################| 1/1 [00:00<00:00, 44.20it/s]\n"
     ]
    },
    {
     "name": "stdout",
     "output_type": "stream",
     "text": [
      "8e682f6e-8dba-4647-be8b-e9887a80e868\n",
      "error: \n",
      "0 existing calculation records provided\n"
     ]
    },
    {
     "name": "stderr",
     "output_type": "stream",
     "text": [
      "100%|█████████████████████████████████████████████████████████████████████████████████████| 1/1 [00:00<00:00,  4.36it/s]"
     ]
    },
    {
     "name": "stdout",
     "output_type": "stream",
     "text": [
      "1 calculation combinations to check\n",
      "1 new records to prepare\n"
     ]
    },
    {
     "name": "stderr",
     "output_type": "stream",
     "text": [
      "\n",
      "preparing: 100%|##########################################################################| 1/1 [00:00<00:00, 31.85it/s]\n"
     ]
    },
    {
     "name": "stdout",
     "output_type": "stream",
     "text": [
      "14775913-37e4-487d-96e9-fa865cd13598\n",
      "error: \n",
      "0 existing calculation records provided\n"
     ]
    },
    {
     "name": "stderr",
     "output_type": "stream",
     "text": [
      "100%|█████████████████████████████████████████████████████████████████████████████████████| 1/1 [00:00<00:00,  4.68it/s]"
     ]
    },
    {
     "name": "stdout",
     "output_type": "stream",
     "text": [
      "1 calculation combinations to check\n",
      "1 new records to prepare\n"
     ]
    },
    {
     "name": "stderr",
     "output_type": "stream",
     "text": [
      "\n",
      "preparing: 100%|##########################################################################| 1/1 [00:00<00:00, 45.22it/s]\n"
     ]
    },
    {
     "name": "stdout",
     "output_type": "stream",
     "text": [
      "e277180f-8796-45ae-92f6-f2aeb3ae16d6\n",
      "error: \n",
      "0 existing calculation records provided\n"
     ]
    },
    {
     "name": "stderr",
     "output_type": "stream",
     "text": [
      "100%|█████████████████████████████████████████████████████████████████████████████████████| 1/1 [00:00<00:00,  4.64it/s]"
     ]
    },
    {
     "name": "stdout",
     "output_type": "stream",
     "text": [
      "1 calculation combinations to check\n",
      "1 new records to prepare\n"
     ]
    },
    {
     "name": "stderr",
     "output_type": "stream",
     "text": [
      "\n",
      "preparing: 100%|##########################################################################| 1/1 [00:00<00:00, 41.53it/s]\n"
     ]
    },
    {
     "name": "stdout",
     "output_type": "stream",
     "text": [
      "7e7a134a-de43-40b4-8bea-83c7a2660ea7\n",
      "error: \n",
      "0 existing calculation records provided\n"
     ]
    },
    {
     "name": "stderr",
     "output_type": "stream",
     "text": [
      "100%|█████████████████████████████████████████████████████████████████████████████████████| 1/1 [00:00<00:00,  4.25it/s]"
     ]
    },
    {
     "name": "stdout",
     "output_type": "stream",
     "text": [
      "1 calculation combinations to check\n",
      "1 new records to prepare\n"
     ]
    },
    {
     "name": "stderr",
     "output_type": "stream",
     "text": [
      "\n",
      "preparing: 100%|##########################################################################| 1/1 [00:00<00:00, 35.94it/s]\n"
     ]
    },
    {
     "name": "stdout",
     "output_type": "stream",
     "text": [
      "700fcb45-204d-4be6-b056-f06ba79624e5\n",
      "error: \n",
      "0 existing calculation records provided\n"
     ]
    },
    {
     "name": "stderr",
     "output_type": "stream",
     "text": [
      "100%|█████████████████████████████████████████████████████████████████████████████████████| 1/1 [00:00<00:00,  4.35it/s]"
     ]
    },
    {
     "name": "stdout",
     "output_type": "stream",
     "text": [
      "1 calculation combinations to check\n",
      "1 new records to prepare\n"
     ]
    },
    {
     "name": "stderr",
     "output_type": "stream",
     "text": [
      "\n",
      "preparing: 100%|##########################################################################| 1/1 [00:00<00:00, 31.64it/s]\n"
     ]
    },
    {
     "name": "stdout",
     "output_type": "stream",
     "text": [
      "2e7975c4-85a3-40b8-96cd-bf1a070f105b\n",
      "error: \n",
      "0 existing calculation records provided\n"
     ]
    },
    {
     "name": "stderr",
     "output_type": "stream",
     "text": [
      "100%|█████████████████████████████████████████████████████████████████████████████████████| 1/1 [00:00<00:00,  4.10it/s]"
     ]
    },
    {
     "name": "stdout",
     "output_type": "stream",
     "text": [
      "1 calculation combinations to check\n",
      "1 new records to prepare\n"
     ]
    },
    {
     "name": "stderr",
     "output_type": "stream",
     "text": [
      "\n",
      "preparing: 100%|##########################################################################| 1/1 [00:00<00:00, 44.41it/s]\n"
     ]
    },
    {
     "name": "stdout",
     "output_type": "stream",
     "text": [
      "120c6091-0f83-4852-942c-3d5458a4b8d2\n",
      "error: \n",
      "Max number of runs reached!\n",
      "195 2021--Wen-M--Fe-H--LAMMPS--ipr1\n",
      "0 existing calculation records provided\n"
     ]
    },
    {
     "name": "stderr",
     "output_type": "stream",
     "text": [
      "100%|█████████████████████████████████████████████████████████████████████████████████████| 1/1 [00:00<00:00,  4.13it/s]"
     ]
    },
    {
     "name": "stdout",
     "output_type": "stream",
     "text": [
      "1 calculation combinations to check\n",
      "1 new records to prepare\n"
     ]
    },
    {
     "name": "stderr",
     "output_type": "stream",
     "text": [
      "\n",
      "preparing: 100%|##########################################################################| 1/1 [00:00<00:00, 53.86it/s]\n"
     ]
    },
    {
     "name": "stdout",
     "output_type": "stream",
     "text": [
      "3adb8b53-2390-43b6-a38e-d111139f6e1b\n",
      "sim calculated successfully\n",
      "\n",
      "4525.000 0.008255 4313.396\n",
      "0 existing calculation records provided\n"
     ]
    },
    {
     "name": "stderr",
     "output_type": "stream",
     "text": [
      "100%|█████████████████████████████████████████████████████████████████████████████████████| 1/1 [00:00<00:00,  4.20it/s]"
     ]
    },
    {
     "name": "stdout",
     "output_type": "stream",
     "text": [
      "1 calculation combinations to check\n",
      "1 new records to prepare\n"
     ]
    },
    {
     "name": "stderr",
     "output_type": "stream",
     "text": [
      "\n",
      "preparing: 100%|##########################################################################| 1/1 [00:00<00:00, 39.55it/s]\n"
     ]
    },
    {
     "name": "stdout",
     "output_type": "stream",
     "text": [
      "94b7b9a0-76ce-482e-b580-238abd6ea4fa\n",
      "sim calculated successfully\n",
      "\n",
      "2287.500 0.001107 2252.594\n",
      "0 existing calculation records provided\n"
     ]
    },
    {
     "name": "stderr",
     "output_type": "stream",
     "text": [
      "100%|█████████████████████████████████████████████████████████████████████████████████████| 1/1 [00:00<00:00,  4.66it/s]"
     ]
    },
    {
     "name": "stdout",
     "output_type": "stream",
     "text": [
      "1 calculation combinations to check\n",
      "1 new records to prepare\n"
     ]
    },
    {
     "name": "stderr",
     "output_type": "stream",
     "text": [
      "\n",
      "preparing: 100%|##########################################################################| 1/1 [00:00<00:00, 52.32it/s]\n"
     ]
    },
    {
     "name": "stdout",
     "output_type": "stream",
     "text": [
      "3ee56604-3e51-40ca-9930-004e051e8c95\n",
      "sim calculated successfully\n",
      "\n",
      "1168.750 0.2974 1186.426\n",
      "0 existing calculation records provided\n"
     ]
    },
    {
     "name": "stderr",
     "output_type": "stream",
     "text": [
      "100%|█████████████████████████████████████████████████████████████████████████████████████| 1/1 [00:00<00:00,  4.32it/s]"
     ]
    },
    {
     "name": "stdout",
     "output_type": "stream",
     "text": [
      "1 calculation combinations to check\n",
      "1 new records to prepare\n"
     ]
    },
    {
     "name": "stderr",
     "output_type": "stream",
     "text": [
      "\n",
      "preparing: 100%|##########################################################################| 1/1 [00:00<00:00, 28.14it/s]\n"
     ]
    },
    {
     "name": "stdout",
     "output_type": "stream",
     "text": [
      "ae568366-9386-4cda-b6de-f5f4800a4e9a\n",
      "sim calculated successfully\n",
      "\n",
      "609.375 0.3814 613.346\n",
      "0 existing calculation records provided\n"
     ]
    },
    {
     "name": "stderr",
     "output_type": "stream",
     "text": [
      "100%|█████████████████████████████████████████████████████████████████████████████████████| 1/1 [00:00<00:00,  4.29it/s]"
     ]
    },
    {
     "name": "stdout",
     "output_type": "stream",
     "text": [
      "1 calculation combinations to check\n",
      "1 new records to prepare\n"
     ]
    },
    {
     "name": "stderr",
     "output_type": "stream",
     "text": [
      "\n",
      "preparing: 100%|##########################################################################| 1/1 [00:00<00:00, 32.56it/s]\n"
     ]
    },
    {
     "name": "stdout",
     "output_type": "stream",
     "text": [
      "9ea20369-f426-4d75-9a8b-2f9efee7b85e\n",
      "sim calculated successfully\n",
      "\n",
      "329.688 0.4303 328.981\n",
      "0 existing calculation records provided\n"
     ]
    },
    {
     "name": "stderr",
     "output_type": "stream",
     "text": [
      "100%|█████████████████████████████████████████████████████████████████████████████████████| 1/1 [00:00<00:00,  4.35it/s]"
     ]
    },
    {
     "name": "stdout",
     "output_type": "stream",
     "text": [
      "1 calculation combinations to check\n",
      "1 new records to prepare\n"
     ]
    },
    {
     "name": "stderr",
     "output_type": "stream",
     "text": [
      "\n",
      "preparing: 100%|##########################################################################| 1/1 [00:00<00:00, 60.97it/s]\n"
     ]
    },
    {
     "name": "stdout",
     "output_type": "stream",
     "text": [
      "25353248-f9fc-49ef-bb47-80173a24f0ab\n",
      "sim calculated successfully\n",
      "\n",
      "329.688 0.3996 330.101\n",
      "0 existing calculation records provided\n"
     ]
    },
    {
     "name": "stderr",
     "output_type": "stream",
     "text": [
      "100%|█████████████████████████████████████████████████████████████████████████████████████| 1/1 [00:00<00:00,  4.15it/s]"
     ]
    },
    {
     "name": "stdout",
     "output_type": "stream",
     "text": [
      "1 calculation combinations to check\n",
      "1 new records to prepare\n"
     ]
    },
    {
     "name": "stderr",
     "output_type": "stream",
     "text": [
      "\n",
      "preparing: 100%|##########################################################################| 1/1 [00:00<00:00, 25.36it/s]\n"
     ]
    },
    {
     "name": "stdout",
     "output_type": "stream",
     "text": [
      "fc99dc43-8279-4c65-af7b-ca75fc234ec2\n",
      "sim calculated successfully\n",
      "\n",
      "189.844 0.4118 189.306\n",
      "0 existing calculation records provided\n"
     ]
    },
    {
     "name": "stderr",
     "output_type": "stream",
     "text": [
      "100%|█████████████████████████████████████████████████████████████████████████████████████| 1/1 [00:00<00:00,  4.51it/s]"
     ]
    },
    {
     "name": "stdout",
     "output_type": "stream",
     "text": [
      "1 calculation combinations to check\n",
      "1 new records to prepare\n"
     ]
    },
    {
     "name": "stderr",
     "output_type": "stream",
     "text": [
      "\n",
      "preparing: 100%|##########################################################################| 1/1 [00:00<00:00, 46.35it/s]\n"
     ]
    },
    {
     "name": "stdout",
     "output_type": "stream",
     "text": [
      "06686413-2f48-42ce-b484-f9706755df07\n",
      "sim calculated successfully\n",
      "\n",
      "189.844 0.461 188.413\n",
      "0 existing calculation records provided\n"
     ]
    },
    {
     "name": "stderr",
     "output_type": "stream",
     "text": [
      "100%|█████████████████████████████████████████████████████████████████████████████████████| 1/1 [00:00<00:00,  4.36it/s]"
     ]
    },
    {
     "name": "stdout",
     "output_type": "stream",
     "text": [
      "1 calculation combinations to check\n",
      "1 new records to prepare\n"
     ]
    },
    {
     "name": "stderr",
     "output_type": "stream",
     "text": [
      "\n",
      "preparing: 100%|##########################################################################| 1/1 [00:00<00:00, 45.85it/s]\n"
     ]
    },
    {
     "name": "stdout",
     "output_type": "stream",
     "text": [
      "3091ed70-1cbe-4a47-a4ff-12b0c4297dd3\n",
      "sim calculated successfully\n",
      "\n",
      "189.844 0.3155 189.276\n",
      "0 existing calculation records provided\n"
     ]
    },
    {
     "name": "stderr",
     "output_type": "stream",
     "text": [
      "100%|█████████████████████████████████████████████████████████████████████████████████████| 1/1 [00:00<00:00,  2.97it/s]"
     ]
    },
    {
     "name": "stdout",
     "output_type": "stream",
     "text": [
      "1 calculation combinations to check\n",
      "1 new records to prepare\n"
     ]
    },
    {
     "name": "stderr",
     "output_type": "stream",
     "text": [
      "\n",
      "preparing: 100%|##########################################################################| 1/1 [00:00<00:00, 47.08it/s]\n"
     ]
    },
    {
     "name": "stdout",
     "output_type": "stream",
     "text": [
      "9b01df2e-bc7a-46c8-a0cb-f7e95ebc6c51\n",
      "sim calculated successfully\n",
      "\n",
      "119.922 1.0 120.077\n",
      "0 existing calculation records provided\n"
     ]
    },
    {
     "name": "stderr",
     "output_type": "stream",
     "text": [
      "100%|█████████████████████████████████████████████████████████████████████████████████████| 1/1 [00:00<00:00,  4.24it/s]"
     ]
    },
    {
     "name": "stdout",
     "output_type": "stream",
     "text": [
      "1 calculation combinations to check\n",
      "1 new records to prepare\n"
     ]
    },
    {
     "name": "stderr",
     "output_type": "stream",
     "text": [
      "\n",
      "preparing: 100%|##########################################################################| 1/1 [00:00<00:00, 41.91it/s]\n"
     ]
    },
    {
     "name": "stdout",
     "output_type": "stream",
     "text": [
      "1e1a9694-e223-4837-8d8d-959cd8ec0474\n",
      "sim calculated successfully\n",
      "\n",
      "1203.711 0.2869 1201.111\n",
      "0 existing calculation records provided\n"
     ]
    },
    {
     "name": "stderr",
     "output_type": "stream",
     "text": [
      "100%|█████████████████████████████████████████████████████████████████████████████████████| 1/1 [00:00<00:00,  4.11it/s]"
     ]
    },
    {
     "name": "stdout",
     "output_type": "stream",
     "text": [
      "1 calculation combinations to check\n",
      "1 new records to prepare\n"
     ]
    },
    {
     "name": "stderr",
     "output_type": "stream",
     "text": [
      "\n",
      "preparing: 100%|##########################################################################| 1/1 [00:00<00:00, 41.09it/s]\n"
     ]
    },
    {
     "name": "stdout",
     "output_type": "stream",
     "text": [
      "fc733227-1325-4236-95eb-08d3ebfa4ee9\n",
      "sim calculated successfully\n",
      "\n",
      "661.816 0.3703 682.489\n",
      "0 existing calculation records provided\n"
     ]
    },
    {
     "name": "stderr",
     "output_type": "stream",
     "text": [
      "100%|█████████████████████████████████████████████████████████████████████████████████████| 1/1 [00:00<00:00,  3.03it/s]"
     ]
    },
    {
     "name": "stdout",
     "output_type": "stream",
     "text": [
      "1 calculation combinations to check\n",
      "1 new records to prepare\n"
     ]
    },
    {
     "name": "stderr",
     "output_type": "stream",
     "text": [
      "\n",
      "preparing: 100%|##########################################################################| 1/1 [00:00<00:00, 35.13it/s]\n"
     ]
    },
    {
     "name": "stdout",
     "output_type": "stream",
     "text": [
      "2b180bf9-0402-4fee-8d4b-91830f06eed1\n",
      "sim calculated successfully\n",
      "\n",
      "390.869 0.4215 391.141\n",
      "194 2021--Deluigi-O-R--Fe-Ni-Cr-Co-Cu--LAMMPS--ipr1\n",
      "0 existing calculation records provided\n"
     ]
    },
    {
     "name": "stderr",
     "output_type": "stream",
     "text": [
      "100%|█████████████████████████████████████████████████████████████████████████████████████| 1/1 [00:00<00:00,  2.78it/s]"
     ]
    },
    {
     "name": "stdout",
     "output_type": "stream",
     "text": [
      "1 calculation combinations to check\n",
      "1 new records to prepare\n"
     ]
    },
    {
     "name": "stderr",
     "output_type": "stream",
     "text": [
      "\n",
      "preparing: 100%|##########################################################################| 1/1 [00:00<00:00, 54.94it/s]\n"
     ]
    },
    {
     "name": "stdout",
     "output_type": "stream",
     "text": [
      "fbb11923-7391-4d4f-85a9-0324abae242f\n",
      "sim calculated successfully\n",
      "\n",
      "4525.000 8.276e-05 4501.141\n",
      "0 existing calculation records provided\n"
     ]
    },
    {
     "name": "stderr",
     "output_type": "stream",
     "text": [
      "100%|█████████████████████████████████████████████████████████████████████████████████████| 1/1 [00:00<00:00,  2.88it/s]"
     ]
    },
    {
     "name": "stdout",
     "output_type": "stream",
     "text": [
      "1 calculation combinations to check\n",
      "1 new records to prepare\n"
     ]
    },
    {
     "name": "stderr",
     "output_type": "stream",
     "text": [
      "\n",
      "preparing: 100%|##########################################################################| 1/1 [00:00<00:00, 59.70it/s]\n"
     ]
    },
    {
     "name": "stdout",
     "output_type": "stream",
     "text": [
      "d02696b2-08a0-4e01-bbc5-efec04d70fa3\n",
      "sim calculated successfully\n",
      "\n",
      "2287.500 0.2779 2187.138\n",
      "0 existing calculation records provided\n"
     ]
    },
    {
     "name": "stderr",
     "output_type": "stream",
     "text": [
      "100%|█████████████████████████████████████████████████████████████████████████████████████| 1/1 [00:00<00:00,  3.48it/s]"
     ]
    },
    {
     "name": "stdout",
     "output_type": "stream",
     "text": [
      "1 calculation combinations to check\n",
      "1 new records to prepare\n"
     ]
    },
    {
     "name": "stderr",
     "output_type": "stream",
     "text": [
      "\n",
      "preparing: 100%|##########################################################################| 1/1 [00:00<00:00, 57.49it/s]\n"
     ]
    },
    {
     "name": "stdout",
     "output_type": "stream",
     "text": [
      "dd70a014-73c8-43e8-b7cf-d9be4fcf4610\n",
      "sim calculated successfully\n",
      "\n",
      "1168.750 0.9999 1166.187\n",
      "0 existing calculation records provided\n"
     ]
    },
    {
     "name": "stderr",
     "output_type": "stream",
     "text": [
      "100%|█████████████████████████████████████████████████████████████████████████████████████| 1/1 [00:00<00:00,  3.09it/s]"
     ]
    },
    {
     "name": "stdout",
     "output_type": "stream",
     "text": [
      "1 calculation combinations to check\n",
      "1 new records to prepare\n"
     ]
    },
    {
     "name": "stderr",
     "output_type": "stream",
     "text": [
      "\n",
      "preparing: 100%|##########################################################################| 1/1 [00:00<00:00, 35.52it/s]\n"
     ]
    },
    {
     "name": "stdout",
     "output_type": "stream",
     "text": [
      "a4714f09-2b93-4b50-a9d5-c5514dd81b6b\n",
      "sim calculated successfully\n",
      "\n",
      "2846.875 0.001303 2739.549\n",
      "0 existing calculation records provided\n"
     ]
    },
    {
     "name": "stderr",
     "output_type": "stream",
     "text": [
      "100%|█████████████████████████████████████████████████████████████████████████████████████| 1/1 [00:00<00:00,  4.14it/s]"
     ]
    },
    {
     "name": "stdout",
     "output_type": "stream",
     "text": [
      "1 calculation combinations to check\n",
      "1 new records to prepare\n"
     ]
    },
    {
     "name": "stderr",
     "output_type": "stream",
     "text": [
      "\n",
      "preparing: 100%|##########################################################################| 1/1 [00:00<00:00, 34.33it/s]\n"
     ]
    },
    {
     "name": "stdout",
     "output_type": "stream",
     "text": [
      "05329d4b-9dbf-413d-a761-f35d678431cd\n",
      "sim calculated successfully\n",
      "\n",
      "2007.812 0.6888 2175.383\n",
      "0 existing calculation records provided\n"
     ]
    },
    {
     "name": "stderr",
     "output_type": "stream",
     "text": [
      "100%|█████████████████████████████████████████████████████████████████████████████████████| 1/1 [00:00<00:00,  2.91it/s]"
     ]
    },
    {
     "name": "stdout",
     "output_type": "stream",
     "text": [
      "1 calculation combinations to check\n",
      "1 new records to prepare\n"
     ]
    },
    {
     "name": "stderr",
     "output_type": "stream",
     "text": [
      "\n",
      "preparing: 100%|##########################################################################| 1/1 [00:00<00:00, 32.61it/s]\n"
     ]
    },
    {
     "name": "stdout",
     "output_type": "stream",
     "text": [
      "f8374a9e-26fc-4b9f-835d-49daed44cb4b\n",
      "sim calculated successfully\n",
      "\n",
      "2427.344 0.003796 2160.255\n",
      "0 existing calculation records provided\n"
     ]
    },
    {
     "name": "stderr",
     "output_type": "stream",
     "text": [
      "100%|█████████████████████████████████████████████████████████████████████████████████████| 1/1 [00:00<00:00,  3.00it/s]"
     ]
    },
    {
     "name": "stdout",
     "output_type": "stream",
     "text": [
      "1 calculation combinations to check\n",
      "1 new records to prepare\n"
     ]
    },
    {
     "name": "stderr",
     "output_type": "stream",
     "text": [
      "\n",
      "preparing: 100%|##########################################################################| 1/1 [00:00<00:00, 45.31it/s]\n"
     ]
    },
    {
     "name": "stdout",
     "output_type": "stream",
     "text": [
      "c4ca65dd-b294-432d-86dd-513e0f7cc4cd\n",
      "sim calculated successfully\n",
      "\n",
      "1798.047 0.9903 1791.171\n",
      "0 existing calculation records provided\n"
     ]
    },
    {
     "name": "stderr",
     "output_type": "stream",
     "text": [
      "100%|█████████████████████████████████████████████████████████████████████████████████████| 1/1 [00:00<00:00,  2.89it/s]"
     ]
    },
    {
     "name": "stdout",
     "output_type": "stream",
     "text": [
      "1 calculation combinations to check\n",
      "1 new records to prepare\n"
     ]
    },
    {
     "name": "stderr",
     "output_type": "stream",
     "text": [
      "\n",
      "preparing: 100%|##########################################################################| 1/1 [00:00<00:00, 54.49it/s]\n"
     ]
    },
    {
     "name": "stdout",
     "output_type": "stream",
     "text": [
      "0cc44f2e-5d2d-4a28-8141-c6b4ebb240cf\n",
      "sim calculated successfully\n",
      "\n",
      "2112.695 0.545 2178.098\n",
      "0 existing calculation records provided\n"
     ]
    },
    {
     "name": "stderr",
     "output_type": "stream",
     "text": [
      "100%|█████████████████████████████████████████████████████████████████████████████████████| 1/1 [00:00<00:00,  2.79it/s]"
     ]
    },
    {
     "name": "stdout",
     "output_type": "stream",
     "text": [
      "1 calculation combinations to check\n",
      "1 new records to prepare\n"
     ]
    },
    {
     "name": "stderr",
     "output_type": "stream",
     "text": [
      "\n",
      "preparing: 100%|##########################################################################| 1/1 [00:00<00:00, 62.87it/s]\n"
     ]
    },
    {
     "name": "stdout",
     "output_type": "stream",
     "text": [
      "e364d7ed-0622-40a5-9613-fe22da4fcb93\n",
      "sim calculated successfully\n",
      "\n",
      "2112.695 0.5802 2183.428\n",
      "0 existing calculation records provided\n"
     ]
    },
    {
     "name": "stderr",
     "output_type": "stream",
     "text": [
      "100%|█████████████████████████████████████████████████████████████████████████████████████| 1/1 [00:00<00:00,  4.48it/s]"
     ]
    },
    {
     "name": "stdout",
     "output_type": "stream",
     "text": [
      "1 calculation combinations to check\n",
      "1 new records to prepare\n"
     ]
    },
    {
     "name": "stderr",
     "output_type": "stream",
     "text": [
      "\n",
      "preparing: 100%|##########################################################################| 1/1 [00:00<00:00, 34.71it/s]\n"
     ]
    },
    {
     "name": "stdout",
     "output_type": "stream",
     "text": [
      "339a907e-3c9e-4f0e-a989-2bc6d32b3b0c\n",
      "sim calculated successfully\n",
      "\n",
      "2112.695 0.5754 2191.841\n",
      "0 existing calculation records provided\n"
     ]
    },
    {
     "name": "stderr",
     "output_type": "stream",
     "text": [
      "100%|█████████████████████████████████████████████████████████████████████████████████████| 1/1 [00:00<00:00,  4.50it/s]"
     ]
    },
    {
     "name": "stdout",
     "output_type": "stream",
     "text": [
      "1 calculation combinations to check\n",
      "1 new records to prepare\n"
     ]
    },
    {
     "name": "stderr",
     "output_type": "stream",
     "text": [
      "\n",
      "preparing: 100%|##########################################################################| 1/1 [00:00<00:00, 37.92it/s]\n"
     ]
    },
    {
     "name": "stdout",
     "output_type": "stream",
     "text": [
      "d9bff9fe-7dc7-49ef-afcd-2d65ca0d7bd5\n",
      "sim calculated successfully\n",
      "\n",
      "2112.695 0.5623 2187.280\n",
      "0 existing calculation records provided\n"
     ]
    },
    {
     "name": "stderr",
     "output_type": "stream",
     "text": [
      "100%|█████████████████████████████████████████████████████████████████████████████████████| 1/1 [00:00<00:00,  2.86it/s]"
     ]
    },
    {
     "name": "stdout",
     "output_type": "stream",
     "text": [
      "1 calculation combinations to check\n",
      "1 new records to prepare\n"
     ]
    },
    {
     "name": "stderr",
     "output_type": "stream",
     "text": [
      "\n",
      "preparing: 100%|##########################################################################| 1/1 [00:00<00:00, 30.42it/s]\n"
     ]
    },
    {
     "name": "stdout",
     "output_type": "stream",
     "text": [
      "a1958237-1af7-4a74-a733-fc5aa2907623\n",
      "sim calculated successfully\n",
      "\n",
      "2112.695 0.5754 2203.601\n",
      "0 existing calculation records provided\n"
     ]
    },
    {
     "name": "stderr",
     "output_type": "stream",
     "text": [
      "100%|█████████████████████████████████████████████████████████████████████████████████████| 1/1 [00:00<00:00,  4.44it/s]"
     ]
    },
    {
     "name": "stdout",
     "output_type": "stream",
     "text": [
      "1 calculation combinations to check\n",
      "1 new records to prepare\n"
     ]
    },
    {
     "name": "stderr",
     "output_type": "stream",
     "text": [
      "\n",
      "preparing: 100%|##########################################################################| 1/1 [00:00<00:00, 30.49it/s]\n"
     ]
    },
    {
     "name": "stdout",
     "output_type": "stream",
     "text": [
      "57046e21-da01-4df4-ba08-d29252275255\n",
      "sim calculated successfully\n",
      "\n",
      "2112.695 0.5437 2192.842\n",
      "0 existing calculation records provided\n"
     ]
    },
    {
     "name": "stderr",
     "output_type": "stream",
     "text": [
      "100%|█████████████████████████████████████████████████████████████████████████████████████| 1/1 [00:00<00:00,  2.77it/s]"
     ]
    },
    {
     "name": "stdout",
     "output_type": "stream",
     "text": [
      "1 calculation combinations to check\n",
      "1 new records to prepare\n"
     ]
    },
    {
     "name": "stderr",
     "output_type": "stream",
     "text": [
      "\n",
      "preparing: 100%|##########################################################################| 1/1 [00:00<00:00, 29.74it/s]\n"
     ]
    },
    {
     "name": "stdout",
     "output_type": "stream",
     "text": [
      "fd29d667-19c2-4070-80cb-728605f971bd\n",
      "sim calculated successfully\n",
      "\n",
      "2112.695 0.5606 2174.684\n",
      "0 existing calculation records provided\n"
     ]
    },
    {
     "name": "stderr",
     "output_type": "stream",
     "text": [
      "100%|█████████████████████████████████████████████████████████████████████████████████████| 1/1 [00:00<00:00,  2.69it/s]"
     ]
    },
    {
     "name": "stdout",
     "output_type": "stream",
     "text": [
      "1 calculation combinations to check\n",
      "1 new records to prepare\n"
     ]
    },
    {
     "name": "stderr",
     "output_type": "stream",
     "text": [
      "\n",
      "preparing: 100%|##########################################################################| 1/1 [00:00<00:00, 55.64it/s]\n"
     ]
    },
    {
     "name": "stdout",
     "output_type": "stream",
     "text": [
      "e853ff1d-3108-45a0-99fa-71a57d16ac8f\n",
      "sim calculated successfully\n",
      "\n",
      "2112.695 0.5446 2199.323\n",
      "193 2021--Deluigi-O-R--Fe-Ni-Cr-Co-Cu--LAMMPS--ipr1\n",
      "0 existing calculation records provided\n"
     ]
    },
    {
     "name": "stderr",
     "output_type": "stream",
     "text": [
      "100%|█████████████████████████████████████████████████████████████████████████████████████| 1/1 [00:00<00:00,  4.91it/s]"
     ]
    },
    {
     "name": "stdout",
     "output_type": "stream",
     "text": [
      "1 calculation combinations to check\n",
      "1 new records to prepare\n"
     ]
    },
    {
     "name": "stderr",
     "output_type": "stream",
     "text": [
      "\n",
      "preparing: 100%|##########################################################################| 1/1 [00:00<00:00, 56.79it/s]\n"
     ]
    },
    {
     "name": "stdout",
     "output_type": "stream",
     "text": [
      "21fefe70-03db-47b1-b518-19b2b00c8680\n",
      "sim calculated successfully\n",
      "\n",
      "4525.000 0.1895 9968.563\n",
      "0 existing calculation records provided\n"
     ]
    },
    {
     "name": "stderr",
     "output_type": "stream",
     "text": [
      "100%|█████████████████████████████████████████████████████████████████████████████████████| 1/1 [00:00<00:00,  4.46it/s]"
     ]
    },
    {
     "name": "stdout",
     "output_type": "stream",
     "text": [
      "1 calculation combinations to check\n",
      "1 new records to prepare\n"
     ]
    },
    {
     "name": "stderr",
     "output_type": "stream",
     "text": [
      "\n",
      "preparing: 100%|##########################################################################| 1/1 [00:00<00:00, 41.10it/s]\n"
     ]
    },
    {
     "name": "stdout",
     "output_type": "stream",
     "text": [
      "c6d295ee-0130-445e-91da-014fd5d42580\n",
      "sim calculated successfully\n",
      "\n",
      "2287.500 9.31e-05 2276.473\n",
      "0 existing calculation records provided\n"
     ]
    },
    {
     "name": "stderr",
     "output_type": "stream",
     "text": [
      "100%|█████████████████████████████████████████████████████████████████████████████████████| 1/1 [00:00<00:00,  4.48it/s]"
     ]
    },
    {
     "name": "stdout",
     "output_type": "stream",
     "text": [
      "1 calculation combinations to check\n",
      "1 new records to prepare\n"
     ]
    },
    {
     "name": "stderr",
     "output_type": "stream",
     "text": [
      "\n",
      "preparing: 100%|##########################################################################| 1/1 [00:00<00:00, 41.40it/s]\n"
     ]
    },
    {
     "name": "stdout",
     "output_type": "stream",
     "text": [
      "37782e40-ed84-4a2a-ae8c-8c8ba6a14d34\n",
      "sim calculated successfully\n",
      "\n",
      "1168.750 0.376 1158.552\n",
      "0 existing calculation records provided\n"
     ]
    },
    {
     "name": "stderr",
     "output_type": "stream",
     "text": [
      "100%|█████████████████████████████████████████████████████████████████████████████████████| 1/1 [00:00<00:00,  2.55it/s]"
     ]
    },
    {
     "name": "stdout",
     "output_type": "stream",
     "text": [
      "1 calculation combinations to check\n",
      "1 new records to prepare\n"
     ]
    },
    {
     "name": "stderr",
     "output_type": "stream",
     "text": [
      "\n",
      "preparing: 100%|##########################################################################| 1/1 [00:00<00:00, 53.40it/s]\n"
     ]
    },
    {
     "name": "stdout",
     "output_type": "stream",
     "text": [
      "7eecf3f2-7004-480d-886f-45676f04077a\n",
      "sim calculated successfully\n",
      "\n",
      "609.375 1.0 607.854\n",
      "0 existing calculation records provided\n"
     ]
    },
    {
     "name": "stderr",
     "output_type": "stream",
     "text": [
      "100%|█████████████████████████████████████████████████████████████████████████████████████| 1/1 [00:00<00:00,  2.52it/s]"
     ]
    },
    {
     "name": "stdout",
     "output_type": "stream",
     "text": [
      "1 calculation combinations to check\n",
      "1 new records to prepare\n"
     ]
    },
    {
     "name": "stderr",
     "output_type": "stream",
     "text": [
      "\n",
      "preparing: 100%|##########################################################################| 1/1 [00:00<00:00, 56.94it/s]\n"
     ]
    },
    {
     "name": "stdout",
     "output_type": "stream",
     "text": [
      "b81f3014-dd71-4d87-bfbe-5523471c0178\n",
      "sim calculated successfully\n",
      "\n",
      "1448.438 0.001634 1379.747\n",
      "0 existing calculation records provided\n"
     ]
    },
    {
     "name": "stderr",
     "output_type": "stream",
     "text": [
      "100%|█████████████████████████████████████████████████████████████████████████████████████| 1/1 [00:00<00:00,  4.16it/s]"
     ]
    },
    {
     "name": "stdout",
     "output_type": "stream",
     "text": [
      "1 calculation combinations to check\n",
      "1 new records to prepare\n"
     ]
    },
    {
     "name": "stderr",
     "output_type": "stream",
     "text": [
      "\n",
      "preparing: 100%|##########################################################################| 1/1 [00:00<00:00, 52.05it/s]\n"
     ]
    },
    {
     "name": "stdout",
     "output_type": "stream",
     "text": [
      "4029de84-512d-41da-9edd-844be14c1d65\n",
      "sim calculated successfully\n",
      "\n",
      "1028.906 0.6486 1142.677\n",
      "0 existing calculation records provided\n"
     ]
    },
    {
     "name": "stderr",
     "output_type": "stream",
     "text": [
      "100%|█████████████████████████████████████████████████████████████████████████████████████| 1/1 [00:00<00:00,  4.99it/s]"
     ]
    },
    {
     "name": "stdout",
     "output_type": "stream",
     "text": [
      "1 calculation combinations to check\n",
      "1 new records to prepare\n"
     ]
    },
    {
     "name": "stderr",
     "output_type": "stream",
     "text": [
      "\n",
      "preparing: 100%|##########################################################################| 1/1 [00:00<00:00, 46.36it/s]\n"
     ]
    },
    {
     "name": "stdout",
     "output_type": "stream",
     "text": [
      "04f4dc53-06c6-494e-a5e0-52cfd09e3380\n",
      "sim calculated successfully\n",
      "\n",
      "1238.672 0.08133 1135.939\n",
      "0 existing calculation records provided\n"
     ]
    },
    {
     "name": "stderr",
     "output_type": "stream",
     "text": [
      "100%|█████████████████████████████████████████████████████████████████████████████████████| 1/1 [00:00<00:00,  4.27it/s]"
     ]
    },
    {
     "name": "stdout",
     "output_type": "stream",
     "text": [
      "1 calculation combinations to check\n",
      "1 new records to prepare\n"
     ]
    },
    {
     "name": "stderr",
     "output_type": "stream",
     "text": [
      "\n",
      "preparing: 100%|##########################################################################| 1/1 [00:00<00:00, 55.78it/s]\n"
     ]
    },
    {
     "name": "stdout",
     "output_type": "stream",
     "text": [
      "ecebd8b8-4630-4857-8755-200b2b1bfe5c\n",
      "sim calculated successfully\n",
      "\n",
      "924.023 0.9951 919.460\n",
      "0 existing calculation records provided\n"
     ]
    },
    {
     "name": "stderr",
     "output_type": "stream",
     "text": [
      "100%|█████████████████████████████████████████████████████████████████████████████████████| 1/1 [00:00<00:00,  2.79it/s]"
     ]
    },
    {
     "name": "stdout",
     "output_type": "stream",
     "text": [
      "1 calculation combinations to check\n",
      "1 new records to prepare\n"
     ]
    },
    {
     "name": "stderr",
     "output_type": "stream",
     "text": [
      "\n",
      "preparing: 100%|##########################################################################| 1/1 [00:00<00:00, 34.15it/s]\n"
     ]
    },
    {
     "name": "stdout",
     "output_type": "stream",
     "text": [
      "1a4965c0-0611-4c5f-a4c0-0a8632caa28b\n",
      "sim calculated successfully\n",
      "\n",
      "1081.348 0.552 1177.375\n",
      "0 existing calculation records provided\n"
     ]
    },
    {
     "name": "stderr",
     "output_type": "stream",
     "text": [
      "100%|█████████████████████████████████████████████████████████████████████████████████████| 1/1 [00:00<00:00,  2.87it/s]"
     ]
    },
    {
     "name": "stdout",
     "output_type": "stream",
     "text": [
      "1 calculation combinations to check\n",
      "1 new records to prepare\n"
     ]
    },
    {
     "name": "stderr",
     "output_type": "stream",
     "text": [
      "\n",
      "preparing: 100%|##########################################################################| 1/1 [00:00<00:00, 54.45it/s]\n"
     ]
    },
    {
     "name": "stdout",
     "output_type": "stream",
     "text": [
      "e43802ba-f2cf-490c-b8d4-3bd33af596a8\n",
      "sim calculated successfully\n",
      "\n",
      "1081.348 0.5837 1194.214\n",
      "0 existing calculation records provided\n"
     ]
    },
    {
     "name": "stderr",
     "output_type": "stream",
     "text": [
      "100%|█████████████████████████████████████████████████████████████████████████████████████| 1/1 [00:00<00:00,  2.77it/s]"
     ]
    },
    {
     "name": "stdout",
     "output_type": "stream",
     "text": [
      "1 calculation combinations to check\n",
      "1 new records to prepare\n"
     ]
    },
    {
     "name": "stderr",
     "output_type": "stream",
     "text": [
      "\n",
      "preparing: 100%|##########################################################################| 1/1 [00:00<00:00, 49.74it/s]\n"
     ]
    },
    {
     "name": "stdout",
     "output_type": "stream",
     "text": [
      "7c17fe7d-5111-4f35-9aa2-1b30a30022e6\n",
      "sim calculated successfully\n",
      "\n",
      "1081.348 0.5554 1183.826\n",
      "0 existing calculation records provided\n"
     ]
    },
    {
     "name": "stderr",
     "output_type": "stream",
     "text": [
      "100%|█████████████████████████████████████████████████████████████████████████████████████| 1/1 [00:00<00:00,  2.92it/s]"
     ]
    },
    {
     "name": "stdout",
     "output_type": "stream",
     "text": [
      "1 calculation combinations to check\n",
      "1 new records to prepare\n"
     ]
    },
    {
     "name": "stderr",
     "output_type": "stream",
     "text": [
      "\n",
      "preparing: 100%|##########################################################################| 1/1 [00:00<00:00, 54.80it/s]\n"
     ]
    },
    {
     "name": "stdout",
     "output_type": "stream",
     "text": [
      "1dff0145-3766-4c3a-a7cb-19968401455a\n",
      "sim calculated successfully\n",
      "\n",
      "1081.348 0.5589 1155.336\n",
      "0 existing calculation records provided\n"
     ]
    },
    {
     "name": "stderr",
     "output_type": "stream",
     "text": [
      "100%|█████████████████████████████████████████████████████████████████████████████████████| 1/1 [00:00<00:00,  3.12it/s]"
     ]
    },
    {
     "name": "stdout",
     "output_type": "stream",
     "text": [
      "1 calculation combinations to check\n",
      "1 new records to prepare\n"
     ]
    },
    {
     "name": "stderr",
     "output_type": "stream",
     "text": [
      "\n",
      "preparing: 100%|##########################################################################| 1/1 [00:00<00:00, 55.28it/s]\n"
     ]
    },
    {
     "name": "stdout",
     "output_type": "stream",
     "text": [
      "ecec3a56-9ba1-4c81-819a-aff5cceba7b2\n",
      "sim calculated successfully\n",
      "\n",
      "1081.348 0.5522 1188.378\n",
      "0 existing calculation records provided\n"
     ]
    },
    {
     "name": "stderr",
     "output_type": "stream",
     "text": [
      "100%|█████████████████████████████████████████████████████████████████████████████████████| 1/1 [00:00<00:00,  3.24it/s]"
     ]
    },
    {
     "name": "stdout",
     "output_type": "stream",
     "text": [
      "1 calculation combinations to check\n",
      "1 new records to prepare\n"
     ]
    },
    {
     "name": "stderr",
     "output_type": "stream",
     "text": [
      "\n",
      "preparing: 100%|##########################################################################| 1/1 [00:00<00:00, 64.35it/s]\n"
     ]
    },
    {
     "name": "stdout",
     "output_type": "stream",
     "text": [
      "ecfe0e2e-3954-42f9-b751-b4b5ad64bf09\n",
      "sim calculated successfully\n",
      "\n",
      "1081.348 0.5791 1152.049\n",
      "0 existing calculation records provided\n"
     ]
    },
    {
     "name": "stderr",
     "output_type": "stream",
     "text": [
      "100%|█████████████████████████████████████████████████████████████████████████████████████| 1/1 [00:00<00:00,  3.12it/s]"
     ]
    },
    {
     "name": "stdout",
     "output_type": "stream",
     "text": [
      "1 calculation combinations to check\n",
      "1 new records to prepare\n"
     ]
    },
    {
     "name": "stderr",
     "output_type": "stream",
     "text": [
      "\n",
      "preparing: 100%|##########################################################################| 1/1 [00:00<00:00, 34.32it/s]\n"
     ]
    },
    {
     "name": "stdout",
     "output_type": "stream",
     "text": [
      "a085d6b5-aa1e-41ff-8fac-e0e06df9bcec\n",
      "sim calculated successfully\n",
      "\n",
      "1081.348 0.5574 1162.666\n",
      "0 existing calculation records provided\n"
     ]
    },
    {
     "name": "stderr",
     "output_type": "stream",
     "text": [
      "100%|█████████████████████████████████████████████████████████████████████████████████████| 1/1 [00:00<00:00,  4.42it/s]"
     ]
    },
    {
     "name": "stdout",
     "output_type": "stream",
     "text": [
      "1 calculation combinations to check\n",
      "1 new records to prepare\n"
     ]
    },
    {
     "name": "stderr",
     "output_type": "stream",
     "text": [
      "\n",
      "preparing: 100%|##########################################################################| 1/1 [00:00<00:00, 55.85it/s]\n"
     ]
    },
    {
     "name": "stdout",
     "output_type": "stream",
     "text": [
      "82b482fe-fe9f-44c2-a541-5aefd274b244\n",
      "sim calculated successfully\n",
      "\n",
      "1081.348 0.5594 1154.514\n",
      "192 2021--Deluigi-O-R--Fe-Ni-Cr-Co-Cu--LAMMPS--ipr1\n",
      "0 existing calculation records provided\n"
     ]
    },
    {
     "name": "stderr",
     "output_type": "stream",
     "text": [
      "100%|█████████████████████████████████████████████████████████████████████████████████████| 1/1 [00:00<00:00,  3.19it/s]"
     ]
    },
    {
     "name": "stdout",
     "output_type": "stream",
     "text": [
      "1 calculation combinations to check\n",
      "1 new records to prepare\n"
     ]
    },
    {
     "name": "stderr",
     "output_type": "stream",
     "text": [
      "\n",
      "preparing: 100%|##########################################################################| 1/1 [00:00<00:00, 62.67it/s]\n"
     ]
    },
    {
     "name": "stdout",
     "output_type": "stream",
     "text": [
      "f471395c-0e87-4bc6-b848-74a66a02554c\n",
      "sim calculated successfully\n",
      "\n",
      "4525.000 2.069e-05 4489.577\n",
      "0 existing calculation records provided\n"
     ]
    },
    {
     "name": "stderr",
     "output_type": "stream",
     "text": [
      "100%|█████████████████████████████████████████████████████████████████████████████████████| 1/1 [00:00<00:00,  4.16it/s]"
     ]
    },
    {
     "name": "stdout",
     "output_type": "stream",
     "text": [
      "1 calculation combinations to check\n",
      "1 new records to prepare\n"
     ]
    },
    {
     "name": "stderr",
     "output_type": "stream",
     "text": [
      "\n",
      "preparing: 100%|##########################################################################| 1/1 [00:00<00:00, 55.43it/s]\n"
     ]
    },
    {
     "name": "stdout",
     "output_type": "stream",
     "text": [
      "7dda01d5-d82d-4fe0-b688-afa5117fc5b4\n",
      "sim calculated successfully\n",
      "\n",
      "2287.500 0.002741 2112.068\n",
      "0 existing calculation records provided\n"
     ]
    },
    {
     "name": "stderr",
     "output_type": "stream",
     "text": [
      "100%|█████████████████████████████████████████████████████████████████████████████████████| 1/1 [00:00<00:00,  4.19it/s]"
     ]
    },
    {
     "name": "stdout",
     "output_type": "stream",
     "text": [
      "1 calculation combinations to check\n",
      "1 new records to prepare\n"
     ]
    },
    {
     "name": "stderr",
     "output_type": "stream",
     "text": [
      "\n",
      "preparing: 100%|##########################################################################| 1/1 [00:00<00:00, 35.10it/s]\n"
     ]
    },
    {
     "name": "stdout",
     "output_type": "stream",
     "text": [
      "1e046006-1477-4ded-a475-8f8b3a59aede\n",
      "sim calculated successfully\n",
      "\n",
      "1168.750 0.9992 1167.387\n",
      "0 existing calculation records provided\n"
     ]
    },
    {
     "name": "stderr",
     "output_type": "stream",
     "text": [
      "100%|█████████████████████████████████████████████████████████████████████████████████████| 1/1 [00:00<00:00,  2.45it/s]"
     ]
    },
    {
     "name": "stdout",
     "output_type": "stream",
     "text": [
      "1 calculation combinations to check\n",
      "1 new records to prepare\n"
     ]
    },
    {
     "name": "stderr",
     "output_type": "stream",
     "text": [
      "\n",
      "preparing: 100%|##########################################################################| 1/1 [00:00<00:00, 52.18it/s]\n"
     ]
    },
    {
     "name": "stdout",
     "output_type": "stream",
     "text": [
      "607cc4b4-d3cf-48cd-b451-83903f08decb\n",
      "sim calculated successfully\n",
      "\n",
      "1728.125 0.7904 1878.829\n",
      "0 existing calculation records provided\n"
     ]
    },
    {
     "name": "stderr",
     "output_type": "stream",
     "text": [
      "100%|█████████████████████████████████████████████████████████████████████████████████████| 1/1 [00:00<00:00,  2.69it/s]"
     ]
    },
    {
     "name": "stdout",
     "output_type": "stream",
     "text": [
      "1 calculation combinations to check\n",
      "1 new records to prepare\n"
     ]
    },
    {
     "name": "stderr",
     "output_type": "stream",
     "text": [
      "\n",
      "preparing: 100%|##########################################################################| 1/1 [00:00<00:00, 51.35it/s]\n"
     ]
    },
    {
     "name": "stdout",
     "output_type": "stream",
     "text": [
      "05981a89-637f-44bd-a05f-1e8de0fbb534\n",
      "sim calculated successfully\n",
      "\n",
      "2007.812 0.279 1915.409\n",
      "0 existing calculation records provided\n"
     ]
    },
    {
     "name": "stderr",
     "output_type": "stream",
     "text": [
      "100%|█████████████████████████████████████████████████████████████████████████████████████| 1/1 [00:00<00:00,  2.78it/s]"
     ]
    },
    {
     "name": "stdout",
     "output_type": "stream",
     "text": [
      "1 calculation combinations to check\n",
      "1 new records to prepare\n"
     ]
    },
    {
     "name": "stderr",
     "output_type": "stream",
     "text": [
      "\n",
      "preparing: 100%|##########################################################################| 1/1 [00:00<00:00, 53.81it/s]\n"
     ]
    },
    {
     "name": "stdout",
     "output_type": "stream",
     "text": [
      "88a8228d-7306-435b-9425-95f578635381\n",
      "sim calculated successfully\n",
      "\n",
      "1867.969 0.5619 1902.478\n",
      "0 existing calculation records provided\n"
     ]
    },
    {
     "name": "stderr",
     "output_type": "stream",
     "text": [
      "100%|█████████████████████████████████████████████████████████████████████████████████████| 1/1 [00:00<00:00,  2.84it/s]"
     ]
    },
    {
     "name": "stdout",
     "output_type": "stream",
     "text": [
      "1 calculation combinations to check\n",
      "1 new records to prepare\n"
     ]
    },
    {
     "name": "stderr",
     "output_type": "stream",
     "text": [
      "\n",
      "preparing: 100%|##########################################################################| 1/1 [00:00<00:00, 49.78it/s]\n"
     ]
    },
    {
     "name": "stdout",
     "output_type": "stream",
     "text": [
      "7f6bf454-0531-4b8a-b3bd-80f788fded31\n",
      "sim calculated successfully\n",
      "\n",
      "1867.969 0.5857 1904.416\n",
      "0 existing calculation records provided\n"
     ]
    },
    {
     "name": "stderr",
     "output_type": "stream",
     "text": [
      "100%|█████████████████████████████████████████████████████████████████████████████████████| 1/1 [00:00<00:00,  2.88it/s]"
     ]
    },
    {
     "name": "stdout",
     "output_type": "stream",
     "text": [
      "1 calculation combinations to check\n",
      "1 new records to prepare\n"
     ]
    },
    {
     "name": "stderr",
     "output_type": "stream",
     "text": [
      "\n",
      "preparing: 100%|##########################################################################| 1/1 [00:00<00:00, 54.26it/s]\n"
     ]
    },
    {
     "name": "stdout",
     "output_type": "stream",
     "text": [
      "c2e5b18a-89d1-492a-95f1-3e0fc3ee88a0\n",
      "sim calculated successfully\n",
      "\n",
      "1867.969 0.5551 1907.586\n",
      "0 existing calculation records provided\n"
     ]
    },
    {
     "name": "stderr",
     "output_type": "stream",
     "text": [
      "100%|█████████████████████████████████████████████████████████████████████████████████████| 1/1 [00:00<00:00,  4.37it/s]"
     ]
    },
    {
     "name": "stdout",
     "output_type": "stream",
     "text": [
      "1 calculation combinations to check\n",
      "1 new records to prepare\n"
     ]
    },
    {
     "name": "stderr",
     "output_type": "stream",
     "text": [
      "\n",
      "preparing: 100%|##########################################################################| 1/1 [00:00<00:00, 36.27it/s]\n"
     ]
    },
    {
     "name": "stdout",
     "output_type": "stream",
     "text": [
      "b7f75a23-de51-4bec-8d60-785acd5425ec\n",
      "sim calculated successfully\n",
      "\n",
      "1867.969 0.548 1905.811\n",
      "0 existing calculation records provided\n"
     ]
    },
    {
     "name": "stderr",
     "output_type": "stream",
     "text": [
      "100%|█████████████████████████████████████████████████████████████████████████████████████| 1/1 [00:00<00:00,  2.81it/s]"
     ]
    },
    {
     "name": "stdout",
     "output_type": "stream",
     "text": [
      "1 calculation combinations to check\n",
      "1 new records to prepare\n"
     ]
    },
    {
     "name": "stderr",
     "output_type": "stream",
     "text": [
      "\n",
      "preparing: 100%|##########################################################################| 1/1 [00:00<00:00, 53.87it/s]\n"
     ]
    },
    {
     "name": "stdout",
     "output_type": "stream",
     "text": [
      "63c967fa-2b3e-489f-af3d-93270964103a\n",
      "sim calculated successfully\n",
      "\n",
      "1867.969 0.5311 1901.033\n",
      "0 existing calculation records provided\n"
     ]
    },
    {
     "name": "stderr",
     "output_type": "stream",
     "text": [
      "100%|█████████████████████████████████████████████████████████████████████████████████████| 1/1 [00:00<00:00,  4.69it/s]"
     ]
    },
    {
     "name": "stdout",
     "output_type": "stream",
     "text": [
      "1 calculation combinations to check\n",
      "1 new records to prepare\n"
     ]
    },
    {
     "name": "stderr",
     "output_type": "stream",
     "text": [
      "\n",
      "preparing: 100%|##########################################################################| 1/1 [00:00<00:00, 36.82it/s]\n"
     ]
    },
    {
     "name": "stdout",
     "output_type": "stream",
     "text": [
      "1f83d688-3b99-4940-a1bf-17f900f14cb1\n",
      "sim calculated successfully\n",
      "\n",
      "1867.969 0.568 1906.888\n",
      "0 existing calculation records provided\n"
     ]
    },
    {
     "name": "stderr",
     "output_type": "stream",
     "text": [
      "100%|█████████████████████████████████████████████████████████████████████████████████████| 1/1 [00:00<00:00,  4.10it/s]"
     ]
    },
    {
     "name": "stdout",
     "output_type": "stream",
     "text": [
      "1 calculation combinations to check\n",
      "1 new records to prepare\n"
     ]
    },
    {
     "name": "stderr",
     "output_type": "stream",
     "text": [
      "\n",
      "preparing: 100%|##########################################################################| 1/1 [00:00<00:00, 34.97it/s]\n"
     ]
    },
    {
     "name": "stdout",
     "output_type": "stream",
     "text": [
      "5d58792a-abf2-45d7-80b6-579039aaaeec\n",
      "sim calculated successfully\n",
      "\n",
      "1867.969 0.573 1903.617\n",
      "0 existing calculation records provided\n"
     ]
    },
    {
     "name": "stderr",
     "output_type": "stream",
     "text": [
      "100%|█████████████████████████████████████████████████████████████████████████████████████| 1/1 [00:00<00:00,  4.31it/s]"
     ]
    },
    {
     "name": "stdout",
     "output_type": "stream",
     "text": [
      "1 calculation combinations to check\n",
      "1 new records to prepare\n"
     ]
    },
    {
     "name": "stderr",
     "output_type": "stream",
     "text": [
      "\n",
      "preparing: 100%|##########################################################################| 1/1 [00:00<00:00, 38.03it/s]\n"
     ]
    },
    {
     "name": "stdout",
     "output_type": "stream",
     "text": [
      "e002e3a9-f5cd-4f2b-9e97-3102dea3afd9\n",
      "sim calculated successfully\n",
      "\n",
      "1867.969 0.5526 1909.580\n",
      "0 existing calculation records provided\n"
     ]
    },
    {
     "name": "stderr",
     "output_type": "stream",
     "text": [
      "100%|█████████████████████████████████████████████████████████████████████████████████████| 1/1 [00:00<00:00,  4.03it/s]"
     ]
    },
    {
     "name": "stdout",
     "output_type": "stream",
     "text": [
      "1 calculation combinations to check\n",
      "1 new records to prepare\n"
     ]
    },
    {
     "name": "stderr",
     "output_type": "stream",
     "text": [
      "\n",
      "preparing: 100%|##########################################################################| 1/1 [00:00<00:00, 50.80it/s]\n"
     ]
    },
    {
     "name": "stdout",
     "output_type": "stream",
     "text": [
      "c1bb6ebf-6de9-4089-aa0f-9faa6a4f4446\n",
      "sim calculated successfully\n",
      "\n",
      "1867.969 0.5624 1930.287\n",
      "191 2021--Chen-Y--W-Ta-He--LAMMPS--ipr1\n",
      "0 existing calculation records provided\n"
     ]
    },
    {
     "name": "stderr",
     "output_type": "stream",
     "text": [
      "100%|█████████████████████████████████████████████████████████████████████████████████████| 1/1 [00:00<00:00,  4.16it/s]"
     ]
    },
    {
     "name": "stdout",
     "output_type": "stream",
     "text": [
      "1 calculation combinations to check\n",
      "1 new records to prepare\n"
     ]
    },
    {
     "name": "stderr",
     "output_type": "stream",
     "text": [
      "\n",
      "preparing: 100%|##########################################################################| 1/1 [00:00<00:00, 29.46it/s]\n"
     ]
    },
    {
     "name": "stdout",
     "output_type": "stream",
     "text": [
      "ae9ffad6-81f2-4b53-8f86-a48a3f1e7314\n",
      "sim calculated successfully\n",
      "\n",
      "4525.000 0.9932 55.346\n",
      "0 existing calculation records provided\n"
     ]
    },
    {
     "name": "stderr",
     "output_type": "stream",
     "text": [
      "100%|█████████████████████████████████████████████████████████████████████████████████████| 1/1 [00:00<00:00,  3.88it/s]"
     ]
    },
    {
     "name": "stdout",
     "output_type": "stream",
     "text": [
      "1 calculation combinations to check\n",
      "1 new records to prepare\n"
     ]
    },
    {
     "name": "stderr",
     "output_type": "stream",
     "text": [
      "\n",
      "preparing: 100%|##########################################################################| 1/1 [00:00<00:00, 32.24it/s]\n"
     ]
    },
    {
     "name": "stdout",
     "output_type": "stream",
     "text": [
      "ac6f42f1-8273-43d8-9ee3-1ed5d83d6555\n",
      "sim calculated successfully\n",
      "\n",
      "6762.500 0.9931 82.500\n",
      "0 existing calculation records provided\n"
     ]
    },
    {
     "name": "stderr",
     "output_type": "stream",
     "text": [
      "100%|█████████████████████████████████████████████████████████████████████████████████████| 1/1 [00:00<00:00,  4.48it/s]"
     ]
    },
    {
     "name": "stdout",
     "output_type": "stream",
     "text": [
      "1 calculation combinations to check\n",
      "1 new records to prepare\n"
     ]
    },
    {
     "name": "stderr",
     "output_type": "stream",
     "text": [
      "\n",
      "preparing: 100%|##########################################################################| 1/1 [00:00<00:00, 24.31it/s]\n"
     ]
    },
    {
     "name": "stdout",
     "output_type": "stream",
     "text": [
      "3dfba068-722d-4fa5-893d-b1a911f465ba\n",
      "sim calculated successfully\n",
      "\n",
      "7881.250 0.9937 96.028\n",
      "0 existing calculation records provided\n"
     ]
    },
    {
     "name": "stderr",
     "output_type": "stream",
     "text": [
      "100%|█████████████████████████████████████████████████████████████████████████████████████| 1/1 [00:00<00:00,  4.57it/s]"
     ]
    },
    {
     "name": "stdout",
     "output_type": "stream",
     "text": [
      "1 calculation combinations to check\n",
      "1 new records to prepare\n"
     ]
    },
    {
     "name": "stderr",
     "output_type": "stream",
     "text": [
      "\n",
      "preparing: 100%|##########################################################################| 1/1 [00:00<00:00, 25.64it/s]\n"
     ]
    },
    {
     "name": "stdout",
     "output_type": "stream",
     "text": [
      "bef2eba4-84a2-4344-b9ee-d382939281ef\n",
      "sim calculated successfully\n",
      "\n",
      "8440.625 0.9939 102.780\n",
      "0 existing calculation records provided\n"
     ]
    },
    {
     "name": "stderr",
     "output_type": "stream",
     "text": [
      "100%|█████████████████████████████████████████████████████████████████████████████████████| 1/1 [00:00<00:00,  4.72it/s]"
     ]
    },
    {
     "name": "stdout",
     "output_type": "stream",
     "text": [
      "1 calculation combinations to check\n",
      "1 new records to prepare\n"
     ]
    },
    {
     "name": "stderr",
     "output_type": "stream",
     "text": [
      "\n",
      "preparing: 100%|##########################################################################| 1/1 [00:00<00:00, 36.55it/s]\n"
     ]
    },
    {
     "name": "stdout",
     "output_type": "stream",
     "text": [
      "465951fe-964a-4353-b3b5-ccbf3abdcaa9\n",
      "sim calculated successfully\n",
      "\n",
      "8720.312 0.9936 106.249\n",
      "0 existing calculation records provided\n"
     ]
    },
    {
     "name": "stderr",
     "output_type": "stream",
     "text": [
      "100%|█████████████████████████████████████████████████████████████████████████████████████| 1/1 [00:00<00:00,  4.35it/s]"
     ]
    },
    {
     "name": "stdout",
     "output_type": "stream",
     "text": [
      "1 calculation combinations to check\n",
      "1 new records to prepare\n"
     ]
    },
    {
     "name": "stderr",
     "output_type": "stream",
     "text": [
      "\n",
      "preparing: 100%|##########################################################################| 1/1 [00:00<00:00, 33.38it/s]\n"
     ]
    },
    {
     "name": "stdout",
     "output_type": "stream",
     "text": [
      "6a536a9a-913a-4541-a425-ac6d41b24b26\n",
      "sim calculated successfully\n",
      "\n",
      "8860.156 0.993 107.899\n",
      "0 existing calculation records provided\n"
     ]
    },
    {
     "name": "stderr",
     "output_type": "stream",
     "text": [
      "100%|█████████████████████████████████████████████████████████████████████████████████████| 1/1 [00:00<00:00,  4.41it/s]"
     ]
    },
    {
     "name": "stdout",
     "output_type": "stream",
     "text": [
      "1 calculation combinations to check\n",
      "1 new records to prepare\n"
     ]
    },
    {
     "name": "stderr",
     "output_type": "stream",
     "text": [
      "\n",
      "preparing: 100%|##########################################################################| 1/1 [00:00<00:00, 23.51it/s]\n"
     ]
    },
    {
     "name": "stdout",
     "output_type": "stream",
     "text": [
      "7d01f56f-f31d-4fc2-a79c-0298b13baedf\n",
      "sim calculated successfully\n",
      "\n",
      "8930.078 0.9927 108.720\n",
      "0 existing calculation records provided\n"
     ]
    },
    {
     "name": "stderr",
     "output_type": "stream",
     "text": [
      "100%|█████████████████████████████████████████████████████████████████████████████████████| 1/1 [00:00<00:00,  4.30it/s]"
     ]
    },
    {
     "name": "stdout",
     "output_type": "stream",
     "text": [
      "1 calculation combinations to check\n",
      "1 new records to prepare\n"
     ]
    },
    {
     "name": "stderr",
     "output_type": "stream",
     "text": [
      "\n",
      "preparing: 100%|##########################################################################| 1/1 [00:00<00:00, 33.71it/s]\n"
     ]
    },
    {
     "name": "stdout",
     "output_type": "stream",
     "text": [
      "32b764eb-7a4d-4c46-bc61-27a4add2818e\n",
      "sim calculated successfully\n",
      "\n",
      "8965.039 0.994 109.303\n",
      "0 existing calculation records provided\n"
     ]
    },
    {
     "name": "stderr",
     "output_type": "stream",
     "text": [
      "100%|█████████████████████████████████████████████████████████████████████████████████████| 1/1 [00:00<00:00,  4.34it/s]"
     ]
    },
    {
     "name": "stdout",
     "output_type": "stream",
     "text": [
      "1 calculation combinations to check\n",
      "1 new records to prepare\n"
     ]
    },
    {
     "name": "stderr",
     "output_type": "stream",
     "text": [
      "\n",
      "preparing: 100%|##########################################################################| 1/1 [00:00<00:00, 35.22it/s]\n"
     ]
    },
    {
     "name": "stdout",
     "output_type": "stream",
     "text": [
      "082056ed-f27b-4bae-9b80-576c6b93fbad\n",
      "sim calculated successfully\n",
      "\n",
      "8982.520 0.9937 109.384\n",
      "0 existing calculation records provided\n"
     ]
    },
    {
     "name": "stderr",
     "output_type": "stream",
     "text": [
      "100%|█████████████████████████████████████████████████████████████████████████████████████| 1/1 [00:00<00:00,  4.25it/s]"
     ]
    },
    {
     "name": "stdout",
     "output_type": "stream",
     "text": [
      "1 calculation combinations to check\n",
      "1 new records to prepare\n"
     ]
    },
    {
     "name": "stderr",
     "output_type": "stream",
     "text": [
      "\n",
      "preparing: 100%|##########################################################################| 1/1 [00:00<00:00, 35.25it/s]\n"
     ]
    },
    {
     "name": "stdout",
     "output_type": "stream",
     "text": [
      "265acef8-97a3-4d5a-8bbd-02ebe07e3259\n",
      "sim calculated successfully\n",
      "\n",
      "8991.260 0.9935 109.498\n",
      "0 existing calculation records provided\n"
     ]
    },
    {
     "name": "stderr",
     "output_type": "stream",
     "text": [
      "100%|█████████████████████████████████████████████████████████████████████████████████████| 1/1 [00:00<00:00,  4.40it/s]"
     ]
    },
    {
     "name": "stdout",
     "output_type": "stream",
     "text": [
      "1 calculation combinations to check\n",
      "1 new records to prepare\n"
     ]
    },
    {
     "name": "stderr",
     "output_type": "stream",
     "text": [
      "\n",
      "preparing: 100%|##########################################################################| 1/1 [00:00<00:00, 32.98it/s]\n"
     ]
    },
    {
     "name": "stdout",
     "output_type": "stream",
     "text": [
      "38e5d0e9-72a7-4ee6-b03e-bb8eadccc0be\n",
      "sim calculated successfully\n",
      "\n",
      "8995.630 0.9938 109.510\n",
      "0 existing calculation records provided\n"
     ]
    },
    {
     "name": "stderr",
     "output_type": "stream",
     "text": [
      "100%|█████████████████████████████████████████████████████████████████████████████████████| 1/1 [00:00<00:00,  4.25it/s]"
     ]
    },
    {
     "name": "stdout",
     "output_type": "stream",
     "text": [
      "1 calculation combinations to check\n",
      "1 new records to prepare\n"
     ]
    },
    {
     "name": "stderr",
     "output_type": "stream",
     "text": [
      "\n",
      "preparing: 100%|##########################################################################| 1/1 [00:00<00:00, 23.92it/s]\n"
     ]
    },
    {
     "name": "stdout",
     "output_type": "stream",
     "text": [
      "30187623-f62c-4732-a749-021da64a9acb\n",
      "sim calculated successfully\n",
      "\n",
      "8997.815 0.9932 109.604\n",
      "0 existing calculation records provided\n"
     ]
    },
    {
     "name": "stderr",
     "output_type": "stream",
     "text": [
      "100%|█████████████████████████████████████████████████████████████████████████████████████| 1/1 [00:00<00:00,  4.40it/s]"
     ]
    },
    {
     "name": "stdout",
     "output_type": "stream",
     "text": [
      "1 calculation combinations to check\n",
      "1 new records to prepare\n"
     ]
    },
    {
     "name": "stderr",
     "output_type": "stream",
     "text": [
      "\n",
      "preparing: 100%|##########################################################################| 1/1 [00:00<00:00, 24.17it/s]\n"
     ]
    },
    {
     "name": "stdout",
     "output_type": "stream",
     "text": [
      "4c49379c-f372-4bae-aad6-38449d87a010\n",
      "sim calculated successfully\n",
      "\n",
      "8998.907 0.9938 109.616\n",
      "0 existing calculation records provided\n"
     ]
    },
    {
     "name": "stderr",
     "output_type": "stream",
     "text": [
      "100%|█████████████████████████████████████████████████████████████████████████████████████| 1/1 [00:00<00:00,  4.74it/s]"
     ]
    },
    {
     "name": "stdout",
     "output_type": "stream",
     "text": [
      "1 calculation combinations to check\n",
      "1 new records to prepare\n"
     ]
    },
    {
     "name": "stderr",
     "output_type": "stream",
     "text": [
      "\n",
      "preparing: 100%|##########################################################################| 1/1 [00:00<00:00, 24.97it/s]\n"
     ]
    },
    {
     "name": "stdout",
     "output_type": "stream",
     "text": [
      "32d3d109-38c0-4f39-ac2c-61883bff0353\n",
      "sim calculated successfully\n",
      "\n",
      "8999.454 0.9936 109.626\n",
      "0 existing calculation records provided\n"
     ]
    },
    {
     "name": "stderr",
     "output_type": "stream",
     "text": [
      "100%|█████████████████████████████████████████████████████████████████████████████████████| 1/1 [00:00<00:00,  4.42it/s]"
     ]
    },
    {
     "name": "stdout",
     "output_type": "stream",
     "text": [
      "1 calculation combinations to check\n",
      "1 new records to prepare\n"
     ]
    },
    {
     "name": "stderr",
     "output_type": "stream",
     "text": [
      "\n",
      "preparing: 100%|##########################################################################| 1/1 [00:00<00:00, 34.85it/s]\n"
     ]
    },
    {
     "name": "stdout",
     "output_type": "stream",
     "text": [
      "49bc15c1-f3a8-4f15-8177-878ba0504d81\n",
      "sim calculated successfully\n",
      "\n",
      "8999.727 0.9933 109.571\n",
      "0 existing calculation records provided\n"
     ]
    },
    {
     "name": "stderr",
     "output_type": "stream",
     "text": [
      "100%|█████████████████████████████████████████████████████████████████████████████████████| 1/1 [00:00<00:00,  4.05it/s]"
     ]
    },
    {
     "name": "stdout",
     "output_type": "stream",
     "text": [
      "1 calculation combinations to check\n",
      "1 new records to prepare\n"
     ]
    },
    {
     "name": "stderr",
     "output_type": "stream",
     "text": [
      "\n",
      "preparing: 100%|##########################################################################| 1/1 [00:00<00:00, 23.21it/s]\n"
     ]
    },
    {
     "name": "stdout",
     "output_type": "stream",
     "text": [
      "db7a331a-4c83-4fd1-bd79-519a4b38a886\n",
      "sim calculated successfully\n",
      "\n",
      "8999.863 0.9934 109.632\n",
      "0 existing calculation records provided\n"
     ]
    },
    {
     "name": "stderr",
     "output_type": "stream",
     "text": [
      "100%|█████████████████████████████████████████████████████████████████████████████████████| 1/1 [00:00<00:00,  4.23it/s]"
     ]
    },
    {
     "name": "stdout",
     "output_type": "stream",
     "text": [
      "1 calculation combinations to check\n",
      "1 new records to prepare\n"
     ]
    },
    {
     "name": "stderr",
     "output_type": "stream",
     "text": [
      "\n",
      "preparing: 100%|##########################################################################| 1/1 [00:00<00:00, 24.16it/s]\n"
     ]
    },
    {
     "name": "stdout",
     "output_type": "stream",
     "text": [
      "84cfe827-f4af-4350-87e8-619ae38c75b4\n",
      "sim calculated successfully\n",
      "\n",
      "8999.932 0.9941 109.596\n",
      "0 existing calculation records provided\n"
     ]
    },
    {
     "name": "stderr",
     "output_type": "stream",
     "text": [
      "100%|█████████████████████████████████████████████████████████████████████████████████████| 1/1 [00:00<00:00,  4.17it/s]"
     ]
    },
    {
     "name": "stdout",
     "output_type": "stream",
     "text": [
      "1 calculation combinations to check\n",
      "1 new records to prepare\n"
     ]
    },
    {
     "name": "stderr",
     "output_type": "stream",
     "text": [
      "\n",
      "preparing: 100%|##########################################################################| 1/1 [00:00<00:00, 35.82it/s]\n"
     ]
    },
    {
     "name": "stdout",
     "output_type": "stream",
     "text": [
      "43201bfb-ba0b-4cf4-b52e-0abbb0965bee\n",
      "sim calculated successfully\n",
      "\n",
      "8999.966 0.9937 109.554\n",
      "0 existing calculation records provided\n"
     ]
    },
    {
     "name": "stderr",
     "output_type": "stream",
     "text": [
      "100%|█████████████████████████████████████████████████████████████████████████████████████| 1/1 [00:00<00:00,  4.31it/s]"
     ]
    },
    {
     "name": "stdout",
     "output_type": "stream",
     "text": [
      "1 calculation combinations to check\n",
      "1 new records to prepare\n"
     ]
    },
    {
     "name": "stderr",
     "output_type": "stream",
     "text": [
      "\n",
      "preparing: 100%|##########################################################################| 1/1 [00:00<00:00, 36.26it/s]\n"
     ]
    },
    {
     "name": "stdout",
     "output_type": "stream",
     "text": [
      "18c1ddec-9022-48ef-9728-9388cb8f2a3f\n",
      "sim calculated successfully\n",
      "\n",
      "8999.983 0.9938 109.597\n",
      "0 existing calculation records provided\n"
     ]
    },
    {
     "name": "stderr",
     "output_type": "stream",
     "text": [
      "100%|█████████████████████████████████████████████████████████████████████████████████████| 1/1 [00:00<00:00,  2.94it/s]"
     ]
    },
    {
     "name": "stdout",
     "output_type": "stream",
     "text": [
      "1 calculation combinations to check\n",
      "1 new records to prepare\n"
     ]
    },
    {
     "name": "stderr",
     "output_type": "stream",
     "text": [
      "\n",
      "preparing: 100%|##########################################################################| 1/1 [00:00<00:00, 24.09it/s]\n"
     ]
    },
    {
     "name": "stdout",
     "output_type": "stream",
     "text": [
      "fc5b4982-e2ff-4742-91d3-8cc922da1f91\n",
      "sim calculated successfully\n",
      "\n",
      "8999.991 0.9931 109.577\n",
      "0 existing calculation records provided\n"
     ]
    },
    {
     "name": "stderr",
     "output_type": "stream",
     "text": [
      "100%|█████████████████████████████████████████████████████████████████████████████████████| 1/1 [00:00<00:00,  5.36it/s]"
     ]
    },
    {
     "name": "stdout",
     "output_type": "stream",
     "text": [
      "1 calculation combinations to check\n",
      "1 new records to prepare\n"
     ]
    },
    {
     "name": "stderr",
     "output_type": "stream",
     "text": [
      "\n",
      "preparing: 100%|##########################################################################| 1/1 [00:00<00:00, 41.25it/s]\n"
     ]
    },
    {
     "name": "stdout",
     "output_type": "stream",
     "text": [
      "6369f291-e04f-4914-ac9a-efe6960c6760\n",
      "sim calculated successfully\n",
      "\n",
      "8999.996 0.9933 109.539\n",
      "0 existing calculation records provided\n"
     ]
    },
    {
     "name": "stderr",
     "output_type": "stream",
     "text": [
      "100%|█████████████████████████████████████████████████████████████████████████████████████| 1/1 [00:00<00:00,  4.04it/s]"
     ]
    },
    {
     "name": "stdout",
     "output_type": "stream",
     "text": [
      "1 calculation combinations to check\n",
      "1 new records to prepare\n"
     ]
    },
    {
     "name": "stderr",
     "output_type": "stream",
     "text": [
      "\n",
      "preparing: 100%|##########################################################################| 1/1 [00:00<00:00, 23.39it/s]\n"
     ]
    },
    {
     "name": "stdout",
     "output_type": "stream",
     "text": [
      "4f6b91aa-4135-46de-93a0-9b4795be389e\n",
      "sim calculated successfully\n",
      "\n",
      "8999.998 0.994 109.594\n",
      "0 existing calculation records provided\n"
     ]
    },
    {
     "name": "stderr",
     "output_type": "stream",
     "text": [
      "100%|█████████████████████████████████████████████████████████████████████████████████████| 1/1 [00:00<00:00,  4.40it/s]"
     ]
    },
    {
     "name": "stdout",
     "output_type": "stream",
     "text": [
      "1 calculation combinations to check\n",
      "1 new records to prepare\n"
     ]
    },
    {
     "name": "stderr",
     "output_type": "stream",
     "text": [
      "\n",
      "preparing: 100%|##########################################################################| 1/1 [00:00<00:00, 27.01it/s]\n"
     ]
    },
    {
     "name": "stdout",
     "output_type": "stream",
     "text": [
      "6800cc2e-f579-43a0-a83d-da76e518e5af\n",
      "sim calculated successfully\n",
      "\n",
      "8999.999 0.9933 109.595\n",
      "0 existing calculation records provided\n"
     ]
    },
    {
     "name": "stderr",
     "output_type": "stream",
     "text": [
      "100%|█████████████████████████████████████████████████████████████████████████████████████| 1/1 [00:00<00:00,  4.44it/s]"
     ]
    },
    {
     "name": "stdout",
     "output_type": "stream",
     "text": [
      "1 calculation combinations to check\n",
      "1 new records to prepare\n"
     ]
    },
    {
     "name": "stderr",
     "output_type": "stream",
     "text": [
      "\n",
      "preparing: 100%|##########################################################################| 1/1 [00:00<00:00, 23.78it/s]\n"
     ]
    },
    {
     "name": "stdout",
     "output_type": "stream",
     "text": [
      "04e58cdc-0be5-4078-b43d-c63c0760065b\n",
      "sim calculated successfully\n",
      "\n",
      "8999.999 0.9932 109.550\n",
      "0 existing calculation records provided\n"
     ]
    },
    {
     "name": "stderr",
     "output_type": "stream",
     "text": [
      "100%|█████████████████████████████████████████████████████████████████████████████████████| 1/1 [00:00<00:00,  4.35it/s]"
     ]
    },
    {
     "name": "stdout",
     "output_type": "stream",
     "text": [
      "1 calculation combinations to check\n",
      "1 new records to prepare\n"
     ]
    },
    {
     "name": "stderr",
     "output_type": "stream",
     "text": [
      "\n",
      "preparing: 100%|##########################################################################| 1/1 [00:00<00:00, 24.46it/s]\n"
     ]
    },
    {
     "name": "stdout",
     "output_type": "stream",
     "text": [
      "93ec15a5-9edc-4f83-bef9-2ec99907b23f\n",
      "sim calculated successfully\n",
      "\n",
      "9000.000 0.9929 109.580\n",
      "0 existing calculation records provided\n"
     ]
    },
    {
     "name": "stderr",
     "output_type": "stream",
     "text": [
      "100%|█████████████████████████████████████████████████████████████████████████████████████| 1/1 [00:00<00:00,  4.34it/s]"
     ]
    },
    {
     "name": "stdout",
     "output_type": "stream",
     "text": [
      "1 calculation combinations to check\n",
      "1 new records to prepare\n"
     ]
    },
    {
     "name": "stderr",
     "output_type": "stream",
     "text": [
      "\n",
      "preparing: 100%|##########################################################################| 1/1 [00:00<00:00, 26.99it/s]\n"
     ]
    },
    {
     "name": "stdout",
     "output_type": "stream",
     "text": [
      "4459987d-1e0e-48a0-9aae-1ee9bed4486f\n",
      "sim calculated successfully\n",
      "\n",
      "9000.000 0.9929 109.577\n",
      "0 existing calculation records provided\n"
     ]
    },
    {
     "name": "stderr",
     "output_type": "stream",
     "text": [
      "100%|█████████████████████████████████████████████████████████████████████████████████████| 1/1 [00:00<00:00,  4.35it/s]"
     ]
    },
    {
     "name": "stdout",
     "output_type": "stream",
     "text": [
      "1 calculation combinations to check\n",
      "1 new records to prepare\n"
     ]
    },
    {
     "name": "stderr",
     "output_type": "stream",
     "text": [
      "\n",
      "preparing: 100%|##########################################################################| 1/1 [00:00<00:00, 33.91it/s]\n"
     ]
    },
    {
     "name": "stdout",
     "output_type": "stream",
     "text": [
      "b3da3c8e-832d-410f-84b3-42287d0dbc61\n",
      "sim calculated successfully\n",
      "\n",
      "9000.000 0.9937 109.568\n",
      "0 existing calculation records provided\n"
     ]
    },
    {
     "name": "stderr",
     "output_type": "stream",
     "text": [
      "100%|█████████████████████████████████████████████████████████████████████████████████████| 1/1 [00:00<00:00,  4.42it/s]"
     ]
    },
    {
     "name": "stdout",
     "output_type": "stream",
     "text": [
      "1 calculation combinations to check\n",
      "1 new records to prepare\n"
     ]
    },
    {
     "name": "stderr",
     "output_type": "stream",
     "text": [
      "\n",
      "preparing: 100%|##########################################################################| 1/1 [00:00<00:00, 24.11it/s]\n"
     ]
    },
    {
     "name": "stdout",
     "output_type": "stream",
     "text": [
      "ac7e3d32-267e-4a7c-ac56-b90fba99d651\n",
      "sim calculated successfully\n",
      "\n",
      "9000.000 0.9934 109.608\n",
      "0 existing calculation records provided\n"
     ]
    },
    {
     "name": "stderr",
     "output_type": "stream",
     "text": [
      "100%|█████████████████████████████████████████████████████████████████████████████████████| 1/1 [00:00<00:00,  4.42it/s]"
     ]
    },
    {
     "name": "stdout",
     "output_type": "stream",
     "text": [
      "1 calculation combinations to check\n",
      "1 new records to prepare\n"
     ]
    },
    {
     "name": "stderr",
     "output_type": "stream",
     "text": [
      "\n",
      "preparing: 100%|##########################################################################| 1/1 [00:00<00:00, 24.03it/s]\n"
     ]
    },
    {
     "name": "stdout",
     "output_type": "stream",
     "text": [
      "d342d61c-467e-423e-bba6-de4ad34ae388\n",
      "sim calculated successfully\n",
      "\n",
      "9000.000 0.9937 109.622\n",
      "0 existing calculation records provided\n"
     ]
    },
    {
     "name": "stderr",
     "output_type": "stream",
     "text": [
      "100%|█████████████████████████████████████████████████████████████████████████████████████| 1/1 [00:00<00:00,  4.36it/s]"
     ]
    },
    {
     "name": "stdout",
     "output_type": "stream",
     "text": [
      "1 calculation combinations to check\n",
      "1 new records to prepare\n"
     ]
    },
    {
     "name": "stderr",
     "output_type": "stream",
     "text": [
      "\n",
      "preparing: 100%|##########################################################################| 1/1 [00:00<00:00, 22.69it/s]\n"
     ]
    },
    {
     "name": "stdout",
     "output_type": "stream",
     "text": [
      "b0c9b62c-2938-4b89-97fb-97aab0576a91\n",
      "sim calculated successfully\n",
      "\n",
      "9000.000 0.9932 109.557\n",
      "0 existing calculation records provided\n"
     ]
    },
    {
     "name": "stderr",
     "output_type": "stream",
     "text": [
      "100%|█████████████████████████████████████████████████████████████████████████████████████| 1/1 [00:00<00:00,  2.36it/s]"
     ]
    },
    {
     "name": "stdout",
     "output_type": "stream",
     "text": [
      "1 calculation combinations to check\n",
      "1 new records to prepare\n"
     ]
    },
    {
     "name": "stderr",
     "output_type": "stream",
     "text": [
      "\n",
      "preparing: 100%|##########################################################################| 1/1 [00:00<00:00, 32.69it/s]\n"
     ]
    },
    {
     "name": "stdout",
     "output_type": "stream",
     "text": [
      "307abc1b-d90b-4db0-95db-228326899e0b\n",
      "sim calculated successfully\n",
      "\n",
      "9000.000 0.9938 109.606\n",
      "0 existing calculation records provided\n"
     ]
    },
    {
     "name": "stderr",
     "output_type": "stream",
     "text": [
      "100%|█████████████████████████████████████████████████████████████████████████████████████| 1/1 [00:00<00:00,  2.64it/s]"
     ]
    },
    {
     "name": "stdout",
     "output_type": "stream",
     "text": [
      "1 calculation combinations to check\n",
      "1 new records to prepare\n"
     ]
    },
    {
     "name": "stderr",
     "output_type": "stream",
     "text": [
      "\n",
      "preparing: 100%|##########################################################################| 1/1 [00:00<00:00, 38.83it/s]\n"
     ]
    },
    {
     "name": "stdout",
     "output_type": "stream",
     "text": [
      "0097308c-cbfa-4040-bd33-6872671634f7\n",
      "sim calculated successfully\n",
      "\n",
      "9000.000 0.9933 109.626\n",
      "0 existing calculation records provided\n"
     ]
    },
    {
     "name": "stderr",
     "output_type": "stream",
     "text": [
      "100%|█████████████████████████████████████████████████████████████████████████████████████| 1/1 [00:00<00:00,  2.25it/s]"
     ]
    },
    {
     "name": "stdout",
     "output_type": "stream",
     "text": [
      "1 calculation combinations to check\n",
      "1 new records to prepare\n"
     ]
    },
    {
     "name": "stderr",
     "output_type": "stream",
     "text": [
      "\n",
      "preparing: 100%|##########################################################################| 1/1 [00:00<00:00, 21.60it/s]\n"
     ]
    },
    {
     "name": "stdout",
     "output_type": "stream",
     "text": [
      "4b54d340-bf8d-443c-9bc1-a2ae2bb8ecf5\n",
      "sim calculated successfully\n",
      "\n",
      "9000.000 0.9933 109.597\n",
      "0 existing calculation records provided\n"
     ]
    },
    {
     "name": "stderr",
     "output_type": "stream",
     "text": [
      "100%|█████████████████████████████████████████████████████████████████████████████████████| 1/1 [00:00<00:00,  2.32it/s]"
     ]
    },
    {
     "name": "stdout",
     "output_type": "stream",
     "text": [
      "1 calculation combinations to check\n",
      "1 new records to prepare\n"
     ]
    },
    {
     "name": "stderr",
     "output_type": "stream",
     "text": [
      "\n",
      "preparing: 100%|##########################################################################| 1/1 [00:00<00:00, 21.64it/s]\n"
     ]
    },
    {
     "name": "stdout",
     "output_type": "stream",
     "text": [
      "d42def64-a7f9-48c4-b55f-21282c5227b4\n",
      "sim calculated successfully\n",
      "\n",
      "9000.000 0.9938 109.584\n",
      "0 existing calculation records provided\n"
     ]
    },
    {
     "name": "stderr",
     "output_type": "stream",
     "text": [
      "100%|█████████████████████████████████████████████████████████████████████████████████████| 1/1 [00:00<00:00,  2.54it/s]"
     ]
    },
    {
     "name": "stdout",
     "output_type": "stream",
     "text": [
      "1 calculation combinations to check\n",
      "1 new records to prepare\n"
     ]
    },
    {
     "name": "stderr",
     "output_type": "stream",
     "text": [
      "\n",
      "preparing: 100%|##########################################################################| 1/1 [00:00<00:00, 25.31it/s]\n"
     ]
    },
    {
     "name": "stdout",
     "output_type": "stream",
     "text": [
      "7757fe83-8d4d-40d1-9dec-a438e56806b6\n",
      "sim calculated successfully\n",
      "\n",
      "9000.000 0.9929 109.595\n",
      "Max number of runs reached!\n",
      "190 2020--Farkas-D--Fe-Ni-Cr-Co-Al--LAMMPS--ipr1\n",
      "0 existing calculation records provided\n"
     ]
    },
    {
     "name": "stderr",
     "output_type": "stream",
     "text": [
      "100%|█████████████████████████████████████████████████████████████████████████████████████| 1/1 [00:00<00:00,  2.29it/s]"
     ]
    },
    {
     "name": "stdout",
     "output_type": "stream",
     "text": [
      "1 calculation combinations to check\n",
      "1 new records to prepare\n"
     ]
    },
    {
     "name": "stderr",
     "output_type": "stream",
     "text": [
      "\n",
      "preparing: 100%|##########################################################################| 1/1 [00:00<00:00, 27.61it/s]\n"
     ]
    },
    {
     "name": "stdout",
     "output_type": "stream",
     "text": [
      "53754fca-1060-4417-a785-4c92925a89f3\n",
      "sim calculated successfully\n",
      "\n",
      "4525.000 8.276e-05 4500.834\n",
      "0 existing calculation records provided\n"
     ]
    },
    {
     "name": "stderr",
     "output_type": "stream",
     "text": [
      "100%|█████████████████████████████████████████████████████████████████████████████████████| 1/1 [00:00<00:00,  2.92it/s]"
     ]
    },
    {
     "name": "stdout",
     "output_type": "stream",
     "text": [
      "1 calculation combinations to check\n",
      "1 new records to prepare\n"
     ]
    },
    {
     "name": "stderr",
     "output_type": "stream",
     "text": [
      "\n",
      "preparing: 100%|##########################################################################| 1/1 [00:00<00:00, 49.56it/s]\n"
     ]
    },
    {
     "name": "stdout",
     "output_type": "stream",
     "text": [
      "6d63d5ae-7870-493a-abdd-b9239c91a79e\n",
      "sim calculated successfully\n",
      "\n",
      "2287.500 0.1917 2165.209\n",
      "0 existing calculation records provided\n"
     ]
    },
    {
     "name": "stderr",
     "output_type": "stream",
     "text": [
      "100%|█████████████████████████████████████████████████████████████████████████████████████| 1/1 [00:00<00:00,  4.09it/s]"
     ]
    },
    {
     "name": "stdout",
     "output_type": "stream",
     "text": [
      "1 calculation combinations to check\n",
      "1 new records to prepare\n"
     ]
    },
    {
     "name": "stderr",
     "output_type": "stream",
     "text": [
      "\n",
      "preparing: 100%|##########################################################################| 1/1 [00:00<00:00, 39.85it/s]\n"
     ]
    },
    {
     "name": "stdout",
     "output_type": "stream",
     "text": [
      "593eb4e8-1439-4f06-a0d7-e5153e148e8d\n",
      "sim calculated successfully\n",
      "\n",
      "1168.750 0.9999 1167.982\n",
      "0 existing calculation records provided\n"
     ]
    },
    {
     "name": "stderr",
     "output_type": "stream",
     "text": [
      "100%|█████████████████████████████████████████████████████████████████████████████████████| 1/1 [00:00<00:00,  1.85it/s]"
     ]
    },
    {
     "name": "stdout",
     "output_type": "stream",
     "text": [
      "1 calculation combinations to check\n",
      "1 new records to prepare\n"
     ]
    },
    {
     "name": "stderr",
     "output_type": "stream",
     "text": [
      "\n",
      "preparing: 100%|##########################################################################| 1/1 [00:00<00:00, 55.99it/s]\n"
     ]
    },
    {
     "name": "stdout",
     "output_type": "stream",
     "text": [
      "001c2ecf-a1b2-4d4a-a059-edbf403c8315\n",
      "sim calculated successfully\n",
      "\n",
      "1728.125 0.9934 1722.591\n",
      "0 existing calculation records provided\n"
     ]
    },
    {
     "name": "stderr",
     "output_type": "stream",
     "text": [
      "100%|█████████████████████████████████████████████████████████████████████████████████████| 1/1 [00:00<00:00,  4.19it/s]"
     ]
    },
    {
     "name": "stdout",
     "output_type": "stream",
     "text": [
      "1 calculation combinations to check\n",
      "1 new records to prepare\n"
     ]
    },
    {
     "name": "stderr",
     "output_type": "stream",
     "text": [
      "\n",
      "preparing: 100%|##########################################################################| 1/1 [00:00<00:00, 46.58it/s]\n"
     ]
    },
    {
     "name": "stdout",
     "output_type": "stream",
     "text": [
      "69dd783f-f4cc-4abd-8e24-49168a5395a9\n",
      "sim calculated successfully\n",
      "\n",
      "2007.812 0.6715 2210.121\n",
      "0 existing calculation records provided\n"
     ]
    },
    {
     "name": "stderr",
     "output_type": "stream",
     "text": [
      "100%|█████████████████████████████████████████████████████████████████████████████████████| 1/1 [00:00<00:00,  2.46it/s]"
     ]
    },
    {
     "name": "stdout",
     "output_type": "stream",
     "text": [
      "1 calculation combinations to check\n",
      "1 new records to prepare\n"
     ]
    },
    {
     "name": "stderr",
     "output_type": "stream",
     "text": [
      "\n",
      "preparing: 100%|##########################################################################| 1/1 [00:00<00:00, 29.06it/s]\n"
     ]
    },
    {
     "name": "stdout",
     "output_type": "stream",
     "text": [
      "77ae0f06-9a46-4a96-9f93-fbef98d97c97\n",
      "sim calculated successfully\n",
      "\n",
      "2147.656 0.5054 2167.751\n",
      "0 existing calculation records provided\n"
     ]
    },
    {
     "name": "stderr",
     "output_type": "stream",
     "text": [
      "100%|█████████████████████████████████████████████████████████████████████████████████████| 1/1 [00:00<00:00,  2.61it/s]"
     ]
    },
    {
     "name": "stdout",
     "output_type": "stream",
     "text": [
      "1 calculation combinations to check\n",
      "1 new records to prepare\n"
     ]
    },
    {
     "name": "stderr",
     "output_type": "stream",
     "text": [
      "\n",
      "preparing: 100%|##########################################################################| 1/1 [00:00<00:00, 24.55it/s]\n"
     ]
    },
    {
     "name": "stdout",
     "output_type": "stream",
     "text": [
      "352f2810-c2a3-430a-abe8-066aa8449fd6\n",
      "sim calculated successfully\n",
      "\n",
      "2147.656 0.5229 2203.285\n",
      "0 existing calculation records provided\n"
     ]
    },
    {
     "name": "stderr",
     "output_type": "stream",
     "text": [
      "100%|█████████████████████████████████████████████████████████████████████████████████████| 1/1 [00:00<00:00,  2.29it/s]"
     ]
    },
    {
     "name": "stdout",
     "output_type": "stream",
     "text": [
      "1 calculation combinations to check\n",
      "1 new records to prepare\n"
     ]
    },
    {
     "name": "stderr",
     "output_type": "stream",
     "text": [
      "\n",
      "preparing: 100%|##########################################################################| 1/1 [00:00<00:00, 27.82it/s]\n"
     ]
    },
    {
     "name": "stdout",
     "output_type": "stream",
     "text": [
      "ddb57f08-5cc9-4532-a6e3-aa6a340941df\n",
      "sim calculated successfully\n",
      "\n",
      "2147.656 0.5424 2199.504\n",
      "0 existing calculation records provided\n"
     ]
    },
    {
     "name": "stderr",
     "output_type": "stream",
     "text": [
      "100%|█████████████████████████████████████████████████████████████████████████████████████| 1/1 [00:00<00:00,  2.30it/s]"
     ]
    },
    {
     "name": "stdout",
     "output_type": "stream",
     "text": [
      "1 calculation combinations to check\n",
      "1 new records to prepare\n"
     ]
    },
    {
     "name": "stderr",
     "output_type": "stream",
     "text": [
      "\n",
      "preparing: 100%|##########################################################################| 1/1 [00:00<00:00, 30.06it/s]\n"
     ]
    },
    {
     "name": "stdout",
     "output_type": "stream",
     "text": [
      "338a318d-ae57-421a-8c00-fda17174a9cb\n",
      "sim calculated successfully\n",
      "\n",
      "2147.656 0.5367 2199.854\n",
      "0 existing calculation records provided\n"
     ]
    },
    {
     "name": "stderr",
     "output_type": "stream",
     "text": [
      "100%|█████████████████████████████████████████████████████████████████████████████████████| 1/1 [00:00<00:00,  2.81it/s]"
     ]
    },
    {
     "name": "stdout",
     "output_type": "stream",
     "text": [
      "1 calculation combinations to check\n",
      "1 new records to prepare\n"
     ]
    },
    {
     "name": "stderr",
     "output_type": "stream",
     "text": [
      "\n",
      "preparing: 100%|##########################################################################| 1/1 [00:00<00:00, 21.32it/s]\n"
     ]
    },
    {
     "name": "stdout",
     "output_type": "stream",
     "text": [
      "0ab67f8d-dad1-4bc5-a295-8350f73781f8\n",
      "sim calculated successfully\n",
      "\n",
      "2147.656 0.5543 2156.928\n",
      "0 existing calculation records provided\n"
     ]
    },
    {
     "name": "stderr",
     "output_type": "stream",
     "text": [
      "100%|█████████████████████████████████████████████████████████████████████████████████████| 1/1 [00:00<00:00,  2.33it/s]"
     ]
    },
    {
     "name": "stdout",
     "output_type": "stream",
     "text": [
      "1 calculation combinations to check\n",
      "1 new records to prepare\n"
     ]
    },
    {
     "name": "stderr",
     "output_type": "stream",
     "text": [
      "\n",
      "preparing: 100%|##########################################################################| 1/1 [00:00<00:00, 29.55it/s]\n"
     ]
    },
    {
     "name": "stdout",
     "output_type": "stream",
     "text": [
      "f8de052f-763b-40b9-bbb1-6e902784009d\n",
      "sim calculated successfully\n",
      "\n",
      "2147.656 0.5158 2179.472\n",
      "0 existing calculation records provided\n"
     ]
    },
    {
     "name": "stderr",
     "output_type": "stream",
     "text": [
      "100%|█████████████████████████████████████████████████████████████████████████████████████| 1/1 [00:00<00:00,  2.44it/s]"
     ]
    },
    {
     "name": "stdout",
     "output_type": "stream",
     "text": [
      "1 calculation combinations to check\n",
      "1 new records to prepare\n"
     ]
    },
    {
     "name": "stderr",
     "output_type": "stream",
     "text": [
      "\n",
      "preparing: 100%|##########################################################################| 1/1 [00:00<00:00, 27.66it/s]\n"
     ]
    },
    {
     "name": "stdout",
     "output_type": "stream",
     "text": [
      "2b17ebc5-c265-447c-ab84-b4ea735e19b3\n",
      "sim calculated successfully\n",
      "\n",
      "2147.656 0.5384 2197.448\n",
      "0 existing calculation records provided\n"
     ]
    },
    {
     "name": "stderr",
     "output_type": "stream",
     "text": [
      "100%|█████████████████████████████████████████████████████████████████████████████████████| 1/1 [00:00<00:00,  2.52it/s]"
     ]
    },
    {
     "name": "stdout",
     "output_type": "stream",
     "text": [
      "1 calculation combinations to check\n",
      "1 new records to prepare\n"
     ]
    },
    {
     "name": "stderr",
     "output_type": "stream",
     "text": [
      "\n",
      "preparing: 100%|##########################################################################| 1/1 [00:00<00:00, 28.98it/s]\n"
     ]
    },
    {
     "name": "stdout",
     "output_type": "stream",
     "text": [
      "d955edcd-44fb-48b0-990b-e174392b4606\n",
      "sim calculated successfully\n",
      "\n",
      "2147.656 0.5192 2201.540\n",
      "0 existing calculation records provided\n"
     ]
    },
    {
     "name": "stderr",
     "output_type": "stream",
     "text": [
      "100%|█████████████████████████████████████████████████████████████████████████████████████| 1/1 [00:00<00:00,  4.41it/s]"
     ]
    },
    {
     "name": "stdout",
     "output_type": "stream",
     "text": [
      "1 calculation combinations to check\n",
      "1 new records to prepare\n"
     ]
    },
    {
     "name": "stderr",
     "output_type": "stream",
     "text": [
      "\n",
      "preparing: 100%|##########################################################################| 1/1 [00:00<00:00, 30.16it/s]\n"
     ]
    },
    {
     "name": "stdout",
     "output_type": "stream",
     "text": [
      "c2758a1a-cf67-4de2-896c-38dc5768c6cb\n",
      "sim calculated successfully\n",
      "\n",
      "2147.656 0.4689 2161.579\n",
      "189 2020--Farkas-D--Fe-Ni-Cr-Co-Al--LAMMPS--ipr1\n",
      "0 existing calculation records provided\n"
     ]
    },
    {
     "name": "stderr",
     "output_type": "stream",
     "text": [
      "100%|█████████████████████████████████████████████████████████████████████████████████████| 1/1 [00:00<00:00,  2.19it/s]"
     ]
    },
    {
     "name": "stdout",
     "output_type": "stream",
     "text": [
      "1 calculation combinations to check\n",
      "1 new records to prepare\n"
     ]
    },
    {
     "name": "stderr",
     "output_type": "stream",
     "text": [
      "\n",
      "preparing: 100%|##########################################################################| 1/1 [00:00<00:00, 26.43it/s]\n"
     ]
    },
    {
     "name": "stdout",
     "output_type": "stream",
     "text": [
      "d435a077-80ea-44f8-8873-399a03f38276\n",
      "sim calculated successfully\n",
      "\n",
      "4525.000 2.069e-05 4501.274\n",
      "0 existing calculation records provided\n"
     ]
    },
    {
     "name": "stderr",
     "output_type": "stream",
     "text": [
      "100%|█████████████████████████████████████████████████████████████████████████████████████| 1/1 [00:00<00:00,  2.73it/s]"
     ]
    },
    {
     "name": "stdout",
     "output_type": "stream",
     "text": [
      "1 calculation combinations to check\n",
      "1 new records to prepare\n"
     ]
    },
    {
     "name": "stderr",
     "output_type": "stream",
     "text": [
      "\n",
      "preparing: 100%|##########################################################################| 1/1 [00:00<00:00, 42.76it/s]\n"
     ]
    },
    {
     "name": "stdout",
     "output_type": "stream",
     "text": [
      "3921462e-e049-4d9a-aa92-40ccd47325b7\n",
      "sim calculated successfully\n",
      "\n",
      "2287.500 0.002731 2127.049\n",
      "0 existing calculation records provided\n"
     ]
    },
    {
     "name": "stderr",
     "output_type": "stream",
     "text": [
      "100%|█████████████████████████████████████████████████████████████████████████████████████| 1/1 [00:00<00:00,  2.44it/s]"
     ]
    },
    {
     "name": "stdout",
     "output_type": "stream",
     "text": [
      "1 calculation combinations to check\n",
      "1 new records to prepare\n"
     ]
    },
    {
     "name": "stderr",
     "output_type": "stream",
     "text": [
      "\n",
      "preparing: 100%|##########################################################################| 1/1 [00:00<00:00, 29.96it/s]\n"
     ]
    },
    {
     "name": "stdout",
     "output_type": "stream",
     "text": [
      "4ffa89b4-9aab-4c0c-aec6-58aa5f0ebff5\n",
      "sim calculated successfully\n",
      "\n",
      "1168.750 0.9991 1165.989\n",
      "0 existing calculation records provided\n"
     ]
    },
    {
     "name": "stderr",
     "output_type": "stream",
     "text": [
      "100%|█████████████████████████████████████████████████████████████████████████████████████| 1/1 [00:00<00:00,  4.32it/s]"
     ]
    },
    {
     "name": "stdout",
     "output_type": "stream",
     "text": [
      "1 calculation combinations to check\n",
      "1 new records to prepare\n"
     ]
    },
    {
     "name": "stderr",
     "output_type": "stream",
     "text": [
      "\n",
      "preparing: 100%|##########################################################################| 1/1 [00:00<00:00, 30.33it/s]\n"
     ]
    },
    {
     "name": "stdout",
     "output_type": "stream",
     "text": [
      "dfadb687-bfc2-411f-9584-b555ee97c1eb\n",
      "sim calculated successfully\n",
      "\n",
      "1728.125 0.7546 1885.478\n",
      "0 existing calculation records provided\n"
     ]
    },
    {
     "name": "stderr",
     "output_type": "stream",
     "text": [
      "100%|█████████████████████████████████████████████████████████████████████████████████████| 1/1 [00:00<00:00,  3.05it/s]"
     ]
    },
    {
     "name": "stdout",
     "output_type": "stream",
     "text": [
      "1 calculation combinations to check\n",
      "1 new records to prepare\n"
     ]
    },
    {
     "name": "stderr",
     "output_type": "stream",
     "text": [
      "\n",
      "preparing: 100%|##########################################################################| 1/1 [00:00<00:00, 26.94it/s]\n"
     ]
    },
    {
     "name": "stdout",
     "output_type": "stream",
     "text": [
      "04590dad-1059-4a42-9934-13707ded9437\n",
      "sim calculated successfully\n",
      "\n",
      "2007.812 0.2855 1907.926\n",
      "0 existing calculation records provided\n"
     ]
    },
    {
     "name": "stderr",
     "output_type": "stream",
     "text": [
      "100%|█████████████████████████████████████████████████████████████████████████████████████| 1/1 [00:00<00:00,  4.54it/s]"
     ]
    },
    {
     "name": "stdout",
     "output_type": "stream",
     "text": [
      "1 calculation combinations to check\n",
      "1 new records to prepare\n"
     ]
    },
    {
     "name": "stderr",
     "output_type": "stream",
     "text": [
      "\n",
      "preparing: 100%|##########################################################################| 1/1 [00:00<00:00, 31.37it/s]\n"
     ]
    },
    {
     "name": "stdout",
     "output_type": "stream",
     "text": [
      "da91890a-1218-4e61-9d72-e9945dc8b85d\n",
      "sim calculated successfully\n",
      "\n",
      "1867.969 0.5613 1900.040\n",
      "0 existing calculation records provided\n"
     ]
    },
    {
     "name": "stderr",
     "output_type": "stream",
     "text": [
      "100%|█████████████████████████████████████████████████████████████████████████████████████| 1/1 [00:00<00:00,  2.67it/s]"
     ]
    },
    {
     "name": "stdout",
     "output_type": "stream",
     "text": [
      "1 calculation combinations to check\n",
      "1 new records to prepare\n"
     ]
    },
    {
     "name": "stderr",
     "output_type": "stream",
     "text": [
      "\n",
      "preparing: 100%|##########################################################################| 1/1 [00:00<00:00, 48.19it/s]\n"
     ]
    },
    {
     "name": "stdout",
     "output_type": "stream",
     "text": [
      "a0ff7cf8-4d9e-4916-8cbb-5b32d3494ab4\n",
      "sim calculated successfully\n",
      "\n",
      "1867.969 0.5654 1904.466\n",
      "0 existing calculation records provided\n"
     ]
    },
    {
     "name": "stderr",
     "output_type": "stream",
     "text": [
      "100%|█████████████████████████████████████████████████████████████████████████████████████| 1/1 [00:00<00:00,  4.65it/s]"
     ]
    },
    {
     "name": "stdout",
     "output_type": "stream",
     "text": [
      "1 calculation combinations to check\n",
      "1 new records to prepare\n"
     ]
    },
    {
     "name": "stderr",
     "output_type": "stream",
     "text": [
      "\n",
      "preparing: 100%|##########################################################################| 1/1 [00:00<00:00, 31.05it/s]\n"
     ]
    },
    {
     "name": "stdout",
     "output_type": "stream",
     "text": [
      "9083bf0a-195d-44cf-af81-f229d8696b4e\n",
      "sim calculated successfully\n",
      "\n",
      "1867.969 0.5704 1913.379\n",
      "0 existing calculation records provided\n"
     ]
    },
    {
     "name": "stderr",
     "output_type": "stream",
     "text": [
      "100%|█████████████████████████████████████████████████████████████████████████████████████| 1/1 [00:00<00:00,  4.13it/s]"
     ]
    },
    {
     "name": "stdout",
     "output_type": "stream",
     "text": [
      "1 calculation combinations to check\n",
      "1 new records to prepare\n"
     ]
    },
    {
     "name": "stderr",
     "output_type": "stream",
     "text": [
      "\n",
      "preparing: 100%|##########################################################################| 1/1 [00:00<00:00, 46.00it/s]\n"
     ]
    },
    {
     "name": "stdout",
     "output_type": "stream",
     "text": [
      "5476f790-c363-46c0-bb31-c9a6030006c4\n",
      "sim calculated successfully\n",
      "\n",
      "1867.969 0.5722 1920.662\n",
      "0 existing calculation records provided\n"
     ]
    },
    {
     "name": "stderr",
     "output_type": "stream",
     "text": [
      "100%|█████████████████████████████████████████████████████████████████████████████████████| 1/1 [00:00<00:00,  2.51it/s]"
     ]
    },
    {
     "name": "stdout",
     "output_type": "stream",
     "text": [
      "1 calculation combinations to check\n",
      "1 new records to prepare\n"
     ]
    },
    {
     "name": "stderr",
     "output_type": "stream",
     "text": [
      "\n",
      "preparing: 100%|##########################################################################| 1/1 [00:00<00:00, 27.89it/s]\n"
     ]
    },
    {
     "name": "stdout",
     "output_type": "stream",
     "text": [
      "7c08bc94-b5c3-40b6-84be-f27203b56f87\n",
      "sim calculated successfully\n",
      "\n",
      "1867.969 0.5848 1910.333\n",
      "0 existing calculation records provided\n"
     ]
    },
    {
     "name": "stderr",
     "output_type": "stream",
     "text": [
      "100%|█████████████████████████████████████████████████████████████████████████████████████| 1/1 [00:00<00:00,  4.55it/s]"
     ]
    },
    {
     "name": "stdout",
     "output_type": "stream",
     "text": [
      "1 calculation combinations to check\n",
      "1 new records to prepare\n"
     ]
    },
    {
     "name": "stderr",
     "output_type": "stream",
     "text": [
      "\n",
      "preparing: 100%|##########################################################################| 1/1 [00:00<00:00, 29.46it/s]\n"
     ]
    },
    {
     "name": "stdout",
     "output_type": "stream",
     "text": [
      "c3407548-2029-4f80-a5d5-ba1de0590677\n",
      "sim calculated successfully\n",
      "\n",
      "1867.969 0.5335 1912.645\n",
      "0 existing calculation records provided\n"
     ]
    },
    {
     "name": "stderr",
     "output_type": "stream",
     "text": [
      "100%|█████████████████████████████████████████████████████████████████████████████████████| 1/1 [00:00<00:00,  2.91it/s]"
     ]
    },
    {
     "name": "stdout",
     "output_type": "stream",
     "text": [
      "1 calculation combinations to check\n",
      "1 new records to prepare\n"
     ]
    },
    {
     "name": "stderr",
     "output_type": "stream",
     "text": [
      "\n",
      "preparing: 100%|##########################################################################| 1/1 [00:00<00:00, 43.65it/s]\n"
     ]
    },
    {
     "name": "stdout",
     "output_type": "stream",
     "text": [
      "d6872b3b-bff7-4735-8cb5-522a2df54012\n",
      "sim calculated successfully\n",
      "\n",
      "1867.969 0.5725 1912.639\n",
      "0 existing calculation records provided\n"
     ]
    },
    {
     "name": "stderr",
     "output_type": "stream",
     "text": [
      "100%|█████████████████████████████████████████████████████████████████████████████████████| 1/1 [00:00<00:00,  4.29it/s]"
     ]
    },
    {
     "name": "stdout",
     "output_type": "stream",
     "text": [
      "1 calculation combinations to check\n",
      "1 new records to prepare\n"
     ]
    },
    {
     "name": "stderr",
     "output_type": "stream",
     "text": [
      "\n",
      "preparing: 100%|##########################################################################| 1/1 [00:00<00:00, 42.35it/s]\n"
     ]
    },
    {
     "name": "stdout",
     "output_type": "stream",
     "text": [
      "1cf79c12-d64c-44a0-89fc-23e8979d36c6\n",
      "sim calculated successfully\n",
      "\n",
      "1867.969 0.5966 1917.307\n",
      "0 existing calculation records provided\n"
     ]
    },
    {
     "name": "stderr",
     "output_type": "stream",
     "text": [
      "100%|█████████████████████████████████████████████████████████████████████████████████████| 1/1 [00:00<00:00,  4.22it/s]"
     ]
    },
    {
     "name": "stdout",
     "output_type": "stream",
     "text": [
      "1 calculation combinations to check\n",
      "1 new records to prepare\n"
     ]
    },
    {
     "name": "stderr",
     "output_type": "stream",
     "text": [
      "\n",
      "preparing: 100%|##########################################################################| 1/1 [00:00<00:00, 49.10it/s]\n"
     ]
    },
    {
     "name": "stdout",
     "output_type": "stream",
     "text": [
      "668590b2-3248-482c-bbfb-44078ca6e27a\n",
      "sim calculated successfully\n",
      "\n",
      "1867.969 0.5646 1913.745\n",
      "188 2020--Farkas-D--Fe-Ni-Cr-Co-Al--LAMMPS--ipr1\n",
      "0 existing calculation records provided\n"
     ]
    },
    {
     "name": "stderr",
     "output_type": "stream",
     "text": [
      "100%|█████████████████████████████████████████████████████████████████████████████████████| 1/1 [00:00<00:00,  4.07it/s]"
     ]
    },
    {
     "name": "stdout",
     "output_type": "stream",
     "text": [
      "1 calculation combinations to check\n",
      "1 new records to prepare\n"
     ]
    },
    {
     "name": "stderr",
     "output_type": "stream",
     "text": [
      "\n",
      "preparing: 100%|##########################################################################| 1/1 [00:00<00:00, 53.49it/s]\n"
     ]
    },
    {
     "name": "stdout",
     "output_type": "stream",
     "text": [
      "7f666587-ffbb-401c-b193-01f670e813eb\n",
      "sim calculated successfully\n",
      "\n",
      "4525.000 0.3332 3196.375\n",
      "0 existing calculation records provided\n"
     ]
    },
    {
     "name": "stderr",
     "output_type": "stream",
     "text": [
      "100%|█████████████████████████████████████████████████████████████████████████████████████| 1/1 [00:00<00:00,  2.40it/s]"
     ]
    },
    {
     "name": "stdout",
     "output_type": "stream",
     "text": [
      "1 calculation combinations to check\n",
      "1 new records to prepare\n"
     ]
    },
    {
     "name": "stderr",
     "output_type": "stream",
     "text": [
      "\n",
      "preparing: 100%|##########################################################################| 1/1 [00:00<00:00, 29.28it/s]\n"
     ]
    },
    {
     "name": "stdout",
     "output_type": "stream",
     "text": [
      "331014a9-7dbd-43b0-a7c0-a79e1d4b3664\n",
      "sim calculated successfully\n",
      "\n",
      "2287.500 3.103e-05 2280.878\n",
      "0 existing calculation records provided\n"
     ]
    },
    {
     "name": "stderr",
     "output_type": "stream",
     "text": [
      "100%|█████████████████████████████████████████████████████████████████████████████████████| 1/1 [00:00<00:00,  4.38it/s]"
     ]
    },
    {
     "name": "stdout",
     "output_type": "stream",
     "text": [
      "1 calculation combinations to check\n",
      "1 new records to prepare\n"
     ]
    },
    {
     "name": "stderr",
     "output_type": "stream",
     "text": [
      "\n",
      "preparing: 100%|##########################################################################| 1/1 [00:00<00:00, 27.63it/s]\n"
     ]
    },
    {
     "name": "stdout",
     "output_type": "stream",
     "text": [
      "ef39727b-8098-4f4b-b2bb-f0d29ac0e412\n",
      "sim calculated successfully\n",
      "\n",
      "1168.750 0.001862 1064.524\n",
      "0 existing calculation records provided\n"
     ]
    },
    {
     "name": "stderr",
     "output_type": "stream",
     "text": [
      "100%|█████████████████████████████████████████████████████████████████████████████████████| 1/1 [00:00<00:00,  2.65it/s]"
     ]
    },
    {
     "name": "stdout",
     "output_type": "stream",
     "text": [
      "1 calculation combinations to check\n",
      "1 new records to prepare\n"
     ]
    },
    {
     "name": "stderr",
     "output_type": "stream",
     "text": [
      "\n",
      "preparing: 100%|##########################################################################| 1/1 [00:00<00:00, 51.72it/s]\n"
     ]
    },
    {
     "name": "stdout",
     "output_type": "stream",
     "text": [
      "ff41e629-2a38-4f0a-b59e-ad64e6b11039\n",
      "sim calculated successfully\n",
      "\n",
      "609.375 1.0 606.918\n",
      "0 existing calculation records provided\n"
     ]
    },
    {
     "name": "stderr",
     "output_type": "stream",
     "text": [
      "100%|█████████████████████████████████████████████████████████████████████████████████████| 1/1 [00:00<00:00,  4.45it/s]"
     ]
    },
    {
     "name": "stdout",
     "output_type": "stream",
     "text": [
      "1 calculation combinations to check\n",
      "1 new records to prepare\n"
     ]
    },
    {
     "name": "stderr",
     "output_type": "stream",
     "text": [
      "\n",
      "preparing: 100%|##########################################################################| 1/1 [00:00<00:00, 38.03it/s]\n"
     ]
    },
    {
     "name": "stdout",
     "output_type": "stream",
     "text": [
      "0cea2593-6313-4b5d-956b-97e32c224732\n",
      "sim calculated successfully\n",
      "\n",
      "889.062 0.7132 902.659\n",
      "0 existing calculation records provided\n"
     ]
    },
    {
     "name": "stderr",
     "output_type": "stream",
     "text": [
      "100%|█████████████████████████████████████████████████████████████████████████████████████| 1/1 [00:00<00:00,  2.30it/s]"
     ]
    },
    {
     "name": "stdout",
     "output_type": "stream",
     "text": [
      "1 calculation combinations to check\n",
      "1 new records to prepare\n"
     ]
    },
    {
     "name": "stderr",
     "output_type": "stream",
     "text": [
      "\n",
      "preparing: 100%|##########################################################################| 1/1 [00:00<00:00, 21.82it/s]\n"
     ]
    },
    {
     "name": "stdout",
     "output_type": "stream",
     "text": [
      "3a8b1aa8-32e8-4329-90e5-873bd2e525cb\n",
      "sim calculated successfully\n",
      "\n",
      "1028.906 0.1938 956.119\n",
      "0 existing calculation records provided\n"
     ]
    },
    {
     "name": "stderr",
     "output_type": "stream",
     "text": [
      "100%|█████████████████████████████████████████████████████████████████████████████████████| 1/1 [00:00<00:00,  4.21it/s]"
     ]
    },
    {
     "name": "stdout",
     "output_type": "stream",
     "text": [
      "1 calculation combinations to check\n",
      "1 new records to prepare\n"
     ]
    },
    {
     "name": "stderr",
     "output_type": "stream",
     "text": [
      "\n",
      "preparing: 100%|##########################################################################| 1/1 [00:00<00:00, 48.31it/s]\n"
     ]
    },
    {
     "name": "stdout",
     "output_type": "stream",
     "text": [
      "28eb3bed-5763-4292-9f45-a13fcec6ad2b\n",
      "sim calculated successfully\n",
      "\n",
      "819.141 0.9994 815.765\n",
      "0 existing calculation records provided\n"
     ]
    },
    {
     "name": "stderr",
     "output_type": "stream",
     "text": [
      "100%|█████████████████████████████████████████████████████████████████████████████████████| 1/1 [00:00<00:00,  2.33it/s]"
     ]
    },
    {
     "name": "stdout",
     "output_type": "stream",
     "text": [
      "1 calculation combinations to check\n",
      "1 new records to prepare\n"
     ]
    },
    {
     "name": "stderr",
     "output_type": "stream",
     "text": [
      "\n",
      "preparing: 100%|##########################################################################| 1/1 [00:00<00:00, 25.85it/s]\n"
     ]
    },
    {
     "name": "stdout",
     "output_type": "stream",
     "text": [
      "8f625c50-e1f7-4630-bb7b-30930b53b3cc\n",
      "sim calculated successfully\n",
      "\n",
      "924.023 0.6166 923.295\n",
      "0 existing calculation records provided\n"
     ]
    },
    {
     "name": "stderr",
     "output_type": "stream",
     "text": [
      "100%|█████████████████████████████████████████████████████████████████████████████████████| 1/1 [00:00<00:00,  2.23it/s]"
     ]
    },
    {
     "name": "stdout",
     "output_type": "stream",
     "text": [
      "1 calculation combinations to check\n",
      "1 new records to prepare\n"
     ]
    },
    {
     "name": "stderr",
     "output_type": "stream",
     "text": [
      "\n",
      "preparing: 100%|##########################################################################| 1/1 [00:00<00:00, 43.03it/s]\n"
     ]
    },
    {
     "name": "stdout",
     "output_type": "stream",
     "text": [
      "e97500a2-1ec8-464e-9c52-5afe16ebf19a\n",
      "sim calculated successfully\n",
      "\n",
      "976.465 0.3904 943.971\n",
      "0 existing calculation records provided\n"
     ]
    },
    {
     "name": "stderr",
     "output_type": "stream",
     "text": [
      "100%|█████████████████████████████████████████████████████████████████████████████████████| 1/1 [00:00<00:00,  2.24it/s]"
     ]
    },
    {
     "name": "stdout",
     "output_type": "stream",
     "text": [
      "1 calculation combinations to check\n",
      "1 new records to prepare\n"
     ]
    },
    {
     "name": "stderr",
     "output_type": "stream",
     "text": [
      "\n",
      "preparing: 100%|##########################################################################| 1/1 [00:00<00:00, 27.08it/s]\n"
     ]
    },
    {
     "name": "stdout",
     "output_type": "stream",
     "text": [
      "7af3032f-c79a-4292-88c3-a8cfd1e08cc1\n",
      "sim calculated successfully\n",
      "\n",
      "897.803 0.6676 904.247\n",
      "0 existing calculation records provided\n"
     ]
    },
    {
     "name": "stderr",
     "output_type": "stream",
     "text": [
      "100%|█████████████████████████████████████████████████████████████████████████████████████| 1/1 [00:00<00:00,  2.19it/s]"
     ]
    },
    {
     "name": "stdout",
     "output_type": "stream",
     "text": [
      "1 calculation combinations to check\n",
      "1 new records to prepare\n"
     ]
    },
    {
     "name": "stderr",
     "output_type": "stream",
     "text": [
      "\n",
      "preparing: 100%|##########################################################################| 1/1 [00:00<00:00, 28.43it/s]\n"
     ]
    },
    {
     "name": "stdout",
     "output_type": "stream",
     "text": [
      "4878fbe9-4dc2-4d12-bab1-21bad8570623\n",
      "sim calculated successfully\n",
      "\n",
      "963.354 0.4876 941.344\n",
      "0 existing calculation records provided\n"
     ]
    },
    {
     "name": "stderr",
     "output_type": "stream",
     "text": [
      "100%|█████████████████████████████████████████████████████████████████████████████████████| 1/1 [00:00<00:00,  2.23it/s]"
     ]
    },
    {
     "name": "stdout",
     "output_type": "stream",
     "text": [
      "1 calculation combinations to check\n",
      "1 new records to prepare\n"
     ]
    },
    {
     "name": "stderr",
     "output_type": "stream",
     "text": [
      "\n",
      "preparing: 100%|##########################################################################| 1/1 [00:00<00:00, 29.14it/s]\n"
     ]
    },
    {
     "name": "stdout",
     "output_type": "stream",
     "text": [
      "af550e7c-4358-4359-9460-8a1dfc35fbcf\n",
      "sim calculated successfully\n",
      "\n",
      "963.354 0.487 940.940\n",
      "0 existing calculation records provided\n"
     ]
    },
    {
     "name": "stderr",
     "output_type": "stream",
     "text": [
      "100%|█████████████████████████████████████████████████████████████████████████████████████| 1/1 [00:00<00:00,  4.29it/s]"
     ]
    },
    {
     "name": "stdout",
     "output_type": "stream",
     "text": [
      "1 calculation combinations to check\n",
      "1 new records to prepare\n"
     ]
    },
    {
     "name": "stderr",
     "output_type": "stream",
     "text": [
      "\n",
      "preparing: 100%|##########################################################################| 1/1 [00:00<00:00, 37.50it/s]\n"
     ]
    },
    {
     "name": "stdout",
     "output_type": "stream",
     "text": [
      "8b486f76-1176-4b47-bea7-d8040455c8fd\n",
      "sim calculated successfully\n",
      "\n",
      "963.354 0.4834 942.134\n",
      "0 existing calculation records provided\n"
     ]
    },
    {
     "name": "stderr",
     "output_type": "stream",
     "text": [
      "100%|█████████████████████████████████████████████████████████████████████████████████████| 1/1 [00:00<00:00,  2.51it/s]"
     ]
    },
    {
     "name": "stdout",
     "output_type": "stream",
     "text": [
      "1 calculation combinations to check\n",
      "1 new records to prepare\n"
     ]
    },
    {
     "name": "stderr",
     "output_type": "stream",
     "text": [
      "\n",
      "preparing: 100%|##########################################################################| 1/1 [00:00<00:00, 30.59it/s]\n"
     ]
    },
    {
     "name": "stdout",
     "output_type": "stream",
     "text": [
      "95817183-6de3-4f04-a003-ce4250e9b988\n",
      "sim calculated successfully\n",
      "\n",
      "963.354 0.4443 937.657\n",
      "0 existing calculation records provided\n"
     ]
    },
    {
     "name": "stderr",
     "output_type": "stream",
     "text": [
      "100%|█████████████████████████████████████████████████████████████████████████████████████| 1/1 [00:00<00:00,  2.70it/s]"
     ]
    },
    {
     "name": "stdout",
     "output_type": "stream",
     "text": [
      "1 calculation combinations to check\n",
      "1 new records to prepare\n"
     ]
    },
    {
     "name": "stderr",
     "output_type": "stream",
     "text": [
      "\n",
      "preparing: 100%|##########################################################################| 1/1 [00:00<00:00, 40.07it/s]\n"
     ]
    },
    {
     "name": "stdout",
     "output_type": "stream",
     "text": [
      "fe6f159c-e9d4-4fcd-97f5-4d6d1a0250b5\n",
      "sim calculated successfully\n",
      "\n",
      "963.354 0.4614 937.890\n",
      "187 2019--Mendelev-M-I--Fe-Ni-Cr--LAMMPS--ipr1\n",
      "0 existing calculation records provided\n"
     ]
    },
    {
     "name": "stderr",
     "output_type": "stream",
     "text": [
      "100%|█████████████████████████████████████████████████████████████████████████████████████| 1/1 [00:00<00:00,  2.20it/s]"
     ]
    },
    {
     "name": "stdout",
     "output_type": "stream",
     "text": [
      "1 calculation combinations to check\n",
      "1 new records to prepare\n"
     ]
    },
    {
     "name": "stderr",
     "output_type": "stream",
     "text": [
      "\n",
      "preparing: 100%|##########################################################################| 1/1 [00:00<00:00, 18.60it/s]\n"
     ]
    },
    {
     "name": "stdout",
     "output_type": "stream",
     "text": [
      "e0d3b30a-99b6-40b4-a49d-0c55cdf5c207\n",
      "sim calculated successfully\n",
      "\n",
      "4525.000 0.0 4497.032\n",
      "0 existing calculation records provided\n"
     ]
    },
    {
     "name": "stderr",
     "output_type": "stream",
     "text": [
      "100%|█████████████████████████████████████████████████████████████████████████████████████| 1/1 [00:00<00:00,  2.25it/s]"
     ]
    },
    {
     "name": "stdout",
     "output_type": "stream",
     "text": [
      "1 calculation combinations to check\n",
      "1 new records to prepare\n"
     ]
    },
    {
     "name": "stderr",
     "output_type": "stream",
     "text": [
      "\n",
      "preparing: 100%|##########################################################################| 1/1 [00:00<00:00, 16.28it/s]\n"
     ]
    },
    {
     "name": "stdout",
     "output_type": "stream",
     "text": [
      "22dd4978-c555-443b-b335-9110fdb4c377\n",
      "sim calculated successfully\n",
      "\n",
      "2287.500 0.0004034 2202.146\n",
      "0 existing calculation records provided\n"
     ]
    },
    {
     "name": "stderr",
     "output_type": "stream",
     "text": [
      "100%|█████████████████████████████████████████████████████████████████████████████████████| 1/1 [00:00<00:00,  4.23it/s]"
     ]
    },
    {
     "name": "stdout",
     "output_type": "stream",
     "text": [
      "1 calculation combinations to check\n",
      "1 new records to prepare\n"
     ]
    },
    {
     "name": "stderr",
     "output_type": "stream",
     "text": [
      "\n",
      "preparing: 100%|##########################################################################| 1/1 [00:00<00:00, 21.90it/s]\n"
     ]
    },
    {
     "name": "stdout",
     "output_type": "stream",
     "text": [
      "07733cd4-4ce3-4cb3-ad74-e7408cacf441\n",
      "sim calculated successfully\n",
      "\n",
      "1168.750 0.9972 1166.728\n",
      "0 existing calculation records provided\n"
     ]
    },
    {
     "name": "stderr",
     "output_type": "stream",
     "text": [
      "100%|█████████████████████████████████████████████████████████████████████████████████████| 1/1 [00:00<00:00,  2.35it/s]"
     ]
    },
    {
     "name": "stdout",
     "output_type": "stream",
     "text": [
      "1 calculation combinations to check\n",
      "1 new records to prepare\n"
     ]
    },
    {
     "name": "stderr",
     "output_type": "stream",
     "text": [
      "\n",
      "preparing: 100%|##########################################################################| 1/1 [00:00<00:00, 18.18it/s]\n"
     ]
    },
    {
     "name": "stdout",
     "output_type": "stream",
     "text": [
      "6e210bcb-696d-4d84-aa06-29922a0e996d\n",
      "sim calculated successfully\n",
      "\n",
      "1728.125 0.3979 1681.301\n",
      "0 existing calculation records provided\n"
     ]
    },
    {
     "name": "stderr",
     "output_type": "stream",
     "text": [
      "100%|█████████████████████████████████████████████████████████████████████████████████████| 1/1 [00:00<00:00,  2.27it/s]"
     ]
    },
    {
     "name": "stdout",
     "output_type": "stream",
     "text": [
      "1 calculation combinations to check\n",
      "1 new records to prepare\n"
     ]
    },
    {
     "name": "stderr",
     "output_type": "stream",
     "text": [
      "\n",
      "preparing: 100%|##########################################################################| 1/1 [00:00<00:00, 16.93it/s]\n"
     ]
    },
    {
     "name": "stdout",
     "output_type": "stream",
     "text": [
      "b08232f2-883a-44f5-a021-fa322e70c560\n",
      "sim calculated successfully\n",
      "\n",
      "1448.438 0.9828 1446.419\n",
      "0 existing calculation records provided\n"
     ]
    },
    {
     "name": "stderr",
     "output_type": "stream",
     "text": [
      "100%|█████████████████████████████████████████████████████████████████████████████████████| 1/1 [00:00<00:00,  4.00it/s]"
     ]
    },
    {
     "name": "stdout",
     "output_type": "stream",
     "text": [
      "1 calculation combinations to check\n",
      "1 new records to prepare\n"
     ]
    },
    {
     "name": "stderr",
     "output_type": "stream",
     "text": [
      "\n",
      "preparing: 100%|##########################################################################| 1/1 [00:00<00:00, 26.76it/s]\n"
     ]
    },
    {
     "name": "stdout",
     "output_type": "stream",
     "text": [
      "6baab36c-f5b2-4ddb-9109-09933ea204fd\n",
      "sim calculated successfully\n",
      "\n",
      "1867.969 0.008483 1670.036\n",
      "0 existing calculation records provided\n"
     ]
    },
    {
     "name": "stderr",
     "output_type": "stream",
     "text": [
      "100%|█████████████████████████████████████████████████████████████████████████████████████| 1/1 [00:00<00:00,  2.31it/s]"
     ]
    },
    {
     "name": "stdout",
     "output_type": "stream",
     "text": [
      "1 calculation combinations to check\n",
      "1 new records to prepare\n"
     ]
    },
    {
     "name": "stderr",
     "output_type": "stream",
     "text": [
      "\n",
      "preparing: 100%|##########################################################################| 1/1 [00:00<00:00, 17.21it/s]\n"
     ]
    },
    {
     "name": "stdout",
     "output_type": "stream",
     "text": [
      "312aed94-a8e1-42a5-8078-f392881cc404\n",
      "sim calculated successfully\n",
      "\n",
      "1658.203 0.6005 1701.309\n",
      "0 existing calculation records provided\n"
     ]
    },
    {
     "name": "stderr",
     "output_type": "stream",
     "text": [
      "100%|█████████████████████████████████████████████████████████████████████████████████████| 1/1 [00:00<00:00,  2.33it/s]"
     ]
    },
    {
     "name": "stdout",
     "output_type": "stream",
     "text": [
      "1 calculation combinations to check\n",
      "1 new records to prepare\n"
     ]
    },
    {
     "name": "stderr",
     "output_type": "stream",
     "text": [
      "\n",
      "preparing: 100%|##########################################################################| 1/1 [00:00<00:00, 17.96it/s]\n"
     ]
    },
    {
     "name": "stdout",
     "output_type": "stream",
     "text": [
      "78ed2c42-9782-41b6-946a-d486f3e75a97\n",
      "sim calculated successfully\n",
      "\n",
      "1763.086 0.335 1677.497\n",
      "0 existing calculation records provided\n"
     ]
    },
    {
     "name": "stderr",
     "output_type": "stream",
     "text": [
      "100%|█████████████████████████████████████████████████████████████████████████████████████| 1/1 [00:00<00:00,  2.50it/s]"
     ]
    },
    {
     "name": "stdout",
     "output_type": "stream",
     "text": [
      "1 calculation combinations to check\n",
      "1 new records to prepare\n"
     ]
    },
    {
     "name": "stderr",
     "output_type": "stream",
     "text": [
      "\n",
      "preparing: 100%|##########################################################################| 1/1 [00:00<00:00, 25.42it/s]\n"
     ]
    },
    {
     "name": "stdout",
     "output_type": "stream",
     "text": [
      "866f0932-cf97-4678-91c7-3215b90cebde\n",
      "sim calculated successfully\n",
      "\n",
      "1605.762 0.6314 1686.578\n",
      "0 existing calculation records provided\n"
     ]
    },
    {
     "name": "stderr",
     "output_type": "stream",
     "text": [
      "100%|█████████████████████████████████████████████████████████████████████████████████████| 1/1 [00:00<00:00,  4.14it/s]"
     ]
    },
    {
     "name": "stdout",
     "output_type": "stream",
     "text": [
      "1 calculation combinations to check\n",
      "1 new records to prepare\n"
     ]
    },
    {
     "name": "stderr",
     "output_type": "stream",
     "text": [
      "\n",
      "preparing: 100%|##########################################################################| 1/1 [00:00<00:00, 18.50it/s]\n"
     ]
    },
    {
     "name": "stdout",
     "output_type": "stream",
     "text": [
      "6ec089ae-b949-46ff-8eef-80cb3736889b\n",
      "sim calculated successfully\n",
      "\n",
      "1736.865 0.3965 1681.036\n",
      "0 existing calculation records provided\n"
     ]
    },
    {
     "name": "stderr",
     "output_type": "stream",
     "text": [
      "100%|█████████████████████████████████████████████████████████████████████████████████████| 1/1 [00:00<00:00,  2.32it/s]"
     ]
    },
    {
     "name": "stdout",
     "output_type": "stream",
     "text": [
      "1 calculation combinations to check\n",
      "1 new records to prepare\n"
     ]
    },
    {
     "name": "stderr",
     "output_type": "stream",
     "text": [
      "\n",
      "preparing: 100%|##########################################################################| 1/1 [00:00<00:00, 18.67it/s]\n"
     ]
    },
    {
     "name": "stdout",
     "output_type": "stream",
     "text": [
      "b60e3aa9-f03d-4ae0-baaa-8247538feec7\n",
      "sim calculated successfully\n",
      "\n",
      "1592.651 0.6762 1672.861\n",
      "0 existing calculation records provided\n"
     ]
    },
    {
     "name": "stderr",
     "output_type": "stream",
     "text": [
      "100%|█████████████████████████████████████████████████████████████████████████████████████| 1/1 [00:00<00:00,  2.81it/s]"
     ]
    },
    {
     "name": "stdout",
     "output_type": "stream",
     "text": [
      "1 calculation combinations to check\n",
      "1 new records to prepare\n"
     ]
    },
    {
     "name": "stderr",
     "output_type": "stream",
     "text": [
      "\n",
      "preparing: 100%|##########################################################################| 1/1 [00:00<00:00, 29.69it/s]\n"
     ]
    },
    {
     "name": "stdout",
     "output_type": "stream",
     "text": [
      "060d7e39-b6c8-4507-ad6b-0010da338933\n",
      "sim calculated successfully\n",
      "\n",
      "1730.310 0.4133 1694.220\n",
      "0 existing calculation records provided\n"
     ]
    },
    {
     "name": "stderr",
     "output_type": "stream",
     "text": [
      "100%|█████████████████████████████████████████████████████████████████████████████████████| 1/1 [00:00<00:00,  4.19it/s]"
     ]
    },
    {
     "name": "stdout",
     "output_type": "stream",
     "text": [
      "1 calculation combinations to check\n",
      "1 new records to prepare\n"
     ]
    },
    {
     "name": "stderr",
     "output_type": "stream",
     "text": [
      "\n",
      "preparing: 100%|##########################################################################| 1/1 [00:00<00:00, 23.99it/s]\n"
     ]
    },
    {
     "name": "stdout",
     "output_type": "stream",
     "text": [
      "802089e6-0e89-48c7-8cd6-e6f2f402f475\n",
      "sim calculated successfully\n",
      "\n",
      "1730.310 0.4092 1680.639\n",
      "0 existing calculation records provided\n"
     ]
    },
    {
     "name": "stderr",
     "output_type": "stream",
     "text": [
      "100%|█████████████████████████████████████████████████████████████████████████████████████| 1/1 [00:00<00:00,  2.36it/s]"
     ]
    },
    {
     "name": "stdout",
     "output_type": "stream",
     "text": [
      "1 calculation combinations to check\n",
      "1 new records to prepare\n"
     ]
    },
    {
     "name": "stderr",
     "output_type": "stream",
     "text": [
      "\n",
      "preparing: 100%|##########################################################################| 1/1 [00:00<00:00, 17.61it/s]\n"
     ]
    },
    {
     "name": "stdout",
     "output_type": "stream",
     "text": [
      "4073ff48-e968-4c57-b9b6-3500650e281b\n",
      "sim calculated successfully\n",
      "\n",
      "1730.310 0.4408 1685.126\n",
      "0 existing calculation records provided\n"
     ]
    },
    {
     "name": "stderr",
     "output_type": "stream",
     "text": [
      "100%|█████████████████████████████████████████████████████████████████████████████████████| 1/1 [00:00<00:00,  2.32it/s]"
     ]
    },
    {
     "name": "stdout",
     "output_type": "stream",
     "text": [
      "1 calculation combinations to check\n",
      "1 new records to prepare\n"
     ]
    },
    {
     "name": "stderr",
     "output_type": "stream",
     "text": [
      "\n",
      "preparing: 100%|##########################################################################| 1/1 [00:00<00:00, 17.64it/s]\n"
     ]
    },
    {
     "name": "stdout",
     "output_type": "stream",
     "text": [
      "1b6a40b8-2813-4594-945a-1ea2b1db81ca\n",
      "sim calculated successfully\n",
      "\n",
      "1730.310 0.4159 1670.790\n",
      "186 2019--Mendelev-M-I--Fe-Ni-Cr--LAMMPS--ipr1\n",
      "0 existing calculation records provided\n"
     ]
    },
    {
     "name": "stderr",
     "output_type": "stream",
     "text": [
      "100%|█████████████████████████████████████████████████████████████████████████████████████| 1/1 [00:00<00:00,  4.27it/s]"
     ]
    },
    {
     "name": "stdout",
     "output_type": "stream",
     "text": [
      "1 calculation combinations to check\n",
      "1 new records to prepare\n"
     ]
    },
    {
     "name": "stderr",
     "output_type": "stream",
     "text": [
      "\n",
      "preparing: 100%|##########################################################################| 1/1 [00:00<00:00, 29.08it/s]\n"
     ]
    },
    {
     "name": "stdout",
     "output_type": "stream",
     "text": [
      "5169c5f1-57f4-4c5f-9666-9bc8ab608183\n",
      "sim calculated successfully\n",
      "\n",
      "4525.000 0.001417 4685.846\n",
      "0 existing calculation records provided\n"
     ]
    },
    {
     "name": "stderr",
     "output_type": "stream",
     "text": [
      "100%|█████████████████████████████████████████████████████████████████████████████████████| 1/1 [00:00<00:00,  2.30it/s]"
     ]
    },
    {
     "name": "stdout",
     "output_type": "stream",
     "text": [
      "1 calculation combinations to check\n",
      "1 new records to prepare\n"
     ]
    },
    {
     "name": "stderr",
     "output_type": "stream",
     "text": [
      "\n",
      "preparing: 100%|##########################################################################| 1/1 [00:00<00:00, 17.08it/s]\n"
     ]
    },
    {
     "name": "stdout",
     "output_type": "stream",
     "text": [
      "3dc10bd4-848a-4646-9037-5298daf03a92\n",
      "sim calculated successfully\n",
      "\n",
      "2287.500 0.001407 2197.544\n",
      "0 existing calculation records provided\n"
     ]
    },
    {
     "name": "stderr",
     "output_type": "stream",
     "text": [
      "100%|█████████████████████████████████████████████████████████████████████████████████████| 1/1 [00:00<00:00,  2.96it/s]"
     ]
    },
    {
     "name": "stdout",
     "output_type": "stream",
     "text": [
      "1 calculation combinations to check\n",
      "1 new records to prepare\n"
     ]
    },
    {
     "name": "stderr",
     "output_type": "stream",
     "text": [
      "\n",
      "preparing: 100%|##########################################################################| 1/1 [00:00<00:00, 27.44it/s]\n"
     ]
    },
    {
     "name": "stdout",
     "output_type": "stream",
     "text": [
      "f44985c8-b147-4cfd-98f2-b2d126b44ded\n",
      "sim calculated successfully\n",
      "\n",
      "1168.750 0.9973 1167.041\n",
      "0 existing calculation records provided\n"
     ]
    },
    {
     "name": "stderr",
     "output_type": "stream",
     "text": [
      "100%|█████████████████████████████████████████████████████████████████████████████████████| 1/1 [00:00<00:00,  2.30it/s]"
     ]
    },
    {
     "name": "stdout",
     "output_type": "stream",
     "text": [
      "1 calculation combinations to check\n",
      "1 new records to prepare\n"
     ]
    },
    {
     "name": "stderr",
     "output_type": "stream",
     "text": [
      "\n",
      "preparing: 100%|##########################################################################| 1/1 [00:00<00:00, 15.56it/s]\n"
     ]
    },
    {
     "name": "stdout",
     "output_type": "stream",
     "text": [
      "197a73a7-5f78-4440-ab75-207cdaa608f1\n",
      "sim calculated successfully\n",
      "\n",
      "1728.125 0.5481 1774.573\n",
      "0 existing calculation records provided\n"
     ]
    },
    {
     "name": "stderr",
     "output_type": "stream",
     "text": [
      "100%|█████████████████████████████████████████████████████████████████████████████████████| 1/1 [00:00<00:00,  2.32it/s]"
     ]
    },
    {
     "name": "stdout",
     "output_type": "stream",
     "text": [
      "1 calculation combinations to check\n",
      "1 new records to prepare\n"
     ]
    },
    {
     "name": "stderr",
     "output_type": "stream",
     "text": [
      "\n",
      "preparing: 100%|##########################################################################| 1/1 [00:00<00:00, 16.87it/s]\n"
     ]
    },
    {
     "name": "stdout",
     "output_type": "stream",
     "text": [
      "65d0cba6-a1e0-49c5-bd6a-f647f6ae5aca\n",
      "sim calculated successfully\n",
      "\n",
      "1728.125 0.5407 1790.453\n",
      "0 existing calculation records provided\n"
     ]
    },
    {
     "name": "stderr",
     "output_type": "stream",
     "text": [
      "100%|█████████████████████████████████████████████████████████████████████████████████████| 1/1 [00:00<00:00,  4.13it/s]"
     ]
    },
    {
     "name": "stdout",
     "output_type": "stream",
     "text": [
      "1 calculation combinations to check\n",
      "1 new records to prepare\n"
     ]
    },
    {
     "name": "stderr",
     "output_type": "stream",
     "text": [
      "\n",
      "preparing: 100%|##########################################################################| 1/1 [00:00<00:00, 22.49it/s]\n"
     ]
    },
    {
     "name": "stdout",
     "output_type": "stream",
     "text": [
      "a517e939-e904-45a1-b7f6-546713569487\n",
      "sim calculated successfully\n",
      "\n",
      "1728.125 0.5281 1774.466\n",
      "0 existing calculation records provided\n"
     ]
    },
    {
     "name": "stderr",
     "output_type": "stream",
     "text": [
      "100%|█████████████████████████████████████████████████████████████████████████████████████| 1/1 [00:00<00:00,  2.48it/s]"
     ]
    },
    {
     "name": "stdout",
     "output_type": "stream",
     "text": [
      "1 calculation combinations to check\n",
      "1 new records to prepare\n"
     ]
    },
    {
     "name": "stderr",
     "output_type": "stream",
     "text": [
      "\n",
      "preparing: 100%|##########################################################################| 1/1 [00:00<00:00, 17.24it/s]\n"
     ]
    },
    {
     "name": "stdout",
     "output_type": "stream",
     "text": [
      "25ef11f8-b0bb-44db-b944-4faf0e99c10d\n",
      "sim calculated successfully\n",
      "\n",
      "1728.125 0.5207 1786.288\n",
      "0 existing calculation records provided\n"
     ]
    },
    {
     "name": "stderr",
     "output_type": "stream",
     "text": [
      "100%|█████████████████████████████████████████████████████████████████████████████████████| 1/1 [00:00<00:00,  2.37it/s]"
     ]
    },
    {
     "name": "stdout",
     "output_type": "stream",
     "text": [
      "1 calculation combinations to check\n",
      "1 new records to prepare\n"
     ]
    },
    {
     "name": "stderr",
     "output_type": "stream",
     "text": [
      "\n",
      "preparing: 100%|##########################################################################| 1/1 [00:00<00:00, 20.17it/s]\n"
     ]
    },
    {
     "name": "stdout",
     "output_type": "stream",
     "text": [
      "b9687195-9ae3-4022-8d73-d36284d06488\n",
      "sim calculated successfully\n",
      "\n",
      "1728.125 0.5251 1769.690\n",
      "0 existing calculation records provided\n"
     ]
    },
    {
     "name": "stderr",
     "output_type": "stream",
     "text": [
      "100%|█████████████████████████████████████████████████████████████████████████████████████| 1/1 [00:00<00:00,  4.21it/s]"
     ]
    },
    {
     "name": "stdout",
     "output_type": "stream",
     "text": [
      "1 calculation combinations to check\n",
      "1 new records to prepare\n"
     ]
    },
    {
     "name": "stderr",
     "output_type": "stream",
     "text": [
      "\n",
      "preparing: 100%|##########################################################################| 1/1 [00:00<00:00, 24.98it/s]\n"
     ]
    },
    {
     "name": "stdout",
     "output_type": "stream",
     "text": [
      "49070c4e-01ad-4555-8fbe-c2831ba34759\n",
      "sim calculated successfully\n",
      "\n",
      "1728.125 0.5243 1784.951\n",
      "0 existing calculation records provided\n"
     ]
    },
    {
     "name": "stderr",
     "output_type": "stream",
     "text": [
      "100%|█████████████████████████████████████████████████████████████████████████████████████| 1/1 [00:00<00:00,  2.27it/s]"
     ]
    },
    {
     "name": "stdout",
     "output_type": "stream",
     "text": [
      "1 calculation combinations to check\n",
      "1 new records to prepare\n"
     ]
    },
    {
     "name": "stderr",
     "output_type": "stream",
     "text": [
      "\n",
      "preparing: 100%|##########################################################################| 1/1 [00:00<00:00, 18.17it/s]\n"
     ]
    },
    {
     "name": "stdout",
     "output_type": "stream",
     "text": [
      "b011b28f-69a7-4868-8c7d-6e08e6a87ad7\n",
      "sim calculated successfully\n",
      "\n",
      "1728.125 0.5184 1787.198\n",
      "0 existing calculation records provided\n"
     ]
    },
    {
     "name": "stderr",
     "output_type": "stream",
     "text": [
      "100%|█████████████████████████████████████████████████████████████████████████████████████| 1/1 [00:00<00:00,  2.24it/s]"
     ]
    },
    {
     "name": "stdout",
     "output_type": "stream",
     "text": [
      "1 calculation combinations to check\n",
      "1 new records to prepare\n"
     ]
    },
    {
     "name": "stderr",
     "output_type": "stream",
     "text": [
      "\n",
      "preparing: 100%|##########################################################################| 1/1 [00:00<00:00, 23.98it/s]\n"
     ]
    },
    {
     "name": "stdout",
     "output_type": "stream",
     "text": [
      "ff70f3ee-9b38-4fb8-9b56-ced2ae687365\n",
      "sim calculated successfully\n",
      "\n",
      "1728.125 0.5442 1769.688\n",
      "0 existing calculation records provided\n"
     ]
    },
    {
     "name": "stderr",
     "output_type": "stream",
     "text": [
      "100%|█████████████████████████████████████████████████████████████████████████████████████| 1/1 [00:00<00:00,  4.13it/s]"
     ]
    },
    {
     "name": "stdout",
     "output_type": "stream",
     "text": [
      "1 calculation combinations to check\n",
      "1 new records to prepare\n"
     ]
    },
    {
     "name": "stderr",
     "output_type": "stream",
     "text": [
      "\n",
      "preparing: 100%|##########################################################################| 1/1 [00:00<00:00, 24.39it/s]\n"
     ]
    },
    {
     "name": "stdout",
     "output_type": "stream",
     "text": [
      "5d880084-4d03-438d-8e38-0cef18108142\n",
      "sim calculated successfully\n",
      "\n",
      "1728.125 0.5468 1782.656\n",
      "0 existing calculation records provided\n"
     ]
    },
    {
     "name": "stderr",
     "output_type": "stream",
     "text": [
      "100%|█████████████████████████████████████████████████████████████████████████████████████| 1/1 [00:00<00:00,  2.55it/s]"
     ]
    },
    {
     "name": "stdout",
     "output_type": "stream",
     "text": [
      "1 calculation combinations to check\n",
      "1 new records to prepare\n"
     ]
    },
    {
     "name": "stderr",
     "output_type": "stream",
     "text": [
      "\n",
      "preparing: 100%|##########################################################################| 1/1 [00:00<00:00, 18.38it/s]\n"
     ]
    },
    {
     "name": "stdout",
     "output_type": "stream",
     "text": [
      "f16fb691-abea-4f2b-b1b3-e2458c218012\n",
      "sim calculated successfully\n",
      "\n",
      "1728.125 0.5346 1758.216\n",
      "185 2019--Mendelev-M-I--Fe-Ni-Cr--LAMMPS--ipr1\n",
      "0 existing calculation records provided\n"
     ]
    },
    {
     "name": "stderr",
     "output_type": "stream",
     "text": [
      "100%|█████████████████████████████████████████████████████████████████████████████████████| 1/1 [00:00<00:00,  2.87it/s]"
     ]
    },
    {
     "name": "stdout",
     "output_type": "stream",
     "text": [
      "1 calculation combinations to check\n",
      "1 new records to prepare\n"
     ]
    },
    {
     "name": "stderr",
     "output_type": "stream",
     "text": [
      "\n",
      "preparing: 100%|##########################################################################| 1/1 [00:00<00:00, 24.82it/s]\n"
     ]
    },
    {
     "name": "stdout",
     "output_type": "stream",
     "text": [
      "9ba9f838-8516-4c16-9154-a34e3c84051f\n",
      "sim calculated successfully\n",
      "\n",
      "4525.000 0.0 4656.789\n",
      "0 existing calculation records provided\n"
     ]
    },
    {
     "name": "stderr",
     "output_type": "stream",
     "text": [
      "100%|█████████████████████████████████████████████████████████████████████████████████████| 1/1 [00:00<00:00,  3.50it/s]"
     ]
    },
    {
     "name": "stdout",
     "output_type": "stream",
     "text": [
      "1 calculation combinations to check\n",
      "1 new records to prepare\n"
     ]
    },
    {
     "name": "stderr",
     "output_type": "stream",
     "text": [
      "\n",
      "preparing: 100%|##########################################################################| 1/1 [00:00<00:00, 17.13it/s]\n"
     ]
    },
    {
     "name": "stdout",
     "output_type": "stream",
     "text": [
      "3b2e5dcb-775e-47a7-a53b-fac4b8be1b7b\n",
      "sim calculated successfully\n",
      "\n",
      "2287.500 0.003755 2080.552\n",
      "0 existing calculation records provided\n"
     ]
    },
    {
     "name": "stderr",
     "output_type": "stream",
     "text": [
      "100%|█████████████████████████████████████████████████████████████████████████████████████| 1/1 [00:00<00:00,  3.94it/s]"
     ]
    },
    {
     "name": "stdout",
     "output_type": "stream",
     "text": [
      "1 calculation combinations to check\n",
      "1 new records to prepare\n"
     ]
    },
    {
     "name": "stderr",
     "output_type": "stream",
     "text": [
      "\n",
      "preparing: 100%|##########################################################################| 1/1 [00:00<00:00, 23.69it/s]\n"
     ]
    },
    {
     "name": "stdout",
     "output_type": "stream",
     "text": [
      "972a58de-4f5c-4d60-a3e7-3f02456b8f06\n",
      "sim calculated successfully\n",
      "\n",
      "1168.750 0.9995 1166.261\n",
      "0 existing calculation records provided\n"
     ]
    },
    {
     "name": "stderr",
     "output_type": "stream",
     "text": [
      "100%|█████████████████████████████████████████████████████████████████████████████████████| 1/1 [00:00<00:00,  4.33it/s]"
     ]
    },
    {
     "name": "stdout",
     "output_type": "stream",
     "text": [
      "1 calculation combinations to check\n",
      "1 new records to prepare\n"
     ]
    },
    {
     "name": "stderr",
     "output_type": "stream",
     "text": [
      "\n",
      "preparing: 100%|##########################################################################| 1/1 [00:00<00:00, 25.28it/s]\n"
     ]
    },
    {
     "name": "stdout",
     "output_type": "stream",
     "text": [
      "b9f4c1bf-7349-4424-941f-419297853b0c\n",
      "sim calculated successfully\n",
      "\n",
      "1728.125 0.9736 1727.153\n",
      "0 existing calculation records provided\n"
     ]
    },
    {
     "name": "stderr",
     "output_type": "stream",
     "text": [
      "100%|█████████████████████████████████████████████████████████████████████████████████████| 1/1 [00:00<00:00,  3.59it/s]"
     ]
    },
    {
     "name": "stdout",
     "output_type": "stream",
     "text": [
      "1 calculation combinations to check\n",
      "1 new records to prepare\n"
     ]
    },
    {
     "name": "stderr",
     "output_type": "stream",
     "text": [
      "\n",
      "preparing: 100%|##########################################################################| 1/1 [00:00<00:00, 16.89it/s]\n"
     ]
    },
    {
     "name": "stdout",
     "output_type": "stream",
     "text": [
      "2a759097-4ba4-45fd-9a36-78e6e844a936\n",
      "sim calculated successfully\n",
      "\n",
      "2007.812 0.4488 1972.010\n",
      "0 existing calculation records provided\n"
     ]
    },
    {
     "name": "stderr",
     "output_type": "stream",
     "text": [
      "100%|█████████████████████████████████████████████████████████████████████████████████████| 1/1 [00:00<00:00,  4.11it/s]"
     ]
    },
    {
     "name": "stdout",
     "output_type": "stream",
     "text": [
      "1 calculation combinations to check\n",
      "1 new records to prepare\n"
     ]
    },
    {
     "name": "stderr",
     "output_type": "stream",
     "text": [
      "\n",
      "preparing: 100%|##########################################################################| 1/1 [00:00<00:00, 23.16it/s]\n"
     ]
    },
    {
     "name": "stdout",
     "output_type": "stream",
     "text": [
      "b1162535-78c2-4008-b439-ea1be84b4133\n",
      "sim calculated successfully\n",
      "\n",
      "2007.812 0.448 1979.224\n",
      "0 existing calculation records provided\n"
     ]
    },
    {
     "name": "stderr",
     "output_type": "stream",
     "text": [
      "100%|█████████████████████████████████████████████████████████████████████████████████████| 1/1 [00:00<00:00,  2.90it/s]"
     ]
    },
    {
     "name": "stdout",
     "output_type": "stream",
     "text": [
      "1 calculation combinations to check\n",
      "1 new records to prepare\n"
     ]
    },
    {
     "name": "stderr",
     "output_type": "stream",
     "text": [
      "\n",
      "preparing: 100%|##########################################################################| 1/1 [00:00<00:00, 16.90it/s]\n"
     ]
    },
    {
     "name": "stdout",
     "output_type": "stream",
     "text": [
      "be81852a-73f6-452f-8986-758cd213dbe7\n",
      "sim calculated successfully\n",
      "\n",
      "2007.812 0.4593 1980.213\n",
      "0 existing calculation records provided\n"
     ]
    },
    {
     "name": "stderr",
     "output_type": "stream",
     "text": [
      "100%|█████████████████████████████████████████████████████████████████████████████████████| 1/1 [00:00<00:00,  3.71it/s]"
     ]
    },
    {
     "name": "stdout",
     "output_type": "stream",
     "text": [
      "1 calculation combinations to check\n",
      "1 new records to prepare\n"
     ]
    },
    {
     "name": "stderr",
     "output_type": "stream",
     "text": [
      "\n",
      "preparing: 100%|##########################################################################| 1/1 [00:00<00:00, 25.78it/s]\n"
     ]
    },
    {
     "name": "stdout",
     "output_type": "stream",
     "text": [
      "ebdb947f-1199-4206-be13-c855ec435ea5\n",
      "sim calculated successfully\n",
      "\n",
      "2007.812 0.4441 1975.724\n",
      "0 existing calculation records provided\n"
     ]
    },
    {
     "name": "stderr",
     "output_type": "stream",
     "text": [
      "100%|█████████████████████████████████████████████████████████████████████████████████████| 1/1 [00:00<00:00,  4.41it/s]"
     ]
    },
    {
     "name": "stdout",
     "output_type": "stream",
     "text": [
      "1 calculation combinations to check\n",
      "1 new records to prepare\n"
     ]
    },
    {
     "name": "stderr",
     "output_type": "stream",
     "text": [
      "\n",
      "preparing: 100%|##########################################################################| 1/1 [00:00<00:00, 26.86it/s]\n"
     ]
    },
    {
     "name": "stdout",
     "output_type": "stream",
     "text": [
      "e4468ea6-c5d7-401a-b2a2-a04f84dc030f\n",
      "sim calculated successfully\n",
      "\n",
      "2007.812 0.4517 1984.412\n",
      "0 existing calculation records provided\n"
     ]
    },
    {
     "name": "stderr",
     "output_type": "stream",
     "text": [
      "100%|█████████████████████████████████████████████████████████████████████████████████████| 1/1 [00:00<00:00,  3.11it/s]"
     ]
    },
    {
     "name": "stdout",
     "output_type": "stream",
     "text": [
      "1 calculation combinations to check\n",
      "1 new records to prepare\n"
     ]
    },
    {
     "name": "stderr",
     "output_type": "stream",
     "text": [
      "\n",
      "preparing: 100%|##########################################################################| 1/1 [00:00<00:00, 16.34it/s]\n"
     ]
    },
    {
     "name": "stdout",
     "output_type": "stream",
     "text": [
      "ac511fa0-fbb6-4ef5-8829-77e1574d8e1f\n",
      "sim calculated successfully\n",
      "\n",
      "2007.812 0.468 1982.956\n",
      "0 existing calculation records provided\n"
     ]
    },
    {
     "name": "stderr",
     "output_type": "stream",
     "text": [
      "100%|█████████████████████████████████████████████████████████████████████████████████████| 1/1 [00:00<00:00,  4.00it/s]"
     ]
    },
    {
     "name": "stdout",
     "output_type": "stream",
     "text": [
      "1 calculation combinations to check\n",
      "1 new records to prepare\n"
     ]
    },
    {
     "name": "stderr",
     "output_type": "stream",
     "text": [
      "\n",
      "preparing: 100%|##########################################################################| 1/1 [00:00<00:00, 25.70it/s]\n"
     ]
    },
    {
     "name": "stdout",
     "output_type": "stream",
     "text": [
      "96fd6f99-ddf0-45d8-bb60-6b4a4c7b09c1\n",
      "sim calculated successfully\n",
      "\n",
      "2007.812 0.4542 1979.023\n",
      "0 existing calculation records provided\n"
     ]
    },
    {
     "name": "stderr",
     "output_type": "stream",
     "text": [
      "100%|█████████████████████████████████████████████████████████████████████████████████████| 1/1 [00:00<00:00,  3.56it/s]"
     ]
    },
    {
     "name": "stdout",
     "output_type": "stream",
     "text": [
      "1 calculation combinations to check\n",
      "1 new records to prepare\n"
     ]
    },
    {
     "name": "stderr",
     "output_type": "stream",
     "text": [
      "\n",
      "preparing: 100%|##########################################################################| 1/1 [00:00<00:00, 18.14it/s]\n"
     ]
    },
    {
     "name": "stdout",
     "output_type": "stream",
     "text": [
      "a2083872-c016-451f-ac3f-9355114240c2\n",
      "sim calculated successfully\n",
      "\n",
      "2007.812 0.4813 1984.650\n",
      "0 existing calculation records provided\n"
     ]
    },
    {
     "name": "stderr",
     "output_type": "stream",
     "text": [
      "100%|█████████████████████████████████████████████████████████████████████████████████████| 1/1 [00:00<00:00,  3.55it/s]"
     ]
    },
    {
     "name": "stdout",
     "output_type": "stream",
     "text": [
      "1 calculation combinations to check\n",
      "1 new records to prepare\n"
     ]
    },
    {
     "name": "stderr",
     "output_type": "stream",
     "text": [
      "\n",
      "preparing: 100%|##########################################################################| 1/1 [00:00<00:00, 18.80it/s]\n"
     ]
    },
    {
     "name": "stdout",
     "output_type": "stream",
     "text": [
      "03fef3da-516d-4bf2-a5c4-8d57c143b652\n",
      "sim calculated successfully\n",
      "\n",
      "2007.812 0.4453 1974.118\n",
      "0 existing calculation records provided\n"
     ]
    },
    {
     "name": "stderr",
     "output_type": "stream",
     "text": [
      "100%|█████████████████████████████████████████████████████████████████████████████████████| 1/1 [00:00<00:00,  4.11it/s]"
     ]
    },
    {
     "name": "stdout",
     "output_type": "stream",
     "text": [
      "1 calculation combinations to check\n",
      "1 new records to prepare\n"
     ]
    },
    {
     "name": "stderr",
     "output_type": "stream",
     "text": [
      "\n",
      "preparing: 100%|##########################################################################| 1/1 [00:00<00:00, 22.58it/s]\n"
     ]
    },
    {
     "name": "stdout",
     "output_type": "stream",
     "text": [
      "1ac8b866-1350-4d70-b377-c3ab913e1c41\n",
      "sim calculated successfully\n",
      "\n",
      "2007.812 0.4382 1973.301\n",
      "184 2019--Mendelev-M-I--Cu-Zr--LAMMPS--ipr1\n",
      "0 existing calculation records provided\n"
     ]
    },
    {
     "name": "stderr",
     "output_type": "stream",
     "text": [
      "100%|█████████████████████████████████████████████████████████████████████████████████████| 1/1 [00:00<00:00,  3.33it/s]"
     ]
    },
    {
     "name": "stdout",
     "output_type": "stream",
     "text": [
      "1 calculation combinations to check\n",
      "1 new records to prepare\n"
     ]
    },
    {
     "name": "stderr",
     "output_type": "stream",
     "text": [
      "\n",
      "preparing: 100%|##########################################################################| 1/1 [00:00<00:00, 23.20it/s]\n"
     ]
    },
    {
     "name": "stdout",
     "output_type": "stream",
     "text": [
      "a13e13e0-e064-4a6f-832c-db9e0be0d6b4\n",
      "sim calculated successfully\n",
      "\n",
      "4525.000 4.138e-05 4513.620\n",
      "0 existing calculation records provided\n"
     ]
    },
    {
     "name": "stderr",
     "output_type": "stream",
     "text": [
      "100%|█████████████████████████████████████████████████████████████████████████████████████| 1/1 [00:00<00:00,  3.26it/s]"
     ]
    },
    {
     "name": "stdout",
     "output_type": "stream",
     "text": [
      "1 calculation combinations to check\n",
      "1 new records to prepare\n"
     ]
    },
    {
     "name": "stderr",
     "output_type": "stream",
     "text": [
      "\n",
      "preparing: 100%|##########################################################################| 1/1 [00:00<00:00, 35.70it/s]\n"
     ]
    },
    {
     "name": "stdout",
     "output_type": "stream",
     "text": [
      "95123865-6a5e-4e96-ae74-e917e30e8ce0\n",
      "sim calculated successfully\n",
      "\n",
      "2287.500 0.002514 2071.590\n",
      "0 existing calculation records provided\n"
     ]
    },
    {
     "name": "stderr",
     "output_type": "stream",
     "text": [
      "100%|█████████████████████████████████████████████████████████████████████████████████████| 1/1 [00:00<00:00,  4.30it/s]"
     ]
    },
    {
     "name": "stdout",
     "output_type": "stream",
     "text": [
      "1 calculation combinations to check\n",
      "1 new records to prepare\n"
     ]
    },
    {
     "name": "stderr",
     "output_type": "stream",
     "text": [
      "\n",
      "preparing: 100%|##########################################################################| 1/1 [00:00<00:00, 37.13it/s]\n"
     ]
    },
    {
     "name": "stdout",
     "output_type": "stream",
     "text": [
      "04edae26-a5ca-4ac0-b32f-f4650f67eb78\n",
      "sim calculated successfully\n",
      "\n",
      "1168.750 0.9999 1164.899\n",
      "0 existing calculation records provided\n"
     ]
    },
    {
     "name": "stderr",
     "output_type": "stream",
     "text": [
      "100%|█████████████████████████████████████████████████████████████████████████████████████| 1/1 [00:00<00:00,  3.57it/s]"
     ]
    },
    {
     "name": "stdout",
     "output_type": "stream",
     "text": [
      "1 calculation combinations to check\n",
      "1 new records to prepare\n"
     ]
    },
    {
     "name": "stderr",
     "output_type": "stream",
     "text": [
      "\n",
      "preparing: 100%|##########################################################################| 1/1 [00:00<00:00, 25.62it/s]\n"
     ]
    },
    {
     "name": "stdout",
     "output_type": "stream",
     "text": [
      "440b5890-5bb2-48dc-aae6-f8ea5e0baa44\n",
      "sim calculated successfully\n",
      "\n",
      "1728.125 0.9418 1882.358\n",
      "0 existing calculation records provided\n"
     ]
    },
    {
     "name": "stderr",
     "output_type": "stream",
     "text": [
      "100%|█████████████████████████████████████████████████████████████████████████████████████| 1/1 [00:00<00:00,  4.08it/s]"
     ]
    },
    {
     "name": "stdout",
     "output_type": "stream",
     "text": [
      "1 calculation combinations to check\n",
      "1 new records to prepare\n"
     ]
    },
    {
     "name": "stderr",
     "output_type": "stream",
     "text": [
      "\n",
      "preparing: 100%|##########################################################################| 1/1 [00:00<00:00, 42.40it/s]\n"
     ]
    },
    {
     "name": "stdout",
     "output_type": "stream",
     "text": [
      "563dc1fd-77d7-4c74-b17e-e627ed9aa529\n",
      "sim calculated successfully\n",
      "\n",
      "2007.812 0.1308 2162.612\n",
      "0 existing calculation records provided\n"
     ]
    },
    {
     "name": "stderr",
     "output_type": "stream",
     "text": [
      "100%|█████████████████████████████████████████████████████████████████████████████████████| 1/1 [00:00<00:00,  3.48it/s]"
     ]
    },
    {
     "name": "stdout",
     "output_type": "stream",
     "text": [
      "1 calculation combinations to check\n",
      "1 new records to prepare\n"
     ]
    },
    {
     "name": "stderr",
     "output_type": "stream",
     "text": [
      "\n",
      "preparing: 100%|##########################################################################| 1/1 [00:00<00:00, 38.22it/s]\n"
     ]
    },
    {
     "name": "stdout",
     "output_type": "stream",
     "text": [
      "f8a3fee3-1b57-40b6-85dd-f34b145dc758\n",
      "sim calculated successfully\n",
      "\n",
      "1867.969 0.1715 2021.772\n",
      "0 existing calculation records provided\n"
     ]
    },
    {
     "name": "stderr",
     "output_type": "stream",
     "text": [
      "100%|█████████████████████████████████████████████████████████████████████████████████████| 1/1 [00:00<00:00,  3.76it/s]"
     ]
    },
    {
     "name": "stdout",
     "output_type": "stream",
     "text": [
      "1 calculation combinations to check\n",
      "1 new records to prepare\n"
     ]
    },
    {
     "name": "stderr",
     "output_type": "stream",
     "text": [
      "\n",
      "preparing: 100%|##########################################################################| 1/1 [00:00<00:00, 24.99it/s]\n"
     ]
    },
    {
     "name": "stdout",
     "output_type": "stream",
     "text": [
      "d716ef9a-600e-4173-83bb-55ecec864688\n",
      "sim calculated successfully\n",
      "\n",
      "1798.047 0.1898 1929.013\n",
      "0 existing calculation records provided\n"
     ]
    },
    {
     "name": "stderr",
     "output_type": "stream",
     "text": [
      "100%|█████████████████████████████████████████████████████████████████████████████████████| 1/1 [00:00<00:00,  4.31it/s]"
     ]
    },
    {
     "name": "stdout",
     "output_type": "stream",
     "text": [
      "1 calculation combinations to check\n",
      "1 new records to prepare\n"
     ]
    },
    {
     "name": "stderr",
     "output_type": "stream",
     "text": [
      "\n",
      "preparing: 100%|##########################################################################| 1/1 [00:00<00:00, 30.06it/s]\n"
     ]
    },
    {
     "name": "stdout",
     "output_type": "stream",
     "text": [
      "583cc3ba-7f43-4279-92b4-73a99892df9f\n",
      "sim calculated successfully\n",
      "\n",
      "1763.086 0.9209 1935.382\n",
      "0 existing calculation records provided\n"
     ]
    },
    {
     "name": "stderr",
     "output_type": "stream",
     "text": [
      "100%|█████████████████████████████████████████████████████████████████████████████████████| 1/1 [00:00<00:00,  3.35it/s]"
     ]
    },
    {
     "name": "stdout",
     "output_type": "stream",
     "text": [
      "1 calculation combinations to check\n",
      "1 new records to prepare\n"
     ]
    },
    {
     "name": "stderr",
     "output_type": "stream",
     "text": [
      "\n",
      "preparing: 100%|##########################################################################| 1/1 [00:00<00:00, 27.82it/s]\n"
     ]
    },
    {
     "name": "stdout",
     "output_type": "stream",
     "text": [
      "99e14424-d173-40c1-b765-8862d70f41d2\n",
      "sim calculated successfully\n",
      "\n",
      "1780.566 0.2039 1852.114\n",
      "0 existing calculation records provided\n"
     ]
    },
    {
     "name": "stderr",
     "output_type": "stream",
     "text": [
      "100%|█████████████████████████████████████████████████████████████████████████████████████| 1/1 [00:00<00:00,  4.33it/s]"
     ]
    },
    {
     "name": "stdout",
     "output_type": "stream",
     "text": [
      "1 calculation combinations to check\n",
      "1 new records to prepare\n"
     ]
    },
    {
     "name": "stderr",
     "output_type": "stream",
     "text": [
      "\n",
      "preparing: 100%|##########################################################################| 1/1 [00:00<00:00, 32.80it/s]\n"
     ]
    },
    {
     "name": "stdout",
     "output_type": "stream",
     "text": [
      "a228a551-c89c-4558-b50e-f73317330754\n",
      "sim calculated successfully\n",
      "\n",
      "1771.826 0.191 1863.483\n",
      "0 existing calculation records provided\n"
     ]
    },
    {
     "name": "stderr",
     "output_type": "stream",
     "text": [
      "100%|█████████████████████████████████████████████████████████████████████████████████████| 1/1 [00:00<00:00,  3.26it/s]"
     ]
    },
    {
     "name": "stdout",
     "output_type": "stream",
     "text": [
      "1 calculation combinations to check\n",
      "1 new records to prepare\n"
     ]
    },
    {
     "name": "stderr",
     "output_type": "stream",
     "text": [
      "\n",
      "preparing: 100%|##########################################################################| 1/1 [00:00<00:00, 25.17it/s]\n"
     ]
    },
    {
     "name": "stdout",
     "output_type": "stream",
     "text": [
      "cd93f137-9487-4525-bba1-0af01a2a349d\n",
      "sim calculated successfully\n",
      "\n",
      "1767.456 0.2007 1890.301\n",
      "0 existing calculation records provided\n"
     ]
    },
    {
     "name": "stderr",
     "output_type": "stream",
     "text": [
      "100%|█████████████████████████████████████████████████████████████████████████████████████| 1/1 [00:00<00:00,  3.55it/s]"
     ]
    },
    {
     "name": "stdout",
     "output_type": "stream",
     "text": [
      "1 calculation combinations to check\n",
      "1 new records to prepare\n"
     ]
    },
    {
     "name": "stderr",
     "output_type": "stream",
     "text": [
      "\n",
      "preparing: 100%|##########################################################################| 1/1 [00:00<00:00, 24.87it/s]\n"
     ]
    },
    {
     "name": "stdout",
     "output_type": "stream",
     "text": [
      "34f851c1-d90d-4f2f-ab3e-ba5c642e6bbb\n",
      "sim calculated successfully\n",
      "\n",
      "1765.271 0.1981 1879.180\n",
      "0 existing calculation records provided\n"
     ]
    },
    {
     "name": "stderr",
     "output_type": "stream",
     "text": [
      "100%|█████████████████████████████████████████████████████████████████████████████████████| 1/1 [00:00<00:00,  4.33it/s]"
     ]
    },
    {
     "name": "stdout",
     "output_type": "stream",
     "text": [
      "1 calculation combinations to check\n",
      "1 new records to prepare\n"
     ]
    },
    {
     "name": "stderr",
     "output_type": "stream",
     "text": [
      "\n",
      "preparing: 100%|##########################################################################| 1/1 [00:00<00:00, 38.05it/s]\n"
     ]
    },
    {
     "name": "stdout",
     "output_type": "stream",
     "text": [
      "f0852ccb-0758-4368-ae5d-3a6a38935b1d\n",
      "sim calculated successfully\n",
      "\n",
      "1764.178 0.9245 1926.938\n",
      "0 existing calculation records provided\n"
     ]
    },
    {
     "name": "stderr",
     "output_type": "stream",
     "text": [
      "100%|█████████████████████████████████████████████████████████████████████████████████████| 1/1 [00:00<00:00,  3.47it/s]"
     ]
    },
    {
     "name": "stdout",
     "output_type": "stream",
     "text": [
      "1 calculation combinations to check\n",
      "1 new records to prepare\n"
     ]
    },
    {
     "name": "stderr",
     "output_type": "stream",
     "text": [
      "\n",
      "preparing: 100%|##########################################################################| 1/1 [00:00<00:00, 23.54it/s]\n"
     ]
    },
    {
     "name": "stdout",
     "output_type": "stream",
     "text": [
      "ae8a4a18-3f8e-42ca-897e-2eb2da0c581c\n",
      "sim calculated successfully\n",
      "\n",
      "1764.725 0.2036 1870.533\n",
      "0 existing calculation records provided\n"
     ]
    },
    {
     "name": "stderr",
     "output_type": "stream",
     "text": [
      "100%|█████████████████████████████████████████████████████████████████████████████████████| 1/1 [00:00<00:00,  4.22it/s]"
     ]
    },
    {
     "name": "stdout",
     "output_type": "stream",
     "text": [
      "1 calculation combinations to check\n",
      "1 new records to prepare\n"
     ]
    },
    {
     "name": "stderr",
     "output_type": "stream",
     "text": [
      "\n",
      "preparing: 100%|##########################################################################| 1/1 [00:00<00:00, 30.72it/s]\n"
     ]
    },
    {
     "name": "stdout",
     "output_type": "stream",
     "text": [
      "72624e83-1ad7-46df-9bd1-0bbdca1b11df\n",
      "sim calculated successfully\n",
      "\n",
      "1764.452 0.2558 1832.945\n",
      "0 existing calculation records provided\n"
     ]
    },
    {
     "name": "stderr",
     "output_type": "stream",
     "text": [
      "100%|█████████████████████████████████████████████████████████████████████████████████████| 1/1 [00:00<00:00,  4.14it/s]"
     ]
    },
    {
     "name": "stdout",
     "output_type": "stream",
     "text": [
      "1 calculation combinations to check\n",
      "1 new records to prepare\n"
     ]
    },
    {
     "name": "stderr",
     "output_type": "stream",
     "text": [
      "\n",
      "preparing: 100%|##########################################################################| 1/1 [00:00<00:00, 26.24it/s]\n"
     ]
    },
    {
     "name": "stdout",
     "output_type": "stream",
     "text": [
      "8c5d4fb3-ff0a-4b36-9d0c-95ea6f4bf6ec\n",
      "sim calculated successfully\n",
      "\n",
      "1764.315 0.9242 1924.454\n",
      "0 existing calculation records provided\n"
     ]
    },
    {
     "name": "stderr",
     "output_type": "stream",
     "text": [
      "100%|█████████████████████████████████████████████████████████████████████████████████████| 1/1 [00:00<00:00,  4.02it/s]"
     ]
    },
    {
     "name": "stdout",
     "output_type": "stream",
     "text": [
      "1 calculation combinations to check\n",
      "1 new records to prepare\n"
     ]
    },
    {
     "name": "stderr",
     "output_type": "stream",
     "text": [
      "\n",
      "preparing: 100%|##########################################################################| 1/1 [00:00<00:00, 30.98it/s]\n"
     ]
    },
    {
     "name": "stdout",
     "output_type": "stream",
     "text": [
      "0e90529e-9c67-4d36-bc8b-b97476aadff4\n",
      "sim calculated successfully\n",
      "\n",
      "1764.520 0.3388 1829.612\n",
      "0 existing calculation records provided\n"
     ]
    },
    {
     "name": "stderr",
     "output_type": "stream",
     "text": [
      "100%|█████████████████████████████████████████████████████████████████████████████████████| 1/1 [00:00<00:00,  4.31it/s]"
     ]
    },
    {
     "name": "stdout",
     "output_type": "stream",
     "text": [
      "1 calculation combinations to check\n",
      "1 new records to prepare\n"
     ]
    },
    {
     "name": "stderr",
     "output_type": "stream",
     "text": [
      "\n",
      "preparing: 100%|##########################################################################| 1/1 [00:00<00:00, 31.67it/s]\n"
     ]
    },
    {
     "name": "stdout",
     "output_type": "stream",
     "text": [
      "f9fe8a58-5405-4ce8-82aa-158c96eb04a9\n",
      "sim calculated successfully\n",
      "\n",
      "1764.417 0.9156 1946.420\n",
      "0 existing calculation records provided\n"
     ]
    },
    {
     "name": "stderr",
     "output_type": "stream",
     "text": [
      "100%|█████████████████████████████████████████████████████████████████████████████████████| 1/1 [00:00<00:00,  4.28it/s]"
     ]
    },
    {
     "name": "stdout",
     "output_type": "stream",
     "text": [
      "1 calculation combinations to check\n",
      "1 new records to prepare\n"
     ]
    },
    {
     "name": "stderr",
     "output_type": "stream",
     "text": [
      "\n",
      "preparing: 100%|##########################################################################| 1/1 [00:00<00:00, 25.71it/s]\n"
     ]
    },
    {
     "name": "stdout",
     "output_type": "stream",
     "text": [
      "591b9e63-e5b3-4043-9559-19665ae7e431\n",
      "sim calculated successfully\n",
      "\n",
      "1764.571 0.9229 1931.663\n",
      "0 existing calculation records provided\n"
     ]
    },
    {
     "name": "stderr",
     "output_type": "stream",
     "text": [
      "100%|█████████████████████████████████████████████████████████████████████████████████████| 1/1 [00:00<00:00,  4.10it/s]"
     ]
    },
    {
     "name": "stdout",
     "output_type": "stream",
     "text": [
      "1 calculation combinations to check\n",
      "1 new records to prepare\n"
     ]
    },
    {
     "name": "stderr",
     "output_type": "stream",
     "text": [
      "\n",
      "preparing: 100%|##########################################################################| 1/1 [00:00<00:00, 26.59it/s]\n"
     ]
    },
    {
     "name": "stdout",
     "output_type": "stream",
     "text": [
      "aa51da91-ae2a-4560-8b74-1590295b5a62\n",
      "sim calculated successfully\n",
      "\n",
      "1764.648 0.9209 1935.424\n",
      "0 existing calculation records provided\n"
     ]
    },
    {
     "name": "stderr",
     "output_type": "stream",
     "text": [
      "100%|█████████████████████████████████████████████████████████████████████████████████████| 1/1 [00:00<00:00,  4.30it/s]"
     ]
    },
    {
     "name": "stdout",
     "output_type": "stream",
     "text": [
      "1 calculation combinations to check\n",
      "1 new records to prepare\n"
     ]
    },
    {
     "name": "stderr",
     "output_type": "stream",
     "text": [
      "\n",
      "preparing: 100%|##########################################################################| 1/1 [00:00<00:00, 42.85it/s]\n"
     ]
    },
    {
     "name": "stdout",
     "output_type": "stream",
     "text": [
      "27e8a6b6-332b-423e-8dd5-51ad820983c8\n",
      "sim calculated successfully\n",
      "\n",
      "1764.686 0.9228 1942.257\n",
      "0 existing calculation records provided\n"
     ]
    },
    {
     "name": "stderr",
     "output_type": "stream",
     "text": [
      "100%|█████████████████████████████████████████████████████████████████████████████████████| 1/1 [00:00<00:00,  4.21it/s]"
     ]
    },
    {
     "name": "stdout",
     "output_type": "stream",
     "text": [
      "1 calculation combinations to check\n",
      "1 new records to prepare\n"
     ]
    },
    {
     "name": "stderr",
     "output_type": "stream",
     "text": [
      "\n",
      "preparing: 100%|##########################################################################| 1/1 [00:00<00:00, 42.46it/s]\n"
     ]
    },
    {
     "name": "stdout",
     "output_type": "stream",
     "text": [
      "e44bf236-7e41-438b-aa92-26a86d71ec0c\n",
      "sim calculated successfully\n",
      "\n",
      "1764.706 0.2352 1870.648\n",
      "0 existing calculation records provided\n"
     ]
    },
    {
     "name": "stderr",
     "output_type": "stream",
     "text": [
      "100%|█████████████████████████████████████████████████████████████████████████████████████| 1/1 [00:00<00:00,  4.31it/s]"
     ]
    },
    {
     "name": "stdout",
     "output_type": "stream",
     "text": [
      "1 calculation combinations to check\n",
      "1 new records to prepare\n"
     ]
    },
    {
     "name": "stderr",
     "output_type": "stream",
     "text": [
      "\n",
      "preparing: 100%|##########################################################################| 1/1 [00:00<00:00, 23.97it/s]\n"
     ]
    },
    {
     "name": "stdout",
     "output_type": "stream",
     "text": [
      "abf79f1f-8080-4388-9bac-8bba7c4cc077\n",
      "sim calculated successfully\n",
      "\n",
      "1764.696 0.9221 1926.859\n",
      "0 existing calculation records provided\n"
     ]
    },
    {
     "name": "stderr",
     "output_type": "stream",
     "text": [
      "100%|█████████████████████████████████████████████████████████████████████████████████████| 1/1 [00:00<00:00,  4.32it/s]"
     ]
    },
    {
     "name": "stdout",
     "output_type": "stream",
     "text": [
      "1 calculation combinations to check\n",
      "1 new records to prepare\n"
     ]
    },
    {
     "name": "stderr",
     "output_type": "stream",
     "text": [
      "\n",
      "preparing: 100%|##########################################################################| 1/1 [00:00<00:00, 28.66it/s]\n"
     ]
    },
    {
     "name": "stdout",
     "output_type": "stream",
     "text": [
      "0f8a8281-f3fa-4e1c-8735-4e79ff04697b\n",
      "sim calculated successfully\n",
      "\n",
      "1764.701 0.1983 1881.323\n",
      "0 existing calculation records provided\n"
     ]
    },
    {
     "name": "stderr",
     "output_type": "stream",
     "text": [
      "100%|█████████████████████████████████████████████████████████████████████████████████████| 1/1 [00:00<00:00,  4.33it/s]"
     ]
    },
    {
     "name": "stdout",
     "output_type": "stream",
     "text": [
      "1 calculation combinations to check\n",
      "1 new records to prepare\n"
     ]
    },
    {
     "name": "stderr",
     "output_type": "stream",
     "text": [
      "\n",
      "preparing: 100%|##########################################################################| 1/1 [00:00<00:00, 40.77it/s]\n"
     ]
    },
    {
     "name": "stdout",
     "output_type": "stream",
     "text": [
      "e7658311-c2cd-433a-9d8f-aec033b0b1ad\n",
      "sim calculated successfully\n",
      "\n",
      "1764.698 0.1995 1877.706\n",
      "0 existing calculation records provided\n"
     ]
    },
    {
     "name": "stderr",
     "output_type": "stream",
     "text": [
      "100%|█████████████████████████████████████████████████████████████████████████████████████| 1/1 [00:00<00:00,  4.66it/s]"
     ]
    },
    {
     "name": "stdout",
     "output_type": "stream",
     "text": [
      "1 calculation combinations to check\n",
      "1 new records to prepare\n"
     ]
    },
    {
     "name": "stderr",
     "output_type": "stream",
     "text": [
      "\n",
      "preparing: 100%|##########################################################################| 1/1 [00:00<00:00, 40.61it/s]\n"
     ]
    },
    {
     "name": "stdout",
     "output_type": "stream",
     "text": [
      "4c86eb9d-b93c-44b0-a895-3903160e5e87\n",
      "sim calculated successfully\n",
      "\n",
      "1764.697 0.3427 1838.529\n",
      "0 existing calculation records provided\n"
     ]
    },
    {
     "name": "stderr",
     "output_type": "stream",
     "text": [
      "100%|█████████████████████████████████████████████████████████████████████████████████████| 1/1 [00:00<00:00,  4.19it/s]"
     ]
    },
    {
     "name": "stdout",
     "output_type": "stream",
     "text": [
      "1 calculation combinations to check\n",
      "1 new records to prepare\n"
     ]
    },
    {
     "name": "stderr",
     "output_type": "stream",
     "text": [
      "\n",
      "preparing: 100%|##########################################################################| 1/1 [00:00<00:00, 40.80it/s]\n"
     ]
    },
    {
     "name": "stdout",
     "output_type": "stream",
     "text": [
      "d9104a0e-3213-4dff-a443-4fcf323b5b9d\n",
      "sim calculated successfully\n",
      "\n",
      "1764.697 0.2966 1841.199\n",
      "0 existing calculation records provided\n"
     ]
    },
    {
     "name": "stderr",
     "output_type": "stream",
     "text": [
      "100%|█████████████████████████████████████████████████████████████████████████████████████| 1/1 [00:00<00:00,  4.43it/s]"
     ]
    },
    {
     "name": "stdout",
     "output_type": "stream",
     "text": [
      "1 calculation combinations to check\n",
      "1 new records to prepare\n"
     ]
    },
    {
     "name": "stderr",
     "output_type": "stream",
     "text": [
      "\n",
      "preparing: 100%|##########################################################################| 1/1 [00:00<00:00, 36.35it/s]\n"
     ]
    },
    {
     "name": "stdout",
     "output_type": "stream",
     "text": [
      "73f667d1-e580-4fbf-9a87-32304f3eee24\n",
      "sim calculated successfully\n",
      "\n",
      "1764.696 0.9218 1932.365\n",
      "0 existing calculation records provided\n"
     ]
    },
    {
     "name": "stderr",
     "output_type": "stream",
     "text": [
      "100%|█████████████████████████████████████████████████████████████████████████████████████| 1/1 [00:00<00:00,  4.41it/s]"
     ]
    },
    {
     "name": "stdout",
     "output_type": "stream",
     "text": [
      "1 calculation combinations to check\n",
      "1 new records to prepare\n"
     ]
    },
    {
     "name": "stderr",
     "output_type": "stream",
     "text": [
      "\n",
      "preparing: 100%|##########################################################################| 1/1 [00:00<00:00, 42.41it/s]\n"
     ]
    },
    {
     "name": "stdout",
     "output_type": "stream",
     "text": [
      "652941b7-1761-4059-bd75-2a1d8c5e4ef4\n",
      "sim calculated successfully\n",
      "\n",
      "1764.697 0.2041 1827.710\n",
      "0 existing calculation records provided\n"
     ]
    },
    {
     "name": "stderr",
     "output_type": "stream",
     "text": [
      "100%|█████████████████████████████████████████████████████████████████████████████████████| 1/1 [00:00<00:00,  4.18it/s]"
     ]
    },
    {
     "name": "stdout",
     "output_type": "stream",
     "text": [
      "1 calculation combinations to check\n",
      "1 new records to prepare\n"
     ]
    },
    {
     "name": "stderr",
     "output_type": "stream",
     "text": [
      "\n",
      "preparing: 100%|##########################################################################| 1/1 [00:00<00:00, 30.29it/s]\n"
     ]
    },
    {
     "name": "stdout",
     "output_type": "stream",
     "text": [
      "7db059bd-bf74-4503-a1f7-406f51dc6cc5\n",
      "sim calculated successfully\n",
      "\n",
      "1764.697 0.9215 1924.941\n",
      "0 existing calculation records provided\n"
     ]
    },
    {
     "name": "stderr",
     "output_type": "stream",
     "text": [
      "100%|█████████████████████████████████████████████████████████████████████████████████████| 1/1 [00:00<00:00,  4.42it/s]"
     ]
    },
    {
     "name": "stdout",
     "output_type": "stream",
     "text": [
      "1 calculation combinations to check\n",
      "1 new records to prepare\n"
     ]
    },
    {
     "name": "stderr",
     "output_type": "stream",
     "text": [
      "\n",
      "preparing: 100%|##########################################################################| 1/1 [00:00<00:00, 27.85it/s]\n"
     ]
    },
    {
     "name": "stdout",
     "output_type": "stream",
     "text": [
      "c2d07951-907d-4325-a019-fc5b3cb66afe\n",
      "sim calculated successfully\n",
      "\n",
      "1764.697 0.247 1830.877\n",
      "0 existing calculation records provided\n"
     ]
    },
    {
     "name": "stderr",
     "output_type": "stream",
     "text": [
      "100%|█████████████████████████████████████████████████████████████████████████████████████| 1/1 [00:00<00:00,  4.40it/s]"
     ]
    },
    {
     "name": "stdout",
     "output_type": "stream",
     "text": [
      "1 calculation combinations to check\n",
      "1 new records to prepare\n"
     ]
    },
    {
     "name": "stderr",
     "output_type": "stream",
     "text": [
      "\n",
      "preparing: 100%|##########################################################################| 1/1 [00:00<00:00, 31.92it/s]\n"
     ]
    },
    {
     "name": "stdout",
     "output_type": "stream",
     "text": [
      "f1782222-c1c7-4429-9018-c430889e48c5\n",
      "sim calculated successfully\n",
      "\n",
      "1764.697 0.1971 1881.041\n",
      "0 existing calculation records provided\n"
     ]
    },
    {
     "name": "stderr",
     "output_type": "stream",
     "text": [
      "100%|█████████████████████████████████████████████████████████████████████████████████████| 1/1 [00:00<00:00,  4.04it/s]"
     ]
    },
    {
     "name": "stdout",
     "output_type": "stream",
     "text": [
      "1 calculation combinations to check\n",
      "1 new records to prepare\n"
     ]
    },
    {
     "name": "stderr",
     "output_type": "stream",
     "text": [
      "\n",
      "preparing: 100%|##########################################################################| 1/1 [00:00<00:00, 28.54it/s]\n"
     ]
    },
    {
     "name": "stdout",
     "output_type": "stream",
     "text": [
      "7264bdb3-cb12-49ea-a62a-69aa7f466a16\n",
      "sim calculated successfully\n",
      "\n",
      "1764.697 0.2711 1825.496\n",
      "0 existing calculation records provided\n"
     ]
    },
    {
     "name": "stderr",
     "output_type": "stream",
     "text": [
      "100%|█████████████████████████████████████████████████████████████████████████████████████| 1/1 [00:00<00:00,  4.35it/s]"
     ]
    },
    {
     "name": "stdout",
     "output_type": "stream",
     "text": [
      "1 calculation combinations to check\n",
      "1 new records to prepare\n"
     ]
    },
    {
     "name": "stderr",
     "output_type": "stream",
     "text": [
      "\n",
      "preparing: 100%|##########################################################################| 1/1 [00:00<00:00, 30.20it/s]\n"
     ]
    },
    {
     "name": "stdout",
     "output_type": "stream",
     "text": [
      "6fcbf6cb-d26a-4716-86ba-0c62f32ade37\n",
      "sim calculated successfully\n",
      "\n",
      "1764.697 0.314 1834.148\n",
      "0 existing calculation records provided\n"
     ]
    },
    {
     "name": "stderr",
     "output_type": "stream",
     "text": [
      "100%|█████████████████████████████████████████████████████████████████████████████████████| 1/1 [00:00<00:00,  3.80it/s]"
     ]
    },
    {
     "name": "stdout",
     "output_type": "stream",
     "text": [
      "1 calculation combinations to check\n",
      "1 new records to prepare\n"
     ]
    },
    {
     "name": "stderr",
     "output_type": "stream",
     "text": [
      "\n",
      "preparing: 100%|##########################################################################| 1/1 [00:00<00:00, 35.78it/s]\n"
     ]
    },
    {
     "name": "stdout",
     "output_type": "stream",
     "text": [
      "f5583ff4-4de0-44f0-9287-b139ec42c9e8\n",
      "sim calculated successfully\n",
      "\n",
      "1764.697 0.9195 1932.714\n",
      "Max number of runs reached!\n",
      "183 2019--Fischer-F--Cu-Ni--LAMMPS--ipr3\n",
      "0 existing calculation records provided\n"
     ]
    },
    {
     "name": "stderr",
     "output_type": "stream",
     "text": [
      "100%|█████████████████████████████████████████████████████████████████████████████████████| 1/1 [00:00<00:00,  4.14it/s]"
     ]
    },
    {
     "name": "stdout",
     "output_type": "stream",
     "text": [
      "1 calculation combinations to check\n",
      "1 new records to prepare\n"
     ]
    },
    {
     "name": "stderr",
     "output_type": "stream",
     "text": [
      "\n",
      "preparing: 100%|##########################################################################| 1/1 [00:00<00:00, 53.20it/s]\n"
     ]
    },
    {
     "name": "stdout",
     "output_type": "stream",
     "text": [
      "44f6aaf5-fcc6-45c8-ab4c-440ef1b736e9\n",
      "sim calculated successfully\n",
      "\n",
      "4525.000 1.034e-05 4481.068\n",
      "0 existing calculation records provided\n"
     ]
    },
    {
     "name": "stderr",
     "output_type": "stream",
     "text": [
      "100%|█████████████████████████████████████████████████████████████████████████████████████| 1/1 [00:00<00:00,  4.22it/s]"
     ]
    },
    {
     "name": "stdout",
     "output_type": "stream",
     "text": [
      "1 calculation combinations to check\n",
      "1 new records to prepare\n"
     ]
    },
    {
     "name": "stderr",
     "output_type": "stream",
     "text": [
      "\n",
      "preparing: 100%|##########################################################################| 1/1 [00:00<00:00, 41.86it/s]\n"
     ]
    },
    {
     "name": "stdout",
     "output_type": "stream",
     "text": [
      "6d5d5cb8-834c-48da-997c-f6ea4c3b8f6d\n",
      "sim calculated successfully\n",
      "\n",
      "2287.500 0.0007965 2252.009\n",
      "0 existing calculation records provided\n"
     ]
    },
    {
     "name": "stderr",
     "output_type": "stream",
     "text": [
      "100%|█████████████████████████████████████████████████████████████████████████████████████| 1/1 [00:00<00:00,  4.40it/s]"
     ]
    },
    {
     "name": "stdout",
     "output_type": "stream",
     "text": [
      "1 calculation combinations to check\n",
      "1 new records to prepare\n"
     ]
    },
    {
     "name": "stderr",
     "output_type": "stream",
     "text": [
      "\n",
      "preparing: 100%|##########################################################################| 1/1 [00:00<00:00, 31.04it/s]\n"
     ]
    },
    {
     "name": "stdout",
     "output_type": "stream",
     "text": [
      "3bdfbb8e-fcf9-4ee0-a7cf-d73a72d54326\n",
      "sim calculated successfully\n",
      "\n",
      "1168.750 0.9985 1166.218\n",
      "0 existing calculation records provided\n"
     ]
    },
    {
     "name": "stderr",
     "output_type": "stream",
     "text": [
      "100%|█████████████████████████████████████████████████████████████████████████████████████| 1/1 [00:00<00:00,  3.89it/s]"
     ]
    },
    {
     "name": "stdout",
     "output_type": "stream",
     "text": [
      "1 calculation combinations to check\n",
      "1 new records to prepare\n"
     ]
    },
    {
     "name": "stderr",
     "output_type": "stream",
     "text": [
      "\n",
      "preparing: 100%|##########################################################################| 1/1 [00:00<00:00, 29.95it/s]\n"
     ]
    },
    {
     "name": "stdout",
     "output_type": "stream",
     "text": [
      "c0011661-9b6a-4d72-8909-8b0d5c06f027\n",
      "sim calculated successfully\n",
      "\n",
      "1728.125 0.314 1681.643\n",
      "0 existing calculation records provided\n"
     ]
    },
    {
     "name": "stderr",
     "output_type": "stream",
     "text": [
      "100%|█████████████████████████████████████████████████████████████████████████████████████| 1/1 [00:00<00:00,  4.28it/s]"
     ]
    },
    {
     "name": "stdout",
     "output_type": "stream",
     "text": [
      "1 calculation combinations to check\n",
      "1 new records to prepare\n"
     ]
    },
    {
     "name": "stderr",
     "output_type": "stream",
     "text": [
      "\n",
      "preparing: 100%|##########################################################################| 1/1 [00:00<00:00, 41.00it/s]\n"
     ]
    },
    {
     "name": "stdout",
     "output_type": "stream",
     "text": [
      "3de383ab-1603-480b-96bc-b80a8150b4c5\n",
      "sim calculated successfully\n",
      "\n",
      "1448.438 0.7749 1601.919\n",
      "0 existing calculation records provided\n"
     ]
    },
    {
     "name": "stderr",
     "output_type": "stream",
     "text": [
      "100%|█████████████████████████████████████████████████████████████████████████████████████| 1/1 [00:00<00:00,  3.85it/s]"
     ]
    },
    {
     "name": "stdout",
     "output_type": "stream",
     "text": [
      "1 calculation combinations to check\n",
      "1 new records to prepare\n"
     ]
    },
    {
     "name": "stderr",
     "output_type": "stream",
     "text": [
      "\n",
      "preparing: 100%|##########################################################################| 1/1 [00:00<00:00, 46.02it/s]\n"
     ]
    },
    {
     "name": "stdout",
     "output_type": "stream",
     "text": [
      "fb5db194-157f-4a05-af13-bfb837b18805\n",
      "sim calculated successfully\n",
      "\n",
      "1867.969 0.00361 1661.272\n",
      "0 existing calculation records provided\n"
     ]
    },
    {
     "name": "stderr",
     "output_type": "stream",
     "text": [
      "100%|█████████████████████████████████████████████████████████████████████████████████████| 1/1 [00:00<00:00,  4.44it/s]"
     ]
    },
    {
     "name": "stdout",
     "output_type": "stream",
     "text": [
      "1 calculation combinations to check\n",
      "1 new records to prepare\n"
     ]
    },
    {
     "name": "stderr",
     "output_type": "stream",
     "text": [
      "\n",
      "preparing: 100%|##########################################################################| 1/1 [00:00<00:00, 32.48it/s]\n"
     ]
    },
    {
     "name": "stdout",
     "output_type": "stream",
     "text": [
      "18478a1b-11cf-46ed-8b6d-260a2408591d\n",
      "sim calculated successfully\n",
      "\n",
      "1658.203 0.4623 1668.038\n",
      "0 existing calculation records provided\n"
     ]
    },
    {
     "name": "stderr",
     "output_type": "stream",
     "text": [
      "100%|█████████████████████████████████████████████████████████████████████████████████████| 1/1 [00:00<00:00,  4.29it/s]"
     ]
    },
    {
     "name": "stdout",
     "output_type": "stream",
     "text": [
      "1 calculation combinations to check\n",
      "1 new records to prepare\n"
     ]
    },
    {
     "name": "stderr",
     "output_type": "stream",
     "text": [
      "\n",
      "preparing: 100%|##########################################################################| 1/1 [00:00<00:00, 32.46it/s]\n"
     ]
    },
    {
     "name": "stdout",
     "output_type": "stream",
     "text": [
      "b4a5fc64-845c-4280-8111-0cc7c6895939\n",
      "sim calculated successfully\n",
      "\n",
      "1658.203 0.4732 1655.447\n",
      "0 existing calculation records provided\n"
     ]
    },
    {
     "name": "stderr",
     "output_type": "stream",
     "text": [
      "100%|█████████████████████████████████████████████████████████████████████████████████████| 1/1 [00:00<00:00,  4.38it/s]"
     ]
    },
    {
     "name": "stdout",
     "output_type": "stream",
     "text": [
      "1 calculation combinations to check\n",
      "1 new records to prepare\n"
     ]
    },
    {
     "name": "stderr",
     "output_type": "stream",
     "text": [
      "\n",
      "preparing: 100%|##########################################################################| 1/1 [00:00<00:00, 30.99it/s]\n"
     ]
    },
    {
     "name": "stdout",
     "output_type": "stream",
     "text": [
      "07552e13-526c-4454-a7fd-36e662774835\n",
      "sim calculated successfully\n",
      "\n",
      "1658.203 0.5468 1676.412\n",
      "0 existing calculation records provided\n"
     ]
    },
    {
     "name": "stderr",
     "output_type": "stream",
     "text": [
      "100%|█████████████████████████████████████████████████████████████████████████████████████| 1/1 [00:00<00:00,  3.99it/s]"
     ]
    },
    {
     "name": "stdout",
     "output_type": "stream",
     "text": [
      "1 calculation combinations to check\n",
      "1 new records to prepare\n"
     ]
    },
    {
     "name": "stderr",
     "output_type": "stream",
     "text": [
      "\n",
      "preparing: 100%|##########################################################################| 1/1 [00:00<00:00, 28.90it/s]\n"
     ]
    },
    {
     "name": "stdout",
     "output_type": "stream",
     "text": [
      "7b0160ba-f500-4fc8-b318-53dd54b01d31\n",
      "sim calculated successfully\n",
      "\n",
      "1658.203 0.5324 1677.612\n",
      "0 existing calculation records provided\n"
     ]
    },
    {
     "name": "stderr",
     "output_type": "stream",
     "text": [
      "100%|█████████████████████████████████████████████████████████████████████████████████████| 1/1 [00:00<00:00,  4.12it/s]"
     ]
    },
    {
     "name": "stdout",
     "output_type": "stream",
     "text": [
      "1 calculation combinations to check\n",
      "1 new records to prepare\n"
     ]
    },
    {
     "name": "stderr",
     "output_type": "stream",
     "text": [
      "\n",
      "preparing: 100%|##########################################################################| 1/1 [00:00<00:00, 27.42it/s]\n"
     ]
    },
    {
     "name": "stdout",
     "output_type": "stream",
     "text": [
      "e4172883-478b-4105-9f56-cb998f778367\n",
      "sim calculated successfully\n",
      "\n",
      "1658.203 0.4964 1672.320\n",
      "0 existing calculation records provided\n"
     ]
    },
    {
     "name": "stderr",
     "output_type": "stream",
     "text": [
      "100%|█████████████████████████████████████████████████████████████████████████████████████| 1/1 [00:00<00:00,  4.32it/s]"
     ]
    },
    {
     "name": "stdout",
     "output_type": "stream",
     "text": [
      "1 calculation combinations to check\n",
      "1 new records to prepare\n"
     ]
    },
    {
     "name": "stderr",
     "output_type": "stream",
     "text": [
      "\n",
      "preparing: 100%|##########################################################################| 1/1 [00:00<00:00, 31.03it/s]\n"
     ]
    },
    {
     "name": "stdout",
     "output_type": "stream",
     "text": [
      "8a1c839e-ca37-4279-8c5c-0cd56076bc8b\n",
      "sim calculated successfully\n",
      "\n",
      "1658.203 0.4752 1688.371\n",
      "0 existing calculation records provided\n"
     ]
    },
    {
     "name": "stderr",
     "output_type": "stream",
     "text": [
      "100%|█████████████████████████████████████████████████████████████████████████████████████| 1/1 [00:00<00:00,  4.15it/s]"
     ]
    },
    {
     "name": "stdout",
     "output_type": "stream",
     "text": [
      "1 calculation combinations to check\n",
      "1 new records to prepare\n"
     ]
    },
    {
     "name": "stderr",
     "output_type": "stream",
     "text": [
      "\n",
      "preparing: 100%|##########################################################################| 1/1 [00:00<00:00, 28.93it/s]\n"
     ]
    },
    {
     "name": "stdout",
     "output_type": "stream",
     "text": [
      "f3f3899b-7b97-41e1-aa36-597e7ddb4c92\n",
      "sim calculated successfully\n",
      "\n",
      "1658.203 0.5252 1679.537\n",
      "0 existing calculation records provided\n"
     ]
    },
    {
     "name": "stderr",
     "output_type": "stream",
     "text": [
      "100%|█████████████████████████████████████████████████████████████████████████████████████| 1/1 [00:00<00:00,  3.98it/s]"
     ]
    },
    {
     "name": "stdout",
     "output_type": "stream",
     "text": [
      "1 calculation combinations to check\n",
      "1 new records to prepare\n"
     ]
    },
    {
     "name": "stderr",
     "output_type": "stream",
     "text": [
      "\n",
      "preparing: 100%|##########################################################################| 1/1 [00:00<00:00, 48.16it/s]\n"
     ]
    },
    {
     "name": "stdout",
     "output_type": "stream",
     "text": [
      "a37d4db0-1d5d-4e41-9685-b0546943813c\n",
      "sim calculated successfully\n",
      "\n",
      "1658.203 0.4764 1666.531\n",
      "0 existing calculation records provided\n"
     ]
    },
    {
     "name": "stderr",
     "output_type": "stream",
     "text": [
      "100%|█████████████████████████████████████████████████████████████████████████████████████| 1/1 [00:00<00:00,  4.32it/s]"
     ]
    },
    {
     "name": "stdout",
     "output_type": "stream",
     "text": [
      "1 calculation combinations to check\n",
      "1 new records to prepare\n"
     ]
    },
    {
     "name": "stderr",
     "output_type": "stream",
     "text": [
      "\n",
      "preparing: 100%|##########################################################################| 1/1 [00:00<00:00, 25.97it/s]\n"
     ]
    },
    {
     "name": "stdout",
     "output_type": "stream",
     "text": [
      "8f483e30-20a5-4663-b1b1-fe9314d2f500\n",
      "sim calculated successfully\n",
      "\n",
      "1658.203 0.557 1700.792\n",
      "182 2019--Fischer-F--Cu-Ni--LAMMPS--ipr3\n",
      "0 existing calculation records provided\n"
     ]
    },
    {
     "name": "stderr",
     "output_type": "stream",
     "text": [
      "100%|█████████████████████████████████████████████████████████████████████████████████████| 1/1 [00:00<00:00,  4.11it/s]"
     ]
    },
    {
     "name": "stdout",
     "output_type": "stream",
     "text": [
      "1 calculation combinations to check\n",
      "1 new records to prepare\n"
     ]
    },
    {
     "name": "stderr",
     "output_type": "stream",
     "text": [
      "\n",
      "preparing: 100%|##########################################################################| 1/1 [00:00<00:00, 31.18it/s]\n"
     ]
    },
    {
     "name": "stdout",
     "output_type": "stream",
     "text": [
      "aa836f48-2f6b-4485-86f0-44e39404ef05\n",
      "sim calculated successfully\n",
      "\n",
      "4525.000 0.004345 4545.844\n",
      "0 existing calculation records provided\n"
     ]
    },
    {
     "name": "stderr",
     "output_type": "stream",
     "text": [
      "100%|█████████████████████████████████████████████████████████████████████████████████████| 1/1 [00:00<00:00,  4.02it/s]"
     ]
    },
    {
     "name": "stdout",
     "output_type": "stream",
     "text": [
      "1 calculation combinations to check\n",
      "1 new records to prepare\n"
     ]
    },
    {
     "name": "stderr",
     "output_type": "stream",
     "text": [
      "\n",
      "preparing: 100%|##########################################################################| 1/1 [00:00<00:00, 28.74it/s]\n"
     ]
    },
    {
     "name": "stdout",
     "output_type": "stream",
     "text": [
      "e58363ef-2d8c-4a35-b924-0d81f1846896\n",
      "sim calculated successfully\n",
      "\n",
      "2287.500 0.000269 2289.520\n",
      "0 existing calculation records provided\n"
     ]
    },
    {
     "name": "stderr",
     "output_type": "stream",
     "text": [
      "100%|█████████████████████████████████████████████████████████████████████████████████████| 1/1 [00:00<00:00,  3.96it/s]"
     ]
    },
    {
     "name": "stdout",
     "output_type": "stream",
     "text": [
      "1 calculation combinations to check\n",
      "1 new records to prepare\n"
     ]
    },
    {
     "name": "stderr",
     "output_type": "stream",
     "text": [
      "\n",
      "preparing: 100%|##########################################################################| 1/1 [00:00<00:00, 46.22it/s]\n"
     ]
    },
    {
     "name": "stdout",
     "output_type": "stream",
     "text": [
      "5108f67e-40c0-480a-b602-5eb1ae25f0b0\n",
      "sim calculated successfully\n",
      "\n",
      "1168.750 0.9741 1166.151\n",
      "0 existing calculation records provided\n"
     ]
    },
    {
     "name": "stderr",
     "output_type": "stream",
     "text": [
      "100%|█████████████████████████████████████████████████████████████████████████████████████| 1/1 [00:00<00:00,  3.83it/s]"
     ]
    },
    {
     "name": "stdout",
     "output_type": "stream",
     "text": [
      "1 calculation combinations to check\n",
      "1 new records to prepare\n"
     ]
    },
    {
     "name": "stderr",
     "output_type": "stream",
     "text": [
      "\n",
      "preparing: 100%|##########################################################################| 1/1 [00:00<00:00, 46.45it/s]\n"
     ]
    },
    {
     "name": "stdout",
     "output_type": "stream",
     "text": [
      "5711ff7d-f848-4c85-b34c-3c021653d034\n",
      "sim calculated successfully\n",
      "\n",
      "1728.125 0.001469 1651.981\n",
      "0 existing calculation records provided\n"
     ]
    },
    {
     "name": "stderr",
     "output_type": "stream",
     "text": [
      "100%|█████████████████████████████████████████████████████████████████████████████████████| 1/1 [00:00<00:00,  4.28it/s]"
     ]
    },
    {
     "name": "stdout",
     "output_type": "stream",
     "text": [
      "1 calculation combinations to check\n",
      "1 new records to prepare\n"
     ]
    },
    {
     "name": "stderr",
     "output_type": "stream",
     "text": [
      "\n",
      "preparing: 100%|##########################################################################| 1/1 [00:00<00:00, 32.96it/s]\n"
     ]
    },
    {
     "name": "stdout",
     "output_type": "stream",
     "text": [
      "56cccd6b-3107-46b0-88d3-3b6ad269af0d\n",
      "sim calculated successfully\n",
      "\n",
      "1448.438 0.04495 1308.299\n",
      "0 existing calculation records provided\n"
     ]
    },
    {
     "name": "stderr",
     "output_type": "stream",
     "text": [
      "100%|█████████████████████████████████████████████████████████████████████████████████████| 1/1 [00:00<00:00,  4.39it/s]"
     ]
    },
    {
     "name": "stdout",
     "output_type": "stream",
     "text": [
      "1 calculation combinations to check\n",
      "1 new records to prepare\n"
     ]
    },
    {
     "name": "stderr",
     "output_type": "stream",
     "text": [
      "\n",
      "preparing: 100%|##########################################################################| 1/1 [00:00<00:00, 35.17it/s]\n"
     ]
    },
    {
     "name": "stdout",
     "output_type": "stream",
     "text": [
      "3cb8d8bb-587d-496a-9d54-eaf7a8261c16\n",
      "sim calculated successfully\n",
      "\n",
      "1308.594 0.5298 1328.358\n",
      "0 existing calculation records provided\n"
     ]
    },
    {
     "name": "stderr",
     "output_type": "stream",
     "text": [
      "100%|█████████████████████████████████████████████████████████████████████████████████████| 1/1 [00:00<00:00,  4.19it/s]"
     ]
    },
    {
     "name": "stdout",
     "output_type": "stream",
     "text": [
      "1 calculation combinations to check\n",
      "1 new records to prepare\n"
     ]
    },
    {
     "name": "stderr",
     "output_type": "stream",
     "text": [
      "\n",
      "preparing: 100%|##########################################################################| 1/1 [00:00<00:00, 33.29it/s]\n"
     ]
    },
    {
     "name": "stdout",
     "output_type": "stream",
     "text": [
      "afcf881f-186b-421f-9812-2908f8b094d3\n",
      "sim calculated successfully\n",
      "\n",
      "1308.594 0.4866 1308.485\n",
      "0 existing calculation records provided\n"
     ]
    },
    {
     "name": "stderr",
     "output_type": "stream",
     "text": [
      "100%|█████████████████████████████████████████████████████████████████████████████████████| 1/1 [00:00<00:00,  3.68it/s]"
     ]
    },
    {
     "name": "stdout",
     "output_type": "stream",
     "text": [
      "1 calculation combinations to check\n",
      "1 new records to prepare\n"
     ]
    },
    {
     "name": "stderr",
     "output_type": "stream",
     "text": [
      "\n",
      "preparing: 100%|##########################################################################| 1/1 [00:00<00:00, 45.72it/s]\n"
     ]
    },
    {
     "name": "stdout",
     "output_type": "stream",
     "text": [
      "067a1f37-04a5-4e92-b549-70a3bb6b74ee\n",
      "sim calculated successfully\n",
      "\n",
      "1308.594 0.4997 1324.950\n",
      "0 existing calculation records provided\n"
     ]
    },
    {
     "name": "stderr",
     "output_type": "stream",
     "text": [
      "100%|█████████████████████████████████████████████████████████████████████████████████████| 1/1 [00:00<00:00,  4.33it/s]"
     ]
    },
    {
     "name": "stdout",
     "output_type": "stream",
     "text": [
      "1 calculation combinations to check\n",
      "1 new records to prepare\n"
     ]
    },
    {
     "name": "stderr",
     "output_type": "stream",
     "text": [
      "\n",
      "preparing: 100%|##########################################################################| 1/1 [00:00<00:00, 34.50it/s]\n"
     ]
    },
    {
     "name": "stdout",
     "output_type": "stream",
     "text": [
      "03ef7687-ef96-4a33-a989-9550b01faaf3\n",
      "sim calculated successfully\n",
      "\n",
      "1308.594 0.5165 1310.521\n",
      "0 existing calculation records provided\n"
     ]
    },
    {
     "name": "stderr",
     "output_type": "stream",
     "text": [
      "100%|█████████████████████████████████████████████████████████████████████████████████████| 1/1 [00:00<00:00,  3.82it/s]"
     ]
    },
    {
     "name": "stdout",
     "output_type": "stream",
     "text": [
      "1 calculation combinations to check\n",
      "1 new records to prepare\n"
     ]
    },
    {
     "name": "stderr",
     "output_type": "stream",
     "text": [
      "\n",
      "preparing: 100%|##########################################################################| 1/1 [00:00<00:00, 49.60it/s]\n"
     ]
    },
    {
     "name": "stdout",
     "output_type": "stream",
     "text": [
      "fabfe9f3-6f5f-43b0-8ba0-0651b00ebb13\n",
      "sim calculated successfully\n",
      "\n",
      "1308.594 0.5095 1315.357\n",
      "0 existing calculation records provided\n"
     ]
    },
    {
     "name": "stderr",
     "output_type": "stream",
     "text": [
      "100%|█████████████████████████████████████████████████████████████████████████████████████| 1/1 [00:00<00:00,  4.62it/s]"
     ]
    },
    {
     "name": "stdout",
     "output_type": "stream",
     "text": [
      "1 calculation combinations to check\n",
      "1 new records to prepare\n"
     ]
    },
    {
     "name": "stderr",
     "output_type": "stream",
     "text": [
      "\n",
      "preparing: 100%|##########################################################################| 1/1 [00:00<00:00, 34.02it/s]\n"
     ]
    },
    {
     "name": "stdout",
     "output_type": "stream",
     "text": [
      "31b27274-44ad-44f4-bc99-43a52e41d372\n",
      "sim calculated successfully\n",
      "\n",
      "1308.594 0.5462 1317.744\n",
      "0 existing calculation records provided\n"
     ]
    },
    {
     "name": "stderr",
     "output_type": "stream",
     "text": [
      "100%|█████████████████████████████████████████████████████████████████████████████████████| 1/1 [00:00<00:00,  4.13it/s]"
     ]
    },
    {
     "name": "stdout",
     "output_type": "stream",
     "text": [
      "1 calculation combinations to check\n",
      "1 new records to prepare\n"
     ]
    },
    {
     "name": "stderr",
     "output_type": "stream",
     "text": [
      "\n",
      "preparing: 100%|##########################################################################| 1/1 [00:00<00:00, 30.40it/s]\n"
     ]
    },
    {
     "name": "stdout",
     "output_type": "stream",
     "text": [
      "212b1a25-9cdb-40bd-9680-f5f5164d83b2\n",
      "sim calculated successfully\n",
      "\n",
      "1308.594 0.5017 1317.362\n",
      "0 existing calculation records provided\n"
     ]
    },
    {
     "name": "stderr",
     "output_type": "stream",
     "text": [
      "100%|█████████████████████████████████████████████████████████████████████████████████████| 1/1 [00:00<00:00,  4.26it/s]"
     ]
    },
    {
     "name": "stdout",
     "output_type": "stream",
     "text": [
      "1 calculation combinations to check\n",
      "1 new records to prepare\n"
     ]
    },
    {
     "name": "stderr",
     "output_type": "stream",
     "text": [
      "\n",
      "preparing: 100%|##########################################################################| 1/1 [00:00<00:00, 33.90it/s]\n"
     ]
    },
    {
     "name": "stdout",
     "output_type": "stream",
     "text": [
      "a6267da2-8de2-437e-9024-96fcb35749fb\n",
      "sim calculated successfully\n",
      "\n",
      "1308.594 0.4701 1309.689\n",
      "0 existing calculation records provided\n"
     ]
    },
    {
     "name": "stderr",
     "output_type": "stream",
     "text": [
      "100%|█████████████████████████████████████████████████████████████████████████████████████| 1/1 [00:00<00:00,  4.31it/s]"
     ]
    },
    {
     "name": "stdout",
     "output_type": "stream",
     "text": [
      "1 calculation combinations to check\n",
      "1 new records to prepare\n"
     ]
    },
    {
     "name": "stderr",
     "output_type": "stream",
     "text": [
      "\n",
      "preparing: 100%|##########################################################################| 1/1 [00:00<00:00, 33.64it/s]\n"
     ]
    },
    {
     "name": "stdout",
     "output_type": "stream",
     "text": [
      "75ca8b04-88f5-4fa0-8de6-a2c9462984b1\n",
      "sim calculated successfully\n",
      "\n",
      "1308.594 0.5181 1314.119\n",
      "0 existing calculation records provided\n"
     ]
    },
    {
     "name": "stderr",
     "output_type": "stream",
     "text": [
      "100%|█████████████████████████████████████████████████████████████████████████████████████| 1/1 [00:00<00:00,  3.85it/s]"
     ]
    },
    {
     "name": "stdout",
     "output_type": "stream",
     "text": [
      "1 calculation combinations to check\n",
      "1 new records to prepare\n"
     ]
    },
    {
     "name": "stderr",
     "output_type": "stream",
     "text": [
      "\n",
      "preparing: 100%|##########################################################################| 1/1 [00:00<00:00, 44.55it/s]\n"
     ]
    },
    {
     "name": "stdout",
     "output_type": "stream",
     "text": [
      "a7fb8793-92fc-4fa5-a9ab-5c1c9c5230f2\n",
      "sim calculated successfully\n",
      "\n",
      "1308.594 0.4972 1317.213\n",
      "181 2019--Fischer-F--Cu-Ni--LAMMPS--ipr2\n",
      "0 existing calculation records provided\n"
     ]
    },
    {
     "name": "stderr",
     "output_type": "stream",
     "text": [
      "100%|█████████████████████████████████████████████████████████████████████████████████████| 1/1 [00:00<00:00,  3.42it/s]"
     ]
    },
    {
     "name": "stdout",
     "output_type": "stream",
     "text": [
      "1 calculation combinations to check\n",
      "1 new records to prepare\n"
     ]
    },
    {
     "name": "stderr",
     "output_type": "stream",
     "text": [
      "\n",
      "preparing: 100%|##########################################################################| 1/1 [00:00<00:00, 27.71it/s]\n"
     ]
    },
    {
     "name": "stdout",
     "output_type": "stream",
     "text": [
      "53d1de34-e585-46e6-89f5-84c638082f8d\n",
      "sim calculated successfully\n",
      "\n",
      "4525.000 1.034e-05 4497.617\n",
      "0 existing calculation records provided\n"
     ]
    },
    {
     "name": "stderr",
     "output_type": "stream",
     "text": [
      "100%|█████████████████████████████████████████████████████████████████████████████████████| 1/1 [00:00<00:00,  3.93it/s]"
     ]
    },
    {
     "name": "stdout",
     "output_type": "stream",
     "text": [
      "1 calculation combinations to check\n",
      "1 new records to prepare\n"
     ]
    },
    {
     "name": "stderr",
     "output_type": "stream",
     "text": [
      "\n",
      "preparing: 100%|##########################################################################| 1/1 [00:00<00:00, 29.96it/s]\n"
     ]
    },
    {
     "name": "stdout",
     "output_type": "stream",
     "text": [
      "511f335e-2731-4334-92d1-4d8fe9a10db3\n",
      "sim calculated successfully\n",
      "\n",
      "2287.500 0.0008069 2245.905\n",
      "0 existing calculation records provided\n"
     ]
    },
    {
     "name": "stderr",
     "output_type": "stream",
     "text": [
      "100%|█████████████████████████████████████████████████████████████████████████████████████| 1/1 [00:00<00:00,  4.11it/s]"
     ]
    },
    {
     "name": "stdout",
     "output_type": "stream",
     "text": [
      "1 calculation combinations to check\n",
      "1 new records to prepare\n"
     ]
    },
    {
     "name": "stderr",
     "output_type": "stream",
     "text": [
      "\n",
      "preparing: 100%|##########################################################################| 1/1 [00:00<00:00, 22.02it/s]\n"
     ]
    },
    {
     "name": "stdout",
     "output_type": "stream",
     "text": [
      "0aee5bc5-cdef-4a27-ba07-8872de51d9b0\n",
      "sim calculated successfully\n",
      "\n",
      "1168.750 0.9986 1165.774\n",
      "0 existing calculation records provided\n"
     ]
    },
    {
     "name": "stderr",
     "output_type": "stream",
     "text": [
      "100%|█████████████████████████████████████████████████████████████████████████████████████| 1/1 [00:00<00:00,  3.98it/s]"
     ]
    },
    {
     "name": "stdout",
     "output_type": "stream",
     "text": [
      "1 calculation combinations to check\n",
      "1 new records to prepare\n"
     ]
    },
    {
     "name": "stderr",
     "output_type": "stream",
     "text": [
      "\n",
      "preparing: 100%|##########################################################################| 1/1 [00:00<00:00, 25.45it/s]\n"
     ]
    },
    {
     "name": "stdout",
     "output_type": "stream",
     "text": [
      "09ab682d-760f-4666-a78a-845cfeaf9100\n",
      "sim calculated successfully\n",
      "\n",
      "1728.125 0.331 1672.855\n",
      "0 existing calculation records provided\n"
     ]
    },
    {
     "name": "stderr",
     "output_type": "stream",
     "text": [
      "100%|█████████████████████████████████████████████████████████████████████████████████████| 1/1 [00:00<00:00,  4.71it/s]"
     ]
    },
    {
     "name": "stdout",
     "output_type": "stream",
     "text": [
      "1 calculation combinations to check\n",
      "1 new records to prepare\n"
     ]
    },
    {
     "name": "stderr",
     "output_type": "stream",
     "text": [
      "\n",
      "preparing: 100%|##########################################################################| 1/1 [00:00<00:00, 47.69it/s]\n"
     ]
    },
    {
     "name": "stdout",
     "output_type": "stream",
     "text": [
      "6c0d0975-9263-415d-9062-82f285bb5263\n",
      "sim calculated successfully\n",
      "\n",
      "1448.438 0.7809 1588.017\n",
      "0 existing calculation records provided\n"
     ]
    },
    {
     "name": "stderr",
     "output_type": "stream",
     "text": [
      "100%|█████████████████████████████████████████████████████████████████████████████████████| 1/1 [00:00<00:00,  4.52it/s]"
     ]
    },
    {
     "name": "stdout",
     "output_type": "stream",
     "text": [
      "1 calculation combinations to check\n",
      "1 new records to prepare\n"
     ]
    },
    {
     "name": "stderr",
     "output_type": "stream",
     "text": [
      "\n",
      "preparing: 100%|##########################################################################| 1/1 [00:00<00:00, 33.65it/s]\n"
     ]
    },
    {
     "name": "stdout",
     "output_type": "stream",
     "text": [
      "7bca077d-f268-4ea2-b5d2-929d3a382bc9\n",
      "sim calculated successfully\n",
      "\n",
      "1867.969 0.003641 1671.394\n",
      "0 existing calculation records provided\n"
     ]
    },
    {
     "name": "stderr",
     "output_type": "stream",
     "text": [
      "100%|█████████████████████████████████████████████████████████████████████████████████████| 1/1 [00:00<00:00,  4.24it/s]"
     ]
    },
    {
     "name": "stdout",
     "output_type": "stream",
     "text": [
      "1 calculation combinations to check\n",
      "1 new records to prepare\n"
     ]
    },
    {
     "name": "stderr",
     "output_type": "stream",
     "text": [
      "\n",
      "preparing: 100%|##########################################################################| 1/1 [00:00<00:00, 46.90it/s]\n"
     ]
    },
    {
     "name": "stdout",
     "output_type": "stream",
     "text": [
      "9f06c0d5-3e6d-4600-a777-96906dec8366\n",
      "sim calculated successfully\n",
      "\n",
      "1658.203 0.4876 1672.859\n",
      "0 existing calculation records provided\n"
     ]
    },
    {
     "name": "stderr",
     "output_type": "stream",
     "text": [
      "100%|█████████████████████████████████████████████████████████████████████████████████████| 1/1 [00:00<00:00,  3.88it/s]"
     ]
    },
    {
     "name": "stdout",
     "output_type": "stream",
     "text": [
      "1 calculation combinations to check\n",
      "1 new records to prepare\n"
     ]
    },
    {
     "name": "stderr",
     "output_type": "stream",
     "text": [
      "\n",
      "preparing: 100%|##########################################################################| 1/1 [00:00<00:00, 30.38it/s]\n"
     ]
    },
    {
     "name": "stdout",
     "output_type": "stream",
     "text": [
      "702dc77f-6341-4ac3-8029-6b2e9dc86f1a\n",
      "sim calculated successfully\n",
      "\n",
      "1658.203 0.4925 1682.566\n",
      "0 existing calculation records provided\n"
     ]
    },
    {
     "name": "stderr",
     "output_type": "stream",
     "text": [
      "100%|█████████████████████████████████████████████████████████████████████████████████████| 1/1 [00:00<00:00,  3.95it/s]"
     ]
    },
    {
     "name": "stdout",
     "output_type": "stream",
     "text": [
      "1 calculation combinations to check\n",
      "1 new records to prepare\n"
     ]
    },
    {
     "name": "stderr",
     "output_type": "stream",
     "text": [
      "\n",
      "preparing: 100%|##########################################################################| 1/1 [00:00<00:00, 31.71it/s]\n"
     ]
    },
    {
     "name": "stdout",
     "output_type": "stream",
     "text": [
      "bf3dff00-c7a7-45e5-bf43-1701facea7e3\n",
      "sim calculated successfully\n",
      "\n",
      "1658.203 0.4945 1684.910\n",
      "0 existing calculation records provided\n"
     ]
    },
    {
     "name": "stderr",
     "output_type": "stream",
     "text": [
      "100%|█████████████████████████████████████████████████████████████████████████████████████| 1/1 [00:00<00:00,  3.86it/s]"
     ]
    },
    {
     "name": "stdout",
     "output_type": "stream",
     "text": [
      "1 calculation combinations to check\n",
      "1 new records to prepare\n"
     ]
    },
    {
     "name": "stderr",
     "output_type": "stream",
     "text": [
      "\n",
      "preparing: 100%|##########################################################################| 1/1 [00:00<00:00, 47.31it/s]\n"
     ]
    },
    {
     "name": "stdout",
     "output_type": "stream",
     "text": [
      "c64a4de0-992d-47a2-8d75-3193109369da\n",
      "sim calculated successfully\n",
      "\n",
      "1658.203 0.5092 1681.824\n",
      "0 existing calculation records provided\n"
     ]
    },
    {
     "name": "stderr",
     "output_type": "stream",
     "text": [
      "100%|█████████████████████████████████████████████████████████████████████████████████████| 1/1 [00:00<00:00,  3.74it/s]"
     ]
    },
    {
     "name": "stdout",
     "output_type": "stream",
     "text": [
      "1 calculation combinations to check\n",
      "1 new records to prepare\n"
     ]
    },
    {
     "name": "stderr",
     "output_type": "stream",
     "text": [
      "\n",
      "preparing: 100%|##########################################################################| 1/1 [00:00<00:00, 44.16it/s]\n"
     ]
    },
    {
     "name": "stdout",
     "output_type": "stream",
     "text": [
      "8c517b45-32d5-43f7-9600-a3a5ead70db1\n",
      "sim calculated successfully\n",
      "\n",
      "1658.203 0.5636 1692.474\n",
      "0 existing calculation records provided\n"
     ]
    },
    {
     "name": "stderr",
     "output_type": "stream",
     "text": [
      "100%|█████████████████████████████████████████████████████████████████████████████████████| 1/1 [00:00<00:00,  4.32it/s]"
     ]
    },
    {
     "name": "stdout",
     "output_type": "stream",
     "text": [
      "1 calculation combinations to check\n",
      "1 new records to prepare\n"
     ]
    },
    {
     "name": "stderr",
     "output_type": "stream",
     "text": [
      "\n",
      "preparing: 100%|##########################################################################| 1/1 [00:00<00:00, 30.90it/s]\n"
     ]
    },
    {
     "name": "stdout",
     "output_type": "stream",
     "text": [
      "93c35958-fc2f-4013-9ddf-4d9a3eaf1118\n",
      "sim calculated successfully\n",
      "\n",
      "1658.203 0.4844 1667.056\n",
      "0 existing calculation records provided\n"
     ]
    },
    {
     "name": "stderr",
     "output_type": "stream",
     "text": [
      "100%|█████████████████████████████████████████████████████████████████████████████████████| 1/1 [00:00<00:00,  3.93it/s]"
     ]
    },
    {
     "name": "stdout",
     "output_type": "stream",
     "text": [
      "1 calculation combinations to check\n",
      "1 new records to prepare\n"
     ]
    },
    {
     "name": "stderr",
     "output_type": "stream",
     "text": [
      "\n",
      "preparing: 100%|##########################################################################| 1/1 [00:00<00:00, 45.85it/s]\n"
     ]
    },
    {
     "name": "stdout",
     "output_type": "stream",
     "text": [
      "deea4fca-d8f5-4d21-a2c3-3b30c363bfa2\n",
      "sim calculated successfully\n",
      "\n",
      "1658.203 0.5294 1694.936\n",
      "0 existing calculation records provided\n"
     ]
    },
    {
     "name": "stderr",
     "output_type": "stream",
     "text": [
      "100%|█████████████████████████████████████████████████████████████████████████████████████| 1/1 [00:00<00:00,  4.51it/s]"
     ]
    },
    {
     "name": "stdout",
     "output_type": "stream",
     "text": [
      "1 calculation combinations to check\n",
      "1 new records to prepare\n"
     ]
    },
    {
     "name": "stderr",
     "output_type": "stream",
     "text": [
      "\n",
      "preparing: 100%|##########################################################################| 1/1 [00:00<00:00, 47.52it/s]\n"
     ]
    },
    {
     "name": "stdout",
     "output_type": "stream",
     "text": [
      "3c3b0d89-20a8-40e3-b240-4ad22e05e7f9\n",
      "sim calculated successfully\n",
      "\n",
      "1658.203 0.4608 1657.000\n",
      "0 existing calculation records provided\n"
     ]
    },
    {
     "name": "stderr",
     "output_type": "stream",
     "text": [
      "100%|█████████████████████████████████████████████████████████████████████████████████████| 1/1 [00:00<00:00,  4.50it/s]"
     ]
    },
    {
     "name": "stdout",
     "output_type": "stream",
     "text": [
      "1 calculation combinations to check\n",
      "1 new records to prepare\n"
     ]
    },
    {
     "name": "stderr",
     "output_type": "stream",
     "text": [
      "\n",
      "preparing: 100%|##########################################################################| 1/1 [00:00<00:00, 30.77it/s]\n"
     ]
    },
    {
     "name": "stdout",
     "output_type": "stream",
     "text": [
      "95be13a7-9d6a-4b7d-b0f0-a264270524dc\n",
      "sim calculated successfully\n",
      "\n",
      "1658.203 0.5659 1691.941\n",
      "180 2019--Fischer-F--Cu-Ni--LAMMPS--ipr2\n",
      "0 existing calculation records provided\n"
     ]
    },
    {
     "name": "stderr",
     "output_type": "stream",
     "text": [
      "100%|█████████████████████████████████████████████████████████████████████████████████████| 1/1 [00:00<00:00,  4.31it/s]"
     ]
    },
    {
     "name": "stdout",
     "output_type": "stream",
     "text": [
      "1 calculation combinations to check\n",
      "1 new records to prepare\n"
     ]
    },
    {
     "name": "stderr",
     "output_type": "stream",
     "text": [
      "\n",
      "preparing: 100%|##########################################################################| 1/1 [00:00<00:00, 35.30it/s]\n"
     ]
    },
    {
     "name": "stdout",
     "output_type": "stream",
     "text": [
      "93fab752-901a-4e99-8da6-5c963e50293c\n",
      "sim calculated successfully\n",
      "\n",
      "4525.000 0.00419 4545.625\n",
      "0 existing calculation records provided\n"
     ]
    },
    {
     "name": "stderr",
     "output_type": "stream",
     "text": [
      "100%|█████████████████████████████████████████████████████████████████████████████████████| 1/1 [00:00<00:00,  3.88it/s]"
     ]
    },
    {
     "name": "stdout",
     "output_type": "stream",
     "text": [
      "1 calculation combinations to check\n",
      "1 new records to prepare\n"
     ]
    },
    {
     "name": "stderr",
     "output_type": "stream",
     "text": [
      "\n",
      "preparing: 100%|##########################################################################| 1/1 [00:00<00:00, 29.84it/s]\n"
     ]
    },
    {
     "name": "stdout",
     "output_type": "stream",
     "text": [
      "8515ffcd-6643-4818-b5be-fbfc2769fe40\n",
      "sim calculated successfully\n",
      "\n",
      "2287.500 0.0002069 2276.310\n",
      "0 existing calculation records provided\n"
     ]
    },
    {
     "name": "stderr",
     "output_type": "stream",
     "text": [
      "100%|█████████████████████████████████████████████████████████████████████████████████████| 1/1 [00:00<00:00,  3.30it/s]"
     ]
    },
    {
     "name": "stdout",
     "output_type": "stream",
     "text": [
      "1 calculation combinations to check\n",
      "1 new records to prepare\n"
     ]
    },
    {
     "name": "stderr",
     "output_type": "stream",
     "text": [
      "\n",
      "preparing: 100%|##########################################################################| 1/1 [00:00<00:00, 43.90it/s]\n"
     ]
    },
    {
     "name": "stdout",
     "output_type": "stream",
     "text": [
      "1c7a0db2-075e-4d1e-901e-d1172f56924b\n",
      "sim calculated successfully\n",
      "\n",
      "1168.750 0.8051 1254.783\n",
      "0 existing calculation records provided\n"
     ]
    },
    {
     "name": "stderr",
     "output_type": "stream",
     "text": [
      "100%|█████████████████████████████████████████████████████████████████████████████████████| 1/1 [00:00<00:00,  3.95it/s]"
     ]
    },
    {
     "name": "stdout",
     "output_type": "stream",
     "text": [
      "1 calculation combinations to check\n",
      "1 new records to prepare\n"
     ]
    },
    {
     "name": "stderr",
     "output_type": "stream",
     "text": [
      "\n",
      "preparing: 100%|##########################################################################| 1/1 [00:00<00:00, 47.46it/s]\n"
     ]
    },
    {
     "name": "stdout",
     "output_type": "stream",
     "text": [
      "fdfa913b-f673-4462-b1b5-9d61cdd7ec7d\n",
      "sim calculated successfully\n",
      "\n",
      "1728.125 0.001593 1645.406\n",
      "0 existing calculation records provided\n"
     ]
    },
    {
     "name": "stderr",
     "output_type": "stream",
     "text": [
      "100%|█████████████████████████████████████████████████████████████████████████████████████| 1/1 [00:00<00:00,  3.42it/s]"
     ]
    },
    {
     "name": "stdout",
     "output_type": "stream",
     "text": [
      "1 calculation combinations to check\n",
      "1 new records to prepare\n"
     ]
    },
    {
     "name": "stderr",
     "output_type": "stream",
     "text": [
      "\n",
      "preparing: 100%|##########################################################################| 1/1 [00:00<00:00, 49.05it/s]\n"
     ]
    },
    {
     "name": "stdout",
     "output_type": "stream",
     "text": [
      "965911e4-9848-45dd-9cdc-875eb26b4186\n",
      "sim calculated successfully\n",
      "\n",
      "1448.438 0.09507 1323.425\n",
      "0 existing calculation records provided\n"
     ]
    },
    {
     "name": "stderr",
     "output_type": "stream",
     "text": [
      "100%|█████████████████████████████████████████████████████████████████████████████████████| 1/1 [00:00<00:00,  3.81it/s]"
     ]
    },
    {
     "name": "stdout",
     "output_type": "stream",
     "text": [
      "1 calculation combinations to check\n",
      "1 new records to prepare\n"
     ]
    },
    {
     "name": "stderr",
     "output_type": "stream",
     "text": [
      "\n",
      "preparing: 100%|##########################################################################| 1/1 [00:00<00:00, 49.03it/s]\n"
     ]
    },
    {
     "name": "stdout",
     "output_type": "stream",
     "text": [
      "31f9599e-3c68-4771-9cd3-90f75ecff388\n",
      "sim calculated successfully\n",
      "\n",
      "1308.594 0.482 1304.895\n",
      "0 existing calculation records provided\n"
     ]
    },
    {
     "name": "stderr",
     "output_type": "stream",
     "text": [
      "100%|█████████████████████████████████████████████████████████████████████████████████████| 1/1 [00:00<00:00,  3.47it/s]"
     ]
    },
    {
     "name": "stdout",
     "output_type": "stream",
     "text": [
      "1 calculation combinations to check\n",
      "1 new records to prepare\n"
     ]
    },
    {
     "name": "stderr",
     "output_type": "stream",
     "text": [
      "\n",
      "preparing: 100%|##########################################################################| 1/1 [00:00<00:00, 41.99it/s]\n"
     ]
    },
    {
     "name": "stdout",
     "output_type": "stream",
     "text": [
      "88893810-28a7-43b3-94b4-da6ebb9a47bd\n",
      "sim calculated successfully\n",
      "\n",
      "1308.594 0.5312 1321.801\n",
      "0 existing calculation records provided\n"
     ]
    },
    {
     "name": "stderr",
     "output_type": "stream",
     "text": [
      "100%|█████████████████████████████████████████████████████████████████████████████████████| 1/1 [00:00<00:00,  3.76it/s]"
     ]
    },
    {
     "name": "stdout",
     "output_type": "stream",
     "text": [
      "1 calculation combinations to check\n",
      "1 new records to prepare\n"
     ]
    },
    {
     "name": "stderr",
     "output_type": "stream",
     "text": [
      "\n",
      "preparing: 100%|##########################################################################| 1/1 [00:00<00:00, 45.97it/s]\n"
     ]
    },
    {
     "name": "stdout",
     "output_type": "stream",
     "text": [
      "800561a3-448a-4709-a35d-88d3a2e855ae\n",
      "sim calculated successfully\n",
      "\n",
      "1308.594 0.5286 1318.821\n",
      "0 existing calculation records provided\n"
     ]
    },
    {
     "name": "stderr",
     "output_type": "stream",
     "text": [
      "100%|█████████████████████████████████████████████████████████████████████████████████████| 1/1 [00:00<00:00,  4.33it/s]"
     ]
    },
    {
     "name": "stdout",
     "output_type": "stream",
     "text": [
      "1 calculation combinations to check\n",
      "1 new records to prepare\n"
     ]
    },
    {
     "name": "stderr",
     "output_type": "stream",
     "text": [
      "\n",
      "preparing: 100%|##########################################################################| 1/1 [00:00<00:00, 32.50it/s]\n"
     ]
    },
    {
     "name": "stdout",
     "output_type": "stream",
     "text": [
      "b7882a33-90b5-4c5a-8370-e8ae5444993c\n",
      "sim calculated successfully\n",
      "\n",
      "1308.594 0.5403 1326.992\n",
      "0 existing calculation records provided\n"
     ]
    },
    {
     "name": "stderr",
     "output_type": "stream",
     "text": [
      "100%|█████████████████████████████████████████████████████████████████████████████████████| 1/1 [00:00<00:00,  3.68it/s]"
     ]
    },
    {
     "name": "stdout",
     "output_type": "stream",
     "text": [
      "1 calculation combinations to check\n",
      "1 new records to prepare\n"
     ]
    },
    {
     "name": "stderr",
     "output_type": "stream",
     "text": [
      "\n",
      "preparing: 100%|##########################################################################| 1/1 [00:00<00:00, 47.10it/s]\n"
     ]
    },
    {
     "name": "stdout",
     "output_type": "stream",
     "text": [
      "eccd4a11-6a37-49f2-a29b-a2704996480c\n",
      "sim calculated successfully\n",
      "\n",
      "1308.594 0.5336 1325.635\n",
      "0 existing calculation records provided\n"
     ]
    },
    {
     "name": "stderr",
     "output_type": "stream",
     "text": [
      "100%|█████████████████████████████████████████████████████████████████████████████████████| 1/1 [00:00<00:00,  4.03it/s]"
     ]
    },
    {
     "name": "stdout",
     "output_type": "stream",
     "text": [
      "1 calculation combinations to check\n",
      "1 new records to prepare\n"
     ]
    },
    {
     "name": "stderr",
     "output_type": "stream",
     "text": [
      "\n",
      "preparing: 100%|##########################################################################| 1/1 [00:00<00:00, 31.56it/s]\n"
     ]
    },
    {
     "name": "stdout",
     "output_type": "stream",
     "text": [
      "f4d90cbe-0535-422c-8d27-96c79a12bb87\n",
      "sim calculated successfully\n",
      "\n",
      "1308.594 0.5228 1317.527\n",
      "0 existing calculation records provided\n"
     ]
    },
    {
     "name": "stderr",
     "output_type": "stream",
     "text": [
      "100%|█████████████████████████████████████████████████████████████████████████████████████| 1/1 [00:00<00:00,  4.29it/s]"
     ]
    },
    {
     "name": "stdout",
     "output_type": "stream",
     "text": [
      "1 calculation combinations to check\n",
      "1 new records to prepare\n"
     ]
    },
    {
     "name": "stderr",
     "output_type": "stream",
     "text": [
      "\n",
      "preparing: 100%|##########################################################################| 1/1 [00:00<00:00, 33.25it/s]\n"
     ]
    },
    {
     "name": "stdout",
     "output_type": "stream",
     "text": [
      "46b116a3-4028-442c-89c4-056b06b8949d\n",
      "sim calculated successfully\n",
      "\n",
      "1308.594 0.532 1323.182\n",
      "0 existing calculation records provided\n"
     ]
    },
    {
     "name": "stderr",
     "output_type": "stream",
     "text": [
      "100%|█████████████████████████████████████████████████████████████████████████████████████| 1/1 [00:00<00:00,  4.52it/s]"
     ]
    },
    {
     "name": "stdout",
     "output_type": "stream",
     "text": [
      "1 calculation combinations to check\n",
      "1 new records to prepare\n"
     ]
    },
    {
     "name": "stderr",
     "output_type": "stream",
     "text": [
      "\n",
      "preparing: 100%|##########################################################################| 1/1 [00:00<00:00, 30.44it/s]\n"
     ]
    },
    {
     "name": "stdout",
     "output_type": "stream",
     "text": [
      "ef32f495-7a8d-439a-aabf-2354dbc965ca\n",
      "sim calculated successfully\n",
      "\n",
      "1308.594 0.4532 1317.586\n",
      "0 existing calculation records provided\n"
     ]
    },
    {
     "name": "stderr",
     "output_type": "stream",
     "text": [
      "100%|█████████████████████████████████████████████████████████████████████████████████████| 1/1 [00:00<00:00,  4.16it/s]"
     ]
    },
    {
     "name": "stdout",
     "output_type": "stream",
     "text": [
      "1 calculation combinations to check\n",
      "1 new records to prepare\n"
     ]
    },
    {
     "name": "stderr",
     "output_type": "stream",
     "text": [
      "\n",
      "preparing: 100%|##########################################################################| 1/1 [00:00<00:00, 31.67it/s]\n"
     ]
    },
    {
     "name": "stdout",
     "output_type": "stream",
     "text": [
      "54f63cda-faba-493c-8126-a18d445fe63a\n",
      "sim calculated successfully\n",
      "\n",
      "1308.594 0.4542 1310.313\n",
      "0 existing calculation records provided\n"
     ]
    },
    {
     "name": "stderr",
     "output_type": "stream",
     "text": [
      "100%|█████████████████████████████████████████████████████████████████████████████████████| 1/1 [00:00<00:00,  4.05it/s]"
     ]
    },
    {
     "name": "stdout",
     "output_type": "stream",
     "text": [
      "1 calculation combinations to check\n",
      "1 new records to prepare\n"
     ]
    },
    {
     "name": "stderr",
     "output_type": "stream",
     "text": [
      "\n",
      "preparing: 100%|##########################################################################| 1/1 [00:00<00:00, 46.17it/s]\n"
     ]
    },
    {
     "name": "stdout",
     "output_type": "stream",
     "text": [
      "a44d7d29-2764-41da-8324-ee518e954a71\n",
      "sim calculated successfully\n",
      "\n",
      "1308.594 0.5015 1316.140\n",
      "179 2019--Fischer-F--Cu-Ni--LAMMPS--ipr1\n",
      "0 existing calculation records provided\n"
     ]
    },
    {
     "name": "stderr",
     "output_type": "stream",
     "text": [
      "100%|█████████████████████████████████████████████████████████████████████████████████████| 1/1 [00:00<00:00,  3.44it/s]"
     ]
    },
    {
     "name": "stdout",
     "output_type": "stream",
     "text": [
      "1 calculation combinations to check\n",
      "1 new records to prepare\n"
     ]
    },
    {
     "name": "stderr",
     "output_type": "stream",
     "text": [
      "\n",
      "preparing: 100%|##########################################################################| 1/1 [00:00<00:00, 53.83it/s]\n"
     ]
    },
    {
     "name": "stdout",
     "output_type": "stream",
     "text": [
      "69e9db04-f35d-40d5-8720-11646f0d2b2a\n",
      "sim calculated successfully\n",
      "\n",
      "4525.000 0.0 4544.056\n",
      "0 existing calculation records provided\n"
     ]
    },
    {
     "name": "stderr",
     "output_type": "stream",
     "text": [
      "100%|█████████████████████████████████████████████████████████████████████████████████████| 1/1 [00:00<00:00,  3.61it/s]"
     ]
    },
    {
     "name": "stdout",
     "output_type": "stream",
     "text": [
      "1 calculation combinations to check\n",
      "1 new records to prepare\n"
     ]
    },
    {
     "name": "stderr",
     "output_type": "stream",
     "text": [
      "\n",
      "preparing: 100%|##########################################################################| 1/1 [00:00<00:00, 44.46it/s]\n"
     ]
    },
    {
     "name": "stdout",
     "output_type": "stream",
     "text": [
      "c97f9b08-b385-4d06-a173-b095b7c77133\n",
      "sim calculated successfully\n",
      "\n",
      "2287.500 0.0008276 2263.011\n",
      "0 existing calculation records provided\n"
     ]
    },
    {
     "name": "stderr",
     "output_type": "stream",
     "text": [
      "100%|█████████████████████████████████████████████████████████████████████████████████████| 1/1 [00:00<00:00,  3.96it/s]"
     ]
    },
    {
     "name": "stdout",
     "output_type": "stream",
     "text": [
      "1 calculation combinations to check\n",
      "1 new records to prepare\n"
     ]
    },
    {
     "name": "stderr",
     "output_type": "stream",
     "text": [
      "\n",
      "preparing: 100%|##########################################################################| 1/1 [00:00<00:00, 30.45it/s]\n"
     ]
    },
    {
     "name": "stdout",
     "output_type": "stream",
     "text": [
      "498f948e-76e5-4a42-8a02-9d1bd61a3f5b\n",
      "sim calculated successfully\n",
      "\n",
      "1168.750 0.9982 1165.497\n",
      "0 existing calculation records provided\n"
     ]
    },
    {
     "name": "stderr",
     "output_type": "stream",
     "text": [
      "100%|█████████████████████████████████████████████████████████████████████████████████████| 1/1 [00:00<00:00,  3.99it/s]"
     ]
    },
    {
     "name": "stdout",
     "output_type": "stream",
     "text": [
      "1 calculation combinations to check\n",
      "1 new records to prepare\n"
     ]
    },
    {
     "name": "stderr",
     "output_type": "stream",
     "text": [
      "\n",
      "preparing: 100%|##########################################################################| 1/1 [00:00<00:00, 30.01it/s]\n"
     ]
    },
    {
     "name": "stdout",
     "output_type": "stream",
     "text": [
      "5b85b411-7133-4c4e-87dc-152df3654d3c\n",
      "sim calculated successfully\n",
      "\n",
      "1728.125 0.3653 1680.997\n",
      "0 existing calculation records provided\n"
     ]
    },
    {
     "name": "stderr",
     "output_type": "stream",
     "text": [
      "100%|█████████████████████████████████████████████████████████████████████████████████████| 1/1 [00:00<00:00,  3.91it/s]"
     ]
    },
    {
     "name": "stdout",
     "output_type": "stream",
     "text": [
      "1 calculation combinations to check\n",
      "1 new records to prepare\n"
     ]
    },
    {
     "name": "stderr",
     "output_type": "stream",
     "text": [
      "\n",
      "preparing: 100%|##########################################################################| 1/1 [00:00<00:00, 32.65it/s]\n"
     ]
    },
    {
     "name": "stdout",
     "output_type": "stream",
     "text": [
      "600bd550-c969-485c-8f38-1fd7a389b6fe\n",
      "sim calculated successfully\n",
      "\n",
      "1448.438 0.7425 1590.210\n",
      "0 existing calculation records provided\n"
     ]
    },
    {
     "name": "stderr",
     "output_type": "stream",
     "text": [
      "100%|█████████████████████████████████████████████████████████████████████████████████████| 1/1 [00:00<00:00,  3.84it/s]"
     ]
    },
    {
     "name": "stdout",
     "output_type": "stream",
     "text": [
      "1 calculation combinations to check\n",
      "1 new records to prepare\n"
     ]
    },
    {
     "name": "stderr",
     "output_type": "stream",
     "text": [
      "\n",
      "preparing: 100%|##########################################################################| 1/1 [00:00<00:00, 27.29it/s]\n"
     ]
    },
    {
     "name": "stdout",
     "output_type": "stream",
     "text": [
      "24619ebb-2e20-418b-b891-7d9b3c8184a4\n",
      "sim calculated successfully\n",
      "\n",
      "1867.969 0.003207 1671.165\n",
      "0 existing calculation records provided\n"
     ]
    },
    {
     "name": "stderr",
     "output_type": "stream",
     "text": [
      "100%|█████████████████████████████████████████████████████████████████████████████████████| 1/1 [00:00<00:00,  3.81it/s]"
     ]
    },
    {
     "name": "stdout",
     "output_type": "stream",
     "text": [
      "1 calculation combinations to check\n",
      "1 new records to prepare\n"
     ]
    },
    {
     "name": "stderr",
     "output_type": "stream",
     "text": [
      "\n",
      "preparing: 100%|##########################################################################| 1/1 [00:00<00:00, 29.28it/s]\n"
     ]
    },
    {
     "name": "stdout",
     "output_type": "stream",
     "text": [
      "5ea037df-43cd-4fe2-88ca-bb3f8440f585\n",
      "sim calculated successfully\n",
      "\n",
      "1518.359 0.6876 1678.298\n",
      "0 existing calculation records provided\n"
     ]
    },
    {
     "name": "stderr",
     "output_type": "stream",
     "text": [
      "100%|█████████████████████████████████████████████████████████████████████████████████████| 1/1 [00:00<00:00,  3.88it/s]"
     ]
    },
    {
     "name": "stdout",
     "output_type": "stream",
     "text": [
      "1 calculation combinations to check\n",
      "1 new records to prepare\n"
     ]
    },
    {
     "name": "stderr",
     "output_type": "stream",
     "text": [
      "\n",
      "preparing: 100%|##########################################################################| 1/1 [00:00<00:00, 29.20it/s]\n"
     ]
    },
    {
     "name": "stdout",
     "output_type": "stream",
     "text": [
      "09685f90-080c-434c-863b-f0c73f87384b\n",
      "sim calculated successfully\n",
      "\n",
      "1693.164 0.4307 1641.864\n",
      "0 existing calculation records provided\n"
     ]
    },
    {
     "name": "stderr",
     "output_type": "stream",
     "text": [
      "100%|█████████████████████████████████████████████████████████████████████████████████████| 1/1 [00:00<00:00,  3.90it/s]"
     ]
    },
    {
     "name": "stdout",
     "output_type": "stream",
     "text": [
      "1 calculation combinations to check\n",
      "1 new records to prepare\n"
     ]
    },
    {
     "name": "stderr",
     "output_type": "stream",
     "text": [
      "\n",
      "preparing: 100%|##########################################################################| 1/1 [00:00<00:00, 29.77it/s]\n"
     ]
    },
    {
     "name": "stdout",
     "output_type": "stream",
     "text": [
      "a391885e-0350-462c-8b4d-462c6784b4df\n",
      "sim calculated successfully\n",
      "\n",
      "1693.164 0.4226 1678.647\n",
      "0 existing calculation records provided\n"
     ]
    },
    {
     "name": "stderr",
     "output_type": "stream",
     "text": [
      "100%|█████████████████████████████████████████████████████████████████████████████████████| 1/1 [00:00<00:00,  3.95it/s]"
     ]
    },
    {
     "name": "stdout",
     "output_type": "stream",
     "text": [
      "1 calculation combinations to check\n",
      "1 new records to prepare\n"
     ]
    },
    {
     "name": "stderr",
     "output_type": "stream",
     "text": [
      "\n",
      "preparing: 100%|##########################################################################| 1/1 [00:00<00:00, 43.77it/s]\n"
     ]
    },
    {
     "name": "stdout",
     "output_type": "stream",
     "text": [
      "8ac0dbd3-18e9-44ec-b069-736ac8e0a2c9\n",
      "sim calculated successfully\n",
      "\n",
      "1693.164 0.4004 1677.824\n",
      "0 existing calculation records provided\n"
     ]
    },
    {
     "name": "stderr",
     "output_type": "stream",
     "text": [
      "100%|█████████████████████████████████████████████████████████████████████████████████████| 1/1 [00:00<00:00,  3.91it/s]"
     ]
    },
    {
     "name": "stdout",
     "output_type": "stream",
     "text": [
      "1 calculation combinations to check\n",
      "1 new records to prepare\n"
     ]
    },
    {
     "name": "stderr",
     "output_type": "stream",
     "text": [
      "\n",
      "preparing: 100%|##########################################################################| 1/1 [00:00<00:00, 44.01it/s]\n"
     ]
    },
    {
     "name": "stdout",
     "output_type": "stream",
     "text": [
      "6367a902-aae4-436d-ad12-c5be9c2a1ba6\n",
      "sim calculated successfully\n",
      "\n",
      "1693.164 0.4539 1691.902\n",
      "0 existing calculation records provided\n"
     ]
    },
    {
     "name": "stderr",
     "output_type": "stream",
     "text": [
      "100%|█████████████████████████████████████████████████████████████████████████████████████| 1/1 [00:00<00:00,  3.53it/s]"
     ]
    },
    {
     "name": "stdout",
     "output_type": "stream",
     "text": [
      "1 calculation combinations to check\n",
      "1 new records to prepare\n"
     ]
    },
    {
     "name": "stderr",
     "output_type": "stream",
     "text": [
      "\n",
      "preparing: 100%|##########################################################################| 1/1 [00:00<00:00, 46.14it/s]\n"
     ]
    },
    {
     "name": "stdout",
     "output_type": "stream",
     "text": [
      "9f234588-e672-4f0a-9c19-9abe414c8ea9\n",
      "sim calculated successfully\n",
      "\n",
      "1693.164 0.4052 1669.501\n",
      "0 existing calculation records provided\n"
     ]
    },
    {
     "name": "stderr",
     "output_type": "stream",
     "text": [
      "100%|█████████████████████████████████████████████████████████████████████████████████████| 1/1 [00:00<00:00,  3.25it/s]"
     ]
    },
    {
     "name": "stdout",
     "output_type": "stream",
     "text": [
      "1 calculation combinations to check\n",
      "1 new records to prepare\n"
     ]
    },
    {
     "name": "stderr",
     "output_type": "stream",
     "text": [
      "\n",
      "preparing: 100%|##########################################################################| 1/1 [00:00<00:00, 45.45it/s]\n"
     ]
    },
    {
     "name": "stdout",
     "output_type": "stream",
     "text": [
      "88f27dea-7263-42a0-8471-1b54649ab0a4\n",
      "sim calculated successfully\n",
      "\n",
      "1693.164 0.4153 1667.278\n",
      "0 existing calculation records provided\n"
     ]
    },
    {
     "name": "stderr",
     "output_type": "stream",
     "text": [
      "100%|█████████████████████████████████████████████████████████████████████████████████████| 1/1 [00:00<00:00,  4.52it/s]"
     ]
    },
    {
     "name": "stdout",
     "output_type": "stream",
     "text": [
      "1 calculation combinations to check\n",
      "1 new records to prepare\n"
     ]
    },
    {
     "name": "stderr",
     "output_type": "stream",
     "text": [
      "\n",
      "preparing: 100%|##########################################################################| 1/1 [00:00<00:00, 46.38it/s]\n"
     ]
    },
    {
     "name": "stdout",
     "output_type": "stream",
     "text": [
      "1ddbb313-69e5-4fbc-a841-139f77f6b7fb\n",
      "sim calculated successfully\n",
      "\n",
      "1693.164 0.3514 1659.611\n",
      "178 2019--Fischer-F--Cu-Ni--LAMMPS--ipr1\n",
      "0 existing calculation records provided\n"
     ]
    },
    {
     "name": "stderr",
     "output_type": "stream",
     "text": [
      "100%|█████████████████████████████████████████████████████████████████████████████████████| 1/1 [00:00<00:00,  3.68it/s]"
     ]
    },
    {
     "name": "stdout",
     "output_type": "stream",
     "text": [
      "1 calculation combinations to check\n",
      "1 new records to prepare\n"
     ]
    },
    {
     "name": "stderr",
     "output_type": "stream",
     "text": [
      "\n",
      "preparing: 100%|##########################################################################| 1/1 [00:00<00:00, 49.65it/s]\n"
     ]
    },
    {
     "name": "stdout",
     "output_type": "stream",
     "text": [
      "8a3b8216-0939-430a-a68e-260b19875b2f\n",
      "sim calculated successfully\n",
      "\n",
      "4525.000 0.005565 4551.446\n",
      "0 existing calculation records provided\n"
     ]
    },
    {
     "name": "stderr",
     "output_type": "stream",
     "text": [
      "100%|█████████████████████████████████████████████████████████████████████████████████████| 1/1 [00:00<00:00,  3.29it/s]"
     ]
    },
    {
     "name": "stdout",
     "output_type": "stream",
     "text": [
      "1 calculation combinations to check\n",
      "1 new records to prepare\n"
     ]
    },
    {
     "name": "stderr",
     "output_type": "stream",
     "text": [
      "\n",
      "preparing: 100%|##########################################################################| 1/1 [00:00<00:00, 43.62it/s]\n"
     ]
    },
    {
     "name": "stdout",
     "output_type": "stream",
     "text": [
      "5881b14d-152a-41d0-a4fd-9ab76c61ffe9\n",
      "sim calculated successfully\n",
      "\n",
      "2287.500 0.000269 2281.214\n",
      "0 existing calculation records provided\n"
     ]
    },
    {
     "name": "stderr",
     "output_type": "stream",
     "text": [
      "100%|█████████████████████████████████████████████████████████████████████████████████████| 1/1 [00:00<00:00,  3.34it/s]"
     ]
    },
    {
     "name": "stdout",
     "output_type": "stream",
     "text": [
      "1 calculation combinations to check\n",
      "1 new records to prepare\n"
     ]
    },
    {
     "name": "stderr",
     "output_type": "stream",
     "text": [
      "\n",
      "preparing: 100%|##########################################################################| 1/1 [00:00<00:00, 45.51it/s]\n"
     ]
    },
    {
     "name": "stdout",
     "output_type": "stream",
     "text": [
      "5e6aaa2c-9fd7-4426-be1e-2058fc6350eb\n",
      "sim calculated successfully\n",
      "\n",
      "1168.750 0.8052 1256.673\n",
      "0 existing calculation records provided\n"
     ]
    },
    {
     "name": "stderr",
     "output_type": "stream",
     "text": [
      "100%|█████████████████████████████████████████████████████████████████████████████████████| 1/1 [00:00<00:00,  3.37it/s]"
     ]
    },
    {
     "name": "stdout",
     "output_type": "stream",
     "text": [
      "1 calculation combinations to check\n",
      "1 new records to prepare\n"
     ]
    },
    {
     "name": "stderr",
     "output_type": "stream",
     "text": [
      "\n",
      "preparing: 100%|##########################################################################| 1/1 [00:00<00:00, 41.91it/s]\n"
     ]
    },
    {
     "name": "stdout",
     "output_type": "stream",
     "text": [
      "bd3bcb85-9b25-4576-a65c-ab7da75fb0c9\n",
      "sim calculated successfully\n",
      "\n",
      "1728.125 0.001748 1652.738\n",
      "0 existing calculation records provided\n"
     ]
    },
    {
     "name": "stderr",
     "output_type": "stream",
     "text": [
      "100%|█████████████████████████████████████████████████████████████████████████████████████| 1/1 [00:00<00:00,  3.40it/s]"
     ]
    },
    {
     "name": "stdout",
     "output_type": "stream",
     "text": [
      "1 calculation combinations to check\n",
      "1 new records to prepare\n"
     ]
    },
    {
     "name": "stderr",
     "output_type": "stream",
     "text": [
      "\n",
      "preparing: 100%|##########################################################################| 1/1 [00:00<00:00, 43.08it/s]\n"
     ]
    },
    {
     "name": "stdout",
     "output_type": "stream",
     "text": [
      "0378e4cc-ac5b-4b48-9e57-3079b9694cd2\n",
      "sim calculated successfully\n",
      "\n",
      "1448.438 0.04818 1303.495\n",
      "0 existing calculation records provided\n"
     ]
    },
    {
     "name": "stderr",
     "output_type": "stream",
     "text": [
      "100%|█████████████████████████████████████████████████████████████████████████████████████| 1/1 [00:00<00:00,  3.59it/s]"
     ]
    },
    {
     "name": "stdout",
     "output_type": "stream",
     "text": [
      "1 calculation combinations to check\n",
      "1 new records to prepare\n"
     ]
    },
    {
     "name": "stderr",
     "output_type": "stream",
     "text": [
      "\n",
      "preparing: 100%|##########################################################################| 1/1 [00:00<00:00, 44.99it/s]\n"
     ]
    },
    {
     "name": "stdout",
     "output_type": "stream",
     "text": [
      "48ae5b42-3fa0-4d53-a6a2-cd546b2f817b\n",
      "sim calculated successfully\n",
      "\n",
      "1308.594 0.5122 1324.660\n",
      "0 existing calculation records provided\n"
     ]
    },
    {
     "name": "stderr",
     "output_type": "stream",
     "text": [
      "100%|█████████████████████████████████████████████████████████████████████████████████████| 1/1 [00:00<00:00,  4.16it/s]"
     ]
    },
    {
     "name": "stdout",
     "output_type": "stream",
     "text": [
      "1 calculation combinations to check\n",
      "1 new records to prepare\n"
     ]
    },
    {
     "name": "stderr",
     "output_type": "stream",
     "text": [
      "\n",
      "preparing: 100%|##########################################################################| 1/1 [00:00<00:00, 43.91it/s]\n"
     ]
    },
    {
     "name": "stdout",
     "output_type": "stream",
     "text": [
      "27a3ecab-e757-4484-8b02-3366391bb550\n",
      "sim calculated successfully\n",
      "\n",
      "1308.594 0.5107 1314.968\n",
      "0 existing calculation records provided\n"
     ]
    },
    {
     "name": "stderr",
     "output_type": "stream",
     "text": [
      "100%|█████████████████████████████████████████████████████████████████████████████████████| 1/1 [00:00<00:00,  3.77it/s]"
     ]
    },
    {
     "name": "stdout",
     "output_type": "stream",
     "text": [
      "1 calculation combinations to check\n",
      "1 new records to prepare\n"
     ]
    },
    {
     "name": "stderr",
     "output_type": "stream",
     "text": [
      "\n",
      "preparing: 100%|##########################################################################| 1/1 [00:00<00:00, 45.44it/s]\n"
     ]
    },
    {
     "name": "stdout",
     "output_type": "stream",
     "text": [
      "65b7c8c1-092f-429b-89d7-8cee25bbd008\n",
      "sim calculated successfully\n",
      "\n",
      "1308.594 0.5375 1325.179\n",
      "0 existing calculation records provided\n"
     ]
    },
    {
     "name": "stderr",
     "output_type": "stream",
     "text": [
      "100%|█████████████████████████████████████████████████████████████████████████████████████| 1/1 [00:00<00:00,  3.19it/s]"
     ]
    },
    {
     "name": "stdout",
     "output_type": "stream",
     "text": [
      "1 calculation combinations to check\n",
      "1 new records to prepare\n"
     ]
    },
    {
     "name": "stderr",
     "output_type": "stream",
     "text": [
      "\n",
      "preparing: 100%|##########################################################################| 1/1 [00:00<00:00, 41.77it/s]\n"
     ]
    },
    {
     "name": "stdout",
     "output_type": "stream",
     "text": [
      "3656b146-950d-4dac-9e27-e66d8a06a40c\n",
      "sim calculated successfully\n",
      "\n",
      "1308.594 0.4839 1311.933\n",
      "0 existing calculation records provided\n"
     ]
    },
    {
     "name": "stderr",
     "output_type": "stream",
     "text": [
      "100%|█████████████████████████████████████████████████████████████████████████████████████| 1/1 [00:00<00:00,  3.44it/s]"
     ]
    },
    {
     "name": "stdout",
     "output_type": "stream",
     "text": [
      "1 calculation combinations to check\n",
      "1 new records to prepare\n"
     ]
    },
    {
     "name": "stderr",
     "output_type": "stream",
     "text": [
      "\n",
      "preparing: 100%|##########################################################################| 1/1 [00:00<00:00, 45.90it/s]\n"
     ]
    },
    {
     "name": "stdout",
     "output_type": "stream",
     "text": [
      "344998e2-06f5-4004-8657-10e9700ac3fc\n",
      "sim calculated successfully\n",
      "\n",
      "1308.594 0.5333 1317.678\n",
      "0 existing calculation records provided\n"
     ]
    },
    {
     "name": "stderr",
     "output_type": "stream",
     "text": [
      "100%|█████████████████████████████████████████████████████████████████████████████████████| 1/1 [00:00<00:00,  3.35it/s]"
     ]
    },
    {
     "name": "stdout",
     "output_type": "stream",
     "text": [
      "1 calculation combinations to check\n",
      "1 new records to prepare\n"
     ]
    },
    {
     "name": "stderr",
     "output_type": "stream",
     "text": [
      "\n",
      "preparing: 100%|##########################################################################| 1/1 [00:00<00:00, 40.76it/s]\n"
     ]
    },
    {
     "name": "stdout",
     "output_type": "stream",
     "text": [
      "362e51e6-14e8-43ed-8ca9-ec622cae6e12\n",
      "sim calculated successfully\n",
      "\n",
      "1308.594 0.5154 1315.178\n",
      "0 existing calculation records provided\n"
     ]
    },
    {
     "name": "stderr",
     "output_type": "stream",
     "text": [
      "100%|█████████████████████████████████████████████████████████████████████████████████████| 1/1 [00:00<00:00,  3.30it/s]"
     ]
    },
    {
     "name": "stdout",
     "output_type": "stream",
     "text": [
      "1 calculation combinations to check\n",
      "1 new records to prepare\n"
     ]
    },
    {
     "name": "stderr",
     "output_type": "stream",
     "text": [
      "\n",
      "preparing: 100%|##########################################################################| 1/1 [00:00<00:00, 46.57it/s]\n"
     ]
    },
    {
     "name": "stdout",
     "output_type": "stream",
     "text": [
      "04dada91-dff5-4137-b0a6-f22f01dd8c9d\n",
      "sim calculated successfully\n",
      "\n",
      "1308.594 0.5334 1329.314\n",
      "0 existing calculation records provided\n"
     ]
    },
    {
     "name": "stderr",
     "output_type": "stream",
     "text": [
      "100%|█████████████████████████████████████████████████████████████████████████████████████| 1/1 [00:00<00:00,  4.01it/s]"
     ]
    },
    {
     "name": "stdout",
     "output_type": "stream",
     "text": [
      "1 calculation combinations to check\n",
      "1 new records to prepare\n"
     ]
    },
    {
     "name": "stderr",
     "output_type": "stream",
     "text": [
      "\n",
      "preparing: 100%|##########################################################################| 1/1 [00:00<00:00, 44.38it/s]\n"
     ]
    },
    {
     "name": "stdout",
     "output_type": "stream",
     "text": [
      "d3e7561e-8da3-4afb-9df7-9c04cf9b4b93\n",
      "sim calculated successfully\n",
      "\n",
      "1308.594 0.4932 1317.588\n",
      "0 existing calculation records provided\n"
     ]
    },
    {
     "name": "stderr",
     "output_type": "stream",
     "text": [
      "100%|█████████████████████████████████████████████████████████████████████████████████████| 1/1 [00:00<00:00,  3.35it/s]"
     ]
    },
    {
     "name": "stdout",
     "output_type": "stream",
     "text": [
      "1 calculation combinations to check\n",
      "1 new records to prepare\n"
     ]
    },
    {
     "name": "stderr",
     "output_type": "stream",
     "text": [
      "\n",
      "preparing: 100%|##########################################################################| 1/1 [00:00<00:00, 45.77it/s]\n"
     ]
    },
    {
     "name": "stdout",
     "output_type": "stream",
     "text": [
      "112776b4-e77e-41d3-8737-5638348da376\n",
      "sim calculated successfully\n",
      "\n",
      "1308.594 0.5058 1315.602\n",
      "0 existing calculation records provided\n"
     ]
    },
    {
     "name": "stderr",
     "output_type": "stream",
     "text": [
      "100%|█████████████████████████████████████████████████████████████████████████████████████| 1/1 [00:00<00:00,  3.97it/s]"
     ]
    },
    {
     "name": "stdout",
     "output_type": "stream",
     "text": [
      "1 calculation combinations to check\n",
      "1 new records to prepare\n"
     ]
    },
    {
     "name": "stderr",
     "output_type": "stream",
     "text": [
      "\n",
      "preparing: 100%|##########################################################################| 1/1 [00:00<00:00, 29.92it/s]\n"
     ]
    },
    {
     "name": "stdout",
     "output_type": "stream",
     "text": [
      "b7fffee3-e13a-454e-aab8-4a70936f2168\n",
      "sim calculated successfully\n",
      "\n",
      "1308.594 0.5226 1316.123\n",
      "177 2019--Chen-Y--W-Re--LAMMPS--ipr1\n",
      "0 existing calculation records provided\n"
     ]
    },
    {
     "name": "stderr",
     "output_type": "stream",
     "text": [
      "100%|█████████████████████████████████████████████████████████████████████████████████████| 1/1 [00:00<00:00,  3.10it/s]"
     ]
    },
    {
     "name": "stdout",
     "output_type": "stream",
     "text": [
      "1 calculation combinations to check\n",
      "1 new records to prepare\n"
     ]
    },
    {
     "name": "stderr",
     "output_type": "stream",
     "text": [
      "\n",
      "preparing: 100%|##########################################################################| 1/1 [00:00<00:00, 46.84it/s]\n"
     ]
    },
    {
     "name": "stdout",
     "output_type": "stream",
     "text": [
      "dbb4d0f6-d138-416b-b1ad-a67c5d4e78f8\n",
      "sim calculated successfully\n",
      "\n",
      "4525.000 0.001572 4085.336\n",
      "0 existing calculation records provided\n"
     ]
    },
    {
     "name": "stderr",
     "output_type": "stream",
     "text": [
      "100%|█████████████████████████████████████████████████████████████████████████████████████| 1/1 [00:00<00:00,  3.44it/s]"
     ]
    },
    {
     "name": "stdout",
     "output_type": "stream",
     "text": [
      "1 calculation combinations to check\n",
      "1 new records to prepare\n"
     ]
    },
    {
     "name": "stderr",
     "output_type": "stream",
     "text": [
      "\n",
      "preparing: 100%|##########################################################################| 1/1 [00:00<00:00, 40.31it/s]\n"
     ]
    },
    {
     "name": "stdout",
     "output_type": "stream",
     "text": [
      "fde72a91-d50e-421b-b8ee-5daaedebbaaa\n",
      "sim calculated successfully\n",
      "\n",
      "2287.500 0.9999 2286.185\n",
      "0 existing calculation records provided\n"
     ]
    },
    {
     "name": "stderr",
     "output_type": "stream",
     "text": [
      "100%|█████████████████████████████████████████████████████████████████████████████████████| 1/1 [00:00<00:00,  3.42it/s]"
     ]
    },
    {
     "name": "stdout",
     "output_type": "stream",
     "text": [
      "1 calculation combinations to check\n",
      "1 new records to prepare\n"
     ]
    },
    {
     "name": "stderr",
     "output_type": "stream",
     "text": [
      "\n",
      "preparing: 100%|##########################################################################| 1/1 [00:00<00:00, 41.70it/s]\n"
     ]
    },
    {
     "name": "stdout",
     "output_type": "stream",
     "text": [
      "a21e717f-4116-414c-84f9-0b0e4f0f0973\n",
      "sim calculated successfully\n",
      "\n",
      "3406.250 0.8428 3645.310\n",
      "0 existing calculation records provided\n"
     ]
    },
    {
     "name": "stderr",
     "output_type": "stream",
     "text": [
      "100%|█████████████████████████████████████████████████████████████████████████████████████| 1/1 [00:00<00:00,  3.47it/s]"
     ]
    },
    {
     "name": "stdout",
     "output_type": "stream",
     "text": [
      "1 calculation combinations to check\n",
      "1 new records to prepare\n"
     ]
    },
    {
     "name": "stderr",
     "output_type": "stream",
     "text": [
      "\n",
      "preparing: 100%|##########################################################################| 1/1 [00:00<00:00, 40.54it/s]\n"
     ]
    },
    {
     "name": "stdout",
     "output_type": "stream",
     "text": [
      "23359308-b8ee-4adc-861b-35f91b49f826\n",
      "sim calculated successfully\n",
      "\n",
      "3965.625 0.338 3724.239\n",
      "0 existing calculation records provided\n"
     ]
    },
    {
     "name": "stderr",
     "output_type": "stream",
     "text": [
      "100%|█████████████████████████████████████████████████████████████████████████████████████| 1/1 [00:00<00:00,  3.40it/s]"
     ]
    },
    {
     "name": "stdout",
     "output_type": "stream",
     "text": [
      "1 calculation combinations to check\n",
      "1 new records to prepare\n"
     ]
    },
    {
     "name": "stderr",
     "output_type": "stream",
     "text": [
      "\n",
      "preparing: 100%|##########################################################################| 1/1 [00:00<00:00, 41.35it/s]\n"
     ]
    },
    {
     "name": "stdout",
     "output_type": "stream",
     "text": [
      "9b50e109-221b-472e-8a47-e61927c14eb1\n",
      "sim calculated successfully\n",
      "\n",
      "3685.938 0.5811 3680.371\n",
      "0 existing calculation records provided\n"
     ]
    },
    {
     "name": "stderr",
     "output_type": "stream",
     "text": [
      "100%|█████████████████████████████████████████████████████████████████████████████████████| 1/1 [00:00<00:00,  3.42it/s]"
     ]
    },
    {
     "name": "stdout",
     "output_type": "stream",
     "text": [
      "1 calculation combinations to check\n",
      "1 new records to prepare\n"
     ]
    },
    {
     "name": "stderr",
     "output_type": "stream",
     "text": [
      "\n",
      "preparing: 100%|##########################################################################| 1/1 [00:00<00:00, 38.04it/s]\n"
     ]
    },
    {
     "name": "stdout",
     "output_type": "stream",
     "text": [
      "c313fd00-85b6-4370-a743-9965a83872dd\n",
      "sim calculated successfully\n",
      "\n",
      "3685.938 0.5881 3672.002\n",
      "0 existing calculation records provided\n"
     ]
    },
    {
     "name": "stderr",
     "output_type": "stream",
     "text": [
      "100%|█████████████████████████████████████████████████████████████████████████████████████| 1/1 [00:00<00:00,  3.87it/s]"
     ]
    },
    {
     "name": "stdout",
     "output_type": "stream",
     "text": [
      "1 calculation combinations to check\n",
      "1 new records to prepare\n"
     ]
    },
    {
     "name": "stderr",
     "output_type": "stream",
     "text": [
      "\n",
      "preparing: 100%|##########################################################################| 1/1 [00:00<00:00, 26.23it/s]\n"
     ]
    },
    {
     "name": "stdout",
     "output_type": "stream",
     "text": [
      "993a3d39-2826-41ba-9c94-779fb98b2841\n",
      "sim calculated successfully\n",
      "\n",
      "3685.938 0.6108 3692.616\n",
      "0 existing calculation records provided\n"
     ]
    },
    {
     "name": "stderr",
     "output_type": "stream",
     "text": [
      "100%|█████████████████████████████████████████████████████████████████████████████████████| 1/1 [00:00<00:00,  3.47it/s]"
     ]
    },
    {
     "name": "stdout",
     "output_type": "stream",
     "text": [
      "1 calculation combinations to check\n",
      "1 new records to prepare\n"
     ]
    },
    {
     "name": "stderr",
     "output_type": "stream",
     "text": [
      "\n",
      "preparing: 100%|##########################################################################| 1/1 [00:00<00:00, 40.36it/s]\n"
     ]
    },
    {
     "name": "stdout",
     "output_type": "stream",
     "text": [
      "ea65721e-ed46-4f26-912d-d91942ed1f60\n",
      "sim calculated successfully\n",
      "\n",
      "4105.469 0.1752 3718.065\n",
      "0 existing calculation records provided\n"
     ]
    },
    {
     "name": "stderr",
     "output_type": "stream",
     "text": [
      "100%|█████████████████████████████████████████████████████████████████████████████████████| 1/1 [00:00<00:00,  3.46it/s]"
     ]
    },
    {
     "name": "stdout",
     "output_type": "stream",
     "text": [
      "1 calculation combinations to check\n",
      "1 new records to prepare\n"
     ]
    },
    {
     "name": "stderr",
     "output_type": "stream",
     "text": [
      "\n",
      "preparing: 100%|##########################################################################| 1/1 [00:00<00:00, 39.82it/s]\n"
     ]
    },
    {
     "name": "stdout",
     "output_type": "stream",
     "text": [
      "254b0e0f-902a-49dd-bbfd-b2217462d060\n",
      "sim calculated successfully\n",
      "\n",
      "3755.859 0.5053 3685.878\n",
      "0 existing calculation records provided\n"
     ]
    },
    {
     "name": "stderr",
     "output_type": "stream",
     "text": [
      "100%|█████████████████████████████████████████████████████████████████████████████████████| 1/1 [00:00<00:00,  3.47it/s]"
     ]
    },
    {
     "name": "stdout",
     "output_type": "stream",
     "text": [
      "1 calculation combinations to check\n",
      "1 new records to prepare\n"
     ]
    },
    {
     "name": "stderr",
     "output_type": "stream",
     "text": [
      "\n",
      "preparing: 100%|##########################################################################| 1/1 [00:00<00:00, 40.92it/s]\n"
     ]
    },
    {
     "name": "stdout",
     "output_type": "stream",
     "text": [
      "cb5f4858-8758-49a4-aa87-9898ce636888\n",
      "sim calculated successfully\n",
      "\n",
      "3755.859 0.5023 3683.081\n",
      "0 existing calculation records provided\n"
     ]
    },
    {
     "name": "stderr",
     "output_type": "stream",
     "text": [
      "100%|█████████████████████████████████████████████████████████████████████████████████████| 1/1 [00:00<00:00,  3.38it/s]"
     ]
    },
    {
     "name": "stdout",
     "output_type": "stream",
     "text": [
      "1 calculation combinations to check\n",
      "1 new records to prepare\n"
     ]
    },
    {
     "name": "stderr",
     "output_type": "stream",
     "text": [
      "\n",
      "preparing: 100%|##########################################################################| 1/1 [00:00<00:00, 40.80it/s]\n"
     ]
    },
    {
     "name": "stdout",
     "output_type": "stream",
     "text": [
      "27fa4206-abe4-407e-a80a-a0f58f4519e4\n",
      "sim calculated successfully\n",
      "\n",
      "3755.859 0.5291 3704.544\n",
      "0 existing calculation records provided\n"
     ]
    },
    {
     "name": "stderr",
     "output_type": "stream",
     "text": [
      "100%|█████████████████████████████████████████████████████████████████████████████████████| 1/1 [00:00<00:00,  3.50it/s]"
     ]
    },
    {
     "name": "stdout",
     "output_type": "stream",
     "text": [
      "1 calculation combinations to check\n",
      "1 new records to prepare\n"
     ]
    },
    {
     "name": "stderr",
     "output_type": "stream",
     "text": [
      "\n",
      "preparing: 100%|##########################################################################| 1/1 [00:00<00:00, 39.83it/s]\n"
     ]
    },
    {
     "name": "stdout",
     "output_type": "stream",
     "text": [
      "3cc08f35-20c1-44ac-8630-b6d8581401f1\n",
      "sim calculated successfully\n",
      "\n",
      "3755.859 0.5105 3683.580\n",
      "0 existing calculation records provided\n"
     ]
    },
    {
     "name": "stderr",
     "output_type": "stream",
     "text": [
      "100%|█████████████████████████████████████████████████████████████████████████████████████| 1/1 [00:00<00:00,  3.39it/s]"
     ]
    },
    {
     "name": "stdout",
     "output_type": "stream",
     "text": [
      "1 calculation combinations to check\n",
      "1 new records to prepare\n"
     ]
    },
    {
     "name": "stderr",
     "output_type": "stream",
     "text": [
      "\n",
      "preparing: 100%|##########################################################################| 1/1 [00:00<00:00, 39.35it/s]\n"
     ]
    },
    {
     "name": "stdout",
     "output_type": "stream",
     "text": [
      "38fcce92-e42c-47ad-b782-b68a6b069455\n",
      "sim calculated successfully\n",
      "\n",
      "3755.859 0.5208 3687.010\n",
      "0 existing calculation records provided\n"
     ]
    },
    {
     "name": "stderr",
     "output_type": "stream",
     "text": [
      "100%|█████████████████████████████████████████████████████████████████████████████████████| 1/1 [00:00<00:00,  4.07it/s]"
     ]
    },
    {
     "name": "stdout",
     "output_type": "stream",
     "text": [
      "1 calculation combinations to check\n",
      "1 new records to prepare\n"
     ]
    },
    {
     "name": "stderr",
     "output_type": "stream",
     "text": [
      "\n",
      "preparing: 100%|##########################################################################| 1/1 [00:00<00:00, 41.39it/s]\n"
     ]
    },
    {
     "name": "stdout",
     "output_type": "stream",
     "text": [
      "e9515fd9-b28a-40bc-836c-254520d2f8af\n",
      "sim calculated successfully\n",
      "\n",
      "3755.859 0.5093 3680.578\n",
      "176 2018--Zhou-X-W--Fe-Ni-Cr--LAMMPS--ipr2\n",
      "0 existing calculation records provided\n"
     ]
    },
    {
     "name": "stderr",
     "output_type": "stream",
     "text": [
      "100%|█████████████████████████████████████████████████████████████████████████████████████| 1/1 [00:00<00:00,  3.28it/s]"
     ]
    },
    {
     "name": "stdout",
     "output_type": "stream",
     "text": [
      "1 calculation combinations to check\n",
      "1 new records to prepare\n"
     ]
    },
    {
     "name": "stderr",
     "output_type": "stream",
     "text": [
      "\n",
      "preparing: 100%|##########################################################################| 1/1 [00:00<00:00, 71.10it/s]\n"
     ]
    },
    {
     "name": "stdout",
     "output_type": "stream",
     "text": [
      "8a7a6d68-8bd5-4bef-bfda-3e8f8a200082\n",
      "sim calculated successfully\n",
      "\n",
      "4525.000 0.0001241 4515.793\n",
      "0 existing calculation records provided\n"
     ]
    },
    {
     "name": "stderr",
     "output_type": "stream",
     "text": [
      "100%|█████████████████████████████████████████████████████████████████████████████████████| 1/1 [00:00<00:00,  3.39it/s]"
     ]
    },
    {
     "name": "stdout",
     "output_type": "stream",
     "text": [
      "1 calculation combinations to check\n",
      "1 new records to prepare\n"
     ]
    },
    {
     "name": "stderr",
     "output_type": "stream",
     "text": [
      "\n",
      "preparing: 100%|##########################################################################| 1/1 [00:00<00:00, 61.65it/s]\n"
     ]
    },
    {
     "name": "stdout",
     "output_type": "stream",
     "text": [
      "76b2abe9-1451-498f-bfdd-88cf7d04c59d\n",
      "sim calculated successfully\n",
      "\n",
      "2287.500 0.4027 2238.583\n",
      "0 existing calculation records provided\n"
     ]
    },
    {
     "name": "stderr",
     "output_type": "stream",
     "text": [
      "100%|█████████████████████████████████████████████████████████████████████████████████████| 1/1 [00:00<00:00,  3.83it/s]"
     ]
    },
    {
     "name": "stdout",
     "output_type": "stream",
     "text": [
      "1 calculation combinations to check\n",
      "1 new records to prepare\n"
     ]
    },
    {
     "name": "stderr",
     "output_type": "stream",
     "text": [
      "\n",
      "preparing: 100%|##########################################################################| 1/1 [00:00<00:00, 69.35it/s]\n"
     ]
    },
    {
     "name": "stdout",
     "output_type": "stream",
     "text": [
      "fcd14ec5-5fbc-442e-aee3-9895617e0f33\n",
      "sim calculated successfully\n",
      "\n",
      "2287.500 0.3548 2240.294\n",
      "0 existing calculation records provided\n"
     ]
    },
    {
     "name": "stderr",
     "output_type": "stream",
     "text": [
      "100%|█████████████████████████████████████████████████████████████████████████████████████| 1/1 [00:00<00:00,  3.96it/s]"
     ]
    },
    {
     "name": "stdout",
     "output_type": "stream",
     "text": [
      "1 calculation combinations to check\n",
      "1 new records to prepare\n"
     ]
    },
    {
     "name": "stderr",
     "output_type": "stream",
     "text": [
      "\n",
      "preparing: 100%|##########################################################################| 1/1 [00:00<00:00, 63.97it/s]\n"
     ]
    },
    {
     "name": "stdout",
     "output_type": "stream",
     "text": [
      "f313a536-7e54-4b3d-ad00-698232eb8bdf\n",
      "sim calculated successfully\n",
      "\n",
      "1168.750 0.9996 1168.034\n",
      "0 existing calculation records provided\n"
     ]
    },
    {
     "name": "stderr",
     "output_type": "stream",
     "text": [
      "100%|█████████████████████████████████████████████████████████████████████████████████████| 1/1 [00:00<00:00,  3.39it/s]"
     ]
    },
    {
     "name": "stdout",
     "output_type": "stream",
     "text": [
      "1 calculation combinations to check\n",
      "1 new records to prepare\n"
     ]
    },
    {
     "name": "stderr",
     "output_type": "stream",
     "text": [
      "\n",
      "preparing: 100%|##########################################################################| 1/1 [00:00<00:00, 63.20it/s]\n"
     ]
    },
    {
     "name": "stdout",
     "output_type": "stream",
     "text": [
      "cd4dc967-f0ec-40ae-97f1-c16794a49485\n",
      "sim calculated successfully\n",
      "\n",
      "2846.875 0.001862 2725.426\n",
      "0 existing calculation records provided\n"
     ]
    },
    {
     "name": "stderr",
     "output_type": "stream",
     "text": [
      "100%|█████████████████████████████████████████████████████████████████████████████████████| 1/1 [00:00<00:00,  3.39it/s]"
     ]
    },
    {
     "name": "stdout",
     "output_type": "stream",
     "text": [
      "1 calculation combinations to check\n",
      "1 new records to prepare\n"
     ]
    },
    {
     "name": "stderr",
     "output_type": "stream",
     "text": [
      "\n",
      "preparing: 100%|##########################################################################| 1/1 [00:00<00:00, 63.29it/s]\n"
     ]
    },
    {
     "name": "stdout",
     "output_type": "stream",
     "text": [
      "9daec567-3792-408f-8af8-bb032b6aad7c\n",
      "sim calculated successfully\n",
      "\n",
      "2007.812 0.7474 2203.368\n",
      "0 existing calculation records provided\n"
     ]
    },
    {
     "name": "stderr",
     "output_type": "stream",
     "text": [
      "100%|█████████████████████████████████████████████████████████████████████████████████████| 1/1 [00:00<00:00,  3.50it/s]"
     ]
    },
    {
     "name": "stdout",
     "output_type": "stream",
     "text": [
      "1 calculation combinations to check\n",
      "1 new records to prepare\n"
     ]
    },
    {
     "name": "stderr",
     "output_type": "stream",
     "text": [
      "\n",
      "preparing: 100%|##########################################################################| 1/1 [00:00<00:00, 65.70it/s]\n"
     ]
    },
    {
     "name": "stdout",
     "output_type": "stream",
     "text": [
      "5c8c5bdb-eb2c-4b2f-95ab-7e23702cc6c2\n",
      "sim calculated successfully\n",
      "\n",
      "2427.344 0.09502 2224.113\n",
      "0 existing calculation records provided\n"
     ]
    },
    {
     "name": "stderr",
     "output_type": "stream",
     "text": [
      "100%|█████████████████████████████████████████████████████████████████████████████████████| 1/1 [00:00<00:00,  3.43it/s]"
     ]
    },
    {
     "name": "stdout",
     "output_type": "stream",
     "text": [
      "1 calculation combinations to check\n",
      "1 new records to prepare\n"
     ]
    },
    {
     "name": "stderr",
     "output_type": "stream",
     "text": [
      "\n",
      "preparing: 100%|##########################################################################| 1/1 [00:00<00:00, 63.02it/s]\n"
     ]
    },
    {
     "name": "stdout",
     "output_type": "stream",
     "text": [
      "50e0cd06-e646-4c69-8e7b-a206f42b9a90\n",
      "sim calculated successfully\n",
      "\n",
      "1798.047 0.986 1792.929\n",
      "0 existing calculation records provided\n"
     ]
    },
    {
     "name": "stderr",
     "output_type": "stream",
     "text": [
      "100%|█████████████████████████████████████████████████████████████████████████████████████| 1/1 [00:00<00:00,  3.36it/s]"
     ]
    },
    {
     "name": "stdout",
     "output_type": "stream",
     "text": [
      "1 calculation combinations to check\n",
      "1 new records to prepare\n"
     ]
    },
    {
     "name": "stderr",
     "output_type": "stream",
     "text": [
      "\n",
      "preparing: 100%|##########################################################################| 1/1 [00:00<00:00, 28.25it/s]\n"
     ]
    },
    {
     "name": "stdout",
     "output_type": "stream",
     "text": [
      "71aef84c-6b8d-46d9-90c1-f9c5ff43f959\n",
      "sim calculated successfully\n",
      "\n",
      "2112.695 0.6447 2318.456\n",
      "0 existing calculation records provided\n"
     ]
    },
    {
     "name": "stderr",
     "output_type": "stream",
     "text": [
      "100%|█████████████████████████████████████████████████████████████████████████████████████| 1/1 [00:00<00:00,  3.37it/s]"
     ]
    },
    {
     "name": "stdout",
     "output_type": "stream",
     "text": [
      "1 calculation combinations to check\n",
      "1 new records to prepare\n"
     ]
    },
    {
     "name": "stderr",
     "output_type": "stream",
     "text": [
      "\n",
      "preparing: 100%|##########################################################################| 1/1 [00:00<00:00, 60.77it/s]\n"
     ]
    },
    {
     "name": "stdout",
     "output_type": "stream",
     "text": [
      "401750fb-5a4f-4a34-ac6c-7c6fdd83a648\n",
      "sim calculated successfully\n",
      "\n",
      "2270.020 0.4219 2258.358\n",
      "0 existing calculation records provided\n"
     ]
    },
    {
     "name": "stderr",
     "output_type": "stream",
     "text": [
      "100%|█████████████████████████████████████████████████████████████████████████████████████| 1/1 [00:00<00:00,  3.66it/s]"
     ]
    },
    {
     "name": "stdout",
     "output_type": "stream",
     "text": [
      "1 calculation combinations to check\n",
      "1 new records to prepare\n"
     ]
    },
    {
     "name": "stderr",
     "output_type": "stream",
     "text": [
      "\n",
      "preparing: 100%|##########################################################################| 1/1 [00:00<00:00, 61.66it/s]\n"
     ]
    },
    {
     "name": "stdout",
     "output_type": "stream",
     "text": [
      "5265e5f6-bd2a-4f64-88d3-4f9322081b6d\n",
      "sim calculated successfully\n",
      "\n",
      "2270.020 0.4174 2237.688\n",
      "0 existing calculation records provided\n"
     ]
    },
    {
     "name": "stderr",
     "output_type": "stream",
     "text": [
      "100%|█████████████████████████████████████████████████████████████████████████████████████| 1/1 [00:00<00:00,  3.29it/s]"
     ]
    },
    {
     "name": "stdout",
     "output_type": "stream",
     "text": [
      "1 calculation combinations to check\n",
      "1 new records to prepare\n"
     ]
    },
    {
     "name": "stderr",
     "output_type": "stream",
     "text": [
      "\n",
      "preparing: 100%|##########################################################################| 1/1 [00:00<00:00, 61.54it/s]\n"
     ]
    },
    {
     "name": "stdout",
     "output_type": "stream",
     "text": [
      "a746e3b8-ab36-4723-89b9-0c0665d22cd8\n",
      "sim calculated successfully\n",
      "\n",
      "2270.020 0.3496 2220.053\n",
      "0 existing calculation records provided\n"
     ]
    },
    {
     "name": "stderr",
     "output_type": "stream",
     "text": [
      "100%|█████████████████████████████████████████████████████████████████████████████████████| 1/1 [00:00<00:00,  3.37it/s]"
     ]
    },
    {
     "name": "stdout",
     "output_type": "stream",
     "text": [
      "1 calculation combinations to check\n",
      "1 new records to prepare\n"
     ]
    },
    {
     "name": "stderr",
     "output_type": "stream",
     "text": [
      "\n",
      "preparing: 100%|##########################################################################| 1/1 [00:00<00:00, 61.56it/s]\n"
     ]
    },
    {
     "name": "stdout",
     "output_type": "stream",
     "text": [
      "e6b15ff4-92d1-4d19-92fd-34ad897c197b\n",
      "sim calculated successfully\n",
      "\n",
      "2034.033 0.6653 2230.527\n",
      "0 existing calculation records provided\n"
     ]
    },
    {
     "name": "stderr",
     "output_type": "stream",
     "text": [
      "100%|█████████████████████████████████████████████████████████████████████████████████████| 1/1 [00:00<00:00,  3.46it/s]"
     ]
    },
    {
     "name": "stdout",
     "output_type": "stream",
     "text": [
      "1 calculation combinations to check\n",
      "1 new records to prepare\n"
     ]
    },
    {
     "name": "stderr",
     "output_type": "stream",
     "text": [
      "\n",
      "preparing: 100%|##########################################################################| 1/1 [00:00<00:00, 62.43it/s]\n"
     ]
    },
    {
     "name": "stdout",
     "output_type": "stream",
     "text": [
      "16b0d357-3535-4a2a-b6e4-52b6c218a921\n",
      "sim calculated successfully\n",
      "\n",
      "2230.688 0.4347 2248.210\n",
      "0 existing calculation records provided\n"
     ]
    },
    {
     "name": "stderr",
     "output_type": "stream",
     "text": [
      "100%|█████████████████████████████████████████████████████████████████████████████████████| 1/1 [00:00<00:00,  3.69it/s]"
     ]
    },
    {
     "name": "stdout",
     "output_type": "stream",
     "text": [
      "1 calculation combinations to check\n",
      "1 new records to prepare\n"
     ]
    },
    {
     "name": "stderr",
     "output_type": "stream",
     "text": [
      "\n",
      "preparing: 100%|##########################################################################| 1/1 [00:00<00:00, 36.27it/s]\n"
     ]
    },
    {
     "name": "stdout",
     "output_type": "stream",
     "text": [
      "f0ce9609-2143-4498-a59b-96badffba7f5\n",
      "sim calculated successfully\n",
      "\n",
      "2230.688 0.5128 2253.896\n",
      "175 2018--Zhou-X-W--Fe-Ni-Cr--LAMMPS--ipr1\n",
      "0 existing calculation records provided\n"
     ]
    },
    {
     "name": "stderr",
     "output_type": "stream",
     "text": [
      "100%|█████████████████████████████████████████████████████████████████████████████████████| 1/1 [00:00<00:00,  3.41it/s]"
     ]
    },
    {
     "name": "stdout",
     "output_type": "stream",
     "text": [
      "1 calculation combinations to check\n",
      "1 new records to prepare\n"
     ]
    },
    {
     "name": "stderr",
     "output_type": "stream",
     "text": [
      "\n",
      "preparing: 100%|##########################################################################| 1/1 [00:00<00:00, 71.77it/s]\n"
     ]
    },
    {
     "name": "stdout",
     "output_type": "stream",
     "text": [
      "326ab327-b22e-4e95-9dca-2ea42102790b\n",
      "sim calculated successfully\n",
      "\n",
      "4525.000 0.0001241 4515.793\n",
      "0 existing calculation records provided\n"
     ]
    },
    {
     "name": "stderr",
     "output_type": "stream",
     "text": [
      "100%|█████████████████████████████████████████████████████████████████████████████████████| 1/1 [00:00<00:00,  3.45it/s]"
     ]
    },
    {
     "name": "stdout",
     "output_type": "stream",
     "text": [
      "1 calculation combinations to check\n",
      "1 new records to prepare\n"
     ]
    },
    {
     "name": "stderr",
     "output_type": "stream",
     "text": [
      "\n",
      "preparing: 100%|##########################################################################| 1/1 [00:00<00:00, 67.57it/s]\n"
     ]
    },
    {
     "name": "stdout",
     "output_type": "stream",
     "text": [
      "551c405e-2fee-4aa4-888d-13ae4d876c21\n",
      "sim calculated successfully\n",
      "\n",
      "2287.500 0.4027 2238.583\n",
      "0 existing calculation records provided\n"
     ]
    },
    {
     "name": "stderr",
     "output_type": "stream",
     "text": [
      "100%|█████████████████████████████████████████████████████████████████████████████████████| 1/1 [00:00<00:00,  3.32it/s]"
     ]
    },
    {
     "name": "stdout",
     "output_type": "stream",
     "text": [
      "1 calculation combinations to check\n",
      "1 new records to prepare\n"
     ]
    },
    {
     "name": "stderr",
     "output_type": "stream",
     "text": [
      "\n",
      "preparing: 100%|##########################################################################| 1/1 [00:00<00:00, 62.19it/s]\n"
     ]
    },
    {
     "name": "stdout",
     "output_type": "stream",
     "text": [
      "99c55df6-b827-4919-a497-0096ada9a877\n",
      "sim calculated successfully\n",
      "\n",
      "2287.500 0.3548 2240.294\n",
      "0 existing calculation records provided\n"
     ]
    },
    {
     "name": "stderr",
     "output_type": "stream",
     "text": [
      "100%|█████████████████████████████████████████████████████████████████████████████████████| 1/1 [00:00<00:00,  3.45it/s]"
     ]
    },
    {
     "name": "stdout",
     "output_type": "stream",
     "text": [
      "1 calculation combinations to check\n",
      "1 new records to prepare\n"
     ]
    },
    {
     "name": "stderr",
     "output_type": "stream",
     "text": [
      "\n",
      "preparing: 100%|##########################################################################| 1/1 [00:00<00:00, 67.91it/s]\n"
     ]
    },
    {
     "name": "stdout",
     "output_type": "stream",
     "text": [
      "d71c432e-8091-43af-b67d-7882bc3f73bb\n",
      "sim calculated successfully\n",
      "\n",
      "1168.750 0.9996 1168.034\n",
      "0 existing calculation records provided\n"
     ]
    },
    {
     "name": "stderr",
     "output_type": "stream",
     "text": [
      "100%|█████████████████████████████████████████████████████████████████████████████████████| 1/1 [00:00<00:00,  3.39it/s]"
     ]
    },
    {
     "name": "stdout",
     "output_type": "stream",
     "text": [
      "1 calculation combinations to check\n",
      "1 new records to prepare\n"
     ]
    },
    {
     "name": "stderr",
     "output_type": "stream",
     "text": [
      "\n",
      "preparing: 100%|##########################################################################| 1/1 [00:00<00:00, 63.16it/s]\n"
     ]
    },
    {
     "name": "stdout",
     "output_type": "stream",
     "text": [
      "faa7fb8e-4312-415e-b144-dde44a9bc681\n",
      "sim calculated successfully\n",
      "\n",
      "2846.875 0.001862 2725.426\n",
      "0 existing calculation records provided\n"
     ]
    },
    {
     "name": "stderr",
     "output_type": "stream",
     "text": [
      "100%|█████████████████████████████████████████████████████████████████████████████████████| 1/1 [00:00<00:00,  3.40it/s]"
     ]
    },
    {
     "name": "stdout",
     "output_type": "stream",
     "text": [
      "1 calculation combinations to check\n",
      "1 new records to prepare\n"
     ]
    },
    {
     "name": "stderr",
     "output_type": "stream",
     "text": [
      "\n",
      "preparing: 100%|##########################################################################| 1/1 [00:00<00:00, 64.62it/s]\n"
     ]
    },
    {
     "name": "stdout",
     "output_type": "stream",
     "text": [
      "8faeb748-87bd-4aa3-89a7-9d0f2717bd51\n",
      "sim calculated successfully\n",
      "\n",
      "2007.812 0.7474 2203.368\n",
      "0 existing calculation records provided\n"
     ]
    },
    {
     "name": "stderr",
     "output_type": "stream",
     "text": [
      "100%|█████████████████████████████████████████████████████████████████████████████████████| 1/1 [00:00<00:00,  4.06it/s]"
     ]
    },
    {
     "name": "stdout",
     "output_type": "stream",
     "text": [
      "1 calculation combinations to check\n",
      "1 new records to prepare\n"
     ]
    },
    {
     "name": "stderr",
     "output_type": "stream",
     "text": [
      "\n",
      "preparing: 100%|##########################################################################| 1/1 [00:00<00:00, 41.56it/s]\n"
     ]
    },
    {
     "name": "stdout",
     "output_type": "stream",
     "text": [
      "03ef66fe-8a88-47df-842f-2bc5a548d98b\n",
      "sim calculated successfully\n",
      "\n",
      "2427.344 0.09502 2224.113\n",
      "0 existing calculation records provided\n"
     ]
    },
    {
     "name": "stderr",
     "output_type": "stream",
     "text": [
      "100%|█████████████████████████████████████████████████████████████████████████████████████| 1/1 [00:00<00:00,  3.53it/s]"
     ]
    },
    {
     "name": "stdout",
     "output_type": "stream",
     "text": [
      "1 calculation combinations to check\n",
      "1 new records to prepare\n"
     ]
    },
    {
     "name": "stderr",
     "output_type": "stream",
     "text": [
      "\n",
      "preparing: 100%|##########################################################################| 1/1 [00:00<00:00, 61.08it/s]\n"
     ]
    },
    {
     "name": "stdout",
     "output_type": "stream",
     "text": [
      "0bc12ea5-00b9-485c-b919-9cc5691700c3\n",
      "sim calculated successfully\n",
      "\n",
      "1798.047 0.986 1792.929\n",
      "0 existing calculation records provided\n"
     ]
    },
    {
     "name": "stderr",
     "output_type": "stream",
     "text": [
      "100%|█████████████████████████████████████████████████████████████████████████████████████| 1/1 [00:00<00:00,  3.49it/s]"
     ]
    },
    {
     "name": "stdout",
     "output_type": "stream",
     "text": [
      "1 calculation combinations to check\n",
      "1 new records to prepare\n"
     ]
    },
    {
     "name": "stderr",
     "output_type": "stream",
     "text": [
      "\n",
      "preparing: 100%|##########################################################################| 1/1 [00:00<00:00, 59.32it/s]\n"
     ]
    },
    {
     "name": "stdout",
     "output_type": "stream",
     "text": [
      "88299002-992e-42a8-914c-de0680d49381\n",
      "sim calculated successfully\n",
      "\n",
      "2112.695 0.6447 2318.456\n",
      "0 existing calculation records provided\n"
     ]
    },
    {
     "name": "stderr",
     "output_type": "stream",
     "text": [
      "100%|█████████████████████████████████████████████████████████████████████████████████████| 1/1 [00:00<00:00,  3.37it/s]"
     ]
    },
    {
     "name": "stdout",
     "output_type": "stream",
     "text": [
      "1 calculation combinations to check\n",
      "1 new records to prepare\n"
     ]
    },
    {
     "name": "stderr",
     "output_type": "stream",
     "text": [
      "\n",
      "preparing: 100%|##########################################################################| 1/1 [00:00<00:00, 65.26it/s]\n"
     ]
    },
    {
     "name": "stdout",
     "output_type": "stream",
     "text": [
      "f4a939d6-d788-4fb3-9e97-92929665b5b5\n",
      "sim calculated successfully\n",
      "\n",
      "2270.020 0.4219 2258.358\n",
      "0 existing calculation records provided\n"
     ]
    },
    {
     "name": "stderr",
     "output_type": "stream",
     "text": [
      "100%|█████████████████████████████████████████████████████████████████████████████████████| 1/1 [00:00<00:00,  3.43it/s]"
     ]
    },
    {
     "name": "stdout",
     "output_type": "stream",
     "text": [
      "1 calculation combinations to check\n",
      "1 new records to prepare\n"
     ]
    },
    {
     "name": "stderr",
     "output_type": "stream",
     "text": [
      "\n",
      "preparing: 100%|##########################################################################| 1/1 [00:00<00:00, 66.50it/s]\n"
     ]
    },
    {
     "name": "stdout",
     "output_type": "stream",
     "text": [
      "9d21d933-8eca-4ea5-9fc9-1ae61cabbb08\n",
      "sim calculated successfully\n",
      "\n",
      "2270.020 0.4174 2237.688\n",
      "0 existing calculation records provided\n"
     ]
    },
    {
     "name": "stderr",
     "output_type": "stream",
     "text": [
      "100%|█████████████████████████████████████████████████████████████████████████████████████| 1/1 [00:00<00:00,  4.00it/s]"
     ]
    },
    {
     "name": "stdout",
     "output_type": "stream",
     "text": [
      "1 calculation combinations to check\n",
      "1 new records to prepare\n"
     ]
    },
    {
     "name": "stderr",
     "output_type": "stream",
     "text": [
      "\n",
      "preparing: 100%|##########################################################################| 1/1 [00:00<00:00, 39.06it/s]\n"
     ]
    },
    {
     "name": "stdout",
     "output_type": "stream",
     "text": [
      "bc242368-cc5c-4874-a1de-0a49e542cd64\n",
      "sim calculated successfully\n",
      "\n",
      "2270.020 0.3496 2220.053\n",
      "0 existing calculation records provided\n"
     ]
    },
    {
     "name": "stderr",
     "output_type": "stream",
     "text": [
      "100%|█████████████████████████████████████████████████████████████████████████████████████| 1/1 [00:00<00:00,  3.28it/s]"
     ]
    },
    {
     "name": "stdout",
     "output_type": "stream",
     "text": [
      "1 calculation combinations to check\n",
      "1 new records to prepare\n"
     ]
    },
    {
     "name": "stderr",
     "output_type": "stream",
     "text": [
      "\n",
      "preparing: 100%|##########################################################################| 1/1 [00:00<00:00, 62.51it/s]\n"
     ]
    },
    {
     "name": "stdout",
     "output_type": "stream",
     "text": [
      "fc9234e8-8a57-4730-950a-24489c45e659\n",
      "sim calculated successfully\n",
      "\n",
      "2034.033 0.6653 2230.527\n",
      "0 existing calculation records provided\n"
     ]
    },
    {
     "name": "stderr",
     "output_type": "stream",
     "text": [
      "100%|█████████████████████████████████████████████████████████████████████████████████████| 1/1 [00:00<00:00,  3.42it/s]"
     ]
    },
    {
     "name": "stdout",
     "output_type": "stream",
     "text": [
      "1 calculation combinations to check\n",
      "1 new records to prepare\n"
     ]
    },
    {
     "name": "stderr",
     "output_type": "stream",
     "text": [
      "\n",
      "preparing: 100%|##########################################################################| 1/1 [00:00<00:00, 57.97it/s]\n"
     ]
    },
    {
     "name": "stdout",
     "output_type": "stream",
     "text": [
      "7bfbf205-6b9d-4adb-84c4-560e12cb6c99\n",
      "sim calculated successfully\n",
      "\n",
      "2230.688 0.4347 2248.210\n",
      "0 existing calculation records provided\n"
     ]
    },
    {
     "name": "stderr",
     "output_type": "stream",
     "text": [
      "100%|█████████████████████████████████████████████████████████████████████████████████████| 1/1 [00:00<00:00,  3.25it/s]"
     ]
    },
    {
     "name": "stdout",
     "output_type": "stream",
     "text": [
      "1 calculation combinations to check\n",
      "1 new records to prepare\n"
     ]
    },
    {
     "name": "stderr",
     "output_type": "stream",
     "text": [
      "\n",
      "preparing: 100%|##########################################################################| 1/1 [00:00<00:00, 65.06it/s]\n"
     ]
    },
    {
     "name": "stdout",
     "output_type": "stream",
     "text": [
      "775c8b10-8559-49bf-94c7-17145844264e\n",
      "sim calculated successfully\n",
      "\n",
      "2230.688 0.5128 2253.896\n",
      "174 2018--Setyawan-W--W-Re--LAMMPS--ipr1\n",
      "0 existing calculation records provided\n"
     ]
    },
    {
     "name": "stderr",
     "output_type": "stream",
     "text": [
      "100%|█████████████████████████████████████████████████████████████████████████████████████| 1/1 [00:00<00:00,  3.33it/s]"
     ]
    },
    {
     "name": "stdout",
     "output_type": "stream",
     "text": [
      "1 calculation combinations to check\n",
      "1 new records to prepare\n"
     ]
    },
    {
     "name": "stderr",
     "output_type": "stream",
     "text": [
      "\n",
      "preparing: 100%|##########################################################################| 1/1 [00:00<00:00, 50.69it/s]\n"
     ]
    },
    {
     "name": "stdout",
     "output_type": "stream",
     "text": [
      "18bdb121-ae86-4f46-932f-b95fc1fe8ed5\n",
      "sim calculated successfully\n",
      "\n",
      "4525.000 0.0003207 4479.457\n",
      "0 existing calculation records provided\n"
     ]
    },
    {
     "name": "stderr",
     "output_type": "stream",
     "text": [
      "100%|█████████████████████████████████████████████████████████████████████████████████████| 1/1 [00:00<00:00,  3.12it/s]"
     ]
    },
    {
     "name": "stdout",
     "output_type": "stream",
     "text": [
      "1 calculation combinations to check\n",
      "1 new records to prepare\n"
     ]
    },
    {
     "name": "stderr",
     "output_type": "stream",
     "text": [
      "\n",
      "preparing: 100%|##########################################################################| 1/1 [00:00<00:00, 45.08it/s]\n"
     ]
    },
    {
     "name": "stdout",
     "output_type": "stream",
     "text": [
      "0b2e6848-8ef9-457d-9c7c-cb14a5f7cc54\n",
      "sim calculated successfully\n",
      "\n",
      "2287.500 0.9995 2280.019\n",
      "0 existing calculation records provided\n"
     ]
    },
    {
     "name": "stderr",
     "output_type": "stream",
     "text": [
      "100%|█████████████████████████████████████████████████████████████████████████████████████| 1/1 [00:00<00:00,  3.37it/s]"
     ]
    },
    {
     "name": "stdout",
     "output_type": "stream",
     "text": [
      "1 calculation combinations to check\n",
      "1 new records to prepare\n"
     ]
    },
    {
     "name": "stderr",
     "output_type": "stream",
     "text": [
      "\n",
      "preparing: 100%|##########################################################################| 1/1 [00:00<00:00, 49.57it/s]\n"
     ]
    },
    {
     "name": "stdout",
     "output_type": "stream",
     "text": [
      "2e101336-ef4f-4f29-90b6-832194962362\n",
      "sim calculated successfully\n",
      "\n",
      "3406.250 0.232 3101.593\n",
      "0 existing calculation records provided\n"
     ]
    },
    {
     "name": "stderr",
     "output_type": "stream",
     "text": [
      "100%|█████████████████████████████████████████████████████████████████████████████████████| 1/1 [00:00<00:00,  3.27it/s]"
     ]
    },
    {
     "name": "stdout",
     "output_type": "stream",
     "text": [
      "1 calculation combinations to check\n",
      "1 new records to prepare\n"
     ]
    },
    {
     "name": "stderr",
     "output_type": "stream",
     "text": [
      "\n",
      "preparing: 100%|##########################################################################| 1/1 [00:00<00:00, 47.98it/s]\n"
     ]
    },
    {
     "name": "stdout",
     "output_type": "stream",
     "text": [
      "99659aa8-8a96-47c3-994a-a945af4484c7\n",
      "sim calculated successfully\n",
      "\n",
      "2846.875 0.7975 3022.820\n",
      "0 existing calculation records provided\n"
     ]
    },
    {
     "name": "stderr",
     "output_type": "stream",
     "text": [
      "100%|█████████████████████████████████████████████████████████████████████████████████████| 1/1 [00:00<00:00,  3.36it/s]"
     ]
    },
    {
     "name": "stdout",
     "output_type": "stream",
     "text": [
      "1 calculation combinations to check\n",
      "1 new records to prepare\n"
     ]
    },
    {
     "name": "stderr",
     "output_type": "stream",
     "text": [
      "\n",
      "preparing: 100%|##########################################################################| 1/1 [00:00<00:00, 38.75it/s]\n"
     ]
    },
    {
     "name": "stdout",
     "output_type": "stream",
     "text": [
      "8fbdf472-7234-4ed2-b060-04324fb7b90a\n",
      "sim calculated successfully\n",
      "\n",
      "3126.562 0.5811 3108.626\n",
      "0 existing calculation records provided\n"
     ]
    },
    {
     "name": "stderr",
     "output_type": "stream",
     "text": [
      "100%|█████████████████████████████████████████████████████████████████████████████████████| 1/1 [00:00<00:00,  3.55it/s]"
     ]
    },
    {
     "name": "stdout",
     "output_type": "stream",
     "text": [
      "1 calculation combinations to check\n",
      "1 new records to prepare\n"
     ]
    },
    {
     "name": "stderr",
     "output_type": "stream",
     "text": [
      "\n",
      "preparing: 100%|##########################################################################| 1/1 [00:00<00:00, 47.39it/s]\n"
     ]
    },
    {
     "name": "stdout",
     "output_type": "stream",
     "text": [
      "b469d74d-5778-4594-9b42-bf62d2ecdbc2\n",
      "sim calculated successfully\n",
      "\n",
      "3126.562 0.5863 3102.614\n",
      "0 existing calculation records provided\n"
     ]
    },
    {
     "name": "stderr",
     "output_type": "stream",
     "text": [
      "100%|█████████████████████████████████████████████████████████████████████████████████████| 1/1 [00:00<00:00,  3.39it/s]"
     ]
    },
    {
     "name": "stdout",
     "output_type": "stream",
     "text": [
      "1 calculation combinations to check\n",
      "1 new records to prepare\n"
     ]
    },
    {
     "name": "stderr",
     "output_type": "stream",
     "text": [
      "\n",
      "preparing: 100%|##########################################################################| 1/1 [00:00<00:00, 47.06it/s]\n"
     ]
    },
    {
     "name": "stdout",
     "output_type": "stream",
     "text": [
      "af85a607-d820-483f-a25a-0a456bb9387c\n",
      "sim calculated successfully\n",
      "\n",
      "3126.562 0.5549 3077.799\n",
      "0 existing calculation records provided\n"
     ]
    },
    {
     "name": "stderr",
     "output_type": "stream",
     "text": [
      "100%|█████████████████████████████████████████████████████████████████████████████████████| 1/1 [00:00<00:00,  3.72it/s]"
     ]
    },
    {
     "name": "stdout",
     "output_type": "stream",
     "text": [
      "1 calculation combinations to check\n",
      "1 new records to prepare\n"
     ]
    },
    {
     "name": "stderr",
     "output_type": "stream",
     "text": [
      "\n",
      "preparing: 100%|##########################################################################| 1/1 [00:00<00:00, 45.51it/s]\n"
     ]
    },
    {
     "name": "stdout",
     "output_type": "stream",
     "text": [
      "df251e8c-6ed5-4eb1-909e-1f68000de743\n",
      "sim calculated successfully\n",
      "\n",
      "3126.562 0.5527 3098.164\n",
      "0 existing calculation records provided\n"
     ]
    },
    {
     "name": "stderr",
     "output_type": "stream",
     "text": [
      "100%|█████████████████████████████████████████████████████████████████████████████████████| 1/1 [00:00<00:00,  3.24it/s]"
     ]
    },
    {
     "name": "stdout",
     "output_type": "stream",
     "text": [
      "1 calculation combinations to check\n",
      "1 new records to prepare\n"
     ]
    },
    {
     "name": "stderr",
     "output_type": "stream",
     "text": [
      "\n",
      "preparing: 100%|##########################################################################| 1/1 [00:00<00:00, 49.78it/s]\n"
     ]
    },
    {
     "name": "stdout",
     "output_type": "stream",
     "text": [
      "5641b281-e245-462a-a8c7-62aedb262903\n",
      "sim calculated successfully\n",
      "\n",
      "3126.562 0.5754 3098.042\n",
      "0 existing calculation records provided\n"
     ]
    },
    {
     "name": "stderr",
     "output_type": "stream",
     "text": [
      "100%|█████████████████████████████████████████████████████████████████████████████████████| 1/1 [00:00<00:00,  3.13it/s]"
     ]
    },
    {
     "name": "stdout",
     "output_type": "stream",
     "text": [
      "1 calculation combinations to check\n",
      "1 new records to prepare\n"
     ]
    },
    {
     "name": "stderr",
     "output_type": "stream",
     "text": [
      "\n",
      "preparing: 100%|##########################################################################| 1/1 [00:00<00:00, 46.19it/s]\n"
     ]
    },
    {
     "name": "stdout",
     "output_type": "stream",
     "text": [
      "171a20fd-aaf8-4a70-a2ab-b624fd0a7564\n",
      "sim calculated successfully\n",
      "\n",
      "3126.562 0.5681 3089.458\n",
      "0 existing calculation records provided\n"
     ]
    },
    {
     "name": "stderr",
     "output_type": "stream",
     "text": [
      "100%|█████████████████████████████████████████████████████████████████████████████████████| 1/1 [00:00<00:00,  3.57it/s]"
     ]
    },
    {
     "name": "stdout",
     "output_type": "stream",
     "text": [
      "1 calculation combinations to check\n",
      "1 new records to prepare\n"
     ]
    },
    {
     "name": "stderr",
     "output_type": "stream",
     "text": [
      "\n",
      "preparing: 100%|##########################################################################| 1/1 [00:00<00:00, 49.08it/s]\n"
     ]
    },
    {
     "name": "stdout",
     "output_type": "stream",
     "text": [
      "17270435-6028-4ed9-95be-f4570e9bdd04\n",
      "sim calculated successfully\n",
      "\n",
      "3126.562 0.5561 3081.521\n",
      "0 existing calculation records provided\n"
     ]
    },
    {
     "name": "stderr",
     "output_type": "stream",
     "text": [
      "100%|█████████████████████████████████████████████████████████████████████████████████████| 1/1 [00:00<00:00,  3.80it/s]"
     ]
    },
    {
     "name": "stdout",
     "output_type": "stream",
     "text": [
      "1 calculation combinations to check\n",
      "1 new records to prepare\n"
     ]
    },
    {
     "name": "stderr",
     "output_type": "stream",
     "text": [
      "\n",
      "preparing: 100%|##########################################################################| 1/1 [00:00<00:00, 48.58it/s]\n"
     ]
    },
    {
     "name": "stdout",
     "output_type": "stream",
     "text": [
      "78f4b770-ec68-41d8-96fe-894a8c98ae61\n",
      "sim calculated successfully\n",
      "\n",
      "3126.562 0.5563 3080.401\n",
      "0 existing calculation records provided\n"
     ]
    },
    {
     "name": "stderr",
     "output_type": "stream",
     "text": [
      "100%|█████████████████████████████████████████████████████████████████████████████████████| 1/1 [00:00<00:00,  3.55it/s]"
     ]
    },
    {
     "name": "stdout",
     "output_type": "stream",
     "text": [
      "1 calculation combinations to check\n",
      "1 new records to prepare\n"
     ]
    },
    {
     "name": "stderr",
     "output_type": "stream",
     "text": [
      "\n",
      "preparing: 100%|##########################################################################| 1/1 [00:00<00:00, 47.00it/s]\n"
     ]
    },
    {
     "name": "stdout",
     "output_type": "stream",
     "text": [
      "27cac74e-5bde-4ff4-9bf4-5fa231e57f86\n",
      "sim calculated successfully\n",
      "\n",
      "3126.562 0.538 3057.220\n",
      "0 existing calculation records provided\n"
     ]
    },
    {
     "name": "stderr",
     "output_type": "stream",
     "text": [
      "100%|█████████████████████████████████████████████████████████████████████████████████████| 1/1 [00:00<00:00,  3.28it/s]"
     ]
    },
    {
     "name": "stdout",
     "output_type": "stream",
     "text": [
      "1 calculation combinations to check\n",
      "1 new records to prepare\n"
     ]
    },
    {
     "name": "stderr",
     "output_type": "stream",
     "text": [
      "\n",
      "preparing: 100%|##########################################################################| 1/1 [00:00<00:00, 49.42it/s]\n"
     ]
    },
    {
     "name": "stdout",
     "output_type": "stream",
     "text": [
      "e1cbdbe2-e306-429d-a8c6-166a4a76398f\n",
      "sim calculated successfully\n",
      "\n",
      "3126.562 0.5615 3079.012\n",
      "173 2018--Pan-Z--Ag-Ni--LAMMPS--ipr1\n",
      "0 existing calculation records provided\n"
     ]
    },
    {
     "name": "stderr",
     "output_type": "stream",
     "text": [
      "100%|█████████████████████████████████████████████████████████████████████████████████████| 1/1 [00:00<00:00,  3.76it/s]"
     ]
    },
    {
     "name": "stdout",
     "output_type": "stream",
     "text": [
      "1 calculation combinations to check\n",
      "1 new records to prepare\n"
     ]
    },
    {
     "name": "stderr",
     "output_type": "stream",
     "text": [
      "\n",
      "preparing: 100%|##########################################################################| 1/1 [00:00<00:00, 50.54it/s]\n"
     ]
    },
    {
     "name": "stdout",
     "output_type": "stream",
     "text": [
      "3c1998df-df2f-4bcb-b60d-7c3ad7447ca8\n",
      "sim calculated successfully\n",
      "\n",
      "4525.000 0.0004138 4646.322\n",
      "0 existing calculation records provided\n"
     ]
    },
    {
     "name": "stderr",
     "output_type": "stream",
     "text": [
      "100%|█████████████████████████████████████████████████████████████████████████████████████| 1/1 [00:00<00:00,  3.53it/s]"
     ]
    },
    {
     "name": "stdout",
     "output_type": "stream",
     "text": [
      "1 calculation combinations to check\n",
      "1 new records to prepare\n"
     ]
    },
    {
     "name": "stderr",
     "output_type": "stream",
     "text": [
      "\n",
      "preparing: 100%|##########################################################################| 1/1 [00:00<00:00, 38.16it/s]\n"
     ]
    },
    {
     "name": "stdout",
     "output_type": "stream",
     "text": [
      "140a0d96-1f93-4fb6-aec9-fde02a6d876e\n",
      "sim calculated successfully\n",
      "\n",
      "2287.500 0.001024 2260.750\n",
      "0 existing calculation records provided\n"
     ]
    },
    {
     "name": "stderr",
     "output_type": "stream",
     "text": [
      "100%|█████████████████████████████████████████████████████████████████████████████████████| 1/1 [00:00<00:00,  3.33it/s]"
     ]
    },
    {
     "name": "stdout",
     "output_type": "stream",
     "text": [
      "1 calculation combinations to check\n",
      "1 new records to prepare\n"
     ]
    },
    {
     "name": "stderr",
     "output_type": "stream",
     "text": [
      "\n",
      "preparing: 100%|##########################################################################| 1/1 [00:00<00:00, 36.42it/s]\n"
     ]
    },
    {
     "name": "stdout",
     "output_type": "stream",
     "text": [
      "c916eac9-5b77-48c1-8290-a1bb6bea0d2e\n",
      "sim calculated successfully\n",
      "\n",
      "1168.750 0.995 1165.890\n",
      "0 existing calculation records provided\n"
     ]
    },
    {
     "name": "stderr",
     "output_type": "stream",
     "text": [
      "100%|█████████████████████████████████████████████████████████████████████████████████████| 1/1 [00:00<00:00,  3.62it/s]"
     ]
    },
    {
     "name": "stdout",
     "output_type": "stream",
     "text": [
      "1 calculation combinations to check\n",
      "1 new records to prepare\n"
     ]
    },
    {
     "name": "stderr",
     "output_type": "stream",
     "text": [
      "\n",
      "preparing: 100%|##########################################################################| 1/1 [00:00<00:00, 35.81it/s]\n"
     ]
    },
    {
     "name": "stdout",
     "output_type": "stream",
     "text": [
      "a835af89-d92a-49ef-b1f1-ff180e265992\n",
      "sim calculated successfully\n",
      "\n",
      "1728.125 0.3367 1719.308\n",
      "0 existing calculation records provided\n"
     ]
    },
    {
     "name": "stderr",
     "output_type": "stream",
     "text": [
      "100%|█████████████████████████████████████████████████████████████████████████████████████| 1/1 [00:00<00:00,  3.40it/s]"
     ]
    },
    {
     "name": "stdout",
     "output_type": "stream",
     "text": [
      "1 calculation combinations to check\n",
      "1 new records to prepare\n"
     ]
    },
    {
     "name": "stderr",
     "output_type": "stream",
     "text": [
      "\n",
      "preparing: 100%|##########################################################################| 1/1 [00:00<00:00, 37.42it/s]\n"
     ]
    },
    {
     "name": "stdout",
     "output_type": "stream",
     "text": [
      "574b0d7b-5cc0-4159-9c4d-7f302667ac78\n",
      "sim calculated successfully\n",
      "\n",
      "1448.438 0.7536 1586.810\n",
      "0 existing calculation records provided\n"
     ]
    },
    {
     "name": "stderr",
     "output_type": "stream",
     "text": [
      "100%|█████████████████████████████████████████████████████████████████████████████████████| 1/1 [00:00<00:00,  3.38it/s]"
     ]
    },
    {
     "name": "stdout",
     "output_type": "stream",
     "text": [
      "1 calculation combinations to check\n",
      "1 new records to prepare\n"
     ]
    },
    {
     "name": "stderr",
     "output_type": "stream",
     "text": [
      "\n",
      "preparing: 100%|##########################################################################| 1/1 [00:00<00:00, 35.76it/s]\n"
     ]
    },
    {
     "name": "stdout",
     "output_type": "stream",
     "text": [
      "fc1db864-dc97-4b91-9575-5b33bb7f1cd5\n",
      "sim calculated successfully\n",
      "\n",
      "1867.969 0.004117 1690.134\n",
      "0 existing calculation records provided\n"
     ]
    },
    {
     "name": "stderr",
     "output_type": "stream",
     "text": [
      "100%|█████████████████████████████████████████████████████████████████████████████████████| 1/1 [00:00<00:00,  3.45it/s]"
     ]
    },
    {
     "name": "stdout",
     "output_type": "stream",
     "text": [
      "1 calculation combinations to check\n",
      "1 new records to prepare\n"
     ]
    },
    {
     "name": "stderr",
     "output_type": "stream",
     "text": [
      "\n",
      "preparing: 100%|##########################################################################| 1/1 [00:00<00:00, 37.87it/s]\n"
     ]
    },
    {
     "name": "stdout",
     "output_type": "stream",
     "text": [
      "0ab844ba-be4e-486c-9a18-7529b23d5df9\n",
      "sim calculated successfully\n",
      "\n",
      "1658.203 0.5001 1724.039\n",
      "0 existing calculation records provided\n"
     ]
    },
    {
     "name": "stderr",
     "output_type": "stream",
     "text": [
      "100%|█████████████████████████████████████████████████████████████████████████████████████| 1/1 [00:00<00:00,  3.34it/s]"
     ]
    },
    {
     "name": "stdout",
     "output_type": "stream",
     "text": [
      "1 calculation combinations to check\n",
      "1 new records to prepare\n"
     ]
    },
    {
     "name": "stderr",
     "output_type": "stream",
     "text": [
      "\n",
      "preparing: 100%|##########################################################################| 1/1 [00:00<00:00, 34.71it/s]\n"
     ]
    },
    {
     "name": "stdout",
     "output_type": "stream",
     "text": [
      "3b1ffb82-8ecb-4649-b685-718c21a324ca\n",
      "sim calculated successfully\n",
      "\n",
      "1658.203 0.4741 1714.719\n",
      "0 existing calculation records provided\n"
     ]
    },
    {
     "name": "stderr",
     "output_type": "stream",
     "text": [
      "100%|█████████████████████████████████████████████████████████████████████████████████████| 1/1 [00:00<00:00,  3.32it/s]"
     ]
    },
    {
     "name": "stdout",
     "output_type": "stream",
     "text": [
      "1 calculation combinations to check\n",
      "1 new records to prepare\n"
     ]
    },
    {
     "name": "stderr",
     "output_type": "stream",
     "text": [
      "\n",
      "preparing: 100%|##########################################################################| 1/1 [00:00<00:00, 35.14it/s]\n"
     ]
    },
    {
     "name": "stdout",
     "output_type": "stream",
     "text": [
      "39fe95e6-b122-4f0f-b76c-b8eb2e9ad762\n",
      "sim calculated successfully\n",
      "\n",
      "1658.203 0.5236 1711.031\n",
      "0 existing calculation records provided\n"
     ]
    },
    {
     "name": "stderr",
     "output_type": "stream",
     "text": [
      "100%|█████████████████████████████████████████████████████████████████████████████████████| 1/1 [00:00<00:00,  3.47it/s]"
     ]
    },
    {
     "name": "stdout",
     "output_type": "stream",
     "text": [
      "1 calculation combinations to check\n",
      "1 new records to prepare\n"
     ]
    },
    {
     "name": "stderr",
     "output_type": "stream",
     "text": [
      "\n",
      "preparing: 100%|##########################################################################| 1/1 [00:00<00:00, 36.27it/s]\n"
     ]
    },
    {
     "name": "stdout",
     "output_type": "stream",
     "text": [
      "2cb97372-d9fe-414a-b653-a52d42749115\n",
      "sim calculated successfully\n",
      "\n",
      "1658.203 0.5041 1721.918\n",
      "0 existing calculation records provided\n"
     ]
    },
    {
     "name": "stderr",
     "output_type": "stream",
     "text": [
      "100%|█████████████████████████████████████████████████████████████████████████████████████| 1/1 [00:00<00:00,  3.42it/s]"
     ]
    },
    {
     "name": "stdout",
     "output_type": "stream",
     "text": [
      "1 calculation combinations to check\n",
      "1 new records to prepare\n"
     ]
    },
    {
     "name": "stderr",
     "output_type": "stream",
     "text": [
      "\n",
      "preparing: 100%|##########################################################################| 1/1 [00:00<00:00, 36.82it/s]\n"
     ]
    },
    {
     "name": "stdout",
     "output_type": "stream",
     "text": [
      "68bfaf30-5f58-41a9-a3c4-39cecd86e01b\n",
      "sim calculated successfully\n",
      "\n",
      "1658.203 0.5025 1718.295\n",
      "0 existing calculation records provided\n"
     ]
    },
    {
     "name": "stderr",
     "output_type": "stream",
     "text": [
      "100%|█████████████████████████████████████████████████████████████████████████████████████| 1/1 [00:00<00:00,  3.50it/s]"
     ]
    },
    {
     "name": "stdout",
     "output_type": "stream",
     "text": [
      "1 calculation combinations to check\n",
      "1 new records to prepare\n"
     ]
    },
    {
     "name": "stderr",
     "output_type": "stream",
     "text": [
      "\n",
      "preparing: 100%|##########################################################################| 1/1 [00:00<00:00, 36.79it/s]\n"
     ]
    },
    {
     "name": "stdout",
     "output_type": "stream",
     "text": [
      "e4d837bc-cda1-4d12-8c0f-39985506e701\n",
      "sim calculated successfully\n",
      "\n",
      "1658.203 0.5063 1716.797\n",
      "0 existing calculation records provided\n"
     ]
    },
    {
     "name": "stderr",
     "output_type": "stream",
     "text": [
      "100%|█████████████████████████████████████████████████████████████████████████████████████| 1/1 [00:00<00:00,  3.29it/s]"
     ]
    },
    {
     "name": "stdout",
     "output_type": "stream",
     "text": [
      "1 calculation combinations to check\n",
      "1 new records to prepare\n"
     ]
    },
    {
     "name": "stderr",
     "output_type": "stream",
     "text": [
      "\n",
      "preparing: 100%|##########################################################################| 1/1 [00:00<00:00, 36.79it/s]\n"
     ]
    },
    {
     "name": "stdout",
     "output_type": "stream",
     "text": [
      "89219eab-c363-4a76-b376-61d226207afc\n",
      "sim calculated successfully\n",
      "\n",
      "1658.203 0.4287 1703.233\n",
      "0 existing calculation records provided\n"
     ]
    },
    {
     "name": "stderr",
     "output_type": "stream",
     "text": [
      "100%|█████████████████████████████████████████████████████████████████████████████████████| 1/1 [00:00<00:00,  3.71it/s]"
     ]
    },
    {
     "name": "stdout",
     "output_type": "stream",
     "text": [
      "1 calculation combinations to check\n",
      "1 new records to prepare\n"
     ]
    },
    {
     "name": "stderr",
     "output_type": "stream",
     "text": [
      "\n",
      "preparing: 100%|##########################################################################| 1/1 [00:00<00:00, 22.13it/s]\n"
     ]
    },
    {
     "name": "stdout",
     "output_type": "stream",
     "text": [
      "c9164613-a7b5-4ef2-9a3f-75ce78640e60\n",
      "sim calculated successfully\n",
      "\n",
      "1658.203 0.5038 1721.953\n",
      "0 existing calculation records provided\n"
     ]
    },
    {
     "name": "stderr",
     "output_type": "stream",
     "text": [
      "100%|█████████████████████████████████████████████████████████████████████████████████████| 1/1 [00:00<00:00,  3.26it/s]"
     ]
    },
    {
     "name": "stdout",
     "output_type": "stream",
     "text": [
      "1 calculation combinations to check\n",
      "1 new records to prepare\n"
     ]
    },
    {
     "name": "stderr",
     "output_type": "stream",
     "text": [
      "\n",
      "preparing: 100%|##########################################################################| 1/1 [00:00<00:00, 20.64it/s]\n"
     ]
    },
    {
     "name": "stdout",
     "output_type": "stream",
     "text": [
      "5092064e-c39d-4513-8d75-f2f37fff779d\n",
      "sim calculated successfully\n",
      "\n",
      "1658.203 0.4431 1700.200\n",
      "172 2018--Pan-Z--Ag-Ni--LAMMPS--ipr1\n",
      "0 existing calculation records provided\n"
     ]
    },
    {
     "name": "stderr",
     "output_type": "stream",
     "text": [
      "100%|█████████████████████████████████████████████████████████████████████████████████████| 1/1 [00:00<00:00,  4.19it/s]"
     ]
    },
    {
     "name": "stdout",
     "output_type": "stream",
     "text": [
      "1 calculation combinations to check\n",
      "1 new records to prepare\n"
     ]
    },
    {
     "name": "stderr",
     "output_type": "stream",
     "text": [
      "\n",
      "preparing: 100%|##########################################################################| 1/1 [00:00<00:00, 49.25it/s]\n"
     ]
    },
    {
     "name": "stdout",
     "output_type": "stream",
     "text": [
      "cf455eb6-f3f0-4037-9c06-f3560528eb82\n",
      "sim calculated successfully\n",
      "\n",
      "4525.000 0.05379 2723.387\n",
      "0 existing calculation records provided\n"
     ]
    },
    {
     "name": "stderr",
     "output_type": "stream",
     "text": [
      "100%|█████████████████████████████████████████████████████████████████████████████████████| 1/1 [00:00<00:00,  3.56it/s]"
     ]
    },
    {
     "name": "stdout",
     "output_type": "stream",
     "text": [
      "1 calculation combinations to check\n",
      "1 new records to prepare\n"
     ]
    },
    {
     "name": "stderr",
     "output_type": "stream",
     "text": [
      "\n",
      "preparing: 100%|##########################################################################| 1/1 [00:00<00:00, 22.71it/s]\n"
     ]
    },
    {
     "name": "stdout",
     "output_type": "stream",
     "text": [
      "876c9e13-de9d-423a-8545-e22f42689903\n",
      "sim calculated successfully\n",
      "\n",
      "2287.500 6.207e-05 2272.086\n",
      "0 existing calculation records provided\n"
     ]
    },
    {
     "name": "stderr",
     "output_type": "stream",
     "text": [
      "100%|█████████████████████████████████████████████████████████████████████████████████████| 1/1 [00:00<00:00,  4.24it/s]"
     ]
    },
    {
     "name": "stdout",
     "output_type": "stream",
     "text": [
      "1 calculation combinations to check\n",
      "1 new records to prepare\n"
     ]
    },
    {
     "name": "stderr",
     "output_type": "stream",
     "text": [
      "\n",
      "preparing: 100%|##########################################################################| 1/1 [00:00<00:00, 34.68it/s]\n"
     ]
    },
    {
     "name": "stdout",
     "output_type": "stream",
     "text": [
      "6561b283-158b-439b-a77b-6b30c576d3fc\n",
      "sim calculated successfully\n",
      "\n",
      "1168.750 0.6146 1206.359\n",
      "0 existing calculation records provided\n"
     ]
    },
    {
     "name": "stderr",
     "output_type": "stream",
     "text": [
      "100%|█████████████████████████████████████████████████████████████████████████████████████| 1/1 [00:00<00:00,  3.39it/s]"
     ]
    },
    {
     "name": "stdout",
     "output_type": "stream",
     "text": [
      "1 calculation combinations to check\n",
      "1 new records to prepare\n"
     ]
    },
    {
     "name": "stderr",
     "output_type": "stream",
     "text": [
      "\n",
      "preparing: 100%|##########################################################################| 1/1 [00:00<00:00, 21.36it/s]\n"
     ]
    },
    {
     "name": "stdout",
     "output_type": "stream",
     "text": [
      "56a574ee-71e1-443d-90b9-6a385ca06d23\n",
      "sim calculated successfully\n",
      "\n",
      "1728.125 0.001034 1689.047\n",
      "0 existing calculation records provided\n"
     ]
    },
    {
     "name": "stderr",
     "output_type": "stream",
     "text": [
      "100%|█████████████████████████████████████████████████████████████████████████████████████| 1/1 [00:00<00:00,  3.35it/s]"
     ]
    },
    {
     "name": "stdout",
     "output_type": "stream",
     "text": [
      "1 calculation combinations to check\n",
      "1 new records to prepare\n"
     ]
    },
    {
     "name": "stderr",
     "output_type": "stream",
     "text": [
      "\n",
      "preparing: 100%|##########################################################################| 1/1 [00:00<00:00, 26.77it/s]\n"
     ]
    },
    {
     "name": "stdout",
     "output_type": "stream",
     "text": [
      "26c29376-f6cb-4cf8-bb86-ae7eb10ea918\n",
      "sim calculated successfully\n",
      "\n",
      "889.062 0.9953 888.699\n",
      "0 existing calculation records provided\n"
     ]
    },
    {
     "name": "stderr",
     "output_type": "stream",
     "text": [
      "100%|█████████████████████████████████████████████████████████████████████████████████████| 1/1 [00:00<00:00,  3.49it/s]"
     ]
    },
    {
     "name": "stdout",
     "output_type": "stream",
     "text": [
      "1 calculation combinations to check\n",
      "1 new records to prepare\n"
     ]
    },
    {
     "name": "stderr",
     "output_type": "stream",
     "text": [
      "\n",
      "preparing: 100%|##########################################################################| 1/1 [00:00<00:00, 22.71it/s]\n"
     ]
    },
    {
     "name": "stdout",
     "output_type": "stream",
     "text": [
      "7e08dbea-a5e2-4fe1-b0b6-2661a8d8c19c\n",
      "sim calculated successfully\n",
      "\n",
      "1308.594 0.237 1228.816\n",
      "0 existing calculation records provided\n"
     ]
    },
    {
     "name": "stderr",
     "output_type": "stream",
     "text": [
      "100%|█████████████████████████████████████████████████████████████████████████████████████| 1/1 [00:00<00:00,  3.59it/s]"
     ]
    },
    {
     "name": "stdout",
     "output_type": "stream",
     "text": [
      "1 calculation combinations to check\n",
      "1 new records to prepare\n"
     ]
    },
    {
     "name": "stderr",
     "output_type": "stream",
     "text": [
      "\n",
      "preparing: 100%|##########################################################################| 1/1 [00:00<00:00, 18.83it/s]\n"
     ]
    },
    {
     "name": "stdout",
     "output_type": "stream",
     "text": [
      "103c619c-d413-422e-a93a-ef574f8f8f8e\n",
      "sim calculated successfully\n",
      "\n",
      "1098.828 0.9705 1099.066\n",
      "0 existing calculation records provided\n"
     ]
    },
    {
     "name": "stderr",
     "output_type": "stream",
     "text": [
      "100%|█████████████████████████████████████████████████████████████████████████████████████| 1/1 [00:00<00:00,  3.45it/s]"
     ]
    },
    {
     "name": "stdout",
     "output_type": "stream",
     "text": [
      "1 calculation combinations to check\n",
      "1 new records to prepare\n"
     ]
    },
    {
     "name": "stderr",
     "output_type": "stream",
     "text": [
      "\n",
      "preparing: 100%|##########################################################################| 1/1 [00:00<00:00, 20.16it/s]\n"
     ]
    },
    {
     "name": "stdout",
     "output_type": "stream",
     "text": [
      "a5a58779-1695-4e77-89d0-2f585a259f38\n",
      "sim calculated successfully\n",
      "\n",
      "1203.711 0.5694 1217.279\n",
      "0 existing calculation records provided\n"
     ]
    },
    {
     "name": "stderr",
     "output_type": "stream",
     "text": [
      "100%|█████████████████████████████████████████████████████████████████████████████████████| 1/1 [00:00<00:00,  3.35it/s]"
     ]
    },
    {
     "name": "stdout",
     "output_type": "stream",
     "text": [
      "1 calculation combinations to check\n",
      "1 new records to prepare\n"
     ]
    },
    {
     "name": "stderr",
     "output_type": "stream",
     "text": [
      "\n",
      "preparing: 100%|##########################################################################| 1/1 [00:00<00:00, 22.20it/s]\n"
     ]
    },
    {
     "name": "stdout",
     "output_type": "stream",
     "text": [
      "fe57ff38-cef7-47b9-ba50-a318b5118ee0\n",
      "sim calculated successfully\n",
      "\n",
      "1203.711 0.5464 1205.802\n",
      "0 existing calculation records provided\n"
     ]
    },
    {
     "name": "stderr",
     "output_type": "stream",
     "text": [
      "100%|█████████████████████████████████████████████████████████████████████████████████████| 1/1 [00:00<00:00,  4.76it/s]"
     ]
    },
    {
     "name": "stdout",
     "output_type": "stream",
     "text": [
      "1 calculation combinations to check\n",
      "1 new records to prepare\n"
     ]
    },
    {
     "name": "stderr",
     "output_type": "stream",
     "text": [
      "\n",
      "preparing: 100%|##########################################################################| 1/1 [00:00<00:00, 43.74it/s]\n"
     ]
    },
    {
     "name": "stdout",
     "output_type": "stream",
     "text": [
      "3dd3369e-ce9b-4716-b5fc-68d2811ecfd6\n",
      "sim calculated successfully\n",
      "\n",
      "1203.711 0.5273 1197.008\n",
      "0 existing calculation records provided\n"
     ]
    },
    {
     "name": "stderr",
     "output_type": "stream",
     "text": [
      "100%|█████████████████████████████████████████████████████████████████████████████████████| 1/1 [00:00<00:00,  3.33it/s]"
     ]
    },
    {
     "name": "stdout",
     "output_type": "stream",
     "text": [
      "1 calculation combinations to check\n",
      "1 new records to prepare\n"
     ]
    },
    {
     "name": "stderr",
     "output_type": "stream",
     "text": [
      "\n",
      "preparing: 100%|##########################################################################| 1/1 [00:00<00:00, 20.25it/s]\n"
     ]
    },
    {
     "name": "stdout",
     "output_type": "stream",
     "text": [
      "47d1159c-473b-4463-b840-1bdd23498bf6\n",
      "sim calculated successfully\n",
      "\n",
      "1203.711 0.5647 1215.208\n",
      "0 existing calculation records provided\n"
     ]
    },
    {
     "name": "stderr",
     "output_type": "stream",
     "text": [
      "100%|█████████████████████████████████████████████████████████████████████████████████████| 1/1 [00:00<00:00,  4.39it/s]"
     ]
    },
    {
     "name": "stdout",
     "output_type": "stream",
     "text": [
      "1 calculation combinations to check\n",
      "1 new records to prepare\n"
     ]
    },
    {
     "name": "stderr",
     "output_type": "stream",
     "text": [
      "\n",
      "preparing: 100%|##########################################################################| 1/1 [00:00<00:00, 34.10it/s]\n"
     ]
    },
    {
     "name": "stdout",
     "output_type": "stream",
     "text": [
      "4449d750-68b5-4770-9843-89aba018b747\n",
      "sim calculated successfully\n",
      "\n",
      "1203.711 0.5289 1206.296\n",
      "0 existing calculation records provided\n"
     ]
    },
    {
     "name": "stderr",
     "output_type": "stream",
     "text": [
      "100%|█████████████████████████████████████████████████████████████████████████████████████| 1/1 [00:00<00:00,  3.56it/s]"
     ]
    },
    {
     "name": "stdout",
     "output_type": "stream",
     "text": [
      "1 calculation combinations to check\n",
      "1 new records to prepare\n"
     ]
    },
    {
     "name": "stderr",
     "output_type": "stream",
     "text": [
      "\n",
      "preparing: 100%|##########################################################################| 1/1 [00:00<00:00, 24.65it/s]\n"
     ]
    },
    {
     "name": "stdout",
     "output_type": "stream",
     "text": [
      "26558ba5-f17f-47f2-98ce-78dc85c67793\n",
      "sim calculated successfully\n",
      "\n",
      "1203.711 0.5212 1206.244\n",
      "0 existing calculation records provided\n"
     ]
    },
    {
     "name": "stderr",
     "output_type": "stream",
     "text": [
      "100%|█████████████████████████████████████████████████████████████████████████████████████| 1/1 [00:00<00:00,  3.85it/s]"
     ]
    },
    {
     "name": "stdout",
     "output_type": "stream",
     "text": [
      "1 calculation combinations to check\n",
      "1 new records to prepare\n"
     ]
    },
    {
     "name": "stderr",
     "output_type": "stream",
     "text": [
      "\n",
      "preparing: 100%|##########################################################################| 1/1 [00:00<00:00, 35.50it/s]\n"
     ]
    },
    {
     "name": "stdout",
     "output_type": "stream",
     "text": [
      "70d2a330-1a21-40eb-8b02-9be9e1d6c763\n",
      "sim calculated successfully\n",
      "\n",
      "1203.711 0.5119 1199.162\n",
      "0 existing calculation records provided\n"
     ]
    },
    {
     "name": "stderr",
     "output_type": "stream",
     "text": [
      "100%|█████████████████████████████████████████████████████████████████████████████████████| 1/1 [00:00<00:00,  3.50it/s]"
     ]
    },
    {
     "name": "stdout",
     "output_type": "stream",
     "text": [
      "1 calculation combinations to check\n",
      "1 new records to prepare\n"
     ]
    },
    {
     "name": "stderr",
     "output_type": "stream",
     "text": [
      "\n",
      "preparing: 100%|##########################################################################| 1/1 [00:00<00:00, 24.03it/s]\n"
     ]
    },
    {
     "name": "stdout",
     "output_type": "stream",
     "text": [
      "726f5de6-8310-4036-ba6d-7bb6658a1065\n",
      "sim calculated successfully\n",
      "\n",
      "1203.711 0.5387 1212.900\n",
      "0 existing calculation records provided\n"
     ]
    },
    {
     "name": "stderr",
     "output_type": "stream",
     "text": [
      "100%|█████████████████████████████████████████████████████████████████████████████████████| 1/1 [00:00<00:00,  4.04it/s]"
     ]
    },
    {
     "name": "stdout",
     "output_type": "stream",
     "text": [
      "1 calculation combinations to check\n",
      "1 new records to prepare\n"
     ]
    },
    {
     "name": "stderr",
     "output_type": "stream",
     "text": [
      "\n",
      "preparing: 100%|##########################################################################| 1/1 [00:00<00:00, 32.75it/s]\n"
     ]
    },
    {
     "name": "stdout",
     "output_type": "stream",
     "text": [
      "2330b3db-8a69-4c5a-909c-1fafdf93c72f\n",
      "sim calculated successfully\n",
      "\n",
      "1203.711 0.5497 1212.464\n",
      "171 2018--Mendelev-M-I--Tb--LAMMPS--ipr1\n",
      "0 existing calculation records provided\n"
     ]
    },
    {
     "name": "stderr",
     "output_type": "stream",
     "text": [
      "100%|█████████████████████████████████████████████████████████████████████████████████████| 1/1 [00:00<00:00,  3.24it/s]"
     ]
    },
    {
     "name": "stdout",
     "output_type": "stream",
     "text": [
      "1 calculation combinations to check\n",
      "1 new records to prepare\n"
     ]
    },
    {
     "name": "stderr",
     "output_type": "stream",
     "text": [
      "\n",
      "preparing: 100%|##########################################################################| 1/1 [00:00<00:00, 32.07it/s]\n"
     ]
    },
    {
     "name": "stdout",
     "output_type": "stream",
     "text": [
      "ddd5922c-bf94-4b97-b7e0-c2f59b46c97e\n",
      "sim calculated successfully\n",
      "\n",
      "4525.000 7.241e-05 4680.190\n",
      "0 existing calculation records provided\n"
     ]
    },
    {
     "name": "stderr",
     "output_type": "stream",
     "text": [
      "100%|█████████████████████████████████████████████████████████████████████████████████████| 1/1 [00:00<00:00,  3.44it/s]"
     ]
    },
    {
     "name": "stdout",
     "output_type": "stream",
     "text": [
      "1 calculation combinations to check\n",
      "1 new records to prepare\n"
     ]
    },
    {
     "name": "stderr",
     "output_type": "stream",
     "text": [
      "\n",
      "preparing: 100%|##########################################################################| 1/1 [00:00<00:00, 53.99it/s]\n"
     ]
    },
    {
     "name": "stdout",
     "output_type": "stream",
     "text": [
      "584fd217-8e77-43bb-ba70-f561eb902ed8\n",
      "sim calculated successfully\n",
      "\n",
      "2287.500 0.0005483 2239.744\n",
      "0 existing calculation records provided\n"
     ]
    },
    {
     "name": "stderr",
     "output_type": "stream",
     "text": [
      "100%|█████████████████████████████████████████████████████████████████████████████████████| 1/1 [00:00<00:00,  3.24it/s]"
     ]
    },
    {
     "name": "stdout",
     "output_type": "stream",
     "text": [
      "1 calculation combinations to check\n",
      "1 new records to prepare\n"
     ]
    },
    {
     "name": "stderr",
     "output_type": "stream",
     "text": [
      "\n",
      "preparing: 100%|##########################################################################| 1/1 [00:00<00:00, 28.51it/s]\n"
     ]
    },
    {
     "name": "stdout",
     "output_type": "stream",
     "text": [
      "a13c35c7-23f9-490e-9855-def97e9bb2d0\n",
      "sim calculated successfully\n",
      "\n",
      "1168.750 0.9975 1164.933\n",
      "0 existing calculation records provided\n"
     ]
    },
    {
     "name": "stderr",
     "output_type": "stream",
     "text": [
      "100%|█████████████████████████████████████████████████████████████████████████████████████| 1/1 [00:00<00:00,  3.51it/s]"
     ]
    },
    {
     "name": "stdout",
     "output_type": "stream",
     "text": [
      "1 calculation combinations to check\n",
      "1 new records to prepare\n"
     ]
    },
    {
     "name": "stderr",
     "output_type": "stream",
     "text": [
      "\n",
      "preparing: 100%|##########################################################################| 1/1 [00:00<00:00, 30.61it/s]\n"
     ]
    },
    {
     "name": "stdout",
     "output_type": "stream",
     "text": [
      "93c42475-4c85-4f96-b9ab-c2fa45e4651b\n",
      "sim calculated successfully\n",
      "\n",
      "1728.125 0.2938 1622.394\n",
      "0 existing calculation records provided\n"
     ]
    },
    {
     "name": "stderr",
     "output_type": "stream",
     "text": [
      "100%|█████████████████████████████████████████████████████████████████████████████████████| 1/1 [00:00<00:00,  3.98it/s]"
     ]
    },
    {
     "name": "stdout",
     "output_type": "stream",
     "text": [
      "1 calculation combinations to check\n",
      "1 new records to prepare\n"
     ]
    },
    {
     "name": "stderr",
     "output_type": "stream",
     "text": [
      "\n",
      "preparing: 100%|##########################################################################| 1/1 [00:00<00:00, 53.53it/s]\n"
     ]
    },
    {
     "name": "stdout",
     "output_type": "stream",
     "text": [
      "349f8ee9-8696-41c3-acf3-ffb2a933d8a8\n",
      "sim calculated successfully\n",
      "\n",
      "1448.438 0.8724 1575.804\n",
      "0 existing calculation records provided\n"
     ]
    },
    {
     "name": "stderr",
     "output_type": "stream",
     "text": [
      "100%|█████████████████████████████████████████████████████████████████████████████████████| 1/1 [00:00<00:00,  3.42it/s]"
     ]
    },
    {
     "name": "stdout",
     "output_type": "stream",
     "text": [
      "1 calculation combinations to check\n",
      "1 new records to prepare\n"
     ]
    },
    {
     "name": "stderr",
     "output_type": "stream",
     "text": [
      "\n",
      "preparing: 100%|##########################################################################| 1/1 [00:00<00:00, 25.48it/s]\n"
     ]
    },
    {
     "name": "stdout",
     "output_type": "stream",
     "text": [
      "bb8f9740-5d6e-4e96-adba-9f25f1e503ad\n",
      "sim calculated successfully\n",
      "\n",
      "1867.969 0.01263 1644.327\n",
      "0 existing calculation records provided\n"
     ]
    },
    {
     "name": "stderr",
     "output_type": "stream",
     "text": [
      "100%|█████████████████████████████████████████████████████████████████████████████████████| 1/1 [00:00<00:00,  4.16it/s]"
     ]
    },
    {
     "name": "stdout",
     "output_type": "stream",
     "text": [
      "1 calculation combinations to check\n",
      "1 new records to prepare\n"
     ]
    },
    {
     "name": "stderr",
     "output_type": "stream",
     "text": [
      "\n",
      "preparing: 100%|##########################################################################| 1/1 [00:00<00:00, 52.00it/s]\n"
     ]
    },
    {
     "name": "stdout",
     "output_type": "stream",
     "text": [
      "42449886-600c-4915-b78a-d5826c9a5651\n",
      "sim calculated successfully\n",
      "\n",
      "1658.203 0.453 1608.269\n",
      "0 existing calculation records provided\n"
     ]
    },
    {
     "name": "stderr",
     "output_type": "stream",
     "text": [
      "100%|█████████████████████████████████████████████████████████████████████████████████████| 1/1 [00:00<00:00,  3.50it/s]"
     ]
    },
    {
     "name": "stdout",
     "output_type": "stream",
     "text": [
      "1 calculation combinations to check\n",
      "1 new records to prepare\n"
     ]
    },
    {
     "name": "stderr",
     "output_type": "stream",
     "text": [
      "\n",
      "preparing: 100%|##########################################################################| 1/1 [00:00<00:00, 31.82it/s]\n"
     ]
    },
    {
     "name": "stdout",
     "output_type": "stream",
     "text": [
      "6fa00789-01d9-420b-b91d-6073dfee79d8\n",
      "sim calculated successfully\n",
      "\n",
      "1658.203 0.4356 1615.019\n",
      "0 existing calculation records provided\n"
     ]
    },
    {
     "name": "stderr",
     "output_type": "stream",
     "text": [
      "100%|█████████████████████████████████████████████████████████████████████████████████████| 1/1 [00:00<00:00,  4.03it/s]"
     ]
    },
    {
     "name": "stdout",
     "output_type": "stream",
     "text": [
      "1 calculation combinations to check\n",
      "1 new records to prepare\n"
     ]
    },
    {
     "name": "stderr",
     "output_type": "stream",
     "text": [
      "\n",
      "preparing: 100%|##########################################################################| 1/1 [00:00<00:00, 35.09it/s]\n"
     ]
    },
    {
     "name": "stdout",
     "output_type": "stream",
     "text": [
      "25a4d89e-6581-4629-9556-c5b3543300ba\n",
      "sim calculated successfully\n",
      "\n",
      "1658.203 0.4544 1630.646\n",
      "0 existing calculation records provided\n"
     ]
    },
    {
     "name": "stderr",
     "output_type": "stream",
     "text": [
      "100%|█████████████████████████████████████████████████████████████████████████████████████| 1/1 [00:00<00:00,  3.29it/s]"
     ]
    },
    {
     "name": "stdout",
     "output_type": "stream",
     "text": [
      "1 calculation combinations to check\n",
      "1 new records to prepare\n"
     ]
    },
    {
     "name": "stderr",
     "output_type": "stream",
     "text": [
      "\n",
      "preparing: 100%|##########################################################################| 1/1 [00:00<00:00, 27.64it/s]\n"
     ]
    },
    {
     "name": "stdout",
     "output_type": "stream",
     "text": [
      "003e4ef4-3c11-407e-ba71-314355f95ca4\n",
      "sim calculated successfully\n",
      "\n",
      "1658.203 0.468 1627.082\n",
      "0 existing calculation records provided\n"
     ]
    },
    {
     "name": "stderr",
     "output_type": "stream",
     "text": [
      "100%|█████████████████████████████████████████████████████████████████████████████████████| 1/1 [00:00<00:00,  3.50it/s]"
     ]
    },
    {
     "name": "stdout",
     "output_type": "stream",
     "text": [
      "1 calculation combinations to check\n",
      "1 new records to prepare\n"
     ]
    },
    {
     "name": "stderr",
     "output_type": "stream",
     "text": [
      "\n",
      "preparing: 100%|##########################################################################| 1/1 [00:00<00:00, 32.26it/s]\n"
     ]
    },
    {
     "name": "stdout",
     "output_type": "stream",
     "text": [
      "91f6e973-2c83-48bf-a993-ba3f0412188e\n",
      "sim calculated successfully\n",
      "\n",
      "1658.203 0.4675 1618.413\n",
      "0 existing calculation records provided\n"
     ]
    },
    {
     "name": "stderr",
     "output_type": "stream",
     "text": [
      "100%|█████████████████████████████████████████████████████████████████████████████████████| 1/1 [00:00<00:00,  4.26it/s]"
     ]
    },
    {
     "name": "stdout",
     "output_type": "stream",
     "text": [
      "1 calculation combinations to check\n",
      "1 new records to prepare\n"
     ]
    },
    {
     "name": "stderr",
     "output_type": "stream",
     "text": [
      "\n",
      "preparing: 100%|##########################################################################| 1/1 [00:00<00:00, 46.02it/s]\n"
     ]
    },
    {
     "name": "stdout",
     "output_type": "stream",
     "text": [
      "213b4e97-8517-48f4-8d69-7292d3997ddc\n",
      "sim calculated successfully\n",
      "\n",
      "1658.203 0.4446 1622.125\n",
      "0 existing calculation records provided\n"
     ]
    },
    {
     "name": "stderr",
     "output_type": "stream",
     "text": [
      "100%|█████████████████████████████████████████████████████████████████████████████████████| 1/1 [00:00<00:00,  3.25it/s]"
     ]
    },
    {
     "name": "stdout",
     "output_type": "stream",
     "text": [
      "1 calculation combinations to check\n",
      "1 new records to prepare\n"
     ]
    },
    {
     "name": "stderr",
     "output_type": "stream",
     "text": [
      "\n",
      "preparing: 100%|##########################################################################| 1/1 [00:00<00:00, 29.04it/s]\n"
     ]
    },
    {
     "name": "stdout",
     "output_type": "stream",
     "text": [
      "0d134455-1d16-4a48-a055-82e136705cc1\n",
      "sim calculated successfully\n",
      "\n",
      "1658.203 0.4558 1619.256\n",
      "0 existing calculation records provided\n"
     ]
    },
    {
     "name": "stderr",
     "output_type": "stream",
     "text": [
      "100%|█████████████████████████████████████████████████████████████████████████████████████| 1/1 [00:00<00:00,  3.87it/s]"
     ]
    },
    {
     "name": "stdout",
     "output_type": "stream",
     "text": [
      "1 calculation combinations to check\n",
      "1 new records to prepare\n"
     ]
    },
    {
     "name": "stderr",
     "output_type": "stream",
     "text": [
      "\n",
      "preparing: 100%|##########################################################################| 1/1 [00:00<00:00, 50.22it/s]\n"
     ]
    },
    {
     "name": "stdout",
     "output_type": "stream",
     "text": [
      "16da518a-b626-45c6-b7b8-7169318d5c0e\n",
      "sim calculated successfully\n",
      "\n",
      "1658.203 0.4803 1631.977\n",
      "0 existing calculation records provided\n"
     ]
    },
    {
     "name": "stderr",
     "output_type": "stream",
     "text": [
      "100%|█████████████████████████████████████████████████████████████████████████████████████| 1/1 [00:00<00:00,  3.65it/s]"
     ]
    },
    {
     "name": "stdout",
     "output_type": "stream",
     "text": [
      "1 calculation combinations to check\n",
      "1 new records to prepare\n"
     ]
    },
    {
     "name": "stderr",
     "output_type": "stream",
     "text": [
      "\n",
      "preparing: 100%|##########################################################################| 1/1 [00:00<00:00, 30.79it/s]\n"
     ]
    },
    {
     "name": "stdout",
     "output_type": "stream",
     "text": [
      "2dadd0fc-927a-4916-aaca-aecbd3e9b11f\n",
      "sim calculated successfully\n",
      "\n",
      "1658.203 0.4523 1607.448\n",
      "170 2018--Farkas-D--Fe-Ni-Cr-Co-Cu--LAMMPS--ipr1\n",
      "0 existing calculation records provided\n"
     ]
    },
    {
     "name": "stderr",
     "output_type": "stream",
     "text": [
      "100%|█████████████████████████████████████████████████████████████████████████████████████| 1/1 [00:00<00:00,  3.95it/s]"
     ]
    },
    {
     "name": "stdout",
     "output_type": "stream",
     "text": [
      "1 calculation combinations to check\n",
      "1 new records to prepare\n"
     ]
    },
    {
     "name": "stderr",
     "output_type": "stream",
     "text": [
      "\n",
      "preparing: 100%|##########################################################################| 1/1 [00:00<00:00, 45.95it/s]\n"
     ]
    },
    {
     "name": "stdout",
     "output_type": "stream",
     "text": [
      "505829b8-b7fe-436b-bfd9-6cc6f49b1403\n",
      "error: \n",
      "0 existing calculation records provided\n"
     ]
    },
    {
     "name": "stderr",
     "output_type": "stream",
     "text": [
      "100%|█████████████████████████████████████████████████████████████████████████████████████| 1/1 [00:00<00:00,  4.46it/s]"
     ]
    },
    {
     "name": "stdout",
     "output_type": "stream",
     "text": [
      "1 calculation combinations to check\n",
      "1 new records to prepare\n"
     ]
    },
    {
     "name": "stderr",
     "output_type": "stream",
     "text": [
      "\n",
      "preparing: 100%|##########################################################################| 1/1 [00:00<00:00, 34.39it/s]\n"
     ]
    },
    {
     "name": "stdout",
     "output_type": "stream",
     "text": [
      "d7f6d2d4-8ef3-49ee-bd41-57924c151545\n",
      "error: \n",
      "0 existing calculation records provided\n"
     ]
    },
    {
     "name": "stderr",
     "output_type": "stream",
     "text": [
      "100%|█████████████████████████████████████████████████████████████████████████████████████| 1/1 [00:00<00:00,  2.92it/s]"
     ]
    },
    {
     "name": "stdout",
     "output_type": "stream",
     "text": [
      "1 calculation combinations to check\n",
      "1 new records to prepare\n"
     ]
    },
    {
     "name": "stderr",
     "output_type": "stream",
     "text": [
      "\n",
      "preparing: 100%|##########################################################################| 1/1 [00:00<00:00, 19.44it/s]\n"
     ]
    },
    {
     "name": "stdout",
     "output_type": "stream",
     "text": [
      "c9dde857-2274-43e0-beb8-2a6dd9d33926\n",
      "error: \n",
      "0 existing calculation records provided\n"
     ]
    },
    {
     "name": "stderr",
     "output_type": "stream",
     "text": [
      "100%|█████████████████████████████████████████████████████████████████████████████████████| 1/1 [00:00<00:00,  3.43it/s]"
     ]
    },
    {
     "name": "stdout",
     "output_type": "stream",
     "text": [
      "1 calculation combinations to check\n",
      "1 new records to prepare\n"
     ]
    },
    {
     "name": "stderr",
     "output_type": "stream",
     "text": [
      "\n",
      "preparing: 100%|##########################################################################| 1/1 [00:00<00:00, 26.26it/s]\n"
     ]
    },
    {
     "name": "stdout",
     "output_type": "stream",
     "text": [
      "866b275c-bb1a-481d-911f-7795b81c29e3\n",
      "error: \n",
      "0 existing calculation records provided\n"
     ]
    },
    {
     "name": "stderr",
     "output_type": "stream",
     "text": [
      "100%|█████████████████████████████████████████████████████████████████████████████████████| 1/1 [00:00<00:00,  4.17it/s]"
     ]
    },
    {
     "name": "stdout",
     "output_type": "stream",
     "text": [
      "1 calculation combinations to check\n",
      "1 new records to prepare\n"
     ]
    },
    {
     "name": "stderr",
     "output_type": "stream",
     "text": [
      "\n",
      "preparing: 100%|##########################################################################| 1/1 [00:00<00:00, 33.90it/s]\n"
     ]
    },
    {
     "name": "stdout",
     "output_type": "stream",
     "text": [
      "7222543a-1852-486b-97ba-4b8efa8343f8\n",
      "error: \n",
      "0 existing calculation records provided\n"
     ]
    },
    {
     "name": "stderr",
     "output_type": "stream",
     "text": [
      "100%|█████████████████████████████████████████████████████████████████████████████████████| 1/1 [00:00<00:00,  3.01it/s]"
     ]
    },
    {
     "name": "stdout",
     "output_type": "stream",
     "text": [
      "1 calculation combinations to check\n",
      "1 new records to prepare\n"
     ]
    },
    {
     "name": "stderr",
     "output_type": "stream",
     "text": [
      "\n",
      "preparing: 100%|##########################################################################| 1/1 [00:00<00:00, 19.79it/s]\n"
     ]
    },
    {
     "name": "stdout",
     "output_type": "stream",
     "text": [
      "1ac2770f-c6f5-4bfa-8c1c-4a34b6d11e7a\n",
      "error: \n",
      "0 existing calculation records provided\n"
     ]
    },
    {
     "name": "stderr",
     "output_type": "stream",
     "text": [
      "100%|█████████████████████████████████████████████████████████████████████████████████████| 1/1 [00:00<00:00,  2.98it/s]"
     ]
    },
    {
     "name": "stdout",
     "output_type": "stream",
     "text": [
      "1 calculation combinations to check\n",
      "1 new records to prepare\n"
     ]
    },
    {
     "name": "stderr",
     "output_type": "stream",
     "text": [
      "\n",
      "preparing: 100%|##########################################################################| 1/1 [00:00<00:00, 27.43it/s]\n"
     ]
    },
    {
     "name": "stdout",
     "output_type": "stream",
     "text": [
      "fc6976f5-488f-4f0c-a972-29ebb2f93503\n",
      "error: \n",
      "0 existing calculation records provided\n"
     ]
    },
    {
     "name": "stderr",
     "output_type": "stream",
     "text": [
      "100%|█████████████████████████████████████████████████████████████████████████████████████| 1/1 [00:00<00:00,  4.08it/s]"
     ]
    },
    {
     "name": "stdout",
     "output_type": "stream",
     "text": [
      "1 calculation combinations to check\n",
      "1 new records to prepare\n"
     ]
    },
    {
     "name": "stderr",
     "output_type": "stream",
     "text": [
      "\n",
      "preparing: 100%|##########################################################################| 1/1 [00:00<00:00, 27.29it/s]\n"
     ]
    },
    {
     "name": "stdout",
     "output_type": "stream",
     "text": [
      "7f3669c5-a485-485f-bc15-3d4be4a62613\n",
      "error: \n",
      "0 existing calculation records provided\n"
     ]
    },
    {
     "name": "stderr",
     "output_type": "stream",
     "text": [
      "100%|█████████████████████████████████████████████████████████████████████████████████████| 1/1 [00:00<00:00,  4.20it/s]"
     ]
    },
    {
     "name": "stdout",
     "output_type": "stream",
     "text": [
      "1 calculation combinations to check\n",
      "1 new records to prepare\n"
     ]
    },
    {
     "name": "stderr",
     "output_type": "stream",
     "text": [
      "\n",
      "preparing: 100%|##########################################################################| 1/1 [00:00<00:00, 30.14it/s]\n"
     ]
    },
    {
     "name": "stdout",
     "output_type": "stream",
     "text": [
      "68105713-7476-423d-8693-f74019d197e1\n",
      "error: \n",
      "0 existing calculation records provided\n"
     ]
    },
    {
     "name": "stderr",
     "output_type": "stream",
     "text": [
      "100%|█████████████████████████████████████████████████████████████████████████████████████| 1/1 [00:00<00:00,  3.25it/s]"
     ]
    },
    {
     "name": "stdout",
     "output_type": "stream",
     "text": [
      "1 calculation combinations to check\n",
      "1 new records to prepare\n"
     ]
    },
    {
     "name": "stderr",
     "output_type": "stream",
     "text": [
      "\n",
      "preparing: 100%|##########################################################################| 1/1 [00:00<00:00, 20.48it/s]\n"
     ]
    },
    {
     "name": "stdout",
     "output_type": "stream",
     "text": [
      "96b0afa5-08dc-40b1-a6f9-52c69c853926\n",
      "error: \n",
      "0 existing calculation records provided\n"
     ]
    },
    {
     "name": "stderr",
     "output_type": "stream",
     "text": [
      "100%|█████████████████████████████████████████████████████████████████████████████████████| 1/1 [00:00<00:00,  4.26it/s]"
     ]
    },
    {
     "name": "stdout",
     "output_type": "stream",
     "text": [
      "1 calculation combinations to check\n",
      "1 new records to prepare\n"
     ]
    },
    {
     "name": "stderr",
     "output_type": "stream",
     "text": [
      "\n",
      "preparing: 100%|##########################################################################| 1/1 [00:00<00:00, 37.08it/s]\n"
     ]
    },
    {
     "name": "stdout",
     "output_type": "stream",
     "text": [
      "c2e8e3b1-6025-4c3c-a4ad-459f59bcb4e1\n",
      "error: \n",
      "0 existing calculation records provided\n"
     ]
    },
    {
     "name": "stderr",
     "output_type": "stream",
     "text": [
      "100%|█████████████████████████████████████████████████████████████████████████████████████| 1/1 [00:00<00:00,  4.18it/s]"
     ]
    },
    {
     "name": "stdout",
     "output_type": "stream",
     "text": [
      "1 calculation combinations to check\n",
      "1 new records to prepare\n"
     ]
    },
    {
     "name": "stderr",
     "output_type": "stream",
     "text": [
      "\n",
      "preparing: 100%|##########################################################################| 1/1 [00:00<00:00, 29.79it/s]\n"
     ]
    },
    {
     "name": "stdout",
     "output_type": "stream",
     "text": [
      "ab76554a-c4c3-4772-9d72-eb5986eac07f\n",
      "error: \n",
      "0 existing calculation records provided\n"
     ]
    },
    {
     "name": "stderr",
     "output_type": "stream",
     "text": [
      "100%|█████████████████████████████████████████████████████████████████████████████████████| 1/1 [00:00<00:00,  3.15it/s]"
     ]
    },
    {
     "name": "stdout",
     "output_type": "stream",
     "text": [
      "1 calculation combinations to check\n",
      "1 new records to prepare\n"
     ]
    },
    {
     "name": "stderr",
     "output_type": "stream",
     "text": [
      "\n",
      "preparing: 100%|##########################################################################| 1/1 [00:00<00:00, 19.47it/s]\n"
     ]
    },
    {
     "name": "stdout",
     "output_type": "stream",
     "text": [
      "d73c9c3e-7529-4602-86e2-33a946a76ae1\n",
      "error: \n",
      "0 existing calculation records provided\n"
     ]
    },
    {
     "name": "stderr",
     "output_type": "stream",
     "text": [
      "100%|█████████████████████████████████████████████████████████████████████████████████████| 1/1 [00:00<00:00,  3.56it/s]"
     ]
    },
    {
     "name": "stdout",
     "output_type": "stream",
     "text": [
      "1 calculation combinations to check\n",
      "1 new records to prepare\n"
     ]
    },
    {
     "name": "stderr",
     "output_type": "stream",
     "text": [
      "\n",
      "preparing: 100%|##########################################################################| 1/1 [00:00<00:00, 30.75it/s]\n"
     ]
    },
    {
     "name": "stdout",
     "output_type": "stream",
     "text": [
      "59a4358f-ecaa-4edd-a4a4-0c10ab385c67\n",
      "error: \n",
      "0 existing calculation records provided\n"
     ]
    },
    {
     "name": "stderr",
     "output_type": "stream",
     "text": [
      "100%|█████████████████████████████████████████████████████████████████████████████████████| 1/1 [00:00<00:00,  4.25it/s]"
     ]
    },
    {
     "name": "stdout",
     "output_type": "stream",
     "text": [
      "1 calculation combinations to check\n",
      "1 new records to prepare\n"
     ]
    },
    {
     "name": "stderr",
     "output_type": "stream",
     "text": [
      "\n",
      "preparing: 100%|##########################################################################| 1/1 [00:00<00:00, 34.74it/s]\n"
     ]
    },
    {
     "name": "stdout",
     "output_type": "stream",
     "text": [
      "f02d2cc9-89f9-44c6-bfa0-37b0a6daab38\n",
      "error: \n",
      "0 existing calculation records provided\n"
     ]
    },
    {
     "name": "stderr",
     "output_type": "stream",
     "text": [
      "100%|█████████████████████████████████████████████████████████████████████████████████████| 1/1 [00:00<00:00,  3.20it/s]"
     ]
    },
    {
     "name": "stdout",
     "output_type": "stream",
     "text": [
      "1 calculation combinations to check\n",
      "1 new records to prepare\n"
     ]
    },
    {
     "name": "stderr",
     "output_type": "stream",
     "text": [
      "\n",
      "preparing: 100%|##########################################################################| 1/1 [00:00<00:00, 21.25it/s]\n"
     ]
    },
    {
     "name": "stdout",
     "output_type": "stream",
     "text": [
      "f64eb1e0-07f8-4529-a679-b1b49fc1d8ac\n",
      "error: \n",
      "0 existing calculation records provided\n"
     ]
    },
    {
     "name": "stderr",
     "output_type": "stream",
     "text": [
      "100%|█████████████████████████████████████████████████████████████████████████████████████| 1/1 [00:00<00:00,  3.19it/s]"
     ]
    },
    {
     "name": "stdout",
     "output_type": "stream",
     "text": [
      "1 calculation combinations to check\n",
      "1 new records to prepare\n"
     ]
    },
    {
     "name": "stderr",
     "output_type": "stream",
     "text": [
      "\n",
      "preparing: 100%|##########################################################################| 1/1 [00:00<00:00, 20.47it/s]\n"
     ]
    },
    {
     "name": "stdout",
     "output_type": "stream",
     "text": [
      "47beb89c-6078-41a0-810b-cf0e3441687d\n",
      "error: \n",
      "0 existing calculation records provided\n"
     ]
    },
    {
     "name": "stderr",
     "output_type": "stream",
     "text": [
      "100%|█████████████████████████████████████████████████████████████████████████████████████| 1/1 [00:00<00:00,  3.64it/s]"
     ]
    },
    {
     "name": "stdout",
     "output_type": "stream",
     "text": [
      "1 calculation combinations to check\n",
      "1 new records to prepare\n"
     ]
    },
    {
     "name": "stderr",
     "output_type": "stream",
     "text": [
      "\n",
      "preparing: 100%|##########################################################################| 1/1 [00:00<00:00, 30.86it/s]\n"
     ]
    },
    {
     "name": "stdout",
     "output_type": "stream",
     "text": [
      "b3e4fe41-a5a6-40ec-886d-c7cd4a55c771\n",
      "error: \n",
      "0 existing calculation records provided\n"
     ]
    },
    {
     "name": "stderr",
     "output_type": "stream",
     "text": [
      "100%|█████████████████████████████████████████████████████████████████████████████████████| 1/1 [00:00<00:00,  4.09it/s]"
     ]
    },
    {
     "name": "stdout",
     "output_type": "stream",
     "text": [
      "1 calculation combinations to check\n",
      "1 new records to prepare\n"
     ]
    },
    {
     "name": "stderr",
     "output_type": "stream",
     "text": [
      "\n",
      "preparing: 100%|##########################################################################| 1/1 [00:00<00:00, 42.89it/s]\n"
     ]
    },
    {
     "name": "stdout",
     "output_type": "stream",
     "text": [
      "0940a968-501b-4e48-84c1-d8dd0c3ee35a\n",
      "error: \n",
      "0 existing calculation records provided\n"
     ]
    },
    {
     "name": "stderr",
     "output_type": "stream",
     "text": [
      "100%|█████████████████████████████████████████████████████████████████████████████████████| 1/1 [00:00<00:00,  2.99it/s]"
     ]
    },
    {
     "name": "stdout",
     "output_type": "stream",
     "text": [
      "1 calculation combinations to check\n",
      "1 new records to prepare\n"
     ]
    },
    {
     "name": "stderr",
     "output_type": "stream",
     "text": [
      "\n",
      "preparing: 100%|##########################################################################| 1/1 [00:00<00:00, 18.25it/s]\n"
     ]
    },
    {
     "name": "stdout",
     "output_type": "stream",
     "text": [
      "78bab263-0bfb-4eba-9b3e-49f7ee858a96\n",
      "error: \n",
      "0 existing calculation records provided\n"
     ]
    },
    {
     "name": "stderr",
     "output_type": "stream",
     "text": [
      "100%|█████████████████████████████████████████████████████████████████████████████████████| 1/1 [00:00<00:00,  3.16it/s]"
     ]
    },
    {
     "name": "stdout",
     "output_type": "stream",
     "text": [
      "1 calculation combinations to check\n",
      "1 new records to prepare\n"
     ]
    },
    {
     "name": "stderr",
     "output_type": "stream",
     "text": [
      "\n",
      "preparing: 100%|##########################################################################| 1/1 [00:00<00:00, 21.59it/s]\n"
     ]
    },
    {
     "name": "stdout",
     "output_type": "stream",
     "text": [
      "d5281427-f068-45b5-bea1-542facaa9515\n",
      "error: \n",
      "0 existing calculation records provided\n"
     ]
    },
    {
     "name": "stderr",
     "output_type": "stream",
     "text": [
      "100%|█████████████████████████████████████████████████████████████████████████████████████| 1/1 [00:00<00:00,  4.04it/s]"
     ]
    },
    {
     "name": "stdout",
     "output_type": "stream",
     "text": [
      "1 calculation combinations to check\n",
      "1 new records to prepare\n"
     ]
    },
    {
     "name": "stderr",
     "output_type": "stream",
     "text": [
      "\n",
      "preparing: 100%|##########################################################################| 1/1 [00:00<00:00, 33.92it/s]\n"
     ]
    },
    {
     "name": "stdout",
     "output_type": "stream",
     "text": [
      "8d973c6a-0250-480a-b84a-660172a26fe0\n",
      "error: \n",
      "0 existing calculation records provided\n"
     ]
    },
    {
     "name": "stderr",
     "output_type": "stream",
     "text": [
      "100%|█████████████████████████████████████████████████████████████████████████████████████| 1/1 [00:00<00:00,  3.04it/s]"
     ]
    },
    {
     "name": "stdout",
     "output_type": "stream",
     "text": [
      "1 calculation combinations to check\n",
      "1 new records to prepare\n"
     ]
    },
    {
     "name": "stderr",
     "output_type": "stream",
     "text": [
      "\n",
      "preparing: 100%|##########################################################################| 1/1 [00:00<00:00, 18.53it/s]\n"
     ]
    },
    {
     "name": "stdout",
     "output_type": "stream",
     "text": [
      "f731a6dd-c092-4460-8fd8-5fa3f7065d83\n",
      "error: \n",
      "0 existing calculation records provided\n"
     ]
    },
    {
     "name": "stderr",
     "output_type": "stream",
     "text": [
      "100%|█████████████████████████████████████████████████████████████████████████████████████| 1/1 [00:00<00:00,  3.85it/s]"
     ]
    },
    {
     "name": "stdout",
     "output_type": "stream",
     "text": [
      "1 calculation combinations to check\n",
      "1 new records to prepare\n"
     ]
    },
    {
     "name": "stderr",
     "output_type": "stream",
     "text": [
      "\n",
      "preparing: 100%|##########################################################################| 1/1 [00:00<00:00, 36.73it/s]\n"
     ]
    },
    {
     "name": "stdout",
     "output_type": "stream",
     "text": [
      "5828eb4e-d057-4ba4-a70f-7ffcdff26855\n",
      "error: \n",
      "0 existing calculation records provided\n"
     ]
    },
    {
     "name": "stderr",
     "output_type": "stream",
     "text": [
      "100%|█████████████████████████████████████████████████████████████████████████████████████| 1/1 [00:00<00:00,  4.26it/s]"
     ]
    },
    {
     "name": "stdout",
     "output_type": "stream",
     "text": [
      "1 calculation combinations to check\n",
      "1 new records to prepare\n"
     ]
    },
    {
     "name": "stderr",
     "output_type": "stream",
     "text": [
      "\n",
      "preparing: 100%|##########################################################################| 1/1 [00:00<00:00, 45.79it/s]\n"
     ]
    },
    {
     "name": "stdout",
     "output_type": "stream",
     "text": [
      "067646b5-8cd8-4b52-bf38-26e40cb6466d\n",
      "error: \n",
      "0 existing calculation records provided\n"
     ]
    },
    {
     "name": "stderr",
     "output_type": "stream",
     "text": [
      "100%|█████████████████████████████████████████████████████████████████████████████████████| 1/1 [00:00<00:00,  4.29it/s]"
     ]
    },
    {
     "name": "stdout",
     "output_type": "stream",
     "text": [
      "1 calculation combinations to check\n",
      "1 new records to prepare\n"
     ]
    },
    {
     "name": "stderr",
     "output_type": "stream",
     "text": [
      "\n",
      "preparing: 100%|##########################################################################| 1/1 [00:00<00:00, 38.48it/s]\n"
     ]
    },
    {
     "name": "stdout",
     "output_type": "stream",
     "text": [
      "6ccb8f97-e21c-48c9-9222-ccdd7660dc40\n",
      "error: \n",
      "0 existing calculation records provided\n"
     ]
    },
    {
     "name": "stderr",
     "output_type": "stream",
     "text": [
      "100%|█████████████████████████████████████████████████████████████████████████████████████| 1/1 [00:00<00:00,  4.08it/s]"
     ]
    },
    {
     "name": "stdout",
     "output_type": "stream",
     "text": [
      "1 calculation combinations to check\n",
      "1 new records to prepare\n"
     ]
    },
    {
     "name": "stderr",
     "output_type": "stream",
     "text": [
      "\n",
      "preparing: 100%|##########################################################################| 1/1 [00:00<00:00, 48.38it/s]\n"
     ]
    },
    {
     "name": "stdout",
     "output_type": "stream",
     "text": [
      "3213c6a1-c7be-4364-9a59-a71f75ab49ab\n",
      "error: \n",
      "0 existing calculation records provided\n"
     ]
    },
    {
     "name": "stderr",
     "output_type": "stream",
     "text": [
      "100%|█████████████████████████████████████████████████████████████████████████████████████| 1/1 [00:00<00:00,  4.04it/s]"
     ]
    },
    {
     "name": "stdout",
     "output_type": "stream",
     "text": [
      "1 calculation combinations to check\n",
      "1 new records to prepare\n"
     ]
    },
    {
     "name": "stderr",
     "output_type": "stream",
     "text": [
      "\n",
      "preparing: 100%|##########################################################################| 1/1 [00:00<00:00, 46.76it/s]\n"
     ]
    },
    {
     "name": "stdout",
     "output_type": "stream",
     "text": [
      "0f82b169-c0ad-4693-a3ab-ff4910f4e38c\n",
      "error: \n",
      "0 existing calculation records provided\n"
     ]
    },
    {
     "name": "stderr",
     "output_type": "stream",
     "text": [
      "100%|█████████████████████████████████████████████████████████████████████████████████████| 1/1 [00:00<00:00,  4.24it/s]"
     ]
    },
    {
     "name": "stdout",
     "output_type": "stream",
     "text": [
      "1 calculation combinations to check\n",
      "1 new records to prepare\n"
     ]
    },
    {
     "name": "stderr",
     "output_type": "stream",
     "text": [
      "\n",
      "preparing: 100%|##########################################################################| 1/1 [00:00<00:00, 32.67it/s]\n"
     ]
    },
    {
     "name": "stdout",
     "output_type": "stream",
     "text": [
      "00df874f-6365-4a93-8543-323a9835a447\n",
      "error: \n",
      "0 existing calculation records provided\n"
     ]
    },
    {
     "name": "stderr",
     "output_type": "stream",
     "text": [
      "100%|█████████████████████████████████████████████████████████████████████████████████████| 1/1 [00:00<00:00,  4.06it/s]"
     ]
    },
    {
     "name": "stdout",
     "output_type": "stream",
     "text": [
      "1 calculation combinations to check\n",
      "1 new records to prepare\n"
     ]
    },
    {
     "name": "stderr",
     "output_type": "stream",
     "text": [
      "\n",
      "preparing: 100%|##########################################################################| 1/1 [00:00<00:00, 46.44it/s]\n"
     ]
    },
    {
     "name": "stdout",
     "output_type": "stream",
     "text": [
      "bcddc4fe-4d4b-4eb8-a295-c29856221dd8\n",
      "error: \n",
      "0 existing calculation records provided\n"
     ]
    },
    {
     "name": "stderr",
     "output_type": "stream",
     "text": [
      "100%|█████████████████████████████████████████████████████████████████████████████████████| 1/1 [00:00<00:00,  4.32it/s]"
     ]
    },
    {
     "name": "stdout",
     "output_type": "stream",
     "text": [
      "1 calculation combinations to check\n",
      "1 new records to prepare\n"
     ]
    },
    {
     "name": "stderr",
     "output_type": "stream",
     "text": [
      "\n",
      "preparing: 100%|##########################################################################| 1/1 [00:00<00:00, 38.38it/s]\n"
     ]
    },
    {
     "name": "stdout",
     "output_type": "stream",
     "text": [
      "517f49a5-8dd7-4abf-8174-b5fbe0ba3c3c\n"
     ]
    }
   ],
   "source": [
    "for i in hcp_props.index[-2::-1]:\n",
    "    series = hcp_props.loc[i]\n",
    "\n",
    "    commander = MeltCommander(database,\n",
    "                              lammps_command, \n",
    "                              series.potential_LAMMPS_id,\n",
    "                              series.composition,\n",
    "                              'A3--Mg--hcp',\n",
    "                              min_temperature=min_temperature,\n",
    "                              max_temperature=max_temperature,\n",
    "                              verbose=False,\n",
    "                             )\n",
    "    alat = alat_mult * series.a\n",
    "    print(i, series.potential_LAMMPS_id)\n",
    "    commander.run(run_directory, alat, max_melts, max_runs)"
   ]
  },
  {
   "cell_type": "code",
   "execution_count": null,
   "id": "d4b07f35-1b9a-4a65-9287-7aa2dd7ec22f",
   "metadata": {},
   "outputs": [],
   "source": []
  }
 ],
 "metadata": {
  "kernelspec": {
   "display_name": "ipr",
   "language": "python",
   "name": "ipr"
  },
  "language_info": {
   "codemirror_mode": {
    "name": "ipython",
    "version": 3
   },
   "file_extension": ".py",
   "mimetype": "text/x-python",
   "name": "python",
   "nbconvert_exporter": "python",
   "pygments_lexer": "ipython3",
   "version": "3.11.11"
  }
 },
 "nbformat": 4,
 "nbformat_minor": 5
}
