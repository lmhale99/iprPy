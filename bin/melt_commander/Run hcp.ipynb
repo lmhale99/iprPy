{
 "cells": [
  {
   "cell_type": "markdown",
   "id": "03fb6613-22cc-47d6-b61c-16475621b1c3",
   "metadata": {},
   "source": [
    "# Run all hcp"
   ]
  },
  {
   "cell_type": "code",
   "execution_count": 1,
   "id": "be2c722b-e434-4085-bbcf-554620d56c1a",
   "metadata": {},
   "outputs": [],
   "source": [
    "import iprPy\n",
    "import atomman as am\n",
    "\n",
    "from MeltCommander import MeltCommander\n",
    "\n",
    "import pandas as pd"
   ]
  },
  {
   "cell_type": "markdown",
   "id": "4c7c4ca9-ed2b-4cd1-8db9-b264887aac48",
   "metadata": {},
   "source": [
    "Load hcp structure info"
   ]
  },
  {
   "cell_type": "code",
   "execution_count": 2,
   "id": "3eb1e772-dc98-46a9-aca6-eb8584145a64",
   "metadata": {},
   "outputs": [],
   "source": [
    "hcp_props = pd.read_csv('Melting_temperatures_hcp.csv')"
   ]
  },
  {
   "cell_type": "markdown",
   "id": "85ad437b-5480-46a1-a9f0-d8fec322ea13",
   "metadata": {},
   "source": [
    "Check for duplicate entries"
   ]
  },
  {
   "cell_type": "code",
   "execution_count": 3,
   "id": "f30c129b-b980-4ef0-80d4-208c4b173321",
   "metadata": {},
   "outputs": [],
   "source": [
    "for i in hcp_props.index[:-1]:\n",
    "    series0 = hcp_props.loc[i]\n",
    "    series1 = hcp_props.loc[i+1]\n",
    "    if ((series0.potential_LAMMPS_id == series1.potential_LAMMPS_id) &\n",
    "        (series0.composition == series1.composition)):\n",
    "        print(series0.to_dict())\n",
    "        print(series1.to_dict())\n",
    "        print()"
   ]
  },
  {
   "cell_type": "markdown",
   "id": "04404545-8259-4d98-9408-669f0cd4cab9",
   "metadata": {},
   "source": [
    "## Simulation settings"
   ]
  },
  {
   "cell_type": "code",
   "execution_count": 4,
   "id": "6d283cf6-eada-446d-bd92-3f80c783dae9",
   "metadata": {},
   "outputs": [],
   "source": [
    "database = 'master'\n",
    "lammps_command = '/home/lmh1/LAMMPS/2022-06-23/src/lmp_serial'\n",
    "run_directory = 'master_4'\n",
    "\n",
    "min_temperature = 50\n",
    "max_temperature = 9000\n",
    "alat_mult = 1.03\n",
    "max_melts = 10\n",
    "max_runs = 35"
   ]
  },
  {
   "cell_type": "code",
   "execution_count": 5,
   "id": "bd776daa-1059-4012-a87e-d2b509256887",
   "metadata": {},
   "outputs": [
    {
     "data": {
      "text/html": [
       "<div>\n",
       "<style scoped>\n",
       "    .dataframe tbody tr th:only-of-type {\n",
       "        vertical-align: middle;\n",
       "    }\n",
       "\n",
       "    .dataframe tbody tr th {\n",
       "        vertical-align: top;\n",
       "    }\n",
       "\n",
       "    .dataframe thead th {\n",
       "        text-align: right;\n",
       "    }\n",
       "</style>\n",
       "<table border=\"1\" class=\"dataframe\">\n",
       "  <thead>\n",
       "    <tr style=\"text-align: right;\">\n",
       "      <th></th>\n",
       "      <th>potential_LAMMPS_id</th>\n",
       "      <th>composition</th>\n",
       "      <th>a</th>\n",
       "      <th>Epot (eV/atom)</th>\n",
       "    </tr>\n",
       "  </thead>\n",
       "  <tbody>\n",
       "    <tr>\n",
       "      <th>0</th>\n",
       "      <td>1986--Foiles-S-M--Ag--LAMMPS--ipr1</td>\n",
       "      <td>Ag</td>\n",
       "      <td>2.892481</td>\n",
       "      <td>-2.849670</td>\n",
       "    </tr>\n",
       "    <tr>\n",
       "      <th>1</th>\n",
       "      <td>1986--Foiles-S-M--Ag-Au-Cu-Ni-Pd-Pt--LAMMPS--ipr1</td>\n",
       "      <td>Ag</td>\n",
       "      <td>2.892481</td>\n",
       "      <td>-2.849670</td>\n",
       "    </tr>\n",
       "    <tr>\n",
       "      <th>2</th>\n",
       "      <td>1986--Foiles-S-M--Ag-Au-Cu-Ni-Pd-Pt--LAMMPS--ipr1</td>\n",
       "      <td>Au</td>\n",
       "      <td>2.886388</td>\n",
       "      <td>-3.928946</td>\n",
       "    </tr>\n",
       "    <tr>\n",
       "      <th>3</th>\n",
       "      <td>1986--Foiles-S-M--Ag-Au-Cu-Ni-Pd-Pt--LAMMPS--ipr1</td>\n",
       "      <td>Cu</td>\n",
       "      <td>2.556979</td>\n",
       "      <td>-3.536928</td>\n",
       "    </tr>\n",
       "    <tr>\n",
       "      <th>4</th>\n",
       "      <td>1986--Foiles-S-M--Ag-Au-Cu-Ni-Pd-Pt--LAMMPS--ipr1</td>\n",
       "      <td>Ni</td>\n",
       "      <td>2.489294</td>\n",
       "      <td>-4.447602</td>\n",
       "    </tr>\n",
       "    <tr>\n",
       "      <th>5</th>\n",
       "      <td>1986--Foiles-S-M--Ag-Au-Cu-Ni-Pd-Pt--LAMMPS--ipr1</td>\n",
       "      <td>Pd</td>\n",
       "      <td>2.752135</td>\n",
       "      <td>-3.906982</td>\n",
       "    </tr>\n",
       "    <tr>\n",
       "      <th>6</th>\n",
       "      <td>1986--Foiles-S-M--Ag-Au-Cu-Ni-Pd-Pt--LAMMPS--ipr1</td>\n",
       "      <td>Pt</td>\n",
       "      <td>2.769028</td>\n",
       "      <td>-5.767002</td>\n",
       "    </tr>\n",
       "    <tr>\n",
       "      <th>7</th>\n",
       "      <td>1986--Foiles-S-M--Au--LAMMPS--ipr1</td>\n",
       "      <td>Au</td>\n",
       "      <td>2.886388</td>\n",
       "      <td>-3.928946</td>\n",
       "    </tr>\n",
       "    <tr>\n",
       "      <th>8</th>\n",
       "      <td>1986--Foiles-S-M--Cu--LAMMPS--ipr1</td>\n",
       "      <td>Cu</td>\n",
       "      <td>2.556979</td>\n",
       "      <td>-3.536928</td>\n",
       "    </tr>\n",
       "    <tr>\n",
       "      <th>9</th>\n",
       "      <td>1986--Foiles-S-M--Ni--LAMMPS--ipr1</td>\n",
       "      <td>Ni</td>\n",
       "      <td>2.489294</td>\n",
       "      <td>-4.447602</td>\n",
       "    </tr>\n",
       "    <tr>\n",
       "      <th>10</th>\n",
       "      <td>1986--Foiles-S-M--Pd--LAMMPS--ipr1</td>\n",
       "      <td>Pd</td>\n",
       "      <td>2.752135</td>\n",
       "      <td>-3.906982</td>\n",
       "    </tr>\n",
       "    <tr>\n",
       "      <th>11</th>\n",
       "      <td>1986--Foiles-S-M--Pt--LAMMPS--ipr1</td>\n",
       "      <td>Pt</td>\n",
       "      <td>2.769028</td>\n",
       "      <td>-5.767002</td>\n",
       "    </tr>\n",
       "    <tr>\n",
       "      <th>12</th>\n",
       "      <td>1987--Ackland-G-J--Au--LAMMPS--ipr1</td>\n",
       "      <td>Au</td>\n",
       "      <td>2.865460</td>\n",
       "      <td>-3.783518</td>\n",
       "    </tr>\n",
       "    <tr>\n",
       "      <th>13</th>\n",
       "      <td>1987--Ackland-G-J--Au--LAMMPS--ipr2</td>\n",
       "      <td>Au</td>\n",
       "      <td>2.865460</td>\n",
       "      <td>-3.783518</td>\n",
       "    </tr>\n",
       "    <tr>\n",
       "      <th>14</th>\n",
       "      <td>1987--Ackland-G-J--Mo--LAMMPS--ipr1</td>\n",
       "      <td>Mo</td>\n",
       "      <td>3.036581</td>\n",
       "      <td>-6.401780</td>\n",
       "    </tr>\n",
       "    <tr>\n",
       "      <th>15</th>\n",
       "      <td>1987--Ackland-G-J--Ni--LAMMPS--ipr1</td>\n",
       "      <td>Ni</td>\n",
       "      <td>2.489636</td>\n",
       "      <td>-4.454829</td>\n",
       "    </tr>\n",
       "  </tbody>\n",
       "</table>\n",
       "</div>"
      ],
      "text/plain": [
       "                                  potential_LAMMPS_id composition         a  \\\n",
       "0                  1986--Foiles-S-M--Ag--LAMMPS--ipr1          Ag  2.892481   \n",
       "1   1986--Foiles-S-M--Ag-Au-Cu-Ni-Pd-Pt--LAMMPS--ipr1          Ag  2.892481   \n",
       "2   1986--Foiles-S-M--Ag-Au-Cu-Ni-Pd-Pt--LAMMPS--ipr1          Au  2.886388   \n",
       "3   1986--Foiles-S-M--Ag-Au-Cu-Ni-Pd-Pt--LAMMPS--ipr1          Cu  2.556979   \n",
       "4   1986--Foiles-S-M--Ag-Au-Cu-Ni-Pd-Pt--LAMMPS--ipr1          Ni  2.489294   \n",
       "5   1986--Foiles-S-M--Ag-Au-Cu-Ni-Pd-Pt--LAMMPS--ipr1          Pd  2.752135   \n",
       "6   1986--Foiles-S-M--Ag-Au-Cu-Ni-Pd-Pt--LAMMPS--ipr1          Pt  2.769028   \n",
       "7                  1986--Foiles-S-M--Au--LAMMPS--ipr1          Au  2.886388   \n",
       "8                  1986--Foiles-S-M--Cu--LAMMPS--ipr1          Cu  2.556979   \n",
       "9                  1986--Foiles-S-M--Ni--LAMMPS--ipr1          Ni  2.489294   \n",
       "10                 1986--Foiles-S-M--Pd--LAMMPS--ipr1          Pd  2.752135   \n",
       "11                 1986--Foiles-S-M--Pt--LAMMPS--ipr1          Pt  2.769028   \n",
       "12                1987--Ackland-G-J--Au--LAMMPS--ipr1          Au  2.865460   \n",
       "13                1987--Ackland-G-J--Au--LAMMPS--ipr2          Au  2.865460   \n",
       "14                1987--Ackland-G-J--Mo--LAMMPS--ipr1          Mo  3.036581   \n",
       "15                1987--Ackland-G-J--Ni--LAMMPS--ipr1          Ni  2.489636   \n",
       "\n",
       "    Epot (eV/atom)  \n",
       "0        -2.849670  \n",
       "1        -2.849670  \n",
       "2        -3.928946  \n",
       "3        -3.536928  \n",
       "4        -4.447602  \n",
       "5        -3.906982  \n",
       "6        -5.767002  \n",
       "7        -3.928946  \n",
       "8        -3.536928  \n",
       "9        -4.447602  \n",
       "10       -3.906982  \n",
       "11       -5.767002  \n",
       "12       -3.783518  \n",
       "13       -3.783518  \n",
       "14       -6.401780  \n",
       "15       -4.454829  "
      ]
     },
     "execution_count": 5,
     "metadata": {},
     "output_type": "execute_result"
    }
   ],
   "source": [
    "hcp_props.loc[:15]"
   ]
  },
  {
   "cell_type": "markdown",
   "id": "bd9ac4da-2fc5-4248-ad5e-2fab8684bae6",
   "metadata": {},
   "source": [
    "## Run loop"
   ]
  },
  {
   "cell_type": "code",
   "execution_count": null,
   "id": "3b9591ae-5b71-4e66-a096-c7fb19d175b3",
   "metadata": {},
   "outputs": [
    {
     "name": "stdout",
     "output_type": "stream",
     "text": [
      "35 2002--Mishin-Y--Ni-Al--LAMMPS--ipr1\n",
      "36 2003--Han-S--V--LAMMPS--ipr1\n",
      "4 existing calculation records provided\n"
     ]
    },
    {
     "name": "stderr",
     "output_type": "stream",
     "text": [
      "100%|█████████████████████████████████████████████████████████████████████████████████████| 1/1 [00:00<00:00,  5.12it/s]"
     ]
    },
    {
     "name": "stdout",
     "output_type": "stream",
     "text": [
      "1 calculation combinations to check\n"
     ]
    },
    {
     "name": "stderr",
     "output_type": "stream",
     "text": [
      "\n"
     ]
    },
    {
     "name": "stdout",
     "output_type": "stream",
     "text": [
      "1 new records to prepare\n"
     ]
    },
    {
     "name": "stderr",
     "output_type": "stream",
     "text": [
      "/home/lmh1/Python-packages/atomman/atomman/tools/duplicates_allclose.py:217: FutureWarning: Downcasting object dtype arrays on .fillna, .ffill, .bfill is deprecated and will change in a future version. Call result.infer_objects(copy=False) instead. To opt-in to the future behavior, set `pd.set_option('future.no_silent_downcasting', True)`\n",
      "  dataframe.assign(duplicates=func(dataframe)).duplicates.fillna(False).rename()\n",
      "preparing: 100%|##########################################################################| 1/1 [00:00<00:00, 89.81it/s]\n"
     ]
    },
    {
     "name": "stdout",
     "output_type": "stream",
     "text": [
      "6337f212-d21f-4100-a564-6da8a79a7d11\n",
      "sim calculated successfully\n",
      "\n",
      "1168.750 0.334 1177.918\n",
      "4 existing calculation records provided\n"
     ]
    },
    {
     "name": "stderr",
     "output_type": "stream",
     "text": [
      "100%|█████████████████████████████████████████████████████████████████████████████████████| 1/1 [00:00<00:00,  5.36it/s]"
     ]
    },
    {
     "name": "stdout",
     "output_type": "stream",
     "text": [
      "1 calculation combinations to check\n",
      "1 new records to prepare\n"
     ]
    },
    {
     "name": "stderr",
     "output_type": "stream",
     "text": [
      "\n",
      "/home/lmh1/Python-packages/atomman/atomman/tools/duplicates_allclose.py:217: FutureWarning: Downcasting object dtype arrays on .fillna, .ffill, .bfill is deprecated and will change in a future version. Call result.infer_objects(copy=False) instead. To opt-in to the future behavior, set `pd.set_option('future.no_silent_downcasting', True)`\n",
      "  dataframe.assign(duplicates=func(dataframe)).duplicates.fillna(False).rename()\n",
      "preparing: 100%|##########################################################################| 1/1 [00:00<00:00, 46.42it/s]\n"
     ]
    },
    {
     "name": "stdout",
     "output_type": "stream",
     "text": [
      "d4995fd5-2a22-4b38-9162-09dae4c2299a\n",
      "sim calculated successfully\n",
      "\n",
      "609.375 0.4052 611.477\n",
      "4 existing calculation records provided\n"
     ]
    },
    {
     "name": "stderr",
     "output_type": "stream",
     "text": [
      "100%|█████████████████████████████████████████████████████████████████████████████████████| 1/1 [00:00<00:00,  5.01it/s]\n"
     ]
    },
    {
     "name": "stdout",
     "output_type": "stream",
     "text": [
      "1 calculation combinations to check\n",
      "1 new records to prepare\n"
     ]
    },
    {
     "name": "stderr",
     "output_type": "stream",
     "text": [
      "/home/lmh1/Python-packages/atomman/atomman/tools/duplicates_allclose.py:217: FutureWarning: Downcasting object dtype arrays on .fillna, .ffill, .bfill is deprecated and will change in a future version. Call result.infer_objects(copy=False) instead. To opt-in to the future behavior, set `pd.set_option('future.no_silent_downcasting', True)`\n",
      "  dataframe.assign(duplicates=func(dataframe)).duplicates.fillna(False).rename()\n",
      "preparing: 100%|##########################################################################| 1/1 [00:00<00:00, 62.54it/s]\n"
     ]
    },
    {
     "name": "stdout",
     "output_type": "stream",
     "text": [
      "f84c64ab-aa8a-4ebf-9566-e341ba664008\n",
      "sim calculated successfully\n",
      "\n",
      "609.375 0.4092 607.654\n",
      "4 existing calculation records provided\n"
     ]
    },
    {
     "name": "stderr",
     "output_type": "stream",
     "text": [
      "100%|█████████████████████████████████████████████████████████████████████████████████████| 1/1 [00:00<00:00,  5.18it/s]"
     ]
    },
    {
     "name": "stdout",
     "output_type": "stream",
     "text": [
      "1 calculation combinations to check\n",
      "1 new records to prepare\n"
     ]
    },
    {
     "name": "stderr",
     "output_type": "stream",
     "text": [
      "\n",
      "/home/lmh1/Python-packages/atomman/atomman/tools/duplicates_allclose.py:217: FutureWarning: Downcasting object dtype arrays on .fillna, .ffill, .bfill is deprecated and will change in a future version. Call result.infer_objects(copy=False) instead. To opt-in to the future behavior, set `pd.set_option('future.no_silent_downcasting', True)`\n",
      "  dataframe.assign(duplicates=func(dataframe)).duplicates.fillna(False).rename()\n",
      "preparing: 100%|##########################################################################| 1/1 [00:00<00:00, 82.50it/s]\n"
     ]
    },
    {
     "name": "stdout",
     "output_type": "stream",
     "text": [
      "314393db-d0de-42c6-b873-2063a38b7aeb\n",
      "sim calculated successfully\n",
      "\n",
      "609.375 0.4133 606.888\n",
      "4 existing calculation records provided\n"
     ]
    },
    {
     "name": "stderr",
     "output_type": "stream",
     "text": [
      "100%|█████████████████████████████████████████████████████████████████████████████████████| 1/1 [00:00<00:00,  5.03it/s]"
     ]
    },
    {
     "name": "stdout",
     "output_type": "stream",
     "text": [
      "1 calculation combinations to check\n"
     ]
    },
    {
     "name": "stderr",
     "output_type": "stream",
     "text": [
      "\n"
     ]
    },
    {
     "name": "stdout",
     "output_type": "stream",
     "text": [
      "1 new records to prepare\n"
     ]
    },
    {
     "name": "stderr",
     "output_type": "stream",
     "text": [
      "/home/lmh1/Python-packages/atomman/atomman/tools/duplicates_allclose.py:217: FutureWarning: Downcasting object dtype arrays on .fillna, .ffill, .bfill is deprecated and will change in a future version. Call result.infer_objects(copy=False) instead. To opt-in to the future behavior, set `pd.set_option('future.no_silent_downcasting', True)`\n",
      "  dataframe.assign(duplicates=func(dataframe)).duplicates.fillna(False).rename()\n",
      "preparing: 100%|##########################################################################| 1/1 [00:00<00:00, 71.27it/s]\n"
     ]
    },
    {
     "name": "stdout",
     "output_type": "stream",
     "text": [
      "6714ebf0-97bf-4900-93ac-c34317817864\n",
      "sim calculated successfully\n",
      "\n",
      "609.375 0.4014 606.990\n",
      "4 existing calculation records provided\n"
     ]
    },
    {
     "name": "stderr",
     "output_type": "stream",
     "text": [
      "100%|█████████████████████████████████████████████████████████████████████████████████████| 1/1 [00:00<00:00,  4.38it/s]"
     ]
    },
    {
     "name": "stdout",
     "output_type": "stream",
     "text": [
      "1 calculation combinations to check\n",
      "1 new records to prepare\n"
     ]
    },
    {
     "name": "stderr",
     "output_type": "stream",
     "text": [
      "\n",
      "/home/lmh1/Python-packages/atomman/atomman/tools/duplicates_allclose.py:217: FutureWarning: Downcasting object dtype arrays on .fillna, .ffill, .bfill is deprecated and will change in a future version. Call result.infer_objects(copy=False) instead. To opt-in to the future behavior, set `pd.set_option('future.no_silent_downcasting', True)`\n",
      "  dataframe.assign(duplicates=func(dataframe)).duplicates.fillna(False).rename()\n",
      "preparing: 100%|##########################################################################| 1/1 [00:00<00:00, 41.33it/s]\n"
     ]
    },
    {
     "name": "stdout",
     "output_type": "stream",
     "text": [
      "356a1c13-d52c-4b15-95e3-0c4e2d864d01\n",
      "sim calculated successfully\n",
      "\n",
      "609.375 0.4119 612.804\n",
      "4 existing calculation records provided\n"
     ]
    },
    {
     "name": "stderr",
     "output_type": "stream",
     "text": [
      "100%|█████████████████████████████████████████████████████████████████████████████████████| 1/1 [00:00<00:00,  2.18it/s]"
     ]
    },
    {
     "name": "stdout",
     "output_type": "stream",
     "text": [
      "1 calculation combinations to check\n",
      "1 new records to prepare\n"
     ]
    },
    {
     "name": "stderr",
     "output_type": "stream",
     "text": [
      "\n",
      "/home/lmh1/Python-packages/atomman/atomman/tools/duplicates_allclose.py:217: FutureWarning: Downcasting object dtype arrays on .fillna, .ffill, .bfill is deprecated and will change in a future version. Call result.infer_objects(copy=False) instead. To opt-in to the future behavior, set `pd.set_option('future.no_silent_downcasting', True)`\n",
      "  dataframe.assign(duplicates=func(dataframe)).duplicates.fillna(False).rename()\n",
      "preparing: 100%|##########################################################################| 1/1 [00:00<00:00, 64.46it/s]\n"
     ]
    },
    {
     "name": "stdout",
     "output_type": "stream",
     "text": [
      "589d9af0-eb27-4357-9c21-b5fb732faa15\n",
      "sim calculated successfully\n",
      "\n",
      "609.375 0.4084 614.128\n",
      "4 existing calculation records provided\n"
     ]
    },
    {
     "name": "stderr",
     "output_type": "stream",
     "text": [
      "100%|█████████████████████████████████████████████████████████████████████████████████████| 1/1 [00:00<00:00,  2.42it/s]"
     ]
    },
    {
     "name": "stdout",
     "output_type": "stream",
     "text": [
      "1 calculation combinations to check\n",
      "1 new records to prepare\n"
     ]
    },
    {
     "name": "stderr",
     "output_type": "stream",
     "text": [
      "\n",
      "/home/lmh1/Python-packages/atomman/atomman/tools/duplicates_allclose.py:217: FutureWarning: Downcasting object dtype arrays on .fillna, .ffill, .bfill is deprecated and will change in a future version. Call result.infer_objects(copy=False) instead. To opt-in to the future behavior, set `pd.set_option('future.no_silent_downcasting', True)`\n",
      "  dataframe.assign(duplicates=func(dataframe)).duplicates.fillna(False).rename()\n",
      "preparing: 100%|##########################################################################| 1/1 [00:00<00:00, 68.25it/s]\n"
     ]
    },
    {
     "name": "stdout",
     "output_type": "stream",
     "text": [
      "d3ac9c2c-fd83-4c4f-9489-4c0c63e91e48\n",
      "sim calculated successfully\n",
      "\n",
      "609.375 0.4116 609.680\n",
      "37 2003--Han-S--W--LAMMPS--ipr1\n",
      "0 existing calculation records provided\n"
     ]
    },
    {
     "name": "stderr",
     "output_type": "stream",
     "text": [
      "100%|█████████████████████████████████████████████████████████████████████████████████████| 1/1 [00:00<00:00,  2.47it/s]"
     ]
    },
    {
     "name": "stdout",
     "output_type": "stream",
     "text": [
      "1 calculation combinations to check\n",
      "1 new records to prepare\n"
     ]
    },
    {
     "name": "stderr",
     "output_type": "stream",
     "text": [
      "\n",
      "preparing: 100%|##########################################################################| 1/1 [00:00<00:00, 70.57it/s]\n"
     ]
    },
    {
     "name": "stdout",
     "output_type": "stream",
     "text": [
      "be7a2a56-35ff-433f-a554-f2bd32230128\n",
      "sim calculated successfully\n",
      "\n",
      "4525.000 0.6932 4628.607\n",
      "0 existing calculation records provided\n"
     ]
    },
    {
     "name": "stderr",
     "output_type": "stream",
     "text": [
      "100%|█████████████████████████████████████████████████████████████████████████████████████| 1/1 [00:00<00:00,  4.03it/s]"
     ]
    },
    {
     "name": "stdout",
     "output_type": "stream",
     "text": [
      "1 calculation combinations to check\n",
      "1 new records to prepare\n"
     ]
    },
    {
     "name": "stderr",
     "output_type": "stream",
     "text": [
      "\n",
      "preparing: 100%|##########################################################################| 1/1 [00:00<00:00, 67.46it/s]\n"
     ]
    },
    {
     "name": "stdout",
     "output_type": "stream",
     "text": [
      "fca41b90-9cd6-4359-94a1-16adc787cae7\n",
      "sim calculated successfully\n",
      "\n",
      "6762.500 0.000631 6490.269\n",
      "0 existing calculation records provided\n"
     ]
    },
    {
     "name": "stderr",
     "output_type": "stream",
     "text": [
      "100%|█████████████████████████████████████████████████████████████████████████████████████| 1/1 [00:00<00:00,  4.43it/s]"
     ]
    },
    {
     "name": "stdout",
     "output_type": "stream",
     "text": [
      "1 calculation combinations to check\n",
      "1 new records to prepare\n"
     ]
    },
    {
     "name": "stderr",
     "output_type": "stream",
     "text": [
      "\n",
      "preparing: 100%|##########################################################################| 1/1 [00:00<00:00, 84.59it/s]\n"
     ]
    },
    {
     "name": "stdout",
     "output_type": "stream",
     "text": [
      "bd624364-bd43-4dbd-a8c7-0573a9b9c811\n",
      "sim calculated successfully\n",
      "\n",
      "3406.250 0.9941 3401.113\n",
      "0 existing calculation records provided\n"
     ]
    },
    {
     "name": "stderr",
     "output_type": "stream",
     "text": [
      "100%|█████████████████████████████████████████████████████████████████████████████████████| 1/1 [00:00<00:00,  2.63it/s]"
     ]
    },
    {
     "name": "stdout",
     "output_type": "stream",
     "text": [
      "1 calculation combinations to check\n",
      "1 new records to prepare\n"
     ]
    },
    {
     "name": "stderr",
     "output_type": "stream",
     "text": [
      "\n",
      "preparing: 100%|##########################################################################| 1/1 [00:00<00:00, 61.70it/s]\n"
     ]
    },
    {
     "name": "stdout",
     "output_type": "stream",
     "text": [
      "1b8098e3-71d7-4e1f-b46e-27372df12a2e\n",
      "sim calculated successfully\n",
      "\n",
      "5084.375 0.2368 4788.689\n",
      "0 existing calculation records provided\n"
     ]
    },
    {
     "name": "stderr",
     "output_type": "stream",
     "text": [
      "100%|█████████████████████████████████████████████████████████████████████████████████████| 1/1 [00:00<00:00,  2.79it/s]"
     ]
    },
    {
     "name": "stdout",
     "output_type": "stream",
     "text": [
      "1 calculation combinations to check\n",
      "1 new records to prepare\n"
     ]
    },
    {
     "name": "stderr",
     "output_type": "stream",
     "text": [
      "\n",
      "preparing: 100%|##########################################################################| 1/1 [00:00<00:00, 57.47it/s]\n"
     ]
    },
    {
     "name": "stdout",
     "output_type": "stream",
     "text": [
      "ea536ee6-3705-4085-8f74-1bba08bef3fd\n",
      "sim calculated successfully\n",
      "\n",
      "4245.312 0.9738 4239.660\n",
      "0 existing calculation records provided\n"
     ]
    },
    {
     "name": "stderr",
     "output_type": "stream",
     "text": [
      "100%|█████████████████████████████████████████████████████████████████████████████████████| 1/1 [00:00<00:00,  4.31it/s]"
     ]
    },
    {
     "name": "stdout",
     "output_type": "stream",
     "text": [
      "1 calculation combinations to check\n",
      "1 new records to prepare\n"
     ]
    },
    {
     "name": "stderr",
     "output_type": "stream",
     "text": [
      "\n",
      "preparing: 100%|##########################################################################| 1/1 [00:00<00:00, 65.09it/s]\n"
     ]
    },
    {
     "name": "stdout",
     "output_type": "stream",
     "text": [
      "bc8383f4-b973-4309-ac8d-f402b38afc8b\n",
      "sim calculated successfully\n",
      "\n",
      "4664.844 0.5609 4703.038\n",
      "0 existing calculation records provided\n"
     ]
    },
    {
     "name": "stderr",
     "output_type": "stream",
     "text": [
      "100%|█████████████████████████████████████████████████████████████████████████████████████| 1/1 [00:00<00:00,  2.66it/s]"
     ]
    },
    {
     "name": "stdout",
     "output_type": "stream",
     "text": [
      "1 calculation combinations to check\n",
      "1 new records to prepare\n"
     ]
    },
    {
     "name": "stderr",
     "output_type": "stream",
     "text": [
      "\n",
      "preparing: 100%|##########################################################################| 1/1 [00:00<00:00, 46.51it/s]\n"
     ]
    },
    {
     "name": "stdout",
     "output_type": "stream",
     "text": [
      "9bd8c1ef-6065-44a3-85f6-b045018c3610\n",
      "sim calculated successfully\n",
      "\n",
      "4664.844 0.5496 4674.693\n",
      "0 existing calculation records provided\n"
     ]
    },
    {
     "name": "stderr",
     "output_type": "stream",
     "text": [
      "100%|█████████████████████████████████████████████████████████████████████████████████████| 1/1 [00:00<00:00,  3.02it/s]"
     ]
    },
    {
     "name": "stdout",
     "output_type": "stream",
     "text": [
      "1 calculation combinations to check\n",
      "1 new records to prepare\n"
     ]
    },
    {
     "name": "stderr",
     "output_type": "stream",
     "text": [
      "\n",
      "preparing: 100%|##########################################################################| 1/1 [00:00<00:00, 59.61it/s]\n"
     ]
    },
    {
     "name": "stdout",
     "output_type": "stream",
     "text": [
      "6dc436b2-eee2-4ca2-9199-a08368d66bdb\n",
      "sim calculated successfully\n",
      "\n",
      "4664.844 0.5281 4685.689\n",
      "0 existing calculation records provided\n"
     ]
    },
    {
     "name": "stderr",
     "output_type": "stream",
     "text": [
      "100%|█████████████████████████████████████████████████████████████████████████████████████| 1/1 [00:00<00:00,  2.76it/s]"
     ]
    },
    {
     "name": "stdout",
     "output_type": "stream",
     "text": [
      "1 calculation combinations to check\n",
      "1 new records to prepare\n"
     ]
    },
    {
     "name": "stderr",
     "output_type": "stream",
     "text": [
      "\n",
      "preparing: 100%|##########################################################################| 1/1 [00:00<00:00, 61.16it/s]\n"
     ]
    },
    {
     "name": "stdout",
     "output_type": "stream",
     "text": [
      "e23edab2-ab39-4e48-9342-888a4b18aceb\n",
      "sim calculated successfully\n",
      "\n",
      "4664.844 0.5639 4706.935\n",
      "0 existing calculation records provided\n"
     ]
    },
    {
     "name": "stderr",
     "output_type": "stream",
     "text": [
      "100%|█████████████████████████████████████████████████████████████████████████████████████| 1/1 [00:00<00:00,  2.59it/s]"
     ]
    },
    {
     "name": "stdout",
     "output_type": "stream",
     "text": [
      "1 calculation combinations to check\n",
      "1 new records to prepare\n"
     ]
    },
    {
     "name": "stderr",
     "output_type": "stream",
     "text": [
      "\n",
      "preparing: 100%|##########################################################################| 1/1 [00:00<00:00, 62.89it/s]\n"
     ]
    },
    {
     "name": "stdout",
     "output_type": "stream",
     "text": [
      "b7751c45-a265-435d-bf81-56cc5dbd3d79\n",
      "sim calculated successfully\n",
      "\n",
      "4664.844 0.5974 4734.101\n",
      "0 existing calculation records provided\n"
     ]
    },
    {
     "name": "stderr",
     "output_type": "stream",
     "text": [
      "100%|█████████████████████████████████████████████████████████████████████████████████████| 1/1 [00:00<00:00,  3.95it/s]"
     ]
    },
    {
     "name": "stdout",
     "output_type": "stream",
     "text": [
      "1 calculation combinations to check\n",
      "1 new records to prepare\n"
     ]
    },
    {
     "name": "stderr",
     "output_type": "stream",
     "text": [
      "\n",
      "preparing: 100%|##########################################################################| 1/1 [00:00<00:00, 62.94it/s]\n"
     ]
    },
    {
     "name": "stdout",
     "output_type": "stream",
     "text": [
      "9753f9bf-cdb6-46a1-b9f1-ca2e7510e408\n",
      "sim calculated successfully\n",
      "\n",
      "4664.844 0.5667 4695.704\n",
      "0 existing calculation records provided\n"
     ]
    },
    {
     "name": "stderr",
     "output_type": "stream",
     "text": [
      "100%|█████████████████████████████████████████████████████████████████████████████████████| 1/1 [00:00<00:00,  2.46it/s]"
     ]
    },
    {
     "name": "stdout",
     "output_type": "stream",
     "text": [
      "1 calculation combinations to check\n",
      "1 new records to prepare\n"
     ]
    },
    {
     "name": "stderr",
     "output_type": "stream",
     "text": [
      "\n",
      "preparing: 100%|##########################################################################| 1/1 [00:00<00:00, 71.86it/s]\n"
     ]
    },
    {
     "name": "stdout",
     "output_type": "stream",
     "text": [
      "fd2524fb-1d73-47ce-95d5-da4f90f47991\n",
      "sim calculated successfully\n",
      "\n",
      "4664.844 0.5779 4697.698\n",
      "0 existing calculation records provided\n"
     ]
    },
    {
     "name": "stderr",
     "output_type": "stream",
     "text": [
      "100%|█████████████████████████████████████████████████████████████████████████████████████| 1/1 [00:00<00:00,  2.75it/s]"
     ]
    },
    {
     "name": "stdout",
     "output_type": "stream",
     "text": [
      "1 calculation combinations to check\n",
      "1 new records to prepare\n"
     ]
    },
    {
     "name": "stderr",
     "output_type": "stream",
     "text": [
      "\n",
      "preparing: 100%|##########################################################################| 1/1 [00:00<00:00, 58.16it/s]\n"
     ]
    },
    {
     "name": "stdout",
     "output_type": "stream",
     "text": [
      "23b8e345-aced-4cae-badf-c385f3e614d6\n",
      "sim calculated successfully\n",
      "\n",
      "4664.844 0.5477 4689.744\n",
      "0 existing calculation records provided\n"
     ]
    },
    {
     "name": "stderr",
     "output_type": "stream",
     "text": [
      "100%|█████████████████████████████████████████████████████████████████████████████████████| 1/1 [00:00<00:00,  2.44it/s]"
     ]
    },
    {
     "name": "stdout",
     "output_type": "stream",
     "text": [
      "1 calculation combinations to check\n",
      "1 new records to prepare\n"
     ]
    },
    {
     "name": "stderr",
     "output_type": "stream",
     "text": [
      "\n",
      "preparing: 100%|##########################################################################| 1/1 [00:00<00:00, 54.32it/s]\n"
     ]
    },
    {
     "name": "stdout",
     "output_type": "stream",
     "text": [
      "3ffe0237-2a76-4cb5-93c5-3fecd1e3323a\n",
      "sim calculated successfully\n",
      "\n",
      "4664.844 0.617 4743.496\n",
      "38 2003--Hoyt-J-J--Cu-Pb--LAMMPS--ipr1\n",
      "0 existing calculation records provided\n"
     ]
    },
    {
     "name": "stderr",
     "output_type": "stream",
     "text": [
      "100%|█████████████████████████████████████████████████████████████████████████████████████| 1/1 [00:00<00:00,  3.94it/s]"
     ]
    },
    {
     "name": "stdout",
     "output_type": "stream",
     "text": [
      "1 calculation combinations to check\n",
      "1 new records to prepare\n"
     ]
    },
    {
     "name": "stderr",
     "output_type": "stream",
     "text": [
      "\n",
      "preparing: 100%|##########################################################################| 1/1 [00:00<00:00, 41.55it/s]\n"
     ]
    },
    {
     "name": "stdout",
     "output_type": "stream",
     "text": [
      "a2df5cca-111a-4ff1-b8a0-904aad337a7a\n",
      "sim calculated successfully\n",
      "\n",
      "4525.000 0.007727 4361.015\n",
      "0 existing calculation records provided\n"
     ]
    },
    {
     "name": "stderr",
     "output_type": "stream",
     "text": [
      "100%|█████████████████████████████████████████████████████████████████████████████████████| 1/1 [00:00<00:00,  2.38it/s]"
     ]
    },
    {
     "name": "stdout",
     "output_type": "stream",
     "text": [
      "1 calculation combinations to check\n",
      "1 new records to prepare\n"
     ]
    },
    {
     "name": "stderr",
     "output_type": "stream",
     "text": [
      "\n",
      "preparing: 100%|##########################################################################| 1/1 [00:00<00:00, 92.83it/s]\n"
     ]
    },
    {
     "name": "stdout",
     "output_type": "stream",
     "text": [
      "b8a01539-a603-491c-9226-9cc2eb3078c3\n",
      "sim calculated successfully\n",
      "\n",
      "2287.500 0.000269 2273.017\n",
      "0 existing calculation records provided\n"
     ]
    },
    {
     "name": "stderr",
     "output_type": "stream",
     "text": [
      "100%|█████████████████████████████████████████████████████████████████████████████████████| 1/1 [00:00<00:00,  4.21it/s]"
     ]
    },
    {
     "name": "stdout",
     "output_type": "stream",
     "text": [
      "1 calculation combinations to check\n",
      "1 new records to prepare\n"
     ]
    },
    {
     "name": "stderr",
     "output_type": "stream",
     "text": [
      "\n",
      "preparing: 100%|##########################################################################| 1/1 [00:00<00:00, 42.87it/s]\n"
     ]
    },
    {
     "name": "stdout",
     "output_type": "stream",
     "text": [
      "339f4325-d336-4b62-a0a8-6ec8075e5665\n",
      "sim calculated successfully\n",
      "\n",
      "1168.750 0.7111 1283.330\n",
      "0 existing calculation records provided\n"
     ]
    },
    {
     "name": "stderr",
     "output_type": "stream",
     "text": [
      "100%|█████████████████████████████████████████████████████████████████████████████████████| 1/1 [00:00<00:00,  2.58it/s]"
     ]
    },
    {
     "name": "stdout",
     "output_type": "stream",
     "text": [
      "1 calculation combinations to check\n",
      "1 new records to prepare\n"
     ]
    },
    {
     "name": "stderr",
     "output_type": "stream",
     "text": [
      "\n",
      "preparing: 100%|##########################################################################| 1/1 [00:00<00:00, 92.68it/s]\n"
     ]
    },
    {
     "name": "stdout",
     "output_type": "stream",
     "text": [
      "a3bbc752-4236-4dec-92bc-9fafebbf1fc9\n",
      "sim calculated successfully\n",
      "\n",
      "1728.125 0.001148 1678.355\n",
      "0 existing calculation records provided\n"
     ]
    },
    {
     "name": "stderr",
     "output_type": "stream",
     "text": [
      "100%|█████████████████████████████████████████████████████████████████████████████████████| 1/1 [00:00<00:00,  2.48it/s]"
     ]
    },
    {
     "name": "stdout",
     "output_type": "stream",
     "text": [
      "1 calculation combinations to check\n",
      "1 new records to prepare\n"
     ]
    },
    {
     "name": "stderr",
     "output_type": "stream",
     "text": [
      "\n",
      "preparing: 100%|##########################################################################| 1/1 [00:00<00:00, 84.17it/s]\n"
     ]
    },
    {
     "name": "stdout",
     "output_type": "stream",
     "text": [
      "b6633bb1-b0b6-4478-89ff-e05628196cb6\n",
      "sim calculated successfully\n",
      "\n",
      "889.062 0.997 888.662\n",
      "0 existing calculation records provided\n"
     ]
    },
    {
     "name": "stderr",
     "output_type": "stream",
     "text": [
      "100%|█████████████████████████████████████████████████████████████████████████████████████| 1/1 [00:00<00:00,  4.25it/s]"
     ]
    },
    {
     "name": "stdout",
     "output_type": "stream",
     "text": [
      "1 calculation combinations to check\n",
      "1 new records to prepare\n"
     ]
    },
    {
     "name": "stderr",
     "output_type": "stream",
     "text": [
      "\n",
      "preparing: 100%|##########################################################################| 1/1 [00:00<00:00, 73.89it/s]\n"
     ]
    },
    {
     "name": "stdout",
     "output_type": "stream",
     "text": [
      "7a669628-4a8d-46d3-b7e6-22a6a6c7de57\n",
      "sim calculated successfully\n",
      "\n",
      "1308.594 0.4395 1285.943\n",
      "0 existing calculation records provided\n"
     ]
    },
    {
     "name": "stderr",
     "output_type": "stream",
     "text": [
      "100%|█████████████████████████████████████████████████████████████████████████████████████| 1/1 [00:00<00:00,  2.41it/s]"
     ]
    },
    {
     "name": "stdout",
     "output_type": "stream",
     "text": [
      "1 calculation combinations to check\n",
      "1 new records to prepare\n"
     ]
    },
    {
     "name": "stderr",
     "output_type": "stream",
     "text": [
      "\n",
      "preparing: 100%|##########################################################################| 1/1 [00:00<00:00, 77.16it/s]\n"
     ]
    },
    {
     "name": "stdout",
     "output_type": "stream",
     "text": [
      "49cb1b5b-2062-4829-96c8-74d0883755d6\n",
      "sim calculated successfully\n",
      "\n",
      "1308.594 0.4195 1275.962\n",
      "0 existing calculation records provided\n"
     ]
    },
    {
     "name": "stderr",
     "output_type": "stream",
     "text": [
      "100%|█████████████████████████████████████████████████████████████████████████████████████| 1/1 [00:00<00:00,  2.25it/s]"
     ]
    },
    {
     "name": "stdout",
     "output_type": "stream",
     "text": [
      "1 calculation combinations to check\n",
      "1 new records to prepare\n"
     ]
    },
    {
     "name": "stderr",
     "output_type": "stream",
     "text": [
      "\n",
      "preparing: 100%|##########################################################################| 1/1 [00:00<00:00, 85.46it/s]\n"
     ]
    },
    {
     "name": "stdout",
     "output_type": "stream",
     "text": [
      "0d13d501-ebbc-4743-b7ff-6844befbf9b4\n",
      "sim calculated successfully\n",
      "\n",
      "1308.594 0.4076 1280.382\n",
      "0 existing calculation records provided\n"
     ]
    },
    {
     "name": "stderr",
     "output_type": "stream",
     "text": [
      "100%|█████████████████████████████████████████████████████████████████████████████████████| 1/1 [00:00<00:00,  4.54it/s]"
     ]
    },
    {
     "name": "stdout",
     "output_type": "stream",
     "text": [
      "1 calculation combinations to check\n",
      "1 new records to prepare\n"
     ]
    },
    {
     "name": "stderr",
     "output_type": "stream",
     "text": [
      "\n",
      "preparing: 100%|##########################################################################| 1/1 [00:00<00:00, 92.12it/s]\n"
     ]
    },
    {
     "name": "stdout",
     "output_type": "stream",
     "text": [
      "44cb7608-3f12-4e8b-a30c-4355bb8d1b8c\n",
      "sim calculated successfully\n",
      "\n",
      "1308.594 0.4551 1277.332\n",
      "0 existing calculation records provided\n"
     ]
    },
    {
     "name": "stderr",
     "output_type": "stream",
     "text": [
      "100%|█████████████████████████████████████████████████████████████████████████████████████| 1/1 [00:00<00:00,  2.24it/s]"
     ]
    },
    {
     "name": "stdout",
     "output_type": "stream",
     "text": [
      "1 calculation combinations to check\n",
      "1 new records to prepare\n"
     ]
    },
    {
     "name": "stderr",
     "output_type": "stream",
     "text": [
      "\n",
      "preparing: 100%|##########################################################################| 1/1 [00:00<00:00, 82.57it/s]\n"
     ]
    },
    {
     "name": "stdout",
     "output_type": "stream",
     "text": [
      "7f227204-7cfb-4470-bdcd-b7b6d30d35ca\n",
      "sim calculated successfully\n",
      "\n",
      "1308.594 0.4427 1286.442\n",
      "0 existing calculation records provided\n"
     ]
    },
    {
     "name": "stderr",
     "output_type": "stream",
     "text": [
      "100%|█████████████████████████████████████████████████████████████████████████████████████| 1/1 [00:00<00:00,  2.43it/s]"
     ]
    },
    {
     "name": "stdout",
     "output_type": "stream",
     "text": [
      "1 calculation combinations to check\n",
      "1 new records to prepare\n"
     ]
    },
    {
     "name": "stderr",
     "output_type": "stream",
     "text": [
      "\n",
      "preparing: 100%|##########################################################################| 1/1 [00:00<00:00, 79.55it/s]\n"
     ]
    },
    {
     "name": "stdout",
     "output_type": "stream",
     "text": [
      "35c3e330-2b81-4d93-9e95-d644aec021ee\n",
      "sim calculated successfully\n",
      "\n",
      "1308.594 0.4155 1268.825\n",
      "0 existing calculation records provided\n"
     ]
    },
    {
     "name": "stderr",
     "output_type": "stream",
     "text": [
      "100%|█████████████████████████████████████████████████████████████████████████████████████| 1/1 [00:00<00:00,  4.02it/s]"
     ]
    },
    {
     "name": "stdout",
     "output_type": "stream",
     "text": [
      "1 calculation combinations to check\n",
      "1 new records to prepare\n"
     ]
    },
    {
     "name": "stderr",
     "output_type": "stream",
     "text": [
      "\n",
      "preparing: 100%|##########################################################################| 1/1 [00:00<00:00, 42.48it/s]\n"
     ]
    },
    {
     "name": "stdout",
     "output_type": "stream",
     "text": [
      "b2b1433b-bf61-4eb9-9175-b3aa08ed2710\n",
      "sim calculated successfully\n",
      "\n",
      "1308.594 0.4236 1277.525\n",
      "0 existing calculation records provided\n"
     ]
    },
    {
     "name": "stderr",
     "output_type": "stream",
     "text": [
      "100%|█████████████████████████████████████████████████████████████████████████████████████| 1/1 [00:00<00:00,  2.34it/s]"
     ]
    },
    {
     "name": "stdout",
     "output_type": "stream",
     "text": [
      "1 calculation combinations to check\n",
      "1 new records to prepare\n"
     ]
    },
    {
     "name": "stderr",
     "output_type": "stream",
     "text": [
      "\n",
      "preparing: 100%|##########################################################################| 1/1 [00:00<00:00, 86.88it/s]\n"
     ]
    },
    {
     "name": "stdout",
     "output_type": "stream",
     "text": [
      "d788aadc-bc7e-49bc-b0e2-bc0ac519e8ca\n",
      "sim calculated successfully\n",
      "\n",
      "1308.594 0.4238 1284.244\n",
      "0 existing calculation records provided\n"
     ]
    },
    {
     "name": "stderr",
     "output_type": "stream",
     "text": [
      "100%|█████████████████████████████████████████████████████████████████████████████████████| 1/1 [00:00<00:00,  2.23it/s]"
     ]
    },
    {
     "name": "stdout",
     "output_type": "stream",
     "text": [
      "1 calculation combinations to check\n",
      "1 new records to prepare\n"
     ]
    },
    {
     "name": "stderr",
     "output_type": "stream",
     "text": [
      "\n",
      "preparing: 100%|##########################################################################| 1/1 [00:00<00:00, 87.69it/s]\n"
     ]
    },
    {
     "name": "stdout",
     "output_type": "stream",
     "text": [
      "1be0d138-d36d-4c0d-ad4e-45f023414612\n",
      "sim calculated successfully\n",
      "\n",
      "1308.594 0.4214 1278.831\n",
      "39 2003--Hoyt-J-J--Cu-Pb--LAMMPS--ipr1\n",
      "0 existing calculation records provided\n"
     ]
    },
    {
     "name": "stderr",
     "output_type": "stream",
     "text": [
      "100%|█████████████████████████████████████████████████████████████████████████████████████| 1/1 [00:00<00:00,  2.71it/s]"
     ]
    },
    {
     "name": "stdout",
     "output_type": "stream",
     "text": [
      "1 calculation combinations to check\n",
      "1 new records to prepare\n"
     ]
    },
    {
     "name": "stderr",
     "output_type": "stream",
     "text": [
      "\n",
      "preparing: 100%|##########################################################################| 1/1 [00:00<00:00, 83.36it/s]\n"
     ]
    },
    {
     "name": "stdout",
     "output_type": "stream",
     "text": [
      "3be84cb0-6b64-4540-ab83-e4854359c818\n",
      "sim calculated successfully\n",
      "\n",
      "4525.000 0.1825 2535.721\n",
      "0 existing calculation records provided\n"
     ]
    },
    {
     "name": "stderr",
     "output_type": "stream",
     "text": [
      "100%|█████████████████████████████████████████████████████████████████████████████████████| 1/1 [00:00<00:00,  2.21it/s]"
     ]
    },
    {
     "name": "stdout",
     "output_type": "stream",
     "text": [
      "1 calculation combinations to check\n",
      "1 new records to prepare\n"
     ]
    },
    {
     "name": "stderr",
     "output_type": "stream",
     "text": [
      "\n",
      "preparing: 100%|##########################################################################| 1/1 [00:00<00:00, 88.61it/s]\n"
     ]
    },
    {
     "name": "stdout",
     "output_type": "stream",
     "text": [
      "2b18720c-a045-4af8-951a-819b570ff522\n",
      "sim calculated successfully\n",
      "\n",
      "2287.500 5.172e-05 2283.655\n",
      "0 existing calculation records provided\n"
     ]
    },
    {
     "name": "stderr",
     "output_type": "stream",
     "text": [
      "100%|█████████████████████████████████████████████████████████████████████████████████████| 1/1 [00:00<00:00,  2.23it/s]"
     ]
    },
    {
     "name": "stdout",
     "output_type": "stream",
     "text": [
      "1 calculation combinations to check\n",
      "1 new records to prepare\n"
     ]
    },
    {
     "name": "stderr",
     "output_type": "stream",
     "text": [
      "\n",
      "preparing: 100%|##########################################################################| 1/1 [00:00<00:00, 91.16it/s]\n"
     ]
    },
    {
     "name": "stdout",
     "output_type": "stream",
     "text": [
      "aae2d144-6682-4d3f-963e-493a0498b9bc\n",
      "sim calculated successfully\n",
      "\n",
      "1168.750 0.0004655 1147.960\n",
      "0 existing calculation records provided\n"
     ]
    },
    {
     "name": "stderr",
     "output_type": "stream",
     "text": [
      "100%|█████████████████████████████████████████████████████████████████████████████████████| 1/1 [00:00<00:00,  4.32it/s]"
     ]
    },
    {
     "name": "stdout",
     "output_type": "stream",
     "text": [
      "1 calculation combinations to check\n",
      "1 new records to prepare\n"
     ]
    },
    {
     "name": "stderr",
     "output_type": "stream",
     "text": [
      "\n",
      "preparing: 100%|##########################################################################| 1/1 [00:00<00:00, 41.40it/s]\n"
     ]
    },
    {
     "name": "stdout",
     "output_type": "stream",
     "text": [
      "9705dc58-530d-47dd-b5c1-c14731b405f5\n",
      "sim calculated successfully\n",
      "\n",
      "609.375 0.6523 614.614\n",
      "0 existing calculation records provided\n"
     ]
    },
    {
     "name": "stderr",
     "output_type": "stream",
     "text": [
      "100%|█████████████████████████████████████████████████████████████████████████████████████| 1/1 [00:00<00:00,  4.26it/s]"
     ]
    },
    {
     "name": "stdout",
     "output_type": "stream",
     "text": [
      "1 calculation combinations to check\n",
      "1 new records to prepare\n"
     ]
    },
    {
     "name": "stderr",
     "output_type": "stream",
     "text": [
      "\n",
      "preparing: 100%|##########################################################################| 1/1 [00:00<00:00, 82.41it/s]\n"
     ]
    },
    {
     "name": "stdout",
     "output_type": "stream",
     "text": [
      "318f3c44-cd3d-418e-950a-3993b2e3527d\n",
      "sim calculated successfully\n",
      "\n",
      "889.062 0.001117 839.610\n",
      "0 existing calculation records provided\n"
     ]
    },
    {
     "name": "stderr",
     "output_type": "stream",
     "text": [
      "100%|█████████████████████████████████████████████████████████████████████████████████████| 1/1 [00:00<00:00,  2.30it/s]"
     ]
    },
    {
     "name": "stdout",
     "output_type": "stream",
     "text": [
      "1 calculation combinations to check\n",
      "1 new records to prepare\n"
     ]
    },
    {
     "name": "stderr",
     "output_type": "stream",
     "text": [
      "\n",
      "preparing: 100%|##########################################################################| 1/1 [00:00<00:00, 81.82it/s]\n"
     ]
    },
    {
     "name": "stdout",
     "output_type": "stream",
     "text": [
      "89269dd5-c761-4eb4-9624-d6bcb3257b43\n",
      "sim calculated successfully\n",
      "\n",
      "469.531 0.9968 467.280\n",
      "0 existing calculation records provided\n"
     ]
    },
    {
     "name": "stderr",
     "output_type": "stream",
     "text": [
      "100%|█████████████████████████████████████████████████████████████████████████████████████| 1/1 [00:00<00:00,  2.39it/s]"
     ]
    },
    {
     "name": "stdout",
     "output_type": "stream",
     "text": [
      "1 calculation combinations to check\n",
      "1 new records to prepare\n"
     ]
    },
    {
     "name": "stderr",
     "output_type": "stream",
     "text": [
      "\n",
      "preparing: 100%|##########################################################################| 1/1 [00:00<00:00, 62.57it/s]\n"
     ]
    },
    {
     "name": "stdout",
     "output_type": "stream",
     "text": [
      "0f4f0330-b7f9-4ea2-b5d1-98054a3c3038\n",
      "sim calculated successfully\n",
      "\n",
      "679.297 0.2404 636.020\n",
      "0 existing calculation records provided\n"
     ]
    },
    {
     "name": "stderr",
     "output_type": "stream",
     "text": [
      "100%|█████████████████████████████████████████████████████████████████████████████████████| 1/1 [00:00<00:00,  4.60it/s]"
     ]
    },
    {
     "name": "stdout",
     "output_type": "stream",
     "text": [
      "1 calculation combinations to check\n",
      "1 new records to prepare\n"
     ]
    },
    {
     "name": "stderr",
     "output_type": "stream",
     "text": [
      "\n",
      "preparing: 100%|##########################################################################| 1/1 [00:00<00:00, 41.56it/s]\n"
     ]
    },
    {
     "name": "stdout",
     "output_type": "stream",
     "text": [
      "9b5938d3-8020-4179-9ca0-c1c0af72dc45\n",
      "sim calculated successfully\n",
      "\n",
      "574.414 0.9802 574.854\n",
      "0 existing calculation records provided\n"
     ]
    },
    {
     "name": "stderr",
     "output_type": "stream",
     "text": [
      "100%|█████████████████████████████████████████████████████████████████████████████████████| 1/1 [00:00<00:00,  2.44it/s]"
     ]
    },
    {
     "name": "stdout",
     "output_type": "stream",
     "text": [
      "1 calculation combinations to check\n",
      "1 new records to prepare\n"
     ]
    },
    {
     "name": "stderr",
     "output_type": "stream",
     "text": [
      "\n",
      "preparing: 100%|##########################################################################| 1/1 [00:00<00:00, 84.22it/s]\n"
     ]
    },
    {
     "name": "stdout",
     "output_type": "stream",
     "text": [
      "aa8c1207-2f47-411a-90db-b649ee672aa9\n",
      "sim calculated successfully\n",
      "\n",
      "626.855 0.5042 617.990\n",
      "0 existing calculation records provided\n"
     ]
    },
    {
     "name": "stderr",
     "output_type": "stream",
     "text": [
      "100%|█████████████████████████████████████████████████████████████████████████████████████| 1/1 [00:00<00:00,  2.31it/s]"
     ]
    },
    {
     "name": "stdout",
     "output_type": "stream",
     "text": [
      "1 calculation combinations to check\n",
      "1 new records to prepare\n"
     ]
    },
    {
     "name": "stderr",
     "output_type": "stream",
     "text": [
      "\n",
      "preparing: 100%|##########################################################################| 1/1 [00:00<00:00, 82.55it/s]\n"
     ]
    },
    {
     "name": "stdout",
     "output_type": "stream",
     "text": [
      "65e99cc9-f28e-4208-b399-d51debcae2de\n",
      "sim calculated successfully\n",
      "\n",
      "626.855 0.5056 620.698\n",
      "0 existing calculation records provided\n"
     ]
    },
    {
     "name": "stderr",
     "output_type": "stream",
     "text": [
      "100%|█████████████████████████████████████████████████████████████████████████████████████| 1/1 [00:00<00:00,  4.04it/s]"
     ]
    },
    {
     "name": "stdout",
     "output_type": "stream",
     "text": [
      "1 calculation combinations to check\n",
      "1 new records to prepare\n"
     ]
    },
    {
     "name": "stderr",
     "output_type": "stream",
     "text": [
      "\n",
      "preparing: 100%|#########################################################################| 1/1 [00:00<00:00, 102.13it/s]\n"
     ]
    },
    {
     "name": "stdout",
     "output_type": "stream",
     "text": [
      "47ef9f27-ce31-473d-ba69-aec1bc728b0b\n",
      "sim calculated successfully\n",
      "\n",
      "626.855 0.4795 620.232\n",
      "0 existing calculation records provided\n"
     ]
    },
    {
     "name": "stderr",
     "output_type": "stream",
     "text": [
      "100%|█████████████████████████████████████████████████████████████████████████████████████| 1/1 [00:00<00:00,  4.37it/s]"
     ]
    },
    {
     "name": "stdout",
     "output_type": "stream",
     "text": [
      "1 calculation combinations to check\n",
      "1 new records to prepare\n"
     ]
    },
    {
     "name": "stderr",
     "output_type": "stream",
     "text": [
      "\n",
      "preparing: 100%|##########################################################################| 1/1 [00:00<00:00, 38.26it/s]\n"
     ]
    },
    {
     "name": "stdout",
     "output_type": "stream",
     "text": [
      "e40c8333-5c9a-4a80-832e-2a3dc07a4c4d\n",
      "sim calculated successfully\n",
      "\n",
      "626.855 0.5154 618.270\n",
      "0 existing calculation records provided\n"
     ]
    },
    {
     "name": "stderr",
     "output_type": "stream",
     "text": [
      "100%|█████████████████████████████████████████████████████████████████████████████████████| 1/1 [00:00<00:00,  2.49it/s]"
     ]
    },
    {
     "name": "stdout",
     "output_type": "stream",
     "text": [
      "1 calculation combinations to check\n",
      "1 new records to prepare\n"
     ]
    },
    {
     "name": "stderr",
     "output_type": "stream",
     "text": [
      "\n",
      "preparing: 100%|##########################################################################| 1/1 [00:00<00:00, 80.25it/s]\n"
     ]
    },
    {
     "name": "stdout",
     "output_type": "stream",
     "text": [
      "38c919e0-0972-4d43-bb59-8d7654881f1a\n",
      "sim calculated successfully\n",
      "\n",
      "626.855 0.5101 621.479\n",
      "0 existing calculation records provided\n"
     ]
    },
    {
     "name": "stderr",
     "output_type": "stream",
     "text": [
      "100%|█████████████████████████████████████████████████████████████████████████████████████| 1/1 [00:00<00:00,  2.28it/s]"
     ]
    },
    {
     "name": "stdout",
     "output_type": "stream",
     "text": [
      "1 calculation combinations to check\n",
      "1 new records to prepare\n"
     ]
    },
    {
     "name": "stderr",
     "output_type": "stream",
     "text": [
      "\n",
      "preparing: 100%|##########################################################################| 1/1 [00:00<00:00, 75.40it/s]\n"
     ]
    },
    {
     "name": "stdout",
     "output_type": "stream",
     "text": [
      "a5958420-6b8f-4ade-aa20-aa3aa865b485\n",
      "sim calculated successfully\n",
      "\n",
      "626.855 0.5334 623.403\n",
      "0 existing calculation records provided\n"
     ]
    },
    {
     "name": "stderr",
     "output_type": "stream",
     "text": [
      "100%|█████████████████████████████████████████████████████████████████████████████████████| 1/1 [00:00<00:00,  4.17it/s]"
     ]
    },
    {
     "name": "stdout",
     "output_type": "stream",
     "text": [
      "1 calculation combinations to check\n",
      "1 new records to prepare\n"
     ]
    },
    {
     "name": "stderr",
     "output_type": "stream",
     "text": [
      "\n",
      "preparing: 100%|##########################################################################| 1/1 [00:00<00:00, 39.00it/s]\n"
     ]
    },
    {
     "name": "stdout",
     "output_type": "stream",
     "text": [
      "836b8161-1630-46b6-a7c9-6ab4972ec627\n",
      "sim calculated successfully\n",
      "\n",
      "626.855 0.5426 622.311\n",
      "0 existing calculation records provided\n"
     ]
    },
    {
     "name": "stderr",
     "output_type": "stream",
     "text": [
      "100%|█████████████████████████████████████████████████████████████████████████████████████| 1/1 [00:00<00:00,  2.40it/s]"
     ]
    },
    {
     "name": "stdout",
     "output_type": "stream",
     "text": [
      "1 calculation combinations to check\n",
      "1 new records to prepare\n"
     ]
    },
    {
     "name": "stderr",
     "output_type": "stream",
     "text": [
      "\n",
      "preparing: 100%|##########################################################################| 1/1 [00:00<00:00, 80.83it/s]\n"
     ]
    },
    {
     "name": "stdout",
     "output_type": "stream",
     "text": [
      "3a7be768-441a-4353-b601-625215ef2dae\n",
      "sim calculated successfully\n",
      "\n",
      "626.855 0.5194 621.012\n",
      "0 existing calculation records provided\n"
     ]
    },
    {
     "name": "stderr",
     "output_type": "stream",
     "text": [
      "100%|█████████████████████████████████████████████████████████████████████████████████████| 1/1 [00:00<00:00,  2.31it/s]"
     ]
    },
    {
     "name": "stdout",
     "output_type": "stream",
     "text": [
      "1 calculation combinations to check\n",
      "1 new records to prepare\n"
     ]
    },
    {
     "name": "stderr",
     "output_type": "stream",
     "text": [
      "\n",
      "preparing: 100%|##########################################################################| 1/1 [00:00<00:00, 76.54it/s]\n"
     ]
    },
    {
     "name": "stdout",
     "output_type": "stream",
     "text": [
      "c9c851cb-5402-43b0-8afd-8056e6573a9e\n",
      "sim calculated successfully\n",
      "\n",
      "626.855 0.5086 620.060\n",
      "40 2003--Li-Y-H--Ta--LAMMPS--ipr1\n",
      "0 existing calculation records provided\n"
     ]
    },
    {
     "name": "stderr",
     "output_type": "stream",
     "text": [
      "100%|█████████████████████████████████████████████████████████████████████████████████████| 1/1 [00:00<00:00,  4.27it/s]"
     ]
    },
    {
     "name": "stdout",
     "output_type": "stream",
     "text": [
      "1 calculation combinations to check\n",
      "1 new records to prepare\n"
     ]
    },
    {
     "name": "stderr",
     "output_type": "stream",
     "text": [
      "\n",
      "preparing: 100%|##########################################################################| 1/1 [00:00<00:00, 70.40it/s]\n"
     ]
    },
    {
     "name": "stdout",
     "output_type": "stream",
     "text": [
      "53e2e005-ff54-40ec-ac37-94499a494fc5\n",
      "sim calculated successfully\n",
      "\n",
      "4525.000 0.0003103 4491.491\n",
      "0 existing calculation records provided\n"
     ]
    },
    {
     "name": "stderr",
     "output_type": "stream",
     "text": [
      "100%|█████████████████████████████████████████████████████████████████████████████████████| 1/1 [00:00<00:00,  4.28it/s]"
     ]
    },
    {
     "name": "stdout",
     "output_type": "stream",
     "text": [
      "1 calculation combinations to check\n",
      "1 new records to prepare\n"
     ]
    },
    {
     "name": "stderr",
     "output_type": "stream",
     "text": [
      "\n",
      "preparing: 100%|##########################################################################| 1/1 [00:00<00:00, 45.85it/s]\n"
     ]
    },
    {
     "name": "stdout",
     "output_type": "stream",
     "text": [
      "ff16856e-3ed2-4fa2-ae2e-5c5cf15de7b4\n",
      "sim calculated successfully\n",
      "\n",
      "2287.500 0.2863 2284.586\n",
      "0 existing calculation records provided\n"
     ]
    },
    {
     "name": "stderr",
     "output_type": "stream",
     "text": [
      "100%|█████████████████████████████████████████████████████████████████████████████████████| 1/1 [00:00<00:00,  2.80it/s]"
     ]
    },
    {
     "name": "stdout",
     "output_type": "stream",
     "text": [
      "1 calculation combinations to check\n",
      "1 new records to prepare\n"
     ]
    },
    {
     "name": "stderr",
     "output_type": "stream",
     "text": [
      "\n",
      "preparing: 100%|##########################################################################| 1/1 [00:00<00:00, 64.06it/s]\n"
     ]
    },
    {
     "name": "stdout",
     "output_type": "stream",
     "text": [
      "f6d18313-62b4-48d1-82ae-7aeb4f330bbe\n",
      "sim calculated successfully\n",
      "\n",
      "1168.750 0.3882 1165.225\n",
      "0 existing calculation records provided\n"
     ]
    },
    {
     "name": "stderr",
     "output_type": "stream",
     "text": [
      "100%|█████████████████████████████████████████████████████████████████████████████████████| 1/1 [00:00<00:00,  2.48it/s]"
     ]
    },
    {
     "name": "stdout",
     "output_type": "stream",
     "text": [
      "1 calculation combinations to check\n",
      "1 new records to prepare\n"
     ]
    },
    {
     "name": "stderr",
     "output_type": "stream",
     "text": [
      "\n",
      "preparing: 100%|##########################################################################| 1/1 [00:00<00:00, 81.94it/s]\n"
     ]
    },
    {
     "name": "stdout",
     "output_type": "stream",
     "text": [
      "669c53ee-c5f6-4dfd-ab35-7519d53d6a05\n",
      "sim calculated successfully\n",
      "\n",
      "609.375 0.4351 822.884\n",
      "0 existing calculation records provided\n"
     ]
    },
    {
     "name": "stderr",
     "output_type": "stream",
     "text": [
      "100%|█████████████████████████████████████████████████████████████████████████████████████| 1/1 [00:00<00:00,  2.35it/s]"
     ]
    },
    {
     "name": "stdout",
     "output_type": "stream",
     "text": [
      "1 calculation combinations to check\n",
      "1 new records to prepare\n"
     ]
    },
    {
     "name": "stderr",
     "output_type": "stream",
     "text": [
      "\n",
      "preparing: 100%|##########################################################################| 1/1 [00:00<00:00, 75.16it/s]\n"
     ]
    },
    {
     "name": "stdout",
     "output_type": "stream",
     "text": [
      "94f4b90b-2dbe-43b1-82b1-22bbe56bbd20\n",
      "sim calculated successfully\n",
      "\n",
      "609.375 0.4189 609.146\n",
      "0 existing calculation records provided\n"
     ]
    },
    {
     "name": "stderr",
     "output_type": "stream",
     "text": [
      "100%|█████████████████████████████████████████████████████████████████████████████████████| 1/1 [00:00<00:00,  4.58it/s]"
     ]
    },
    {
     "name": "stdout",
     "output_type": "stream",
     "text": [
      "1 calculation combinations to check\n",
      "1 new records to prepare\n"
     ]
    },
    {
     "name": "stderr",
     "output_type": "stream",
     "text": [
      "\n",
      "preparing: 100%|##########################################################################| 1/1 [00:00<00:00, 89.15it/s]\n"
     ]
    },
    {
     "name": "stdout",
     "output_type": "stream",
     "text": [
      "dbb9f37b-daf7-4452-bdb9-9ce706804f01\n",
      "sim calculated successfully\n",
      "\n",
      "609.375 0.4412 608.973\n",
      "0 existing calculation records provided\n"
     ]
    },
    {
     "name": "stderr",
     "output_type": "stream",
     "text": [
      "100%|█████████████████████████████████████████████████████████████████████████████████████| 1/1 [00:00<00:00,  4.15it/s]"
     ]
    },
    {
     "name": "stdout",
     "output_type": "stream",
     "text": [
      "1 calculation combinations to check\n",
      "1 new records to prepare\n"
     ]
    },
    {
     "name": "stderr",
     "output_type": "stream",
     "text": [
      "\n",
      "preparing: 100%|##########################################################################| 1/1 [00:00<00:00, 44.62it/s]\n"
     ]
    },
    {
     "name": "stdout",
     "output_type": "stream",
     "text": [
      "34de9f52-9cca-4115-a876-0995e9882d83\n",
      "sim calculated successfully\n",
      "\n",
      "609.375 0.4286 608.854\n",
      "0 existing calculation records provided\n"
     ]
    },
    {
     "name": "stderr",
     "output_type": "stream",
     "text": [
      "100%|█████████████████████████████████████████████████████████████████████████████████████| 1/1 [00:00<00:00,  2.26it/s]"
     ]
    },
    {
     "name": "stdout",
     "output_type": "stream",
     "text": [
      "1 calculation combinations to check\n",
      "1 new records to prepare\n"
     ]
    },
    {
     "name": "stderr",
     "output_type": "stream",
     "text": [
      "\n",
      "preparing: 100%|##########################################################################| 1/1 [00:00<00:00, 87.01it/s]\n"
     ]
    },
    {
     "name": "stdout",
     "output_type": "stream",
     "text": [
      "c779aef5-83d4-41cd-a8b5-09bdb5d5538c\n",
      "sim calculated successfully\n",
      "\n",
      "609.375 0.436 610.988\n",
      "0 existing calculation records provided\n"
     ]
    },
    {
     "name": "stderr",
     "output_type": "stream",
     "text": [
      "100%|█████████████████████████████████████████████████████████████████████████████████████| 1/1 [00:00<00:00,  2.26it/s]"
     ]
    },
    {
     "name": "stdout",
     "output_type": "stream",
     "text": [
      "1 calculation combinations to check\n",
      "1 new records to prepare\n"
     ]
    },
    {
     "name": "stderr",
     "output_type": "stream",
     "text": [
      "\n",
      "preparing: 100%|##########################################################################| 1/1 [00:00<00:00, 76.41it/s]\n"
     ]
    },
    {
     "name": "stdout",
     "output_type": "stream",
     "text": [
      "8caacd6c-2a10-4666-9d74-b3aadcf17d3c\n",
      "sim calculated successfully\n",
      "\n",
      "609.375 0.4361 612.808\n",
      "0 existing calculation records provided\n"
     ]
    },
    {
     "name": "stderr",
     "output_type": "stream",
     "text": [
      "100%|█████████████████████████████████████████████████████████████████████████████████████| 1/1 [00:00<00:00,  2.34it/s]"
     ]
    },
    {
     "name": "stdout",
     "output_type": "stream",
     "text": [
      "1 calculation combinations to check\n",
      "1 new records to prepare\n"
     ]
    },
    {
     "name": "stderr",
     "output_type": "stream",
     "text": [
      "\n",
      "preparing: 100%|##########################################################################| 1/1 [00:00<00:00, 68.13it/s]\n"
     ]
    },
    {
     "name": "stdout",
     "output_type": "stream",
     "text": [
      "e7274860-9bf2-4757-8fc2-7af521ae3455\n",
      "sim calculated successfully\n",
      "\n",
      "609.375 0.4237 622.888\n",
      "0 existing calculation records provided\n"
     ]
    },
    {
     "name": "stderr",
     "output_type": "stream",
     "text": [
      "100%|█████████████████████████████████████████████████████████████████████████████████████| 1/1 [00:00<00:00,  4.35it/s]"
     ]
    },
    {
     "name": "stdout",
     "output_type": "stream",
     "text": [
      "1 calculation combinations to check\n",
      "1 new records to prepare\n"
     ]
    },
    {
     "name": "stderr",
     "output_type": "stream",
     "text": [
      "\n",
      "preparing: 100%|##########################################################################| 1/1 [00:00<00:00, 90.57it/s]\n"
     ]
    },
    {
     "name": "stdout",
     "output_type": "stream",
     "text": [
      "7b56d98e-d5da-45ed-8855-d14d944ac523\n",
      "sim calculated successfully\n",
      "\n",
      "609.375 0.4416 607.337\n",
      "41 2003--Mendelev-M-I--Fe-2--LAMMPS--ipr1\n",
      "0 existing calculation records provided\n"
     ]
    },
    {
     "name": "stderr",
     "output_type": "stream",
     "text": [
      "100%|█████████████████████████████████████████████████████████████████████████████████████| 1/1 [00:00<00:00,  2.22it/s]"
     ]
    },
    {
     "name": "stdout",
     "output_type": "stream",
     "text": [
      "1 calculation combinations to check\n",
      "1 new records to prepare\n"
     ]
    },
    {
     "name": "stderr",
     "output_type": "stream",
     "text": [
      "\n",
      "preparing: 100%|##########################################################################| 1/1 [00:00<00:00, 76.93it/s]\n"
     ]
    },
    {
     "name": "stdout",
     "output_type": "stream",
     "text": [
      "1215fe16-d548-42e6-a7d9-d01a232dbeb9\n",
      "sim calculated successfully\n",
      "\n",
      "4525.000 0.002628 4538.773\n",
      "0 existing calculation records provided\n"
     ]
    },
    {
     "name": "stderr",
     "output_type": "stream",
     "text": [
      "100%|█████████████████████████████████████████████████████████████████████████████████████| 1/1 [00:00<00:00,  2.34it/s]"
     ]
    },
    {
     "name": "stdout",
     "output_type": "stream",
     "text": [
      "1 calculation combinations to check\n",
      "1 new records to prepare\n"
     ]
    },
    {
     "name": "stderr",
     "output_type": "stream",
     "text": [
      "\n",
      "preparing: 100%|##########################################################################| 1/1 [00:00<00:00, 50.82it/s]\n"
     ]
    },
    {
     "name": "stdout",
     "output_type": "stream",
     "text": [
      "e43f9cb7-a58a-4bca-9a01-ba35fd8bbf38\n",
      "sim calculated successfully\n",
      "\n",
      "2287.500 0.001003 2247.717\n",
      "0 existing calculation records provided\n"
     ]
    },
    {
     "name": "stderr",
     "output_type": "stream",
     "text": [
      "100%|█████████████████████████████████████████████████████████████████████████████████████| 1/1 [00:00<00:00,  3.77it/s]"
     ]
    },
    {
     "name": "stdout",
     "output_type": "stream",
     "text": [
      "1 calculation combinations to check\n",
      "1 new records to prepare\n"
     ]
    },
    {
     "name": "stderr",
     "output_type": "stream",
     "text": [
      "\n",
      "preparing: 100%|##########################################################################| 1/1 [00:00<00:00, 53.62it/s]\n"
     ]
    },
    {
     "name": "stdout",
     "output_type": "stream",
     "text": [
      "3775731c-5323-4630-84cd-563650ef2fc4\n",
      "sim calculated successfully\n",
      "\n",
      "1168.750 0.294 1178.504\n",
      "0 existing calculation records provided\n"
     ]
    },
    {
     "name": "stderr",
     "output_type": "stream",
     "text": [
      "100%|█████████████████████████████████████████████████████████████████████████████████████| 1/1 [00:00<00:00,  4.24it/s]"
     ]
    },
    {
     "name": "stdout",
     "output_type": "stream",
     "text": [
      "1 calculation combinations to check\n",
      "1 new records to prepare\n"
     ]
    },
    {
     "name": "stderr",
     "output_type": "stream",
     "text": [
      "\n",
      "preparing: 100%|##########################################################################| 1/1 [00:00<00:00, 67.38it/s]\n"
     ]
    },
    {
     "name": "stdout",
     "output_type": "stream",
     "text": [
      "c44b7ba9-5093-43e5-bfa2-e9ed5e978b07\n",
      "sim calculated successfully\n",
      "\n",
      "609.375 0.3806 607.570\n",
      "0 existing calculation records provided\n"
     ]
    },
    {
     "name": "stderr",
     "output_type": "stream",
     "text": [
      "100%|█████████████████████████████████████████████████████████████████████████████████████| 1/1 [00:00<00:00,  2.57it/s]"
     ]
    },
    {
     "name": "stdout",
     "output_type": "stream",
     "text": [
      "1 calculation combinations to check\n",
      "1 new records to prepare\n"
     ]
    },
    {
     "name": "stderr",
     "output_type": "stream",
     "text": [
      "\n",
      "preparing: 100%|##########################################################################| 1/1 [00:00<00:00, 66.85it/s]\n"
     ]
    },
    {
     "name": "stdout",
     "output_type": "stream",
     "text": [
      "362ea68d-a603-4ebf-854f-cd5c74302920\n",
      "sim calculated successfully\n",
      "\n",
      "329.688 0.4384 330.648\n",
      "0 existing calculation records provided\n"
     ]
    },
    {
     "name": "stderr",
     "output_type": "stream",
     "text": [
      "100%|█████████████████████████████████████████████████████████████████████████████████████| 1/1 [00:00<00:00,  4.30it/s]"
     ]
    },
    {
     "name": "stdout",
     "output_type": "stream",
     "text": [
      "1 calculation combinations to check\n",
      "1 new records to prepare\n"
     ]
    },
    {
     "name": "stderr",
     "output_type": "stream",
     "text": [
      "\n",
      "preparing: 100%|##########################################################################| 1/1 [00:00<00:00, 66.85it/s]\n"
     ]
    },
    {
     "name": "stdout",
     "output_type": "stream",
     "text": [
      "b6bedb62-4cd4-4e55-ad1f-b30a7786e57e\n",
      "sim calculated successfully\n",
      "\n",
      "329.688 0.3757 404.631\n",
      "0 existing calculation records provided\n"
     ]
    },
    {
     "name": "stderr",
     "output_type": "stream",
     "text": [
      "100%|█████████████████████████████████████████████████████████████████████████████████████| 1/1 [00:00<00:00,  4.39it/s]"
     ]
    },
    {
     "name": "stdout",
     "output_type": "stream",
     "text": [
      "1 calculation combinations to check\n",
      "1 new records to prepare\n"
     ]
    },
    {
     "name": "stderr",
     "output_type": "stream",
     "text": [
      "\n",
      "preparing: 100%|##########################################################################| 1/1 [00:00<00:00, 73.56it/s]\n"
     ]
    },
    {
     "name": "stdout",
     "output_type": "stream",
     "text": [
      "3b0ec902-a100-44fd-b738-42b79528337f\n",
      "sim calculated successfully\n",
      "\n",
      "189.844 0.4218 210.595\n",
      "0 existing calculation records provided\n"
     ]
    },
    {
     "name": "stderr",
     "output_type": "stream",
     "text": [
      "100%|█████████████████████████████████████████████████████████████████████████████████████| 1/1 [00:00<00:00,  2.48it/s]"
     ]
    },
    {
     "name": "stdout",
     "output_type": "stream",
     "text": [
      "1 calculation combinations to check\n",
      "1 new records to prepare\n"
     ]
    },
    {
     "name": "stderr",
     "output_type": "stream",
     "text": [
      "\n",
      "preparing: 100%|##########################################################################| 1/1 [00:00<00:00, 63.25it/s]\n"
     ]
    },
    {
     "name": "stdout",
     "output_type": "stream",
     "text": [
      "db1903bf-85aa-4c17-9ee5-2260f8537bc2\n",
      "sim calculated successfully\n",
      "\n",
      "189.844 0.4518 189.149\n",
      "0 existing calculation records provided\n"
     ]
    },
    {
     "name": "stderr",
     "output_type": "stream",
     "text": [
      "100%|█████████████████████████████████████████████████████████████████████████████████████| 1/1 [00:00<00:00,  4.05it/s]"
     ]
    },
    {
     "name": "stdout",
     "output_type": "stream",
     "text": [
      "1 calculation combinations to check\n",
      "1 new records to prepare\n"
     ]
    },
    {
     "name": "stderr",
     "output_type": "stream",
     "text": [
      "\n",
      "preparing: 100%|##########################################################################| 1/1 [00:00<00:00, 66.41it/s]\n"
     ]
    },
    {
     "name": "stdout",
     "output_type": "stream",
     "text": [
      "32fc09fb-f702-49da-8854-02ff5d1b6554\n",
      "sim calculated successfully\n",
      "\n",
      "189.844 0.402 548.274\n",
      "0 existing calculation records provided\n"
     ]
    },
    {
     "name": "stderr",
     "output_type": "stream",
     "text": [
      "100%|█████████████████████████████████████████████████████████████████████████████████████| 1/1 [00:00<00:00,  2.70it/s]"
     ]
    },
    {
     "name": "stdout",
     "output_type": "stream",
     "text": [
      "1 calculation combinations to check\n",
      "1 new records to prepare\n"
     ]
    },
    {
     "name": "stderr",
     "output_type": "stream",
     "text": [
      "\n",
      "preparing: 100%|##########################################################################| 1/1 [00:00<00:00, 71.75it/s]\n"
     ]
    },
    {
     "name": "stdout",
     "output_type": "stream",
     "text": [
      "1314deee-54b1-4fcd-97ef-20ddccb2cf2e\n",
      "sim calculated successfully\n",
      "\n",
      "189.844 0.3926 253.361\n",
      "0 existing calculation records provided\n"
     ]
    },
    {
     "name": "stderr",
     "output_type": "stream",
     "text": [
      "100%|█████████████████████████████████████████████████████████████████████████████████████| 1/1 [00:00<00:00,  4.34it/s]"
     ]
    },
    {
     "name": "stdout",
     "output_type": "stream",
     "text": [
      "1 calculation combinations to check\n",
      "1 new records to prepare\n"
     ]
    },
    {
     "name": "stderr",
     "output_type": "stream",
     "text": [
      "\n",
      "preparing: 100%|##########################################################################| 1/1 [00:00<00:00, 71.59it/s]\n"
     ]
    },
    {
     "name": "stdout",
     "output_type": "stream",
     "text": [
      "a66de139-fccd-4897-ad3e-9f7e7e7771d5\n",
      "sim calculated successfully\n",
      "\n",
      "119.922 1.0 119.569\n",
      "0 existing calculation records provided\n"
     ]
    },
    {
     "name": "stderr",
     "output_type": "stream",
     "text": [
      "100%|█████████████████████████████████████████████████████████████████████████████████████| 1/1 [00:00<00:00,  2.47it/s]"
     ]
    },
    {
     "name": "stdout",
     "output_type": "stream",
     "text": [
      "1 calculation combinations to check\n",
      "1 new records to prepare\n"
     ]
    },
    {
     "name": "stderr",
     "output_type": "stream",
     "text": [
      "\n",
      "preparing: 100%|##########################################################################| 1/1 [00:00<00:00, 69.00it/s]\n"
     ]
    },
    {
     "name": "stdout",
     "output_type": "stream",
     "text": [
      "7be8ccd2-89a1-4b2a-9ce6-0f07401e96ad\n",
      "sim calculated successfully\n",
      "\n",
      "1203.711 0.2887 1199.607\n",
      "0 existing calculation records provided\n"
     ]
    },
    {
     "name": "stderr",
     "output_type": "stream",
     "text": [
      "100%|█████████████████████████████████████████████████████████████████████████████████████| 1/1 [00:00<00:00,  4.16it/s]"
     ]
    },
    {
     "name": "stdout",
     "output_type": "stream",
     "text": [
      "1 calculation combinations to check\n",
      "1 new records to prepare\n"
     ]
    },
    {
     "name": "stderr",
     "output_type": "stream",
     "text": [
      "\n",
      "preparing: 100%|##########################################################################| 1/1 [00:00<00:00, 35.45it/s]\n"
     ]
    },
    {
     "name": "stdout",
     "output_type": "stream",
     "text": [
      "16b5c5b4-a100-4dbf-b18b-10a7eccfefdd\n",
      "sim calculated successfully\n",
      "\n",
      "661.816 0.3557 699.518\n",
      "42 2003--Mendelev-M-I--Fe-2--LAMMPS--ipr3\n",
      "0 existing calculation records provided\n"
     ]
    },
    {
     "name": "stderr",
     "output_type": "stream",
     "text": [
      "100%|█████████████████████████████████████████████████████████████████████████████████████| 1/1 [00:00<00:00,  4.26it/s]"
     ]
    },
    {
     "name": "stdout",
     "output_type": "stream",
     "text": [
      "1 calculation combinations to check\n",
      "1 new records to prepare\n"
     ]
    },
    {
     "name": "stderr",
     "output_type": "stream",
     "text": [
      "\n",
      "preparing: 100%|##########################################################################| 1/1 [00:00<00:00, 44.25it/s]\n"
     ]
    },
    {
     "name": "stdout",
     "output_type": "stream",
     "text": [
      "034ebc13-7401-4cb9-b9a9-1d19beece559\n",
      "sim calculated successfully\n",
      "\n",
      "4525.000 0.002824 4524.804\n",
      "0 existing calculation records provided\n"
     ]
    },
    {
     "name": "stderr",
     "output_type": "stream",
     "text": [
      "100%|█████████████████████████████████████████████████████████████████████████████████████| 1/1 [00:00<00:00,  3.21it/s]"
     ]
    },
    {
     "name": "stdout",
     "output_type": "stream",
     "text": [
      "1 calculation combinations to check\n",
      "1 new records to prepare\n"
     ]
    },
    {
     "name": "stderr",
     "output_type": "stream",
     "text": [
      "\n",
      "preparing: 100%|##########################################################################| 1/1 [00:00<00:00, 73.97it/s]\n"
     ]
    },
    {
     "name": "stdout",
     "output_type": "stream",
     "text": [
      "982a2aed-ea0f-47a8-82b1-022a94000695\n",
      "sim calculated successfully\n",
      "\n",
      "2287.500 0.001066 2258.498\n",
      "0 existing calculation records provided\n"
     ]
    },
    {
     "name": "stderr",
     "output_type": "stream",
     "text": [
      "100%|█████████████████████████████████████████████████████████████████████████████████████| 1/1 [00:00<00:00,  4.40it/s]"
     ]
    },
    {
     "name": "stdout",
     "output_type": "stream",
     "text": [
      "1 calculation combinations to check\n",
      "1 new records to prepare\n"
     ]
    },
    {
     "name": "stderr",
     "output_type": "stream",
     "text": [
      "\n",
      "preparing: 100%|##########################################################################| 1/1 [00:00<00:00, 73.22it/s]\n"
     ]
    },
    {
     "name": "stdout",
     "output_type": "stream",
     "text": [
      "160e9a88-4c08-4add-b93a-330738c76554\n",
      "sim calculated successfully\n",
      "\n",
      "1168.750 0.2936 1169.548\n",
      "0 existing calculation records provided\n"
     ]
    },
    {
     "name": "stderr",
     "output_type": "stream",
     "text": [
      "100%|█████████████████████████████████████████████████████████████████████████████████████| 1/1 [00:00<00:00,  4.27it/s]"
     ]
    },
    {
     "name": "stdout",
     "output_type": "stream",
     "text": [
      "1 calculation combinations to check\n",
      "1 new records to prepare\n"
     ]
    },
    {
     "name": "stderr",
     "output_type": "stream",
     "text": [
      "\n",
      "preparing: 100%|##########################################################################| 1/1 [00:00<00:00, 42.88it/s]\n"
     ]
    },
    {
     "name": "stdout",
     "output_type": "stream",
     "text": [
      "e6ec2755-ba91-4c85-be1d-050f50b0d95e\n",
      "sim calculated successfully\n",
      "\n",
      "609.375 0.3785 607.786\n",
      "0 existing calculation records provided\n"
     ]
    },
    {
     "name": "stderr",
     "output_type": "stream",
     "text": [
      "100%|█████████████████████████████████████████████████████████████████████████████████████| 1/1 [00:00<00:00,  4.36it/s]"
     ]
    },
    {
     "name": "stdout",
     "output_type": "stream",
     "text": [
      "1 calculation combinations to check\n",
      "1 new records to prepare\n"
     ]
    },
    {
     "name": "stderr",
     "output_type": "stream",
     "text": [
      "\n",
      "preparing: 100%|##########################################################################| 1/1 [00:00<00:00, 69.46it/s]\n"
     ]
    },
    {
     "name": "stdout",
     "output_type": "stream",
     "text": [
      "19e145bf-a371-4a35-a469-936c55db6a1c\n",
      "sim calculated successfully\n",
      "\n",
      "329.688 0.4405 332.213\n",
      "0 existing calculation records provided\n"
     ]
    },
    {
     "name": "stderr",
     "output_type": "stream",
     "text": [
      "100%|█████████████████████████████████████████████████████████████████████████████████████| 1/1 [00:00<00:00,  4.36it/s]"
     ]
    },
    {
     "name": "stdout",
     "output_type": "stream",
     "text": [
      "1 calculation combinations to check\n",
      "1 new records to prepare\n"
     ]
    },
    {
     "name": "stderr",
     "output_type": "stream",
     "text": [
      "\n",
      "preparing: 100%|##########################################################################| 1/1 [00:00<00:00, 34.58it/s]\n"
     ]
    },
    {
     "name": "stdout",
     "output_type": "stream",
     "text": [
      "40d0f71e-1d05-4871-a462-7c0ec67d2e12\n",
      "sim calculated successfully\n",
      "\n",
      "329.688 0.3808 367.509\n",
      "0 existing calculation records provided\n"
     ]
    },
    {
     "name": "stderr",
     "output_type": "stream",
     "text": [
      "100%|█████████████████████████████████████████████████████████████████████████████████████| 1/1 [00:00<00:00,  4.15it/s]"
     ]
    },
    {
     "name": "stdout",
     "output_type": "stream",
     "text": [
      "1 calculation combinations to check\n",
      "1 new records to prepare\n"
     ]
    },
    {
     "name": "stderr",
     "output_type": "stream",
     "text": [
      "\n",
      "preparing: 100%|##########################################################################| 1/1 [00:00<00:00, 42.41it/s]\n"
     ]
    },
    {
     "name": "stdout",
     "output_type": "stream",
     "text": [
      "1a75a587-f9d4-477a-93ff-cc8440c1aeb6\n",
      "sim calculated successfully\n",
      "\n",
      "189.844 0.4075 207.500\n",
      "0 existing calculation records provided\n"
     ]
    },
    {
     "name": "stderr",
     "output_type": "stream",
     "text": [
      "100%|█████████████████████████████████████████████████████████████████████████████████████| 1/1 [00:00<00:00,  4.43it/s]"
     ]
    },
    {
     "name": "stdout",
     "output_type": "stream",
     "text": [
      "1 calculation combinations to check\n",
      "1 new records to prepare\n"
     ]
    },
    {
     "name": "stderr",
     "output_type": "stream",
     "text": [
      "\n",
      "preparing: 100%|##########################################################################| 1/1 [00:00<00:00, 67.41it/s]\n"
     ]
    },
    {
     "name": "stdout",
     "output_type": "stream",
     "text": [
      "d98a0088-985d-4728-9f3c-22b2cdbc29d0\n",
      "sim calculated successfully\n",
      "\n",
      "189.844 0.4649 189.198\n",
      "0 existing calculation records provided\n"
     ]
    },
    {
     "name": "stderr",
     "output_type": "stream",
     "text": [
      "100%|█████████████████████████████████████████████████████████████████████████████████████| 1/1 [00:00<00:00,  4.09it/s]"
     ]
    },
    {
     "name": "stdout",
     "output_type": "stream",
     "text": [
      "1 calculation combinations to check\n",
      "1 new records to prepare\n"
     ]
    },
    {
     "name": "stderr",
     "output_type": "stream",
     "text": [
      "\n",
      "preparing: 100%|##########################################################################| 1/1 [00:00<00:00, 69.27it/s]\n"
     ]
    },
    {
     "name": "stdout",
     "output_type": "stream",
     "text": [
      "b586db1f-d243-489c-960a-320d78908514\n",
      "sim calculated successfully\n",
      "\n",
      "189.844 0.3982 248.196\n",
      "0 existing calculation records provided\n"
     ]
    },
    {
     "name": "stderr",
     "output_type": "stream",
     "text": [
      "100%|█████████████████████████████████████████████████████████████████████████████████████| 1/1 [00:00<00:00,  4.36it/s]"
     ]
    },
    {
     "name": "stdout",
     "output_type": "stream",
     "text": [
      "1 calculation combinations to check\n",
      "1 new records to prepare\n"
     ]
    },
    {
     "name": "stderr",
     "output_type": "stream",
     "text": [
      "\n",
      "preparing: 100%|##########################################################################| 1/1 [00:00<00:00, 39.68it/s]\n"
     ]
    },
    {
     "name": "stdout",
     "output_type": "stream",
     "text": [
      "0f90266d-e088-4a2a-9ef8-a518ceb96093\n",
      "sim calculated successfully\n",
      "\n",
      "119.922 1.0 120.045\n",
      "0 existing calculation records provided\n"
     ]
    },
    {
     "name": "stderr",
     "output_type": "stream",
     "text": [
      "100%|█████████████████████████████████████████████████████████████████████████████████████| 1/1 [00:00<00:00,  3.82it/s]"
     ]
    },
    {
     "name": "stdout",
     "output_type": "stream",
     "text": [
      "1 calculation combinations to check\n",
      "1 new records to prepare\n"
     ]
    },
    {
     "name": "stderr",
     "output_type": "stream",
     "text": [
      "\n",
      "preparing: 100%|##########################################################################| 1/1 [00:00<00:00, 75.84it/s]\n"
     ]
    },
    {
     "name": "stdout",
     "output_type": "stream",
     "text": [
      "88c40491-dcf4-4dda-a510-4e73df8f2273\n",
      "sim calculated successfully\n",
      "\n",
      "1203.711 0.3121 1214.295\n",
      "0 existing calculation records provided\n"
     ]
    },
    {
     "name": "stderr",
     "output_type": "stream",
     "text": [
      "100%|█████████████████████████████████████████████████████████████████████████████████████| 1/1 [00:00<00:00,  4.00it/s]"
     ]
    },
    {
     "name": "stdout",
     "output_type": "stream",
     "text": [
      "1 calculation combinations to check\n",
      "1 new records to prepare\n"
     ]
    },
    {
     "name": "stderr",
     "output_type": "stream",
     "text": [
      "\n",
      "preparing: 100%|##########################################################################| 1/1 [00:00<00:00, 42.45it/s]\n"
     ]
    },
    {
     "name": "stdout",
     "output_type": "stream",
     "text": [
      "51c24eb9-64ac-4e5f-a7cb-fb142e250c28\n",
      "sim calculated successfully\n",
      "\n",
      "661.816 0.3727 672.576\n",
      "0 existing calculation records provided\n"
     ]
    },
    {
     "name": "stderr",
     "output_type": "stream",
     "text": [
      "100%|█████████████████████████████████████████████████████████████████████████████████████| 1/1 [00:00<00:00,  4.13it/s]"
     ]
    },
    {
     "name": "stdout",
     "output_type": "stream",
     "text": [
      "1 calculation combinations to check\n",
      "1 new records to prepare\n"
     ]
    },
    {
     "name": "stderr",
     "output_type": "stream",
     "text": [
      "\n",
      "preparing: 100%|##########################################################################| 1/1 [00:00<00:00, 67.13it/s]\n"
     ]
    },
    {
     "name": "stdout",
     "output_type": "stream",
     "text": [
      "7ef45879-128f-4616-b8d3-de4feff2ed3a\n",
      "sim calculated successfully\n",
      "\n",
      "390.869 0.4227 390.428\n",
      "43 2003--Mendelev-M-I--Fe-5--LAMMPS--ipr1\n",
      "0 existing calculation records provided\n"
     ]
    },
    {
     "name": "stderr",
     "output_type": "stream",
     "text": [
      "100%|█████████████████████████████████████████████████████████████████████████████████████| 1/1 [00:00<00:00,  2.51it/s]"
     ]
    },
    {
     "name": "stdout",
     "output_type": "stream",
     "text": [
      "1 calculation combinations to check\n",
      "1 new records to prepare\n"
     ]
    },
    {
     "name": "stderr",
     "output_type": "stream",
     "text": [
      "\n",
      "preparing: 100%|##########################################################################| 1/1 [00:00<00:00, 72.83it/s]\n"
     ]
    },
    {
     "name": "stdout",
     "output_type": "stream",
     "text": [
      "c726a50d-18d6-4521-bedb-c2a16a970b4b\n",
      "sim calculated successfully\n",
      "\n",
      "4525.000 0.0003828 4708.016\n",
      "0 existing calculation records provided\n"
     ]
    },
    {
     "name": "stderr",
     "output_type": "stream",
     "text": [
      "100%|█████████████████████████████████████████████████████████████████████████████████████| 1/1 [00:00<00:00,  3.87it/s]"
     ]
    },
    {
     "name": "stdout",
     "output_type": "stream",
     "text": [
      "1 calculation combinations to check\n",
      "1 new records to prepare\n"
     ]
    },
    {
     "name": "stderr",
     "output_type": "stream",
     "text": [
      "\n",
      "preparing: 100%|##########################################################################| 1/1 [00:00<00:00, 42.40it/s]\n"
     ]
    },
    {
     "name": "stdout",
     "output_type": "stream",
     "text": [
      "89fc978d-f8f4-4a33-b063-49d3160c91d3\n",
      "sim calculated successfully\n",
      "\n",
      "2287.500 0.0009103 2212.460\n",
      "0 existing calculation records provided\n"
     ]
    },
    {
     "name": "stderr",
     "output_type": "stream",
     "text": [
      "100%|█████████████████████████████████████████████████████████████████████████████████████| 1/1 [00:00<00:00,  3.98it/s]"
     ]
    },
    {
     "name": "stdout",
     "output_type": "stream",
     "text": [
      "1 calculation combinations to check\n",
      "1 new records to prepare\n"
     ]
    },
    {
     "name": "stderr",
     "output_type": "stream",
     "text": [
      "\n",
      "preparing: 100%|##########################################################################| 1/1 [00:00<00:00, 35.21it/s]\n"
     ]
    },
    {
     "name": "stdout",
     "output_type": "stream",
     "text": [
      "a0b521ed-963f-439f-b2fd-a39dff9149fe\n",
      "sim calculated successfully\n",
      "\n",
      "1168.750 0.2785 1185.230\n",
      "0 existing calculation records provided\n"
     ]
    },
    {
     "name": "stderr",
     "output_type": "stream",
     "text": [
      "100%|█████████████████████████████████████████████████████████████████████████████████████| 1/1 [00:00<00:00,  3.93it/s]"
     ]
    },
    {
     "name": "stdout",
     "output_type": "stream",
     "text": [
      "1 calculation combinations to check\n",
      "1 new records to prepare\n"
     ]
    },
    {
     "name": "stderr",
     "output_type": "stream",
     "text": [
      "\n",
      "preparing: 100%|##########################################################################| 1/1 [00:00<00:00, 71.51it/s]\n"
     ]
    },
    {
     "name": "stdout",
     "output_type": "stream",
     "text": [
      "3d3ad7d5-95f3-45fd-b605-29fec126f971\n",
      "sim calculated successfully\n",
      "\n",
      "609.375 0.3805 609.778\n",
      "0 existing calculation records provided\n"
     ]
    },
    {
     "name": "stderr",
     "output_type": "stream",
     "text": [
      "100%|█████████████████████████████████████████████████████████████████████████████████████| 1/1 [00:00<00:00,  4.49it/s]"
     ]
    },
    {
     "name": "stdout",
     "output_type": "stream",
     "text": [
      "1 calculation combinations to check\n",
      "1 new records to prepare\n"
     ]
    },
    {
     "name": "stderr",
     "output_type": "stream",
     "text": [
      "\n",
      "preparing: 100%|##########################################################################| 1/1 [00:00<00:00, 40.64it/s]\n"
     ]
    },
    {
     "name": "stdout",
     "output_type": "stream",
     "text": [
      "a84b4f0e-9362-44e3-9f94-6c783015bcb2\n",
      "sim calculated successfully\n",
      "\n",
      "329.688 0.4299 329.563\n",
      "0 existing calculation records provided\n"
     ]
    },
    {
     "name": "stderr",
     "output_type": "stream",
     "text": [
      "100%|█████████████████████████████████████████████████████████████████████████████████████| 1/1 [00:00<00:00,  4.24it/s]"
     ]
    },
    {
     "name": "stdout",
     "output_type": "stream",
     "text": [
      "1 calculation combinations to check\n",
      "1 new records to prepare\n"
     ]
    },
    {
     "name": "stderr",
     "output_type": "stream",
     "text": [
      "\n",
      "preparing: 100%|##########################################################################| 1/1 [00:00<00:00, 75.87it/s]\n"
     ]
    },
    {
     "name": "stdout",
     "output_type": "stream",
     "text": [
      "b95359b0-49b9-4c0e-89b2-9777989dc4f2\n",
      "sim calculated successfully\n",
      "\n",
      "329.688 0.4343 328.684\n",
      "0 existing calculation records provided\n"
     ]
    },
    {
     "name": "stderr",
     "output_type": "stream",
     "text": [
      "100%|█████████████████████████████████████████████████████████████████████████████████████| 1/1 [00:00<00:00,  4.54it/s]"
     ]
    },
    {
     "name": "stdout",
     "output_type": "stream",
     "text": [
      "1 calculation combinations to check\n",
      "1 new records to prepare\n"
     ]
    },
    {
     "name": "stderr",
     "output_type": "stream",
     "text": [
      "\n",
      "preparing: 100%|#########################################################################| 1/1 [00:00<00:00, 103.07it/s]\n"
     ]
    },
    {
     "name": "stdout",
     "output_type": "stream",
     "text": [
      "947be660-d29c-481e-a938-31ff8013f51e\n",
      "sim calculated successfully\n",
      "\n",
      "329.688 0.4303 329.355\n",
      "0 existing calculation records provided\n"
     ]
    },
    {
     "name": "stderr",
     "output_type": "stream",
     "text": [
      "100%|█████████████████████████████████████████████████████████████████████████████████████| 1/1 [00:00<00:00,  4.02it/s]"
     ]
    },
    {
     "name": "stdout",
     "output_type": "stream",
     "text": [
      "1 calculation combinations to check\n",
      "1 new records to prepare\n"
     ]
    },
    {
     "name": "stderr",
     "output_type": "stream",
     "text": [
      "\n",
      "preparing: 100%|##########################################################################| 1/1 [00:00<00:00, 71.07it/s]\n"
     ]
    },
    {
     "name": "stdout",
     "output_type": "stream",
     "text": [
      "4119d785-87f6-4133-8e02-0bb125dbfc68\n",
      "sim calculated successfully\n",
      "\n",
      "329.688 0.4303 330.596\n",
      "0 existing calculation records provided\n"
     ]
    },
    {
     "name": "stderr",
     "output_type": "stream",
     "text": [
      "100%|█████████████████████████████████████████████████████████████████████████████████████| 1/1 [00:00<00:00,  2.64it/s]"
     ]
    },
    {
     "name": "stdout",
     "output_type": "stream",
     "text": [
      "1 calculation combinations to check\n",
      "1 new records to prepare\n"
     ]
    },
    {
     "name": "stderr",
     "output_type": "stream",
     "text": [
      "\n",
      "preparing: 100%|##########################################################################| 1/1 [00:00<00:00, 68.92it/s]\n"
     ]
    },
    {
     "name": "stdout",
     "output_type": "stream",
     "text": [
      "2fda96b3-b17d-4e29-a0bb-80e64f32b1bd\n",
      "sim calculated successfully\n",
      "\n",
      "329.688 0.4344 329.070\n",
      "0 existing calculation records provided\n"
     ]
    },
    {
     "name": "stderr",
     "output_type": "stream",
     "text": [
      "100%|█████████████████████████████████████████████████████████████████████████████████████| 1/1 [00:00<00:00,  4.43it/s]"
     ]
    },
    {
     "name": "stdout",
     "output_type": "stream",
     "text": [
      "1 calculation combinations to check\n",
      "1 new records to prepare\n"
     ]
    },
    {
     "name": "stderr",
     "output_type": "stream",
     "text": [
      "\n",
      "preparing: 100%|##########################################################################| 1/1 [00:00<00:00, 44.82it/s]\n"
     ]
    },
    {
     "name": "stdout",
     "output_type": "stream",
     "text": [
      "807e1cc2-0398-453f-9b12-597b8c712b58\n",
      "sim calculated successfully\n",
      "\n",
      "329.688 0.4277 328.327\n",
      "0 existing calculation records provided\n"
     ]
    },
    {
     "name": "stderr",
     "output_type": "stream",
     "text": [
      "100%|█████████████████████████████████████████████████████████████████████████████████████| 1/1 [00:00<00:00,  4.38it/s]"
     ]
    },
    {
     "name": "stdout",
     "output_type": "stream",
     "text": [
      "1 calculation combinations to check\n",
      "1 new records to prepare\n"
     ]
    },
    {
     "name": "stderr",
     "output_type": "stream",
     "text": [
      "\n",
      "preparing: 100%|##########################################################################| 1/1 [00:00<00:00, 74.41it/s]\n"
     ]
    },
    {
     "name": "stdout",
     "output_type": "stream",
     "text": [
      "a410ba00-0897-40ee-82e0-c02f496c331f\n",
      "sim calculated successfully\n",
      "\n",
      "329.688 0.3994 328.671\n",
      "0 existing calculation records provided\n"
     ]
    },
    {
     "name": "stderr",
     "output_type": "stream",
     "text": [
      "100%|█████████████████████████████████████████████████████████████████████████████████████| 1/1 [00:00<00:00,  4.41it/s]"
     ]
    },
    {
     "name": "stdout",
     "output_type": "stream",
     "text": [
      "1 calculation combinations to check\n",
      "1 new records to prepare\n"
     ]
    },
    {
     "name": "stderr",
     "output_type": "stream",
     "text": [
      "\n",
      "preparing: 100%|##########################################################################| 1/1 [00:00<00:00, 43.08it/s]\n"
     ]
    },
    {
     "name": "stdout",
     "output_type": "stream",
     "text": [
      "e29a6d43-4cc1-4850-9822-b681ae1ef0e3\n",
      "sim calculated successfully\n",
      "\n",
      "189.844 1.0 190.198\n",
      "0 existing calculation records provided\n"
     ]
    },
    {
     "name": "stderr",
     "output_type": "stream",
     "text": [
      "100%|█████████████████████████████████████████████████████████████████████████████████████| 1/1 [00:00<00:00,  4.69it/s]"
     ]
    },
    {
     "name": "stdout",
     "output_type": "stream",
     "text": [
      "1 calculation combinations to check\n",
      "1 new records to prepare\n"
     ]
    },
    {
     "name": "stderr",
     "output_type": "stream",
     "text": [
      "\n",
      "preparing: 100%|##########################################################################| 1/1 [00:00<00:00, 81.19it/s]\n"
     ]
    },
    {
     "name": "stdout",
     "output_type": "stream",
     "text": [
      "0a5c7a6d-c1b4-43ed-b344-d83468942e55\n",
      "sim calculated successfully\n",
      "\n",
      "1238.672 0.2724 1239.989\n",
      "44 2003--Zope-R-R--Al--LAMMPS--ipr1\n",
      "0 existing calculation records provided\n"
     ]
    },
    {
     "name": "stderr",
     "output_type": "stream",
     "text": [
      "100%|█████████████████████████████████████████████████████████████████████████████████████| 1/1 [00:00<00:00,  2.62it/s]"
     ]
    },
    {
     "name": "stdout",
     "output_type": "stream",
     "text": [
      "1 calculation combinations to check\n",
      "1 new records to prepare\n"
     ]
    },
    {
     "name": "stderr",
     "output_type": "stream",
     "text": [
      "\n",
      "preparing: 100%|##########################################################################| 1/1 [00:00<00:00, 43.54it/s]\n"
     ]
    },
    {
     "name": "stdout",
     "output_type": "stream",
     "text": [
      "23323217-fe05-48c9-9402-25f4b5aa913f\n",
      "sim calculated successfully\n",
      "\n",
      "4525.000 0.0 4513.526\n",
      "0 existing calculation records provided\n"
     ]
    },
    {
     "name": "stderr",
     "output_type": "stream",
     "text": [
      "100%|█████████████████████████████████████████████████████████████████████████████████████| 1/1 [00:00<00:00,  4.71it/s]"
     ]
    },
    {
     "name": "stdout",
     "output_type": "stream",
     "text": [
      "1 calculation combinations to check\n",
      "1 new records to prepare\n"
     ]
    },
    {
     "name": "stderr",
     "output_type": "stream",
     "text": [
      "\n",
      "preparing: 100%|##########################################################################| 1/1 [00:00<00:00, 43.18it/s]\n"
     ]
    },
    {
     "name": "stdout",
     "output_type": "stream",
     "text": [
      "5bed9d77-778c-4207-aba3-66b9d8a27ef8\n",
      "sim calculated successfully\n",
      "\n",
      "2287.500 6.207e-05 2274.854\n",
      "0 existing calculation records provided\n"
     ]
    },
    {
     "name": "stderr",
     "output_type": "stream",
     "text": [
      "100%|█████████████████████████████████████████████████████████████████████████████████████| 1/1 [00:00<00:00,  4.31it/s]"
     ]
    },
    {
     "name": "stdout",
     "output_type": "stream",
     "text": [
      "1 calculation combinations to check\n",
      "1 new records to prepare\n"
     ]
    },
    {
     "name": "stderr",
     "output_type": "stream",
     "text": [
      "\n",
      "preparing: 100%|##########################################################################| 1/1 [00:00<00:00, 63.66it/s]\n"
     ]
    },
    {
     "name": "stdout",
     "output_type": "stream",
     "text": [
      "9e7e1147-5baf-4195-ab7d-739201339098\n",
      "sim calculated successfully\n",
      "\n",
      "1168.750 0.001045 1159.229\n",
      "0 existing calculation records provided\n"
     ]
    },
    {
     "name": "stderr",
     "output_type": "stream",
     "text": [
      "100%|█████████████████████████████████████████████████████████████████████████████████████| 1/1 [00:00<00:00,  2.43it/s]"
     ]
    },
    {
     "name": "stdout",
     "output_type": "stream",
     "text": [
      "1 calculation combinations to check\n",
      "1 new records to prepare\n"
     ]
    },
    {
     "name": "stderr",
     "output_type": "stream",
     "text": [
      "\n",
      "preparing: 100%|##########################################################################| 1/1 [00:00<00:00, 64.00it/s]\n"
     ]
    },
    {
     "name": "stdout",
     "output_type": "stream",
     "text": [
      "9ab5f274-593e-4362-b296-2c203e6410d2\n",
      "sim calculated successfully\n",
      "\n",
      "609.375 0.9971 607.187\n",
      "0 existing calculation records provided\n"
     ]
    },
    {
     "name": "stderr",
     "output_type": "stream",
     "text": [
      "100%|█████████████████████████████████████████████████████████████████████████████████████| 1/1 [00:00<00:00,  4.72it/s]"
     ]
    },
    {
     "name": "stdout",
     "output_type": "stream",
     "text": [
      "1 calculation combinations to check\n",
      "1 new records to prepare\n"
     ]
    },
    {
     "name": "stderr",
     "output_type": "stream",
     "text": [
      "\n",
      "preparing: 100%|##########################################################################| 1/1 [00:00<00:00, 37.89it/s]\n"
     ]
    },
    {
     "name": "stdout",
     "output_type": "stream",
     "text": [
      "6ce24803-4f11-44c0-86a3-73939fef6a79\n",
      "sim calculated successfully\n",
      "\n",
      "889.062 0.07623 850.268\n",
      "0 existing calculation records provided\n"
     ]
    },
    {
     "name": "stderr",
     "output_type": "stream",
     "text": [
      "100%|█████████████████████████████████████████████████████████████████████████████████████| 1/1 [00:00<00:00,  4.17it/s]"
     ]
    },
    {
     "name": "stdout",
     "output_type": "stream",
     "text": [
      "1 calculation combinations to check\n",
      "1 new records to prepare\n"
     ]
    },
    {
     "name": "stderr",
     "output_type": "stream",
     "text": [
      "\n",
      "preparing: 100%|##########################################################################| 1/1 [00:00<00:00, 40.70it/s]\n"
     ]
    },
    {
     "name": "stdout",
     "output_type": "stream",
     "text": [
      "c79aebba-3dfc-421a-ba57-10af80c3d713\n",
      "sim calculated successfully\n",
      "\n",
      "749.219 0.5958 833.428\n",
      "0 existing calculation records provided\n"
     ]
    },
    {
     "name": "stderr",
     "output_type": "stream",
     "text": [
      "100%|█████████████████████████████████████████████████████████████████████████████████████| 1/1 [00:00<00:00,  4.35it/s]"
     ]
    },
    {
     "name": "stdout",
     "output_type": "stream",
     "text": [
      "1 calculation combinations to check\n",
      "1 new records to prepare\n"
     ]
    },
    {
     "name": "stderr",
     "output_type": "stream",
     "text": [
      "\n",
      "preparing: 100%|##########################################################################| 1/1 [00:00<00:00, 39.85it/s]\n"
     ]
    },
    {
     "name": "stdout",
     "output_type": "stream",
     "text": [
      "d3ddce5f-9ed2-4b3c-b098-3389253fe319\n",
      "sim calculated successfully\n",
      "\n",
      "749.219 0.4834 843.466\n",
      "0 existing calculation records provided\n"
     ]
    },
    {
     "name": "stderr",
     "output_type": "stream",
     "text": [
      "100%|█████████████████████████████████████████████████████████████████████████████████████| 1/1 [00:00<00:00,  4.66it/s]"
     ]
    },
    {
     "name": "stdout",
     "output_type": "stream",
     "text": [
      "1 calculation combinations to check\n",
      "1 new records to prepare\n"
     ]
    },
    {
     "name": "stderr",
     "output_type": "stream",
     "text": [
      "\n",
      "preparing: 100%|##########################################################################| 1/1 [00:00<00:00, 47.84it/s]\n"
     ]
    },
    {
     "name": "stdout",
     "output_type": "stream",
     "text": [
      "452dba6f-64b1-4100-8c6f-baa751f5ee4b\n",
      "sim calculated successfully\n",
      "\n",
      "749.219 0.5306 845.539\n",
      "0 existing calculation records provided\n"
     ]
    },
    {
     "name": "stderr",
     "output_type": "stream",
     "text": [
      "100%|█████████████████████████████████████████████████████████████████████████████████████| 1/1 [00:00<00:00,  4.33it/s]"
     ]
    },
    {
     "name": "stdout",
     "output_type": "stream",
     "text": [
      "1 calculation combinations to check\n",
      "1 new records to prepare\n"
     ]
    },
    {
     "name": "stderr",
     "output_type": "stream",
     "text": [
      "\n",
      "preparing: 100%|##########################################################################| 1/1 [00:00<00:00, 41.91it/s]\n"
     ]
    },
    {
     "name": "stdout",
     "output_type": "stream",
     "text": [
      "d6d3637e-2453-4f15-b1db-995ae7d6669d\n",
      "sim calculated successfully\n",
      "\n",
      "749.219 0.4928 842.774\n",
      "0 existing calculation records provided\n"
     ]
    },
    {
     "name": "stderr",
     "output_type": "stream",
     "text": [
      "100%|█████████████████████████████████████████████████████████████████████████████████████| 1/1 [00:00<00:00,  4.34it/s]"
     ]
    },
    {
     "name": "stdout",
     "output_type": "stream",
     "text": [
      "1 calculation combinations to check\n",
      "1 new records to prepare\n"
     ]
    },
    {
     "name": "stderr",
     "output_type": "stream",
     "text": [
      "\n",
      "preparing: 100%|##########################################################################| 1/1 [00:00<00:00, 39.97it/s]\n"
     ]
    },
    {
     "name": "stdout",
     "output_type": "stream",
     "text": [
      "ffdf42d8-b0ff-4241-9d63-4f09e9c361f8\n",
      "sim calculated successfully\n",
      "\n",
      "749.219 0.5291 839.346\n",
      "0 existing calculation records provided\n"
     ]
    },
    {
     "name": "stderr",
     "output_type": "stream",
     "text": [
      "100%|█████████████████████████████████████████████████████████████████████████████████████| 1/1 [00:00<00:00,  4.16it/s]"
     ]
    },
    {
     "name": "stdout",
     "output_type": "stream",
     "text": [
      "1 calculation combinations to check\n",
      "1 new records to prepare\n"
     ]
    },
    {
     "name": "stderr",
     "output_type": "stream",
     "text": [
      "\n",
      "preparing: 100%|##########################################################################| 1/1 [00:00<00:00, 62.68it/s]\n"
     ]
    },
    {
     "name": "stdout",
     "output_type": "stream",
     "text": [
      "1905afd7-1d18-400b-971b-93f5a3a54fc8\n",
      "sim calculated successfully\n",
      "\n",
      "749.219 0.6048 840.368\n",
      "0 existing calculation records provided\n"
     ]
    },
    {
     "name": "stderr",
     "output_type": "stream",
     "text": [
      "100%|█████████████████████████████████████████████████████████████████████████████████████| 1/1 [00:00<00:00,  4.41it/s]"
     ]
    },
    {
     "name": "stdout",
     "output_type": "stream",
     "text": [
      "1 calculation combinations to check\n",
      "1 new records to prepare\n"
     ]
    },
    {
     "name": "stderr",
     "output_type": "stream",
     "text": [
      "\n",
      "preparing: 100%|##########################################################################| 1/1 [00:00<00:00, 40.80it/s]\n"
     ]
    },
    {
     "name": "stdout",
     "output_type": "stream",
     "text": [
      "c31590e8-ee32-41ca-92e0-422a4f2c340e\n",
      "sim calculated successfully\n",
      "\n",
      "819.141 0.5097 860.134\n",
      "0 existing calculation records provided\n"
     ]
    },
    {
     "name": "stderr",
     "output_type": "stream",
     "text": [
      "100%|█████████████████████████████████████████████████████████████████████████████████████| 1/1 [00:00<00:00,  4.50it/s]"
     ]
    },
    {
     "name": "stdout",
     "output_type": "stream",
     "text": [
      "1 calculation combinations to check\n",
      "1 new records to prepare\n"
     ]
    },
    {
     "name": "stderr",
     "output_type": "stream",
     "text": [
      "\n",
      "preparing: 100%|##########################################################################| 1/1 [00:00<00:00, 39.82it/s]\n"
     ]
    },
    {
     "name": "stdout",
     "output_type": "stream",
     "text": [
      "d1e2d710-29a2-439d-bbc6-baed13f7ffd1\n",
      "sim calculated successfully\n",
      "\n",
      "819.141 0.4419 857.793\n",
      "0 existing calculation records provided\n"
     ]
    },
    {
     "name": "stderr",
     "output_type": "stream",
     "text": [
      "100%|█████████████████████████████████████████████████████████████████████████████████████| 1/1 [00:00<00:00,  4.36it/s]"
     ]
    },
    {
     "name": "stdout",
     "output_type": "stream",
     "text": [
      "1 calculation combinations to check\n",
      "1 new records to prepare\n"
     ]
    },
    {
     "name": "stderr",
     "output_type": "stream",
     "text": [
      "\n",
      "preparing: 100%|##########################################################################| 1/1 [00:00<00:00, 38.64it/s]\n"
     ]
    },
    {
     "name": "stdout",
     "output_type": "stream",
     "text": [
      "6b3fdfb5-bb4d-426d-b05c-ebc65c45e142\n",
      "sim calculated successfully\n",
      "\n",
      "819.141 0.5153 858.451\n",
      "0 existing calculation records provided\n"
     ]
    },
    {
     "name": "stderr",
     "output_type": "stream",
     "text": [
      "100%|█████████████████████████████████████████████████████████████████████████████████████| 1/1 [00:00<00:00,  4.42it/s]"
     ]
    },
    {
     "name": "stdout",
     "output_type": "stream",
     "text": [
      "1 calculation combinations to check\n",
      "1 new records to prepare\n"
     ]
    },
    {
     "name": "stderr",
     "output_type": "stream",
     "text": [
      "\n",
      "preparing: 100%|##########################################################################| 1/1 [00:00<00:00, 40.80it/s]\n"
     ]
    },
    {
     "name": "stdout",
     "output_type": "stream",
     "text": [
      "de6394db-e5ea-4c8c-8cb5-c5ab85a5714b\n",
      "sim calculated successfully\n",
      "\n",
      "819.141 0.403 862.924\n",
      "45 2003--Zope-R-R--Ti-Al--LAMMPS--ipr1\n",
      "0 existing calculation records provided\n"
     ]
    },
    {
     "name": "stderr",
     "output_type": "stream",
     "text": [
      "100%|█████████████████████████████████████████████████████████████████████████████████████| 1/1 [00:00<00:00,  2.93it/s]"
     ]
    },
    {
     "name": "stdout",
     "output_type": "stream",
     "text": [
      "1 calculation combinations to check\n",
      "1 new records to prepare\n"
     ]
    },
    {
     "name": "stderr",
     "output_type": "stream",
     "text": [
      "\n",
      "preparing: 100%|##########################################################################| 1/1 [00:00<00:00, 37.78it/s]\n"
     ]
    },
    {
     "name": "stdout",
     "output_type": "stream",
     "text": [
      "6b54065b-d2b6-4b11-9d2c-b14efc067a47\n",
      "sim calculated successfully\n",
      "\n",
      "4525.000 0.0 4521.544\n",
      "0 existing calculation records provided\n"
     ]
    },
    {
     "name": "stderr",
     "output_type": "stream",
     "text": [
      "100%|█████████████████████████████████████████████████████████████████████████████████████| 1/1 [00:00<00:00,  4.34it/s]"
     ]
    },
    {
     "name": "stdout",
     "output_type": "stream",
     "text": [
      "1 calculation combinations to check\n",
      "1 new records to prepare\n"
     ]
    },
    {
     "name": "stderr",
     "output_type": "stream",
     "text": [
      "\n",
      "preparing: 100%|##########################################################################| 1/1 [00:00<00:00, 37.18it/s]\n"
     ]
    },
    {
     "name": "stdout",
     "output_type": "stream",
     "text": [
      "7408045f-53d6-4b2b-8979-137b95101a38\n",
      "sim calculated successfully\n",
      "\n",
      "2287.500 4.138e-05 2274.392\n",
      "0 existing calculation records provided\n"
     ]
    },
    {
     "name": "stderr",
     "output_type": "stream",
     "text": [
      "100%|█████████████████████████████████████████████████████████████████████████████████████| 1/1 [00:00<00:00,  4.88it/s]"
     ]
    },
    {
     "name": "stdout",
     "output_type": "stream",
     "text": [
      "1 calculation combinations to check\n",
      "1 new records to prepare\n"
     ]
    },
    {
     "name": "stderr",
     "output_type": "stream",
     "text": [
      "\n",
      "preparing: 100%|##########################################################################| 1/1 [00:00<00:00, 39.90it/s]\n"
     ]
    },
    {
     "name": "stdout",
     "output_type": "stream",
     "text": [
      "31f13176-e416-4ed2-ba67-e54bbc567310\n",
      "sim calculated successfully\n",
      "\n",
      "1168.750 0.001148 1160.186\n",
      "0 existing calculation records provided\n"
     ]
    },
    {
     "name": "stderr",
     "output_type": "stream",
     "text": [
      "100%|█████████████████████████████████████████████████████████████████████████████████████| 1/1 [00:00<00:00,  4.22it/s]"
     ]
    },
    {
     "name": "stdout",
     "output_type": "stream",
     "text": [
      "1 calculation combinations to check\n",
      "1 new records to prepare\n"
     ]
    },
    {
     "name": "stderr",
     "output_type": "stream",
     "text": [
      "\n",
      "preparing: 100%|##########################################################################| 1/1 [00:00<00:00, 47.64it/s]\n"
     ]
    },
    {
     "name": "stdout",
     "output_type": "stream",
     "text": [
      "8e8e42ff-12d1-403d-a11e-38cfca9014c8\n",
      "sim calculated successfully\n",
      "\n",
      "609.375 0.9969 607.452\n",
      "0 existing calculation records provided\n"
     ]
    },
    {
     "name": "stderr",
     "output_type": "stream",
     "text": [
      "100%|█████████████████████████████████████████████████████████████████████████████████████| 1/1 [00:00<00:00,  4.41it/s]"
     ]
    },
    {
     "name": "stdout",
     "output_type": "stream",
     "text": [
      "1 calculation combinations to check\n",
      "1 new records to prepare\n"
     ]
    },
    {
     "name": "stderr",
     "output_type": "stream",
     "text": [
      "\n",
      "preparing: 100%|##########################################################################| 1/1 [00:00<00:00, 31.80it/s]\n"
     ]
    },
    {
     "name": "stdout",
     "output_type": "stream",
     "text": [
      "8e20d1ee-fb28-4392-8e7e-f2f877aca25c\n",
      "sim calculated successfully\n",
      "\n",
      "889.062 0.03753 851.281\n",
      "0 existing calculation records provided\n"
     ]
    },
    {
     "name": "stderr",
     "output_type": "stream",
     "text": [
      "100%|█████████████████████████████████████████████████████████████████████████████████████| 1/1 [00:00<00:00,  4.42it/s]"
     ]
    },
    {
     "name": "stdout",
     "output_type": "stream",
     "text": [
      "1 calculation combinations to check\n",
      "1 new records to prepare\n"
     ]
    },
    {
     "name": "stderr",
     "output_type": "stream",
     "text": [
      "\n",
      "preparing: 100%|##########################################################################| 1/1 [00:00<00:00, 32.30it/s]\n"
     ]
    },
    {
     "name": "stdout",
     "output_type": "stream",
     "text": [
      "9de5f780-12de-477d-acba-1839180002f6\n",
      "sim calculated successfully\n",
      "\n",
      "749.219 0.5322 845.379\n",
      "0 existing calculation records provided\n"
     ]
    },
    {
     "name": "stderr",
     "output_type": "stream",
     "text": [
      "100%|█████████████████████████████████████████████████████████████████████████████████████| 1/1 [00:00<00:00,  4.41it/s]"
     ]
    },
    {
     "name": "stdout",
     "output_type": "stream",
     "text": [
      "1 calculation combinations to check\n",
      "1 new records to prepare\n"
     ]
    },
    {
     "name": "stderr",
     "output_type": "stream",
     "text": [
      "\n",
      "preparing: 100%|##########################################################################| 1/1 [00:00<00:00, 36.12it/s]\n"
     ]
    },
    {
     "name": "stdout",
     "output_type": "stream",
     "text": [
      "b86b7f8b-5c75-4d93-b12c-5f5df3f50d87\n",
      "sim calculated successfully\n",
      "\n",
      "749.219 0.5514 846.565\n",
      "0 existing calculation records provided\n"
     ]
    },
    {
     "name": "stderr",
     "output_type": "stream",
     "text": [
      "100%|█████████████████████████████████████████████████████████████████████████████████████| 1/1 [00:00<00:00,  4.38it/s]"
     ]
    },
    {
     "name": "stdout",
     "output_type": "stream",
     "text": [
      "1 calculation combinations to check\n",
      "1 new records to prepare\n"
     ]
    },
    {
     "name": "stderr",
     "output_type": "stream",
     "text": [
      "\n",
      "preparing: 100%|##########################################################################| 1/1 [00:00<00:00, 48.23it/s]\n"
     ]
    },
    {
     "name": "stdout",
     "output_type": "stream",
     "text": [
      "7a6b8ba2-3e1d-40bd-818b-30296bb1b530\n",
      "sim calculated successfully\n",
      "\n",
      "749.219 0.6041 837.153\n",
      "0 existing calculation records provided\n"
     ]
    },
    {
     "name": "stderr",
     "output_type": "stream",
     "text": [
      "100%|█████████████████████████████████████████████████████████████████████████████████████| 1/1 [00:00<00:00,  4.22it/s]"
     ]
    },
    {
     "name": "stdout",
     "output_type": "stream",
     "text": [
      "1 calculation combinations to check\n",
      "1 new records to prepare\n"
     ]
    },
    {
     "name": "stderr",
     "output_type": "stream",
     "text": [
      "\n",
      "preparing: 100%|##########################################################################| 1/1 [00:00<00:00, 48.19it/s]\n"
     ]
    },
    {
     "name": "stdout",
     "output_type": "stream",
     "text": [
      "7b1d25df-7fa8-41a9-a75a-98c4f0f9909a\n",
      "sim calculated successfully\n",
      "\n",
      "819.141 0.4919 845.989\n",
      "0 existing calculation records provided\n"
     ]
    },
    {
     "name": "stderr",
     "output_type": "stream",
     "text": [
      "100%|█████████████████████████████████████████████████████████████████████████████████████| 1/1 [00:00<00:00,  2.71it/s]"
     ]
    },
    {
     "name": "stdout",
     "output_type": "stream",
     "text": [
      "1 calculation combinations to check\n",
      "1 new records to prepare\n"
     ]
    },
    {
     "name": "stderr",
     "output_type": "stream",
     "text": [
      "\n",
      "preparing: 100%|##########################################################################| 1/1 [00:00<00:00, 53.01it/s]\n"
     ]
    },
    {
     "name": "stdout",
     "output_type": "stream",
     "text": [
      "07d52f0c-7f57-4b76-a69d-990f72e7d3c3\n",
      "sim calculated successfully\n",
      "\n",
      "819.141 0.4559 857.117\n",
      "0 existing calculation records provided\n"
     ]
    },
    {
     "name": "stderr",
     "output_type": "stream",
     "text": [
      "100%|█████████████████████████████████████████████████████████████████████████████████████| 1/1 [00:00<00:00,  2.66it/s]"
     ]
    },
    {
     "name": "stdout",
     "output_type": "stream",
     "text": [
      "1 calculation combinations to check\n",
      "1 new records to prepare\n"
     ]
    },
    {
     "name": "stderr",
     "output_type": "stream",
     "text": [
      "\n",
      "preparing: 100%|##########################################################################| 1/1 [00:00<00:00, 52.12it/s]\n"
     ]
    },
    {
     "name": "stdout",
     "output_type": "stream",
     "text": [
      "9b892be6-2d87-40b6-a60e-e93683de65f5\n",
      "sim calculated successfully\n",
      "\n",
      "819.141 0.4977 854.135\n",
      "0 existing calculation records provided\n"
     ]
    },
    {
     "name": "stderr",
     "output_type": "stream",
     "text": [
      "100%|█████████████████████████████████████████████████████████████████████████████████████| 1/1 [00:00<00:00,  4.26it/s]"
     ]
    },
    {
     "name": "stdout",
     "output_type": "stream",
     "text": [
      "1 calculation combinations to check\n",
      "1 new records to prepare\n"
     ]
    },
    {
     "name": "stderr",
     "output_type": "stream",
     "text": [
      "\n",
      "preparing: 100%|##########################################################################| 1/1 [00:00<00:00, 52.89it/s]\n"
     ]
    },
    {
     "name": "stdout",
     "output_type": "stream",
     "text": [
      "3881a5db-7e1a-4ae0-a109-66bb8f1a79fc\n",
      "sim calculated successfully\n",
      "\n",
      "819.141 0.4811 862.588\n",
      "0 existing calculation records provided\n"
     ]
    },
    {
     "name": "stderr",
     "output_type": "stream",
     "text": [
      "100%|█████████████████████████████████████████████████████████████████████████████████████| 1/1 [00:00<00:00,  4.18it/s]"
     ]
    },
    {
     "name": "stdout",
     "output_type": "stream",
     "text": [
      "1 calculation combinations to check\n",
      "1 new records to prepare\n"
     ]
    },
    {
     "name": "stderr",
     "output_type": "stream",
     "text": [
      "\n",
      "preparing: 100%|##########################################################################| 1/1 [00:00<00:00, 35.99it/s]\n"
     ]
    },
    {
     "name": "stdout",
     "output_type": "stream",
     "text": [
      "e9fed41e-461b-46b5-a91f-d3fc3b496782\n",
      "sim calculated successfully\n",
      "\n",
      "819.141 0.4666 862.530\n",
      "0 existing calculation records provided\n"
     ]
    },
    {
     "name": "stderr",
     "output_type": "stream",
     "text": [
      "100%|█████████████████████████████████████████████████████████████████████████████████████| 1/1 [00:00<00:00,  4.40it/s]"
     ]
    },
    {
     "name": "stdout",
     "output_type": "stream",
     "text": [
      "1 calculation combinations to check\n",
      "1 new records to prepare\n"
     ]
    },
    {
     "name": "stderr",
     "output_type": "stream",
     "text": [
      "\n",
      "preparing: 100%|##########################################################################| 1/1 [00:00<00:00, 35.88it/s]\n"
     ]
    },
    {
     "name": "stdout",
     "output_type": "stream",
     "text": [
      "ba15ed72-a734-40cf-9c19-4c696216c1da\n",
      "sim calculated successfully\n",
      "\n",
      "819.141 0.4933 860.100\n",
      "0 existing calculation records provided\n"
     ]
    },
    {
     "name": "stderr",
     "output_type": "stream",
     "text": [
      "100%|█████████████████████████████████████████████████████████████████████████████████████| 1/1 [00:00<00:00,  4.38it/s]"
     ]
    },
    {
     "name": "stdout",
     "output_type": "stream",
     "text": [
      "1 calculation combinations to check\n",
      "1 new records to prepare\n"
     ]
    },
    {
     "name": "stderr",
     "output_type": "stream",
     "text": [
      "\n",
      "preparing: 100%|##########################################################################| 1/1 [00:00<00:00, 36.16it/s]\n"
     ]
    },
    {
     "name": "stdout",
     "output_type": "stream",
     "text": [
      "56bd1a0d-cdca-4827-a307-813b3ec80aa2\n",
      "sim calculated successfully\n",
      "\n",
      "819.141 0.4585 858.870\n",
      "46 2003--Zope-R-R--Ti-Al--LAMMPS--ipr1\n",
      "0 existing calculation records provided\n"
     ]
    },
    {
     "name": "stderr",
     "output_type": "stream",
     "text": [
      "100%|█████████████████████████████████████████████████████████████████████████████████████| 1/1 [00:00<00:00,  4.41it/s]"
     ]
    },
    {
     "name": "stdout",
     "output_type": "stream",
     "text": [
      "1 calculation combinations to check\n",
      "1 new records to prepare\n"
     ]
    },
    {
     "name": "stderr",
     "output_type": "stream",
     "text": [
      "\n",
      "preparing: 100%|##########################################################################| 1/1 [00:00<00:00, 38.37it/s]\n"
     ]
    },
    {
     "name": "stdout",
     "output_type": "stream",
     "text": [
      "526eee31-b37d-478a-8974-2f65c68cd8f0\n",
      "sim calculated successfully\n",
      "\n",
      "4525.000 3.103e-05 4497.992\n",
      "0 existing calculation records provided\n"
     ]
    },
    {
     "name": "stderr",
     "output_type": "stream",
     "text": [
      "100%|█████████████████████████████████████████████████████████████████████████████████████| 1/1 [00:00<00:00,  4.36it/s]"
     ]
    },
    {
     "name": "stdout",
     "output_type": "stream",
     "text": [
      "1 calculation combinations to check\n",
      "1 new records to prepare\n"
     ]
    },
    {
     "name": "stderr",
     "output_type": "stream",
     "text": [
      "\n",
      "preparing: 100%|##########################################################################| 1/1 [00:00<00:00, 33.82it/s]\n"
     ]
    },
    {
     "name": "stdout",
     "output_type": "stream",
     "text": [
      "7d507a1f-f07c-4601-bc29-6a24fe4b659c\n",
      "sim calculated successfully\n",
      "\n",
      "2287.500 0.0006827 2274.743\n",
      "0 existing calculation records provided\n"
     ]
    },
    {
     "name": "stderr",
     "output_type": "stream",
     "text": [
      "100%|█████████████████████████████████████████████████████████████████████████████████████| 1/1 [00:00<00:00,  4.24it/s]"
     ]
    },
    {
     "name": "stdout",
     "output_type": "stream",
     "text": [
      "1 calculation combinations to check\n",
      "1 new records to prepare\n"
     ]
    },
    {
     "name": "stderr",
     "output_type": "stream",
     "text": [
      "\n",
      "preparing: 100%|##########################################################################| 1/1 [00:00<00:00, 36.90it/s]\n"
     ]
    },
    {
     "name": "stdout",
     "output_type": "stream",
     "text": [
      "4bacaa6f-fde2-4a89-a8d3-168f4cad78df\n",
      "sim calculated successfully\n",
      "\n",
      "1168.750 0.9966 1166.622\n",
      "0 existing calculation records provided\n"
     ]
    },
    {
     "name": "stderr",
     "output_type": "stream",
     "text": [
      "100%|█████████████████████████████████████████████████████████████████████████████████████| 1/1 [00:00<00:00,  2.79it/s]"
     ]
    },
    {
     "name": "stdout",
     "output_type": "stream",
     "text": [
      "1 calculation combinations to check\n",
      "1 new records to prepare\n"
     ]
    },
    {
     "name": "stderr",
     "output_type": "stream",
     "text": [
      "\n",
      "preparing: 100%|##########################################################################| 1/1 [00:00<00:00, 53.00it/s]\n"
     ]
    },
    {
     "name": "stdout",
     "output_type": "stream",
     "text": [
      "5db0ad2d-65ce-48e8-8a1d-08005c3b13a7\n",
      "sim calculated successfully\n",
      "\n",
      "1728.125 0.008979 1516.035\n",
      "0 existing calculation records provided\n"
     ]
    },
    {
     "name": "stderr",
     "output_type": "stream",
     "text": [
      "100%|█████████████████████████████████████████████████████████████████████████████████████| 1/1 [00:00<00:00,  4.09it/s]"
     ]
    },
    {
     "name": "stdout",
     "output_type": "stream",
     "text": [
      "1 calculation combinations to check\n",
      "1 new records to prepare\n"
     ]
    },
    {
     "name": "stderr",
     "output_type": "stream",
     "text": [
      "\n",
      "preparing: 100%|##########################################################################| 1/1 [00:00<00:00, 33.69it/s]\n"
     ]
    },
    {
     "name": "stdout",
     "output_type": "stream",
     "text": [
      "5d9aadbd-527b-4fb4-9dec-53b10f45cf99\n",
      "sim calculated successfully\n",
      "\n",
      "1448.438 0.7785 1547.139\n",
      "0 existing calculation records provided\n"
     ]
    },
    {
     "name": "stderr",
     "output_type": "stream",
     "text": [
      "100%|█████████████████████████████████████████████████████████████████████████████████████| 1/1 [00:00<00:00,  3.96it/s]"
     ]
    },
    {
     "name": "stdout",
     "output_type": "stream",
     "text": [
      "1 calculation combinations to check\n",
      "1 new records to prepare\n"
     ]
    },
    {
     "name": "stderr",
     "output_type": "stream",
     "text": [
      "\n",
      "preparing: 100%|##########################################################################| 1/1 [00:00<00:00, 52.12it/s]\n"
     ]
    },
    {
     "name": "stdout",
     "output_type": "stream",
     "text": [
      "e64ed1d0-9bc8-44ba-8ef0-f20a6d0ceb8c\n",
      "sim calculated successfully\n",
      "\n",
      "1588.281 0.4187 1539.143\n",
      "0 existing calculation records provided\n"
     ]
    },
    {
     "name": "stderr",
     "output_type": "stream",
     "text": [
      "100%|█████████████████████████████████████████████████████████████████████████████████████| 1/1 [00:00<00:00,  2.85it/s]"
     ]
    },
    {
     "name": "stdout",
     "output_type": "stream",
     "text": [
      "1 calculation combinations to check\n",
      "1 new records to prepare\n"
     ]
    },
    {
     "name": "stderr",
     "output_type": "stream",
     "text": [
      "\n",
      "preparing: 100%|##########################################################################| 1/1 [00:00<00:00, 51.04it/s]\n"
     ]
    },
    {
     "name": "stdout",
     "output_type": "stream",
     "text": [
      "a313fabe-12a5-4fcb-b406-699de55b68ca\n",
      "sim calculated successfully\n",
      "\n",
      "1588.281 0.3988 1522.807\n",
      "0 existing calculation records provided\n"
     ]
    },
    {
     "name": "stderr",
     "output_type": "stream",
     "text": [
      "100%|█████████████████████████████████████████████████████████████████████████████████████| 1/1 [00:00<00:00,  3.03it/s]"
     ]
    },
    {
     "name": "stdout",
     "output_type": "stream",
     "text": [
      "1 calculation combinations to check\n",
      "1 new records to prepare\n"
     ]
    },
    {
     "name": "stderr",
     "output_type": "stream",
     "text": [
      "\n",
      "preparing: 100%|##########################################################################| 1/1 [00:00<00:00, 34.17it/s]\n"
     ]
    },
    {
     "name": "stdout",
     "output_type": "stream",
     "text": [
      "cc1082db-c9bc-4a05-a8a1-92e10eaf94e5\n",
      "sim calculated successfully\n",
      "\n",
      "1518.359 0.6361 1539.113\n",
      "0 existing calculation records provided\n"
     ]
    },
    {
     "name": "stderr",
     "output_type": "stream",
     "text": [
      "100%|█████████████████████████████████████████████████████████████████████████████████████| 1/1 [00:00<00:00,  2.80it/s]"
     ]
    },
    {
     "name": "stdout",
     "output_type": "stream",
     "text": [
      "1 calculation combinations to check\n",
      "1 new records to prepare\n"
     ]
    },
    {
     "name": "stderr",
     "output_type": "stream",
     "text": [
      "\n",
      "preparing: 100%|##########################################################################| 1/1 [00:00<00:00, 53.99it/s]\n"
     ]
    },
    {
     "name": "stdout",
     "output_type": "stream",
     "text": [
      "899a8088-a89f-4f4c-b782-19804eb6c3c4\n",
      "sim calculated successfully\n",
      "\n",
      "1623.242 0.3339 1541.892\n",
      "0 existing calculation records provided\n"
     ]
    },
    {
     "name": "stderr",
     "output_type": "stream",
     "text": [
      "100%|█████████████████████████████████████████████████████████████████████████████████████| 1/1 [00:00<00:00,  4.49it/s]"
     ]
    },
    {
     "name": "stdout",
     "output_type": "stream",
     "text": [
      "1 calculation combinations to check\n",
      "1 new records to prepare\n"
     ]
    },
    {
     "name": "stderr",
     "output_type": "stream",
     "text": [
      "\n",
      "preparing: 100%|##########################################################################| 1/1 [00:00<00:00, 36.65it/s]\n"
     ]
    },
    {
     "name": "stdout",
     "output_type": "stream",
     "text": [
      "7e0f3666-09a4-42fd-8a79-f69a4dd07739\n",
      "sim calculated successfully\n",
      "\n",
      "1535.840 0.5792 1534.367\n",
      "0 existing calculation records provided\n"
     ]
    },
    {
     "name": "stderr",
     "output_type": "stream",
     "text": [
      "100%|█████████████████████████████████████████████████████████████████████████████████████| 1/1 [00:00<00:00,  2.56it/s]"
     ]
    },
    {
     "name": "stdout",
     "output_type": "stream",
     "text": [
      "1 calculation combinations to check\n",
      "1 new records to prepare\n"
     ]
    },
    {
     "name": "stderr",
     "output_type": "stream",
     "text": [
      "\n",
      "preparing: 100%|##########################################################################| 1/1 [00:00<00:00, 55.02it/s]\n"
     ]
    },
    {
     "name": "stdout",
     "output_type": "stream",
     "text": [
      "ed5fdea3-a80e-489f-a691-f9a454c2a9ac\n",
      "sim calculated successfully\n",
      "\n",
      "1535.840 0.5559 1533.707\n",
      "0 existing calculation records provided\n"
     ]
    },
    {
     "name": "stderr",
     "output_type": "stream",
     "text": [
      "100%|█████████████████████████████████████████████████████████████████████████████████████| 1/1 [00:00<00:00,  2.46it/s]"
     ]
    },
    {
     "name": "stdout",
     "output_type": "stream",
     "text": [
      "1 calculation combinations to check\n",
      "1 new records to prepare\n"
     ]
    },
    {
     "name": "stderr",
     "output_type": "stream",
     "text": [
      "\n",
      "preparing: 100%|##########################################################################| 1/1 [00:00<00:00, 53.59it/s]\n"
     ]
    },
    {
     "name": "stdout",
     "output_type": "stream",
     "text": [
      "b0e0abf5-a467-48b5-9d3c-fa2777d9638d\n",
      "sim calculated successfully\n",
      "\n",
      "1535.840 0.5584 1529.953\n",
      "0 existing calculation records provided\n"
     ]
    },
    {
     "name": "stderr",
     "output_type": "stream",
     "text": [
      "100%|█████████████████████████████████████████████████████████████████████████████████████| 1/1 [00:00<00:00,  4.89it/s]"
     ]
    },
    {
     "name": "stdout",
     "output_type": "stream",
     "text": [
      "1 calculation combinations to check\n",
      "1 new records to prepare\n"
     ]
    },
    {
     "name": "stderr",
     "output_type": "stream",
     "text": [
      "\n",
      "preparing: 100%|##########################################################################| 1/1 [00:00<00:00, 39.07it/s]\n"
     ]
    },
    {
     "name": "stdout",
     "output_type": "stream",
     "text": [
      "25c59886-7fde-4f7c-9c06-bf78bf3ea7f8\n",
      "sim calculated successfully\n",
      "\n",
      "1535.840 0.5706 1533.439\n",
      "0 existing calculation records provided\n"
     ]
    },
    {
     "name": "stderr",
     "output_type": "stream",
     "text": [
      "100%|█████████████████████████████████████████████████████████████████████████████████████| 1/1 [00:00<00:00,  4.31it/s]"
     ]
    },
    {
     "name": "stdout",
     "output_type": "stream",
     "text": [
      "1 calculation combinations to check\n",
      "1 new records to prepare\n"
     ]
    },
    {
     "name": "stderr",
     "output_type": "stream",
     "text": [
      "\n",
      "preparing: 100%|##########################################################################| 1/1 [00:00<00:00, 54.46it/s]\n"
     ]
    },
    {
     "name": "stdout",
     "output_type": "stream",
     "text": [
      "bfa36bc2-0b49-4a7d-bf8d-db8ccfc7e33d\n",
      "sim calculated successfully\n",
      "\n",
      "1535.840 0.5578 1536.215\n",
      "0 existing calculation records provided\n"
     ]
    },
    {
     "name": "stderr",
     "output_type": "stream",
     "text": [
      "100%|█████████████████████████████████████████████████████████████████████████████████████| 1/1 [00:00<00:00,  2.89it/s]"
     ]
    },
    {
     "name": "stdout",
     "output_type": "stream",
     "text": [
      "1 calculation combinations to check\n",
      "1 new records to prepare\n"
     ]
    },
    {
     "name": "stderr",
     "output_type": "stream",
     "text": [
      "\n",
      "preparing: 100%|##########################################################################| 1/1 [00:00<00:00, 50.80it/s]\n"
     ]
    },
    {
     "name": "stdout",
     "output_type": "stream",
     "text": [
      "f0126454-4e1c-45cc-bedb-69371e2e73d2\n",
      "sim calculated successfully\n",
      "\n",
      "1535.840 0.5534 1529.219\n",
      "47 2004--Ackland-G-J--Fe-P--LAMMPS--ipr1\n",
      "0 existing calculation records provided\n"
     ]
    },
    {
     "name": "stderr",
     "output_type": "stream",
     "text": [
      "100%|█████████████████████████████████████████████████████████████████████████████████████| 1/1 [00:00<00:00,  2.68it/s]"
     ]
    },
    {
     "name": "stdout",
     "output_type": "stream",
     "text": [
      "1 calculation combinations to check\n",
      "1 new records to prepare\n"
     ]
    },
    {
     "name": "stderr",
     "output_type": "stream",
     "text": [
      "\n",
      "preparing: 100%|##########################################################################| 1/1 [00:00<00:00, 53.87it/s]\n"
     ]
    },
    {
     "name": "stdout",
     "output_type": "stream",
     "text": [
      "7e4510e4-540d-4044-8368-b02300f724d0\n",
      "sim calculated successfully\n",
      "\n",
      "4525.000 0.005152 4364.347\n",
      "0 existing calculation records provided\n"
     ]
    },
    {
     "name": "stderr",
     "output_type": "stream",
     "text": [
      "100%|█████████████████████████████████████████████████████████████████████████████████████| 1/1 [00:00<00:00,  2.31it/s]"
     ]
    },
    {
     "name": "stdout",
     "output_type": "stream",
     "text": [
      "1 calculation combinations to check\n",
      "1 new records to prepare\n"
     ]
    },
    {
     "name": "stderr",
     "output_type": "stream",
     "text": [
      "\n",
      "preparing: 100%|##########################################################################| 1/1 [00:00<00:00, 44.73it/s]\n"
     ]
    },
    {
     "name": "stdout",
     "output_type": "stream",
     "text": [
      "5a4837c7-309e-4019-9c7c-b556e853e858\n",
      "sim calculated successfully\n",
      "\n",
      "2287.500 0.001303 2220.040\n",
      "0 existing calculation records provided\n"
     ]
    },
    {
     "name": "stderr",
     "output_type": "stream",
     "text": [
      "100%|█████████████████████████████████████████████████████████████████████████████████████| 1/1 [00:00<00:00,  2.29it/s]"
     ]
    },
    {
     "name": "stdout",
     "output_type": "stream",
     "text": [
      "1 calculation combinations to check\n",
      "1 new records to prepare\n"
     ]
    },
    {
     "name": "stderr",
     "output_type": "stream",
     "text": [
      "\n",
      "preparing: 100%|##########################################################################| 1/1 [00:00<00:00, 44.91it/s]\n"
     ]
    },
    {
     "name": "stdout",
     "output_type": "stream",
     "text": [
      "5bb20379-baef-4295-bd58-5dd0a8d998d9\n",
      "sim calculated successfully\n",
      "\n",
      "1168.750 0.2954 1175.589\n",
      "0 existing calculation records provided\n"
     ]
    },
    {
     "name": "stderr",
     "output_type": "stream",
     "text": [
      "100%|█████████████████████████████████████████████████████████████████████████████████████| 1/1 [00:00<00:00,  3.14it/s]"
     ]
    },
    {
     "name": "stdout",
     "output_type": "stream",
     "text": [
      "1 calculation combinations to check\n",
      "1 new records to prepare\n"
     ]
    },
    {
     "name": "stderr",
     "output_type": "stream",
     "text": [
      "\n",
      "preparing: 100%|##########################################################################| 1/1 [00:00<00:00, 46.28it/s]\n"
     ]
    },
    {
     "name": "stdout",
     "output_type": "stream",
     "text": [
      "a2c4b073-bed3-42e3-acd3-fb69c4687af7\n",
      "sim calculated successfully\n",
      "\n",
      "609.375 0.3861 610.479\n",
      "0 existing calculation records provided\n"
     ]
    },
    {
     "name": "stderr",
     "output_type": "stream",
     "text": [
      "100%|█████████████████████████████████████████████████████████████████████████████████████| 1/1 [00:00<00:00,  2.65it/s]"
     ]
    },
    {
     "name": "stdout",
     "output_type": "stream",
     "text": [
      "1 calculation combinations to check\n",
      "1 new records to prepare\n"
     ]
    },
    {
     "name": "stderr",
     "output_type": "stream",
     "text": [
      "\n",
      "preparing: 100%|##########################################################################| 1/1 [00:00<00:00, 44.87it/s]\n"
     ]
    },
    {
     "name": "stdout",
     "output_type": "stream",
     "text": [
      "cdffdcb9-ad06-4c59-9bbc-7ab31be02782\n",
      "sim calculated successfully\n",
      "\n",
      "329.688 0.4304 329.215\n",
      "0 existing calculation records provided\n"
     ]
    },
    {
     "name": "stderr",
     "output_type": "stream",
     "text": [
      "100%|█████████████████████████████████████████████████████████████████████████████████████| 1/1 [00:00<00:00,  2.69it/s]"
     ]
    },
    {
     "name": "stdout",
     "output_type": "stream",
     "text": [
      "1 calculation combinations to check\n",
      "1 new records to prepare\n"
     ]
    },
    {
     "name": "stderr",
     "output_type": "stream",
     "text": [
      "\n",
      "preparing: 100%|##########################################################################| 1/1 [00:00<00:00, 31.15it/s]\n"
     ]
    },
    {
     "name": "stdout",
     "output_type": "stream",
     "text": [
      "59b48c12-e8f0-4366-9064-559e9378ab7f\n",
      "sim calculated successfully\n",
      "\n",
      "329.688 0.3943 370.928\n",
      "0 existing calculation records provided\n"
     ]
    },
    {
     "name": "stderr",
     "output_type": "stream",
     "text": [
      "100%|█████████████████████████████████████████████████████████████████████████████████████| 1/1 [00:00<00:00,  3.00it/s]"
     ]
    },
    {
     "name": "stdout",
     "output_type": "stream",
     "text": [
      "1 calculation combinations to check\n",
      "1 new records to prepare\n"
     ]
    },
    {
     "name": "stderr",
     "output_type": "stream",
     "text": [
      "\n",
      "preparing: 100%|##########################################################################| 1/1 [00:00<00:00, 30.81it/s]\n"
     ]
    },
    {
     "name": "stdout",
     "output_type": "stream",
     "text": [
      "ea8d46c4-0c1a-41c8-b5df-b3abc9d089b8\n",
      "sim calculated successfully\n",
      "\n",
      "189.844 0.3847 188.696\n",
      "0 existing calculation records provided\n"
     ]
    },
    {
     "name": "stderr",
     "output_type": "stream",
     "text": [
      "100%|█████████████████████████████████████████████████████████████████████████████████████| 1/1 [00:00<00:00,  2.61it/s]"
     ]
    },
    {
     "name": "stdout",
     "output_type": "stream",
     "text": [
      "1 calculation combinations to check\n",
      "1 new records to prepare\n"
     ]
    },
    {
     "name": "stderr",
     "output_type": "stream",
     "text": [
      "\n",
      "preparing: 100%|##########################################################################| 1/1 [00:00<00:00, 46.09it/s]\n"
     ]
    },
    {
     "name": "stdout",
     "output_type": "stream",
     "text": [
      "36373839-d426-4275-9e68-79fe7a918d95\n",
      "sim calculated successfully\n",
      "\n",
      "119.922 1.0 120.016\n",
      "0 existing calculation records provided\n"
     ]
    },
    {
     "name": "stderr",
     "output_type": "stream",
     "text": [
      "100%|█████████████████████████████████████████████████████████████████████████████████████| 1/1 [00:00<00:00,  2.69it/s]"
     ]
    },
    {
     "name": "stdout",
     "output_type": "stream",
     "text": [
      "1 calculation combinations to check\n",
      "1 new records to prepare\n"
     ]
    },
    {
     "name": "stderr",
     "output_type": "stream",
     "text": [
      "\n",
      "preparing: 100%|##########################################################################| 1/1 [00:00<00:00, 44.62it/s]\n"
     ]
    },
    {
     "name": "stdout",
     "output_type": "stream",
     "text": [
      "b3352833-fd99-43cc-9100-981f1afbf4a7\n",
      "sim calculated successfully\n",
      "\n",
      "1203.711 0.2858 1208.898\n",
      "0 existing calculation records provided\n"
     ]
    },
    {
     "name": "stderr",
     "output_type": "stream",
     "text": [
      "100%|█████████████████████████████████████████████████████████████████████████████████████| 1/1 [00:00<00:00,  2.37it/s]"
     ]
    },
    {
     "name": "stdout",
     "output_type": "stream",
     "text": [
      "1 calculation combinations to check\n",
      "1 new records to prepare\n"
     ]
    },
    {
     "name": "stderr",
     "output_type": "stream",
     "text": [
      "\n",
      "preparing: 100%|##########################################################################| 1/1 [00:00<00:00, 42.03it/s]\n"
     ]
    },
    {
     "name": "stdout",
     "output_type": "stream",
     "text": [
      "a633bc66-f57b-4272-91e7-532f763c6f96\n",
      "sim calculated successfully\n",
      "\n",
      "661.816 0.372 660.986\n",
      "0 existing calculation records provided\n"
     ]
    },
    {
     "name": "stderr",
     "output_type": "stream",
     "text": [
      "100%|█████████████████████████████████████████████████████████████████████████████████████| 1/1 [00:00<00:00,  2.44it/s]"
     ]
    },
    {
     "name": "stdout",
     "output_type": "stream",
     "text": [
      "1 calculation combinations to check\n",
      "1 new records to prepare\n"
     ]
    },
    {
     "name": "stderr",
     "output_type": "stream",
     "text": [
      "\n",
      "preparing: 100%|##########################################################################| 1/1 [00:00<00:00, 43.46it/s]\n"
     ]
    },
    {
     "name": "stdout",
     "output_type": "stream",
     "text": [
      "6af866b5-6849-4f4c-8183-8a7662112981\n",
      "sim calculated successfully\n",
      "\n",
      "390.869 0.4149 390.437\n",
      "0 existing calculation records provided\n"
     ]
    },
    {
     "name": "stderr",
     "output_type": "stream",
     "text": [
      "100%|█████████████████████████████████████████████████████████████████████████████████████| 1/1 [00:00<00:00,  4.52it/s]"
     ]
    },
    {
     "name": "stdout",
     "output_type": "stream",
     "text": [
      "1 calculation combinations to check\n",
      "1 new records to prepare\n"
     ]
    },
    {
     "name": "stderr",
     "output_type": "stream",
     "text": [
      "\n",
      "preparing: 100%|##########################################################################| 1/1 [00:00<00:00, 29.79it/s]\n"
     ]
    },
    {
     "name": "stdout",
     "output_type": "stream",
     "text": [
      "772b1de0-1a0c-4bc6-9807-1a5b56e395fa\n",
      "sim calculated successfully\n",
      "\n",
      "390.869 0.4023 388.772\n",
      "0 existing calculation records provided\n"
     ]
    },
    {
     "name": "stderr",
     "output_type": "stream",
     "text": [
      "100%|█████████████████████████████████████████████████████████████████████████████████████| 1/1 [00:00<00:00,  2.60it/s]"
     ]
    },
    {
     "name": "stdout",
     "output_type": "stream",
     "text": [
      "1 calculation combinations to check\n",
      "1 new records to prepare\n"
     ]
    },
    {
     "name": "stderr",
     "output_type": "stream",
     "text": [
      "\n",
      "preparing: 100%|##########################################################################| 1/1 [00:00<00:00, 50.74it/s]\n"
     ]
    },
    {
     "name": "stdout",
     "output_type": "stream",
     "text": [
      "ee3a0a32-8186-4112-9073-1efbb26b56e9\n",
      "sim calculated successfully\n",
      "\n",
      "390.869 0.4268 390.690\n",
      "48 2004--Mishin-Y--Ni-Al--LAMMPS--ipr1\n",
      "0 existing calculation records provided\n"
     ]
    },
    {
     "name": "stderr",
     "output_type": "stream",
     "text": [
      "100%|█████████████████████████████████████████████████████████████████████████████████████| 1/1 [00:00<00:00,  2.30it/s]"
     ]
    },
    {
     "name": "stdout",
     "output_type": "stream",
     "text": [
      "1 calculation combinations to check\n",
      "1 new records to prepare\n"
     ]
    },
    {
     "name": "stderr",
     "output_type": "stream",
     "text": [
      "\n",
      "preparing: 100%|##########################################################################| 1/1 [00:00<00:00, 34.73it/s]\n"
     ]
    },
    {
     "name": "stdout",
     "output_type": "stream",
     "text": [
      "53c355da-c1da-49e4-84a5-66ceff5608be\n",
      "sim calculated successfully\n",
      "\n",
      "4525.000 0.0 4501.150\n",
      "0 existing calculation records provided\n"
     ]
    },
    {
     "name": "stderr",
     "output_type": "stream",
     "text": [
      "100%|█████████████████████████████████████████████████████████████████████████████████████| 1/1 [00:00<00:00,  2.56it/s]"
     ]
    },
    {
     "name": "stdout",
     "output_type": "stream",
     "text": [
      "1 calculation combinations to check\n",
      "1 new records to prepare\n"
     ]
    },
    {
     "name": "stderr",
     "output_type": "stream",
     "text": [
      "\n",
      "preparing: 100%|##########################################################################| 1/1 [00:00<00:00, 44.94it/s]\n"
     ]
    },
    {
     "name": "stdout",
     "output_type": "stream",
     "text": [
      "3f462509-2bfe-452f-8ee4-20467519ffc4\n",
      "sim calculated successfully\n",
      "\n",
      "2287.500 1.034e-05 2287.616\n",
      "0 existing calculation records provided\n"
     ]
    },
    {
     "name": "stderr",
     "output_type": "stream",
     "text": [
      "100%|█████████████████████████████████████████████████████████████████████████████████████| 1/1 [00:00<00:00,  2.41it/s]"
     ]
    },
    {
     "name": "stdout",
     "output_type": "stream",
     "text": [
      "1 calculation combinations to check\n",
      "1 new records to prepare\n"
     ]
    },
    {
     "name": "stderr",
     "output_type": "stream",
     "text": [
      "\n",
      "preparing: 100%|##########################################################################| 1/1 [00:00<00:00, 48.68it/s]\n"
     ]
    },
    {
     "name": "stdout",
     "output_type": "stream",
     "text": [
      "ba36f73a-f24f-48c4-8dd8-a012afc04467\n",
      "sim calculated successfully\n",
      "\n",
      "1168.750 0.001045 1161.552\n",
      "0 existing calculation records provided\n"
     ]
    },
    {
     "name": "stderr",
     "output_type": "stream",
     "text": [
      "100%|█████████████████████████████████████████████████████████████████████████████████████| 1/1 [00:00<00:00,  2.39it/s]"
     ]
    },
    {
     "name": "stdout",
     "output_type": "stream",
     "text": [
      "1 calculation combinations to check\n",
      "1 new records to prepare\n"
     ]
    },
    {
     "name": "stderr",
     "output_type": "stream",
     "text": [
      "\n",
      "preparing: 100%|##########################################################################| 1/1 [00:00<00:00, 50.59it/s]\n"
     ]
    },
    {
     "name": "stdout",
     "output_type": "stream",
     "text": [
      "ce574902-1db1-4a31-beca-b92db62a5ee5\n",
      "sim calculated successfully\n",
      "\n",
      "609.375 0.997 606.986\n",
      "0 existing calculation records provided\n"
     ]
    },
    {
     "name": "stderr",
     "output_type": "stream",
     "text": [
      "100%|█████████████████████████████████████████████████████████████████████████████████████| 1/1 [00:00<00:00,  2.56it/s]"
     ]
    },
    {
     "name": "stdout",
     "output_type": "stream",
     "text": [
      "1 calculation combinations to check\n",
      "1 new records to prepare\n"
     ]
    },
    {
     "name": "stderr",
     "output_type": "stream",
     "text": [
      "\n",
      "preparing: 100%|##########################################################################| 1/1 [00:00<00:00, 48.81it/s]\n"
     ]
    },
    {
     "name": "stdout",
     "output_type": "stream",
     "text": [
      "b955e6e0-1f2f-4127-b4d6-62b319164a35\n",
      "sim calculated successfully\n",
      "\n",
      "889.062 0.05826 863.497\n",
      "0 existing calculation records provided\n"
     ]
    },
    {
     "name": "stderr",
     "output_type": "stream",
     "text": [
      "100%|█████████████████████████████████████████████████████████████████████████████████████| 1/1 [00:00<00:00,  2.99it/s]"
     ]
    },
    {
     "name": "stdout",
     "output_type": "stream",
     "text": [
      "1 calculation combinations to check\n",
      "1 new records to prepare\n"
     ]
    },
    {
     "name": "stderr",
     "output_type": "stream",
     "text": [
      "\n",
      "preparing: 100%|##########################################################################| 1/1 [00:00<00:00, 34.23it/s]\n"
     ]
    },
    {
     "name": "stdout",
     "output_type": "stream",
     "text": [
      "cad4e5c5-ce7d-4467-85cd-2d844221ea1c\n",
      "sim calculated successfully\n",
      "\n",
      "749.219 0.5833 841.370\n",
      "0 existing calculation records provided\n"
     ]
    },
    {
     "name": "stderr",
     "output_type": "stream",
     "text": [
      "100%|█████████████████████████████████████████████████████████████████████████████████████| 1/1 [00:00<00:00,  2.89it/s]"
     ]
    },
    {
     "name": "stdout",
     "output_type": "stream",
     "text": [
      "1 calculation combinations to check\n",
      "1 new records to prepare\n"
     ]
    },
    {
     "name": "stderr",
     "output_type": "stream",
     "text": [
      "\n",
      "preparing: 100%|##########################################################################| 1/1 [00:00<00:00, 33.37it/s]\n"
     ]
    },
    {
     "name": "stdout",
     "output_type": "stream",
     "text": [
      "2f9fbd1c-0179-4895-8474-24a9c16676bd\n",
      "sim calculated successfully\n",
      "\n",
      "749.219 0.604 844.933\n",
      "0 existing calculation records provided\n"
     ]
    },
    {
     "name": "stderr",
     "output_type": "stream",
     "text": [
      "100%|█████████████████████████████████████████████████████████████████████████████████████| 1/1 [00:00<00:00,  2.67it/s]"
     ]
    },
    {
     "name": "stdout",
     "output_type": "stream",
     "text": [
      "1 calculation combinations to check\n",
      "1 new records to prepare\n"
     ]
    },
    {
     "name": "stderr",
     "output_type": "stream",
     "text": [
      "\n",
      "preparing: 100%|##########################################################################| 1/1 [00:00<00:00, 61.52it/s]\n"
     ]
    },
    {
     "name": "stdout",
     "output_type": "stream",
     "text": [
      "b89944bc-26d8-4f02-a50f-72dbdf32085c\n",
      "sim calculated successfully\n",
      "\n",
      "819.141 0.4329 850.163\n",
      "0 existing calculation records provided\n"
     ]
    },
    {
     "name": "stderr",
     "output_type": "stream",
     "text": [
      "100%|█████████████████████████████████████████████████████████████████████████████████████| 1/1 [00:00<00:00,  2.13it/s]"
     ]
    },
    {
     "name": "stdout",
     "output_type": "stream",
     "text": [
      "1 calculation combinations to check\n",
      "1 new records to prepare\n"
     ]
    },
    {
     "name": "stderr",
     "output_type": "stream",
     "text": [
      "\n",
      "preparing: 100%|##########################################################################| 1/1 [00:00<00:00, 40.91it/s]\n"
     ]
    },
    {
     "name": "stdout",
     "output_type": "stream",
     "text": [
      "13f545c0-1242-41ff-b47f-ec505b5a6ee8\n",
      "sim calculated successfully\n",
      "\n",
      "819.141 0.4949 855.603\n",
      "0 existing calculation records provided\n"
     ]
    },
    {
     "name": "stderr",
     "output_type": "stream",
     "text": [
      "100%|█████████████████████████████████████████████████████████████████████████████████████| 1/1 [00:00<00:00,  2.36it/s]"
     ]
    },
    {
     "name": "stdout",
     "output_type": "stream",
     "text": [
      "1 calculation combinations to check\n",
      "1 new records to prepare\n"
     ]
    },
    {
     "name": "stderr",
     "output_type": "stream",
     "text": [
      "\n",
      "preparing: 100%|##########################################################################| 1/1 [00:00<00:00, 49.99it/s]\n"
     ]
    },
    {
     "name": "stdout",
     "output_type": "stream",
     "text": [
      "b6f47a23-8d1f-4e8e-b87f-7b1597b4f079\n",
      "sim calculated successfully\n",
      "\n",
      "819.141 0.374 845.636\n",
      "0 existing calculation records provided\n"
     ]
    },
    {
     "name": "stderr",
     "output_type": "stream",
     "text": [
      "100%|█████████████████████████████████████████████████████████████████████████████████████| 1/1 [00:00<00:00,  2.53it/s]"
     ]
    },
    {
     "name": "stdout",
     "output_type": "stream",
     "text": [
      "1 calculation combinations to check\n",
      "1 new records to prepare\n"
     ]
    },
    {
     "name": "stderr",
     "output_type": "stream",
     "text": [
      "\n",
      "preparing: 100%|##########################################################################| 1/1 [00:00<00:00, 44.89it/s]\n"
     ]
    },
    {
     "name": "stdout",
     "output_type": "stream",
     "text": [
      "988c1cf0-28ba-4f66-86d1-244b008a2322\n",
      "sim calculated successfully\n",
      "\n",
      "714.258 0.6229 799.776\n",
      "0 existing calculation records provided\n"
     ]
    },
    {
     "name": "stderr",
     "output_type": "stream",
     "text": [
      "100%|█████████████████████████████████████████████████████████████████████████████████████| 1/1 [00:00<00:00,  2.26it/s]"
     ]
    },
    {
     "name": "stdout",
     "output_type": "stream",
     "text": [
      "1 calculation combinations to check\n",
      "1 new records to prepare\n"
     ]
    },
    {
     "name": "stderr",
     "output_type": "stream",
     "text": [
      "\n",
      "preparing: 100%|##########################################################################| 1/1 [00:00<00:00, 47.03it/s]\n"
     ]
    },
    {
     "name": "stdout",
     "output_type": "stream",
     "text": [
      "616ef3a3-8a1b-4346-849d-41fbe9830901\n",
      "sim calculated successfully\n",
      "\n",
      "801.660 0.4207 861.142\n",
      "0 existing calculation records provided\n"
     ]
    },
    {
     "name": "stderr",
     "output_type": "stream",
     "text": [
      "100%|█████████████████████████████████████████████████████████████████████████████████████| 1/1 [00:00<00:00,  2.37it/s]"
     ]
    },
    {
     "name": "stdout",
     "output_type": "stream",
     "text": [
      "1 calculation combinations to check\n",
      "1 new records to prepare\n"
     ]
    },
    {
     "name": "stderr",
     "output_type": "stream",
     "text": [
      "\n",
      "preparing: 100%|##########################################################################| 1/1 [00:00<00:00, 40.31it/s]\n"
     ]
    },
    {
     "name": "stdout",
     "output_type": "stream",
     "text": [
      "e7430ff6-c059-4812-af0e-c9dd5c8261c0\n",
      "sim calculated successfully\n",
      "\n",
      "801.660 0.5188 855.726\n",
      "0 existing calculation records provided\n"
     ]
    },
    {
     "name": "stderr",
     "output_type": "stream",
     "text": [
      "100%|█████████████████████████████████████████████████████████████████████████████████████| 1/1 [00:00<00:00,  2.39it/s]"
     ]
    },
    {
     "name": "stdout",
     "output_type": "stream",
     "text": [
      "1 calculation combinations to check\n",
      "1 new records to prepare\n"
     ]
    },
    {
     "name": "stderr",
     "output_type": "stream",
     "text": [
      "\n",
      "preparing: 100%|##########################################################################| 1/1 [00:00<00:00, 44.75it/s]\n"
     ]
    },
    {
     "name": "stdout",
     "output_type": "stream",
     "text": [
      "addbb1e6-809d-4133-96c0-620bbe42672e\n",
      "sim calculated successfully\n",
      "\n",
      "801.660 0.4671 856.760\n",
      "0 existing calculation records provided\n"
     ]
    },
    {
     "name": "stderr",
     "output_type": "stream",
     "text": [
      "100%|█████████████████████████████████████████████████████████████████████████████████████| 1/1 [00:00<00:00,  2.62it/s]"
     ]
    },
    {
     "name": "stdout",
     "output_type": "stream",
     "text": [
      "1 calculation combinations to check\n",
      "1 new records to prepare\n"
     ]
    },
    {
     "name": "stderr",
     "output_type": "stream",
     "text": [
      "\n",
      "preparing: 100%|##########################################################################| 1/1 [00:00<00:00, 48.93it/s]\n"
     ]
    },
    {
     "name": "stdout",
     "output_type": "stream",
     "text": [
      "b7749586-35ed-4acf-a014-9f57bac2a6e8\n",
      "sim calculated successfully\n",
      "\n",
      "801.660 0.4882 858.700\n",
      "49 2004--Mishin-Y--Ni-Al--LAMMPS--ipr2\n",
      "0 existing calculation records provided\n"
     ]
    },
    {
     "name": "stderr",
     "output_type": "stream",
     "text": [
      "100%|█████████████████████████████████████████████████████████████████████████████████████| 1/1 [00:00<00:00,  2.26it/s]"
     ]
    },
    {
     "name": "stdout",
     "output_type": "stream",
     "text": [
      "1 calculation combinations to check\n",
      "1 new records to prepare\n"
     ]
    },
    {
     "name": "stderr",
     "output_type": "stream",
     "text": [
      "\n",
      "preparing: 100%|##########################################################################| 1/1 [00:00<00:00, 42.82it/s]\n"
     ]
    },
    {
     "name": "stdout",
     "output_type": "stream",
     "text": [
      "8e2f160a-ab54-4925-8c8d-9d0af6d98271\n",
      "sim calculated successfully\n",
      "\n",
      "4525.000 0.0 4515.446\n",
      "0 existing calculation records provided\n"
     ]
    },
    {
     "name": "stderr",
     "output_type": "stream",
     "text": [
      "100%|█████████████████████████████████████████████████████████████████████████████████████| 1/1 [00:00<00:00,  2.34it/s]"
     ]
    },
    {
     "name": "stdout",
     "output_type": "stream",
     "text": [
      "1 calculation combinations to check\n",
      "1 new records to prepare\n"
     ]
    },
    {
     "name": "stderr",
     "output_type": "stream",
     "text": [
      "\n",
      "preparing: 100%|##########################################################################| 1/1 [00:00<00:00, 30.80it/s]\n"
     ]
    },
    {
     "name": "stdout",
     "output_type": "stream",
     "text": [
      "c91afbe4-0c42-4d31-bc90-91f3e4029e0b\n",
      "sim calculated successfully\n",
      "\n",
      "2287.500 3.103e-05 2277.658\n",
      "0 existing calculation records provided\n"
     ]
    },
    {
     "name": "stderr",
     "output_type": "stream",
     "text": [
      "100%|█████████████████████████████████████████████████████████████████████████████████████| 1/1 [00:00<00:00,  2.40it/s]"
     ]
    },
    {
     "name": "stdout",
     "output_type": "stream",
     "text": [
      "1 calculation combinations to check\n",
      "1 new records to prepare\n"
     ]
    },
    {
     "name": "stderr",
     "output_type": "stream",
     "text": [
      "\n",
      "preparing: 100%|##########################################################################| 1/1 [00:00<00:00, 36.92it/s]\n"
     ]
    },
    {
     "name": "stdout",
     "output_type": "stream",
     "text": [
      "c4cd467f-a960-4114-bb68-072064acc4f4\n",
      "sim calculated successfully\n",
      "\n",
      "1168.750 0.001086 1161.045\n",
      "0 existing calculation records provided\n"
     ]
    },
    {
     "name": "stderr",
     "output_type": "stream",
     "text": [
      "100%|█████████████████████████████████████████████████████████████████████████████████████| 1/1 [00:00<00:00,  2.31it/s]"
     ]
    },
    {
     "name": "stdout",
     "output_type": "stream",
     "text": [
      "1 calculation combinations to check\n",
      "1 new records to prepare\n"
     ]
    },
    {
     "name": "stderr",
     "output_type": "stream",
     "text": [
      "\n",
      "preparing: 100%|##########################################################################| 1/1 [00:00<00:00, 34.38it/s]\n"
     ]
    },
    {
     "name": "stdout",
     "output_type": "stream",
     "text": [
      "67faedc0-0cdc-483b-b4d3-0e1b704c57f4\n",
      "sim calculated successfully\n",
      "\n",
      "609.375 0.9972 606.541\n",
      "0 existing calculation records provided\n"
     ]
    },
    {
     "name": "stderr",
     "output_type": "stream",
     "text": [
      "100%|█████████████████████████████████████████████████████████████████████████████████████| 1/1 [00:00<00:00,  2.28it/s]"
     ]
    },
    {
     "name": "stdout",
     "output_type": "stream",
     "text": [
      "1 calculation combinations to check\n",
      "1 new records to prepare\n"
     ]
    },
    {
     "name": "stderr",
     "output_type": "stream",
     "text": [
      "\n",
      "preparing: 100%|##########################################################################| 1/1 [00:00<00:00, 35.12it/s]\n"
     ]
    },
    {
     "name": "stdout",
     "output_type": "stream",
     "text": [
      "d018f3db-730e-42b6-b7b5-ea0896b98491\n",
      "sim calculated successfully\n",
      "\n",
      "889.062 0.005317 858.583\n",
      "0 existing calculation records provided\n"
     ]
    },
    {
     "name": "stderr",
     "output_type": "stream",
     "text": [
      "100%|█████████████████████████████████████████████████████████████████████████████████████| 1/1 [00:00<00:00,  2.56it/s]"
     ]
    },
    {
     "name": "stdout",
     "output_type": "stream",
     "text": [
      "1 calculation combinations to check\n",
      "1 new records to prepare\n"
     ]
    },
    {
     "name": "stderr",
     "output_type": "stream",
     "text": [
      "\n",
      "preparing: 100%|##########################################################################| 1/1 [00:00<00:00, 37.80it/s]\n"
     ]
    },
    {
     "name": "stdout",
     "output_type": "stream",
     "text": [
      "4fbfadd5-3d46-4586-b343-35796b1a3f12\n",
      "sim calculated successfully\n",
      "\n",
      "749.219 0.6019 834.608\n",
      "0 existing calculation records provided\n"
     ]
    },
    {
     "name": "stderr",
     "output_type": "stream",
     "text": [
      "100%|█████████████████████████████████████████████████████████████████████████████████████| 1/1 [00:00<00:00,  2.45it/s]"
     ]
    },
    {
     "name": "stdout",
     "output_type": "stream",
     "text": [
      "1 calculation combinations to check\n",
      "1 new records to prepare\n"
     ]
    },
    {
     "name": "stderr",
     "output_type": "stream",
     "text": [
      "\n",
      "preparing: 100%|##########################################################################| 1/1 [00:00<00:00, 33.97it/s]\n"
     ]
    },
    {
     "name": "stdout",
     "output_type": "stream",
     "text": [
      "66c483ae-399f-470f-a310-668eb839e9bc\n",
      "sim calculated successfully\n",
      "\n",
      "819.141 0.5063 866.405\n",
      "0 existing calculation records provided\n"
     ]
    },
    {
     "name": "stderr",
     "output_type": "stream",
     "text": [
      "100%|█████████████████████████████████████████████████████████████████████████████████████| 1/1 [00:00<00:00,  2.70it/s]"
     ]
    },
    {
     "name": "stdout",
     "output_type": "stream",
     "text": [
      "1 calculation combinations to check\n",
      "1 new records to prepare\n"
     ]
    },
    {
     "name": "stderr",
     "output_type": "stream",
     "text": [
      "\n",
      "preparing: 100%|##########################################################################| 1/1 [00:00<00:00, 39.76it/s]\n"
     ]
    },
    {
     "name": "stdout",
     "output_type": "stream",
     "text": [
      "092b4e3b-305b-467a-a399-3a54043a865d\n",
      "sim calculated successfully\n",
      "\n",
      "819.141 0.4479 860.932\n",
      "0 existing calculation records provided\n"
     ]
    },
    {
     "name": "stderr",
     "output_type": "stream",
     "text": [
      "100%|█████████████████████████████████████████████████████████████████████████████████████| 1/1 [00:00<00:00,  2.37it/s]"
     ]
    },
    {
     "name": "stdout",
     "output_type": "stream",
     "text": [
      "1 calculation combinations to check\n",
      "1 new records to prepare\n"
     ]
    },
    {
     "name": "stderr",
     "output_type": "stream",
     "text": [
      "\n",
      "preparing: 100%|##########################################################################| 1/1 [00:00<00:00, 34.32it/s]\n"
     ]
    },
    {
     "name": "stdout",
     "output_type": "stream",
     "text": [
      "4aa1e8fe-7fd9-4219-bc46-139073da8fe1\n",
      "sim calculated successfully\n",
      "\n",
      "819.141 0.4781 859.478\n",
      "0 existing calculation records provided\n"
     ]
    },
    {
     "name": "stderr",
     "output_type": "stream",
     "text": [
      "100%|█████████████████████████████████████████████████████████████████████████████████████| 1/1 [00:00<00:00,  4.39it/s]"
     ]
    },
    {
     "name": "stdout",
     "output_type": "stream",
     "text": [
      "1 calculation combinations to check\n",
      "1 new records to prepare\n"
     ]
    },
    {
     "name": "stderr",
     "output_type": "stream",
     "text": [
      "\n",
      "preparing: 100%|##########################################################################| 1/1 [00:00<00:00, 34.85it/s]\n"
     ]
    },
    {
     "name": "stdout",
     "output_type": "stream",
     "text": [
      "84444c3d-beb8-4281-9648-654361c097eb\n",
      "sim calculated successfully\n",
      "\n",
      "819.141 0.51 860.319\n",
      "0 existing calculation records provided\n"
     ]
    },
    {
     "name": "stderr",
     "output_type": "stream",
     "text": [
      "100%|█████████████████████████████████████████████████████████████████████████████████████| 1/1 [00:00<00:00,  2.33it/s]"
     ]
    },
    {
     "name": "stdout",
     "output_type": "stream",
     "text": [
      "1 calculation combinations to check\n",
      "1 new records to prepare\n"
     ]
    },
    {
     "name": "stderr",
     "output_type": "stream",
     "text": [
      "\n",
      "preparing: 100%|##########################################################################| 1/1 [00:00<00:00, 33.36it/s]\n"
     ]
    },
    {
     "name": "stdout",
     "output_type": "stream",
     "text": [
      "08bf94dc-0d74-4d45-9286-f37a667fc472\n",
      "sim calculated successfully\n",
      "\n",
      "819.141 0.4538 865.229\n",
      "0 existing calculation records provided\n"
     ]
    },
    {
     "name": "stderr",
     "output_type": "stream",
     "text": [
      "100%|█████████████████████████████████████████████████████████████████████████████████████| 1/1 [00:00<00:00,  4.21it/s]"
     ]
    },
    {
     "name": "stdout",
     "output_type": "stream",
     "text": [
      "1 calculation combinations to check\n",
      "1 new records to prepare\n"
     ]
    },
    {
     "name": "stderr",
     "output_type": "stream",
     "text": [
      "\n",
      "preparing: 100%|##########################################################################| 1/1 [00:00<00:00, 24.67it/s]\n"
     ]
    },
    {
     "name": "stdout",
     "output_type": "stream",
     "text": [
      "f09716e7-2fc4-4fc5-846f-92abffa36e06\n",
      "sim calculated successfully\n",
      "\n",
      "819.141 0.4712 865.994\n",
      "0 existing calculation records provided\n"
     ]
    },
    {
     "name": "stderr",
     "output_type": "stream",
     "text": [
      "100%|█████████████████████████████████████████████████████████████████████████████████████| 1/1 [00:00<00:00,  4.43it/s]"
     ]
    },
    {
     "name": "stdout",
     "output_type": "stream",
     "text": [
      "1 calculation combinations to check\n",
      "1 new records to prepare\n"
     ]
    },
    {
     "name": "stderr",
     "output_type": "stream",
     "text": [
      "\n",
      "preparing: 100%|##########################################################################| 1/1 [00:00<00:00, 38.39it/s]\n"
     ]
    },
    {
     "name": "stdout",
     "output_type": "stream",
     "text": [
      "44a2e7ca-9ecb-4c0e-8fce-82526ae51193\n",
      "sim calculated successfully\n",
      "\n",
      "819.141 0.4729 864.988\n",
      "0 existing calculation records provided\n"
     ]
    },
    {
     "name": "stderr",
     "output_type": "stream",
     "text": [
      "100%|█████████████████████████████████████████████████████████████████████████████████████| 1/1 [00:00<00:00,  3.00it/s]"
     ]
    },
    {
     "name": "stdout",
     "output_type": "stream",
     "text": [
      "1 calculation combinations to check\n",
      "1 new records to prepare\n"
     ]
    },
    {
     "name": "stderr",
     "output_type": "stream",
     "text": [
      "\n",
      "preparing: 100%|##########################################################################| 1/1 [00:00<00:00, 26.17it/s]\n"
     ]
    },
    {
     "name": "stdout",
     "output_type": "stream",
     "text": [
      "5d4b4003-efcd-4ab6-a554-cf87d177d4ae\n",
      "sim calculated successfully\n",
      "\n",
      "819.141 0.4875 866.527\n",
      "0 existing calculation records provided\n"
     ]
    },
    {
     "name": "stderr",
     "output_type": "stream",
     "text": [
      "100%|█████████████████████████████████████████████████████████████████████████████████████| 1/1 [00:00<00:00,  2.75it/s]"
     ]
    },
    {
     "name": "stdout",
     "output_type": "stream",
     "text": [
      "1 calculation combinations to check\n",
      "1 new records to prepare\n"
     ]
    },
    {
     "name": "stderr",
     "output_type": "stream",
     "text": [
      "\n",
      "preparing: 100%|##########################################################################| 1/1 [00:00<00:00, 37.96it/s]\n"
     ]
    },
    {
     "name": "stdout",
     "output_type": "stream",
     "text": [
      "66ab868b-3086-474f-a721-e8b2666a2315\n",
      "sim calculated successfully\n",
      "\n",
      "819.141 0.481 861.365\n",
      "50 2004--Zhou-X-W--Ag--LAMMPS--ipr1\n",
      "0 existing calculation records provided\n"
     ]
    },
    {
     "name": "stderr",
     "output_type": "stream",
     "text": [
      "100%|█████████████████████████████████████████████████████████████████████████████████████| 1/1 [00:00<00:00,  4.13it/s]"
     ]
    },
    {
     "name": "stdout",
     "output_type": "stream",
     "text": [
      "1 calculation combinations to check\n",
      "1 new records to prepare\n"
     ]
    },
    {
     "name": "stderr",
     "output_type": "stream",
     "text": [
      "\n",
      "preparing: 100%|##########################################################################| 1/1 [00:00<00:00, 92.67it/s]\n"
     ]
    },
    {
     "name": "stdout",
     "output_type": "stream",
     "text": [
      "b0fdfd1b-7fb3-437a-8954-ecd0ecd69a63\n",
      "sim calculated successfully\n",
      "\n",
      "4525.000 0.06575 3805.800\n",
      "0 existing calculation records provided\n"
     ]
    },
    {
     "name": "stderr",
     "output_type": "stream",
     "text": [
      "100%|█████████████████████████████████████████████████████████████████████████████████████| 1/1 [00:00<00:00,  4.12it/s]"
     ]
    },
    {
     "name": "stdout",
     "output_type": "stream",
     "text": [
      "1 calculation combinations to check\n",
      "1 new records to prepare\n"
     ]
    },
    {
     "name": "stderr",
     "output_type": "stream",
     "text": [
      "\n",
      "preparing: 100%|##########################################################################| 1/1 [00:00<00:00, 90.86it/s]\n"
     ]
    },
    {
     "name": "stdout",
     "output_type": "stream",
     "text": [
      "897ce1f6-5991-498c-b73e-97430a734e60\n",
      "sim calculated successfully\n",
      "\n",
      "2287.500 0.0001552 2267.176\n",
      "0 existing calculation records provided\n"
     ]
    },
    {
     "name": "stderr",
     "output_type": "stream",
     "text": [
      "100%|█████████████████████████████████████████████████████████████████████████████████████| 1/1 [00:00<00:00,  4.30it/s]"
     ]
    },
    {
     "name": "stdout",
     "output_type": "stream",
     "text": [
      "1 calculation combinations to check\n",
      "1 new records to prepare\n"
     ]
    },
    {
     "name": "stderr",
     "output_type": "stream",
     "text": [
      "\n",
      "preparing: 100%|##########################################################################| 1/1 [00:00<00:00, 90.98it/s]\n"
     ]
    },
    {
     "name": "stdout",
     "output_type": "stream",
     "text": [
      "4d204b31-7b93-45ff-adab-f57d3630e9dd\n",
      "sim calculated successfully\n",
      "\n",
      "1168.750 0.4489 1147.484\n",
      "0 existing calculation records provided\n"
     ]
    },
    {
     "name": "stderr",
     "output_type": "stream",
     "text": [
      "100%|█████████████████████████████████████████████████████████████████████████████████████| 1/1 [00:00<00:00,  4.39it/s]"
     ]
    },
    {
     "name": "stdout",
     "output_type": "stream",
     "text": [
      "1 calculation combinations to check\n",
      "1 new records to prepare\n"
     ]
    },
    {
     "name": "stderr",
     "output_type": "stream",
     "text": [
      "\n",
      "preparing: 100%|##########################################################################| 1/1 [00:00<00:00, 86.68it/s]\n"
     ]
    },
    {
     "name": "stdout",
     "output_type": "stream",
     "text": [
      "4b35e41f-3caa-4eb2-8861-4a60088a7a54\n",
      "sim calculated successfully\n",
      "\n",
      "1168.750 0.4338 1142.887\n",
      "0 existing calculation records provided\n"
     ]
    },
    {
     "name": "stderr",
     "output_type": "stream",
     "text": [
      "100%|█████████████████████████████████████████████████████████████████████████████████████| 1/1 [00:00<00:00,  2.46it/s]"
     ]
    },
    {
     "name": "stdout",
     "output_type": "stream",
     "text": [
      "1 calculation combinations to check\n",
      "1 new records to prepare\n"
     ]
    },
    {
     "name": "stderr",
     "output_type": "stream",
     "text": [
      "\n",
      "preparing: 100%|##########################################################################| 1/1 [00:00<00:00, 85.65it/s]\n"
     ]
    },
    {
     "name": "stdout",
     "output_type": "stream",
     "text": [
      "08d170e6-3d3f-46c7-84b2-bc62266e3725\n",
      "sim calculated successfully\n",
      "\n",
      "1168.750 0.4301 1135.971\n",
      "0 existing calculation records provided\n"
     ]
    },
    {
     "name": "stderr",
     "output_type": "stream",
     "text": [
      "100%|█████████████████████████████████████████████████████████████████████████████████████| 1/1 [00:00<00:00,  3.00it/s]"
     ]
    },
    {
     "name": "stdout",
     "output_type": "stream",
     "text": [
      "1 calculation combinations to check\n",
      "1 new records to prepare\n"
     ]
    },
    {
     "name": "stderr",
     "output_type": "stream",
     "text": [
      "\n",
      "preparing: 100%|##########################################################################| 1/1 [00:00<00:00, 49.58it/s]\n"
     ]
    },
    {
     "name": "stdout",
     "output_type": "stream",
     "text": [
      "3aed3352-3e99-4a6b-878d-44d8c85ab91c\n",
      "sim calculated successfully\n",
      "\n",
      "1168.750 0.4331 1141.873\n",
      "0 existing calculation records provided\n"
     ]
    },
    {
     "name": "stderr",
     "output_type": "stream",
     "text": [
      "100%|█████████████████████████████████████████████████████████████████████████████████████| 1/1 [00:00<00:00,  2.38it/s]"
     ]
    },
    {
     "name": "stdout",
     "output_type": "stream",
     "text": [
      "1 calculation combinations to check\n",
      "1 new records to prepare\n"
     ]
    },
    {
     "name": "stderr",
     "output_type": "stream",
     "text": [
      "\n",
      "preparing: 100%|##########################################################################| 1/1 [00:00<00:00, 34.93it/s]\n"
     ]
    },
    {
     "name": "stdout",
     "output_type": "stream",
     "text": [
      "8a7dbd77-6027-4ea1-9b97-89742522e745\n",
      "sim calculated successfully\n",
      "\n",
      "1168.750 0.4021 1133.907\n",
      "0 existing calculation records provided\n"
     ]
    },
    {
     "name": "stderr",
     "output_type": "stream",
     "text": [
      "100%|█████████████████████████████████████████████████████████████████████████████████████| 1/1 [00:00<00:00,  2.77it/s]"
     ]
    },
    {
     "name": "stdout",
     "output_type": "stream",
     "text": [
      "1 calculation combinations to check\n",
      "1 new records to prepare\n"
     ]
    },
    {
     "name": "stderr",
     "output_type": "stream",
     "text": [
      "\n",
      "preparing: 100%|##########################################################################| 1/1 [00:00<00:00, 98.32it/s]\n"
     ]
    },
    {
     "name": "stdout",
     "output_type": "stream",
     "text": [
      "a912953e-9338-48d3-b774-9ef923718aaf\n",
      "sim calculated successfully\n",
      "\n",
      "1168.750 0.4825 1157.391\n",
      "0 existing calculation records provided\n"
     ]
    },
    {
     "name": "stderr",
     "output_type": "stream",
     "text": [
      "100%|█████████████████████████████████████████████████████████████████████████████████████| 1/1 [00:00<00:00,  2.43it/s]"
     ]
    },
    {
     "name": "stdout",
     "output_type": "stream",
     "text": [
      "1 calculation combinations to check\n",
      "1 new records to prepare\n"
     ]
    },
    {
     "name": "stderr",
     "output_type": "stream",
     "text": [
      "\n",
      "preparing: 100%|##########################################################################| 1/1 [00:00<00:00, 87.61it/s]\n"
     ]
    },
    {
     "name": "stdout",
     "output_type": "stream",
     "text": [
      "7501a795-5693-4e5a-bdc5-cf635210b364\n",
      "sim calculated successfully\n",
      "\n",
      "1168.750 0.4329 1140.206\n",
      "0 existing calculation records provided\n"
     ]
    },
    {
     "name": "stderr",
     "output_type": "stream",
     "text": [
      "100%|█████████████████████████████████████████████████████████████████████████████████████| 1/1 [00:00<00:00,  2.39it/s]"
     ]
    },
    {
     "name": "stdout",
     "output_type": "stream",
     "text": [
      "1 calculation combinations to check\n",
      "1 new records to prepare\n"
     ]
    },
    {
     "name": "stderr",
     "output_type": "stream",
     "text": [
      "\n",
      "preparing: 100%|##########################################################################| 1/1 [00:00<00:00, 96.29it/s]\n"
     ]
    },
    {
     "name": "stdout",
     "output_type": "stream",
     "text": [
      "9f35543d-a0a2-4619-b28f-76ef829580ad\n",
      "sim calculated successfully\n",
      "\n",
      "1168.750 0.4379 1141.189\n",
      "0 existing calculation records provided\n"
     ]
    },
    {
     "name": "stderr",
     "output_type": "stream",
     "text": [
      "100%|█████████████████████████████████████████████████████████████████████████████████████| 1/1 [00:00<00:00,  2.71it/s]"
     ]
    },
    {
     "name": "stdout",
     "output_type": "stream",
     "text": [
      "1 calculation combinations to check\n",
      "1 new records to prepare\n"
     ]
    },
    {
     "name": "stderr",
     "output_type": "stream",
     "text": [
      "\n",
      "preparing: 100%|##########################################################################| 1/1 [00:00<00:00, 44.58it/s]\n"
     ]
    },
    {
     "name": "stdout",
     "output_type": "stream",
     "text": [
      "58e1a4f7-374a-4aca-804e-9fc347f94656\n",
      "sim calculated successfully\n",
      "\n",
      "1168.750 0.4499 1141.596\n",
      "0 existing calculation records provided\n"
     ]
    },
    {
     "name": "stderr",
     "output_type": "stream",
     "text": [
      "100%|█████████████████████████████████████████████████████████████████████████████████████| 1/1 [00:00<00:00,  2.42it/s]"
     ]
    },
    {
     "name": "stdout",
     "output_type": "stream",
     "text": [
      "1 calculation combinations to check\n",
      "1 new records to prepare\n"
     ]
    },
    {
     "name": "stderr",
     "output_type": "stream",
     "text": [
      "\n",
      "preparing: 100%|##########################################################################| 1/1 [00:00<00:00, 86.30it/s]\n"
     ]
    },
    {
     "name": "stdout",
     "output_type": "stream",
     "text": [
      "20bcb34a-b1f9-4dcf-b7fa-b28bcb1276c1\n",
      "sim calculated successfully\n",
      "\n",
      "1168.750 0.4326 1139.474\n",
      "51 2004--Zhou-X-W--Ag--LAMMPS--ipr2\n",
      "0 existing calculation records provided\n"
     ]
    },
    {
     "name": "stderr",
     "output_type": "stream",
     "text": [
      "100%|█████████████████████████████████████████████████████████████████████████████████████| 1/1 [00:00<00:00,  3.87it/s]"
     ]
    },
    {
     "name": "stdout",
     "output_type": "stream",
     "text": [
      "1 calculation combinations to check\n",
      "1 new records to prepare\n"
     ]
    },
    {
     "name": "stderr",
     "output_type": "stream",
     "text": [
      "\n",
      "preparing: 100%|##########################################################################| 1/1 [00:00<00:00, 90.35it/s]\n"
     ]
    },
    {
     "name": "stdout",
     "output_type": "stream",
     "text": [
      "e9161b8f-a1a9-4caf-a1f9-bc82c54825b1\n",
      "sim calculated successfully\n",
      "\n",
      "4525.000 0.06958 3749.454\n",
      "0 existing calculation records provided\n"
     ]
    },
    {
     "name": "stderr",
     "output_type": "stream",
     "text": [
      "100%|█████████████████████████████████████████████████████████████████████████████████████| 1/1 [00:00<00:00,  2.26it/s]"
     ]
    },
    {
     "name": "stdout",
     "output_type": "stream",
     "text": [
      "1 calculation combinations to check\n",
      "1 new records to prepare\n"
     ]
    },
    {
     "name": "stderr",
     "output_type": "stream",
     "text": [
      "\n",
      "preparing: 100%|##########################################################################| 1/1 [00:00<00:00, 76.42it/s]\n"
     ]
    },
    {
     "name": "stdout",
     "output_type": "stream",
     "text": [
      "6dcaa78c-7206-42a2-a1da-0feae73fc104\n",
      "sim calculated successfully\n",
      "\n",
      "2287.500 8.276e-05 2272.249\n",
      "0 existing calculation records provided\n"
     ]
    },
    {
     "name": "stderr",
     "output_type": "stream",
     "text": [
      "100%|█████████████████████████████████████████████████████████████████████████████████████| 1/1 [00:00<00:00,  2.35it/s]"
     ]
    },
    {
     "name": "stdout",
     "output_type": "stream",
     "text": [
      "1 calculation combinations to check\n",
      "1 new records to prepare\n"
     ]
    },
    {
     "name": "stderr",
     "output_type": "stream",
     "text": [
      "\n",
      "preparing: 100%|##########################################################################| 1/1 [00:00<00:00, 74.48it/s]\n"
     ]
    },
    {
     "name": "stdout",
     "output_type": "stream",
     "text": [
      "254419aa-57b3-408d-b398-ffee61e41b04\n",
      "sim calculated successfully\n",
      "\n",
      "1168.750 0.4144 1138.471\n",
      "0 existing calculation records provided\n"
     ]
    },
    {
     "name": "stderr",
     "output_type": "stream",
     "text": [
      "100%|█████████████████████████████████████████████████████████████████████████████████████| 1/1 [00:00<00:00,  4.33it/s]"
     ]
    },
    {
     "name": "stdout",
     "output_type": "stream",
     "text": [
      "1 calculation combinations to check\n",
      "1 new records to prepare\n"
     ]
    },
    {
     "name": "stderr",
     "output_type": "stream",
     "text": [
      "\n",
      "preparing: 100%|##########################################################################| 1/1 [00:00<00:00, 75.18it/s]\n"
     ]
    },
    {
     "name": "stdout",
     "output_type": "stream",
     "text": [
      "de4492f1-5a82-4b61-9d2c-edb1446c22a0\n",
      "sim calculated successfully\n",
      "\n",
      "1168.750 0.4398 1145.384\n",
      "0 existing calculation records provided\n"
     ]
    },
    {
     "name": "stderr",
     "output_type": "stream",
     "text": [
      "100%|█████████████████████████████████████████████████████████████████████████████████████| 1/1 [00:00<00:00,  1.82it/s]"
     ]
    },
    {
     "name": "stdout",
     "output_type": "stream",
     "text": [
      "1 calculation combinations to check\n",
      "1 new records to prepare\n"
     ]
    },
    {
     "name": "stderr",
     "output_type": "stream",
     "text": [
      "\n",
      "preparing: 100%|##########################################################################| 1/1 [00:00<00:00, 71.13it/s]\n"
     ]
    },
    {
     "name": "stdout",
     "output_type": "stream",
     "text": [
      "8047df9f-9e68-47c9-baf8-b4dda0976227\n",
      "sim calculated successfully\n",
      "\n",
      "1168.750 0.4205 1140.128\n",
      "0 existing calculation records provided\n"
     ]
    },
    {
     "name": "stderr",
     "output_type": "stream",
     "text": [
      "100%|█████████████████████████████████████████████████████████████████████████████████████| 1/1 [00:00<00:00,  2.65it/s]"
     ]
    },
    {
     "name": "stdout",
     "output_type": "stream",
     "text": [
      "1 calculation combinations to check\n",
      "1 new records to prepare\n"
     ]
    },
    {
     "name": "stderr",
     "output_type": "stream",
     "text": [
      "\n",
      "preparing: 100%|##########################################################################| 1/1 [00:00<00:00, 69.54it/s]\n"
     ]
    },
    {
     "name": "stdout",
     "output_type": "stream",
     "text": [
      "13a03799-4c88-4820-b3d0-8661ce7f2fe7\n",
      "sim calculated successfully\n",
      "\n",
      "1168.750 0.4091 1134.515\n",
      "0 existing calculation records provided\n"
     ]
    },
    {
     "name": "stderr",
     "output_type": "stream",
     "text": [
      "100%|█████████████████████████████████████████████████████████████████████████████████████| 1/1 [00:00<00:00,  4.30it/s]"
     ]
    },
    {
     "name": "stdout",
     "output_type": "stream",
     "text": [
      "1 calculation combinations to check\n",
      "1 new records to prepare\n"
     ]
    },
    {
     "name": "stderr",
     "output_type": "stream",
     "text": [
      "\n",
      "preparing: 100%|##########################################################################| 1/1 [00:00<00:00, 82.57it/s]\n"
     ]
    },
    {
     "name": "stdout",
     "output_type": "stream",
     "text": [
      "e1998359-e015-446b-8ddc-f77e3262c9cf\n",
      "sim calculated successfully\n",
      "\n",
      "1168.750 0.4224 1138.203\n",
      "0 existing calculation records provided\n"
     ]
    },
    {
     "name": "stderr",
     "output_type": "stream",
     "text": [
      "100%|█████████████████████████████████████████████████████████████████████████████████████| 1/1 [00:00<00:00,  1.86it/s]"
     ]
    },
    {
     "name": "stdout",
     "output_type": "stream",
     "text": [
      "1 calculation combinations to check\n",
      "1 new records to prepare\n"
     ]
    },
    {
     "name": "stderr",
     "output_type": "stream",
     "text": [
      "\n",
      "preparing: 100%|##########################################################################| 1/1 [00:00<00:00, 75.48it/s]\n"
     ]
    },
    {
     "name": "stdout",
     "output_type": "stream",
     "text": [
      "8153aa96-cd59-4923-ac4a-7e5d57b6f233\n",
      "sim calculated successfully\n",
      "\n",
      "1168.750 0.4233 1144.551\n",
      "0 existing calculation records provided\n"
     ]
    },
    {
     "name": "stderr",
     "output_type": "stream",
     "text": [
      "100%|█████████████████████████████████████████████████████████████████████████████████████| 1/1 [00:00<00:00,  2.59it/s]"
     ]
    },
    {
     "name": "stdout",
     "output_type": "stream",
     "text": [
      "1 calculation combinations to check\n",
      "1 new records to prepare\n"
     ]
    },
    {
     "name": "stderr",
     "output_type": "stream",
     "text": [
      "\n",
      "preparing: 100%|##########################################################################| 1/1 [00:00<00:00, 75.37it/s]\n"
     ]
    },
    {
     "name": "stdout",
     "output_type": "stream",
     "text": [
      "70b51809-138f-4910-a2f6-ab745e88f639\n",
      "sim calculated successfully\n",
      "\n",
      "1168.750 0.4438 1141.880\n",
      "0 existing calculation records provided\n"
     ]
    },
    {
     "name": "stderr",
     "output_type": "stream",
     "text": [
      "100%|█████████████████████████████████████████████████████████████████████████████████████| 1/1 [00:00<00:00,  1.54it/s]"
     ]
    },
    {
     "name": "stdout",
     "output_type": "stream",
     "text": [
      "1 calculation combinations to check\n",
      "1 new records to prepare\n"
     ]
    },
    {
     "name": "stderr",
     "output_type": "stream",
     "text": [
      "\n",
      "preparing: 100%|##########################################################################| 1/1 [00:00<00:00, 57.19it/s]\n"
     ]
    },
    {
     "name": "stdout",
     "output_type": "stream",
     "text": [
      "528d1fa0-b916-4e91-a50d-fb77ef3d7f0a\n",
      "sim calculated successfully\n",
      "\n",
      "1168.750 0.4324 1148.936\n",
      "0 existing calculation records provided\n"
     ]
    },
    {
     "name": "stderr",
     "output_type": "stream",
     "text": [
      "100%|█████████████████████████████████████████████████████████████████████████████████████| 1/1 [00:00<00:00,  2.27it/s]"
     ]
    },
    {
     "name": "stdout",
     "output_type": "stream",
     "text": [
      "1 calculation combinations to check\n",
      "1 new records to prepare\n"
     ]
    },
    {
     "name": "stderr",
     "output_type": "stream",
     "text": [
      "\n",
      "preparing: 100%|##########################################################################| 1/1 [00:00<00:00, 81.47it/s]\n"
     ]
    },
    {
     "name": "stdout",
     "output_type": "stream",
     "text": [
      "51cddaa9-aebd-43fe-8411-a78705d040d2\n",
      "sim calculated successfully\n",
      "\n",
      "1168.750 0.424 1143.430\n",
      "0 existing calculation records provided\n"
     ]
    },
    {
     "name": "stderr",
     "output_type": "stream",
     "text": [
      "100%|█████████████████████████████████████████████████████████████████████████████████████| 1/1 [00:00<00:00,  4.18it/s]"
     ]
    },
    {
     "name": "stdout",
     "output_type": "stream",
     "text": [
      "1 calculation combinations to check\n",
      "1 new records to prepare\n"
     ]
    },
    {
     "name": "stderr",
     "output_type": "stream",
     "text": [
      "\n",
      "preparing: 100%|##########################################################################| 1/1 [00:00<00:00, 60.32it/s]\n"
     ]
    },
    {
     "name": "stdout",
     "output_type": "stream",
     "text": [
      "38c5a381-1a4b-48cf-80ca-cd9dbd675fe1\n",
      "sim calculated successfully\n",
      "\n",
      "1168.750 0.4221 1142.446\n",
      "52 2004--Zhou-X-W--Al--LAMMPS--ipr1\n",
      "0 existing calculation records provided\n"
     ]
    },
    {
     "name": "stderr",
     "output_type": "stream",
     "text": [
      "100%|█████████████████████████████████████████████████████████████████████████████████████| 1/1 [00:00<00:00,  2.43it/s]"
     ]
    },
    {
     "name": "stdout",
     "output_type": "stream",
     "text": [
      "1 calculation combinations to check\n",
      "1 new records to prepare\n"
     ]
    },
    {
     "name": "stderr",
     "output_type": "stream",
     "text": [
      "\n",
      "preparing: 100%|##########################################################################| 1/1 [00:00<00:00, 72.48it/s]\n"
     ]
    },
    {
     "name": "stdout",
     "output_type": "stream",
     "text": [
      "a39a7a24-7153-486c-96df-1c122bfa1481\n",
      "sim calculated successfully\n",
      "\n",
      "4525.000 0.0 4502.975\n",
      "0 existing calculation records provided\n"
     ]
    },
    {
     "name": "stderr",
     "output_type": "stream",
     "text": [
      "100%|█████████████████████████████████████████████████████████████████████████████████████| 1/1 [00:00<00:00,  2.62it/s]"
     ]
    },
    {
     "name": "stdout",
     "output_type": "stream",
     "text": [
      "1 calculation combinations to check\n",
      "1 new records to prepare\n"
     ]
    },
    {
     "name": "stderr",
     "output_type": "stream",
     "text": [
      "\n",
      "preparing: 100%|##########################################################################| 1/1 [00:00<00:00, 75.13it/s]\n"
     ]
    },
    {
     "name": "stdout",
     "output_type": "stream",
     "text": [
      "bc9e04e9-b8e1-4697-9e0e-efaa257c7e99\n",
      "sim calculated successfully\n",
      "\n",
      "2287.500 1.034e-05 2280.577\n",
      "0 existing calculation records provided\n"
     ]
    },
    {
     "name": "stderr",
     "output_type": "stream",
     "text": [
      "100%|█████████████████████████████████████████████████████████████████████████████████████| 1/1 [00:00<00:00,  4.04it/s]"
     ]
    },
    {
     "name": "stdout",
     "output_type": "stream",
     "text": [
      "1 calculation combinations to check\n",
      "1 new records to prepare\n"
     ]
    },
    {
     "name": "stderr",
     "output_type": "stream",
     "text": [
      "\n",
      "preparing: 100%|##########################################################################| 1/1 [00:00<00:00, 74.83it/s]\n"
     ]
    },
    {
     "name": "stdout",
     "output_type": "stream",
     "text": [
      "1c9e277f-441f-4eda-b523-e9a7628f5bea\n",
      "sim calculated successfully\n",
      "\n",
      "1168.750 0.0002897 1163.610\n",
      "0 existing calculation records provided\n"
     ]
    },
    {
     "name": "stderr",
     "output_type": "stream",
     "text": [
      "100%|█████████████████████████████████████████████████████████████████████████████████████| 1/1 [00:00<00:00,  2.29it/s]"
     ]
    },
    {
     "name": "stdout",
     "output_type": "stream",
     "text": [
      "1 calculation combinations to check\n",
      "1 new records to prepare\n"
     ]
    },
    {
     "name": "stderr",
     "output_type": "stream",
     "text": [
      "\n",
      "preparing: 100%|##########################################################################| 1/1 [00:00<00:00, 72.47it/s]\n"
     ]
    },
    {
     "name": "stdout",
     "output_type": "stream",
     "text": [
      "f9658ed5-8507-4da5-902d-987c4d1d16c3\n",
      "sim calculated successfully\n",
      "\n",
      "609.375 0.1477 570.904\n",
      "0 existing calculation records provided\n"
     ]
    },
    {
     "name": "stderr",
     "output_type": "stream",
     "text": [
      "100%|█████████████████████████████████████████████████████████████████████████████████████| 1/1 [00:00<00:00,  2.32it/s]"
     ]
    },
    {
     "name": "stdout",
     "output_type": "stream",
     "text": [
      "1 calculation combinations to check\n",
      "1 new records to prepare\n"
     ]
    },
    {
     "name": "stderr",
     "output_type": "stream",
     "text": [
      "\n",
      "preparing: 100%|##########################################################################| 1/1 [00:00<00:00, 75.99it/s]\n"
     ]
    },
    {
     "name": "stdout",
     "output_type": "stream",
     "text": [
      "dc421cea-c92f-4544-8a09-409c83e3006d\n",
      "sim calculated successfully\n",
      "\n",
      "329.688 0.9996 328.223\n",
      "0 existing calculation records provided\n"
     ]
    },
    {
     "name": "stderr",
     "output_type": "stream",
     "text": [
      "100%|█████████████████████████████████████████████████████████████████████████████████████| 1/1 [00:00<00:00,  4.25it/s]"
     ]
    },
    {
     "name": "stdout",
     "output_type": "stream",
     "text": [
      "1 calculation combinations to check\n",
      "1 new records to prepare\n"
     ]
    },
    {
     "name": "stderr",
     "output_type": "stream",
     "text": [
      "\n",
      "preparing: 100%|##########################################################################| 1/1 [00:00<00:00, 56.18it/s]\n"
     ]
    },
    {
     "name": "stdout",
     "output_type": "stream",
     "text": [
      "1efcfcb0-815e-4db3-96a9-82ff26a9d04f\n",
      "sim calculated successfully\n",
      "\n",
      "469.531 0.9433 467.591\n",
      "0 existing calculation records provided\n"
     ]
    },
    {
     "name": "stderr",
     "output_type": "stream",
     "text": [
      "100%|█████████████████████████████████████████████████████████████████████████████████████| 1/1 [00:00<00:00,  2.82it/s]"
     ]
    },
    {
     "name": "stdout",
     "output_type": "stream",
     "text": [
      "1 calculation combinations to check\n",
      "1 new records to prepare\n"
     ]
    },
    {
     "name": "stderr",
     "output_type": "stream",
     "text": [
      "\n",
      "preparing: 100%|#########################################################################| 1/1 [00:00<00:00, 102.79it/s]\n"
     ]
    },
    {
     "name": "stdout",
     "output_type": "stream",
     "text": [
      "fd4e2666-6dce-421d-b2ae-e5ad44a15e25\n",
      "sim calculated successfully\n",
      "\n",
      "539.453 0.5852 577.203\n",
      "0 existing calculation records provided\n"
     ]
    },
    {
     "name": "stderr",
     "output_type": "stream",
     "text": [
      "100%|█████████████████████████████████████████████████████████████████████████████████████| 1/1 [00:00<00:00,  2.49it/s]"
     ]
    },
    {
     "name": "stdout",
     "output_type": "stream",
     "text": [
      "1 calculation combinations to check\n",
      "1 new records to prepare\n"
     ]
    },
    {
     "name": "stderr",
     "output_type": "stream",
     "text": [
      "\n",
      "preparing: 100%|##########################################################################| 1/1 [00:00<00:00, 70.49it/s]\n"
     ]
    },
    {
     "name": "stdout",
     "output_type": "stream",
     "text": [
      "3daca469-da05-4427-9f96-7e6d45ec8466\n",
      "sim calculated successfully\n",
      "\n",
      "539.453 0.5386 566.212\n",
      "0 existing calculation records provided\n"
     ]
    },
    {
     "name": "stderr",
     "output_type": "stream",
     "text": [
      "100%|█████████████████████████████████████████████████████████████████████████████████████| 1/1 [00:00<00:00,  4.22it/s]"
     ]
    },
    {
     "name": "stdout",
     "output_type": "stream",
     "text": [
      "1 calculation combinations to check\n",
      "1 new records to prepare\n"
     ]
    },
    {
     "name": "stderr",
     "output_type": "stream",
     "text": [
      "\n",
      "preparing: 100%|##########################################################################| 1/1 [00:00<00:00, 75.30it/s]\n"
     ]
    },
    {
     "name": "stdout",
     "output_type": "stream",
     "text": [
      "c1b447e4-9013-4191-acca-5529a874c92e\n",
      "sim calculated successfully\n",
      "\n",
      "539.453 0.5263 559.583\n",
      "0 existing calculation records provided\n"
     ]
    },
    {
     "name": "stderr",
     "output_type": "stream",
     "text": [
      "100%|█████████████████████████████████████████████████████████████████████████████████████| 1/1 [00:00<00:00,  2.58it/s]"
     ]
    },
    {
     "name": "stdout",
     "output_type": "stream",
     "text": [
      "1 calculation combinations to check\n",
      "1 new records to prepare\n"
     ]
    },
    {
     "name": "stderr",
     "output_type": "stream",
     "text": [
      "\n",
      "preparing: 100%|##########################################################################| 1/1 [00:00<00:00, 56.15it/s]\n"
     ]
    },
    {
     "name": "stdout",
     "output_type": "stream",
     "text": [
      "e4b67012-fd65-4232-be14-a3838ab62175\n",
      "sim calculated successfully\n",
      "\n",
      "539.453 0.574 563.531\n",
      "0 existing calculation records provided\n"
     ]
    },
    {
     "name": "stderr",
     "output_type": "stream",
     "text": [
      "100%|█████████████████████████████████████████████████████████████████████████████████████| 1/1 [00:00<00:00,  2.63it/s]"
     ]
    },
    {
     "name": "stdout",
     "output_type": "stream",
     "text": [
      "1 calculation combinations to check\n",
      "1 new records to prepare\n"
     ]
    },
    {
     "name": "stderr",
     "output_type": "stream",
     "text": [
      "\n",
      "preparing: 100%|##########################################################################| 1/1 [00:00<00:00, 85.33it/s]\n"
     ]
    },
    {
     "name": "stdout",
     "output_type": "stream",
     "text": [
      "aa0629a3-1b1b-4c8b-89e8-354454759cfa\n",
      "sim calculated successfully\n",
      "\n",
      "539.453 0.5583 562.978\n",
      "0 existing calculation records provided\n"
     ]
    },
    {
     "name": "stderr",
     "output_type": "stream",
     "text": [
      "100%|█████████████████████████████████████████████████████████████████████████████████████| 1/1 [00:00<00:00,  4.25it/s]"
     ]
    },
    {
     "name": "stdout",
     "output_type": "stream",
     "text": [
      "1 calculation combinations to check\n",
      "1 new records to prepare\n"
     ]
    },
    {
     "name": "stderr",
     "output_type": "stream",
     "text": [
      "\n",
      "preparing: 100%|##########################################################################| 1/1 [00:00<00:00, 59.93it/s]\n"
     ]
    },
    {
     "name": "stdout",
     "output_type": "stream",
     "text": [
      "735a8fc3-04a1-46d9-a0ec-91d7fb93a8cc\n",
      "sim calculated successfully\n",
      "\n",
      "539.453 0.5565 566.549\n",
      "0 existing calculation records provided\n"
     ]
    },
    {
     "name": "stderr",
     "output_type": "stream",
     "text": [
      "100%|█████████████████████████████████████████████████████████████████████████████████████| 1/1 [00:00<00:00,  2.28it/s]"
     ]
    },
    {
     "name": "stdout",
     "output_type": "stream",
     "text": [
      "1 calculation combinations to check\n",
      "1 new records to prepare\n"
     ]
    },
    {
     "name": "stderr",
     "output_type": "stream",
     "text": [
      "\n",
      "preparing: 100%|##########################################################################| 1/1 [00:00<00:00, 72.34it/s]\n"
     ]
    },
    {
     "name": "stdout",
     "output_type": "stream",
     "text": [
      "8b7157cd-2359-4630-ba56-5e4e30f81866\n",
      "sim calculated successfully\n",
      "\n",
      "539.453 0.5392 560.732\n",
      "0 existing calculation records provided\n"
     ]
    },
    {
     "name": "stderr",
     "output_type": "stream",
     "text": [
      "100%|█████████████████████████████████████████████████████████████████████████████████████| 1/1 [00:00<00:00,  2.22it/s]"
     ]
    },
    {
     "name": "stdout",
     "output_type": "stream",
     "text": [
      "1 calculation combinations to check\n",
      "1 new records to prepare\n"
     ]
    },
    {
     "name": "stderr",
     "output_type": "stream",
     "text": [
      "\n",
      "preparing: 100%|##########################################################################| 1/1 [00:00<00:00, 79.96it/s]\n"
     ]
    },
    {
     "name": "stdout",
     "output_type": "stream",
     "text": [
      "608bad86-c03a-4775-84d1-43a10033f8e8\n",
      "sim calculated successfully\n",
      "\n",
      "539.453 0.5347 566.970\n",
      "0 existing calculation records provided\n"
     ]
    },
    {
     "name": "stderr",
     "output_type": "stream",
     "text": [
      "100%|█████████████████████████████████████████████████████████████████████████████████████| 1/1 [00:00<00:00,  4.10it/s]"
     ]
    },
    {
     "name": "stdout",
     "output_type": "stream",
     "text": [
      "1 calculation combinations to check\n",
      "1 new records to prepare\n"
     ]
    },
    {
     "name": "stderr",
     "output_type": "stream",
     "text": [
      "\n",
      "preparing: 100%|##########################################################################| 1/1 [00:00<00:00, 79.78it/s]\n"
     ]
    },
    {
     "name": "stdout",
     "output_type": "stream",
     "text": [
      "686363e1-a4d8-482a-ac5b-12788726b50b\n",
      "sim calculated successfully\n",
      "\n",
      "539.453 0.573 566.335\n",
      "0 existing calculation records provided\n"
     ]
    },
    {
     "name": "stderr",
     "output_type": "stream",
     "text": [
      "100%|█████████████████████████████████████████████████████████████████████████████████████| 1/1 [00:00<00:00,  2.06it/s]"
     ]
    },
    {
     "name": "stdout",
     "output_type": "stream",
     "text": [
      "1 calculation combinations to check\n",
      "1 new records to prepare\n"
     ]
    },
    {
     "name": "stderr",
     "output_type": "stream",
     "text": [
      "\n",
      "preparing: 100%|##########################################################################| 1/1 [00:00<00:00, 68.77it/s]\n"
     ]
    },
    {
     "name": "stdout",
     "output_type": "stream",
     "text": [
      "7128d0d4-3e6b-43b2-8729-3f0f0a5fe3c8\n",
      "sim calculated successfully\n",
      "\n",
      "539.453 0.5573 562.993\n",
      "53 2004--Zhou-X-W--Al--LAMMPS--ipr2\n",
      "0 existing calculation records provided\n"
     ]
    },
    {
     "name": "stderr",
     "output_type": "stream",
     "text": [
      "100%|█████████████████████████████████████████████████████████████████████████████████████| 1/1 [00:00<00:00,  1.65it/s]"
     ]
    },
    {
     "name": "stdout",
     "output_type": "stream",
     "text": [
      "1 calculation combinations to check\n",
      "1 new records to prepare\n"
     ]
    },
    {
     "name": "stderr",
     "output_type": "stream",
     "text": [
      "\n",
      "preparing: 100%|##########################################################################| 1/1 [00:00<00:00, 80.77it/s]\n"
     ]
    },
    {
     "name": "stdout",
     "output_type": "stream",
     "text": [
      "f5bd639e-a9c1-4c37-8484-701c35a1ec1e\n",
      "sim calculated successfully\n",
      "\n",
      "4525.000 0.0 4501.898\n",
      "0 existing calculation records provided\n"
     ]
    },
    {
     "name": "stderr",
     "output_type": "stream",
     "text": [
      "100%|█████████████████████████████████████████████████████████████████████████████████████| 1/1 [00:00<00:00,  4.21it/s]"
     ]
    },
    {
     "name": "stdout",
     "output_type": "stream",
     "text": [
      "1 calculation combinations to check\n",
      "1 new records to prepare\n"
     ]
    },
    {
     "name": "stderr",
     "output_type": "stream",
     "text": [
      "\n",
      "preparing: 100%|##########################################################################| 1/1 [00:00<00:00, 69.98it/s]\n"
     ]
    },
    {
     "name": "stdout",
     "output_type": "stream",
     "text": [
      "b5fec25e-cc5d-4024-9362-f02b5eed70e1\n",
      "sim calculated successfully\n",
      "\n",
      "2287.500 2.069e-05 2284.820\n",
      "0 existing calculation records provided\n"
     ]
    },
    {
     "name": "stderr",
     "output_type": "stream",
     "text": [
      "100%|█████████████████████████████████████████████████████████████████████████████████████| 1/1 [00:00<00:00,  2.43it/s]"
     ]
    },
    {
     "name": "stdout",
     "output_type": "stream",
     "text": [
      "1 calculation combinations to check\n",
      "1 new records to prepare\n"
     ]
    },
    {
     "name": "stderr",
     "output_type": "stream",
     "text": [
      "\n",
      "preparing: 100%|##########################################################################| 1/1 [00:00<00:00, 67.01it/s]\n"
     ]
    },
    {
     "name": "stdout",
     "output_type": "stream",
     "text": [
      "600d7068-1624-4415-bda0-24925f944890\n",
      "sim calculated successfully\n",
      "\n",
      "1168.750 0.0004345 1165.166\n",
      "0 existing calculation records provided\n"
     ]
    },
    {
     "name": "stderr",
     "output_type": "stream",
     "text": [
      "100%|█████████████████████████████████████████████████████████████████████████████████████| 1/1 [00:00<00:00,  2.34it/s]"
     ]
    },
    {
     "name": "stdout",
     "output_type": "stream",
     "text": [
      "1 calculation combinations to check\n",
      "1 new records to prepare\n"
     ]
    },
    {
     "name": "stderr",
     "output_type": "stream",
     "text": [
      "\n",
      "preparing: 100%|##########################################################################| 1/1 [00:00<00:00, 60.08it/s]\n"
     ]
    },
    {
     "name": "stdout",
     "output_type": "stream",
     "text": [
      "e1ec8cc1-2518-4160-953e-915077db3e64\n",
      "sim calculated successfully\n",
      "\n",
      "609.375 0.0952 560.830\n",
      "0 existing calculation records provided\n"
     ]
    },
    {
     "name": "stderr",
     "output_type": "stream",
     "text": [
      "100%|█████████████████████████████████████████████████████████████████████████████████████| 1/1 [00:00<00:00,  2.64it/s]"
     ]
    },
    {
     "name": "stdout",
     "output_type": "stream",
     "text": [
      "1 calculation combinations to check\n",
      "1 new records to prepare\n"
     ]
    },
    {
     "name": "stderr",
     "output_type": "stream",
     "text": [
      "\n",
      "preparing: 100%|##########################################################################| 1/1 [00:00<00:00, 70.77it/s]\n"
     ]
    },
    {
     "name": "stdout",
     "output_type": "stream",
     "text": [
      "a02ad042-f45e-44a2-8c8d-0151e5936bda\n",
      "sim calculated successfully\n",
      "\n",
      "329.688 0.9997 329.467\n",
      "0 existing calculation records provided\n"
     ]
    },
    {
     "name": "stderr",
     "output_type": "stream",
     "text": [
      "100%|█████████████████████████████████████████████████████████████████████████████████████| 1/1 [00:00<00:00,  2.31it/s]"
     ]
    },
    {
     "name": "stdout",
     "output_type": "stream",
     "text": [
      "1 calculation combinations to check\n",
      "1 new records to prepare\n"
     ]
    },
    {
     "name": "stderr",
     "output_type": "stream",
     "text": [
      "\n",
      "preparing: 100%|##########################################################################| 1/1 [00:00<00:00, 74.23it/s]\n"
     ]
    },
    {
     "name": "stdout",
     "output_type": "stream",
     "text": [
      "c1f2c574-dcec-4dd8-b0f3-31d7e4792bb5\n",
      "sim calculated successfully\n",
      "\n",
      "469.531 0.9854 467.156\n",
      "0 existing calculation records provided\n"
     ]
    },
    {
     "name": "stderr",
     "output_type": "stream",
     "text": [
      "100%|█████████████████████████████████████████████████████████████████████████████████████| 1/1 [00:00<00:00,  2.42it/s]"
     ]
    },
    {
     "name": "stdout",
     "output_type": "stream",
     "text": [
      "1 calculation combinations to check\n",
      "1 new records to prepare\n"
     ]
    },
    {
     "name": "stderr",
     "output_type": "stream",
     "text": [
      "\n",
      "preparing: 100%|##########################################################################| 1/1 [00:00<00:00, 76.71it/s]\n"
     ]
    },
    {
     "name": "stdout",
     "output_type": "stream",
     "text": [
      "01d517cc-6ead-4a51-91dc-89b7e7a7bc0f\n",
      "sim calculated successfully\n",
      "\n",
      "539.453 0.5563 563.359\n",
      "0 existing calculation records provided\n"
     ]
    },
    {
     "name": "stderr",
     "output_type": "stream",
     "text": [
      "100%|█████████████████████████████████████████████████████████████████████████████████████| 1/1 [00:00<00:00,  4.32it/s]"
     ]
    },
    {
     "name": "stdout",
     "output_type": "stream",
     "text": [
      "1 calculation combinations to check\n",
      "1 new records to prepare\n"
     ]
    },
    {
     "name": "stderr",
     "output_type": "stream",
     "text": [
      "\n",
      "preparing: 100%|##########################################################################| 1/1 [00:00<00:00, 80.42it/s]\n"
     ]
    },
    {
     "name": "stdout",
     "output_type": "stream",
     "text": [
      "d62c3af1-d82e-466d-b58c-203b511da828\n",
      "sim calculated successfully\n",
      "\n",
      "539.453 0.5751 565.021\n",
      "0 existing calculation records provided\n"
     ]
    },
    {
     "name": "stderr",
     "output_type": "stream",
     "text": [
      "100%|█████████████████████████████████████████████████████████████████████████████████████| 1/1 [00:00<00:00,  2.24it/s]"
     ]
    },
    {
     "name": "stdout",
     "output_type": "stream",
     "text": [
      "1 calculation combinations to check\n",
      "1 new records to prepare\n"
     ]
    },
    {
     "name": "stderr",
     "output_type": "stream",
     "text": [
      "\n",
      "preparing: 100%|##########################################################################| 1/1 [00:00<00:00, 65.07it/s]\n"
     ]
    },
    {
     "name": "stdout",
     "output_type": "stream",
     "text": [
      "0d314f47-0560-4537-8674-0535878fdb48\n",
      "sim calculated successfully\n",
      "\n",
      "539.453 0.5574 561.823\n",
      "0 existing calculation records provided\n"
     ]
    },
    {
     "name": "stderr",
     "output_type": "stream",
     "text": [
      "100%|█████████████████████████████████████████████████████████████████████████████████████| 1/1 [00:00<00:00,  2.49it/s]"
     ]
    },
    {
     "name": "stdout",
     "output_type": "stream",
     "text": [
      "1 calculation combinations to check\n",
      "1 new records to prepare\n"
     ]
    },
    {
     "name": "stderr",
     "output_type": "stream",
     "text": [
      "\n",
      "preparing: 100%|##########################################################################| 1/1 [00:00<00:00, 68.22it/s]\n"
     ]
    },
    {
     "name": "stdout",
     "output_type": "stream",
     "text": [
      "5352bec9-7470-455f-8c87-d909ed96c54d\n",
      "sim calculated successfully\n",
      "\n",
      "539.453 0.5505 573.058\n",
      "0 existing calculation records provided\n"
     ]
    },
    {
     "name": "stderr",
     "output_type": "stream",
     "text": [
      "100%|█████████████████████████████████████████████████████████████████████████████████████| 1/1 [00:00<00:00,  3.78it/s]"
     ]
    },
    {
     "name": "stdout",
     "output_type": "stream",
     "text": [
      "1 calculation combinations to check\n",
      "1 new records to prepare\n"
     ]
    },
    {
     "name": "stderr",
     "output_type": "stream",
     "text": [
      "\n",
      "preparing: 100%|##########################################################################| 1/1 [00:00<00:00, 75.02it/s]\n"
     ]
    },
    {
     "name": "stdout",
     "output_type": "stream",
     "text": [
      "f3c876db-dcd6-49f5-b4d8-416b626f5c76\n",
      "sim calculated successfully\n",
      "\n",
      "539.453 0.5524 568.318\n",
      "0 existing calculation records provided\n"
     ]
    },
    {
     "name": "stderr",
     "output_type": "stream",
     "text": [
      "100%|█████████████████████████████████████████████████████████████████████████████████████| 1/1 [00:00<00:00,  2.28it/s]"
     ]
    },
    {
     "name": "stdout",
     "output_type": "stream",
     "text": [
      "1 calculation combinations to check\n",
      "1 new records to prepare\n"
     ]
    },
    {
     "name": "stderr",
     "output_type": "stream",
     "text": [
      "\n",
      "preparing: 100%|##########################################################################| 1/1 [00:00<00:00, 33.24it/s]\n"
     ]
    },
    {
     "name": "stdout",
     "output_type": "stream",
     "text": [
      "27f8a1ef-01cf-46c9-879d-ee5de89073ad\n",
      "sim calculated successfully\n",
      "\n",
      "539.453 0.5378 564.626\n",
      "0 existing calculation records provided\n"
     ]
    },
    {
     "name": "stderr",
     "output_type": "stream",
     "text": [
      "100%|█████████████████████████████████████████████████████████████████████████████████████| 1/1 [00:00<00:00,  2.73it/s]"
     ]
    },
    {
     "name": "stdout",
     "output_type": "stream",
     "text": [
      "1 calculation combinations to check\n",
      "1 new records to prepare\n"
     ]
    },
    {
     "name": "stderr",
     "output_type": "stream",
     "text": [
      "\n",
      "preparing: 100%|##########################################################################| 1/1 [00:00<00:00, 75.35it/s]\n"
     ]
    },
    {
     "name": "stdout",
     "output_type": "stream",
     "text": [
      "e6d474c2-2035-494b-83f5-6c63e6641048\n",
      "sim calculated successfully\n",
      "\n",
      "539.453 0.521 565.102\n",
      "0 existing calculation records provided\n"
     ]
    },
    {
     "name": "stderr",
     "output_type": "stream",
     "text": [
      "100%|█████████████████████████████████████████████████████████████████████████████████████| 1/1 [00:00<00:00,  4.11it/s]"
     ]
    },
    {
     "name": "stdout",
     "output_type": "stream",
     "text": [
      "1 calculation combinations to check\n",
      "1 new records to prepare\n"
     ]
    },
    {
     "name": "stderr",
     "output_type": "stream",
     "text": [
      "\n",
      "preparing: 100%|##########################################################################| 1/1 [00:00<00:00, 52.39it/s]\n"
     ]
    },
    {
     "name": "stdout",
     "output_type": "stream",
     "text": [
      "290c1c99-ab09-48b4-b299-6c9390006546\n",
      "sim calculated successfully\n",
      "\n",
      "539.453 0.5554 563.951\n",
      "0 existing calculation records provided\n"
     ]
    },
    {
     "name": "stderr",
     "output_type": "stream",
     "text": [
      "100%|█████████████████████████████████████████████████████████████████████████████████████| 1/1 [00:00<00:00,  2.29it/s]"
     ]
    },
    {
     "name": "stdout",
     "output_type": "stream",
     "text": [
      "1 calculation combinations to check\n",
      "1 new records to prepare\n"
     ]
    },
    {
     "name": "stderr",
     "output_type": "stream",
     "text": [
      "\n",
      "preparing: 100%|##########################################################################| 1/1 [00:00<00:00, 73.94it/s]\n"
     ]
    },
    {
     "name": "stdout",
     "output_type": "stream",
     "text": [
      "9c92249c-f5ee-44e5-a4eb-09e59c15e166\n",
      "sim calculated successfully\n",
      "\n",
      "539.453 0.5748 582.924\n",
      "0 existing calculation records provided\n"
     ]
    },
    {
     "name": "stderr",
     "output_type": "stream",
     "text": [
      "100%|█████████████████████████████████████████████████████████████████████████████████████| 1/1 [00:00<00:00,  2.61it/s]"
     ]
    },
    {
     "name": "stdout",
     "output_type": "stream",
     "text": [
      "1 calculation combinations to check\n",
      "1 new records to prepare\n"
     ]
    },
    {
     "name": "stderr",
     "output_type": "stream",
     "text": [
      "\n",
      "preparing: 100%|##########################################################################| 1/1 [00:00<00:00, 78.47it/s]\n"
     ]
    },
    {
     "name": "stdout",
     "output_type": "stream",
     "text": [
      "70f47f39-227c-4599-a3ba-470a681a393d\n",
      "sim calculated successfully\n",
      "\n",
      "539.453 0.5468 585.881\n",
      "54 2004--Zhou-X-W--Au--LAMMPS--ipr1\n",
      "0 existing calculation records provided\n"
     ]
    },
    {
     "name": "stderr",
     "output_type": "stream",
     "text": [
      "100%|█████████████████████████████████████████████████████████████████████████████████████| 1/1 [00:00<00:00,  4.13it/s]"
     ]
    },
    {
     "name": "stdout",
     "output_type": "stream",
     "text": [
      "1 calculation combinations to check\n",
      "1 new records to prepare\n"
     ]
    },
    {
     "name": "stderr",
     "output_type": "stream",
     "text": [
      "\n",
      "preparing: 100%|##########################################################################| 1/1 [00:00<00:00, 79.72it/s]\n"
     ]
    },
    {
     "name": "stdout",
     "output_type": "stream",
     "text": [
      "81b89e0f-052e-4bcb-aab7-edf2776e968a\n",
      "sim calculated successfully\n",
      "\n",
      "4525.000 0.0 4617.828\n",
      "0 existing calculation records provided\n"
     ]
    },
    {
     "name": "stderr",
     "output_type": "stream",
     "text": [
      "100%|█████████████████████████████████████████████████████████████████████████████████████| 1/1 [00:00<00:00,  2.30it/s]"
     ]
    },
    {
     "name": "stdout",
     "output_type": "stream",
     "text": [
      "1 calculation combinations to check\n",
      "1 new records to prepare\n"
     ]
    },
    {
     "name": "stderr",
     "output_type": "stream",
     "text": [
      "\n",
      "preparing: 100%|##########################################################################| 1/1 [00:00<00:00, 85.35it/s]\n"
     ]
    },
    {
     "name": "stdout",
     "output_type": "stream",
     "text": [
      "9f610ee8-9ec6-4dac-8773-23c54681ac0a\n",
      "sim calculated successfully\n",
      "\n",
      "2287.500 0.0001552 2268.938\n",
      "0 existing calculation records provided\n"
     ]
    },
    {
     "name": "stderr",
     "output_type": "stream",
     "text": [
      "100%|█████████████████████████████████████████████████████████████████████████████████████| 1/1 [00:00<00:00,  4.15it/s]"
     ]
    },
    {
     "name": "stdout",
     "output_type": "stream",
     "text": [
      "1 calculation combinations to check\n",
      "1 new records to prepare\n"
     ]
    },
    {
     "name": "stderr",
     "output_type": "stream",
     "text": [
      "\n",
      "preparing: 100%|##########################################################################| 1/1 [00:00<00:00, 70.83it/s]\n"
     ]
    },
    {
     "name": "stdout",
     "output_type": "stream",
     "text": [
      "2211dcc2-e731-44ad-a3a1-b752b8495a90\n",
      "sim calculated successfully\n",
      "\n",
      "1168.750 0.4202 1134.306\n",
      "0 existing calculation records provided\n"
     ]
    },
    {
     "name": "stderr",
     "output_type": "stream",
     "text": [
      "100%|█████████████████████████████████████████████████████████████████████████████████████| 1/1 [00:00<00:00,  2.22it/s]"
     ]
    },
    {
     "name": "stdout",
     "output_type": "stream",
     "text": [
      "1 calculation combinations to check\n",
      "1 new records to prepare\n"
     ]
    },
    {
     "name": "stderr",
     "output_type": "stream",
     "text": [
      "\n",
      "preparing: 100%|##########################################################################| 1/1 [00:00<00:00, 53.24it/s]\n"
     ]
    },
    {
     "name": "stdout",
     "output_type": "stream",
     "text": [
      "aaefec60-1e4e-4132-9661-087c4f42c6dc\n",
      "sim calculated successfully\n",
      "\n",
      "1168.750 0.3987 1140.563\n",
      "0 existing calculation records provided\n"
     ]
    },
    {
     "name": "stderr",
     "output_type": "stream",
     "text": [
      "100%|█████████████████████████████████████████████████████████████████████████████████████| 1/1 [00:00<00:00,  2.27it/s]"
     ]
    },
    {
     "name": "stdout",
     "output_type": "stream",
     "text": [
      "1 calculation combinations to check\n",
      "1 new records to prepare\n"
     ]
    },
    {
     "name": "stderr",
     "output_type": "stream",
     "text": [
      "\n",
      "preparing: 100%|##########################################################################| 1/1 [00:00<00:00, 35.30it/s]\n"
     ]
    },
    {
     "name": "stdout",
     "output_type": "stream",
     "text": [
      "4aa24dab-dbbb-4d7d-ab4f-cc6bc7720936\n",
      "sim calculated successfully\n",
      "\n",
      "609.375 0.9998 610.334\n",
      "0 existing calculation records provided\n"
     ]
    },
    {
     "name": "stderr",
     "output_type": "stream",
     "text": [
      "100%|█████████████████████████████████████████████████████████████████████████████████████| 1/1 [00:00<00:00,  4.20it/s]"
     ]
    },
    {
     "name": "stdout",
     "output_type": "stream",
     "text": [
      "1 calculation combinations to check\n",
      "1 new records to prepare\n"
     ]
    },
    {
     "name": "stderr",
     "output_type": "stream",
     "text": [
      "\n",
      "preparing: 100%|##########################################################################| 1/1 [00:00<00:00, 78.18it/s]\n"
     ]
    },
    {
     "name": "stdout",
     "output_type": "stream",
     "text": [
      "3309b147-3e46-4d07-bf8d-528df57c1c79\n",
      "sim calculated successfully\n",
      "\n",
      "1448.438 0.002534 1350.879\n",
      "0 existing calculation records provided\n"
     ]
    },
    {
     "name": "stderr",
     "output_type": "stream",
     "text": [
      "100%|█████████████████████████████████████████████████████████████████████████████████████| 1/1 [00:00<00:00,  2.34it/s]"
     ]
    },
    {
     "name": "stdout",
     "output_type": "stream",
     "text": [
      "1 calculation combinations to check\n",
      "1 new records to prepare\n"
     ]
    },
    {
     "name": "stderr",
     "output_type": "stream",
     "text": [
      "\n",
      "preparing: 100%|##########################################################################| 1/1 [00:00<00:00, 33.66it/s]\n"
     ]
    },
    {
     "name": "stdout",
     "output_type": "stream",
     "text": [
      "72d796d0-f705-4b11-a808-099100098589\n",
      "sim calculated successfully\n",
      "\n",
      "1028.906 0.9693 1032.353\n",
      "0 existing calculation records provided\n"
     ]
    },
    {
     "name": "stderr",
     "output_type": "stream",
     "text": [
      "100%|█████████████████████████████████████████████████████████████████████████████████████| 1/1 [00:00<00:00,  1.74it/s]"
     ]
    },
    {
     "name": "stdout",
     "output_type": "stream",
     "text": [
      "1 calculation combinations to check\n",
      "1 new records to prepare\n"
     ]
    },
    {
     "name": "stderr",
     "output_type": "stream",
     "text": [
      "\n",
      "preparing: 100%|##########################################################################| 1/1 [00:00<00:00, 86.83it/s]\n"
     ]
    },
    {
     "name": "stdout",
     "output_type": "stream",
     "text": [
      "6494a179-5402-48e7-af2d-a2d3b2a57309\n",
      "sim calculated successfully\n",
      "\n",
      "1238.672 0.2066 1156.673\n",
      "0 existing calculation records provided\n"
     ]
    },
    {
     "name": "stderr",
     "output_type": "stream",
     "text": [
      "100%|█████████████████████████████████████████████████████████████████████████████████████| 1/1 [00:00<00:00,  4.17it/s]"
     ]
    },
    {
     "name": "stdout",
     "output_type": "stream",
     "text": [
      "1 calculation combinations to check\n",
      "1 new records to prepare\n"
     ]
    },
    {
     "name": "stderr",
     "output_type": "stream",
     "text": [
      "\n",
      "preparing: 100%|##########################################################################| 1/1 [00:00<00:00, 77.86it/s]\n"
     ]
    },
    {
     "name": "stdout",
     "output_type": "stream",
     "text": [
      "0cbec7d3-1c87-44b7-b58c-0689f916136c\n",
      "sim calculated successfully\n",
      "\n",
      "1133.789 0.512 1129.196\n",
      "0 existing calculation records provided\n"
     ]
    },
    {
     "name": "stderr",
     "output_type": "stream",
     "text": [
      "100%|█████████████████████████████████████████████████████████████████████████████████████| 1/1 [00:00<00:00,  4.29it/s]"
     ]
    },
    {
     "name": "stdout",
     "output_type": "stream",
     "text": [
      "1 calculation combinations to check\n",
      "1 new records to prepare\n"
     ]
    },
    {
     "name": "stderr",
     "output_type": "stream",
     "text": [
      "\n",
      "preparing: 100%|##########################################################################| 1/1 [00:00<00:00, 46.55it/s]\n"
     ]
    },
    {
     "name": "stdout",
     "output_type": "stream",
     "text": [
      "a5fd092b-3866-4ce4-bdfd-c455194bf13f\n",
      "sim calculated successfully\n",
      "\n",
      "1133.789 0.5554 1138.421\n",
      "0 existing calculation records provided\n"
     ]
    },
    {
     "name": "stderr",
     "output_type": "stream",
     "text": [
      "100%|█████████████████████████████████████████████████████████████████████████████████████| 1/1 [00:00<00:00,  4.10it/s]"
     ]
    },
    {
     "name": "stdout",
     "output_type": "stream",
     "text": [
      "1 calculation combinations to check\n",
      "1 new records to prepare\n"
     ]
    },
    {
     "name": "stderr",
     "output_type": "stream",
     "text": [
      "\n",
      "preparing: 100%|##########################################################################| 1/1 [00:00<00:00, 85.08it/s]\n"
     ]
    },
    {
     "name": "stdout",
     "output_type": "stream",
     "text": [
      "30a5c619-62ee-47e4-ad1b-465d574879e1\n",
      "sim calculated successfully\n",
      "\n",
      "1133.789 0.5315 1137.087\n",
      "0 existing calculation records provided\n"
     ]
    },
    {
     "name": "stderr",
     "output_type": "stream",
     "text": [
      "100%|█████████████████████████████████████████████████████████████████████████████████████| 1/1 [00:00<00:00,  4.35it/s]"
     ]
    },
    {
     "name": "stdout",
     "output_type": "stream",
     "text": [
      "1 calculation combinations to check\n",
      "1 new records to prepare\n"
     ]
    },
    {
     "name": "stderr",
     "output_type": "stream",
     "text": [
      "\n",
      "preparing: 100%|##########################################################################| 1/1 [00:00<00:00, 38.69it/s]\n"
     ]
    },
    {
     "name": "stdout",
     "output_type": "stream",
     "text": [
      "fd7b1621-e815-4396-b505-1bdbff02266a\n",
      "sim calculated successfully\n",
      "\n",
      "1133.789 0.5179 1138.979\n",
      "0 existing calculation records provided\n"
     ]
    },
    {
     "name": "stderr",
     "output_type": "stream",
     "text": [
      "100%|█████████████████████████████████████████████████████████████████████████████████████| 1/1 [00:00<00:00,  4.53it/s]"
     ]
    },
    {
     "name": "stdout",
     "output_type": "stream",
     "text": [
      "1 calculation combinations to check\n",
      "1 new records to prepare\n"
     ]
    },
    {
     "name": "stderr",
     "output_type": "stream",
     "text": [
      "\n",
      "preparing: 100%|##########################################################################| 1/1 [00:00<00:00, 84.02it/s]\n"
     ]
    },
    {
     "name": "stdout",
     "output_type": "stream",
     "text": [
      "0983d1aa-8c53-4a2c-924d-b2fb8a0e9a37\n",
      "sim calculated successfully\n",
      "\n",
      "1133.789 0.5388 1139.680\n",
      "0 existing calculation records provided\n"
     ]
    },
    {
     "name": "stderr",
     "output_type": "stream",
     "text": [
      "100%|█████████████████████████████████████████████████████████████████████████████████████| 1/1 [00:00<00:00,  2.41it/s]"
     ]
    },
    {
     "name": "stdout",
     "output_type": "stream",
     "text": [
      "1 calculation combinations to check\n",
      "1 new records to prepare\n"
     ]
    },
    {
     "name": "stderr",
     "output_type": "stream",
     "text": [
      "\n",
      "preparing: 100%|##########################################################################| 1/1 [00:00<00:00, 41.65it/s]\n"
     ]
    },
    {
     "name": "stdout",
     "output_type": "stream",
     "text": [
      "2e53fd89-9186-4976-94f3-0e42b8a639ef\n",
      "sim calculated successfully\n",
      "\n",
      "1133.789 0.5627 1142.314\n",
      "0 existing calculation records provided\n"
     ]
    },
    {
     "name": "stderr",
     "output_type": "stream",
     "text": [
      "100%|█████████████████████████████████████████████████████████████████████████████████████| 1/1 [00:00<00:00,  4.31it/s]"
     ]
    },
    {
     "name": "stdout",
     "output_type": "stream",
     "text": [
      "1 calculation combinations to check\n",
      "1 new records to prepare\n"
     ]
    },
    {
     "name": "stderr",
     "output_type": "stream",
     "text": [
      "\n",
      "preparing: 100%|##########################################################################| 1/1 [00:00<00:00, 39.73it/s]\n"
     ]
    },
    {
     "name": "stdout",
     "output_type": "stream",
     "text": [
      "89f3e88f-a825-4e69-8f8d-d81df8093d7d\n",
      "sim calculated successfully\n",
      "\n",
      "1133.789 0.5317 1146.296\n",
      "0 existing calculation records provided\n"
     ]
    },
    {
     "name": "stderr",
     "output_type": "stream",
     "text": [
      "100%|█████████████████████████████████████████████████████████████████████████████████████| 1/1 [00:00<00:00,  4.30it/s]"
     ]
    },
    {
     "name": "stdout",
     "output_type": "stream",
     "text": [
      "1 calculation combinations to check\n",
      "1 new records to prepare\n"
     ]
    },
    {
     "name": "stderr",
     "output_type": "stream",
     "text": [
      "\n",
      "preparing: 100%|##########################################################################| 1/1 [00:00<00:00, 46.45it/s]\n"
     ]
    },
    {
     "name": "stdout",
     "output_type": "stream",
     "text": [
      "20dc7c00-ab50-4982-ab53-992a267b6864\n",
      "sim calculated successfully\n",
      "\n",
      "1133.789 0.5391 1134.892\n",
      "55 2004--Zhou-X-W--Au--LAMMPS--ipr2\n",
      "0 existing calculation records provided\n"
     ]
    },
    {
     "name": "stderr",
     "output_type": "stream",
     "text": [
      "100%|█████████████████████████████████████████████████████████████████████████████████████| 1/1 [00:00<00:00,  3.76it/s]"
     ]
    },
    {
     "name": "stdout",
     "output_type": "stream",
     "text": [
      "1 calculation combinations to check\n",
      "1 new records to prepare\n"
     ]
    },
    {
     "name": "stderr",
     "output_type": "stream",
     "text": [
      "\n",
      "preparing: 100%|##########################################################################| 1/1 [00:00<00:00, 74.02it/s]\n"
     ]
    },
    {
     "name": "stdout",
     "output_type": "stream",
     "text": [
      "72e0f9a1-67a5-428a-9541-f60755605e3f\n",
      "sim calculated successfully\n",
      "\n",
      "4525.000 0.0 4600.398\n",
      "0 existing calculation records provided\n"
     ]
    },
    {
     "name": "stderr",
     "output_type": "stream",
     "text": [
      "100%|█████████████████████████████████████████████████████████████████████████████████████| 1/1 [00:00<00:00,  2.93it/s]"
     ]
    },
    {
     "name": "stdout",
     "output_type": "stream",
     "text": [
      "1 calculation combinations to check\n",
      "1 new records to prepare\n"
     ]
    },
    {
     "name": "stderr",
     "output_type": "stream",
     "text": [
      "\n",
      "preparing: 100%|##########################################################################| 1/1 [00:00<00:00, 51.68it/s]\n"
     ]
    },
    {
     "name": "stdout",
     "output_type": "stream",
     "text": [
      "508cbd33-00f3-46c3-8445-9f17bb8fcbc1\n",
      "sim calculated successfully\n",
      "\n",
      "2287.500 0.0001862 2273.335\n",
      "0 existing calculation records provided\n"
     ]
    },
    {
     "name": "stderr",
     "output_type": "stream",
     "text": [
      "100%|█████████████████████████████████████████████████████████████████████████████████████| 1/1 [00:00<00:00,  4.04it/s]"
     ]
    },
    {
     "name": "stdout",
     "output_type": "stream",
     "text": [
      "1 calculation combinations to check\n",
      "1 new records to prepare\n"
     ]
    },
    {
     "name": "stderr",
     "output_type": "stream",
     "text": [
      "\n",
      "preparing: 100%|##########################################################################| 1/1 [00:00<00:00, 45.10it/s]\n"
     ]
    },
    {
     "name": "stdout",
     "output_type": "stream",
     "text": [
      "435004d0-4fe0-4a0d-af88-9862718dd2d6\n",
      "sim calculated successfully\n",
      "\n",
      "1168.750 0.4388 1147.282\n",
      "0 existing calculation records provided\n"
     ]
    },
    {
     "name": "stderr",
     "output_type": "stream",
     "text": [
      "100%|█████████████████████████████████████████████████████████████████████████████████████| 1/1 [00:00<00:00,  3.10it/s]"
     ]
    },
    {
     "name": "stdout",
     "output_type": "stream",
     "text": [
      "1 calculation combinations to check\n",
      "1 new records to prepare\n"
     ]
    },
    {
     "name": "stderr",
     "output_type": "stream",
     "text": [
      "\n",
      "preparing: 100%|##########################################################################| 1/1 [00:00<00:00, 88.93it/s]\n"
     ]
    },
    {
     "name": "stdout",
     "output_type": "stream",
     "text": [
      "9ff12682-42ea-48c8-b75c-8ee7a4855835\n",
      "sim calculated successfully\n",
      "\n",
      "1168.750 0.4172 1146.319\n",
      "0 existing calculation records provided\n"
     ]
    },
    {
     "name": "stderr",
     "output_type": "stream",
     "text": [
      "100%|█████████████████████████████████████████████████████████████████████████████████████| 1/1 [00:00<00:00,  4.10it/s]"
     ]
    },
    {
     "name": "stdout",
     "output_type": "stream",
     "text": [
      "1 calculation combinations to check\n",
      "1 new records to prepare\n"
     ]
    },
    {
     "name": "stderr",
     "output_type": "stream",
     "text": [
      "\n",
      "preparing: 100%|##########################################################################| 1/1 [00:00<00:00, 42.50it/s]\n"
     ]
    },
    {
     "name": "stdout",
     "output_type": "stream",
     "text": [
      "4ae3d7b7-3b25-4e64-925b-035bd891854a\n",
      "sim calculated successfully\n",
      "\n",
      "1168.750 0.4584 1155.065\n",
      "0 existing calculation records provided\n"
     ]
    },
    {
     "name": "stderr",
     "output_type": "stream",
     "text": [
      "100%|█████████████████████████████████████████████████████████████████████████████████████| 1/1 [00:00<00:00,  2.97it/s]"
     ]
    },
    {
     "name": "stdout",
     "output_type": "stream",
     "text": [
      "1 calculation combinations to check\n",
      "1 new records to prepare\n"
     ]
    },
    {
     "name": "stderr",
     "output_type": "stream",
     "text": [
      "\n",
      "preparing: 100%|##########################################################################| 1/1 [00:00<00:00, 78.14it/s]\n"
     ]
    },
    {
     "name": "stdout",
     "output_type": "stream",
     "text": [
      "f9aca5ac-5d80-4d12-ad50-ea1d2ad544b2\n",
      "sim calculated successfully\n",
      "\n",
      "1168.750 0.4129 1146.241\n",
      "0 existing calculation records provided\n"
     ]
    },
    {
     "name": "stderr",
     "output_type": "stream",
     "text": [
      "100%|█████████████████████████████████████████████████████████████████████████████████████| 1/1 [00:00<00:00,  2.96it/s]"
     ]
    },
    {
     "name": "stdout",
     "output_type": "stream",
     "text": [
      "1 calculation combinations to check\n",
      "1 new records to prepare\n"
     ]
    },
    {
     "name": "stderr",
     "output_type": "stream",
     "text": [
      "\n",
      "preparing: 100%|##########################################################################| 1/1 [00:00<00:00, 87.90it/s]\n"
     ]
    },
    {
     "name": "stdout",
     "output_type": "stream",
     "text": [
      "6da302f4-7a58-4410-a8ce-4eb144fc93d0\n",
      "sim calculated successfully\n",
      "\n",
      "1168.750 0.3996 1137.663\n",
      "0 existing calculation records provided\n"
     ]
    },
    {
     "name": "stderr",
     "output_type": "stream",
     "text": [
      "100%|█████████████████████████████████████████████████████████████████████████████████████| 1/1 [00:00<00:00,  3.05it/s]"
     ]
    },
    {
     "name": "stdout",
     "output_type": "stream",
     "text": [
      "1 calculation combinations to check\n",
      "1 new records to prepare\n"
     ]
    },
    {
     "name": "stderr",
     "output_type": "stream",
     "text": [
      "\n",
      "preparing: 100%|##########################################################################| 1/1 [00:00<00:00, 41.54it/s]\n"
     ]
    },
    {
     "name": "stdout",
     "output_type": "stream",
     "text": [
      "c1a8ceb9-b7a5-4d04-9ffd-81b035a59f33\n",
      "sim calculated successfully\n",
      "\n",
      "609.375 0.9997 608.672\n",
      "0 existing calculation records provided\n"
     ]
    },
    {
     "name": "stderr",
     "output_type": "stream",
     "text": [
      "100%|█████████████████████████████████████████████████████████████████████████████████████| 1/1 [00:00<00:00,  2.88it/s]"
     ]
    },
    {
     "name": "stdout",
     "output_type": "stream",
     "text": [
      "1 calculation combinations to check\n",
      "1 new records to prepare\n"
     ]
    },
    {
     "name": "stderr",
     "output_type": "stream",
     "text": [
      "\n",
      "preparing: 100%|##########################################################################| 1/1 [00:00<00:00, 46.57it/s]\n"
     ]
    },
    {
     "name": "stdout",
     "output_type": "stream",
     "text": [
      "08d5dc9c-5a9b-4d24-8e19-49f3c7e9334e\n",
      "sim calculated successfully\n",
      "\n",
      "1448.438 0.002307 1352.778\n",
      "0 existing calculation records provided\n"
     ]
    },
    {
     "name": "stderr",
     "output_type": "stream",
     "text": [
      "100%|█████████████████████████████████████████████████████████████████████████████████████| 1/1 [00:00<00:00,  2.69it/s]"
     ]
    },
    {
     "name": "stdout",
     "output_type": "stream",
     "text": [
      "1 calculation combinations to check\n",
      "1 new records to prepare\n"
     ]
    },
    {
     "name": "stderr",
     "output_type": "stream",
     "text": [
      "\n",
      "preparing: 100%|##########################################################################| 1/1 [00:00<00:00, 45.15it/s]\n"
     ]
    },
    {
     "name": "stdout",
     "output_type": "stream",
     "text": [
      "e704039d-b101-4e97-b6bb-22aec20db7ba\n",
      "sim calculated successfully\n",
      "\n",
      "1028.906 0.9659 1028.823\n",
      "0 existing calculation records provided\n"
     ]
    },
    {
     "name": "stderr",
     "output_type": "stream",
     "text": [
      "100%|█████████████████████████████████████████████████████████████████████████████████████| 1/1 [00:00<00:00,  3.04it/s]"
     ]
    },
    {
     "name": "stdout",
     "output_type": "stream",
     "text": [
      "1 calculation combinations to check\n",
      "1 new records to prepare\n"
     ]
    },
    {
     "name": "stderr",
     "output_type": "stream",
     "text": [
      "\n",
      "preparing: 100%|##########################################################################| 1/1 [00:00<00:00, 83.14it/s]\n"
     ]
    },
    {
     "name": "stdout",
     "output_type": "stream",
     "text": [
      "216569da-17b6-4ab9-bcbf-58c10d3a49f3\n",
      "sim calculated successfully\n",
      "\n",
      "1238.672 0.218 1156.236\n",
      "0 existing calculation records provided\n"
     ]
    },
    {
     "name": "stderr",
     "output_type": "stream",
     "text": [
      "100%|█████████████████████████████████████████████████████████████████████████████████████| 1/1 [00:00<00:00,  3.61it/s]"
     ]
    },
    {
     "name": "stdout",
     "output_type": "stream",
     "text": [
      "1 calculation combinations to check\n",
      "1 new records to prepare\n"
     ]
    },
    {
     "name": "stderr",
     "output_type": "stream",
     "text": [
      "\n",
      "preparing: 100%|##########################################################################| 1/1 [00:00<00:00, 88.98it/s]\n"
     ]
    },
    {
     "name": "stdout",
     "output_type": "stream",
     "text": [
      "d71d70ab-e0b9-4a8b-b948-f0ce0e2cb98f\n",
      "sim calculated successfully\n",
      "\n",
      "1133.789 0.53 1142.794\n",
      "0 existing calculation records provided\n"
     ]
    },
    {
     "name": "stderr",
     "output_type": "stream",
     "text": [
      "100%|█████████████████████████████████████████████████████████████████████████████████████| 1/1 [00:00<00:00,  2.78it/s]"
     ]
    },
    {
     "name": "stdout",
     "output_type": "stream",
     "text": [
      "1 calculation combinations to check\n",
      "1 new records to prepare\n"
     ]
    },
    {
     "name": "stderr",
     "output_type": "stream",
     "text": [
      "\n",
      "preparing: 100%|##########################################################################| 1/1 [00:00<00:00, 80.64it/s]\n"
     ]
    },
    {
     "name": "stdout",
     "output_type": "stream",
     "text": [
      "1e19ab83-d5c1-4957-94aa-8822f26aa376\n",
      "sim calculated successfully\n",
      "\n",
      "1133.789 0.5733 1141.239\n",
      "0 existing calculation records provided\n"
     ]
    },
    {
     "name": "stderr",
     "output_type": "stream",
     "text": [
      "100%|█████████████████████████████████████████████████████████████████████████████████████| 1/1 [00:00<00:00,  2.78it/s]"
     ]
    },
    {
     "name": "stdout",
     "output_type": "stream",
     "text": [
      "1 calculation combinations to check\n",
      "1 new records to prepare\n"
     ]
    },
    {
     "name": "stderr",
     "output_type": "stream",
     "text": [
      "\n",
      "preparing: 100%|##########################################################################| 1/1 [00:00<00:00, 84.44it/s]\n"
     ]
    },
    {
     "name": "stdout",
     "output_type": "stream",
     "text": [
      "793ba9d0-8d2c-4c9c-ada9-b668558a5b0c\n",
      "sim calculated successfully\n",
      "\n",
      "1133.789 0.5508 1151.984\n",
      "0 existing calculation records provided\n"
     ]
    },
    {
     "name": "stderr",
     "output_type": "stream",
     "text": [
      "100%|█████████████████████████████████████████████████████████████████████████████████████| 1/1 [00:00<00:00,  4.49it/s]"
     ]
    },
    {
     "name": "stdout",
     "output_type": "stream",
     "text": [
      "1 calculation combinations to check\n",
      "1 new records to prepare\n"
     ]
    },
    {
     "name": "stderr",
     "output_type": "stream",
     "text": [
      "\n",
      "preparing: 100%|##########################################################################| 1/1 [00:00<00:00, 44.62it/s]\n"
     ]
    },
    {
     "name": "stdout",
     "output_type": "stream",
     "text": [
      "be294686-a34f-41ca-8220-2aab932fcbbe\n",
      "sim calculated successfully\n",
      "\n",
      "1133.789 0.5532 1134.843\n",
      "0 existing calculation records provided\n"
     ]
    },
    {
     "name": "stderr",
     "output_type": "stream",
     "text": [
      "100%|█████████████████████████████████████████████████████████████████████████████████████| 1/1 [00:00<00:00,  4.48it/s]"
     ]
    },
    {
     "name": "stdout",
     "output_type": "stream",
     "text": [
      "1 calculation combinations to check\n",
      "1 new records to prepare\n"
     ]
    },
    {
     "name": "stderr",
     "output_type": "stream",
     "text": [
      "\n",
      "preparing: 100%|##########################################################################| 1/1 [00:00<00:00, 78.86it/s]\n"
     ]
    },
    {
     "name": "stdout",
     "output_type": "stream",
     "text": [
      "b9b41593-3f0d-4710-b292-dcfd95124ce5\n",
      "sim calculated successfully\n",
      "\n",
      "1133.789 0.5526 1141.437\n",
      "56 2004--Zhou-X-W--Co--LAMMPS--ipr1\n",
      "0 existing calculation records provided\n"
     ]
    },
    {
     "name": "stderr",
     "output_type": "stream",
     "text": [
      "100%|█████████████████████████████████████████████████████████████████████████████████████| 1/1 [00:00<00:00,  2.95it/s]"
     ]
    },
    {
     "name": "stdout",
     "output_type": "stream",
     "text": [
      "1 calculation combinations to check\n",
      "1 new records to prepare\n"
     ]
    },
    {
     "name": "stderr",
     "output_type": "stream",
     "text": [
      "\n",
      "preparing: 100%|##########################################################################| 1/1 [00:00<00:00, 35.90it/s]\n"
     ]
    },
    {
     "name": "stdout",
     "output_type": "stream",
     "text": [
      "a753d5bf-7ba1-47c8-815f-ad8c34fe7360\n",
      "sim calculated successfully\n",
      "\n",
      "4525.000 2.069e-05 4518.251\n",
      "0 existing calculation records provided\n"
     ]
    },
    {
     "name": "stderr",
     "output_type": "stream",
     "text": [
      "100%|█████████████████████████████████████████████████████████████████████████████████████| 1/1 [00:00<00:00,  2.97it/s]"
     ]
    },
    {
     "name": "stdout",
     "output_type": "stream",
     "text": [
      "1 calculation combinations to check\n",
      "1 new records to prepare\n"
     ]
    },
    {
     "name": "stderr",
     "output_type": "stream",
     "text": [
      "\n",
      "preparing: 100%|##########################################################################| 1/1 [00:00<00:00, 48.04it/s]\n"
     ]
    },
    {
     "name": "stdout",
     "output_type": "stream",
     "text": [
      "fcb94eb5-9bcf-4053-b147-38eb3b4867d6\n",
      "sim calculated successfully\n",
      "\n",
      "2287.500 0.0015 2179.178\n",
      "0 existing calculation records provided\n"
     ]
    },
    {
     "name": "stderr",
     "output_type": "stream",
     "text": [
      "100%|█████████████████████████████████████████████████████████████████████████████████████| 1/1 [00:00<00:00,  2.85it/s]"
     ]
    },
    {
     "name": "stdout",
     "output_type": "stream",
     "text": [
      "1 calculation combinations to check\n",
      "1 new records to prepare\n"
     ]
    },
    {
     "name": "stderr",
     "output_type": "stream",
     "text": [
      "\n",
      "preparing: 100%|##########################################################################| 1/1 [00:00<00:00, 81.94it/s]\n"
     ]
    },
    {
     "name": "stdout",
     "output_type": "stream",
     "text": [
      "2fd60b53-3b3a-40b3-a062-aa418c9214d4\n",
      "sim calculated successfully\n",
      "\n",
      "1168.750 0.9978 1165.270\n",
      "0 existing calculation records provided\n"
     ]
    },
    {
     "name": "stderr",
     "output_type": "stream",
     "text": [
      "100%|█████████████████████████████████████████████████████████████████████████████████████| 1/1 [00:00<00:00,  2.69it/s]"
     ]
    },
    {
     "name": "stdout",
     "output_type": "stream",
     "text": [
      "1 calculation combinations to check\n",
      "1 new records to prepare\n"
     ]
    },
    {
     "name": "stderr",
     "output_type": "stream",
     "text": [
      "\n",
      "preparing: 100%|##########################################################################| 1/1 [00:00<00:00, 77.21it/s]\n"
     ]
    },
    {
     "name": "stdout",
     "output_type": "stream",
     "text": [
      "9ffc5f46-984f-4a44-96f1-70629563c956\n",
      "sim calculated successfully\n",
      "\n",
      "1728.125 0.5894 1757.670\n",
      "0 existing calculation records provided\n"
     ]
    },
    {
     "name": "stderr",
     "output_type": "stream",
     "text": [
      "100%|█████████████████████████████████████████████████████████████████████████████████████| 1/1 [00:00<00:00,  4.37it/s]"
     ]
    },
    {
     "name": "stdout",
     "output_type": "stream",
     "text": [
      "1 calculation combinations to check\n",
      "1 new records to prepare\n"
     ]
    },
    {
     "name": "stderr",
     "output_type": "stream",
     "text": [
      "\n",
      "preparing: 100%|##########################################################################| 1/1 [00:00<00:00, 81.84it/s]\n"
     ]
    },
    {
     "name": "stdout",
     "output_type": "stream",
     "text": [
      "9340b57d-e057-4931-b2e2-a6de32f08cc6\n",
      "sim calculated successfully\n",
      "\n",
      "1728.125 0.5801 1756.112\n",
      "0 existing calculation records provided\n"
     ]
    },
    {
     "name": "stderr",
     "output_type": "stream",
     "text": [
      "100%|█████████████████████████████████████████████████████████████████████████████████████| 1/1 [00:00<00:00,  4.33it/s]"
     ]
    },
    {
     "name": "stdout",
     "output_type": "stream",
     "text": [
      "1 calculation combinations to check\n",
      "1 new records to prepare\n"
     ]
    },
    {
     "name": "stderr",
     "output_type": "stream",
     "text": [
      "\n",
      "preparing: 100%|##########################################################################| 1/1 [00:00<00:00, 44.78it/s]\n"
     ]
    },
    {
     "name": "stdout",
     "output_type": "stream",
     "text": [
      "54b57f65-cefa-4b8c-8eb1-31beef516026\n",
      "sim calculated successfully\n",
      "\n",
      "1728.125 0.5998 1764.692\n",
      "0 existing calculation records provided\n"
     ]
    },
    {
     "name": "stderr",
     "output_type": "stream",
     "text": [
      "100%|█████████████████████████████████████████████████████████████████████████████████████| 1/1 [00:00<00:00,  4.10it/s]"
     ]
    },
    {
     "name": "stdout",
     "output_type": "stream",
     "text": [
      "1 calculation combinations to check\n",
      "1 new records to prepare\n"
     ]
    },
    {
     "name": "stderr",
     "output_type": "stream",
     "text": [
      "\n",
      "preparing: 100%|##########################################################################| 1/1 [00:00<00:00, 87.10it/s]\n"
     ]
    },
    {
     "name": "stdout",
     "output_type": "stream",
     "text": [
      "fb2ddc40-a0ad-4762-9cad-6ff8ff052e1c\n",
      "sim calculated successfully\n",
      "\n",
      "1728.125 0.5895 1759.790\n",
      "0 existing calculation records provided\n"
     ]
    },
    {
     "name": "stderr",
     "output_type": "stream",
     "text": [
      "100%|█████████████████████████████████████████████████████████████████████████████████████| 1/1 [00:00<00:00,  2.94it/s]"
     ]
    },
    {
     "name": "stdout",
     "output_type": "stream",
     "text": [
      "1 calculation combinations to check\n",
      "1 new records to prepare\n"
     ]
    },
    {
     "name": "stderr",
     "output_type": "stream",
     "text": [
      "\n",
      "preparing: 100%|##########################################################################| 1/1 [00:00<00:00, 43.98it/s]\n"
     ]
    },
    {
     "name": "stdout",
     "output_type": "stream",
     "text": [
      "40e318c5-307c-4c63-bb6a-be56e6fdf101\n",
      "sim calculated successfully\n",
      "\n",
      "1728.125 0.609 1755.415\n",
      "0 existing calculation records provided\n"
     ]
    },
    {
     "name": "stderr",
     "output_type": "stream",
     "text": [
      "100%|█████████████████████████████████████████████████████████████████████████████████████| 1/1 [00:00<00:00,  2.58it/s]"
     ]
    },
    {
     "name": "stdout",
     "output_type": "stream",
     "text": [
      "1 calculation combinations to check\n",
      "1 new records to prepare\n"
     ]
    },
    {
     "name": "stderr",
     "output_type": "stream",
     "text": [
      "\n",
      "preparing: 100%|##########################################################################| 1/1 [00:00<00:00, 85.64it/s]\n"
     ]
    },
    {
     "name": "stdout",
     "output_type": "stream",
     "text": [
      "37621f09-cf38-4a3a-948a-38018070007d\n",
      "sim calculated successfully\n",
      "\n",
      "2007.812 0.004221 1809.228\n",
      "0 existing calculation records provided\n"
     ]
    },
    {
     "name": "stderr",
     "output_type": "stream",
     "text": [
      "100%|█████████████████████████████████████████████████████████████████████████████████████| 1/1 [00:00<00:00,  2.31it/s]"
     ]
    },
    {
     "name": "stdout",
     "output_type": "stream",
     "text": [
      "1 calculation combinations to check\n",
      "1 new records to prepare\n"
     ]
    },
    {
     "name": "stderr",
     "output_type": "stream",
     "text": [
      "\n",
      "preparing: 100%|##########################################################################| 1/1 [00:00<00:00, 80.59it/s]\n"
     ]
    },
    {
     "name": "stdout",
     "output_type": "stream",
     "text": [
      "19cb7895-3d4a-4ef1-a05a-d1af4926e854\n",
      "sim calculated successfully\n",
      "\n",
      "1588.281 0.7895 1723.382\n",
      "0 existing calculation records provided\n"
     ]
    },
    {
     "name": "stderr",
     "output_type": "stream",
     "text": [
      "100%|█████████████████████████████████████████████████████████████████████████████████████| 1/1 [00:00<00:00,  4.30it/s]"
     ]
    },
    {
     "name": "stdout",
     "output_type": "stream",
     "text": [
      "1 calculation combinations to check\n",
      "1 new records to prepare\n"
     ]
    },
    {
     "name": "stderr",
     "output_type": "stream",
     "text": [
      "\n",
      "preparing: 100%|##########################################################################| 1/1 [00:00<00:00, 76.07it/s]\n"
     ]
    },
    {
     "name": "stdout",
     "output_type": "stream",
     "text": [
      "b4822b58-905d-4179-9617-125cfed29945\n",
      "sim calculated successfully\n",
      "\n",
      "1798.047 0.4474 1762.786\n",
      "0 existing calculation records provided\n"
     ]
    },
    {
     "name": "stderr",
     "output_type": "stream",
     "text": [
      "100%|█████████████████████████████████████████████████████████████████████████████████████| 1/1 [00:00<00:00,  4.37it/s]"
     ]
    },
    {
     "name": "stdout",
     "output_type": "stream",
     "text": [
      "1 calculation combinations to check\n",
      "1 new records to prepare\n"
     ]
    },
    {
     "name": "stderr",
     "output_type": "stream",
     "text": [
      "\n",
      "preparing: 100%|##########################################################################| 1/1 [00:00<00:00, 46.76it/s]\n"
     ]
    },
    {
     "name": "stdout",
     "output_type": "stream",
     "text": [
      "a8568e4e-5249-49a1-9d5b-937839125aa3\n",
      "sim calculated successfully\n",
      "\n",
      "1798.047 0.4441 1758.869\n",
      "0 existing calculation records provided\n"
     ]
    },
    {
     "name": "stderr",
     "output_type": "stream",
     "text": [
      "100%|█████████████████████████████████████████████████████████████████████████████████████| 1/1 [00:00<00:00,  2.90it/s]"
     ]
    },
    {
     "name": "stdout",
     "output_type": "stream",
     "text": [
      "1 calculation combinations to check\n",
      "1 new records to prepare\n"
     ]
    },
    {
     "name": "stderr",
     "output_type": "stream",
     "text": [
      "\n",
      "preparing: 100%|##########################################################################| 1/1 [00:00<00:00, 47.74it/s]\n"
     ]
    },
    {
     "name": "stdout",
     "output_type": "stream",
     "text": [
      "cd241cda-a9d5-4c86-b5bb-97d86e477a88\n",
      "sim calculated successfully\n",
      "\n",
      "1798.047 0.4524 1761.142\n",
      "0 existing calculation records provided\n"
     ]
    },
    {
     "name": "stderr",
     "output_type": "stream",
     "text": [
      "100%|█████████████████████████████████████████████████████████████████████████████████████| 1/1 [00:00<00:00,  2.98it/s]"
     ]
    },
    {
     "name": "stdout",
     "output_type": "stream",
     "text": [
      "1 calculation combinations to check\n",
      "1 new records to prepare\n"
     ]
    },
    {
     "name": "stderr",
     "output_type": "stream",
     "text": [
      "\n",
      "preparing: 100%|##########################################################################| 1/1 [00:00<00:00, 45.94it/s]\n"
     ]
    },
    {
     "name": "stdout",
     "output_type": "stream",
     "text": [
      "6f443bef-2c07-40f7-be2c-2672bd1578f4\n",
      "sim calculated successfully\n",
      "\n",
      "1798.047 0.4418 1756.661\n",
      "0 existing calculation records provided\n"
     ]
    },
    {
     "name": "stderr",
     "output_type": "stream",
     "text": [
      "100%|█████████████████████████████████████████████████████████████████████████████████████| 1/1 [00:00<00:00,  4.79it/s]"
     ]
    },
    {
     "name": "stdout",
     "output_type": "stream",
     "text": [
      "1 calculation combinations to check\n",
      "1 new records to prepare\n"
     ]
    },
    {
     "name": "stderr",
     "output_type": "stream",
     "text": [
      "\n",
      "preparing: 100%|##########################################################################| 1/1 [00:00<00:00, 85.44it/s]\n"
     ]
    },
    {
     "name": "stdout",
     "output_type": "stream",
     "text": [
      "4d870cff-9382-40d6-8328-8e7b013d5f64\n",
      "sim calculated successfully\n",
      "\n",
      "1798.047 0.4616 1758.329\n",
      "57 2004--Zhou-X-W--Co--LAMMPS--ipr2\n",
      "0 existing calculation records provided\n"
     ]
    },
    {
     "name": "stderr",
     "output_type": "stream",
     "text": [
      "100%|█████████████████████████████████████████████████████████████████████████████████████| 1/1 [00:00<00:00,  2.87it/s]"
     ]
    },
    {
     "name": "stdout",
     "output_type": "stream",
     "text": [
      "1 calculation combinations to check\n",
      "1 new records to prepare\n"
     ]
    },
    {
     "name": "stderr",
     "output_type": "stream",
     "text": [
      "\n",
      "preparing: 100%|##########################################################################| 1/1 [00:00<00:00, 55.76it/s]\n"
     ]
    },
    {
     "name": "stdout",
     "output_type": "stream",
     "text": [
      "32fd4d7e-b264-4a0c-898b-e3200499c273\n",
      "sim calculated successfully\n",
      "\n",
      "4525.000 3.103e-05 4503.611\n",
      "0 existing calculation records provided\n"
     ]
    },
    {
     "name": "stderr",
     "output_type": "stream",
     "text": [
      "100%|█████████████████████████████████████████████████████████████████████████████████████| 1/1 [00:00<00:00,  2.83it/s]"
     ]
    },
    {
     "name": "stdout",
     "output_type": "stream",
     "text": [
      "1 calculation combinations to check\n",
      "1 new records to prepare\n"
     ]
    },
    {
     "name": "stderr",
     "output_type": "stream",
     "text": [
      "\n",
      "preparing: 100%|##########################################################################| 1/1 [00:00<00:00, 77.78it/s]\n"
     ]
    },
    {
     "name": "stdout",
     "output_type": "stream",
     "text": [
      "dcfa1c91-1c73-49e1-87ed-500003c6b8ab\n",
      "sim calculated successfully\n",
      "\n",
      "2287.500 0.001603 2190.596\n",
      "0 existing calculation records provided\n"
     ]
    },
    {
     "name": "stderr",
     "output_type": "stream",
     "text": [
      "100%|█████████████████████████████████████████████████████████████████████████████████████| 1/1 [00:00<00:00,  2.93it/s]"
     ]
    },
    {
     "name": "stdout",
     "output_type": "stream",
     "text": [
      "1 calculation combinations to check\n",
      "1 new records to prepare\n"
     ]
    },
    {
     "name": "stderr",
     "output_type": "stream",
     "text": [
      "\n",
      "preparing: 100%|##########################################################################| 1/1 [00:00<00:00, 78.63it/s]\n"
     ]
    },
    {
     "name": "stdout",
     "output_type": "stream",
     "text": [
      "4dcfaa9f-2035-4076-a675-c9d45f07eae9\n",
      "sim calculated successfully\n",
      "\n",
      "1168.750 0.9982 1165.859\n",
      "0 existing calculation records provided\n"
     ]
    },
    {
     "name": "stderr",
     "output_type": "stream",
     "text": [
      "100%|█████████████████████████████████████████████████████████████████████████████████████| 1/1 [00:00<00:00,  2.38it/s]"
     ]
    },
    {
     "name": "stdout",
     "output_type": "stream",
     "text": [
      "1 calculation combinations to check\n",
      "1 new records to prepare\n"
     ]
    },
    {
     "name": "stderr",
     "output_type": "stream",
     "text": [
      "\n",
      "preparing: 100%|##########################################################################| 1/1 [00:00<00:00, 86.88it/s]\n"
     ]
    },
    {
     "name": "stdout",
     "output_type": "stream",
     "text": [
      "34f689b0-2dcb-47a4-882b-46c5328c4f2c\n",
      "sim calculated successfully\n",
      "\n",
      "1728.125 0.5968 1750.806\n",
      "0 existing calculation records provided\n"
     ]
    },
    {
     "name": "stderr",
     "output_type": "stream",
     "text": [
      "100%|█████████████████████████████████████████████████████████████████████████████████████| 1/1 [00:00<00:00,  4.57it/s]"
     ]
    },
    {
     "name": "stdout",
     "output_type": "stream",
     "text": [
      "1 calculation combinations to check\n",
      "1 new records to prepare\n"
     ]
    },
    {
     "name": "stderr",
     "output_type": "stream",
     "text": [
      "\n",
      "preparing: 100%|##########################################################################| 1/1 [00:00<00:00, 47.40it/s]\n"
     ]
    },
    {
     "name": "stdout",
     "output_type": "stream",
     "text": [
      "321de062-81ee-4263-8b4f-14c0041da8f1\n",
      "sim calculated successfully\n",
      "\n",
      "1728.125 0.5771 1752.035\n",
      "0 existing calculation records provided\n"
     ]
    },
    {
     "name": "stderr",
     "output_type": "stream",
     "text": [
      "100%|█████████████████████████████████████████████████████████████████████████████████████| 1/1 [00:00<00:00,  4.28it/s]"
     ]
    },
    {
     "name": "stdout",
     "output_type": "stream",
     "text": [
      "1 calculation combinations to check\n",
      "1 new records to prepare\n"
     ]
    },
    {
     "name": "stderr",
     "output_type": "stream",
     "text": [
      "\n",
      "preparing: 100%|##########################################################################| 1/1 [00:00<00:00, 86.87it/s]\n"
     ]
    },
    {
     "name": "stdout",
     "output_type": "stream",
     "text": [
      "c5baebdf-ac11-4ecb-8054-a9a035f482ac\n",
      "sim calculated successfully\n",
      "\n",
      "1728.125 0.5769 1758.048\n",
      "0 existing calculation records provided\n"
     ]
    },
    {
     "name": "stderr",
     "output_type": "stream",
     "text": [
      "100%|█████████████████████████████████████████████████████████████████████████████████████| 1/1 [00:00<00:00,  4.92it/s]"
     ]
    },
    {
     "name": "stdout",
     "output_type": "stream",
     "text": [
      "1 calculation combinations to check\n",
      "1 new records to prepare\n"
     ]
    },
    {
     "name": "stderr",
     "output_type": "stream",
     "text": [
      "\n",
      "preparing: 100%|##########################################################################| 1/1 [00:00<00:00, 47.52it/s]\n"
     ]
    },
    {
     "name": "stdout",
     "output_type": "stream",
     "text": [
      "863696da-5a83-407c-9e53-8acfb20467ab\n",
      "sim calculated successfully\n",
      "\n",
      "1728.125 0.5926 1762.144\n",
      "0 existing calculation records provided\n"
     ]
    },
    {
     "name": "stderr",
     "output_type": "stream",
     "text": [
      "100%|█████████████████████████████████████████████████████████████████████████████████████| 1/1 [00:00<00:00,  3.06it/s]"
     ]
    },
    {
     "name": "stdout",
     "output_type": "stream",
     "text": [
      "1 calculation combinations to check\n",
      "1 new records to prepare\n"
     ]
    },
    {
     "name": "stderr",
     "output_type": "stream",
     "text": [
      "\n",
      "preparing: 100%|##########################################################################| 1/1 [00:00<00:00, 82.78it/s]\n"
     ]
    },
    {
     "name": "stdout",
     "output_type": "stream",
     "text": [
      "5bbb8ec4-122c-4373-8c48-51261567e8fc\n",
      "sim calculated successfully\n",
      "\n",
      "1728.125 0.6366 1767.964\n",
      "0 existing calculation records provided\n"
     ]
    },
    {
     "name": "stderr",
     "output_type": "stream",
     "text": [
      "100%|█████████████████████████████████████████████████████████████████████████████████████| 1/1 [00:00<00:00,  2.96it/s]"
     ]
    },
    {
     "name": "stdout",
     "output_type": "stream",
     "text": [
      "1 calculation combinations to check\n",
      "1 new records to prepare\n"
     ]
    },
    {
     "name": "stderr",
     "output_type": "stream",
     "text": [
      "\n",
      "preparing: 100%|##########################################################################| 1/1 [00:00<00:00, 47.54it/s]\n"
     ]
    },
    {
     "name": "stdout",
     "output_type": "stream",
     "text": [
      "0636c428-1f5d-41eb-a32d-8c95c7b086c6\n",
      "sim calculated successfully\n",
      "\n",
      "2007.812 0.004148 1800.611\n",
      "0 existing calculation records provided\n"
     ]
    },
    {
     "name": "stderr",
     "output_type": "stream",
     "text": [
      "100%|█████████████████████████████████████████████████████████████████████████████████████| 1/1 [00:00<00:00,  2.58it/s]"
     ]
    },
    {
     "name": "stdout",
     "output_type": "stream",
     "text": [
      "1 calculation combinations to check\n",
      "1 new records to prepare\n"
     ]
    },
    {
     "name": "stderr",
     "output_type": "stream",
     "text": [
      "\n",
      "preparing: 100%|##########################################################################| 1/1 [00:00<00:00, 86.10it/s]\n"
     ]
    },
    {
     "name": "stdout",
     "output_type": "stream",
     "text": [
      "923695a4-b4d3-47c5-8424-92c95e3675ad\n",
      "sim calculated successfully\n",
      "\n",
      "1588.281 0.7906 1732.062\n",
      "0 existing calculation records provided\n"
     ]
    },
    {
     "name": "stderr",
     "output_type": "stream",
     "text": [
      "100%|█████████████████████████████████████████████████████████████████████████████████████| 1/1 [00:00<00:00,  2.39it/s]"
     ]
    },
    {
     "name": "stdout",
     "output_type": "stream",
     "text": [
      "1 calculation combinations to check\n",
      "1 new records to prepare\n"
     ]
    },
    {
     "name": "stderr",
     "output_type": "stream",
     "text": [
      "\n",
      "preparing: 100%|##########################################################################| 1/1 [00:00<00:00, 78.28it/s]\n"
     ]
    },
    {
     "name": "stdout",
     "output_type": "stream",
     "text": [
      "74cc530c-0937-4ac6-ab1a-2a9ca26966b8\n",
      "sim calculated successfully\n",
      "\n",
      "1798.047 0.4663 1772.134\n",
      "0 existing calculation records provided\n"
     ]
    },
    {
     "name": "stderr",
     "output_type": "stream",
     "text": [
      "100%|█████████████████████████████████████████████████████████████████████████████████████| 1/1 [00:00<00:00,  2.65it/s]"
     ]
    },
    {
     "name": "stdout",
     "output_type": "stream",
     "text": [
      "1 calculation combinations to check\n",
      "1 new records to prepare\n"
     ]
    },
    {
     "name": "stderr",
     "output_type": "stream",
     "text": [
      "\n",
      "preparing: 100%|##########################################################################| 1/1 [00:00<00:00, 82.81it/s]\n"
     ]
    },
    {
     "name": "stdout",
     "output_type": "stream",
     "text": [
      "9207f00c-55f1-459d-b721-9875a7a9ee87\n",
      "sim calculated successfully\n",
      "\n",
      "1798.047 0.4628 1760.679\n",
      "0 existing calculation records provided\n"
     ]
    },
    {
     "name": "stderr",
     "output_type": "stream",
     "text": [
      "100%|█████████████████████████████████████████████████████████████████████████████████████| 1/1 [00:00<00:00,  3.97it/s]"
     ]
    },
    {
     "name": "stdout",
     "output_type": "stream",
     "text": [
      "1 calculation combinations to check\n",
      "1 new records to prepare\n"
     ]
    },
    {
     "name": "stderr",
     "output_type": "stream",
     "text": [
      "\n",
      "preparing: 100%|##########################################################################| 1/1 [00:00<00:00, 48.29it/s]\n"
     ]
    },
    {
     "name": "stdout",
     "output_type": "stream",
     "text": [
      "0c27e8cf-f58a-4eab-9923-2522aaaceba7\n",
      "sim calculated successfully\n",
      "\n",
      "1798.047 0.4672 1765.747\n",
      "0 existing calculation records provided\n"
     ]
    },
    {
     "name": "stderr",
     "output_type": "stream",
     "text": [
      "100%|█████████████████████████████████████████████████████████████████████████████████████| 1/1 [00:00<00:00,  2.76it/s]"
     ]
    },
    {
     "name": "stdout",
     "output_type": "stream",
     "text": [
      "1 calculation combinations to check\n",
      "1 new records to prepare\n"
     ]
    },
    {
     "name": "stderr",
     "output_type": "stream",
     "text": [
      "\n",
      "preparing: 100%|##########################################################################| 1/1 [00:00<00:00, 78.90it/s]\n"
     ]
    },
    {
     "name": "stdout",
     "output_type": "stream",
     "text": [
      "4b7dd05e-31ec-45c0-92f1-216363a67a60\n",
      "sim calculated successfully\n",
      "\n",
      "1798.047 0.4708 1772.292\n",
      "0 existing calculation records provided\n"
     ]
    },
    {
     "name": "stderr",
     "output_type": "stream",
     "text": [
      "100%|█████████████████████████████████████████████████████████████████████████████████████| 1/1 [00:00<00:00,  2.98it/s]"
     ]
    },
    {
     "name": "stdout",
     "output_type": "stream",
     "text": [
      "1 calculation combinations to check\n",
      "1 new records to prepare\n"
     ]
    },
    {
     "name": "stderr",
     "output_type": "stream",
     "text": [
      "\n",
      "preparing: 100%|##########################################################################| 1/1 [00:00<00:00, 69.45it/s]\n"
     ]
    },
    {
     "name": "stdout",
     "output_type": "stream",
     "text": [
      "2c187e23-774e-4629-aa81-c594fe8fe069\n",
      "sim calculated successfully\n",
      "\n",
      "1798.047 0.4191 1754.986\n",
      "58 2004--Zhou-X-W--Cu--LAMMPS--ipr1\n",
      "0 existing calculation records provided\n"
     ]
    },
    {
     "name": "stderr",
     "output_type": "stream",
     "text": [
      "100%|█████████████████████████████████████████████████████████████████████████████████████| 1/1 [00:00<00:00,  2.83it/s]"
     ]
    },
    {
     "name": "stdout",
     "output_type": "stream",
     "text": [
      "1 calculation combinations to check\n",
      "1 new records to prepare\n"
     ]
    },
    {
     "name": "stderr",
     "output_type": "stream",
     "text": [
      "\n",
      "preparing: 100%|##########################################################################| 1/1 [00:00<00:00, 87.51it/s]\n"
     ]
    },
    {
     "name": "stdout",
     "output_type": "stream",
     "text": [
      "435c4435-9219-4f46-a574-30ce742b82a5\n",
      "sim calculated successfully\n",
      "\n",
      "4525.000 0.0 4519.902\n",
      "0 existing calculation records provided\n"
     ]
    },
    {
     "name": "stderr",
     "output_type": "stream",
     "text": [
      "100%|█████████████████████████████████████████████████████████████████████████████████████| 1/1 [00:00<00:00,  3.93it/s]"
     ]
    },
    {
     "name": "stdout",
     "output_type": "stream",
     "text": [
      "1 calculation combinations to check\n",
      "1 new records to prepare\n"
     ]
    },
    {
     "name": "stderr",
     "output_type": "stream",
     "text": [
      "\n",
      "preparing: 100%|##########################################################################| 1/1 [00:00<00:00, 45.93it/s]\n"
     ]
    },
    {
     "name": "stdout",
     "output_type": "stream",
     "text": [
      "a1ce4385-2a5d-4da9-856c-5741f640d015\n",
      "sim calculated successfully\n",
      "\n",
      "2287.500 0.0002483 2272.028\n",
      "0 existing calculation records provided\n"
     ]
    },
    {
     "name": "stderr",
     "output_type": "stream",
     "text": [
      "100%|█████████████████████████████████████████████████████████████████████████████████████| 1/1 [00:00<00:00,  4.44it/s]"
     ]
    },
    {
     "name": "stdout",
     "output_type": "stream",
     "text": [
      "1 calculation combinations to check\n",
      "1 new records to prepare\n"
     ]
    },
    {
     "name": "stderr",
     "output_type": "stream",
     "text": [
      "\n",
      "preparing: 100%|##########################################################################| 1/1 [00:00<00:00, 44.01it/s]\n"
     ]
    },
    {
     "name": "stdout",
     "output_type": "stream",
     "text": [
      "f75339c2-5a81-40f8-829f-1fec77eaa0c8\n",
      "sim calculated successfully\n",
      "\n",
      "1168.750 0.4859 1168.354\n",
      "0 existing calculation records provided\n"
     ]
    },
    {
     "name": "stderr",
     "output_type": "stream",
     "text": [
      "100%|█████████████████████████████████████████████████████████████████████████████████████| 1/1 [00:00<00:00,  4.44it/s]"
     ]
    },
    {
     "name": "stdout",
     "output_type": "stream",
     "text": [
      "1 calculation combinations to check\n",
      "1 new records to prepare\n"
     ]
    },
    {
     "name": "stderr",
     "output_type": "stream",
     "text": [
      "\n",
      "preparing: 100%|##########################################################################| 1/1 [00:00<00:00, 41.61it/s]\n"
     ]
    },
    {
     "name": "stdout",
     "output_type": "stream",
     "text": [
      "e36da48a-21fe-492d-886f-8e61fa94b282\n",
      "sim calculated successfully\n",
      "\n",
      "1168.750 0.5245 1175.946\n",
      "0 existing calculation records provided\n"
     ]
    },
    {
     "name": "stderr",
     "output_type": "stream",
     "text": [
      "100%|█████████████████████████████████████████████████████████████████████████████████████| 1/1 [00:00<00:00,  4.05it/s]"
     ]
    },
    {
     "name": "stdout",
     "output_type": "stream",
     "text": [
      "1 calculation combinations to check\n",
      "1 new records to prepare\n"
     ]
    },
    {
     "name": "stderr",
     "output_type": "stream",
     "text": [
      "\n",
      "preparing: 100%|##########################################################################| 1/1 [00:00<00:00, 44.92it/s]\n"
     ]
    },
    {
     "name": "stdout",
     "output_type": "stream",
     "text": [
      "562d5f03-2b83-4e65-bfb4-978e95fe7bc7\n",
      "sim calculated successfully\n",
      "\n",
      "1168.750 0.5059 1180.320\n",
      "0 existing calculation records provided\n"
     ]
    },
    {
     "name": "stderr",
     "output_type": "stream",
     "text": [
      "100%|█████████████████████████████████████████████████████████████████████████████████████| 1/1 [00:00<00:00,  4.37it/s]"
     ]
    },
    {
     "name": "stdout",
     "output_type": "stream",
     "text": [
      "1 calculation combinations to check\n",
      "1 new records to prepare\n"
     ]
    },
    {
     "name": "stderr",
     "output_type": "stream",
     "text": [
      "\n",
      "preparing: 100%|##########################################################################| 1/1 [00:00<00:00, 80.00it/s]\n"
     ]
    },
    {
     "name": "stdout",
     "output_type": "stream",
     "text": [
      "eddf76a1-7894-4c74-a9af-0f5c368ae18a\n",
      "sim calculated successfully\n",
      "\n",
      "1168.750 0.4846 1182.967\n",
      "0 existing calculation records provided\n"
     ]
    },
    {
     "name": "stderr",
     "output_type": "stream",
     "text": [
      "100%|█████████████████████████████████████████████████████████████████████████████████████| 1/1 [00:00<00:00,  3.86it/s]"
     ]
    },
    {
     "name": "stdout",
     "output_type": "stream",
     "text": [
      "1 calculation combinations to check\n",
      "1 new records to prepare\n"
     ]
    },
    {
     "name": "stderr",
     "output_type": "stream",
     "text": [
      "\n",
      "preparing: 100%|##########################################################################| 1/1 [00:00<00:00, 45.63it/s]\n"
     ]
    },
    {
     "name": "stdout",
     "output_type": "stream",
     "text": [
      "bb7f4943-ca6b-42ec-b634-0e2cbf1aeeb5\n",
      "sim calculated successfully\n",
      "\n",
      "1168.750 0.5059 1177.009\n",
      "0 existing calculation records provided\n"
     ]
    },
    {
     "name": "stderr",
     "output_type": "stream",
     "text": [
      "100%|█████████████████████████████████████████████████████████████████████████████████████| 1/1 [00:00<00:00,  4.31it/s]"
     ]
    },
    {
     "name": "stdout",
     "output_type": "stream",
     "text": [
      "1 calculation combinations to check\n",
      "1 new records to prepare\n"
     ]
    },
    {
     "name": "stderr",
     "output_type": "stream",
     "text": [
      "\n",
      "preparing: 100%|##########################################################################| 1/1 [00:00<00:00, 47.86it/s]\n"
     ]
    },
    {
     "name": "stdout",
     "output_type": "stream",
     "text": [
      "b7e718a0-6f37-4c79-816f-bdca4bdd7849\n",
      "sim calculated successfully\n",
      "\n",
      "1168.750 0.4983 1166.380\n",
      "0 existing calculation records provided\n"
     ]
    },
    {
     "name": "stderr",
     "output_type": "stream",
     "text": [
      "100%|█████████████████████████████████████████████████████████████████████████████████████| 1/1 [00:00<00:00,  4.57it/s]"
     ]
    },
    {
     "name": "stdout",
     "output_type": "stream",
     "text": [
      "1 calculation combinations to check\n",
      "1 new records to prepare\n"
     ]
    },
    {
     "name": "stderr",
     "output_type": "stream",
     "text": [
      "\n",
      "preparing: 100%|##########################################################################| 1/1 [00:00<00:00, 84.11it/s]\n"
     ]
    },
    {
     "name": "stdout",
     "output_type": "stream",
     "text": [
      "8cc91ceb-9734-4270-8ffb-fdf9bc62989b\n",
      "sim calculated successfully\n",
      "\n",
      "1168.750 0.5066 1182.204\n",
      "0 existing calculation records provided\n"
     ]
    },
    {
     "name": "stderr",
     "output_type": "stream",
     "text": [
      "100%|█████████████████████████████████████████████████████████████████████████████████████| 1/1 [00:00<00:00,  2.25it/s]"
     ]
    },
    {
     "name": "stdout",
     "output_type": "stream",
     "text": [
      "1 calculation combinations to check\n",
      "1 new records to prepare\n"
     ]
    },
    {
     "name": "stderr",
     "output_type": "stream",
     "text": [
      "\n",
      "preparing: 100%|##########################################################################| 1/1 [00:00<00:00, 37.85it/s]\n"
     ]
    },
    {
     "name": "stdout",
     "output_type": "stream",
     "text": [
      "97c987e0-9b79-4edd-a276-5244a7775f99\n",
      "sim calculated successfully\n",
      "\n",
      "1168.750 0.4997 1184.332\n",
      "0 existing calculation records provided\n"
     ]
    },
    {
     "name": "stderr",
     "output_type": "stream",
     "text": [
      "100%|█████████████████████████████████████████████████████████████████████████████████████| 1/1 [00:00<00:00,  2.52it/s]"
     ]
    },
    {
     "name": "stdout",
     "output_type": "stream",
     "text": [
      "1 calculation combinations to check\n",
      "1 new records to prepare\n"
     ]
    },
    {
     "name": "stderr",
     "output_type": "stream",
     "text": [
      "\n",
      "preparing: 100%|##########################################################################| 1/1 [00:00<00:00, 80.59it/s]\n"
     ]
    },
    {
     "name": "stdout",
     "output_type": "stream",
     "text": [
      "5b4886eb-eb11-4f24-ae81-d9b2dcbe7db7\n",
      "sim calculated successfully\n",
      "\n",
      "1168.750 0.4856 1182.736\n",
      "0 existing calculation records provided\n"
     ]
    },
    {
     "name": "stderr",
     "output_type": "stream",
     "text": [
      "100%|█████████████████████████████████████████████████████████████████████████████████████| 1/1 [00:00<00:00,  4.14it/s]"
     ]
    },
    {
     "name": "stdout",
     "output_type": "stream",
     "text": [
      "1 calculation combinations to check\n",
      "1 new records to prepare\n"
     ]
    },
    {
     "name": "stderr",
     "output_type": "stream",
     "text": [
      "\n",
      "preparing: 100%|##########################################################################| 1/1 [00:00<00:00, 77.75it/s]\n"
     ]
    },
    {
     "name": "stdout",
     "output_type": "stream",
     "text": [
      "8e7b238f-92c4-4e82-a060-0375d1cc9ac1\n",
      "sim calculated successfully\n",
      "\n",
      "1168.750 0.5174 1171.508\n",
      "59 2004--Zhou-X-W--Cu-Ag-Au--LAMMPS--ipr1\n",
      "0 existing calculation records provided\n"
     ]
    },
    {
     "name": "stderr",
     "output_type": "stream",
     "text": [
      "100%|█████████████████████████████████████████████████████████████████████████████████████| 1/1 [00:00<00:00,  4.23it/s]"
     ]
    },
    {
     "name": "stdout",
     "output_type": "stream",
     "text": [
      "1 calculation combinations to check\n",
      "1 new records to prepare\n"
     ]
    },
    {
     "name": "stderr",
     "output_type": "stream",
     "text": [
      "\n",
      "preparing: 100%|##########################################################################| 1/1 [00:00<00:00, 45.73it/s]\n"
     ]
    },
    {
     "name": "stdout",
     "output_type": "stream",
     "text": [
      "139fe7e9-5a2d-43b5-a6a1-5c74ec40379d\n",
      "sim calculated successfully\n",
      "\n",
      "4525.000 0.06751 3777.615\n",
      "0 existing calculation records provided\n"
     ]
    },
    {
     "name": "stderr",
     "output_type": "stream",
     "text": [
      "100%|█████████████████████████████████████████████████████████████████████████████████████| 1/1 [00:00<00:00,  2.54it/s]"
     ]
    },
    {
     "name": "stdout",
     "output_type": "stream",
     "text": [
      "1 calculation combinations to check\n",
      "1 new records to prepare\n"
     ]
    },
    {
     "name": "stderr",
     "output_type": "stream",
     "text": [
      "\n",
      "preparing: 100%|##########################################################################| 1/1 [00:00<00:00, 63.64it/s]\n"
     ]
    },
    {
     "name": "stdout",
     "output_type": "stream",
     "text": [
      "d902c336-dc27-4367-b7af-d79e9ada15af\n",
      "sim calculated successfully\n",
      "\n",
      "2287.500 0.0001759 2274.785\n",
      "0 existing calculation records provided\n"
     ]
    },
    {
     "name": "stderr",
     "output_type": "stream",
     "text": [
      "100%|█████████████████████████████████████████████████████████████████████████████████████| 1/1 [00:00<00:00,  4.39it/s]"
     ]
    },
    {
     "name": "stdout",
     "output_type": "stream",
     "text": [
      "1 calculation combinations to check\n",
      "1 new records to prepare\n"
     ]
    },
    {
     "name": "stderr",
     "output_type": "stream",
     "text": [
      "\n",
      "preparing: 100%|##########################################################################| 1/1 [00:00<00:00, 90.76it/s]\n"
     ]
    },
    {
     "name": "stdout",
     "output_type": "stream",
     "text": [
      "130b7d60-bfa2-4411-af19-d479167350b0\n",
      "sim calculated successfully\n",
      "\n",
      "1168.750 0.431 1150.556\n",
      "0 existing calculation records provided\n"
     ]
    },
    {
     "name": "stderr",
     "output_type": "stream",
     "text": [
      "100%|█████████████████████████████████████████████████████████████████████████████████████| 1/1 [00:00<00:00,  4.88it/s]"
     ]
    },
    {
     "name": "stdout",
     "output_type": "stream",
     "text": [
      "1 calculation combinations to check\n",
      "1 new records to prepare\n"
     ]
    },
    {
     "name": "stderr",
     "output_type": "stream",
     "text": [
      "\n",
      "preparing: 100%|##########################################################################| 1/1 [00:00<00:00, 69.58it/s]\n"
     ]
    },
    {
     "name": "stdout",
     "output_type": "stream",
     "text": [
      "a31e1e99-18cc-45fe-b99d-e490e13c780b\n",
      "sim calculated successfully\n",
      "\n",
      "1168.750 0.4332 1143.864\n",
      "0 existing calculation records provided\n"
     ]
    },
    {
     "name": "stderr",
     "output_type": "stream",
     "text": [
      "100%|█████████████████████████████████████████████████████████████████████████████████████| 1/1 [00:00<00:00,  2.50it/s]"
     ]
    },
    {
     "name": "stdout",
     "output_type": "stream",
     "text": [
      "1 calculation combinations to check\n",
      "1 new records to prepare\n"
     ]
    },
    {
     "name": "stderr",
     "output_type": "stream",
     "text": [
      "\n",
      "preparing: 100%|##########################################################################| 1/1 [00:00<00:00, 63.88it/s]\n"
     ]
    },
    {
     "name": "stdout",
     "output_type": "stream",
     "text": [
      "49217f2d-ddc5-40e8-b687-d5a997da06a8\n",
      "sim calculated successfully\n",
      "\n",
      "1168.750 0.4236 1137.482\n",
      "0 existing calculation records provided\n"
     ]
    },
    {
     "name": "stderr",
     "output_type": "stream",
     "text": [
      "100%|█████████████████████████████████████████████████████████████████████████████████████| 1/1 [00:00<00:00,  3.83it/s]"
     ]
    },
    {
     "name": "stdout",
     "output_type": "stream",
     "text": [
      "1 calculation combinations to check\n",
      "1 new records to prepare\n"
     ]
    },
    {
     "name": "stderr",
     "output_type": "stream",
     "text": [
      "\n",
      "preparing: 100%|##########################################################################| 1/1 [00:00<00:00, 62.01it/s]\n"
     ]
    },
    {
     "name": "stdout",
     "output_type": "stream",
     "text": [
      "3a3012f8-fba5-43d4-953a-8874c06c5855\n",
      "sim calculated successfully\n",
      "\n",
      "1168.750 0.438 1145.740\n",
      "0 existing calculation records provided\n"
     ]
    },
    {
     "name": "stderr",
     "output_type": "stream",
     "text": [
      "100%|█████████████████████████████████████████████████████████████████████████████████████| 1/1 [00:00<00:00,  3.46it/s]"
     ]
    },
    {
     "name": "stdout",
     "output_type": "stream",
     "text": [
      "1 calculation combinations to check\n",
      "1 new records to prepare\n"
     ]
    },
    {
     "name": "stderr",
     "output_type": "stream",
     "text": [
      "\n",
      "preparing: 100%|##########################################################################| 1/1 [00:00<00:00, 36.23it/s]\n"
     ]
    },
    {
     "name": "stdout",
     "output_type": "stream",
     "text": [
      "64415a34-9fb5-41d0-8b69-166be8ddbbae\n",
      "sim calculated successfully\n",
      "\n",
      "1168.750 0.4354 1140.843\n",
      "0 existing calculation records provided\n"
     ]
    },
    {
     "name": "stderr",
     "output_type": "stream",
     "text": [
      "100%|█████████████████████████████████████████████████████████████████████████████████████| 1/1 [00:00<00:00,  2.31it/s]"
     ]
    },
    {
     "name": "stdout",
     "output_type": "stream",
     "text": [
      "1 calculation combinations to check\n",
      "1 new records to prepare\n"
     ]
    },
    {
     "name": "stderr",
     "output_type": "stream",
     "text": [
      "\n",
      "preparing: 100%|##########################################################################| 1/1 [00:00<00:00, 30.41it/s]\n"
     ]
    },
    {
     "name": "stdout",
     "output_type": "stream",
     "text": [
      "59d23522-6e93-4b3f-adc8-a25e71c21e3a\n",
      "sim calculated successfully\n",
      "\n",
      "1168.750 0.4516 1144.820\n",
      "0 existing calculation records provided\n"
     ]
    },
    {
     "name": "stderr",
     "output_type": "stream",
     "text": [
      "100%|█████████████████████████████████████████████████████████████████████████████████████| 1/1 [00:00<00:00,  4.13it/s]"
     ]
    },
    {
     "name": "stdout",
     "output_type": "stream",
     "text": [
      "1 calculation combinations to check\n",
      "1 new records to prepare\n"
     ]
    },
    {
     "name": "stderr",
     "output_type": "stream",
     "text": [
      "\n",
      "preparing: 100%|##########################################################################| 1/1 [00:00<00:00, 53.39it/s]\n"
     ]
    },
    {
     "name": "stdout",
     "output_type": "stream",
     "text": [
      "9aca8d72-e604-49b0-9f19-14160437d93e\n",
      "sim calculated successfully\n",
      "\n",
      "1168.750 0.4544 1148.751\n",
      "0 existing calculation records provided\n"
     ]
    },
    {
     "name": "stderr",
     "output_type": "stream",
     "text": [
      "100%|█████████████████████████████████████████████████████████████████████████████████████| 1/1 [00:00<00:00,  2.51it/s]"
     ]
    },
    {
     "name": "stdout",
     "output_type": "stream",
     "text": [
      "1 calculation combinations to check\n",
      "1 new records to prepare\n"
     ]
    },
    {
     "name": "stderr",
     "output_type": "stream",
     "text": [
      "\n",
      "preparing: 100%|##########################################################################| 1/1 [00:00<00:00, 37.83it/s]\n"
     ]
    },
    {
     "name": "stdout",
     "output_type": "stream",
     "text": [
      "44afd354-f5f1-478c-8e82-7b980205a05a\n",
      "sim calculated successfully\n",
      "\n",
      "1168.750 0.4494 1140.971\n",
      "0 existing calculation records provided\n"
     ]
    },
    {
     "name": "stderr",
     "output_type": "stream",
     "text": [
      "100%|█████████████████████████████████████████████████████████████████████████████████████| 1/1 [00:00<00:00,  4.17it/s]"
     ]
    },
    {
     "name": "stdout",
     "output_type": "stream",
     "text": [
      "1 calculation combinations to check\n",
      "1 new records to prepare\n"
     ]
    },
    {
     "name": "stderr",
     "output_type": "stream",
     "text": [
      "\n",
      "preparing: 100%|##########################################################################| 1/1 [00:00<00:00, 48.35it/s]\n"
     ]
    },
    {
     "name": "stdout",
     "output_type": "stream",
     "text": [
      "3aebd1d7-0be3-4675-b681-60ffa7a7cc9b\n",
      "sim calculated successfully\n",
      "\n",
      "1168.750 0.4245 1140.322\n",
      "0 existing calculation records provided\n"
     ]
    },
    {
     "name": "stderr",
     "output_type": "stream",
     "text": [
      "100%|█████████████████████████████████████████████████████████████████████████████████████| 1/1 [00:00<00:00,  1.99it/s]"
     ]
    },
    {
     "name": "stdout",
     "output_type": "stream",
     "text": [
      "1 calculation combinations to check\n",
      "1 new records to prepare\n"
     ]
    },
    {
     "name": "stderr",
     "output_type": "stream",
     "text": [
      "\n",
      "preparing: 100%|##########################################################################| 1/1 [00:00<00:00, 28.97it/s]\n"
     ]
    },
    {
     "name": "stdout",
     "output_type": "stream",
     "text": [
      "7933ef67-3421-4fd7-a9c7-9bf11703e5f9\n",
      "sim calculated successfully\n",
      "\n",
      "1168.750 0.4684 1150.803\n",
      "60 2004--Zhou-X-W--Cu-Ag-Au--LAMMPS--ipr1\n",
      "0 existing calculation records provided\n"
     ]
    },
    {
     "name": "stderr",
     "output_type": "stream",
     "text": [
      "100%|█████████████████████████████████████████████████████████████████████████████████████| 1/1 [00:00<00:00,  4.16it/s]"
     ]
    },
    {
     "name": "stdout",
     "output_type": "stream",
     "text": [
      "1 calculation combinations to check\n",
      "1 new records to prepare\n"
     ]
    },
    {
     "name": "stderr",
     "output_type": "stream",
     "text": [
      "\n",
      "preparing: 100%|##########################################################################| 1/1 [00:00<00:00, 39.44it/s]\n"
     ]
    },
    {
     "name": "stdout",
     "output_type": "stream",
     "text": [
      "a3f93729-870e-4878-807a-bebedfac329b\n",
      "sim calculated successfully\n",
      "\n",
      "4525.000 0.0 4605.251\n",
      "0 existing calculation records provided\n"
     ]
    },
    {
     "name": "stderr",
     "output_type": "stream",
     "text": [
      "100%|█████████████████████████████████████████████████████████████████████████████████████| 1/1 [00:00<00:00,  2.34it/s]"
     ]
    },
    {
     "name": "stdout",
     "output_type": "stream",
     "text": [
      "1 calculation combinations to check\n",
      "1 new records to prepare\n"
     ]
    },
    {
     "name": "stderr",
     "output_type": "stream",
     "text": [
      "\n",
      "preparing: 100%|##########################################################################| 1/1 [00:00<00:00, 31.73it/s]\n"
     ]
    },
    {
     "name": "stdout",
     "output_type": "stream",
     "text": [
      "ac7dd35b-1d42-414f-8dd1-83f9f3f8df8f\n",
      "sim calculated successfully\n",
      "\n",
      "2287.500 0.0001759 2266.605\n",
      "0 existing calculation records provided\n"
     ]
    },
    {
     "name": "stderr",
     "output_type": "stream",
     "text": [
      "100%|█████████████████████████████████████████████████████████████████████████████████████| 1/1 [00:00<00:00,  4.16it/s]"
     ]
    },
    {
     "name": "stdout",
     "output_type": "stream",
     "text": [
      "1 calculation combinations to check\n",
      "1 new records to prepare\n"
     ]
    },
    {
     "name": "stderr",
     "output_type": "stream",
     "text": [
      "\n",
      "preparing: 100%|##########################################################################| 1/1 [00:00<00:00, 62.60it/s]\n"
     ]
    },
    {
     "name": "stdout",
     "output_type": "stream",
     "text": [
      "8075253b-2bd2-482c-870a-f3d605c64421\n",
      "sim calculated successfully\n",
      "\n",
      "1168.750 0.4418 1148.575\n",
      "0 existing calculation records provided\n"
     ]
    },
    {
     "name": "stderr",
     "output_type": "stream",
     "text": [
      "100%|█████████████████████████████████████████████████████████████████████████████████████| 1/1 [00:00<00:00,  2.50it/s]"
     ]
    },
    {
     "name": "stdout",
     "output_type": "stream",
     "text": [
      "1 calculation combinations to check\n",
      "1 new records to prepare\n"
     ]
    },
    {
     "name": "stderr",
     "output_type": "stream",
     "text": [
      "\n",
      "preparing: 100%|##########################################################################| 1/1 [00:00<00:00, 36.57it/s]\n"
     ]
    },
    {
     "name": "stdout",
     "output_type": "stream",
     "text": [
      "263ab769-2f71-4235-8855-9658566a4c58\n",
      "sim calculated successfully\n",
      "\n",
      "1168.750 0.4368 1145.599\n",
      "0 existing calculation records provided\n"
     ]
    },
    {
     "name": "stderr",
     "output_type": "stream",
     "text": [
      "100%|█████████████████████████████████████████████████████████████████████████████████████| 1/1 [00:00<00:00,  4.00it/s]"
     ]
    },
    {
     "name": "stdout",
     "output_type": "stream",
     "text": [
      "1 calculation combinations to check\n",
      "1 new records to prepare\n"
     ]
    },
    {
     "name": "stderr",
     "output_type": "stream",
     "text": [
      "\n",
      "preparing: 100%|##########################################################################| 1/1 [00:00<00:00, 66.90it/s]\n"
     ]
    },
    {
     "name": "stdout",
     "output_type": "stream",
     "text": [
      "82186563-cc94-4754-a9d8-13c7b71f8693\n",
      "sim calculated successfully\n",
      "\n",
      "1168.750 0.4542 1147.537\n",
      "0 existing calculation records provided\n"
     ]
    },
    {
     "name": "stderr",
     "output_type": "stream",
     "text": [
      "100%|█████████████████████████████████████████████████████████████████████████████████████| 1/1 [00:00<00:00,  2.23it/s]"
     ]
    },
    {
     "name": "stdout",
     "output_type": "stream",
     "text": [
      "1 calculation combinations to check\n",
      "1 new records to prepare\n"
     ]
    },
    {
     "name": "stderr",
     "output_type": "stream",
     "text": [
      "\n",
      "preparing: 100%|##########################################################################| 1/1 [00:00<00:00, 36.47it/s]\n"
     ]
    },
    {
     "name": "stdout",
     "output_type": "stream",
     "text": [
      "021e26ca-7201-49f0-85c1-c4dc763c50e5\n",
      "sim calculated successfully\n",
      "\n",
      "1168.750 0.4196 1136.541\n",
      "0 existing calculation records provided\n"
     ]
    },
    {
     "name": "stderr",
     "output_type": "stream",
     "text": [
      "100%|█████████████████████████████████████████████████████████████████████████████████████| 1/1 [00:00<00:00,  2.37it/s]"
     ]
    },
    {
     "name": "stdout",
     "output_type": "stream",
     "text": [
      "1 calculation combinations to check\n",
      "1 new records to prepare\n"
     ]
    },
    {
     "name": "stderr",
     "output_type": "stream",
     "text": [
      "\n",
      "preparing: 100%|##########################################################################| 1/1 [00:00<00:00, 34.23it/s]\n"
     ]
    },
    {
     "name": "stdout",
     "output_type": "stream",
     "text": [
      "f475315a-7cee-43db-a626-5aef900ad8be\n",
      "sim calculated successfully\n",
      "\n",
      "1168.750 0.4207 1137.761\n",
      "0 existing calculation records provided\n"
     ]
    },
    {
     "name": "stderr",
     "output_type": "stream",
     "text": [
      "100%|█████████████████████████████████████████████████████████████████████████████████████| 1/1 [00:00<00:00,  2.25it/s]"
     ]
    },
    {
     "name": "stdout",
     "output_type": "stream",
     "text": [
      "1 calculation combinations to check\n",
      "1 new records to prepare\n"
     ]
    },
    {
     "name": "stderr",
     "output_type": "stream",
     "text": [
      "\n",
      "preparing: 100%|##########################################################################| 1/1 [00:00<00:00, 33.31it/s]\n"
     ]
    },
    {
     "name": "stdout",
     "output_type": "stream",
     "text": [
      "130c00b9-ed88-41af-b2d4-77139f993857\n",
      "sim calculated successfully\n",
      "\n",
      "1168.750 0.4246 1150.008\n",
      "0 existing calculation records provided\n"
     ]
    },
    {
     "name": "stderr",
     "output_type": "stream",
     "text": [
      "100%|█████████████████████████████████████████████████████████████████████████████████████| 1/1 [00:00<00:00,  2.15it/s]"
     ]
    },
    {
     "name": "stdout",
     "output_type": "stream",
     "text": [
      "1 calculation combinations to check\n",
      "1 new records to prepare\n"
     ]
    },
    {
     "name": "stderr",
     "output_type": "stream",
     "text": [
      "\n",
      "preparing: 100%|##########################################################################| 1/1 [00:00<00:00, 33.45it/s]\n"
     ]
    },
    {
     "name": "stdout",
     "output_type": "stream",
     "text": [
      "8a242d28-165d-4198-a50c-9d258cf8fa2f\n",
      "sim calculated successfully\n",
      "\n",
      "1168.750 0.4361 1145.085\n",
      "0 existing calculation records provided\n"
     ]
    },
    {
     "name": "stderr",
     "output_type": "stream",
     "text": [
      "100%|█████████████████████████████████████████████████████████████████████████████████████| 1/1 [00:00<00:00,  2.56it/s]"
     ]
    },
    {
     "name": "stdout",
     "output_type": "stream",
     "text": [
      "1 calculation combinations to check\n",
      "1 new records to prepare\n"
     ]
    },
    {
     "name": "stderr",
     "output_type": "stream",
     "text": [
      "\n",
      "preparing: 100%|##########################################################################| 1/1 [00:00<00:00, 70.86it/s]\n"
     ]
    },
    {
     "name": "stdout",
     "output_type": "stream",
     "text": [
      "cf760ed6-8145-4724-b61f-e8b95728230d\n",
      "sim calculated successfully\n",
      "\n",
      "1168.750 0.447 1146.617\n",
      "0 existing calculation records provided\n"
     ]
    },
    {
     "name": "stderr",
     "output_type": "stream",
     "text": [
      "100%|█████████████████████████████████████████████████████████████████████████████████████| 1/1 [00:00<00:00,  2.25it/s]"
     ]
    },
    {
     "name": "stdout",
     "output_type": "stream",
     "text": [
      "1 calculation combinations to check\n",
      "1 new records to prepare\n"
     ]
    },
    {
     "name": "stderr",
     "output_type": "stream",
     "text": [
      "\n",
      "preparing: 100%|##########################################################################| 1/1 [00:00<00:00, 34.15it/s]\n"
     ]
    },
    {
     "name": "stdout",
     "output_type": "stream",
     "text": [
      "f08d45a3-22ac-4639-ad87-a3ea5301c354\n",
      "sim calculated successfully\n",
      "\n",
      "1168.750 0.4181 1143.399\n",
      "0 existing calculation records provided\n"
     ]
    },
    {
     "name": "stderr",
     "output_type": "stream",
     "text": [
      "100%|█████████████████████████████████████████████████████████████████████████████████████| 1/1 [00:00<00:00,  2.58it/s]"
     ]
    },
    {
     "name": "stdout",
     "output_type": "stream",
     "text": [
      "1 calculation combinations to check\n",
      "1 new records to prepare\n"
     ]
    },
    {
     "name": "stderr",
     "output_type": "stream",
     "text": [
      "\n",
      "preparing: 100%|##########################################################################| 1/1 [00:00<00:00, 34.24it/s]\n"
     ]
    },
    {
     "name": "stdout",
     "output_type": "stream",
     "text": [
      "460ea333-3cad-4543-839b-b35967191728\n",
      "sim calculated successfully\n",
      "\n",
      "1168.750 0.4572 1145.006\n",
      "61 2004--Zhou-X-W--Cu-Ag-Au--LAMMPS--ipr2\n",
      "0 existing calculation records provided\n"
     ]
    },
    {
     "name": "stderr",
     "output_type": "stream",
     "text": [
      "100%|█████████████████████████████████████████████████████████████████████████████████████| 1/1 [00:00<00:00,  2.32it/s]"
     ]
    },
    {
     "name": "stdout",
     "output_type": "stream",
     "text": [
      "1 calculation combinations to check\n",
      "1 new records to prepare\n"
     ]
    },
    {
     "name": "stderr",
     "output_type": "stream",
     "text": [
      "\n",
      "preparing: 100%|##########################################################################| 1/1 [00:00<00:00, 39.34it/s]\n"
     ]
    },
    {
     "name": "stdout",
     "output_type": "stream",
     "text": [
      "e7a06ead-20cb-4023-ad03-c7c5a69d1945\n",
      "sim calculated successfully\n",
      "\n",
      "4525.000 0.06446 3802.384\n",
      "0 existing calculation records provided\n"
     ]
    },
    {
     "name": "stderr",
     "output_type": "stream",
     "text": [
      "100%|█████████████████████████████████████████████████████████████████████████████████████| 1/1 [00:00<00:00,  2.83it/s]"
     ]
    },
    {
     "name": "stdout",
     "output_type": "stream",
     "text": [
      "1 calculation combinations to check\n",
      "1 new records to prepare\n"
     ]
    },
    {
     "name": "stderr",
     "output_type": "stream",
     "text": [
      "\n",
      "preparing: 100%|##########################################################################| 1/1 [00:00<00:00, 68.34it/s]\n"
     ]
    },
    {
     "name": "stdout",
     "output_type": "stream",
     "text": [
      "cf311ffe-dfe2-4541-b493-f560d152e586\n",
      "sim calculated successfully\n",
      "\n",
      "2287.500 0.0001448 2279.874\n",
      "0 existing calculation records provided\n"
     ]
    },
    {
     "name": "stderr",
     "output_type": "stream",
     "text": [
      "100%|█████████████████████████████████████████████████████████████████████████████████████| 1/1 [00:00<00:00,  2.48it/s]"
     ]
    },
    {
     "name": "stdout",
     "output_type": "stream",
     "text": [
      "1 calculation combinations to check\n",
      "1 new records to prepare\n"
     ]
    },
    {
     "name": "stderr",
     "output_type": "stream",
     "text": [
      "\n",
      "preparing: 100%|##########################################################################| 1/1 [00:00<00:00, 29.39it/s]\n"
     ]
    },
    {
     "name": "stdout",
     "output_type": "stream",
     "text": [
      "fe0133df-c4f8-4833-93d9-65423d482213\n",
      "sim calculated successfully\n",
      "\n",
      "1168.750 0.4332 1134.950\n",
      "0 existing calculation records provided\n"
     ]
    },
    {
     "name": "stderr",
     "output_type": "stream",
     "text": [
      "100%|█████████████████████████████████████████████████████████████████████████████████████| 1/1 [00:00<00:00,  2.32it/s]"
     ]
    },
    {
     "name": "stdout",
     "output_type": "stream",
     "text": [
      "1 calculation combinations to check\n",
      "1 new records to prepare\n"
     ]
    },
    {
     "name": "stderr",
     "output_type": "stream",
     "text": [
      "\n",
      "preparing: 100%|##########################################################################| 1/1 [00:00<00:00, 33.79it/s]\n"
     ]
    },
    {
     "name": "stdout",
     "output_type": "stream",
     "text": [
      "b7d5f82c-15b5-4bab-8b27-95153add9619\n",
      "sim calculated successfully\n",
      "\n",
      "1168.750 0.4123 1143.721\n",
      "0 existing calculation records provided\n"
     ]
    },
    {
     "name": "stderr",
     "output_type": "stream",
     "text": [
      "100%|█████████████████████████████████████████████████████████████████████████████████████| 1/1 [00:00<00:00,  4.15it/s]"
     ]
    },
    {
     "name": "stdout",
     "output_type": "stream",
     "text": [
      "1 calculation combinations to check\n",
      "1 new records to prepare\n"
     ]
    },
    {
     "name": "stderr",
     "output_type": "stream",
     "text": [
      "\n",
      "preparing: 100%|##########################################################################| 1/1 [00:00<00:00, 65.96it/s]\n"
     ]
    },
    {
     "name": "stdout",
     "output_type": "stream",
     "text": [
      "93cf2bef-de5e-4d1c-a53c-d502cee62f0b\n",
      "sim calculated successfully\n",
      "\n",
      "1168.750 0.4461 1147.880\n",
      "0 existing calculation records provided\n"
     ]
    },
    {
     "name": "stderr",
     "output_type": "stream",
     "text": [
      "100%|█████████████████████████████████████████████████████████████████████████████████████| 1/1 [00:00<00:00,  4.40it/s]"
     ]
    },
    {
     "name": "stdout",
     "output_type": "stream",
     "text": [
      "1 calculation combinations to check\n",
      "1 new records to prepare\n"
     ]
    },
    {
     "name": "stderr",
     "output_type": "stream",
     "text": [
      "\n",
      "preparing: 100%|##########################################################################| 1/1 [00:00<00:00, 57.12it/s]\n"
     ]
    },
    {
     "name": "stdout",
     "output_type": "stream",
     "text": [
      "107094f1-d117-471f-aab3-5882bcb1a657\n",
      "sim calculated successfully\n",
      "\n",
      "1168.750 0.4291 1143.938\n",
      "0 existing calculation records provided\n"
     ]
    },
    {
     "name": "stderr",
     "output_type": "stream",
     "text": [
      "100%|█████████████████████████████████████████████████████████████████████████████████████| 1/1 [00:00<00:00,  2.26it/s]"
     ]
    },
    {
     "name": "stdout",
     "output_type": "stream",
     "text": [
      "1 calculation combinations to check\n",
      "1 new records to prepare\n"
     ]
    },
    {
     "name": "stderr",
     "output_type": "stream",
     "text": [
      "\n",
      "preparing: 100%|##########################################################################| 1/1 [00:00<00:00, 57.77it/s]\n"
     ]
    },
    {
     "name": "stdout",
     "output_type": "stream",
     "text": [
      "dcce3211-75e3-432d-ae6d-e5f44c6ed448\n",
      "sim calculated successfully\n",
      "\n",
      "1168.750 0.4172 1140.370\n",
      "0 existing calculation records provided\n"
     ]
    },
    {
     "name": "stderr",
     "output_type": "stream",
     "text": [
      "100%|█████████████████████████████████████████████████████████████████████████████████████| 1/1 [00:00<00:00,  4.42it/s]"
     ]
    },
    {
     "name": "stdout",
     "output_type": "stream",
     "text": [
      "1 calculation combinations to check\n",
      "1 new records to prepare\n"
     ]
    },
    {
     "name": "stderr",
     "output_type": "stream",
     "text": [
      "\n",
      "preparing: 100%|##########################################################################| 1/1 [00:00<00:00, 33.42it/s]\n"
     ]
    },
    {
     "name": "stdout",
     "output_type": "stream",
     "text": [
      "bb8abbfa-bb5b-4445-aaa4-b4f24535a7e8\n",
      "sim calculated successfully\n",
      "\n",
      "1168.750 0.4303 1145.539\n",
      "0 existing calculation records provided\n"
     ]
    },
    {
     "name": "stderr",
     "output_type": "stream",
     "text": [
      "100%|█████████████████████████████████████████████████████████████████████████████████████| 1/1 [00:00<00:00,  4.35it/s]"
     ]
    },
    {
     "name": "stdout",
     "output_type": "stream",
     "text": [
      "1 calculation combinations to check\n",
      "1 new records to prepare\n"
     ]
    },
    {
     "name": "stderr",
     "output_type": "stream",
     "text": [
      "\n",
      "preparing: 100%|##########################################################################| 1/1 [00:00<00:00, 43.95it/s]\n"
     ]
    },
    {
     "name": "stdout",
     "output_type": "stream",
     "text": [
      "07ca29bf-11b3-44bd-bf84-29f5fc7a2397\n",
      "sim calculated successfully\n",
      "\n",
      "1168.750 0.4191 1140.298\n",
      "0 existing calculation records provided\n"
     ]
    },
    {
     "name": "stderr",
     "output_type": "stream",
     "text": [
      "100%|█████████████████████████████████████████████████████████████████████████████████████| 1/1 [00:00<00:00,  4.28it/s]"
     ]
    },
    {
     "name": "stdout",
     "output_type": "stream",
     "text": [
      "1 calculation combinations to check\n",
      "1 new records to prepare\n"
     ]
    },
    {
     "name": "stderr",
     "output_type": "stream",
     "text": [
      "\n",
      "preparing: 100%|##########################################################################| 1/1 [00:00<00:00, 39.71it/s]\n"
     ]
    },
    {
     "name": "stdout",
     "output_type": "stream",
     "text": [
      "0f05a84f-8224-4de8-b50a-e021a2a0b2c6\n",
      "sim calculated successfully\n",
      "\n",
      "1168.750 0.4378 1143.191\n",
      "0 existing calculation records provided\n"
     ]
    },
    {
     "name": "stderr",
     "output_type": "stream",
     "text": [
      "100%|█████████████████████████████████████████████████████████████████████████████████████| 1/1 [00:00<00:00,  2.65it/s]"
     ]
    },
    {
     "name": "stdout",
     "output_type": "stream",
     "text": [
      "1 calculation combinations to check\n",
      "1 new records to prepare\n"
     ]
    },
    {
     "name": "stderr",
     "output_type": "stream",
     "text": [
      "\n",
      "preparing: 100%|##########################################################################| 1/1 [00:00<00:00, 63.05it/s]\n"
     ]
    },
    {
     "name": "stdout",
     "output_type": "stream",
     "text": [
      "8257f30a-7ae1-4dca-a9e5-ed8ed548e885\n",
      "sim calculated successfully\n",
      "\n",
      "1168.750 0.4072 1135.512\n",
      "0 existing calculation records provided\n"
     ]
    },
    {
     "name": "stderr",
     "output_type": "stream",
     "text": [
      "100%|█████████████████████████████████████████████████████████████████████████████████████| 1/1 [00:00<00:00,  4.50it/s]"
     ]
    },
    {
     "name": "stdout",
     "output_type": "stream",
     "text": [
      "1 calculation combinations to check\n",
      "1 new records to prepare\n"
     ]
    },
    {
     "name": "stderr",
     "output_type": "stream",
     "text": [
      "\n",
      "preparing: 100%|##########################################################################| 1/1 [00:00<00:00, 58.24it/s]\n"
     ]
    },
    {
     "name": "stdout",
     "output_type": "stream",
     "text": [
      "c5fd7a39-ccbe-41a7-ae64-ca5e7ecd8239\n",
      "sim calculated successfully\n",
      "\n",
      "1168.750 0.4552 1143.046\n",
      "62 2004--Zhou-X-W--Cu-Ag-Au--LAMMPS--ipr2\n",
      "0 existing calculation records provided\n"
     ]
    },
    {
     "name": "stderr",
     "output_type": "stream",
     "text": [
      "100%|█████████████████████████████████████████████████████████████████████████████████████| 1/1 [00:00<00:00,  4.74it/s]"
     ]
    },
    {
     "name": "stdout",
     "output_type": "stream",
     "text": [
      "1 calculation combinations to check\n",
      "1 new records to prepare\n"
     ]
    },
    {
     "name": "stderr",
     "output_type": "stream",
     "text": [
      "\n",
      "preparing: 100%|##########################################################################| 1/1 [00:00<00:00, 41.09it/s]\n"
     ]
    },
    {
     "name": "stdout",
     "output_type": "stream",
     "text": [
      "29f7459a-46b6-44c2-b945-0cccdd094be7\n",
      "sim calculated successfully\n",
      "\n",
      "4525.000 0.0 4602.303\n",
      "0 existing calculation records provided\n"
     ]
    },
    {
     "name": "stderr",
     "output_type": "stream",
     "text": [
      "100%|█████████████████████████████████████████████████████████████████████████████████████| 1/1 [00:00<00:00,  2.26it/s]"
     ]
    },
    {
     "name": "stdout",
     "output_type": "stream",
     "text": [
      "1 calculation combinations to check\n",
      "1 new records to prepare\n"
     ]
    },
    {
     "name": "stderr",
     "output_type": "stream",
     "text": [
      "\n",
      "preparing: 100%|##########################################################################| 1/1 [00:00<00:00, 32.32it/s]\n"
     ]
    },
    {
     "name": "stdout",
     "output_type": "stream",
     "text": [
      "6bbf505f-9c6d-46ae-bbc6-04d20a317b95\n",
      "sim calculated successfully\n",
      "\n",
      "2287.500 0.0001759 2278.175\n",
      "0 existing calculation records provided\n"
     ]
    },
    {
     "name": "stderr",
     "output_type": "stream",
     "text": [
      "100%|█████████████████████████████████████████████████████████████████████████████████████| 1/1 [00:00<00:00,  2.30it/s]"
     ]
    },
    {
     "name": "stdout",
     "output_type": "stream",
     "text": [
      "1 calculation combinations to check\n",
      "1 new records to prepare\n"
     ]
    },
    {
     "name": "stderr",
     "output_type": "stream",
     "text": [
      "\n",
      "preparing: 100%|##########################################################################| 1/1 [00:00<00:00, 34.79it/s]\n"
     ]
    },
    {
     "name": "stdout",
     "output_type": "stream",
     "text": [
      "dc01f98b-82b4-4ad4-82d1-815307a4acb6\n",
      "sim calculated successfully\n",
      "\n",
      "1168.750 0.4386 1144.512\n",
      "0 existing calculation records provided\n"
     ]
    },
    {
     "name": "stderr",
     "output_type": "stream",
     "text": [
      "100%|█████████████████████████████████████████████████████████████████████████████████████| 1/1 [00:00<00:00,  2.60it/s]"
     ]
    },
    {
     "name": "stdout",
     "output_type": "stream",
     "text": [
      "1 calculation combinations to check\n",
      "1 new records to prepare\n"
     ]
    },
    {
     "name": "stderr",
     "output_type": "stream",
     "text": [
      "\n",
      "preparing: 100%|##########################################################################| 1/1 [00:00<00:00, 58.04it/s]\n"
     ]
    },
    {
     "name": "stdout",
     "output_type": "stream",
     "text": [
      "1e315c29-daa2-449b-94e2-4766beb97931\n",
      "sim calculated successfully\n",
      "\n",
      "1168.750 0.4355 1143.029\n",
      "0 existing calculation records provided\n"
     ]
    },
    {
     "name": "stderr",
     "output_type": "stream",
     "text": [
      "100%|█████████████████████████████████████████████████████████████████████████████████████| 1/1 [00:00<00:00,  2.81it/s]"
     ]
    },
    {
     "name": "stdout",
     "output_type": "stream",
     "text": [
      "1 calculation combinations to check\n",
      "1 new records to prepare\n"
     ]
    },
    {
     "name": "stderr",
     "output_type": "stream",
     "text": [
      "\n",
      "preparing: 100%|##########################################################################| 1/1 [00:00<00:00, 39.37it/s]\n"
     ]
    },
    {
     "name": "stdout",
     "output_type": "stream",
     "text": [
      "4fd78ee5-a1b7-4434-a357-3aab9763ac34\n",
      "sim calculated successfully\n",
      "\n",
      "1168.750 0.4107 1140.140\n",
      "0 existing calculation records provided\n"
     ]
    },
    {
     "name": "stderr",
     "output_type": "stream",
     "text": [
      "100%|█████████████████████████████████████████████████████████████████████████████████████| 1/1 [00:00<00:00,  2.28it/s]"
     ]
    },
    {
     "name": "stdout",
     "output_type": "stream",
     "text": [
      "1 calculation combinations to check\n",
      "1 new records to prepare\n"
     ]
    },
    {
     "name": "stderr",
     "output_type": "stream",
     "text": [
      "\n",
      "preparing: 100%|##########################################################################| 1/1 [00:00<00:00, 32.72it/s]\n"
     ]
    },
    {
     "name": "stdout",
     "output_type": "stream",
     "text": [
      "6013afee-d884-464b-b647-50a3557c3ee6\n",
      "sim calculated successfully\n",
      "\n",
      "1168.750 0.4145 1146.065\n",
      "0 existing calculation records provided\n"
     ]
    },
    {
     "name": "stderr",
     "output_type": "stream",
     "text": [
      "100%|█████████████████████████████████████████████████████████████████████████████████████| 1/1 [00:00<00:00,  2.34it/s]"
     ]
    },
    {
     "name": "stdout",
     "output_type": "stream",
     "text": [
      "1 calculation combinations to check\n",
      "1 new records to prepare\n"
     ]
    },
    {
     "name": "stderr",
     "output_type": "stream",
     "text": [
      "\n",
      "preparing: 100%|##########################################################################| 1/1 [00:00<00:00, 35.95it/s]\n"
     ]
    },
    {
     "name": "stdout",
     "output_type": "stream",
     "text": [
      "70d419bf-c494-4c24-9318-6429aac34f12\n",
      "sim calculated successfully\n",
      "\n",
      "1168.750 0.4318 1130.531\n",
      "0 existing calculation records provided\n"
     ]
    },
    {
     "name": "stderr",
     "output_type": "stream",
     "text": [
      "100%|█████████████████████████████████████████████████████████████████████████████████████| 1/1 [00:00<00:00,  4.34it/s]"
     ]
    },
    {
     "name": "stdout",
     "output_type": "stream",
     "text": [
      "1 calculation combinations to check\n",
      "1 new records to prepare\n"
     ]
    },
    {
     "name": "stderr",
     "output_type": "stream",
     "text": [
      "\n",
      "preparing: 100%|##########################################################################| 1/1 [00:00<00:00, 61.80it/s]\n"
     ]
    },
    {
     "name": "stdout",
     "output_type": "stream",
     "text": [
      "df90869c-7fc6-4c14-bb3a-409628711cbb\n",
      "sim calculated successfully\n",
      "\n",
      "1168.750 0.4054 1144.647\n",
      "0 existing calculation records provided\n"
     ]
    },
    {
     "name": "stderr",
     "output_type": "stream",
     "text": [
      "100%|█████████████████████████████████████████████████████████████████████████████████████| 1/1 [00:00<00:00,  2.25it/s]"
     ]
    },
    {
     "name": "stdout",
     "output_type": "stream",
     "text": [
      "1 calculation combinations to check\n",
      "1 new records to prepare\n"
     ]
    },
    {
     "name": "stderr",
     "output_type": "stream",
     "text": [
      "\n",
      "preparing: 100%|##########################################################################| 1/1 [00:00<00:00, 34.07it/s]\n"
     ]
    },
    {
     "name": "stdout",
     "output_type": "stream",
     "text": [
      "89bbf20a-2c25-4f8e-863f-687643d7fd24\n",
      "sim calculated successfully\n",
      "\n",
      "1168.750 0.3924 1132.514\n",
      "0 existing calculation records provided\n"
     ]
    },
    {
     "name": "stderr",
     "output_type": "stream",
     "text": [
      "100%|█████████████████████████████████████████████████████████████████████████████████████| 1/1 [00:00<00:00,  2.53it/s]"
     ]
    },
    {
     "name": "stdout",
     "output_type": "stream",
     "text": [
      "1 calculation combinations to check\n",
      "1 new records to prepare\n"
     ]
    },
    {
     "name": "stderr",
     "output_type": "stream",
     "text": [
      "\n",
      "preparing: 100%|##########################################################################| 1/1 [00:00<00:00, 57.94it/s]\n"
     ]
    },
    {
     "name": "stdout",
     "output_type": "stream",
     "text": [
      "7762f2e8-0c21-45ff-93b1-af5637ec9562\n",
      "sim calculated successfully\n",
      "\n",
      "609.375 0.9999 608.215\n",
      "0 existing calculation records provided\n"
     ]
    },
    {
     "name": "stderr",
     "output_type": "stream",
     "text": [
      "100%|█████████████████████████████████████████████████████████████████████████████████████| 1/1 [00:00<00:00,  4.67it/s]"
     ]
    },
    {
     "name": "stdout",
     "output_type": "stream",
     "text": [
      "1 calculation combinations to check\n",
      "1 new records to prepare\n"
     ]
    },
    {
     "name": "stderr",
     "output_type": "stream",
     "text": [
      "\n",
      "preparing: 100%|##########################################################################| 1/1 [00:00<00:00, 72.03it/s]\n"
     ]
    },
    {
     "name": "stdout",
     "output_type": "stream",
     "text": [
      "ca12464a-7eb8-4c64-9d21-4661d856aab0\n",
      "sim calculated successfully\n",
      "\n",
      "1448.438 0.002452 1338.653\n",
      "0 existing calculation records provided\n"
     ]
    },
    {
     "name": "stderr",
     "output_type": "stream",
     "text": [
      "100%|█████████████████████████████████████████████████████████████████████████████████████| 1/1 [00:00<00:00,  2.24it/s]"
     ]
    },
    {
     "name": "stdout",
     "output_type": "stream",
     "text": [
      "1 calculation combinations to check\n",
      "1 new records to prepare\n"
     ]
    },
    {
     "name": "stderr",
     "output_type": "stream",
     "text": [
      "\n",
      "preparing: 100%|##########################################################################| 1/1 [00:00<00:00, 33.80it/s]\n"
     ]
    },
    {
     "name": "stdout",
     "output_type": "stream",
     "text": [
      "40c99a36-bca0-4c01-81a6-298465780513\n",
      "sim calculated successfully\n",
      "\n",
      "1028.906 0.9682 1034.098\n",
      "0 existing calculation records provided\n"
     ]
    },
    {
     "name": "stderr",
     "output_type": "stream",
     "text": [
      "100%|█████████████████████████████████████████████████████████████████████████████████████| 1/1 [00:00<00:00,  2.43it/s]"
     ]
    },
    {
     "name": "stdout",
     "output_type": "stream",
     "text": [
      "1 calculation combinations to check\n",
      "1 new records to prepare\n"
     ]
    },
    {
     "name": "stderr",
     "output_type": "stream",
     "text": [
      "\n",
      "preparing: 100%|##########################################################################| 1/1 [00:00<00:00, 66.46it/s]\n"
     ]
    },
    {
     "name": "stdout",
     "output_type": "stream",
     "text": [
      "c762c3cd-c859-43d8-a8ac-71b58dfc83ba\n",
      "sim calculated successfully\n",
      "\n",
      "1238.672 0.2137 1160.068\n",
      "0 existing calculation records provided\n"
     ]
    },
    {
     "name": "stderr",
     "output_type": "stream",
     "text": [
      "100%|█████████████████████████████████████████████████████████████████████████████████████| 1/1 [00:00<00:00,  2.48it/s]"
     ]
    },
    {
     "name": "stdout",
     "output_type": "stream",
     "text": [
      "1 calculation combinations to check\n",
      "1 new records to prepare\n"
     ]
    },
    {
     "name": "stderr",
     "output_type": "stream",
     "text": [
      "\n",
      "preparing: 100%|##########################################################################| 1/1 [00:00<00:00, 35.85it/s]\n"
     ]
    },
    {
     "name": "stdout",
     "output_type": "stream",
     "text": [
      "6a458198-2940-4264-ae0f-da78b5c2cf52\n",
      "sim calculated successfully\n",
      "\n",
      "1133.789 0.5356 1140.256\n",
      "0 existing calculation records provided\n"
     ]
    },
    {
     "name": "stderr",
     "output_type": "stream",
     "text": [
      "100%|█████████████████████████████████████████████████████████████████████████████████████| 1/1 [00:00<00:00,  4.30it/s]"
     ]
    },
    {
     "name": "stdout",
     "output_type": "stream",
     "text": [
      "1 calculation combinations to check\n",
      "1 new records to prepare\n"
     ]
    },
    {
     "name": "stderr",
     "output_type": "stream",
     "text": [
      "\n",
      "preparing: 100%|##########################################################################| 1/1 [00:00<00:00, 66.82it/s]\n"
     ]
    },
    {
     "name": "stdout",
     "output_type": "stream",
     "text": [
      "ac082835-91fe-45c8-8abb-973086781bc9\n",
      "sim calculated successfully\n",
      "\n",
      "1133.789 0.5254 1130.520\n",
      "0 existing calculation records provided\n"
     ]
    },
    {
     "name": "stderr",
     "output_type": "stream",
     "text": [
      "100%|█████████████████████████████████████████████████████████████████████████████████████| 1/1 [00:00<00:00,  2.46it/s]"
     ]
    },
    {
     "name": "stdout",
     "output_type": "stream",
     "text": [
      "1 calculation combinations to check\n",
      "1 new records to prepare\n"
     ]
    },
    {
     "name": "stderr",
     "output_type": "stream",
     "text": [
      "\n",
      "preparing: 100%|##########################################################################| 1/1 [00:00<00:00, 31.99it/s]\n"
     ]
    },
    {
     "name": "stdout",
     "output_type": "stream",
     "text": [
      "d7464879-6724-4d39-9499-ec7c574fabef\n",
      "sim calculated successfully\n",
      "\n",
      "1133.789 0.5428 1134.404\n",
      "63 2004--Zhou-X-W--Cu-Ag-Au--LAMMPS--ipr2\n",
      "0 existing calculation records provided\n"
     ]
    },
    {
     "name": "stderr",
     "output_type": "stream",
     "text": [
      "100%|█████████████████████████████████████████████████████████████████████████████████████| 1/1 [00:00<00:00,  2.30it/s]"
     ]
    },
    {
     "name": "stdout",
     "output_type": "stream",
     "text": [
      "1 calculation combinations to check\n",
      "1 new records to prepare\n"
     ]
    },
    {
     "name": "stderr",
     "output_type": "stream",
     "text": [
      "\n",
      "preparing: 100%|##########################################################################| 1/1 [00:00<00:00, 38.99it/s]\n"
     ]
    },
    {
     "name": "stdout",
     "output_type": "stream",
     "text": [
      "a8a9890b-ebc3-4fa5-917a-9d1b0d5e7348\n",
      "sim calculated successfully\n",
      "\n",
      "4525.000 1.034e-05 4525.425\n",
      "0 existing calculation records provided\n"
     ]
    },
    {
     "name": "stderr",
     "output_type": "stream",
     "text": [
      "100%|█████████████████████████████████████████████████████████████████████████████████████| 1/1 [00:00<00:00,  1.94it/s]"
     ]
    },
    {
     "name": "stdout",
     "output_type": "stream",
     "text": [
      "1 calculation combinations to check\n",
      "1 new records to prepare\n"
     ]
    },
    {
     "name": "stderr",
     "output_type": "stream",
     "text": [
      "\n",
      "preparing: 100%|##########################################################################| 1/1 [00:00<00:00, 94.73it/s]\n"
     ]
    },
    {
     "name": "stdout",
     "output_type": "stream",
     "text": [
      "d071709f-6f85-49fb-b47d-90f1515b4cd5\n",
      "sim calculated successfully\n",
      "\n",
      "2287.500 0.0002379 2283.107\n",
      "0 existing calculation records provided\n"
     ]
    },
    {
     "name": "stderr",
     "output_type": "stream",
     "text": [
      "100%|█████████████████████████████████████████████████████████████████████████████████████| 1/1 [00:00<00:00,  4.13it/s]"
     ]
    },
    {
     "name": "stdout",
     "output_type": "stream",
     "text": [
      "1 calculation combinations to check\n",
      "1 new records to prepare\n"
     ]
    },
    {
     "name": "stderr",
     "output_type": "stream",
     "text": [
      "\n",
      "preparing: 100%|##########################################################################| 1/1 [00:00<00:00, 56.17it/s]\n"
     ]
    },
    {
     "name": "stdout",
     "output_type": "stream",
     "text": [
      "cd872094-b91c-48a7-a6c1-5ef4eaef3d5b\n",
      "sim calculated successfully\n",
      "\n",
      "1168.750 0.5228 1176.685\n",
      "0 existing calculation records provided\n"
     ]
    },
    {
     "name": "stderr",
     "output_type": "stream",
     "text": [
      "100%|█████████████████████████████████████████████████████████████████████████████████████| 1/1 [00:00<00:00,  2.21it/s]"
     ]
    },
    {
     "name": "stdout",
     "output_type": "stream",
     "text": [
      "1 calculation combinations to check\n",
      "1 new records to prepare\n"
     ]
    },
    {
     "name": "stderr",
     "output_type": "stream",
     "text": [
      "\n",
      "preparing: 100%|##########################################################################| 1/1 [00:00<00:00, 30.98it/s]\n"
     ]
    },
    {
     "name": "stdout",
     "output_type": "stream",
     "text": [
      "332a216b-b999-49b4-9b61-fac330c6ade4\n",
      "sim calculated successfully\n",
      "\n",
      "1168.750 0.4992 1186.428\n",
      "0 existing calculation records provided\n"
     ]
    },
    {
     "name": "stderr",
     "output_type": "stream",
     "text": [
      "100%|█████████████████████████████████████████████████████████████████████████████████████| 1/1 [00:00<00:00,  2.55it/s]"
     ]
    },
    {
     "name": "stdout",
     "output_type": "stream",
     "text": [
      "1 calculation combinations to check\n",
      "1 new records to prepare\n"
     ]
    },
    {
     "name": "stderr",
     "output_type": "stream",
     "text": [
      "\n",
      "preparing: 100%|##########################################################################| 1/1 [00:00<00:00, 51.66it/s]\n"
     ]
    },
    {
     "name": "stdout",
     "output_type": "stream",
     "text": [
      "5035da9d-bd3b-4782-b9ef-e1fbba2ffd19\n",
      "sim calculated successfully\n",
      "\n",
      "1168.750 0.4751 1171.071\n",
      "0 existing calculation records provided\n"
     ]
    },
    {
     "name": "stderr",
     "output_type": "stream",
     "text": [
      "100%|█████████████████████████████████████████████████████████████████████████████████████| 1/1 [00:00<00:00,  4.26it/s]"
     ]
    },
    {
     "name": "stdout",
     "output_type": "stream",
     "text": [
      "1 calculation combinations to check\n",
      "1 new records to prepare\n"
     ]
    },
    {
     "name": "stderr",
     "output_type": "stream",
     "text": [
      "\n",
      "preparing: 100%|##########################################################################| 1/1 [00:00<00:00, 44.36it/s]\n"
     ]
    },
    {
     "name": "stdout",
     "output_type": "stream",
     "text": [
      "ba64d5f8-8dd9-441c-a49a-d224051182ff\n",
      "sim calculated successfully\n",
      "\n",
      "1168.750 0.4349 1168.834\n",
      "0 existing calculation records provided\n"
     ]
    },
    {
     "name": "stderr",
     "output_type": "stream",
     "text": [
      "100%|█████████████████████████████████████████████████████████████████████████████████████| 1/1 [00:00<00:00,  2.31it/s]"
     ]
    },
    {
     "name": "stdout",
     "output_type": "stream",
     "text": [
      "1 calculation combinations to check\n",
      "1 new records to prepare\n"
     ]
    },
    {
     "name": "stderr",
     "output_type": "stream",
     "text": [
      "\n",
      "preparing: 100%|##########################################################################| 1/1 [00:00<00:00, 36.05it/s]\n"
     ]
    },
    {
     "name": "stdout",
     "output_type": "stream",
     "text": [
      "0a663182-556b-4482-b8e4-0e91735f4368\n",
      "sim calculated successfully\n",
      "\n",
      "1168.750 0.4665 1185.524\n",
      "0 existing calculation records provided\n"
     ]
    },
    {
     "name": "stderr",
     "output_type": "stream",
     "text": [
      "100%|█████████████████████████████████████████████████████████████████████████████████████| 1/1 [00:00<00:00,  2.39it/s]"
     ]
    },
    {
     "name": "stdout",
     "output_type": "stream",
     "text": [
      "1 calculation combinations to check\n",
      "1 new records to prepare\n"
     ]
    },
    {
     "name": "stderr",
     "output_type": "stream",
     "text": [
      "\n",
      "preparing: 100%|##########################################################################| 1/1 [00:00<00:00, 34.46it/s]\n"
     ]
    },
    {
     "name": "stdout",
     "output_type": "stream",
     "text": [
      "3dac1c06-ccdd-489c-b97f-12274da48b59\n",
      "sim calculated successfully\n",
      "\n",
      "1168.750 0.5204 1184.735\n",
      "0 existing calculation records provided\n"
     ]
    },
    {
     "name": "stderr",
     "output_type": "stream",
     "text": [
      "100%|█████████████████████████████████████████████████████████████████████████████████████| 1/1 [00:00<00:00,  4.32it/s]"
     ]
    },
    {
     "name": "stdout",
     "output_type": "stream",
     "text": [
      "1 calculation combinations to check\n",
      "1 new records to prepare\n"
     ]
    },
    {
     "name": "stderr",
     "output_type": "stream",
     "text": [
      "\n",
      "preparing: 100%|##########################################################################| 1/1 [00:00<00:00, 44.66it/s]\n"
     ]
    },
    {
     "name": "stdout",
     "output_type": "stream",
     "text": [
      "d4b1e511-39ef-4d17-8367-95e220d3dc2a\n",
      "sim calculated successfully\n",
      "\n",
      "1168.750 0.5011 1184.342\n",
      "0 existing calculation records provided\n"
     ]
    },
    {
     "name": "stderr",
     "output_type": "stream",
     "text": [
      "100%|█████████████████████████████████████████████████████████████████████████████████████| 1/1 [00:00<00:00,  2.25it/s]"
     ]
    },
    {
     "name": "stdout",
     "output_type": "stream",
     "text": [
      "1 calculation combinations to check\n",
      "1 new records to prepare\n"
     ]
    },
    {
     "name": "stderr",
     "output_type": "stream",
     "text": [
      "\n",
      "preparing: 100%|##########################################################################| 1/1 [00:00<00:00, 30.11it/s]\n"
     ]
    },
    {
     "name": "stdout",
     "output_type": "stream",
     "text": [
      "401bc093-8079-48d8-b758-40d6d0a2faf2\n",
      "sim calculated successfully\n",
      "\n",
      "1168.750 0.4682 1174.018\n",
      "0 existing calculation records provided\n"
     ]
    },
    {
     "name": "stderr",
     "output_type": "stream",
     "text": [
      "100%|█████████████████████████████████████████████████████████████████████████████████████| 1/1 [00:00<00:00,  2.43it/s]"
     ]
    },
    {
     "name": "stdout",
     "output_type": "stream",
     "text": [
      "1 calculation combinations to check\n",
      "1 new records to prepare\n"
     ]
    },
    {
     "name": "stderr",
     "output_type": "stream",
     "text": [
      "\n",
      "preparing: 100%|##########################################################################| 1/1 [00:00<00:00, 37.02it/s]\n"
     ]
    },
    {
     "name": "stdout",
     "output_type": "stream",
     "text": [
      "58426c99-2471-47f0-aee2-1604adfdd369\n",
      "sim calculated successfully\n",
      "\n",
      "1168.750 0.4699 1172.066\n",
      "0 existing calculation records provided\n"
     ]
    },
    {
     "name": "stderr",
     "output_type": "stream",
     "text": [
      "100%|█████████████████████████████████████████████████████████████████████████████████████| 1/1 [00:00<00:00,  4.31it/s]"
     ]
    },
    {
     "name": "stdout",
     "output_type": "stream",
     "text": [
      "1 calculation combinations to check\n",
      "1 new records to prepare\n"
     ]
    },
    {
     "name": "stderr",
     "output_type": "stream",
     "text": [
      "\n",
      "preparing: 100%|##########################################################################| 1/1 [00:00<00:00, 54.21it/s]\n"
     ]
    },
    {
     "name": "stdout",
     "output_type": "stream",
     "text": [
      "20bb858f-8dca-47ea-8e43-cddb17849c67\n",
      "sim calculated successfully\n",
      "\n",
      "1168.750 0.5339 1178.802\n",
      "64 2004--Zhou-X-W--Mo--LAMMPS--ipr1\n",
      "0 existing calculation records provided\n"
     ]
    },
    {
     "name": "stderr",
     "output_type": "stream",
     "text": [
      "100%|█████████████████████████████████████████████████████████████████████████████████████| 1/1 [00:00<00:00,  2.22it/s]"
     ]
    },
    {
     "name": "stdout",
     "output_type": "stream",
     "text": [
      "1 calculation combinations to check\n",
      "1 new records to prepare\n"
     ]
    },
    {
     "name": "stderr",
     "output_type": "stream",
     "text": [
      "\n",
      "preparing: 100%|##########################################################################| 1/1 [00:00<00:00, 33.85it/s]\n"
     ]
    },
    {
     "name": "stdout",
     "output_type": "stream",
     "text": [
      "453c4116-bebe-4ecf-a4e6-20d2bdf30222\n",
      "sim calculated successfully\n",
      "\n",
      "4525.000 0.001645 4328.184\n",
      "0 existing calculation records provided\n"
     ]
    },
    {
     "name": "stderr",
     "output_type": "stream",
     "text": [
      "100%|█████████████████████████████████████████████████████████████████████████████████████| 1/1 [00:00<00:00,  2.41it/s]"
     ]
    },
    {
     "name": "stdout",
     "output_type": "stream",
     "text": [
      "1 calculation combinations to check\n",
      "1 new records to prepare\n"
     ]
    },
    {
     "name": "stderr",
     "output_type": "stream",
     "text": [
      "\n",
      "preparing: 100%|##########################################################################| 1/1 [00:00<00:00, 40.11it/s]\n"
     ]
    },
    {
     "name": "stdout",
     "output_type": "stream",
     "text": [
      "cefac3e4-08b9-4eb0-8fb8-715f29dcdb09\n",
      "sim calculated successfully\n",
      "\n",
      "2287.500 0.9957 2287.128\n",
      "0 existing calculation records provided\n"
     ]
    },
    {
     "name": "stderr",
     "output_type": "stream",
     "text": [
      "100%|█████████████████████████████████████████████████████████████████████████████████████| 1/1 [00:00<00:00,  2.39it/s]"
     ]
    },
    {
     "name": "stdout",
     "output_type": "stream",
     "text": [
      "1 calculation combinations to check\n",
      "1 new records to prepare\n"
     ]
    },
    {
     "name": "stderr",
     "output_type": "stream",
     "text": [
      "\n",
      "preparing: 100%|##########################################################################| 1/1 [00:00<00:00, 34.19it/s]\n"
     ]
    },
    {
     "name": "stdout",
     "output_type": "stream",
     "text": [
      "704602bc-eeaa-4ff9-ad7a-f3d0a6027fa8\n",
      "sim calculated successfully\n",
      "\n",
      "3406.250 0.4706 3390.147\n",
      "0 existing calculation records provided\n"
     ]
    },
    {
     "name": "stderr",
     "output_type": "stream",
     "text": [
      "100%|█████████████████████████████████████████████████████████████████████████████████████| 1/1 [00:00<00:00,  2.37it/s]"
     ]
    },
    {
     "name": "stdout",
     "output_type": "stream",
     "text": [
      "1 calculation combinations to check\n",
      "1 new records to prepare\n"
     ]
    },
    {
     "name": "stderr",
     "output_type": "stream",
     "text": [
      "\n",
      "preparing: 100%|##########################################################################| 1/1 [00:00<00:00, 80.01it/s]\n"
     ]
    },
    {
     "name": "stdout",
     "output_type": "stream",
     "text": [
      "0751d349-ce35-40c5-b14f-b955ca787acd\n",
      "sim calculated successfully\n",
      "\n",
      "3406.250 0.5589 3418.105\n",
      "0 existing calculation records provided\n"
     ]
    },
    {
     "name": "stderr",
     "output_type": "stream",
     "text": [
      "100%|█████████████████████████████████████████████████████████████████████████████████████| 1/1 [00:00<00:00,  2.41it/s]"
     ]
    },
    {
     "name": "stdout",
     "output_type": "stream",
     "text": [
      "1 calculation combinations to check\n",
      "1 new records to prepare\n"
     ]
    },
    {
     "name": "stderr",
     "output_type": "stream",
     "text": [
      "\n",
      "preparing: 100%|##########################################################################| 1/1 [00:00<00:00, 30.75it/s]\n"
     ]
    },
    {
     "name": "stdout",
     "output_type": "stream",
     "text": [
      "39e05f96-f666-4ba6-bfb8-f4a2b2293424\n",
      "sim calculated successfully\n",
      "\n",
      "3406.250 0.1592 3655.770\n",
      "0 existing calculation records provided\n"
     ]
    },
    {
     "name": "stderr",
     "output_type": "stream",
     "text": [
      "100%|█████████████████████████████████████████████████████████████████████████████████████| 1/1 [00:00<00:00,  2.38it/s]"
     ]
    },
    {
     "name": "stdout",
     "output_type": "stream",
     "text": [
      "1 calculation combinations to check\n",
      "1 new records to prepare\n"
     ]
    },
    {
     "name": "stderr",
     "output_type": "stream",
     "text": [
      "\n",
      "preparing: 100%|##########################################################################| 1/1 [00:00<00:00, 34.29it/s]\n"
     ]
    },
    {
     "name": "stdout",
     "output_type": "stream",
     "text": [
      "fa7c8cfd-c3f4-4b49-8d77-a7444e77a442\n",
      "sim calculated successfully\n",
      "\n",
      "2846.875 0.9762 2849.038\n",
      "0 existing calculation records provided\n"
     ]
    },
    {
     "name": "stderr",
     "output_type": "stream",
     "text": [
      "100%|█████████████████████████████████████████████████████████████████████████████████████| 1/1 [00:00<00:00,  2.49it/s]"
     ]
    },
    {
     "name": "stdout",
     "output_type": "stream",
     "text": [
      "1 calculation combinations to check\n",
      "1 new records to prepare\n"
     ]
    },
    {
     "name": "stderr",
     "output_type": "stream",
     "text": [
      "\n",
      "preparing: 100%|##########################################################################| 1/1 [00:00<00:00, 37.96it/s]\n"
     ]
    },
    {
     "name": "stdout",
     "output_type": "stream",
     "text": [
      "7c29b4ab-5465-4869-9e48-e2ed01a5f7cf\n",
      "sim calculated successfully\n",
      "\n",
      "3126.562 0.8805 3408.870\n",
      "0 existing calculation records provided\n"
     ]
    },
    {
     "name": "stderr",
     "output_type": "stream",
     "text": [
      "100%|█████████████████████████████████████████████████████████████████████████████████████| 1/1 [00:00<00:00,  2.45it/s]"
     ]
    },
    {
     "name": "stdout",
     "output_type": "stream",
     "text": [
      "1 calculation combinations to check\n",
      "1 new records to prepare\n"
     ]
    },
    {
     "name": "stderr",
     "output_type": "stream",
     "text": [
      "\n",
      "preparing: 100%|##########################################################################| 1/1 [00:00<00:00, 76.82it/s]\n"
     ]
    },
    {
     "name": "stdout",
     "output_type": "stream",
     "text": [
      "1d4926c6-3172-47d8-bb63-2a49501163a4\n",
      "sim calculated successfully\n",
      "\n",
      "3266.406 0.6091 3415.946\n",
      "0 existing calculation records provided\n"
     ]
    },
    {
     "name": "stderr",
     "output_type": "stream",
     "text": [
      "100%|█████████████████████████████████████████████████████████████████████████████████████| 1/1 [00:00<00:00,  2.21it/s]"
     ]
    },
    {
     "name": "stdout",
     "output_type": "stream",
     "text": [
      "1 calculation combinations to check\n",
      "1 new records to prepare\n"
     ]
    },
    {
     "name": "stderr",
     "output_type": "stream",
     "text": [
      "\n",
      "preparing: 100%|##########################################################################| 1/1 [00:00<00:00, 33.00it/s]\n"
     ]
    },
    {
     "name": "stdout",
     "output_type": "stream",
     "text": [
      "40554750-6ced-44cf-8d5c-50bcdeafe502\n",
      "sim calculated successfully\n",
      "\n",
      "3336.328 0.5738 3417.626\n",
      "0 existing calculation records provided\n"
     ]
    },
    {
     "name": "stderr",
     "output_type": "stream",
     "text": [
      "100%|█████████████████████████████████████████████████████████████████████████████████████| 1/1 [00:00<00:00,  2.76it/s]"
     ]
    },
    {
     "name": "stdout",
     "output_type": "stream",
     "text": [
      "1 calculation combinations to check\n",
      "1 new records to prepare\n"
     ]
    },
    {
     "name": "stderr",
     "output_type": "stream",
     "text": [
      "\n",
      "preparing: 100%|##########################################################################| 1/1 [00:00<00:00, 77.05it/s]\n"
     ]
    },
    {
     "name": "stdout",
     "output_type": "stream",
     "text": [
      "c068aa15-b89b-40d2-8460-3a7034a73429\n",
      "sim calculated successfully\n",
      "\n",
      "3336.328 0.5924 3413.799\n",
      "0 existing calculation records provided\n"
     ]
    },
    {
     "name": "stderr",
     "output_type": "stream",
     "text": [
      "100%|█████████████████████████████████████████████████████████████████████████████████████| 1/1 [00:00<00:00,  2.27it/s]"
     ]
    },
    {
     "name": "stdout",
     "output_type": "stream",
     "text": [
      "1 calculation combinations to check\n",
      "1 new records to prepare\n"
     ]
    },
    {
     "name": "stderr",
     "output_type": "stream",
     "text": [
      "\n",
      "preparing: 100%|##########################################################################| 1/1 [00:00<00:00, 37.32it/s]\n"
     ]
    },
    {
     "name": "stdout",
     "output_type": "stream",
     "text": [
      "1b8f3530-22c9-42df-b6bb-2a1a4750f33a\n",
      "sim calculated successfully\n",
      "\n",
      "3336.328 0.5981 3426.872\n",
      "0 existing calculation records provided\n"
     ]
    },
    {
     "name": "stderr",
     "output_type": "stream",
     "text": [
      "100%|█████████████████████████████████████████████████████████████████████████████████████| 1/1 [00:00<00:00,  2.51it/s]"
     ]
    },
    {
     "name": "stdout",
     "output_type": "stream",
     "text": [
      "1 calculation combinations to check\n",
      "1 new records to prepare\n"
     ]
    },
    {
     "name": "stderr",
     "output_type": "stream",
     "text": [
      "\n",
      "preparing: 100%|##########################################################################| 1/1 [00:00<00:00, 72.12it/s]\n"
     ]
    },
    {
     "name": "stdout",
     "output_type": "stream",
     "text": [
      "7abcffea-3575-4702-a126-41ad9a7bcc12\n",
      "sim calculated successfully\n",
      "\n",
      "3336.328 0.6011 3422.245\n",
      "0 existing calculation records provided\n"
     ]
    },
    {
     "name": "stderr",
     "output_type": "stream",
     "text": [
      "100%|█████████████████████████████████████████████████████████████████████████████████████| 1/1 [00:00<00:00,  2.48it/s]"
     ]
    },
    {
     "name": "stdout",
     "output_type": "stream",
     "text": [
      "1 calculation combinations to check\n",
      "1 new records to prepare\n"
     ]
    },
    {
     "name": "stderr",
     "output_type": "stream",
     "text": [
      "\n",
      "preparing: 100%|##########################################################################| 1/1 [00:00<00:00, 37.23it/s]\n"
     ]
    },
    {
     "name": "stdout",
     "output_type": "stream",
     "text": [
      "fdd0438d-590d-4f87-b8b4-86d5994b89cd\n",
      "sim calculated successfully\n",
      "\n",
      "3371.289 0.532 3459.428\n",
      "0 existing calculation records provided\n"
     ]
    },
    {
     "name": "stderr",
     "output_type": "stream",
     "text": [
      "100%|█████████████████████████████████████████████████████████████████████████████████████| 1/1 [00:00<00:00,  2.53it/s]"
     ]
    },
    {
     "name": "stdout",
     "output_type": "stream",
     "text": [
      "1 calculation combinations to check\n",
      "1 new records to prepare\n"
     ]
    },
    {
     "name": "stderr",
     "output_type": "stream",
     "text": [
      "\n",
      "preparing: 100%|##########################################################################| 1/1 [00:00<00:00, 65.75it/s]\n"
     ]
    },
    {
     "name": "stdout",
     "output_type": "stream",
     "text": [
      "782b809e-afbc-4600-a8c2-3a706ef013ba\n",
      "sim calculated successfully\n",
      "\n",
      "3371.289 0.577 3434.845\n",
      "0 existing calculation records provided\n"
     ]
    },
    {
     "name": "stderr",
     "output_type": "stream",
     "text": [
      "100%|█████████████████████████████████████████████████████████████████████████████████████| 1/1 [00:00<00:00,  2.32it/s]"
     ]
    },
    {
     "name": "stdout",
     "output_type": "stream",
     "text": [
      "1 calculation combinations to check\n",
      "1 new records to prepare\n"
     ]
    },
    {
     "name": "stderr",
     "output_type": "stream",
     "text": [
      "\n",
      "preparing: 100%|##########################################################################| 1/1 [00:00<00:00, 36.21it/s]\n"
     ]
    },
    {
     "name": "stdout",
     "output_type": "stream",
     "text": [
      "f0cacc90-3d4b-4778-9680-575b44b3e669\n",
      "sim calculated successfully\n",
      "\n",
      "3371.289 0.5764 3450.862\n",
      "65 2004--Zhou-X-W--Ni--LAMMPS--ipr1\n",
      "0 existing calculation records provided\n"
     ]
    },
    {
     "name": "stderr",
     "output_type": "stream",
     "text": [
      "100%|█████████████████████████████████████████████████████████████████████████████████████| 1/1 [00:00<00:00,  2.61it/s]"
     ]
    },
    {
     "name": "stdout",
     "output_type": "stream",
     "text": [
      "1 calculation combinations to check\n",
      "1 new records to prepare\n"
     ]
    },
    {
     "name": "stderr",
     "output_type": "stream",
     "text": [
      "\n",
      "preparing: 100%|##########################################################################| 1/1 [00:00<00:00, 51.72it/s]\n"
     ]
    },
    {
     "name": "stdout",
     "output_type": "stream",
     "text": [
      "18ccf6f2-9c04-42d7-8c08-ca11e5b6775e\n",
      "sim calculated successfully\n",
      "\n",
      "4525.000 3.103e-05 4507.721\n",
      "0 existing calculation records provided\n"
     ]
    },
    {
     "name": "stderr",
     "output_type": "stream",
     "text": [
      "100%|█████████████████████████████████████████████████████████████████████████████████████| 1/1 [00:00<00:00,  2.21it/s]"
     ]
    },
    {
     "name": "stdout",
     "output_type": "stream",
     "text": [
      "1 calculation combinations to check\n",
      "1 new records to prepare\n"
     ]
    },
    {
     "name": "stderr",
     "output_type": "stream",
     "text": [
      "\n",
      "preparing: 100%|##########################################################################| 1/1 [00:00<00:00, 31.95it/s]\n"
     ]
    },
    {
     "name": "stdout",
     "output_type": "stream",
     "text": [
      "78c29633-3f98-426a-a202-b2d00577cc20\n",
      "sim calculated successfully\n",
      "\n",
      "2287.500 0.0007241 2264.011\n",
      "0 existing calculation records provided\n"
     ]
    },
    {
     "name": "stderr",
     "output_type": "stream",
     "text": [
      "100%|█████████████████████████████████████████████████████████████████████████████████████| 1/1 [00:00<00:00,  2.53it/s]"
     ]
    },
    {
     "name": "stdout",
     "output_type": "stream",
     "text": [
      "1 calculation combinations to check\n",
      "1 new records to prepare\n"
     ]
    },
    {
     "name": "stderr",
     "output_type": "stream",
     "text": [
      "\n",
      "preparing: 100%|##########################################################################| 1/1 [00:00<00:00, 66.13it/s]\n"
     ]
    },
    {
     "name": "stdout",
     "output_type": "stream",
     "text": [
      "71d11129-cefd-4263-8bae-ad06c1130881\n",
      "sim calculated successfully\n",
      "\n",
      "1168.750 0.994 1165.689\n",
      "0 existing calculation records provided\n"
     ]
    },
    {
     "name": "stderr",
     "output_type": "stream",
     "text": [
      "100%|█████████████████████████████████████████████████████████████████████████████████████| 1/1 [00:00<00:00,  2.49it/s]"
     ]
    },
    {
     "name": "stdout",
     "output_type": "stream",
     "text": [
      "1 calculation combinations to check\n",
      "1 new records to prepare\n"
     ]
    },
    {
     "name": "stderr",
     "output_type": "stream",
     "text": [
      "\n",
      "preparing: 100%|##########################################################################| 1/1 [00:00<00:00, 37.22it/s]\n"
     ]
    },
    {
     "name": "stdout",
     "output_type": "stream",
     "text": [
      "535e52b1-5fa0-4faf-a89e-b1a6f560258c\n",
      "sim calculated successfully\n",
      "\n",
      "1728.125 0.003559 1571.129\n",
      "0 existing calculation records provided\n"
     ]
    },
    {
     "name": "stderr",
     "output_type": "stream",
     "text": [
      "100%|█████████████████████████████████████████████████████████████████████████████████████| 1/1 [00:00<00:00,  2.45it/s]"
     ]
    },
    {
     "name": "stdout",
     "output_type": "stream",
     "text": [
      "1 calculation combinations to check\n",
      "1 new records to prepare\n"
     ]
    },
    {
     "name": "stderr",
     "output_type": "stream",
     "text": [
      "\n",
      "preparing: 100%|##########################################################################| 1/1 [00:00<00:00, 72.03it/s]\n"
     ]
    },
    {
     "name": "stdout",
     "output_type": "stream",
     "text": [
      "693ccb2d-3a08-43f2-8a27-4e96e2d4c640\n",
      "sim calculated successfully\n",
      "\n",
      "1448.438 0.5919 1515.479\n",
      "0 existing calculation records provided\n"
     ]
    },
    {
     "name": "stderr",
     "output_type": "stream",
     "text": [
      "100%|█████████████████████████████████████████████████████████████████████████████████████| 1/1 [00:00<00:00,  2.36it/s]"
     ]
    },
    {
     "name": "stdout",
     "output_type": "stream",
     "text": [
      "1 calculation combinations to check\n",
      "1 new records to prepare\n"
     ]
    },
    {
     "name": "stderr",
     "output_type": "stream",
     "text": [
      "\n",
      "preparing: 100%|##########################################################################| 1/1 [00:00<00:00, 35.68it/s]\n"
     ]
    },
    {
     "name": "stdout",
     "output_type": "stream",
     "text": [
      "030cc7f6-3180-41f6-86cd-b2887c9f6f80\n",
      "sim calculated successfully\n",
      "\n",
      "1448.438 0.5328 1488.847\n",
      "0 existing calculation records provided\n"
     ]
    },
    {
     "name": "stderr",
     "output_type": "stream",
     "text": [
      "100%|█████████████████████████████████████████████████████████████████████████████████████| 1/1 [00:00<00:00,  2.45it/s]"
     ]
    },
    {
     "name": "stdout",
     "output_type": "stream",
     "text": [
      "1 calculation combinations to check\n",
      "1 new records to prepare\n"
     ]
    },
    {
     "name": "stderr",
     "output_type": "stream",
     "text": [
      "\n",
      "preparing: 100%|##########################################################################| 1/1 [00:00<00:00, 70.72it/s]\n"
     ]
    },
    {
     "name": "stdout",
     "output_type": "stream",
     "text": [
      "500cf10c-7dd1-4a0d-a30a-e0ce742f5ad2\n",
      "sim calculated successfully\n",
      "\n",
      "1448.438 0.5392 1504.699\n",
      "0 existing calculation records provided\n"
     ]
    },
    {
     "name": "stderr",
     "output_type": "stream",
     "text": [
      "100%|█████████████████████████████████████████████████████████████████████████████████████| 1/1 [00:00<00:00,  3.57it/s]"
     ]
    },
    {
     "name": "stdout",
     "output_type": "stream",
     "text": [
      "1 calculation combinations to check\n",
      "1 new records to prepare\n"
     ]
    },
    {
     "name": "stderr",
     "output_type": "stream",
     "text": [
      "\n",
      "preparing: 100%|##########################################################################| 1/1 [00:00<00:00, 34.80it/s]\n"
     ]
    },
    {
     "name": "stdout",
     "output_type": "stream",
     "text": [
      "68bec7ef-10ad-4948-a243-f90785df80e3\n",
      "sim calculated successfully\n",
      "\n",
      "1448.438 0.5759 1502.586\n",
      "0 existing calculation records provided\n"
     ]
    },
    {
     "name": "stderr",
     "output_type": "stream",
     "text": [
      "100%|█████████████████████████████████████████████████████████████████████████████████████| 1/1 [00:00<00:00,  3.48it/s]"
     ]
    },
    {
     "name": "stdout",
     "output_type": "stream",
     "text": [
      "1 calculation combinations to check\n",
      "1 new records to prepare\n"
     ]
    },
    {
     "name": "stderr",
     "output_type": "stream",
     "text": [
      "\n",
      "preparing: 100%|##########################################################################| 1/1 [00:00<00:00, 34.57it/s]\n"
     ]
    },
    {
     "name": "stdout",
     "output_type": "stream",
     "text": [
      "16e2a613-fda1-457c-9661-bcc4bb8cf3f5\n",
      "sim calculated successfully\n",
      "\n",
      "1448.438 0.558 1513.119\n",
      "0 existing calculation records provided\n"
     ]
    },
    {
     "name": "stderr",
     "output_type": "stream",
     "text": [
      "100%|█████████████████████████████████████████████████████████████████████████████████████| 1/1 [00:00<00:00,  4.47it/s]"
     ]
    },
    {
     "name": "stdout",
     "output_type": "stream",
     "text": [
      "1 calculation combinations to check\n",
      "1 new records to prepare\n"
     ]
    },
    {
     "name": "stderr",
     "output_type": "stream",
     "text": [
      "\n",
      "preparing: 100%|##########################################################################| 1/1 [00:00<00:00, 71.72it/s]\n"
     ]
    },
    {
     "name": "stdout",
     "output_type": "stream",
     "text": [
      "66c11713-a66d-48a1-a716-79371df9c04e\n",
      "sim calculated successfully\n",
      "\n",
      "1448.438 0.538 1507.034\n",
      "0 existing calculation records provided\n"
     ]
    },
    {
     "name": "stderr",
     "output_type": "stream",
     "text": [
      "100%|█████████████████████████████████████████████████████████████████████████████████████| 1/1 [00:00<00:00,  3.52it/s]"
     ]
    },
    {
     "name": "stdout",
     "output_type": "stream",
     "text": [
      "1 calculation combinations to check\n",
      "1 new records to prepare\n"
     ]
    },
    {
     "name": "stderr",
     "output_type": "stream",
     "text": [
      "\n",
      "preparing: 100%|##########################################################################| 1/1 [00:00<00:00, 29.12it/s]\n"
     ]
    },
    {
     "name": "stdout",
     "output_type": "stream",
     "text": [
      "630bdd06-1298-4e86-a3e4-8013e1bc69f6\n",
      "sim calculated successfully\n",
      "\n",
      "1448.438 0.518 1513.782\n",
      "0 existing calculation records provided\n"
     ]
    },
    {
     "name": "stderr",
     "output_type": "stream",
     "text": [
      "100%|█████████████████████████████████████████████████████████████████████████████████████| 1/1 [00:00<00:00,  4.31it/s]"
     ]
    },
    {
     "name": "stdout",
     "output_type": "stream",
     "text": [
      "1 calculation combinations to check\n",
      "1 new records to prepare\n"
     ]
    },
    {
     "name": "stderr",
     "output_type": "stream",
     "text": [
      "\n",
      "preparing: 100%|##########################################################################| 1/1 [00:00<00:00, 69.05it/s]\n"
     ]
    },
    {
     "name": "stdout",
     "output_type": "stream",
     "text": [
      "30e7c471-6cb8-47aa-9f3a-60a70074c5ec\n",
      "sim calculated successfully\n",
      "\n",
      "1448.438 0.5551 1513.134\n",
      "0 existing calculation records provided\n"
     ]
    },
    {
     "name": "stderr",
     "output_type": "stream",
     "text": [
      "100%|█████████████████████████████████████████████████████████████████████████████████████| 1/1 [00:00<00:00,  3.30it/s]"
     ]
    },
    {
     "name": "stdout",
     "output_type": "stream",
     "text": [
      "1 calculation combinations to check\n",
      "1 new records to prepare\n"
     ]
    },
    {
     "name": "stderr",
     "output_type": "stream",
     "text": [
      "\n",
      "preparing: 100%|##########################################################################| 1/1 [00:00<00:00, 31.29it/s]\n"
     ]
    },
    {
     "name": "stdout",
     "output_type": "stream",
     "text": [
      "58d80a73-7f84-4e2d-ae5c-60a5a4c33850\n",
      "sim calculated successfully\n",
      "\n",
      "1448.438 0.5405 1509.790\n",
      "0 existing calculation records provided\n"
     ]
    },
    {
     "name": "stderr",
     "output_type": "stream",
     "text": [
      "100%|█████████████████████████████████████████████████████████████████████████████████████| 1/1 [00:00<00:00,  4.23it/s]"
     ]
    },
    {
     "name": "stdout",
     "output_type": "stream",
     "text": [
      "1 calculation combinations to check\n",
      "1 new records to prepare\n"
     ]
    },
    {
     "name": "stderr",
     "output_type": "stream",
     "text": [
      "\n",
      "preparing: 100%|##########################################################################| 1/1 [00:00<00:00, 73.89it/s]\n"
     ]
    },
    {
     "name": "stdout",
     "output_type": "stream",
     "text": [
      "1ac8832d-9325-4d25-87ea-38af1204e920\n",
      "sim calculated successfully\n",
      "\n",
      "1448.438 0.5769 1507.720\n",
      "66 2004--Zhou-X-W--Ni--LAMMPS--ipr2\n",
      "0 existing calculation records provided\n"
     ]
    },
    {
     "name": "stderr",
     "output_type": "stream",
     "text": [
      "100%|█████████████████████████████████████████████████████████████████████████████████████| 1/1 [00:00<00:00,  3.16it/s]"
     ]
    },
    {
     "name": "stdout",
     "output_type": "stream",
     "text": [
      "1 calculation combinations to check\n",
      "1 new records to prepare\n"
     ]
    },
    {
     "name": "stderr",
     "output_type": "stream",
     "text": [
      "\n",
      "preparing: 100%|##########################################################################| 1/1 [00:00<00:00, 36.31it/s]\n"
     ]
    },
    {
     "name": "stdout",
     "output_type": "stream",
     "text": [
      "dbf9ddd3-21b0-41d5-8d7a-fed582eed754\n",
      "sim calculated successfully\n",
      "\n",
      "4525.000 0.0 4502.766\n",
      "0 existing calculation records provided\n"
     ]
    },
    {
     "name": "stderr",
     "output_type": "stream",
     "text": [
      "100%|█████████████████████████████████████████████████████████████████████████████████████| 1/1 [00:00<00:00,  3.96it/s]"
     ]
    },
    {
     "name": "stdout",
     "output_type": "stream",
     "text": [
      "1 calculation combinations to check\n",
      "1 new records to prepare\n"
     ]
    },
    {
     "name": "stderr",
     "output_type": "stream",
     "text": [
      "\n",
      "preparing: 100%|##########################################################################| 1/1 [00:00<00:00, 71.85it/s]\n"
     ]
    },
    {
     "name": "stdout",
     "output_type": "stream",
     "text": [
      "0d3c091c-b124-4ddc-bb9a-f6962576406d\n",
      "sim calculated successfully\n",
      "\n",
      "2287.500 0.0007241 2282.331\n",
      "0 existing calculation records provided\n"
     ]
    },
    {
     "name": "stderr",
     "output_type": "stream",
     "text": [
      "100%|█████████████████████████████████████████████████████████████████████████████████████| 1/1 [00:00<00:00,  3.36it/s]"
     ]
    },
    {
     "name": "stdout",
     "output_type": "stream",
     "text": [
      "1 calculation combinations to check\n",
      "1 new records to prepare\n"
     ]
    },
    {
     "name": "stderr",
     "output_type": "stream",
     "text": [
      "\n",
      "preparing: 100%|##########################################################################| 1/1 [00:00<00:00, 37.34it/s]\n"
     ]
    },
    {
     "name": "stdout",
     "output_type": "stream",
     "text": [
      "49da0467-60ff-439e-8530-ae90fa732c92\n",
      "sim calculated successfully\n",
      "\n",
      "1168.750 0.9935 1166.672\n",
      "0 existing calculation records provided\n"
     ]
    },
    {
     "name": "stderr",
     "output_type": "stream",
     "text": [
      "100%|█████████████████████████████████████████████████████████████████████████████████████| 1/1 [00:00<00:00,  4.29it/s]"
     ]
    },
    {
     "name": "stdout",
     "output_type": "stream",
     "text": [
      "1 calculation combinations to check\n",
      "1 new records to prepare\n"
     ]
    },
    {
     "name": "stderr",
     "output_type": "stream",
     "text": [
      "\n",
      "preparing: 100%|##########################################################################| 1/1 [00:00<00:00, 66.03it/s]\n"
     ]
    },
    {
     "name": "stdout",
     "output_type": "stream",
     "text": [
      "101167d8-1591-40ea-a6f4-6ac9c77e1462\n",
      "sim calculated successfully\n",
      "\n",
      "1728.125 0.003745 1571.075\n",
      "0 existing calculation records provided\n"
     ]
    },
    {
     "name": "stderr",
     "output_type": "stream",
     "text": [
      "100%|█████████████████████████████████████████████████████████████████████████████████████| 1/1 [00:00<00:00,  3.29it/s]"
     ]
    },
    {
     "name": "stdout",
     "output_type": "stream",
     "text": [
      "1 calculation combinations to check\n",
      "1 new records to prepare\n"
     ]
    },
    {
     "name": "stderr",
     "output_type": "stream",
     "text": [
      "\n",
      "preparing: 100%|##########################################################################| 1/1 [00:00<00:00, 39.45it/s]\n"
     ]
    },
    {
     "name": "stdout",
     "output_type": "stream",
     "text": [
      "d4a5783c-b25e-4c9f-b595-19afe6f591fb\n",
      "sim calculated successfully\n",
      "\n",
      "1448.438 0.559 1507.320\n",
      "0 existing calculation records provided\n"
     ]
    },
    {
     "name": "stderr",
     "output_type": "stream",
     "text": [
      "100%|█████████████████████████████████████████████████████████████████████████████████████| 1/1 [00:00<00:00,  4.29it/s]"
     ]
    },
    {
     "name": "stdout",
     "output_type": "stream",
     "text": [
      "1 calculation combinations to check\n",
      "1 new records to prepare\n"
     ]
    },
    {
     "name": "stderr",
     "output_type": "stream",
     "text": [
      "\n",
      "preparing: 100%|##########################################################################| 1/1 [00:00<00:00, 77.03it/s]\n"
     ]
    },
    {
     "name": "stdout",
     "output_type": "stream",
     "text": [
      "3cadfa08-8e0b-4907-877d-33e362fda9d0\n",
      "sim calculated successfully\n",
      "\n",
      "1448.438 0.5716 1500.990\n",
      "0 existing calculation records provided\n"
     ]
    },
    {
     "name": "stderr",
     "output_type": "stream",
     "text": [
      "100%|█████████████████████████████████████████████████████████████████████████████████████| 1/1 [00:00<00:00,  3.40it/s]"
     ]
    },
    {
     "name": "stdout",
     "output_type": "stream",
     "text": [
      "1 calculation combinations to check\n",
      "1 new records to prepare\n"
     ]
    },
    {
     "name": "stderr",
     "output_type": "stream",
     "text": [
      "\n",
      "preparing: 100%|##########################################################################| 1/1 [00:00<00:00, 37.07it/s]\n"
     ]
    },
    {
     "name": "stdout",
     "output_type": "stream",
     "text": [
      "99fc9cef-518a-4d8e-918a-a99820bf1eef\n",
      "sim calculated successfully\n",
      "\n",
      "1448.438 0.5567 1510.004\n",
      "0 existing calculation records provided\n"
     ]
    },
    {
     "name": "stderr",
     "output_type": "stream",
     "text": [
      "100%|█████████████████████████████████████████████████████████████████████████████████████| 1/1 [00:00<00:00,  4.26it/s]"
     ]
    },
    {
     "name": "stdout",
     "output_type": "stream",
     "text": [
      "1 calculation combinations to check\n",
      "1 new records to prepare\n"
     ]
    },
    {
     "name": "stderr",
     "output_type": "stream",
     "text": [
      "\n",
      "preparing: 100%|##########################################################################| 1/1 [00:00<00:00, 51.83it/s]\n"
     ]
    },
    {
     "name": "stdout",
     "output_type": "stream",
     "text": [
      "21f70ffe-7f7b-4902-92e7-38ff05e47783\n",
      "sim calculated successfully\n",
      "\n",
      "1448.438 0.5395 1514.023\n",
      "0 existing calculation records provided\n"
     ]
    },
    {
     "name": "stderr",
     "output_type": "stream",
     "text": [
      "100%|█████████████████████████████████████████████████████████████████████████████████████| 1/1 [00:00<00:00,  3.39it/s]"
     ]
    },
    {
     "name": "stdout",
     "output_type": "stream",
     "text": [
      "1 calculation combinations to check\n",
      "1 new records to prepare\n"
     ]
    },
    {
     "name": "stderr",
     "output_type": "stream",
     "text": [
      "\n",
      "preparing: 100%|##########################################################################| 1/1 [00:00<00:00, 37.79it/s]\n"
     ]
    },
    {
     "name": "stdout",
     "output_type": "stream",
     "text": [
      "ea652ef5-d8cf-490f-b944-47cbac7ca4da\n",
      "sim calculated successfully\n",
      "\n",
      "1448.438 0.5931 1498.983\n",
      "0 existing calculation records provided\n"
     ]
    },
    {
     "name": "stderr",
     "output_type": "stream",
     "text": [
      "100%|█████████████████████████████████████████████████████████████████████████████████████| 1/1 [00:00<00:00,  4.23it/s]"
     ]
    },
    {
     "name": "stdout",
     "output_type": "stream",
     "text": [
      "1 calculation combinations to check\n",
      "1 new records to prepare\n"
     ]
    },
    {
     "name": "stderr",
     "output_type": "stream",
     "text": [
      "\n",
      "preparing: 100%|##########################################################################| 1/1 [00:00<00:00, 52.00it/s]\n"
     ]
    },
    {
     "name": "stdout",
     "output_type": "stream",
     "text": [
      "ae5c1a0a-ed7c-412a-a9e0-aba4a745f6d8\n",
      "sim calculated successfully\n",
      "\n",
      "1448.438 0.5596 1508.494\n",
      "0 existing calculation records provided\n"
     ]
    },
    {
     "name": "stderr",
     "output_type": "stream",
     "text": [
      "100%|█████████████████████████████████████████████████████████████████████████████████████| 1/1 [00:00<00:00,  3.49it/s]"
     ]
    },
    {
     "name": "stdout",
     "output_type": "stream",
     "text": [
      "1 calculation combinations to check\n",
      "1 new records to prepare\n"
     ]
    },
    {
     "name": "stderr",
     "output_type": "stream",
     "text": [
      "\n",
      "preparing: 100%|##########################################################################| 1/1 [00:00<00:00, 38.21it/s]\n"
     ]
    },
    {
     "name": "stdout",
     "output_type": "stream",
     "text": [
      "791ca898-525b-4482-84f9-f9eaf94fdee9\n",
      "sim calculated successfully\n",
      "\n",
      "1448.438 0.5777 1502.957\n",
      "0 existing calculation records provided\n"
     ]
    },
    {
     "name": "stderr",
     "output_type": "stream",
     "text": [
      "100%|█████████████████████████████████████████████████████████████████████████████████████| 1/1 [00:00<00:00,  3.72it/s]"
     ]
    },
    {
     "name": "stdout",
     "output_type": "stream",
     "text": [
      "1 calculation combinations to check\n",
      "1 new records to prepare\n"
     ]
    },
    {
     "name": "stderr",
     "output_type": "stream",
     "text": [
      "\n",
      "preparing: 100%|##########################################################################| 1/1 [00:00<00:00, 68.58it/s]\n"
     ]
    },
    {
     "name": "stdout",
     "output_type": "stream",
     "text": [
      "56c0869b-3ebb-4db0-ac3a-c2093da812ac\n",
      "sim calculated successfully\n",
      "\n",
      "1448.438 0.5529 1504.216\n",
      "0 existing calculation records provided\n"
     ]
    },
    {
     "name": "stderr",
     "output_type": "stream",
     "text": [
      "100%|█████████████████████████████████████████████████████████████████████████████████████| 1/1 [00:00<00:00,  3.40it/s]"
     ]
    },
    {
     "name": "stdout",
     "output_type": "stream",
     "text": [
      "1 calculation combinations to check\n",
      "1 new records to prepare\n"
     ]
    },
    {
     "name": "stderr",
     "output_type": "stream",
     "text": [
      "\n",
      "preparing: 100%|##########################################################################| 1/1 [00:00<00:00, 29.74it/s]\n"
     ]
    },
    {
     "name": "stdout",
     "output_type": "stream",
     "text": [
      "9049b98e-b2cf-41e9-94b4-bccb2c40a9df\n",
      "sim calculated successfully\n",
      "\n",
      "1448.438 0.5975 1500.015\n",
      "0 existing calculation records provided\n"
     ]
    },
    {
     "name": "stderr",
     "output_type": "stream",
     "text": [
      "100%|█████████████████████████████████████████████████████████████████████████████████████| 1/1 [00:00<00:00,  3.16it/s]"
     ]
    },
    {
     "name": "stdout",
     "output_type": "stream",
     "text": [
      "1 calculation combinations to check\n",
      "1 new records to prepare\n"
     ]
    },
    {
     "name": "stderr",
     "output_type": "stream",
     "text": [
      "\n",
      "preparing: 100%|##########################################################################| 1/1 [00:00<00:00, 71.20it/s]\n"
     ]
    },
    {
     "name": "stdout",
     "output_type": "stream",
     "text": [
      "19c1b88d-737d-410a-ba0d-167e0139b684\n",
      "sim calculated successfully\n",
      "\n",
      "1448.438 0.558 1511.485\n",
      "67 2004--Zhou-X-W--Pb--LAMMPS--ipr1\n",
      "0 existing calculation records provided\n"
     ]
    },
    {
     "name": "stderr",
     "output_type": "stream",
     "text": [
      "100%|█████████████████████████████████████████████████████████████████████████████████████| 1/1 [00:00<00:00,  3.43it/s]"
     ]
    },
    {
     "name": "stdout",
     "output_type": "stream",
     "text": [
      "1 calculation combinations to check\n",
      "1 new records to prepare\n"
     ]
    },
    {
     "name": "stderr",
     "output_type": "stream",
     "text": [
      "\n",
      "preparing: 100%|##########################################################################| 1/1 [00:00<00:00, 38.27it/s]\n"
     ]
    },
    {
     "name": "stdout",
     "output_type": "stream",
     "text": [
      "32048337-d970-4640-8d08-f8522e4e1cee\n",
      "sim calculated successfully\n",
      "\n",
      "4525.000 0.1953 2018.816\n",
      "0 existing calculation records provided\n"
     ]
    },
    {
     "name": "stderr",
     "output_type": "stream",
     "text": [
      "100%|█████████████████████████████████████████████████████████████████████████████████████| 1/1 [00:00<00:00,  4.02it/s]"
     ]
    },
    {
     "name": "stdout",
     "output_type": "stream",
     "text": [
      "1 calculation combinations to check\n",
      "1 new records to prepare\n"
     ]
    },
    {
     "name": "stderr",
     "output_type": "stream",
     "text": [
      "\n",
      "preparing: 100%|##########################################################################| 1/1 [00:00<00:00, 43.71it/s]\n"
     ]
    },
    {
     "name": "stdout",
     "output_type": "stream",
     "text": [
      "c103b573-30f1-4c9d-af63-00402c17ef88\n",
      "sim calculated successfully\n",
      "\n",
      "2287.500 0.0 2364.648\n",
      "0 existing calculation records provided\n"
     ]
    },
    {
     "name": "stderr",
     "output_type": "stream",
     "text": [
      "100%|█████████████████████████████████████████████████████████████████████████████████████| 1/1 [00:00<00:00,  3.46it/s]"
     ]
    },
    {
     "name": "stdout",
     "output_type": "stream",
     "text": [
      "1 calculation combinations to check\n",
      "1 new records to prepare\n"
     ]
    },
    {
     "name": "stderr",
     "output_type": "stream",
     "text": [
      "\n",
      "preparing: 100%|##########################################################################| 1/1 [00:00<00:00, 38.62it/s]\n"
     ]
    },
    {
     "name": "stdout",
     "output_type": "stream",
     "text": [
      "8267c12c-8c10-4ee3-b10a-9f2ccca0904b\n",
      "sim calculated successfully\n",
      "\n",
      "1168.750 0.0002276 1149.165\n",
      "0 existing calculation records provided\n"
     ]
    },
    {
     "name": "stderr",
     "output_type": "stream",
     "text": [
      "100%|█████████████████████████████████████████████████████████████████████████████████████| 1/1 [00:00<00:00,  4.13it/s]"
     ]
    },
    {
     "name": "stdout",
     "output_type": "stream",
     "text": [
      "1 calculation combinations to check\n",
      "1 new records to prepare\n"
     ]
    },
    {
     "name": "stderr",
     "output_type": "stream",
     "text": [
      "\n",
      "preparing: 100%|##########################################################################| 1/1 [00:00<00:00, 79.68it/s]\n"
     ]
    },
    {
     "name": "stdout",
     "output_type": "stream",
     "text": [
      "0c532eb9-5514-4a09-9182-6de793e8875c\n",
      "sim calculated successfully\n",
      "\n",
      "609.375 0.5767 614.153\n",
      "0 existing calculation records provided\n"
     ]
    },
    {
     "name": "stderr",
     "output_type": "stream",
     "text": [
      "100%|█████████████████████████████████████████████████████████████████████████████████████| 1/1 [00:00<00:00,  3.47it/s]"
     ]
    },
    {
     "name": "stdout",
     "output_type": "stream",
     "text": [
      "1 calculation combinations to check\n",
      "1 new records to prepare\n"
     ]
    },
    {
     "name": "stderr",
     "output_type": "stream",
     "text": [
      "\n",
      "preparing: 100%|##########################################################################| 1/1 [00:00<00:00, 39.73it/s]\n"
     ]
    },
    {
     "name": "stdout",
     "output_type": "stream",
     "text": [
      "5bfef990-9690-4532-b678-8728d3e8f25a\n",
      "sim calculated successfully\n",
      "\n",
      "609.375 0.627 614.812\n",
      "0 existing calculation records provided\n"
     ]
    },
    {
     "name": "stderr",
     "output_type": "stream",
     "text": [
      "100%|█████████████████████████████████████████████████████████████████████████████████████| 1/1 [00:00<00:00,  4.14it/s]"
     ]
    },
    {
     "name": "stdout",
     "output_type": "stream",
     "text": [
      "1 calculation combinations to check\n",
      "1 new records to prepare\n"
     ]
    },
    {
     "name": "stderr",
     "output_type": "stream",
     "text": [
      "\n",
      "preparing: 100%|##########################################################################| 1/1 [00:00<00:00, 44.82it/s]\n"
     ]
    },
    {
     "name": "stdout",
     "output_type": "stream",
     "text": [
      "3bea28e7-d2ef-4511-99bd-7097d4bf82b9\n",
      "sim calculated successfully\n",
      "\n",
      "889.062 0.00149 844.334\n",
      "0 existing calculation records provided\n"
     ]
    },
    {
     "name": "stderr",
     "output_type": "stream",
     "text": [
      "100%|█████████████████████████████████████████████████████████████████████████████████████| 1/1 [00:00<00:00,  3.26it/s]"
     ]
    },
    {
     "name": "stdout",
     "output_type": "stream",
     "text": [
      "1 calculation combinations to check\n",
      "1 new records to prepare\n"
     ]
    },
    {
     "name": "stderr",
     "output_type": "stream",
     "text": [
      "\n",
      "preparing: 100%|##########################################################################| 1/1 [00:00<00:00, 34.78it/s]\n"
     ]
    },
    {
     "name": "stdout",
     "output_type": "stream",
     "text": [
      "bc4770d1-74da-4024-abe2-3e6f047859fe\n",
      "sim calculated successfully\n",
      "\n",
      "469.531 0.9904 469.903\n",
      "0 existing calculation records provided\n"
     ]
    },
    {
     "name": "stderr",
     "output_type": "stream",
     "text": [
      "100%|█████████████████████████████████████████████████████████████████████████████████████| 1/1 [00:00<00:00,  4.16it/s]"
     ]
    },
    {
     "name": "stdout",
     "output_type": "stream",
     "text": [
      "1 calculation combinations to check\n",
      "1 new records to prepare\n"
     ]
    },
    {
     "name": "stderr",
     "output_type": "stream",
     "text": [
      "\n",
      "preparing: 100%|##########################################################################| 1/1 [00:00<00:00, 54.12it/s]\n"
     ]
    },
    {
     "name": "stdout",
     "output_type": "stream",
     "text": [
      "da5144cc-334d-49e4-94e4-c16aa1cbf711\n",
      "sim calculated successfully\n",
      "\n",
      "679.297 0.2273 643.507\n",
      "0 existing calculation records provided\n"
     ]
    },
    {
     "name": "stderr",
     "output_type": "stream",
     "text": [
      "100%|█████████████████████████████████████████████████████████████████████████████████████| 1/1 [00:00<00:00,  3.42it/s]"
     ]
    },
    {
     "name": "stdout",
     "output_type": "stream",
     "text": [
      "1 calculation combinations to check\n",
      "1 new records to prepare\n"
     ]
    },
    {
     "name": "stderr",
     "output_type": "stream",
     "text": [
      "\n",
      "preparing: 100%|##########################################################################| 1/1 [00:00<00:00, 36.24it/s]\n"
     ]
    },
    {
     "name": "stdout",
     "output_type": "stream",
     "text": [
      "f19244db-58e2-4eef-98f9-29d5b40407cc\n",
      "sim calculated successfully\n",
      "\n",
      "574.414 0.9443 576.931\n",
      "0 existing calculation records provided\n"
     ]
    },
    {
     "name": "stderr",
     "output_type": "stream",
     "text": [
      "100%|█████████████████████████████████████████████████████████████████████████████████████| 1/1 [00:00<00:00,  4.55it/s]"
     ]
    },
    {
     "name": "stdout",
     "output_type": "stream",
     "text": [
      "1 calculation combinations to check\n",
      "1 new records to prepare\n"
     ]
    },
    {
     "name": "stderr",
     "output_type": "stream",
     "text": [
      "\n",
      "preparing: 100%|##########################################################################| 1/1 [00:00<00:00, 55.84it/s]\n"
     ]
    },
    {
     "name": "stdout",
     "output_type": "stream",
     "text": [
      "393c02b0-5a30-4f97-8b96-943b7673b3cc\n",
      "sim calculated successfully\n",
      "\n",
      "626.855 0.4724 622.759\n",
      "0 existing calculation records provided\n"
     ]
    },
    {
     "name": "stderr",
     "output_type": "stream",
     "text": [
      "100%|█████████████████████████████████████████████████████████████████████████████████████| 1/1 [00:00<00:00,  3.89it/s]"
     ]
    },
    {
     "name": "stdout",
     "output_type": "stream",
     "text": [
      "1 calculation combinations to check\n",
      "1 new records to prepare\n"
     ]
    },
    {
     "name": "stderr",
     "output_type": "stream",
     "text": [
      "\n",
      "preparing: 100%|##########################################################################| 1/1 [00:00<00:00, 40.23it/s]\n"
     ]
    },
    {
     "name": "stdout",
     "output_type": "stream",
     "text": [
      "ca3d607a-d561-4a9f-a65e-8b0e28714728\n",
      "sim calculated successfully\n",
      "\n",
      "626.855 0.4787 623.369\n",
      "0 existing calculation records provided\n"
     ]
    },
    {
     "name": "stderr",
     "output_type": "stream",
     "text": [
      "100%|█████████████████████████████████████████████████████████████████████████████████████| 1/1 [00:00<00:00,  4.54it/s]"
     ]
    },
    {
     "name": "stdout",
     "output_type": "stream",
     "text": [
      "1 calculation combinations to check\n",
      "1 new records to prepare\n"
     ]
    },
    {
     "name": "stderr",
     "output_type": "stream",
     "text": [
      "\n",
      "preparing: 100%|##########################################################################| 1/1 [00:00<00:00, 56.23it/s]\n"
     ]
    },
    {
     "name": "stdout",
     "output_type": "stream",
     "text": [
      "78581a06-4444-45e4-a9ab-74871993f090\n",
      "sim calculated successfully\n",
      "\n",
      "626.855 0.5139 627.149\n",
      "0 existing calculation records provided\n"
     ]
    },
    {
     "name": "stderr",
     "output_type": "stream",
     "text": [
      "100%|█████████████████████████████████████████████████████████████████████████████████████| 1/1 [00:00<00:00,  4.35it/s]"
     ]
    },
    {
     "name": "stdout",
     "output_type": "stream",
     "text": [
      "1 calculation combinations to check\n",
      "1 new records to prepare\n"
     ]
    },
    {
     "name": "stderr",
     "output_type": "stream",
     "text": [
      "\n",
      "preparing: 100%|##########################################################################| 1/1 [00:00<00:00, 46.22it/s]\n"
     ]
    },
    {
     "name": "stdout",
     "output_type": "stream",
     "text": [
      "ba3e3027-d69a-41a3-886e-d0bc6816f604\n",
      "sim calculated successfully\n",
      "\n",
      "626.855 0.4974 623.939\n",
      "0 existing calculation records provided\n"
     ]
    },
    {
     "name": "stderr",
     "output_type": "stream",
     "text": [
      "100%|█████████████████████████████████████████████████████████████████████████████████████| 1/1 [00:00<00:00,  4.27it/s]"
     ]
    },
    {
     "name": "stdout",
     "output_type": "stream",
     "text": [
      "1 calculation combinations to check\n",
      "1 new records to prepare\n"
     ]
    },
    {
     "name": "stderr",
     "output_type": "stream",
     "text": [
      "\n",
      "preparing: 100%|##########################################################################| 1/1 [00:00<00:00, 44.42it/s]\n"
     ]
    },
    {
     "name": "stdout",
     "output_type": "stream",
     "text": [
      "2090e4c8-7207-4232-9ab2-3c25bea6d81a\n",
      "sim calculated successfully\n",
      "\n",
      "626.855 0.4851 624.100\n",
      "0 existing calculation records provided\n"
     ]
    },
    {
     "name": "stderr",
     "output_type": "stream",
     "text": [
      "100%|█████████████████████████████████████████████████████████████████████████████████████| 1/1 [00:00<00:00,  4.34it/s]"
     ]
    },
    {
     "name": "stdout",
     "output_type": "stream",
     "text": [
      "1 calculation combinations to check\n",
      "1 new records to prepare\n"
     ]
    },
    {
     "name": "stderr",
     "output_type": "stream",
     "text": [
      "\n",
      "preparing: 100%|##########################################################################| 1/1 [00:00<00:00, 35.47it/s]\n"
     ]
    },
    {
     "name": "stdout",
     "output_type": "stream",
     "text": [
      "97ede96f-afec-4095-815e-49f52c8a70f3\n",
      "sim calculated successfully\n",
      "\n",
      "626.855 0.5131 630.407\n",
      "0 existing calculation records provided\n"
     ]
    },
    {
     "name": "stderr",
     "output_type": "stream",
     "text": [
      "100%|█████████████████████████████████████████████████████████████████████████████████████| 1/1 [00:00<00:00,  4.36it/s]"
     ]
    },
    {
     "name": "stdout",
     "output_type": "stream",
     "text": [
      "1 calculation combinations to check\n",
      "1 new records to prepare\n"
     ]
    },
    {
     "name": "stderr",
     "output_type": "stream",
     "text": [
      "\n",
      "preparing: 100%|##########################################################################| 1/1 [00:00<00:00, 45.57it/s]\n"
     ]
    },
    {
     "name": "stdout",
     "output_type": "stream",
     "text": [
      "b16486a5-72c3-470c-bee0-c63b9c8525bb\n",
      "sim calculated successfully\n",
      "\n",
      "626.855 0.4934 627.507\n",
      "0 existing calculation records provided\n"
     ]
    },
    {
     "name": "stderr",
     "output_type": "stream",
     "text": [
      "100%|█████████████████████████████████████████████████████████████████████████████████████| 1/1 [00:00<00:00,  4.20it/s]"
     ]
    },
    {
     "name": "stdout",
     "output_type": "stream",
     "text": [
      "1 calculation combinations to check\n",
      "1 new records to prepare\n"
     ]
    },
    {
     "name": "stderr",
     "output_type": "stream",
     "text": [
      "\n",
      "preparing: 100%|##########################################################################| 1/1 [00:00<00:00, 82.81it/s]\n"
     ]
    },
    {
     "name": "stdout",
     "output_type": "stream",
     "text": [
      "dc92ff75-e6cb-4271-9c78-f6fa204b62bf\n",
      "sim calculated successfully\n",
      "\n",
      "626.855 0.5148 628.983\n",
      "68 2004--Zhou-X-W--Pb--LAMMPS--ipr2\n",
      "0 existing calculation records provided\n"
     ]
    },
    {
     "name": "stderr",
     "output_type": "stream",
     "text": [
      "100%|█████████████████████████████████████████████████████████████████████████████████████| 1/1 [00:00<00:00,  4.30it/s]"
     ]
    },
    {
     "name": "stdout",
     "output_type": "stream",
     "text": [
      "1 calculation combinations to check\n",
      "1 new records to prepare\n"
     ]
    },
    {
     "name": "stderr",
     "output_type": "stream",
     "text": [
      "\n",
      "preparing: 100%|##########################################################################| 1/1 [00:00<00:00, 38.02it/s]\n"
     ]
    },
    {
     "name": "stdout",
     "output_type": "stream",
     "text": [
      "b2fc3f46-523b-4a88-af57-d33cfcb60bdf\n",
      "sim calculated successfully\n",
      "\n",
      "4525.000 0.1987 1986.974\n",
      "0 existing calculation records provided\n"
     ]
    },
    {
     "name": "stderr",
     "output_type": "stream",
     "text": [
      "100%|█████████████████████████████████████████████████████████████████████████████████████| 1/1 [00:00<00:00,  4.25it/s]"
     ]
    },
    {
     "name": "stdout",
     "output_type": "stream",
     "text": [
      "1 calculation combinations to check\n",
      "1 new records to prepare\n"
     ]
    },
    {
     "name": "stderr",
     "output_type": "stream",
     "text": [
      "\n",
      "preparing: 100%|##########################################################################| 1/1 [00:00<00:00, 44.58it/s]\n"
     ]
    },
    {
     "name": "stdout",
     "output_type": "stream",
     "text": [
      "a1301c9c-5f64-451f-8131-670a43fe8445\n",
      "sim calculated successfully\n",
      "\n",
      "2287.500 0.0 2370.777\n",
      "0 existing calculation records provided\n"
     ]
    },
    {
     "name": "stderr",
     "output_type": "stream",
     "text": [
      "100%|█████████████████████████████████████████████████████████████████████████████████████| 1/1 [00:00<00:00,  4.33it/s]"
     ]
    },
    {
     "name": "stdout",
     "output_type": "stream",
     "text": [
      "1 calculation combinations to check\n",
      "1 new records to prepare\n"
     ]
    },
    {
     "name": "stderr",
     "output_type": "stream",
     "text": [
      "\n",
      "preparing: 100%|##########################################################################| 1/1 [00:00<00:00, 41.21it/s]\n"
     ]
    },
    {
     "name": "stdout",
     "output_type": "stream",
     "text": [
      "f9742313-36ca-4342-b467-0707505413ed\n",
      "sim calculated successfully\n",
      "\n",
      "1168.750 0.0002586 1156.008\n",
      "0 existing calculation records provided\n"
     ]
    },
    {
     "name": "stderr",
     "output_type": "stream",
     "text": [
      "100%|█████████████████████████████████████████████████████████████████████████████████████| 1/1 [00:00<00:00,  4.33it/s]"
     ]
    },
    {
     "name": "stdout",
     "output_type": "stream",
     "text": [
      "1 calculation combinations to check\n",
      "1 new records to prepare\n"
     ]
    },
    {
     "name": "stderr",
     "output_type": "stream",
     "text": [
      "\n",
      "preparing: 100%|##########################################################################| 1/1 [00:00<00:00, 47.09it/s]\n"
     ]
    },
    {
     "name": "stdout",
     "output_type": "stream",
     "text": [
      "01f95013-78a9-455e-8f0f-f7785d3525c9\n",
      "sim calculated successfully\n",
      "\n",
      "609.375 0.6089 617.130\n",
      "0 existing calculation records provided\n"
     ]
    },
    {
     "name": "stderr",
     "output_type": "stream",
     "text": [
      "100%|█████████████████████████████████████████████████████████████████████████████████████| 1/1 [00:00<00:00,  4.55it/s]"
     ]
    },
    {
     "name": "stdout",
     "output_type": "stream",
     "text": [
      "1 calculation combinations to check\n",
      "1 new records to prepare\n"
     ]
    },
    {
     "name": "stderr",
     "output_type": "stream",
     "text": [
      "\n",
      "preparing: 100%|##########################################################################| 1/1 [00:00<00:00, 47.69it/s]\n"
     ]
    },
    {
     "name": "stdout",
     "output_type": "stream",
     "text": [
      "bf19d9fb-f409-4963-9b90-5d91d90b7a4a\n",
      "sim calculated successfully\n",
      "\n",
      "889.062 0.001159 840.562\n",
      "0 existing calculation records provided\n"
     ]
    },
    {
     "name": "stderr",
     "output_type": "stream",
     "text": [
      "100%|█████████████████████████████████████████████████████████████████████████████████████| 1/1 [00:00<00:00,  4.69it/s]"
     ]
    },
    {
     "name": "stdout",
     "output_type": "stream",
     "text": [
      "1 calculation combinations to check\n",
      "1 new records to prepare\n"
     ]
    },
    {
     "name": "stderr",
     "output_type": "stream",
     "text": [
      "\n",
      "preparing: 100%|##########################################################################| 1/1 [00:00<00:00, 74.54it/s]\n"
     ]
    },
    {
     "name": "stdout",
     "output_type": "stream",
     "text": [
      "e139655b-cc2a-406a-b198-6456d755df7b\n",
      "sim calculated successfully\n",
      "\n",
      "469.531 0.99 471.970\n",
      "0 existing calculation records provided\n"
     ]
    },
    {
     "name": "stderr",
     "output_type": "stream",
     "text": [
      "100%|█████████████████████████████████████████████████████████████████████████████████████| 1/1 [00:00<00:00,  4.29it/s]"
     ]
    },
    {
     "name": "stdout",
     "output_type": "stream",
     "text": [
      "1 calculation combinations to check\n",
      "1 new records to prepare\n"
     ]
    },
    {
     "name": "stderr",
     "output_type": "stream",
     "text": [
      "\n",
      "preparing: 100%|##########################################################################| 1/1 [00:00<00:00, 70.92it/s]\n"
     ]
    },
    {
     "name": "stdout",
     "output_type": "stream",
     "text": [
      "7f238a09-1807-42ea-91e0-c653396da0b6\n",
      "sim calculated successfully\n",
      "\n",
      "679.297 0.2245 644.011\n",
      "0 existing calculation records provided\n"
     ]
    },
    {
     "name": "stderr",
     "output_type": "stream",
     "text": [
      "100%|█████████████████████████████████████████████████████████████████████████████████████| 1/1 [00:00<00:00,  4.34it/s]"
     ]
    },
    {
     "name": "stdout",
     "output_type": "stream",
     "text": [
      "1 calculation combinations to check\n",
      "1 new records to prepare\n"
     ]
    },
    {
     "name": "stderr",
     "output_type": "stream",
     "text": [
      "\n",
      "preparing: 100%|##########################################################################| 1/1 [00:00<00:00, 45.55it/s]\n"
     ]
    },
    {
     "name": "stdout",
     "output_type": "stream",
     "text": [
      "a0452417-c083-4ca2-8f6e-f023b2873741\n",
      "sim calculated successfully\n",
      "\n",
      "574.414 0.9417 576.069\n",
      "0 existing calculation records provided\n"
     ]
    },
    {
     "name": "stderr",
     "output_type": "stream",
     "text": [
      "100%|█████████████████████████████████████████████████████████████████████████████████████| 1/1 [00:00<00:00,  4.16it/s]"
     ]
    },
    {
     "name": "stdout",
     "output_type": "stream",
     "text": [
      "1 calculation combinations to check\n",
      "1 new records to prepare\n"
     ]
    },
    {
     "name": "stderr",
     "output_type": "stream",
     "text": [
      "\n",
      "preparing: 100%|##########################################################################| 1/1 [00:00<00:00, 44.09it/s]\n"
     ]
    },
    {
     "name": "stdout",
     "output_type": "stream",
     "text": [
      "3dc8a762-fff5-4af0-951a-44dd46d95a33\n",
      "sim calculated successfully\n",
      "\n",
      "626.855 0.4877 622.981\n",
      "0 existing calculation records provided\n"
     ]
    },
    {
     "name": "stderr",
     "output_type": "stream",
     "text": [
      "100%|█████████████████████████████████████████████████████████████████████████████████████| 1/1 [00:00<00:00,  4.38it/s]"
     ]
    },
    {
     "name": "stdout",
     "output_type": "stream",
     "text": [
      "1 calculation combinations to check\n",
      "1 new records to prepare\n"
     ]
    },
    {
     "name": "stderr",
     "output_type": "stream",
     "text": [
      "\n",
      "preparing: 100%|##########################################################################| 1/1 [00:00<00:00, 72.97it/s]\n"
     ]
    },
    {
     "name": "stdout",
     "output_type": "stream",
     "text": [
      "17618694-02ae-4f21-acc5-5f24a0c16ea0\n",
      "sim calculated successfully\n",
      "\n",
      "626.855 0.4684 624.078\n",
      "0 existing calculation records provided\n"
     ]
    },
    {
     "name": "stderr",
     "output_type": "stream",
     "text": [
      "100%|█████████████████████████████████████████████████████████████████████████████████████| 1/1 [00:00<00:00,  4.41it/s]"
     ]
    },
    {
     "name": "stdout",
     "output_type": "stream",
     "text": [
      "1 calculation combinations to check\n",
      "1 new records to prepare\n"
     ]
    },
    {
     "name": "stderr",
     "output_type": "stream",
     "text": [
      "\n",
      "preparing: 100%|##########################################################################| 1/1 [00:00<00:00, 34.07it/s]\n"
     ]
    },
    {
     "name": "stdout",
     "output_type": "stream",
     "text": [
      "c54cbe81-13ba-47d5-8b51-8c3575e0d594\n",
      "sim calculated successfully\n",
      "\n",
      "626.855 0.4772 621.661\n",
      "0 existing calculation records provided\n"
     ]
    },
    {
     "name": "stderr",
     "output_type": "stream",
     "text": [
      "100%|█████████████████████████████████████████████████████████████████████████████████████| 1/1 [00:00<00:00,  4.77it/s]"
     ]
    },
    {
     "name": "stdout",
     "output_type": "stream",
     "text": [
      "1 calculation combinations to check\n",
      "1 new records to prepare\n"
     ]
    },
    {
     "name": "stderr",
     "output_type": "stream",
     "text": [
      "\n",
      "preparing: 100%|##########################################################################| 1/1 [00:00<00:00, 86.86it/s]\n"
     ]
    },
    {
     "name": "stdout",
     "output_type": "stream",
     "text": [
      "6b1b57f0-1561-47b9-8e09-b7240db01f6c\n",
      "sim calculated successfully\n",
      "\n",
      "626.855 0.4696 623.208\n",
      "0 existing calculation records provided\n"
     ]
    },
    {
     "name": "stderr",
     "output_type": "stream",
     "text": [
      "100%|█████████████████████████████████████████████████████████████████████████████████████| 1/1 [00:00<00:00,  4.48it/s]"
     ]
    },
    {
     "name": "stdout",
     "output_type": "stream",
     "text": [
      "1 calculation combinations to check\n",
      "1 new records to prepare\n"
     ]
    },
    {
     "name": "stderr",
     "output_type": "stream",
     "text": [
      "\n",
      "preparing: 100%|##########################################################################| 1/1 [00:00<00:00, 68.66it/s]\n"
     ]
    },
    {
     "name": "stdout",
     "output_type": "stream",
     "text": [
      "8122d124-c12c-4ddd-8257-f563ba84fbb4\n",
      "sim calculated successfully\n",
      "\n",
      "626.855 0.4986 625.558\n",
      "0 existing calculation records provided\n"
     ]
    },
    {
     "name": "stderr",
     "output_type": "stream",
     "text": [
      "100%|█████████████████████████████████████████████████████████████████████████████████████| 1/1 [00:00<00:00,  4.19it/s]"
     ]
    },
    {
     "name": "stdout",
     "output_type": "stream",
     "text": [
      "1 calculation combinations to check\n",
      "1 new records to prepare\n"
     ]
    },
    {
     "name": "stderr",
     "output_type": "stream",
     "text": [
      "\n",
      "preparing: 100%|##########################################################################| 1/1 [00:00<00:00, 70.82it/s]\n"
     ]
    },
    {
     "name": "stdout",
     "output_type": "stream",
     "text": [
      "ad3b0f4f-5ed7-41cc-ad40-367527c11b86\n",
      "sim calculated successfully\n",
      "\n",
      "626.855 0.4892 629.592\n",
      "0 existing calculation records provided\n"
     ]
    },
    {
     "name": "stderr",
     "output_type": "stream",
     "text": [
      "100%|█████████████████████████████████████████████████████████████████████████████████████| 1/1 [00:00<00:00,  4.65it/s]"
     ]
    },
    {
     "name": "stdout",
     "output_type": "stream",
     "text": [
      "1 calculation combinations to check\n",
      "1 new records to prepare\n"
     ]
    },
    {
     "name": "stderr",
     "output_type": "stream",
     "text": [
      "\n",
      "preparing: 100%|##########################################################################| 1/1 [00:00<00:00, 75.91it/s]\n"
     ]
    },
    {
     "name": "stdout",
     "output_type": "stream",
     "text": [
      "630ebf25-4ee1-4f1d-b56a-a80988ae53a6\n",
      "sim calculated successfully\n",
      "\n",
      "626.855 0.4946 621.178\n",
      "0 existing calculation records provided\n"
     ]
    },
    {
     "name": "stderr",
     "output_type": "stream",
     "text": [
      "100%|█████████████████████████████████████████████████████████████████████████████████████| 1/1 [00:00<00:00,  4.31it/s]"
     ]
    },
    {
     "name": "stdout",
     "output_type": "stream",
     "text": [
      "1 calculation combinations to check\n",
      "1 new records to prepare\n"
     ]
    },
    {
     "name": "stderr",
     "output_type": "stream",
     "text": [
      "\n",
      "preparing: 100%|##########################################################################| 1/1 [00:00<00:00, 61.90it/s]\n"
     ]
    },
    {
     "name": "stdout",
     "output_type": "stream",
     "text": [
      "5f8ab86d-da41-47b9-97cf-a62feb4f033d\n",
      "sim calculated successfully\n",
      "\n",
      "626.855 0.4902 621.948\n",
      "0 existing calculation records provided\n"
     ]
    },
    {
     "name": "stderr",
     "output_type": "stream",
     "text": [
      "100%|█████████████████████████████████████████████████████████████████████████████████████| 1/1 [00:00<00:00,  4.54it/s]"
     ]
    },
    {
     "name": "stdout",
     "output_type": "stream",
     "text": [
      "1 calculation combinations to check\n",
      "1 new records to prepare\n"
     ]
    },
    {
     "name": "stderr",
     "output_type": "stream",
     "text": [
      "\n",
      "preparing: 100%|##########################################################################| 1/1 [00:00<00:00, 78.18it/s]\n"
     ]
    },
    {
     "name": "stdout",
     "output_type": "stream",
     "text": [
      "883707d4-4d1a-4211-82cd-064e3d2fc114\n",
      "sim calculated successfully\n",
      "\n",
      "626.855 0.4853 625.097\n",
      "69 2004--Zhou-X-W--Pd--LAMMPS--ipr1\n",
      "0 existing calculation records provided\n"
     ]
    },
    {
     "name": "stderr",
     "output_type": "stream",
     "text": [
      "100%|█████████████████████████████████████████████████████████████████████████████████████| 1/1 [00:00<00:00,  4.03it/s]"
     ]
    },
    {
     "name": "stdout",
     "output_type": "stream",
     "text": [
      "1 calculation combinations to check\n",
      "1 new records to prepare\n"
     ]
    },
    {
     "name": "stderr",
     "output_type": "stream",
     "text": [
      "\n",
      "preparing: 100%|##########################################################################| 1/1 [00:00<00:00, 47.44it/s]\n"
     ]
    },
    {
     "name": "stdout",
     "output_type": "stream",
     "text": [
      "9fef1da5-125c-46c2-a768-26fe5d83c543\n",
      "sim calculated successfully\n",
      "\n",
      "4525.000 1.034e-05 4510.871\n",
      "0 existing calculation records provided\n"
     ]
    },
    {
     "name": "stderr",
     "output_type": "stream",
     "text": [
      "100%|█████████████████████████████████████████████████████████████████████████████████████| 1/1 [00:00<00:00,  4.22it/s]"
     ]
    },
    {
     "name": "stdout",
     "output_type": "stream",
     "text": [
      "1 calculation combinations to check\n",
      "1 new records to prepare\n"
     ]
    },
    {
     "name": "stderr",
     "output_type": "stream",
     "text": [
      "\n",
      "preparing: 100%|##########################################################################| 1/1 [00:00<00:00, 71.84it/s]\n"
     ]
    },
    {
     "name": "stdout",
     "output_type": "stream",
     "text": [
      "d5f9a88e-786a-4b62-8ee8-11784a5185d8\n",
      "sim calculated successfully\n",
      "\n",
      "2287.500 0.001097 2251.935\n",
      "0 existing calculation records provided\n"
     ]
    },
    {
     "name": "stderr",
     "output_type": "stream",
     "text": [
      "100%|█████████████████████████████████████████████████████████████████████████████████████| 1/1 [00:00<00:00,  3.99it/s]"
     ]
    },
    {
     "name": "stdout",
     "output_type": "stream",
     "text": [
      "1 calculation combinations to check\n",
      "1 new records to prepare\n"
     ]
    },
    {
     "name": "stderr",
     "output_type": "stream",
     "text": [
      "\n",
      "preparing: 100%|##########################################################################| 1/1 [00:00<00:00, 37.32it/s]\n"
     ]
    },
    {
     "name": "stdout",
     "output_type": "stream",
     "text": [
      "962cd418-fddb-498e-8ee7-3c54bd3a2cfd\n",
      "sim calculated successfully\n",
      "\n",
      "1168.750 0.9947 1167.422\n",
      "0 existing calculation records provided\n"
     ]
    },
    {
     "name": "stderr",
     "output_type": "stream",
     "text": [
      "100%|█████████████████████████████████████████████████████████████████████████████████████| 1/1 [00:00<00:00,  4.17it/s]"
     ]
    },
    {
     "name": "stdout",
     "output_type": "stream",
     "text": [
      "1 calculation combinations to check\n",
      "1 new records to prepare\n"
     ]
    },
    {
     "name": "stderr",
     "output_type": "stream",
     "text": [
      "\n",
      "preparing: 100%|##########################################################################| 1/1 [00:00<00:00, 37.39it/s]\n"
     ]
    },
    {
     "name": "stdout",
     "output_type": "stream",
     "text": [
      "0b40edf0-e4f9-4216-955c-c5f9cc903869\n",
      "sim calculated successfully\n",
      "\n",
      "1728.125 0.1162 1589.486\n",
      "0 existing calculation records provided\n"
     ]
    },
    {
     "name": "stderr",
     "output_type": "stream",
     "text": [
      "100%|█████████████████████████████████████████████████████████████████████████████████████| 1/1 [00:00<00:00,  4.30it/s]"
     ]
    },
    {
     "name": "stdout",
     "output_type": "stream",
     "text": [
      "1 calculation combinations to check\n",
      "1 new records to prepare\n"
     ]
    },
    {
     "name": "stderr",
     "output_type": "stream",
     "text": [
      "\n",
      "preparing: 100%|##########################################################################| 1/1 [00:00<00:00, 43.38it/s]\n"
     ]
    },
    {
     "name": "stdout",
     "output_type": "stream",
     "text": [
      "ea1de045-e76f-4873-9cca-5659e7902bec\n",
      "sim calculated successfully\n",
      "\n",
      "1448.438 0.7497 1571.083\n",
      "0 existing calculation records provided\n"
     ]
    },
    {
     "name": "stderr",
     "output_type": "stream",
     "text": [
      "100%|█████████████████████████████████████████████████████████████████████████████████████| 1/1 [00:00<00:00,  4.19it/s]"
     ]
    },
    {
     "name": "stdout",
     "output_type": "stream",
     "text": [
      "1 calculation combinations to check\n",
      "1 new records to prepare\n"
     ]
    },
    {
     "name": "stderr",
     "output_type": "stream",
     "text": [
      "\n",
      "preparing: 100%|##########################################################################| 1/1 [00:00<00:00, 75.61it/s]\n"
     ]
    },
    {
     "name": "stdout",
     "output_type": "stream",
     "text": [
      "00e4cb98-a38e-4b27-8153-d635edcccbf1\n",
      "sim calculated successfully\n",
      "\n",
      "1588.281 0.5114 1591.546\n",
      "0 existing calculation records provided\n"
     ]
    },
    {
     "name": "stderr",
     "output_type": "stream",
     "text": [
      "100%|█████████████████████████████████████████████████████████████████████████████████████| 1/1 [00:00<00:00,  4.05it/s]"
     ]
    },
    {
     "name": "stdout",
     "output_type": "stream",
     "text": [
      "1 calculation combinations to check\n",
      "1 new records to prepare\n"
     ]
    },
    {
     "name": "stderr",
     "output_type": "stream",
     "text": [
      "\n",
      "preparing: 100%|##########################################################################| 1/1 [00:00<00:00, 70.97it/s]\n"
     ]
    },
    {
     "name": "stdout",
     "output_type": "stream",
     "text": [
      "1e05a578-d40a-4749-8da5-836c8a653a29\n",
      "sim calculated successfully\n",
      "\n",
      "1588.281 0.4954 1587.624\n",
      "0 existing calculation records provided\n"
     ]
    },
    {
     "name": "stderr",
     "output_type": "stream",
     "text": [
      "100%|█████████████████████████████████████████████████████████████████████████████████████| 1/1 [00:00<00:00,  4.21it/s]"
     ]
    },
    {
     "name": "stdout",
     "output_type": "stream",
     "text": [
      "1 calculation combinations to check\n",
      "1 new records to prepare\n"
     ]
    },
    {
     "name": "stderr",
     "output_type": "stream",
     "text": [
      "\n",
      "preparing: 100%|##########################################################################| 1/1 [00:00<00:00, 45.30it/s]\n"
     ]
    },
    {
     "name": "stdout",
     "output_type": "stream",
     "text": [
      "0704f5d9-7271-4db4-8e51-72f7fbc66014\n",
      "sim calculated successfully\n",
      "\n",
      "1588.281 0.4643 1572.790\n",
      "0 existing calculation records provided\n"
     ]
    },
    {
     "name": "stderr",
     "output_type": "stream",
     "text": [
      "100%|█████████████████████████████████████████████████████████████████████████████████████| 1/1 [00:00<00:00,  4.04it/s]"
     ]
    },
    {
     "name": "stdout",
     "output_type": "stream",
     "text": [
      "1 calculation combinations to check\n",
      "1 new records to prepare\n"
     ]
    },
    {
     "name": "stderr",
     "output_type": "stream",
     "text": [
      "\n",
      "preparing: 100%|##########################################################################| 1/1 [00:00<00:00, 46.90it/s]\n"
     ]
    },
    {
     "name": "stdout",
     "output_type": "stream",
     "text": [
      "77abe881-86d5-48a1-a230-5f3af1728560\n",
      "sim calculated successfully\n",
      "\n",
      "1588.281 0.5135 1598.783\n",
      "0 existing calculation records provided\n"
     ]
    },
    {
     "name": "stderr",
     "output_type": "stream",
     "text": [
      "100%|█████████████████████████████████████████████████████████████████████████████████████| 1/1 [00:00<00:00,  4.00it/s]"
     ]
    },
    {
     "name": "stdout",
     "output_type": "stream",
     "text": [
      "1 calculation combinations to check\n",
      "1 new records to prepare\n"
     ]
    },
    {
     "name": "stderr",
     "output_type": "stream",
     "text": [
      "\n",
      "preparing: 100%|##########################################################################| 1/1 [00:00<00:00, 75.38it/s]\n"
     ]
    },
    {
     "name": "stdout",
     "output_type": "stream",
     "text": [
      "ec2a782e-7529-4069-b1c6-2447c342cd06\n",
      "sim calculated successfully\n",
      "\n",
      "1588.281 0.4965 1592.887\n",
      "0 existing calculation records provided\n"
     ]
    },
    {
     "name": "stderr",
     "output_type": "stream",
     "text": [
      "100%|█████████████████████████████████████████████████████████████████████████████████████| 1/1 [00:00<00:00,  4.32it/s]"
     ]
    },
    {
     "name": "stdout",
     "output_type": "stream",
     "text": [
      "1 calculation combinations to check\n",
      "1 new records to prepare\n"
     ]
    },
    {
     "name": "stderr",
     "output_type": "stream",
     "text": [
      "\n",
      "preparing: 100%|##########################################################################| 1/1 [00:00<00:00, 40.38it/s]\n"
     ]
    },
    {
     "name": "stdout",
     "output_type": "stream",
     "text": [
      "267ff070-0106-49aa-9f66-9d68e153ce07\n",
      "sim calculated successfully\n",
      "\n",
      "1588.281 0.5178 1583.592\n",
      "0 existing calculation records provided\n"
     ]
    },
    {
     "name": "stderr",
     "output_type": "stream",
     "text": [
      "100%|█████████████████████████████████████████████████████████████████████████████████████| 1/1 [00:00<00:00,  3.37it/s]"
     ]
    },
    {
     "name": "stdout",
     "output_type": "stream",
     "text": [
      "1 calculation combinations to check\n",
      "1 new records to prepare\n"
     ]
    },
    {
     "name": "stderr",
     "output_type": "stream",
     "text": [
      "\n",
      "preparing: 100%|##########################################################################| 1/1 [00:00<00:00, 78.33it/s]\n"
     ]
    },
    {
     "name": "stdout",
     "output_type": "stream",
     "text": [
      "69c80a90-84b8-4e6b-a307-eefb679935a3\n",
      "sim calculated successfully\n",
      "\n",
      "1588.281 0.4948 1600.754\n",
      "0 existing calculation records provided\n"
     ]
    },
    {
     "name": "stderr",
     "output_type": "stream",
     "text": [
      "100%|█████████████████████████████████████████████████████████████████████████████████████| 1/1 [00:00<00:00,  4.31it/s]"
     ]
    },
    {
     "name": "stdout",
     "output_type": "stream",
     "text": [
      "1 calculation combinations to check\n",
      "1 new records to prepare\n"
     ]
    },
    {
     "name": "stderr",
     "output_type": "stream",
     "text": [
      "\n",
      "preparing: 100%|##########################################################################| 1/1 [00:00<00:00, 45.70it/s]\n"
     ]
    },
    {
     "name": "stdout",
     "output_type": "stream",
     "text": [
      "1361f0cb-29d3-43b8-bfd2-dcd05df84865\n",
      "sim calculated successfully\n",
      "\n",
      "1588.281 0.5381 1591.209\n",
      "0 existing calculation records provided\n"
     ]
    },
    {
     "name": "stderr",
     "output_type": "stream",
     "text": [
      "100%|█████████████████████████████████████████████████████████████████████████████████████| 1/1 [00:00<00:00,  4.43it/s]"
     ]
    },
    {
     "name": "stdout",
     "output_type": "stream",
     "text": [
      "1 calculation combinations to check\n",
      "1 new records to prepare\n"
     ]
    },
    {
     "name": "stderr",
     "output_type": "stream",
     "text": [
      "\n",
      "preparing: 100%|##########################################################################| 1/1 [00:00<00:00, 42.14it/s]\n"
     ]
    },
    {
     "name": "stdout",
     "output_type": "stream",
     "text": [
      "6a8839aa-0a23-43fd-8680-2e208a0870db\n",
      "sim calculated successfully\n",
      "\n",
      "1588.281 0.5137 1580.617\n",
      "70 2004--Zhou-X-W--Pd--LAMMPS--ipr2\n",
      "0 existing calculation records provided\n"
     ]
    },
    {
     "name": "stderr",
     "output_type": "stream",
     "text": [
      "100%|█████████████████████████████████████████████████████████████████████████████████████| 1/1 [00:00<00:00,  4.00it/s]"
     ]
    },
    {
     "name": "stdout",
     "output_type": "stream",
     "text": [
      "1 calculation combinations to check\n",
      "1 new records to prepare\n"
     ]
    },
    {
     "name": "stderr",
     "output_type": "stream",
     "text": [
      "\n",
      "preparing: 100%|##########################################################################| 1/1 [00:00<00:00, 62.28it/s]\n"
     ]
    },
    {
     "name": "stdout",
     "output_type": "stream",
     "text": [
      "0aaa6781-cab7-415d-83ee-40de0c2e6c11\n",
      "sim calculated successfully\n",
      "\n",
      "4525.000 2.069e-05 4517.870\n",
      "0 existing calculation records provided\n"
     ]
    },
    {
     "name": "stderr",
     "output_type": "stream",
     "text": [
      "100%|█████████████████████████████████████████████████████████████████████████████████████| 1/1 [00:00<00:00,  4.49it/s]"
     ]
    },
    {
     "name": "stdout",
     "output_type": "stream",
     "text": [
      "1 calculation combinations to check\n",
      "1 new records to prepare\n"
     ]
    },
    {
     "name": "stderr",
     "output_type": "stream",
     "text": [
      "\n",
      "preparing: 100%|##########################################################################| 1/1 [00:00<00:00, 81.64it/s]\n"
     ]
    },
    {
     "name": "stdout",
     "output_type": "stream",
     "text": [
      "74fc9718-9400-4458-9b3c-fec383b6be0f\n",
      "sim calculated successfully\n",
      "\n",
      "2287.500 0.001014 2245.956\n",
      "0 existing calculation records provided\n"
     ]
    },
    {
     "name": "stderr",
     "output_type": "stream",
     "text": [
      "100%|█████████████████████████████████████████████████████████████████████████████████████| 1/1 [00:00<00:00,  4.29it/s]"
     ]
    },
    {
     "name": "stdout",
     "output_type": "stream",
     "text": [
      "1 calculation combinations to check\n",
      "1 new records to prepare\n"
     ]
    },
    {
     "name": "stderr",
     "output_type": "stream",
     "text": [
      "\n",
      "preparing: 100%|##########################################################################| 1/1 [00:00<00:00, 45.69it/s]\n"
     ]
    },
    {
     "name": "stdout",
     "output_type": "stream",
     "text": [
      "405d73de-bf92-42ca-80e4-de5b83682d30\n",
      "sim calculated successfully\n",
      "\n",
      "1168.750 0.9947 1167.678\n",
      "0 existing calculation records provided\n"
     ]
    },
    {
     "name": "stderr",
     "output_type": "stream",
     "text": [
      "100%|█████████████████████████████████████████████████████████████████████████████████████| 1/1 [00:00<00:00,  4.48it/s]"
     ]
    },
    {
     "name": "stdout",
     "output_type": "stream",
     "text": [
      "1 calculation combinations to check\n",
      "1 new records to prepare\n"
     ]
    },
    {
     "name": "stderr",
     "output_type": "stream",
     "text": [
      "\n",
      "preparing: 100%|##########################################################################| 1/1 [00:00<00:00, 46.89it/s]\n"
     ]
    },
    {
     "name": "stdout",
     "output_type": "stream",
     "text": [
      "182d4855-2f86-48a3-a40c-153f976d8517\n",
      "sim calculated successfully\n",
      "\n",
      "1728.125 0.1469 1590.870\n",
      "0 existing calculation records provided\n"
     ]
    },
    {
     "name": "stderr",
     "output_type": "stream",
     "text": [
      "100%|█████████████████████████████████████████████████████████████████████████████████████| 1/1 [00:00<00:00,  4.51it/s]"
     ]
    },
    {
     "name": "stdout",
     "output_type": "stream",
     "text": [
      "1 calculation combinations to check\n",
      "1 new records to prepare\n"
     ]
    },
    {
     "name": "stderr",
     "output_type": "stream",
     "text": [
      "\n",
      "preparing: 100%|##########################################################################| 1/1 [00:00<00:00, 49.41it/s]\n"
     ]
    },
    {
     "name": "stdout",
     "output_type": "stream",
     "text": [
      "84dfa0e5-2f63-4dac-bac8-b3602eeda543\n",
      "sim calculated successfully\n",
      "\n",
      "1448.438 0.7919 1550.166\n",
      "0 existing calculation records provided\n"
     ]
    },
    {
     "name": "stderr",
     "output_type": "stream",
     "text": [
      "100%|█████████████████████████████████████████████████████████████████████████████████████| 1/1 [00:00<00:00,  4.23it/s]"
     ]
    },
    {
     "name": "stdout",
     "output_type": "stream",
     "text": [
      "1 calculation combinations to check\n",
      "1 new records to prepare\n"
     ]
    },
    {
     "name": "stderr",
     "output_type": "stream",
     "text": [
      "\n",
      "preparing: 100%|##########################################################################| 1/1 [00:00<00:00, 46.22it/s]\n"
     ]
    },
    {
     "name": "stdout",
     "output_type": "stream",
     "text": [
      "286137da-4e48-438c-9699-d9a24d618edd\n",
      "sim calculated successfully\n",
      "\n",
      "1588.281 0.5316 1609.042\n",
      "0 existing calculation records provided\n"
     ]
    },
    {
     "name": "stderr",
     "output_type": "stream",
     "text": [
      "100%|█████████████████████████████████████████████████████████████████████████████████████| 1/1 [00:00<00:00,  3.89it/s]"
     ]
    },
    {
     "name": "stdout",
     "output_type": "stream",
     "text": [
      "1 calculation combinations to check\n",
      "1 new records to prepare\n"
     ]
    },
    {
     "name": "stderr",
     "output_type": "stream",
     "text": [
      "\n",
      "preparing: 100%|##########################################################################| 1/1 [00:00<00:00, 41.62it/s]\n"
     ]
    },
    {
     "name": "stdout",
     "output_type": "stream",
     "text": [
      "a5c7140f-857f-470b-9890-6cfda64e57c3\n",
      "sim calculated successfully\n",
      "\n",
      "1588.281 0.5133 1585.101\n",
      "0 existing calculation records provided\n"
     ]
    },
    {
     "name": "stderr",
     "output_type": "stream",
     "text": [
      "100%|█████████████████████████████████████████████████████████████████████████████████████| 1/1 [00:00<00:00,  4.56it/s]"
     ]
    },
    {
     "name": "stdout",
     "output_type": "stream",
     "text": [
      "1 calculation combinations to check\n",
      "1 new records to prepare\n"
     ]
    },
    {
     "name": "stderr",
     "output_type": "stream",
     "text": [
      "\n",
      "preparing: 100%|##########################################################################| 1/1 [00:00<00:00, 45.88it/s]\n"
     ]
    },
    {
     "name": "stdout",
     "output_type": "stream",
     "text": [
      "4738405c-1548-437e-b371-56a87153480a\n",
      "sim calculated successfully\n",
      "\n",
      "1588.281 0.5372 1608.510\n",
      "0 existing calculation records provided\n"
     ]
    },
    {
     "name": "stderr",
     "output_type": "stream",
     "text": [
      "100%|█████████████████████████████████████████████████████████████████████████████████████| 1/1 [00:00<00:00,  4.41it/s]"
     ]
    },
    {
     "name": "stdout",
     "output_type": "stream",
     "text": [
      "1 calculation combinations to check\n",
      "1 new records to prepare\n"
     ]
    },
    {
     "name": "stderr",
     "output_type": "stream",
     "text": [
      "\n",
      "preparing: 100%|##########################################################################| 1/1 [00:00<00:00, 46.16it/s]\n"
     ]
    },
    {
     "name": "stdout",
     "output_type": "stream",
     "text": [
      "21936faf-2d8f-4d3d-9569-3adafb8b1d23\n",
      "sim calculated successfully\n",
      "\n",
      "1588.281 0.5253 1589.790\n",
      "0 existing calculation records provided\n"
     ]
    },
    {
     "name": "stderr",
     "output_type": "stream",
     "text": [
      "100%|█████████████████████████████████████████████████████████████████████████████████████| 1/1 [00:00<00:00,  4.18it/s]"
     ]
    },
    {
     "name": "stdout",
     "output_type": "stream",
     "text": [
      "1 calculation combinations to check\n",
      "1 new records to prepare\n"
     ]
    },
    {
     "name": "stderr",
     "output_type": "stream",
     "text": [
      "\n",
      "preparing: 100%|##########################################################################| 1/1 [00:00<00:00, 39.33it/s]\n"
     ]
    },
    {
     "name": "stdout",
     "output_type": "stream",
     "text": [
      "1078c52f-518c-4993-baf0-d35cf096bf58\n",
      "sim calculated successfully\n",
      "\n",
      "1588.281 0.5137 1591.592\n",
      "0 existing calculation records provided\n"
     ]
    },
    {
     "name": "stderr",
     "output_type": "stream",
     "text": [
      "100%|█████████████████████████████████████████████████████████████████████████████████████| 1/1 [00:00<00:00,  4.34it/s]"
     ]
    },
    {
     "name": "stdout",
     "output_type": "stream",
     "text": [
      "1 calculation combinations to check\n",
      "1 new records to prepare\n"
     ]
    },
    {
     "name": "stderr",
     "output_type": "stream",
     "text": [
      "\n",
      "preparing: 100%|##########################################################################| 1/1 [00:00<00:00, 45.08it/s]\n"
     ]
    },
    {
     "name": "stdout",
     "output_type": "stream",
     "text": [
      "a4b9cc9a-661e-424e-bc3a-644816a52366\n",
      "sim calculated successfully\n",
      "\n",
      "1588.281 0.5279 1591.129\n",
      "0 existing calculation records provided\n"
     ]
    },
    {
     "name": "stderr",
     "output_type": "stream",
     "text": [
      "100%|█████████████████████████████████████████████████████████████████████████████████████| 1/1 [00:00<00:00,  4.04it/s]"
     ]
    },
    {
     "name": "stdout",
     "output_type": "stream",
     "text": [
      "1 calculation combinations to check\n",
      "1 new records to prepare\n"
     ]
    },
    {
     "name": "stderr",
     "output_type": "stream",
     "text": [
      "\n",
      "preparing: 100%|##########################################################################| 1/1 [00:00<00:00, 42.32it/s]\n"
     ]
    },
    {
     "name": "stdout",
     "output_type": "stream",
     "text": [
      "bdf8baef-24f6-42a5-a100-b40105c627e7\n",
      "sim calculated successfully\n",
      "\n",
      "1588.281 0.5308 1601.850\n",
      "0 existing calculation records provided\n"
     ]
    },
    {
     "name": "stderr",
     "output_type": "stream",
     "text": [
      "100%|█████████████████████████████████████████████████████████████████████████████████████| 1/1 [00:00<00:00,  3.96it/s]"
     ]
    },
    {
     "name": "stdout",
     "output_type": "stream",
     "text": [
      "1 calculation combinations to check\n",
      "1 new records to prepare\n"
     ]
    },
    {
     "name": "stderr",
     "output_type": "stream",
     "text": [
      "\n",
      "preparing: 100%|##########################################################################| 1/1 [00:00<00:00, 42.34it/s]\n"
     ]
    },
    {
     "name": "stdout",
     "output_type": "stream",
     "text": [
      "713074e6-cab0-4293-9278-94838d9a14e8\n",
      "sim calculated successfully\n",
      "\n",
      "1588.281 0.5254 1593.088\n",
      "0 existing calculation records provided\n"
     ]
    },
    {
     "name": "stderr",
     "output_type": "stream",
     "text": [
      "100%|█████████████████████████████████████████████████████████████████████████████████████| 1/1 [00:00<00:00,  4.48it/s]"
     ]
    },
    {
     "name": "stdout",
     "output_type": "stream",
     "text": [
      "1 calculation combinations to check\n",
      "1 new records to prepare\n"
     ]
    },
    {
     "name": "stderr",
     "output_type": "stream",
     "text": [
      "\n",
      "preparing: 100%|##########################################################################| 1/1 [00:00<00:00, 40.44it/s]\n"
     ]
    },
    {
     "name": "stdout",
     "output_type": "stream",
     "text": [
      "99761202-8ed0-4d7b-b0ff-72fe37501558\n",
      "sim calculated successfully\n",
      "\n",
      "1588.281 0.4896 1610.277\n",
      "0 existing calculation records provided\n"
     ]
    },
    {
     "name": "stderr",
     "output_type": "stream",
     "text": [
      "100%|█████████████████████████████████████████████████████████████████████████████████████| 1/1 [00:00<00:00,  4.42it/s]"
     ]
    },
    {
     "name": "stdout",
     "output_type": "stream",
     "text": [
      "1 calculation combinations to check\n",
      "1 new records to prepare\n"
     ]
    },
    {
     "name": "stderr",
     "output_type": "stream",
     "text": [
      "\n",
      "preparing: 100%|##########################################################################| 1/1 [00:00<00:00, 46.42it/s]\n"
     ]
    },
    {
     "name": "stdout",
     "output_type": "stream",
     "text": [
      "47c279f8-0793-4e08-8b02-ff01e83ce626\n",
      "sim calculated successfully\n",
      "\n",
      "1588.281 0.5143 1584.499\n",
      "71 2004--Zhou-X-W--Pt--LAMMPS--ipr1\n",
      "0 existing calculation records provided\n"
     ]
    },
    {
     "name": "stderr",
     "output_type": "stream",
     "text": [
      "100%|█████████████████████████████████████████████████████████████████████████████████████| 1/1 [00:00<00:00,  4.04it/s]"
     ]
    },
    {
     "name": "stdout",
     "output_type": "stream",
     "text": [
      "1 calculation combinations to check\n",
      "1 new records to prepare\n"
     ]
    },
    {
     "name": "stderr",
     "output_type": "stream",
     "text": [
      "\n",
      "preparing: 100%|##########################################################################| 1/1 [00:00<00:00, 87.45it/s]\n"
     ]
    },
    {
     "name": "stdout",
     "output_type": "stream",
     "text": [
      "d6d3b391-f606-48b5-8f6d-daf6495b4dd4\n",
      "sim calculated successfully\n",
      "\n",
      "4525.000 8.276e-05 4505.741\n",
      "0 existing calculation records provided\n"
     ]
    },
    {
     "name": "stderr",
     "output_type": "stream",
     "text": [
      "100%|█████████████████████████████████████████████████████████████████████████████████████| 1/1 [00:00<00:00,  4.21it/s]"
     ]
    },
    {
     "name": "stdout",
     "output_type": "stream",
     "text": [
      "1 calculation combinations to check\n",
      "1 new records to prepare\n"
     ]
    },
    {
     "name": "stderr",
     "output_type": "stream",
     "text": [
      "\n",
      "preparing: 100%|##########################################################################| 1/1 [00:00<00:00, 46.40it/s]\n"
     ]
    },
    {
     "name": "stdout",
     "output_type": "stream",
     "text": [
      "5fe60ee0-a681-47e9-b960-7e7a7483c5a3\n",
      "sim calculated successfully\n",
      "\n",
      "2287.500 0.000631 2278.495\n",
      "0 existing calculation records provided\n"
     ]
    },
    {
     "name": "stderr",
     "output_type": "stream",
     "text": [
      "100%|█████████████████████████████████████████████████████████████████████████████████████| 1/1 [00:00<00:00,  3.78it/s]"
     ]
    },
    {
     "name": "stdout",
     "output_type": "stream",
     "text": [
      "1 calculation combinations to check\n",
      "1 new records to prepare\n"
     ]
    },
    {
     "name": "stderr",
     "output_type": "stream",
     "text": [
      "\n",
      "preparing: 100%|##########################################################################| 1/1 [00:00<00:00, 73.60it/s]\n"
     ]
    },
    {
     "name": "stdout",
     "output_type": "stream",
     "text": [
      "e1a22293-7e4d-40f8-8ceb-f3c5ac91209a\n",
      "sim calculated successfully\n",
      "\n",
      "1168.750 0.9871 1166.821\n",
      "0 existing calculation records provided\n"
     ]
    },
    {
     "name": "stderr",
     "output_type": "stream",
     "text": [
      "100%|█████████████████████████████████████████████████████████████████████████████████████| 1/1 [00:00<00:00,  3.71it/s]"
     ]
    },
    {
     "name": "stdout",
     "output_type": "stream",
     "text": [
      "1 calculation combinations to check\n",
      "1 new records to prepare\n"
     ]
    },
    {
     "name": "stderr",
     "output_type": "stream",
     "text": [
      "\n",
      "preparing: 100%|##########################################################################| 1/1 [00:00<00:00, 75.28it/s]\n"
     ]
    },
    {
     "name": "stdout",
     "output_type": "stream",
     "text": [
      "2c6fc547-f893-494a-822a-87b2ebbfccfd\n",
      "sim calculated successfully\n",
      "\n",
      "1728.125 0.002959 1596.648\n",
      "0 existing calculation records provided\n"
     ]
    },
    {
     "name": "stderr",
     "output_type": "stream",
     "text": [
      "100%|█████████████████████████████████████████████████████████████████████████████████████| 1/1 [00:00<00:00,  3.82it/s]"
     ]
    },
    {
     "name": "stdout",
     "output_type": "stream",
     "text": [
      "1 calculation combinations to check\n",
      "1 new records to prepare\n"
     ]
    },
    {
     "name": "stderr",
     "output_type": "stream",
     "text": [
      "\n",
      "preparing: 100%|##########################################################################| 1/1 [00:00<00:00, 80.87it/s]\n"
     ]
    },
    {
     "name": "stdout",
     "output_type": "stream",
     "text": [
      "7901c9f3-b484-4729-8c04-cd1715ed6e08\n",
      "sim calculated successfully\n",
      "\n",
      "1448.438 0.4225 1432.504\n",
      "0 existing calculation records provided\n"
     ]
    },
    {
     "name": "stderr",
     "output_type": "stream",
     "text": [
      "100%|█████████████████████████████████████████████████████████████████████████████████████| 1/1 [00:00<00:00,  4.75it/s]"
     ]
    },
    {
     "name": "stdout",
     "output_type": "stream",
     "text": [
      "1 calculation combinations to check\n",
      "1 new records to prepare\n"
     ]
    },
    {
     "name": "stderr",
     "output_type": "stream",
     "text": [
      "\n",
      "preparing: 100%|##########################################################################| 1/1 [00:00<00:00, 75.42it/s]\n"
     ]
    },
    {
     "name": "stdout",
     "output_type": "stream",
     "text": [
      "4381fd68-4135-48a8-8075-e0c30de9b80f\n",
      "sim calculated successfully\n",
      "\n",
      "1448.438 0.4116 1437.055\n",
      "0 existing calculation records provided\n"
     ]
    },
    {
     "name": "stderr",
     "output_type": "stream",
     "text": [
      "100%|█████████████████████████████████████████████████████████████████████████████████████| 1/1 [00:00<00:00,  3.52it/s]"
     ]
    },
    {
     "name": "stdout",
     "output_type": "stream",
     "text": [
      "1 calculation combinations to check\n",
      "1 new records to prepare\n"
     ]
    },
    {
     "name": "stderr",
     "output_type": "stream",
     "text": [
      "\n",
      "preparing: 100%|##########################################################################| 1/1 [00:00<00:00, 75.91it/s]\n"
     ]
    },
    {
     "name": "stdout",
     "output_type": "stream",
     "text": [
      "e35b00f6-b49d-4d30-829d-11bd68a9620b\n",
      "sim calculated successfully\n",
      "\n",
      "1448.438 0.4381 1450.934\n",
      "0 existing calculation records provided\n"
     ]
    },
    {
     "name": "stderr",
     "output_type": "stream",
     "text": [
      "100%|█████████████████████████████████████████████████████████████████████████████████████| 1/1 [00:00<00:00,  3.80it/s]"
     ]
    },
    {
     "name": "stdout",
     "output_type": "stream",
     "text": [
      "1 calculation combinations to check\n",
      "1 new records to prepare\n"
     ]
    },
    {
     "name": "stderr",
     "output_type": "stream",
     "text": [
      "\n",
      "preparing: 100%|##########################################################################| 1/1 [00:00<00:00, 74.98it/s]\n"
     ]
    },
    {
     "name": "stdout",
     "output_type": "stream",
     "text": [
      "f8597026-008a-40ef-846f-a3bad50e7ca9\n",
      "sim calculated successfully\n",
      "\n",
      "1448.438 0.4068 1447.684\n",
      "0 existing calculation records provided\n"
     ]
    },
    {
     "name": "stderr",
     "output_type": "stream",
     "text": [
      "100%|█████████████████████████████████████████████████████████████████████████████████████| 1/1 [00:00<00:00,  4.34it/s]"
     ]
    },
    {
     "name": "stdout",
     "output_type": "stream",
     "text": [
      "1 calculation combinations to check\n",
      "1 new records to prepare\n"
     ]
    },
    {
     "name": "stderr",
     "output_type": "stream",
     "text": [
      "\n",
      "preparing: 100%|##########################################################################| 1/1 [00:00<00:00, 45.09it/s]\n"
     ]
    },
    {
     "name": "stdout",
     "output_type": "stream",
     "text": [
      "49ea50b3-0936-49a5-a49a-ea1593d63c81\n",
      "sim calculated successfully\n",
      "\n",
      "1448.438 0.4767 1446.544\n",
      "0 existing calculation records provided\n"
     ]
    },
    {
     "name": "stderr",
     "output_type": "stream",
     "text": [
      "100%|█████████████████████████████████████████████████████████████████████████████████████| 1/1 [00:00<00:00,  3.95it/s]"
     ]
    },
    {
     "name": "stdout",
     "output_type": "stream",
     "text": [
      "1 calculation combinations to check\n",
      "1 new records to prepare\n"
     ]
    },
    {
     "name": "stderr",
     "output_type": "stream",
     "text": [
      "\n",
      "preparing: 100%|##########################################################################| 1/1 [00:00<00:00, 79.28it/s]\n"
     ]
    },
    {
     "name": "stdout",
     "output_type": "stream",
     "text": [
      "b480aee0-7280-4e5f-80da-e2c7546c28f9\n",
      "sim calculated successfully\n",
      "\n",
      "1448.438 0.454 1438.193\n",
      "0 existing calculation records provided\n"
     ]
    },
    {
     "name": "stderr",
     "output_type": "stream",
     "text": [
      "100%|█████████████████████████████████████████████████████████████████████████████████████| 1/1 [00:00<00:00,  4.36it/s]"
     ]
    },
    {
     "name": "stdout",
     "output_type": "stream",
     "text": [
      "1 calculation combinations to check\n",
      "1 new records to prepare\n"
     ]
    },
    {
     "name": "stderr",
     "output_type": "stream",
     "text": [
      "\n",
      "preparing: 100%|##########################################################################| 1/1 [00:00<00:00, 41.21it/s]\n"
     ]
    },
    {
     "name": "stdout",
     "output_type": "stream",
     "text": [
      "be7a5e22-62a2-4e41-94d6-933c2fddff48\n",
      "sim calculated successfully\n",
      "\n",
      "1448.438 0.4727 1435.621\n",
      "0 existing calculation records provided\n"
     ]
    },
    {
     "name": "stderr",
     "output_type": "stream",
     "text": [
      "100%|█████████████████████████████████████████████████████████████████████████████████████| 1/1 [00:00<00:00,  5.44it/s]"
     ]
    },
    {
     "name": "stdout",
     "output_type": "stream",
     "text": [
      "1 calculation combinations to check\n",
      "1 new records to prepare\n"
     ]
    },
    {
     "name": "stderr",
     "output_type": "stream",
     "text": [
      "\n",
      "preparing: 100%|##########################################################################| 1/1 [00:00<00:00, 47.00it/s]\n"
     ]
    },
    {
     "name": "stdout",
     "output_type": "stream",
     "text": [
      "707b481e-32dd-4690-bb7f-08d96dd79c33\n",
      "sim calculated successfully\n",
      "\n",
      "1448.438 0.4472 1433.612\n",
      "0 existing calculation records provided\n"
     ]
    },
    {
     "name": "stderr",
     "output_type": "stream",
     "text": [
      "100%|█████████████████████████████████████████████████████████████████████████████████████| 1/1 [00:00<00:00,  3.93it/s]"
     ]
    },
    {
     "name": "stdout",
     "output_type": "stream",
     "text": [
      "1 calculation combinations to check\n",
      "1 new records to prepare\n"
     ]
    },
    {
     "name": "stderr",
     "output_type": "stream",
     "text": [
      "\n",
      "preparing: 100%|##########################################################################| 1/1 [00:00<00:00, 47.19it/s]\n"
     ]
    },
    {
     "name": "stdout",
     "output_type": "stream",
     "text": [
      "dd15f8c4-235c-4011-ba4f-596cf381eaff\n",
      "sim calculated successfully\n",
      "\n",
      "1448.438 0.3937 1436.122\n",
      "0 existing calculation records provided\n"
     ]
    },
    {
     "name": "stderr",
     "output_type": "stream",
     "text": [
      "100%|█████████████████████████████████████████████████████████████████████████████████████| 1/1 [00:00<00:00,  4.59it/s]"
     ]
    },
    {
     "name": "stdout",
     "output_type": "stream",
     "text": [
      "1 calculation combinations to check\n",
      "1 new records to prepare\n"
     ]
    },
    {
     "name": "stderr",
     "output_type": "stream",
     "text": [
      "\n",
      "preparing: 100%|##########################################################################| 1/1 [00:00<00:00, 45.55it/s]\n"
     ]
    },
    {
     "name": "stdout",
     "output_type": "stream",
     "text": [
      "2e5d1fa3-b5c9-4308-98e1-111d816d8dd1\n",
      "sim calculated successfully\n",
      "\n",
      "1308.594 0.7527 1396.864\n",
      "0 existing calculation records provided\n"
     ]
    },
    {
     "name": "stderr",
     "output_type": "stream",
     "text": [
      "100%|█████████████████████████████████████████████████████████████████████████████████████| 1/1 [00:00<00:00,  4.09it/s]"
     ]
    },
    {
     "name": "stdout",
     "output_type": "stream",
     "text": [
      "1 calculation combinations to check\n",
      "1 new records to prepare\n"
     ]
    },
    {
     "name": "stderr",
     "output_type": "stream",
     "text": [
      "\n",
      "preparing: 100%|##########################################################################| 1/1 [00:00<00:00, 81.45it/s]\n"
     ]
    },
    {
     "name": "stdout",
     "output_type": "stream",
     "text": [
      "084dcc5d-d283-4f6c-9087-4cb0cb4c1fd9\n",
      "sim calculated successfully\n",
      "\n",
      "1518.359 0.2451 1441.859\n",
      "0 existing calculation records provided\n"
     ]
    },
    {
     "name": "stderr",
     "output_type": "stream",
     "text": [
      "100%|█████████████████████████████████████████████████████████████████████████████████████| 1/1 [00:00<00:00,  4.05it/s]"
     ]
    },
    {
     "name": "stdout",
     "output_type": "stream",
     "text": [
      "1 calculation combinations to check\n",
      "1 new records to prepare\n"
     ]
    },
    {
     "name": "stderr",
     "output_type": "stream",
     "text": [
      "\n",
      "preparing: 100%|##########################################################################| 1/1 [00:00<00:00, 39.21it/s]\n"
     ]
    },
    {
     "name": "stdout",
     "output_type": "stream",
     "text": [
      "24bc1aa2-7b32-4bf0-a771-23c09e99c8e1\n",
      "sim calculated successfully\n",
      "\n",
      "1413.477 0.5301 1443.158\n",
      "72 2004--Zhou-X-W--Pt--LAMMPS--ipr2\n",
      "0 existing calculation records provided\n"
     ]
    },
    {
     "name": "stderr",
     "output_type": "stream",
     "text": [
      "100%|█████████████████████████████████████████████████████████████████████████████████████| 1/1 [00:00<00:00,  4.39it/s]"
     ]
    },
    {
     "name": "stdout",
     "output_type": "stream",
     "text": [
      "1 calculation combinations to check\n",
      "1 new records to prepare\n"
     ]
    },
    {
     "name": "stderr",
     "output_type": "stream",
     "text": [
      "\n",
      "preparing: 100%|##########################################################################| 1/1 [00:00<00:00, 49.56it/s]\n"
     ]
    },
    {
     "name": "stdout",
     "output_type": "stream",
     "text": [
      "2dc4a21a-46bf-4320-b647-306f7115e43e\n",
      "sim calculated successfully\n",
      "\n",
      "4525.000 0.0 4504.073\n",
      "0 existing calculation records provided\n"
     ]
    },
    {
     "name": "stderr",
     "output_type": "stream",
     "text": [
      "100%|█████████████████████████████████████████████████████████████████████████████████████| 1/1 [00:00<00:00,  3.94it/s]"
     ]
    },
    {
     "name": "stdout",
     "output_type": "stream",
     "text": [
      "1 calculation combinations to check\n",
      "1 new records to prepare\n"
     ]
    },
    {
     "name": "stderr",
     "output_type": "stream",
     "text": [
      "\n",
      "preparing: 100%|##########################################################################| 1/1 [00:00<00:00, 71.62it/s]\n"
     ]
    },
    {
     "name": "stdout",
     "output_type": "stream",
     "text": [
      "76054d74-1b19-4e89-aef6-c3ee92c15e4f\n",
      "sim calculated successfully\n",
      "\n",
      "2287.500 0.0008483 2259.473\n",
      "0 existing calculation records provided\n"
     ]
    },
    {
     "name": "stderr",
     "output_type": "stream",
     "text": [
      "100%|█████████████████████████████████████████████████████████████████████████████████████| 1/1 [00:00<00:00,  4.13it/s]"
     ]
    },
    {
     "name": "stdout",
     "output_type": "stream",
     "text": [
      "1 calculation combinations to check\n",
      "1 new records to prepare\n"
     ]
    },
    {
     "name": "stderr",
     "output_type": "stream",
     "text": [
      "\n",
      "preparing: 100%|##########################################################################| 1/1 [00:00<00:00, 77.89it/s]\n"
     ]
    },
    {
     "name": "stdout",
     "output_type": "stream",
     "text": [
      "c40e6a47-c88a-4559-9fe7-7e02d245a2d7\n",
      "sim calculated successfully\n",
      "\n",
      "1168.750 0.9855 1168.421\n",
      "0 existing calculation records provided\n"
     ]
    },
    {
     "name": "stderr",
     "output_type": "stream",
     "text": [
      "100%|█████████████████████████████████████████████████████████████████████████████████████| 1/1 [00:00<00:00,  4.49it/s]"
     ]
    },
    {
     "name": "stdout",
     "output_type": "stream",
     "text": [
      "1 calculation combinations to check\n",
      "1 new records to prepare\n"
     ]
    },
    {
     "name": "stderr",
     "output_type": "stream",
     "text": [
      "\n",
      "preparing: 100%|##########################################################################| 1/1 [00:00<00:00, 40.96it/s]\n"
     ]
    },
    {
     "name": "stdout",
     "output_type": "stream",
     "text": [
      "f68b1b01-a5c4-46f1-b7fe-3b2b3fa13a57\n",
      "sim calculated successfully\n",
      "\n",
      "1728.125 0.002803 1611.138\n",
      "0 existing calculation records provided\n"
     ]
    },
    {
     "name": "stderr",
     "output_type": "stream",
     "text": [
      "100%|█████████████████████████████████████████████████████████████████████████████████████| 1/1 [00:00<00:00,  3.89it/s]"
     ]
    },
    {
     "name": "stdout",
     "output_type": "stream",
     "text": [
      "1 calculation combinations to check\n",
      "1 new records to prepare\n"
     ]
    },
    {
     "name": "stderr",
     "output_type": "stream",
     "text": [
      "\n",
      "preparing: 100%|##########################################################################| 1/1 [00:00<00:00, 45.06it/s]\n"
     ]
    },
    {
     "name": "stdout",
     "output_type": "stream",
     "text": [
      "240d1d70-de82-4587-b508-53df49d2b84a\n",
      "sim calculated successfully\n",
      "\n",
      "1448.438 0.4068 1431.223\n",
      "0 existing calculation records provided\n"
     ]
    },
    {
     "name": "stderr",
     "output_type": "stream",
     "text": [
      "100%|█████████████████████████████████████████████████████████████████████████████████████| 1/1 [00:00<00:00,  4.30it/s]"
     ]
    },
    {
     "name": "stdout",
     "output_type": "stream",
     "text": [
      "1 calculation combinations to check\n",
      "1 new records to prepare\n"
     ]
    },
    {
     "name": "stderr",
     "output_type": "stream",
     "text": [
      "\n",
      "preparing: 100%|##########################################################################| 1/1 [00:00<00:00, 41.22it/s]\n"
     ]
    },
    {
     "name": "stdout",
     "output_type": "stream",
     "text": [
      "d4aad980-2da4-48d3-abe3-5bd9d1a3aa09\n",
      "sim calculated successfully\n",
      "\n",
      "1448.438 0.4323 1437.158\n",
      "0 existing calculation records provided\n"
     ]
    },
    {
     "name": "stderr",
     "output_type": "stream",
     "text": [
      "100%|█████████████████████████████████████████████████████████████████████████████████████| 1/1 [00:00<00:00,  4.39it/s]"
     ]
    },
    {
     "name": "stdout",
     "output_type": "stream",
     "text": [
      "1 calculation combinations to check\n",
      "1 new records to prepare\n"
     ]
    },
    {
     "name": "stderr",
     "output_type": "stream",
     "text": [
      "\n",
      "preparing: 100%|##########################################################################| 1/1 [00:00<00:00, 46.24it/s]\n"
     ]
    },
    {
     "name": "stdout",
     "output_type": "stream",
     "text": [
      "51963d6d-77d1-441a-8b18-b6dfd690ef5e\n",
      "sim calculated successfully\n",
      "\n",
      "1448.438 0.3979 1420.553\n",
      "0 existing calculation records provided\n"
     ]
    },
    {
     "name": "stderr",
     "output_type": "stream",
     "text": [
      "100%|█████████████████████████████████████████████████████████████████████████████████████| 1/1 [00:00<00:00,  3.89it/s]"
     ]
    },
    {
     "name": "stdout",
     "output_type": "stream",
     "text": [
      "1 calculation combinations to check\n",
      "1 new records to prepare\n"
     ]
    },
    {
     "name": "stderr",
     "output_type": "stream",
     "text": [
      "\n",
      "preparing: 100%|##########################################################################| 1/1 [00:00<00:00, 75.98it/s]\n"
     ]
    },
    {
     "name": "stdout",
     "output_type": "stream",
     "text": [
      "4d2fe3ca-7e1e-411e-8d97-1a1e06c8be20\n",
      "sim calculated successfully\n",
      "\n",
      "1308.594 0.7177 1399.334\n",
      "0 existing calculation records provided\n"
     ]
    },
    {
     "name": "stderr",
     "output_type": "stream",
     "text": [
      "100%|█████████████████████████████████████████████████████████████████████████████████████| 1/1 [00:00<00:00,  3.31it/s]"
     ]
    },
    {
     "name": "stdout",
     "output_type": "stream",
     "text": [
      "1 calculation combinations to check\n",
      "1 new records to prepare\n"
     ]
    },
    {
     "name": "stderr",
     "output_type": "stream",
     "text": [
      "\n",
      "preparing: 100%|##########################################################################| 1/1 [00:00<00:00, 71.34it/s]\n"
     ]
    },
    {
     "name": "stdout",
     "output_type": "stream",
     "text": [
      "67924834-36b5-495a-82a0-77a31885810b\n",
      "sim calculated successfully\n",
      "\n",
      "1518.359 0.2025 1423.638\n",
      "0 existing calculation records provided\n"
     ]
    },
    {
     "name": "stderr",
     "output_type": "stream",
     "text": [
      "100%|█████████████████████████████████████████████████████████████████████████████████████| 1/1 [00:00<00:00,  3.46it/s]"
     ]
    },
    {
     "name": "stdout",
     "output_type": "stream",
     "text": [
      "1 calculation combinations to check\n",
      "1 new records to prepare\n"
     ]
    },
    {
     "name": "stderr",
     "output_type": "stream",
     "text": [
      "\n",
      "preparing: 100%|##########################################################################| 1/1 [00:00<00:00, 80.28it/s]\n"
     ]
    },
    {
     "name": "stdout",
     "output_type": "stream",
     "text": [
      "48c7a8a2-1127-4c63-94cd-80f5fba6910f\n",
      "sim calculated successfully\n",
      "\n",
      "1343.555 0.6864 1433.049\n",
      "0 existing calculation records provided\n"
     ]
    },
    {
     "name": "stderr",
     "output_type": "stream",
     "text": [
      "100%|█████████████████████████████████████████████████████████████████████████████████████| 1/1 [00:00<00:00,  3.30it/s]"
     ]
    },
    {
     "name": "stdout",
     "output_type": "stream",
     "text": [
      "1 calculation combinations to check\n",
      "1 new records to prepare\n"
     ]
    },
    {
     "name": "stderr",
     "output_type": "stream",
     "text": [
      "\n",
      "preparing: 100%|##########################################################################| 1/1 [00:00<00:00, 34.25it/s]\n"
     ]
    },
    {
     "name": "stdout",
     "output_type": "stream",
     "text": [
      "45bdf67e-8929-4787-adf0-8e0f6cccc435\n",
      "sim calculated successfully\n",
      "\n",
      "1430.957 0.4923 1441.017\n",
      "0 existing calculation records provided\n"
     ]
    },
    {
     "name": "stderr",
     "output_type": "stream",
     "text": [
      "100%|█████████████████████████████████████████████████████████████████████████████████████| 1/1 [00:00<00:00,  4.31it/s]"
     ]
    },
    {
     "name": "stdout",
     "output_type": "stream",
     "text": [
      "1 calculation combinations to check\n",
      "1 new records to prepare\n"
     ]
    },
    {
     "name": "stderr",
     "output_type": "stream",
     "text": [
      "\n",
      "preparing: 100%|##########################################################################| 1/1 [00:00<00:00, 44.96it/s]\n"
     ]
    },
    {
     "name": "stdout",
     "output_type": "stream",
     "text": [
      "9089ed71-3ff5-47d2-a649-e01924e37ccd\n",
      "sim calculated successfully\n",
      "\n",
      "1430.957 0.4824 1460.246\n",
      "0 existing calculation records provided\n"
     ]
    },
    {
     "name": "stderr",
     "output_type": "stream",
     "text": [
      "100%|█████████████████████████████████████████████████████████████████████████████████████| 1/1 [00:00<00:00,  4.16it/s]"
     ]
    },
    {
     "name": "stdout",
     "output_type": "stream",
     "text": [
      "1 calculation combinations to check\n",
      "1 new records to prepare\n"
     ]
    },
    {
     "name": "stderr",
     "output_type": "stream",
     "text": [
      "\n",
      "preparing: 100%|##########################################################################| 1/1 [00:00<00:00, 45.81it/s]\n"
     ]
    },
    {
     "name": "stdout",
     "output_type": "stream",
     "text": [
      "3a4d563a-c8d4-4501-8332-566bd8b06496\n",
      "sim calculated successfully\n",
      "\n",
      "1430.957 0.4908 1449.260\n",
      "0 existing calculation records provided\n"
     ]
    },
    {
     "name": "stderr",
     "output_type": "stream",
     "text": [
      "100%|█████████████████████████████████████████████████████████████████████████████████████| 1/1 [00:00<00:00,  4.56it/s]"
     ]
    },
    {
     "name": "stdout",
     "output_type": "stream",
     "text": [
      "1 calculation combinations to check\n",
      "1 new records to prepare\n"
     ]
    },
    {
     "name": "stderr",
     "output_type": "stream",
     "text": [
      "\n",
      "preparing: 100%|#########################################################################| 1/1 [00:00<00:00, 117.29it/s]\n"
     ]
    },
    {
     "name": "stdout",
     "output_type": "stream",
     "text": [
      "72b75e31-f323-40be-a34a-892093697f10\n",
      "sim calculated successfully\n",
      "\n",
      "1430.957 0.4447 1417.470\n",
      "0 existing calculation records provided\n"
     ]
    },
    {
     "name": "stderr",
     "output_type": "stream",
     "text": [
      "100%|█████████████████████████████████████████████████████████████████████████████████████| 1/1 [00:00<00:00,  3.84it/s]"
     ]
    },
    {
     "name": "stdout",
     "output_type": "stream",
     "text": [
      "1 calculation combinations to check\n",
      "1 new records to prepare\n"
     ]
    },
    {
     "name": "stderr",
     "output_type": "stream",
     "text": [
      "\n",
      "preparing: 100%|##########################################################################| 1/1 [00:00<00:00, 72.70it/s]\n"
     ]
    },
    {
     "name": "stdout",
     "output_type": "stream",
     "text": [
      "29f0fc53-0ca6-40b2-811c-d7eae48534fe\n",
      "sim calculated successfully\n",
      "\n",
      "1430.957 0.4658 1438.208\n",
      "73 2004--Zhou-X-W--Ti--LAMMPS--ipr1\n",
      "0 existing calculation records provided\n"
     ]
    },
    {
     "name": "stderr",
     "output_type": "stream",
     "text": [
      "100%|█████████████████████████████████████████████████████████████████████████████████████| 1/1 [00:00<00:00,  3.73it/s]"
     ]
    },
    {
     "name": "stdout",
     "output_type": "stream",
     "text": [
      "1 calculation combinations to check\n",
      "1 new records to prepare\n"
     ]
    },
    {
     "name": "stderr",
     "output_type": "stream",
     "text": [
      "\n",
      "preparing: 100%|##########################################################################| 1/1 [00:00<00:00, 89.62it/s]\n"
     ]
    },
    {
     "name": "stdout",
     "output_type": "stream",
     "text": [
      "223ab759-5a76-4e51-aa9f-dab88afb7ced\n",
      "sim calculated successfully\n",
      "\n",
      "4525.000 0.0 4498.952\n",
      "0 existing calculation records provided\n"
     ]
    },
    {
     "name": "stderr",
     "output_type": "stream",
     "text": [
      "100%|█████████████████████████████████████████████████████████████████████████████████████| 1/1 [00:00<00:00,  3.77it/s]"
     ]
    },
    {
     "name": "stdout",
     "output_type": "stream",
     "text": [
      "1 calculation combinations to check\n",
      "1 new records to prepare\n"
     ]
    },
    {
     "name": "stderr",
     "output_type": "stream",
     "text": [
      "\n",
      "preparing: 100%|##########################################################################| 1/1 [00:00<00:00, 76.94it/s]\n"
     ]
    },
    {
     "name": "stdout",
     "output_type": "stream",
     "text": [
      "39fa8829-5287-4894-a63e-aa68eeb7bbb0\n",
      "sim calculated successfully\n",
      "\n",
      "2287.500 0.000869 2269.787\n",
      "0 existing calculation records provided\n"
     ]
    },
    {
     "name": "stderr",
     "output_type": "stream",
     "text": [
      "100%|█████████████████████████████████████████████████████████████████████████████████████| 1/1 [00:00<00:00,  4.50it/s]"
     ]
    },
    {
     "name": "stdout",
     "output_type": "stream",
     "text": [
      "1 calculation combinations to check\n",
      "1 new records to prepare\n"
     ]
    },
    {
     "name": "stderr",
     "output_type": "stream",
     "text": [
      "\n",
      "preparing: 100%|##########################################################################| 1/1 [00:00<00:00, 46.38it/s]\n"
     ]
    },
    {
     "name": "stdout",
     "output_type": "stream",
     "text": [
      "5c4a85e5-198a-4d02-ac68-b831ea02d026\n",
      "sim calculated successfully\n",
      "\n",
      "1168.750 0.9943 1168.825\n",
      "0 existing calculation records provided\n"
     ]
    },
    {
     "name": "stderr",
     "output_type": "stream",
     "text": [
      "100%|█████████████████████████████████████████████████████████████████████████████████████| 1/1 [00:00<00:00,  4.46it/s]"
     ]
    },
    {
     "name": "stdout",
     "output_type": "stream",
     "text": [
      "1 calculation combinations to check\n",
      "1 new records to prepare\n"
     ]
    },
    {
     "name": "stderr",
     "output_type": "stream",
     "text": [
      "\n",
      "preparing: 100%|##########################################################################| 1/1 [00:00<00:00, 76.17it/s]\n"
     ]
    },
    {
     "name": "stdout",
     "output_type": "stream",
     "text": [
      "2c8fba7d-d61e-4cb8-acd3-968e2183e18d\n",
      "sim calculated successfully\n",
      "\n",
      "1728.125 0.1552 1595.045\n",
      "0 existing calculation records provided\n"
     ]
    },
    {
     "name": "stderr",
     "output_type": "stream",
     "text": [
      "100%|█████████████████████████████████████████████████████████████████████████████████████| 1/1 [00:00<00:00,  4.28it/s]"
     ]
    },
    {
     "name": "stdout",
     "output_type": "stream",
     "text": [
      "1 calculation combinations to check\n",
      "1 new records to prepare\n"
     ]
    },
    {
     "name": "stderr",
     "output_type": "stream",
     "text": [
      "\n",
      "preparing: 100%|##########################################################################| 1/1 [00:00<00:00, 79.90it/s]\n"
     ]
    },
    {
     "name": "stdout",
     "output_type": "stream",
     "text": [
      "2ebc1a11-9042-4bb8-ac89-e8d3357c59e8\n",
      "sim calculated successfully\n",
      "\n",
      "1448.438 0.8527 1586.957\n",
      "0 existing calculation records provided\n"
     ]
    },
    {
     "name": "stderr",
     "output_type": "stream",
     "text": [
      "100%|█████████████████████████████████████████████████████████████████████████████████████| 1/1 [00:00<00:00,  3.95it/s]"
     ]
    },
    {
     "name": "stdout",
     "output_type": "stream",
     "text": [
      "1 calculation combinations to check\n",
      "1 new records to prepare\n"
     ]
    },
    {
     "name": "stderr",
     "output_type": "stream",
     "text": [
      "\n",
      "preparing: 100%|##########################################################################| 1/1 [00:00<00:00, 47.18it/s]\n"
     ]
    },
    {
     "name": "stdout",
     "output_type": "stream",
     "text": [
      "1e470534-1523-4333-83e8-d00ef6fcc568\n",
      "sim calculated successfully\n",
      "\n",
      "1588.281 0.5301 1593.355\n",
      "0 existing calculation records provided\n"
     ]
    },
    {
     "name": "stderr",
     "output_type": "stream",
     "text": [
      "100%|█████████████████████████████████████████████████████████████████████████████████████| 1/1 [00:00<00:00,  4.09it/s]"
     ]
    },
    {
     "name": "stdout",
     "output_type": "stream",
     "text": [
      "1 calculation combinations to check\n",
      "1 new records to prepare\n"
     ]
    },
    {
     "name": "stderr",
     "output_type": "stream",
     "text": [
      "\n",
      "preparing: 100%|##########################################################################| 1/1 [00:00<00:00, 41.47it/s]\n"
     ]
    },
    {
     "name": "stdout",
     "output_type": "stream",
     "text": [
      "81d0c3ff-ec18-44ab-8b5f-17b48f4fb927\n",
      "sim calculated successfully\n",
      "\n",
      "1588.281 0.5398 1590.441\n",
      "0 existing calculation records provided\n"
     ]
    },
    {
     "name": "stderr",
     "output_type": "stream",
     "text": [
      "100%|█████████████████████████████████████████████████████████████████████████████████████| 1/1 [00:00<00:00,  4.18it/s]"
     ]
    },
    {
     "name": "stdout",
     "output_type": "stream",
     "text": [
      "1 calculation combinations to check\n",
      "1 new records to prepare\n"
     ]
    },
    {
     "name": "stderr",
     "output_type": "stream",
     "text": [
      "\n",
      "preparing: 100%|##########################################################################| 1/1 [00:00<00:00, 79.87it/s]\n"
     ]
    },
    {
     "name": "stdout",
     "output_type": "stream",
     "text": [
      "fd8ffdd2-e52d-4803-9c6c-c73fe35facd5\n",
      "sim calculated successfully\n",
      "\n",
      "1588.281 0.5414 1593.946\n",
      "0 existing calculation records provided\n"
     ]
    },
    {
     "name": "stderr",
     "output_type": "stream",
     "text": [
      "100%|█████████████████████████████████████████████████████████████████████████████████████| 1/1 [00:00<00:00,  4.39it/s]"
     ]
    },
    {
     "name": "stdout",
     "output_type": "stream",
     "text": [
      "1 calculation combinations to check\n",
      "1 new records to prepare\n"
     ]
    },
    {
     "name": "stderr",
     "output_type": "stream",
     "text": [
      "\n",
      "preparing: 100%|##########################################################################| 1/1 [00:00<00:00, 42.87it/s]\n"
     ]
    },
    {
     "name": "stdout",
     "output_type": "stream",
     "text": [
      "ddcbda1d-af76-41e6-ad6e-a1c7c4b549fe\n",
      "sim calculated successfully\n",
      "\n",
      "1588.281 0.5661 1593.481\n",
      "0 existing calculation records provided\n"
     ]
    },
    {
     "name": "stderr",
     "output_type": "stream",
     "text": [
      "100%|█████████████████████████████████████████████████████████████████████████████████████| 1/1 [00:00<00:00,  3.92it/s]"
     ]
    },
    {
     "name": "stdout",
     "output_type": "stream",
     "text": [
      "1 calculation combinations to check\n",
      "1 new records to prepare\n"
     ]
    },
    {
     "name": "stderr",
     "output_type": "stream",
     "text": [
      "\n",
      "preparing: 100%|##########################################################################| 1/1 [00:00<00:00, 80.01it/s]\n"
     ]
    },
    {
     "name": "stdout",
     "output_type": "stream",
     "text": [
      "9e5a4522-6dcd-43b6-bab8-aa3f7e8d72f2\n",
      "sim calculated successfully\n",
      "\n",
      "1588.281 0.5493 1586.079\n",
      "0 existing calculation records provided\n"
     ]
    },
    {
     "name": "stderr",
     "output_type": "stream",
     "text": [
      "100%|█████████████████████████████████████████████████████████████████████████████████████| 1/1 [00:00<00:00,  3.84it/s]"
     ]
    },
    {
     "name": "stdout",
     "output_type": "stream",
     "text": [
      "1 calculation combinations to check\n",
      "1 new records to prepare\n"
     ]
    },
    {
     "name": "stderr",
     "output_type": "stream",
     "text": [
      "\n",
      "preparing: 100%|##########################################################################| 1/1 [00:00<00:00, 76.98it/s]\n"
     ]
    },
    {
     "name": "stdout",
     "output_type": "stream",
     "text": [
      "c943ddae-7804-42ed-ae59-09cace4f4ded\n",
      "sim calculated successfully\n",
      "\n",
      "1588.281 0.5645 1595.576\n",
      "0 existing calculation records provided\n"
     ]
    },
    {
     "name": "stderr",
     "output_type": "stream",
     "text": [
      "100%|█████████████████████████████████████████████████████████████████████████████████████| 1/1 [00:00<00:00,  4.31it/s]"
     ]
    },
    {
     "name": "stdout",
     "output_type": "stream",
     "text": [
      "1 calculation combinations to check\n",
      "1 new records to prepare\n"
     ]
    },
    {
     "name": "stderr",
     "output_type": "stream",
     "text": [
      "\n",
      "preparing: 100%|##########################################################################| 1/1 [00:00<00:00, 46.15it/s]\n"
     ]
    },
    {
     "name": "stdout",
     "output_type": "stream",
     "text": [
      "09a15cda-71ff-4514-a3f1-7cd2fa640fac\n",
      "sim calculated successfully\n",
      "\n",
      "1588.281 0.5536 1593.603\n",
      "0 existing calculation records provided\n"
     ]
    },
    {
     "name": "stderr",
     "output_type": "stream",
     "text": [
      "100%|█████████████████████████████████████████████████████████████████████████████████████| 1/1 [00:00<00:00,  3.78it/s]"
     ]
    },
    {
     "name": "stdout",
     "output_type": "stream",
     "text": [
      "1 calculation combinations to check\n",
      "1 new records to prepare\n"
     ]
    },
    {
     "name": "stderr",
     "output_type": "stream",
     "text": [
      "\n",
      "preparing: 100%|##########################################################################| 1/1 [00:00<00:00, 74.79it/s]\n"
     ]
    },
    {
     "name": "stdout",
     "output_type": "stream",
     "text": [
      "3144a43c-cf9a-493c-aef6-8c0bb4802854\n",
      "sim calculated successfully\n",
      "\n",
      "1588.281 0.5402 1595.903\n",
      "0 existing calculation records provided\n"
     ]
    },
    {
     "name": "stderr",
     "output_type": "stream",
     "text": [
      "100%|█████████████████████████████████████████████████████████████████████████████████████| 1/1 [00:00<00:00,  4.31it/s]"
     ]
    },
    {
     "name": "stdout",
     "output_type": "stream",
     "text": [
      "1 calculation combinations to check\n",
      "1 new records to prepare\n"
     ]
    },
    {
     "name": "stderr",
     "output_type": "stream",
     "text": [
      "\n",
      "preparing: 100%|##########################################################################| 1/1 [00:00<00:00, 40.54it/s]\n"
     ]
    },
    {
     "name": "stdout",
     "output_type": "stream",
     "text": [
      "eb133ba7-c71a-4287-9ed9-b41c005ae156\n",
      "sim calculated successfully\n",
      "\n",
      "1588.281 0.5689 1598.635\n",
      "0 existing calculation records provided\n"
     ]
    },
    {
     "name": "stderr",
     "output_type": "stream",
     "text": [
      "100%|█████████████████████████████████████████████████████████████████████████████████████| 1/1 [00:00<00:00,  4.34it/s]"
     ]
    },
    {
     "name": "stdout",
     "output_type": "stream",
     "text": [
      "1 calculation combinations to check\n",
      "1 new records to prepare\n"
     ]
    },
    {
     "name": "stderr",
     "output_type": "stream",
     "text": [
      "\n",
      "preparing: 100%|##########################################################################| 1/1 [00:00<00:00, 77.12it/s]\n"
     ]
    },
    {
     "name": "stdout",
     "output_type": "stream",
     "text": [
      "c0862b12-6cfb-47a6-90a4-af219ba8a75a\n",
      "sim calculated successfully\n",
      "\n",
      "1588.281 0.5149 1579.591\n",
      "74 2004--Zhou-X-W--Zr--LAMMPS--ipr1\n",
      "0 existing calculation records provided\n"
     ]
    },
    {
     "name": "stderr",
     "output_type": "stream",
     "text": [
      "100%|█████████████████████████████████████████████████████████████████████████████████████| 1/1 [00:00<00:00,  4.32it/s]"
     ]
    },
    {
     "name": "stdout",
     "output_type": "stream",
     "text": [
      "1 calculation combinations to check\n",
      "1 new records to prepare\n"
     ]
    },
    {
     "name": "stderr",
     "output_type": "stream",
     "text": [
      "\n",
      "preparing: 100%|##########################################################################| 1/1 [00:00<00:00, 48.77it/s]\n"
     ]
    },
    {
     "name": "stdout",
     "output_type": "stream",
     "text": [
      "35a40113-f09c-497d-8c7c-0aba491b25e8\n",
      "sim calculated successfully\n",
      "\n",
      "4525.000 2.069e-05 4515.542\n",
      "0 existing calculation records provided\n"
     ]
    },
    {
     "name": "stderr",
     "output_type": "stream",
     "text": [
      "100%|█████████████████████████████████████████████████████████████████████████████████████| 1/1 [00:00<00:00,  3.99it/s]"
     ]
    },
    {
     "name": "stdout",
     "output_type": "stream",
     "text": [
      "1 calculation combinations to check\n",
      "1 new records to prepare\n"
     ]
    },
    {
     "name": "stderr",
     "output_type": "stream",
     "text": [
      "\n",
      "preparing: 100%|##########################################################################| 1/1 [00:00<00:00, 74.90it/s]\n"
     ]
    },
    {
     "name": "stdout",
     "output_type": "stream",
     "text": [
      "bcd06338-010b-42c2-ac14-508c8015c742\n",
      "sim calculated successfully\n",
      "\n",
      "2287.500 0.001697 2171.093\n",
      "0 existing calculation records provided\n"
     ]
    },
    {
     "name": "stderr",
     "output_type": "stream",
     "text": [
      "100%|█████████████████████████████████████████████████████████████████████████████████████| 1/1 [00:00<00:00,  4.10it/s]"
     ]
    },
    {
     "name": "stdout",
     "output_type": "stream",
     "text": [
      "1 calculation combinations to check\n",
      "1 new records to prepare\n"
     ]
    },
    {
     "name": "stderr",
     "output_type": "stream",
     "text": [
      "\n",
      "preparing: 100%|##########################################################################| 1/1 [00:00<00:00, 44.38it/s]\n"
     ]
    },
    {
     "name": "stdout",
     "output_type": "stream",
     "text": [
      "499c8771-4a5a-4a41-b92c-d14c4c3daa6d\n",
      "sim calculated successfully\n",
      "\n",
      "1168.750 0.998 1167.604\n",
      "0 existing calculation records provided\n"
     ]
    },
    {
     "name": "stderr",
     "output_type": "stream",
     "text": [
      "100%|█████████████████████████████████████████████████████████████████████████████████████| 1/1 [00:00<00:00,  4.30it/s]"
     ]
    },
    {
     "name": "stdout",
     "output_type": "stream",
     "text": [
      "1 calculation combinations to check\n",
      "1 new records to prepare\n"
     ]
    },
    {
     "name": "stderr",
     "output_type": "stream",
     "text": [
      "\n",
      "preparing: 100%|##########################################################################| 1/1 [00:00<00:00, 76.49it/s]\n"
     ]
    },
    {
     "name": "stdout",
     "output_type": "stream",
     "text": [
      "3a6997d3-49fd-4d7d-9f62-7c8fe8401837\n",
      "sim calculated successfully\n",
      "\n",
      "1728.125 0.6287 1776.128\n",
      "0 existing calculation records provided\n"
     ]
    },
    {
     "name": "stderr",
     "output_type": "stream",
     "text": [
      "100%|█████████████████████████████████████████████████████████████████████████████████████| 1/1 [00:00<00:00,  4.34it/s]"
     ]
    },
    {
     "name": "stdout",
     "output_type": "stream",
     "text": [
      "1 calculation combinations to check\n",
      "1 new records to prepare\n"
     ]
    },
    {
     "name": "stderr",
     "output_type": "stream",
     "text": [
      "\n",
      "preparing: 100%|##########################################################################| 1/1 [00:00<00:00, 62.33it/s]\n"
     ]
    },
    {
     "name": "stdout",
     "output_type": "stream",
     "text": [
      "75bdb085-71f4-4dfe-a7d0-ce8824be0c6c\n",
      "sim calculated successfully\n",
      "\n",
      "2007.812 0.004459 1784.721\n",
      "0 existing calculation records provided\n"
     ]
    },
    {
     "name": "stderr",
     "output_type": "stream",
     "text": [
      "100%|█████████████████████████████████████████████████████████████████████████████████████| 1/1 [00:00<00:00,  3.99it/s]"
     ]
    },
    {
     "name": "stdout",
     "output_type": "stream",
     "text": [
      "1 calculation combinations to check\n",
      "1 new records to prepare\n"
     ]
    },
    {
     "name": "stderr",
     "output_type": "stream",
     "text": [
      "\n",
      "preparing: 100%|##########################################################################| 1/1 [00:00<00:00, 45.79it/s]\n"
     ]
    },
    {
     "name": "stdout",
     "output_type": "stream",
     "text": [
      "4c2c9585-45a5-46fb-8778-2200a006cb40\n",
      "sim calculated successfully\n",
      "\n",
      "1588.281 0.7938 1727.444\n",
      "0 existing calculation records provided\n"
     ]
    },
    {
     "name": "stderr",
     "output_type": "stream",
     "text": [
      "100%|█████████████████████████████████████████████████████████████████████████████████████| 1/1 [00:00<00:00,  4.43it/s]"
     ]
    },
    {
     "name": "stdout",
     "output_type": "stream",
     "text": [
      "1 calculation combinations to check\n",
      "1 new records to prepare\n"
     ]
    },
    {
     "name": "stderr",
     "output_type": "stream",
     "text": [
      "\n",
      "preparing: 100%|##########################################################################| 1/1 [00:00<00:00, 47.03it/s]\n"
     ]
    },
    {
     "name": "stdout",
     "output_type": "stream",
     "text": [
      "4e356845-8b67-4a28-8e51-2b512d70a269\n",
      "sim calculated successfully\n",
      "\n",
      "1798.047 0.465 1773.598\n",
      "0 existing calculation records provided\n"
     ]
    },
    {
     "name": "stderr",
     "output_type": "stream",
     "text": [
      "100%|█████████████████████████████████████████████████████████████████████████████████████| 1/1 [00:00<00:00,  4.16it/s]"
     ]
    },
    {
     "name": "stdout",
     "output_type": "stream",
     "text": [
      "1 calculation combinations to check\n",
      "1 new records to prepare\n"
     ]
    },
    {
     "name": "stderr",
     "output_type": "stream",
     "text": [
      "\n",
      "preparing: 100%|##########################################################################| 1/1 [00:00<00:00, 45.51it/s]\n"
     ]
    },
    {
     "name": "stdout",
     "output_type": "stream",
     "text": [
      "3d71149c-2b93-47ef-b633-667bf7e2518a\n",
      "sim calculated successfully\n",
      "\n",
      "1798.047 0.491 1775.440\n",
      "0 existing calculation records provided\n"
     ]
    },
    {
     "name": "stderr",
     "output_type": "stream",
     "text": [
      "100%|█████████████████████████████████████████████████████████████████████████████████████| 1/1 [00:00<00:00,  2.92it/s]"
     ]
    },
    {
     "name": "stdout",
     "output_type": "stream",
     "text": [
      "1 calculation combinations to check\n",
      "1 new records to prepare\n"
     ]
    },
    {
     "name": "stderr",
     "output_type": "stream",
     "text": [
      "\n",
      "preparing: 100%|##########################################################################| 1/1 [00:00<00:00, 72.90it/s]\n"
     ]
    },
    {
     "name": "stdout",
     "output_type": "stream",
     "text": [
      "94466f31-f88b-4a6e-879a-8ba743b24ebb\n",
      "sim calculated successfully\n",
      "\n",
      "1798.047 0.5118 1788.573\n",
      "0 existing calculation records provided\n"
     ]
    },
    {
     "name": "stderr",
     "output_type": "stream",
     "text": [
      "100%|█████████████████████████████████████████████████████████████████████████████████████| 1/1 [00:00<00:00,  3.68it/s]"
     ]
    },
    {
     "name": "stdout",
     "output_type": "stream",
     "text": [
      "1 calculation combinations to check\n",
      "1 new records to prepare\n"
     ]
    },
    {
     "name": "stderr",
     "output_type": "stream",
     "text": [
      "\n",
      "preparing: 100%|##########################################################################| 1/1 [00:00<00:00, 57.81it/s]\n"
     ]
    },
    {
     "name": "stdout",
     "output_type": "stream",
     "text": [
      "c89024aa-4016-47e2-a14e-6e86f408d5ab\n",
      "sim calculated successfully\n",
      "\n",
      "1798.047 0.4915 1773.210\n",
      "0 existing calculation records provided\n"
     ]
    },
    {
     "name": "stderr",
     "output_type": "stream",
     "text": [
      "100%|█████████████████████████████████████████████████████████████████████████████████████| 1/1 [00:00<00:00,  3.04it/s]"
     ]
    },
    {
     "name": "stdout",
     "output_type": "stream",
     "text": [
      "1 calculation combinations to check\n",
      "1 new records to prepare\n"
     ]
    },
    {
     "name": "stderr",
     "output_type": "stream",
     "text": [
      "\n",
      "preparing: 100%|##########################################################################| 1/1 [00:00<00:00, 71.39it/s]\n"
     ]
    },
    {
     "name": "stdout",
     "output_type": "stream",
     "text": [
      "54662f2f-a29c-4449-9c92-8e479c0c1574\n",
      "sim calculated successfully\n",
      "\n",
      "1798.047 0.4849 1780.722\n",
      "0 existing calculation records provided\n"
     ]
    },
    {
     "name": "stderr",
     "output_type": "stream",
     "text": [
      "100%|█████████████████████████████████████████████████████████████████████████████████████| 1/1 [00:00<00:00,  4.21it/s]"
     ]
    },
    {
     "name": "stdout",
     "output_type": "stream",
     "text": [
      "1 calculation combinations to check\n",
      "1 new records to prepare\n"
     ]
    },
    {
     "name": "stderr",
     "output_type": "stream",
     "text": [
      "\n",
      "preparing: 100%|##########################################################################| 1/1 [00:00<00:00, 85.38it/s]\n"
     ]
    },
    {
     "name": "stdout",
     "output_type": "stream",
     "text": [
      "8c5da84c-8ea7-42e4-8ebf-1cc478a676d6\n",
      "sim calculated successfully\n",
      "\n",
      "1798.047 0.4874 1775.529\n",
      "0 existing calculation records provided\n"
     ]
    },
    {
     "name": "stderr",
     "output_type": "stream",
     "text": [
      "100%|█████████████████████████████████████████████████████████████████████████████████████| 1/1 [00:00<00:00,  3.88it/s]"
     ]
    },
    {
     "name": "stdout",
     "output_type": "stream",
     "text": [
      "1 calculation combinations to check\n",
      "1 new records to prepare\n"
     ]
    },
    {
     "name": "stderr",
     "output_type": "stream",
     "text": [
      "\n",
      "preparing: 100%|##########################################################################| 1/1 [00:00<00:00, 76.37it/s]\n"
     ]
    },
    {
     "name": "stdout",
     "output_type": "stream",
     "text": [
      "d25cddf4-6b63-4edc-85db-d0a20b758a8f\n",
      "sim calculated successfully\n",
      "\n",
      "1798.047 0.4996 1781.826\n",
      "0 existing calculation records provided\n"
     ]
    },
    {
     "name": "stderr",
     "output_type": "stream",
     "text": [
      "100%|█████████████████████████████████████████████████████████████████████████████████████| 1/1 [00:00<00:00,  3.35it/s]"
     ]
    },
    {
     "name": "stdout",
     "output_type": "stream",
     "text": [
      "1 calculation combinations to check\n",
      "1 new records to prepare\n"
     ]
    },
    {
     "name": "stderr",
     "output_type": "stream",
     "text": [
      "\n",
      "preparing: 100%|##########################################################################| 1/1 [00:00<00:00, 78.29it/s]\n"
     ]
    },
    {
     "name": "stdout",
     "output_type": "stream",
     "text": [
      "a095f7b4-d951-4d3a-b039-662edbc25161\n",
      "sim calculated successfully\n",
      "\n",
      "1798.047 0.4933 1780.442\n",
      "0 existing calculation records provided\n"
     ]
    },
    {
     "name": "stderr",
     "output_type": "stream",
     "text": [
      "100%|█████████████████████████████████████████████████████████████████████████████████████| 1/1 [00:00<00:00,  3.97it/s]"
     ]
    },
    {
     "name": "stdout",
     "output_type": "stream",
     "text": [
      "1 calculation combinations to check\n",
      "1 new records to prepare\n"
     ]
    },
    {
     "name": "stderr",
     "output_type": "stream",
     "text": [
      "\n",
      "preparing: 100%|##########################################################################| 1/1 [00:00<00:00, 78.95it/s]\n"
     ]
    },
    {
     "name": "stdout",
     "output_type": "stream",
     "text": [
      "e428c186-4f98-40e2-b6f2-2192af6a945b\n",
      "sim calculated successfully\n",
      "\n",
      "1798.047 0.5113 1781.988\n",
      "75 2004--Zhou-X-W--Zr--LAMMPS--ipr2\n",
      "0 existing calculation records provided\n"
     ]
    },
    {
     "name": "stderr",
     "output_type": "stream",
     "text": [
      "100%|█████████████████████████████████████████████████████████████████████████████████████| 1/1 [00:00<00:00,  3.31it/s]"
     ]
    },
    {
     "name": "stdout",
     "output_type": "stream",
     "text": [
      "1 calculation combinations to check\n",
      "1 new records to prepare\n"
     ]
    },
    {
     "name": "stderr",
     "output_type": "stream",
     "text": [
      "\n",
      "preparing: 100%|##########################################################################| 1/1 [00:00<00:00, 76.16it/s]\n"
     ]
    },
    {
     "name": "stdout",
     "output_type": "stream",
     "text": [
      "a9c637de-aab4-4783-9409-36ec3595e2f4\n",
      "sim calculated successfully\n",
      "\n",
      "4525.000 4.138e-05 4486.556\n",
      "0 existing calculation records provided\n"
     ]
    },
    {
     "name": "stderr",
     "output_type": "stream",
     "text": [
      "100%|█████████████████████████████████████████████████████████████████████████████████████| 1/1 [00:00<00:00,  3.01it/s]"
     ]
    },
    {
     "name": "stdout",
     "output_type": "stream",
     "text": [
      "1 calculation combinations to check\n",
      "1 new records to prepare\n"
     ]
    },
    {
     "name": "stderr",
     "output_type": "stream",
     "text": [
      "\n",
      "preparing: 100%|##########################################################################| 1/1 [00:00<00:00, 72.32it/s]\n"
     ]
    },
    {
     "name": "stdout",
     "output_type": "stream",
     "text": [
      "4d06fe54-ca64-4bc1-b9ed-d90b974791c4\n",
      "sim calculated successfully\n",
      "\n",
      "2287.500 0.001852 2168.515\n",
      "0 existing calculation records provided\n"
     ]
    },
    {
     "name": "stderr",
     "output_type": "stream",
     "text": [
      "100%|█████████████████████████████████████████████████████████████████████████████████████| 1/1 [00:00<00:00,  3.79it/s]"
     ]
    },
    {
     "name": "stdout",
     "output_type": "stream",
     "text": [
      "1 calculation combinations to check\n",
      "1 new records to prepare\n"
     ]
    },
    {
     "name": "stderr",
     "output_type": "stream",
     "text": [
      "\n",
      "preparing: 100%|##########################################################################| 1/1 [00:00<00:00, 39.72it/s]\n"
     ]
    },
    {
     "name": "stdout",
     "output_type": "stream",
     "text": [
      "ff5d9bf6-4111-4562-81a1-599fa05c3e94\n",
      "sim calculated successfully\n",
      "\n",
      "1168.750 0.9977 1167.406\n",
      "0 existing calculation records provided\n"
     ]
    },
    {
     "name": "stderr",
     "output_type": "stream",
     "text": [
      "100%|█████████████████████████████████████████████████████████████████████████████████████| 1/1 [00:00<00:00,  3.97it/s]"
     ]
    },
    {
     "name": "stdout",
     "output_type": "stream",
     "text": [
      "1 calculation combinations to check\n",
      "1 new records to prepare\n"
     ]
    },
    {
     "name": "stderr",
     "output_type": "stream",
     "text": [
      "\n",
      "preparing: 100%|##########################################################################| 1/1 [00:00<00:00, 45.51it/s]\n"
     ]
    },
    {
     "name": "stdout",
     "output_type": "stream",
     "text": [
      "9ac23ca0-e567-43c0-8168-32c2a1c83716\n",
      "sim calculated successfully\n",
      "\n",
      "1728.125 0.6408 1779.159\n",
      "0 existing calculation records provided\n"
     ]
    },
    {
     "name": "stderr",
     "output_type": "stream",
     "text": [
      "100%|█████████████████████████████████████████████████████████████████████████████████████| 1/1 [00:00<00:00,  4.01it/s]"
     ]
    },
    {
     "name": "stdout",
     "output_type": "stream",
     "text": [
      "1 calculation combinations to check\n",
      "1 new records to prepare\n"
     ]
    },
    {
     "name": "stderr",
     "output_type": "stream",
     "text": [
      "\n",
      "preparing: 100%|##########################################################################| 1/1 [00:00<00:00, 75.02it/s]\n"
     ]
    },
    {
     "name": "stdout",
     "output_type": "stream",
     "text": [
      "3e822e17-2816-429c-ac28-b47230024af3\n",
      "sim calculated successfully\n",
      "\n",
      "2007.812 0.004283 1791.028\n",
      "0 existing calculation records provided\n"
     ]
    },
    {
     "name": "stderr",
     "output_type": "stream",
     "text": [
      "100%|█████████████████████████████████████████████████████████████████████████████████████| 1/1 [00:00<00:00,  3.85it/s]"
     ]
    },
    {
     "name": "stdout",
     "output_type": "stream",
     "text": [
      "1 calculation combinations to check\n",
      "1 new records to prepare\n"
     ]
    },
    {
     "name": "stderr",
     "output_type": "stream",
     "text": [
      "\n",
      "preparing: 100%|##########################################################################| 1/1 [00:00<00:00, 79.04it/s]\n"
     ]
    },
    {
     "name": "stdout",
     "output_type": "stream",
     "text": [
      "c8289c34-1a57-410a-ac01-93463f004d9e\n",
      "sim calculated successfully\n",
      "\n",
      "1588.281 0.9117 1696.211\n",
      "0 existing calculation records provided\n"
     ]
    },
    {
     "name": "stderr",
     "output_type": "stream",
     "text": [
      "100%|█████████████████████████████████████████████████████████████████████████████████████| 1/1 [00:00<00:00,  3.95it/s]"
     ]
    },
    {
     "name": "stdout",
     "output_type": "stream",
     "text": [
      "1 calculation combinations to check\n",
      "1 new records to prepare\n"
     ]
    },
    {
     "name": "stderr",
     "output_type": "stream",
     "text": [
      "\n",
      "preparing: 100%|##########################################################################| 1/1 [00:00<00:00, 40.55it/s]\n"
     ]
    },
    {
     "name": "stdout",
     "output_type": "stream",
     "text": [
      "cbc9cc9a-fcca-47dc-b904-219c2f22fa12\n",
      "sim calculated successfully\n",
      "\n",
      "1798.047 0.4981 1770.939\n",
      "0 existing calculation records provided\n"
     ]
    },
    {
     "name": "stderr",
     "output_type": "stream",
     "text": [
      "100%|█████████████████████████████████████████████████████████████████████████████████████| 1/1 [00:00<00:00,  3.77it/s]"
     ]
    },
    {
     "name": "stdout",
     "output_type": "stream",
     "text": [
      "1 calculation combinations to check\n",
      "1 new records to prepare\n"
     ]
    },
    {
     "name": "stderr",
     "output_type": "stream",
     "text": [
      "\n",
      "preparing: 100%|##########################################################################| 1/1 [00:00<00:00, 73.43it/s]\n"
     ]
    },
    {
     "name": "stdout",
     "output_type": "stream",
     "text": [
      "00ee74b8-3d16-4c2b-b8e0-07f8ad2bbbf8\n",
      "sim calculated successfully\n",
      "\n",
      "1798.047 0.5263 1799.373\n",
      "0 existing calculation records provided\n"
     ]
    },
    {
     "name": "stderr",
     "output_type": "stream",
     "text": [
      "100%|█████████████████████████████████████████████████████████████████████████████████████| 1/1 [00:00<00:00,  3.81it/s]"
     ]
    },
    {
     "name": "stdout",
     "output_type": "stream",
     "text": [
      "1 calculation combinations to check\n",
      "1 new records to prepare\n"
     ]
    },
    {
     "name": "stderr",
     "output_type": "stream",
     "text": [
      "\n",
      "preparing: 100%|##########################################################################| 1/1 [00:00<00:00, 75.93it/s]\n"
     ]
    },
    {
     "name": "stdout",
     "output_type": "stream",
     "text": [
      "5f1189dc-6d94-450a-9cea-815b3a4004cc\n",
      "sim calculated successfully\n",
      "\n",
      "1798.047 0.4794 1771.452\n",
      "0 existing calculation records provided\n"
     ]
    },
    {
     "name": "stderr",
     "output_type": "stream",
     "text": [
      "100%|█████████████████████████████████████████████████████████████████████████████████████| 1/1 [00:00<00:00,  3.96it/s]"
     ]
    },
    {
     "name": "stdout",
     "output_type": "stream",
     "text": [
      "1 calculation combinations to check\n",
      "1 new records to prepare\n"
     ]
    },
    {
     "name": "stderr",
     "output_type": "stream",
     "text": [
      "\n",
      "preparing: 100%|##########################################################################| 1/1 [00:00<00:00, 81.17it/s]\n"
     ]
    },
    {
     "name": "stdout",
     "output_type": "stream",
     "text": [
      "96ff114c-70f6-4715-954a-e5ec5eed2253\n",
      "sim calculated successfully\n",
      "\n",
      "1798.047 0.4992 1786.258\n",
      "0 existing calculation records provided\n"
     ]
    },
    {
     "name": "stderr",
     "output_type": "stream",
     "text": [
      "100%|█████████████████████████████████████████████████████████████████████████████████████| 1/1 [00:00<00:00,  3.88it/s]"
     ]
    },
    {
     "name": "stdout",
     "output_type": "stream",
     "text": [
      "1 calculation combinations to check\n",
      "1 new records to prepare\n"
     ]
    },
    {
     "name": "stderr",
     "output_type": "stream",
     "text": [
      "\n",
      "preparing: 100%|##########################################################################| 1/1 [00:00<00:00, 77.10it/s]\n"
     ]
    },
    {
     "name": "stdout",
     "output_type": "stream",
     "text": [
      "b99cfd5b-0efa-431b-9f26-137782de0849\n",
      "sim calculated successfully\n",
      "\n",
      "1798.047 0.5096 1782.061\n",
      "0 existing calculation records provided\n"
     ]
    },
    {
     "name": "stderr",
     "output_type": "stream",
     "text": [
      "100%|█████████████████████████████████████████████████████████████████████████████████████| 1/1 [00:00<00:00,  3.88it/s]"
     ]
    },
    {
     "name": "stdout",
     "output_type": "stream",
     "text": [
      "1 calculation combinations to check\n",
      "1 new records to prepare\n"
     ]
    },
    {
     "name": "stderr",
     "output_type": "stream",
     "text": [
      "\n",
      "preparing: 100%|##########################################################################| 1/1 [00:00<00:00, 77.60it/s]\n"
     ]
    },
    {
     "name": "stdout",
     "output_type": "stream",
     "text": [
      "ee5847de-ad05-4263-9068-9ae1bb7393e9\n",
      "sim calculated successfully\n",
      "\n",
      "1798.047 0.4912 1772.737\n",
      "0 existing calculation records provided\n"
     ]
    },
    {
     "name": "stderr",
     "output_type": "stream",
     "text": [
      "100%|█████████████████████████████████████████████████████████████████████████████████████| 1/1 [00:00<00:00,  4.27it/s]"
     ]
    },
    {
     "name": "stdout",
     "output_type": "stream",
     "text": [
      "1 calculation combinations to check\n",
      "1 new records to prepare\n"
     ]
    },
    {
     "name": "stderr",
     "output_type": "stream",
     "text": [
      "\n",
      "preparing: 100%|##########################################################################| 1/1 [00:00<00:00, 41.47it/s]\n"
     ]
    },
    {
     "name": "stdout",
     "output_type": "stream",
     "text": [
      "038e4405-ef0b-4766-acdc-c320d2e50c22\n",
      "sim calculated successfully\n",
      "\n",
      "1798.047 0.4789 1783.473\n",
      "0 existing calculation records provided\n"
     ]
    },
    {
     "name": "stderr",
     "output_type": "stream",
     "text": [
      "100%|█████████████████████████████████████████████████████████████████████████████████████| 1/1 [00:00<00:00,  4.17it/s]"
     ]
    },
    {
     "name": "stdout",
     "output_type": "stream",
     "text": [
      "1 calculation combinations to check\n",
      "1 new records to prepare\n"
     ]
    },
    {
     "name": "stderr",
     "output_type": "stream",
     "text": [
      "\n",
      "preparing: 100%|##########################################################################| 1/1 [00:00<00:00, 74.11it/s]\n"
     ]
    },
    {
     "name": "stdout",
     "output_type": "stream",
     "text": [
      "6a0fb61d-809b-40ff-b558-8de67af761e8\n",
      "sim calculated successfully\n",
      "\n",
      "1798.047 0.4891 1778.126\n",
      "0 existing calculation records provided\n"
     ]
    },
    {
     "name": "stderr",
     "output_type": "stream",
     "text": [
      "100%|█████████████████████████████████████████████████████████████████████████████████████| 1/1 [00:00<00:00,  3.28it/s]"
     ]
    },
    {
     "name": "stdout",
     "output_type": "stream",
     "text": [
      "1 calculation combinations to check\n",
      "1 new records to prepare\n"
     ]
    },
    {
     "name": "stderr",
     "output_type": "stream",
     "text": [
      "\n",
      "preparing: 100%|##########################################################################| 1/1 [00:00<00:00, 76.25it/s]\n"
     ]
    },
    {
     "name": "stdout",
     "output_type": "stream",
     "text": [
      "09673c8b-7171-497c-be4d-92226306a01d\n",
      "sim calculated successfully\n",
      "\n",
      "1798.047 0.4711 1773.073\n",
      "76 2005--Grochola-G--Au--LAMMPS--ipr1\n",
      "0 existing calculation records provided\n"
     ]
    },
    {
     "name": "stderr",
     "output_type": "stream",
     "text": [
      "100%|█████████████████████████████████████████████████████████████████████████████████████| 1/1 [00:00<00:00,  3.45it/s]"
     ]
    },
    {
     "name": "stdout",
     "output_type": "stream",
     "text": [
      "1 calculation combinations to check\n",
      "1 new records to prepare\n"
     ]
    },
    {
     "name": "stderr",
     "output_type": "stream",
     "text": [
      "\n",
      "preparing: 100%|##########################################################################| 1/1 [00:00<00:00, 64.97it/s]\n"
     ]
    },
    {
     "name": "stdout",
     "output_type": "stream",
     "text": [
      "530ab008-23a2-4d87-a06e-6dda77c23251\n",
      "sim calculated successfully\n",
      "\n",
      "4525.000 2.069e-05 4516.444\n",
      "0 existing calculation records provided\n"
     ]
    },
    {
     "name": "stderr",
     "output_type": "stream",
     "text": [
      "100%|█████████████████████████████████████████████████████████████████████████████████████| 1/1 [00:00<00:00,  3.36it/s]"
     ]
    },
    {
     "name": "stdout",
     "output_type": "stream",
     "text": [
      "1 calculation combinations to check\n",
      "1 new records to prepare\n"
     ]
    },
    {
     "name": "stderr",
     "output_type": "stream",
     "text": [
      "\n",
      "preparing: 100%|##########################################################################| 1/1 [00:00<00:00, 55.79it/s]\n"
     ]
    },
    {
     "name": "stdout",
     "output_type": "stream",
     "text": [
      "82b0d303-2ac0-444a-8f89-cc8de52fb454\n",
      "sim calculated successfully\n",
      "\n",
      "2287.500 0.0002172 2274.163\n",
      "0 existing calculation records provided\n"
     ]
    },
    {
     "name": "stderr",
     "output_type": "stream",
     "text": [
      "100%|█████████████████████████████████████████████████████████████████████████████████████| 1/1 [00:00<00:00,  3.98it/s]"
     ]
    },
    {
     "name": "stdout",
     "output_type": "stream",
     "text": [
      "1 calculation combinations to check\n",
      "1 new records to prepare\n"
     ]
    },
    {
     "name": "stderr",
     "output_type": "stream",
     "text": [
      "\n",
      "preparing: 100%|##########################################################################| 1/1 [00:00<00:00, 74.80it/s]\n"
     ]
    },
    {
     "name": "stdout",
     "output_type": "stream",
     "text": [
      "575ce1b7-78bd-49cf-ba98-2ddb0185de5e\n",
      "sim calculated successfully\n",
      "\n",
      "1168.750 0.3606 1129.310\n",
      "0 existing calculation records provided\n"
     ]
    },
    {
     "name": "stderr",
     "output_type": "stream",
     "text": [
      "100%|█████████████████████████████████████████████████████████████████████████████████████| 1/1 [00:00<00:00,  3.57it/s]"
     ]
    },
    {
     "name": "stdout",
     "output_type": "stream",
     "text": [
      "1 calculation combinations to check\n",
      "1 new records to prepare\n"
     ]
    },
    {
     "name": "stderr",
     "output_type": "stream",
     "text": [
      "\n",
      "preparing: 100%|##########################################################################| 1/1 [00:00<00:00, 57.26it/s]\n"
     ]
    },
    {
     "name": "stdout",
     "output_type": "stream",
     "text": [
      "29ce14dd-8ac6-4b62-b4a6-9e70cdd5259a\n",
      "sim calculated successfully\n",
      "\n",
      "609.375 0.9999 607.789\n",
      "0 existing calculation records provided\n"
     ]
    },
    {
     "name": "stderr",
     "output_type": "stream",
     "text": [
      "100%|█████████████████████████████████████████████████████████████████████████████████████| 1/1 [00:00<00:00,  3.37it/s]"
     ]
    },
    {
     "name": "stdout",
     "output_type": "stream",
     "text": [
      "1 calculation combinations to check\n",
      "1 new records to prepare\n"
     ]
    },
    {
     "name": "stderr",
     "output_type": "stream",
     "text": [
      "\n",
      "preparing: 100%|##########################################################################| 1/1 [00:00<00:00, 58.01it/s]\n"
     ]
    },
    {
     "name": "stdout",
     "output_type": "stream",
     "text": [
      "a208b693-5b48-4df7-97e6-a0d0822d5d1d\n",
      "sim calculated successfully\n",
      "\n",
      "1448.438 0.00239 1356.922\n",
      "0 existing calculation records provided\n"
     ]
    },
    {
     "name": "stderr",
     "output_type": "stream",
     "text": [
      "100%|█████████████████████████████████████████████████████████████████████████████████████| 1/1 [00:00<00:00,  3.88it/s]"
     ]
    },
    {
     "name": "stdout",
     "output_type": "stream",
     "text": [
      "1 calculation combinations to check\n",
      "1 new records to prepare\n"
     ]
    },
    {
     "name": "stderr",
     "output_type": "stream",
     "text": [
      "\n",
      "preparing: 100%|##########################################################################| 1/1 [00:00<00:00, 58.44it/s]\n"
     ]
    },
    {
     "name": "stdout",
     "output_type": "stream",
     "text": [
      "8d4751a3-1225-46c4-b82b-45a3d1af5942\n",
      "sim calculated successfully\n",
      "\n",
      "1028.906 0.9604 1045.872\n",
      "0 existing calculation records provided\n"
     ]
    },
    {
     "name": "stderr",
     "output_type": "stream",
     "text": [
      "100%|█████████████████████████████████████████████████████████████████████████████████████| 1/1 [00:00<00:00,  3.85it/s]"
     ]
    },
    {
     "name": "stdout",
     "output_type": "stream",
     "text": [
      "1 calculation combinations to check\n",
      "1 new records to prepare\n"
     ]
    },
    {
     "name": "stderr",
     "output_type": "stream",
     "text": [
      "\n",
      "preparing: 100%|##########################################################################| 1/1 [00:00<00:00, 39.47it/s]\n"
     ]
    },
    {
     "name": "stdout",
     "output_type": "stream",
     "text": [
      "b6d965ad-d421-47b0-92ff-0efb5b84d491\n",
      "sim calculated successfully\n",
      "\n",
      "1238.672 0.1316 1140.894\n",
      "0 existing calculation records provided\n"
     ]
    },
    {
     "name": "stderr",
     "output_type": "stream",
     "text": [
      "100%|█████████████████████████████████████████████████████████████████████████████████████| 1/1 [00:00<00:00,  3.89it/s]"
     ]
    },
    {
     "name": "stdout",
     "output_type": "stream",
     "text": [
      "1 calculation combinations to check\n",
      "1 new records to prepare\n"
     ]
    },
    {
     "name": "stderr",
     "output_type": "stream",
     "text": [
      "\n",
      "preparing: 100%|##########################################################################| 1/1 [00:00<00:00, 38.35it/s]\n"
     ]
    },
    {
     "name": "stdout",
     "output_type": "stream",
     "text": [
      "01b67ae5-cbed-4b94-a7b7-b7619dd752ef\n",
      "sim calculated successfully\n",
      "\n",
      "1133.789 0.4824 1130.538\n",
      "0 existing calculation records provided\n"
     ]
    },
    {
     "name": "stderr",
     "output_type": "stream",
     "text": [
      "100%|█████████████████████████████████████████████████████████████████████████████████████| 1/1 [00:00<00:00,  3.96it/s]"
     ]
    },
    {
     "name": "stdout",
     "output_type": "stream",
     "text": [
      "1 calculation combinations to check\n",
      "1 new records to prepare\n"
     ]
    },
    {
     "name": "stderr",
     "output_type": "stream",
     "text": [
      "\n",
      "preparing: 100%|##########################################################################| 1/1 [00:00<00:00, 59.53it/s]\n"
     ]
    },
    {
     "name": "stdout",
     "output_type": "stream",
     "text": [
      "e5665aa9-8790-48a3-ae68-839a0525772b\n",
      "sim calculated successfully\n",
      "\n",
      "1133.789 0.5239 1135.707\n",
      "0 existing calculation records provided\n"
     ]
    },
    {
     "name": "stderr",
     "output_type": "stream",
     "text": [
      "100%|█████████████████████████████████████████████████████████████████████████████████████| 1/1 [00:00<00:00,  3.91it/s]"
     ]
    },
    {
     "name": "stdout",
     "output_type": "stream",
     "text": [
      "1 calculation combinations to check\n",
      "1 new records to prepare\n"
     ]
    },
    {
     "name": "stderr",
     "output_type": "stream",
     "text": [
      "\n",
      "preparing: 100%|##########################################################################| 1/1 [00:00<00:00, 39.73it/s]\n"
     ]
    },
    {
     "name": "stdout",
     "output_type": "stream",
     "text": [
      "e472db45-1ce6-4070-ba83-76ae8368840e\n",
      "sim calculated successfully\n",
      "\n",
      "1133.789 0.4806 1126.524\n",
      "0 existing calculation records provided\n"
     ]
    },
    {
     "name": "stderr",
     "output_type": "stream",
     "text": [
      "100%|█████████████████████████████████████████████████████████████████████████████████████| 1/1 [00:00<00:00,  3.90it/s]"
     ]
    },
    {
     "name": "stdout",
     "output_type": "stream",
     "text": [
      "1 calculation combinations to check\n",
      "1 new records to prepare\n"
     ]
    },
    {
     "name": "stderr",
     "output_type": "stream",
     "text": [
      "\n",
      "preparing: 100%|##########################################################################| 1/1 [00:00<00:00, 38.80it/s]\n"
     ]
    },
    {
     "name": "stdout",
     "output_type": "stream",
     "text": [
      "378866b3-9d3e-4a06-8fec-c9e21726b590\n",
      "sim calculated successfully\n",
      "\n",
      "1133.789 0.4779 1124.044\n",
      "0 existing calculation records provided\n"
     ]
    },
    {
     "name": "stderr",
     "output_type": "stream",
     "text": [
      "100%|█████████████████████████████████████████████████████████████████████████████████████| 1/1 [00:00<00:00,  3.70it/s]"
     ]
    },
    {
     "name": "stdout",
     "output_type": "stream",
     "text": [
      "1 calculation combinations to check\n",
      "1 new records to prepare\n"
     ]
    },
    {
     "name": "stderr",
     "output_type": "stream",
     "text": [
      "\n",
      "preparing: 100%|##########################################################################| 1/1 [00:00<00:00, 58.63it/s]\n"
     ]
    },
    {
     "name": "stdout",
     "output_type": "stream",
     "text": [
      "d276fa50-c9aa-4bab-a799-273ef92f3cda\n",
      "sim calculated successfully\n",
      "\n",
      "1133.789 0.4786 1136.308\n",
      "0 existing calculation records provided\n"
     ]
    },
    {
     "name": "stderr",
     "output_type": "stream",
     "text": [
      "100%|█████████████████████████████████████████████████████████████████████████████████████| 1/1 [00:00<00:00,  4.31it/s]"
     ]
    },
    {
     "name": "stdout",
     "output_type": "stream",
     "text": [
      "1 calculation combinations to check\n",
      "1 new records to prepare\n"
     ]
    },
    {
     "name": "stderr",
     "output_type": "stream",
     "text": [
      "\n",
      "preparing: 100%|##########################################################################| 1/1 [00:00<00:00, 65.83it/s]\n"
     ]
    },
    {
     "name": "stdout",
     "output_type": "stream",
     "text": [
      "0aef9680-bd58-4f83-b926-26930ee40d58\n",
      "sim calculated successfully\n",
      "\n",
      "1133.789 0.5237 1147.289\n",
      "0 existing calculation records provided\n"
     ]
    },
    {
     "name": "stderr",
     "output_type": "stream",
     "text": [
      "100%|█████████████████████████████████████████████████████████████████████████████████████| 1/1 [00:00<00:00,  3.85it/s]"
     ]
    },
    {
     "name": "stdout",
     "output_type": "stream",
     "text": [
      "1 calculation combinations to check\n",
      "1 new records to prepare\n"
     ]
    },
    {
     "name": "stderr",
     "output_type": "stream",
     "text": [
      "\n",
      "preparing: 100%|##########################################################################| 1/1 [00:00<00:00, 57.95it/s]\n"
     ]
    },
    {
     "name": "stdout",
     "output_type": "stream",
     "text": [
      "8bd9f568-0368-4450-bab8-97d342fd0403\n",
      "sim calculated successfully\n",
      "\n",
      "1133.789 0.4611 1128.260\n",
      "0 existing calculation records provided\n"
     ]
    },
    {
     "name": "stderr",
     "output_type": "stream",
     "text": [
      "100%|█████████████████████████████████████████████████████████████████████████████████████| 1/1 [00:00<00:00,  3.75it/s]"
     ]
    },
    {
     "name": "stdout",
     "output_type": "stream",
     "text": [
      "1 calculation combinations to check\n",
      "1 new records to prepare\n"
     ]
    },
    {
     "name": "stderr",
     "output_type": "stream",
     "text": [
      "\n",
      "preparing: 100%|##########################################################################| 1/1 [00:00<00:00, 54.89it/s]\n"
     ]
    },
    {
     "name": "stdout",
     "output_type": "stream",
     "text": [
      "22265d73-ed5d-4435-95ec-52e8d5c47f45\n",
      "sim calculated successfully\n",
      "\n",
      "1133.789 0.4694 1127.528\n",
      "0 existing calculation records provided\n"
     ]
    },
    {
     "name": "stderr",
     "output_type": "stream",
     "text": [
      "100%|█████████████████████████████████████████████████████████████████████████████████████| 1/1 [00:00<00:00,  3.92it/s]"
     ]
    },
    {
     "name": "stdout",
     "output_type": "stream",
     "text": [
      "1 calculation combinations to check\n",
      "1 new records to prepare\n"
     ]
    },
    {
     "name": "stderr",
     "output_type": "stream",
     "text": [
      "\n",
      "preparing: 100%|##########################################################################| 1/1 [00:00<00:00, 48.76it/s]\n"
     ]
    },
    {
     "name": "stdout",
     "output_type": "stream",
     "text": [
      "94aff7d0-aaf3-4066-95b3-7b45dabc368f\n",
      "sim calculated successfully\n",
      "\n",
      "1133.789 0.5026 1131.448\n",
      "77 2005--Mendelev-M-I--Al-Fe--LAMMPS--ipr1\n",
      "0 existing calculation records provided\n"
     ]
    },
    {
     "name": "stderr",
     "output_type": "stream",
     "text": [
      "100%|█████████████████████████████████████████████████████████████████████████████████████| 1/1 [00:00<00:00,  3.86it/s]"
     ]
    },
    {
     "name": "stdout",
     "output_type": "stream",
     "text": [
      "1 calculation combinations to check\n",
      "1 new records to prepare\n"
     ]
    },
    {
     "name": "stderr",
     "output_type": "stream",
     "text": [
      "\n",
      "preparing: 100%|##########################################################################| 1/1 [00:00<00:00, 48.39it/s]\n"
     ]
    },
    {
     "name": "stdout",
     "output_type": "stream",
     "text": [
      "d09c06ab-973c-4801-8faa-7d30df010eb8\n",
      "sim calculated successfully\n",
      "\n",
      "4525.000 0.01177 2433.039\n",
      "0 existing calculation records provided\n"
     ]
    },
    {
     "name": "stderr",
     "output_type": "stream",
     "text": [
      "100%|█████████████████████████████████████████████████████████████████████████████████████| 1/1 [00:00<00:00,  3.57it/s]"
     ]
    },
    {
     "name": "stdout",
     "output_type": "stream",
     "text": [
      "1 calculation combinations to check\n",
      "1 new records to prepare\n"
     ]
    },
    {
     "name": "stderr",
     "output_type": "stream",
     "text": [
      "\n",
      "preparing: 100%|##########################################################################| 1/1 [00:00<00:00, 43.38it/s]\n"
     ]
    },
    {
     "name": "stdout",
     "output_type": "stream",
     "text": [
      "5f733819-e3aa-4b2c-bb36-4b007f338961\n",
      "sim calculated successfully\n",
      "\n",
      "2287.500 3.103e-05 2292.523\n",
      "0 existing calculation records provided\n"
     ]
    },
    {
     "name": "stderr",
     "output_type": "stream",
     "text": [
      "100%|█████████████████████████████████████████████████████████████████████████████████████| 1/1 [00:00<00:00,  3.20it/s]"
     ]
    },
    {
     "name": "stdout",
     "output_type": "stream",
     "text": [
      "1 calculation combinations to check\n",
      "1 new records to prepare\n"
     ]
    },
    {
     "name": "stderr",
     "output_type": "stream",
     "text": [
      "\n",
      "preparing: 100%|##########################################################################| 1/1 [00:00<00:00, 33.06it/s]\n"
     ]
    },
    {
     "name": "stdout",
     "output_type": "stream",
     "text": [
      "9f348443-75ed-4548-8afe-747a41faad81\n",
      "sim calculated successfully\n",
      "\n",
      "1168.750 0.001128 1144.566\n",
      "0 existing calculation records provided\n"
     ]
    },
    {
     "name": "stderr",
     "output_type": "stream",
     "text": [
      "100%|█████████████████████████████████████████████████████████████████████████████████████| 1/1 [00:00<00:00,  3.34it/s]"
     ]
    },
    {
     "name": "stdout",
     "output_type": "stream",
     "text": [
      "1 calculation combinations to check\n",
      "1 new records to prepare\n"
     ]
    },
    {
     "name": "stderr",
     "output_type": "stream",
     "text": [
      "\n",
      "preparing: 100%|##########################################################################| 1/1 [00:00<00:00, 40.87it/s]\n"
     ]
    },
    {
     "name": "stdout",
     "output_type": "stream",
     "text": [
      "3c4cd57e-2e6b-44c2-8924-9a0eaf11014a\n",
      "sim calculated successfully\n",
      "\n",
      "609.375 0.9953 607.662\n",
      "0 existing calculation records provided\n"
     ]
    },
    {
     "name": "stderr",
     "output_type": "stream",
     "text": [
      "100%|█████████████████████████████████████████████████████████████████████████████████████| 1/1 [00:00<00:00,  3.92it/s]"
     ]
    },
    {
     "name": "stdout",
     "output_type": "stream",
     "text": [
      "1 calculation combinations to check\n",
      "1 new records to prepare\n"
     ]
    },
    {
     "name": "stderr",
     "output_type": "stream",
     "text": [
      "\n",
      "preparing: 100%|##########################################################################| 1/1 [00:00<00:00, 27.66it/s]\n"
     ]
    },
    {
     "name": "stdout",
     "output_type": "stream",
     "text": [
      "bd39a674-2785-4620-aca1-4004d379868b\n",
      "sim calculated successfully\n",
      "\n",
      "889.062 0.3899 932.127\n",
      "0 existing calculation records provided\n"
     ]
    },
    {
     "name": "stderr",
     "output_type": "stream",
     "text": [
      "100%|█████████████████████████████████████████████████████████████████████████████████████| 1/1 [00:00<00:00,  3.85it/s]"
     ]
    },
    {
     "name": "stdout",
     "output_type": "stream",
     "text": [
      "1 calculation combinations to check\n",
      "1 new records to prepare\n"
     ]
    },
    {
     "name": "stderr",
     "output_type": "stream",
     "text": [
      "\n",
      "preparing: 100%|##########################################################################| 1/1 [00:00<00:00, 27.46it/s]\n"
     ]
    },
    {
     "name": "stdout",
     "output_type": "stream",
     "text": [
      "3dd8f7fc-3f7b-4a3c-9758-07ccb13d5162\n",
      "sim calculated successfully\n",
      "\n",
      "749.219 0.9755 748.044\n",
      "0 existing calculation records provided\n"
     ]
    },
    {
     "name": "stderr",
     "output_type": "stream",
     "text": [
      "100%|█████████████████████████████████████████████████████████████████████████████████████| 1/1 [00:00<00:00,  3.39it/s]"
     ]
    },
    {
     "name": "stdout",
     "output_type": "stream",
     "text": [
      "1 calculation combinations to check\n",
      "1 new records to prepare\n"
     ]
    },
    {
     "name": "stderr",
     "output_type": "stream",
     "text": [
      "\n",
      "preparing: 100%|##########################################################################| 1/1 [00:00<00:00, 41.59it/s]\n"
     ]
    },
    {
     "name": "stdout",
     "output_type": "stream",
     "text": [
      "b78aa21d-cd8e-42f0-89a6-2b98d0551a8f\n",
      "sim calculated successfully\n",
      "\n",
      "958.984 0.02691 923.730\n",
      "0 existing calculation records provided\n"
     ]
    },
    {
     "name": "stderr",
     "output_type": "stream",
     "text": [
      "100%|█████████████████████████████████████████████████████████████████████████████████████| 1/1 [00:00<00:00,  3.39it/s]"
     ]
    },
    {
     "name": "stdout",
     "output_type": "stream",
     "text": [
      "1 calculation combinations to check\n",
      "1 new records to prepare\n"
     ]
    },
    {
     "name": "stderr",
     "output_type": "stream",
     "text": [
      "\n",
      "preparing: 100%|##########################################################################| 1/1 [00:00<00:00, 43.44it/s]\n"
     ]
    },
    {
     "name": "stdout",
     "output_type": "stream",
     "text": [
      "18a957cd-8e7c-4020-b552-f88151f6ed27\n",
      "sim calculated successfully\n",
      "\n",
      "854.102 0.4885 932.223\n",
      "0 existing calculation records provided\n"
     ]
    },
    {
     "name": "stderr",
     "output_type": "stream",
     "text": [
      "100%|█████████████████████████████████████████████████████████████████████████████████████| 1/1 [00:00<00:00,  3.45it/s]"
     ]
    },
    {
     "name": "stdout",
     "output_type": "stream",
     "text": [
      "1 calculation combinations to check\n",
      "1 new records to prepare\n"
     ]
    },
    {
     "name": "stderr",
     "output_type": "stream",
     "text": [
      "\n",
      "preparing: 100%|##########################################################################| 1/1 [00:00<00:00, 44.11it/s]\n"
     ]
    },
    {
     "name": "stdout",
     "output_type": "stream",
     "text": [
      "9c7c3684-eda6-408b-91b8-50663043dd2c\n",
      "sim calculated successfully\n",
      "\n",
      "854.102 0.502 929.775\n",
      "0 existing calculation records provided\n"
     ]
    },
    {
     "name": "stderr",
     "output_type": "stream",
     "text": [
      "100%|█████████████████████████████████████████████████████████████████████████████████████| 1/1 [00:00<00:00,  3.83it/s]"
     ]
    },
    {
     "name": "stdout",
     "output_type": "stream",
     "text": [
      "1 calculation combinations to check\n",
      "1 new records to prepare\n"
     ]
    },
    {
     "name": "stderr",
     "output_type": "stream",
     "text": [
      "\n",
      "preparing: 100%|##########################################################################| 1/1 [00:00<00:00, 27.18it/s]\n"
     ]
    },
    {
     "name": "stdout",
     "output_type": "stream",
     "text": [
      "f876ec89-36ad-42da-a270-e38567ddba3f\n",
      "sim calculated successfully\n",
      "\n",
      "854.102 0.4822 930.395\n",
      "0 existing calculation records provided\n"
     ]
    },
    {
     "name": "stderr",
     "output_type": "stream",
     "text": [
      "100%|█████████████████████████████████████████████████████████████████████████████████████| 1/1 [00:00<00:00,  3.70it/s]"
     ]
    },
    {
     "name": "stdout",
     "output_type": "stream",
     "text": [
      "1 calculation combinations to check\n",
      "1 new records to prepare\n"
     ]
    },
    {
     "name": "stderr",
     "output_type": "stream",
     "text": [
      "\n",
      "preparing: 100%|##########################################################################| 1/1 [00:00<00:00, 26.52it/s]\n"
     ]
    },
    {
     "name": "stdout",
     "output_type": "stream",
     "text": [
      "394ce32d-c305-4290-abdc-b00763ccc4bc\n",
      "sim calculated successfully\n",
      "\n",
      "854.102 0.4989 928.366\n",
      "0 existing calculation records provided\n"
     ]
    },
    {
     "name": "stderr",
     "output_type": "stream",
     "text": [
      "100%|█████████████████████████████████████████████████████████████████████████████████████| 1/1 [00:00<00:00,  3.23it/s]"
     ]
    },
    {
     "name": "stdout",
     "output_type": "stream",
     "text": [
      "1 calculation combinations to check\n",
      "1 new records to prepare\n"
     ]
    },
    {
     "name": "stderr",
     "output_type": "stream",
     "text": [
      "\n",
      "preparing: 100%|##########################################################################| 1/1 [00:00<00:00, 43.41it/s]\n"
     ]
    },
    {
     "name": "stdout",
     "output_type": "stream",
     "text": [
      "c091889e-cf22-46be-9d85-fc1e1deef666\n",
      "sim calculated successfully\n",
      "\n",
      "854.102 0.4899 928.114\n",
      "0 existing calculation records provided\n"
     ]
    },
    {
     "name": "stderr",
     "output_type": "stream",
     "text": [
      "100%|█████████████████████████████████████████████████████████████████████████████████████| 1/1 [00:00<00:00,  3.30it/s]"
     ]
    },
    {
     "name": "stdout",
     "output_type": "stream",
     "text": [
      "1 calculation combinations to check\n",
      "1 new records to prepare\n"
     ]
    },
    {
     "name": "stderr",
     "output_type": "stream",
     "text": [
      "\n",
      "preparing: 100%|##########################################################################| 1/1 [00:00<00:00, 42.68it/s]\n"
     ]
    },
    {
     "name": "stdout",
     "output_type": "stream",
     "text": [
      "fe3e83f9-2414-4c38-8753-069488698573\n",
      "sim calculated successfully\n",
      "\n",
      "854.102 0.5048 920.925\n",
      "0 existing calculation records provided\n"
     ]
    },
    {
     "name": "stderr",
     "output_type": "stream",
     "text": [
      "100%|█████████████████████████████████████████████████████████████████████████████████████| 1/1 [00:00<00:00,  3.99it/s]"
     ]
    },
    {
     "name": "stdout",
     "output_type": "stream",
     "text": [
      "1 calculation combinations to check\n",
      "1 new records to prepare\n"
     ]
    },
    {
     "name": "stderr",
     "output_type": "stream",
     "text": [
      "\n",
      "preparing: 100%|##########################################################################| 1/1 [00:00<00:00, 27.68it/s]\n"
     ]
    },
    {
     "name": "stdout",
     "output_type": "stream",
     "text": [
      "b1d86b93-aec0-48db-88d2-92143d726d85\n",
      "sim calculated successfully\n",
      "\n",
      "854.102 0.4858 927.088\n",
      "0 existing calculation records provided\n"
     ]
    },
    {
     "name": "stderr",
     "output_type": "stream",
     "text": [
      "100%|█████████████████████████████████████████████████████████████████████████████████████| 1/1 [00:00<00:00,  3.83it/s]"
     ]
    },
    {
     "name": "stdout",
     "output_type": "stream",
     "text": [
      "1 calculation combinations to check\n",
      "1 new records to prepare\n"
     ]
    },
    {
     "name": "stderr",
     "output_type": "stream",
     "text": [
      "\n",
      "preparing: 100%|##########################################################################| 1/1 [00:00<00:00, 28.36it/s]\n"
     ]
    },
    {
     "name": "stdout",
     "output_type": "stream",
     "text": [
      "4d681387-6922-4762-b448-41f33cd55c18\n",
      "sim calculated successfully\n",
      "\n",
      "854.102 0.4835 927.340\n",
      "0 existing calculation records provided\n"
     ]
    },
    {
     "name": "stderr",
     "output_type": "stream",
     "text": [
      "100%|█████████████████████████████████████████████████████████████████████████████████████| 1/1 [00:00<00:00,  3.97it/s]"
     ]
    },
    {
     "name": "stdout",
     "output_type": "stream",
     "text": [
      "1 calculation combinations to check\n",
      "1 new records to prepare\n"
     ]
    },
    {
     "name": "stderr",
     "output_type": "stream",
     "text": [
      "\n",
      "preparing: 100%|##########################################################################| 1/1 [00:00<00:00, 43.91it/s]\n"
     ]
    },
    {
     "name": "stdout",
     "output_type": "stream",
     "text": [
      "53edfd64-396a-45e8-af61-077b555b6c7a\n",
      "sim calculated successfully\n",
      "\n",
      "854.102 0.4866 926.861\n",
      "78 2005--Mendelev-M-I--Al-Fe--LAMMPS--ipr1\n",
      "0 existing calculation records provided\n"
     ]
    },
    {
     "name": "stderr",
     "output_type": "stream",
     "text": [
      "100%|█████████████████████████████████████████████████████████████████████████████████████| 1/1 [00:00<00:00,  3.67it/s]"
     ]
    },
    {
     "name": "stdout",
     "output_type": "stream",
     "text": [
      "1 calculation combinations to check\n",
      "1 new records to prepare\n"
     ]
    },
    {
     "name": "stderr",
     "output_type": "stream",
     "text": [
      "\n",
      "preparing: 100%|##########################################################################| 1/1 [00:00<00:00, 33.18it/s]\n"
     ]
    },
    {
     "name": "stdout",
     "output_type": "stream",
     "text": [
      "b21edc77-6e41-4e49-b96b-e55980f310f6\n",
      "sim calculated successfully\n",
      "\n",
      "4525.000 0.005586 4343.628\n",
      "0 existing calculation records provided\n"
     ]
    },
    {
     "name": "stderr",
     "output_type": "stream",
     "text": [
      "100%|█████████████████████████████████████████████████████████████████████████████████████| 1/1 [00:00<00:00,  3.96it/s]"
     ]
    },
    {
     "name": "stdout",
     "output_type": "stream",
     "text": [
      "1 calculation combinations to check\n",
      "1 new records to prepare\n"
     ]
    },
    {
     "name": "stderr",
     "output_type": "stream",
     "text": [
      "\n",
      "preparing: 100%|##########################################################################| 1/1 [00:00<00:00, 40.08it/s]\n"
     ]
    },
    {
     "name": "stdout",
     "output_type": "stream",
     "text": [
      "51130b7d-7b2b-4f5d-87b7-bad9b57c9b56\n",
      "sim calculated successfully\n",
      "\n",
      "2287.500 0.001045 2244.193\n",
      "0 existing calculation records provided\n"
     ]
    },
    {
     "name": "stderr",
     "output_type": "stream",
     "text": [
      "100%|█████████████████████████████████████████████████████████████████████████████████████| 1/1 [00:00<00:00,  3.93it/s]"
     ]
    },
    {
     "name": "stdout",
     "output_type": "stream",
     "text": [
      "1 calculation combinations to check\n",
      "1 new records to prepare\n"
     ]
    },
    {
     "name": "stderr",
     "output_type": "stream",
     "text": [
      "\n",
      "preparing: 100%|##########################################################################| 1/1 [00:00<00:00, 39.87it/s]\n"
     ]
    },
    {
     "name": "stdout",
     "output_type": "stream",
     "text": [
      "c3d7bb7e-19a2-4d9b-b5f2-68979dc6d7f3\n",
      "sim calculated successfully\n",
      "\n",
      "1168.750 0.2908 1173.165\n",
      "0 existing calculation records provided\n"
     ]
    },
    {
     "name": "stderr",
     "output_type": "stream",
     "text": [
      "100%|█████████████████████████████████████████████████████████████████████████████████████| 1/1 [00:00<00:00,  4.34it/s]"
     ]
    },
    {
     "name": "stdout",
     "output_type": "stream",
     "text": [
      "1 calculation combinations to check\n",
      "1 new records to prepare\n"
     ]
    },
    {
     "name": "stderr",
     "output_type": "stream",
     "text": [
      "\n",
      "preparing: 100%|##########################################################################| 1/1 [00:00<00:00, 28.07it/s]\n"
     ]
    },
    {
     "name": "stdout",
     "output_type": "stream",
     "text": [
      "b5da1c96-b9d4-408c-94af-19be953e8a4b\n",
      "sim calculated successfully\n",
      "\n",
      "609.375 0.3797 612.079\n",
      "0 existing calculation records provided\n"
     ]
    },
    {
     "name": "stderr",
     "output_type": "stream",
     "text": [
      "100%|█████████████████████████████████████████████████████████████████████████████████████| 1/1 [00:00<00:00,  3.47it/s]"
     ]
    },
    {
     "name": "stdout",
     "output_type": "stream",
     "text": [
      "1 calculation combinations to check\n",
      "1 new records to prepare\n"
     ]
    },
    {
     "name": "stderr",
     "output_type": "stream",
     "text": [
      "\n",
      "preparing: 100%|##########################################################################| 1/1 [00:00<00:00, 43.11it/s]\n"
     ]
    },
    {
     "name": "stdout",
     "output_type": "stream",
     "text": [
      "50da25d6-9b00-4944-bd15-5ff0567aa027\n",
      "sim calculated successfully\n",
      "\n",
      "329.688 0.4318 329.592\n",
      "0 existing calculation records provided\n"
     ]
    },
    {
     "name": "stderr",
     "output_type": "stream",
     "text": [
      "100%|█████████████████████████████████████████████████████████████████████████████████████| 1/1 [00:00<00:00,  3.48it/s]"
     ]
    },
    {
     "name": "stdout",
     "output_type": "stream",
     "text": [
      "1 calculation combinations to check\n",
      "1 new records to prepare\n"
     ]
    },
    {
     "name": "stderr",
     "output_type": "stream",
     "text": [
      "\n",
      "preparing: 100%|##########################################################################| 1/1 [00:00<00:00, 41.84it/s]\n"
     ]
    },
    {
     "name": "stdout",
     "output_type": "stream",
     "text": [
      "741501e0-9ba3-44f9-90ab-77c2f1a36946\n",
      "sim calculated successfully\n",
      "\n",
      "329.688 0.3978 374.733\n",
      "0 existing calculation records provided\n"
     ]
    },
    {
     "name": "stderr",
     "output_type": "stream",
     "text": [
      "100%|█████████████████████████████████████████████████████████████████████████████████████| 1/1 [00:00<00:00,  3.39it/s]"
     ]
    },
    {
     "name": "stdout",
     "output_type": "stream",
     "text": [
      "1 calculation combinations to check\n",
      "1 new records to prepare\n"
     ]
    },
    {
     "name": "stderr",
     "output_type": "stream",
     "text": [
      "\n",
      "preparing: 100%|##########################################################################| 1/1 [00:00<00:00, 43.92it/s]\n"
     ]
    },
    {
     "name": "stdout",
     "output_type": "stream",
     "text": [
      "7f0f8140-cdc1-496e-89be-de9342dd24f0\n",
      "sim calculated successfully\n",
      "\n",
      "189.844 0.3865 188.717\n",
      "0 existing calculation records provided\n"
     ]
    },
    {
     "name": "stderr",
     "output_type": "stream",
     "text": [
      "100%|█████████████████████████████████████████████████████████████████████████████████████| 1/1 [00:00<00:00,  3.22it/s]"
     ]
    },
    {
     "name": "stdout",
     "output_type": "stream",
     "text": [
      "1 calculation combinations to check\n",
      "1 new records to prepare\n"
     ]
    },
    {
     "name": "stderr",
     "output_type": "stream",
     "text": [
      "\n",
      "preparing: 100%|##########################################################################| 1/1 [00:00<00:00, 40.22it/s]\n"
     ]
    },
    {
     "name": "stdout",
     "output_type": "stream",
     "text": [
      "1c18a287-7dab-495e-b621-ffed2aa34475\n",
      "sim calculated successfully\n",
      "\n",
      "119.922 1.0 120.096\n",
      "0 existing calculation records provided\n"
     ]
    },
    {
     "name": "stderr",
     "output_type": "stream",
     "text": [
      "100%|█████████████████████████████████████████████████████████████████████████████████████| 1/1 [00:00<00:00,  3.25it/s]"
     ]
    },
    {
     "name": "stdout",
     "output_type": "stream",
     "text": [
      "1 calculation combinations to check\n",
      "1 new records to prepare\n"
     ]
    },
    {
     "name": "stderr",
     "output_type": "stream",
     "text": [
      "\n",
      "preparing: 100%|##########################################################################| 1/1 [00:00<00:00, 44.45it/s]\n"
     ]
    },
    {
     "name": "stdout",
     "output_type": "stream",
     "text": [
      "62db29ac-7460-4400-b4bc-89d5892b47ac\n",
      "sim calculated successfully\n",
      "\n",
      "1203.711 0.2883 1209.592\n",
      "0 existing calculation records provided\n"
     ]
    },
    {
     "name": "stderr",
     "output_type": "stream",
     "text": [
      "100%|█████████████████████████████████████████████████████████████████████████████████████| 1/1 [00:00<00:00,  3.32it/s]"
     ]
    },
    {
     "name": "stdout",
     "output_type": "stream",
     "text": [
      "1 calculation combinations to check\n",
      "1 new records to prepare\n"
     ]
    },
    {
     "name": "stderr",
     "output_type": "stream",
     "text": [
      "\n",
      "preparing: 100%|##########################################################################| 1/1 [00:00<00:00, 44.29it/s]\n"
     ]
    },
    {
     "name": "stdout",
     "output_type": "stream",
     "text": [
      "ed5bf720-e91a-4316-888e-5c6bfab9a7b4\n",
      "sim calculated successfully\n",
      "\n",
      "661.816 0.3727 660.450\n",
      "0 existing calculation records provided\n"
     ]
    },
    {
     "name": "stderr",
     "output_type": "stream",
     "text": [
      "100%|█████████████████████████████████████████████████████████████████████████████████████| 1/1 [00:00<00:00,  3.32it/s]"
     ]
    },
    {
     "name": "stdout",
     "output_type": "stream",
     "text": [
      "1 calculation combinations to check\n",
      "1 new records to prepare\n"
     ]
    },
    {
     "name": "stderr",
     "output_type": "stream",
     "text": [
      "\n",
      "preparing: 100%|##########################################################################| 1/1 [00:00<00:00, 44.55it/s]\n"
     ]
    },
    {
     "name": "stdout",
     "output_type": "stream",
     "text": [
      "7f7aaf58-add3-4013-82fe-c6fc63015392\n",
      "sim calculated successfully\n",
      "\n",
      "390.869 0.4169 389.358\n",
      "0 existing calculation records provided\n"
     ]
    },
    {
     "name": "stderr",
     "output_type": "stream",
     "text": [
      "100%|█████████████████████████████████████████████████████████████████████████████████████| 1/1 [00:00<00:00,  3.43it/s]"
     ]
    },
    {
     "name": "stdout",
     "output_type": "stream",
     "text": [
      "1 calculation combinations to check\n",
      "1 new records to prepare\n"
     ]
    },
    {
     "name": "stderr",
     "output_type": "stream",
     "text": [
      "\n",
      "preparing: 100%|##########################################################################| 1/1 [00:00<00:00, 43.55it/s]\n"
     ]
    },
    {
     "name": "stdout",
     "output_type": "stream",
     "text": [
      "efef866b-1d7e-4010-a0fa-7d2651202094\n",
      "sim calculated successfully\n",
      "\n",
      "390.869 0.4027 389.965\n",
      "0 existing calculation records provided\n"
     ]
    },
    {
     "name": "stderr",
     "output_type": "stream",
     "text": [
      "100%|█████████████████████████████████████████████████████████████████████████████████████| 1/1 [00:00<00:00,  3.26it/s]"
     ]
    },
    {
     "name": "stdout",
     "output_type": "stream",
     "text": [
      "1 calculation combinations to check\n",
      "1 new records to prepare\n"
     ]
    },
    {
     "name": "stderr",
     "output_type": "stream",
     "text": [
      "\n",
      "preparing: 100%|##########################################################################| 1/1 [00:00<00:00, 44.87it/s]\n"
     ]
    },
    {
     "name": "stdout",
     "output_type": "stream",
     "text": [
      "f3328cc9-c3f2-4c27-a2ab-3dc70db25991\n",
      "sim calculated successfully\n",
      "\n",
      "390.869 0.4255 390.626\n",
      "79 2006--Williams-P-L--Ag--LAMMPS--ipr1\n",
      "0 existing calculation records provided\n"
     ]
    },
    {
     "name": "stderr",
     "output_type": "stream",
     "text": [
      "100%|█████████████████████████████████████████████████████████████████████████████████████| 1/1 [00:00<00:00,  3.34it/s]"
     ]
    },
    {
     "name": "stdout",
     "output_type": "stream",
     "text": [
      "1 calculation combinations to check\n",
      "1 new records to prepare\n"
     ]
    },
    {
     "name": "stderr",
     "output_type": "stream",
     "text": [
      "\n",
      "preparing: 100%|##########################################################################| 1/1 [00:00<00:00, 29.89it/s]\n"
     ]
    },
    {
     "name": "stdout",
     "output_type": "stream",
     "text": [
      "cc1c5656-a7b0-4ecb-b503-f48745f5273a\n",
      "sim calculated successfully\n",
      "\n",
      "4525.000 0.08341 3358.375\n",
      "0 existing calculation records provided\n"
     ]
    },
    {
     "name": "stderr",
     "output_type": "stream",
     "text": [
      "100%|█████████████████████████████████████████████████████████████████████████████████████| 1/1 [00:00<00:00,  3.36it/s]"
     ]
    },
    {
     "name": "stdout",
     "output_type": "stream",
     "text": [
      "1 calculation combinations to check\n",
      "1 new records to prepare\n"
     ]
    },
    {
     "name": "stderr",
     "output_type": "stream",
     "text": [
      "\n",
      "preparing: 100%|##########################################################################| 1/1 [00:00<00:00, 49.64it/s]\n"
     ]
    },
    {
     "name": "stdout",
     "output_type": "stream",
     "text": [
      "84ad4606-6ff9-436c-892a-2095590110cb\n",
      "sim calculated successfully\n",
      "\n",
      "2287.500 8.276e-05 2271.677\n",
      "0 existing calculation records provided\n"
     ]
    },
    {
     "name": "stderr",
     "output_type": "stream",
     "text": [
      "100%|█████████████████████████████████████████████████████████████████████████████████████| 1/1 [00:00<00:00,  3.25it/s]"
     ]
    },
    {
     "name": "stdout",
     "output_type": "stream",
     "text": [
      "1 calculation combinations to check\n",
      "1 new records to prepare\n"
     ]
    },
    {
     "name": "stderr",
     "output_type": "stream",
     "text": [
      "\n",
      "preparing: 100%|##########################################################################| 1/1 [00:00<00:00, 56.34it/s]\n"
     ]
    },
    {
     "name": "stdout",
     "output_type": "stream",
     "text": [
      "7dca4f99-391b-4bda-925d-558d6b80d4d5\n",
      "sim calculated successfully\n",
      "\n",
      "1168.750 0.6803 1275.022\n",
      "0 existing calculation records provided\n"
     ]
    },
    {
     "name": "stderr",
     "output_type": "stream",
     "text": [
      "100%|█████████████████████████████████████████████████████████████████████████████████████| 1/1 [00:00<00:00,  3.99it/s]"
     ]
    },
    {
     "name": "stdout",
     "output_type": "stream",
     "text": [
      "1 calculation combinations to check\n",
      "1 new records to prepare\n"
     ]
    },
    {
     "name": "stderr",
     "output_type": "stream",
     "text": [
      "\n",
      "preparing: 100%|##########################################################################| 1/1 [00:00<00:00, 37.69it/s]\n"
     ]
    },
    {
     "name": "stdout",
     "output_type": "stream",
     "text": [
      "3719a6de-302d-4f9b-acc8-4997f6e5ddbb\n",
      "sim calculated successfully\n",
      "\n",
      "1728.125 0.000931 1665.628\n",
      "0 existing calculation records provided\n"
     ]
    },
    {
     "name": "stderr",
     "output_type": "stream",
     "text": [
      "100%|█████████████████████████████████████████████████████████████████████████████████████| 1/1 [00:00<00:00,  3.96it/s]"
     ]
    },
    {
     "name": "stdout",
     "output_type": "stream",
     "text": [
      "1 calculation combinations to check\n",
      "1 new records to prepare\n"
     ]
    },
    {
     "name": "stderr",
     "output_type": "stream",
     "text": [
      "\n",
      "preparing: 100%|##########################################################################| 1/1 [00:00<00:00, 38.72it/s]\n"
     ]
    },
    {
     "name": "stdout",
     "output_type": "stream",
     "text": [
      "07b6d922-c036-4415-8af4-c2511cf6804b\n",
      "sim calculated successfully\n",
      "\n",
      "889.062 0.9979 887.671\n",
      "0 existing calculation records provided\n"
     ]
    },
    {
     "name": "stderr",
     "output_type": "stream",
     "text": [
      "100%|█████████████████████████████████████████████████████████████████████████████████████| 1/1 [00:00<00:00,  3.63it/s]"
     ]
    },
    {
     "name": "stdout",
     "output_type": "stream",
     "text": [
      "1 calculation combinations to check\n",
      "1 new records to prepare\n"
     ]
    },
    {
     "name": "stderr",
     "output_type": "stream",
     "text": [
      "\n",
      "preparing: 100%|##########################################################################| 1/1 [00:00<00:00, 59.72it/s]\n"
     ]
    },
    {
     "name": "stdout",
     "output_type": "stream",
     "text": [
      "82cb08ad-144f-4023-a2d4-19e56a641544\n",
      "sim calculated successfully\n",
      "\n",
      "1308.594 0.3626 1257.746\n",
      "0 existing calculation records provided\n"
     ]
    },
    {
     "name": "stderr",
     "output_type": "stream",
     "text": [
      "100%|█████████████████████████████████████████████████████████████████████████████████████| 1/1 [00:00<00:00,  4.04it/s]"
     ]
    },
    {
     "name": "stdout",
     "output_type": "stream",
     "text": [
      "1 calculation combinations to check\n",
      "1 new records to prepare\n"
     ]
    },
    {
     "name": "stderr",
     "output_type": "stream",
     "text": [
      "\n",
      "preparing: 100%|##########################################################################| 1/1 [00:00<00:00, 63.08it/s]\n"
     ]
    },
    {
     "name": "stdout",
     "output_type": "stream",
     "text": [
      "8947584a-67ff-4de4-8b04-750a18d10540\n",
      "sim calculated successfully\n",
      "\n",
      "1098.828 0.9848 1097.022\n",
      "0 existing calculation records provided\n"
     ]
    },
    {
     "name": "stderr",
     "output_type": "stream",
     "text": [
      "100%|█████████████████████████████████████████████████████████████████████████████████████| 1/1 [00:00<00:00,  3.13it/s]"
     ]
    },
    {
     "name": "stdout",
     "output_type": "stream",
     "text": [
      "1 calculation combinations to check\n",
      "1 new records to prepare\n"
     ]
    },
    {
     "name": "stderr",
     "output_type": "stream",
     "text": [
      "\n",
      "preparing: 100%|##########################################################################| 1/1 [00:00<00:00, 52.71it/s]\n"
     ]
    },
    {
     "name": "stdout",
     "output_type": "stream",
     "text": [
      "01329b60-04d5-44b4-96db-6c9d8da2e675\n",
      "sim calculated successfully\n",
      "\n",
      "1413.477 0.06497 1263.850\n",
      "0 existing calculation records provided\n"
     ]
    },
    {
     "name": "stderr",
     "output_type": "stream",
     "text": [
      "100%|█████████████████████████████████████████████████████████████████████████████████████| 1/1 [00:00<00:00,  3.49it/s]"
     ]
    },
    {
     "name": "stdout",
     "output_type": "stream",
     "text": [
      "1 calculation combinations to check\n",
      "1 new records to prepare\n"
     ]
    },
    {
     "name": "stderr",
     "output_type": "stream",
     "text": [
      "\n",
      "preparing: 100%|##########################################################################| 1/1 [00:00<00:00, 56.90it/s]\n"
     ]
    },
    {
     "name": "stdout",
     "output_type": "stream",
     "text": [
      "85ab377a-036a-43d7-852b-648a3267f911\n",
      "sim calculated successfully\n",
      "\n",
      "1256.152 0.5259 1243.789\n",
      "0 existing calculation records provided\n"
     ]
    },
    {
     "name": "stderr",
     "output_type": "stream",
     "text": [
      "100%|█████████████████████████████████████████████████████████████████████████████████████| 1/1 [00:00<00:00,  3.88it/s]"
     ]
    },
    {
     "name": "stdout",
     "output_type": "stream",
     "text": [
      "1 calculation combinations to check\n",
      "1 new records to prepare\n"
     ]
    },
    {
     "name": "stderr",
     "output_type": "stream",
     "text": [
      "\n",
      "preparing: 100%|##########################################################################| 1/1 [00:00<00:00, 53.37it/s]\n"
     ]
    },
    {
     "name": "stdout",
     "output_type": "stream",
     "text": [
      "7a4dcd3f-8b5f-47a8-a58a-1c6ed3c17eb0\n",
      "sim calculated successfully\n",
      "\n",
      "1256.152 0.532 1263.127\n",
      "0 existing calculation records provided\n"
     ]
    },
    {
     "name": "stderr",
     "output_type": "stream",
     "text": [
      "100%|█████████████████████████████████████████████████████████████████████████████████████| 1/1 [00:00<00:00,  3.31it/s]"
     ]
    },
    {
     "name": "stdout",
     "output_type": "stream",
     "text": [
      "1 calculation combinations to check\n",
      "1 new records to prepare\n"
     ]
    },
    {
     "name": "stderr",
     "output_type": "stream",
     "text": [
      "\n",
      "preparing: 100%|##########################################################################| 1/1 [00:00<00:00, 59.91it/s]\n"
     ]
    },
    {
     "name": "stdout",
     "output_type": "stream",
     "text": [
      "1b6cba0b-2684-49bf-a8d3-67c088638a11\n",
      "sim calculated successfully\n",
      "\n",
      "1256.152 0.5301 1257.797\n",
      "0 existing calculation records provided\n"
     ]
    },
    {
     "name": "stderr",
     "output_type": "stream",
     "text": [
      "100%|█████████████████████████████████████████████████████████████████████████████████████| 1/1 [00:00<00:00,  3.28it/s]"
     ]
    },
    {
     "name": "stdout",
     "output_type": "stream",
     "text": [
      "1 calculation combinations to check\n",
      "1 new records to prepare\n"
     ]
    },
    {
     "name": "stderr",
     "output_type": "stream",
     "text": [
      "\n",
      "preparing: 100%|##########################################################################| 1/1 [00:00<00:00, 54.14it/s]\n"
     ]
    },
    {
     "name": "stdout",
     "output_type": "stream",
     "text": [
      "16efdc3f-6839-4826-bacb-1b26ec81ea77\n",
      "sim calculated successfully\n",
      "\n",
      "1256.152 0.527 1245.547\n",
      "0 existing calculation records provided\n"
     ]
    },
    {
     "name": "stderr",
     "output_type": "stream",
     "text": [
      "100%|█████████████████████████████████████████████████████████████████████████████████████| 1/1 [00:00<00:00,  3.33it/s]"
     ]
    },
    {
     "name": "stdout",
     "output_type": "stream",
     "text": [
      "1 calculation combinations to check\n",
      "1 new records to prepare\n"
     ]
    },
    {
     "name": "stderr",
     "output_type": "stream",
     "text": [
      "\n",
      "preparing: 100%|##########################################################################| 1/1 [00:00<00:00, 57.47it/s]\n"
     ]
    },
    {
     "name": "stdout",
     "output_type": "stream",
     "text": [
      "9534443c-6aed-4144-9192-eb50dcf5f607\n",
      "sim calculated successfully\n",
      "\n",
      "1256.152 0.5232 1256.378\n",
      "0 existing calculation records provided\n"
     ]
    },
    {
     "name": "stderr",
     "output_type": "stream",
     "text": [
      "100%|█████████████████████████████████████████████████████████████████████████████████████| 1/1 [00:00<00:00,  3.43it/s]"
     ]
    },
    {
     "name": "stdout",
     "output_type": "stream",
     "text": [
      "1 calculation combinations to check\n",
      "1 new records to prepare\n"
     ]
    },
    {
     "name": "stderr",
     "output_type": "stream",
     "text": [
      "\n",
      "preparing: 100%|##########################################################################| 1/1 [00:00<00:00, 57.51it/s]\n"
     ]
    },
    {
     "name": "stdout",
     "output_type": "stream",
     "text": [
      "7202a3b1-3909-473f-9cef-3bb53ab674cd\n",
      "sim calculated successfully\n",
      "\n",
      "1256.152 0.5101 1247.830\n",
      "0 existing calculation records provided\n"
     ]
    },
    {
     "name": "stderr",
     "output_type": "stream",
     "text": [
      "100%|█████████████████████████████████████████████████████████████████████████████████████| 1/1 [00:00<00:00,  3.44it/s]"
     ]
    },
    {
     "name": "stdout",
     "output_type": "stream",
     "text": [
      "1 calculation combinations to check\n",
      "1 new records to prepare\n"
     ]
    },
    {
     "name": "stderr",
     "output_type": "stream",
     "text": [
      "\n",
      "preparing: 100%|##########################################################################| 1/1 [00:00<00:00, 59.41it/s]\n"
     ]
    },
    {
     "name": "stdout",
     "output_type": "stream",
     "text": [
      "ca9c4dc6-3130-45e7-b015-8d96796b05a9\n",
      "sim calculated successfully\n",
      "\n",
      "1256.152 0.531 1251.615\n",
      "0 existing calculation records provided\n"
     ]
    },
    {
     "name": "stderr",
     "output_type": "stream",
     "text": [
      "100%|█████████████████████████████████████████████████████████████████████████████████████| 1/1 [00:00<00:00,  3.45it/s]"
     ]
    },
    {
     "name": "stdout",
     "output_type": "stream",
     "text": [
      "1 calculation combinations to check\n",
      "1 new records to prepare\n"
     ]
    },
    {
     "name": "stderr",
     "output_type": "stream",
     "text": [
      "\n",
      "preparing: 100%|##########################################################################| 1/1 [00:00<00:00, 56.80it/s]\n"
     ]
    },
    {
     "name": "stdout",
     "output_type": "stream",
     "text": [
      "d608da76-4b45-4526-9bc3-5b7c573d2861\n",
      "sim calculated successfully\n",
      "\n",
      "1256.152 0.5404 1257.813\n",
      "80 2006--Williams-P-L--Cu-Ag--LAMMPS--ipr1\n",
      "0 existing calculation records provided\n"
     ]
    },
    {
     "name": "stderr",
     "output_type": "stream",
     "text": [
      "100%|█████████████████████████████████████████████████████████████████████████████████████| 1/1 [00:00<00:00,  3.70it/s]"
     ]
    },
    {
     "name": "stdout",
     "output_type": "stream",
     "text": [
      "1 calculation combinations to check\n",
      "1 new records to prepare\n"
     ]
    },
    {
     "name": "stderr",
     "output_type": "stream",
     "text": [
      "\n",
      "preparing: 100%|##########################################################################| 1/1 [00:00<00:00, 52.70it/s]\n"
     ]
    },
    {
     "name": "stdout",
     "output_type": "stream",
     "text": [
      "e74082f0-1aed-43fa-a9b4-f717f87d65d4\n",
      "sim calculated successfully\n",
      "\n",
      "4525.000 0.08695 3351.119\n",
      "0 existing calculation records provided\n"
     ]
    },
    {
     "name": "stderr",
     "output_type": "stream",
     "text": [
      "100%|█████████████████████████████████████████████████████████████████████████████████████| 1/1 [00:00<00:00,  3.46it/s]"
     ]
    },
    {
     "name": "stdout",
     "output_type": "stream",
     "text": [
      "1 calculation combinations to check\n",
      "1 new records to prepare\n"
     ]
    },
    {
     "name": "stderr",
     "output_type": "stream",
     "text": [
      "\n",
      "preparing: 100%|##########################################################################| 1/1 [00:00<00:00, 43.23it/s]\n"
     ]
    },
    {
     "name": "stdout",
     "output_type": "stream",
     "text": [
      "210dbcf6-2c13-4b36-9ca7-b9b16663f681\n",
      "sim calculated successfully\n",
      "\n",
      "2287.500 0.0001345 2281.577\n",
      "0 existing calculation records provided\n"
     ]
    },
    {
     "name": "stderr",
     "output_type": "stream",
     "text": [
      "100%|█████████████████████████████████████████████████████████████████████████████████████| 1/1 [00:00<00:00,  3.28it/s]"
     ]
    },
    {
     "name": "stdout",
     "output_type": "stream",
     "text": [
      "1 calculation combinations to check\n",
      "1 new records to prepare\n"
     ]
    },
    {
     "name": "stderr",
     "output_type": "stream",
     "text": [
      "\n",
      "preparing: 100%|##########################################################################| 1/1 [00:00<00:00, 25.27it/s]\n"
     ]
    },
    {
     "name": "stdout",
     "output_type": "stream",
     "text": [
      "1710dda7-08a7-4f82-b649-d1309be515cc\n",
      "sim calculated successfully\n",
      "\n",
      "1168.750 0.7051 1257.310\n",
      "0 existing calculation records provided\n"
     ]
    },
    {
     "name": "stderr",
     "output_type": "stream",
     "text": [
      "100%|█████████████████████████████████████████████████████████████████████████████████████| 1/1 [00:00<00:00,  3.46it/s]"
     ]
    },
    {
     "name": "stdout",
     "output_type": "stream",
     "text": [
      "1 calculation combinations to check\n",
      "1 new records to prepare\n"
     ]
    },
    {
     "name": "stderr",
     "output_type": "stream",
     "text": [
      "\n",
      "preparing: 100%|##########################################################################| 1/1 [00:00<00:00, 44.26it/s]\n"
     ]
    },
    {
     "name": "stdout",
     "output_type": "stream",
     "text": [
      "ba78e6e0-a26c-4f67-8e4d-38b4756294dc\n",
      "sim calculated successfully\n",
      "\n",
      "1728.125 0.0009931 1658.132\n",
      "0 existing calculation records provided\n"
     ]
    },
    {
     "name": "stderr",
     "output_type": "stream",
     "text": [
      "100%|█████████████████████████████████████████████████████████████████████████████████████| 1/1 [00:00<00:00,  3.36it/s]"
     ]
    },
    {
     "name": "stdout",
     "output_type": "stream",
     "text": [
      "1 calculation combinations to check\n",
      "1 new records to prepare\n"
     ]
    },
    {
     "name": "stderr",
     "output_type": "stream",
     "text": [
      "\n",
      "preparing: 100%|##########################################################################| 1/1 [00:00<00:00, 42.72it/s]\n"
     ]
    },
    {
     "name": "stdout",
     "output_type": "stream",
     "text": [
      "f8a71c6b-d1d4-400d-b935-269c4429d22e\n",
      "sim calculated successfully\n",
      "\n",
      "889.062 0.9979 889.329\n",
      "0 existing calculation records provided\n"
     ]
    },
    {
     "name": "stderr",
     "output_type": "stream",
     "text": [
      "100%|█████████████████████████████████████████████████████████████████████████████████████| 1/1 [00:00<00:00,  3.44it/s]"
     ]
    },
    {
     "name": "stdout",
     "output_type": "stream",
     "text": [
      "1 calculation combinations to check\n",
      "1 new records to prepare\n"
     ]
    },
    {
     "name": "stderr",
     "output_type": "stream",
     "text": [
      "\n",
      "preparing: 100%|##########################################################################| 1/1 [00:00<00:00, 43.77it/s]\n"
     ]
    },
    {
     "name": "stdout",
     "output_type": "stream",
     "text": [
      "ca80b06e-cc3b-4fc3-8a5b-11ea2e8580a9\n",
      "sim calculated successfully\n",
      "\n",
      "1308.594 0.3681 1253.440\n",
      "0 existing calculation records provided\n"
     ]
    },
    {
     "name": "stderr",
     "output_type": "stream",
     "text": [
      "100%|█████████████████████████████████████████████████████████████████████████████████████| 1/1 [00:00<00:00,  3.16it/s]"
     ]
    },
    {
     "name": "stdout",
     "output_type": "stream",
     "text": [
      "1 calculation combinations to check\n",
      "1 new records to prepare\n"
     ]
    },
    {
     "name": "stderr",
     "output_type": "stream",
     "text": [
      "\n",
      "preparing: 100%|##########################################################################| 1/1 [00:00<00:00, 42.64it/s]\n"
     ]
    },
    {
     "name": "stdout",
     "output_type": "stream",
     "text": [
      "3f48effc-9a70-44f9-9b6c-11f31effd52a\n",
      "sim calculated successfully\n",
      "\n",
      "1098.828 0.9819 1095.983\n",
      "0 existing calculation records provided\n"
     ]
    },
    {
     "name": "stderr",
     "output_type": "stream",
     "text": [
      "100%|█████████████████████████████████████████████████████████████████████████████████████| 1/1 [00:00<00:00,  3.70it/s]"
     ]
    },
    {
     "name": "stdout",
     "output_type": "stream",
     "text": [
      "1 calculation combinations to check\n",
      "1 new records to prepare\n"
     ]
    },
    {
     "name": "stderr",
     "output_type": "stream",
     "text": [
      "\n",
      "preparing: 100%|##########################################################################| 1/1 [00:00<00:00, 43.02it/s]\n"
     ]
    },
    {
     "name": "stdout",
     "output_type": "stream",
     "text": [
      "43ff9235-0d2d-441a-bb4a-51992adb72a3\n",
      "sim calculated successfully\n",
      "\n",
      "1413.477 0.04642 1260.404\n",
      "0 existing calculation records provided\n"
     ]
    },
    {
     "name": "stderr",
     "output_type": "stream",
     "text": [
      "100%|█████████████████████████████████████████████████████████████████████████████████████| 1/1 [00:00<00:00,  3.93it/s]"
     ]
    },
    {
     "name": "stdout",
     "output_type": "stream",
     "text": [
      "1 calculation combinations to check\n",
      "1 new records to prepare\n"
     ]
    },
    {
     "name": "stderr",
     "output_type": "stream",
     "text": [
      "\n",
      "preparing: 100%|##########################################################################| 1/1 [00:00<00:00, 43.91it/s]\n"
     ]
    },
    {
     "name": "stdout",
     "output_type": "stream",
     "text": [
      "f1d9011d-9a7e-41c4-a558-34531c1c5c9a\n",
      "sim calculated successfully\n",
      "\n",
      "1256.152 0.527 1251.812\n",
      "0 existing calculation records provided\n"
     ]
    },
    {
     "name": "stderr",
     "output_type": "stream",
     "text": [
      "100%|█████████████████████████████████████████████████████████████████████████████████████| 1/1 [00:00<00:00,  2.96it/s]"
     ]
    },
    {
     "name": "stdout",
     "output_type": "stream",
     "text": [
      "1 calculation combinations to check\n",
      "1 new records to prepare\n"
     ]
    },
    {
     "name": "stderr",
     "output_type": "stream",
     "text": [
      "\n",
      "preparing: 100%|##########################################################################| 1/1 [00:00<00:00, 44.40it/s]\n"
     ]
    },
    {
     "name": "stdout",
     "output_type": "stream",
     "text": [
      "43b25e93-9f1e-4014-a89e-e4b1810de382\n",
      "sim calculated successfully\n",
      "\n",
      "1256.152 0.5001 1237.781\n",
      "0 existing calculation records provided\n"
     ]
    },
    {
     "name": "stderr",
     "output_type": "stream",
     "text": [
      "100%|█████████████████████████████████████████████████████████████████████████████████████| 1/1 [00:00<00:00,  3.34it/s]"
     ]
    },
    {
     "name": "stdout",
     "output_type": "stream",
     "text": [
      "1 calculation combinations to check\n",
      "1 new records to prepare\n"
     ]
    },
    {
     "name": "stderr",
     "output_type": "stream",
     "text": [
      "\n",
      "preparing: 100%|##########################################################################| 1/1 [00:00<00:00, 42.88it/s]\n"
     ]
    },
    {
     "name": "stdout",
     "output_type": "stream",
     "text": [
      "254531e3-45d5-4074-85aa-d4f5de6c10a9\n",
      "sim calculated successfully\n",
      "\n",
      "1256.152 0.5297 1260.847\n",
      "0 existing calculation records provided\n"
     ]
    },
    {
     "name": "stderr",
     "output_type": "stream",
     "text": [
      "100%|█████████████████████████████████████████████████████████████████████████████████████| 1/1 [00:00<00:00,  3.86it/s]"
     ]
    },
    {
     "name": "stdout",
     "output_type": "stream",
     "text": [
      "1 calculation combinations to check\n",
      "1 new records to prepare\n"
     ]
    },
    {
     "name": "stderr",
     "output_type": "stream",
     "text": [
      "\n",
      "preparing: 100%|##########################################################################| 1/1 [00:00<00:00, 26.79it/s]\n"
     ]
    },
    {
     "name": "stdout",
     "output_type": "stream",
     "text": [
      "3b5c3ff1-4690-426f-a91c-80a9b1a65946\n",
      "sim calculated successfully\n",
      "\n",
      "1256.152 0.5396 1249.802\n",
      "0 existing calculation records provided\n"
     ]
    },
    {
     "name": "stderr",
     "output_type": "stream",
     "text": [
      "100%|█████████████████████████████████████████████████████████████████████████████████████| 1/1 [00:00<00:00,  3.65it/s]"
     ]
    },
    {
     "name": "stdout",
     "output_type": "stream",
     "text": [
      "1 calculation combinations to check\n",
      "1 new records to prepare\n"
     ]
    },
    {
     "name": "stderr",
     "output_type": "stream",
     "text": [
      "\n",
      "preparing: 100%|##########################################################################| 1/1 [00:00<00:00, 46.51it/s]\n"
     ]
    },
    {
     "name": "stdout",
     "output_type": "stream",
     "text": [
      "f5d979b4-1f97-41a2-beb0-d330ccbd6120\n",
      "sim calculated successfully\n",
      "\n",
      "1256.152 0.5134 1248.188\n",
      "0 existing calculation records provided\n"
     ]
    },
    {
     "name": "stderr",
     "output_type": "stream",
     "text": [
      "100%|█████████████████████████████████████████████████████████████████████████████████████| 1/1 [00:00<00:00,  3.33it/s]"
     ]
    },
    {
     "name": "stdout",
     "output_type": "stream",
     "text": [
      "1 calculation combinations to check\n",
      "1 new records to prepare\n"
     ]
    },
    {
     "name": "stderr",
     "output_type": "stream",
     "text": [
      "\n",
      "preparing: 100%|##########################################################################| 1/1 [00:00<00:00, 42.22it/s]\n"
     ]
    },
    {
     "name": "stdout",
     "output_type": "stream",
     "text": [
      "e7864f63-b37b-4a2b-932e-e42c6a5dee41\n",
      "sim calculated successfully\n",
      "\n",
      "1256.152 0.537 1264.286\n",
      "0 existing calculation records provided\n"
     ]
    },
    {
     "name": "stderr",
     "output_type": "stream",
     "text": [
      "100%|█████████████████████████████████████████████████████████████████████████████████████| 1/1 [00:00<00:00,  3.35it/s]"
     ]
    },
    {
     "name": "stdout",
     "output_type": "stream",
     "text": [
      "1 calculation combinations to check\n",
      "1 new records to prepare\n"
     ]
    },
    {
     "name": "stderr",
     "output_type": "stream",
     "text": [
      "\n",
      "preparing: 100%|##########################################################################| 1/1 [00:00<00:00, 42.08it/s]\n"
     ]
    },
    {
     "name": "stdout",
     "output_type": "stream",
     "text": [
      "b2dc268d-eb5b-4c66-a085-b89aa49bad1f\n",
      "sim calculated successfully\n",
      "\n",
      "1256.152 0.5175 1253.270\n",
      "0 existing calculation records provided\n"
     ]
    },
    {
     "name": "stderr",
     "output_type": "stream",
     "text": [
      "100%|█████████████████████████████████████████████████████████████████████████████████████| 1/1 [00:00<00:00,  3.49it/s]"
     ]
    },
    {
     "name": "stdout",
     "output_type": "stream",
     "text": [
      "1 calculation combinations to check\n",
      "1 new records to prepare\n"
     ]
    },
    {
     "name": "stderr",
     "output_type": "stream",
     "text": [
      "\n",
      "preparing: 100%|##########################################################################| 1/1 [00:00<00:00, 44.35it/s]\n"
     ]
    },
    {
     "name": "stdout",
     "output_type": "stream",
     "text": [
      "4ca91675-9cd9-4253-a466-eb2579bd5cd7\n",
      "sim calculated successfully\n",
      "\n",
      "1256.152 0.5136 1244.223\n",
      "81 2007--Mendelev-M-I--Cu-Zr--LAMMPS--ipr1\n",
      "0 existing calculation records provided\n"
     ]
    },
    {
     "name": "stderr",
     "output_type": "stream",
     "text": [
      "100%|█████████████████████████████████████████████████████████████████████████████████████| 1/1 [00:00<00:00,  3.30it/s]"
     ]
    },
    {
     "name": "stdout",
     "output_type": "stream",
     "text": [
      "1 calculation combinations to check\n",
      "1 new records to prepare\n"
     ]
    },
    {
     "name": "stderr",
     "output_type": "stream",
     "text": [
      "\n",
      "preparing: 100%|##########################################################################| 1/1 [00:00<00:00, 50.61it/s]\n"
     ]
    },
    {
     "name": "stdout",
     "output_type": "stream",
     "text": [
      "c41c89fb-60af-4077-8333-ead2ce1c2615\n",
      "sim calculated successfully\n",
      "\n",
      "4525.000 2.069e-05 4512.769\n",
      "0 existing calculation records provided\n"
     ]
    },
    {
     "name": "stderr",
     "output_type": "stream",
     "text": [
      "100%|█████████████████████████████████████████████████████████████████████████████████████| 1/1 [00:00<00:00,  3.80it/s]"
     ]
    },
    {
     "name": "stdout",
     "output_type": "stream",
     "text": [
      "1 calculation combinations to check\n",
      "1 new records to prepare\n"
     ]
    },
    {
     "name": "stderr",
     "output_type": "stream",
     "text": [
      "\n",
      "preparing: 100%|##########################################################################| 1/1 [00:00<00:00, 43.44it/s]\n"
     ]
    },
    {
     "name": "stdout",
     "output_type": "stream",
     "text": [
      "cc3fd6c1-6ce7-47db-964b-f6307f65beae\n",
      "sim calculated successfully\n",
      "\n",
      "2287.500 0.002845 2073.134\n",
      "0 existing calculation records provided\n"
     ]
    },
    {
     "name": "stderr",
     "output_type": "stream",
     "text": [
      "100%|█████████████████████████████████████████████████████████████████████████████████████| 1/1 [00:00<00:00,  3.29it/s]"
     ]
    },
    {
     "name": "stdout",
     "output_type": "stream",
     "text": [
      "1 calculation combinations to check\n",
      "1 new records to prepare\n"
     ]
    },
    {
     "name": "stderr",
     "output_type": "stream",
     "text": [
      "\n",
      "preparing: 100%|##########################################################################| 1/1 [00:00<00:00, 36.74it/s]\n"
     ]
    },
    {
     "name": "stdout",
     "output_type": "stream",
     "text": [
      "b70d2261-1a5a-41a5-a5b5-d9edd019e00b\n",
      "sim calculated successfully\n",
      "\n",
      "1168.750 0.9998 1166.271\n",
      "0 existing calculation records provided\n"
     ]
    },
    {
     "name": "stderr",
     "output_type": "stream",
     "text": [
      "100%|█████████████████████████████████████████████████████████████████████████████████████| 1/1 [00:00<00:00,  3.37it/s]"
     ]
    },
    {
     "name": "stdout",
     "output_type": "stream",
     "text": [
      "1 calculation combinations to check\n",
      "1 new records to prepare\n"
     ]
    },
    {
     "name": "stderr",
     "output_type": "stream",
     "text": [
      "\n",
      "preparing: 100%|##########################################################################| 1/1 [00:00<00:00, 36.76it/s]\n"
     ]
    },
    {
     "name": "stdout",
     "output_type": "stream",
     "text": [
      "525a1217-e534-4dd8-87a6-70000c8db320\n",
      "sim calculated successfully\n",
      "\n",
      "1728.125 0.9397 1872.750\n",
      "0 existing calculation records provided\n"
     ]
    },
    {
     "name": "stderr",
     "output_type": "stream",
     "text": [
      "100%|█████████████████████████████████████████████████████████████████████████████████████| 1/1 [00:00<00:00,  3.33it/s]"
     ]
    },
    {
     "name": "stdout",
     "output_type": "stream",
     "text": [
      "1 calculation combinations to check\n",
      "1 new records to prepare\n"
     ]
    },
    {
     "name": "stderr",
     "output_type": "stream",
     "text": [
      "\n",
      "preparing: 100%|##########################################################################| 1/1 [00:00<00:00, 39.65it/s]\n"
     ]
    },
    {
     "name": "stdout",
     "output_type": "stream",
     "text": [
      "d998dd64-c4af-4735-845d-ef32aa437ddf\n",
      "sim calculated successfully\n",
      "\n",
      "2007.812 0.1281 2106.690\n",
      "0 existing calculation records provided\n"
     ]
    },
    {
     "name": "stderr",
     "output_type": "stream",
     "text": [
      "100%|█████████████████████████████████████████████████████████████████████████████████████| 1/1 [00:00<00:00,  3.39it/s]"
     ]
    },
    {
     "name": "stdout",
     "output_type": "stream",
     "text": [
      "1 calculation combinations to check\n",
      "1 new records to prepare\n"
     ]
    },
    {
     "name": "stderr",
     "output_type": "stream",
     "text": [
      "\n",
      "preparing: 100%|##########################################################################| 1/1 [00:00<00:00, 39.25it/s]\n"
     ]
    },
    {
     "name": "stdout",
     "output_type": "stream",
     "text": [
      "38dbed3e-4460-485b-b9d8-4b6ec1e024fe\n",
      "sim calculated successfully\n",
      "\n",
      "1867.969 0.4228 1994.853\n",
      "0 existing calculation records provided\n"
     ]
    },
    {
     "name": "stderr",
     "output_type": "stream",
     "text": [
      "100%|█████████████████████████████████████████████████████████████████████████████████████| 1/1 [00:00<00:00,  3.40it/s]"
     ]
    },
    {
     "name": "stdout",
     "output_type": "stream",
     "text": [
      "1 calculation combinations to check\n",
      "1 new records to prepare\n"
     ]
    },
    {
     "name": "stderr",
     "output_type": "stream",
     "text": [
      "\n",
      "preparing: 100%|##########################################################################| 1/1 [00:00<00:00, 37.32it/s]\n"
     ]
    },
    {
     "name": "stdout",
     "output_type": "stream",
     "text": [
      "38458ac7-9ee9-48b7-9867-93993da0e497\n",
      "sim calculated successfully\n",
      "\n",
      "1867.969 0.1728 2027.760\n",
      "0 existing calculation records provided\n"
     ]
    },
    {
     "name": "stderr",
     "output_type": "stream",
     "text": [
      "100%|█████████████████████████████████████████████████████████████████████████████████████| 1/1 [00:00<00:00,  3.28it/s]"
     ]
    },
    {
     "name": "stdout",
     "output_type": "stream",
     "text": [
      "1 calculation combinations to check\n",
      "1 new records to prepare\n"
     ]
    },
    {
     "name": "stderr",
     "output_type": "stream",
     "text": [
      "\n",
      "preparing: 100%|##########################################################################| 1/1 [00:00<00:00, 36.50it/s]\n"
     ]
    },
    {
     "name": "stdout",
     "output_type": "stream",
     "text": [
      "d3efcfb0-a4b8-47c9-ab0b-ea6ca7032936\n",
      "sim calculated successfully\n",
      "\n",
      "1798.047 0.1991 1889.757\n",
      "0 existing calculation records provided\n"
     ]
    },
    {
     "name": "stderr",
     "output_type": "stream",
     "text": [
      "100%|█████████████████████████████████████████████████████████████████████████████████████| 1/1 [00:00<00:00,  3.44it/s]"
     ]
    },
    {
     "name": "stdout",
     "output_type": "stream",
     "text": [
      "1 calculation combinations to check\n",
      "1 new records to prepare\n"
     ]
    },
    {
     "name": "stderr",
     "output_type": "stream",
     "text": [
      "\n",
      "preparing: 100%|##########################################################################| 1/1 [00:00<00:00, 39.52it/s]\n"
     ]
    },
    {
     "name": "stdout",
     "output_type": "stream",
     "text": [
      "fa060841-8e12-4ebd-894b-12dffadc99a4\n",
      "sim calculated successfully\n",
      "\n",
      "1763.086 0.9281 1930.007\n",
      "0 existing calculation records provided\n"
     ]
    },
    {
     "name": "stderr",
     "output_type": "stream",
     "text": [
      "100%|█████████████████████████████████████████████████████████████████████████████████████| 1/1 [00:00<00:00,  3.42it/s]"
     ]
    },
    {
     "name": "stdout",
     "output_type": "stream",
     "text": [
      "1 calculation combinations to check\n",
      "1 new records to prepare\n"
     ]
    },
    {
     "name": "stderr",
     "output_type": "stream",
     "text": [
      "\n",
      "preparing: 100%|##########################################################################| 1/1 [00:00<00:00, 38.17it/s]\n"
     ]
    },
    {
     "name": "stdout",
     "output_type": "stream",
     "text": [
      "bf9265c8-b7c6-4f80-ac50-b08d56ba6ae8\n",
      "sim calculated successfully\n",
      "\n",
      "1780.566 0.2642 1864.967\n",
      "0 existing calculation records provided\n"
     ]
    },
    {
     "name": "stderr",
     "output_type": "stream",
     "text": [
      "100%|█████████████████████████████████████████████████████████████████████████████████████| 1/1 [00:00<00:00,  3.10it/s]"
     ]
    },
    {
     "name": "stdout",
     "output_type": "stream",
     "text": [
      "1 calculation combinations to check\n",
      "1 new records to prepare\n"
     ]
    },
    {
     "name": "stderr",
     "output_type": "stream",
     "text": [
      "\n",
      "preparing: 100%|##########################################################################| 1/1 [00:00<00:00, 39.30it/s]\n"
     ]
    },
    {
     "name": "stdout",
     "output_type": "stream",
     "text": [
      "ef5608d8-5dd4-40f0-b3c8-9dc4980d4686\n",
      "sim calculated successfully\n",
      "\n",
      "1771.826 0.1992 1894.954\n",
      "0 existing calculation records provided\n"
     ]
    },
    {
     "name": "stderr",
     "output_type": "stream",
     "text": [
      "100%|█████████████████████████████████████████████████████████████████████████████████████| 1/1 [00:00<00:00,  3.64it/s]"
     ]
    },
    {
     "name": "stdout",
     "output_type": "stream",
     "text": [
      "1 calculation combinations to check\n",
      "1 new records to prepare\n"
     ]
    },
    {
     "name": "stderr",
     "output_type": "stream",
     "text": [
      "\n",
      "preparing: 100%|##########################################################################| 1/1 [00:00<00:00, 45.55it/s]\n"
     ]
    },
    {
     "name": "stdout",
     "output_type": "stream",
     "text": [
      "2e661072-a7b3-4c1b-ae99-0bb4b0b2a318\n",
      "sim calculated successfully\n",
      "\n",
      "1767.456 0.9211 1937.074\n",
      "0 existing calculation records provided\n"
     ]
    },
    {
     "name": "stderr",
     "output_type": "stream",
     "text": [
      "100%|█████████████████████████████████████████████████████████████████████████████████████| 1/1 [00:00<00:00,  3.47it/s]"
     ]
    },
    {
     "name": "stdout",
     "output_type": "stream",
     "text": [
      "1 calculation combinations to check\n",
      "1 new records to prepare\n"
     ]
    },
    {
     "name": "stderr",
     "output_type": "stream",
     "text": [
      "\n",
      "preparing: 100%|##########################################################################| 1/1 [00:00<00:00, 37.47it/s]\n"
     ]
    },
    {
     "name": "stdout",
     "output_type": "stream",
     "text": [
      "7e9eaa2d-5ea3-4297-b69e-dcf07e3551c0\n",
      "sim calculated successfully\n",
      "\n",
      "1769.641 0.2054 1867.337\n",
      "0 existing calculation records provided\n"
     ]
    },
    {
     "name": "stderr",
     "output_type": "stream",
     "text": [
      "100%|█████████████████████████████████████████████████████████████████████████████████████| 1/1 [00:00<00:00,  4.08it/s]"
     ]
    },
    {
     "name": "stdout",
     "output_type": "stream",
     "text": [
      "1 calculation combinations to check\n",
      "1 new records to prepare\n"
     ]
    },
    {
     "name": "stderr",
     "output_type": "stream",
     "text": [
      "\n",
      "preparing: 100%|##########################################################################| 1/1 [00:00<00:00, 45.48it/s]\n"
     ]
    },
    {
     "name": "stdout",
     "output_type": "stream",
     "text": [
      "2057f420-9ddc-41d4-a8c5-9688423b7408\n",
      "sim calculated successfully\n",
      "\n",
      "1768.549 0.2049 1843.976\n",
      "0 existing calculation records provided\n"
     ]
    },
    {
     "name": "stderr",
     "output_type": "stream",
     "text": [
      "100%|█████████████████████████████████████████████████████████████████████████████████████| 1/1 [00:00<00:00,  3.32it/s]"
     ]
    },
    {
     "name": "stdout",
     "output_type": "stream",
     "text": [
      "1 calculation combinations to check\n",
      "1 new records to prepare\n"
     ]
    },
    {
     "name": "stderr",
     "output_type": "stream",
     "text": [
      "\n",
      "preparing: 100%|##########################################################################| 1/1 [00:00<00:00, 38.87it/s]\n"
     ]
    },
    {
     "name": "stdout",
     "output_type": "stream",
     "text": [
      "5c19eaab-9df8-4510-b44b-105f02d11e6e\n",
      "sim calculated successfully\n",
      "\n",
      "1768.002 0.2013 1876.416\n",
      "0 existing calculation records provided\n"
     ]
    },
    {
     "name": "stderr",
     "output_type": "stream",
     "text": [
      "100%|█████████████████████████████████████████████████████████████████████████████████████| 1/1 [00:00<00:00,  3.37it/s]"
     ]
    },
    {
     "name": "stdout",
     "output_type": "stream",
     "text": [
      "1 calculation combinations to check\n",
      "1 new records to prepare\n"
     ]
    },
    {
     "name": "stderr",
     "output_type": "stream",
     "text": [
      "\n",
      "preparing: 100%|##########################################################################| 1/1 [00:00<00:00, 37.50it/s]\n"
     ]
    },
    {
     "name": "stdout",
     "output_type": "stream",
     "text": [
      "90b73025-62d9-4f84-8aaa-06b5cb887e9c\n",
      "sim calculated successfully\n",
      "\n",
      "1767.729 0.2003 1878.649\n",
      "0 existing calculation records provided\n"
     ]
    },
    {
     "name": "stderr",
     "output_type": "stream",
     "text": [
      "100%|█████████████████████████████████████████████████████████████████████████████████████| 1/1 [00:00<00:00,  3.50it/s]"
     ]
    },
    {
     "name": "stdout",
     "output_type": "stream",
     "text": [
      "1 calculation combinations to check\n",
      "1 new records to prepare\n"
     ]
    },
    {
     "name": "stderr",
     "output_type": "stream",
     "text": [
      "\n",
      "preparing: 100%|##########################################################################| 1/1 [00:00<00:00, 45.31it/s]\n"
     ]
    },
    {
     "name": "stdout",
     "output_type": "stream",
     "text": [
      "d2a1ca67-2f6a-4386-bfe5-dc6069d2b6f3\n",
      "sim calculated successfully\n",
      "\n",
      "1767.593 0.2228 1837.035\n",
      "0 existing calculation records provided\n"
     ]
    },
    {
     "name": "stderr",
     "output_type": "stream",
     "text": [
      "100%|█████████████████████████████████████████████████████████████████████████████████████| 1/1 [00:00<00:00,  3.39it/s]"
     ]
    },
    {
     "name": "stdout",
     "output_type": "stream",
     "text": [
      "1 calculation combinations to check\n",
      "1 new records to prepare\n"
     ]
    },
    {
     "name": "stderr",
     "output_type": "stream",
     "text": [
      "\n",
      "preparing: 100%|##########################################################################| 1/1 [00:00<00:00, 38.10it/s]\n"
     ]
    },
    {
     "name": "stdout",
     "output_type": "stream",
     "text": [
      "4e64b61c-fac7-44d1-a803-9ad0110fc99f\n",
      "sim calculated successfully\n",
      "\n",
      "1767.524 0.9184 1940.553\n",
      "0 existing calculation records provided\n"
     ]
    },
    {
     "name": "stderr",
     "output_type": "stream",
     "text": [
      "100%|█████████████████████████████████████████████████████████████████████████████████████| 1/1 [00:00<00:00,  3.71it/s]"
     ]
    },
    {
     "name": "stdout",
     "output_type": "stream",
     "text": [
      "1 calculation combinations to check\n",
      "1 new records to prepare\n"
     ]
    },
    {
     "name": "stderr",
     "output_type": "stream",
     "text": [
      "\n",
      "preparing: 100%|##########################################################################| 1/1 [00:00<00:00, 46.02it/s]\n"
     ]
    },
    {
     "name": "stdout",
     "output_type": "stream",
     "text": [
      "8b334dfa-2ceb-4030-90b2-2c57ec7b9301\n",
      "sim calculated successfully\n",
      "\n",
      "1767.558 0.1966 1889.855\n",
      "0 existing calculation records provided\n"
     ]
    },
    {
     "name": "stderr",
     "output_type": "stream",
     "text": [
      "100%|█████████████████████████████████████████████████████████████████████████████████████| 1/1 [00:00<00:00,  3.46it/s]"
     ]
    },
    {
     "name": "stdout",
     "output_type": "stream",
     "text": [
      "1 calculation combinations to check\n",
      "1 new records to prepare\n"
     ]
    },
    {
     "name": "stderr",
     "output_type": "stream",
     "text": [
      "\n",
      "preparing: 100%|##########################################################################| 1/1 [00:00<00:00, 38.28it/s]\n"
     ]
    },
    {
     "name": "stdout",
     "output_type": "stream",
     "text": [
      "834de263-0885-4799-a4d0-c8b8167be955\n",
      "sim calculated successfully\n",
      "\n",
      "1767.541 0.2011 1873.488\n",
      "0 existing calculation records provided\n"
     ]
    },
    {
     "name": "stderr",
     "output_type": "stream",
     "text": [
      "100%|█████████████████████████████████████████████████████████████████████████████████████| 1/1 [00:00<00:00,  3.35it/s]"
     ]
    },
    {
     "name": "stdout",
     "output_type": "stream",
     "text": [
      "1 calculation combinations to check\n",
      "1 new records to prepare\n"
     ]
    },
    {
     "name": "stderr",
     "output_type": "stream",
     "text": [
      "\n",
      "preparing: 100%|##########################################################################| 1/1 [00:00<00:00, 39.63it/s]\n"
     ]
    },
    {
     "name": "stdout",
     "output_type": "stream",
     "text": [
      "d8383059-48ba-446d-8f09-b09910c8fc52\n",
      "sim calculated successfully\n",
      "\n",
      "1767.533 0.9175 1946.370\n",
      "0 existing calculation records provided\n"
     ]
    },
    {
     "name": "stderr",
     "output_type": "stream",
     "text": [
      "100%|█████████████████████████████████████████████████████████████████████████████████████| 1/1 [00:00<00:00,  3.34it/s]"
     ]
    },
    {
     "name": "stdout",
     "output_type": "stream",
     "text": [
      "1 calculation combinations to check\n",
      "1 new records to prepare\n"
     ]
    },
    {
     "name": "stderr",
     "output_type": "stream",
     "text": [
      "\n",
      "preparing: 100%|##########################################################################| 1/1 [00:00<00:00, 39.09it/s]\n"
     ]
    },
    {
     "name": "stdout",
     "output_type": "stream",
     "text": [
      "3ea8e17a-efe8-4e0d-b063-aa423df1ed77\n",
      "sim calculated successfully\n",
      "\n",
      "1767.537 0.2131 1887.300\n",
      "0 existing calculation records provided\n"
     ]
    },
    {
     "name": "stderr",
     "output_type": "stream",
     "text": [
      "100%|█████████████████████████████████████████████████████████████████████████████████████| 1/1 [00:00<00:00,  3.23it/s]"
     ]
    },
    {
     "name": "stdout",
     "output_type": "stream",
     "text": [
      "1 calculation combinations to check\n",
      "1 new records to prepare\n"
     ]
    },
    {
     "name": "stderr",
     "output_type": "stream",
     "text": [
      "\n",
      "preparing: 100%|##########################################################################| 1/1 [00:00<00:00, 36.90it/s]\n"
     ]
    },
    {
     "name": "stdout",
     "output_type": "stream",
     "text": [
      "3b76c6bc-ba61-4a2f-b25e-90af43efaf32\n",
      "sim calculated successfully\n",
      "\n",
      "1767.535 0.2954 1847.500\n",
      "0 existing calculation records provided\n"
     ]
    },
    {
     "name": "stderr",
     "output_type": "stream",
     "text": [
      "100%|█████████████████████████████████████████████████████████████████████████████████████| 1/1 [00:00<00:00,  3.38it/s]"
     ]
    },
    {
     "name": "stdout",
     "output_type": "stream",
     "text": [
      "1 calculation combinations to check\n",
      "1 new records to prepare\n"
     ]
    },
    {
     "name": "stderr",
     "output_type": "stream",
     "text": [
      "\n",
      "preparing: 100%|##########################################################################| 1/1 [00:00<00:00, 32.06it/s]\n"
     ]
    },
    {
     "name": "stdout",
     "output_type": "stream",
     "text": [
      "a2c38761-62c8-4d62-b749-a3b3704f96b6\n",
      "sim calculated successfully\n",
      "\n",
      "1767.534 0.92 1932.898\n",
      "0 existing calculation records provided\n"
     ]
    },
    {
     "name": "stderr",
     "output_type": "stream",
     "text": [
      "100%|█████████████████████████████████████████████████████████████████████████████████████| 1/1 [00:00<00:00,  3.22it/s]"
     ]
    },
    {
     "name": "stdout",
     "output_type": "stream",
     "text": [
      "1 calculation combinations to check\n",
      "1 new records to prepare\n"
     ]
    },
    {
     "name": "stderr",
     "output_type": "stream",
     "text": [
      "\n",
      "preparing: 100%|##########################################################################| 1/1 [00:00<00:00, 36.84it/s]\n"
     ]
    },
    {
     "name": "stdout",
     "output_type": "stream",
     "text": [
      "930857d3-4ba9-49b2-9f83-b11cb000cf89\n",
      "sim calculated successfully\n",
      "\n",
      "1767.536 0.2003 1839.610\n",
      "0 existing calculation records provided\n"
     ]
    },
    {
     "name": "stderr",
     "output_type": "stream",
     "text": [
      "100%|█████████████████████████████████████████████████████████████████████████████████████| 1/1 [00:00<00:00,  3.74it/s]"
     ]
    },
    {
     "name": "stdout",
     "output_type": "stream",
     "text": [
      "1 calculation combinations to check\n",
      "1 new records to prepare\n"
     ]
    },
    {
     "name": "stderr",
     "output_type": "stream",
     "text": [
      "\n",
      "preparing: 100%|##########################################################################| 1/1 [00:00<00:00, 26.84it/s]\n"
     ]
    },
    {
     "name": "stdout",
     "output_type": "stream",
     "text": [
      "8a8b4f7a-dace-40df-8519-dbb2b934c292\n",
      "sim calculated successfully\n",
      "\n",
      "1767.535 0.1959 1852.344\n",
      "0 existing calculation records provided\n"
     ]
    },
    {
     "name": "stderr",
     "output_type": "stream",
     "text": [
      "100%|█████████████████████████████████████████████████████████████████████████████████████| 1/1 [00:00<00:00,  4.13it/s]"
     ]
    },
    {
     "name": "stdout",
     "output_type": "stream",
     "text": [
      "1 calculation combinations to check\n",
      "1 new records to prepare\n"
     ]
    },
    {
     "name": "stderr",
     "output_type": "stream",
     "text": [
      "\n",
      "preparing: 100%|##########################################################################| 1/1 [00:00<00:00, 35.31it/s]\n"
     ]
    },
    {
     "name": "stdout",
     "output_type": "stream",
     "text": [
      "a7462dd8-35b1-4221-9430-a815a55c48c5\n",
      "sim calculated successfully\n",
      "\n",
      "1767.534 0.1986 1847.379\n",
      "0 existing calculation records provided\n"
     ]
    },
    {
     "name": "stderr",
     "output_type": "stream",
     "text": [
      "100%|█████████████████████████████████████████████████████████████████████████████████████| 1/1 [00:00<00:00,  3.48it/s]"
     ]
    },
    {
     "name": "stdout",
     "output_type": "stream",
     "text": [
      "1 calculation combinations to check\n",
      "1 new records to prepare\n"
     ]
    },
    {
     "name": "stderr",
     "output_type": "stream",
     "text": [
      "\n",
      "preparing: 100%|##########################################################################| 1/1 [00:00<00:00, 25.75it/s]\n"
     ]
    },
    {
     "name": "stdout",
     "output_type": "stream",
     "text": [
      "c4ea1f40-4f20-4098-a281-2022068837a4\n",
      "sim calculated successfully\n",
      "\n",
      "1767.534 0.9246 1941.116\n",
      "0 existing calculation records provided\n"
     ]
    },
    {
     "name": "stderr",
     "output_type": "stream",
     "text": [
      "100%|█████████████████████████████████████████████████████████████████████████████████████| 1/1 [00:00<00:00,  3.51it/s]"
     ]
    },
    {
     "name": "stdout",
     "output_type": "stream",
     "text": [
      "1 calculation combinations to check\n",
      "1 new records to prepare\n"
     ]
    },
    {
     "name": "stderr",
     "output_type": "stream",
     "text": [
      "\n",
      "preparing: 100%|##########################################################################| 1/1 [00:00<00:00, 22.37it/s]\n"
     ]
    },
    {
     "name": "stdout",
     "output_type": "stream",
     "text": [
      "258e3dea-8107-4c93-ae95-fceff025ba11\n",
      "sim calculated successfully\n",
      "\n",
      "1767.534 0.2113 1878.145\n",
      "0 existing calculation records provided\n"
     ]
    },
    {
     "name": "stderr",
     "output_type": "stream",
     "text": [
      "100%|█████████████████████████████████████████████████████████████████████████████████████| 1/1 [00:00<00:00,  4.05it/s]"
     ]
    },
    {
     "name": "stdout",
     "output_type": "stream",
     "text": [
      "1 calculation combinations to check\n",
      "1 new records to prepare\n"
     ]
    },
    {
     "name": "stderr",
     "output_type": "stream",
     "text": [
      "\n",
      "preparing: 100%|##########################################################################| 1/1 [00:00<00:00, 34.73it/s]\n"
     ]
    },
    {
     "name": "stdout",
     "output_type": "stream",
     "text": [
      "8e44684e-7514-4a43-ad5b-99cf6b5054a4\n",
      "sim calculated successfully\n",
      "\n",
      "1767.534 0.3559 1848.725\n",
      "0 existing calculation records provided\n"
     ]
    },
    {
     "name": "stderr",
     "output_type": "stream",
     "text": [
      "100%|█████████████████████████████████████████████████████████████████████████████████████| 1/1 [00:00<00:00,  3.34it/s]"
     ]
    },
    {
     "name": "stdout",
     "output_type": "stream",
     "text": [
      "1 calculation combinations to check\n",
      "1 new records to prepare\n"
     ]
    },
    {
     "name": "stderr",
     "output_type": "stream",
     "text": [
      "\n",
      "preparing: 100%|##########################################################################| 1/1 [00:00<00:00, 18.23it/s]\n"
     ]
    },
    {
     "name": "stdout",
     "output_type": "stream",
     "text": [
      "3b7a2b3d-25ed-4db9-808f-dcc1d2ff873c\n",
      "sim calculated successfully\n",
      "\n",
      "1767.534 0.9181 1943.728\n",
      "0 existing calculation records provided\n"
     ]
    },
    {
     "name": "stderr",
     "output_type": "stream",
     "text": [
      "100%|█████████████████████████████████████████████████████████████████████████████████████| 1/1 [00:00<00:00,  3.81it/s]"
     ]
    },
    {
     "name": "stdout",
     "output_type": "stream",
     "text": [
      "1 calculation combinations to check\n",
      "1 new records to prepare\n"
     ]
    },
    {
     "name": "stderr",
     "output_type": "stream",
     "text": [
      "\n",
      "preparing: 100%|##########################################################################| 1/1 [00:00<00:00, 35.91it/s]\n"
     ]
    },
    {
     "name": "stdout",
     "output_type": "stream",
     "text": [
      "fc7f7457-e4c9-4baf-8a10-56a643dc97db\n",
      "sim calculated successfully\n",
      "\n",
      "1767.534 0.2093 1877.796\n",
      "0 existing calculation records provided\n"
     ]
    },
    {
     "name": "stderr",
     "output_type": "stream",
     "text": [
      "100%|█████████████████████████████████████████████████████████████████████████████████████| 1/1 [00:00<00:00,  3.36it/s]"
     ]
    },
    {
     "name": "stdout",
     "output_type": "stream",
     "text": [
      "1 calculation combinations to check\n",
      "1 new records to prepare\n"
     ]
    },
    {
     "name": "stderr",
     "output_type": "stream",
     "text": [
      "\n",
      "preparing: 100%|##########################################################################| 1/1 [00:00<00:00, 22.08it/s]\n"
     ]
    },
    {
     "name": "stdout",
     "output_type": "stream",
     "text": [
      "774a0a79-d74d-41b7-9fc6-6f470c24a594\n",
      "sim calculated successfully\n",
      "\n",
      "1767.534 0.2135 1835.737\n",
      "0 existing calculation records provided\n"
     ]
    },
    {
     "name": "stderr",
     "output_type": "stream",
     "text": [
      "100%|█████████████████████████████████████████████████████████████████████████████████████| 1/1 [00:00<00:00,  3.48it/s]"
     ]
    },
    {
     "name": "stdout",
     "output_type": "stream",
     "text": [
      "1 calculation combinations to check\n",
      "1 new records to prepare\n"
     ]
    },
    {
     "name": "stderr",
     "output_type": "stream",
     "text": [
      "\n",
      "preparing: 100%|##########################################################################| 1/1 [00:00<00:00, 24.11it/s]\n"
     ]
    },
    {
     "name": "stdout",
     "output_type": "stream",
     "text": [
      "f3a58038-fbf2-42bd-bf6d-62da32a14751\n",
      "sim calculated successfully\n",
      "\n",
      "1767.534 0.9172 1930.459\n",
      "0 existing calculation records provided\n"
     ]
    },
    {
     "name": "stderr",
     "output_type": "stream",
     "text": [
      "100%|█████████████████████████████████████████████████████████████████████████████████████| 1/1 [00:00<00:00,  4.29it/s]"
     ]
    },
    {
     "name": "stdout",
     "output_type": "stream",
     "text": [
      "1 calculation combinations to check\n",
      "1 new records to prepare\n"
     ]
    },
    {
     "name": "stderr",
     "output_type": "stream",
     "text": [
      "\n",
      "preparing: 100%|##########################################################################| 1/1 [00:00<00:00, 29.89it/s]\n"
     ]
    },
    {
     "name": "stdout",
     "output_type": "stream",
     "text": [
      "bf8efedd-c9d6-4138-b2a9-eaeda000312d\n",
      "sim calculated successfully\n",
      "\n",
      "1767.534 0.92 1933.682\n",
      "Max number of runs reached!\n",
      "82 2007--Mendelev-M-I--V-Fe--LAMMPS--ipr1\n",
      "0 existing calculation records provided\n"
     ]
    },
    {
     "name": "stderr",
     "output_type": "stream",
     "text": [
      "100%|█████████████████████████████████████████████████████████████████████████████████████| 1/1 [00:00<00:00,  3.33it/s]"
     ]
    },
    {
     "name": "stdout",
     "output_type": "stream",
     "text": [
      "1 calculation combinations to check\n",
      "1 new records to prepare\n"
     ]
    },
    {
     "name": "stderr",
     "output_type": "stream",
     "text": [
      "\n",
      "preparing: 100%|##########################################################################| 1/1 [00:00<00:00, 22.29it/s]\n"
     ]
    },
    {
     "name": "stdout",
     "output_type": "stream",
     "text": [
      "a223fffd-990c-4793-b64f-d948a8a36fbe\n",
      "sim calculated successfully\n",
      "\n",
      "4525.000 0.004634 4337.452\n",
      "0 existing calculation records provided\n"
     ]
    },
    {
     "name": "stderr",
     "output_type": "stream",
     "text": [
      "100%|█████████████████████████████████████████████████████████████████████████████████████| 1/1 [00:00<00:00,  3.57it/s]"
     ]
    },
    {
     "name": "stdout",
     "output_type": "stream",
     "text": [
      "1 calculation combinations to check\n",
      "1 new records to prepare\n"
     ]
    },
    {
     "name": "stderr",
     "output_type": "stream",
     "text": [
      "\n",
      "preparing: 100%|##########################################################################| 1/1 [00:00<00:00, 25.42it/s]\n"
     ]
    },
    {
     "name": "stdout",
     "output_type": "stream",
     "text": [
      "52003bbd-282c-465b-bb71-cad164fe3d3f\n",
      "sim calculated successfully\n",
      "\n",
      "2287.500 0.001365 2227.283\n",
      "0 existing calculation records provided\n"
     ]
    },
    {
     "name": "stderr",
     "output_type": "stream",
     "text": [
      "100%|█████████████████████████████████████████████████████████████████████████████████████| 1/1 [00:00<00:00,  3.14it/s]"
     ]
    },
    {
     "name": "stdout",
     "output_type": "stream",
     "text": [
      "1 calculation combinations to check\n",
      "1 new records to prepare\n"
     ]
    },
    {
     "name": "stderr",
     "output_type": "stream",
     "text": [
      "\n",
      "preparing: 100%|##########################################################################| 1/1 [00:00<00:00, 24.18it/s]\n"
     ]
    },
    {
     "name": "stdout",
     "output_type": "stream",
     "text": [
      "ed978885-7671-4dda-bd2f-9bd56ec142aa\n",
      "sim calculated successfully\n",
      "\n",
      "1168.750 0.2917 1175.207\n",
      "0 existing calculation records provided\n"
     ]
    },
    {
     "name": "stderr",
     "output_type": "stream",
     "text": [
      "100%|█████████████████████████████████████████████████████████████████████████████████████| 1/1 [00:00<00:00,  3.47it/s]"
     ]
    },
    {
     "name": "stdout",
     "output_type": "stream",
     "text": [
      "1 calculation combinations to check\n",
      "1 new records to prepare\n"
     ]
    },
    {
     "name": "stderr",
     "output_type": "stream",
     "text": [
      "\n",
      "preparing: 100%|##########################################################################| 1/1 [00:00<00:00, 21.63it/s]\n"
     ]
    },
    {
     "name": "stdout",
     "output_type": "stream",
     "text": [
      "bd270ddf-3c76-440e-9d0a-0d9ee9dfae48\n",
      "sim calculated successfully\n",
      "\n",
      "609.375 0.3811 608.285\n",
      "0 existing calculation records provided\n"
     ]
    },
    {
     "name": "stderr",
     "output_type": "stream",
     "text": [
      "100%|█████████████████████████████████████████████████████████████████████████████████████| 1/1 [00:00<00:00,  3.32it/s]"
     ]
    },
    {
     "name": "stdout",
     "output_type": "stream",
     "text": [
      "1 calculation combinations to check\n",
      "1 new records to prepare\n"
     ]
    },
    {
     "name": "stderr",
     "output_type": "stream",
     "text": [
      "\n",
      "preparing: 100%|##########################################################################| 1/1 [00:00<00:00, 25.94it/s]\n"
     ]
    },
    {
     "name": "stdout",
     "output_type": "stream",
     "text": [
      "7b75b7bf-3b9d-457f-9a8c-3a2115507c1a\n",
      "sim calculated successfully\n",
      "\n",
      "329.688 0.433 330.417\n",
      "0 existing calculation records provided\n"
     ]
    },
    {
     "name": "stderr",
     "output_type": "stream",
     "text": [
      "100%|█████████████████████████████████████████████████████████████████████████████████████| 1/1 [00:00<00:00,  3.41it/s]"
     ]
    },
    {
     "name": "stdout",
     "output_type": "stream",
     "text": [
      "1 calculation combinations to check\n",
      "1 new records to prepare\n"
     ]
    },
    {
     "name": "stderr",
     "output_type": "stream",
     "text": [
      "\n",
      "preparing: 100%|##########################################################################| 1/1 [00:00<00:00, 23.53it/s]\n"
     ]
    },
    {
     "name": "stdout",
     "output_type": "stream",
     "text": [
      "cdfff182-9eb6-433f-8622-d62fdf6c7362\n",
      "sim calculated successfully\n",
      "\n",
      "329.688 0.4005 337.050\n",
      "0 existing calculation records provided\n"
     ]
    },
    {
     "name": "stderr",
     "output_type": "stream",
     "text": [
      "100%|█████████████████████████████████████████████████████████████████████████████████████| 1/1 [00:00<00:00,  3.51it/s]"
     ]
    },
    {
     "name": "stdout",
     "output_type": "stream",
     "text": [
      "1 calculation combinations to check\n",
      "1 new records to prepare\n"
     ]
    },
    {
     "name": "stderr",
     "output_type": "stream",
     "text": [
      "\n",
      "preparing: 100%|##########################################################################| 1/1 [00:00<00:00, 41.87it/s]\n"
     ]
    },
    {
     "name": "stdout",
     "output_type": "stream",
     "text": [
      "1bdb5cc8-e22e-4169-9343-fe01503d92b8\n",
      "sim calculated successfully\n",
      "\n",
      "329.688 0.4348 329.198\n",
      "0 existing calculation records provided\n"
     ]
    },
    {
     "name": "stderr",
     "output_type": "stream",
     "text": [
      "100%|█████████████████████████████████████████████████████████████████████████████████████| 1/1 [00:00<00:00,  3.41it/s]"
     ]
    },
    {
     "name": "stdout",
     "output_type": "stream",
     "text": [
      "1 calculation combinations to check\n",
      "1 new records to prepare\n"
     ]
    },
    {
     "name": "stderr",
     "output_type": "stream",
     "text": [
      "\n",
      "preparing: 100%|##########################################################################| 1/1 [00:00<00:00, 24.69it/s]\n"
     ]
    },
    {
     "name": "stdout",
     "output_type": "stream",
     "text": [
      "e19eabbc-7fb1-48f6-bb0e-f2b230fa5620\n",
      "sim calculated successfully\n",
      "\n",
      "329.688 0.4387 328.098\n",
      "0 existing calculation records provided\n"
     ]
    },
    {
     "name": "stderr",
     "output_type": "stream",
     "text": [
      "100%|█████████████████████████████████████████████████████████████████████████████████████| 1/1 [00:00<00:00,  4.24it/s]"
     ]
    },
    {
     "name": "stdout",
     "output_type": "stream",
     "text": [
      "1 calculation combinations to check\n",
      "1 new records to prepare\n"
     ]
    },
    {
     "name": "stderr",
     "output_type": "stream",
     "text": [
      "\n",
      "preparing: 100%|##########################################################################| 1/1 [00:00<00:00, 37.37it/s]\n"
     ]
    },
    {
     "name": "stdout",
     "output_type": "stream",
     "text": [
      "cee8967c-01b7-4806-95c9-f5f8400f089c\n",
      "sim calculated successfully\n",
      "\n",
      "329.688 0.4355 332.106\n",
      "0 existing calculation records provided\n"
     ]
    },
    {
     "name": "stderr",
     "output_type": "stream",
     "text": [
      "100%|█████████████████████████████████████████████████████████████████████████████████████| 1/1 [00:00<00:00,  3.51it/s]"
     ]
    },
    {
     "name": "stdout",
     "output_type": "stream",
     "text": [
      "1 calculation combinations to check\n",
      "1 new records to prepare\n"
     ]
    },
    {
     "name": "stderr",
     "output_type": "stream",
     "text": [
      "\n",
      "preparing: 100%|##########################################################################| 1/1 [00:00<00:00, 26.78it/s]\n"
     ]
    },
    {
     "name": "stdout",
     "output_type": "stream",
     "text": [
      "1aa954da-b49e-40e2-be36-295ad99afa63\n",
      "sim calculated successfully\n",
      "\n",
      "329.688 0.4352 329.361\n",
      "0 existing calculation records provided\n"
     ]
    },
    {
     "name": "stderr",
     "output_type": "stream",
     "text": [
      "100%|█████████████████████████████████████████████████████████████████████████████████████| 1/1 [00:00<00:00,  3.89it/s]"
     ]
    },
    {
     "name": "stdout",
     "output_type": "stream",
     "text": [
      "1 calculation combinations to check\n",
      "1 new records to prepare\n"
     ]
    },
    {
     "name": "stderr",
     "output_type": "stream",
     "text": [
      "\n",
      "preparing: 100%|##########################################################################| 1/1 [00:00<00:00, 37.93it/s]\n"
     ]
    },
    {
     "name": "stdout",
     "output_type": "stream",
     "text": [
      "a2401dde-0df2-4ad2-9bc0-55d3a6a6053c\n",
      "sim calculated successfully\n",
      "\n",
      "329.688 0.4114 328.413\n",
      "0 existing calculation records provided\n"
     ]
    },
    {
     "name": "stderr",
     "output_type": "stream",
     "text": [
      "100%|█████████████████████████████████████████████████████████████████████████████████████| 1/1 [00:00<00:00,  3.46it/s]"
     ]
    },
    {
     "name": "stdout",
     "output_type": "stream",
     "text": [
      "1 calculation combinations to check\n",
      "1 new records to prepare\n"
     ]
    },
    {
     "name": "stderr",
     "output_type": "stream",
     "text": [
      "\n",
      "preparing: 100%|##########################################################################| 1/1 [00:00<00:00, 24.73it/s]\n"
     ]
    },
    {
     "name": "stdout",
     "output_type": "stream",
     "text": [
      "e23cde40-ac54-4bc3-a241-e15b9c69c954\n",
      "sim calculated successfully\n",
      "\n",
      "329.688 0.4357 327.978\n",
      "83 2007--Mendelev-M-I--Zr-2--LAMMPS--ipr1\n",
      "0 existing calculation records provided\n"
     ]
    },
    {
     "name": "stderr",
     "output_type": "stream",
     "text": [
      "100%|█████████████████████████████████████████████████████████████████████████████████████| 1/1 [00:00<00:00,  4.04it/s]"
     ]
    },
    {
     "name": "stdout",
     "output_type": "stream",
     "text": [
      "1 calculation combinations to check\n",
      "1 new records to prepare\n"
     ]
    },
    {
     "name": "stderr",
     "output_type": "stream",
     "text": [
      "\n",
      "preparing: 100%|##########################################################################| 1/1 [00:00<00:00, 58.26it/s]\n"
     ]
    },
    {
     "name": "stdout",
     "output_type": "stream",
     "text": [
      "fb7d4398-4dbd-4449-9da3-b004ae5c429e\n",
      "sim calculated successfully\n",
      "\n",
      "4525.000 4.138e-05 4511.860\n",
      "0 existing calculation records provided\n"
     ]
    },
    {
     "name": "stderr",
     "output_type": "stream",
     "text": [
      "100%|█████████████████████████████████████████████████████████████████████████████████████| 1/1 [00:00<00:00,  3.31it/s]"
     ]
    },
    {
     "name": "stdout",
     "output_type": "stream",
     "text": [
      "1 calculation combinations to check\n",
      "1 new records to prepare\n"
     ]
    },
    {
     "name": "stderr",
     "output_type": "stream",
     "text": [
      "\n",
      "preparing: 100%|##########################################################################| 1/1 [00:00<00:00, 31.81it/s]\n"
     ]
    },
    {
     "name": "stdout",
     "output_type": "stream",
     "text": [
      "5c0ff897-3e7f-49b7-a3c3-5dd9c97a33c2\n",
      "sim calculated successfully\n",
      "\n",
      "2287.500 0.002534 2069.812\n",
      "0 existing calculation records provided\n"
     ]
    },
    {
     "name": "stderr",
     "output_type": "stream",
     "text": [
      "100%|█████████████████████████████████████████████████████████████████████████████████████| 1/1 [00:00<00:00,  3.31it/s]"
     ]
    },
    {
     "name": "stdout",
     "output_type": "stream",
     "text": [
      "1 calculation combinations to check\n",
      "1 new records to prepare\n"
     ]
    },
    {
     "name": "stderr",
     "output_type": "stream",
     "text": [
      "\n",
      "preparing: 100%|##########################################################################| 1/1 [00:00<00:00, 26.51it/s]\n"
     ]
    },
    {
     "name": "stdout",
     "output_type": "stream",
     "text": [
      "cd9bb3b0-6a05-4d03-8ca3-924f028dbdb1\n",
      "sim calculated successfully\n",
      "\n",
      "1168.750 0.9999 1165.144\n",
      "0 existing calculation records provided\n"
     ]
    },
    {
     "name": "stderr",
     "output_type": "stream",
     "text": [
      "100%|█████████████████████████████████████████████████████████████████████████████████████| 1/1 [00:00<00:00,  4.17it/s]"
     ]
    },
    {
     "name": "stdout",
     "output_type": "stream",
     "text": [
      "1 calculation combinations to check\n",
      "1 new records to prepare\n"
     ]
    },
    {
     "name": "stderr",
     "output_type": "stream",
     "text": [
      "\n",
      "preparing: 100%|##########################################################################| 1/1 [00:00<00:00, 52.29it/s]\n"
     ]
    },
    {
     "name": "stdout",
     "output_type": "stream",
     "text": [
      "3e6e4d91-133a-4bac-ba0a-e7a052efd275\n",
      "sim calculated successfully\n",
      "\n",
      "1728.125 0.2547 1784.227\n",
      "0 existing calculation records provided\n"
     ]
    },
    {
     "name": "stderr",
     "output_type": "stream",
     "text": [
      "100%|█████████████████████████████████████████████████████████████████████████████████████| 1/1 [00:00<00:00,  3.53it/s]"
     ]
    },
    {
     "name": "stdout",
     "output_type": "stream",
     "text": [
      "1 calculation combinations to check\n",
      "1 new records to prepare\n"
     ]
    },
    {
     "name": "stderr",
     "output_type": "stream",
     "text": [
      "\n",
      "preparing: 100%|##########################################################################| 1/1 [00:00<00:00, 30.05it/s]\n"
     ]
    },
    {
     "name": "stdout",
     "output_type": "stream",
     "text": [
      "8ecbc0ba-168e-494c-8bc1-4cfce4269e87\n",
      "sim calculated successfully\n",
      "\n",
      "1448.438 0.9968 1450.515\n",
      "0 existing calculation records provided\n"
     ]
    },
    {
     "name": "stderr",
     "output_type": "stream",
     "text": [
      "100%|█████████████████████████████████████████████████████████████████████████████████████| 1/1 [00:00<00:00,  4.28it/s]"
     ]
    },
    {
     "name": "stdout",
     "output_type": "stream",
     "text": [
      "1 calculation combinations to check\n",
      "1 new records to prepare\n"
     ]
    },
    {
     "name": "stderr",
     "output_type": "stream",
     "text": [
      "\n",
      "preparing: 100%|##########################################################################| 1/1 [00:00<00:00, 61.28it/s]\n"
     ]
    },
    {
     "name": "stdout",
     "output_type": "stream",
     "text": [
      "2aadae27-4a3f-401c-ac70-029351f0d50a\n",
      "sim calculated successfully\n",
      "\n",
      "1867.969 0.3467 1983.423\n",
      "0 existing calculation records provided\n"
     ]
    },
    {
     "name": "stderr",
     "output_type": "stream",
     "text": [
      "100%|█████████████████████████████████████████████████████████████████████████████████████| 1/1 [00:00<00:00,  3.47it/s]"
     ]
    },
    {
     "name": "stdout",
     "output_type": "stream",
     "text": [
      "1 calculation combinations to check\n",
      "1 new records to prepare\n"
     ]
    },
    {
     "name": "stderr",
     "output_type": "stream",
     "text": [
      "\n",
      "preparing: 100%|##########################################################################| 1/1 [00:00<00:00, 27.97it/s]\n"
     ]
    },
    {
     "name": "stdout",
     "output_type": "stream",
     "text": [
      "606be02c-f582-44be-8592-1dc4d7134b1e\n",
      "sim calculated successfully\n",
      "\n",
      "1658.203 0.9339 1747.487\n",
      "0 existing calculation records provided\n"
     ]
    },
    {
     "name": "stderr",
     "output_type": "stream",
     "text": [
      "100%|█████████████████████████████████████████████████████████████████████████████████████| 1/1 [00:00<00:00,  3.30it/s]"
     ]
    },
    {
     "name": "stdout",
     "output_type": "stream",
     "text": [
      "1 calculation combinations to check\n",
      "1 new records to prepare\n"
     ]
    },
    {
     "name": "stderr",
     "output_type": "stream",
     "text": [
      "\n",
      "preparing: 100%|##########################################################################| 1/1 [00:00<00:00, 52.16it/s]\n"
     ]
    },
    {
     "name": "stdout",
     "output_type": "stream",
     "text": [
      "0d8ef437-0f42-466d-a501-e659c0d8bd35\n",
      "sim calculated successfully\n",
      "\n",
      "1972.852 0.1448 2119.042\n",
      "0 existing calculation records provided\n"
     ]
    },
    {
     "name": "stderr",
     "output_type": "stream",
     "text": [
      "100%|█████████████████████████████████████████████████████████████████████████████████████| 1/1 [00:00<00:00,  3.51it/s]"
     ]
    },
    {
     "name": "stdout",
     "output_type": "stream",
     "text": [
      "1 calculation combinations to check\n",
      "1 new records to prepare\n"
     ]
    },
    {
     "name": "stderr",
     "output_type": "stream",
     "text": [
      "\n",
      "preparing: 100%|##########################################################################| 1/1 [00:00<00:00, 29.96it/s]\n"
     ]
    },
    {
     "name": "stdout",
     "output_type": "stream",
     "text": [
      "aa389951-61be-4aa5-b624-e1c8418218ad\n",
      "sim calculated successfully\n",
      "\n",
      "1815.527 0.1905 1938.750\n",
      "0 existing calculation records provided\n"
     ]
    },
    {
     "name": "stderr",
     "output_type": "stream",
     "text": [
      "100%|█████████████████████████████████████████████████████████████████████████████████████| 1/1 [00:00<00:00,  3.25it/s]"
     ]
    },
    {
     "name": "stdout",
     "output_type": "stream",
     "text": [
      "1 calculation combinations to check\n",
      "1 new records to prepare\n"
     ]
    },
    {
     "name": "stderr",
     "output_type": "stream",
     "text": [
      "\n",
      "preparing: 100%|##########################################################################| 1/1 [00:00<00:00, 28.57it/s]\n"
     ]
    },
    {
     "name": "stdout",
     "output_type": "stream",
     "text": [
      "b517662e-39c4-4443-a260-b669b3b1cb31\n",
      "sim calculated successfully\n",
      "\n",
      "1736.865 0.9017 1891.810\n",
      "0 existing calculation records provided\n"
     ]
    },
    {
     "name": "stderr",
     "output_type": "stream",
     "text": [
      "100%|█████████████████████████████████████████████████████████████████████████████████████| 1/1 [00:00<00:00,  4.28it/s]"
     ]
    },
    {
     "name": "stdout",
     "output_type": "stream",
     "text": [
      "1 calculation combinations to check\n",
      "1 new records to prepare\n"
     ]
    },
    {
     "name": "stderr",
     "output_type": "stream",
     "text": [
      "\n",
      "preparing: 100%|##########################################################################| 1/1 [00:00<00:00, 56.49it/s]\n"
     ]
    },
    {
     "name": "stdout",
     "output_type": "stream",
     "text": [
      "73e94156-c380-4bdd-9101-b5288018ce8b\n",
      "sim calculated successfully\n",
      "\n",
      "1776.196 0.9204 1949.356\n",
      "0 existing calculation records provided\n"
     ]
    },
    {
     "name": "stderr",
     "output_type": "stream",
     "text": [
      "100%|█████████████████████████████████████████████████████████████████████████████████████| 1/1 [00:00<00:00,  3.68it/s]"
     ]
    },
    {
     "name": "stdout",
     "output_type": "stream",
     "text": [
      "1 calculation combinations to check\n",
      "1 new records to prepare\n"
     ]
    },
    {
     "name": "stderr",
     "output_type": "stream",
     "text": [
      "\n",
      "preparing: 100%|##########################################################################| 1/1 [00:00<00:00, 28.79it/s]\n"
     ]
    },
    {
     "name": "stdout",
     "output_type": "stream",
     "text": [
      "c25a023f-cbee-40ad-ba85-15c25221c604\n",
      "sim calculated successfully\n",
      "\n",
      "1795.862 0.2332 1877.923\n",
      "0 existing calculation records provided\n"
     ]
    },
    {
     "name": "stderr",
     "output_type": "stream",
     "text": [
      "100%|█████████████████████████████████████████████████████████████████████████████████████| 1/1 [00:00<00:00,  3.29it/s]"
     ]
    },
    {
     "name": "stdout",
     "output_type": "stream",
     "text": [
      "1 calculation combinations to check\n",
      "1 new records to prepare\n"
     ]
    },
    {
     "name": "stderr",
     "output_type": "stream",
     "text": [
      "\n",
      "preparing: 100%|##########################################################################| 1/1 [00:00<00:00, 55.80it/s]\n"
     ]
    },
    {
     "name": "stdout",
     "output_type": "stream",
     "text": [
      "84c94e5c-fd90-435d-9afa-e925f9f6a77b\n",
      "sim calculated successfully\n",
      "\n",
      "1786.029 0.194 1909.706\n",
      "0 existing calculation records provided\n"
     ]
    },
    {
     "name": "stderr",
     "output_type": "stream",
     "text": [
      "100%|█████████████████████████████████████████████████████████████████████████████████████| 1/1 [00:00<00:00,  2.60it/s]"
     ]
    },
    {
     "name": "stdout",
     "output_type": "stream",
     "text": [
      "1 calculation combinations to check\n",
      "1 new records to prepare\n"
     ]
    },
    {
     "name": "stderr",
     "output_type": "stream",
     "text": [
      "\n",
      "preparing: 100%|##########################################################################| 1/1 [00:00<00:00, 15.04it/s]\n"
     ]
    },
    {
     "name": "stdout",
     "output_type": "stream",
     "text": [
      "0c9df3b7-5ff5-4d9d-bfee-cac46a0a92ee\n",
      "sim calculated successfully\n",
      "\n",
      "1781.113 0.2115 1864.113\n",
      "0 existing calculation records provided\n"
     ]
    },
    {
     "name": "stderr",
     "output_type": "stream",
     "text": [
      "100%|█████████████████████████████████████████████████████████████████████████████████████| 1/1 [00:00<00:00,  3.62it/s]"
     ]
    },
    {
     "name": "stdout",
     "output_type": "stream",
     "text": [
      "1 calculation combinations to check\n",
      "1 new records to prepare\n"
     ]
    },
    {
     "name": "stderr",
     "output_type": "stream",
     "text": [
      "\n",
      "preparing: 100%|##########################################################################| 1/1 [00:00<00:00, 28.54it/s]\n"
     ]
    },
    {
     "name": "stdout",
     "output_type": "stream",
     "text": [
      "ebd41cec-6dab-4793-8c97-cd583d532a65\n",
      "sim calculated successfully\n",
      "\n",
      "1778.654 0.3025 1841.074\n",
      "0 existing calculation records provided\n"
     ]
    },
    {
     "name": "stderr",
     "output_type": "stream",
     "text": [
      "100%|█████████████████████████████████████████████████████████████████████████████████████| 1/1 [00:00<00:00,  2.77it/s]"
     ]
    },
    {
     "name": "stdout",
     "output_type": "stream",
     "text": [
      "1 calculation combinations to check\n",
      "1 new records to prepare\n"
     ]
    },
    {
     "name": "stderr",
     "output_type": "stream",
     "text": [
      "\n",
      "preparing: 100%|##########################################################################| 1/1 [00:00<00:00, 15.90it/s]\n"
     ]
    },
    {
     "name": "stdout",
     "output_type": "stream",
     "text": [
      "8addff2d-a5f9-46ac-99a2-6848219b7600\n",
      "sim calculated successfully\n",
      "\n",
      "1777.425 0.2158 1862.129\n",
      "0 existing calculation records provided\n"
     ]
    },
    {
     "name": "stderr",
     "output_type": "stream",
     "text": [
      "100%|█████████████████████████████████████████████████████████████████████████████████████| 1/1 [00:00<00:00,  3.35it/s]"
     ]
    },
    {
     "name": "stdout",
     "output_type": "stream",
     "text": [
      "1 calculation combinations to check\n",
      "1 new records to prepare\n"
     ]
    },
    {
     "name": "stderr",
     "output_type": "stream",
     "text": [
      "\n",
      "preparing: 100%|##########################################################################| 1/1 [00:00<00:00, 28.38it/s]\n"
     ]
    },
    {
     "name": "stdout",
     "output_type": "stream",
     "text": [
      "2cc575f2-ddd3-474f-831a-12b585085f34\n",
      "sim calculated successfully\n",
      "\n",
      "1776.811 0.1974 1891.770\n",
      "0 existing calculation records provided\n"
     ]
    },
    {
     "name": "stderr",
     "output_type": "stream",
     "text": [
      "100%|█████████████████████████████████████████████████████████████████████████████████████| 1/1 [00:00<00:00,  2.99it/s]"
     ]
    },
    {
     "name": "stdout",
     "output_type": "stream",
     "text": [
      "1 calculation combinations to check\n",
      "1 new records to prepare\n"
     ]
    },
    {
     "name": "stderr",
     "output_type": "stream",
     "text": [
      "\n",
      "preparing: 100%|##########################################################################| 1/1 [00:00<00:00, 23.56it/s]\n"
     ]
    },
    {
     "name": "stdout",
     "output_type": "stream",
     "text": [
      "a57fcb63-1e27-4376-8af8-53fe488a9ee9\n",
      "sim calculated successfully\n",
      "\n",
      "1776.504 0.1971 1887.354\n",
      "0 existing calculation records provided\n"
     ]
    },
    {
     "name": "stderr",
     "output_type": "stream",
     "text": [
      "100%|█████████████████████████████████████████████████████████████████████████████████████| 1/1 [00:00<00:00,  2.81it/s]"
     ]
    },
    {
     "name": "stdout",
     "output_type": "stream",
     "text": [
      "1 calculation combinations to check\n",
      "1 new records to prepare\n"
     ]
    },
    {
     "name": "stderr",
     "output_type": "stream",
     "text": [
      "\n",
      "preparing: 100%|##########################################################################| 1/1 [00:00<00:00, 22.88it/s]\n"
     ]
    },
    {
     "name": "stdout",
     "output_type": "stream",
     "text": [
      "a7b3a3a2-1278-4b25-8b27-e09784c9b8e9\n",
      "sim calculated successfully\n",
      "\n",
      "1776.350 0.9177 1940.489\n",
      "0 existing calculation records provided\n"
     ]
    },
    {
     "name": "stderr",
     "output_type": "stream",
     "text": [
      "100%|█████████████████████████████████████████████████████████████████████████████████████| 1/1 [00:00<00:00,  3.17it/s]"
     ]
    },
    {
     "name": "stdout",
     "output_type": "stream",
     "text": [
      "1 calculation combinations to check\n",
      "1 new records to prepare\n"
     ]
    },
    {
     "name": "stderr",
     "output_type": "stream",
     "text": [
      "\n",
      "preparing: 100%|##########################################################################| 1/1 [00:00<00:00, 28.20it/s]\n"
     ]
    },
    {
     "name": "stdout",
     "output_type": "stream",
     "text": [
      "427bf07f-a8ec-4605-9041-ad2073c8a6b1\n",
      "sim calculated successfully\n",
      "\n",
      "1776.427 0.1993 1881.752\n",
      "0 existing calculation records provided\n"
     ]
    },
    {
     "name": "stderr",
     "output_type": "stream",
     "text": [
      "100%|█████████████████████████████████████████████████████████████████████████████████████| 1/1 [00:00<00:00,  3.24it/s]"
     ]
    },
    {
     "name": "stdout",
     "output_type": "stream",
     "text": [
      "1 calculation combinations to check\n",
      "1 new records to prepare\n"
     ]
    },
    {
     "name": "stderr",
     "output_type": "stream",
     "text": [
      "\n",
      "preparing: 100%|##########################################################################| 1/1 [00:00<00:00, 25.13it/s]\n"
     ]
    },
    {
     "name": "stdout",
     "output_type": "stream",
     "text": [
      "4a2e985b-22d1-4275-b480-dab251edbb06\n",
      "sim calculated successfully\n",
      "\n",
      "1776.388 0.2962 1864.170\n",
      "0 existing calculation records provided\n"
     ]
    },
    {
     "name": "stderr",
     "output_type": "stream",
     "text": [
      "100%|█████████████████████████████████████████████████████████████████████████████████████| 1/1 [00:00<00:00,  2.87it/s]"
     ]
    },
    {
     "name": "stdout",
     "output_type": "stream",
     "text": [
      "1 calculation combinations to check\n",
      "1 new records to prepare\n"
     ]
    },
    {
     "name": "stderr",
     "output_type": "stream",
     "text": [
      "\n",
      "preparing: 100%|##########################################################################| 1/1 [00:00<00:00, 22.12it/s]\n"
     ]
    },
    {
     "name": "stdout",
     "output_type": "stream",
     "text": [
      "b83f1399-d20e-4958-aa70-fcc4c0d788cc\n",
      "sim calculated successfully\n",
      "\n",
      "1776.369 0.9133 1947.583\n",
      "0 existing calculation records provided\n"
     ]
    },
    {
     "name": "stderr",
     "output_type": "stream",
     "text": [
      "100%|█████████████████████████████████████████████████████████████████████████████████████| 1/1 [00:00<00:00,  2.84it/s]"
     ]
    },
    {
     "name": "stdout",
     "output_type": "stream",
     "text": [
      "1 calculation combinations to check\n",
      "1 new records to prepare\n"
     ]
    },
    {
     "name": "stderr",
     "output_type": "stream",
     "text": [
      "\n",
      "preparing: 100%|##########################################################################| 1/1 [00:00<00:00, 19.45it/s]\n"
     ]
    },
    {
     "name": "stdout",
     "output_type": "stream",
     "text": [
      "0a538186-8d92-42d4-adf8-5cde9ceb18f1\n",
      "sim calculated successfully\n",
      "\n",
      "1776.398 0.1975 1893.487\n",
      "0 existing calculation records provided\n"
     ]
    },
    {
     "name": "stderr",
     "output_type": "stream",
     "text": [
      "100%|█████████████████████████████████████████████████████████████████████████████████████| 1/1 [00:00<00:00,  3.55it/s]"
     ]
    },
    {
     "name": "stdout",
     "output_type": "stream",
     "text": [
      "1 calculation combinations to check\n",
      "1 new records to prepare\n"
     ]
    },
    {
     "name": "stderr",
     "output_type": "stream",
     "text": [
      "\n",
      "preparing: 100%|##########################################################################| 1/1 [00:00<00:00, 28.44it/s]\n"
     ]
    },
    {
     "name": "stdout",
     "output_type": "stream",
     "text": [
      "817b8c3c-e7d6-4dcd-a7df-4812dd419a14\n",
      "sim calculated successfully\n",
      "\n",
      "1776.384 0.197 1917.541\n",
      "0 existing calculation records provided\n"
     ]
    },
    {
     "name": "stderr",
     "output_type": "stream",
     "text": [
      "100%|█████████████████████████████████████████████████████████████████████████████████████| 1/1 [00:00<00:00,  3.08it/s]"
     ]
    },
    {
     "name": "stdout",
     "output_type": "stream",
     "text": [
      "1 calculation combinations to check\n",
      "1 new records to prepare\n"
     ]
    },
    {
     "name": "stderr",
     "output_type": "stream",
     "text": [
      "\n",
      "preparing: 100%|##########################################################################| 1/1 [00:00<00:00, 23.33it/s]\n"
     ]
    },
    {
     "name": "stdout",
     "output_type": "stream",
     "text": [
      "8bacde08-63ff-4e81-b7cf-8d300157458e\n",
      "sim calculated successfully\n",
      "\n",
      "1776.376 0.2007 1841.075\n",
      "0 existing calculation records provided\n"
     ]
    },
    {
     "name": "stderr",
     "output_type": "stream",
     "text": [
      "100%|█████████████████████████████████████████████████████████████████████████████████████| 1/1 [00:00<00:00,  4.22it/s]"
     ]
    },
    {
     "name": "stdout",
     "output_type": "stream",
     "text": [
      "1 calculation combinations to check\n",
      "1 new records to prepare\n"
     ]
    },
    {
     "name": "stderr",
     "output_type": "stream",
     "text": [
      "\n",
      "preparing: 100%|##########################################################################| 1/1 [00:00<00:00, 42.86it/s]\n"
     ]
    },
    {
     "name": "stdout",
     "output_type": "stream",
     "text": [
      "d0855029-ced9-47bb-8a1b-0196bb7b270f\n",
      "sim calculated successfully\n",
      "\n",
      "1776.373 0.1966 1901.383\n",
      "0 existing calculation records provided\n"
     ]
    },
    {
     "name": "stderr",
     "output_type": "stream",
     "text": [
      "100%|█████████████████████████████████████████████████████████████████████████████████████| 1/1 [00:00<00:00,  2.44it/s]"
     ]
    },
    {
     "name": "stdout",
     "output_type": "stream",
     "text": [
      "1 calculation combinations to check\n",
      "1 new records to prepare\n"
     ]
    },
    {
     "name": "stderr",
     "output_type": "stream",
     "text": [
      "\n",
      "preparing: 100%|##########################################################################| 1/1 [00:00<00:00, 13.83it/s]\n"
     ]
    },
    {
     "name": "stdout",
     "output_type": "stream",
     "text": [
      "1e69a9af-3481-473c-9670-971f23ee798e\n",
      "sim calculated successfully\n",
      "\n",
      "1776.371 0.9129 1951.954\n",
      "0 existing calculation records provided\n"
     ]
    },
    {
     "name": "stderr",
     "output_type": "stream",
     "text": [
      "100%|█████████████████████████████████████████████████████████████████████████████████████| 1/1 [00:00<00:00,  2.59it/s]"
     ]
    },
    {
     "name": "stdout",
     "output_type": "stream",
     "text": [
      "1 calculation combinations to check\n",
      "1 new records to prepare\n"
     ]
    },
    {
     "name": "stderr",
     "output_type": "stream",
     "text": [
      "\n",
      "preparing: 100%|##########################################################################| 1/1 [00:00<00:00, 18.28it/s]\n"
     ]
    },
    {
     "name": "stdout",
     "output_type": "stream",
     "text": [
      "475ccf3e-34ed-4a95-9d50-f819ae33cdb1\n",
      "sim calculated successfully\n",
      "\n",
      "1776.372 0.2969 1854.971\n",
      "0 existing calculation records provided\n"
     ]
    },
    {
     "name": "stderr",
     "output_type": "stream",
     "text": [
      "100%|█████████████████████████████████████████████████████████████████████████████████████| 1/1 [00:00<00:00,  4.53it/s]"
     ]
    },
    {
     "name": "stdout",
     "output_type": "stream",
     "text": [
      "1 calculation combinations to check\n",
      "1 new records to prepare\n"
     ]
    },
    {
     "name": "stderr",
     "output_type": "stream",
     "text": [
      "\n",
      "preparing: 100%|##########################################################################| 1/1 [00:00<00:00, 38.99it/s]\n"
     ]
    },
    {
     "name": "stdout",
     "output_type": "stream",
     "text": [
      "a33ecde9-b4ee-477c-bdde-37f51b7daf33\n",
      "sim calculated successfully\n",
      "\n",
      "1776.371 0.299 1860.366\n",
      "0 existing calculation records provided\n"
     ]
    },
    {
     "name": "stderr",
     "output_type": "stream",
     "text": [
      "100%|█████████████████████████████████████████████████████████████████████████████████████| 1/1 [00:00<00:00,  3.37it/s]"
     ]
    },
    {
     "name": "stdout",
     "output_type": "stream",
     "text": [
      "1 calculation combinations to check\n",
      "1 new records to prepare\n"
     ]
    },
    {
     "name": "stderr",
     "output_type": "stream",
     "text": [
      "\n",
      "preparing: 100%|##########################################################################| 1/1 [00:00<00:00, 29.49it/s]\n"
     ]
    },
    {
     "name": "stdout",
     "output_type": "stream",
     "text": [
      "953a668a-35ab-44d7-8793-4795012699bf\n",
      "sim calculated successfully\n",
      "\n",
      "1776.371 0.3015 1846.789\n",
      "0 existing calculation records provided\n"
     ]
    },
    {
     "name": "stderr",
     "output_type": "stream",
     "text": [
      "100%|█████████████████████████████████████████████████████████████████████████████████████| 1/1 [00:00<00:00,  3.13it/s]"
     ]
    },
    {
     "name": "stdout",
     "output_type": "stream",
     "text": [
      "1 calculation combinations to check\n",
      "1 new records to prepare\n"
     ]
    },
    {
     "name": "stderr",
     "output_type": "stream",
     "text": [
      "\n",
      "preparing: 100%|##########################################################################| 1/1 [00:00<00:00, 24.68it/s]\n"
     ]
    },
    {
     "name": "stdout",
     "output_type": "stream",
     "text": [
      "aecf7425-9fbb-4c65-a379-853efde39ae9\n",
      "sim calculated successfully\n",
      "\n",
      "1776.371 0.202 1842.329\n",
      "0 existing calculation records provided\n"
     ]
    },
    {
     "name": "stderr",
     "output_type": "stream",
     "text": [
      "100%|█████████████████████████████████████████████████████████████████████████████████████| 1/1 [00:00<00:00,  2.68it/s]"
     ]
    },
    {
     "name": "stdout",
     "output_type": "stream",
     "text": [
      "1 calculation combinations to check\n",
      "1 new records to prepare\n"
     ]
    },
    {
     "name": "stderr",
     "output_type": "stream",
     "text": [
      "\n",
      "preparing: 100%|##########################################################################| 1/1 [00:00<00:00, 19.39it/s]\n"
     ]
    },
    {
     "name": "stdout",
     "output_type": "stream",
     "text": [
      "594c87ab-52a0-4347-b6a2-37b85ea596ad\n",
      "sim calculated successfully\n",
      "\n",
      "1776.371 0.2039 1881.281\n",
      "0 existing calculation records provided\n"
     ]
    },
    {
     "name": "stderr",
     "output_type": "stream",
     "text": [
      "100%|█████████████████████████████████████████████████████████████████████████████████████| 1/1 [00:00<00:00,  3.32it/s]"
     ]
    },
    {
     "name": "stdout",
     "output_type": "stream",
     "text": [
      "1 calculation combinations to check\n",
      "1 new records to prepare\n"
     ]
    },
    {
     "name": "stderr",
     "output_type": "stream",
     "text": [
      "\n",
      "preparing: 100%|##########################################################################| 1/1 [00:00<00:00, 25.22it/s]\n"
     ]
    },
    {
     "name": "stdout",
     "output_type": "stream",
     "text": [
      "651ec628-db11-40ca-bca1-8ebd0d17ec0b\n",
      "sim calculated successfully\n",
      "\n",
      "1776.371 0.198 1886.436\n",
      "0 existing calculation records provided\n"
     ]
    },
    {
     "name": "stderr",
     "output_type": "stream",
     "text": [
      "100%|█████████████████████████████████████████████████████████████████████████████████████| 1/1 [00:00<00:00,  3.26it/s]"
     ]
    },
    {
     "name": "stdout",
     "output_type": "stream",
     "text": [
      "1 calculation combinations to check\n",
      "1 new records to prepare\n"
     ]
    },
    {
     "name": "stderr",
     "output_type": "stream",
     "text": [
      "\n",
      "preparing: 100%|##########################################################################| 1/1 [00:00<00:00, 22.65it/s]\n"
     ]
    },
    {
     "name": "stdout",
     "output_type": "stream",
     "text": [
      "ee238b5b-42fe-4e05-aea6-926088c564fe\n",
      "sim calculated successfully\n",
      "\n",
      "1776.371 0.2158 1857.627\n",
      "0 existing calculation records provided\n"
     ]
    },
    {
     "name": "stderr",
     "output_type": "stream",
     "text": [
      "100%|█████████████████████████████████████████████████████████████████████████████████████| 1/1 [00:00<00:00,  2.09it/s]"
     ]
    },
    {
     "name": "stdout",
     "output_type": "stream",
     "text": [
      "1 calculation combinations to check\n",
      "1 new records to prepare\n"
     ]
    },
    {
     "name": "stderr",
     "output_type": "stream",
     "text": [
      "\n",
      "preparing: 100%|##########################################################################| 1/1 [00:00<00:00, 13.70it/s]\n"
     ]
    },
    {
     "name": "stdout",
     "output_type": "stream",
     "text": [
      "ae8162fb-7511-46d4-93cf-7f0dfcbe6fab\n",
      "sim calculated successfully\n",
      "\n",
      "1776.371 0.2074 1843.436\n",
      "Max number of runs reached!\n",
      "84 2007--Mendelev-M-I--Zr-2--LAMMPS--ipr2\n",
      "0 existing calculation records provided\n"
     ]
    },
    {
     "name": "stderr",
     "output_type": "stream",
     "text": [
      "100%|█████████████████████████████████████████████████████████████████████████████████████| 1/1 [00:00<00:00,  2.78it/s]"
     ]
    },
    {
     "name": "stdout",
     "output_type": "stream",
     "text": [
      "1 calculation combinations to check\n",
      "1 new records to prepare\n"
     ]
    },
    {
     "name": "stderr",
     "output_type": "stream",
     "text": [
      "\n",
      "preparing: 100%|##########################################################################| 1/1 [00:00<00:00, 28.12it/s]\n"
     ]
    },
    {
     "name": "stdout",
     "output_type": "stream",
     "text": [
      "5170cb2c-df77-4710-ab99-2ca3e9c53130\n",
      "sim calculated successfully\n",
      "\n",
      "4525.000 2.069e-05 4520.722\n",
      "0 existing calculation records provided\n"
     ]
    },
    {
     "name": "stderr",
     "output_type": "stream",
     "text": [
      "100%|█████████████████████████████████████████████████████████████████████████████████████| 1/1 [00:00<00:00,  3.10it/s]"
     ]
    },
    {
     "name": "stdout",
     "output_type": "stream",
     "text": [
      "1 calculation combinations to check\n",
      "1 new records to prepare\n"
     ]
    },
    {
     "name": "stderr",
     "output_type": "stream",
     "text": [
      "\n",
      "preparing: 100%|##########################################################################| 1/1 [00:00<00:00, 22.97it/s]\n"
     ]
    },
    {
     "name": "stdout",
     "output_type": "stream",
     "text": [
      "7bb760a5-e42a-4c70-88a8-60e187ba5320\n",
      "sim calculated successfully\n",
      "\n",
      "2287.500 0.002897 2058.060\n",
      "0 existing calculation records provided\n"
     ]
    },
    {
     "name": "stderr",
     "output_type": "stream",
     "text": [
      "100%|█████████████████████████████████████████████████████████████████████████████████████| 1/1 [00:00<00:00,  3.47it/s]"
     ]
    },
    {
     "name": "stdout",
     "output_type": "stream",
     "text": [
      "1 calculation combinations to check\n",
      "1 new records to prepare\n"
     ]
    },
    {
     "name": "stderr",
     "output_type": "stream",
     "text": [
      "\n",
      "preparing: 100%|##########################################################################| 1/1 [00:00<00:00, 24.12it/s]\n"
     ]
    },
    {
     "name": "stdout",
     "output_type": "stream",
     "text": [
      "d46c467a-f639-4074-a165-d48f13c3267b\n",
      "sim calculated successfully\n",
      "\n",
      "1168.750 0.9998 1163.848\n",
      "0 existing calculation records provided\n"
     ]
    },
    {
     "name": "stderr",
     "output_type": "stream",
     "text": [
      "100%|█████████████████████████████████████████████████████████████████████████████████████| 1/1 [00:00<00:00,  3.58it/s]"
     ]
    },
    {
     "name": "stdout",
     "output_type": "stream",
     "text": [
      "1 calculation combinations to check\n",
      "1 new records to prepare\n"
     ]
    },
    {
     "name": "stderr",
     "output_type": "stream",
     "text": [
      "\n",
      "preparing: 100%|##########################################################################| 1/1 [00:00<00:00, 29.18it/s]\n"
     ]
    },
    {
     "name": "stdout",
     "output_type": "stream",
     "text": [
      "26b8cce1-4bb1-477e-8b4f-1112a7d7f24a\n",
      "sim calculated successfully\n",
      "\n",
      "1728.125 0.9391 1889.495\n",
      "0 existing calculation records provided\n"
     ]
    },
    {
     "name": "stderr",
     "output_type": "stream",
     "text": [
      "100%|█████████████████████████████████████████████████████████████████████████████████████| 1/1 [00:00<00:00,  3.50it/s]"
     ]
    },
    {
     "name": "stdout",
     "output_type": "stream",
     "text": [
      "1 calculation combinations to check\n",
      "1 new records to prepare\n"
     ]
    },
    {
     "name": "stderr",
     "output_type": "stream",
     "text": [
      "\n",
      "preparing: 100%|##########################################################################| 1/1 [00:00<00:00, 27.21it/s]\n"
     ]
    },
    {
     "name": "stdout",
     "output_type": "stream",
     "text": [
      "7c2ca913-6c1e-4c8f-8b9b-269c0c84d23d\n",
      "sim calculated successfully\n",
      "\n",
      "2007.812 0.1152 2073.842\n",
      "0 existing calculation records provided\n"
     ]
    },
    {
     "name": "stderr",
     "output_type": "stream",
     "text": [
      "100%|█████████████████████████████████████████████████████████████████████████████████████| 1/1 [00:00<00:00,  2.62it/s]"
     ]
    },
    {
     "name": "stdout",
     "output_type": "stream",
     "text": [
      "1 calculation combinations to check\n",
      "1 new records to prepare\n"
     ]
    },
    {
     "name": "stderr",
     "output_type": "stream",
     "text": [
      "\n",
      "preparing: 100%|##########################################################################| 1/1 [00:00<00:00, 17.52it/s]\n"
     ]
    },
    {
     "name": "stdout",
     "output_type": "stream",
     "text": [
      "2cae2d4a-8187-4142-809c-8e9ec219cc78\n",
      "sim calculated successfully\n",
      "\n",
      "1867.969 0.5512 1965.552\n",
      "0 existing calculation records provided\n"
     ]
    },
    {
     "name": "stderr",
     "output_type": "stream",
     "text": [
      "100%|█████████████████████████████████████████████████████████████████████████████████████| 1/1 [00:00<00:00,  3.64it/s]"
     ]
    },
    {
     "name": "stdout",
     "output_type": "stream",
     "text": [
      "1 calculation combinations to check\n",
      "1 new records to prepare\n"
     ]
    },
    {
     "name": "stderr",
     "output_type": "stream",
     "text": [
      "\n",
      "preparing: 100%|##########################################################################| 1/1 [00:00<00:00, 42.88it/s]\n"
     ]
    },
    {
     "name": "stdout",
     "output_type": "stream",
     "text": [
      "252f60e5-7f1b-48cd-aecc-8b3ca200e532\n",
      "sim calculated successfully\n",
      "\n",
      "1867.969 0.1737 2033.114\n",
      "0 existing calculation records provided\n"
     ]
    },
    {
     "name": "stderr",
     "output_type": "stream",
     "text": [
      "100%|█████████████████████████████████████████████████████████████████████████████████████| 1/1 [00:00<00:00,  4.57it/s]"
     ]
    },
    {
     "name": "stdout",
     "output_type": "stream",
     "text": [
      "1 calculation combinations to check\n",
      "1 new records to prepare\n"
     ]
    },
    {
     "name": "stderr",
     "output_type": "stream",
     "text": [
      "\n",
      "preparing: 100%|##########################################################################| 1/1 [00:00<00:00, 43.61it/s]\n"
     ]
    },
    {
     "name": "stdout",
     "output_type": "stream",
     "text": [
      "13dcc5e5-288d-4796-bc30-2235fdcbec50\n",
      "sim calculated successfully\n",
      "\n",
      "1798.047 0.2183 1916.089\n",
      "0 existing calculation records provided\n"
     ]
    },
    {
     "name": "stderr",
     "output_type": "stream",
     "text": [
      "100%|█████████████████████████████████████████████████████████████████████████████████████| 1/1 [00:00<00:00,  4.20it/s]"
     ]
    },
    {
     "name": "stdout",
     "output_type": "stream",
     "text": [
      "1 calculation combinations to check\n",
      "1 new records to prepare\n"
     ]
    },
    {
     "name": "stderr",
     "output_type": "stream",
     "text": [
      "\n",
      "preparing: 100%|##########################################################################| 1/1 [00:00<00:00, 59.69it/s]\n"
     ]
    },
    {
     "name": "stdout",
     "output_type": "stream",
     "text": [
      "6771725b-7eb0-47c1-ac08-6796f75a388d\n",
      "sim calculated successfully\n",
      "\n",
      "1763.086 0.2037 1866.403\n",
      "0 existing calculation records provided\n"
     ]
    },
    {
     "name": "stderr",
     "output_type": "stream",
     "text": [
      "100%|█████████████████████████████████████████████████████████████████████████████████████| 1/1 [00:00<00:00,  3.55it/s]"
     ]
    },
    {
     "name": "stdout",
     "output_type": "stream",
     "text": [
      "1 calculation combinations to check\n",
      "1 new records to prepare\n"
     ]
    },
    {
     "name": "stderr",
     "output_type": "stream",
     "text": [
      "\n",
      "preparing: 100%|##########################################################################| 1/1 [00:00<00:00, 18.29it/s]\n"
     ]
    },
    {
     "name": "stdout",
     "output_type": "stream",
     "text": [
      "6b619277-c838-41b4-86b7-cefe031432b3\n",
      "sim calculated successfully\n",
      "\n",
      "1745.605 0.9317 1914.710\n",
      "0 existing calculation records provided\n"
     ]
    },
    {
     "name": "stderr",
     "output_type": "stream",
     "text": [
      "100%|█████████████████████████████████████████████████████████████████████████████████████| 1/1 [00:00<00:00,  3.64it/s]"
     ]
    },
    {
     "name": "stdout",
     "output_type": "stream",
     "text": [
      "1 calculation combinations to check\n",
      "1 new records to prepare\n"
     ]
    },
    {
     "name": "stderr",
     "output_type": "stream",
     "text": [
      "\n",
      "preparing: 100%|##########################################################################| 1/1 [00:00<00:00, 27.01it/s]\n"
     ]
    },
    {
     "name": "stdout",
     "output_type": "stream",
     "text": [
      "2c8bba53-8ac5-401c-a2af-f52f1d46556f\n",
      "sim calculated successfully\n",
      "\n",
      "1754.346 0.8907 1918.349\n",
      "0 existing calculation records provided\n"
     ]
    },
    {
     "name": "stderr",
     "output_type": "stream",
     "text": [
      "100%|█████████████████████████████████████████████████████████████████████████████████████| 1/1 [00:00<00:00,  3.68it/s]"
     ]
    },
    {
     "name": "stdout",
     "output_type": "stream",
     "text": [
      "1 calculation combinations to check\n",
      "1 new records to prepare\n"
     ]
    },
    {
     "name": "stderr",
     "output_type": "stream",
     "text": [
      "\n",
      "preparing: 100%|##########################################################################| 1/1 [00:00<00:00, 30.58it/s]\n"
     ]
    },
    {
     "name": "stdout",
     "output_type": "stream",
     "text": [
      "ad6c67ce-d9af-4624-85db-984ed63f132a\n",
      "sim calculated successfully\n",
      "\n",
      "1758.716 0.3024 1840.633\n",
      "0 existing calculation records provided\n"
     ]
    },
    {
     "name": "stderr",
     "output_type": "stream",
     "text": [
      "100%|█████████████████████████████████████████████████████████████████████████████████████| 1/1 [00:00<00:00,  3.33it/s]"
     ]
    },
    {
     "name": "stdout",
     "output_type": "stream",
     "text": [
      "1 calculation combinations to check\n",
      "1 new records to prepare\n"
     ]
    },
    {
     "name": "stderr",
     "output_type": "stream",
     "text": [
      "\n",
      "preparing: 100%|##########################################################################| 1/1 [00:00<00:00, 46.56it/s]\n"
     ]
    },
    {
     "name": "stdout",
     "output_type": "stream",
     "text": [
      "cd993fc7-6188-428c-8105-328c07be875b\n",
      "sim calculated successfully\n",
      "\n",
      "1756.531 0.2102 1866.287\n",
      "0 existing calculation records provided\n"
     ]
    },
    {
     "name": "stderr",
     "output_type": "stream",
     "text": [
      "100%|█████████████████████████████████████████████████████████████████████████████████████| 1/1 [00:00<00:00,  4.31it/s]"
     ]
    },
    {
     "name": "stdout",
     "output_type": "stream",
     "text": [
      "1 calculation combinations to check\n",
      "1 new records to prepare\n"
     ]
    },
    {
     "name": "stderr",
     "output_type": "stream",
     "text": [
      "\n",
      "preparing: 100%|##########################################################################| 1/1 [00:00<00:00, 31.23it/s]\n"
     ]
    },
    {
     "name": "stdout",
     "output_type": "stream",
     "text": [
      "7270d4d6-bbb3-4d8f-8f41-ea4059dd02dd\n",
      "sim calculated successfully\n",
      "\n",
      "1755.438 0.9285 1924.031\n",
      "0 existing calculation records provided\n"
     ]
    },
    {
     "name": "stderr",
     "output_type": "stream",
     "text": [
      "100%|█████████████████████████████████████████████████████████████████████████████████████| 1/1 [00:00<00:00,  4.21it/s]"
     ]
    },
    {
     "name": "stdout",
     "output_type": "stream",
     "text": [
      "1 calculation combinations to check\n",
      "1 new records to prepare\n"
     ]
    },
    {
     "name": "stderr",
     "output_type": "stream",
     "text": [
      "\n",
      "preparing: 100%|##########################################################################| 1/1 [00:00<00:00, 50.01it/s]\n"
     ]
    },
    {
     "name": "stdout",
     "output_type": "stream",
     "text": [
      "d4007eae-1095-4f9f-b195-55221d200d39\n",
      "sim calculated successfully\n",
      "\n",
      "1755.984 0.2066 1868.939\n",
      "0 existing calculation records provided\n"
     ]
    },
    {
     "name": "stderr",
     "output_type": "stream",
     "text": [
      "100%|█████████████████████████████████████████████████████████████████████████████████████| 1/1 [00:00<00:00,  3.42it/s]"
     ]
    },
    {
     "name": "stdout",
     "output_type": "stream",
     "text": [
      "1 calculation combinations to check\n",
      "1 new records to prepare\n"
     ]
    },
    {
     "name": "stderr",
     "output_type": "stream",
     "text": [
      "\n",
      "preparing: 100%|##########################################################################| 1/1 [00:00<00:00, 24.96it/s]\n"
     ]
    },
    {
     "name": "stdout",
     "output_type": "stream",
     "text": [
      "12efd467-c284-4024-8d2b-dc607825a67a\n"
     ]
    }
   ],
   "source": [
    "for i in hcp_props.index[35:]:\n",
    "    series = hcp_props.loc[i]\n",
    "\n",
    "    commander = MeltCommander(database,\n",
    "                              lammps_command, \n",
    "                              series.potential_LAMMPS_id,\n",
    "                              series.composition,\n",
    "                              'A3--Mg--hcp',\n",
    "                              min_temperature=min_temperature,\n",
    "                              max_temperature=max_temperature,\n",
    "                              verbose=False,\n",
    "                             )\n",
    "    alat = alat_mult * series.a\n",
    "    print(i, series.potential_LAMMPS_id)\n",
    "    commander.run(run_directory, alat, max_melts, max_runs)"
   ]
  },
  {
   "cell_type": "code",
   "execution_count": null,
   "id": "d4b07f35-1b9a-4a65-9287-7aa2dd7ec22f",
   "metadata": {},
   "outputs": [],
   "source": []
  }
 ],
 "metadata": {
  "kernelspec": {
   "display_name": "ipr",
   "language": "python",
   "name": "ipr"
  },
  "language_info": {
   "codemirror_mode": {
    "name": "ipython",
    "version": 3
   },
   "file_extension": ".py",
   "mimetype": "text/x-python",
   "name": "python",
   "nbconvert_exporter": "python",
   "pygments_lexer": "ipython3",
   "version": "3.11.11"
  }
 },
 "nbformat": 4,
 "nbformat_minor": 5
}
