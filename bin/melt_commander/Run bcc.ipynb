{
 "cells": [
  {
   "cell_type": "markdown",
   "id": "03fb6613-22cc-47d6-b61c-16475621b1c3",
   "metadata": {},
   "source": [
    "# Run all bcc"
   ]
  },
  {
   "cell_type": "code",
   "execution_count": 1,
   "id": "be2c722b-e434-4085-bbcf-554620d56c1a",
   "metadata": {},
   "outputs": [],
   "source": [
    "import iprPy\n",
    "import atomman as am\n",
    "\n",
    "from MeltCommander import MeltCommander\n",
    "\n",
    "import pandas as pd"
   ]
  },
  {
   "cell_type": "markdown",
   "id": "4c7c4ca9-ed2b-4cd1-8db9-b264887aac48",
   "metadata": {},
   "source": [
    "Load bcc structure info"
   ]
  },
  {
   "cell_type": "code",
   "execution_count": 2,
   "id": "3eb1e772-dc98-46a9-aca6-eb8584145a64",
   "metadata": {},
   "outputs": [],
   "source": [
    "bcc_props = pd.read_csv('Melting_temperatures_bcc.csv')"
   ]
  },
  {
   "cell_type": "markdown",
   "id": "85ad437b-5480-46a1-a9f0-d8fec322ea13",
   "metadata": {},
   "source": [
    "Check for duplicate entries"
   ]
  },
  {
   "cell_type": "code",
   "execution_count": 3,
   "id": "f30c129b-b980-4ef0-80d4-208c4b173321",
   "metadata": {},
   "outputs": [],
   "source": [
    "for i in bcc_props.index[:-1]:\n",
    "    series0 = bcc_props.loc[i]\n",
    "    series1 = bcc_props.loc[i+1]\n",
    "    if ((series0.potential_LAMMPS_id == series1.potential_LAMMPS_id) &\n",
    "        (series0.composition == series1.composition)):\n",
    "        print(series0.to_dict())\n",
    "        print(series1.to_dict())\n",
    "        print()"
   ]
  },
  {
   "cell_type": "markdown",
   "id": "04404545-8259-4d98-9408-669f0cd4cab9",
   "metadata": {},
   "source": [
    "## Simulation settings"
   ]
  },
  {
   "cell_type": "code",
   "execution_count": 4,
   "id": "6d283cf6-eada-446d-bd92-3f80c783dae9",
   "metadata": {},
   "outputs": [],
   "source": [
    "database = 'master'\n",
    "lammps_command = '/home/lmh1/LAMMPS/2022-06-23/src/lmp_serial'\n",
    "run_directory = 'master_4'\n",
    "\n",
    "min_temperature = 50\n",
    "max_temperature = 9000\n",
    "alat_mult = 1.03\n",
    "max_melts = 10\n",
    "max_runs = 35"
   ]
  },
  {
   "cell_type": "code",
   "execution_count": 5,
   "id": "846f8dd3-ee37-4359-8aae-ece18ae7defd",
   "metadata": {},
   "outputs": [
    {
     "data": {
      "text/html": [
       "<div>\n",
       "<style scoped>\n",
       "    .dataframe tbody tr th:only-of-type {\n",
       "        vertical-align: middle;\n",
       "    }\n",
       "\n",
       "    .dataframe tbody tr th {\n",
       "        vertical-align: top;\n",
       "    }\n",
       "\n",
       "    .dataframe thead th {\n",
       "        text-align: right;\n",
       "    }\n",
       "</style>\n",
       "<table border=\"1\" class=\"dataframe\">\n",
       "  <thead>\n",
       "    <tr style=\"text-align: right;\">\n",
       "      <th></th>\n",
       "      <th>potential_LAMMPS_id</th>\n",
       "      <th>composition</th>\n",
       "      <th>a</th>\n",
       "    </tr>\n",
       "  </thead>\n",
       "  <tbody>\n",
       "    <tr>\n",
       "      <th>0</th>\n",
       "      <td>1986--Foiles-S-M--Ag-Au-Cu-Ni-Pd-Pt--LAMMPS--ipr1</td>\n",
       "      <td>Au</td>\n",
       "      <td>3.236873</td>\n",
       "    </tr>\n",
       "    <tr>\n",
       "      <th>1</th>\n",
       "      <td>1986--Foiles-S-M--Ag-Au-Cu-Ni-Pd-Pt--LAMMPS--ipr1</td>\n",
       "      <td>Cu</td>\n",
       "      <td>2.870142</td>\n",
       "    </tr>\n",
       "    <tr>\n",
       "      <th>2</th>\n",
       "      <td>1986--Foiles-S-M--Ag-Au-Cu-Ni-Pd-Pt--LAMMPS--ipr1</td>\n",
       "      <td>Pd</td>\n",
       "      <td>3.086859</td>\n",
       "    </tr>\n",
       "    <tr>\n",
       "      <th>3</th>\n",
       "      <td>1986--Foiles-S-M--Ag-Au-Cu-Ni-Pd-Pt--LAMMPS--ipr1</td>\n",
       "      <td>Pt</td>\n",
       "      <td>3.109047</td>\n",
       "    </tr>\n",
       "    <tr>\n",
       "      <th>4</th>\n",
       "      <td>1986--Foiles-S-M--Au--LAMMPS--ipr1</td>\n",
       "      <td>Au</td>\n",
       "      <td>3.236873</td>\n",
       "    </tr>\n",
       "    <tr>\n",
       "      <th>5</th>\n",
       "      <td>1986--Foiles-S-M--Cu--LAMMPS--ipr1</td>\n",
       "      <td>Cu</td>\n",
       "      <td>2.870142</td>\n",
       "    </tr>\n",
       "    <tr>\n",
       "      <th>6</th>\n",
       "      <td>1986--Foiles-S-M--Pd--LAMMPS--ipr1</td>\n",
       "      <td>Pd</td>\n",
       "      <td>3.086859</td>\n",
       "    </tr>\n",
       "    <tr>\n",
       "      <th>7</th>\n",
       "      <td>1986--Foiles-S-M--Pt--LAMMPS--ipr1</td>\n",
       "      <td>Pt</td>\n",
       "      <td>3.109047</td>\n",
       "    </tr>\n",
       "    <tr>\n",
       "      <th>8</th>\n",
       "      <td>1987--Ackland-G-J--Ag--LAMMPS--ipr1</td>\n",
       "      <td>Ag</td>\n",
       "      <td>3.317864</td>\n",
       "    </tr>\n",
       "    <tr>\n",
       "      <th>9</th>\n",
       "      <td>1987--Ackland-G-J--Ag--LAMMPS--ipr2</td>\n",
       "      <td>Ag</td>\n",
       "      <td>3.317864</td>\n",
       "    </tr>\n",
       "    <tr>\n",
       "      <th>10</th>\n",
       "      <td>1987--Ackland-G-J--Au--LAMMPS--ipr1</td>\n",
       "      <td>Au</td>\n",
       "      <td>3.324444</td>\n",
       "    </tr>\n",
       "    <tr>\n",
       "      <th>11</th>\n",
       "      <td>1987--Ackland-G-J--Au--LAMMPS--ipr2</td>\n",
       "      <td>Au</td>\n",
       "      <td>3.324444</td>\n",
       "    </tr>\n",
       "    <tr>\n",
       "      <th>12</th>\n",
       "      <td>1987--Ackland-G-J--Cu--LAMMPS--ipr1</td>\n",
       "      <td>Cu</td>\n",
       "      <td>2.960709</td>\n",
       "    </tr>\n",
       "    <tr>\n",
       "      <th>13</th>\n",
       "      <td>1987--Ackland-G-J--Cu--LAMMPS--ipr2</td>\n",
       "      <td>Cu</td>\n",
       "      <td>2.960523</td>\n",
       "    </tr>\n",
       "    <tr>\n",
       "      <th>14</th>\n",
       "      <td>1987--Ackland-G-J--Mo--LAMMPS--ipr1</td>\n",
       "      <td>Mo</td>\n",
       "      <td>3.157695</td>\n",
       "    </tr>\n",
       "    <tr>\n",
       "      <th>15</th>\n",
       "      <td>1987--Ackland-G-J--Mo--LAMMPS--ipr2</td>\n",
       "      <td>Mo</td>\n",
       "      <td>3.147200</td>\n",
       "    </tr>\n",
       "    <tr>\n",
       "      <th>16</th>\n",
       "      <td>1987--Ackland-G-J--Mo--LAMMPS--ipr3</td>\n",
       "      <td>Mo</td>\n",
       "      <td>3.147200</td>\n",
       "    </tr>\n",
       "    <tr>\n",
       "      <th>17</th>\n",
       "      <td>1989--Adams-J-B--Ag-Au-Cu-Ni-Pd-Pt--LAMMPS--ipr1</td>\n",
       "      <td>Au</td>\n",
       "      <td>3.236691</td>\n",
       "    </tr>\n",
       "    <tr>\n",
       "      <th>18</th>\n",
       "      <td>1989--Adams-J-B--Ag-Au-Cu-Ni-Pd-Pt--LAMMPS--ipr1</td>\n",
       "      <td>Cu</td>\n",
       "      <td>2.870080</td>\n",
       "    </tr>\n",
       "    <tr>\n",
       "      <th>19</th>\n",
       "      <td>1989--Adams-J-B--Ag-Au-Cu-Ni-Pd-Pt--LAMMPS--ipr1</td>\n",
       "      <td>Pd</td>\n",
       "      <td>3.087021</td>\n",
       "    </tr>\n",
       "    <tr>\n",
       "      <th>20</th>\n",
       "      <td>1989--Adams-J-B--Ag-Au-Cu-Ni-Pd-Pt--LAMMPS--ipr1</td>\n",
       "      <td>Pt</td>\n",
       "      <td>3.108902</td>\n",
       "    </tr>\n",
       "  </tbody>\n",
       "</table>\n",
       "</div>"
      ],
      "text/plain": [
       "                                  potential_LAMMPS_id composition         a\n",
       "0   1986--Foiles-S-M--Ag-Au-Cu-Ni-Pd-Pt--LAMMPS--ipr1          Au  3.236873\n",
       "1   1986--Foiles-S-M--Ag-Au-Cu-Ni-Pd-Pt--LAMMPS--ipr1          Cu  2.870142\n",
       "2   1986--Foiles-S-M--Ag-Au-Cu-Ni-Pd-Pt--LAMMPS--ipr1          Pd  3.086859\n",
       "3   1986--Foiles-S-M--Ag-Au-Cu-Ni-Pd-Pt--LAMMPS--ipr1          Pt  3.109047\n",
       "4                  1986--Foiles-S-M--Au--LAMMPS--ipr1          Au  3.236873\n",
       "5                  1986--Foiles-S-M--Cu--LAMMPS--ipr1          Cu  2.870142\n",
       "6                  1986--Foiles-S-M--Pd--LAMMPS--ipr1          Pd  3.086859\n",
       "7                  1986--Foiles-S-M--Pt--LAMMPS--ipr1          Pt  3.109047\n",
       "8                 1987--Ackland-G-J--Ag--LAMMPS--ipr1          Ag  3.317864\n",
       "9                 1987--Ackland-G-J--Ag--LAMMPS--ipr2          Ag  3.317864\n",
       "10                1987--Ackland-G-J--Au--LAMMPS--ipr1          Au  3.324444\n",
       "11                1987--Ackland-G-J--Au--LAMMPS--ipr2          Au  3.324444\n",
       "12                1987--Ackland-G-J--Cu--LAMMPS--ipr1          Cu  2.960709\n",
       "13                1987--Ackland-G-J--Cu--LAMMPS--ipr2          Cu  2.960523\n",
       "14                1987--Ackland-G-J--Mo--LAMMPS--ipr1          Mo  3.157695\n",
       "15                1987--Ackland-G-J--Mo--LAMMPS--ipr2          Mo  3.147200\n",
       "16                1987--Ackland-G-J--Mo--LAMMPS--ipr3          Mo  3.147200\n",
       "17   1989--Adams-J-B--Ag-Au-Cu-Ni-Pd-Pt--LAMMPS--ipr1          Au  3.236691\n",
       "18   1989--Adams-J-B--Ag-Au-Cu-Ni-Pd-Pt--LAMMPS--ipr1          Cu  2.870080\n",
       "19   1989--Adams-J-B--Ag-Au-Cu-Ni-Pd-Pt--LAMMPS--ipr1          Pd  3.087021\n",
       "20   1989--Adams-J-B--Ag-Au-Cu-Ni-Pd-Pt--LAMMPS--ipr1          Pt  3.108902"
      ]
     },
     "execution_count": 5,
     "metadata": {},
     "output_type": "execute_result"
    }
   ],
   "source": [
    "bcc_props.loc[:20]"
   ]
  },
  {
   "cell_type": "markdown",
   "id": "bd9ac4da-2fc5-4248-ad5e-2fab8684bae6",
   "metadata": {},
   "source": [
    "## Run loop"
   ]
  },
  {
   "cell_type": "code",
   "execution_count": null,
   "id": "3b9591ae-5b71-4e66-a096-c7fb19d175b3",
   "metadata": {},
   "outputs": [
    {
     "name": "stdout",
     "output_type": "stream",
     "text": [
      "31 1996--Farkas-D--Nb-Ti-Al--LAMMPS--ipr1\n",
      "0 existing calculation records provided\n"
     ]
    },
    {
     "name": "stderr",
     "output_type": "stream",
     "text": [
      "100%|█████████████████████████████████████████████████████████████████████████████████████| 1/1 [00:00<00:00,  1.06it/s]"
     ]
    },
    {
     "name": "stdout",
     "output_type": "stream",
     "text": [
      "1 calculation combinations to check\n",
      "1 new records to prepare\n"
     ]
    },
    {
     "name": "stderr",
     "output_type": "stream",
     "text": [
      "\n",
      "preparing: 100%|##########################################################################| 1/1 [00:00<00:00, 47.51it/s]\n"
     ]
    },
    {
     "name": "stdout",
     "output_type": "stream",
     "text": [
      "ecbb4261-b0cb-4c36-8864-87052f751e61\n",
      "sim calculated successfully\n",
      "\n",
      "4525.000 0.0 4482.988\n",
      "0 existing calculation records provided\n"
     ]
    },
    {
     "name": "stderr",
     "output_type": "stream",
     "text": [
      "100%|█████████████████████████████████████████████████████████████████████████████████████| 1/1 [00:00<00:00,  5.07it/s]"
     ]
    },
    {
     "name": "stdout",
     "output_type": "stream",
     "text": [
      "1 calculation combinations to check\n",
      "1 new records to prepare\n"
     ]
    },
    {
     "name": "stderr",
     "output_type": "stream",
     "text": [
      "\n",
      "preparing: 100%|##########################################################################| 1/1 [00:00<00:00, 56.61it/s]\n"
     ]
    },
    {
     "name": "stdout",
     "output_type": "stream",
     "text": [
      "34286fd1-eff2-4b01-b3ec-510c1c53350c\n",
      "sim calculated successfully\n",
      "\n",
      "2287.500 0.1321 2142.346\n",
      "0 existing calculation records provided\n"
     ]
    },
    {
     "name": "stderr",
     "output_type": "stream",
     "text": [
      "100%|█████████████████████████████████████████████████████████████████████████████████████| 1/1 [00:00<00:00,  4.21it/s]"
     ]
    },
    {
     "name": "stdout",
     "output_type": "stream",
     "text": [
      "1 calculation combinations to check\n",
      "1 new records to prepare\n"
     ]
    },
    {
     "name": "stderr",
     "output_type": "stream",
     "text": [
      "\n",
      "preparing: 100%|##########################################################################| 1/1 [00:00<00:00, 34.33it/s]\n"
     ]
    },
    {
     "name": "stdout",
     "output_type": "stream",
     "text": [
      "2b728f0c-1e94-4b1e-91ac-fed22ab009e7\n",
      "sim calculated successfully\n",
      "\n",
      "1168.750 0.998 1165.471\n",
      "0 existing calculation records provided\n"
     ]
    },
    {
     "name": "stderr",
     "output_type": "stream",
     "text": [
      "100%|█████████████████████████████████████████████████████████████████████████████████████| 1/1 [00:00<00:00,  2.37it/s]"
     ]
    },
    {
     "name": "stdout",
     "output_type": "stream",
     "text": [
      "1 calculation combinations to check\n",
      "1 new records to prepare\n"
     ]
    },
    {
     "name": "stderr",
     "output_type": "stream",
     "text": [
      "\n",
      "preparing: 100%|##########################################################################| 1/1 [00:00<00:00, 52.84it/s]\n"
     ]
    },
    {
     "name": "stdout",
     "output_type": "stream",
     "text": [
      "3b678178-086e-41da-bd53-415a4dcecbe0\n",
      "sim calculated successfully\n",
      "\n",
      "1728.125 0.9561 1722.034\n",
      "0 existing calculation records provided\n"
     ]
    },
    {
     "name": "stderr",
     "output_type": "stream",
     "text": [
      "100%|█████████████████████████████████████████████████████████████████████████████████████| 1/1 [00:00<00:00,  2.24it/s]"
     ]
    },
    {
     "name": "stdout",
     "output_type": "stream",
     "text": [
      "1 calculation combinations to check\n",
      "1 new records to prepare\n"
     ]
    },
    {
     "name": "stderr",
     "output_type": "stream",
     "text": [
      "\n",
      "preparing: 100%|##########################################################################| 1/1 [00:00<00:00, 46.15it/s]\n"
     ]
    },
    {
     "name": "stdout",
     "output_type": "stream",
     "text": [
      "52cfa2ea-6317-4af1-8cad-27ba05e1e85f\n",
      "sim calculated successfully\n",
      "\n",
      "2007.812 0.7667 2206.882\n",
      "0 existing calculation records provided\n"
     ]
    },
    {
     "name": "stderr",
     "output_type": "stream",
     "text": [
      "100%|█████████████████████████████████████████████████████████████████████████████████████| 1/1 [00:00<00:00,  2.73it/s]"
     ]
    },
    {
     "name": "stdout",
     "output_type": "stream",
     "text": [
      "1 calculation combinations to check\n",
      "1 new records to prepare\n"
     ]
    },
    {
     "name": "stderr",
     "output_type": "stream",
     "text": [
      "\n",
      "preparing: 100%|##########################################################################| 1/1 [00:00<00:00, 44.53it/s]\n"
     ]
    },
    {
     "name": "stdout",
     "output_type": "stream",
     "text": [
      "e1eb45e0-9707-4df5-aa0c-89930e864038\n",
      "sim calculated successfully\n",
      "\n",
      "2147.656 0.4095 2150.093\n",
      "0 existing calculation records provided\n"
     ]
    },
    {
     "name": "stderr",
     "output_type": "stream",
     "text": [
      "100%|█████████████████████████████████████████████████████████████████████████████████████| 1/1 [00:00<00:00,  2.68it/s]"
     ]
    },
    {
     "name": "stdout",
     "output_type": "stream",
     "text": [
      "1 calculation combinations to check\n",
      "1 new records to prepare\n"
     ]
    },
    {
     "name": "stderr",
     "output_type": "stream",
     "text": [
      "\n",
      "preparing: 100%|##########################################################################| 1/1 [00:00<00:00, 47.28it/s]\n"
     ]
    },
    {
     "name": "stdout",
     "output_type": "stream",
     "text": [
      "39d360e0-526d-4697-be3c-4d714e3ed392\n",
      "sim calculated successfully\n",
      "\n",
      "2147.656 0.4235 2154.585\n",
      "0 existing calculation records provided\n"
     ]
    },
    {
     "name": "stderr",
     "output_type": "stream",
     "text": [
      "100%|█████████████████████████████████████████████████████████████████████████████████████| 1/1 [00:00<00:00,  4.26it/s]"
     ]
    },
    {
     "name": "stdout",
     "output_type": "stream",
     "text": [
      "1 calculation combinations to check\n",
      "1 new records to prepare\n"
     ]
    },
    {
     "name": "stderr",
     "output_type": "stream",
     "text": [
      "\n",
      "preparing: 100%|##########################################################################| 1/1 [00:00<00:00, 54.49it/s]\n"
     ]
    },
    {
     "name": "stdout",
     "output_type": "stream",
     "text": [
      "7efad595-35fe-4784-b94f-2b72aa477c7d\n",
      "sim calculated successfully\n",
      "\n",
      "2147.656 0.4324 2144.055\n",
      "0 existing calculation records provided\n"
     ]
    },
    {
     "name": "stderr",
     "output_type": "stream",
     "text": [
      "100%|█████████████████████████████████████████████████████████████████████████████████████| 1/1 [00:00<00:00,  3.24it/s]"
     ]
    },
    {
     "name": "stdout",
     "output_type": "stream",
     "text": [
      "1 calculation combinations to check\n",
      "1 new records to prepare\n"
     ]
    },
    {
     "name": "stderr",
     "output_type": "stream",
     "text": [
      "\n",
      "preparing: 100%|##########################################################################| 1/1 [00:00<00:00, 55.72it/s]\n"
     ]
    },
    {
     "name": "stdout",
     "output_type": "stream",
     "text": [
      "fff867fd-c2f4-42ef-8d7c-5a270e7f5b25\n",
      "sim calculated successfully\n",
      "\n",
      "2147.656 0.4316 2139.387\n",
      "0 existing calculation records provided\n"
     ]
    },
    {
     "name": "stderr",
     "output_type": "stream",
     "text": [
      "100%|█████████████████████████████████████████████████████████████████████████████████████| 1/1 [00:00<00:00,  4.23it/s]"
     ]
    },
    {
     "name": "stdout",
     "output_type": "stream",
     "text": [
      "1 calculation combinations to check\n",
      "1 new records to prepare\n"
     ]
    },
    {
     "name": "stderr",
     "output_type": "stream",
     "text": [
      "\n",
      "preparing: 100%|##########################################################################| 1/1 [00:00<00:00, 50.30it/s]\n"
     ]
    },
    {
     "name": "stdout",
     "output_type": "stream",
     "text": [
      "dfd1da51-3b6e-4f3b-92d3-84ae12efa63e\n",
      "sim calculated successfully\n",
      "\n",
      "2147.656 0.4093 2142.950\n",
      "0 existing calculation records provided\n"
     ]
    },
    {
     "name": "stderr",
     "output_type": "stream",
     "text": [
      "100%|█████████████████████████████████████████████████████████████████████████████████████| 1/1 [00:00<00:00,  2.31it/s]"
     ]
    },
    {
     "name": "stdout",
     "output_type": "stream",
     "text": [
      "1 calculation combinations to check\n",
      "1 new records to prepare\n"
     ]
    },
    {
     "name": "stderr",
     "output_type": "stream",
     "text": [
      "\n",
      "preparing: 100%|##########################################################################| 1/1 [00:00<00:00, 47.82it/s]\n"
     ]
    },
    {
     "name": "stdout",
     "output_type": "stream",
     "text": [
      "d4577729-df1a-4cc9-a897-48a1cd059674\n",
      "sim calculated successfully\n",
      "\n",
      "2147.656 0.425 2147.945\n",
      "0 existing calculation records provided\n"
     ]
    },
    {
     "name": "stderr",
     "output_type": "stream",
     "text": [
      "100%|█████████████████████████████████████████████████████████████████████████████████████| 1/1 [00:00<00:00,  4.17it/s]"
     ]
    },
    {
     "name": "stdout",
     "output_type": "stream",
     "text": [
      "1 calculation combinations to check\n",
      "1 new records to prepare\n"
     ]
    },
    {
     "name": "stderr",
     "output_type": "stream",
     "text": [
      "\n",
      "preparing: 100%|##########################################################################| 1/1 [00:00<00:00, 33.01it/s]\n"
     ]
    },
    {
     "name": "stdout",
     "output_type": "stream",
     "text": [
      "09cb80e8-b268-4d1f-ad93-219f48f21fd4\n",
      "sim calculated successfully\n",
      "\n",
      "2147.656 0.4089 2146.830\n",
      "0 existing calculation records provided\n"
     ]
    },
    {
     "name": "stderr",
     "output_type": "stream",
     "text": [
      "100%|█████████████████████████████████████████████████████████████████████████████████████| 1/1 [00:00<00:00,  2.45it/s]"
     ]
    },
    {
     "name": "stdout",
     "output_type": "stream",
     "text": [
      "1 calculation combinations to check\n",
      "1 new records to prepare\n"
     ]
    },
    {
     "name": "stderr",
     "output_type": "stream",
     "text": [
      "\n",
      "preparing: 100%|##########################################################################| 1/1 [00:00<00:00, 48.84it/s]\n"
     ]
    },
    {
     "name": "stdout",
     "output_type": "stream",
     "text": [
      "ad7ec0da-4e91-4d69-8bd8-02894a14965d\n",
      "sim calculated successfully\n",
      "\n",
      "2147.656 0.435 2149.862\n",
      "0 existing calculation records provided\n"
     ]
    },
    {
     "name": "stderr",
     "output_type": "stream",
     "text": [
      "100%|█████████████████████████████████████████████████████████████████████████████████████| 1/1 [00:00<00:00,  2.44it/s]"
     ]
    },
    {
     "name": "stdout",
     "output_type": "stream",
     "text": [
      "1 calculation combinations to check\n",
      "1 new records to prepare\n"
     ]
    },
    {
     "name": "stderr",
     "output_type": "stream",
     "text": [
      "\n",
      "preparing: 100%|##########################################################################| 1/1 [00:00<00:00, 50.97it/s]\n"
     ]
    },
    {
     "name": "stdout",
     "output_type": "stream",
     "text": [
      "de078962-1545-48d9-8738-f0560d8ef785\n",
      "sim calculated successfully\n",
      "\n",
      "2147.656 0.4454 2149.327\n",
      "0 existing calculation records provided\n"
     ]
    },
    {
     "name": "stderr",
     "output_type": "stream",
     "text": [
      "100%|█████████████████████████████████████████████████████████████████████████████████████| 1/1 [00:00<00:00,  4.37it/s]"
     ]
    },
    {
     "name": "stdout",
     "output_type": "stream",
     "text": [
      "1 calculation combinations to check\n",
      "1 new records to prepare\n"
     ]
    },
    {
     "name": "stderr",
     "output_type": "stream",
     "text": [
      "\n",
      "preparing: 100%|##########################################################################| 1/1 [00:00<00:00, 52.43it/s]\n"
     ]
    },
    {
     "name": "stdout",
     "output_type": "stream",
     "text": [
      "853740ad-2715-47fe-9363-79763e4d4788\n",
      "sim calculated successfully\n",
      "\n",
      "2147.656 0.4106 2141.543\n",
      "\n",
      "32 1996--Farkas-D--Nb-Ti-Al--LAMMPS--ipr1\n",
      "0 existing calculation records provided\n"
     ]
    },
    {
     "name": "stderr",
     "output_type": "stream",
     "text": [
      "100%|█████████████████████████████████████████████████████████████████████████████████████| 1/1 [00:00<00:00,  2.33it/s]"
     ]
    },
    {
     "name": "stdout",
     "output_type": "stream",
     "text": [
      "1 calculation combinations to check\n",
      "1 new records to prepare\n"
     ]
    },
    {
     "name": "stderr",
     "output_type": "stream",
     "text": [
      "\n",
      "preparing: 100%|##########################################################################| 1/1 [00:00<00:00, 56.63it/s]\n"
     ]
    },
    {
     "name": "stdout",
     "output_type": "stream",
     "text": [
      "0993fcfa-011d-4c42-9626-a873dd983715\n",
      "sim calculated successfully\n",
      "\n",
      "4525.000 0.0004759 4577.023\n",
      "0 existing calculation records provided\n"
     ]
    },
    {
     "name": "stderr",
     "output_type": "stream",
     "text": [
      "100%|█████████████████████████████████████████████████████████████████████████████████████| 1/1 [00:00<00:00,  4.32it/s]"
     ]
    },
    {
     "name": "stdout",
     "output_type": "stream",
     "text": [
      "1 calculation combinations to check\n",
      "1 new records to prepare\n"
     ]
    },
    {
     "name": "stderr",
     "output_type": "stream",
     "text": [
      "\n",
      "preparing: 100%|##########################################################################| 1/1 [00:00<00:00, 27.73it/s]\n"
     ]
    },
    {
     "name": "stdout",
     "output_type": "stream",
     "text": [
      "96cd4e06-fe56-4627-aab8-5b0d6a1fa4a9\n",
      "sim calculated successfully\n",
      "\n",
      "2287.500 0.0 2274.466\n",
      "0 existing calculation records provided\n"
     ]
    },
    {
     "name": "stderr",
     "output_type": "stream",
     "text": [
      "100%|█████████████████████████████████████████████████████████████████████████████████████| 1/1 [00:00<00:00,  2.32it/s]"
     ]
    },
    {
     "name": "stdout",
     "output_type": "stream",
     "text": [
      "1 calculation combinations to check\n",
      "1 new records to prepare\n"
     ]
    },
    {
     "name": "stderr",
     "output_type": "stream",
     "text": [
      "\n",
      "preparing: 100%|##########################################################################| 1/1 [00:00<00:00, 50.03it/s]\n"
     ]
    },
    {
     "name": "stdout",
     "output_type": "stream",
     "text": [
      "7a125679-7ddb-4aba-9fc3-d5fd64b92f05\n",
      "sim calculated successfully\n",
      "\n",
      "1168.750 0.7456 1248.229\n",
      "0 existing calculation records provided\n"
     ]
    },
    {
     "name": "stderr",
     "output_type": "stream",
     "text": [
      "100%|█████████████████████████████████████████████████████████████████████████████████████| 1/1 [00:00<00:00,  4.66it/s]"
     ]
    },
    {
     "name": "stdout",
     "output_type": "stream",
     "text": [
      "1 calculation combinations to check\n",
      "1 new records to prepare\n"
     ]
    },
    {
     "name": "stderr",
     "output_type": "stream",
     "text": [
      "\n",
      "preparing: 100%|##########################################################################| 1/1 [00:00<00:00, 60.58it/s]\n"
     ]
    },
    {
     "name": "stdout",
     "output_type": "stream",
     "text": [
      "f32c5451-932c-4b6a-bfa2-429c9895a8d7\n",
      "sim calculated successfully\n",
      "\n",
      "1728.125 4.138e-05 1712.452\n",
      "0 existing calculation records provided\n"
     ]
    },
    {
     "name": "stderr",
     "output_type": "stream",
     "text": [
      "100%|█████████████████████████████████████████████████████████████████████████████████████| 1/1 [00:00<00:00,  2.26it/s]"
     ]
    },
    {
     "name": "stdout",
     "output_type": "stream",
     "text": [
      "1 calculation combinations to check\n",
      "1 new records to prepare\n"
     ]
    },
    {
     "name": "stderr",
     "output_type": "stream",
     "text": [
      "\n",
      "preparing: 100%|##########################################################################| 1/1 [00:00<00:00, 48.58it/s]\n"
     ]
    },
    {
     "name": "stdout",
     "output_type": "stream",
     "text": [
      "176abd8b-4859-49a2-a60d-c95c34a804ed\n",
      "sim calculated successfully\n",
      "\n",
      "889.062 0.9619 885.525\n",
      "0 existing calculation records provided\n"
     ]
    },
    {
     "name": "stderr",
     "output_type": "stream",
     "text": [
      "100%|█████████████████████████████████████████████████████████████████████████████████████| 1/1 [00:00<00:00,  4.27it/s]"
     ]
    },
    {
     "name": "stdout",
     "output_type": "stream",
     "text": [
      "1 calculation combinations to check\n",
      "1 new records to prepare\n"
     ]
    },
    {
     "name": "stderr",
     "output_type": "stream",
     "text": [
      "\n",
      "preparing: 100%|##########################################################################| 1/1 [00:00<00:00, 30.86it/s]\n"
     ]
    },
    {
     "name": "stdout",
     "output_type": "stream",
     "text": [
      "847b8d96-b323-4a09-b14f-84c83141c34c\n",
      "sim calculated successfully\n",
      "\n",
      "1308.594 0.2307 1264.250\n",
      "0 existing calculation records provided\n"
     ]
    },
    {
     "name": "stderr",
     "output_type": "stream",
     "text": [
      "100%|█████████████████████████████████████████████████████████████████████████████████████| 1/1 [00:00<00:00,  3.77it/s]"
     ]
    },
    {
     "name": "stdout",
     "output_type": "stream",
     "text": [
      "1 calculation combinations to check\n",
      "1 new records to prepare\n"
     ]
    },
    {
     "name": "stderr",
     "output_type": "stream",
     "text": [
      "\n",
      "preparing: 100%|##########################################################################| 1/1 [00:00<00:00, 44.47it/s]\n"
     ]
    },
    {
     "name": "stdout",
     "output_type": "stream",
     "text": [
      "04e9ba36-d99b-49e9-8ff4-39b4dceb9f90\n",
      "sim calculated successfully\n",
      "\n",
      "1098.828 0.8376 1146.399\n",
      "0 existing calculation records provided\n"
     ]
    },
    {
     "name": "stderr",
     "output_type": "stream",
     "text": [
      "100%|█████████████████████████████████████████████████████████████████████████████████████| 1/1 [00:00<00:00,  2.45it/s]"
     ]
    },
    {
     "name": "stdout",
     "output_type": "stream",
     "text": [
      "1 calculation combinations to check\n",
      "1 new records to prepare\n"
     ]
    },
    {
     "name": "stderr",
     "output_type": "stream",
     "text": [
      "\n",
      "preparing: 100%|##########################################################################| 1/1 [00:00<00:00, 47.96it/s]\n"
     ]
    },
    {
     "name": "stdout",
     "output_type": "stream",
     "text": [
      "4bbb88ab-7e32-49bb-8b32-6b530db22869\n",
      "sim calculated successfully\n",
      "\n",
      "1203.711 0.6825 1306.177\n",
      "0 existing calculation records provided\n"
     ]
    },
    {
     "name": "stderr",
     "output_type": "stream",
     "text": [
      "100%|█████████████████████████████████████████████████████████████████████████████████████| 1/1 [00:00<00:00,  4.24it/s]"
     ]
    },
    {
     "name": "stdout",
     "output_type": "stream",
     "text": [
      "1 calculation combinations to check\n",
      "1 new records to prepare\n"
     ]
    },
    {
     "name": "stderr",
     "output_type": "stream",
     "text": [
      "\n",
      "preparing: 100%|##########################################################################| 1/1 [00:00<00:00, 31.23it/s]\n"
     ]
    },
    {
     "name": "stdout",
     "output_type": "stream",
     "text": [
      "22f3595c-c108-43b9-bda0-7242e23619ff\n",
      "sim calculated successfully\n",
      "\n",
      "1256.152 0.4182 1270.941\n",
      "0 existing calculation records provided\n"
     ]
    },
    {
     "name": "stderr",
     "output_type": "stream",
     "text": [
      "100%|█████████████████████████████████████████████████████████████████████████████████████| 1/1 [00:00<00:00,  2.19it/s]"
     ]
    },
    {
     "name": "stdout",
     "output_type": "stream",
     "text": [
      "1 calculation combinations to check\n",
      "1 new records to prepare\n"
     ]
    },
    {
     "name": "stderr",
     "output_type": "stream",
     "text": [
      "\n",
      "preparing: 100%|##########################################################################| 1/1 [00:00<00:00, 42.17it/s]\n"
     ]
    },
    {
     "name": "stdout",
     "output_type": "stream",
     "text": [
      "94978dbb-9ef0-4acc-95dd-dffb55552864\n",
      "sim calculated successfully\n",
      "\n",
      "1256.152 0.5639 1360.638\n",
      "0 existing calculation records provided\n"
     ]
    },
    {
     "name": "stderr",
     "output_type": "stream",
     "text": [
      "100%|█████████████████████████████████████████████████████████████████████████████████████| 1/1 [00:00<00:00,  2.75it/s]"
     ]
    },
    {
     "name": "stdout",
     "output_type": "stream",
     "text": [
      "1 calculation combinations to check\n",
      "1 new records to prepare\n"
     ]
    },
    {
     "name": "stderr",
     "output_type": "stream",
     "text": [
      "\n",
      "preparing: 100%|##########################################################################| 1/1 [00:00<00:00, 34.50it/s]\n"
     ]
    },
    {
     "name": "stdout",
     "output_type": "stream",
     "text": [
      "f709bbcc-3e51-4cf3-8dc8-1c7a6976d9f0\n",
      "sim calculated successfully\n",
      "\n",
      "1256.152 0.3743 1266.369\n",
      "0 existing calculation records provided\n"
     ]
    },
    {
     "name": "stderr",
     "output_type": "stream",
     "text": [
      "100%|█████████████████████████████████████████████████████████████████████████████████████| 1/1 [00:00<00:00,  2.30it/s]"
     ]
    },
    {
     "name": "stdout",
     "output_type": "stream",
     "text": [
      "1 calculation combinations to check\n",
      "1 new records to prepare\n"
     ]
    },
    {
     "name": "stderr",
     "output_type": "stream",
     "text": [
      "\n",
      "preparing: 100%|##########################################################################| 1/1 [00:00<00:00, 46.12it/s]\n"
     ]
    },
    {
     "name": "stdout",
     "output_type": "stream",
     "text": [
      "bb7d31e7-e900-42b4-a7c9-05fcc46c46ae\n",
      "sim calculated successfully\n",
      "\n",
      "1177.490 0.7175 1271.196\n",
      "0 existing calculation records provided\n"
     ]
    },
    {
     "name": "stderr",
     "output_type": "stream",
     "text": [
      "100%|█████████████████████████████████████████████████████████████████████████████████████| 1/1 [00:00<00:00,  4.24it/s]"
     ]
    },
    {
     "name": "stdout",
     "output_type": "stream",
     "text": [
      "1 calculation combinations to check\n",
      "1 new records to prepare\n"
     ]
    },
    {
     "name": "stderr",
     "output_type": "stream",
     "text": [
      "\n",
      "preparing: 100%|##########################################################################| 1/1 [00:00<00:00, 52.59it/s]\n"
     ]
    },
    {
     "name": "stdout",
     "output_type": "stream",
     "text": [
      "bf91ff30-24f6-4a30-80ae-55a197112dcf\n",
      "sim calculated successfully\n",
      "\n",
      "1243.042 0.5768 1348.931\n",
      "0 existing calculation records provided\n"
     ]
    },
    {
     "name": "stderr",
     "output_type": "stream",
     "text": [
      "100%|█████████████████████████████████████████████████████████████████████████████████████| 1/1 [00:00<00:00,  2.48it/s]"
     ]
    },
    {
     "name": "stdout",
     "output_type": "stream",
     "text": [
      "1 calculation combinations to check\n",
      "1 new records to prepare\n"
     ]
    },
    {
     "name": "stderr",
     "output_type": "stream",
     "text": [
      "\n",
      "preparing: 100%|##########################################################################| 1/1 [00:00<00:00, 48.37it/s]\n"
     ]
    },
    {
     "name": "stdout",
     "output_type": "stream",
     "text": [
      "b2865ce4-21ad-4776-aea8-41a9ebcd58a1\n",
      "sim calculated successfully\n",
      "\n",
      "1243.042 0.4737 1285.551\n",
      "0 existing calculation records provided\n"
     ]
    },
    {
     "name": "stderr",
     "output_type": "stream",
     "text": [
      "100%|█████████████████████████████████████████████████████████████████████████████████████| 1/1 [00:00<00:00,  2.24it/s]"
     ]
    },
    {
     "name": "stdout",
     "output_type": "stream",
     "text": [
      "1 calculation combinations to check\n",
      "1 new records to prepare\n"
     ]
    },
    {
     "name": "stderr",
     "output_type": "stream",
     "text": [
      "\n",
      "preparing: 100%|##########################################################################| 1/1 [00:00<00:00, 40.24it/s]\n"
     ]
    },
    {
     "name": "stdout",
     "output_type": "stream",
     "text": [
      "e6413185-236c-402e-b9be-41f17c7b1588\n",
      "sim calculated successfully\n",
      "\n",
      "1243.042 0.6104 1354.778\n",
      "0 existing calculation records provided\n"
     ]
    },
    {
     "name": "stderr",
     "output_type": "stream",
     "text": [
      "100%|█████████████████████████████████████████████████████████████████████████████████████| 1/1 [00:00<00:00,  4.55it/s]"
     ]
    },
    {
     "name": "stdout",
     "output_type": "stream",
     "text": [
      "1 calculation combinations to check\n",
      "1 new records to prepare\n"
     ]
    },
    {
     "name": "stderr",
     "output_type": "stream",
     "text": [
      "\n",
      "preparing: 100%|##########################################################################| 1/1 [00:00<00:00, 40.24it/s]\n"
     ]
    },
    {
     "name": "stdout",
     "output_type": "stream",
     "text": [
      "8da0c879-d2df-4776-88d0-28987ad2ffda\n",
      "sim calculated successfully\n",
      "\n",
      "1275.818 0.3447 1263.687\n",
      "\n",
      "33 1997--Ackland-G-J--Fe--LAMMPS--ipr1\n",
      "0 existing calculation records provided\n"
     ]
    },
    {
     "name": "stderr",
     "output_type": "stream",
     "text": [
      "100%|█████████████████████████████████████████████████████████████████████████████████████| 1/1 [00:00<00:00,  2.49it/s]"
     ]
    },
    {
     "name": "stdout",
     "output_type": "stream",
     "text": [
      "1 calculation combinations to check\n",
      "1 new records to prepare\n"
     ]
    },
    {
     "name": "stderr",
     "output_type": "stream",
     "text": [
      "\n",
      "preparing: 100%|##########################################################################| 1/1 [00:00<00:00, 89.60it/s]\n"
     ]
    },
    {
     "name": "stdout",
     "output_type": "stream",
     "text": [
      "b04edea3-6358-452b-8e5e-9403b9582c25\n",
      "sim calculated successfully\n",
      "\n",
      "4525.000 0.001934 4580.039\n",
      "0 existing calculation records provided\n"
     ]
    },
    {
     "name": "stderr",
     "output_type": "stream",
     "text": [
      "100%|█████████████████████████████████████████████████████████████████████████████████████| 1/1 [00:00<00:00,  2.28it/s]"
     ]
    },
    {
     "name": "stdout",
     "output_type": "stream",
     "text": [
      "1 calculation combinations to check\n",
      "1 new records to prepare\n"
     ]
    },
    {
     "name": "stderr",
     "output_type": "stream",
     "text": [
      "\n",
      "preparing: 100%|##########################################################################| 1/1 [00:00<00:00, 65.05it/s]\n"
     ]
    },
    {
     "name": "stdout",
     "output_type": "stream",
     "text": [
      "cdac5878-889d-43a2-aa5d-6021061b292b\n",
      "sim calculated successfully\n",
      "\n",
      "2287.500 0.5782 2333.422\n",
      "0 existing calculation records provided\n"
     ]
    },
    {
     "name": "stderr",
     "output_type": "stream",
     "text": [
      "100%|█████████████████████████████████████████████████████████████████████████████████████| 1/1 [00:00<00:00,  4.27it/s]"
     ]
    },
    {
     "name": "stdout",
     "output_type": "stream",
     "text": [
      "1 calculation combinations to check\n",
      "1 new records to prepare\n"
     ]
    },
    {
     "name": "stderr",
     "output_type": "stream",
     "text": [
      "\n",
      "preparing: 100%|##########################################################################| 1/1 [00:00<00:00, 52.18it/s]\n"
     ]
    },
    {
     "name": "stdout",
     "output_type": "stream",
     "text": [
      "997e3bee-133c-4427-b246-df5ecf796e42\n",
      "sim calculated successfully\n",
      "\n",
      "2287.500 0.5915 2354.208\n",
      "0 existing calculation records provided\n"
     ]
    },
    {
     "name": "stderr",
     "output_type": "stream",
     "text": [
      "100%|█████████████████████████████████████████████████████████████████████████████████████| 1/1 [00:00<00:00,  3.99it/s]"
     ]
    },
    {
     "name": "stdout",
     "output_type": "stream",
     "text": [
      "1 calculation combinations to check\n",
      "1 new records to prepare\n"
     ]
    },
    {
     "name": "stderr",
     "output_type": "stream",
     "text": [
      "\n",
      "preparing: 100%|##########################################################################| 1/1 [00:00<00:00, 67.45it/s]\n"
     ]
    },
    {
     "name": "stdout",
     "output_type": "stream",
     "text": [
      "aeaa67ed-7484-4c00-a2bd-da22a09fb612\n",
      "sim calculated successfully\n",
      "\n",
      "2287.500 0.611 2364.595\n",
      "0 existing calculation records provided\n"
     ]
    },
    {
     "name": "stderr",
     "output_type": "stream",
     "text": [
      "100%|█████████████████████████████████████████████████████████████████████████████████████| 1/1 [00:00<00:00,  2.90it/s]"
     ]
    },
    {
     "name": "stdout",
     "output_type": "stream",
     "text": [
      "1 calculation combinations to check\n",
      "1 new records to prepare\n"
     ]
    },
    {
     "name": "stderr",
     "output_type": "stream",
     "text": [
      "\n",
      "preparing: 100%|##########################################################################| 1/1 [00:00<00:00, 36.74it/s]\n"
     ]
    },
    {
     "name": "stdout",
     "output_type": "stream",
     "text": [
      "0cc499ce-c921-4007-b7e4-d2833b8d9365\n",
      "sim calculated successfully\n",
      "\n",
      "3406.250 3.103e-05 3350.714\n",
      "0 existing calculation records provided\n"
     ]
    },
    {
     "name": "stderr",
     "output_type": "stream",
     "text": [
      "100%|█████████████████████████████████████████████████████████████████████████████████████| 1/1 [00:00<00:00,  2.33it/s]"
     ]
    },
    {
     "name": "stdout",
     "output_type": "stream",
     "text": [
      "1 calculation combinations to check\n",
      "1 new records to prepare\n"
     ]
    },
    {
     "name": "stderr",
     "output_type": "stream",
     "text": [
      "\n",
      "preparing: 100%|##########################################################################| 1/1 [00:00<00:00, 62.38it/s]\n"
     ]
    },
    {
     "name": "stdout",
     "output_type": "stream",
     "text": [
      "9c6d95f6-392c-4b4f-896d-2d7e00cee342\n",
      "sim calculated successfully\n",
      "\n",
      "1728.125 0.9901 1720.887\n",
      "0 existing calculation records provided\n"
     ]
    },
    {
     "name": "stderr",
     "output_type": "stream",
     "text": [
      "100%|█████████████████████████████████████████████████████████████████████████████████████| 1/1 [00:00<00:00,  2.27it/s]"
     ]
    },
    {
     "name": "stdout",
     "output_type": "stream",
     "text": [
      "1 calculation combinations to check\n",
      "1 new records to prepare\n"
     ]
    },
    {
     "name": "stderr",
     "output_type": "stream",
     "text": [
      "\n",
      "preparing: 100%|##########################################################################| 1/1 [00:00<00:00, 64.01it/s]\n"
     ]
    },
    {
     "name": "stdout",
     "output_type": "stream",
     "text": [
      "713ebb01-e96c-4b98-a2d1-ac3b718cc2f3\n",
      "sim calculated successfully\n",
      "\n",
      "2567.188 0.0004345 2274.888\n",
      "0 existing calculation records provided\n"
     ]
    },
    {
     "name": "stderr",
     "output_type": "stream",
     "text": [
      "100%|█████████████████████████████████████████████████████████████████████████████████████| 1/1 [00:00<00:00,  4.34it/s]"
     ]
    },
    {
     "name": "stdout",
     "output_type": "stream",
     "text": [
      "1 calculation combinations to check\n",
      "1 new records to prepare\n"
     ]
    },
    {
     "name": "stderr",
     "output_type": "stream",
     "text": [
      "\n",
      "preparing: 100%|##########################################################################| 1/1 [00:00<00:00, 42.77it/s]\n"
     ]
    },
    {
     "name": "stdout",
     "output_type": "stream",
     "text": [
      "46974eab-ab6d-4ae8-9679-5e4ffd18eaf6\n",
      "sim calculated successfully\n",
      "\n",
      "2147.656 0.8765 2328.109\n",
      "0 existing calculation records provided\n"
     ]
    },
    {
     "name": "stderr",
     "output_type": "stream",
     "text": [
      "100%|█████████████████████████████████████████████████████████████████████████████████████| 1/1 [00:00<00:00,  4.27it/s]"
     ]
    },
    {
     "name": "stdout",
     "output_type": "stream",
     "text": [
      "1 calculation combinations to check\n",
      "1 new records to prepare\n"
     ]
    },
    {
     "name": "stderr",
     "output_type": "stream",
     "text": [
      "\n",
      "preparing: 100%|##########################################################################| 1/1 [00:00<00:00, 56.86it/s]\n"
     ]
    },
    {
     "name": "stdout",
     "output_type": "stream",
     "text": [
      "c64c530b-98d4-4311-bdf0-01a654a02bfe\n",
      "sim calculated successfully\n",
      "\n",
      "2357.422 0.4577 2348.730\n",
      "0 existing calculation records provided\n"
     ]
    },
    {
     "name": "stderr",
     "output_type": "stream",
     "text": [
      "100%|█████████████████████████████████████████████████████████████████████████████████████| 1/1 [00:00<00:00,  2.31it/s]"
     ]
    },
    {
     "name": "stdout",
     "output_type": "stream",
     "text": [
      "1 calculation combinations to check\n",
      "1 new records to prepare\n"
     ]
    },
    {
     "name": "stderr",
     "output_type": "stream",
     "text": [
      "\n",
      "preparing: 100%|##########################################################################| 1/1 [00:00<00:00, 53.77it/s]\n"
     ]
    },
    {
     "name": "stdout",
     "output_type": "stream",
     "text": [
      "6bf75be9-bb8f-435c-90af-df382447ee61\n",
      "sim calculated successfully\n",
      "\n",
      "2357.422 0.4519 2348.115\n",
      "0 existing calculation records provided\n"
     ]
    },
    {
     "name": "stderr",
     "output_type": "stream",
     "text": [
      "100%|█████████████████████████████████████████████████████████████████████████████████████| 1/1 [00:00<00:00,  2.29it/s]"
     ]
    },
    {
     "name": "stdout",
     "output_type": "stream",
     "text": [
      "1 calculation combinations to check\n",
      "1 new records to prepare\n"
     ]
    },
    {
     "name": "stderr",
     "output_type": "stream",
     "text": [
      "\n",
      "preparing: 100%|##########################################################################| 1/1 [00:00<00:00, 61.55it/s]\n"
     ]
    },
    {
     "name": "stdout",
     "output_type": "stream",
     "text": [
      "e601ed6a-cb72-49be-995c-d1e9d58617c1\n",
      "sim calculated successfully\n",
      "\n",
      "2357.422 0.4896 2353.923\n",
      "0 existing calculation records provided\n"
     ]
    },
    {
     "name": "stderr",
     "output_type": "stream",
     "text": [
      "100%|█████████████████████████████████████████████████████████████████████████████████████| 1/1 [00:00<00:00,  2.41it/s]"
     ]
    },
    {
     "name": "stdout",
     "output_type": "stream",
     "text": [
      "1 calculation combinations to check\n",
      "1 new records to prepare\n"
     ]
    },
    {
     "name": "stderr",
     "output_type": "stream",
     "text": [
      "\n",
      "preparing: 100%|##########################################################################| 1/1 [00:00<00:00, 61.76it/s]\n"
     ]
    },
    {
     "name": "stdout",
     "output_type": "stream",
     "text": [
      "fada0c41-a32c-468c-b32e-16e99e38ba15\n",
      "sim calculated successfully\n",
      "\n",
      "2357.422 0.4686 2361.419\n",
      "0 existing calculation records provided\n"
     ]
    },
    {
     "name": "stderr",
     "output_type": "stream",
     "text": [
      "100%|█████████████████████████████████████████████████████████████████████████████████████| 1/1 [00:00<00:00,  4.09it/s]"
     ]
    },
    {
     "name": "stdout",
     "output_type": "stream",
     "text": [
      "1 calculation combinations to check\n",
      "1 new records to prepare\n"
     ]
    },
    {
     "name": "stderr",
     "output_type": "stream",
     "text": [
      "\n",
      "preparing: 100%|##########################################################################| 1/1 [00:00<00:00, 62.97it/s]\n"
     ]
    },
    {
     "name": "stdout",
     "output_type": "stream",
     "text": [
      "35053534-007f-4167-93c0-5348abced4d2\n",
      "sim calculated successfully\n",
      "\n",
      "2357.422 0.458 2356.218\n",
      "0 existing calculation records provided\n"
     ]
    },
    {
     "name": "stderr",
     "output_type": "stream",
     "text": [
      "100%|█████████████████████████████████████████████████████████████████████████████████████| 1/1 [00:00<00:00,  4.35it/s]"
     ]
    },
    {
     "name": "stdout",
     "output_type": "stream",
     "text": [
      "1 calculation combinations to check\n",
      "1 new records to prepare\n"
     ]
    },
    {
     "name": "stderr",
     "output_type": "stream",
     "text": [
      "\n",
      "preparing: 100%|##########################################################################| 1/1 [00:00<00:00, 61.98it/s]\n"
     ]
    },
    {
     "name": "stdout",
     "output_type": "stream",
     "text": [
      "5d1cb2f3-6b67-422f-90c6-881bd46eae88\n",
      "sim calculated successfully\n",
      "\n",
      "2357.422 0.4286 2344.563\n",
      "0 existing calculation records provided\n"
     ]
    },
    {
     "name": "stderr",
     "output_type": "stream",
     "text": [
      "100%|█████████████████████████████████████████████████████████████████████████████████████| 1/1 [00:00<00:00,  2.34it/s]"
     ]
    },
    {
     "name": "stdout",
     "output_type": "stream",
     "text": [
      "1 calculation combinations to check\n",
      "1 new records to prepare\n"
     ]
    },
    {
     "name": "stderr",
     "output_type": "stream",
     "text": [
      "\n",
      "preparing: 100%|##########################################################################| 1/1 [00:00<00:00, 64.94it/s]\n"
     ]
    },
    {
     "name": "stdout",
     "output_type": "stream",
     "text": [
      "91f9bdd4-2449-4228-93a3-bd6d2025c558\n",
      "sim calculated successfully\n",
      "\n",
      "2357.422 0.4484 2349.254\n",
      "\n",
      "34 1997--Liu-X-Y--Al-Mg--LAMMPS--ipr1\n",
      "0 existing calculation records provided\n"
     ]
    },
    {
     "name": "stderr",
     "output_type": "stream",
     "text": [
      "100%|█████████████████████████████████████████████████████████████████████████████████████| 1/1 [00:00<00:00,  2.25it/s]"
     ]
    },
    {
     "name": "stdout",
     "output_type": "stream",
     "text": [
      "1 calculation combinations to check\n",
      "1 new records to prepare\n"
     ]
    },
    {
     "name": "stderr",
     "output_type": "stream",
     "text": [
      "\n",
      "preparing: 100%|##########################################################################| 1/1 [00:00<00:00, 97.61it/s]\n"
     ]
    },
    {
     "name": "stdout",
     "output_type": "stream",
     "text": [
      "4f65a20e-9803-4e3e-8269-1f430c613493\n",
      "sim calculated successfully\n",
      "\n",
      "4525.000 0.2042 2056.372\n",
      "0 existing calculation records provided\n"
     ]
    },
    {
     "name": "stderr",
     "output_type": "stream",
     "text": [
      "100%|█████████████████████████████████████████████████████████████████████████████████████| 1/1 [00:00<00:00,  2.28it/s]"
     ]
    },
    {
     "name": "stdout",
     "output_type": "stream",
     "text": [
      "1 calculation combinations to check\n",
      "1 new records to prepare\n"
     ]
    },
    {
     "name": "stderr",
     "output_type": "stream",
     "text": [
      "\n",
      "preparing: 100%|##########################################################################| 1/1 [00:00<00:00, 70.75it/s]\n"
     ]
    },
    {
     "name": "stdout",
     "output_type": "stream",
     "text": [
      "25ce4684-8f85-4e46-845f-767763cc5ead\n",
      "sim calculated successfully\n",
      "\n",
      "2287.500 0.05124 2438.921\n",
      "0 existing calculation records provided\n"
     ]
    },
    {
     "name": "stderr",
     "output_type": "stream",
     "text": [
      "100%|█████████████████████████████████████████████████████████████████████████████████████| 1/1 [00:00<00:00,  2.30it/s]"
     ]
    },
    {
     "name": "stdout",
     "output_type": "stream",
     "text": [
      "1 calculation combinations to check\n",
      "1 new records to prepare\n"
     ]
    },
    {
     "name": "stderr",
     "output_type": "stream",
     "text": [
      "\n",
      "preparing: 100%|##########################################################################| 1/1 [00:00<00:00, 76.78it/s]\n"
     ]
    },
    {
     "name": "stdout",
     "output_type": "stream",
     "text": [
      "3f91c542-1c49-4bbb-aefb-920e73c79c74\n",
      "sim calculated successfully\n",
      "\n",
      "1168.750 0.05097 1886.729\n",
      "0 existing calculation records provided\n"
     ]
    },
    {
     "name": "stderr",
     "output_type": "stream",
     "text": [
      "100%|█████████████████████████████████████████████████████████████████████████████████████| 1/1 [00:00<00:00,  4.12it/s]"
     ]
    },
    {
     "name": "stdout",
     "output_type": "stream",
     "text": [
      "1 calculation combinations to check\n",
      "1 new records to prepare\n"
     ]
    },
    {
     "name": "stderr",
     "output_type": "stream",
     "text": [
      "\n",
      "preparing: 100%|##########################################################################| 1/1 [00:00<00:00, 49.89it/s]\n"
     ]
    },
    {
     "name": "stdout",
     "output_type": "stream",
     "text": [
      "5674a6cc-072b-44c2-a07c-87c5303d4826\n",
      "sim calculated successfully\n",
      "\n",
      "609.375 0.08425 1480.183\n",
      "0 existing calculation records provided\n"
     ]
    },
    {
     "name": "stderr",
     "output_type": "stream",
     "text": [
      "100%|█████████████████████████████████████████████████████████████████████████████████████| 1/1 [00:00<00:00,  4.16it/s]"
     ]
    },
    {
     "name": "stdout",
     "output_type": "stream",
     "text": [
      "1 calculation combinations to check\n",
      "1 new records to prepare\n"
     ]
    },
    {
     "name": "stderr",
     "output_type": "stream",
     "text": [
      "\n",
      "preparing: 100%|##########################################################################| 1/1 [00:00<00:00, 80.17it/s]\n"
     ]
    },
    {
     "name": "stdout",
     "output_type": "stream",
     "text": [
      "ebd51d87-fe02-4605-96d8-4f96d26cced1\n",
      "sim calculated successfully\n",
      "\n",
      "329.688 0.1194 1287.206\n",
      "0 existing calculation records provided\n"
     ]
    },
    {
     "name": "stderr",
     "output_type": "stream",
     "text": [
      "100%|█████████████████████████████████████████████████████████████████████████████████████| 1/1 [00:00<00:00,  4.07it/s]"
     ]
    },
    {
     "name": "stdout",
     "output_type": "stream",
     "text": [
      "1 calculation combinations to check\n",
      "1 new records to prepare\n"
     ]
    },
    {
     "name": "stderr",
     "output_type": "stream",
     "text": [
      "\n",
      "preparing: 100%|##########################################################################| 1/1 [00:00<00:00, 81.32it/s]\n"
     ]
    },
    {
     "name": "stdout",
     "output_type": "stream",
     "text": [
      "d15493ca-2a7c-470b-ac62-68c871453c8c\n",
      "sim calculated successfully\n",
      "\n",
      "189.844 0.1311 1379.436\n",
      "0 existing calculation records provided\n"
     ]
    },
    {
     "name": "stderr",
     "output_type": "stream",
     "text": [
      "100%|█████████████████████████████████████████████████████████████████████████████████████| 1/1 [00:00<00:00,  4.24it/s]"
     ]
    },
    {
     "name": "stdout",
     "output_type": "stream",
     "text": [
      "1 calculation combinations to check\n",
      "1 new records to prepare\n"
     ]
    },
    {
     "name": "stderr",
     "output_type": "stream",
     "text": [
      "\n",
      "preparing: 100%|##########################################################################| 1/1 [00:00<00:00, 86.04it/s]\n"
     ]
    },
    {
     "name": "stdout",
     "output_type": "stream",
     "text": [
      "5f4e0d8c-c149-41bc-bf71-3487e2aff830\n",
      "sim calculated successfully\n",
      "\n",
      "119.922 1.034e-05 1435.481\n",
      "0 existing calculation records provided\n"
     ]
    },
    {
     "name": "stderr",
     "output_type": "stream",
     "text": [
      "100%|█████████████████████████████████████████████████████████████████████████████████████| 1/1 [00:00<00:00,  4.29it/s]"
     ]
    },
    {
     "name": "stdout",
     "output_type": "stream",
     "text": [
      "1 calculation combinations to check\n",
      "1 new records to prepare\n"
     ]
    },
    {
     "name": "stderr",
     "output_type": "stream",
     "text": [
      "\n",
      "preparing: 100%|##########################################################################| 1/1 [00:00<00:00, 73.53it/s]\n"
     ]
    },
    {
     "name": "stdout",
     "output_type": "stream",
     "text": [
      "de6ea5e3-517f-442c-89a8-20ceeb6cecdc\n",
      "sim calculated successfully\n",
      "\n",
      "84.961 7.241e-05 104.608\n",
      "0 existing calculation records provided\n"
     ]
    },
    {
     "name": "stderr",
     "output_type": "stream",
     "text": [
      "100%|█████████████████████████████████████████████████████████████████████████████████████| 1/1 [00:00<00:00,  4.29it/s]"
     ]
    },
    {
     "name": "stdout",
     "output_type": "stream",
     "text": [
      "1 calculation combinations to check\n",
      "1 new records to prepare\n"
     ]
    },
    {
     "name": "stderr",
     "output_type": "stream",
     "text": [
      "\n",
      "preparing: 100%|##########################################################################| 1/1 [00:00<00:00, 36.94it/s]\n"
     ]
    },
    {
     "name": "stdout",
     "output_type": "stream",
     "text": [
      "b540348e-e92c-475e-83af-43eb03450313\n",
      "sim calculated successfully\n",
      "\n",
      "67.480 0.0002379 79.506\n",
      "0 existing calculation records provided\n"
     ]
    },
    {
     "name": "stderr",
     "output_type": "stream",
     "text": [
      "100%|█████████████████████████████████████████████████████████████████████████████████████| 1/1 [00:00<00:00,  4.15it/s]"
     ]
    },
    {
     "name": "stdout",
     "output_type": "stream",
     "text": [
      "1 calculation combinations to check\n",
      "1 new records to prepare\n"
     ]
    },
    {
     "name": "stderr",
     "output_type": "stream",
     "text": [
      "\n",
      "preparing: 100%|##########################################################################| 1/1 [00:00<00:00, 35.62it/s]\n"
     ]
    },
    {
     "name": "stdout",
     "output_type": "stream",
     "text": [
      "8dbab4ef-fdec-4a3f-8bd7-7b8d287152f1\n",
      "sim calculated successfully\n",
      "\n",
      "58.740 0.0001655 69.318\n",
      "0 existing calculation records provided\n"
     ]
    },
    {
     "name": "stderr",
     "output_type": "stream",
     "text": [
      "100%|█████████████████████████████████████████████████████████████████████████████████████| 1/1 [00:00<00:00,  3.95it/s]"
     ]
    },
    {
     "name": "stdout",
     "output_type": "stream",
     "text": [
      "1 calculation combinations to check\n",
      "1 new records to prepare\n"
     ]
    },
    {
     "name": "stderr",
     "output_type": "stream",
     "text": [
      "\n",
      "preparing: 100%|##########################################################################| 1/1 [00:00<00:00, 78.15it/s]\n"
     ]
    },
    {
     "name": "stdout",
     "output_type": "stream",
     "text": [
      "b25391d1-c86d-4138-864d-a180d2519c5b\n",
      "sim calculated successfully\n",
      "\n",
      "54.370 0.0002897 63.430\n",
      "0 existing calculation records provided\n"
     ]
    },
    {
     "name": "stderr",
     "output_type": "stream",
     "text": [
      "100%|█████████████████████████████████████████████████████████████████████████████████████| 1/1 [00:00<00:00,  4.34it/s]"
     ]
    },
    {
     "name": "stdout",
     "output_type": "stream",
     "text": [
      "1 calculation combinations to check\n",
      "1 new records to prepare\n"
     ]
    },
    {
     "name": "stderr",
     "output_type": "stream",
     "text": [
      "\n",
      "preparing: 100%|##########################################################################| 1/1 [00:00<00:00, 46.13it/s]\n"
     ]
    },
    {
     "name": "stdout",
     "output_type": "stream",
     "text": [
      "90375117-1cf7-473a-94f6-a9875383aff4\n",
      "sim calculated successfully\n",
      "\n",
      "52.185 0.0004448 59.400\n",
      "0 existing calculation records provided\n"
     ]
    },
    {
     "name": "stderr",
     "output_type": "stream",
     "text": [
      "100%|█████████████████████████████████████████████████████████████████████████████████████| 1/1 [00:00<00:00,  3.53it/s]"
     ]
    },
    {
     "name": "stdout",
     "output_type": "stream",
     "text": [
      "1 calculation combinations to check\n",
      "1 new records to prepare\n"
     ]
    },
    {
     "name": "stderr",
     "output_type": "stream",
     "text": [
      "\n",
      "preparing: 100%|##########################################################################| 1/1 [00:00<00:00, 51.36it/s]\n"
     ]
    },
    {
     "name": "stdout",
     "output_type": "stream",
     "text": [
      "712ca838-0314-44a6-b693-bf51cf2f0c08\n",
      "sim calculated successfully\n",
      "\n",
      "51.093 0.0002897 61.839\n",
      "0 existing calculation records provided\n"
     ]
    },
    {
     "name": "stderr",
     "output_type": "stream",
     "text": [
      "100%|█████████████████████████████████████████████████████████████████████████████████████| 1/1 [00:00<00:00,  4.27it/s]"
     ]
    },
    {
     "name": "stdout",
     "output_type": "stream",
     "text": [
      "1 calculation combinations to check\n",
      "1 new records to prepare\n"
     ]
    },
    {
     "name": "stderr",
     "output_type": "stream",
     "text": [
      "\n",
      "preparing: 100%|##########################################################################| 1/1 [00:00<00:00, 92.44it/s]\n"
     ]
    },
    {
     "name": "stdout",
     "output_type": "stream",
     "text": [
      "097a5b89-f078-4e00-9366-fcc997e33c22\n",
      "sim calculated successfully\n",
      "\n",
      "50.546 4.138e-05 64.436\n",
      "0 existing calculation records provided\n"
     ]
    },
    {
     "name": "stderr",
     "output_type": "stream",
     "text": [
      "100%|█████████████████████████████████████████████████████████████████████████████████████| 1/1 [00:00<00:00,  4.26it/s]"
     ]
    },
    {
     "name": "stdout",
     "output_type": "stream",
     "text": [
      "1 calculation combinations to check\n",
      "1 new records to prepare\n"
     ]
    },
    {
     "name": "stderr",
     "output_type": "stream",
     "text": [
      "\n",
      "preparing: 100%|##########################################################################| 1/1 [00:00<00:00, 85.92it/s]\n"
     ]
    },
    {
     "name": "stdout",
     "output_type": "stream",
     "text": [
      "dfcb6f14-7f6e-4821-a652-463530801532\n",
      "sim calculated successfully\n",
      "\n",
      "50.273 0.0001759 57.673\n",
      "0 existing calculation records provided\n"
     ]
    },
    {
     "name": "stderr",
     "output_type": "stream",
     "text": [
      "100%|█████████████████████████████████████████████████████████████████████████████████████| 1/1 [00:00<00:00,  2.53it/s]"
     ]
    },
    {
     "name": "stdout",
     "output_type": "stream",
     "text": [
      "1 calculation combinations to check\n",
      "1 new records to prepare\n"
     ]
    },
    {
     "name": "stderr",
     "output_type": "stream",
     "text": [
      "\n",
      "preparing: 100%|##########################################################################| 1/1 [00:00<00:00, 41.10it/s]\n"
     ]
    },
    {
     "name": "stdout",
     "output_type": "stream",
     "text": [
      "6eb736ff-da0a-4813-b71e-86e1ece14568\n",
      "sim calculated successfully\n",
      "\n",
      "50.137 0.0003724 63.398\n",
      "0 existing calculation records provided\n"
     ]
    },
    {
     "name": "stderr",
     "output_type": "stream",
     "text": [
      "100%|█████████████████████████████████████████████████████████████████████████████████████| 1/1 [00:00<00:00,  2.56it/s]"
     ]
    },
    {
     "name": "stdout",
     "output_type": "stream",
     "text": [
      "1 calculation combinations to check\n",
      "1 new records to prepare\n"
     ]
    },
    {
     "name": "stderr",
     "output_type": "stream",
     "text": [
      "\n",
      "preparing: 100%|##########################################################################| 1/1 [00:00<00:00, 47.19it/s]\n"
     ]
    },
    {
     "name": "stdout",
     "output_type": "stream",
     "text": [
      "63510519-94a1-4539-8d0f-d996fcd8cfc4\n",
      "sim calculated successfully\n",
      "\n",
      "50.068 0.0001862 59.891\n",
      "0 existing calculation records provided\n"
     ]
    },
    {
     "name": "stderr",
     "output_type": "stream",
     "text": [
      "100%|█████████████████████████████████████████████████████████████████████████████████████| 1/1 [00:00<00:00,  4.21it/s]"
     ]
    },
    {
     "name": "stdout",
     "output_type": "stream",
     "text": [
      "1 calculation combinations to check\n",
      "1 new records to prepare\n"
     ]
    },
    {
     "name": "stderr",
     "output_type": "stream",
     "text": [
      "\n",
      "preparing: 100%|##########################################################################| 1/1 [00:00<00:00, 50.17it/s]\n"
     ]
    },
    {
     "name": "stdout",
     "output_type": "stream",
     "text": [
      "562c06c0-9673-4785-b0c1-b1f276551bec\n",
      "sim calculated successfully\n",
      "\n",
      "50.034 5.172e-05 61.410\n",
      "0 existing calculation records provided\n"
     ]
    },
    {
     "name": "stderr",
     "output_type": "stream",
     "text": [
      "100%|█████████████████████████████████████████████████████████████████████████████████████| 1/1 [00:00<00:00,  4.32it/s]"
     ]
    },
    {
     "name": "stdout",
     "output_type": "stream",
     "text": [
      "1 calculation combinations to check\n",
      "1 new records to prepare\n"
     ]
    },
    {
     "name": "stderr",
     "output_type": "stream",
     "text": [
      "\n",
      "preparing: 100%|##########################################################################| 1/1 [00:00<00:00, 48.93it/s]\n"
     ]
    },
    {
     "name": "stdout",
     "output_type": "stream",
     "text": [
      "28224aa8-8257-4b80-9a5b-5e731dec7508\n",
      "sim calculated successfully\n",
      "\n",
      "50.017 1.034e-05 61.627\n",
      "0 existing calculation records provided\n"
     ]
    },
    {
     "name": "stderr",
     "output_type": "stream",
     "text": [
      "100%|█████████████████████████████████████████████████████████████████████████████████████| 1/1 [00:00<00:00,  4.31it/s]"
     ]
    },
    {
     "name": "stdout",
     "output_type": "stream",
     "text": [
      "1 calculation combinations to check\n",
      "1 new records to prepare\n"
     ]
    },
    {
     "name": "stderr",
     "output_type": "stream",
     "text": [
      "\n",
      "preparing: 100%|##########################################################################| 1/1 [00:00<00:00, 45.72it/s]\n"
     ]
    },
    {
     "name": "stdout",
     "output_type": "stream",
     "text": [
      "6daaac6b-dea8-4ddb-85a8-cea442f74f4a\n",
      "sim calculated successfully\n",
      "\n",
      "50.009 0.0001138 60.582\n",
      "0 existing calculation records provided\n"
     ]
    },
    {
     "name": "stderr",
     "output_type": "stream",
     "text": [
      "100%|█████████████████████████████████████████████████████████████████████████████████████| 1/1 [00:00<00:00,  2.56it/s]"
     ]
    },
    {
     "name": "stdout",
     "output_type": "stream",
     "text": [
      "1 calculation combinations to check\n",
      "1 new records to prepare\n"
     ]
    },
    {
     "name": "stderr",
     "output_type": "stream",
     "text": [
      "\n",
      "preparing: 100%|##########################################################################| 1/1 [00:00<00:00, 85.71it/s]\n"
     ]
    },
    {
     "name": "stdout",
     "output_type": "stream",
     "text": [
      "c3d73959-76fb-4761-b79c-e1144edc0b6d\n",
      "sim calculated successfully\n",
      "\n",
      "50.004 0.0003724 55.173\n",
      "0 existing calculation records provided\n"
     ]
    },
    {
     "name": "stderr",
     "output_type": "stream",
     "text": [
      "100%|█████████████████████████████████████████████████████████████████████████████████████| 1/1 [00:00<00:00,  4.24it/s]"
     ]
    },
    {
     "name": "stdout",
     "output_type": "stream",
     "text": [
      "1 calculation combinations to check\n",
      "1 new records to prepare\n"
     ]
    },
    {
     "name": "stderr",
     "output_type": "stream",
     "text": [
      "\n",
      "preparing: 100%|##########################################################################| 1/1 [00:00<00:00, 90.99it/s]\n"
     ]
    },
    {
     "name": "stdout",
     "output_type": "stream",
     "text": [
      "488ddb30-4797-4fd7-9b57-f308d246fe5a\n",
      "sim calculated successfully\n",
      "\n",
      "50.002 0.0001552 60.218\n",
      "0 existing calculation records provided\n"
     ]
    },
    {
     "name": "stderr",
     "output_type": "stream",
     "text": [
      "100%|█████████████████████████████████████████████████████████████████████████████████████| 1/1 [00:00<00:00,  2.66it/s]"
     ]
    },
    {
     "name": "stdout",
     "output_type": "stream",
     "text": [
      "1 calculation combinations to check\n",
      "1 new records to prepare\n"
     ]
    },
    {
     "name": "stderr",
     "output_type": "stream",
     "text": [
      "\n",
      "preparing: 100%|##########################################################################| 1/1 [00:00<00:00, 93.31it/s]\n"
     ]
    },
    {
     "name": "stdout",
     "output_type": "stream",
     "text": [
      "b7889bec-2f00-4613-9faa-a2e08b5bbbf4\n",
      "sim calculated successfully\n",
      "\n",
      "50.001 0.0002172 58.109\n",
      "0 existing calculation records provided\n"
     ]
    },
    {
     "name": "stderr",
     "output_type": "stream",
     "text": [
      "100%|█████████████████████████████████████████████████████████████████████████████████████| 1/1 [00:00<00:00,  4.38it/s]"
     ]
    },
    {
     "name": "stdout",
     "output_type": "stream",
     "text": [
      "1 calculation combinations to check\n",
      "1 new records to prepare\n"
     ]
    },
    {
     "name": "stderr",
     "output_type": "stream",
     "text": [
      "\n",
      "preparing: 100%|##########################################################################| 1/1 [00:00<00:00, 49.43it/s]\n"
     ]
    },
    {
     "name": "stdout",
     "output_type": "stream",
     "text": [
      "7b29f23a-eaa9-45b4-9dda-ad7a1b912694\n",
      "sim calculated successfully\n",
      "\n",
      "50.001 0.0001241 60.778\n",
      "0 existing calculation records provided\n"
     ]
    },
    {
     "name": "stderr",
     "output_type": "stream",
     "text": [
      "100%|█████████████████████████████████████████████████████████████████████████████████████| 1/1 [00:00<00:00,  4.47it/s]"
     ]
    },
    {
     "name": "stdout",
     "output_type": "stream",
     "text": [
      "1 calculation combinations to check\n",
      "1 new records to prepare\n"
     ]
    },
    {
     "name": "stderr",
     "output_type": "stream",
     "text": [
      "\n",
      "preparing: 100%|##########################################################################| 1/1 [00:00<00:00, 51.15it/s]\n"
     ]
    },
    {
     "name": "stdout",
     "output_type": "stream",
     "text": [
      "05351f0e-223d-4c09-9d2f-17e0a06aabf2\n",
      "sim calculated successfully\n",
      "\n",
      "50.000 0.0004138 60.348\n",
      "0 existing calculation records provided\n"
     ]
    },
    {
     "name": "stderr",
     "output_type": "stream",
     "text": [
      "100%|█████████████████████████████████████████████████████████████████████████████████████| 1/1 [00:00<00:00,  3.92it/s]"
     ]
    },
    {
     "name": "stdout",
     "output_type": "stream",
     "text": [
      "1 calculation combinations to check\n",
      "1 new records to prepare\n"
     ]
    },
    {
     "name": "stderr",
     "output_type": "stream",
     "text": [
      "\n",
      "preparing: 100%|##########################################################################| 1/1 [00:00<00:00, 41.05it/s]\n"
     ]
    },
    {
     "name": "stdout",
     "output_type": "stream",
     "text": [
      "160df84e-3bf1-45b7-8914-1f7e0baa2956\n",
      "sim calculated successfully\n",
      "\n",
      "50.000 0.0002483 60.217\n",
      "0 existing calculation records provided\n"
     ]
    },
    {
     "name": "stderr",
     "output_type": "stream",
     "text": [
      "100%|█████████████████████████████████████████████████████████████████████████████████████| 1/1 [00:00<00:00,  2.66it/s]"
     ]
    },
    {
     "name": "stdout",
     "output_type": "stream",
     "text": [
      "1 calculation combinations to check\n",
      "1 new records to prepare\n"
     ]
    },
    {
     "name": "stderr",
     "output_type": "stream",
     "text": [
      "\n",
      "preparing: 100%|##########################################################################| 1/1 [00:00<00:00, 92.34it/s]\n"
     ]
    },
    {
     "name": "stdout",
     "output_type": "stream",
     "text": [
      "5592a62d-9585-489a-9ff0-9d2eb1fb5c21\n",
      "sim calculated successfully\n",
      "\n",
      "50.000 0.0 59.270\n",
      "0 existing calculation records provided\n"
     ]
    },
    {
     "name": "stderr",
     "output_type": "stream",
     "text": [
      "100%|█████████████████████████████████████████████████████████████████████████████████████| 1/1 [00:00<00:00,  4.19it/s]"
     ]
    },
    {
     "name": "stdout",
     "output_type": "stream",
     "text": [
      "1 calculation combinations to check\n",
      "1 new records to prepare\n"
     ]
    },
    {
     "name": "stderr",
     "output_type": "stream",
     "text": [
      "\n",
      "preparing: 100%|##########################################################################| 1/1 [00:00<00:00, 85.70it/s]\n"
     ]
    },
    {
     "name": "stdout",
     "output_type": "stream",
     "text": [
      "9e85c21c-a1e6-4424-8163-439d89c66d0a\n",
      "sim calculated successfully\n",
      "\n",
      "50.000 0.0001759 59.492\n",
      "0 existing calculation records provided\n"
     ]
    },
    {
     "name": "stderr",
     "output_type": "stream",
     "text": [
      "100%|█████████████████████████████████████████████████████████████████████████████████████| 1/1 [00:00<00:00,  3.91it/s]"
     ]
    },
    {
     "name": "stdout",
     "output_type": "stream",
     "text": [
      "1 calculation combinations to check\n",
      "1 new records to prepare\n"
     ]
    },
    {
     "name": "stderr",
     "output_type": "stream",
     "text": [
      "\n",
      "preparing: 100%|##########################################################################| 1/1 [00:00<00:00, 90.38it/s]\n"
     ]
    },
    {
     "name": "stdout",
     "output_type": "stream",
     "text": [
      "e755a574-af11-4ae0-a699-462043d72571\n",
      "sim calculated successfully\n",
      "\n",
      "50.000 0.0001759 59.892\n",
      "0 existing calculation records provided\n"
     ]
    },
    {
     "name": "stderr",
     "output_type": "stream",
     "text": [
      "100%|█████████████████████████████████████████████████████████████████████████████████████| 1/1 [00:00<00:00,  4.04it/s]"
     ]
    },
    {
     "name": "stdout",
     "output_type": "stream",
     "text": [
      "1 calculation combinations to check\n",
      "1 new records to prepare\n"
     ]
    },
    {
     "name": "stderr",
     "output_type": "stream",
     "text": [
      "\n",
      "preparing: 100%|##########################################################################| 1/1 [00:00<00:00, 88.02it/s]\n"
     ]
    },
    {
     "name": "stdout",
     "output_type": "stream",
     "text": [
      "8e62695a-7046-486d-be1e-68bda7b8b4b9\n",
      "sim calculated successfully\n",
      "\n",
      "50.000 0.0003621 60.229\n",
      "0 existing calculation records provided\n"
     ]
    },
    {
     "name": "stderr",
     "output_type": "stream",
     "text": [
      "100%|█████████████████████████████████████████████████████████████████████████████████████| 1/1 [00:00<00:00,  4.14it/s]"
     ]
    },
    {
     "name": "stdout",
     "output_type": "stream",
     "text": [
      "1 calculation combinations to check\n",
      "1 new records to prepare\n"
     ]
    },
    {
     "name": "stderr",
     "output_type": "stream",
     "text": [
      "\n",
      "preparing: 100%|##########################################################################| 1/1 [00:00<00:00, 48.17it/s]\n"
     ]
    },
    {
     "name": "stdout",
     "output_type": "stream",
     "text": [
      "e2ada376-6490-4e0b-a8fc-6af0824b124f\n",
      "sim calculated successfully\n",
      "\n",
      "50.000 0.0003931 61.032\n",
      "0 existing calculation records provided\n"
     ]
    },
    {
     "name": "stderr",
     "output_type": "stream",
     "text": [
      "100%|█████████████████████████████████████████████████████████████████████████████████████| 1/1 [00:00<00:00,  3.89it/s]"
     ]
    },
    {
     "name": "stdout",
     "output_type": "stream",
     "text": [
      "1 calculation combinations to check\n",
      "1 new records to prepare\n"
     ]
    },
    {
     "name": "stderr",
     "output_type": "stream",
     "text": [
      "\n",
      "preparing: 100%|##########################################################################| 1/1 [00:00<00:00, 44.25it/s]\n"
     ]
    },
    {
     "name": "stdout",
     "output_type": "stream",
     "text": [
      "b5ce7201-781e-45d8-8a94-8bf175b4bd6a\n",
      "sim calculated successfully\n",
      "\n",
      "50.000 0.0002379 61.977\n",
      "0 existing calculation records provided\n"
     ]
    },
    {
     "name": "stderr",
     "output_type": "stream",
     "text": [
      "100%|█████████████████████████████████████████████████████████████████████████████████████| 1/1 [00:00<00:00,  3.97it/s]"
     ]
    },
    {
     "name": "stdout",
     "output_type": "stream",
     "text": [
      "1 calculation combinations to check\n",
      "1 new records to prepare\n"
     ]
    },
    {
     "name": "stderr",
     "output_type": "stream",
     "text": [
      "\n",
      "preparing: 100%|##########################################################################| 1/1 [00:00<00:00, 48.40it/s]\n"
     ]
    },
    {
     "name": "stdout",
     "output_type": "stream",
     "text": [
      "20b6dcf5-8a11-42bf-be05-e2e618df2cf5\n",
      "sim calculated successfully\n",
      "\n",
      "50.000 0.0002069 56.440\n",
      "0 existing calculation records provided\n"
     ]
    },
    {
     "name": "stderr",
     "output_type": "stream",
     "text": [
      "100%|█████████████████████████████████████████████████████████████████████████████████████| 1/1 [00:00<00:00,  4.29it/s]"
     ]
    },
    {
     "name": "stdout",
     "output_type": "stream",
     "text": [
      "1 calculation combinations to check\n",
      "1 new records to prepare\n"
     ]
    },
    {
     "name": "stderr",
     "output_type": "stream",
     "text": [
      "\n",
      "preparing: 100%|##########################################################################| 1/1 [00:00<00:00, 40.27it/s]\n"
     ]
    },
    {
     "name": "stdout",
     "output_type": "stream",
     "text": [
      "f38f2934-5bc2-4334-b33f-11b3f008fe94\n",
      "sim calculated successfully\n",
      "\n",
      "50.000 0.0003931 59.690\n",
      "0 existing calculation records provided\n"
     ]
    },
    {
     "name": "stderr",
     "output_type": "stream",
     "text": [
      "100%|█████████████████████████████████████████████████████████████████████████████████████| 1/1 [00:00<00:00,  3.99it/s]"
     ]
    },
    {
     "name": "stdout",
     "output_type": "stream",
     "text": [
      "1 calculation combinations to check\n",
      "1 new records to prepare\n"
     ]
    },
    {
     "name": "stderr",
     "output_type": "stream",
     "text": [
      "\n",
      "preparing: 100%|##########################################################################| 1/1 [00:00<00:00, 43.91it/s]\n"
     ]
    },
    {
     "name": "stdout",
     "output_type": "stream",
     "text": [
      "0fab8319-fbae-4e4a-99a6-41544ae49129\n",
      "sim calculated successfully\n",
      "\n",
      "50.000 0.0001241 60.018\n",
      "Max number of runs reached!\n",
      "\n",
      "35 1997--Liu-X-Y--Al-Mg--LAMMPS--ipr1\n",
      "0 existing calculation records provided\n"
     ]
    },
    {
     "name": "stderr",
     "output_type": "stream",
     "text": [
      "100%|█████████████████████████████████████████████████████████████████████████████████████| 1/1 [00:00<00:00,  4.10it/s]"
     ]
    },
    {
     "name": "stdout",
     "output_type": "stream",
     "text": [
      "1 calculation combinations to check\n",
      "1 new records to prepare\n"
     ]
    },
    {
     "name": "stderr",
     "output_type": "stream",
     "text": [
      "\n",
      "preparing: 100%|##########################################################################| 1/1 [00:00<00:00, 52.04it/s]\n"
     ]
    },
    {
     "name": "stdout",
     "output_type": "stream",
     "text": [
      "ed15eccf-1138-4d30-bcd4-9198c32b8af4\n",
      "sim calculated successfully\n",
      "\n",
      "4525.000 0.4066 725.406\n",
      "0 existing calculation records provided\n"
     ]
    },
    {
     "name": "stderr",
     "output_type": "stream",
     "text": [
      "100%|█████████████████████████████████████████████████████████████████████████████████████| 1/1 [00:00<00:00,  4.35it/s]"
     ]
    },
    {
     "name": "stdout",
     "output_type": "stream",
     "text": [
      "1 calculation combinations to check\n",
      "1 new records to prepare\n"
     ]
    },
    {
     "name": "stderr",
     "output_type": "stream",
     "text": [
      "\n",
      "preparing: 100%|##########################################################################| 1/1 [00:00<00:00, 48.96it/s]\n"
     ]
    },
    {
     "name": "stdout",
     "output_type": "stream",
     "text": [
      "9ab5a126-a195-4c89-ae60-04c85fc77fa3\n",
      "sim calculated successfully\n",
      "\n",
      "4525.000 0.4085 715.628\n",
      "0 existing calculation records provided\n"
     ]
    },
    {
     "name": "stderr",
     "output_type": "stream",
     "text": [
      "100%|█████████████████████████████████████████████████████████████████████████████████████| 1/1 [00:00<00:00,  4.69it/s]"
     ]
    },
    {
     "name": "stdout",
     "output_type": "stream",
     "text": [
      "1 calculation combinations to check\n",
      "1 new records to prepare\n"
     ]
    },
    {
     "name": "stderr",
     "output_type": "stream",
     "text": [
      "\n",
      "preparing: 100%|##########################################################################| 1/1 [00:00<00:00, 50.80it/s]\n"
     ]
    },
    {
     "name": "stdout",
     "output_type": "stream",
     "text": [
      "8970abba-0a23-4aa7-97ac-f62830184458\n",
      "sim calculated successfully\n",
      "\n",
      "4525.000 0.4001 742.888\n",
      "0 existing calculation records provided\n"
     ]
    },
    {
     "name": "stderr",
     "output_type": "stream",
     "text": [
      "100%|█████████████████████████████████████████████████████████████████████████████████████| 1/1 [00:00<00:00,  4.25it/s]"
     ]
    },
    {
     "name": "stdout",
     "output_type": "stream",
     "text": [
      "1 calculation combinations to check\n",
      "1 new records to prepare\n"
     ]
    },
    {
     "name": "stderr",
     "output_type": "stream",
     "text": [
      "\n",
      "preparing: 100%|##########################################################################| 1/1 [00:00<00:00, 45.56it/s]\n"
     ]
    },
    {
     "name": "stdout",
     "output_type": "stream",
     "text": [
      "ce31a09b-7dc7-45cc-b0cc-85fd5697a1cf\n",
      "sim calculated successfully\n",
      "\n",
      "4525.000 0.4002 751.211\n",
      "0 existing calculation records provided\n"
     ]
    },
    {
     "name": "stderr",
     "output_type": "stream",
     "text": [
      "100%|█████████████████████████████████████████████████████████████████████████████████████| 1/1 [00:00<00:00,  4.16it/s]"
     ]
    },
    {
     "name": "stdout",
     "output_type": "stream",
     "text": [
      "1 calculation combinations to check\n",
      "1 new records to prepare\n"
     ]
    },
    {
     "name": "stderr",
     "output_type": "stream",
     "text": [
      "\n",
      "preparing: 100%|##########################################################################| 1/1 [00:00<00:00, 86.66it/s]\n"
     ]
    },
    {
     "name": "stdout",
     "output_type": "stream",
     "text": [
      "48990ed2-ff01-4acf-8b5f-d774f064a0c4\n",
      "sim calculated successfully\n",
      "\n",
      "4525.000 0.4046 727.096\n",
      "0 existing calculation records provided\n"
     ]
    },
    {
     "name": "stderr",
     "output_type": "stream",
     "text": [
      "100%|█████████████████████████████████████████████████████████████████████████████████████| 1/1 [00:00<00:00,  4.29it/s]"
     ]
    },
    {
     "name": "stdout",
     "output_type": "stream",
     "text": [
      "1 calculation combinations to check\n",
      "1 new records to prepare\n"
     ]
    },
    {
     "name": "stderr",
     "output_type": "stream",
     "text": [
      "\n",
      "preparing: 100%|##########################################################################| 1/1 [00:00<00:00, 50.25it/s]\n"
     ]
    },
    {
     "name": "stdout",
     "output_type": "stream",
     "text": [
      "5bae98bb-6d0a-47c2-b487-9f98f3de8409\n",
      "sim calculated successfully\n",
      "\n",
      "4525.000 0.4059 718.938\n",
      "0 existing calculation records provided\n"
     ]
    },
    {
     "name": "stderr",
     "output_type": "stream",
     "text": [
      "100%|█████████████████████████████████████████████████████████████████████████████████████| 1/1 [00:00<00:00,  4.35it/s]"
     ]
    },
    {
     "name": "stdout",
     "output_type": "stream",
     "text": [
      "1 calculation combinations to check\n",
      "1 new records to prepare\n"
     ]
    },
    {
     "name": "stderr",
     "output_type": "stream",
     "text": [
      "\n",
      "preparing: 100%|##########################################################################| 1/1 [00:00<00:00, 42.89it/s]\n"
     ]
    },
    {
     "name": "stdout",
     "output_type": "stream",
     "text": [
      "95a310de-2292-4053-b0b6-6b3eccccc84c\n",
      "sim calculated successfully\n",
      "\n",
      "4525.000 0.4004 729.587\n",
      "0 existing calculation records provided\n"
     ]
    },
    {
     "name": "stderr",
     "output_type": "stream",
     "text": [
      "100%|█████████████████████████████████████████████████████████████████████████████████████| 1/1 [00:00<00:00,  4.35it/s]"
     ]
    },
    {
     "name": "stdout",
     "output_type": "stream",
     "text": [
      "1 calculation combinations to check\n",
      "1 new records to prepare\n"
     ]
    },
    {
     "name": "stderr",
     "output_type": "stream",
     "text": [
      "\n",
      "preparing: 100%|##########################################################################| 1/1 [00:00<00:00, 50.12it/s]\n"
     ]
    },
    {
     "name": "stdout",
     "output_type": "stream",
     "text": [
      "de6f9ddb-5d5b-47dd-9c7d-7bfb2048b687\n",
      "sim calculated successfully\n",
      "\n",
      "4525.000 0.4097 726.515\n",
      "0 existing calculation records provided\n"
     ]
    },
    {
     "name": "stderr",
     "output_type": "stream",
     "text": [
      "100%|█████████████████████████████████████████████████████████████████████████████████████| 1/1 [00:00<00:00,  4.34it/s]"
     ]
    },
    {
     "name": "stdout",
     "output_type": "stream",
     "text": [
      "1 calculation combinations to check\n",
      "1 new records to prepare\n"
     ]
    },
    {
     "name": "stderr",
     "output_type": "stream",
     "text": [
      "\n",
      "preparing: 100%|##########################################################################| 1/1 [00:00<00:00, 48.84it/s]\n"
     ]
    },
    {
     "name": "stdout",
     "output_type": "stream",
     "text": [
      "1cb242cd-9b16-4fbe-8022-c4994ec1c2e8\n",
      "sim calculated successfully\n",
      "\n",
      "4525.000 0.4063 716.190\n",
      "0 existing calculation records provided\n"
     ]
    },
    {
     "name": "stderr",
     "output_type": "stream",
     "text": [
      "100%|█████████████████████████████████████████████████████████████████████████████████████| 1/1 [00:00<00:00,  4.48it/s]"
     ]
    },
    {
     "name": "stdout",
     "output_type": "stream",
     "text": [
      "1 calculation combinations to check\n",
      "1 new records to prepare\n"
     ]
    },
    {
     "name": "stderr",
     "output_type": "stream",
     "text": [
      "\n",
      "preparing: 100%|##########################################################################| 1/1 [00:00<00:00, 46.58it/s]\n"
     ]
    },
    {
     "name": "stdout",
     "output_type": "stream",
     "text": [
      "7debf5af-6c4e-4423-aa68-2ae38ec60249\n",
      "sim calculated successfully\n",
      "\n",
      "4525.000 0.3994 739.543\n",
      "\n",
      "36 1998--Liu-X-Y--Al-Mg--LAMMPS--ipr1\n",
      "0 existing calculation records provided\n"
     ]
    },
    {
     "name": "stderr",
     "output_type": "stream",
     "text": [
      "100%|█████████████████████████████████████████████████████████████████████████████████████| 1/1 [00:00<00:00,  3.92it/s]"
     ]
    },
    {
     "name": "stdout",
     "output_type": "stream",
     "text": [
      "1 calculation combinations to check\n",
      "1 new records to prepare\n"
     ]
    },
    {
     "name": "stderr",
     "output_type": "stream",
     "text": [
      "\n",
      "preparing: 100%|##########################################################################| 1/1 [00:00<00:00, 46.82it/s]\n"
     ]
    },
    {
     "name": "stdout",
     "output_type": "stream",
     "text": [
      "3c869cf5-94f4-4bd7-848d-cbde85e9a5c5\n",
      "sim calculated successfully\n",
      "\n",
      "4525.000 0.001655 4732.873\n",
      "0 existing calculation records provided\n"
     ]
    },
    {
     "name": "stderr",
     "output_type": "stream",
     "text": [
      "100%|█████████████████████████████████████████████████████████████████████████████████████| 1/1 [00:00<00:00,  4.10it/s]"
     ]
    },
    {
     "name": "stdout",
     "output_type": "stream",
     "text": [
      "1 calculation combinations to check\n",
      "1 new records to prepare\n"
     ]
    },
    {
     "name": "stderr",
     "output_type": "stream",
     "text": [
      "\n",
      "preparing: 100%|##########################################################################| 1/1 [00:00<00:00, 47.79it/s]\n"
     ]
    },
    {
     "name": "stdout",
     "output_type": "stream",
     "text": [
      "506a4552-ba6d-4b41-83ae-d8e2ca060c49\n",
      "sim calculated successfully\n",
      "\n",
      "2287.500 0.0 2264.674\n",
      "0 existing calculation records provided\n"
     ]
    },
    {
     "name": "stderr",
     "output_type": "stream",
     "text": [
      "100%|█████████████████████████████████████████████████████████████████████████████████████| 1/1 [00:00<00:00,  4.20it/s]"
     ]
    },
    {
     "name": "stdout",
     "output_type": "stream",
     "text": [
      "1 calculation combinations to check\n",
      "1 new records to prepare\n"
     ]
    },
    {
     "name": "stderr",
     "output_type": "stream",
     "text": [
      "\n",
      "preparing: 100%|##########################################################################| 1/1 [00:00<00:00, 49.44it/s]\n"
     ]
    },
    {
     "name": "stdout",
     "output_type": "stream",
     "text": [
      "02c9fe4d-70df-45fd-b515-12dcc830cddd\n",
      "sim calculated successfully\n",
      "\n",
      "1168.750 4.138e-05 1143.682\n",
      "0 existing calculation records provided\n"
     ]
    },
    {
     "name": "stderr",
     "output_type": "stream",
     "text": [
      "100%|█████████████████████████████████████████████████████████████████████████████████████| 1/1 [00:00<00:00,  4.27it/s]"
     ]
    },
    {
     "name": "stdout",
     "output_type": "stream",
     "text": [
      "1 calculation combinations to check\n",
      "1 new records to prepare\n"
     ]
    },
    {
     "name": "stderr",
     "output_type": "stream",
     "text": [
      "\n",
      "preparing: 100%|##########################################################################| 1/1 [00:00<00:00, 50.45it/s]\n"
     ]
    },
    {
     "name": "stdout",
     "output_type": "stream",
     "text": [
      "df41cafb-930b-4219-a9c9-06c9d8f5e239\n",
      "sim calculated successfully\n",
      "\n",
      "609.375 0.03816 659.961\n",
      "0 existing calculation records provided\n"
     ]
    },
    {
     "name": "stderr",
     "output_type": "stream",
     "text": [
      "100%|█████████████████████████████████████████████████████████████████████████████████████| 1/1 [00:00<00:00,  4.29it/s]"
     ]
    },
    {
     "name": "stdout",
     "output_type": "stream",
     "text": [
      "1 calculation combinations to check\n",
      "1 new records to prepare\n"
     ]
    },
    {
     "name": "stderr",
     "output_type": "stream",
     "text": [
      "\n",
      "preparing: 100%|##########################################################################| 1/1 [00:00<00:00, 81.00it/s]\n"
     ]
    },
    {
     "name": "stdout",
     "output_type": "stream",
     "text": [
      "7e0c5735-ca36-44a2-bdbf-29ece88becaa\n",
      "sim calculated successfully\n",
      "\n",
      "329.688 0.03844 328.699\n",
      "0 existing calculation records provided\n"
     ]
    },
    {
     "name": "stderr",
     "output_type": "stream",
     "text": [
      "100%|█████████████████████████████████████████████████████████████████████████████████████| 1/1 [00:00<00:00,  4.82it/s]"
     ]
    },
    {
     "name": "stdout",
     "output_type": "stream",
     "text": [
      "1 calculation combinations to check\n",
      "1 new records to prepare\n"
     ]
    },
    {
     "name": "stderr",
     "output_type": "stream",
     "text": [
      "\n",
      "preparing: 100%|##########################################################################| 1/1 [00:00<00:00, 60.84it/s]\n"
     ]
    },
    {
     "name": "stdout",
     "output_type": "stream",
     "text": [
      "abcbab35-7bb6-4d51-ade0-8a63ca5f3b54\n",
      "sim calculated successfully\n",
      "\n",
      "189.844 0.02045 189.220\n",
      "0 existing calculation records provided\n"
     ]
    },
    {
     "name": "stderr",
     "output_type": "stream",
     "text": [
      "100%|█████████████████████████████████████████████████████████████████████████████████████| 1/1 [00:00<00:00,  4.33it/s]"
     ]
    },
    {
     "name": "stdout",
     "output_type": "stream",
     "text": [
      "1 calculation combinations to check\n",
      "1 new records to prepare\n"
     ]
    },
    {
     "name": "stderr",
     "output_type": "stream",
     "text": [
      "\n",
      "preparing: 100%|##########################################################################| 1/1 [00:00<00:00, 96.59it/s]\n"
     ]
    },
    {
     "name": "stdout",
     "output_type": "stream",
     "text": [
      "d577ca45-1199-4d1e-bc53-1ecc135e6334\n",
      "sim calculated successfully\n",
      "\n",
      "119.922 0.01103 119.435\n",
      "0 existing calculation records provided\n"
     ]
    },
    {
     "name": "stderr",
     "output_type": "stream",
     "text": [
      "100%|█████████████████████████████████████████████████████████████████████████████████████| 1/1 [00:00<00:00,  4.23it/s]"
     ]
    },
    {
     "name": "stdout",
     "output_type": "stream",
     "text": [
      "1 calculation combinations to check\n",
      "1 new records to prepare\n"
     ]
    },
    {
     "name": "stderr",
     "output_type": "stream",
     "text": [
      "\n",
      "preparing: 100%|##########################################################################| 1/1 [00:00<00:00, 87.54it/s]\n"
     ]
    },
    {
     "name": "stdout",
     "output_type": "stream",
     "text": [
      "9592c4b8-02fd-460a-993c-10a12fff9395\n",
      "sim calculated successfully\n",
      "\n",
      "84.961 0.0996 84.435\n",
      "0 existing calculation records provided\n"
     ]
    },
    {
     "name": "stderr",
     "output_type": "stream",
     "text": [
      "100%|█████████████████████████████████████████████████████████████████████████████████████| 1/1 [00:00<00:00,  4.23it/s]"
     ]
    },
    {
     "name": "stdout",
     "output_type": "stream",
     "text": [
      "1 calculation combinations to check\n",
      "1 new records to prepare\n"
     ]
    },
    {
     "name": "stderr",
     "output_type": "stream",
     "text": [
      "\n",
      "preparing: 100%|##########################################################################| 1/1 [00:00<00:00, 80.93it/s]\n"
     ]
    },
    {
     "name": "stdout",
     "output_type": "stream",
     "text": [
      "ba1e25ec-071c-49e7-a01b-99da97150a64\n",
      "sim calculated successfully\n",
      "\n",
      "67.480 0.1462 67.089\n",
      "0 existing calculation records provided\n"
     ]
    },
    {
     "name": "stderr",
     "output_type": "stream",
     "text": [
      "100%|█████████████████████████████████████████████████████████████████████████████████████| 1/1 [00:00<00:00,  3.97it/s]"
     ]
    },
    {
     "name": "stdout",
     "output_type": "stream",
     "text": [
      "1 calculation combinations to check\n",
      "1 new records to prepare\n"
     ]
    },
    {
     "name": "stderr",
     "output_type": "stream",
     "text": [
      "\n",
      "preparing: 100%|##########################################################################| 1/1 [00:00<00:00, 85.47it/s]\n"
     ]
    },
    {
     "name": "stdout",
     "output_type": "stream",
     "text": [
      "e3bb1b52-de69-45c5-ac39-e70e8e7fda1f\n",
      "sim calculated successfully\n",
      "\n",
      "58.740 0.0007034 58.384\n",
      "0 existing calculation records provided\n"
     ]
    },
    {
     "name": "stderr",
     "output_type": "stream",
     "text": [
      "100%|█████████████████████████████████████████████████████████████████████████████████████| 1/1 [00:00<00:00,  4.29it/s]"
     ]
    },
    {
     "name": "stdout",
     "output_type": "stream",
     "text": [
      "1 calculation combinations to check\n",
      "1 new records to prepare\n"
     ]
    },
    {
     "name": "stderr",
     "output_type": "stream",
     "text": [
      "\n",
      "preparing: 100%|##########################################################################| 1/1 [00:00<00:00, 50.06it/s]\n"
     ]
    },
    {
     "name": "stdout",
     "output_type": "stream",
     "text": [
      "07d8e3f2-2214-4fb1-9100-39ce891a2500\n",
      "sim calculated successfully\n",
      "\n",
      "54.370 0.0003931 54.070\n",
      "0 existing calculation records provided\n"
     ]
    },
    {
     "name": "stderr",
     "output_type": "stream",
     "text": [
      "100%|█████████████████████████████████████████████████████████████████████████████████████| 1/1 [00:00<00:00,  4.67it/s]"
     ]
    },
    {
     "name": "stdout",
     "output_type": "stream",
     "text": [
      "1 calculation combinations to check\n",
      "1 new records to prepare\n"
     ]
    },
    {
     "name": "stderr",
     "output_type": "stream",
     "text": [
      "\n",
      "preparing: 100%|##########################################################################| 1/1 [00:00<00:00, 53.05it/s]\n"
     ]
    },
    {
     "name": "stdout",
     "output_type": "stream",
     "text": [
      "1aad6eb4-542a-43bc-aca7-5ec1c2a7436f\n",
      "sim calculated successfully\n",
      "\n",
      "52.185 0.0004138 52.066\n",
      "0 existing calculation records provided\n"
     ]
    },
    {
     "name": "stderr",
     "output_type": "stream",
     "text": [
      "100%|█████████████████████████████████████████████████████████████████████████████████████| 1/1 [00:00<00:00,  2.72it/s]"
     ]
    },
    {
     "name": "stdout",
     "output_type": "stream",
     "text": [
      "1 calculation combinations to check\n",
      "1 new records to prepare\n"
     ]
    },
    {
     "name": "stderr",
     "output_type": "stream",
     "text": [
      "\n",
      "preparing: 100%|##########################################################################| 1/1 [00:00<00:00, 93.46it/s]\n"
     ]
    },
    {
     "name": "stdout",
     "output_type": "stream",
     "text": [
      "aa203310-ad0e-4197-87c4-98f94a2a964b\n",
      "sim calculated successfully\n",
      "\n",
      "51.093 0.0004138 50.972\n",
      "0 existing calculation records provided\n"
     ]
    },
    {
     "name": "stderr",
     "output_type": "stream",
     "text": [
      "100%|█████████████████████████████████████████████████████████████████████████████████████| 1/1 [00:00<00:00,  4.28it/s]"
     ]
    },
    {
     "name": "stdout",
     "output_type": "stream",
     "text": [
      "1 calculation combinations to check\n",
      "1 new records to prepare\n"
     ]
    },
    {
     "name": "stderr",
     "output_type": "stream",
     "text": [
      "\n",
      "preparing: 100%|##########################################################################| 1/1 [00:00<00:00, 87.86it/s]\n"
     ]
    },
    {
     "name": "stdout",
     "output_type": "stream",
     "text": [
      "bbfa7e2d-c482-4f86-8137-679b91c2dc30\n",
      "sim calculated successfully\n",
      "\n",
      "50.546 0.000331 50.440\n",
      "0 existing calculation records provided\n"
     ]
    },
    {
     "name": "stderr",
     "output_type": "stream",
     "text": [
      "100%|█████████████████████████████████████████████████████████████████████████████████████| 1/1 [00:00<00:00,  4.31it/s]"
     ]
    },
    {
     "name": "stdout",
     "output_type": "stream",
     "text": [
      "1 calculation combinations to check\n",
      "1 new records to prepare\n"
     ]
    },
    {
     "name": "stderr",
     "output_type": "stream",
     "text": [
      "\n",
      "preparing: 100%|##########################################################################| 1/1 [00:00<00:00, 49.24it/s]\n"
     ]
    },
    {
     "name": "stdout",
     "output_type": "stream",
     "text": [
      "a6a063a5-e0d1-4b98-9574-f3bfb8659120\n",
      "sim calculated successfully\n",
      "\n",
      "50.273 0.0002586 50.265\n",
      "0 existing calculation records provided\n"
     ]
    },
    {
     "name": "stderr",
     "output_type": "stream",
     "text": [
      "100%|█████████████████████████████████████████████████████████████████████████████████████| 1/1 [00:00<00:00,  4.54it/s]"
     ]
    },
    {
     "name": "stdout",
     "output_type": "stream",
     "text": [
      "1 calculation combinations to check\n",
      "1 new records to prepare\n"
     ]
    },
    {
     "name": "stderr",
     "output_type": "stream",
     "text": [
      "\n",
      "preparing: 100%|##########################################################################| 1/1 [00:00<00:00, 49.85it/s]\n"
     ]
    },
    {
     "name": "stdout",
     "output_type": "stream",
     "text": [
      "619efc00-bbbd-4a62-91b9-ba8bf8de1249\n",
      "sim calculated successfully\n",
      "\n",
      "50.137 0.0001448 50.035\n",
      "0 existing calculation records provided\n"
     ]
    },
    {
     "name": "stderr",
     "output_type": "stream",
     "text": [
      "100%|█████████████████████████████████████████████████████████████████████████████████████| 1/1 [00:00<00:00,  4.38it/s]"
     ]
    },
    {
     "name": "stdout",
     "output_type": "stream",
     "text": [
      "1 calculation combinations to check\n",
      "1 new records to prepare\n"
     ]
    },
    {
     "name": "stderr",
     "output_type": "stream",
     "text": [
      "\n",
      "preparing: 100%|##########################################################################| 1/1 [00:00<00:00, 51.31it/s]\n"
     ]
    },
    {
     "name": "stdout",
     "output_type": "stream",
     "text": [
      "0b1970a3-ad8c-4ebe-9e6a-ec0ee85cda37\n",
      "sim calculated successfully\n",
      "\n",
      "50.068 0.0003414 49.871\n",
      "0 existing calculation records provided\n"
     ]
    },
    {
     "name": "stderr",
     "output_type": "stream",
     "text": [
      "100%|█████████████████████████████████████████████████████████████████████████████████████| 1/1 [00:00<00:00,  4.45it/s]"
     ]
    },
    {
     "name": "stdout",
     "output_type": "stream",
     "text": [
      "1 calculation combinations to check\n",
      "1 new records to prepare\n"
     ]
    },
    {
     "name": "stderr",
     "output_type": "stream",
     "text": [
      "\n",
      "preparing: 100%|##########################################################################| 1/1 [00:00<00:00, 49.48it/s]\n"
     ]
    },
    {
     "name": "stdout",
     "output_type": "stream",
     "text": [
      "9d4e8a04-b59b-4984-96d1-eb6363713e6b\n",
      "sim calculated successfully\n",
      "\n",
      "50.034 0.000331 49.898\n",
      "0 existing calculation records provided\n"
     ]
    },
    {
     "name": "stderr",
     "output_type": "stream",
     "text": [
      "100%|█████████████████████████████████████████████████████████████████████████████████████| 1/1 [00:00<00:00,  2.70it/s]"
     ]
    },
    {
     "name": "stdout",
     "output_type": "stream",
     "text": [
      "1 calculation combinations to check\n",
      "1 new records to prepare\n"
     ]
    },
    {
     "name": "stderr",
     "output_type": "stream",
     "text": [
      "\n",
      "preparing: 100%|##########################################################################| 1/1 [00:00<00:00, 88.50it/s]\n"
     ]
    },
    {
     "name": "stdout",
     "output_type": "stream",
     "text": [
      "eee82d89-f4dc-4ec1-a0d6-287c2af5a08a\n",
      "sim calculated successfully\n",
      "\n",
      "50.017 0.000331 49.883\n",
      "0 existing calculation records provided\n"
     ]
    },
    {
     "name": "stderr",
     "output_type": "stream",
     "text": [
      "100%|█████████████████████████████████████████████████████████████████████████████████████| 1/1 [00:00<00:00,  3.71it/s]"
     ]
    },
    {
     "name": "stdout",
     "output_type": "stream",
     "text": [
      "1 calculation combinations to check\n",
      "1 new records to prepare\n"
     ]
    },
    {
     "name": "stderr",
     "output_type": "stream",
     "text": [
      "\n",
      "preparing: 100%|##########################################################################| 1/1 [00:00<00:00, 89.16it/s]\n"
     ]
    },
    {
     "name": "stdout",
     "output_type": "stream",
     "text": [
      "b04637c6-f26a-4dc6-a2b5-e2b8a1cb3337\n",
      "sim calculated successfully\n",
      "\n",
      "50.009 0.0002586 49.872\n",
      "0 existing calculation records provided\n"
     ]
    },
    {
     "name": "stderr",
     "output_type": "stream",
     "text": [
      "100%|█████████████████████████████████████████████████████████████████████████████████████| 1/1 [00:00<00:00,  4.17it/s]"
     ]
    },
    {
     "name": "stdout",
     "output_type": "stream",
     "text": [
      "1 calculation combinations to check\n",
      "1 new records to prepare\n"
     ]
    },
    {
     "name": "stderr",
     "output_type": "stream",
     "text": [
      "\n",
      "preparing: 100%|##########################################################################| 1/1 [00:00<00:00, 48.72it/s]\n"
     ]
    },
    {
     "name": "stdout",
     "output_type": "stream",
     "text": [
      "9de8cb32-b8dd-4b36-9aba-0147ad81fa56\n",
      "sim calculated successfully\n",
      "\n",
      "50.004 0.0003621 49.870\n",
      "0 existing calculation records provided\n"
     ]
    },
    {
     "name": "stderr",
     "output_type": "stream",
     "text": [
      "100%|█████████████████████████████████████████████████████████████████████████████████████| 1/1 [00:00<00:00,  4.33it/s]"
     ]
    },
    {
     "name": "stdout",
     "output_type": "stream",
     "text": [
      "1 calculation combinations to check\n",
      "1 new records to prepare\n"
     ]
    },
    {
     "name": "stderr",
     "output_type": "stream",
     "text": [
      "\n",
      "preparing: 100%|##########################################################################| 1/1 [00:00<00:00, 49.69it/s]\n"
     ]
    },
    {
     "name": "stdout",
     "output_type": "stream",
     "text": [
      "6a123564-a5c0-45bf-8470-27f01ee698ce\n",
      "sim calculated successfully\n",
      "\n",
      "50.002 0.0003724 49.942\n",
      "0 existing calculation records provided\n"
     ]
    },
    {
     "name": "stderr",
     "output_type": "stream",
     "text": [
      "100%|█████████████████████████████████████████████████████████████████████████████████████| 1/1 [00:00<00:00,  2.76it/s]"
     ]
    },
    {
     "name": "stdout",
     "output_type": "stream",
     "text": [
      "1 calculation combinations to check\n",
      "1 new records to prepare\n"
     ]
    },
    {
     "name": "stderr",
     "output_type": "stream",
     "text": [
      "\n",
      "preparing: 100%|##########################################################################| 1/1 [00:00<00:00, 94.88it/s]\n"
     ]
    },
    {
     "name": "stdout",
     "output_type": "stream",
     "text": [
      "cdd3608f-3c3a-4747-be9c-65f0ae55617c\n",
      "sim calculated successfully\n",
      "\n",
      "50.001 0.0003931 49.888\n",
      "0 existing calculation records provided\n"
     ]
    },
    {
     "name": "stderr",
     "output_type": "stream",
     "text": [
      "100%|█████████████████████████████████████████████████████████████████████████████████████| 1/1 [00:00<00:00,  2.46it/s]"
     ]
    },
    {
     "name": "stdout",
     "output_type": "stream",
     "text": [
      "1 calculation combinations to check\n",
      "1 new records to prepare\n"
     ]
    },
    {
     "name": "stderr",
     "output_type": "stream",
     "text": [
      "\n",
      "preparing: 100%|##########################################################################| 1/1 [00:00<00:00, 80.73it/s]\n"
     ]
    },
    {
     "name": "stdout",
     "output_type": "stream",
     "text": [
      "3b3ced99-3d43-4a80-9584-3dc0a1dffe24\n",
      "sim calculated successfully\n",
      "\n",
      "50.001 0.0004034 49.923\n",
      "0 existing calculation records provided\n"
     ]
    },
    {
     "name": "stderr",
     "output_type": "stream",
     "text": [
      "100%|█████████████████████████████████████████████████████████████████████████████████████| 1/1 [00:00<00:00,  2.68it/s]"
     ]
    },
    {
     "name": "stdout",
     "output_type": "stream",
     "text": [
      "1 calculation combinations to check\n",
      "1 new records to prepare\n"
     ]
    },
    {
     "name": "stderr",
     "output_type": "stream",
     "text": [
      "\n",
      "preparing: 100%|##########################################################################| 1/1 [00:00<00:00, 94.21it/s]\n"
     ]
    },
    {
     "name": "stdout",
     "output_type": "stream",
     "text": [
      "e44a823f-c047-4156-9cf8-12bca1d43fbe\n",
      "sim calculated successfully\n",
      "\n",
      "50.000 0.0002793 49.966\n",
      "0 existing calculation records provided\n"
     ]
    },
    {
     "name": "stderr",
     "output_type": "stream",
     "text": [
      "100%|█████████████████████████████████████████████████████████████████████████████████████| 1/1 [00:00<00:00,  4.10it/s]"
     ]
    },
    {
     "name": "stdout",
     "output_type": "stream",
     "text": [
      "1 calculation combinations to check\n",
      "1 new records to prepare\n"
     ]
    },
    {
     "name": "stderr",
     "output_type": "stream",
     "text": [
      "\n",
      "preparing: 100%|##########################################################################| 1/1 [00:00<00:00, 87.17it/s]\n"
     ]
    },
    {
     "name": "stdout",
     "output_type": "stream",
     "text": [
      "253ddf25-ca3a-4f56-b23f-e70d0a18bc77\n",
      "sim calculated successfully\n",
      "\n",
      "50.000 0.0003103 49.900\n",
      "0 existing calculation records provided\n"
     ]
    },
    {
     "name": "stderr",
     "output_type": "stream",
     "text": [
      "100%|█████████████████████████████████████████████████████████████████████████████████████| 1/1 [00:00<00:00,  4.16it/s]"
     ]
    },
    {
     "name": "stdout",
     "output_type": "stream",
     "text": [
      "1 calculation combinations to check\n",
      "1 new records to prepare\n"
     ]
    },
    {
     "name": "stderr",
     "output_type": "stream",
     "text": [
      "\n",
      "preparing: 100%|##########################################################################| 1/1 [00:00<00:00, 49.31it/s]\n"
     ]
    },
    {
     "name": "stdout",
     "output_type": "stream",
     "text": [
      "69141e17-5a61-4a83-b0b7-c13105452734\n",
      "sim calculated successfully\n",
      "\n",
      "50.000 0.0002897 49.898\n",
      "0 existing calculation records provided\n"
     ]
    },
    {
     "name": "stderr",
     "output_type": "stream",
     "text": [
      "100%|█████████████████████████████████████████████████████████████████████████████████████| 1/1 [00:00<00:00,  4.35it/s]"
     ]
    },
    {
     "name": "stdout",
     "output_type": "stream",
     "text": [
      "1 calculation combinations to check\n",
      "1 new records to prepare\n"
     ]
    },
    {
     "name": "stderr",
     "output_type": "stream",
     "text": [
      "\n",
      "preparing: 100%|##########################################################################| 1/1 [00:00<00:00, 87.37it/s]\n"
     ]
    },
    {
     "name": "stdout",
     "output_type": "stream",
     "text": [
      "3ba2eb22-4cdf-4cb3-8874-862e91222c5a\n",
      "sim calculated successfully\n",
      "\n",
      "50.000 0.0003103 49.939\n",
      "0 existing calculation records provided\n"
     ]
    },
    {
     "name": "stderr",
     "output_type": "stream",
     "text": [
      "100%|█████████████████████████████████████████████████████████████████████████████████████| 1/1 [00:00<00:00,  4.32it/s]"
     ]
    },
    {
     "name": "stdout",
     "output_type": "stream",
     "text": [
      "1 calculation combinations to check\n",
      "1 new records to prepare\n"
     ]
    },
    {
     "name": "stderr",
     "output_type": "stream",
     "text": [
      "\n",
      "preparing: 100%|##########################################################################| 1/1 [00:00<00:00, 48.35it/s]\n"
     ]
    },
    {
     "name": "stdout",
     "output_type": "stream",
     "text": [
      "2da733f4-272e-4f07-aa9d-20bf75300e43\n",
      "sim calculated successfully\n",
      "\n",
      "50.000 0.0002276 49.871\n",
      "0 existing calculation records provided\n"
     ]
    },
    {
     "name": "stderr",
     "output_type": "stream",
     "text": [
      "100%|█████████████████████████████████████████████████████████████████████████████████████| 1/1 [00:00<00:00,  4.09it/s]"
     ]
    },
    {
     "name": "stdout",
     "output_type": "stream",
     "text": [
      "1 calculation combinations to check\n",
      "1 new records to prepare\n"
     ]
    },
    {
     "name": "stderr",
     "output_type": "stream",
     "text": [
      "\n",
      "preparing: 100%|##########################################################################| 1/1 [00:00<00:00, 78.93it/s]\n"
     ]
    },
    {
     "name": "stdout",
     "output_type": "stream",
     "text": [
      "30dd71d8-57c4-4141-8528-382d82a83cd1\n",
      "sim calculated successfully\n",
      "\n",
      "50.000 0.0002276 49.902\n",
      "0 existing calculation records provided\n"
     ]
    },
    {
     "name": "stderr",
     "output_type": "stream",
     "text": [
      "100%|█████████████████████████████████████████████████████████████████████████████████████| 1/1 [00:00<00:00,  2.50it/s]"
     ]
    },
    {
     "name": "stdout",
     "output_type": "stream",
     "text": [
      "1 calculation combinations to check\n",
      "1 new records to prepare\n"
     ]
    },
    {
     "name": "stderr",
     "output_type": "stream",
     "text": [
      "\n",
      "preparing: 100%|##########################################################################| 1/1 [00:00<00:00, 42.86it/s]\n"
     ]
    },
    {
     "name": "stdout",
     "output_type": "stream",
     "text": [
      "ac3e3b98-f0c7-421a-802f-f59cbfa85abc\n",
      "sim calculated successfully\n",
      "\n",
      "50.000 0.0003103 49.907\n",
      "0 existing calculation records provided\n"
     ]
    },
    {
     "name": "stderr",
     "output_type": "stream",
     "text": [
      "100%|█████████████████████████████████████████████████████████████████████████████████████| 1/1 [00:00<00:00,  4.35it/s]"
     ]
    },
    {
     "name": "stdout",
     "output_type": "stream",
     "text": [
      "1 calculation combinations to check\n",
      "1 new records to prepare\n"
     ]
    },
    {
     "name": "stderr",
     "output_type": "stream",
     "text": [
      "\n",
      "preparing: 100%|##########################################################################| 1/1 [00:00<00:00, 48.80it/s]\n"
     ]
    },
    {
     "name": "stdout",
     "output_type": "stream",
     "text": [
      "035a3eb7-3f68-49ea-a05d-d436f75fa363\n",
      "sim calculated successfully\n",
      "\n",
      "50.000 0.0002276 49.890\n",
      "0 existing calculation records provided\n"
     ]
    },
    {
     "name": "stderr",
     "output_type": "stream",
     "text": [
      "100%|█████████████████████████████████████████████████████████████████████████████████████| 1/1 [00:00<00:00,  2.78it/s]"
     ]
    },
    {
     "name": "stdout",
     "output_type": "stream",
     "text": [
      "1 calculation combinations to check\n",
      "1 new records to prepare\n"
     ]
    },
    {
     "name": "stderr",
     "output_type": "stream",
     "text": [
      "\n",
      "preparing: 100%|##########################################################################| 1/1 [00:00<00:00, 91.62it/s]\n"
     ]
    },
    {
     "name": "stdout",
     "output_type": "stream",
     "text": [
      "5e6c948f-14c5-46da-ae89-0f3d7a4b37b6\n",
      "sim calculated successfully\n",
      "\n",
      "50.000 0.0002276 49.907\n",
      "0 existing calculation records provided\n"
     ]
    },
    {
     "name": "stderr",
     "output_type": "stream",
     "text": [
      "100%|█████████████████████████████████████████████████████████████████████████████████████| 1/1 [00:00<00:00,  4.18it/s]"
     ]
    },
    {
     "name": "stdout",
     "output_type": "stream",
     "text": [
      "1 calculation combinations to check\n",
      "1 new records to prepare\n"
     ]
    },
    {
     "name": "stderr",
     "output_type": "stream",
     "text": [
      "\n",
      "preparing: 100%|##########################################################################| 1/1 [00:00<00:00, 56.16it/s]\n"
     ]
    },
    {
     "name": "stdout",
     "output_type": "stream",
     "text": [
      "0fc1fe36-8147-4f0f-9dae-ac2e4a090eec\n",
      "sim calculated successfully\n",
      "\n",
      "50.000 7.241e-05 49.905\n",
      "0 existing calculation records provided\n"
     ]
    },
    {
     "name": "stderr",
     "output_type": "stream",
     "text": [
      "100%|█████████████████████████████████████████████████████████████████████████████████████| 1/1 [00:00<00:00,  4.27it/s]"
     ]
    },
    {
     "name": "stdout",
     "output_type": "stream",
     "text": [
      "1 calculation combinations to check\n",
      "1 new records to prepare\n"
     ]
    },
    {
     "name": "stderr",
     "output_type": "stream",
     "text": [
      "\n",
      "preparing: 100%|##########################################################################| 1/1 [00:00<00:00, 43.86it/s]\n"
     ]
    },
    {
     "name": "stdout",
     "output_type": "stream",
     "text": [
      "d53f3b65-c1f7-4425-bfc6-9e183401b6c2\n",
      "sim calculated successfully\n",
      "\n",
      "50.000 0.0004034 49.924\n",
      "Max number of runs reached!\n",
      "\n",
      "37 1998--Liu-X-Y--Al-Mg--LAMMPS--ipr1\n",
      "0 existing calculation records provided\n"
     ]
    },
    {
     "name": "stderr",
     "output_type": "stream",
     "text": [
      "100%|█████████████████████████████████████████████████████████████████████████████████████| 1/1 [00:00<00:00,  4.25it/s]"
     ]
    },
    {
     "name": "stdout",
     "output_type": "stream",
     "text": [
      "1 calculation combinations to check\n",
      "1 new records to prepare\n"
     ]
    },
    {
     "name": "stderr",
     "output_type": "stream",
     "text": [
      "\n",
      "preparing: 100%|##########################################################################| 1/1 [00:00<00:00, 47.23it/s]\n"
     ]
    },
    {
     "name": "stdout",
     "output_type": "stream",
     "text": [
      "d98336f3-d131-449e-8713-81d30dbe8b42\n",
      "sim calculated successfully\n",
      "\n",
      "4525.000 0.4092 708.558\n",
      "0 existing calculation records provided\n"
     ]
    },
    {
     "name": "stderr",
     "output_type": "stream",
     "text": [
      "100%|█████████████████████████████████████████████████████████████████████████████████████| 1/1 [00:00<00:00,  4.61it/s]"
     ]
    },
    {
     "name": "stdout",
     "output_type": "stream",
     "text": [
      "1 calculation combinations to check\n",
      "1 new records to prepare\n"
     ]
    },
    {
     "name": "stderr",
     "output_type": "stream",
     "text": [
      "\n",
      "preparing: 100%|##########################################################################| 1/1 [00:00<00:00, 44.24it/s]\n"
     ]
    },
    {
     "name": "stdout",
     "output_type": "stream",
     "text": [
      "f671c6a3-39cf-4b09-b7c8-028ce5813507\n",
      "sim calculated successfully\n",
      "\n",
      "4525.000 0.4053 739.637\n",
      "0 existing calculation records provided\n"
     ]
    },
    {
     "name": "stderr",
     "output_type": "stream",
     "text": [
      "100%|█████████████████████████████████████████████████████████████████████████████████████| 1/1 [00:00<00:00,  3.83it/s]"
     ]
    },
    {
     "name": "stdout",
     "output_type": "stream",
     "text": [
      "1 calculation combinations to check\n",
      "1 new records to prepare\n"
     ]
    },
    {
     "name": "stderr",
     "output_type": "stream",
     "text": [
      "\n",
      "preparing: 100%|##########################################################################| 1/1 [00:00<00:00, 85.95it/s]\n"
     ]
    },
    {
     "name": "stdout",
     "output_type": "stream",
     "text": [
      "9cc7c0c8-c038-4868-bdc2-5449cb9cc543\n",
      "sim calculated successfully\n",
      "\n",
      "4525.000 0.4028 752.637\n",
      "0 existing calculation records provided\n"
     ]
    },
    {
     "name": "stderr",
     "output_type": "stream",
     "text": [
      "100%|█████████████████████████████████████████████████████████████████████████████████████| 1/1 [00:00<00:00,  4.38it/s]"
     ]
    },
    {
     "name": "stdout",
     "output_type": "stream",
     "text": [
      "1 calculation combinations to check\n",
      "1 new records to prepare\n"
     ]
    },
    {
     "name": "stderr",
     "output_type": "stream",
     "text": [
      "\n",
      "preparing: 100%|##########################################################################| 1/1 [00:00<00:00, 49.47it/s]\n"
     ]
    },
    {
     "name": "stdout",
     "output_type": "stream",
     "text": [
      "175efdf3-c12e-4ba0-b88f-c4279460db62\n",
      "sim calculated successfully\n",
      "\n",
      "4525.000 0.4054 714.975\n",
      "0 existing calculation records provided\n"
     ]
    },
    {
     "name": "stderr",
     "output_type": "stream",
     "text": [
      "100%|█████████████████████████████████████████████████████████████████████████████████████| 1/1 [00:00<00:00,  4.27it/s]"
     ]
    },
    {
     "name": "stdout",
     "output_type": "stream",
     "text": [
      "1 calculation combinations to check\n",
      "1 new records to prepare\n"
     ]
    },
    {
     "name": "stderr",
     "output_type": "stream",
     "text": [
      "\n",
      "preparing: 100%|##########################################################################| 1/1 [00:00<00:00, 49.16it/s]\n"
     ]
    },
    {
     "name": "stdout",
     "output_type": "stream",
     "text": [
      "859276cf-8a25-4014-b8b6-7cf88823b360\n",
      "sim calculated successfully\n",
      "\n",
      "4525.000 0.4043 731.550\n",
      "0 existing calculation records provided\n"
     ]
    },
    {
     "name": "stderr",
     "output_type": "stream",
     "text": [
      "100%|█████████████████████████████████████████████████████████████████████████████████████| 1/1 [00:00<00:00,  4.38it/s]"
     ]
    },
    {
     "name": "stdout",
     "output_type": "stream",
     "text": [
      "1 calculation combinations to check\n",
      "1 new records to prepare\n"
     ]
    },
    {
     "name": "stderr",
     "output_type": "stream",
     "text": [
      "\n",
      "preparing: 100%|##########################################################################| 1/1 [00:00<00:00, 48.83it/s]\n"
     ]
    },
    {
     "name": "stdout",
     "output_type": "stream",
     "text": [
      "c8364c00-483a-437d-94cb-4655bf002d1a\n",
      "sim calculated successfully\n",
      "\n",
      "4525.000 0.4025 737.471\n",
      "0 existing calculation records provided\n"
     ]
    },
    {
     "name": "stderr",
     "output_type": "stream",
     "text": [
      "100%|█████████████████████████████████████████████████████████████████████████████████████| 1/1 [00:00<00:00,  4.39it/s]"
     ]
    },
    {
     "name": "stdout",
     "output_type": "stream",
     "text": [
      "1 calculation combinations to check\n",
      "1 new records to prepare\n"
     ]
    },
    {
     "name": "stderr",
     "output_type": "stream",
     "text": [
      "\n",
      "preparing: 100%|##########################################################################| 1/1 [00:00<00:00, 44.35it/s]\n"
     ]
    },
    {
     "name": "stdout",
     "output_type": "stream",
     "text": [
      "277f89f5-197c-416f-95e0-555b2a286d44\n",
      "sim calculated successfully\n",
      "\n",
      "4525.000 0.4019 728.524\n",
      "0 existing calculation records provided\n"
     ]
    },
    {
     "name": "stderr",
     "output_type": "stream",
     "text": [
      "100%|█████████████████████████████████████████████████████████████████████████████████████| 1/1 [00:00<00:00,  4.39it/s]"
     ]
    },
    {
     "name": "stdout",
     "output_type": "stream",
     "text": [
      "1 calculation combinations to check\n",
      "1 new records to prepare\n"
     ]
    },
    {
     "name": "stderr",
     "output_type": "stream",
     "text": [
      "\n",
      "preparing: 100%|##########################################################################| 1/1 [00:00<00:00, 50.71it/s]\n"
     ]
    },
    {
     "name": "stdout",
     "output_type": "stream",
     "text": [
      "e54db122-7a02-427d-b15d-f34555fecdc4\n",
      "sim calculated successfully\n",
      "\n",
      "4525.000 0.4064 721.936\n",
      "0 existing calculation records provided\n"
     ]
    },
    {
     "name": "stderr",
     "output_type": "stream",
     "text": [
      "100%|█████████████████████████████████████████████████████████████████████████████████████| 1/1 [00:00<00:00,  4.49it/s]"
     ]
    },
    {
     "name": "stdout",
     "output_type": "stream",
     "text": [
      "1 calculation combinations to check\n",
      "1 new records to prepare\n"
     ]
    },
    {
     "name": "stderr",
     "output_type": "stream",
     "text": [
      "\n",
      "preparing: 100%|##########################################################################| 1/1 [00:00<00:00, 49.70it/s]\n"
     ]
    },
    {
     "name": "stdout",
     "output_type": "stream",
     "text": [
      "f307cc74-8774-474d-bc1c-866a160f22fd\n",
      "sim calculated successfully\n",
      "\n",
      "4525.000 0.403 752.322\n",
      "0 existing calculation records provided\n"
     ]
    },
    {
     "name": "stderr",
     "output_type": "stream",
     "text": [
      "100%|█████████████████████████████████████████████████████████████████████████████████████| 1/1 [00:00<00:00,  4.30it/s]"
     ]
    },
    {
     "name": "stdout",
     "output_type": "stream",
     "text": [
      "1 calculation combinations to check\n",
      "1 new records to prepare\n"
     ]
    },
    {
     "name": "stderr",
     "output_type": "stream",
     "text": [
      "\n",
      "preparing: 100%|##########################################################################| 1/1 [00:00<00:00, 92.42it/s]\n"
     ]
    },
    {
     "name": "stdout",
     "output_type": "stream",
     "text": [
      "60117fe4-94fe-4ab8-8c7a-8319eb3f1cbb\n",
      "sim calculated successfully\n",
      "\n",
      "4525.000 0.4087 719.230\n",
      "\n",
      "38 1998--Meyer-R--Fe--LAMMPS--ipr1\n",
      "0 existing calculation records provided\n"
     ]
    },
    {
     "name": "stderr",
     "output_type": "stream",
     "text": [
      "100%|█████████████████████████████████████████████████████████████████████████████████████| 1/1 [00:00<00:00,  4.22it/s]"
     ]
    },
    {
     "name": "stdout",
     "output_type": "stream",
     "text": [
      "1 calculation combinations to check\n",
      "1 new records to prepare\n"
     ]
    },
    {
     "name": "stderr",
     "output_type": "stream",
     "text": [
      "\n",
      "preparing: 100%|##########################################################################| 1/1 [00:00<00:00, 58.44it/s]\n"
     ]
    },
    {
     "name": "stdout",
     "output_type": "stream",
     "text": [
      "a4fe95c4-e627-4252-b517-4d4a19caae40\n",
      "sim calculated successfully\n",
      "\n",
      "4525.000 1.034e-05 4498.281\n",
      "0 existing calculation records provided\n"
     ]
    },
    {
     "name": "stderr",
     "output_type": "stream",
     "text": [
      "100%|█████████████████████████████████████████████████████████████████████████████████████| 1/1 [00:00<00:00,  4.06it/s]"
     ]
    },
    {
     "name": "stdout",
     "output_type": "stream",
     "text": [
      "1 calculation combinations to check\n",
      "1 new records to prepare\n"
     ]
    },
    {
     "name": "stderr",
     "output_type": "stream",
     "text": [
      "\n",
      "preparing: 100%|##########################################################################| 1/1 [00:00<00:00, 35.63it/s]\n"
     ]
    },
    {
     "name": "stdout",
     "output_type": "stream",
     "text": [
      "ce53f952-ee13-4033-9ac1-67f9b064e7bd\n",
      "sim calculated successfully\n",
      "\n",
      "2287.500 0.01983 2262.398\n",
      "0 existing calculation records provided\n"
     ]
    },
    {
     "name": "stderr",
     "output_type": "stream",
     "text": [
      "100%|█████████████████████████████████████████████████████████████████████████████████████| 1/1 [00:00<00:00,  4.25it/s]"
     ]
    },
    {
     "name": "stdout",
     "output_type": "stream",
     "text": [
      "1 calculation combinations to check\n",
      "1 new records to prepare\n"
     ]
    },
    {
     "name": "stderr",
     "output_type": "stream",
     "text": [
      "\n",
      "preparing: 100%|##########################################################################| 1/1 [00:00<00:00, 52.65it/s]\n"
     ]
    },
    {
     "name": "stdout",
     "output_type": "stream",
     "text": [
      "568a2348-cc37-4b53-ab8f-e4a8fc7e346a\n",
      "sim calculated successfully\n",
      "\n",
      "1168.750 0.9935 1165.178\n",
      "0 existing calculation records provided\n"
     ]
    },
    {
     "name": "stderr",
     "output_type": "stream",
     "text": [
      "100%|█████████████████████████████████████████████████████████████████████████████████████| 1/1 [00:00<00:00,  4.35it/s]"
     ]
    },
    {
     "name": "stdout",
     "output_type": "stream",
     "text": [
      "1 calculation combinations to check\n",
      "1 new records to prepare\n"
     ]
    },
    {
     "name": "stderr",
     "output_type": "stream",
     "text": [
      "\n",
      "preparing: 100%|##########################################################################| 1/1 [00:00<00:00, 35.26it/s]\n"
     ]
    },
    {
     "name": "stdout",
     "output_type": "stream",
     "text": [
      "cd1f6fb0-8f7a-4524-87d9-6ea2f3fd14ee\n",
      "sim calculated successfully\n",
      "\n",
      "1728.125 0.04676 1769.893\n",
      "0 existing calculation records provided\n"
     ]
    },
    {
     "name": "stderr",
     "output_type": "stream",
     "text": [
      "100%|█████████████████████████████████████████████████████████████████████████████████████| 1/1 [00:00<00:00,  2.54it/s]"
     ]
    },
    {
     "name": "stdout",
     "output_type": "stream",
     "text": [
      "1 calculation combinations to check\n",
      "1 new records to prepare\n"
     ]
    },
    {
     "name": "stderr",
     "output_type": "stream",
     "text": [
      "\n",
      "preparing: 100%|##########################################################################| 1/1 [00:00<00:00, 49.22it/s]\n"
     ]
    },
    {
     "name": "stdout",
     "output_type": "stream",
     "text": [
      "c70dd776-fac8-4a8f-afac-51172aea9778\n",
      "sim calculated successfully\n",
      "\n",
      "1448.438 0.05239 1465.107\n",
      "0 existing calculation records provided\n"
     ]
    },
    {
     "name": "stderr",
     "output_type": "stream",
     "text": [
      "100%|█████████████████████████████████████████████████████████████████████████████████████| 1/1 [00:00<00:00,  2.85it/s]"
     ]
    },
    {
     "name": "stdout",
     "output_type": "stream",
     "text": [
      "1 calculation combinations to check\n",
      "1 new records to prepare\n"
     ]
    },
    {
     "name": "stderr",
     "output_type": "stream",
     "text": [
      "\n",
      "preparing: 100%|##########################################################################| 1/1 [00:00<00:00, 36.40it/s]\n"
     ]
    },
    {
     "name": "stdout",
     "output_type": "stream",
     "text": [
      "01c8e2b8-8407-4c29-a532-677fac82d60f\n",
      "sim calculated successfully\n",
      "\n",
      "1308.594 0.985 1301.100\n",
      "0 existing calculation records provided\n"
     ]
    },
    {
     "name": "stderr",
     "output_type": "stream",
     "text": [
      "100%|█████████████████████████████████████████████████████████████████████████████████████| 1/1 [00:00<00:00,  4.08it/s]"
     ]
    },
    {
     "name": "stdout",
     "output_type": "stream",
     "text": [
      "1 calculation combinations to check\n",
      "1 new records to prepare\n"
     ]
    },
    {
     "name": "stderr",
     "output_type": "stream",
     "text": [
      "\n",
      "preparing: 100%|##########################################################################| 1/1 [00:00<00:00, 35.69it/s]\n"
     ]
    },
    {
     "name": "stdout",
     "output_type": "stream",
     "text": [
      "4badb751-e80f-4df4-8ecf-f6d192eceaf2\n",
      "sim calculated successfully\n",
      "\n",
      "1378.516 0.04786 1404.398\n",
      "0 existing calculation records provided\n"
     ]
    },
    {
     "name": "stderr",
     "output_type": "stream",
     "text": [
      "100%|█████████████████████████████████████████████████████████████████████████████████████| 1/1 [00:00<00:00,  4.34it/s]"
     ]
    },
    {
     "name": "stdout",
     "output_type": "stream",
     "text": [
      "1 calculation combinations to check\n",
      "1 new records to prepare\n"
     ]
    },
    {
     "name": "stderr",
     "output_type": "stream",
     "text": [
      "\n",
      "preparing: 100%|##########################################################################| 1/1 [00:00<00:00, 32.20it/s]\n"
     ]
    },
    {
     "name": "stdout",
     "output_type": "stream",
     "text": [
      "43a174c7-f5a2-40d2-a711-0bc719c8d62a\n",
      "sim calculated successfully\n",
      "\n",
      "1343.555 0.5703 1339.363\n",
      "0 existing calculation records provided\n"
     ]
    },
    {
     "name": "stderr",
     "output_type": "stream",
     "text": [
      "100%|█████████████████████████████████████████████████████████████████████████████████████| 1/1 [00:00<00:00,  3.35it/s]"
     ]
    },
    {
     "name": "stdout",
     "output_type": "stream",
     "text": [
      "1 calculation combinations to check\n",
      "1 new records to prepare\n"
     ]
    },
    {
     "name": "stderr",
     "output_type": "stream",
     "text": [
      "\n",
      "preparing: 100%|##########################################################################| 1/1 [00:00<00:00, 36.33it/s]\n"
     ]
    },
    {
     "name": "stdout",
     "output_type": "stream",
     "text": [
      "e8a3a571-fa10-4fa1-9d21-dec4257fd0d7\n",
      "sim calculated successfully\n",
      "\n",
      "1343.555 0.05309 1339.585\n",
      "0 existing calculation records provided\n"
     ]
    },
    {
     "name": "stderr",
     "output_type": "stream",
     "text": [
      "100%|█████████████████████████████████████████████████████████████████████████████████████| 1/1 [00:00<00:00,  2.72it/s]"
     ]
    },
    {
     "name": "stdout",
     "output_type": "stream",
     "text": [
      "1 calculation combinations to check\n",
      "1 new records to prepare\n"
     ]
    },
    {
     "name": "stderr",
     "output_type": "stream",
     "text": [
      "\n",
      "preparing: 100%|##########################################################################| 1/1 [00:00<00:00, 49.71it/s]\n"
     ]
    },
    {
     "name": "stdout",
     "output_type": "stream",
     "text": [
      "b085deb5-7e9d-42f4-a3b5-9964026666b8\n",
      "sim calculated successfully\n",
      "\n",
      "1326.074 0.05934 1332.149\n",
      "0 existing calculation records provided\n"
     ]
    },
    {
     "name": "stderr",
     "output_type": "stream",
     "text": [
      "100%|█████████████████████████████████████████████████████████████████████████████████████| 1/1 [00:00<00:00,  4.78it/s]"
     ]
    },
    {
     "name": "stdout",
     "output_type": "stream",
     "text": [
      "1 calculation combinations to check\n",
      "1 new records to prepare\n"
     ]
    },
    {
     "name": "stderr",
     "output_type": "stream",
     "text": [
      "\n",
      "preparing: 100%|##########################################################################| 1/1 [00:00<00:00, 37.49it/s]\n"
     ]
    },
    {
     "name": "stdout",
     "output_type": "stream",
     "text": [
      "dcdf4ab1-657b-484a-bd58-e68a419d4cd5\n",
      "sim calculated successfully\n",
      "\n",
      "1317.334 0.9842 1308.804\n",
      "0 existing calculation records provided\n"
     ]
    },
    {
     "name": "stderr",
     "output_type": "stream",
     "text": [
      "100%|█████████████████████████████████████████████████████████████████████████████████████| 1/1 [00:00<00:00,  2.81it/s]"
     ]
    },
    {
     "name": "stdout",
     "output_type": "stream",
     "text": [
      "1 calculation combinations to check\n",
      "1 new records to prepare\n"
     ]
    },
    {
     "name": "stderr",
     "output_type": "stream",
     "text": [
      "\n",
      "preparing: 100%|##########################################################################| 1/1 [00:00<00:00, 33.05it/s]\n"
     ]
    },
    {
     "name": "stdout",
     "output_type": "stream",
     "text": [
      "91dd16f5-637c-45c1-a8ca-9938d8083428\n",
      "sim calculated successfully\n",
      "\n",
      "1321.704 0.04725 1329.221\n",
      "0 existing calculation records provided\n"
     ]
    },
    {
     "name": "stderr",
     "output_type": "stream",
     "text": [
      "100%|█████████████████████████████████████████████████████████████████████████████████████| 1/1 [00:00<00:00,  3.75it/s]"
     ]
    },
    {
     "name": "stdout",
     "output_type": "stream",
     "text": [
      "1 calculation combinations to check\n",
      "1 new records to prepare\n"
     ]
    },
    {
     "name": "stderr",
     "output_type": "stream",
     "text": [
      "\n",
      "preparing: 100%|##########################################################################| 1/1 [00:00<00:00, 33.32it/s]\n"
     ]
    },
    {
     "name": "stdout",
     "output_type": "stream",
     "text": [
      "3dd48a54-6345-43d3-9901-b8b1163fe4db\n",
      "sim calculated successfully\n",
      "\n",
      "1319.519 0.04732 1310.128\n",
      "0 existing calculation records provided\n"
     ]
    },
    {
     "name": "stderr",
     "output_type": "stream",
     "text": [
      "100%|█████████████████████████████████████████████████████████████████████████████████████| 1/1 [00:00<00:00,  4.18it/s]"
     ]
    },
    {
     "name": "stdout",
     "output_type": "stream",
     "text": [
      "1 calculation combinations to check\n",
      "1 new records to prepare\n"
     ]
    },
    {
     "name": "stderr",
     "output_type": "stream",
     "text": [
      "\n",
      "preparing: 100%|##########################################################################| 1/1 [00:00<00:00, 35.74it/s]\n"
     ]
    },
    {
     "name": "stdout",
     "output_type": "stream",
     "text": [
      "8f047a2e-5d4e-41c1-8ac6-72e06150d7aa\n",
      "sim calculated successfully\n",
      "\n",
      "1318.427 0.9834 1312.176\n",
      "0 existing calculation records provided\n"
     ]
    },
    {
     "name": "stderr",
     "output_type": "stream",
     "text": [
      "100%|█████████████████████████████████████████████████████████████████████████████████████| 1/1 [00:00<00:00,  4.12it/s]"
     ]
    },
    {
     "name": "stdout",
     "output_type": "stream",
     "text": [
      "1 calculation combinations to check\n",
      "1 new records to prepare\n"
     ]
    },
    {
     "name": "stderr",
     "output_type": "stream",
     "text": [
      "\n",
      "preparing: 100%|##########################################################################| 1/1 [00:00<00:00, 36.75it/s]\n"
     ]
    },
    {
     "name": "stdout",
     "output_type": "stream",
     "text": [
      "15316230-fdff-4a8a-a0fa-d9759d9d2f56\n",
      "sim calculated successfully\n",
      "\n",
      "1318.973 0.04139 1327.451\n",
      "0 existing calculation records provided\n"
     ]
    },
    {
     "name": "stderr",
     "output_type": "stream",
     "text": [
      "100%|█████████████████████████████████████████████████████████████████████████████████████| 1/1 [00:00<00:00,  2.72it/s]"
     ]
    },
    {
     "name": "stdout",
     "output_type": "stream",
     "text": [
      "1 calculation combinations to check\n",
      "1 new records to prepare\n"
     ]
    },
    {
     "name": "stderr",
     "output_type": "stream",
     "text": [
      "\n",
      "preparing: 100%|##########################################################################| 1/1 [00:00<00:00, 30.59it/s]\n"
     ]
    },
    {
     "name": "stdout",
     "output_type": "stream",
     "text": [
      "df7ffbec-42a3-46ec-a226-9e7764724761\n",
      "sim calculated successfully\n",
      "\n",
      "1318.700 0.3042 1319.485\n",
      "0 existing calculation records provided\n"
     ]
    },
    {
     "name": "stderr",
     "output_type": "stream",
     "text": [
      "100%|█████████████████████████████████████████████████████████████████████████████████████| 1/1 [00:00<00:00,  3.96it/s]"
     ]
    },
    {
     "name": "stdout",
     "output_type": "stream",
     "text": [
      "1 calculation combinations to check\n",
      "1 new records to prepare\n"
     ]
    },
    {
     "name": "stderr",
     "output_type": "stream",
     "text": [
      "\n",
      "preparing: 100%|##########################################################################| 1/1 [00:00<00:00, 36.32it/s]\n"
     ]
    },
    {
     "name": "stdout",
     "output_type": "stream",
     "text": [
      "762cc408-00e2-48bd-a0b8-bc3654b14ecf\n",
      "sim calculated successfully\n",
      "\n",
      "1318.563 0.9848 1312.327\n",
      "0 existing calculation records provided\n"
     ]
    },
    {
     "name": "stderr",
     "output_type": "stream",
     "text": [
      "100%|█████████████████████████████████████████████████████████████████████████████████████| 1/1 [00:00<00:00,  2.93it/s]"
     ]
    },
    {
     "name": "stdout",
     "output_type": "stream",
     "text": [
      "1 calculation combinations to check\n",
      "1 new records to prepare\n"
     ]
    },
    {
     "name": "stderr",
     "output_type": "stream",
     "text": [
      "\n",
      "preparing: 100%|##########################################################################| 1/1 [00:00<00:00, 54.00it/s]\n"
     ]
    },
    {
     "name": "stdout",
     "output_type": "stream",
     "text": [
      "1bea8272-170a-4a50-b1e6-033a7f50b945\n",
      "sim calculated successfully\n",
      "\n",
      "1318.768 0.4955 1318.481\n",
      "0 existing calculation records provided\n"
     ]
    },
    {
     "name": "stderr",
     "output_type": "stream",
     "text": [
      "100%|█████████████████████████████████████████████████████████████████████████████████████| 1/1 [00:00<00:00,  3.02it/s]"
     ]
    },
    {
     "name": "stdout",
     "output_type": "stream",
     "text": [
      "1 calculation combinations to check\n",
      "1 new records to prepare\n"
     ]
    },
    {
     "name": "stderr",
     "output_type": "stream",
     "text": [
      "\n",
      "preparing: 100%|##########################################################################| 1/1 [00:00<00:00, 46.88it/s]\n"
     ]
    },
    {
     "name": "stdout",
     "output_type": "stream",
     "text": [
      "baeb6fe7-951e-4c76-abac-432304defe29\n",
      "sim calculated successfully\n",
      "\n",
      "1318.768 0.9833 1310.497\n",
      "0 existing calculation records provided\n"
     ]
    },
    {
     "name": "stderr",
     "output_type": "stream",
     "text": [
      "100%|█████████████████████████████████████████████████████████████████████████████████████| 1/1 [00:00<00:00,  2.94it/s]"
     ]
    },
    {
     "name": "stdout",
     "output_type": "stream",
     "text": [
      "1 calculation combinations to check\n",
      "1 new records to prepare\n"
     ]
    },
    {
     "name": "stderr",
     "output_type": "stream",
     "text": [
      "\n",
      "preparing: 100%|##########################################################################| 1/1 [00:00<00:00, 51.41it/s]\n"
     ]
    },
    {
     "name": "stdout",
     "output_type": "stream",
     "text": [
      "f7e84384-d939-4f1b-8044-0e1b13dc6be1\n",
      "sim calculated successfully\n",
      "\n",
      "1318.870 0.9821 1311.200\n",
      "0 existing calculation records provided\n"
     ]
    },
    {
     "name": "stderr",
     "output_type": "stream",
     "text": [
      "100%|█████████████████████████████████████████████████████████████████████████████████████| 1/1 [00:00<00:00,  3.20it/s]"
     ]
    },
    {
     "name": "stdout",
     "output_type": "stream",
     "text": [
      "1 calculation combinations to check\n",
      "1 new records to prepare\n"
     ]
    },
    {
     "name": "stderr",
     "output_type": "stream",
     "text": [
      "\n",
      "preparing: 100%|##########################################################################| 1/1 [00:00<00:00, 55.83it/s]\n"
     ]
    },
    {
     "name": "stdout",
     "output_type": "stream",
     "text": [
      "6893b8ca-b267-4d1e-99be-5e20b44933b1\n",
      "sim calculated successfully\n",
      "\n",
      "1318.922 0.04988 1320.833\n",
      "0 existing calculation records provided\n"
     ]
    },
    {
     "name": "stderr",
     "output_type": "stream",
     "text": [
      "100%|█████████████████████████████████████████████████████████████████████████████████████| 1/1 [00:00<00:00,  2.81it/s]"
     ]
    },
    {
     "name": "stdout",
     "output_type": "stream",
     "text": [
      "1 calculation combinations to check\n",
      "1 new records to prepare\n"
     ]
    },
    {
     "name": "stderr",
     "output_type": "stream",
     "text": [
      "\n",
      "preparing: 100%|##########################################################################| 1/1 [00:00<00:00, 48.07it/s]\n"
     ]
    },
    {
     "name": "stdout",
     "output_type": "stream",
     "text": [
      "a7ebecbd-d39a-40f1-b0b1-b7686c8111d8\n",
      "sim calculated successfully\n",
      "\n",
      "1318.896 0.04733 1328.692\n",
      "0 existing calculation records provided\n"
     ]
    },
    {
     "name": "stderr",
     "output_type": "stream",
     "text": [
      "100%|█████████████████████████████████████████████████████████████████████████████████████| 1/1 [00:00<00:00,  2.87it/s]"
     ]
    },
    {
     "name": "stdout",
     "output_type": "stream",
     "text": [
      "1 calculation combinations to check\n",
      "1 new records to prepare\n"
     ]
    },
    {
     "name": "stderr",
     "output_type": "stream",
     "text": [
      "\n",
      "preparing: 100%|##########################################################################| 1/1 [00:00<00:00, 52.23it/s]\n"
     ]
    },
    {
     "name": "stdout",
     "output_type": "stream",
     "text": [
      "2cf87084-cc69-4150-bd5b-f59e158e6950\n",
      "sim calculated successfully\n",
      "\n",
      "1318.883 0.9837 1312.279\n",
      "0 existing calculation records provided\n"
     ]
    },
    {
     "name": "stderr",
     "output_type": "stream",
     "text": [
      "100%|█████████████████████████████████████████████████████████████████████████████████████| 1/1 [00:00<00:00,  2.47it/s]"
     ]
    },
    {
     "name": "stdout",
     "output_type": "stream",
     "text": [
      "1 calculation combinations to check\n",
      "1 new records to prepare\n"
     ]
    },
    {
     "name": "stderr",
     "output_type": "stream",
     "text": [
      "\n",
      "preparing: 100%|##########################################################################| 1/1 [00:00<00:00, 46.29it/s]\n"
     ]
    },
    {
     "name": "stdout",
     "output_type": "stream",
     "text": [
      "471ffe46-ac32-472b-bac7-ea277a9dccef\n",
      "sim calculated successfully\n",
      "\n",
      "1318.890 0.09312 1321.478\n",
      "0 existing calculation records provided\n"
     ]
    },
    {
     "name": "stderr",
     "output_type": "stream",
     "text": [
      "100%|█████████████████████████████████████████████████████████████████████████████████████| 1/1 [00:00<00:00,  2.99it/s]"
     ]
    },
    {
     "name": "stdout",
     "output_type": "stream",
     "text": [
      "1 calculation combinations to check\n",
      "1 new records to prepare\n"
     ]
    },
    {
     "name": "stderr",
     "output_type": "stream",
     "text": [
      "\n",
      "preparing: 100%|##########################################################################| 1/1 [00:00<00:00, 66.97it/s]\n"
     ]
    },
    {
     "name": "stdout",
     "output_type": "stream",
     "text": [
      "3863f836-c285-4c41-9af3-2b0c768f7186\n",
      "sim calculated successfully\n",
      "\n",
      "1318.886 0.983 1313.891\n",
      "0 existing calculation records provided\n"
     ]
    },
    {
     "name": "stderr",
     "output_type": "stream",
     "text": [
      "100%|█████████████████████████████████████████████████████████████████████████████████████| 1/1 [00:00<00:00,  2.36it/s]"
     ]
    },
    {
     "name": "stdout",
     "output_type": "stream",
     "text": [
      "1 calculation combinations to check\n",
      "1 new records to prepare\n"
     ]
    },
    {
     "name": "stderr",
     "output_type": "stream",
     "text": [
      "\n",
      "preparing: 100%|##########################################################################| 1/1 [00:00<00:00, 45.04it/s]\n"
     ]
    },
    {
     "name": "stdout",
     "output_type": "stream",
     "text": [
      "c2accd55-8337-4cbc-a84b-551f773f5190\n",
      "sim calculated successfully\n",
      "\n",
      "1318.888 0.9843 1310.148\n",
      "0 existing calculation records provided\n"
     ]
    },
    {
     "name": "stderr",
     "output_type": "stream",
     "text": [
      "100%|█████████████████████████████████████████████████████████████████████████████████████| 1/1 [00:00<00:00,  2.37it/s]"
     ]
    },
    {
     "name": "stdout",
     "output_type": "stream",
     "text": [
      "1 calculation combinations to check\n",
      "1 new records to prepare\n"
     ]
    },
    {
     "name": "stderr",
     "output_type": "stream",
     "text": [
      "\n",
      "preparing: 100%|##########################################################################| 1/1 [00:00<00:00, 54.60it/s]\n"
     ]
    },
    {
     "name": "stdout",
     "output_type": "stream",
     "text": [
      "ab50c506-2eec-4a85-9fbd-8faab198c83b\n",
      "sim calculated successfully\n",
      "\n",
      "1318.889 0.4925 1320.961\n",
      "0 existing calculation records provided\n"
     ]
    },
    {
     "name": "stderr",
     "output_type": "stream",
     "text": [
      "100%|█████████████████████████████████████████████████████████████████████████████████████| 1/1 [00:00<00:00,  4.90it/s]"
     ]
    },
    {
     "name": "stdout",
     "output_type": "stream",
     "text": [
      "1 calculation combinations to check\n",
      "1 new records to prepare\n"
     ]
    },
    {
     "name": "stderr",
     "output_type": "stream",
     "text": [
      "\n",
      "preparing: 100%|##########################################################################| 1/1 [00:00<00:00, 38.62it/s]\n"
     ]
    },
    {
     "name": "stdout",
     "output_type": "stream",
     "text": [
      "bfb4c44e-4eb3-427c-a3aa-5879af1ef00f\n",
      "sim calculated successfully\n",
      "\n",
      "1318.889 0.9828 1309.330\n",
      "0 existing calculation records provided\n"
     ]
    },
    {
     "name": "stderr",
     "output_type": "stream",
     "text": [
      "100%|█████████████████████████████████████████████████████████████████████████████████████| 1/1 [00:00<00:00,  4.50it/s]"
     ]
    },
    {
     "name": "stdout",
     "output_type": "stream",
     "text": [
      "1 calculation combinations to check\n",
      "1 new records to prepare\n"
     ]
    },
    {
     "name": "stderr",
     "output_type": "stream",
     "text": [
      "\n",
      "preparing: 100%|##########################################################################| 1/1 [00:00<00:00, 52.41it/s]\n"
     ]
    },
    {
     "name": "stdout",
     "output_type": "stream",
     "text": [
      "ebd3cc1e-d8c5-4142-b27e-e685d7d2950d\n",
      "sim calculated successfully\n",
      "\n",
      "1318.889 0.9808 1308.890\n",
      "0 existing calculation records provided\n"
     ]
    },
    {
     "name": "stderr",
     "output_type": "stream",
     "text": [
      "100%|█████████████████████████████████████████████████████████████████████████████████████| 1/1 [00:00<00:00,  3.82it/s]"
     ]
    },
    {
     "name": "stdout",
     "output_type": "stream",
     "text": [
      "1 calculation combinations to check\n",
      "1 new records to prepare\n"
     ]
    },
    {
     "name": "stderr",
     "output_type": "stream",
     "text": [
      "\n",
      "preparing: 100%|##########################################################################| 1/1 [00:00<00:00, 50.77it/s]\n"
     ]
    },
    {
     "name": "stdout",
     "output_type": "stream",
     "text": [
      "0bda2691-2af5-4ab1-8ab5-148a2e3ee780\n",
      "sim calculated successfully\n",
      "\n",
      "1318.889 0.9825 1312.339\n",
      "0 existing calculation records provided\n"
     ]
    },
    {
     "name": "stderr",
     "output_type": "stream",
     "text": [
      "100%|█████████████████████████████████████████████████████████████████████████████████████| 1/1 [00:00<00:00,  4.46it/s]"
     ]
    },
    {
     "name": "stdout",
     "output_type": "stream",
     "text": [
      "1 calculation combinations to check\n",
      "1 new records to prepare\n"
     ]
    },
    {
     "name": "stderr",
     "output_type": "stream",
     "text": [
      "\n",
      "preparing: 100%|##########################################################################| 1/1 [00:00<00:00, 53.41it/s]\n"
     ]
    },
    {
     "name": "stdout",
     "output_type": "stream",
     "text": [
      "09843696-b1aa-4435-bdb3-eaa2d7ffa838\n",
      "sim calculated successfully\n",
      "\n",
      "1318.889 0.9818 1311.101\n",
      "0 existing calculation records provided\n"
     ]
    },
    {
     "name": "stderr",
     "output_type": "stream",
     "text": [
      "100%|█████████████████████████████████████████████████████████████████████████████████████| 1/1 [00:00<00:00,  2.77it/s]"
     ]
    },
    {
     "name": "stdout",
     "output_type": "stream",
     "text": [
      "1 calculation combinations to check\n",
      "1 new records to prepare\n"
     ]
    },
    {
     "name": "stderr",
     "output_type": "stream",
     "text": [
      "\n",
      "preparing: 100%|##########################################################################| 1/1 [00:00<00:00, 56.18it/s]\n"
     ]
    },
    {
     "name": "stdout",
     "output_type": "stream",
     "text": [
      "776bf080-cf40-468e-bd85-bfb4629978ef\n",
      "sim calculated successfully\n",
      "\n",
      "1318.890 0.8063 1314.137\n",
      "0 existing calculation records provided\n"
     ]
    },
    {
     "name": "stderr",
     "output_type": "stream",
     "text": [
      "100%|█████████████████████████████████████████████████████████████████████████████████████| 1/1 [00:00<00:00,  3.07it/s]"
     ]
    },
    {
     "name": "stdout",
     "output_type": "stream",
     "text": [
      "1 calculation combinations to check\n",
      "1 new records to prepare\n"
     ]
    },
    {
     "name": "stderr",
     "output_type": "stream",
     "text": [
      "\n",
      "preparing: 100%|##########################################################################| 1/1 [00:00<00:00, 32.79it/s]\n"
     ]
    },
    {
     "name": "stdout",
     "output_type": "stream",
     "text": [
      "f754937d-29b9-4d05-8494-b997331f9918\n",
      "sim calculated successfully\n",
      "\n",
      "1318.890 0.9841 1311.160\n",
      "0 existing calculation records provided\n"
     ]
    },
    {
     "name": "stderr",
     "output_type": "stream",
     "text": [
      "100%|█████████████████████████████████████████████████████████████████████████████████████| 1/1 [00:00<00:00,  2.57it/s]"
     ]
    },
    {
     "name": "stdout",
     "output_type": "stream",
     "text": [
      "1 calculation combinations to check\n",
      "1 new records to prepare\n"
     ]
    },
    {
     "name": "stderr",
     "output_type": "stream",
     "text": [
      "\n",
      "preparing: 100%|##########################################################################| 1/1 [00:00<00:00, 50.67it/s]\n"
     ]
    },
    {
     "name": "stdout",
     "output_type": "stream",
     "text": [
      "0d7e42da-d299-4613-828b-92e6fb251796\n",
      "sim calculated successfully\n",
      "\n",
      "1318.890 0.09481 1324.810\n",
      "0 existing calculation records provided\n"
     ]
    },
    {
     "name": "stderr",
     "output_type": "stream",
     "text": [
      "100%|█████████████████████████████████████████████████████████████████████████████████████| 1/1 [00:00<00:00,  2.72it/s]"
     ]
    },
    {
     "name": "stdout",
     "output_type": "stream",
     "text": [
      "1 calculation combinations to check\n",
      "1 new records to prepare\n"
     ]
    },
    {
     "name": "stderr",
     "output_type": "stream",
     "text": [
      "\n",
      "preparing: 100%|##########################################################################| 1/1 [00:00<00:00, 44.32it/s]\n"
     ]
    },
    {
     "name": "stdout",
     "output_type": "stream",
     "text": [
      "e73e9d5d-7be5-4637-bea8-a177832b5fac\n",
      "sim calculated successfully\n",
      "\n",
      "1318.890 0.08379 1311.337\n",
      "Max number of runs reached!\n",
      "\n",
      "39 1999--Liu-X-Y--Al-Cu--LAMMPS--ipr1\n",
      "0 existing calculation records provided\n"
     ]
    },
    {
     "name": "stderr",
     "output_type": "stream",
     "text": [
      "100%|█████████████████████████████████████████████████████████████████████████████████████| 1/1 [00:00<00:00,  2.65it/s]"
     ]
    },
    {
     "name": "stdout",
     "output_type": "stream",
     "text": [
      "1 calculation combinations to check\n",
      "1 new records to prepare\n"
     ]
    },
    {
     "name": "stderr",
     "output_type": "stream",
     "text": [
      "\n",
      "preparing: 100%|#########################################################################| 1/1 [00:00<00:00, 101.88it/s]\n"
     ]
    },
    {
     "name": "stdout",
     "output_type": "stream",
     "text": [
      "5f696c6a-7598-4a4c-9028-cf01cc2e061d\n",
      "sim calculated successfully\n",
      "\n",
      "4525.000 0.007924 4438.127\n",
      "0 existing calculation records provided\n"
     ]
    },
    {
     "name": "stderr",
     "output_type": "stream",
     "text": [
      "100%|█████████████████████████████████████████████████████████████████████████████████████| 1/1 [00:00<00:00,  2.34it/s]"
     ]
    },
    {
     "name": "stdout",
     "output_type": "stream",
     "text": [
      "1 calculation combinations to check\n",
      "1 new records to prepare\n"
     ]
    },
    {
     "name": "stderr",
     "output_type": "stream",
     "text": [
      "\n",
      "preparing: 100%|##########################################################################| 1/1 [00:00<00:00, 85.72it/s]\n"
     ]
    },
    {
     "name": "stdout",
     "output_type": "stream",
     "text": [
      "42cead11-d738-4516-86aa-45fe382f6877\n",
      "sim calculated successfully\n",
      "\n",
      "2287.500 1.034e-05 2275.826\n",
      "0 existing calculation records provided\n"
     ]
    },
    {
     "name": "stderr",
     "output_type": "stream",
     "text": [
      "100%|█████████████████████████████████████████████████████████████████████████████████████| 1/1 [00:00<00:00,  2.47it/s]"
     ]
    },
    {
     "name": "stdout",
     "output_type": "stream",
     "text": [
      "1 calculation combinations to check\n",
      "1 new records to prepare\n"
     ]
    },
    {
     "name": "stderr",
     "output_type": "stream",
     "text": [
      "\n",
      "preparing: 100%|##########################################################################| 1/1 [00:00<00:00, 85.25it/s]\n"
     ]
    },
    {
     "name": "stdout",
     "output_type": "stream",
     "text": [
      "534b6d49-aa3f-47df-b8a2-0ae841a7a163\n",
      "sim calculated successfully\n",
      "\n",
      "1168.750 0.7047 1242.427\n",
      "0 existing calculation records provided\n"
     ]
    },
    {
     "name": "stderr",
     "output_type": "stream",
     "text": [
      "100%|█████████████████████████████████████████████████████████████████████████████████████| 1/1 [00:00<00:00,  4.51it/s]"
     ]
    },
    {
     "name": "stdout",
     "output_type": "stream",
     "text": [
      "1 calculation combinations to check\n",
      "1 new records to prepare\n"
     ]
    },
    {
     "name": "stderr",
     "output_type": "stream",
     "text": [
      "\n",
      "preparing: 100%|##########################################################################| 1/1 [00:00<00:00, 48.58it/s]\n"
     ]
    },
    {
     "name": "stdout",
     "output_type": "stream",
     "text": [
      "838ac8bf-19ed-43f2-92f4-4d74a0b4cf72\n",
      "sim calculated successfully\n",
      "\n",
      "1728.125 6.207e-05 1715.074\n",
      "0 existing calculation records provided\n"
     ]
    },
    {
     "name": "stderr",
     "output_type": "stream",
     "text": [
      "100%|█████████████████████████████████████████████████████████████████████████████████████| 1/1 [00:00<00:00,  2.93it/s]"
     ]
    },
    {
     "name": "stdout",
     "output_type": "stream",
     "text": [
      "1 calculation combinations to check\n",
      "1 new records to prepare\n"
     ]
    },
    {
     "name": "stderr",
     "output_type": "stream",
     "text": [
      "\n",
      "preparing: 100%|##########################################################################| 1/1 [00:00<00:00, 96.96it/s]\n"
     ]
    },
    {
     "name": "stdout",
     "output_type": "stream",
     "text": [
      "98439207-3bbc-4c86-badb-1d0a327bf1a2\n",
      "sim calculated successfully\n",
      "\n",
      "889.062 0.1656 885.647\n",
      "0 existing calculation records provided\n"
     ]
    },
    {
     "name": "stderr",
     "output_type": "stream",
     "text": [
      "100%|█████████████████████████████████████████████████████████████████████████████████████| 1/1 [00:00<00:00,  2.94it/s]"
     ]
    },
    {
     "name": "stdout",
     "output_type": "stream",
     "text": [
      "1 calculation combinations to check\n",
      "1 new records to prepare\n"
     ]
    },
    {
     "name": "stderr",
     "output_type": "stream",
     "text": [
      "\n",
      "preparing: 100%|##########################################################################| 1/1 [00:00<00:00, 80.77it/s]\n"
     ]
    },
    {
     "name": "stdout",
     "output_type": "stream",
     "text": [
      "4359461b-991d-4c70-82fb-c5c6836c3dc1\n",
      "sim calculated successfully\n",
      "\n",
      "469.531 0.2596 467.652\n",
      "0 existing calculation records provided\n"
     ]
    },
    {
     "name": "stderr",
     "output_type": "stream",
     "text": [
      "100%|█████████████████████████████████████████████████████████████████████████████████████| 1/1 [00:00<00:00,  2.84it/s]"
     ]
    },
    {
     "name": "stdout",
     "output_type": "stream",
     "text": [
      "1 calculation combinations to check\n",
      "1 new records to prepare\n"
     ]
    },
    {
     "name": "stderr",
     "output_type": "stream",
     "text": [
      "\n",
      "preparing: 100%|##########################################################################| 1/1 [00:00<00:00, 56.41it/s]\n"
     ]
    },
    {
     "name": "stdout",
     "output_type": "stream",
     "text": [
      "518b9f63-133d-449a-9f6e-2e36172b72dc\n",
      "sim calculated successfully\n",
      "\n",
      "259.766 0.4324 258.602\n",
      "0 existing calculation records provided\n"
     ]
    },
    {
     "name": "stderr",
     "output_type": "stream",
     "text": [
      "100%|█████████████████████████████████████████████████████████████████████████████████████| 1/1 [00:00<00:00,  2.66it/s]"
     ]
    },
    {
     "name": "stdout",
     "output_type": "stream",
     "text": [
      "1 calculation combinations to check\n",
      "1 new records to prepare\n"
     ]
    },
    {
     "name": "stderr",
     "output_type": "stream",
     "text": [
      "\n",
      "preparing: 100%|##########################################################################| 1/1 [00:00<00:00, 91.14it/s]\n"
     ]
    },
    {
     "name": "stdout",
     "output_type": "stream",
     "text": [
      "4547eccb-bee5-44b1-8f56-88ea9fd42dbf\n",
      "sim calculated successfully\n",
      "\n",
      "259.766 0.3563 258.870\n",
      "0 existing calculation records provided\n"
     ]
    },
    {
     "name": "stderr",
     "output_type": "stream",
     "text": [
      "100%|█████████████████████████████████████████████████████████████████████████████████████| 1/1 [00:00<00:00,  2.50it/s]"
     ]
    },
    {
     "name": "stdout",
     "output_type": "stream",
     "text": [
      "1 calculation combinations to check\n",
      "1 new records to prepare\n"
     ]
    },
    {
     "name": "stderr",
     "output_type": "stream",
     "text": [
      "\n",
      "preparing: 100%|##########################################################################| 1/1 [00:00<00:00, 92.36it/s]\n"
     ]
    },
    {
     "name": "stdout",
     "output_type": "stream",
     "text": [
      "30758ecf-0074-412b-82c6-72026957c420\n",
      "sim calculated successfully\n",
      "\n",
      "154.883 0.5111 154.228\n",
      "0 existing calculation records provided\n"
     ]
    },
    {
     "name": "stderr",
     "output_type": "stream",
     "text": [
      "100%|█████████████████████████████████████████████████████████████████████████████████████| 1/1 [00:00<00:00,  2.46it/s]"
     ]
    },
    {
     "name": "stdout",
     "output_type": "stream",
     "text": [
      "1 calculation combinations to check\n",
      "1 new records to prepare\n"
     ]
    },
    {
     "name": "stderr",
     "output_type": "stream",
     "text": [
      "\n",
      "preparing: 100%|##########################################################################| 1/1 [00:00<00:00, 84.44it/s]\n"
     ]
    },
    {
     "name": "stdout",
     "output_type": "stream",
     "text": [
      "58e648e2-be39-4b08-aaf5-93e73b8f4474\n",
      "sim calculated successfully\n",
      "\n",
      "154.883 0.3554 154.076\n",
      "0 existing calculation records provided\n"
     ]
    },
    {
     "name": "stderr",
     "output_type": "stream",
     "text": [
      "100%|█████████████████████████████████████████████████████████████████████████████████████| 1/1 [00:00<00:00,  2.64it/s]"
     ]
    },
    {
     "name": "stdout",
     "output_type": "stream",
     "text": [
      "1 calculation combinations to check\n",
      "1 new records to prepare\n"
     ]
    },
    {
     "name": "stderr",
     "output_type": "stream",
     "text": [
      "\n",
      "preparing: 100%|##########################################################################| 1/1 [00:00<00:00, 84.76it/s]\n"
     ]
    },
    {
     "name": "stdout",
     "output_type": "stream",
     "text": [
      "13ae632c-1f8b-4df5-90c1-65005d86f044\n",
      "sim calculated successfully\n",
      "\n",
      "102.441 0.4407 102.469\n",
      "0 existing calculation records provided\n"
     ]
    },
    {
     "name": "stderr",
     "output_type": "stream",
     "text": [
      "100%|█████████████████████████████████████████████████████████████████████████████████████| 1/1 [00:00<00:00,  2.78it/s]"
     ]
    },
    {
     "name": "stdout",
     "output_type": "stream",
     "text": [
      "1 calculation combinations to check\n",
      "1 new records to prepare\n"
     ]
    },
    {
     "name": "stderr",
     "output_type": "stream",
     "text": [
      "\n",
      "preparing: 100%|##########################################################################| 1/1 [00:00<00:00, 95.65it/s]\n"
     ]
    },
    {
     "name": "stdout",
     "output_type": "stream",
     "text": [
      "dcb561b5-87da-4e47-a1c2-edcc1df98607\n",
      "sim calculated successfully\n",
      "\n",
      "102.441 0.457 102.217\n",
      "0 existing calculation records provided\n"
     ]
    },
    {
     "name": "stderr",
     "output_type": "stream",
     "text": [
      "100%|█████████████████████████████████████████████████████████████████████████████████████| 1/1 [00:00<00:00,  4.19it/s]"
     ]
    },
    {
     "name": "stdout",
     "output_type": "stream",
     "text": [
      "1 calculation combinations to check\n",
      "1 new records to prepare\n"
     ]
    },
    {
     "name": "stderr",
     "output_type": "stream",
     "text": [
      "\n",
      "preparing: 100%|##########################################################################| 1/1 [00:00<00:00, 48.16it/s]\n"
     ]
    },
    {
     "name": "stdout",
     "output_type": "stream",
     "text": [
      "9f980f45-f109-4086-a50c-f42dcd30829d\n",
      "sim calculated successfully\n",
      "\n",
      "102.441 0.2738 102.484\n",
      "0 existing calculation records provided\n"
     ]
    },
    {
     "name": "stderr",
     "output_type": "stream",
     "text": [
      "100%|█████████████████████████████████████████████████████████████████████████████████████| 1/1 [00:00<00:00,  2.86it/s]"
     ]
    },
    {
     "name": "stdout",
     "output_type": "stream",
     "text": [
      "1 calculation combinations to check\n",
      "1 new records to prepare\n"
     ]
    },
    {
     "name": "stderr",
     "output_type": "stream",
     "text": [
      "\n",
      "preparing: 100%|##########################################################################| 1/1 [00:00<00:00, 50.63it/s]\n"
     ]
    },
    {
     "name": "stdout",
     "output_type": "stream",
     "text": [
      "c5f1eab8-bc43-414e-bcfc-d171e13298fa\n",
      "sim calculated successfully\n",
      "\n",
      "76.221 0.8569 76.051\n",
      "0 existing calculation records provided\n"
     ]
    },
    {
     "name": "stderr",
     "output_type": "stream",
     "text": [
      "100%|█████████████████████████████████████████████████████████████████████████████████████| 1/1 [00:00<00:00,  2.84it/s]"
     ]
    },
    {
     "name": "stdout",
     "output_type": "stream",
     "text": [
      "1 calculation combinations to check\n",
      "1 new records to prepare\n"
     ]
    },
    {
     "name": "stderr",
     "output_type": "stream",
     "text": [
      "\n",
      "preparing: 100%|##########################################################################| 1/1 [00:00<00:00, 86.92it/s]\n"
     ]
    },
    {
     "name": "stdout",
     "output_type": "stream",
     "text": [
      "ef25332c-0694-4b2d-ad20-08249639e5a6\n",
      "sim calculated successfully\n",
      "\n",
      "482.642 0.1682 480.273\n",
      "0 existing calculation records provided\n"
     ]
    },
    {
     "name": "stderr",
     "output_type": "stream",
     "text": [
      "100%|█████████████████████████████████████████████████████████████████████████████████████| 1/1 [00:00<00:00,  2.59it/s]"
     ]
    },
    {
     "name": "stdout",
     "output_type": "stream",
     "text": [
      "1 calculation combinations to check\n",
      "1 new records to prepare\n"
     ]
    },
    {
     "name": "stderr",
     "output_type": "stream",
     "text": [
      "\n",
      "preparing: 100%|##########################################################################| 1/1 [00:00<00:00, 89.94it/s]\n"
     ]
    },
    {
     "name": "stdout",
     "output_type": "stream",
     "text": [
      "92bc00e5-ce0a-462d-8c8c-892be0bccc80\n",
      "sim calculated successfully\n",
      "\n",
      "279.431 0.1433 277.789\n",
      "0 existing calculation records provided\n"
     ]
    },
    {
     "name": "stderr",
     "output_type": "stream",
     "text": [
      "100%|█████████████████████████████████████████████████████████████████████████████████████| 1/1 [00:00<00:00,  2.22it/s]"
     ]
    },
    {
     "name": "stdout",
     "output_type": "stream",
     "text": [
      "1 calculation combinations to check\n",
      "1 new records to prepare\n"
     ]
    },
    {
     "name": "stderr",
     "output_type": "stream",
     "text": [
      "\n",
      "preparing: 100%|##########################################################################| 1/1 [00:00<00:00, 74.08it/s]\n"
     ]
    },
    {
     "name": "stdout",
     "output_type": "stream",
     "text": [
      "bddcfe57-bd31-4ec8-b7cc-8a1f946f1596\n",
      "sim calculated successfully\n",
      "\n",
      "177.826 0.1784 177.102\n",
      "0 existing calculation records provided\n"
     ]
    },
    {
     "name": "stderr",
     "output_type": "stream",
     "text": [
      "100%|█████████████████████████████████████████████████████████████████████████████████████| 1/1 [00:00<00:00,  2.38it/s]"
     ]
    },
    {
     "name": "stdout",
     "output_type": "stream",
     "text": [
      "1 calculation combinations to check\n",
      "1 new records to prepare\n"
     ]
    },
    {
     "name": "stderr",
     "output_type": "stream",
     "text": [
      "\n",
      "preparing: 100%|##########################################################################| 1/1 [00:00<00:00, 90.46it/s]\n"
     ]
    },
    {
     "name": "stdout",
     "output_type": "stream",
     "text": [
      "f4790f61-9d4c-4063-a7f2-e04d727452b6\n",
      "sim calculated successfully\n",
      "\n",
      "127.023 0.6963 126.509\n",
      "\n",
      "40 1999--Mishin-Y--Ni--LAMMPS--ipr1\n",
      "0 existing calculation records provided\n"
     ]
    },
    {
     "name": "stderr",
     "output_type": "stream",
     "text": [
      "100%|█████████████████████████████████████████████████████████████████████████████████████| 1/1 [00:00<00:00,  2.57it/s]"
     ]
    },
    {
     "name": "stdout",
     "output_type": "stream",
     "text": [
      "1 calculation combinations to check\n",
      "1 new records to prepare\n"
     ]
    },
    {
     "name": "stderr",
     "output_type": "stream",
     "text": [
      "\n",
      "preparing: 100%|##########################################################################| 1/1 [00:00<00:00, 75.00it/s]\n"
     ]
    },
    {
     "name": "stdout",
     "output_type": "stream",
     "text": [
      "15623dff-d2fe-4389-b25f-207d69abf027\n",
      "sim calculated successfully\n",
      "\n",
      "4525.000 0.1204 3579.374\n",
      "0 existing calculation records provided\n"
     ]
    },
    {
     "name": "stderr",
     "output_type": "stream",
     "text": [
      "100%|█████████████████████████████████████████████████████████████████████████████████████| 1/1 [00:00<00:00,  4.39it/s]"
     ]
    },
    {
     "name": "stdout",
     "output_type": "stream",
     "text": [
      "1 calculation combinations to check\n",
      "1 new records to prepare\n"
     ]
    },
    {
     "name": "stderr",
     "output_type": "stream",
     "text": [
      "\n",
      "preparing: 100%|##########################################################################| 1/1 [00:00<00:00, 37.29it/s]\n"
     ]
    },
    {
     "name": "stdout",
     "output_type": "stream",
     "text": [
      "a9359d07-501e-4cc5-bdf4-a6de30c7fdab\n",
      "sim calculated successfully\n",
      "\n",
      "2287.500 0.01086 2622.783\n",
      "0 existing calculation records provided\n"
     ]
    },
    {
     "name": "stderr",
     "output_type": "stream",
     "text": [
      "100%|█████████████████████████████████████████████████████████████████████████████████████| 1/1 [00:00<00:00,  4.47it/s]"
     ]
    },
    {
     "name": "stdout",
     "output_type": "stream",
     "text": [
      "1 calculation combinations to check\n",
      "1 new records to prepare\n"
     ]
    },
    {
     "name": "stderr",
     "output_type": "stream",
     "text": [
      "\n",
      "preparing: 100%|##########################################################################| 1/1 [00:00<00:00, 41.42it/s]\n"
     ]
    },
    {
     "name": "stdout",
     "output_type": "stream",
     "text": [
      "a1fd0322-62a1-49da-aea0-63616432ddf7\n",
      "sim calculated successfully\n",
      "\n",
      "1168.750 0.006786 1297.428\n",
      "0 existing calculation records provided\n"
     ]
    },
    {
     "name": "stderr",
     "output_type": "stream",
     "text": [
      "100%|█████████████████████████████████████████████████████████████████████████████████████| 1/1 [00:00<00:00,  4.07it/s]"
     ]
    },
    {
     "name": "stdout",
     "output_type": "stream",
     "text": [
      "1 calculation combinations to check\n",
      "1 new records to prepare\n"
     ]
    },
    {
     "name": "stderr",
     "output_type": "stream",
     "text": [
      "\n",
      "preparing: 100%|##########################################################################| 1/1 [00:00<00:00, 39.77it/s]\n"
     ]
    },
    {
     "name": "stdout",
     "output_type": "stream",
     "text": [
      "42caf271-c281-4354-9683-b886e7bfc05b\n",
      "sim calculated successfully\n",
      "\n",
      "609.375 0.006114 705.312\n",
      "0 existing calculation records provided\n"
     ]
    },
    {
     "name": "stderr",
     "output_type": "stream",
     "text": [
      "100%|█████████████████████████████████████████████████████████████████████████████████████| 1/1 [00:00<00:00,  4.03it/s]"
     ]
    },
    {
     "name": "stdout",
     "output_type": "stream",
     "text": [
      "1 calculation combinations to check\n",
      "1 new records to prepare\n"
     ]
    },
    {
     "name": "stderr",
     "output_type": "stream",
     "text": [
      "\n",
      "preparing: 100%|##########################################################################| 1/1 [00:00<00:00, 37.03it/s]\n"
     ]
    },
    {
     "name": "stdout",
     "output_type": "stream",
     "text": [
      "c48378f1-9cc4-43da-964a-7cf8e91f11b1\n",
      "sim calculated successfully\n",
      "\n",
      "329.688 0.03521 466.555\n",
      "0 existing calculation records provided\n"
     ]
    },
    {
     "name": "stderr",
     "output_type": "stream",
     "text": [
      "100%|█████████████████████████████████████████████████████████████████████████████████████| 1/1 [00:00<00:00,  2.89it/s]"
     ]
    },
    {
     "name": "stdout",
     "output_type": "stream",
     "text": [
      "1 calculation combinations to check\n",
      "1 new records to prepare\n"
     ]
    },
    {
     "name": "stderr",
     "output_type": "stream",
     "text": [
      "\n",
      "preparing: 100%|##########################################################################| 1/1 [00:00<00:00, 62.13it/s]\n"
     ]
    },
    {
     "name": "stdout",
     "output_type": "stream",
     "text": [
      "9ba0b1a4-bc3e-43f1-82b2-f22991c9e5ed\n",
      "sim calculated successfully\n",
      "\n",
      "189.844 0.02717 216.641\n",
      "0 existing calculation records provided\n"
     ]
    },
    {
     "name": "stderr",
     "output_type": "stream",
     "text": [
      "100%|█████████████████████████████████████████████████████████████████████████████████████| 1/1 [00:00<00:00,  2.66it/s]"
     ]
    },
    {
     "name": "stdout",
     "output_type": "stream",
     "text": [
      "1 calculation combinations to check\n",
      "1 new records to prepare\n"
     ]
    },
    {
     "name": "stderr",
     "output_type": "stream",
     "text": [
      "\n",
      "preparing: 100%|##########################################################################| 1/1 [00:00<00:00, 63.27it/s]\n"
     ]
    },
    {
     "name": "stdout",
     "output_type": "stream",
     "text": [
      "1fbba05e-91f6-46dc-8695-a3209e86fb8a\n",
      "sim calculated successfully\n",
      "\n",
      "119.922 0.02295 135.397\n",
      "0 existing calculation records provided\n"
     ]
    },
    {
     "name": "stderr",
     "output_type": "stream",
     "text": [
      "100%|█████████████████████████████████████████████████████████████████████████████████████| 1/1 [00:00<00:00,  1.81it/s]"
     ]
    },
    {
     "name": "stdout",
     "output_type": "stream",
     "text": [
      "1 calculation combinations to check\n",
      "1 new records to prepare\n"
     ]
    },
    {
     "name": "stderr",
     "output_type": "stream",
     "text": [
      "\n",
      "preparing: 100%|##########################################################################| 1/1 [00:00<00:00, 64.95it/s]\n"
     ]
    },
    {
     "name": "stdout",
     "output_type": "stream",
     "text": [
      "e354fa8a-b36f-4879-9b13-f7fc99a7f2fc\n",
      "sim calculated successfully\n",
      "\n",
      "84.961 0.01665 93.350\n",
      "0 existing calculation records provided\n"
     ]
    },
    {
     "name": "stderr",
     "output_type": "stream",
     "text": [
      "100%|█████████████████████████████████████████████████████████████████████████████████████| 1/1 [00:00<00:00,  2.29it/s]"
     ]
    },
    {
     "name": "stdout",
     "output_type": "stream",
     "text": [
      "1 calculation combinations to check\n",
      "1 new records to prepare\n"
     ]
    },
    {
     "name": "stderr",
     "output_type": "stream",
     "text": [
      "\n",
      "preparing: 100%|##########################################################################| 1/1 [00:00<00:00, 57.19it/s]\n"
     ]
    },
    {
     "name": "stdout",
     "output_type": "stream",
     "text": [
      "69cd2c3f-2466-465f-9506-6aeb32ab8fd4\n",
      "sim calculated successfully\n",
      "\n",
      "67.480 0.01124 80.382\n",
      "0 existing calculation records provided\n"
     ]
    },
    {
     "name": "stderr",
     "output_type": "stream",
     "text": [
      "100%|█████████████████████████████████████████████████████████████████████████████████████| 1/1 [00:00<00:00,  2.57it/s]"
     ]
    },
    {
     "name": "stdout",
     "output_type": "stream",
     "text": [
      "1 calculation combinations to check\n",
      "1 new records to prepare\n"
     ]
    },
    {
     "name": "stderr",
     "output_type": "stream",
     "text": [
      "\n",
      "preparing: 100%|##########################################################################| 1/1 [00:00<00:00, 58.08it/s]\n"
     ]
    },
    {
     "name": "stdout",
     "output_type": "stream",
     "text": [
      "b842a8de-09ea-4a42-a095-2b4198ba545e\n",
      "sim calculated successfully\n",
      "\n",
      "58.740 0.3442 657.168\n",
      "0 existing calculation records provided\n"
     ]
    },
    {
     "name": "stderr",
     "output_type": "stream",
     "text": [
      "100%|█████████████████████████████████████████████████████████████████████████████████████| 1/1 [00:00<00:00,  4.36it/s]"
     ]
    },
    {
     "name": "stdout",
     "output_type": "stream",
     "text": [
      "1 calculation combinations to check\n",
      "1 new records to prepare\n"
     ]
    },
    {
     "name": "stderr",
     "output_type": "stream",
     "text": [
      "\n",
      "preparing: 100%|##########################################################################| 1/1 [00:00<00:00, 56.50it/s]\n"
     ]
    },
    {
     "name": "stdout",
     "output_type": "stream",
     "text": [
      "f0173677-bd15-47c0-8094-de187cccd223\n",
      "sim calculated successfully\n",
      "\n",
      "54.370 0.4159 533.085\n",
      "0 existing calculation records provided\n"
     ]
    },
    {
     "name": "stderr",
     "output_type": "stream",
     "text": [
      "100%|█████████████████████████████████████████████████████████████████████████████████████| 1/1 [00:00<00:00,  4.13it/s]"
     ]
    },
    {
     "name": "stdout",
     "output_type": "stream",
     "text": [
      "1 calculation combinations to check\n",
      "1 new records to prepare\n"
     ]
    },
    {
     "name": "stderr",
     "output_type": "stream",
     "text": [
      "\n",
      "preparing: 100%|##########################################################################| 1/1 [00:00<00:00, 58.60it/s]\n"
     ]
    },
    {
     "name": "stdout",
     "output_type": "stream",
     "text": [
      "fd5ac1a4-e9cc-4b3d-8312-e634a18a2a74\n",
      "sim calculated successfully\n",
      "\n",
      "54.370 0.4401 536.164\n",
      "0 existing calculation records provided\n"
     ]
    },
    {
     "name": "stderr",
     "output_type": "stream",
     "text": [
      "100%|█████████████████████████████████████████████████████████████████████████████████████| 1/1 [00:00<00:00,  4.25it/s]"
     ]
    },
    {
     "name": "stdout",
     "output_type": "stream",
     "text": [
      "1 calculation combinations to check\n",
      "1 new records to prepare\n"
     ]
    },
    {
     "name": "stderr",
     "output_type": "stream",
     "text": [
      "\n",
      "preparing: 100%|##########################################################################| 1/1 [00:00<00:00, 59.41it/s]\n"
     ]
    },
    {
     "name": "stdout",
     "output_type": "stream",
     "text": [
      "29df2d65-523d-4f5f-a37f-1a4701c9460f\n",
      "sim calculated successfully\n",
      "\n",
      "54.370 0.4406 598.042\n",
      "0 existing calculation records provided\n"
     ]
    },
    {
     "name": "stderr",
     "output_type": "stream",
     "text": [
      "100%|█████████████████████████████████████████████████████████████████████████████████████| 1/1 [00:00<00:00,  4.30it/s]"
     ]
    },
    {
     "name": "stdout",
     "output_type": "stream",
     "text": [
      "1 calculation combinations to check\n",
      "1 new records to prepare\n"
     ]
    },
    {
     "name": "stderr",
     "output_type": "stream",
     "text": [
      "\n",
      "preparing: 100%|##########################################################################| 1/1 [00:00<00:00, 36.58it/s]\n"
     ]
    },
    {
     "name": "stdout",
     "output_type": "stream",
     "text": [
      "ba29bd90-b027-4e98-8399-4054189a159b\n",
      "sim calculated successfully\n",
      "\n",
      "54.370 0.4224 520.131\n",
      "0 existing calculation records provided\n"
     ]
    },
    {
     "name": "stderr",
     "output_type": "stream",
     "text": [
      "100%|█████████████████████████████████████████████████████████████████████████████████████| 1/1 [00:00<00:00,  4.14it/s]"
     ]
    },
    {
     "name": "stdout",
     "output_type": "stream",
     "text": [
      "1 calculation combinations to check\n",
      "1 new records to prepare\n"
     ]
    },
    {
     "name": "stderr",
     "output_type": "stream",
     "text": [
      "\n",
      "preparing: 100%|##########################################################################| 1/1 [00:00<00:00, 37.14it/s]\n"
     ]
    },
    {
     "name": "stdout",
     "output_type": "stream",
     "text": [
      "a59dbc35-ce6a-407e-adeb-6b934accd963\n",
      "sim calculated successfully\n",
      "\n",
      "54.370 0.3735 515.368\n",
      "0 existing calculation records provided\n"
     ]
    },
    {
     "name": "stderr",
     "output_type": "stream",
     "text": [
      "100%|█████████████████████████████████████████████████████████████████████████████████████| 1/1 [00:00<00:00,  4.32it/s]"
     ]
    },
    {
     "name": "stdout",
     "output_type": "stream",
     "text": [
      "1 calculation combinations to check\n",
      "1 new records to prepare\n"
     ]
    },
    {
     "name": "stderr",
     "output_type": "stream",
     "text": [
      "\n",
      "preparing: 100%|##########################################################################| 1/1 [00:00<00:00, 43.63it/s]\n"
     ]
    },
    {
     "name": "stdout",
     "output_type": "stream",
     "text": [
      "376fc5f8-e9ea-4734-931c-492c31491a2d\n",
      "sim calculated successfully\n",
      "\n",
      "52.185 0.436 573.526\n",
      "0 existing calculation records provided\n"
     ]
    },
    {
     "name": "stderr",
     "output_type": "stream",
     "text": [
      "100%|█████████████████████████████████████████████████████████████████████████████████████| 1/1 [00:00<00:00,  4.37it/s]"
     ]
    },
    {
     "name": "stdout",
     "output_type": "stream",
     "text": [
      "1 calculation combinations to check\n",
      "1 new records to prepare\n"
     ]
    },
    {
     "name": "stderr",
     "output_type": "stream",
     "text": [
      "\n",
      "preparing: 100%|##########################################################################| 1/1 [00:00<00:00, 56.43it/s]\n"
     ]
    },
    {
     "name": "stdout",
     "output_type": "stream",
     "text": [
      "0265dee8-0ba5-4b03-926f-35916ba9037d\n",
      "sim calculated successfully\n",
      "\n",
      "52.185 0.4164 460.046\n",
      "0 existing calculation records provided\n"
     ]
    },
    {
     "name": "stderr",
     "output_type": "stream",
     "text": [
      "100%|█████████████████████████████████████████████████████████████████████████████████████| 1/1 [00:00<00:00,  4.35it/s]"
     ]
    },
    {
     "name": "stdout",
     "output_type": "stream",
     "text": [
      "1 calculation combinations to check\n",
      "1 new records to prepare\n"
     ]
    },
    {
     "name": "stderr",
     "output_type": "stream",
     "text": [
      "\n",
      "preparing: 100%|##########################################################################| 1/1 [00:00<00:00, 62.25it/s]\n"
     ]
    },
    {
     "name": "stdout",
     "output_type": "stream",
     "text": [
      "08bf031b-89f4-4092-b136-6af4c5fb49ba\n",
      "sim calculated successfully\n",
      "\n",
      "52.185 0.4185 576.112\n",
      "0 existing calculation records provided\n"
     ]
    },
    {
     "name": "stderr",
     "output_type": "stream",
     "text": [
      "100%|█████████████████████████████████████████████████████████████████████████████████████| 1/1 [00:00<00:00,  4.15it/s]"
     ]
    },
    {
     "name": "stdout",
     "output_type": "stream",
     "text": [
      "1 calculation combinations to check\n",
      "1 new records to prepare\n"
     ]
    },
    {
     "name": "stderr",
     "output_type": "stream",
     "text": [
      "\n",
      "preparing: 100%|##########################################################################| 1/1 [00:00<00:00, 52.82it/s]\n"
     ]
    },
    {
     "name": "stdout",
     "output_type": "stream",
     "text": [
      "8b2b1339-6bfa-408a-b8ad-0d32f2ed6ad4\n",
      "sim calculated successfully\n",
      "\n",
      "52.185 0.4303 527.236\n",
      "\n",
      "41 2000--Landa-A--Al-Pb--LAMMPS--ipr1\n",
      "0 existing calculation records provided\n"
     ]
    },
    {
     "name": "stderr",
     "output_type": "stream",
     "text": [
      "100%|█████████████████████████████████████████████████████████████████████████████████████| 1/1 [00:00<00:00,  4.18it/s]"
     ]
    },
    {
     "name": "stdout",
     "output_type": "stream",
     "text": [
      "1 calculation combinations to check\n",
      "1 new records to prepare\n"
     ]
    },
    {
     "name": "stderr",
     "output_type": "stream",
     "text": [
      "\n",
      "preparing: 100%|##########################################################################| 1/1 [00:00<00:00, 61.88it/s]\n"
     ]
    },
    {
     "name": "stdout",
     "output_type": "stream",
     "text": [
      "b802a506-93f4-4e17-a87e-1a6024370e89\n",
      "sim calculated successfully\n",
      "\n",
      "4525.000 0.1774 2693.895\n",
      "0 existing calculation records provided\n"
     ]
    },
    {
     "name": "stderr",
     "output_type": "stream",
     "text": [
      "100%|█████████████████████████████████████████████████████████████████████████████████████| 1/1 [00:00<00:00,  4.05it/s]"
     ]
    },
    {
     "name": "stdout",
     "output_type": "stream",
     "text": [
      "1 calculation combinations to check\n",
      "1 new records to prepare\n"
     ]
    },
    {
     "name": "stderr",
     "output_type": "stream",
     "text": [
      "\n",
      "preparing: 100%|##########################################################################| 1/1 [00:00<00:00, 49.12it/s]\n"
     ]
    },
    {
     "name": "stdout",
     "output_type": "stream",
     "text": [
      "0a2bf592-be51-4a49-89fe-45a83f2da463\n",
      "sim calculated successfully\n",
      "\n",
      "2287.500 0.0 2276.856\n",
      "0 existing calculation records provided\n"
     ]
    },
    {
     "name": "stderr",
     "output_type": "stream",
     "text": [
      "100%|█████████████████████████████████████████████████████████████████████████████████████| 1/1 [00:00<00:00,  4.34it/s]"
     ]
    },
    {
     "name": "stdout",
     "output_type": "stream",
     "text": [
      "1 calculation combinations to check\n",
      "1 new records to prepare\n"
     ]
    },
    {
     "name": "stderr",
     "output_type": "stream",
     "text": [
      "\n",
      "preparing: 100%|##########################################################################| 1/1 [00:00<00:00, 42.05it/s]\n"
     ]
    },
    {
     "name": "stdout",
     "output_type": "stream",
     "text": [
      "76229ac3-4a90-4f16-b97a-421962328bda\n",
      "sim calculated successfully\n",
      "\n",
      "1168.750 3.103e-05 1154.490\n",
      "0 existing calculation records provided\n"
     ]
    },
    {
     "name": "stderr",
     "output_type": "stream",
     "text": [
      "100%|█████████████████████████████████████████████████████████████████████████████████████| 1/1 [00:00<00:00,  4.38it/s]"
     ]
    },
    {
     "name": "stdout",
     "output_type": "stream",
     "text": [
      "1 calculation combinations to check\n",
      "1 new records to prepare\n"
     ]
    },
    {
     "name": "stderr",
     "output_type": "stream",
     "text": [
      "\n",
      "preparing: 100%|##########################################################################| 1/1 [00:00<00:00, 91.17it/s]\n"
     ]
    },
    {
     "name": "stdout",
     "output_type": "stream",
     "text": [
      "fdaaa99e-c768-4abf-81be-1d4d09e999a2\n",
      "sim calculated successfully\n",
      "\n",
      "609.375 0.02805 572.446\n",
      "0 existing calculation records provided\n"
     ]
    },
    {
     "name": "stderr",
     "output_type": "stream",
     "text": [
      "100%|█████████████████████████████████████████████████████████████████████████████████████| 1/1 [00:00<00:00,  4.29it/s]"
     ]
    },
    {
     "name": "stdout",
     "output_type": "stream",
     "text": [
      "1 calculation combinations to check\n",
      "1 new records to prepare\n"
     ]
    },
    {
     "name": "stderr",
     "output_type": "stream",
     "text": [
      "\n",
      "preparing: 100%|##########################################################################| 1/1 [00:00<00:00, 50.00it/s]\n"
     ]
    },
    {
     "name": "stdout",
     "output_type": "stream",
     "text": [
      "e3b8e64d-7c58-4379-85c4-185c1db73406\n",
      "sim calculated successfully\n",
      "\n",
      "329.688 0.05722 331.062\n",
      "0 existing calculation records provided\n"
     ]
    },
    {
     "name": "stderr",
     "output_type": "stream",
     "text": [
      "100%|█████████████████████████████████████████████████████████████████████████████████████| 1/1 [00:00<00:00,  4.43it/s]"
     ]
    },
    {
     "name": "stdout",
     "output_type": "stream",
     "text": [
      "1 calculation combinations to check\n",
      "1 new records to prepare\n"
     ]
    },
    {
     "name": "stderr",
     "output_type": "stream",
     "text": [
      "\n",
      "preparing: 100%|##########################################################################| 1/1 [00:00<00:00, 48.33it/s]\n"
     ]
    },
    {
     "name": "stdout",
     "output_type": "stream",
     "text": [
      "d41afd67-b17d-4f74-90cf-3cc3448aa5c7\n",
      "sim calculated successfully\n",
      "\n",
      "189.844 0.1918 189.539\n",
      "0 existing calculation records provided\n"
     ]
    },
    {
     "name": "stderr",
     "output_type": "stream",
     "text": [
      "100%|█████████████████████████████████████████████████████████████████████████████████████| 1/1 [00:00<00:00,  4.32it/s]"
     ]
    },
    {
     "name": "stdout",
     "output_type": "stream",
     "text": [
      "1 calculation combinations to check\n",
      "1 new records to prepare\n"
     ]
    },
    {
     "name": "stderr",
     "output_type": "stream",
     "text": [
      "\n",
      "preparing: 100%|##########################################################################| 1/1 [00:00<00:00, 54.55it/s]\n"
     ]
    },
    {
     "name": "stdout",
     "output_type": "stream",
     "text": [
      "24f57c03-9d43-4333-941a-8d2adb6096a2\n",
      "sim calculated successfully\n",
      "\n",
      "119.922 0.1423 120.398\n",
      "0 existing calculation records provided\n"
     ]
    },
    {
     "name": "stderr",
     "output_type": "stream",
     "text": [
      "100%|█████████████████████████████████████████████████████████████████████████████████████| 1/1 [00:00<00:00,  4.29it/s]"
     ]
    },
    {
     "name": "stdout",
     "output_type": "stream",
     "text": [
      "1 calculation combinations to check\n",
      "1 new records to prepare\n"
     ]
    },
    {
     "name": "stderr",
     "output_type": "stream",
     "text": [
      "\n",
      "preparing: 100%|##########################################################################| 1/1 [00:00<00:00, 94.20it/s]\n"
     ]
    },
    {
     "name": "stdout",
     "output_type": "stream",
     "text": [
      "8ee0fab0-3f3a-4365-8819-dc14295754f8\n",
      "sim calculated successfully\n",
      "\n",
      "84.961 0.02521 86.341\n",
      "0 existing calculation records provided\n"
     ]
    },
    {
     "name": "stderr",
     "output_type": "stream",
     "text": [
      "100%|█████████████████████████████████████████████████████████████████████████████████████| 1/1 [00:00<00:00,  4.33it/s]"
     ]
    },
    {
     "name": "stdout",
     "output_type": "stream",
     "text": [
      "1 calculation combinations to check\n",
      "1 new records to prepare\n"
     ]
    },
    {
     "name": "stderr",
     "output_type": "stream",
     "text": [
      "\n",
      "preparing: 100%|##########################################################################| 1/1 [00:00<00:00, 41.66it/s]\n"
     ]
    },
    {
     "name": "stdout",
     "output_type": "stream",
     "text": [
      "4ed93e3b-f7a5-4a36-a07f-a7011e530fe9\n",
      "sim calculated successfully\n",
      "\n",
      "67.480 0.02077 68.590\n",
      "0 existing calculation records provided\n"
     ]
    },
    {
     "name": "stderr",
     "output_type": "stream",
     "text": [
      "100%|█████████████████████████████████████████████████████████████████████████████████████| 1/1 [00:00<00:00,  2.44it/s]"
     ]
    },
    {
     "name": "stdout",
     "output_type": "stream",
     "text": [
      "1 calculation combinations to check\n",
      "1 new records to prepare\n"
     ]
    },
    {
     "name": "stderr",
     "output_type": "stream",
     "text": [
      "\n",
      "preparing: 100%|##########################################################################| 1/1 [00:00<00:00, 81.16it/s]\n"
     ]
    },
    {
     "name": "stdout",
     "output_type": "stream",
     "text": [
      "d2410b61-0fdb-472d-a93e-03911e8e6a52\n",
      "sim calculated successfully\n",
      "\n",
      "58.740 0.01752 56.223\n",
      "0 existing calculation records provided\n"
     ]
    },
    {
     "name": "stderr",
     "output_type": "stream",
     "text": [
      "100%|█████████████████████████████████████████████████████████████████████████████████████| 1/1 [00:00<00:00,  4.03it/s]"
     ]
    },
    {
     "name": "stdout",
     "output_type": "stream",
     "text": [
      "1 calculation combinations to check\n",
      "1 new records to prepare\n"
     ]
    },
    {
     "name": "stderr",
     "output_type": "stream",
     "text": [
      "\n",
      "preparing: 100%|##########################################################################| 1/1 [00:00<00:00, 93.54it/s]\n"
     ]
    },
    {
     "name": "stdout",
     "output_type": "stream",
     "text": [
      "8527118d-228a-4176-a556-1fe891aff9ef\n",
      "sim calculated successfully\n",
      "\n",
      "54.370 0.01827 55.846\n",
      "0 existing calculation records provided\n"
     ]
    },
    {
     "name": "stderr",
     "output_type": "stream",
     "text": [
      "100%|█████████████████████████████████████████████████████████████████████████████████████| 1/1 [00:00<00:00,  2.25it/s]"
     ]
    },
    {
     "name": "stdout",
     "output_type": "stream",
     "text": [
      "1 calculation combinations to check\n",
      "1 new records to prepare\n"
     ]
    },
    {
     "name": "stderr",
     "output_type": "stream",
     "text": [
      "\n",
      "preparing: 100%|##########################################################################| 1/1 [00:00<00:00, 49.71it/s]\n"
     ]
    },
    {
     "name": "stdout",
     "output_type": "stream",
     "text": [
      "ab49a78a-8ce4-460f-8104-afb635c30d37\n",
      "sim calculated successfully\n",
      "\n",
      "52.185 0.01735 54.335\n",
      "0 existing calculation records provided\n"
     ]
    },
    {
     "name": "stderr",
     "output_type": "stream",
     "text": [
      "100%|█████████████████████████████████████████████████████████████████████████████████████| 1/1 [00:00<00:00,  4.90it/s]"
     ]
    },
    {
     "name": "stdout",
     "output_type": "stream",
     "text": [
      "1 calculation combinations to check\n",
      "1 new records to prepare\n"
     ]
    },
    {
     "name": "stderr",
     "output_type": "stream",
     "text": [
      "\n",
      "preparing: 100%|##########################################################################| 1/1 [00:00<00:00, 63.94it/s]\n"
     ]
    },
    {
     "name": "stdout",
     "output_type": "stream",
     "text": [
      "76347faa-a9c9-4302-a1b0-1c8dd1c9b80c\n",
      "sim calculated successfully\n",
      "\n",
      "51.093 0.01736 52.735\n",
      "0 existing calculation records provided\n"
     ]
    },
    {
     "name": "stderr",
     "output_type": "stream",
     "text": [
      "100%|█████████████████████████████████████████████████████████████████████████████████████| 1/1 [00:00<00:00,  2.63it/s]"
     ]
    },
    {
     "name": "stdout",
     "output_type": "stream",
     "text": [
      "1 calculation combinations to check\n",
      "1 new records to prepare\n"
     ]
    },
    {
     "name": "stderr",
     "output_type": "stream",
     "text": [
      "\n",
      "preparing: 100%|##########################################################################| 1/1 [00:00<00:00, 48.86it/s]\n"
     ]
    },
    {
     "name": "stdout",
     "output_type": "stream",
     "text": [
      "f7775627-3ff0-43ed-843c-f4d767ba8321\n",
      "sim calculated successfully\n",
      "\n",
      "50.546 0.0154 52.373\n",
      "0 existing calculation records provided\n"
     ]
    },
    {
     "name": "stderr",
     "output_type": "stream",
     "text": [
      "100%|█████████████████████████████████████████████████████████████████████████████████████| 1/1 [00:00<00:00,  4.51it/s]"
     ]
    },
    {
     "name": "stdout",
     "output_type": "stream",
     "text": [
      "1 calculation combinations to check\n",
      "1 new records to prepare\n"
     ]
    },
    {
     "name": "stderr",
     "output_type": "stream",
     "text": [
      "\n",
      "preparing: 100%|##########################################################################| 1/1 [00:00<00:00, 83.60it/s]\n"
     ]
    },
    {
     "name": "stdout",
     "output_type": "stream",
     "text": [
      "d986c416-4e76-4d6e-9c2b-28a79f3e1f6d\n",
      "sim calculated successfully\n",
      "\n",
      "50.273 0.01656 52.213\n",
      "0 existing calculation records provided\n"
     ]
    },
    {
     "name": "stderr",
     "output_type": "stream",
     "text": [
      "100%|█████████████████████████████████████████████████████████████████████████████████████| 1/1 [00:00<00:00,  4.44it/s]"
     ]
    },
    {
     "name": "stdout",
     "output_type": "stream",
     "text": [
      "1 calculation combinations to check\n",
      "1 new records to prepare\n"
     ]
    },
    {
     "name": "stderr",
     "output_type": "stream",
     "text": [
      "\n",
      "preparing: 100%|##########################################################################| 1/1 [00:00<00:00, 85.64it/s]\n"
     ]
    },
    {
     "name": "stdout",
     "output_type": "stream",
     "text": [
      "160053c2-924e-4a2b-89b6-f88cc7ffa9b3\n",
      "sim calculated successfully\n",
      "\n",
      "50.137 0.01657 52.165\n",
      "0 existing calculation records provided\n"
     ]
    },
    {
     "name": "stderr",
     "output_type": "stream",
     "text": [
      "100%|█████████████████████████████████████████████████████████████████████████████████████| 1/1 [00:00<00:00,  4.39it/s]"
     ]
    },
    {
     "name": "stdout",
     "output_type": "stream",
     "text": [
      "1 calculation combinations to check\n",
      "1 new records to prepare\n"
     ]
    },
    {
     "name": "stderr",
     "output_type": "stream",
     "text": [
      "\n",
      "preparing: 100%|##########################################################################| 1/1 [00:00<00:00, 86.68it/s]\n"
     ]
    },
    {
     "name": "stdout",
     "output_type": "stream",
     "text": [
      "5df7d9b0-3a28-4219-9eb1-3a80c7966d03\n",
      "sim calculated successfully\n",
      "\n",
      "50.068 0.015 51.888\n",
      "0 existing calculation records provided\n"
     ]
    },
    {
     "name": "stderr",
     "output_type": "stream",
     "text": [
      "100%|█████████████████████████████████████████████████████████████████████████████████████| 1/1 [00:00<00:00,  4.36it/s]"
     ]
    },
    {
     "name": "stdout",
     "output_type": "stream",
     "text": [
      "1 calculation combinations to check\n",
      "1 new records to prepare\n"
     ]
    },
    {
     "name": "stderr",
     "output_type": "stream",
     "text": [
      "\n",
      "preparing: 100%|##########################################################################| 1/1 [00:00<00:00, 87.20it/s]\n"
     ]
    },
    {
     "name": "stdout",
     "output_type": "stream",
     "text": [
      "d204a86e-bb10-4f42-83be-2ed13b3ed80d\n",
      "sim calculated successfully\n",
      "\n",
      "50.034 0.0152 51.840\n",
      "0 existing calculation records provided\n"
     ]
    },
    {
     "name": "stderr",
     "output_type": "stream",
     "text": [
      "100%|█████████████████████████████████████████████████████████████████████████████████████| 1/1 [00:00<00:00,  4.36it/s]"
     ]
    },
    {
     "name": "stdout",
     "output_type": "stream",
     "text": [
      "1 calculation combinations to check\n",
      "1 new records to prepare\n"
     ]
    },
    {
     "name": "stderr",
     "output_type": "stream",
     "text": [
      "\n",
      "preparing: 100%|##########################################################################| 1/1 [00:00<00:00, 79.80it/s]\n"
     ]
    },
    {
     "name": "stdout",
     "output_type": "stream",
     "text": [
      "20a700b2-072e-49d5-9779-aff3c6a10ab2\n",
      "sim calculated successfully\n",
      "\n",
      "50.017 0.01608 51.784\n",
      "0 existing calculation records provided\n"
     ]
    },
    {
     "name": "stderr",
     "output_type": "stream",
     "text": [
      "100%|█████████████████████████████████████████████████████████████████████████████████████| 1/1 [00:00<00:00,  4.35it/s]"
     ]
    },
    {
     "name": "stdout",
     "output_type": "stream",
     "text": [
      "1 calculation combinations to check\n",
      "1 new records to prepare\n"
     ]
    },
    {
     "name": "stderr",
     "output_type": "stream",
     "text": [
      "\n",
      "preparing: 100%|##########################################################################| 1/1 [00:00<00:00, 72.31it/s]\n"
     ]
    },
    {
     "name": "stdout",
     "output_type": "stream",
     "text": [
      "62a8e8be-160b-4e64-bfc5-cb3a3ad684b7\n",
      "sim calculated successfully\n",
      "\n",
      "50.009 0.01598 51.945\n",
      "0 existing calculation records provided\n"
     ]
    },
    {
     "name": "stderr",
     "output_type": "stream",
     "text": [
      "100%|█████████████████████████████████████████████████████████████████████████████████████| 1/1 [00:00<00:00,  4.30it/s]"
     ]
    },
    {
     "name": "stdout",
     "output_type": "stream",
     "text": [
      "1 calculation combinations to check\n",
      "1 new records to prepare\n"
     ]
    },
    {
     "name": "stderr",
     "output_type": "stream",
     "text": [
      "\n",
      "preparing: 100%|##########################################################################| 1/1 [00:00<00:00, 44.92it/s]\n"
     ]
    },
    {
     "name": "stdout",
     "output_type": "stream",
     "text": [
      "69e5b484-c140-46e8-b5e7-5163e11c6134\n",
      "sim calculated successfully\n",
      "\n",
      "50.004 0.01544 51.790\n",
      "0 existing calculation records provided\n"
     ]
    },
    {
     "name": "stderr",
     "output_type": "stream",
     "text": [
      "100%|█████████████████████████████████████████████████████████████████████████████████████| 1/1 [00:00<00:00,  4.38it/s]"
     ]
    },
    {
     "name": "stdout",
     "output_type": "stream",
     "text": [
      "1 calculation combinations to check\n",
      "1 new records to prepare\n"
     ]
    },
    {
     "name": "stderr",
     "output_type": "stream",
     "text": [
      "\n",
      "preparing: 100%|##########################################################################| 1/1 [00:00<00:00, 72.33it/s]\n"
     ]
    },
    {
     "name": "stdout",
     "output_type": "stream",
     "text": [
      "b03ebe18-9941-44ea-9c59-325959ce6d5d\n",
      "sim calculated successfully\n",
      "\n",
      "50.002 0.01676 51.672\n",
      "0 existing calculation records provided\n"
     ]
    },
    {
     "name": "stderr",
     "output_type": "stream",
     "text": [
      "100%|█████████████████████████████████████████████████████████████████████████████████████| 1/1 [00:00<00:00,  4.39it/s]"
     ]
    },
    {
     "name": "stdout",
     "output_type": "stream",
     "text": [
      "1 calculation combinations to check\n",
      "1 new records to prepare\n"
     ]
    },
    {
     "name": "stderr",
     "output_type": "stream",
     "text": [
      "\n",
      "preparing: 100%|##########################################################################| 1/1 [00:00<00:00, 66.86it/s]\n"
     ]
    },
    {
     "name": "stdout",
     "output_type": "stream",
     "text": [
      "59b511b3-b957-4e45-9f44-00c7c3b00792\n",
      "sim calculated successfully\n",
      "\n",
      "50.001 0.01543 51.631\n",
      "0 existing calculation records provided\n"
     ]
    },
    {
     "name": "stderr",
     "output_type": "stream",
     "text": [
      "100%|█████████████████████████████████████████████████████████████████████████████████████| 1/1 [00:00<00:00,  4.12it/s]"
     ]
    },
    {
     "name": "stdout",
     "output_type": "stream",
     "text": [
      "1 calculation combinations to check\n",
      "1 new records to prepare\n"
     ]
    },
    {
     "name": "stderr",
     "output_type": "stream",
     "text": [
      "\n",
      "preparing: 100%|##########################################################################| 1/1 [00:00<00:00, 85.32it/s]\n"
     ]
    },
    {
     "name": "stdout",
     "output_type": "stream",
     "text": [
      "9f84f6cc-5e0c-4053-b061-cf4d41d274d9\n",
      "sim calculated successfully\n",
      "\n",
      "50.001 0.01599 51.617\n",
      "0 existing calculation records provided\n"
     ]
    },
    {
     "name": "stderr",
     "output_type": "stream",
     "text": [
      "100%|█████████████████████████████████████████████████████████████████████████████████████| 1/1 [00:00<00:00,  4.01it/s]"
     ]
    },
    {
     "name": "stdout",
     "output_type": "stream",
     "text": [
      "1 calculation combinations to check\n",
      "1 new records to prepare\n"
     ]
    },
    {
     "name": "stderr",
     "output_type": "stream",
     "text": [
      "\n",
      "preparing: 100%|##########################################################################| 1/1 [00:00<00:00, 77.48it/s]\n"
     ]
    },
    {
     "name": "stdout",
     "output_type": "stream",
     "text": [
      "206b398a-8d22-4303-aced-568d0007dbc0\n",
      "sim calculated successfully\n",
      "\n",
      "50.000 0.01481 51.618\n",
      "0 existing calculation records provided\n"
     ]
    },
    {
     "name": "stderr",
     "output_type": "stream",
     "text": [
      "100%|█████████████████████████████████████████████████████████████████████████████████████| 1/1 [00:00<00:00,  4.27it/s]"
     ]
    },
    {
     "name": "stdout",
     "output_type": "stream",
     "text": [
      "1 calculation combinations to check\n",
      "1 new records to prepare\n"
     ]
    },
    {
     "name": "stderr",
     "output_type": "stream",
     "text": [
      "\n",
      "preparing: 100%|##########################################################################| 1/1 [00:00<00:00, 89.47it/s]\n"
     ]
    },
    {
     "name": "stdout",
     "output_type": "stream",
     "text": [
      "59dbad4e-f665-41ae-aa25-02a6b4423f40\n",
      "sim calculated successfully\n",
      "\n",
      "50.000 0.01608 51.623\n",
      "0 existing calculation records provided\n"
     ]
    },
    {
     "name": "stderr",
     "output_type": "stream",
     "text": [
      "100%|█████████████████████████████████████████████████████████████████████████████████████| 1/1 [00:00<00:00,  2.31it/s]"
     ]
    },
    {
     "name": "stdout",
     "output_type": "stream",
     "text": [
      "1 calculation combinations to check\n",
      "1 new records to prepare\n"
     ]
    },
    {
     "name": "stderr",
     "output_type": "stream",
     "text": [
      "\n",
      "preparing: 100%|##########################################################################| 1/1 [00:00<00:00, 79.34it/s]\n"
     ]
    },
    {
     "name": "stdout",
     "output_type": "stream",
     "text": [
      "646b59f0-1cae-47af-9c23-8dec8265180a\n",
      "sim calculated successfully\n",
      "\n",
      "50.000 0.01635 51.599\n",
      "0 existing calculation records provided\n"
     ]
    },
    {
     "name": "stderr",
     "output_type": "stream",
     "text": [
      "100%|█████████████████████████████████████████████████████████████████████████████████████| 1/1 [00:00<00:00,  2.29it/s]"
     ]
    },
    {
     "name": "stdout",
     "output_type": "stream",
     "text": [
      "1 calculation combinations to check\n",
      "1 new records to prepare\n"
     ]
    },
    {
     "name": "stderr",
     "output_type": "stream",
     "text": [
      "\n",
      "preparing: 100%|##########################################################################| 1/1 [00:00<00:00, 81.69it/s]\n"
     ]
    },
    {
     "name": "stdout",
     "output_type": "stream",
     "text": [
      "8c47c561-fbf6-47a5-bc9a-4cad8b578c97\n",
      "sim calculated successfully\n",
      "\n",
      "50.000 0.01578 51.627\n",
      "0 existing calculation records provided\n"
     ]
    },
    {
     "name": "stderr",
     "output_type": "stream",
     "text": [
      "100%|█████████████████████████████████████████████████████████████████████████████████████| 1/1 [00:00<00:00,  4.64it/s]"
     ]
    },
    {
     "name": "stdout",
     "output_type": "stream",
     "text": [
      "1 calculation combinations to check\n",
      "1 new records to prepare\n"
     ]
    },
    {
     "name": "stderr",
     "output_type": "stream",
     "text": [
      "\n",
      "preparing: 100%|##########################################################################| 1/1 [00:00<00:00, 89.97it/s]\n"
     ]
    },
    {
     "name": "stdout",
     "output_type": "stream",
     "text": [
      "e855ec0b-c05c-4464-af4a-ad54617f1b14\n",
      "sim calculated successfully\n",
      "\n",
      "50.000 0.01583 51.599\n",
      "0 existing calculation records provided\n"
     ]
    },
    {
     "name": "stderr",
     "output_type": "stream",
     "text": [
      "100%|█████████████████████████████████████████████████████████████████████████████████████| 1/1 [00:00<00:00,  2.83it/s]"
     ]
    },
    {
     "name": "stdout",
     "output_type": "stream",
     "text": [
      "1 calculation combinations to check\n",
      "1 new records to prepare\n"
     ]
    },
    {
     "name": "stderr",
     "output_type": "stream",
     "text": [
      "\n",
      "preparing: 100%|##########################################################################| 1/1 [00:00<00:00, 44.93it/s]\n"
     ]
    },
    {
     "name": "stdout",
     "output_type": "stream",
     "text": [
      "9facd64d-cfca-4638-849f-bb4f6ea378e9\n",
      "sim calculated successfully\n",
      "\n",
      "50.000 0.01682 51.616\n",
      "0 existing calculation records provided\n"
     ]
    },
    {
     "name": "stderr",
     "output_type": "stream",
     "text": [
      "100%|█████████████████████████████████████████████████████████████████████████████████████| 1/1 [00:00<00:00,  3.78it/s]"
     ]
    },
    {
     "name": "stdout",
     "output_type": "stream",
     "text": [
      "1 calculation combinations to check\n",
      "1 new records to prepare\n"
     ]
    },
    {
     "name": "stderr",
     "output_type": "stream",
     "text": [
      "\n",
      "preparing: 100%|##########################################################################| 1/1 [00:00<00:00, 49.84it/s]\n"
     ]
    },
    {
     "name": "stdout",
     "output_type": "stream",
     "text": [
      "5372b4e2-69d2-4228-82ba-8c6a2cc79493\n",
      "sim calculated successfully\n",
      "\n",
      "50.000 0.01702 51.613\n",
      "0 existing calculation records provided\n"
     ]
    },
    {
     "name": "stderr",
     "output_type": "stream",
     "text": [
      "100%|█████████████████████████████████████████████████████████████████████████████████████| 1/1 [00:00<00:00,  3.96it/s]"
     ]
    },
    {
     "name": "stdout",
     "output_type": "stream",
     "text": [
      "1 calculation combinations to check\n",
      "1 new records to prepare\n"
     ]
    },
    {
     "name": "stderr",
     "output_type": "stream",
     "text": [
      "\n",
      "preparing: 100%|##########################################################################| 1/1 [00:00<00:00, 88.02it/s]\n"
     ]
    },
    {
     "name": "stdout",
     "output_type": "stream",
     "text": [
      "a18991fd-fc77-479e-8a3e-9d98fb6b1444\n",
      "sim calculated successfully\n",
      "\n",
      "50.000 0.01504 51.615\n",
      "0 existing calculation records provided\n"
     ]
    },
    {
     "name": "stderr",
     "output_type": "stream",
     "text": [
      "100%|█████████████████████████████████████████████████████████████████████████████████████| 1/1 [00:00<00:00,  4.62it/s]"
     ]
    },
    {
     "name": "stdout",
     "output_type": "stream",
     "text": [
      "1 calculation combinations to check\n",
      "1 new records to prepare\n"
     ]
    },
    {
     "name": "stderr",
     "output_type": "stream",
     "text": [
      "\n",
      "preparing: 100%|##########################################################################| 1/1 [00:00<00:00, 52.00it/s]\n"
     ]
    },
    {
     "name": "stdout",
     "output_type": "stream",
     "text": [
      "48747a24-e25e-41b2-a420-4d304409d96b\n",
      "sim calculated successfully\n",
      "\n",
      "50.000 0.01611 51.620\n",
      "0 existing calculation records provided\n"
     ]
    },
    {
     "name": "stderr",
     "output_type": "stream",
     "text": [
      "100%|█████████████████████████████████████████████████████████████████████████████████████| 1/1 [00:00<00:00,  3.00it/s]"
     ]
    },
    {
     "name": "stdout",
     "output_type": "stream",
     "text": [
      "1 calculation combinations to check\n",
      "1 new records to prepare\n"
     ]
    },
    {
     "name": "stderr",
     "output_type": "stream",
     "text": [
      "\n",
      "preparing: 100%|##########################################################################| 1/1 [00:00<00:00, 82.61it/s]\n"
     ]
    },
    {
     "name": "stdout",
     "output_type": "stream",
     "text": [
      "9af8d14d-56cd-47a8-b9b4-fb2dd1f694d4\n",
      "sim calculated successfully\n",
      "\n",
      "50.000 0.01664 51.612\n",
      "0 existing calculation records provided\n"
     ]
    },
    {
     "name": "stderr",
     "output_type": "stream",
     "text": [
      "100%|█████████████████████████████████████████████████████████████████████████████████████| 1/1 [00:00<00:00,  2.40it/s]"
     ]
    },
    {
     "name": "stdout",
     "output_type": "stream",
     "text": [
      "1 calculation combinations to check\n",
      "1 new records to prepare\n"
     ]
    },
    {
     "name": "stderr",
     "output_type": "stream",
     "text": [
      "\n",
      "preparing: 100%|##########################################################################| 1/1 [00:00<00:00, 51.24it/s]\n"
     ]
    },
    {
     "name": "stdout",
     "output_type": "stream",
     "text": [
      "c85c7060-a4a7-4e56-b718-7bae278c4460\n",
      "sim calculated successfully\n",
      "\n",
      "50.000 0.01598 51.581\n",
      "Max number of runs reached!\n",
      "\n",
      "42 2000--Sturgeon-J-B--Al--LAMMPS--ipr1\n",
      "0 existing calculation records provided\n"
     ]
    },
    {
     "name": "stderr",
     "output_type": "stream",
     "text": [
      "100%|█████████████████████████████████████████████████████████████████████████████████████| 1/1 [00:00<00:00,  4.25it/s]"
     ]
    },
    {
     "name": "stdout",
     "output_type": "stream",
     "text": [
      "1 calculation combinations to check\n",
      "1 new records to prepare\n"
     ]
    },
    {
     "name": "stderr",
     "output_type": "stream",
     "text": [
      "\n",
      "preparing: 100%|##########################################################################| 1/1 [00:00<00:00, 48.95it/s]\n"
     ]
    },
    {
     "name": "stdout",
     "output_type": "stream",
     "text": [
      "db4fb8e1-d8b3-4e0a-85ca-769be5599601\n",
      "sim calculated successfully\n",
      "\n",
      "4525.000 0.007303 1432.138\n",
      "0 existing calculation records provided\n"
     ]
    },
    {
     "name": "stderr",
     "output_type": "stream",
     "text": [
      "100%|█████████████████████████████████████████████████████████████████████████████████████| 1/1 [00:00<00:00,  2.53it/s]"
     ]
    },
    {
     "name": "stdout",
     "output_type": "stream",
     "text": [
      "1 calculation combinations to check\n",
      "1 new records to prepare\n"
     ]
    },
    {
     "name": "stderr",
     "output_type": "stream",
     "text": [
      "\n",
      "preparing: 100%|##########################################################################| 1/1 [00:00<00:00, 71.38it/s]\n"
     ]
    },
    {
     "name": "stdout",
     "output_type": "stream",
     "text": [
      "c486caa9-c5cd-4a95-92b8-1839af08b2c5\n",
      "sim calculated successfully\n",
      "\n",
      "2287.500 0.0 2396.664\n",
      "0 existing calculation records provided\n"
     ]
    },
    {
     "name": "stderr",
     "output_type": "stream",
     "text": [
      "100%|█████████████████████████████████████████████████████████████████████████████████████| 1/1 [00:00<00:00,  2.33it/s]"
     ]
    },
    {
     "name": "stdout",
     "output_type": "stream",
     "text": [
      "1 calculation combinations to check\n",
      "1 new records to prepare\n"
     ]
    },
    {
     "name": "stderr",
     "output_type": "stream",
     "text": [
      "\n",
      "preparing: 100%|##########################################################################| 1/1 [00:00<00:00, 74.22it/s]\n"
     ]
    },
    {
     "name": "stdout",
     "output_type": "stream",
     "text": [
      "40285b01-770c-422c-920c-50fe3afd9173\n",
      "sim calculated successfully\n",
      "\n",
      "1168.750 6.207e-05 1222.999\n",
      "0 existing calculation records provided\n"
     ]
    },
    {
     "name": "stderr",
     "output_type": "stream",
     "text": [
      "100%|█████████████████████████████████████████████████████████████████████████████████████| 1/1 [00:00<00:00,  2.38it/s]"
     ]
    },
    {
     "name": "stdout",
     "output_type": "stream",
     "text": [
      "1 calculation combinations to check\n",
      "1 new records to prepare\n"
     ]
    },
    {
     "name": "stderr",
     "output_type": "stream",
     "text": [
      "\n",
      "preparing: 100%|##########################################################################| 1/1 [00:00<00:00, 68.40it/s]\n"
     ]
    },
    {
     "name": "stdout",
     "output_type": "stream",
     "text": [
      "2acd3a87-2b1e-4697-a80c-4dfa2e2b8209\n",
      "sim calculated successfully\n",
      "\n",
      "609.375 0.05048 864.017\n",
      "0 existing calculation records provided\n"
     ]
    },
    {
     "name": "stderr",
     "output_type": "stream",
     "text": [
      "100%|█████████████████████████████████████████████████████████████████████████████████████| 1/1 [00:00<00:00,  3.40it/s]"
     ]
    },
    {
     "name": "stdout",
     "output_type": "stream",
     "text": [
      "1 calculation combinations to check\n",
      "1 new records to prepare\n"
     ]
    },
    {
     "name": "stderr",
     "output_type": "stream",
     "text": [
      "\n",
      "preparing: 100%|##########################################################################| 1/1 [00:00<00:00, 65.30it/s]\n"
     ]
    },
    {
     "name": "stdout",
     "output_type": "stream",
     "text": [
      "d900a7eb-71cb-47fb-a9bc-e6c3080b16dd\n",
      "sim calculated successfully\n",
      "\n",
      "329.688 0.1903 403.315\n",
      "0 existing calculation records provided\n"
     ]
    },
    {
     "name": "stderr",
     "output_type": "stream",
     "text": [
      "100%|█████████████████████████████████████████████████████████████████████████████████████| 1/1 [00:00<00:00,  2.74it/s]"
     ]
    },
    {
     "name": "stdout",
     "output_type": "stream",
     "text": [
      "1 calculation combinations to check\n",
      "1 new records to prepare\n"
     ]
    },
    {
     "name": "stderr",
     "output_type": "stream",
     "text": [
      "\n",
      "preparing: 100%|##########################################################################| 1/1 [00:00<00:00, 38.72it/s]\n"
     ]
    },
    {
     "name": "stdout",
     "output_type": "stream",
     "text": [
      "3ac5bd90-d21b-4910-b568-e0caedc5f0f0\n",
      "sim calculated successfully\n",
      "\n",
      "189.844 0.1371 229.648\n",
      "0 existing calculation records provided\n"
     ]
    },
    {
     "name": "stderr",
     "output_type": "stream",
     "text": [
      "100%|█████████████████████████████████████████████████████████████████████████████████████| 1/1 [00:00<00:00,  2.16it/s]"
     ]
    },
    {
     "name": "stdout",
     "output_type": "stream",
     "text": [
      "1 calculation combinations to check\n",
      "1 new records to prepare\n"
     ]
    },
    {
     "name": "stderr",
     "output_type": "stream",
     "text": [
      "\n",
      "preparing: 100%|##########################################################################| 1/1 [00:00<00:00, 44.22it/s]\n"
     ]
    },
    {
     "name": "stdout",
     "output_type": "stream",
     "text": [
      "ba22aefa-3d3e-4c44-9119-5611815ab926\n",
      "sim calculated successfully\n",
      "\n",
      "119.922 0.07403 137.648\n",
      "0 existing calculation records provided\n"
     ]
    },
    {
     "name": "stderr",
     "output_type": "stream",
     "text": [
      "100%|█████████████████████████████████████████████████████████████████████████████████████| 1/1 [00:00<00:00,  4.19it/s]"
     ]
    },
    {
     "name": "stdout",
     "output_type": "stream",
     "text": [
      "1 calculation combinations to check\n",
      "1 new records to prepare\n"
     ]
    },
    {
     "name": "stderr",
     "output_type": "stream",
     "text": [
      "\n",
      "preparing: 100%|##########################################################################| 1/1 [00:00<00:00, 60.27it/s]\n"
     ]
    },
    {
     "name": "stdout",
     "output_type": "stream",
     "text": [
      "c55d7188-8598-4b8b-a1da-d16c0a4c9c77\n",
      "sim calculated successfully\n",
      "\n",
      "84.961 0.05911 97.907\n",
      "0 existing calculation records provided\n"
     ]
    },
    {
     "name": "stderr",
     "output_type": "stream",
     "text": [
      "100%|█████████████████████████████████████████████████████████████████████████████████████| 1/1 [00:00<00:00,  2.21it/s]"
     ]
    },
    {
     "name": "stdout",
     "output_type": "stream",
     "text": [
      "1 calculation combinations to check\n",
      "1 new records to prepare\n"
     ]
    },
    {
     "name": "stderr",
     "output_type": "stream",
     "text": [
      "\n",
      "preparing: 100%|##########################################################################| 1/1 [00:00<00:00, 56.73it/s]\n"
     ]
    },
    {
     "name": "stdout",
     "output_type": "stream",
     "text": [
      "cae80c0a-4ac7-4bf6-b878-63c0fa0a0020\n",
      "sim calculated successfully\n",
      "\n",
      "67.480 0.05235 74.833\n",
      "0 existing calculation records provided\n"
     ]
    },
    {
     "name": "stderr",
     "output_type": "stream",
     "text": [
      "100%|█████████████████████████████████████████████████████████████████████████████████████| 1/1 [00:00<00:00,  4.15it/s]"
     ]
    },
    {
     "name": "stdout",
     "output_type": "stream",
     "text": [
      "1 calculation combinations to check\n",
      "1 new records to prepare\n"
     ]
    },
    {
     "name": "stderr",
     "output_type": "stream",
     "text": [
      "\n",
      "preparing: 100%|##########################################################################| 1/1 [00:00<00:00, 49.74it/s]\n"
     ]
    },
    {
     "name": "stdout",
     "output_type": "stream",
     "text": [
      "334ff2c1-4c52-4ca0-a581-f81a07f9cfd7\n",
      "sim calculated successfully\n",
      "\n",
      "58.740 0.01988 62.444\n",
      "0 existing calculation records provided\n"
     ]
    },
    {
     "name": "stderr",
     "output_type": "stream",
     "text": [
      "100%|█████████████████████████████████████████████████████████████████████████████████████| 1/1 [00:00<00:00,  2.23it/s]"
     ]
    },
    {
     "name": "stdout",
     "output_type": "stream",
     "text": [
      "1 calculation combinations to check\n",
      "1 new records to prepare\n"
     ]
    },
    {
     "name": "stderr",
     "output_type": "stream",
     "text": [
      "\n",
      "preparing: 100%|##########################################################################| 1/1 [00:00<00:00, 63.45it/s]\n"
     ]
    },
    {
     "name": "stdout",
     "output_type": "stream",
     "text": [
      "bf625ee3-b02b-4428-b7c8-ef91cb7aabef\n",
      "sim calculated successfully\n",
      "\n",
      "54.370 0.02592 59.796\n",
      "0 existing calculation records provided\n"
     ]
    },
    {
     "name": "stderr",
     "output_type": "stream",
     "text": [
      "100%|█████████████████████████████████████████████████████████████████████████████████████| 1/1 [00:00<00:00,  4.60it/s]"
     ]
    },
    {
     "name": "stdout",
     "output_type": "stream",
     "text": [
      "1 calculation combinations to check\n",
      "1 new records to prepare\n"
     ]
    },
    {
     "name": "stderr",
     "output_type": "stream",
     "text": [
      "\n",
      "preparing: 100%|##########################################################################| 1/1 [00:00<00:00, 56.85it/s]\n"
     ]
    },
    {
     "name": "stdout",
     "output_type": "stream",
     "text": [
      "42470906-8cd0-49e1-b4dc-388d5d576519\n",
      "sim calculated successfully\n",
      "\n",
      "52.185 0.03336 57.042\n",
      "0 existing calculation records provided\n"
     ]
    },
    {
     "name": "stderr",
     "output_type": "stream",
     "text": [
      "100%|█████████████████████████████████████████████████████████████████████████████████████| 1/1 [00:00<00:00,  2.27it/s]"
     ]
    },
    {
     "name": "stdout",
     "output_type": "stream",
     "text": [
      "1 calculation combinations to check\n",
      "1 new records to prepare\n"
     ]
    },
    {
     "name": "stderr",
     "output_type": "stream",
     "text": [
      "\n",
      "preparing: 100%|##########################################################################| 1/1 [00:00<00:00, 58.44it/s]\n"
     ]
    },
    {
     "name": "stdout",
     "output_type": "stream",
     "text": [
      "33252b6d-ffdb-43cc-a379-982f5ec4275f\n",
      "sim calculated successfully\n",
      "\n",
      "51.093 0.04437 60.168\n",
      "0 existing calculation records provided\n"
     ]
    },
    {
     "name": "stderr",
     "output_type": "stream",
     "text": [
      "100%|█████████████████████████████████████████████████████████████████████████████████████| 1/1 [00:00<00:00,  4.69it/s]"
     ]
    },
    {
     "name": "stdout",
     "output_type": "stream",
     "text": [
      "1 calculation combinations to check\n",
      "1 new records to prepare\n"
     ]
    },
    {
     "name": "stderr",
     "output_type": "stream",
     "text": [
      "\n",
      "preparing: 100%|##########################################################################| 1/1 [00:00<00:00, 61.44it/s]\n"
     ]
    },
    {
     "name": "stdout",
     "output_type": "stream",
     "text": [
      "ef4b4be0-5628-4b6e-bc8c-631fe69a8bb8\n",
      "sim calculated successfully\n",
      "\n",
      "50.546 0.01968 55.258\n",
      "0 existing calculation records provided\n"
     ]
    },
    {
     "name": "stderr",
     "output_type": "stream",
     "text": [
      "100%|█████████████████████████████████████████████████████████████████████████████████████| 1/1 [00:00<00:00,  2.31it/s]"
     ]
    },
    {
     "name": "stdout",
     "output_type": "stream",
     "text": [
      "1 calculation combinations to check\n",
      "1 new records to prepare\n"
     ]
    },
    {
     "name": "stderr",
     "output_type": "stream",
     "text": [
      "\n",
      "preparing: 100%|##########################################################################| 1/1 [00:00<00:00, 58.90it/s]\n"
     ]
    },
    {
     "name": "stdout",
     "output_type": "stream",
     "text": [
      "2a0353a7-905f-4edf-bbb4-df7ef6243217\n",
      "sim calculated successfully\n",
      "\n",
      "50.273 0.04329 59.588\n",
      "0 existing calculation records provided\n"
     ]
    },
    {
     "name": "stderr",
     "output_type": "stream",
     "text": [
      "100%|█████████████████████████████████████████████████████████████████████████████████████| 1/1 [00:00<00:00,  4.75it/s]"
     ]
    },
    {
     "name": "stdout",
     "output_type": "stream",
     "text": [
      "1 calculation combinations to check\n",
      "1 new records to prepare\n"
     ]
    },
    {
     "name": "stderr",
     "output_type": "stream",
     "text": [
      "\n",
      "preparing: 100%|##########################################################################| 1/1 [00:00<00:00, 77.66it/s]\n"
     ]
    },
    {
     "name": "stdout",
     "output_type": "stream",
     "text": [
      "e7b69f51-9a68-4f03-9284-6c04eb24b525\n",
      "sim calculated successfully\n",
      "\n",
      "50.137 0.02801 54.723\n",
      "0 existing calculation records provided\n"
     ]
    },
    {
     "name": "stderr",
     "output_type": "stream",
     "text": [
      "100%|█████████████████████████████████████████████████████████████████████████████████████| 1/1 [00:00<00:00,  2.34it/s]"
     ]
    },
    {
     "name": "stdout",
     "output_type": "stream",
     "text": [
      "1 calculation combinations to check\n",
      "1 new records to prepare\n"
     ]
    },
    {
     "name": "stderr",
     "output_type": "stream",
     "text": [
      "\n",
      "preparing: 100%|##########################################################################| 1/1 [00:00<00:00, 60.12it/s]\n"
     ]
    },
    {
     "name": "stdout",
     "output_type": "stream",
     "text": [
      "3c36959e-86db-4ed5-b0d8-3894f6a9b5fc\n",
      "sim calculated successfully\n",
      "\n",
      "50.068 0.05098 58.987\n",
      "0 existing calculation records provided\n"
     ]
    },
    {
     "name": "stderr",
     "output_type": "stream",
     "text": [
      "100%|█████████████████████████████████████████████████████████████████████████████████████| 1/1 [00:00<00:00,  4.37it/s]"
     ]
    },
    {
     "name": "stdout",
     "output_type": "stream",
     "text": [
      "1 calculation combinations to check\n",
      "1 new records to prepare\n"
     ]
    },
    {
     "name": "stderr",
     "output_type": "stream",
     "text": [
      "\n",
      "preparing: 100%|##########################################################################| 1/1 [00:00<00:00, 56.97it/s]\n"
     ]
    },
    {
     "name": "stdout",
     "output_type": "stream",
     "text": [
      "cd748b53-c29d-40c5-a99d-960d4bf48573\n",
      "sim calculated successfully\n",
      "\n",
      "50.034 0.0407 58.428\n",
      "0 existing calculation records provided\n"
     ]
    },
    {
     "name": "stderr",
     "output_type": "stream",
     "text": [
      "100%|█████████████████████████████████████████████████████████████████████████████████████| 1/1 [00:00<00:00,  3.01it/s]"
     ]
    },
    {
     "name": "stdout",
     "output_type": "stream",
     "text": [
      "1 calculation combinations to check\n",
      "1 new records to prepare\n"
     ]
    },
    {
     "name": "stderr",
     "output_type": "stream",
     "text": [
      "\n",
      "preparing: 100%|##########################################################################| 1/1 [00:00<00:00, 93.21it/s]\n"
     ]
    },
    {
     "name": "stdout",
     "output_type": "stream",
     "text": [
      "5726cf16-1bef-41f4-984b-86c94564367d\n",
      "sim calculated successfully\n",
      "\n",
      "50.017 0.04495 60.377\n",
      "0 existing calculation records provided\n"
     ]
    },
    {
     "name": "stderr",
     "output_type": "stream",
     "text": [
      "100%|█████████████████████████████████████████████████████████████████████████████████████| 1/1 [00:00<00:00,  1.54it/s]"
     ]
    },
    {
     "name": "stdout",
     "output_type": "stream",
     "text": [
      "1 calculation combinations to check\n",
      "1 new records to prepare\n"
     ]
    },
    {
     "name": "stderr",
     "output_type": "stream",
     "text": [
      "\n",
      "preparing: 100%|##########################################################################| 1/1 [00:00<00:00, 60.67it/s]\n"
     ]
    },
    {
     "name": "stdout",
     "output_type": "stream",
     "text": [
      "711f7611-7fd6-425c-9d4b-2e24fbed07ab\n",
      "sim calculated successfully\n",
      "\n",
      "50.009 0.03011 55.678\n",
      "0 existing calculation records provided\n"
     ]
    },
    {
     "name": "stderr",
     "output_type": "stream",
     "text": [
      "100%|█████████████████████████████████████████████████████████████████████████████████████| 1/1 [00:00<00:00,  2.27it/s]"
     ]
    },
    {
     "name": "stdout",
     "output_type": "stream",
     "text": [
      "1 calculation combinations to check\n",
      "1 new records to prepare\n"
     ]
    },
    {
     "name": "stderr",
     "output_type": "stream",
     "text": [
      "\n",
      "preparing: 100%|##########################################################################| 1/1 [00:00<00:00, 56.51it/s]\n"
     ]
    },
    {
     "name": "stdout",
     "output_type": "stream",
     "text": [
      "5e99792f-2336-43a8-a700-a19fb02d472a\n",
      "sim calculated successfully\n",
      "\n",
      "50.004 0.02919 53.318\n",
      "0 existing calculation records provided\n"
     ]
    },
    {
     "name": "stderr",
     "output_type": "stream",
     "text": [
      "100%|█████████████████████████████████████████████████████████████████████████████████████| 1/1 [00:00<00:00,  1.49it/s]"
     ]
    },
    {
     "name": "stdout",
     "output_type": "stream",
     "text": [
      "1 calculation combinations to check\n",
      "1 new records to prepare\n"
     ]
    },
    {
     "name": "stderr",
     "output_type": "stream",
     "text": [
      "\n",
      "preparing: 100%|##########################################################################| 1/1 [00:00<00:00, 34.24it/s]\n"
     ]
    },
    {
     "name": "stdout",
     "output_type": "stream",
     "text": [
      "7769a881-f96a-4ebb-94ef-9ea2763479a4\n",
      "sim calculated successfully\n",
      "\n",
      "50.002 0.02615 55.898\n",
      "0 existing calculation records provided\n"
     ]
    },
    {
     "name": "stderr",
     "output_type": "stream",
     "text": [
      "100%|█████████████████████████████████████████████████████████████████████████████████████| 1/1 [00:00<00:00,  2.81it/s]"
     ]
    },
    {
     "name": "stdout",
     "output_type": "stream",
     "text": [
      "1 calculation combinations to check\n",
      "1 new records to prepare\n"
     ]
    },
    {
     "name": "stderr",
     "output_type": "stream",
     "text": [
      "\n",
      "preparing: 100%|##########################################################################| 1/1 [00:00<00:00, 49.08it/s]\n"
     ]
    },
    {
     "name": "stdout",
     "output_type": "stream",
     "text": [
      "c74d2f43-80cf-4f14-b606-52f89f7cf028\n",
      "sim calculated successfully\n",
      "\n",
      "50.001 0.04893 54.598\n",
      "0 existing calculation records provided\n"
     ]
    },
    {
     "name": "stderr",
     "output_type": "stream",
     "text": [
      "100%|█████████████████████████████████████████████████████████████████████████████████████| 1/1 [00:00<00:00,  2.44it/s]"
     ]
    },
    {
     "name": "stdout",
     "output_type": "stream",
     "text": [
      "1 calculation combinations to check\n",
      "1 new records to prepare\n"
     ]
    },
    {
     "name": "stderr",
     "output_type": "stream",
     "text": [
      "\n",
      "preparing: 100%|##########################################################################| 1/1 [00:00<00:00, 50.81it/s]\n"
     ]
    },
    {
     "name": "stdout",
     "output_type": "stream",
     "text": [
      "80216df9-7031-4691-a5e8-fc6c55f82d0d\n",
      "sim calculated successfully\n",
      "\n",
      "50.001 0.04619 56.829\n",
      "0 existing calculation records provided\n"
     ]
    },
    {
     "name": "stderr",
     "output_type": "stream",
     "text": [
      "100%|█████████████████████████████████████████████████████████████████████████████████████| 1/1 [00:00<00:00,  2.48it/s]"
     ]
    },
    {
     "name": "stdout",
     "output_type": "stream",
     "text": [
      "1 calculation combinations to check\n",
      "1 new records to prepare\n"
     ]
    },
    {
     "name": "stderr",
     "output_type": "stream",
     "text": [
      "\n",
      "preparing: 100%|##########################################################################| 1/1 [00:00<00:00, 60.74it/s]\n"
     ]
    },
    {
     "name": "stdout",
     "output_type": "stream",
     "text": [
      "5d5e1d44-9a34-49aa-aa2d-449634ca5db8\n",
      "sim calculated successfully\n",
      "\n",
      "50.000 0.02646 53.728\n",
      "0 existing calculation records provided\n"
     ]
    },
    {
     "name": "stderr",
     "output_type": "stream",
     "text": [
      "100%|█████████████████████████████████████████████████████████████████████████████████████| 1/1 [00:00<00:00,  2.38it/s]"
     ]
    },
    {
     "name": "stdout",
     "output_type": "stream",
     "text": [
      "1 calculation combinations to check\n",
      "1 new records to prepare\n"
     ]
    },
    {
     "name": "stderr",
     "output_type": "stream",
     "text": [
      "\n",
      "preparing: 100%|##########################################################################| 1/1 [00:00<00:00, 61.69it/s]\n"
     ]
    },
    {
     "name": "stdout",
     "output_type": "stream",
     "text": [
      "37f92be2-28ed-4f3a-97db-dcbdf2883273\n",
      "sim calculated successfully\n",
      "\n",
      "50.000 0.03585 57.126\n",
      "0 existing calculation records provided\n"
     ]
    },
    {
     "name": "stderr",
     "output_type": "stream",
     "text": [
      "100%|█████████████████████████████████████████████████████████████████████████████████████| 1/1 [00:00<00:00,  2.38it/s]"
     ]
    },
    {
     "name": "stdout",
     "output_type": "stream",
     "text": [
      "1 calculation combinations to check\n",
      "1 new records to prepare\n"
     ]
    },
    {
     "name": "stderr",
     "output_type": "stream",
     "text": [
      "\n",
      "preparing: 100%|##########################################################################| 1/1 [00:00<00:00, 66.17it/s]\n"
     ]
    },
    {
     "name": "stdout",
     "output_type": "stream",
     "text": [
      "f1444c0c-94fc-4909-a240-d4da99e855fc\n",
      "sim calculated successfully\n",
      "\n",
      "50.000 0.03225 55.602\n",
      "0 existing calculation records provided\n"
     ]
    },
    {
     "name": "stderr",
     "output_type": "stream",
     "text": [
      "100%|█████████████████████████████████████████████████████████████████████████████████████| 1/1 [00:00<00:00,  2.14it/s]"
     ]
    },
    {
     "name": "stdout",
     "output_type": "stream",
     "text": [
      "1 calculation combinations to check\n",
      "1 new records to prepare\n"
     ]
    },
    {
     "name": "stderr",
     "output_type": "stream",
     "text": [
      "\n",
      "preparing: 100%|##########################################################################| 1/1 [00:00<00:00, 54.00it/s]\n"
     ]
    },
    {
     "name": "stdout",
     "output_type": "stream",
     "text": [
      "939e67a8-9406-4837-bfe4-52c502afc43c\n",
      "sim calculated successfully\n",
      "\n",
      "50.000 0.04692 56.571\n",
      "0 existing calculation records provided\n"
     ]
    },
    {
     "name": "stderr",
     "output_type": "stream",
     "text": [
      "100%|█████████████████████████████████████████████████████████████████████████████████████| 1/1 [00:00<00:00,  2.44it/s]"
     ]
    },
    {
     "name": "stdout",
     "output_type": "stream",
     "text": [
      "1 calculation combinations to check\n",
      "1 new records to prepare\n"
     ]
    },
    {
     "name": "stderr",
     "output_type": "stream",
     "text": [
      "\n",
      "preparing: 100%|##########################################################################| 1/1 [00:00<00:00, 56.40it/s]\n"
     ]
    },
    {
     "name": "stdout",
     "output_type": "stream",
     "text": [
      "f85ebf31-83b2-4e6a-8565-b73aad902a33\n",
      "sim calculated successfully\n",
      "\n",
      "50.000 0.02346 54.817\n",
      "0 existing calculation records provided\n"
     ]
    },
    {
     "name": "stderr",
     "output_type": "stream",
     "text": [
      "100%|█████████████████████████████████████████████████████████████████████████████████████| 1/1 [00:00<00:00,  2.38it/s]"
     ]
    },
    {
     "name": "stdout",
     "output_type": "stream",
     "text": [
      "1 calculation combinations to check\n",
      "1 new records to prepare\n"
     ]
    },
    {
     "name": "stderr",
     "output_type": "stream",
     "text": [
      "\n",
      "preparing: 100%|##########################################################################| 1/1 [00:00<00:00, 54.15it/s]\n"
     ]
    },
    {
     "name": "stdout",
     "output_type": "stream",
     "text": [
      "faad91bf-e343-49ae-b575-71134ba12149\n",
      "sim calculated successfully\n",
      "\n",
      "50.000 0.0307 55.645\n",
      "0 existing calculation records provided\n"
     ]
    },
    {
     "name": "stderr",
     "output_type": "stream",
     "text": [
      "100%|█████████████████████████████████████████████████████████████████████████████████████| 1/1 [00:00<00:00,  2.65it/s]"
     ]
    },
    {
     "name": "stdout",
     "output_type": "stream",
     "text": [
      "1 calculation combinations to check\n",
      "1 new records to prepare\n"
     ]
    },
    {
     "name": "stderr",
     "output_type": "stream",
     "text": [
      "\n",
      "preparing: 100%|##########################################################################| 1/1 [00:00<00:00, 47.42it/s]\n"
     ]
    },
    {
     "name": "stdout",
     "output_type": "stream",
     "text": [
      "e0534fc8-1795-4092-9664-1965a509d771\n",
      "sim calculated successfully\n",
      "\n",
      "50.000 0.0256 52.372\n",
      "0 existing calculation records provided\n"
     ]
    },
    {
     "name": "stderr",
     "output_type": "stream",
     "text": [
      "100%|█████████████████████████████████████████████████████████████████████████████████████| 1/1 [00:00<00:00,  3.84it/s]"
     ]
    },
    {
     "name": "stdout",
     "output_type": "stream",
     "text": [
      "1 calculation combinations to check\n",
      "1 new records to prepare\n"
     ]
    },
    {
     "name": "stderr",
     "output_type": "stream",
     "text": [
      "\n",
      "preparing: 100%|##########################################################################| 1/1 [00:00<00:00, 67.07it/s]\n"
     ]
    },
    {
     "name": "stdout",
     "output_type": "stream",
     "text": [
      "e1716d32-376d-4a66-bf1c-fa4921855cc6\n",
      "sim calculated successfully\n",
      "\n",
      "50.000 0.03119 56.329\n",
      "0 existing calculation records provided\n"
     ]
    },
    {
     "name": "stderr",
     "output_type": "stream",
     "text": [
      "100%|█████████████████████████████████████████████████████████████████████████████████████| 1/1 [00:00<00:00,  2.60it/s]"
     ]
    },
    {
     "name": "stdout",
     "output_type": "stream",
     "text": [
      "1 calculation combinations to check\n",
      "1 new records to prepare\n"
     ]
    },
    {
     "name": "stderr",
     "output_type": "stream",
     "text": [
      "\n",
      "preparing: 100%|##########################################################################| 1/1 [00:00<00:00, 38.77it/s]\n"
     ]
    },
    {
     "name": "stdout",
     "output_type": "stream",
     "text": [
      "e2c9c1fa-a9cc-4d3b-829e-32d7727ed90a\n",
      "sim calculated successfully\n",
      "\n",
      "50.000 0.03975 57.884\n",
      "0 existing calculation records provided\n"
     ]
    },
    {
     "name": "stderr",
     "output_type": "stream",
     "text": [
      "100%|█████████████████████████████████████████████████████████████████████████████████████| 1/1 [00:00<00:00,  2.53it/s]"
     ]
    },
    {
     "name": "stdout",
     "output_type": "stream",
     "text": [
      "1 calculation combinations to check\n",
      "1 new records to prepare\n"
     ]
    },
    {
     "name": "stderr",
     "output_type": "stream",
     "text": [
      "\n",
      "preparing: 100%|##########################################################################| 1/1 [00:00<00:00, 66.49it/s]\n"
     ]
    },
    {
     "name": "stdout",
     "output_type": "stream",
     "text": [
      "2fa918e7-9446-4eeb-87f1-e679b894ee60\n",
      "sim calculated successfully\n",
      "\n",
      "50.000 0.03795 58.814\n",
      "0 existing calculation records provided\n"
     ]
    },
    {
     "name": "stderr",
     "output_type": "stream",
     "text": [
      "100%|█████████████████████████████████████████████████████████████████████████████████████| 1/1 [00:00<00:00,  2.92it/s]"
     ]
    },
    {
     "name": "stdout",
     "output_type": "stream",
     "text": [
      "1 calculation combinations to check\n",
      "1 new records to prepare\n"
     ]
    },
    {
     "name": "stderr",
     "output_type": "stream",
     "text": [
      "\n",
      "preparing: 100%|##########################################################################| 1/1 [00:00<00:00, 58.66it/s]\n"
     ]
    },
    {
     "name": "stdout",
     "output_type": "stream",
     "text": [
      "487a85f9-a3d6-489f-bb39-f442289d7f3d\n",
      "sim calculated successfully\n",
      "\n",
      "50.000 0.0331 56.718\n",
      "Max number of runs reached!\n",
      "\n",
      "43 2003--Han-S--V--LAMMPS--ipr1\n",
      "0 existing calculation records provided\n"
     ]
    },
    {
     "name": "stderr",
     "output_type": "stream",
     "text": [
      "100%|█████████████████████████████████████████████████████████████████████████████████████| 1/1 [00:00<00:00,  2.30it/s]"
     ]
    },
    {
     "name": "stdout",
     "output_type": "stream",
     "text": [
      "1 calculation combinations to check\n",
      "1 new records to prepare\n"
     ]
    },
    {
     "name": "stderr",
     "output_type": "stream",
     "text": [
      "\n",
      "preparing: 100%|##########################################################################| 1/1 [00:00<00:00, 51.91it/s]\n"
     ]
    },
    {
     "name": "stdout",
     "output_type": "stream",
     "text": [
      "ed6e6d5c-b3c2-4fc6-a6be-d72596434697\n",
      "sim calculated successfully\n",
      "\n",
      "4525.000 2.069e-05 4501.097\n",
      "0 existing calculation records provided\n"
     ]
    },
    {
     "name": "stderr",
     "output_type": "stream",
     "text": [
      "100%|█████████████████████████████████████████████████████████████████████████████████████| 1/1 [00:00<00:00,  3.89it/s]"
     ]
    },
    {
     "name": "stdout",
     "output_type": "stream",
     "text": [
      "1 calculation combinations to check\n",
      "1 new records to prepare\n"
     ]
    },
    {
     "name": "stderr",
     "output_type": "stream",
     "text": [
      "\n",
      "preparing: 100%|##########################################################################| 1/1 [00:00<00:00, 53.31it/s]\n"
     ]
    },
    {
     "name": "stdout",
     "output_type": "stream",
     "text": [
      "bf05a4f9-c705-4c72-840c-d0e1e16cae11\n",
      "sim calculated successfully\n",
      "\n",
      "2287.500 0.9673 2277.622\n",
      "0 existing calculation records provided\n"
     ]
    },
    {
     "name": "stderr",
     "output_type": "stream",
     "text": [
      "100%|█████████████████████████████████████████████████████████████████████████████████████| 1/1 [00:00<00:00,  4.23it/s]"
     ]
    },
    {
     "name": "stdout",
     "output_type": "stream",
     "text": [
      "1 calculation combinations to check\n",
      "1 new records to prepare\n"
     ]
    },
    {
     "name": "stderr",
     "output_type": "stream",
     "text": [
      "\n",
      "preparing: 100%|##########################################################################| 1/1 [00:00<00:00, 59.11it/s]\n"
     ]
    },
    {
     "name": "stdout",
     "output_type": "stream",
     "text": [
      "e3f4bf95-1544-4f21-ad3e-af1729fb012c\n",
      "sim calculated successfully\n",
      "\n",
      "3406.250 0.0001552 3199.696\n",
      "0 existing calculation records provided\n"
     ]
    },
    {
     "name": "stderr",
     "output_type": "stream",
     "text": [
      "100%|█████████████████████████████████████████████████████████████████████████████████████| 1/1 [00:00<00:00,  2.62it/s]"
     ]
    },
    {
     "name": "stdout",
     "output_type": "stream",
     "text": [
      "1 calculation combinations to check\n",
      "1 new records to prepare\n"
     ]
    },
    {
     "name": "stderr",
     "output_type": "stream",
     "text": [
      "\n",
      "preparing: 100%|##########################################################################| 1/1 [00:00<00:00, 71.80it/s]\n"
     ]
    },
    {
     "name": "stdout",
     "output_type": "stream",
     "text": [
      "b85e1285-5037-49de-a672-d46c519f97a4\n",
      "sim calculated successfully\n",
      "\n",
      "2846.875 0.6784 3118.867\n",
      "0 existing calculation records provided\n"
     ]
    },
    {
     "name": "stderr",
     "output_type": "stream",
     "text": [
      "100%|█████████████████████████████████████████████████████████████████████████████████████| 1/1 [00:00<00:00,  2.20it/s]"
     ]
    },
    {
     "name": "stdout",
     "output_type": "stream",
     "text": [
      "1 calculation combinations to check\n",
      "1 new records to prepare\n"
     ]
    },
    {
     "name": "stderr",
     "output_type": "stream",
     "text": [
      "\n",
      "preparing: 100%|##########################################################################| 1/1 [00:00<00:00, 56.39it/s]\n"
     ]
    },
    {
     "name": "stdout",
     "output_type": "stream",
     "text": [
      "e899e277-890b-4e56-ab1c-1a4bcbc47525\n",
      "sim calculated successfully\n",
      "\n",
      "3126.562 0.09778 2903.468\n",
      "0 existing calculation records provided\n"
     ]
    },
    {
     "name": "stderr",
     "output_type": "stream",
     "text": [
      "100%|█████████████████████████████████████████████████████████████████████████████████████| 1/1 [00:00<00:00,  4.58it/s]"
     ]
    },
    {
     "name": "stdout",
     "output_type": "stream",
     "text": [
      "1 calculation combinations to check\n",
      "1 new records to prepare\n"
     ]
    },
    {
     "name": "stderr",
     "output_type": "stream",
     "text": [
      "\n",
      "preparing: 100%|##########################################################################| 1/1 [00:00<00:00, 54.63it/s]\n"
     ]
    },
    {
     "name": "stdout",
     "output_type": "stream",
     "text": [
      "c3ca5858-065a-4c42-a1e8-44be86dd3061\n",
      "sim calculated successfully\n",
      "\n",
      "2707.031 0.8016 2939.754\n",
      "0 existing calculation records provided\n"
     ]
    },
    {
     "name": "stderr",
     "output_type": "stream",
     "text": [
      "100%|█████████████████████████████████████████████████████████████████████████████████████| 1/1 [00:00<00:00,  3.89it/s]"
     ]
    },
    {
     "name": "stdout",
     "output_type": "stream",
     "text": [
      "1 calculation combinations to check\n",
      "1 new records to prepare\n"
     ]
    },
    {
     "name": "stderr",
     "output_type": "stream",
     "text": [
      "\n",
      "preparing: 100%|##########################################################################| 1/1 [00:00<00:00, 53.94it/s]\n"
     ]
    },
    {
     "name": "stdout",
     "output_type": "stream",
     "text": [
      "66d2396e-9a5c-4ef5-a32d-7c1ea4565f8f\n",
      "sim calculated successfully\n",
      "\n",
      "2916.797 0.4634 2933.923\n",
      "0 existing calculation records provided\n"
     ]
    },
    {
     "name": "stderr",
     "output_type": "stream",
     "text": [
      "100%|█████████████████████████████████████████████████████████████████████████████████████| 1/1 [00:00<00:00,  2.38it/s]"
     ]
    },
    {
     "name": "stdout",
     "output_type": "stream",
     "text": [
      "1 calculation combinations to check\n",
      "1 new records to prepare\n"
     ]
    },
    {
     "name": "stderr",
     "output_type": "stream",
     "text": [
      "\n",
      "preparing: 100%|##########################################################################| 1/1 [00:00<00:00, 58.85it/s]\n"
     ]
    },
    {
     "name": "stdout",
     "output_type": "stream",
     "text": [
      "db787346-55fe-412c-9f46-1e5c593c801d\n",
      "sim calculated successfully\n",
      "\n",
      "2916.797 0.4572 2938.018\n",
      "0 existing calculation records provided\n"
     ]
    },
    {
     "name": "stderr",
     "output_type": "stream",
     "text": [
      "100%|█████████████████████████████████████████████████████████████████████████████████████| 1/1 [00:00<00:00,  2.22it/s]"
     ]
    },
    {
     "name": "stdout",
     "output_type": "stream",
     "text": [
      "1 calculation combinations to check\n",
      "1 new records to prepare\n"
     ]
    },
    {
     "name": "stderr",
     "output_type": "stream",
     "text": [
      "\n",
      "preparing: 100%|##########################################################################| 1/1 [00:00<00:00, 54.83it/s]\n"
     ]
    },
    {
     "name": "stdout",
     "output_type": "stream",
     "text": [
      "64e936d9-2c2b-414c-ba52-2f42a0de918a\n",
      "sim calculated successfully\n",
      "\n",
      "2916.797 0.4565 2926.959\n",
      "0 existing calculation records provided\n"
     ]
    },
    {
     "name": "stderr",
     "output_type": "stream",
     "text": [
      "100%|█████████████████████████████████████████████████████████████████████████████████████| 1/1 [00:00<00:00,  2.33it/s]"
     ]
    },
    {
     "name": "stdout",
     "output_type": "stream",
     "text": [
      "1 calculation combinations to check\n",
      "1 new records to prepare\n"
     ]
    },
    {
     "name": "stderr",
     "output_type": "stream",
     "text": [
      "\n",
      "preparing: 100%|##########################################################################| 1/1 [00:00<00:00, 50.66it/s]\n"
     ]
    },
    {
     "name": "stdout",
     "output_type": "stream",
     "text": [
      "57d29247-aa94-4fca-ba3a-c170f671deb2\n",
      "sim calculated successfully\n",
      "\n",
      "2916.797 0.4484 2923.132\n",
      "0 existing calculation records provided\n"
     ]
    },
    {
     "name": "stderr",
     "output_type": "stream",
     "text": [
      "100%|█████████████████████████████████████████████████████████████████████████████████████| 1/1 [00:00<00:00,  4.31it/s]"
     ]
    },
    {
     "name": "stdout",
     "output_type": "stream",
     "text": [
      "1 calculation combinations to check\n",
      "1 new records to prepare\n"
     ]
    },
    {
     "name": "stderr",
     "output_type": "stream",
     "text": [
      "\n",
      "preparing: 100%|##########################################################################| 1/1 [00:00<00:00, 63.57it/s]\n"
     ]
    },
    {
     "name": "stdout",
     "output_type": "stream",
     "text": [
      "253fe29d-071a-4e5d-ad98-1be87bf323f0\n",
      "sim calculated successfully\n",
      "\n",
      "2916.797 0.4652 2935.964\n",
      "0 existing calculation records provided\n"
     ]
    },
    {
     "name": "stderr",
     "output_type": "stream",
     "text": [
      "100%|█████████████████████████████████████████████████████████████████████████████████████| 1/1 [00:00<00:00,  2.72it/s]"
     ]
    },
    {
     "name": "stdout",
     "output_type": "stream",
     "text": [
      "1 calculation combinations to check\n",
      "1 new records to prepare\n"
     ]
    },
    {
     "name": "stderr",
     "output_type": "stream",
     "text": [
      "\n",
      "preparing: 100%|##########################################################################| 1/1 [00:00<00:00, 63.10it/s]\n"
     ]
    },
    {
     "name": "stdout",
     "output_type": "stream",
     "text": [
      "acc9edc9-ccd1-4da1-abdb-91962f601d34\n",
      "sim calculated successfully\n",
      "\n",
      "2916.797 0.4445 2940.694\n",
      "0 existing calculation records provided\n"
     ]
    },
    {
     "name": "stderr",
     "output_type": "stream",
     "text": [
      "100%|█████████████████████████████████████████████████████████████████████████████████████| 1/1 [00:00<00:00,  2.29it/s]"
     ]
    },
    {
     "name": "stdout",
     "output_type": "stream",
     "text": [
      "1 calculation combinations to check\n",
      "1 new records to prepare\n"
     ]
    },
    {
     "name": "stderr",
     "output_type": "stream",
     "text": [
      "\n",
      "preparing: 100%|##########################################################################| 1/1 [00:00<00:00, 58.41it/s]\n"
     ]
    },
    {
     "name": "stdout",
     "output_type": "stream",
     "text": [
      "ff5b5b5d-c17b-4d0d-b9cb-bdce19dc8ac2\n",
      "sim calculated successfully\n",
      "\n",
      "2916.797 0.4491 2923.809\n",
      "0 existing calculation records provided\n"
     ]
    },
    {
     "name": "stderr",
     "output_type": "stream",
     "text": [
      "100%|█████████████████████████████████████████████████████████████████████████████████████| 1/1 [00:00<00:00,  2.32it/s]"
     ]
    },
    {
     "name": "stdout",
     "output_type": "stream",
     "text": [
      "1 calculation combinations to check\n",
      "1 new records to prepare\n"
     ]
    },
    {
     "name": "stderr",
     "output_type": "stream",
     "text": [
      "\n",
      "preparing: 100%|##########################################################################| 1/1 [00:00<00:00, 57.44it/s]\n"
     ]
    },
    {
     "name": "stdout",
     "output_type": "stream",
     "text": [
      "058bcf89-167f-4d34-a31f-8ba64b6020ea\n",
      "sim calculated successfully\n",
      "\n",
      "2916.797 0.4467 2922.516\n",
      "0 existing calculation records provided\n"
     ]
    },
    {
     "name": "stderr",
     "output_type": "stream",
     "text": [
      "100%|█████████████████████████████████████████████████████████████████████████████████████| 1/1 [00:00<00:00,  4.22it/s]"
     ]
    },
    {
     "name": "stdout",
     "output_type": "stream",
     "text": [
      "1 calculation combinations to check\n",
      "1 new records to prepare\n"
     ]
    },
    {
     "name": "stderr",
     "output_type": "stream",
     "text": [
      "\n",
      "preparing: 100%|##########################################################################| 1/1 [00:00<00:00, 53.59it/s]\n"
     ]
    },
    {
     "name": "stdout",
     "output_type": "stream",
     "text": [
      "3f499ee5-6946-4e47-a6ce-be901dfbeced\n",
      "sim calculated successfully\n",
      "\n",
      "2916.797 0.4583 2931.833\n",
      "\n",
      "44 2003--Han-S--W--LAMMPS--ipr1\n",
      "0 existing calculation records provided\n"
     ]
    },
    {
     "name": "stderr",
     "output_type": "stream",
     "text": [
      "100%|█████████████████████████████████████████████████████████████████████████████████████| 1/1 [00:00<00:00,  2.94it/s]"
     ]
    },
    {
     "name": "stdout",
     "output_type": "stream",
     "text": [
      "1 calculation combinations to check\n",
      "1 new records to prepare\n"
     ]
    },
    {
     "name": "stderr",
     "output_type": "stream",
     "text": [
      "\n",
      "preparing: 100%|##########################################################################| 1/1 [00:00<00:00, 47.50it/s]\n"
     ]
    },
    {
     "name": "stdout",
     "output_type": "stream",
     "text": [
      "fae2d9c9-dcd1-454c-9025-a4f05c488f46\n",
      "sim calculated successfully\n",
      "\n",
      "4525.000 0.932 5001.031\n",
      "0 existing calculation records provided\n"
     ]
    },
    {
     "name": "stderr",
     "output_type": "stream",
     "text": [
      "100%|█████████████████████████████████████████████████████████████████████████████████████| 1/1 [00:00<00:00,  2.21it/s]"
     ]
    },
    {
     "name": "stdout",
     "output_type": "stream",
     "text": [
      "1 calculation combinations to check\n",
      "1 new records to prepare\n"
     ]
    },
    {
     "name": "stderr",
     "output_type": "stream",
     "text": [
      "\n",
      "preparing: 100%|##########################################################################| 1/1 [00:00<00:00, 46.86it/s]\n"
     ]
    },
    {
     "name": "stdout",
     "output_type": "stream",
     "text": [
      "6915bde3-6181-4365-ac92-659d8b8542e7\n",
      "sim calculated successfully\n",
      "\n",
      "6762.500 3.103e-05 6652.592\n",
      "0 existing calculation records provided\n"
     ]
    },
    {
     "name": "stderr",
     "output_type": "stream",
     "text": [
      "100%|█████████████████████████████████████████████████████████████████████████████████████| 1/1 [00:00<00:00,  2.28it/s]"
     ]
    },
    {
     "name": "stdout",
     "output_type": "stream",
     "text": [
      "1 calculation combinations to check\n",
      "1 new records to prepare\n"
     ]
    },
    {
     "name": "stderr",
     "output_type": "stream",
     "text": [
      "\n",
      "preparing: 100%|##########################################################################| 1/1 [00:00<00:00, 58.62it/s]\n"
     ]
    },
    {
     "name": "stdout",
     "output_type": "stream",
     "text": [
      "98b3deb4-23eb-446e-8bc4-ae15576ed99a\n",
      "sim calculated successfully\n",
      "\n",
      "5643.750 0.0002586 5005.855\n",
      "0 existing calculation records provided\n"
     ]
    },
    {
     "name": "stderr",
     "output_type": "stream",
     "text": [
      "100%|█████████████████████████████████████████████████████████████████████████████████████| 1/1 [00:00<00:00,  2.38it/s]"
     ]
    },
    {
     "name": "stdout",
     "output_type": "stream",
     "text": [
      "1 calculation combinations to check\n",
      "1 new records to prepare\n"
     ]
    },
    {
     "name": "stderr",
     "output_type": "stream",
     "text": [
      "\n",
      "preparing: 100%|##########################################################################| 1/1 [00:00<00:00, 48.79it/s]\n"
     ]
    },
    {
     "name": "stdout",
     "output_type": "stream",
     "text": [
      "231ec83e-f93f-4626-b307-1e7a4fc94ac4\n",
      "sim calculated successfully\n",
      "\n",
      "5084.375 0.4283 4946.994\n",
      "0 existing calculation records provided\n"
     ]
    },
    {
     "name": "stderr",
     "output_type": "stream",
     "text": [
      "100%|█████████████████████████████████████████████████████████████████████████████████████| 1/1 [00:00<00:00,  4.00it/s]"
     ]
    },
    {
     "name": "stdout",
     "output_type": "stream",
     "text": [
      "1 calculation combinations to check\n",
      "1 new records to prepare\n"
     ]
    },
    {
     "name": "stderr",
     "output_type": "stream",
     "text": [
      "\n",
      "preparing: 100%|##########################################################################| 1/1 [00:00<00:00, 53.30it/s]\n"
     ]
    },
    {
     "name": "stdout",
     "output_type": "stream",
     "text": [
      "3d3dcd1f-8a77-4000-a087-e55e790a4fe4\n",
      "sim calculated successfully\n",
      "\n",
      "5084.375 0.4267 4935.657\n",
      "0 existing calculation records provided\n"
     ]
    },
    {
     "name": "stderr",
     "output_type": "stream",
     "text": [
      "100%|█████████████████████████████████████████████████████████████████████████████████████| 1/1 [00:00<00:00,  2.39it/s]"
     ]
    },
    {
     "name": "stdout",
     "output_type": "stream",
     "text": [
      "1 calculation combinations to check\n",
      "1 new records to prepare\n"
     ]
    },
    {
     "name": "stderr",
     "output_type": "stream",
     "text": [
      "\n",
      "preparing: 100%|##########################################################################| 1/1 [00:00<00:00, 59.62it/s]\n"
     ]
    },
    {
     "name": "stdout",
     "output_type": "stream",
     "text": [
      "afa74652-5a02-445a-9b0a-e85650842c9d\n",
      "sim calculated successfully\n",
      "\n",
      "5084.375 0.4158 4921.808\n",
      "0 existing calculation records provided\n"
     ]
    },
    {
     "name": "stderr",
     "output_type": "stream",
     "text": [
      "100%|█████████████████████████████████████████████████████████████████████████████████████| 1/1 [00:00<00:00,  2.33it/s]"
     ]
    },
    {
     "name": "stdout",
     "output_type": "stream",
     "text": [
      "1 calculation combinations to check\n",
      "1 new records to prepare\n"
     ]
    },
    {
     "name": "stderr",
     "output_type": "stream",
     "text": [
      "\n",
      "preparing: 100%|##########################################################################| 1/1 [00:00<00:00, 57.92it/s]\n"
     ]
    },
    {
     "name": "stdout",
     "output_type": "stream",
     "text": [
      "ae64e58d-42eb-4fec-ba5f-0466c4534448\n",
      "sim calculated successfully\n",
      "\n",
      "5084.375 0.3955 4959.122\n",
      "0 existing calculation records provided\n"
     ]
    },
    {
     "name": "stderr",
     "output_type": "stream",
     "text": [
      "100%|█████████████████████████████████████████████████████████████████████████████████████| 1/1 [00:00<00:00,  2.26it/s]"
     ]
    },
    {
     "name": "stdout",
     "output_type": "stream",
     "text": [
      "1 calculation combinations to check\n",
      "1 new records to prepare\n"
     ]
    },
    {
     "name": "stderr",
     "output_type": "stream",
     "text": [
      "\n",
      "preparing: 100%|##########################################################################| 1/1 [00:00<00:00, 60.35it/s]\n"
     ]
    },
    {
     "name": "stdout",
     "output_type": "stream",
     "text": [
      "69b21227-a261-431e-a35e-c91639c1a5d1\n",
      "sim calculated successfully\n",
      "\n",
      "4804.688 0.6401 4903.093\n",
      "0 existing calculation records provided\n"
     ]
    },
    {
     "name": "stderr",
     "output_type": "stream",
     "text": [
      "100%|█████████████████████████████████████████████████████████████████████████████████████| 1/1 [00:00<00:00,  4.36it/s]"
     ]
    },
    {
     "name": "stdout",
     "output_type": "stream",
     "text": [
      "1 calculation combinations to check\n",
      "1 new records to prepare\n"
     ]
    },
    {
     "name": "stderr",
     "output_type": "stream",
     "text": [
      "\n",
      "preparing: 100%|##########################################################################| 1/1 [00:00<00:00, 63.84it/s]\n"
     ]
    },
    {
     "name": "stdout",
     "output_type": "stream",
     "text": [
      "0a4e901f-6c6c-4136-b3da-daa3c25bdaf7\n",
      "sim calculated successfully\n",
      "\n",
      "5224.219 0.3019 4919.167\n",
      "0 existing calculation records provided\n"
     ]
    },
    {
     "name": "stderr",
     "output_type": "stream",
     "text": [
      "100%|█████████████████████████████████████████████████████████████████████████████████████| 1/1 [00:00<00:00,  4.31it/s]"
     ]
    },
    {
     "name": "stdout",
     "output_type": "stream",
     "text": [
      "1 calculation combinations to check\n",
      "1 new records to prepare\n"
     ]
    },
    {
     "name": "stderr",
     "output_type": "stream",
     "text": [
      "\n",
      "preparing: 100%|##########################################################################| 1/1 [00:00<00:00, 54.08it/s]\n"
     ]
    },
    {
     "name": "stdout",
     "output_type": "stream",
     "text": [
      "7401e7d4-8e8a-427a-a2cc-ebc91a32b7b5\n",
      "sim calculated successfully\n",
      "\n",
      "4874.609 0.5955 4933.294\n",
      "0 existing calculation records provided\n"
     ]
    },
    {
     "name": "stderr",
     "output_type": "stream",
     "text": [
      "100%|█████████████████████████████████████████████████████████████████████████████████████| 1/1 [00:00<00:00,  2.50it/s]"
     ]
    },
    {
     "name": "stdout",
     "output_type": "stream",
     "text": [
      "1 calculation combinations to check\n",
      "1 new records to prepare\n"
     ]
    },
    {
     "name": "stderr",
     "output_type": "stream",
     "text": [
      "\n",
      "preparing: 100%|##########################################################################| 1/1 [00:00<00:00, 65.50it/s]\n"
     ]
    },
    {
     "name": "stdout",
     "output_type": "stream",
     "text": [
      "fe5c57a8-d938-42c3-9364-c6552a27dd98\n",
      "sim calculated successfully\n",
      "\n",
      "4874.609 0.565 4933.030\n",
      "0 existing calculation records provided\n"
     ]
    },
    {
     "name": "stderr",
     "output_type": "stream",
     "text": [
      "100%|█████████████████████████████████████████████████████████████████████████████████████| 1/1 [00:00<00:00,  2.42it/s]"
     ]
    },
    {
     "name": "stdout",
     "output_type": "stream",
     "text": [
      "1 calculation combinations to check\n",
      "1 new records to prepare\n"
     ]
    },
    {
     "name": "stderr",
     "output_type": "stream",
     "text": [
      "\n",
      "preparing: 100%|##########################################################################| 1/1 [00:00<00:00, 48.69it/s]\n"
     ]
    },
    {
     "name": "stdout",
     "output_type": "stream",
     "text": [
      "4ea68e6a-f5ce-4fad-8c46-c1f074386ef1\n",
      "sim calculated successfully\n",
      "\n",
      "4874.609 0.5905 4945.776\n",
      "0 existing calculation records provided\n"
     ]
    },
    {
     "name": "stderr",
     "output_type": "stream",
     "text": [
      "100%|█████████████████████████████████████████████████████████████████████████████████████| 1/1 [00:00<00:00,  1.93it/s]"
     ]
    },
    {
     "name": "stdout",
     "output_type": "stream",
     "text": [
      "1 calculation combinations to check\n",
      "1 new records to prepare\n"
     ]
    },
    {
     "name": "stderr",
     "output_type": "stream",
     "text": [
      "\n",
      "preparing: 100%|##########################################################################| 1/1 [00:00<00:00, 38.04it/s]\n"
     ]
    },
    {
     "name": "stdout",
     "output_type": "stream",
     "text": [
      "1ccd9346-4f91-4045-ad52-cec7c005c144\n",
      "sim calculated successfully\n",
      "\n",
      "4874.609 0.5551 4907.222\n",
      "\n",
      "45 2003--Hoyt-J-J--Cu-Pb--LAMMPS--ipr1\n",
      "0 existing calculation records provided\n"
     ]
    },
    {
     "name": "stderr",
     "output_type": "stream",
     "text": [
      "100%|█████████████████████████████████████████████████████████████████████████████████████| 1/1 [00:00<00:00,  3.82it/s]"
     ]
    },
    {
     "name": "stdout",
     "output_type": "stream",
     "text": [
      "1 calculation combinations to check\n",
      "1 new records to prepare\n"
     ]
    },
    {
     "name": "stderr",
     "output_type": "stream",
     "text": [
      "\n",
      "preparing: 100%|##########################################################################| 1/1 [00:00<00:00, 96.48it/s]\n"
     ]
    },
    {
     "name": "stdout",
     "output_type": "stream",
     "text": [
      "8b108946-051a-4dfa-9430-c1479457863a\n",
      "sim calculated successfully\n",
      "\n",
      "4525.000 0.006579 4444.290\n",
      "0 existing calculation records provided\n"
     ]
    },
    {
     "name": "stderr",
     "output_type": "stream",
     "text": [
      "100%|█████████████████████████████████████████████████████████████████████████████████████| 1/1 [00:00<00:00,  2.33it/s]"
     ]
    },
    {
     "name": "stdout",
     "output_type": "stream",
     "text": [
      "1 calculation combinations to check\n",
      "1 new records to prepare\n"
     ]
    },
    {
     "name": "stderr",
     "output_type": "stream",
     "text": [
      "\n",
      "preparing: 100%|##########################################################################| 1/1 [00:00<00:00, 83.99it/s]\n"
     ]
    },
    {
     "name": "stdout",
     "output_type": "stream",
     "text": [
      "f190c398-a834-4df5-9399-cdaed31e7ddf\n",
      "sim calculated successfully\n",
      "\n",
      "2287.500 1.034e-05 2267.279\n",
      "0 existing calculation records provided\n"
     ]
    },
    {
     "name": "stderr",
     "output_type": "stream",
     "text": [
      "100%|█████████████████████████████████████████████████████████████████████████████████████| 1/1 [00:00<00:00,  4.25it/s]"
     ]
    },
    {
     "name": "stdout",
     "output_type": "stream",
     "text": [
      "1 calculation combinations to check\n",
      "1 new records to prepare\n"
     ]
    },
    {
     "name": "stderr",
     "output_type": "stream",
     "text": [
      "\n",
      "preparing: 100%|##########################################################################| 1/1 [00:00<00:00, 77.31it/s]\n"
     ]
    },
    {
     "name": "stdout",
     "output_type": "stream",
     "text": [
      "3f79d2e6-d3c1-4ce1-9f49-d603d55d6b64\n",
      "sim calculated successfully\n",
      "\n",
      "1168.750 0.7091 1247.476\n",
      "0 existing calculation records provided\n"
     ]
    },
    {
     "name": "stderr",
     "output_type": "stream",
     "text": [
      "100%|█████████████████████████████████████████████████████████████████████████████████████| 1/1 [00:00<00:00,  2.33it/s]"
     ]
    },
    {
     "name": "stdout",
     "output_type": "stream",
     "text": [
      "1 calculation combinations to check\n",
      "1 new records to prepare\n"
     ]
    },
    {
     "name": "stderr",
     "output_type": "stream",
     "text": [
      "\n",
      "preparing: 100%|##########################################################################| 1/1 [00:00<00:00, 80.09it/s]\n"
     ]
    },
    {
     "name": "stdout",
     "output_type": "stream",
     "text": [
      "b8716f66-4922-4327-b7a9-5d6932cfe857\n",
      "sim calculated successfully\n",
      "\n",
      "1728.125 0.0001241 1715.749\n",
      "0 existing calculation records provided\n"
     ]
    },
    {
     "name": "stderr",
     "output_type": "stream",
     "text": [
      "100%|█████████████████████████████████████████████████████████████████████████████████████| 1/1 [00:00<00:00,  4.31it/s]"
     ]
    },
    {
     "name": "stdout",
     "output_type": "stream",
     "text": [
      "1 calculation combinations to check\n",
      "1 new records to prepare\n"
     ]
    },
    {
     "name": "stderr",
     "output_type": "stream",
     "text": [
      "\n",
      "preparing: 100%|##########################################################################| 1/1 [00:00<00:00, 70.19it/s]\n"
     ]
    },
    {
     "name": "stdout",
     "output_type": "stream",
     "text": [
      "ccd71076-b241-45fb-969e-d6a2694840aa\n",
      "sim calculated successfully\n",
      "\n",
      "889.062 0.1723 886.896\n",
      "0 existing calculation records provided\n"
     ]
    },
    {
     "name": "stderr",
     "output_type": "stream",
     "text": [
      "100%|█████████████████████████████████████████████████████████████████████████████████████| 1/1 [00:00<00:00,  2.48it/s]"
     ]
    },
    {
     "name": "stdout",
     "output_type": "stream",
     "text": [
      "1 calculation combinations to check\n",
      "1 new records to prepare\n"
     ]
    },
    {
     "name": "stderr",
     "output_type": "stream",
     "text": [
      "\n",
      "preparing: 100%|##########################################################################| 1/1 [00:00<00:00, 62.16it/s]\n"
     ]
    },
    {
     "name": "stdout",
     "output_type": "stream",
     "text": [
      "ccee6302-1b91-4217-8f10-926c6cb28273\n",
      "sim calculated successfully\n",
      "\n",
      "469.531 0.2658 468.116\n",
      "0 existing calculation records provided\n"
     ]
    },
    {
     "name": "stderr",
     "output_type": "stream",
     "text": [
      "100%|█████████████████████████████████████████████████████████████████████████████████████| 1/1 [00:00<00:00,  2.23it/s]"
     ]
    },
    {
     "name": "stdout",
     "output_type": "stream",
     "text": [
      "1 calculation combinations to check\n",
      "1 new records to prepare\n"
     ]
    },
    {
     "name": "stderr",
     "output_type": "stream",
     "text": [
      "\n",
      "preparing: 100%|##########################################################################| 1/1 [00:00<00:00, 75.47it/s]\n"
     ]
    },
    {
     "name": "stdout",
     "output_type": "stream",
     "text": [
      "913a54ab-e1fd-4914-b80c-acd843ecd842\n",
      "sim calculated successfully\n",
      "\n",
      "259.766 0.4348 259.452\n",
      "0 existing calculation records provided\n"
     ]
    },
    {
     "name": "stderr",
     "output_type": "stream",
     "text": [
      "100%|█████████████████████████████████████████████████████████████████████████████████████| 1/1 [00:00<00:00,  4.31it/s]"
     ]
    },
    {
     "name": "stdout",
     "output_type": "stream",
     "text": [
      "1 calculation combinations to check\n",
      "1 new records to prepare\n"
     ]
    },
    {
     "name": "stderr",
     "output_type": "stream",
     "text": [
      "\n",
      "preparing: 100%|##########################################################################| 1/1 [00:00<00:00, 38.21it/s]\n"
     ]
    },
    {
     "name": "stdout",
     "output_type": "stream",
     "text": [
      "c98951fc-c7ee-4cc3-a64f-591021cf5c00\n",
      "sim calculated successfully\n",
      "\n",
      "259.766 0.3438 259.055\n",
      "0 existing calculation records provided\n"
     ]
    },
    {
     "name": "stderr",
     "output_type": "stream",
     "text": [
      "100%|█████████████████████████████████████████████████████████████████████████████████████| 1/1 [00:00<00:00,  2.27it/s]"
     ]
    },
    {
     "name": "stdout",
     "output_type": "stream",
     "text": [
      "1 calculation combinations to check\n",
      "1 new records to prepare\n"
     ]
    },
    {
     "name": "stderr",
     "output_type": "stream",
     "text": [
      "\n",
      "preparing: 100%|##########################################################################| 1/1 [00:00<00:00, 71.76it/s]\n"
     ]
    },
    {
     "name": "stdout",
     "output_type": "stream",
     "text": [
      "85a2fd98-ed3e-46d7-9f57-d235297f9546\n",
      "sim calculated successfully\n",
      "\n",
      "154.883 0.505 154.113\n",
      "0 existing calculation records provided\n"
     ]
    },
    {
     "name": "stderr",
     "output_type": "stream",
     "text": [
      "100%|█████████████████████████████████████████████████████████████████████████████████████| 1/1 [00:00<00:00,  2.34it/s]"
     ]
    },
    {
     "name": "stdout",
     "output_type": "stream",
     "text": [
      "1 calculation combinations to check\n",
      "1 new records to prepare\n"
     ]
    },
    {
     "name": "stderr",
     "output_type": "stream",
     "text": [
      "\n",
      "preparing: 100%|##########################################################################| 1/1 [00:00<00:00, 63.88it/s]\n"
     ]
    },
    {
     "name": "stdout",
     "output_type": "stream",
     "text": [
      "13d2d245-85f8-4bbc-bdd6-020d108e98f0\n",
      "sim calculated successfully\n",
      "\n",
      "154.883 0.3601 154.254\n",
      "0 existing calculation records provided\n"
     ]
    },
    {
     "name": "stderr",
     "output_type": "stream",
     "text": [
      "100%|█████████████████████████████████████████████████████████████████████████████████████| 1/1 [00:00<00:00,  4.04it/s]"
     ]
    },
    {
     "name": "stdout",
     "output_type": "stream",
     "text": [
      "1 calculation combinations to check\n",
      "1 new records to prepare\n"
     ]
    },
    {
     "name": "stderr",
     "output_type": "stream",
     "text": [
      "\n",
      "preparing: 100%|##########################################################################| 1/1 [00:00<00:00, 51.99it/s]\n"
     ]
    },
    {
     "name": "stdout",
     "output_type": "stream",
     "text": [
      "29d3d220-f28e-4f5e-adf4-26b15bcf0afb\n",
      "sim calculated successfully\n",
      "\n",
      "102.441 0.4419 102.010\n",
      "0 existing calculation records provided\n"
     ]
    },
    {
     "name": "stderr",
     "output_type": "stream",
     "text": [
      "100%|█████████████████████████████████████████████████████████████████████████████████████| 1/1 [00:00<00:00,  2.36it/s]"
     ]
    },
    {
     "name": "stdout",
     "output_type": "stream",
     "text": [
      "1 calculation combinations to check\n",
      "1 new records to prepare\n"
     ]
    },
    {
     "name": "stderr",
     "output_type": "stream",
     "text": [
      "\n",
      "preparing: 100%|##########################################################################| 1/1 [00:00<00:00, 34.07it/s]\n"
     ]
    },
    {
     "name": "stdout",
     "output_type": "stream",
     "text": [
      "75608e35-b7b3-410a-8564-bfb032bda72f\n",
      "sim calculated successfully\n",
      "\n",
      "102.441 0.4511 102.146\n",
      "0 existing calculation records provided\n"
     ]
    },
    {
     "name": "stderr",
     "output_type": "stream",
     "text": [
      "100%|█████████████████████████████████████████████████████████████████████████████████████| 1/1 [00:00<00:00,  2.45it/s]"
     ]
    },
    {
     "name": "stdout",
     "output_type": "stream",
     "text": [
      "1 calculation combinations to check\n",
      "1 new records to prepare\n"
     ]
    },
    {
     "name": "stderr",
     "output_type": "stream",
     "text": [
      "\n",
      "preparing: 100%|##########################################################################| 1/1 [00:00<00:00, 63.78it/s]\n"
     ]
    },
    {
     "name": "stdout",
     "output_type": "stream",
     "text": [
      "87f34324-b144-4c18-a627-70d7fc19f012\n",
      "sim calculated successfully\n",
      "\n",
      "102.441 0.2856 102.444\n",
      "0 existing calculation records provided\n"
     ]
    },
    {
     "name": "stderr",
     "output_type": "stream",
     "text": [
      "100%|█████████████████████████████████████████████████████████████████████████████████████| 1/1 [00:00<00:00,  4.06it/s]"
     ]
    },
    {
     "name": "stdout",
     "output_type": "stream",
     "text": [
      "1 calculation combinations to check\n",
      "1 new records to prepare\n"
     ]
    },
    {
     "name": "stderr",
     "output_type": "stream",
     "text": [
      "\n",
      "preparing: 100%|##########################################################################| 1/1 [00:00<00:00, 82.96it/s]\n"
     ]
    },
    {
     "name": "stdout",
     "output_type": "stream",
     "text": [
      "be3403e7-47be-4445-b889-8399af89a49d\n",
      "sim calculated successfully\n",
      "\n",
      "76.221 0.8678 76.169\n",
      "0 existing calculation records provided\n"
     ]
    },
    {
     "name": "stderr",
     "output_type": "stream",
     "text": [
      "100%|█████████████████████████████████████████████████████████████████████████████████████| 1/1 [00:00<00:00,  2.33it/s]"
     ]
    },
    {
     "name": "stdout",
     "output_type": "stream",
     "text": [
      "1 calculation combinations to check\n",
      "1 new records to prepare\n"
     ]
    },
    {
     "name": "stderr",
     "output_type": "stream",
     "text": [
      "\n",
      "preparing: 100%|##########################################################################| 1/1 [00:00<00:00, 51.89it/s]\n"
     ]
    },
    {
     "name": "stdout",
     "output_type": "stream",
     "text": [
      "5a0c5df2-542c-466d-8484-4ce9defdbea6\n",
      "sim calculated successfully\n",
      "\n",
      "482.642 0.1707 480.158\n",
      "0 existing calculation records provided\n"
     ]
    },
    {
     "name": "stderr",
     "output_type": "stream",
     "text": [
      "100%|█████████████████████████████████████████████████████████████████████████████████████| 1/1 [00:00<00:00,  2.77it/s]"
     ]
    },
    {
     "name": "stdout",
     "output_type": "stream",
     "text": [
      "1 calculation combinations to check\n",
      "1 new records to prepare\n"
     ]
    },
    {
     "name": "stderr",
     "output_type": "stream",
     "text": [
      "\n",
      "preparing: 100%|##########################################################################| 1/1 [00:00<00:00, 64.78it/s]\n"
     ]
    },
    {
     "name": "stdout",
     "output_type": "stream",
     "text": [
      "403404cb-118a-4f06-af87-6f0451f2457e\n",
      "sim calculated successfully\n",
      "\n",
      "279.431 0.139 278.495\n",
      "0 existing calculation records provided\n"
     ]
    },
    {
     "name": "stderr",
     "output_type": "stream",
     "text": [
      "100%|█████████████████████████████████████████████████████████████████████████████████████| 1/1 [00:00<00:00,  2.28it/s]"
     ]
    },
    {
     "name": "stdout",
     "output_type": "stream",
     "text": [
      "1 calculation combinations to check\n",
      "1 new records to prepare\n"
     ]
    },
    {
     "name": "stderr",
     "output_type": "stream",
     "text": [
      "\n",
      "preparing: 100%|##########################################################################| 1/1 [00:00<00:00, 56.48it/s]\n"
     ]
    },
    {
     "name": "stdout",
     "output_type": "stream",
     "text": [
      "2c0cf044-d8ff-4b12-b22b-1b0f1e522cef\n",
      "sim calculated successfully\n",
      "\n",
      "177.826 0.1725 177.235\n",
      "0 existing calculation records provided\n"
     ]
    },
    {
     "name": "stderr",
     "output_type": "stream",
     "text": [
      "100%|█████████████████████████████████████████████████████████████████████████████████████| 1/1 [00:00<00:00,  2.27it/s]"
     ]
    },
    {
     "name": "stdout",
     "output_type": "stream",
     "text": [
      "1 calculation combinations to check\n",
      "1 new records to prepare\n"
     ]
    },
    {
     "name": "stderr",
     "output_type": "stream",
     "text": [
      "\n",
      "preparing: 100%|##########################################################################| 1/1 [00:00<00:00, 72.48it/s]\n"
     ]
    },
    {
     "name": "stdout",
     "output_type": "stream",
     "text": [
      "d55151b4-9b96-4961-a79f-5e892997747c\n",
      "sim calculated successfully\n",
      "\n",
      "127.023 0.706 126.401\n",
      "\n",
      "46 2003--Hoyt-J-J--Cu-Pb--LAMMPS--ipr1\n",
      "0 existing calculation records provided\n"
     ]
    },
    {
     "name": "stderr",
     "output_type": "stream",
     "text": [
      "100%|█████████████████████████████████████████████████████████████████████████████████████| 1/1 [00:00<00:00,  2.76it/s]"
     ]
    },
    {
     "name": "stdout",
     "output_type": "stream",
     "text": [
      "1 calculation combinations to check\n",
      "1 new records to prepare\n"
     ]
    },
    {
     "name": "stderr",
     "output_type": "stream",
     "text": [
      "\n",
      "preparing: 100%|##########################################################################| 1/1 [00:00<00:00, 81.95it/s]\n"
     ]
    },
    {
     "name": "stdout",
     "output_type": "stream",
     "text": [
      "f9397aef-e43f-4bc0-bda8-74d210231c57\n",
      "sim calculated successfully\n",
      "\n",
      "4525.000 0.1799 2678.026\n",
      "0 existing calculation records provided\n"
     ]
    },
    {
     "name": "stderr",
     "output_type": "stream",
     "text": [
      "100%|█████████████████████████████████████████████████████████████████████████████████████| 1/1 [00:00<00:00,  2.43it/s]"
     ]
    },
    {
     "name": "stdout",
     "output_type": "stream",
     "text": [
      "1 calculation combinations to check\n",
      "1 new records to prepare\n"
     ]
    },
    {
     "name": "stderr",
     "output_type": "stream",
     "text": [
      "\n",
      "preparing: 100%|##########################################################################| 1/1 [00:00<00:00, 34.65it/s]\n"
     ]
    },
    {
     "name": "stdout",
     "output_type": "stream",
     "text": [
      "a82714b0-56e0-4eb2-98f6-7da1d38d8962\n",
      "sim calculated successfully\n",
      "\n",
      "2287.500 0.0 2261.152\n",
      "0 existing calculation records provided\n"
     ]
    },
    {
     "name": "stderr",
     "output_type": "stream",
     "text": [
      "100%|█████████████████████████████████████████████████████████████████████████████████████| 1/1 [00:00<00:00,  2.45it/s]"
     ]
    },
    {
     "name": "stdout",
     "output_type": "stream",
     "text": [
      "1 calculation combinations to check\n",
      "1 new records to prepare\n"
     ]
    },
    {
     "name": "stderr",
     "output_type": "stream",
     "text": [
      "\n",
      "preparing: 100%|##########################################################################| 1/1 [00:00<00:00, 29.34it/s]\n"
     ]
    },
    {
     "name": "stdout",
     "output_type": "stream",
     "text": [
      "6068207a-9eba-4594-9fe3-77e217401799\n",
      "sim calculated successfully\n",
      "\n",
      "1168.750 0.0 1161.556\n",
      "0 existing calculation records provided\n"
     ]
    },
    {
     "name": "stderr",
     "output_type": "stream",
     "text": [
      "100%|█████████████████████████████████████████████████████████████████████████████████████| 1/1 [00:00<00:00,  4.42it/s]"
     ]
    },
    {
     "name": "stdout",
     "output_type": "stream",
     "text": [
      "1 calculation combinations to check\n",
      "1 new records to prepare\n"
     ]
    },
    {
     "name": "stderr",
     "output_type": "stream",
     "text": [
      "\n",
      "preparing: 100%|##########################################################################| 1/1 [00:00<00:00, 49.50it/s]\n"
     ]
    },
    {
     "name": "stdout",
     "output_type": "stream",
     "text": [
      "f65ecd45-d6e0-4f88-b642-dff5c20867e3\n",
      "sim calculated successfully\n",
      "\n",
      "609.375 0.034 579.842\n",
      "0 existing calculation records provided\n"
     ]
    },
    {
     "name": "stderr",
     "output_type": "stream",
     "text": [
      "100%|█████████████████████████████████████████████████████████████████████████████████████| 1/1 [00:00<00:00,  4.20it/s]"
     ]
    },
    {
     "name": "stdout",
     "output_type": "stream",
     "text": [
      "1 calculation combinations to check\n",
      "1 new records to prepare\n"
     ]
    },
    {
     "name": "stderr",
     "output_type": "stream",
     "text": [
      "\n",
      "preparing: 100%|##########################################################################| 1/1 [00:00<00:00, 44.16it/s]\n"
     ]
    },
    {
     "name": "stdout",
     "output_type": "stream",
     "text": [
      "bc9a29b0-547f-41ae-97a0-30f19d6a6d96\n",
      "sim calculated successfully\n",
      "\n",
      "329.688 0.04139 329.087\n",
      "0 existing calculation records provided\n"
     ]
    },
    {
     "name": "stderr",
     "output_type": "stream",
     "text": [
      "100%|█████████████████████████████████████████████████████████████████████████████████████| 1/1 [00:00<00:00,  2.24it/s]"
     ]
    },
    {
     "name": "stdout",
     "output_type": "stream",
     "text": [
      "1 calculation combinations to check\n",
      "1 new records to prepare\n"
     ]
    },
    {
     "name": "stderr",
     "output_type": "stream",
     "text": [
      "\n",
      "preparing: 100%|##########################################################################| 1/1 [00:00<00:00, 39.35it/s]\n"
     ]
    },
    {
     "name": "stdout",
     "output_type": "stream",
     "text": [
      "0c66c047-0ebb-4d92-b1f4-56c788b34951\n",
      "sim calculated successfully\n",
      "\n",
      "189.844 0.09125 196.034\n",
      "0 existing calculation records provided\n"
     ]
    },
    {
     "name": "stderr",
     "output_type": "stream",
     "text": [
      "100%|█████████████████████████████████████████████████████████████████████████████████████| 1/1 [00:00<00:00,  2.30it/s]"
     ]
    },
    {
     "name": "stdout",
     "output_type": "stream",
     "text": [
      "1 calculation combinations to check\n",
      "1 new records to prepare\n"
     ]
    },
    {
     "name": "stderr",
     "output_type": "stream",
     "text": [
      "\n",
      "preparing: 100%|##########################################################################| 1/1 [00:00<00:00, 38.14it/s]\n"
     ]
    },
    {
     "name": "stdout",
     "output_type": "stream",
     "text": [
      "73c09df6-6b0d-4bce-86f8-61efd8c3c2d2\n",
      "sim calculated successfully\n",
      "\n",
      "119.922 0.1413 120.491\n",
      "0 existing calculation records provided\n"
     ]
    },
    {
     "name": "stderr",
     "output_type": "stream",
     "text": [
      "100%|█████████████████████████████████████████████████████████████████████████████████████| 1/1 [00:00<00:00,  4.17it/s]"
     ]
    },
    {
     "name": "stdout",
     "output_type": "stream",
     "text": [
      "1 calculation combinations to check\n",
      "1 new records to prepare\n"
     ]
    },
    {
     "name": "stderr",
     "output_type": "stream",
     "text": [
      "\n",
      "preparing: 100%|##########################################################################| 1/1 [00:00<00:00, 72.84it/s]\n"
     ]
    },
    {
     "name": "stdout",
     "output_type": "stream",
     "text": [
      "15e18baa-728d-4efd-b165-ef38cfed8160\n",
      "sim calculated successfully\n",
      "\n",
      "84.961 0.02432 86.586\n",
      "0 existing calculation records provided\n"
     ]
    },
    {
     "name": "stderr",
     "output_type": "stream",
     "text": [
      "100%|█████████████████████████████████████████████████████████████████████████████████████| 1/1 [00:00<00:00,  3.86it/s]"
     ]
    },
    {
     "name": "stdout",
     "output_type": "stream",
     "text": [
      "1 calculation combinations to check\n",
      "1 new records to prepare\n"
     ]
    },
    {
     "name": "stderr",
     "output_type": "stream",
     "text": [
      "\n",
      "preparing: 100%|##########################################################################| 1/1 [00:00<00:00, 41.73it/s]\n"
     ]
    },
    {
     "name": "stdout",
     "output_type": "stream",
     "text": [
      "69811a35-5e27-4945-8c19-47a7897924bd\n",
      "sim calculated successfully\n",
      "\n",
      "67.480 0.02751 67.892\n",
      "0 existing calculation records provided\n"
     ]
    },
    {
     "name": "stderr",
     "output_type": "stream",
     "text": [
      "100%|█████████████████████████████████████████████████████████████████████████████████████| 1/1 [00:00<00:00,  2.38it/s]"
     ]
    },
    {
     "name": "stdout",
     "output_type": "stream",
     "text": [
      "1 calculation combinations to check\n",
      "1 new records to prepare\n"
     ]
    },
    {
     "name": "stderr",
     "output_type": "stream",
     "text": [
      "\n",
      "preparing: 100%|##########################################################################| 1/1 [00:00<00:00, 76.37it/s]\n"
     ]
    },
    {
     "name": "stdout",
     "output_type": "stream",
     "text": [
      "4e3a84df-948a-4f57-8d10-df097846694e\n",
      "sim calculated successfully\n",
      "\n",
      "58.740 0.01758 56.710\n",
      "0 existing calculation records provided\n"
     ]
    },
    {
     "name": "stderr",
     "output_type": "stream",
     "text": [
      "100%|█████████████████████████████████████████████████████████████████████████████████████| 1/1 [00:00<00:00,  2.31it/s]"
     ]
    },
    {
     "name": "stdout",
     "output_type": "stream",
     "text": [
      "1 calculation combinations to check\n",
      "1 new records to prepare\n"
     ]
    },
    {
     "name": "stderr",
     "output_type": "stream",
     "text": [
      "\n",
      "preparing: 100%|##########################################################################| 1/1 [00:00<00:00, 70.97it/s]\n"
     ]
    },
    {
     "name": "stdout",
     "output_type": "stream",
     "text": [
      "b6888822-76f2-4dce-825a-91ae70fde475\n",
      "sim calculated successfully\n",
      "\n",
      "54.370 0.01724 55.954\n",
      "0 existing calculation records provided\n"
     ]
    },
    {
     "name": "stderr",
     "output_type": "stream",
     "text": [
      "100%|█████████████████████████████████████████████████████████████████████████████████████| 1/1 [00:00<00:00,  4.24it/s]"
     ]
    },
    {
     "name": "stdout",
     "output_type": "stream",
     "text": [
      "1 calculation combinations to check\n",
      "1 new records to prepare\n"
     ]
    },
    {
     "name": "stderr",
     "output_type": "stream",
     "text": [
      "\n",
      "preparing: 100%|##########################################################################| 1/1 [00:00<00:00, 66.37it/s]\n"
     ]
    },
    {
     "name": "stdout",
     "output_type": "stream",
     "text": [
      "e515b7fb-d7cd-4f61-a60f-e203b3bdbcd2\n",
      "sim calculated successfully\n",
      "\n",
      "52.185 0.0174 54.374\n",
      "0 existing calculation records provided\n"
     ]
    },
    {
     "name": "stderr",
     "output_type": "stream",
     "text": [
      "100%|█████████████████████████████████████████████████████████████████████████████████████| 1/1 [00:00<00:00,  4.30it/s]"
     ]
    },
    {
     "name": "stdout",
     "output_type": "stream",
     "text": [
      "1 calculation combinations to check\n",
      "1 new records to prepare\n"
     ]
    },
    {
     "name": "stderr",
     "output_type": "stream",
     "text": [
      "\n",
      "preparing: 100%|##########################################################################| 1/1 [00:00<00:00, 37.55it/s]\n"
     ]
    },
    {
     "name": "stdout",
     "output_type": "stream",
     "text": [
      "36af24fc-7dad-4a2d-a7e7-b3aef42d203c\n",
      "sim calculated successfully\n",
      "\n",
      "51.093 0.01733 52.849\n",
      "0 existing calculation records provided\n"
     ]
    },
    {
     "name": "stderr",
     "output_type": "stream",
     "text": [
      "100%|█████████████████████████████████████████████████████████████████████████████████████| 1/1 [00:00<00:00,  4.56it/s]"
     ]
    },
    {
     "name": "stdout",
     "output_type": "stream",
     "text": [
      "1 calculation combinations to check\n",
      "1 new records to prepare\n"
     ]
    },
    {
     "name": "stderr",
     "output_type": "stream",
     "text": [
      "\n",
      "preparing: 100%|##########################################################################| 1/1 [00:00<00:00, 46.00it/s]\n"
     ]
    },
    {
     "name": "stdout",
     "output_type": "stream",
     "text": [
      "a6c3daea-39ae-4db3-8c09-28652a1a8fbe\n",
      "sim calculated successfully\n",
      "\n",
      "50.546 0.01619 52.491\n",
      "0 existing calculation records provided\n"
     ]
    },
    {
     "name": "stderr",
     "output_type": "stream",
     "text": [
      "100%|█████████████████████████████████████████████████████████████████████████████████████| 1/1 [00:00<00:00,  4.17it/s]"
     ]
    },
    {
     "name": "stdout",
     "output_type": "stream",
     "text": [
      "1 calculation combinations to check\n",
      "1 new records to prepare\n"
     ]
    },
    {
     "name": "stderr",
     "output_type": "stream",
     "text": [
      "\n",
      "preparing: 100%|##########################################################################| 1/1 [00:00<00:00, 82.31it/s]\n"
     ]
    },
    {
     "name": "stdout",
     "output_type": "stream",
     "text": [
      "981643a6-5579-4b2c-8229-4163dced76db\n",
      "sim calculated successfully\n",
      "\n",
      "50.273 0.01522 52.203\n",
      "0 existing calculation records provided\n"
     ]
    },
    {
     "name": "stderr",
     "output_type": "stream",
     "text": [
      "100%|█████████████████████████████████████████████████████████████████████████████████████| 1/1 [00:00<00:00,  4.25it/s]"
     ]
    },
    {
     "name": "stdout",
     "output_type": "stream",
     "text": [
      "1 calculation combinations to check\n",
      "1 new records to prepare\n"
     ]
    },
    {
     "name": "stderr",
     "output_type": "stream",
     "text": [
      "\n",
      "preparing: 100%|##########################################################################| 1/1 [00:00<00:00, 36.42it/s]\n"
     ]
    },
    {
     "name": "stdout",
     "output_type": "stream",
     "text": [
      "dc7bd376-c67f-430a-85ba-b3771e96716b\n",
      "sim calculated successfully\n",
      "\n",
      "50.137 0.01566 52.101\n",
      "0 existing calculation records provided\n"
     ]
    },
    {
     "name": "stderr",
     "output_type": "stream",
     "text": [
      "100%|█████████████████████████████████████████████████████████████████████████████████████| 1/1 [00:00<00:00,  4.29it/s]"
     ]
    },
    {
     "name": "stdout",
     "output_type": "stream",
     "text": [
      "1 calculation combinations to check\n",
      "1 new records to prepare\n"
     ]
    },
    {
     "name": "stderr",
     "output_type": "stream",
     "text": [
      "\n",
      "preparing: 100%|##########################################################################| 1/1 [00:00<00:00, 46.61it/s]\n"
     ]
    },
    {
     "name": "stdout",
     "output_type": "stream",
     "text": [
      "4810c632-7f78-4f93-bc26-d38943edad8c\n",
      "sim calculated successfully\n",
      "\n",
      "50.068 0.01544 51.977\n",
      "0 existing calculation records provided\n"
     ]
    },
    {
     "name": "stderr",
     "output_type": "stream",
     "text": [
      "100%|█████████████████████████████████████████████████████████████████████████████████████| 1/1 [00:00<00:00,  4.33it/s]"
     ]
    },
    {
     "name": "stdout",
     "output_type": "stream",
     "text": [
      "1 calculation combinations to check\n",
      "1 new records to prepare\n"
     ]
    },
    {
     "name": "stderr",
     "output_type": "stream",
     "text": [
      "\n",
      "preparing: 100%|##########################################################################| 1/1 [00:00<00:00, 48.35it/s]\n"
     ]
    },
    {
     "name": "stdout",
     "output_type": "stream",
     "text": [
      "89042466-d5ca-42cb-909e-65536ee85f7a\n",
      "sim calculated successfully\n",
      "\n",
      "50.034 0.01587 51.708\n",
      "0 existing calculation records provided\n"
     ]
    },
    {
     "name": "stderr",
     "output_type": "stream",
     "text": [
      "100%|█████████████████████████████████████████████████████████████████████████████████████| 1/1 [00:00<00:00,  4.31it/s]"
     ]
    },
    {
     "name": "stdout",
     "output_type": "stream",
     "text": [
      "1 calculation combinations to check\n",
      "1 new records to prepare\n"
     ]
    },
    {
     "name": "stderr",
     "output_type": "stream",
     "text": [
      "\n",
      "preparing: 100%|##########################################################################| 1/1 [00:00<00:00, 92.10it/s]\n"
     ]
    },
    {
     "name": "stdout",
     "output_type": "stream",
     "text": [
      "e61b769e-ec91-490d-b25a-41948f42f431\n",
      "sim calculated successfully\n",
      "\n",
      "50.017 0.01611 52.099\n",
      "0 existing calculation records provided\n"
     ]
    },
    {
     "name": "stderr",
     "output_type": "stream",
     "text": [
      "100%|█████████████████████████████████████████████████████████████████████████████████████| 1/1 [00:00<00:00,  4.26it/s]"
     ]
    },
    {
     "name": "stdout",
     "output_type": "stream",
     "text": [
      "1 calculation combinations to check\n",
      "1 new records to prepare\n"
     ]
    },
    {
     "name": "stderr",
     "output_type": "stream",
     "text": [
      "\n",
      "preparing: 100%|##########################################################################| 1/1 [00:00<00:00, 83.00it/s]\n"
     ]
    },
    {
     "name": "stdout",
     "output_type": "stream",
     "text": [
      "7b32505c-6405-4298-8eee-6365590cb5c0\n",
      "sim calculated successfully\n",
      "\n",
      "50.009 0.01624 51.972\n",
      "0 existing calculation records provided\n"
     ]
    },
    {
     "name": "stderr",
     "output_type": "stream",
     "text": [
      "100%|█████████████████████████████████████████████████████████████████████████████████████| 1/1 [00:00<00:00,  4.19it/s]"
     ]
    },
    {
     "name": "stdout",
     "output_type": "stream",
     "text": [
      "1 calculation combinations to check\n",
      "1 new records to prepare\n"
     ]
    },
    {
     "name": "stderr",
     "output_type": "stream",
     "text": [
      "\n",
      "preparing: 100%|##########################################################################| 1/1 [00:00<00:00, 79.03it/s]\n"
     ]
    },
    {
     "name": "stdout",
     "output_type": "stream",
     "text": [
      "eb18bb7c-e795-46a0-8658-b53f820e3437\n",
      "sim calculated successfully\n",
      "\n",
      "50.004 0.01574 51.953\n",
      "0 existing calculation records provided\n"
     ]
    },
    {
     "name": "stderr",
     "output_type": "stream",
     "text": [
      "100%|█████████████████████████████████████████████████████████████████████████████████████| 1/1 [00:00<00:00,  4.25it/s]"
     ]
    },
    {
     "name": "stdout",
     "output_type": "stream",
     "text": [
      "1 calculation combinations to check\n",
      "1 new records to prepare\n"
     ]
    },
    {
     "name": "stderr",
     "output_type": "stream",
     "text": [
      "\n",
      "preparing: 100%|##########################################################################| 1/1 [00:00<00:00, 73.33it/s]\n"
     ]
    },
    {
     "name": "stdout",
     "output_type": "stream",
     "text": [
      "5421107f-5135-4ba6-8754-c33d9ee6edeb\n",
      "sim calculated successfully\n",
      "\n",
      "50.002 0.01587 52.025\n",
      "0 existing calculation records provided\n"
     ]
    },
    {
     "name": "stderr",
     "output_type": "stream",
     "text": [
      "100%|█████████████████████████████████████████████████████████████████████████████████████| 1/1 [00:00<00:00,  4.39it/s]"
     ]
    },
    {
     "name": "stdout",
     "output_type": "stream",
     "text": [
      "1 calculation combinations to check\n",
      "1 new records to prepare\n"
     ]
    },
    {
     "name": "stderr",
     "output_type": "stream",
     "text": [
      "\n",
      "preparing: 100%|##########################################################################| 1/1 [00:00<00:00, 33.04it/s]\n"
     ]
    },
    {
     "name": "stdout",
     "output_type": "stream",
     "text": [
      "10cc8a3f-3011-4b4d-a79b-77fcc6f683ea\n",
      "sim calculated successfully\n",
      "\n",
      "50.001 0.01701 52.160\n",
      "0 existing calculation records provided\n"
     ]
    },
    {
     "name": "stderr",
     "output_type": "stream",
     "text": [
      "100%|█████████████████████████████████████████████████████████████████████████████████████| 1/1 [00:00<00:00,  4.34it/s]"
     ]
    },
    {
     "name": "stdout",
     "output_type": "stream",
     "text": [
      "1 calculation combinations to check\n",
      "1 new records to prepare\n"
     ]
    },
    {
     "name": "stderr",
     "output_type": "stream",
     "text": [
      "\n",
      "preparing: 100%|##########################################################################| 1/1 [00:00<00:00, 48.06it/s]\n"
     ]
    },
    {
     "name": "stdout",
     "output_type": "stream",
     "text": [
      "f6819150-23c6-4481-a2c7-6eb005e568b0\n",
      "sim calculated successfully\n",
      "\n",
      "50.001 0.0151 52.188\n",
      "0 existing calculation records provided\n"
     ]
    },
    {
     "name": "stderr",
     "output_type": "stream",
     "text": [
      "100%|█████████████████████████████████████████████████████████████████████████████████████| 1/1 [00:00<00:00,  4.32it/s]"
     ]
    },
    {
     "name": "stdout",
     "output_type": "stream",
     "text": [
      "1 calculation combinations to check\n",
      "1 new records to prepare\n"
     ]
    },
    {
     "name": "stderr",
     "output_type": "stream",
     "text": [
      "\n",
      "preparing: 100%|##########################################################################| 1/1 [00:00<00:00, 62.35it/s]\n"
     ]
    },
    {
     "name": "stdout",
     "output_type": "stream",
     "text": [
      "81b86a4d-b320-4687-a83b-98bf79922419\n",
      "sim calculated successfully\n",
      "\n",
      "50.000 0.01698 52.172\n",
      "0 existing calculation records provided\n"
     ]
    },
    {
     "name": "stderr",
     "output_type": "stream",
     "text": [
      "100%|█████████████████████████████████████████████████████████████████████████████████████| 1/1 [00:00<00:00,  2.34it/s]"
     ]
    },
    {
     "name": "stdout",
     "output_type": "stream",
     "text": [
      "1 calculation combinations to check\n",
      "1 new records to prepare\n"
     ]
    },
    {
     "name": "stderr",
     "output_type": "stream",
     "text": [
      "\n",
      "preparing: 100%|##########################################################################| 1/1 [00:00<00:00, 84.18it/s]\n"
     ]
    },
    {
     "name": "stdout",
     "output_type": "stream",
     "text": [
      "4ec02b37-607b-42ee-a0dd-4a9466374ecb\n",
      "sim calculated successfully\n",
      "\n",
      "50.000 0.01519 52.166\n",
      "0 existing calculation records provided\n"
     ]
    },
    {
     "name": "stderr",
     "output_type": "stream",
     "text": [
      "100%|█████████████████████████████████████████████████████████████████████████████████████| 1/1 [00:00<00:00,  2.88it/s]"
     ]
    },
    {
     "name": "stdout",
     "output_type": "stream",
     "text": [
      "1 calculation combinations to check\n",
      "1 new records to prepare\n"
     ]
    },
    {
     "name": "stderr",
     "output_type": "stream",
     "text": [
      "\n",
      "preparing: 100%|##########################################################################| 1/1 [00:00<00:00, 37.30it/s]\n"
     ]
    },
    {
     "name": "stdout",
     "output_type": "stream",
     "text": [
      "3aed8a8c-4900-4bc9-a4d9-0bbe139eb272\n",
      "sim calculated successfully\n",
      "\n",
      "50.000 0.01485 52.152\n",
      "0 existing calculation records provided\n"
     ]
    },
    {
     "name": "stderr",
     "output_type": "stream",
     "text": [
      "100%|█████████████████████████████████████████████████████████████████████████████████████| 1/1 [00:00<00:00,  4.49it/s]"
     ]
    },
    {
     "name": "stdout",
     "output_type": "stream",
     "text": [
      "1 calculation combinations to check\n",
      "1 new records to prepare\n"
     ]
    },
    {
     "name": "stderr",
     "output_type": "stream",
     "text": [
      "\n",
      "preparing: 100%|##########################################################################| 1/1 [00:00<00:00, 46.06it/s]\n"
     ]
    },
    {
     "name": "stdout",
     "output_type": "stream",
     "text": [
      "5595c679-32de-45de-b081-f8cfbf82fe21\n",
      "sim calculated successfully\n",
      "\n",
      "50.000 0.01605 52.152\n",
      "0 existing calculation records provided\n"
     ]
    },
    {
     "name": "stderr",
     "output_type": "stream",
     "text": [
      "100%|█████████████████████████████████████████████████████████████████████████████████████| 1/1 [00:00<00:00,  4.57it/s]"
     ]
    },
    {
     "name": "stdout",
     "output_type": "stream",
     "text": [
      "1 calculation combinations to check\n",
      "1 new records to prepare\n"
     ]
    },
    {
     "name": "stderr",
     "output_type": "stream",
     "text": [
      "\n",
      "preparing: 100%|##########################################################################| 1/1 [00:00<00:00, 34.72it/s]\n"
     ]
    },
    {
     "name": "stdout",
     "output_type": "stream",
     "text": [
      "686d6438-8f58-4633-9dd1-7a3ffec24a3d\n",
      "sim calculated successfully\n",
      "\n",
      "50.000 0.01672 52.170\n",
      "0 existing calculation records provided\n"
     ]
    },
    {
     "name": "stderr",
     "output_type": "stream",
     "text": [
      "100%|█████████████████████████████████████████████████████████████████████████████████████| 1/1 [00:00<00:00,  4.55it/s]"
     ]
    },
    {
     "name": "stdout",
     "output_type": "stream",
     "text": [
      "1 calculation combinations to check\n",
      "1 new records to prepare\n"
     ]
    },
    {
     "name": "stderr",
     "output_type": "stream",
     "text": [
      "\n",
      "preparing: 100%|##########################################################################| 1/1 [00:00<00:00, 47.52it/s]\n"
     ]
    },
    {
     "name": "stdout",
     "output_type": "stream",
     "text": [
      "8ef2bc12-c574-42eb-ad21-f6b9473ce9df\n",
      "sim calculated successfully\n",
      "\n",
      "50.000 0.01561 52.170\n",
      "0 existing calculation records provided\n"
     ]
    },
    {
     "name": "stderr",
     "output_type": "stream",
     "text": [
      "100%|█████████████████████████████████████████████████████████████████████████████████████| 1/1 [00:00<00:00,  4.52it/s]"
     ]
    },
    {
     "name": "stdout",
     "output_type": "stream",
     "text": [
      "1 calculation combinations to check\n",
      "1 new records to prepare\n"
     ]
    },
    {
     "name": "stderr",
     "output_type": "stream",
     "text": [
      "\n",
      "preparing: 100%|##########################################################################| 1/1 [00:00<00:00, 38.36it/s]\n"
     ]
    },
    {
     "name": "stdout",
     "output_type": "stream",
     "text": [
      "d2280d84-ffbb-4e26-851d-3cd5cac4d501\n",
      "sim calculated successfully\n",
      "\n",
      "50.000 0.01675 52.145\n",
      "0 existing calculation records provided\n"
     ]
    },
    {
     "name": "stderr",
     "output_type": "stream",
     "text": [
      "100%|█████████████████████████████████████████████████████████████████████████████████████| 1/1 [00:00<00:00,  4.44it/s]"
     ]
    },
    {
     "name": "stdout",
     "output_type": "stream",
     "text": [
      "1 calculation combinations to check\n",
      "1 new records to prepare\n"
     ]
    },
    {
     "name": "stderr",
     "output_type": "stream",
     "text": [
      "\n",
      "preparing: 100%|##########################################################################| 1/1 [00:00<00:00, 39.86it/s]\n"
     ]
    },
    {
     "name": "stdout",
     "output_type": "stream",
     "text": [
      "dee160f1-26a6-475e-ba5d-c0f509dac056\n",
      "sim calculated successfully\n",
      "\n",
      "50.000 0.01634 52.165\n",
      "0 existing calculation records provided\n"
     ]
    },
    {
     "name": "stderr",
     "output_type": "stream",
     "text": [
      "100%|█████████████████████████████████████████████████████████████████████████████████████| 1/1 [00:00<00:00,  4.52it/s]"
     ]
    },
    {
     "name": "stdout",
     "output_type": "stream",
     "text": [
      "1 calculation combinations to check\n",
      "1 new records to prepare\n"
     ]
    },
    {
     "name": "stderr",
     "output_type": "stream",
     "text": [
      "\n",
      "preparing: 100%|##########################################################################| 1/1 [00:00<00:00, 86.99it/s]\n"
     ]
    },
    {
     "name": "stdout",
     "output_type": "stream",
     "text": [
      "8b5a0045-c450-4388-aaba-654c97a0a95b\n",
      "sim calculated successfully\n",
      "\n",
      "50.000 0.01633 52.176\n",
      "0 existing calculation records provided\n"
     ]
    },
    {
     "name": "stderr",
     "output_type": "stream",
     "text": [
      "100%|█████████████████████████████████████████████████████████████████████████████████████| 1/1 [00:00<00:00,  4.47it/s]"
     ]
    },
    {
     "name": "stdout",
     "output_type": "stream",
     "text": [
      "1 calculation combinations to check\n",
      "1 new records to prepare\n"
     ]
    },
    {
     "name": "stderr",
     "output_type": "stream",
     "text": [
      "\n",
      "preparing: 100%|##########################################################################| 1/1 [00:00<00:00, 42.65it/s]\n"
     ]
    },
    {
     "name": "stdout",
     "output_type": "stream",
     "text": [
      "169f2d89-5b37-4ac9-b48c-d292116ac547\n",
      "sim calculated successfully\n",
      "\n",
      "50.000 0.01612 52.158\n",
      "0 existing calculation records provided\n"
     ]
    },
    {
     "name": "stderr",
     "output_type": "stream",
     "text": [
      "100%|█████████████████████████████████████████████████████████████████████████████████████| 1/1 [00:00<00:00,  4.36it/s]"
     ]
    },
    {
     "name": "stdout",
     "output_type": "stream",
     "text": [
      "1 calculation combinations to check\n",
      "1 new records to prepare\n"
     ]
    },
    {
     "name": "stderr",
     "output_type": "stream",
     "text": [
      "\n",
      "preparing: 100%|##########################################################################| 1/1 [00:00<00:00, 42.24it/s]\n"
     ]
    },
    {
     "name": "stdout",
     "output_type": "stream",
     "text": [
      "2e52450b-0513-4db8-817d-244d37dee3cb\n",
      "sim calculated successfully\n",
      "\n",
      "50.000 0.01604 52.167\n",
      "Max number of runs reached!\n",
      "\n",
      "47 2003--Li-Y-H--Ta--LAMMPS--ipr1\n",
      "0 existing calculation records provided\n"
     ]
    },
    {
     "name": "stderr",
     "output_type": "stream",
     "text": [
      "100%|█████████████████████████████████████████████████████████████████████████████████████| 1/1 [00:00<00:00,  2.74it/s]"
     ]
    },
    {
     "name": "stdout",
     "output_type": "stream",
     "text": [
      "1 calculation combinations to check\n",
      "1 new records to prepare\n"
     ]
    },
    {
     "name": "stderr",
     "output_type": "stream",
     "text": [
      "\n",
      "preparing: 100%|##########################################################################| 1/1 [00:00<00:00, 97.59it/s]\n"
     ]
    },
    {
     "name": "stdout",
     "output_type": "stream",
     "text": [
      "7f939e10-4080-4017-b008-4e2c1a51f794\n",
      "sim calculated successfully\n",
      "\n",
      "4525.000 3.103e-05 4474.276\n",
      "0 existing calculation records provided\n"
     ]
    },
    {
     "name": "stderr",
     "output_type": "stream",
     "text": [
      "100%|█████████████████████████████████████████████████████████████████████████████████████| 1/1 [00:00<00:00,  3.04it/s]"
     ]
    },
    {
     "name": "stdout",
     "output_type": "stream",
     "text": [
      "1 calculation combinations to check\n",
      "1 new records to prepare\n"
     ]
    },
    {
     "name": "stderr",
     "output_type": "stream",
     "text": [
      "\n",
      "preparing: 100%|##########################################################################| 1/1 [00:00<00:00, 52.32it/s]\n"
     ]
    },
    {
     "name": "stdout",
     "output_type": "stream",
     "text": [
      "ccf47632-d27e-41eb-9e8f-7cb1343462e6\n",
      "sim calculated successfully\n",
      "\n",
      "2287.500 0.9961 2277.430\n",
      "0 existing calculation records provided\n"
     ]
    },
    {
     "name": "stderr",
     "output_type": "stream",
     "text": [
      "100%|█████████████████████████████████████████████████████████████████████████████████████| 1/1 [00:00<00:00,  3.00it/s]"
     ]
    },
    {
     "name": "stdout",
     "output_type": "stream",
     "text": [
      "1 calculation combinations to check\n",
      "1 new records to prepare\n"
     ]
    },
    {
     "name": "stderr",
     "output_type": "stream",
     "text": [
      "\n",
      "preparing: 100%|##########################################################################| 1/1 [00:00<00:00, 49.44it/s]\n"
     ]
    },
    {
     "name": "stdout",
     "output_type": "stream",
     "text": [
      "4267841f-4e13-4ca3-b4b6-5ac4a7050618\n",
      "sim calculated successfully\n",
      "\n",
      "3406.250 0.3996 3317.022\n",
      "0 existing calculation records provided\n"
     ]
    },
    {
     "name": "stderr",
     "output_type": "stream",
     "text": [
      "100%|█████████████████████████████████████████████████████████████████████████████████████| 1/1 [00:00<00:00,  4.28it/s]"
     ]
    },
    {
     "name": "stdout",
     "output_type": "stream",
     "text": [
      "1 calculation combinations to check\n",
      "1 new records to prepare\n"
     ]
    },
    {
     "name": "stderr",
     "output_type": "stream",
     "text": [
      "\n",
      "preparing: 100%|##########################################################################| 1/1 [00:00<00:00, 84.45it/s]\n"
     ]
    },
    {
     "name": "stdout",
     "output_type": "stream",
     "text": [
      "ebc40229-b0d3-4de3-8a2a-de16332ae3be\n",
      "sim calculated successfully\n",
      "\n",
      "2846.875 0.9404 3059.026\n",
      "0 existing calculation records provided\n"
     ]
    },
    {
     "name": "stderr",
     "output_type": "stream",
     "text": [
      "100%|█████████████████████████████████████████████████████████████████████████████████████| 1/1 [00:00<00:00,  4.31it/s]"
     ]
    },
    {
     "name": "stdout",
     "output_type": "stream",
     "text": [
      "1 calculation combinations to check\n",
      "1 new records to prepare\n"
     ]
    },
    {
     "name": "stderr",
     "output_type": "stream",
     "text": [
      "\n",
      "preparing: 100%|##########################################################################| 1/1 [00:00<00:00, 88.43it/s]\n"
     ]
    },
    {
     "name": "stdout",
     "output_type": "stream",
     "text": [
      "ee98a021-187c-417d-a31c-2468e0b7fe71\n",
      "sim calculated successfully\n",
      "\n",
      "3685.938 0.0003414 3235.966\n",
      "0 existing calculation records provided\n"
     ]
    },
    {
     "name": "stderr",
     "output_type": "stream",
     "text": [
      "100%|█████████████████████████████████████████████████████████████████████████████████████| 1/1 [00:00<00:00,  4.61it/s]"
     ]
    },
    {
     "name": "stdout",
     "output_type": "stream",
     "text": [
      "1 calculation combinations to check\n",
      "1 new records to prepare\n"
     ]
    },
    {
     "name": "stderr",
     "output_type": "stream",
     "text": [
      "\n",
      "preparing: 100%|##########################################################################| 1/1 [00:00<00:00, 50.57it/s]\n"
     ]
    },
    {
     "name": "stdout",
     "output_type": "stream",
     "text": [
      "b37df2db-e743-48fc-9338-d0a667e253be\n",
      "sim calculated successfully\n",
      "\n",
      "3266.406 0.5547 3292.821\n",
      "0 existing calculation records provided\n"
     ]
    },
    {
     "name": "stderr",
     "output_type": "stream",
     "text": [
      "100%|█████████████████████████████████████████████████████████████████████████████████████| 1/1 [00:00<00:00,  4.36it/s]"
     ]
    },
    {
     "name": "stdout",
     "output_type": "stream",
     "text": [
      "1 calculation combinations to check\n",
      "1 new records to prepare\n"
     ]
    },
    {
     "name": "stderr",
     "output_type": "stream",
     "text": [
      "\n",
      "preparing: 100%|##########################################################################| 1/1 [00:00<00:00, 36.72it/s]\n"
     ]
    },
    {
     "name": "stdout",
     "output_type": "stream",
     "text": [
      "73601d19-958f-471c-bbcc-ae3f7c6aa06f\n",
      "sim calculated successfully\n",
      "\n",
      "3266.406 0.5637 3312.407\n",
      "0 existing calculation records provided\n"
     ]
    },
    {
     "name": "stderr",
     "output_type": "stream",
     "text": [
      "100%|█████████████████████████████████████████████████████████████████████████████████████| 1/1 [00:00<00:00,  3.53it/s]"
     ]
    },
    {
     "name": "stdout",
     "output_type": "stream",
     "text": [
      "1 calculation combinations to check\n",
      "1 new records to prepare\n"
     ]
    },
    {
     "name": "stderr",
     "output_type": "stream",
     "text": [
      "\n",
      "preparing: 100%|##########################################################################| 1/1 [00:00<00:00, 42.55it/s]\n"
     ]
    },
    {
     "name": "stdout",
     "output_type": "stream",
     "text": [
      "6b6928f6-2281-4f5c-af5d-774a0cb141de\n",
      "sim calculated successfully\n",
      "\n",
      "3266.406 0.5578 3296.103\n",
      "0 existing calculation records provided\n"
     ]
    },
    {
     "name": "stderr",
     "output_type": "stream",
     "text": [
      "100%|█████████████████████████████████████████████████████████████████████████████████████| 1/1 [00:00<00:00,  2.88it/s]"
     ]
    },
    {
     "name": "stdout",
     "output_type": "stream",
     "text": [
      "1 calculation combinations to check\n",
      "1 new records to prepare\n"
     ]
    },
    {
     "name": "stderr",
     "output_type": "stream",
     "text": [
      "\n",
      "preparing: 100%|##########################################################################| 1/1 [00:00<00:00, 68.75it/s]\n"
     ]
    },
    {
     "name": "stdout",
     "output_type": "stream",
     "text": [
      "c59bf9f6-92b6-4958-92af-12dd81c17fc7\n",
      "sim calculated successfully\n",
      "\n",
      "3266.406 0.5415 3289.849\n",
      "0 existing calculation records provided\n"
     ]
    },
    {
     "name": "stderr",
     "output_type": "stream",
     "text": [
      "100%|█████████████████████████████████████████████████████████████████████████████████████| 1/1 [00:00<00:00,  2.99it/s]"
     ]
    },
    {
     "name": "stdout",
     "output_type": "stream",
     "text": [
      "1 calculation combinations to check\n",
      "1 new records to prepare\n"
     ]
    },
    {
     "name": "stderr",
     "output_type": "stream",
     "text": [
      "\n",
      "preparing: 100%|##########################################################################| 1/1 [00:00<00:00, 94.03it/s]\n"
     ]
    },
    {
     "name": "stdout",
     "output_type": "stream",
     "text": [
      "95b085e3-5b71-4c5b-8829-4e8463c21fc5\n",
      "sim calculated successfully\n",
      "\n",
      "3266.406 0.5284 3306.307\n",
      "0 existing calculation records provided\n"
     ]
    },
    {
     "name": "stderr",
     "output_type": "stream",
     "text": [
      "100%|█████████████████████████████████████████████████████████████████████████████████████| 1/1 [00:00<00:00,  2.79it/s]"
     ]
    },
    {
     "name": "stdout",
     "output_type": "stream",
     "text": [
      "1 calculation combinations to check\n",
      "1 new records to prepare\n"
     ]
    },
    {
     "name": "stderr",
     "output_type": "stream",
     "text": [
      "\n",
      "preparing: 100%|##########################################################################| 1/1 [00:00<00:00, 88.59it/s]\n"
     ]
    },
    {
     "name": "stdout",
     "output_type": "stream",
     "text": [
      "e41f007c-94ed-4992-badb-db46388a4513\n",
      "sim calculated successfully\n",
      "\n",
      "3266.406 0.5585 3296.943\n",
      "0 existing calculation records provided\n"
     ]
    },
    {
     "name": "stderr",
     "output_type": "stream",
     "text": [
      "100%|█████████████████████████████████████████████████████████████████████████████████████| 1/1 [00:00<00:00,  2.77it/s]"
     ]
    },
    {
     "name": "stdout",
     "output_type": "stream",
     "text": [
      "1 calculation combinations to check\n",
      "1 new records to prepare\n"
     ]
    },
    {
     "name": "stderr",
     "output_type": "stream",
     "text": [
      "\n",
      "preparing: 100%|##########################################################################| 1/1 [00:00<00:00, 50.08it/s]\n"
     ]
    },
    {
     "name": "stdout",
     "output_type": "stream",
     "text": [
      "4dece36b-dc80-4893-9e0d-e440c6173590\n",
      "sim calculated successfully\n",
      "\n",
      "3266.406 0.532 3273.121\n",
      "0 existing calculation records provided\n"
     ]
    },
    {
     "name": "stderr",
     "output_type": "stream",
     "text": [
      "100%|█████████████████████████████████████████████████████████████████████████████████████| 1/1 [00:00<00:00,  4.40it/s]"
     ]
    },
    {
     "name": "stdout",
     "output_type": "stream",
     "text": [
      "1 calculation combinations to check\n",
      "1 new records to prepare\n"
     ]
    },
    {
     "name": "stderr",
     "output_type": "stream",
     "text": [
      "\n",
      "preparing: 100%|##########################################################################| 1/1 [00:00<00:00, 48.00it/s]\n"
     ]
    },
    {
     "name": "stdout",
     "output_type": "stream",
     "text": [
      "b609db0b-f3af-4d1f-b790-d5fa1f05d498\n",
      "sim calculated successfully\n",
      "\n",
      "3266.406 0.556 3309.517\n",
      "0 existing calculation records provided\n"
     ]
    },
    {
     "name": "stderr",
     "output_type": "stream",
     "text": [
      "100%|█████████████████████████████████████████████████████████████████████████████████████| 1/1 [00:00<00:00,  2.89it/s]"
     ]
    },
    {
     "name": "stdout",
     "output_type": "stream",
     "text": [
      "1 calculation combinations to check\n",
      "1 new records to prepare\n"
     ]
    },
    {
     "name": "stderr",
     "output_type": "stream",
     "text": [
      "\n",
      "preparing: 100%|##########################################################################| 1/1 [00:00<00:00, 68.97it/s]\n"
     ]
    },
    {
     "name": "stdout",
     "output_type": "stream",
     "text": [
      "1fd05860-6ff8-4a1b-a448-c23295472e0c\n",
      "sim calculated successfully\n",
      "\n",
      "3266.406 0.5514 3311.678\n",
      "\n",
      "48 2003--Mendelev-M-I--Fe-2--LAMMPS--ipr1\n",
      "0 existing calculation records provided\n"
     ]
    },
    {
     "name": "stderr",
     "output_type": "stream",
     "text": [
      "100%|█████████████████████████████████████████████████████████████████████████████████████| 1/1 [00:00<00:00,  2.83it/s]"
     ]
    },
    {
     "name": "stdout",
     "output_type": "stream",
     "text": [
      "1 calculation combinations to check\n",
      "1 new records to prepare\n"
     ]
    },
    {
     "name": "stderr",
     "output_type": "stream",
     "text": [
      "\n",
      "preparing: 100%|##########################################################################| 1/1 [00:00<00:00, 42.26it/s]\n"
     ]
    },
    {
     "name": "stdout",
     "output_type": "stream",
     "text": [
      "24abb35f-a49a-4958-b032-404a53f4fd07\n",
      "sim calculated successfully\n",
      "\n",
      "4525.000 0.0009414 4634.940\n",
      "0 existing calculation records provided\n"
     ]
    },
    {
     "name": "stderr",
     "output_type": "stream",
     "text": [
      "100%|█████████████████████████████████████████████████████████████████████████████████████| 1/1 [00:00<00:00,  3.20it/s]"
     ]
    },
    {
     "name": "stdout",
     "output_type": "stream",
     "text": [
      "1 calculation combinations to check\n",
      "1 new records to prepare\n"
     ]
    },
    {
     "name": "stderr",
     "output_type": "stream",
     "text": [
      "\n",
      "preparing: 100%|##########################################################################| 1/1 [00:00<00:00, 57.88it/s]\n"
     ]
    },
    {
     "name": "stdout",
     "output_type": "stream",
     "text": [
      "17a0201a-b26f-4ce2-a612-e1a2d26439bc\n",
      "sim calculated successfully\n",
      "\n",
      "2287.500 0.0001138 2227.630\n",
      "0 existing calculation records provided\n"
     ]
    },
    {
     "name": "stderr",
     "output_type": "stream",
     "text": [
      "100%|█████████████████████████████████████████████████████████████████████████████████████| 1/1 [00:00<00:00,  2.86it/s]"
     ]
    },
    {
     "name": "stdout",
     "output_type": "stream",
     "text": [
      "1 calculation combinations to check\n",
      "1 new records to prepare\n"
     ]
    },
    {
     "name": "stderr",
     "output_type": "stream",
     "text": [
      "\n",
      "preparing: 100%|##########################################################################| 1/1 [00:00<00:00, 79.67it/s]\n"
     ]
    },
    {
     "name": "stdout",
     "output_type": "stream",
     "text": [
      "07f716ad-b533-4c21-a1c4-5b509508ef77\n",
      "sim calculated successfully\n",
      "\n",
      "1168.750 0.998 1165.192\n",
      "0 existing calculation records provided\n"
     ]
    },
    {
     "name": "stderr",
     "output_type": "stream",
     "text": [
      "100%|█████████████████████████████████████████████████████████████████████████████████████| 1/1 [00:00<00:00,  2.98it/s]"
     ]
    },
    {
     "name": "stdout",
     "output_type": "stream",
     "text": [
      "1 calculation combinations to check\n",
      "1 new records to prepare\n"
     ]
    },
    {
     "name": "stderr",
     "output_type": "stream",
     "text": [
      "\n",
      "preparing: 100%|##########################################################################| 1/1 [00:00<00:00, 67.89it/s]\n"
     ]
    },
    {
     "name": "stdout",
     "output_type": "stream",
     "text": [
      "d1e0f101-1b11-4d3c-978c-b80acae76ceb\n",
      "sim calculated successfully\n",
      "\n",
      "1728.125 0.7906 1880.344\n",
      "0 existing calculation records provided\n"
     ]
    },
    {
     "name": "stderr",
     "output_type": "stream",
     "text": [
      "100%|█████████████████████████████████████████████████████████████████████████████████████| 1/1 [00:00<00:00,  2.96it/s]"
     ]
    },
    {
     "name": "stdout",
     "output_type": "stream",
     "text": [
      "1 calculation combinations to check\n",
      "1 new records to prepare\n"
     ]
    },
    {
     "name": "stderr",
     "output_type": "stream",
     "text": [
      "\n",
      "preparing: 100%|##########################################################################| 1/1 [00:00<00:00, 35.43it/s]\n"
     ]
    },
    {
     "name": "stdout",
     "output_type": "stream",
     "text": [
      "6fd4335c-db9e-4e21-bf77-bb0bb9dd7f49\n",
      "sim calculated successfully\n",
      "\n",
      "2007.812 0.000331 1835.727\n",
      "0 existing calculation records provided\n"
     ]
    },
    {
     "name": "stderr",
     "output_type": "stream",
     "text": [
      "100%|█████████████████████████████████████████████████████████████████████████████████████| 1/1 [00:00<00:00,  2.78it/s]"
     ]
    },
    {
     "name": "stdout",
     "output_type": "stream",
     "text": [
      "1 calculation combinations to check\n",
      "1 new records to prepare\n"
     ]
    },
    {
     "name": "stderr",
     "output_type": "stream",
     "text": [
      "\n",
      "preparing: 100%|##########################################################################| 1/1 [00:00<00:00, 70.79it/s]\n"
     ]
    },
    {
     "name": "stdout",
     "output_type": "stream",
     "text": [
      "719dd718-721a-403a-bffa-f2f4486f7174\n",
      "sim calculated successfully\n",
      "\n",
      "1867.969 0.257 1778.828\n",
      "0 existing calculation records provided\n"
     ]
    },
    {
     "name": "stderr",
     "output_type": "stream",
     "text": [
      "100%|█████████████████████████████████████████████████████████████████████████████████████| 1/1 [00:00<00:00,  2.99it/s]"
     ]
    },
    {
     "name": "stdout",
     "output_type": "stream",
     "text": [
      "1 calculation combinations to check\n",
      "1 new records to prepare\n"
     ]
    },
    {
     "name": "stderr",
     "output_type": "stream",
     "text": [
      "\n",
      "preparing: 100%|##########################################################################| 1/1 [00:00<00:00, 68.24it/s]\n"
     ]
    },
    {
     "name": "stdout",
     "output_type": "stream",
     "text": [
      "4d9a9b68-23bb-48cc-9cda-3a26d4950234\n",
      "sim calculated successfully\n",
      "\n",
      "1798.047 0.4043 1769.881\n",
      "0 existing calculation records provided\n"
     ]
    },
    {
     "name": "stderr",
     "output_type": "stream",
     "text": [
      "100%|█████████████████████████████████████████████████████████████████████████████████████| 1/1 [00:00<00:00,  2.95it/s]"
     ]
    },
    {
     "name": "stdout",
     "output_type": "stream",
     "text": [
      "1 calculation combinations to check\n",
      "1 new records to prepare\n"
     ]
    },
    {
     "name": "stderr",
     "output_type": "stream",
     "text": [
      "\n",
      "preparing: 100%|##########################################################################| 1/1 [00:00<00:00, 34.75it/s]\n"
     ]
    },
    {
     "name": "stdout",
     "output_type": "stream",
     "text": [
      "ff7bb630-7fd1-4474-865a-c970673cfbd1\n",
      "sim calculated successfully\n",
      "\n",
      "1798.047 0.4072 1765.926\n",
      "0 existing calculation records provided\n"
     ]
    },
    {
     "name": "stderr",
     "output_type": "stream",
     "text": [
      "100%|█████████████████████████████████████████████████████████████████████████████████████| 1/1 [00:00<00:00,  2.53it/s]"
     ]
    },
    {
     "name": "stdout",
     "output_type": "stream",
     "text": [
      "1 calculation combinations to check\n",
      "1 new records to prepare\n"
     ]
    },
    {
     "name": "stderr",
     "output_type": "stream",
     "text": [
      "\n",
      "preparing: 100%|##########################################################################| 1/1 [00:00<00:00, 40.96it/s]\n"
     ]
    },
    {
     "name": "stdout",
     "output_type": "stream",
     "text": [
      "d48fbdb7-2057-4bfe-96a0-f064223f55a9\n",
      "sim calculated successfully\n",
      "\n",
      "1798.047 0.4553 1776.764\n",
      "0 existing calculation records provided\n"
     ]
    },
    {
     "name": "stderr",
     "output_type": "stream",
     "text": [
      "100%|█████████████████████████████████████████████████████████████████████████████████████| 1/1 [00:00<00:00,  2.83it/s]"
     ]
    },
    {
     "name": "stdout",
     "output_type": "stream",
     "text": [
      "1 calculation combinations to check\n",
      "1 new records to prepare\n"
     ]
    },
    {
     "name": "stderr",
     "output_type": "stream",
     "text": [
      "\n",
      "preparing: 100%|##########################################################################| 1/1 [00:00<00:00, 69.44it/s]\n"
     ]
    },
    {
     "name": "stdout",
     "output_type": "stream",
     "text": [
      "1eb83c25-d9bd-4b19-b18b-7c235071e711\n",
      "sim calculated successfully\n",
      "\n",
      "1798.047 0.4334 1773.945\n",
      "0 existing calculation records provided\n"
     ]
    },
    {
     "name": "stderr",
     "output_type": "stream",
     "text": [
      "100%|█████████████████████████████████████████████████████████████████████████████████████| 1/1 [00:00<00:00,  2.66it/s]"
     ]
    },
    {
     "name": "stdout",
     "output_type": "stream",
     "text": [
      "1 calculation combinations to check\n",
      "1 new records to prepare\n"
     ]
    },
    {
     "name": "stderr",
     "output_type": "stream",
     "text": [
      "\n",
      "preparing: 100%|##########################################################################| 1/1 [00:00<00:00, 69.30it/s]\n"
     ]
    },
    {
     "name": "stdout",
     "output_type": "stream",
     "text": [
      "5554f6b2-fe5c-454d-8439-ea4c98833837\n",
      "sim calculated successfully\n",
      "\n",
      "1798.047 0.4083 1764.634\n",
      "0 existing calculation records provided\n"
     ]
    },
    {
     "name": "stderr",
     "output_type": "stream",
     "text": [
      "100%|█████████████████████████████████████████████████████████████████████████████████████| 1/1 [00:00<00:00,  4.50it/s]"
     ]
    },
    {
     "name": "stdout",
     "output_type": "stream",
     "text": [
      "1 calculation combinations to check\n",
      "1 new records to prepare\n"
     ]
    },
    {
     "name": "stderr",
     "output_type": "stream",
     "text": [
      "\n",
      "preparing: 100%|##########################################################################| 1/1 [00:00<00:00, 65.05it/s]\n"
     ]
    },
    {
     "name": "stdout",
     "output_type": "stream",
     "text": [
      "641139e1-28b5-4651-abd3-76822132b362\n",
      "sim calculated successfully\n",
      "\n",
      "1798.047 0.4326 1773.515\n",
      "0 existing calculation records provided\n"
     ]
    },
    {
     "name": "stderr",
     "output_type": "stream",
     "text": [
      "100%|█████████████████████████████████████████████████████████████████████████████████████| 1/1 [00:00<00:00,  4.51it/s]"
     ]
    },
    {
     "name": "stdout",
     "output_type": "stream",
     "text": [
      "1 calculation combinations to check\n",
      "1 new records to prepare\n"
     ]
    },
    {
     "name": "stderr",
     "output_type": "stream",
     "text": [
      "\n",
      "preparing: 100%|##########################################################################| 1/1 [00:00<00:00, 40.25it/s]\n"
     ]
    },
    {
     "name": "stdout",
     "output_type": "stream",
     "text": [
      "43fac642-dddc-4034-b570-5f888f3aa8be\n",
      "sim calculated successfully\n",
      "\n",
      "1798.047 0.4103 1770.402\n",
      "0 existing calculation records provided\n"
     ]
    },
    {
     "name": "stderr",
     "output_type": "stream",
     "text": [
      "100%|█████████████████████████████████████████████████████████████████████████████████████| 1/1 [00:00<00:00,  4.47it/s]"
     ]
    },
    {
     "name": "stdout",
     "output_type": "stream",
     "text": [
      "1 calculation combinations to check\n",
      "1 new records to prepare\n"
     ]
    },
    {
     "name": "stderr",
     "output_type": "stream",
     "text": [
      "\n",
      "preparing: 100%|##########################################################################| 1/1 [00:00<00:00, 38.78it/s]\n"
     ]
    },
    {
     "name": "stdout",
     "output_type": "stream",
     "text": [
      "98e94cf7-7883-4ae3-abd1-65eb0f4ead1f\n",
      "sim calculated successfully\n",
      "\n",
      "1798.047 0.4371 1768.779\n",
      "0 existing calculation records provided\n"
     ]
    },
    {
     "name": "stderr",
     "output_type": "stream",
     "text": [
      "100%|█████████████████████████████████████████████████████████████████████████████████████| 1/1 [00:00<00:00,  2.58it/s]"
     ]
    },
    {
     "name": "stdout",
     "output_type": "stream",
     "text": [
      "1 calculation combinations to check\n",
      "1 new records to prepare\n"
     ]
    },
    {
     "name": "stderr",
     "output_type": "stream",
     "text": [
      "\n",
      "preparing: 100%|##########################################################################| 1/1 [00:00<00:00, 39.80it/s]\n"
     ]
    },
    {
     "name": "stdout",
     "output_type": "stream",
     "text": [
      "1b28a9d9-e177-460d-bda8-094b82af9a1a\n",
      "sim calculated successfully\n",
      "\n",
      "1798.047 0.4238 1775.395\n",
      "\n",
      "49 2003--Mendelev-M-I--Fe-2--LAMMPS--ipr3\n",
      "0 existing calculation records provided\n"
     ]
    },
    {
     "name": "stderr",
     "output_type": "stream",
     "text": [
      "100%|█████████████████████████████████████████████████████████████████████████████████████| 1/1 [00:00<00:00,  2.68it/s]"
     ]
    },
    {
     "name": "stdout",
     "output_type": "stream",
     "text": [
      "1 calculation combinations to check\n",
      "1 new records to prepare\n"
     ]
    },
    {
     "name": "stderr",
     "output_type": "stream",
     "text": [
      "\n",
      "preparing: 100%|##########################################################################| 1/1 [00:00<00:00, 34.41it/s]\n"
     ]
    },
    {
     "name": "stdout",
     "output_type": "stream",
     "text": [
      "fe56f357-42a5-4053-9d6b-e1c3b0280740\n",
      "sim calculated successfully\n",
      "\n",
      "4525.000 0.0008172 4611.871\n",
      "0 existing calculation records provided\n"
     ]
    },
    {
     "name": "stderr",
     "output_type": "stream",
     "text": [
      "100%|█████████████████████████████████████████████████████████████████████████████████████| 1/1 [00:00<00:00,  2.67it/s]"
     ]
    },
    {
     "name": "stdout",
     "output_type": "stream",
     "text": [
      "1 calculation combinations to check\n",
      "1 new records to prepare\n"
     ]
    },
    {
     "name": "stderr",
     "output_type": "stream",
     "text": [
      "\n",
      "preparing: 100%|##########################################################################| 1/1 [00:00<00:00, 38.96it/s]\n"
     ]
    },
    {
     "name": "stdout",
     "output_type": "stream",
     "text": [
      "03eb158d-b526-429c-b0fc-e4202e3d9821\n",
      "sim calculated successfully\n",
      "\n",
      "2287.500 9.31e-05 2236.514\n",
      "0 existing calculation records provided\n"
     ]
    },
    {
     "name": "stderr",
     "output_type": "stream",
     "text": [
      "100%|█████████████████████████████████████████████████████████████████████████████████████| 1/1 [00:00<00:00,  3.02it/s]"
     ]
    },
    {
     "name": "stdout",
     "output_type": "stream",
     "text": [
      "1 calculation combinations to check\n",
      "1 new records to prepare\n"
     ]
    },
    {
     "name": "stderr",
     "output_type": "stream",
     "text": [
      "\n",
      "preparing: 100%|##########################################################################| 1/1 [00:00<00:00, 38.58it/s]\n"
     ]
    },
    {
     "name": "stdout",
     "output_type": "stream",
     "text": [
      "34b25627-df44-4750-a2ff-4f92b6f192bc\n",
      "sim calculated successfully\n",
      "\n",
      "1168.750 0.9976 1164.441\n",
      "0 existing calculation records provided\n"
     ]
    },
    {
     "name": "stderr",
     "output_type": "stream",
     "text": [
      "100%|█████████████████████████████████████████████████████████████████████████████████████| 1/1 [00:00<00:00,  2.49it/s]"
     ]
    },
    {
     "name": "stdout",
     "output_type": "stream",
     "text": [
      "1 calculation combinations to check\n",
      "1 new records to prepare\n"
     ]
    },
    {
     "name": "stderr",
     "output_type": "stream",
     "text": [
      "\n",
      "preparing: 100%|##########################################################################| 1/1 [00:00<00:00, 68.63it/s]\n"
     ]
    },
    {
     "name": "stdout",
     "output_type": "stream",
     "text": [
      "46ec2a31-bef4-4745-aab9-3f3a85292964\n",
      "sim calculated successfully\n",
      "\n",
      "1728.125 0.7821 1892.889\n",
      "0 existing calculation records provided\n"
     ]
    },
    {
     "name": "stderr",
     "output_type": "stream",
     "text": [
      "100%|█████████████████████████████████████████████████████████████████████████████████████| 1/1 [00:00<00:00,  4.37it/s]"
     ]
    },
    {
     "name": "stdout",
     "output_type": "stream",
     "text": [
      "1 calculation combinations to check\n",
      "1 new records to prepare\n"
     ]
    },
    {
     "name": "stderr",
     "output_type": "stream",
     "text": [
      "\n",
      "preparing: 100%|##########################################################################| 1/1 [00:00<00:00, 41.93it/s]\n"
     ]
    },
    {
     "name": "stdout",
     "output_type": "stream",
     "text": [
      "d8bfdaa3-7762-46e2-900a-1d5ad54f6e0c\n",
      "sim calculated successfully\n",
      "\n",
      "2007.812 0.0004034 1830.107\n",
      "0 existing calculation records provided\n"
     ]
    },
    {
     "name": "stderr",
     "output_type": "stream",
     "text": [
      "100%|█████████████████████████████████████████████████████████████████████████████████████| 1/1 [00:00<00:00,  4.41it/s]"
     ]
    },
    {
     "name": "stdout",
     "output_type": "stream",
     "text": [
      "1 calculation combinations to check\n",
      "1 new records to prepare\n"
     ]
    },
    {
     "name": "stderr",
     "output_type": "stream",
     "text": [
      "\n",
      "preparing: 100%|##########################################################################| 1/1 [00:00<00:00, 40.55it/s]\n"
     ]
    },
    {
     "name": "stdout",
     "output_type": "stream",
     "text": [
      "37e41e9f-4708-4de4-93c2-808190c06543\n",
      "sim calculated successfully\n",
      "\n",
      "1867.969 0.2174 1763.924\n",
      "0 existing calculation records provided\n"
     ]
    },
    {
     "name": "stderr",
     "output_type": "stream",
     "text": [
      "100%|█████████████████████████████████████████████████████████████████████████████████████| 1/1 [00:00<00:00,  4.21it/s]"
     ]
    },
    {
     "name": "stdout",
     "output_type": "stream",
     "text": [
      "1 calculation combinations to check\n",
      "1 new records to prepare\n"
     ]
    },
    {
     "name": "stderr",
     "output_type": "stream",
     "text": [
      "\n",
      "preparing: 100%|##########################################################################| 1/1 [00:00<00:00, 41.80it/s]\n"
     ]
    },
    {
     "name": "stdout",
     "output_type": "stream",
     "text": [
      "ac981c8d-2cd2-4740-bf47-d967f9dc7ab9\n",
      "sim calculated successfully\n",
      "\n",
      "1798.047 0.426 1777.530\n",
      "0 existing calculation records provided\n"
     ]
    },
    {
     "name": "stderr",
     "output_type": "stream",
     "text": [
      "100%|█████████████████████████████████████████████████████████████████████████████████████| 1/1 [00:00<00:00,  2.85it/s]"
     ]
    },
    {
     "name": "stdout",
     "output_type": "stream",
     "text": [
      "1 calculation combinations to check\n",
      "1 new records to prepare\n"
     ]
    },
    {
     "name": "stderr",
     "output_type": "stream",
     "text": [
      "\n",
      "preparing: 100%|##########################################################################| 1/1 [00:00<00:00, 59.85it/s]\n"
     ]
    },
    {
     "name": "stdout",
     "output_type": "stream",
     "text": [
      "f21cd3c1-b663-44ae-ba5c-dfd98bf23520\n",
      "sim calculated successfully\n",
      "\n",
      "1798.047 0.4246 1768.195\n",
      "0 existing calculation records provided\n"
     ]
    },
    {
     "name": "stderr",
     "output_type": "stream",
     "text": [
      "100%|█████████████████████████████████████████████████████████████████████████████████████| 1/1 [00:00<00:00,  2.66it/s]"
     ]
    },
    {
     "name": "stdout",
     "output_type": "stream",
     "text": [
      "1 calculation combinations to check\n",
      "1 new records to prepare\n"
     ]
    },
    {
     "name": "stderr",
     "output_type": "stream",
     "text": [
      "\n",
      "preparing: 100%|##########################################################################| 1/1 [00:00<00:00, 70.11it/s]\n"
     ]
    },
    {
     "name": "stdout",
     "output_type": "stream",
     "text": [
      "9f8fb67c-8a57-49b9-8a2d-d559d6a7150f\n",
      "sim calculated successfully\n",
      "\n",
      "1798.047 0.4075 1757.443\n",
      "0 existing calculation records provided\n"
     ]
    },
    {
     "name": "stderr",
     "output_type": "stream",
     "text": [
      "100%|█████████████████████████████████████████████████████████████████████████████████████| 1/1 [00:00<00:00,  2.51it/s]"
     ]
    },
    {
     "name": "stdout",
     "output_type": "stream",
     "text": [
      "1 calculation combinations to check\n",
      "1 new records to prepare\n"
     ]
    },
    {
     "name": "stderr",
     "output_type": "stream",
     "text": [
      "\n",
      "preparing: 100%|##########################################################################| 1/1 [00:00<00:00, 60.01it/s]\n"
     ]
    },
    {
     "name": "stdout",
     "output_type": "stream",
     "text": [
      "e5079fc0-ebc7-45bc-b7fc-a226170f4c1e\n",
      "sim calculated successfully\n",
      "\n",
      "1798.047 0.4213 1770.983\n",
      "0 existing calculation records provided\n"
     ]
    },
    {
     "name": "stderr",
     "output_type": "stream",
     "text": [
      "100%|█████████████████████████████████████████████████████████████████████████████████████| 1/1 [00:00<00:00,  4.38it/s]"
     ]
    },
    {
     "name": "stdout",
     "output_type": "stream",
     "text": [
      "1 calculation combinations to check\n",
      "1 new records to prepare\n"
     ]
    },
    {
     "name": "stderr",
     "output_type": "stream",
     "text": [
      "\n",
      "preparing: 100%|##########################################################################| 1/1 [00:00<00:00, 64.64it/s]\n"
     ]
    },
    {
     "name": "stdout",
     "output_type": "stream",
     "text": [
      "e05bf919-992b-4950-835f-dae807d51b4a\n",
      "sim calculated successfully\n",
      "\n",
      "1798.047 0.4047 1770.415\n",
      "0 existing calculation records provided\n"
     ]
    },
    {
     "name": "stderr",
     "output_type": "stream",
     "text": [
      "100%|█████████████████████████████████████████████████████████████████████████████████████| 1/1 [00:00<00:00,  4.99it/s]"
     ]
    },
    {
     "name": "stdout",
     "output_type": "stream",
     "text": [
      "1 calculation combinations to check\n",
      "1 new records to prepare\n"
     ]
    },
    {
     "name": "stderr",
     "output_type": "stream",
     "text": [
      "\n",
      "preparing: 100%|##########################################################################| 1/1 [00:00<00:00, 44.53it/s]\n"
     ]
    },
    {
     "name": "stdout",
     "output_type": "stream",
     "text": [
      "98482976-ba0a-4611-a9bc-62615e30aac9\n",
      "sim calculated successfully\n",
      "\n",
      "1798.047 0.4137 1758.979\n",
      "0 existing calculation records provided\n"
     ]
    },
    {
     "name": "stderr",
     "output_type": "stream",
     "text": [
      "100%|█████████████████████████████████████████████████████████████████████████████████████| 1/1 [00:00<00:00,  2.88it/s]"
     ]
    },
    {
     "name": "stdout",
     "output_type": "stream",
     "text": [
      "1 calculation combinations to check\n",
      "1 new records to prepare\n"
     ]
    },
    {
     "name": "stderr",
     "output_type": "stream",
     "text": [
      "\n",
      "preparing: 100%|##########################################################################| 1/1 [00:00<00:00, 42.26it/s]\n"
     ]
    },
    {
     "name": "stdout",
     "output_type": "stream",
     "text": [
      "339b30a4-9fda-4647-8f7a-b0c0d6abfe03\n",
      "sim calculated successfully\n",
      "\n",
      "1798.047 0.4385 1772.251\n",
      "0 existing calculation records provided\n"
     ]
    },
    {
     "name": "stderr",
     "output_type": "stream",
     "text": [
      "100%|█████████████████████████████████████████████████████████████████████████████████████| 1/1 [00:00<00:00,  3.60it/s]"
     ]
    },
    {
     "name": "stdout",
     "output_type": "stream",
     "text": [
      "1 calculation combinations to check\n",
      "1 new records to prepare\n"
     ]
    },
    {
     "name": "stderr",
     "output_type": "stream",
     "text": [
      "\n",
      "preparing: 100%|##########################################################################| 1/1 [00:00<00:00, 61.46it/s]\n"
     ]
    },
    {
     "name": "stdout",
     "output_type": "stream",
     "text": [
      "4e05db4c-1a8f-4669-a5fa-86b23f3472a8\n",
      "sim calculated successfully\n",
      "\n",
      "1798.047 0.4196 1764.023\n",
      "0 existing calculation records provided\n"
     ]
    },
    {
     "name": "stderr",
     "output_type": "stream",
     "text": [
      "100%|█████████████████████████████████████████████████████████████████████████████████████| 1/1 [00:00<00:00,  4.69it/s]"
     ]
    },
    {
     "name": "stdout",
     "output_type": "stream",
     "text": [
      "1 calculation combinations to check\n",
      "1 new records to prepare\n"
     ]
    },
    {
     "name": "stderr",
     "output_type": "stream",
     "text": [
      "\n",
      "preparing: 100%|##########################################################################| 1/1 [00:00<00:00, 49.25it/s]\n"
     ]
    },
    {
     "name": "stdout",
     "output_type": "stream",
     "text": [
      "74ea15e3-3c7a-4203-8266-b2b0b1cf948a\n",
      "sim calculated successfully\n",
      "\n",
      "1798.047 0.4051 1770.680\n",
      "0 existing calculation records provided\n"
     ]
    },
    {
     "name": "stderr",
     "output_type": "stream",
     "text": [
      "100%|█████████████████████████████████████████████████████████████████████████████████████| 1/1 [00:00<00:00,  5.22it/s]"
     ]
    },
    {
     "name": "stdout",
     "output_type": "stream",
     "text": [
      "1 calculation combinations to check\n",
      "1 new records to prepare\n"
     ]
    },
    {
     "name": "stderr",
     "output_type": "stream",
     "text": [
      "\n",
      "preparing: 100%|##########################################################################| 1/1 [00:00<00:00, 45.47it/s]\n"
     ]
    },
    {
     "name": "stdout",
     "output_type": "stream",
     "text": [
      "20054cbc-18d5-4808-85a0-cb4b9d3d1e4d\n",
      "sim calculated successfully\n",
      "\n",
      "1798.047 0.4308 1769.452\n",
      "\n",
      "50 2003--Mendelev-M-I--Fe-5--LAMMPS--ipr1\n",
      "0 existing calculation records provided\n"
     ]
    },
    {
     "name": "stderr",
     "output_type": "stream",
     "text": [
      "100%|█████████████████████████████████████████████████████████████████████████████████████| 1/1 [00:00<00:00,  2.56it/s]"
     ]
    },
    {
     "name": "stdout",
     "output_type": "stream",
     "text": [
      "1 calculation combinations to check\n",
      "1 new records to prepare\n"
     ]
    },
    {
     "name": "stderr",
     "output_type": "stream",
     "text": [
      "\n",
      "preparing: 100%|##########################################################################| 1/1 [00:00<00:00, 33.94it/s]\n"
     ]
    },
    {
     "name": "stdout",
     "output_type": "stream",
     "text": [
      "35f1715f-0237-48b5-8a13-6374d2bbddce\n",
      "sim calculated successfully\n",
      "\n",
      "4525.000 0.0 4763.628\n",
      "0 existing calculation records provided\n"
     ]
    },
    {
     "name": "stderr",
     "output_type": "stream",
     "text": [
      "100%|█████████████████████████████████████████████████████████████████████████████████████| 1/1 [00:00<00:00,  2.89it/s]"
     ]
    },
    {
     "name": "stdout",
     "output_type": "stream",
     "text": [
      "1 calculation combinations to check\n",
      "1 new records to prepare\n"
     ]
    },
    {
     "name": "stderr",
     "output_type": "stream",
     "text": [
      "\n",
      "preparing: 100%|##########################################################################| 1/1 [00:00<00:00, 68.77it/s]\n"
     ]
    },
    {
     "name": "stdout",
     "output_type": "stream",
     "text": [
      "49f73030-5bef-4448-88fc-ef0d0566cda3\n",
      "sim calculated successfully\n",
      "\n",
      "2287.500 7.241e-05 2188.839\n",
      "0 existing calculation records provided\n"
     ]
    },
    {
     "name": "stderr",
     "output_type": "stream",
     "text": [
      "100%|█████████████████████████████████████████████████████████████████████████████████████| 1/1 [00:00<00:00,  2.65it/s]"
     ]
    },
    {
     "name": "stdout",
     "output_type": "stream",
     "text": [
      "1 calculation combinations to check\n",
      "1 new records to prepare\n"
     ]
    },
    {
     "name": "stderr",
     "output_type": "stream",
     "text": [
      "\n",
      "preparing: 100%|##########################################################################| 1/1 [00:00<00:00, 64.05it/s]\n"
     ]
    },
    {
     "name": "stdout",
     "output_type": "stream",
     "text": [
      "3b46f31c-a7c7-47e5-9109-24d6a61ee8fe\n",
      "sim calculated successfully\n",
      "\n",
      "1168.750 0.9983 1166.860\n",
      "0 existing calculation records provided\n"
     ]
    },
    {
     "name": "stderr",
     "output_type": "stream",
     "text": [
      "100%|█████████████████████████████████████████████████████████████████████████████████████| 1/1 [00:00<00:00,  3.54it/s]"
     ]
    },
    {
     "name": "stdout",
     "output_type": "stream",
     "text": [
      "1 calculation combinations to check\n",
      "1 new records to prepare\n"
     ]
    },
    {
     "name": "stderr",
     "output_type": "stream",
     "text": [
      "\n",
      "preparing: 100%|##########################################################################| 1/1 [00:00<00:00, 69.79it/s]\n"
     ]
    },
    {
     "name": "stdout",
     "output_type": "stream",
     "text": [
      "1ded74f2-0344-4847-932e-8d7c206acb5d\n",
      "sim calculated successfully\n",
      "\n",
      "1728.125 0.866 1896.650\n",
      "0 existing calculation records provided\n"
     ]
    },
    {
     "name": "stderr",
     "output_type": "stream",
     "text": [
      "100%|█████████████████████████████████████████████████████████████████████████████████████| 1/1 [00:00<00:00,  4.17it/s]"
     ]
    },
    {
     "name": "stdout",
     "output_type": "stream",
     "text": [
      "1 calculation combinations to check\n",
      "1 new records to prepare\n"
     ]
    },
    {
     "name": "stderr",
     "output_type": "stream",
     "text": [
      "\n",
      "preparing: 100%|##########################################################################| 1/1 [00:00<00:00, 61.84it/s]\n"
     ]
    },
    {
     "name": "stdout",
     "output_type": "stream",
     "text": [
      "4c7d8489-8493-4c65-988f-f6e01ee0f685\n",
      "sim calculated successfully\n",
      "\n",
      "2007.812 0.0003 1770.789\n",
      "0 existing calculation records provided\n"
     ]
    },
    {
     "name": "stderr",
     "output_type": "stream",
     "text": [
      "100%|█████████████████████████████████████████████████████████████████████████████████████| 1/1 [00:00<00:00,  4.47it/s]"
     ]
    },
    {
     "name": "stdout",
     "output_type": "stream",
     "text": [
      "1 calculation combinations to check\n",
      "1 new records to prepare\n"
     ]
    },
    {
     "name": "stderr",
     "output_type": "stream",
     "text": [
      "\n",
      "preparing: 100%|##########################################################################| 1/1 [00:00<00:00, 34.03it/s]\n"
     ]
    },
    {
     "name": "stdout",
     "output_type": "stream",
     "text": [
      "fef14c46-e4e7-48b2-9788-66be7ed9a63f\n",
      "sim calculated successfully\n",
      "\n",
      "1867.969 0.3847 1816.302\n",
      "0 existing calculation records provided\n"
     ]
    },
    {
     "name": "stderr",
     "output_type": "stream",
     "text": [
      "100%|█████████████████████████████████████████████████████████████████████████████████████| 1/1 [00:00<00:00,  2.96it/s]"
     ]
    },
    {
     "name": "stdout",
     "output_type": "stream",
     "text": [
      "1 calculation combinations to check\n",
      "1 new records to prepare\n"
     ]
    },
    {
     "name": "stderr",
     "output_type": "stream",
     "text": [
      "\n",
      "preparing: 100%|##########################################################################| 1/1 [00:00<00:00, 34.99it/s]\n"
     ]
    },
    {
     "name": "stdout",
     "output_type": "stream",
     "text": [
      "486e0922-0e6e-4737-be20-ae5c04493534\n",
      "sim calculated successfully\n",
      "\n",
      "1798.047 0.5481 1816.275\n",
      "0 existing calculation records provided\n"
     ]
    },
    {
     "name": "stderr",
     "output_type": "stream",
     "text": [
      "100%|█████████████████████████████████████████████████████████████████████████████████████| 1/1 [00:00<00:00,  2.93it/s]"
     ]
    },
    {
     "name": "stdout",
     "output_type": "stream",
     "text": [
      "1 calculation combinations to check\n",
      "1 new records to prepare\n"
     ]
    },
    {
     "name": "stderr",
     "output_type": "stream",
     "text": [
      "\n",
      "preparing: 100%|##########################################################################| 1/1 [00:00<00:00, 64.11it/s]\n"
     ]
    },
    {
     "name": "stdout",
     "output_type": "stream",
     "text": [
      "b85d6210-ce67-47bc-9f14-e7f33c71057b\n",
      "sim calculated successfully\n",
      "\n",
      "1798.047 0.5445 1813.910\n",
      "0 existing calculation records provided\n"
     ]
    },
    {
     "name": "stderr",
     "output_type": "stream",
     "text": [
      "100%|█████████████████████████████████████████████████████████████████████████████████████| 1/1 [00:00<00:00,  2.94it/s]"
     ]
    },
    {
     "name": "stdout",
     "output_type": "stream",
     "text": [
      "1 calculation combinations to check\n",
      "1 new records to prepare\n"
     ]
    },
    {
     "name": "stderr",
     "output_type": "stream",
     "text": [
      "\n",
      "preparing: 100%|##########################################################################| 1/1 [00:00<00:00, 54.27it/s]\n"
     ]
    },
    {
     "name": "stdout",
     "output_type": "stream",
     "text": [
      "3ae82765-1a09-499d-a7f6-b017694fa7eb\n",
      "sim calculated successfully\n",
      "\n",
      "1798.047 0.5598 1807.628\n",
      "0 existing calculation records provided\n"
     ]
    },
    {
     "name": "stderr",
     "output_type": "stream",
     "text": [
      "100%|█████████████████████████████████████████████████████████████████████████████████████| 1/1 [00:00<00:00,  2.37it/s]"
     ]
    },
    {
     "name": "stdout",
     "output_type": "stream",
     "text": [
      "1 calculation combinations to check\n",
      "1 new records to prepare\n"
     ]
    },
    {
     "name": "stderr",
     "output_type": "stream",
     "text": [
      "\n",
      "preparing: 100%|##########################################################################| 1/1 [00:00<00:00, 70.20it/s]\n"
     ]
    },
    {
     "name": "stdout",
     "output_type": "stream",
     "text": [
      "06b25151-0609-4204-ad8c-6dfc89af974c\n",
      "sim calculated successfully\n",
      "\n",
      "1798.047 0.5449 1819.486\n",
      "0 existing calculation records provided\n"
     ]
    },
    {
     "name": "stderr",
     "output_type": "stream",
     "text": [
      "100%|█████████████████████████████████████████████████████████████████████████████████████| 1/1 [00:00<00:00,  3.75it/s]"
     ]
    },
    {
     "name": "stdout",
     "output_type": "stream",
     "text": [
      "1 calculation combinations to check\n",
      "1 new records to prepare\n"
     ]
    },
    {
     "name": "stderr",
     "output_type": "stream",
     "text": [
      "\n",
      "preparing: 100%|##########################################################################| 1/1 [00:00<00:00, 65.57it/s]\n"
     ]
    },
    {
     "name": "stdout",
     "output_type": "stream",
     "text": [
      "8ec30e41-fed0-4f1e-b4e3-08d501105070\n",
      "sim calculated successfully\n",
      "\n",
      "1798.047 0.5429 1807.734\n",
      "0 existing calculation records provided\n"
     ]
    },
    {
     "name": "stderr",
     "output_type": "stream",
     "text": [
      "100%|█████████████████████████████████████████████████████████████████████████████████████| 1/1 [00:00<00:00,  4.55it/s]"
     ]
    },
    {
     "name": "stdout",
     "output_type": "stream",
     "text": [
      "1 calculation combinations to check\n",
      "1 new records to prepare\n"
     ]
    },
    {
     "name": "stderr",
     "output_type": "stream",
     "text": [
      "\n",
      "preparing: 100%|##########################################################################| 1/1 [00:00<00:00, 67.45it/s]\n"
     ]
    },
    {
     "name": "stdout",
     "output_type": "stream",
     "text": [
      "f27334b1-9bd3-4473-80b1-3d5bcef4e25d\n",
      "sim calculated successfully\n",
      "\n",
      "1798.047 0.5394 1815.600\n",
      "0 existing calculation records provided\n"
     ]
    },
    {
     "name": "stderr",
     "output_type": "stream",
     "text": [
      "100%|█████████████████████████████████████████████████████████████████████████████████████| 1/1 [00:00<00:00,  2.84it/s]"
     ]
    },
    {
     "name": "stdout",
     "output_type": "stream",
     "text": [
      "1 calculation combinations to check\n",
      "1 new records to prepare\n"
     ]
    },
    {
     "name": "stderr",
     "output_type": "stream",
     "text": [
      "\n",
      "preparing: 100%|##########################################################################| 1/1 [00:00<00:00, 65.26it/s]\n"
     ]
    },
    {
     "name": "stdout",
     "output_type": "stream",
     "text": [
      "1715f1f6-1b56-4c8b-ba47-83944318747e\n",
      "sim calculated successfully\n",
      "\n",
      "1798.047 0.5274 1813.041\n",
      "0 existing calculation records provided\n"
     ]
    },
    {
     "name": "stderr",
     "output_type": "stream",
     "text": [
      "100%|█████████████████████████████████████████████████████████████████████████████████████| 1/1 [00:00<00:00,  4.12it/s]"
     ]
    },
    {
     "name": "stdout",
     "output_type": "stream",
     "text": [
      "1 calculation combinations to check\n",
      "1 new records to prepare\n"
     ]
    },
    {
     "name": "stderr",
     "output_type": "stream",
     "text": [
      "\n",
      "preparing: 100%|##########################################################################| 1/1 [00:00<00:00, 71.06it/s]\n"
     ]
    },
    {
     "name": "stdout",
     "output_type": "stream",
     "text": [
      "d89b33a2-38c6-40a9-b40d-afb4d37e8c9c\n",
      "sim calculated successfully\n",
      "\n",
      "1798.047 0.5349 1813.750\n",
      "0 existing calculation records provided\n"
     ]
    },
    {
     "name": "stderr",
     "output_type": "stream",
     "text": [
      "100%|█████████████████████████████████████████████████████████████████████████████████████| 1/1 [00:00<00:00,  4.33it/s]"
     ]
    },
    {
     "name": "stdout",
     "output_type": "stream",
     "text": [
      "1 calculation combinations to check\n",
      "1 new records to prepare\n"
     ]
    },
    {
     "name": "stderr",
     "output_type": "stream",
     "text": [
      "\n",
      "preparing: 100%|##########################################################################| 1/1 [00:00<00:00, 38.68it/s]\n"
     ]
    },
    {
     "name": "stdout",
     "output_type": "stream",
     "text": [
      "bd91bb96-6f8f-4032-9e85-b6f676e6e101\n",
      "sim calculated successfully\n",
      "\n",
      "1798.047 0.5187 1812.088\n",
      "\n",
      "51 2003--Zope-R-R--Ti-Al--LAMMPS--ipr1\n",
      "0 existing calculation records provided\n"
     ]
    },
    {
     "name": "stderr",
     "output_type": "stream",
     "text": [
      "100%|█████████████████████████████████████████████████████████████████████████████████████| 1/1 [00:00<00:00,  4.20it/s]"
     ]
    },
    {
     "name": "stdout",
     "output_type": "stream",
     "text": [
      "1 calculation combinations to check\n",
      "1 new records to prepare\n"
     ]
    },
    {
     "name": "stderr",
     "output_type": "stream",
     "text": [
      "\n",
      "preparing: 100%|##########################################################################| 1/1 [00:00<00:00, 53.60it/s]\n"
     ]
    },
    {
     "name": "stdout",
     "output_type": "stream",
     "text": [
      "90148da2-5137-4af2-93c5-c7bf107a3021\n",
      "sim calculated successfully\n",
      "\n",
      "4525.000 0.0 4505.107\n",
      "0 existing calculation records provided\n"
     ]
    },
    {
     "name": "stderr",
     "output_type": "stream",
     "text": [
      "100%|█████████████████████████████████████████████████████████████████████████████████████| 1/1 [00:00<00:00,  4.18it/s]"
     ]
    },
    {
     "name": "stdout",
     "output_type": "stream",
     "text": [
      "1 calculation combinations to check\n",
      "1 new records to prepare\n"
     ]
    },
    {
     "name": "stderr",
     "output_type": "stream",
     "text": [
      "\n",
      "preparing: 100%|##########################################################################| 1/1 [00:00<00:00, 34.75it/s]\n"
     ]
    },
    {
     "name": "stdout",
     "output_type": "stream",
     "text": [
      "a505a8b1-b796-4c29-8ab2-ae450abaae94\n",
      "sim calculated successfully\n",
      "\n",
      "2287.500 1.034e-05 2273.596\n",
      "0 existing calculation records provided\n"
     ]
    },
    {
     "name": "stderr",
     "output_type": "stream",
     "text": [
      "100%|█████████████████████████████████████████████████████████████████████████████████████| 1/1 [00:00<00:00,  2.81it/s]"
     ]
    },
    {
     "name": "stdout",
     "output_type": "stream",
     "text": [
      "1 calculation combinations to check\n",
      "1 new records to prepare\n"
     ]
    },
    {
     "name": "stderr",
     "output_type": "stream",
     "text": [
      "\n",
      "preparing: 100%|##########################################################################| 1/1 [00:00<00:00, 51.30it/s]\n"
     ]
    },
    {
     "name": "stdout",
     "output_type": "stream",
     "text": [
      "762fec2f-bd27-4966-ab90-bf12bf63de11\n",
      "sim calculated successfully\n",
      "\n",
      "1168.750 0.08742 1257.280\n",
      "0 existing calculation records provided\n"
     ]
    },
    {
     "name": "stderr",
     "output_type": "stream",
     "text": [
      "100%|█████████████████████████████████████████████████████████████████████████████████████| 1/1 [00:00<00:00,  4.30it/s]"
     ]
    },
    {
     "name": "stdout",
     "output_type": "stream",
     "text": [
      "1 calculation combinations to check\n",
      "1 new records to prepare\n"
     ]
    },
    {
     "name": "stderr",
     "output_type": "stream",
     "text": [
      "\n",
      "preparing: 100%|##########################################################################| 1/1 [00:00<00:00, 34.18it/s]\n"
     ]
    },
    {
     "name": "stdout",
     "output_type": "stream",
     "text": [
      "0cdc815e-a03d-4e52-bc90-66c0b83ede68\n",
      "sim calculated successfully\n",
      "\n",
      "609.375 0.1456 602.329\n",
      "0 existing calculation records provided\n"
     ]
    },
    {
     "name": "stderr",
     "output_type": "stream",
     "text": [
      "100%|█████████████████████████████████████████████████████████████████████████████████████| 1/1 [00:00<00:00,  4.04it/s]"
     ]
    },
    {
     "name": "stdout",
     "output_type": "stream",
     "text": [
      "1 calculation combinations to check\n",
      "1 new records to prepare\n"
     ]
    },
    {
     "name": "stderr",
     "output_type": "stream",
     "text": [
      "\n",
      "preparing: 100%|##########################################################################| 1/1 [00:00<00:00, 31.20it/s]\n"
     ]
    },
    {
     "name": "stdout",
     "output_type": "stream",
     "text": [
      "0ef3c75d-182f-41e2-abe1-8c5714159a6c\n",
      "sim calculated successfully\n",
      "\n",
      "329.688 1.0 328.393\n",
      "0 existing calculation records provided\n"
     ]
    },
    {
     "name": "stderr",
     "output_type": "stream",
     "text": [
      "100%|█████████████████████████████████████████████████████████████████████████████████████| 1/1 [00:00<00:00,  4.06it/s]"
     ]
    },
    {
     "name": "stdout",
     "output_type": "stream",
     "text": [
      "1 calculation combinations to check\n",
      "1 new records to prepare\n"
     ]
    },
    {
     "name": "stderr",
     "output_type": "stream",
     "text": [
      "\n",
      "preparing: 100%|##########################################################################| 1/1 [00:00<00:00, 30.65it/s]\n"
     ]
    },
    {
     "name": "stdout",
     "output_type": "stream",
     "text": [
      "e43d32a6-0463-4b91-82ff-d62b8023f4d3\n",
      "sim calculated successfully\n",
      "\n",
      "469.531 1.0 467.482\n",
      "0 existing calculation records provided\n"
     ]
    },
    {
     "name": "stderr",
     "output_type": "stream",
     "text": [
      "100%|█████████████████████████████████████████████████████████████████████████████████████| 1/1 [00:00<00:00,  2.83it/s]"
     ]
    },
    {
     "name": "stdout",
     "output_type": "stream",
     "text": [
      "1 calculation combinations to check\n",
      "1 new records to prepare\n"
     ]
    },
    {
     "name": "stderr",
     "output_type": "stream",
     "text": [
      "\n",
      "preparing: 100%|##########################################################################| 1/1 [00:00<00:00, 31.69it/s]\n"
     ]
    },
    {
     "name": "stdout",
     "output_type": "stream",
     "text": [
      "d7d85ed0-4857-477c-9e56-9d42ea0d9b6e\n",
      "sim calculated successfully\n",
      "\n",
      "539.453 0.8876 543.343\n",
      "0 existing calculation records provided\n"
     ]
    },
    {
     "name": "stderr",
     "output_type": "stream",
     "text": [
      "100%|█████████████████████████████████████████████████████████████████████████████████████| 1/1 [00:00<00:00,  4.35it/s]"
     ]
    },
    {
     "name": "stdout",
     "output_type": "stream",
     "text": [
      "1 calculation combinations to check\n",
      "1 new records to prepare\n"
     ]
    },
    {
     "name": "stderr",
     "output_type": "stream",
     "text": [
      "\n",
      "preparing: 100%|##########################################################################| 1/1 [00:00<00:00, 34.12it/s]\n"
     ]
    },
    {
     "name": "stdout",
     "output_type": "stream",
     "text": [
      "67cecb8b-0057-45bd-bafe-60095b40a4a6\n",
      "sim calculated successfully\n",
      "\n",
      "574.414 0.1395 577.071\n",
      "0 existing calculation records provided\n"
     ]
    },
    {
     "name": "stderr",
     "output_type": "stream",
     "text": [
      "100%|█████████████████████████████████████████████████████████████████████████████████████| 1/1 [00:00<00:00,  4.75it/s]"
     ]
    },
    {
     "name": "stdout",
     "output_type": "stream",
     "text": [
      "1 calculation combinations to check\n",
      "1 new records to prepare\n"
     ]
    },
    {
     "name": "stderr",
     "output_type": "stream",
     "text": [
      "\n",
      "preparing: 100%|##########################################################################| 1/1 [00:00<00:00, 32.60it/s]\n"
     ]
    },
    {
     "name": "stdout",
     "output_type": "stream",
     "text": [
      "507b0da6-fa5c-4321-a003-4595097dafa2\n",
      "sim calculated successfully\n",
      "\n",
      "556.934 0.1386 554.302\n",
      "0 existing calculation records provided\n"
     ]
    },
    {
     "name": "stderr",
     "output_type": "stream",
     "text": [
      "100%|█████████████████████████████████████████████████████████████████████████████████████| 1/1 [00:00<00:00,  2.28it/s]"
     ]
    },
    {
     "name": "stdout",
     "output_type": "stream",
     "text": [
      "1 calculation combinations to check\n",
      "1 new records to prepare\n"
     ]
    },
    {
     "name": "stderr",
     "output_type": "stream",
     "text": [
      "\n",
      "preparing: 100%|##########################################################################| 1/1 [00:00<00:00, 45.89it/s]\n"
     ]
    },
    {
     "name": "stdout",
     "output_type": "stream",
     "text": [
      "297939b5-e1ba-43a0-8be0-c7bcb78f2c9a\n",
      "sim calculated successfully\n",
      "\n",
      "548.193 0.1411 618.583\n",
      "0 existing calculation records provided\n"
     ]
    },
    {
     "name": "stderr",
     "output_type": "stream",
     "text": [
      "100%|█████████████████████████████████████████████████████████████████████████████████████| 1/1 [00:00<00:00,  2.43it/s]"
     ]
    },
    {
     "name": "stdout",
     "output_type": "stream",
     "text": [
      "1 calculation combinations to check\n",
      "1 new records to prepare\n"
     ]
    },
    {
     "name": "stderr",
     "output_type": "stream",
     "text": [
      "\n",
      "preparing: 100%|##########################################################################| 1/1 [00:00<00:00, 46.36it/s]\n"
     ]
    },
    {
     "name": "stdout",
     "output_type": "stream",
     "text": [
      "54b119c2-cfd3-478f-b4a0-8fec4aa2e406\n",
      "sim calculated successfully\n",
      "\n",
      "543.823 0.152 606.901\n",
      "0 existing calculation records provided\n"
     ]
    },
    {
     "name": "stderr",
     "output_type": "stream",
     "text": [
      "100%|█████████████████████████████████████████████████████████████████████████████████████| 1/1 [00:00<00:00,  4.19it/s]"
     ]
    },
    {
     "name": "stdout",
     "output_type": "stream",
     "text": [
      "1 calculation combinations to check\n",
      "1 new records to prepare\n"
     ]
    },
    {
     "name": "stderr",
     "output_type": "stream",
     "text": [
      "\n",
      "preparing: 100%|##########################################################################| 1/1 [00:00<00:00, 51.20it/s]\n"
     ]
    },
    {
     "name": "stdout",
     "output_type": "stream",
     "text": [
      "8afdb258-f402-40e2-a956-7c5a4a90f3e1\n",
      "sim calculated successfully\n",
      "\n",
      "541.638 0.1511 541.110\n",
      "0 existing calculation records provided\n"
     ]
    },
    {
     "name": "stderr",
     "output_type": "stream",
     "text": [
      "100%|█████████████████████████████████████████████████████████████████████████████████████| 1/1 [00:00<00:00,  2.66it/s]"
     ]
    },
    {
     "name": "stdout",
     "output_type": "stream",
     "text": [
      "1 calculation combinations to check\n",
      "1 new records to prepare\n"
     ]
    },
    {
     "name": "stderr",
     "output_type": "stream",
     "text": [
      "\n",
      "preparing: 100%|##########################################################################| 1/1 [00:00<00:00, 45.53it/s]\n"
     ]
    },
    {
     "name": "stdout",
     "output_type": "stream",
     "text": [
      "c81492bc-8e0f-4b88-98a5-08b1a09cce8d\n",
      "sim calculated successfully\n",
      "\n",
      "540.546 0.1391 605.148\n",
      "0 existing calculation records provided\n"
     ]
    },
    {
     "name": "stderr",
     "output_type": "stream",
     "text": [
      "100%|█████████████████████████████████████████████████████████████████████████████████████| 1/1 [00:00<00:00,  4.70it/s]"
     ]
    },
    {
     "name": "stdout",
     "output_type": "stream",
     "text": [
      "1 calculation combinations to check\n",
      "1 new records to prepare\n"
     ]
    },
    {
     "name": "stderr",
     "output_type": "stream",
     "text": [
      "\n",
      "preparing: 100%|##########################################################################| 1/1 [00:00<00:00, 45.31it/s]\n"
     ]
    },
    {
     "name": "stdout",
     "output_type": "stream",
     "text": [
      "c81d029b-4f53-4e11-be5f-b4091abc7ebc\n",
      "sim calculated successfully\n",
      "\n",
      "539.999 0.3164 537.903\n",
      "0 existing calculation records provided\n"
     ]
    },
    {
     "name": "stderr",
     "output_type": "stream",
     "text": [
      "100%|█████████████████████████████████████████████████████████████████████████████████████| 1/1 [00:00<00:00,  4.66it/s]"
     ]
    },
    {
     "name": "stdout",
     "output_type": "stream",
     "text": [
      "1 calculation combinations to check\n",
      "1 new records to prepare\n"
     ]
    },
    {
     "name": "stderr",
     "output_type": "stream",
     "text": [
      "\n",
      "preparing: 100%|##########################################################################| 1/1 [00:00<00:00, 35.43it/s]\n"
     ]
    },
    {
     "name": "stdout",
     "output_type": "stream",
     "text": [
      "a9f799f1-cdf5-4d61-bf06-d5198a313dab\n",
      "sim calculated successfully\n",
      "\n",
      "539.726 0.3031 594.636\n",
      "0 existing calculation records provided\n"
     ]
    },
    {
     "name": "stderr",
     "output_type": "stream",
     "text": [
      "100%|█████████████████████████████████████████████████████████████████████████████████████| 1/1 [00:00<00:00,  4.55it/s]"
     ]
    },
    {
     "name": "stdout",
     "output_type": "stream",
     "text": [
      "1 calculation combinations to check\n",
      "1 new records to prepare\n"
     ]
    },
    {
     "name": "stderr",
     "output_type": "stream",
     "text": [
      "\n",
      "preparing: 100%|##########################################################################| 1/1 [00:00<00:00, 60.99it/s]\n"
     ]
    },
    {
     "name": "stdout",
     "output_type": "stream",
     "text": [
      "7bf8a110-069f-4b60-9a1b-96690b4b7853\n",
      "sim calculated successfully\n",
      "\n",
      "539.590 0.3212 536.568\n",
      "0 existing calculation records provided\n"
     ]
    },
    {
     "name": "stderr",
     "output_type": "stream",
     "text": [
      "100%|█████████████████████████████████████████████████████████████████████████████████████| 1/1 [00:00<00:00,  2.29it/s]"
     ]
    },
    {
     "name": "stdout",
     "output_type": "stream",
     "text": [
      "1 calculation combinations to check\n",
      "1 new records to prepare\n"
     ]
    },
    {
     "name": "stderr",
     "output_type": "stream",
     "text": [
      "\n",
      "preparing: 100%|##########################################################################| 1/1 [00:00<00:00, 27.64it/s]\n"
     ]
    },
    {
     "name": "stdout",
     "output_type": "stream",
     "text": [
      "7f9ce2b3-b8e5-4126-8f50-631d69984883\n",
      "sim calculated successfully\n",
      "\n",
      "539.521 0.1413 608.247\n",
      "0 existing calculation records provided\n"
     ]
    },
    {
     "name": "stderr",
     "output_type": "stream",
     "text": [
      "100%|█████████████████████████████████████████████████████████████████████████████████████| 1/1 [00:00<00:00,  2.28it/s]"
     ]
    },
    {
     "name": "stdout",
     "output_type": "stream",
     "text": [
      "1 calculation combinations to check\n",
      "1 new records to prepare\n"
     ]
    },
    {
     "name": "stderr",
     "output_type": "stream",
     "text": [
      "\n",
      "preparing: 100%|##########################################################################| 1/1 [00:00<00:00, 28.10it/s]\n"
     ]
    },
    {
     "name": "stdout",
     "output_type": "stream",
     "text": [
      "669b0e26-6b6d-489a-bbf5-cdef14b74aa4\n",
      "sim calculated successfully\n",
      "\n",
      "539.487 0.225 602.429\n",
      "0 existing calculation records provided\n"
     ]
    },
    {
     "name": "stderr",
     "output_type": "stream",
     "text": [
      "100%|█████████████████████████████████████████████████████████████████████████████████████| 1/1 [00:00<00:00,  2.54it/s]"
     ]
    },
    {
     "name": "stdout",
     "output_type": "stream",
     "text": [
      "1 calculation combinations to check\n",
      "1 new records to prepare\n"
     ]
    },
    {
     "name": "stderr",
     "output_type": "stream",
     "text": [
      "\n",
      "preparing: 100%|##########################################################################| 1/1 [00:00<00:00, 24.29it/s]\n"
     ]
    },
    {
     "name": "stdout",
     "output_type": "stream",
     "text": [
      "ca217e0e-497e-44b4-aa8f-2ebe67d085aa\n",
      "sim calculated successfully\n",
      "\n",
      "539.470 0.3739 590.973\n",
      "0 existing calculation records provided\n"
     ]
    },
    {
     "name": "stderr",
     "output_type": "stream",
     "text": [
      "100%|█████████████████████████████████████████████████████████████████████████████████████| 1/1 [00:00<00:00,  4.19it/s]"
     ]
    },
    {
     "name": "stdout",
     "output_type": "stream",
     "text": [
      "1 calculation combinations to check\n",
      "1 new records to prepare\n"
     ]
    },
    {
     "name": "stderr",
     "output_type": "stream",
     "text": [
      "\n",
      "preparing: 100%|##########################################################################| 1/1 [00:00<00:00, 47.07it/s]\n"
     ]
    },
    {
     "name": "stdout",
     "output_type": "stream",
     "text": [
      "651e2d5b-6064-49e7-9ce8-8478699dc31d\n",
      "sim calculated successfully\n",
      "\n",
      "539.462 0.1404 607.787\n",
      "0 existing calculation records provided\n"
     ]
    },
    {
     "name": "stderr",
     "output_type": "stream",
     "text": [
      "100%|█████████████████████████████████████████████████████████████████████████████████████| 1/1 [00:00<00:00,  2.34it/s]"
     ]
    },
    {
     "name": "stdout",
     "output_type": "stream",
     "text": [
      "1 calculation combinations to check\n",
      "1 new records to prepare\n"
     ]
    },
    {
     "name": "stderr",
     "output_type": "stream",
     "text": [
      "\n",
      "preparing: 100%|##########################################################################| 1/1 [00:00<00:00, 29.54it/s]\n"
     ]
    },
    {
     "name": "stdout",
     "output_type": "stream",
     "text": [
      "44c19d74-c8cb-4593-8829-4850bcfd7cca\n",
      "sim calculated successfully\n",
      "\n",
      "539.457 0.14 607.178\n",
      "0 existing calculation records provided\n"
     ]
    },
    {
     "name": "stderr",
     "output_type": "stream",
     "text": [
      "100%|█████████████████████████████████████████████████████████████████████████████████████| 1/1 [00:00<00:00,  4.26it/s]"
     ]
    },
    {
     "name": "stdout",
     "output_type": "stream",
     "text": [
      "1 calculation combinations to check\n",
      "1 new records to prepare\n"
     ]
    },
    {
     "name": "stderr",
     "output_type": "stream",
     "text": [
      "\n",
      "preparing: 100%|##########################################################################| 1/1 [00:00<00:00, 48.26it/s]\n"
     ]
    },
    {
     "name": "stdout",
     "output_type": "stream",
     "text": [
      "a2070339-9599-4bc6-941a-572fdf8a739c\n",
      "sim calculated successfully\n",
      "\n",
      "539.455 0.142 604.928\n",
      "0 existing calculation records provided\n"
     ]
    },
    {
     "name": "stderr",
     "output_type": "stream",
     "text": [
      "100%|█████████████████████████████████████████████████████████████████████████████████████| 1/1 [00:00<00:00,  2.33it/s]"
     ]
    },
    {
     "name": "stdout",
     "output_type": "stream",
     "text": [
      "1 calculation combinations to check\n",
      "1 new records to prepare\n"
     ]
    },
    {
     "name": "stderr",
     "output_type": "stream",
     "text": [
      "\n",
      "preparing: 100%|##########################################################################| 1/1 [00:00<00:00, 25.52it/s]\n"
     ]
    },
    {
     "name": "stdout",
     "output_type": "stream",
     "text": [
      "53c4850b-2ac6-4b82-af65-efc0564471c0\n",
      "sim calculated successfully\n",
      "\n",
      "539.454 0.1431 607.143\n",
      "0 existing calculation records provided\n"
     ]
    },
    {
     "name": "stderr",
     "output_type": "stream",
     "text": [
      "100%|█████████████████████████████████████████████████████████████████████████████████████| 1/1 [00:00<00:00,  4.11it/s]"
     ]
    },
    {
     "name": "stdout",
     "output_type": "stream",
     "text": [
      "1 calculation combinations to check\n",
      "1 new records to prepare\n"
     ]
    },
    {
     "name": "stderr",
     "output_type": "stream",
     "text": [
      "\n",
      "preparing: 100%|##########################################################################| 1/1 [00:00<00:00, 47.63it/s]\n"
     ]
    },
    {
     "name": "stdout",
     "output_type": "stream",
     "text": [
      "78a01d81-95d9-4914-a812-118ecc5bc2ad\n",
      "sim calculated successfully\n",
      "\n",
      "539.454 0.9999 535.940\n",
      "0 existing calculation records provided\n"
     ]
    },
    {
     "name": "stderr",
     "output_type": "stream",
     "text": [
      "100%|█████████████████████████████████████████████████████████████████████████████████████| 1/1 [00:00<00:00,  2.56it/s]"
     ]
    },
    {
     "name": "stdout",
     "output_type": "stream",
     "text": [
      "1 calculation combinations to check\n",
      "1 new records to prepare\n"
     ]
    },
    {
     "name": "stderr",
     "output_type": "stream",
     "text": [
      "\n",
      "preparing: 100%|##########################################################################| 1/1 [00:00<00:00, 30.15it/s]\n"
     ]
    },
    {
     "name": "stdout",
     "output_type": "stream",
     "text": [
      "7eb9747c-c1c1-44c5-a21d-64c53e997e73\n",
      "sim calculated successfully\n",
      "\n",
      "539.454 0.3867 591.054\n",
      "0 existing calculation records provided\n"
     ]
    },
    {
     "name": "stderr",
     "output_type": "stream",
     "text": [
      "100%|█████████████████████████████████████████████████████████████████████████████████████| 1/1 [00:00<00:00,  2.35it/s]"
     ]
    },
    {
     "name": "stdout",
     "output_type": "stream",
     "text": [
      "1 calculation combinations to check\n",
      "1 new records to prepare\n"
     ]
    },
    {
     "name": "stderr",
     "output_type": "stream",
     "text": [
      "\n",
      "preparing: 100%|##########################################################################| 1/1 [00:00<00:00, 44.14it/s]\n"
     ]
    },
    {
     "name": "stdout",
     "output_type": "stream",
     "text": [
      "98f1c801-1e22-4c58-b6b7-03639a754332\n",
      "sim calculated successfully\n",
      "\n",
      "539.454 0.1502 603.592\n",
      "0 existing calculation records provided\n"
     ]
    },
    {
     "name": "stderr",
     "output_type": "stream",
     "text": [
      "100%|█████████████████████████████████████████████████████████████████████████████████████| 1/1 [00:00<00:00,  2.23it/s]"
     ]
    },
    {
     "name": "stdout",
     "output_type": "stream",
     "text": [
      "1 calculation combinations to check\n",
      "1 new records to prepare\n"
     ]
    },
    {
     "name": "stderr",
     "output_type": "stream",
     "text": [
      "\n",
      "preparing: 100%|##########################################################################| 1/1 [00:00<00:00, 28.56it/s]\n"
     ]
    },
    {
     "name": "stdout",
     "output_type": "stream",
     "text": [
      "c2be6a73-9dbf-4061-b3d9-adf17fe94314\n",
      "sim calculated successfully\n",
      "\n",
      "539.454 0.1563 538.598\n",
      "0 existing calculation records provided\n"
     ]
    },
    {
     "name": "stderr",
     "output_type": "stream",
     "text": [
      "100%|█████████████████████████████████████████████████████████████████████████████████████| 1/1 [00:00<00:00,  2.24it/s]"
     ]
    },
    {
     "name": "stdout",
     "output_type": "stream",
     "text": [
      "1 calculation combinations to check\n",
      "1 new records to prepare\n"
     ]
    },
    {
     "name": "stderr",
     "output_type": "stream",
     "text": [
      "\n",
      "preparing: 100%|##########################################################################| 1/1 [00:00<00:00, 48.43it/s]\n"
     ]
    },
    {
     "name": "stdout",
     "output_type": "stream",
     "text": [
      "91b2a28d-6f28-4ead-a97d-6eb2a55952cf\n",
      "sim calculated successfully\n",
      "\n",
      "539.454 0.1454 604.995\n",
      "0 existing calculation records provided\n"
     ]
    },
    {
     "name": "stderr",
     "output_type": "stream",
     "text": [
      "100%|█████████████████████████████████████████████████████████████████████████████████████| 1/1 [00:00<00:00,  2.22it/s]"
     ]
    },
    {
     "name": "stdout",
     "output_type": "stream",
     "text": [
      "1 calculation combinations to check\n",
      "1 new records to prepare\n"
     ]
    },
    {
     "name": "stderr",
     "output_type": "stream",
     "text": [
      "\n",
      "preparing: 100%|##########################################################################| 1/1 [00:00<00:00, 27.59it/s]\n"
     ]
    },
    {
     "name": "stdout",
     "output_type": "stream",
     "text": [
      "40e2dd2c-bb5a-4da1-b6b0-955eb3e0b6b5\n",
      "sim calculated successfully\n",
      "\n",
      "539.454 0.6943 558.745\n",
      "0 existing calculation records provided\n"
     ]
    },
    {
     "name": "stderr",
     "output_type": "stream",
     "text": [
      "100%|█████████████████████████████████████████████████████████████████████████████████████| 1/1 [00:00<00:00,  2.48it/s]"
     ]
    },
    {
     "name": "stdout",
     "output_type": "stream",
     "text": [
      "1 calculation combinations to check\n",
      "1 new records to prepare\n"
     ]
    },
    {
     "name": "stderr",
     "output_type": "stream",
     "text": [
      "\n",
      "preparing: 100%|##########################################################################| 1/1 [00:00<00:00, 44.57it/s]\n"
     ]
    },
    {
     "name": "stdout",
     "output_type": "stream",
     "text": [
      "1de00584-d186-483f-a75d-c47025cf8f0e\n",
      "sim calculated successfully\n",
      "\n",
      "539.454 0.1465 538.197\n",
      "0 existing calculation records provided\n"
     ]
    },
    {
     "name": "stderr",
     "output_type": "stream",
     "text": [
      "100%|█████████████████████████████████████████████████████████████████████████████████████| 1/1 [00:00<00:00,  2.45it/s]"
     ]
    },
    {
     "name": "stdout",
     "output_type": "stream",
     "text": [
      "1 calculation combinations to check\n",
      "1 new records to prepare\n"
     ]
    },
    {
     "name": "stderr",
     "output_type": "stream",
     "text": [
      "\n",
      "preparing: 100%|##########################################################################| 1/1 [00:00<00:00, 28.81it/s]\n"
     ]
    },
    {
     "name": "stdout",
     "output_type": "stream",
     "text": [
      "d7f3ef87-bce0-4012-9b87-8d53a2951913\n",
      "sim calculated successfully\n",
      "\n",
      "539.454 0.1484 538.193\n",
      "0 existing calculation records provided\n"
     ]
    },
    {
     "name": "stderr",
     "output_type": "stream",
     "text": [
      "100%|█████████████████████████████████████████████████████████████████████████████████████| 1/1 [00:00<00:00,  4.10it/s]"
     ]
    },
    {
     "name": "stdout",
     "output_type": "stream",
     "text": [
      "1 calculation combinations to check\n",
      "1 new records to prepare\n"
     ]
    },
    {
     "name": "stderr",
     "output_type": "stream",
     "text": [
      "\n",
      "preparing: 100%|##########################################################################| 1/1 [00:00<00:00, 40.85it/s]\n"
     ]
    },
    {
     "name": "stdout",
     "output_type": "stream",
     "text": [
      "d79876b7-1adb-4b07-931c-7365b736fa55\n",
      "sim calculated successfully\n",
      "\n",
      "539.454 0.1394 535.279\n",
      "0 existing calculation records provided\n"
     ]
    },
    {
     "name": "stderr",
     "output_type": "stream",
     "text": [
      "100%|█████████████████████████████████████████████████████████████████████████████████████| 1/1 [00:00<00:00,  2.27it/s]"
     ]
    },
    {
     "name": "stdout",
     "output_type": "stream",
     "text": [
      "1 calculation combinations to check\n",
      "1 new records to prepare\n"
     ]
    },
    {
     "name": "stderr",
     "output_type": "stream",
     "text": [
      "\n",
      "preparing: 100%|##########################################################################| 1/1 [00:00<00:00, 27.87it/s]\n"
     ]
    },
    {
     "name": "stdout",
     "output_type": "stream",
     "text": [
      "070a1173-6345-4a17-9277-77e3c7c99c6b\n",
      "sim calculated successfully\n",
      "\n",
      "539.454 0.1463 533.969\n",
      "0 existing calculation records provided\n"
     ]
    },
    {
     "name": "stderr",
     "output_type": "stream",
     "text": [
      "100%|█████████████████████████████████████████████████████████████████████████████████████| 1/1 [00:00<00:00,  2.60it/s]"
     ]
    },
    {
     "name": "stdout",
     "output_type": "stream",
     "text": [
      "1 calculation combinations to check\n",
      "1 new records to prepare\n"
     ]
    },
    {
     "name": "stderr",
     "output_type": "stream",
     "text": [
      "\n",
      "preparing: 100%|##########################################################################| 1/1 [00:00<00:00, 48.84it/s]\n"
     ]
    },
    {
     "name": "stdout",
     "output_type": "stream",
     "text": [
      "f7a9dffd-eae6-4af3-a93c-5e81d60b1207\n",
      "sim calculated successfully\n",
      "\n",
      "539.454 0.1429 533.493\n",
      "0 existing calculation records provided\n"
     ]
    },
    {
     "name": "stderr",
     "output_type": "stream",
     "text": [
      "100%|█████████████████████████████████████████████████████████████████████████████████████| 1/1 [00:00<00:00,  2.21it/s]"
     ]
    },
    {
     "name": "stdout",
     "output_type": "stream",
     "text": [
      "1 calculation combinations to check\n",
      "1 new records to prepare\n"
     ]
    },
    {
     "name": "stderr",
     "output_type": "stream",
     "text": [
      "\n",
      "preparing: 100%|##########################################################################| 1/1 [00:00<00:00, 24.61it/s]\n"
     ]
    },
    {
     "name": "stdout",
     "output_type": "stream",
     "text": [
      "72315b0a-e4b6-4998-9beb-219d3df39e64\n",
      "sim calculated successfully\n",
      "\n",
      "539.454 0.1401 533.839\n",
      "Max number of runs reached!\n",
      "\n",
      "52 2004--Ackland-G-J--Fe-P--LAMMPS--ipr1\n",
      "0 existing calculation records provided\n"
     ]
    },
    {
     "name": "stderr",
     "output_type": "stream",
     "text": [
      "100%|█████████████████████████████████████████████████████████████████████████████████████| 1/1 [00:00<00:00,  2.66it/s]"
     ]
    },
    {
     "name": "stdout",
     "output_type": "stream",
     "text": [
      "1 calculation combinations to check\n",
      "1 new records to prepare\n"
     ]
    },
    {
     "name": "stderr",
     "output_type": "stream",
     "text": [
      "\n",
      "preparing: 100%|##########################################################################| 1/1 [00:00<00:00, 46.59it/s]\n"
     ]
    },
    {
     "name": "stdout",
     "output_type": "stream",
     "text": [
      "3fde16a6-5159-4fbe-bcf6-0be90879e257\n",
      "sim calculated successfully\n",
      "\n",
      "4525.000 0.00331 4473.934\n",
      "0 existing calculation records provided\n"
     ]
    },
    {
     "name": "stderr",
     "output_type": "stream",
     "text": [
      "100%|█████████████████████████████████████████████████████████████████████████████████████| 1/1 [00:00<00:00,  2.46it/s]"
     ]
    },
    {
     "name": "stdout",
     "output_type": "stream",
     "text": [
      "1 calculation combinations to check\n",
      "1 new records to prepare\n"
     ]
    },
    {
     "name": "stderr",
     "output_type": "stream",
     "text": [
      "\n",
      "preparing: 100%|##########################################################################| 1/1 [00:00<00:00, 26.91it/s]\n"
     ]
    },
    {
     "name": "stdout",
     "output_type": "stream",
     "text": [
      "0359a310-16d5-494f-b753-69f2596f681e\n",
      "sim calculated successfully\n",
      "\n",
      "2287.500 0.0001345 2200.328\n",
      "0 existing calculation records provided\n"
     ]
    },
    {
     "name": "stderr",
     "output_type": "stream",
     "text": [
      "100%|█████████████████████████████████████████████████████████████████████████████████████| 1/1 [00:00<00:00,  4.32it/s]"
     ]
    },
    {
     "name": "stdout",
     "output_type": "stream",
     "text": [
      "1 calculation combinations to check\n",
      "1 new records to prepare\n"
     ]
    },
    {
     "name": "stderr",
     "output_type": "stream",
     "text": [
      "\n",
      "preparing: 100%|##########################################################################| 1/1 [00:00<00:00, 39.36it/s]\n"
     ]
    },
    {
     "name": "stdout",
     "output_type": "stream",
     "text": [
      "8fae26f5-440c-4d25-bc40-0d5921156885\n",
      "sim calculated successfully\n",
      "\n",
      "1168.750 0.9976 1164.446\n",
      "0 existing calculation records provided\n"
     ]
    },
    {
     "name": "stderr",
     "output_type": "stream",
     "text": [
      "100%|█████████████████████████████████████████████████████████████████████████████████████| 1/1 [00:00<00:00,  4.19it/s]"
     ]
    },
    {
     "name": "stdout",
     "output_type": "stream",
     "text": [
      "1 calculation combinations to check\n",
      "1 new records to prepare\n"
     ]
    },
    {
     "name": "stderr",
     "output_type": "stream",
     "text": [
      "\n",
      "preparing: 100%|##########################################################################| 1/1 [00:00<00:00, 34.50it/s]\n"
     ]
    },
    {
     "name": "stdout",
     "output_type": "stream",
     "text": [
      "9a687bf2-ee09-4073-8af4-8c9f9bc01149\n",
      "sim calculated successfully\n",
      "\n",
      "1728.125 0.8085 1885.520\n",
      "0 existing calculation records provided\n"
     ]
    },
    {
     "name": "stderr",
     "output_type": "stream",
     "text": [
      "100%|█████████████████████████████████████████████████████████████████████████████████████| 1/1 [00:00<00:00,  2.64it/s]"
     ]
    },
    {
     "name": "stdout",
     "output_type": "stream",
     "text": [
      "1 calculation combinations to check\n",
      "1 new records to prepare\n"
     ]
    },
    {
     "name": "stderr",
     "output_type": "stream",
     "text": [
      "\n",
      "preparing: 100%|##########################################################################| 1/1 [00:00<00:00, 40.50it/s]\n"
     ]
    },
    {
     "name": "stdout",
     "output_type": "stream",
     "text": [
      "927d7d26-6dac-4a8e-adef-2c581a2894fc\n",
      "sim calculated successfully\n",
      "\n",
      "2007.812 0.0003621 1811.635\n",
      "0 existing calculation records provided\n"
     ]
    },
    {
     "name": "stderr",
     "output_type": "stream",
     "text": [
      "100%|█████████████████████████████████████████████████████████████████████████████████████| 1/1 [00:00<00:00,  2.23it/s]"
     ]
    },
    {
     "name": "stdout",
     "output_type": "stream",
     "text": [
      "1 calculation combinations to check\n",
      "1 new records to prepare\n"
     ]
    },
    {
     "name": "stderr",
     "output_type": "stream",
     "text": [
      "\n",
      "preparing: 100%|##########################################################################| 1/1 [00:00<00:00, 24.70it/s]\n"
     ]
    },
    {
     "name": "stdout",
     "output_type": "stream",
     "text": [
      "e3d7aefd-521f-4365-8b2e-fd5b49844b7e\n",
      "sim calculated successfully\n",
      "\n",
      "1867.969 0.2961 1794.923\n",
      "0 existing calculation records provided\n"
     ]
    },
    {
     "name": "stderr",
     "output_type": "stream",
     "text": [
      "100%|█████████████████████████████████████████████████████████████████████████████████████| 1/1 [00:00<00:00,  4.68it/s]"
     ]
    },
    {
     "name": "stdout",
     "output_type": "stream",
     "text": [
      "1 calculation combinations to check\n",
      "1 new records to prepare\n"
     ]
    },
    {
     "name": "stderr",
     "output_type": "stream",
     "text": [
      "\n",
      "preparing: 100%|##########################################################################| 1/1 [00:00<00:00, 25.66it/s]\n"
     ]
    },
    {
     "name": "stdout",
     "output_type": "stream",
     "text": [
      "ff7bf6ec-58ae-400e-ab72-d805efa17fe2\n",
      "sim calculated successfully\n",
      "\n",
      "1798.047 0.4818 1795.275\n",
      "0 existing calculation records provided\n"
     ]
    },
    {
     "name": "stderr",
     "output_type": "stream",
     "text": [
      "100%|█████████████████████████████████████████████████████████████████████████████████████| 1/1 [00:00<00:00,  4.36it/s]"
     ]
    },
    {
     "name": "stdout",
     "output_type": "stream",
     "text": [
      "1 calculation combinations to check\n",
      "1 new records to prepare\n"
     ]
    },
    {
     "name": "stderr",
     "output_type": "stream",
     "text": [
      "\n",
      "preparing: 100%|##########################################################################| 1/1 [00:00<00:00, 33.99it/s]\n"
     ]
    },
    {
     "name": "stdout",
     "output_type": "stream",
     "text": [
      "14b5dc5e-6e88-4c89-8138-dd2b75f8dc1b\n",
      "sim calculated successfully\n",
      "\n",
      "1798.047 0.5087 1798.034\n",
      "0 existing calculation records provided\n"
     ]
    },
    {
     "name": "stderr",
     "output_type": "stream",
     "text": [
      "100%|█████████████████████████████████████████████████████████████████████████████████████| 1/1 [00:00<00:00,  4.32it/s]"
     ]
    },
    {
     "name": "stdout",
     "output_type": "stream",
     "text": [
      "1 calculation combinations to check\n",
      "1 new records to prepare\n"
     ]
    },
    {
     "name": "stderr",
     "output_type": "stream",
     "text": [
      "\n",
      "preparing: 100%|##########################################################################| 1/1 [00:00<00:00, 25.49it/s]\n"
     ]
    },
    {
     "name": "stdout",
     "output_type": "stream",
     "text": [
      "462fbd12-28a1-4bda-9b84-790aba13e0aa\n",
      "sim calculated successfully\n",
      "\n",
      "1798.047 0.4777 1795.335\n",
      "0 existing calculation records provided\n"
     ]
    },
    {
     "name": "stderr",
     "output_type": "stream",
     "text": [
      "100%|█████████████████████████████████████████████████████████████████████████████████████| 1/1 [00:00<00:00,  4.26it/s]"
     ]
    },
    {
     "name": "stdout",
     "output_type": "stream",
     "text": [
      "1 calculation combinations to check\n",
      "1 new records to prepare\n"
     ]
    },
    {
     "name": "stderr",
     "output_type": "stream",
     "text": [
      "\n",
      "preparing: 100%|##########################################################################| 1/1 [00:00<00:00, 34.98it/s]\n"
     ]
    },
    {
     "name": "stdout",
     "output_type": "stream",
     "text": [
      "f7dd408a-038d-4c1f-b4fb-8769e2b15d23\n",
      "sim calculated successfully\n",
      "\n",
      "1798.047 0.4825 1791.941\n",
      "0 existing calculation records provided\n"
     ]
    },
    {
     "name": "stderr",
     "output_type": "stream",
     "text": [
      "100%|█████████████████████████████████████████████████████████████████████████████████████| 1/1 [00:00<00:00,  4.37it/s]"
     ]
    },
    {
     "name": "stdout",
     "output_type": "stream",
     "text": [
      "1 calculation combinations to check\n",
      "1 new records to prepare\n"
     ]
    },
    {
     "name": "stderr",
     "output_type": "stream",
     "text": [
      "\n",
      "preparing: 100%|##########################################################################| 1/1 [00:00<00:00, 37.46it/s]\n"
     ]
    },
    {
     "name": "stdout",
     "output_type": "stream",
     "text": [
      "5e8eeff7-2f05-413a-96fb-fb500c9af23f\n",
      "sim calculated successfully\n",
      "\n",
      "1798.047 0.5174 1796.580\n",
      "0 existing calculation records provided\n"
     ]
    },
    {
     "name": "stderr",
     "output_type": "stream",
     "text": [
      "100%|█████████████████████████████████████████████████████████████████████████████████████| 1/1 [00:00<00:00,  4.35it/s]"
     ]
    },
    {
     "name": "stdout",
     "output_type": "stream",
     "text": [
      "1 calculation combinations to check\n",
      "1 new records to prepare\n"
     ]
    },
    {
     "name": "stderr",
     "output_type": "stream",
     "text": [
      "\n",
      "preparing: 100%|##########################################################################| 1/1 [00:00<00:00, 30.70it/s]\n"
     ]
    },
    {
     "name": "stdout",
     "output_type": "stream",
     "text": [
      "63931328-93e7-42b8-8940-af0defa2372e\n",
      "sim calculated successfully\n",
      "\n",
      "1798.047 0.4823 1800.651\n",
      "0 existing calculation records provided\n"
     ]
    },
    {
     "name": "stderr",
     "output_type": "stream",
     "text": [
      "100%|█████████████████████████████████████████████████████████████████████████████████████| 1/1 [00:00<00:00,  4.48it/s]"
     ]
    },
    {
     "name": "stdout",
     "output_type": "stream",
     "text": [
      "1 calculation combinations to check\n",
      "1 new records to prepare\n"
     ]
    },
    {
     "name": "stderr",
     "output_type": "stream",
     "text": [
      "\n",
      "preparing: 100%|##########################################################################| 1/1 [00:00<00:00, 47.07it/s]\n"
     ]
    },
    {
     "name": "stdout",
     "output_type": "stream",
     "text": [
      "406cba66-8eeb-4640-a41d-b805ff1bf995\n",
      "sim calculated successfully\n",
      "\n",
      "1798.047 0.4827 1793.912\n",
      "0 existing calculation records provided\n"
     ]
    },
    {
     "name": "stderr",
     "output_type": "stream",
     "text": [
      "100%|█████████████████████████████████████████████████████████████████████████████████████| 1/1 [00:00<00:00,  2.71it/s]"
     ]
    },
    {
     "name": "stdout",
     "output_type": "stream",
     "text": [
      "1 calculation combinations to check\n",
      "1 new records to prepare\n"
     ]
    },
    {
     "name": "stderr",
     "output_type": "stream",
     "text": [
      "\n",
      "preparing: 100%|##########################################################################| 1/1 [00:00<00:00, 44.22it/s]\n"
     ]
    },
    {
     "name": "stdout",
     "output_type": "stream",
     "text": [
      "49be33b8-b586-490c-afd5-1fb2b563e4db\n",
      "sim calculated successfully\n",
      "\n",
      "1798.047 0.4806 1791.971\n",
      "0 existing calculation records provided\n"
     ]
    },
    {
     "name": "stderr",
     "output_type": "stream",
     "text": [
      "100%|█████████████████████████████████████████████████████████████████████████████████████| 1/1 [00:00<00:00,  2.33it/s]"
     ]
    },
    {
     "name": "stdout",
     "output_type": "stream",
     "text": [
      "1 calculation combinations to check\n",
      "1 new records to prepare\n"
     ]
    },
    {
     "name": "stderr",
     "output_type": "stream",
     "text": [
      "\n",
      "preparing: 100%|##########################################################################| 1/1 [00:00<00:00, 21.17it/s]\n"
     ]
    },
    {
     "name": "stdout",
     "output_type": "stream",
     "text": [
      "1c1e5beb-891d-4fb4-a088-18c4b0de57a1\n",
      "sim calculated successfully\n",
      "\n",
      "1798.047 0.4902 1793.211\n",
      "\n",
      "53 2004--Ackland-G-J--Fe-P--LAMMPS--ipr1\n",
      "0 existing calculation records provided\n"
     ]
    },
    {
     "name": "stderr",
     "output_type": "stream",
     "text": [
      "100%|█████████████████████████████████████████████████████████████████████████████████████| 1/1 [00:00<00:00,  2.61it/s]"
     ]
    },
    {
     "name": "stdout",
     "output_type": "stream",
     "text": [
      "1 calculation combinations to check\n",
      "1 new records to prepare\n"
     ]
    },
    {
     "name": "stderr",
     "output_type": "stream",
     "text": [
      "\n",
      "preparing: 100%|##########################################################################| 1/1 [00:00<00:00, 28.27it/s]\n"
     ]
    },
    {
     "name": "stdout",
     "output_type": "stream",
     "text": [
      "9c2d211e-88dd-4134-b8c3-0fa57ba453b2\n",
      "sim calculated successfully\n",
      "\n",
      "4525.000 0.1761 784.064\n",
      "0 existing calculation records provided\n"
     ]
    },
    {
     "name": "stderr",
     "output_type": "stream",
     "text": [
      "100%|█████████████████████████████████████████████████████████████████████████████████████| 1/1 [00:00<00:00,  2.29it/s]"
     ]
    },
    {
     "name": "stdout",
     "output_type": "stream",
     "text": [
      "1 calculation combinations to check\n",
      "1 new records to prepare\n"
     ]
    },
    {
     "name": "stderr",
     "output_type": "stream",
     "text": [
      "\n",
      "preparing: 100%|##########################################################################| 1/1 [00:00<00:00, 23.52it/s]\n"
     ]
    },
    {
     "name": "stdout",
     "output_type": "stream",
     "text": [
      "f91a2b58-b2ee-4f30-9993-f35faa65664a\n",
      "sim calculated successfully\n",
      "\n",
      "2287.500 0.02417 1898.000\n",
      "0 existing calculation records provided\n"
     ]
    },
    {
     "name": "stderr",
     "output_type": "stream",
     "text": [
      "100%|█████████████████████████████████████████████████████████████████████████████████████| 1/1 [00:00<00:00,  4.30it/s]"
     ]
    },
    {
     "name": "stdout",
     "output_type": "stream",
     "text": [
      "1 calculation combinations to check\n",
      "1 new records to prepare\n"
     ]
    },
    {
     "name": "stderr",
     "output_type": "stream",
     "text": [
      "\n",
      "preparing: 100%|##########################################################################| 1/1 [00:00<00:00, 30.73it/s]\n"
     ]
    },
    {
     "name": "stdout",
     "output_type": "stream",
     "text": [
      "27f69a34-0438-476c-8db2-6963e63ee9bb\n",
      "sim calculated successfully\n",
      "\n",
      "1168.750 0.8434 1271.811\n",
      "0 existing calculation records provided\n"
     ]
    },
    {
     "name": "stderr",
     "output_type": "stream",
     "text": [
      "100%|█████████████████████████████████████████████████████████████████████████████████████| 1/1 [00:00<00:00,  2.55it/s]"
     ]
    },
    {
     "name": "stdout",
     "output_type": "stream",
     "text": [
      "1 calculation combinations to check\n",
      "1 new records to prepare\n"
     ]
    },
    {
     "name": "stderr",
     "output_type": "stream",
     "text": [
      "\n",
      "preparing: 100%|##########################################################################| 1/1 [00:00<00:00, 39.61it/s]\n"
     ]
    },
    {
     "name": "stdout",
     "output_type": "stream",
     "text": [
      "dc2f0d5b-af70-4080-b4d5-6b57126f5dae\n",
      "sim calculated successfully\n",
      "\n",
      "1728.125 0.0001965 1756.304\n",
      "0 existing calculation records provided\n"
     ]
    },
    {
     "name": "stderr",
     "output_type": "stream",
     "text": [
      "100%|█████████████████████████████████████████████████████████████████████████████████████| 1/1 [00:00<00:00,  4.07it/s]"
     ]
    },
    {
     "name": "stdout",
     "output_type": "stream",
     "text": [
      "1 calculation combinations to check\n",
      "1 new records to prepare\n"
     ]
    },
    {
     "name": "stderr",
     "output_type": "stream",
     "text": [
      "\n",
      "preparing: 100%|##########################################################################| 1/1 [00:00<00:00, 29.45it/s]\n"
     ]
    },
    {
     "name": "stdout",
     "output_type": "stream",
     "text": [
      "50f42d83-5932-4c81-be34-76156119560e\n",
      "sim calculated successfully\n",
      "\n",
      "1448.438 0.0003414 1293.769\n",
      "0 existing calculation records provided\n"
     ]
    },
    {
     "name": "stderr",
     "output_type": "stream",
     "text": [
      "100%|█████████████████████████████████████████████████████████████████████████████████████| 1/1 [00:00<00:00,  4.28it/s]"
     ]
    },
    {
     "name": "stdout",
     "output_type": "stream",
     "text": [
      "1 calculation combinations to check\n",
      "1 new records to prepare\n"
     ]
    },
    {
     "name": "stderr",
     "output_type": "stream",
     "text": [
      "\n",
      "preparing: 100%|##########################################################################| 1/1 [00:00<00:00, 32.08it/s]\n"
     ]
    },
    {
     "name": "stdout",
     "output_type": "stream",
     "text": [
      "c205bd58-16fc-4093-8bdf-7cafd0295aa9\n",
      "sim calculated successfully\n",
      "\n",
      "1308.594 0.3665 1274.220\n",
      "0 existing calculation records provided\n"
     ]
    },
    {
     "name": "stderr",
     "output_type": "stream",
     "text": [
      "100%|█████████████████████████████████████████████████████████████████████████████████████| 1/1 [00:00<00:00,  2.46it/s]"
     ]
    },
    {
     "name": "stdout",
     "output_type": "stream",
     "text": [
      "1 calculation combinations to check\n",
      "1 new records to prepare\n"
     ]
    },
    {
     "name": "stderr",
     "output_type": "stream",
     "text": [
      "\n",
      "preparing: 100%|##########################################################################| 1/1 [00:00<00:00, 23.41it/s]\n"
     ]
    },
    {
     "name": "stdout",
     "output_type": "stream",
     "text": [
      "05cc70ae-a0cd-4c51-b0f0-cc6c6ef15960\n",
      "sim calculated successfully\n",
      "\n",
      "1238.672 0.7494 1351.833\n",
      "0 existing calculation records provided\n"
     ]
    },
    {
     "name": "stderr",
     "output_type": "stream",
     "text": [
      "100%|█████████████████████████████████████████████████████████████████████████████████████| 1/1 [00:00<00:00,  2.39it/s]"
     ]
    },
    {
     "name": "stdout",
     "output_type": "stream",
     "text": [
      "1 calculation combinations to check\n",
      "1 new records to prepare\n"
     ]
    },
    {
     "name": "stderr",
     "output_type": "stream",
     "text": [
      "\n",
      "preparing: 100%|##########################################################################| 1/1 [00:00<00:00, 25.28it/s]\n"
     ]
    },
    {
     "name": "stdout",
     "output_type": "stream",
     "text": [
      "f4e11dbd-015a-489c-b5e4-1a3082a0e556\n",
      "sim calculated successfully\n",
      "\n",
      "1343.555 0.2579 1278.040\n",
      "0 existing calculation records provided\n"
     ]
    },
    {
     "name": "stderr",
     "output_type": "stream",
     "text": [
      "100%|█████████████████████████████████████████████████████████████████████████████████████| 1/1 [00:00<00:00,  4.79it/s]"
     ]
    },
    {
     "name": "stdout",
     "output_type": "stream",
     "text": [
      "1 calculation combinations to check\n",
      "1 new records to prepare\n"
     ]
    },
    {
     "name": "stderr",
     "output_type": "stream",
     "text": [
      "\n",
      "preparing: 100%|##########################################################################| 1/1 [00:00<00:00, 31.82it/s]\n"
     ]
    },
    {
     "name": "stdout",
     "output_type": "stream",
     "text": [
      "51604a26-da21-47d0-99ad-27765a37cfe8\n",
      "sim calculated successfully\n",
      "\n",
      "1256.152 0.531 1276.476\n",
      "0 existing calculation records provided\n"
     ]
    },
    {
     "name": "stderr",
     "output_type": "stream",
     "text": [
      "100%|█████████████████████████████████████████████████████████████████████████████████████| 1/1 [00:00<00:00,  2.59it/s]"
     ]
    },
    {
     "name": "stdout",
     "output_type": "stream",
     "text": [
      "1 calculation combinations to check\n",
      "1 new records to prepare\n"
     ]
    },
    {
     "name": "stderr",
     "output_type": "stream",
     "text": [
      "\n",
      "preparing: 100%|##########################################################################| 1/1 [00:00<00:00, 27.17it/s]\n"
     ]
    },
    {
     "name": "stdout",
     "output_type": "stream",
     "text": [
      "07f7c784-7f41-4563-ba73-70393d9f368f\n",
      "sim calculated successfully\n",
      "\n",
      "1256.152 0.5367 1273.765\n",
      "0 existing calculation records provided\n"
     ]
    },
    {
     "name": "stderr",
     "output_type": "stream",
     "text": [
      "100%|█████████████████████████████████████████████████████████████████████████████████████| 1/1 [00:00<00:00,  2.37it/s]"
     ]
    },
    {
     "name": "stdout",
     "output_type": "stream",
     "text": [
      "1 calculation combinations to check\n",
      "1 new records to prepare\n"
     ]
    },
    {
     "name": "stderr",
     "output_type": "stream",
     "text": [
      "\n",
      "preparing: 100%|##########################################################################| 1/1 [00:00<00:00, 23.87it/s]\n"
     ]
    },
    {
     "name": "stdout",
     "output_type": "stream",
     "text": [
      "39565c5b-dd6d-4138-b24c-a34448416fd1\n",
      "sim calculated successfully\n",
      "\n",
      "1256.152 0.5261 1271.424\n",
      "0 existing calculation records provided\n"
     ]
    },
    {
     "name": "stderr",
     "output_type": "stream",
     "text": [
      "100%|█████████████████████████████████████████████████████████████████████████████████████| 1/1 [00:00<00:00,  2.36it/s]"
     ]
    },
    {
     "name": "stdout",
     "output_type": "stream",
     "text": [
      "1 calculation combinations to check\n",
      "1 new records to prepare\n"
     ]
    },
    {
     "name": "stderr",
     "output_type": "stream",
     "text": [
      "\n",
      "preparing: 100%|##########################################################################| 1/1 [00:00<00:00, 23.67it/s]\n"
     ]
    },
    {
     "name": "stdout",
     "output_type": "stream",
     "text": [
      "c8aa28f1-2b8f-43b4-9e62-eebad32b3106\n",
      "sim calculated successfully\n",
      "\n",
      "1256.152 0.5371 1273.170\n",
      "0 existing calculation records provided\n"
     ]
    },
    {
     "name": "stderr",
     "output_type": "stream",
     "text": [
      "100%|█████████████████████████████████████████████████████████████████████████████████████| 1/1 [00:00<00:00,  2.63it/s]"
     ]
    },
    {
     "name": "stdout",
     "output_type": "stream",
     "text": [
      "1 calculation combinations to check\n",
      "1 new records to prepare\n"
     ]
    },
    {
     "name": "stderr",
     "output_type": "stream",
     "text": [
      "\n",
      "preparing: 100%|##########################################################################| 1/1 [00:00<00:00, 25.25it/s]\n"
     ]
    },
    {
     "name": "stdout",
     "output_type": "stream",
     "text": [
      "21f37812-4921-4fca-9142-891e344c2764\n",
      "sim calculated successfully\n",
      "\n",
      "1256.152 0.511 1272.951\n",
      "0 existing calculation records provided\n"
     ]
    },
    {
     "name": "stderr",
     "output_type": "stream",
     "text": [
      "100%|█████████████████████████████████████████████████████████████████████████████████████| 1/1 [00:00<00:00,  4.30it/s]"
     ]
    },
    {
     "name": "stdout",
     "output_type": "stream",
     "text": [
      "1 calculation combinations to check\n",
      "1 new records to prepare\n"
     ]
    },
    {
     "name": "stderr",
     "output_type": "stream",
     "text": [
      "\n",
      "preparing: 100%|##########################################################################| 1/1 [00:00<00:00, 29.47it/s]\n"
     ]
    },
    {
     "name": "stdout",
     "output_type": "stream",
     "text": [
      "1aad3a31-9cab-4adf-a062-7aa902a6ab4e\n",
      "sim calculated successfully\n",
      "\n",
      "1256.152 0.5096 1272.843\n",
      "0 existing calculation records provided\n"
     ]
    },
    {
     "name": "stderr",
     "output_type": "stream",
     "text": [
      "100%|█████████████████████████████████████████████████████████████████████████████████████| 1/1 [00:00<00:00,  2.22it/s]"
     ]
    },
    {
     "name": "stdout",
     "output_type": "stream",
     "text": [
      "1 calculation combinations to check\n",
      "1 new records to prepare\n"
     ]
    },
    {
     "name": "stderr",
     "output_type": "stream",
     "text": [
      "\n",
      "preparing: 100%|##########################################################################| 1/1 [00:00<00:00, 23.65it/s]\n"
     ]
    },
    {
     "name": "stdout",
     "output_type": "stream",
     "text": [
      "65cadcc9-dbb3-44f1-915d-399183b9ce14\n",
      "sim calculated successfully\n",
      "\n",
      "1256.152 0.5239 1276.991\n",
      "\n",
      "54 2004--Liu-X-Y--Al--LAMMPS--ipr1\n",
      "0 existing calculation records provided\n"
     ]
    },
    {
     "name": "stderr",
     "output_type": "stream",
     "text": [
      "100%|█████████████████████████████████████████████████████████████████████████████████████| 1/1 [00:00<00:00,  2.07it/s]"
     ]
    },
    {
     "name": "stdout",
     "output_type": "stream",
     "text": [
      "1 calculation combinations to check\n",
      "1 new records to prepare\n"
     ]
    },
    {
     "name": "stderr",
     "output_type": "stream",
     "text": [
      "\n",
      "preparing: 100%|##########################################################################| 1/1 [00:00<00:00, 39.61it/s]\n"
     ]
    },
    {
     "name": "stdout",
     "output_type": "stream",
     "text": [
      "cb005389-571b-4b30-b579-6615f405c35c\n",
      "sim calculated successfully\n",
      "\n",
      "4525.000 0.0003931 4755.433\n",
      "0 existing calculation records provided\n"
     ]
    },
    {
     "name": "stderr",
     "output_type": "stream",
     "text": [
      "100%|█████████████████████████████████████████████████████████████████████████████████████| 1/1 [00:00<00:00,  4.22it/s]"
     ]
    },
    {
     "name": "stdout",
     "output_type": "stream",
     "text": [
      "1 calculation combinations to check\n",
      "1 new records to prepare\n"
     ]
    },
    {
     "name": "stderr",
     "output_type": "stream",
     "text": [
      "\n",
      "preparing: 100%|#########################################################################| 1/1 [00:00<00:00, 123.02it/s]\n"
     ]
    },
    {
     "name": "stdout",
     "output_type": "stream",
     "text": [
      "7c760f42-343f-4384-a1e1-159822130290\n",
      "sim calculated successfully\n",
      "\n",
      "2287.500 1.034e-05 2279.468\n",
      "0 existing calculation records provided\n"
     ]
    },
    {
     "name": "stderr",
     "output_type": "stream",
     "text": [
      "100%|█████████████████████████████████████████████████████████████████████████████████████| 1/1 [00:00<00:00,  2.27it/s]"
     ]
    },
    {
     "name": "stdout",
     "output_type": "stream",
     "text": [
      "1 calculation combinations to check\n",
      "1 new records to prepare\n"
     ]
    },
    {
     "name": "stderr",
     "output_type": "stream",
     "text": [
      "\n",
      "preparing: 100%|##########################################################################| 1/1 [00:00<00:00, 35.39it/s]\n"
     ]
    },
    {
     "name": "stdout",
     "output_type": "stream",
     "text": [
      "527053fe-63a6-4f8c-960d-03809dad81c8\n",
      "sim calculated successfully\n",
      "\n",
      "1168.750 3.103e-05 1148.179\n",
      "0 existing calculation records provided\n"
     ]
    },
    {
     "name": "stderr",
     "output_type": "stream",
     "text": [
      "100%|█████████████████████████████████████████████████████████████████████████████████████| 1/1 [00:00<00:00,  4.20it/s]"
     ]
    },
    {
     "name": "stdout",
     "output_type": "stream",
     "text": [
      "1 calculation combinations to check\n",
      "1 new records to prepare\n"
     ]
    },
    {
     "name": "stderr",
     "output_type": "stream",
     "text": [
      "\n",
      "preparing: 100%|##########################################################################| 1/1 [00:00<00:00, 43.53it/s]\n"
     ]
    },
    {
     "name": "stdout",
     "output_type": "stream",
     "text": [
      "93c81949-c65b-4909-97f9-3928a8c65e6f\n",
      "sim calculated successfully\n",
      "\n",
      "609.375 0.04458 637.779\n",
      "0 existing calculation records provided\n"
     ]
    },
    {
     "name": "stderr",
     "output_type": "stream",
     "text": [
      "100%|█████████████████████████████████████████████████████████████████████████████████████| 1/1 [00:00<00:00,  2.32it/s]"
     ]
    },
    {
     "name": "stdout",
     "output_type": "stream",
     "text": [
      "1 calculation combinations to check\n",
      "1 new records to prepare\n"
     ]
    },
    {
     "name": "stderr",
     "output_type": "stream",
     "text": [
      "\n",
      "preparing: 100%|##########################################################################| 1/1 [00:00<00:00, 38.80it/s]\n"
     ]
    },
    {
     "name": "stdout",
     "output_type": "stream",
     "text": [
      "f7a4b32f-2c99-45fb-b0db-49f99b254482\n",
      "sim calculated successfully\n",
      "\n",
      "329.688 0.03776 328.750\n",
      "0 existing calculation records provided\n"
     ]
    },
    {
     "name": "stderr",
     "output_type": "stream",
     "text": [
      "100%|█████████████████████████████████████████████████████████████████████████████████████| 1/1 [00:00<00:00,  4.30it/s]"
     ]
    },
    {
     "name": "stdout",
     "output_type": "stream",
     "text": [
      "1 calculation combinations to check\n",
      "1 new records to prepare\n"
     ]
    },
    {
     "name": "stderr",
     "output_type": "stream",
     "text": [
      "\n",
      "preparing: 100%|##########################################################################| 1/1 [00:00<00:00, 43.50it/s]\n"
     ]
    },
    {
     "name": "stdout",
     "output_type": "stream",
     "text": [
      "7f202c68-f006-4cf5-a02a-a11f49c8ba72\n",
      "sim calculated successfully\n",
      "\n",
      "189.844 0.02098 189.144\n",
      "0 existing calculation records provided\n"
     ]
    },
    {
     "name": "stderr",
     "output_type": "stream",
     "text": [
      "100%|█████████████████████████████████████████████████████████████████████████████████████| 1/1 [00:00<00:00,  2.23it/s]"
     ]
    },
    {
     "name": "stdout",
     "output_type": "stream",
     "text": [
      "1 calculation combinations to check\n",
      "1 new records to prepare\n"
     ]
    },
    {
     "name": "stderr",
     "output_type": "stream",
     "text": [
      "\n",
      "preparing: 100%|##########################################################################| 1/1 [00:00<00:00, 37.78it/s]\n"
     ]
    },
    {
     "name": "stdout",
     "output_type": "stream",
     "text": [
      "25e6edac-c76e-40a6-bb53-50316ccd0b64\n",
      "sim calculated successfully\n",
      "\n",
      "119.922 0.01238 119.329\n",
      "0 existing calculation records provided\n"
     ]
    },
    {
     "name": "stderr",
     "output_type": "stream",
     "text": [
      "100%|█████████████████████████████████████████████████████████████████████████████████████| 1/1 [00:00<00:00,  2.21it/s]"
     ]
    },
    {
     "name": "stdout",
     "output_type": "stream",
     "text": [
      "1 calculation combinations to check\n",
      "1 new records to prepare\n"
     ]
    },
    {
     "name": "stderr",
     "output_type": "stream",
     "text": [
      "\n",
      "preparing: 100%|##########################################################################| 1/1 [00:00<00:00, 31.44it/s]\n"
     ]
    },
    {
     "name": "stdout",
     "output_type": "stream",
     "text": [
      "c0976fc8-c820-42ed-8e52-61097515e5d2\n",
      "sim calculated successfully\n",
      "\n",
      "84.961 0.09774 84.523\n",
      "0 existing calculation records provided\n"
     ]
    },
    {
     "name": "stderr",
     "output_type": "stream",
     "text": [
      "100%|█████████████████████████████████████████████████████████████████████████████████████| 1/1 [00:00<00:00,  3.78it/s]"
     ]
    },
    {
     "name": "stdout",
     "output_type": "stream",
     "text": [
      "1 calculation combinations to check\n",
      "1 new records to prepare\n"
     ]
    },
    {
     "name": "stderr",
     "output_type": "stream",
     "text": [
      "\n",
      "preparing: 100%|##########################################################################| 1/1 [00:00<00:00, 75.60it/s]\n"
     ]
    },
    {
     "name": "stdout",
     "output_type": "stream",
     "text": [
      "18167275-c900-487f-9646-47ae034092e0\n",
      "sim calculated successfully\n",
      "\n",
      "67.480 0.1464 67.071\n",
      "0 existing calculation records provided\n"
     ]
    },
    {
     "name": "stderr",
     "output_type": "stream",
     "text": [
      "100%|█████████████████████████████████████████████████████████████████████████████████████| 1/1 [00:00<00:00,  2.57it/s]"
     ]
    },
    {
     "name": "stdout",
     "output_type": "stream",
     "text": [
      "1 calculation combinations to check\n",
      "1 new records to prepare\n"
     ]
    },
    {
     "name": "stderr",
     "output_type": "stream",
     "text": [
      "\n",
      "preparing: 100%|##########################################################################| 1/1 [00:00<00:00, 41.16it/s]\n"
     ]
    },
    {
     "name": "stdout",
     "output_type": "stream",
     "text": [
      "293b93a0-3cb2-48c6-a276-6ebd0f66cac1\n",
      "sim calculated successfully\n",
      "\n",
      "58.740 0.000931 58.475\n",
      "0 existing calculation records provided\n"
     ]
    },
    {
     "name": "stderr",
     "output_type": "stream",
     "text": [
      "100%|█████████████████████████████████████████████████████████████████████████████████████| 1/1 [00:00<00:00,  2.75it/s]"
     ]
    },
    {
     "name": "stdout",
     "output_type": "stream",
     "text": [
      "1 calculation combinations to check\n",
      "1 new records to prepare\n"
     ]
    },
    {
     "name": "stderr",
     "output_type": "stream",
     "text": [
      "\n",
      "preparing: 100%|##########################################################################| 1/1 [00:00<00:00, 76.04it/s]\n"
     ]
    },
    {
     "name": "stdout",
     "output_type": "stream",
     "text": [
      "9c4d9296-9b17-4e4e-b83e-9f66382ea6d8\n",
      "sim calculated successfully\n",
      "\n",
      "54.370 0.0003517 54.123\n",
      "0 existing calculation records provided\n"
     ]
    },
    {
     "name": "stderr",
     "output_type": "stream",
     "text": [
      "100%|█████████████████████████████████████████████████████████████████████████████████████| 1/1 [00:00<00:00,  2.38it/s]"
     ]
    },
    {
     "name": "stdout",
     "output_type": "stream",
     "text": [
      "1 calculation combinations to check\n",
      "1 new records to prepare\n"
     ]
    },
    {
     "name": "stderr",
     "output_type": "stream",
     "text": [
      "\n",
      "preparing: 100%|##########################################################################| 1/1 [00:00<00:00, 38.33it/s]\n"
     ]
    },
    {
     "name": "stdout",
     "output_type": "stream",
     "text": [
      "120d661b-f7c1-452b-99c3-8aace01d663c\n",
      "sim calculated successfully\n",
      "\n",
      "52.185 0.0003517 52.089\n",
      "0 existing calculation records provided\n"
     ]
    },
    {
     "name": "stderr",
     "output_type": "stream",
     "text": [
      "100%|█████████████████████████████████████████████████████████████████████████████████████| 1/1 [00:00<00:00,  2.29it/s]"
     ]
    },
    {
     "name": "stdout",
     "output_type": "stream",
     "text": [
      "1 calculation combinations to check\n",
      "1 new records to prepare\n"
     ]
    },
    {
     "name": "stderr",
     "output_type": "stream",
     "text": [
      "\n",
      "preparing: 100%|##########################################################################| 1/1 [00:00<00:00, 55.39it/s]\n"
     ]
    },
    {
     "name": "stdout",
     "output_type": "stream",
     "text": [
      "dc029ab5-27d8-4d0c-8214-3ca9a321108f\n",
      "sim calculated successfully\n",
      "\n",
      "51.093 0.0003103 50.959\n",
      "0 existing calculation records provided\n"
     ]
    },
    {
     "name": "stderr",
     "output_type": "stream",
     "text": [
      "100%|█████████████████████████████████████████████████████████████████████████████████████| 1/1 [00:00<00:00,  2.31it/s]"
     ]
    },
    {
     "name": "stdout",
     "output_type": "stream",
     "text": [
      "1 calculation combinations to check\n",
      "1 new records to prepare\n"
     ]
    },
    {
     "name": "stderr",
     "output_type": "stream",
     "text": [
      "\n",
      "preparing: 100%|##########################################################################| 1/1 [00:00<00:00, 37.63it/s]\n"
     ]
    },
    {
     "name": "stdout",
     "output_type": "stream",
     "text": [
      "c75728c1-3540-4441-b4a7-915fbcae7ce3\n",
      "sim calculated successfully\n",
      "\n",
      "50.546 0.0003 50.345\n",
      "0 existing calculation records provided\n"
     ]
    },
    {
     "name": "stderr",
     "output_type": "stream",
     "text": [
      "100%|█████████████████████████████████████████████████████████████████████████████████████| 1/1 [00:00<00:00,  2.57it/s]"
     ]
    },
    {
     "name": "stdout",
     "output_type": "stream",
     "text": [
      "1 calculation combinations to check\n",
      "1 new records to prepare\n"
     ]
    },
    {
     "name": "stderr",
     "output_type": "stream",
     "text": [
      "\n",
      "preparing: 100%|##########################################################################| 1/1 [00:00<00:00, 77.82it/s]\n"
     ]
    },
    {
     "name": "stdout",
     "output_type": "stream",
     "text": [
      "33a721de-2971-4404-953b-5fbcccd6c242\n",
      "sim calculated successfully\n",
      "\n",
      "50.273 0.0003414 50.178\n",
      "0 existing calculation records provided\n"
     ]
    },
    {
     "name": "stderr",
     "output_type": "stream",
     "text": [
      "100%|█████████████████████████████████████████████████████████████████████████████████████| 1/1 [00:00<00:00,  2.34it/s]"
     ]
    },
    {
     "name": "stdout",
     "output_type": "stream",
     "text": [
      "1 calculation combinations to check\n",
      "1 new records to prepare\n"
     ]
    },
    {
     "name": "stderr",
     "output_type": "stream",
     "text": [
      "\n",
      "preparing: 100%|##########################################################################| 1/1 [00:00<00:00, 39.22it/s]\n"
     ]
    },
    {
     "name": "stdout",
     "output_type": "stream",
     "text": [
      "dad14a5e-2901-4cae-811d-2d2f114b00c9\n",
      "sim calculated successfully\n",
      "\n",
      "50.137 0.0002793 50.125\n",
      "0 existing calculation records provided\n"
     ]
    },
    {
     "name": "stderr",
     "output_type": "stream",
     "text": [
      "100%|█████████████████████████████████████████████████████████████████████████████████████| 1/1 [00:00<00:00,  4.27it/s]"
     ]
    },
    {
     "name": "stdout",
     "output_type": "stream",
     "text": [
      "1 calculation combinations to check\n",
      "1 new records to prepare\n"
     ]
    },
    {
     "name": "stderr",
     "output_type": "stream",
     "text": [
      "\n",
      "preparing: 100%|##########################################################################| 1/1 [00:00<00:00, 74.01it/s]\n"
     ]
    },
    {
     "name": "stdout",
     "output_type": "stream",
     "text": [
      "e5005aa8-e0c1-45c6-8266-1daff3de1d3f\n",
      "sim calculated successfully\n",
      "\n",
      "50.068 0.0002172 50.057\n",
      "0 existing calculation records provided\n"
     ]
    },
    {
     "name": "stderr",
     "output_type": "stream",
     "text": [
      "100%|█████████████████████████████████████████████████████████████████████████████████████| 1/1 [00:00<00:00,  2.60it/s]"
     ]
    },
    {
     "name": "stdout",
     "output_type": "stream",
     "text": [
      "1 calculation combinations to check\n",
      "1 new records to prepare\n"
     ]
    },
    {
     "name": "stderr",
     "output_type": "stream",
     "text": [
      "\n",
      "preparing: 100%|##########################################################################| 1/1 [00:00<00:00, 41.40it/s]\n"
     ]
    },
    {
     "name": "stdout",
     "output_type": "stream",
     "text": [
      "b9b881f3-4485-4660-a023-aafc10168e34\n",
      "sim calculated successfully\n",
      "\n",
      "50.034 0.000269 50.043\n",
      "0 existing calculation records provided\n"
     ]
    },
    {
     "name": "stderr",
     "output_type": "stream",
     "text": [
      "100%|█████████████████████████████████████████████████████████████████████████████████████| 1/1 [00:00<00:00,  2.34it/s]"
     ]
    },
    {
     "name": "stdout",
     "output_type": "stream",
     "text": [
      "1 calculation combinations to check\n",
      "1 new records to prepare\n"
     ]
    },
    {
     "name": "stderr",
     "output_type": "stream",
     "text": [
      "\n",
      "preparing: 100%|##########################################################################| 1/1 [00:00<00:00, 35.42it/s]\n"
     ]
    },
    {
     "name": "stdout",
     "output_type": "stream",
     "text": [
      "5a36de4c-14c1-4455-b16a-63345e2c00ca\n",
      "sim calculated successfully\n",
      "\n",
      "50.017 0.000269 49.941\n",
      "0 existing calculation records provided\n"
     ]
    },
    {
     "name": "stderr",
     "output_type": "stream",
     "text": [
      "100%|█████████████████████████████████████████████████████████████████████████████████████| 1/1 [00:00<00:00,  4.25it/s]"
     ]
    },
    {
     "name": "stdout",
     "output_type": "stream",
     "text": [
      "1 calculation combinations to check\n",
      "1 new records to prepare\n"
     ]
    },
    {
     "name": "stderr",
     "output_type": "stream",
     "text": [
      "\n",
      "preparing: 100%|##########################################################################| 1/1 [00:00<00:00, 51.41it/s]\n"
     ]
    },
    {
     "name": "stdout",
     "output_type": "stream",
     "text": [
      "36cc3129-effb-4564-ade6-748f8965f0f6\n",
      "sim calculated successfully\n",
      "\n",
      "50.009 0.0002276 49.987\n",
      "0 existing calculation records provided\n"
     ]
    },
    {
     "name": "stderr",
     "output_type": "stream",
     "text": [
      "100%|█████████████████████████████████████████████████████████████████████████████████████| 1/1 [00:00<00:00,  2.34it/s]"
     ]
    },
    {
     "name": "stdout",
     "output_type": "stream",
     "text": [
      "1 calculation combinations to check\n",
      "1 new records to prepare\n"
     ]
    },
    {
     "name": "stderr",
     "output_type": "stream",
     "text": [
      "\n",
      "preparing: 100%|##########################################################################| 1/1 [00:00<00:00, 39.05it/s]\n"
     ]
    },
    {
     "name": "stdout",
     "output_type": "stream",
     "text": [
      "c8c8843c-0b10-41e0-af18-9c4791b68264\n",
      "sim calculated successfully\n",
      "\n",
      "50.004 0.0003621 49.906\n",
      "0 existing calculation records provided\n"
     ]
    },
    {
     "name": "stderr",
     "output_type": "stream",
     "text": [
      "100%|█████████████████████████████████████████████████████████████████████████████████████| 1/1 [00:00<00:00,  4.26it/s]"
     ]
    },
    {
     "name": "stdout",
     "output_type": "stream",
     "text": [
      "1 calculation combinations to check\n",
      "1 new records to prepare\n"
     ]
    },
    {
     "name": "stderr",
     "output_type": "stream",
     "text": [
      "\n",
      "preparing: 100%|##########################################################################| 1/1 [00:00<00:00, 70.18it/s]\n"
     ]
    },
    {
     "name": "stdout",
     "output_type": "stream",
     "text": [
      "d61f44fa-f70f-49e8-9c0a-de74a629d54c\n",
      "sim calculated successfully\n",
      "\n",
      "50.002 0.0002483 49.971\n",
      "0 existing calculation records provided\n"
     ]
    },
    {
     "name": "stderr",
     "output_type": "stream",
     "text": [
      "100%|█████████████████████████████████████████████████████████████████████████████████████| 1/1 [00:00<00:00,  2.34it/s]"
     ]
    },
    {
     "name": "stdout",
     "output_type": "stream",
     "text": [
      "1 calculation combinations to check\n",
      "1 new records to prepare\n"
     ]
    },
    {
     "name": "stderr",
     "output_type": "stream",
     "text": [
      "\n",
      "preparing: 100%|##########################################################################| 1/1 [00:00<00:00, 40.85it/s]\n"
     ]
    },
    {
     "name": "stdout",
     "output_type": "stream",
     "text": [
      "e4e6644b-f484-463d-b06a-3c38d2f34f4d\n",
      "sim calculated successfully\n",
      "\n",
      "50.001 0.0002483 49.944\n",
      "0 existing calculation records provided\n"
     ]
    },
    {
     "name": "stderr",
     "output_type": "stream",
     "text": [
      "100%|█████████████████████████████████████████████████████████████████████████████████████| 1/1 [00:00<00:00,  2.30it/s]"
     ]
    },
    {
     "name": "stdout",
     "output_type": "stream",
     "text": [
      "1 calculation combinations to check\n",
      "1 new records to prepare\n"
     ]
    },
    {
     "name": "stderr",
     "output_type": "stream",
     "text": [
      "\n",
      "preparing: 100%|##########################################################################| 1/1 [00:00<00:00, 34.62it/s]\n"
     ]
    },
    {
     "name": "stdout",
     "output_type": "stream",
     "text": [
      "dc405b87-2d53-4c12-8862-004c02fd3612\n",
      "sim calculated successfully\n",
      "\n",
      "50.001 0.0003 49.982\n",
      "0 existing calculation records provided\n"
     ]
    },
    {
     "name": "stderr",
     "output_type": "stream",
     "text": [
      "100%|█████████████████████████████████████████████████████████████████████████████████████| 1/1 [00:00<00:00,  2.78it/s]"
     ]
    },
    {
     "name": "stdout",
     "output_type": "stream",
     "text": [
      "1 calculation combinations to check\n",
      "1 new records to prepare\n"
     ]
    },
    {
     "name": "stderr",
     "output_type": "stream",
     "text": [
      "\n",
      "preparing: 100%|##########################################################################| 1/1 [00:00<00:00, 75.33it/s]\n"
     ]
    },
    {
     "name": "stdout",
     "output_type": "stream",
     "text": [
      "288fa4bf-f9fb-4558-8949-bd407060744b\n",
      "sim calculated successfully\n",
      "\n",
      "50.000 0.000269 49.939\n",
      "0 existing calculation records provided\n"
     ]
    },
    {
     "name": "stderr",
     "output_type": "stream",
     "text": [
      "100%|█████████████████████████████████████████████████████████████████████████████████████| 1/1 [00:00<00:00,  2.19it/s]"
     ]
    },
    {
     "name": "stdout",
     "output_type": "stream",
     "text": [
      "1 calculation combinations to check\n",
      "1 new records to prepare\n"
     ]
    },
    {
     "name": "stderr",
     "output_type": "stream",
     "text": [
      "\n",
      "preparing: 100%|##########################################################################| 1/1 [00:00<00:00, 37.56it/s]\n"
     ]
    },
    {
     "name": "stdout",
     "output_type": "stream",
     "text": [
      "f277be47-aaa8-464d-b62d-f4b7252fa8cd\n",
      "sim calculated successfully\n",
      "\n",
      "50.000 0.0003207 49.972\n",
      "0 existing calculation records provided\n"
     ]
    },
    {
     "name": "stderr",
     "output_type": "stream",
     "text": [
      "100%|█████████████████████████████████████████████████████████████████████████████████████| 1/1 [00:00<00:00,  4.30it/s]"
     ]
    },
    {
     "name": "stdout",
     "output_type": "stream",
     "text": [
      "1 calculation combinations to check\n",
      "1 new records to prepare\n"
     ]
    },
    {
     "name": "stderr",
     "output_type": "stream",
     "text": [
      "\n",
      "preparing: 100%|##########################################################################| 1/1 [00:00<00:00, 85.34it/s]\n"
     ]
    },
    {
     "name": "stdout",
     "output_type": "stream",
     "text": [
      "2364c150-212b-40fc-b9f1-e37777eab587\n",
      "sim calculated successfully\n",
      "\n",
      "50.000 0.0003207 50.037\n",
      "0 existing calculation records provided\n"
     ]
    },
    {
     "name": "stderr",
     "output_type": "stream",
     "text": [
      "100%|█████████████████████████████████████████████████████████████████████████████████████| 1/1 [00:00<00:00,  2.22it/s]"
     ]
    },
    {
     "name": "stdout",
     "output_type": "stream",
     "text": [
      "1 calculation combinations to check\n",
      "1 new records to prepare\n"
     ]
    },
    {
     "name": "stderr",
     "output_type": "stream",
     "text": [
      "\n",
      "preparing: 100%|##########################################################################| 1/1 [00:00<00:00, 28.88it/s]\n"
     ]
    },
    {
     "name": "stdout",
     "output_type": "stream",
     "text": [
      "ffac8eba-21a7-4b8b-b591-29798cfdcd35\n",
      "sim calculated successfully\n",
      "\n",
      "50.000 0.000269 49.931\n",
      "0 existing calculation records provided\n"
     ]
    },
    {
     "name": "stderr",
     "output_type": "stream",
     "text": [
      "100%|█████████████████████████████████████████████████████████████████████████████████████| 1/1 [00:00<00:00,  4.26it/s]"
     ]
    },
    {
     "name": "stdout",
     "output_type": "stream",
     "text": [
      "1 calculation combinations to check\n",
      "1 new records to prepare\n"
     ]
    },
    {
     "name": "stderr",
     "output_type": "stream",
     "text": [
      "\n",
      "preparing: 100%|##########################################################################| 1/1 [00:00<00:00, 50.14it/s]\n"
     ]
    },
    {
     "name": "stdout",
     "output_type": "stream",
     "text": [
      "42435ef1-4fe2-42e3-a24f-a86e80d53e92\n",
      "sim calculated successfully\n",
      "\n",
      "50.000 0.0002276 49.913\n",
      "0 existing calculation records provided\n"
     ]
    },
    {
     "name": "stderr",
     "output_type": "stream",
     "text": [
      "100%|█████████████████████████████████████████████████████████████████████████████████████| 1/1 [00:00<00:00,  2.81it/s]"
     ]
    },
    {
     "name": "stdout",
     "output_type": "stream",
     "text": [
      "1 calculation combinations to check\n",
      "1 new records to prepare\n"
     ]
    },
    {
     "name": "stderr",
     "output_type": "stream",
     "text": [
      "\n",
      "preparing: 100%|##########################################################################| 1/1 [00:00<00:00, 40.17it/s]\n"
     ]
    },
    {
     "name": "stdout",
     "output_type": "stream",
     "text": [
      "01e86e88-fabb-45c5-a250-621eb75332cf\n",
      "sim calculated successfully\n",
      "\n",
      "50.000 0.0002897 49.986\n",
      "0 existing calculation records provided\n"
     ]
    },
    {
     "name": "stderr",
     "output_type": "stream",
     "text": [
      "100%|█████████████████████████████████████████████████████████████████████████████████████| 1/1 [00:00<00:00,  2.26it/s]"
     ]
    },
    {
     "name": "stdout",
     "output_type": "stream",
     "text": [
      "1 calculation combinations to check\n",
      "1 new records to prepare\n"
     ]
    },
    {
     "name": "stderr",
     "output_type": "stream",
     "text": [
      "\n",
      "preparing: 100%|##########################################################################| 1/1 [00:00<00:00, 33.03it/s]\n"
     ]
    },
    {
     "name": "stdout",
     "output_type": "stream",
     "text": [
      "efec6b1d-605d-4779-9654-875d43d60b9e\n",
      "sim calculated successfully\n",
      "\n",
      "50.000 0.0003931 49.928\n",
      "0 existing calculation records provided\n"
     ]
    },
    {
     "name": "stderr",
     "output_type": "stream",
     "text": [
      "100%|█████████████████████████████████████████████████████████████████████████████████████| 1/1 [00:00<00:00,  4.15it/s]"
     ]
    },
    {
     "name": "stdout",
     "output_type": "stream",
     "text": [
      "1 calculation combinations to check\n",
      "1 new records to prepare\n"
     ]
    },
    {
     "name": "stderr",
     "output_type": "stream",
     "text": [
      "\n",
      "preparing: 100%|##########################################################################| 1/1 [00:00<00:00, 72.75it/s]\n"
     ]
    },
    {
     "name": "stdout",
     "output_type": "stream",
     "text": [
      "88354ee1-ace0-4057-b558-1b473b4d18ba\n",
      "sim calculated successfully\n",
      "\n",
      "50.000 0.0002172 49.929\n",
      "0 existing calculation records provided\n"
     ]
    },
    {
     "name": "stderr",
     "output_type": "stream",
     "text": [
      "100%|█████████████████████████████████████████████████████████████████████████████████████| 1/1 [00:00<00:00,  2.36it/s]"
     ]
    },
    {
     "name": "stdout",
     "output_type": "stream",
     "text": [
      "1 calculation combinations to check\n",
      "1 new records to prepare\n"
     ]
    },
    {
     "name": "stderr",
     "output_type": "stream",
     "text": [
      "\n",
      "preparing: 100%|##########################################################################| 1/1 [00:00<00:00, 35.07it/s]\n"
     ]
    },
    {
     "name": "stdout",
     "output_type": "stream",
     "text": [
      "99f6afe6-fc0d-4c6b-8e47-1f8ede479e4c\n",
      "sim calculated successfully\n",
      "\n",
      "50.000 0.0002483 49.928\n",
      "0 existing calculation records provided\n"
     ]
    },
    {
     "name": "stderr",
     "output_type": "stream",
     "text": [
      "100%|█████████████████████████████████████████████████████████████████████████████████████| 1/1 [00:00<00:00,  3.90it/s]"
     ]
    },
    {
     "name": "stdout",
     "output_type": "stream",
     "text": [
      "1 calculation combinations to check\n",
      "1 new records to prepare\n"
     ]
    },
    {
     "name": "stderr",
     "output_type": "stream",
     "text": [
      "\n",
      "preparing: 100%|##########################################################################| 1/1 [00:00<00:00, 79.81it/s]\n"
     ]
    },
    {
     "name": "stdout",
     "output_type": "stream",
     "text": [
      "6266e381-d801-4f5e-80ce-84c2267a2b52\n",
      "sim calculated successfully\n",
      "\n",
      "50.000 0.0002069 49.946\n",
      "0 existing calculation records provided\n"
     ]
    },
    {
     "name": "stderr",
     "output_type": "stream",
     "text": [
      "100%|█████████████████████████████████████████████████████████████████████████████████████| 1/1 [00:00<00:00,  2.40it/s]"
     ]
    },
    {
     "name": "stdout",
     "output_type": "stream",
     "text": [
      "1 calculation combinations to check\n",
      "1 new records to prepare\n"
     ]
    },
    {
     "name": "stderr",
     "output_type": "stream",
     "text": [
      "\n",
      "preparing: 100%|##########################################################################| 1/1 [00:00<00:00, 38.28it/s]\n"
     ]
    },
    {
     "name": "stdout",
     "output_type": "stream",
     "text": [
      "2a86d0d5-6887-40a3-8424-0f9f9cd98b57\n",
      "sim calculated successfully\n",
      "\n",
      "50.000 0.0002483 49.969\n",
      "Max number of runs reached!\n",
      "\n",
      "55 2004--Zhou-X-W--Co--LAMMPS--ipr1\n",
      "0 existing calculation records provided\n"
     ]
    },
    {
     "name": "stderr",
     "output_type": "stream",
     "text": [
      "100%|█████████████████████████████████████████████████████████████████████████████████████| 1/1 [00:00<00:00,  2.24it/s]"
     ]
    },
    {
     "name": "stdout",
     "output_type": "stream",
     "text": [
      "1 calculation combinations to check\n",
      "1 new records to prepare\n"
     ]
    },
    {
     "name": "stderr",
     "output_type": "stream",
     "text": [
      "\n",
      "preparing: 100%|##########################################################################| 1/1 [00:00<00:00, 36.51it/s]\n"
     ]
    },
    {
     "name": "stdout",
     "output_type": "stream",
     "text": [
      "3c787409-9a23-4940-80f1-a9f74bb38a8d\n",
      "sim calculated successfully\n",
      "\n",
      "4525.000 1.034e-05 4494.681\n",
      "0 existing calculation records provided\n"
     ]
    },
    {
     "name": "stderr",
     "output_type": "stream",
     "text": [
      "100%|█████████████████████████████████████████████████████████████████████████████████████| 1/1 [00:00<00:00,  2.40it/s]"
     ]
    },
    {
     "name": "stdout",
     "output_type": "stream",
     "text": [
      "1 calculation combinations to check\n",
      "1 new records to prepare\n"
     ]
    },
    {
     "name": "stderr",
     "output_type": "stream",
     "text": [
      "\n",
      "preparing: 100%|##########################################################################| 1/1 [00:00<00:00, 78.13it/s]\n"
     ]
    },
    {
     "name": "stdout",
     "output_type": "stream",
     "text": [
      "4f09913b-7c4a-4a7a-8943-5ad9358b8dd3\n",
      "sim calculated successfully\n",
      "\n",
      "2287.500 8.276e-05 2265.493\n",
      "0 existing calculation records provided\n"
     ]
    },
    {
     "name": "stderr",
     "output_type": "stream",
     "text": [
      "100%|█████████████████████████████████████████████████████████████████████████████████████| 1/1 [00:00<00:00,  2.32it/s]"
     ]
    },
    {
     "name": "stdout",
     "output_type": "stream",
     "text": [
      "1 calculation combinations to check\n",
      "1 new records to prepare\n"
     ]
    },
    {
     "name": "stderr",
     "output_type": "stream",
     "text": [
      "\n",
      "preparing: 100%|##########################################################################| 1/1 [00:00<00:00, 35.82it/s]\n"
     ]
    },
    {
     "name": "stdout",
     "output_type": "stream",
     "text": [
      "c0c8e336-8ff7-4460-997c-66621d7017ba\n",
      "sim calculated successfully\n",
      "\n",
      "1168.750 0.9789 1163.668\n",
      "0 existing calculation records provided\n"
     ]
    },
    {
     "name": "stderr",
     "output_type": "stream",
     "text": [
      "100%|█████████████████████████████████████████████████████████████████████████████████████| 1/1 [00:00<00:00,  2.99it/s]"
     ]
    },
    {
     "name": "stdout",
     "output_type": "stream",
     "text": [
      "1 calculation combinations to check\n",
      "1 new records to prepare\n"
     ]
    },
    {
     "name": "stderr",
     "output_type": "stream",
     "text": [
      "\n",
      "preparing: 100%|##########################################################################| 1/1 [00:00<00:00, 65.78it/s]\n"
     ]
    },
    {
     "name": "stdout",
     "output_type": "stream",
     "text": [
      "280e34a4-62bd-47d5-aa35-78905b4db0c1\n",
      "sim calculated successfully\n",
      "\n",
      "1728.125 0.3628 1727.173\n",
      "0 existing calculation records provided\n"
     ]
    },
    {
     "name": "stderr",
     "output_type": "stream",
     "text": [
      "100%|█████████████████████████████████████████████████████████████████████████████████████| 1/1 [00:00<00:00,  2.42it/s]"
     ]
    },
    {
     "name": "stdout",
     "output_type": "stream",
     "text": [
      "1 calculation combinations to check\n",
      "1 new records to prepare\n"
     ]
    },
    {
     "name": "stderr",
     "output_type": "stream",
     "text": [
      "\n",
      "preparing: 100%|##########################################################################| 1/1 [00:00<00:00, 34.29it/s]\n"
     ]
    },
    {
     "name": "stdout",
     "output_type": "stream",
     "text": [
      "bbd98d09-0cb0-4d24-9ed4-45f0befb8587\n",
      "sim calculated successfully\n",
      "\n",
      "1448.438 0.9084 1444.384\n",
      "0 existing calculation records provided\n"
     ]
    },
    {
     "name": "stderr",
     "output_type": "stream",
     "text": [
      "100%|█████████████████████████████████████████████████████████████████████████████████████| 1/1 [00:00<00:00,  4.09it/s]"
     ]
    },
    {
     "name": "stdout",
     "output_type": "stream",
     "text": [
      "1 calculation combinations to check\n",
      "1 new records to prepare\n"
     ]
    },
    {
     "name": "stderr",
     "output_type": "stream",
     "text": [
      "\n",
      "preparing: 100%|##########################################################################| 1/1 [00:00<00:00, 42.94it/s]\n"
     ]
    },
    {
     "name": "stdout",
     "output_type": "stream",
     "text": [
      "1f199d4d-4319-4d06-8dd3-abc66a781c65\n",
      "sim calculated successfully\n",
      "\n",
      "1867.969 0.0004965 1696.320\n",
      "0 existing calculation records provided\n"
     ]
    },
    {
     "name": "stderr",
     "output_type": "stream",
     "text": [
      "100%|█████████████████████████████████████████████████████████████████████████████████████| 1/1 [00:00<00:00,  2.49it/s]"
     ]
    },
    {
     "name": "stdout",
     "output_type": "stream",
     "text": [
      "1 calculation combinations to check\n",
      "1 new records to prepare\n"
     ]
    },
    {
     "name": "stderr",
     "output_type": "stream",
     "text": [
      "\n",
      "preparing: 100%|##########################################################################| 1/1 [00:00<00:00, 34.39it/s]\n"
     ]
    },
    {
     "name": "stdout",
     "output_type": "stream",
     "text": [
      "6e8b0b76-d520-4296-b826-5b18e2b3553f\n",
      "sim calculated successfully\n",
      "\n",
      "1658.203 0.6839 1797.296\n",
      "0 existing calculation records provided\n"
     ]
    },
    {
     "name": "stderr",
     "output_type": "stream",
     "text": [
      "100%|█████████████████████████████████████████████████████████████████████████████████████| 1/1 [00:00<00:00,  2.66it/s]"
     ]
    },
    {
     "name": "stdout",
     "output_type": "stream",
     "text": [
      "1 calculation combinations to check\n",
      "1 new records to prepare\n"
     ]
    },
    {
     "name": "stderr",
     "output_type": "stream",
     "text": [
      "\n",
      "preparing: 100%|##########################################################################| 1/1 [00:00<00:00, 67.25it/s]\n"
     ]
    },
    {
     "name": "stdout",
     "output_type": "stream",
     "text": [
      "4a927f1f-d194-47c7-ab16-d6ee85153999\n",
      "sim calculated successfully\n",
      "\n",
      "1763.086 0.2778 1716.935\n",
      "0 existing calculation records provided\n"
     ]
    },
    {
     "name": "stderr",
     "output_type": "stream",
     "text": [
      "100%|█████████████████████████████████████████████████████████████████████████████████████| 1/1 [00:00<00:00,  2.27it/s]"
     ]
    },
    {
     "name": "stdout",
     "output_type": "stream",
     "text": [
      "1 calculation combinations to check\n",
      "1 new records to prepare\n"
     ]
    },
    {
     "name": "stderr",
     "output_type": "stream",
     "text": [
      "\n",
      "preparing: 100%|##########################################################################| 1/1 [00:00<00:00, 36.26it/s]\n"
     ]
    },
    {
     "name": "stdout",
     "output_type": "stream",
     "text": [
      "085749cd-927f-447f-a422-9a6d8d0e6b6e\n",
      "sim calculated successfully\n",
      "\n",
      "1605.762 0.75 1722.617\n",
      "0 existing calculation records provided\n"
     ]
    },
    {
     "name": "stderr",
     "output_type": "stream",
     "text": [
      "100%|█████████████████████████████████████████████████████████████████████████████████████| 1/1 [00:00<00:00,  4.05it/s]"
     ]
    },
    {
     "name": "stdout",
     "output_type": "stream",
     "text": [
      "1 calculation combinations to check\n",
      "1 new records to prepare\n"
     ]
    },
    {
     "name": "stderr",
     "output_type": "stream",
     "text": [
      "\n",
      "preparing: 100%|##########################################################################| 1/1 [00:00<00:00, 70.34it/s]\n"
     ]
    },
    {
     "name": "stdout",
     "output_type": "stream",
     "text": [
      "dff3c49a-15e5-402a-be57-60494d0c9083\n",
      "sim calculated successfully\n",
      "\n",
      "1736.865 0.3498 1714.649\n",
      "0 existing calculation records provided\n"
     ]
    },
    {
     "name": "stderr",
     "output_type": "stream",
     "text": [
      "100%|█████████████████████████████████████████████████████████████████████████████████████| 1/1 [00:00<00:00,  2.26it/s]"
     ]
    },
    {
     "name": "stdout",
     "output_type": "stream",
     "text": [
      "1 calculation combinations to check\n",
      "1 new records to prepare\n"
     ]
    },
    {
     "name": "stderr",
     "output_type": "stream",
     "text": [
      "\n",
      "preparing: 100%|##########################################################################| 1/1 [00:00<00:00, 32.18it/s]\n"
     ]
    },
    {
     "name": "stdout",
     "output_type": "stream",
     "text": [
      "a5024fe8-831f-4dbc-9039-83ea77052db4\n",
      "sim calculated successfully\n",
      "\n",
      "1592.651 0.7687 1712.319\n",
      "0 existing calculation records provided\n"
     ]
    },
    {
     "name": "stderr",
     "output_type": "stream",
     "text": [
      "100%|█████████████████████████████████████████████████████████████████████████████████████| 1/1 [00:00<00:00,  4.22it/s]"
     ]
    },
    {
     "name": "stdout",
     "output_type": "stream",
     "text": [
      "1 calculation combinations to check\n",
      "1 new records to prepare\n"
     ]
    },
    {
     "name": "stderr",
     "output_type": "stream",
     "text": [
      "\n",
      "preparing: 100%|##########################################################################| 1/1 [00:00<00:00, 77.80it/s]\n"
     ]
    },
    {
     "name": "stdout",
     "output_type": "stream",
     "text": [
      "01c6babf-70e4-4e4f-b05d-0cf01a134fce\n",
      "sim calculated successfully\n",
      "\n",
      "1730.310 0.3583 1721.653\n",
      "0 existing calculation records provided\n"
     ]
    },
    {
     "name": "stderr",
     "output_type": "stream",
     "text": [
      "100%|█████████████████████████████████████████████████████████████████████████████████████| 1/1 [00:00<00:00,  1.76it/s]"
     ]
    },
    {
     "name": "stdout",
     "output_type": "stream",
     "text": [
      "1 calculation combinations to check\n",
      "1 new records to prepare\n"
     ]
    },
    {
     "name": "stderr",
     "output_type": "stream",
     "text": [
      "\n",
      "preparing: 100%|##########################################################################| 1/1 [00:00<00:00, 37.06it/s]\n"
     ]
    },
    {
     "name": "stdout",
     "output_type": "stream",
     "text": [
      "4cdf1119-98f4-4830-a1e8-9eae7a097968\n",
      "sim calculated successfully\n",
      "\n",
      "1661.481 0.676 1801.502\n",
      "0 existing calculation records provided\n"
     ]
    },
    {
     "name": "stderr",
     "output_type": "stream",
     "text": [
      "100%|█████████████████████████████████████████████████████████████████████████████████████| 1/1 [00:00<00:00,  4.23it/s]"
     ]
    },
    {
     "name": "stdout",
     "output_type": "stream",
     "text": [
      "1 calculation combinations to check\n",
      "1 new records to prepare\n"
     ]
    },
    {
     "name": "stderr",
     "output_type": "stream",
     "text": [
      "\n",
      "preparing: 100%|##########################################################################| 1/1 [00:00<00:00, 76.26it/s]\n"
     ]
    },
    {
     "name": "stdout",
     "output_type": "stream",
     "text": [
      "51a8a00a-783d-4606-bbb1-d578e6c87dc4\n",
      "sim calculated successfully\n",
      "\n",
      "1764.725 0.2726 1718.420\n",
      "0 existing calculation records provided\n"
     ]
    },
    {
     "name": "stderr",
     "output_type": "stream",
     "text": [
      "100%|█████████████████████████████████████████████████████████████████████████████████████| 1/1 [00:00<00:00,  2.34it/s]"
     ]
    },
    {
     "name": "stdout",
     "output_type": "stream",
     "text": [
      "1 calculation combinations to check\n",
      "1 new records to prepare\n"
     ]
    },
    {
     "name": "stderr",
     "output_type": "stream",
     "text": [
      "\n",
      "preparing: 100%|##########################################################################| 1/1 [00:00<00:00, 35.43it/s]\n"
     ]
    },
    {
     "name": "stdout",
     "output_type": "stream",
     "text": [
      "0ab87ec7-cb5b-447b-ba3a-f3483a4b8d67\n",
      "sim calculated successfully\n",
      "\n",
      "1678.688 0.6627 1817.800\n",
      "0 existing calculation records provided\n"
     ]
    },
    {
     "name": "stderr",
     "output_type": "stream",
     "text": [
      "100%|█████████████████████████████████████████████████████████████████████████████████████| 1/1 [00:00<00:00,  4.23it/s]"
     ]
    },
    {
     "name": "stdout",
     "output_type": "stream",
     "text": [
      "1 calculation combinations to check\n",
      "1 new records to prepare\n"
     ]
    },
    {
     "name": "stderr",
     "output_type": "stream",
     "text": [
      "\n",
      "preparing: 100%|##########################################################################| 1/1 [00:00<00:00, 72.51it/s]\n"
     ]
    },
    {
     "name": "stdout",
     "output_type": "stream",
     "text": [
      "7c348515-1748-43b0-961d-57d1f8737504\n",
      "sim calculated successfully\n",
      "\n",
      "1773.328 0.2469 1715.197\n",
      "0 existing calculation records provided\n"
     ]
    },
    {
     "name": "stderr",
     "output_type": "stream",
     "text": [
      "100%|█████████████████████████████████████████████████████████████████████████████████████| 1/1 [00:00<00:00,  2.44it/s]"
     ]
    },
    {
     "name": "stdout",
     "output_type": "stream",
     "text": [
      "1 calculation combinations to check\n",
      "1 new records to prepare\n"
     ]
    },
    {
     "name": "stderr",
     "output_type": "stream",
     "text": [
      "\n",
      "preparing: 100%|##########################################################################| 1/1 [00:00<00:00, 36.49it/s]\n"
     ]
    },
    {
     "name": "stdout",
     "output_type": "stream",
     "text": [
      "141f49a2-8d0b-44aa-b1ff-8e9cc9f5720e\n",
      "sim calculated successfully\n",
      "\n",
      "1682.990 0.6169 1835.434\n",
      "\n",
      "56 2004--Zhou-X-W--Co--LAMMPS--ipr2\n",
      "0 existing calculation records provided\n"
     ]
    },
    {
     "name": "stderr",
     "output_type": "stream",
     "text": [
      "100%|█████████████████████████████████████████████████████████████████████████████████████| 1/1 [00:00<00:00,  4.20it/s]"
     ]
    },
    {
     "name": "stdout",
     "output_type": "stream",
     "text": [
      "1 calculation combinations to check\n",
      "1 new records to prepare\n"
     ]
    },
    {
     "name": "stderr",
     "output_type": "stream",
     "text": [
      "\n",
      "preparing: 100%|##########################################################################| 1/1 [00:00<00:00, 60.61it/s]\n"
     ]
    },
    {
     "name": "stdout",
     "output_type": "stream",
     "text": [
      "22ec58fd-c480-449d-b2b5-a9c341f5db04\n",
      "sim calculated successfully\n",
      "\n",
      "4525.000 0.0 4505.635\n",
      "0 existing calculation records provided\n"
     ]
    },
    {
     "name": "stderr",
     "output_type": "stream",
     "text": [
      "100%|█████████████████████████████████████████████████████████████████████████████████████| 1/1 [00:00<00:00,  3.42it/s]"
     ]
    },
    {
     "name": "stdout",
     "output_type": "stream",
     "text": [
      "1 calculation combinations to check\n",
      "1 new records to prepare\n"
     ]
    },
    {
     "name": "stderr",
     "output_type": "stream",
     "text": [
      "\n",
      "preparing: 100%|##########################################################################| 1/1 [00:00<00:00, 38.13it/s]\n"
     ]
    },
    {
     "name": "stdout",
     "output_type": "stream",
     "text": [
      "88788686-51d7-453d-9c20-623883157355\n",
      "sim calculated successfully\n",
      "\n",
      "2287.500 0.0001345 2268.911\n",
      "0 existing calculation records provided\n"
     ]
    },
    {
     "name": "stderr",
     "output_type": "stream",
     "text": [
      "100%|█████████████████████████████████████████████████████████████████████████████████████| 1/1 [00:00<00:00,  4.18it/s]"
     ]
    },
    {
     "name": "stdout",
     "output_type": "stream",
     "text": [
      "1 calculation combinations to check\n",
      "1 new records to prepare\n"
     ]
    },
    {
     "name": "stderr",
     "output_type": "stream",
     "text": [
      "\n",
      "preparing: 100%|##########################################################################| 1/1 [00:00<00:00, 68.90it/s]\n"
     ]
    },
    {
     "name": "stdout",
     "output_type": "stream",
     "text": [
      "2c532f22-85ad-4e9f-8f2a-291f3ca639bd\n",
      "sim calculated successfully\n",
      "\n",
      "1168.750 0.9789 1162.932\n",
      "0 existing calculation records provided\n"
     ]
    },
    {
     "name": "stderr",
     "output_type": "stream",
     "text": [
      "100%|█████████████████████████████████████████████████████████████████████████████████████| 1/1 [00:00<00:00,  3.22it/s]"
     ]
    },
    {
     "name": "stdout",
     "output_type": "stream",
     "text": [
      "1 calculation combinations to check\n",
      "1 new records to prepare\n"
     ]
    },
    {
     "name": "stderr",
     "output_type": "stream",
     "text": [
      "\n",
      "preparing: 100%|##########################################################################| 1/1 [00:00<00:00, 38.00it/s]\n"
     ]
    },
    {
     "name": "stdout",
     "output_type": "stream",
     "text": [
      "e77c4421-4280-423d-819b-35b93cf847d3\n",
      "sim calculated successfully\n",
      "\n",
      "1728.125 0.387 1716.489\n",
      "0 existing calculation records provided\n"
     ]
    },
    {
     "name": "stderr",
     "output_type": "stream",
     "text": [
      "100%|█████████████████████████████████████████████████████████████████████████████████████| 1/1 [00:00<00:00,  4.27it/s]"
     ]
    },
    {
     "name": "stdout",
     "output_type": "stream",
     "text": [
      "1 calculation combinations to check\n",
      "1 new records to prepare\n"
     ]
    },
    {
     "name": "stderr",
     "output_type": "stream",
     "text": [
      "\n",
      "preparing: 100%|##########################################################################| 1/1 [00:00<00:00, 79.06it/s]\n"
     ]
    },
    {
     "name": "stdout",
     "output_type": "stream",
     "text": [
      "e918b268-193e-4518-ad6b-7518d81dd6fe\n",
      "sim calculated successfully\n",
      "\n",
      "1448.438 0.908 1454.617\n",
      "0 existing calculation records provided\n"
     ]
    },
    {
     "name": "stderr",
     "output_type": "stream",
     "text": [
      "100%|█████████████████████████████████████████████████████████████████████████████████████| 1/1 [00:00<00:00,  3.41it/s]"
     ]
    },
    {
     "name": "stdout",
     "output_type": "stream",
     "text": [
      "1 calculation combinations to check\n",
      "1 new records to prepare\n"
     ]
    },
    {
     "name": "stderr",
     "output_type": "stream",
     "text": [
      "\n",
      "preparing: 100%|##########################################################################| 1/1 [00:00<00:00, 30.76it/s]\n"
     ]
    },
    {
     "name": "stdout",
     "output_type": "stream",
     "text": [
      "6d267e0c-1162-43ff-abb3-8c536d50537b\n",
      "sim calculated successfully\n",
      "\n",
      "1867.969 0.0005069 1694.631\n",
      "0 existing calculation records provided\n"
     ]
    },
    {
     "name": "stderr",
     "output_type": "stream",
     "text": [
      "100%|█████████████████████████████████████████████████████████████████████████████████████| 1/1 [00:00<00:00,  4.21it/s]"
     ]
    },
    {
     "name": "stdout",
     "output_type": "stream",
     "text": [
      "1 calculation combinations to check\n",
      "1 new records to prepare\n"
     ]
    },
    {
     "name": "stderr",
     "output_type": "stream",
     "text": [
      "\n",
      "preparing: 100%|##########################################################################| 1/1 [00:00<00:00, 54.44it/s]\n"
     ]
    },
    {
     "name": "stdout",
     "output_type": "stream",
     "text": [
      "48145aa0-9a6c-49cc-8175-80da541fd3bb\n",
      "sim calculated successfully\n",
      "\n",
      "1658.203 0.6683 1807.319\n",
      "0 existing calculation records provided\n"
     ]
    },
    {
     "name": "stderr",
     "output_type": "stream",
     "text": [
      "100%|█████████████████████████████████████████████████████████████████████████████████████| 1/1 [00:00<00:00,  3.18it/s]"
     ]
    },
    {
     "name": "stdout",
     "output_type": "stream",
     "text": [
      "1 calculation combinations to check\n",
      "1 new records to prepare\n"
     ]
    },
    {
     "name": "stderr",
     "output_type": "stream",
     "text": [
      "\n",
      "preparing: 100%|##########################################################################| 1/1 [00:00<00:00, 33.71it/s]\n"
     ]
    },
    {
     "name": "stdout",
     "output_type": "stream",
     "text": [
      "8d23879a-3e11-4953-adb8-63d78f202c34\n",
      "sim calculated successfully\n",
      "\n",
      "1763.086 0.2959 1721.026\n",
      "0 existing calculation records provided\n"
     ]
    },
    {
     "name": "stderr",
     "output_type": "stream",
     "text": [
      "100%|█████████████████████████████████████████████████████████████████████████████████████| 1/1 [00:00<00:00,  4.32it/s]"
     ]
    },
    {
     "name": "stdout",
     "output_type": "stream",
     "text": [
      "1 calculation combinations to check\n",
      "1 new records to prepare\n"
     ]
    },
    {
     "name": "stderr",
     "output_type": "stream",
     "text": [
      "\n",
      "preparing: 100%|##########################################################################| 1/1 [00:00<00:00, 81.58it/s]\n"
     ]
    },
    {
     "name": "stdout",
     "output_type": "stream",
     "text": [
      "bb1daaae-c66c-47a1-803e-4fd9abd97e2a\n",
      "sim calculated successfully\n",
      "\n",
      "1605.762 0.7525 1722.743\n",
      "0 existing calculation records provided\n"
     ]
    },
    {
     "name": "stderr",
     "output_type": "stream",
     "text": [
      "100%|█████████████████████████████████████████████████████████████████████████████████████| 1/1 [00:00<00:00,  3.40it/s]"
     ]
    },
    {
     "name": "stdout",
     "output_type": "stream",
     "text": [
      "1 calculation combinations to check\n",
      "1 new records to prepare\n"
     ]
    },
    {
     "name": "stderr",
     "output_type": "stream",
     "text": [
      "\n",
      "preparing: 100%|##########################################################################| 1/1 [00:00<00:00, 31.85it/s]\n"
     ]
    },
    {
     "name": "stdout",
     "output_type": "stream",
     "text": [
      "9cbb2588-4cf6-4965-9a99-2fe25dbec551\n",
      "sim calculated successfully\n",
      "\n",
      "1736.865 0.3333 1716.347\n",
      "0 existing calculation records provided\n"
     ]
    },
    {
     "name": "stderr",
     "output_type": "stream",
     "text": [
      "100%|█████████████████████████████████████████████████████████████████████████████████████| 1/1 [00:00<00:00,  3.12it/s]"
     ]
    },
    {
     "name": "stdout",
     "output_type": "stream",
     "text": [
      "1 calculation combinations to check\n",
      "1 new records to prepare\n"
     ]
    },
    {
     "name": "stderr",
     "output_type": "stream",
     "text": [
      "\n",
      "preparing: 100%|##########################################################################| 1/1 [00:00<00:00, 33.44it/s]\n"
     ]
    },
    {
     "name": "stdout",
     "output_type": "stream",
     "text": [
      "f85357e6-8818-4ca3-a672-c3d80177762c\n",
      "sim calculated successfully\n",
      "\n",
      "1671.313 0.6555 1807.724\n",
      "0 existing calculation records provided\n"
     ]
    },
    {
     "name": "stderr",
     "output_type": "stream",
     "text": [
      "100%|█████████████████████████████████████████████████████████████████████████████████████| 1/1 [00:00<00:00,  3.21it/s]"
     ]
    },
    {
     "name": "stdout",
     "output_type": "stream",
     "text": [
      "1 calculation combinations to check\n",
      "1 new records to prepare\n"
     ]
    },
    {
     "name": "stderr",
     "output_type": "stream",
     "text": [
      "\n",
      "preparing: 100%|##########################################################################| 1/1 [00:00<00:00, 32.35it/s]\n"
     ]
    },
    {
     "name": "stdout",
     "output_type": "stream",
     "text": [
      "09a0a822-a8c8-46d9-b87a-19f0565b9726\n",
      "sim calculated successfully\n",
      "\n",
      "1769.641 0.2801 1723.364\n",
      "0 existing calculation records provided\n"
     ]
    },
    {
     "name": "stderr",
     "output_type": "stream",
     "text": [
      "100%|█████████████████████████████████████████████████████████████████████████████████████| 1/1 [00:00<00:00,  3.18it/s]"
     ]
    },
    {
     "name": "stdout",
     "output_type": "stream",
     "text": [
      "1 calculation combinations to check\n",
      "1 new records to prepare\n"
     ]
    },
    {
     "name": "stderr",
     "output_type": "stream",
     "text": [
      "\n",
      "preparing: 100%|##########################################################################| 1/1 [00:00<00:00, 34.50it/s]\n"
     ]
    },
    {
     "name": "stdout",
     "output_type": "stream",
     "text": [
      "01ed49a3-00a1-40fd-970b-bd412e6c6598\n",
      "sim calculated successfully\n",
      "\n",
      "1687.701 0.4719 1730.697\n",
      "0 existing calculation records provided\n"
     ]
    },
    {
     "name": "stderr",
     "output_type": "stream",
     "text": [
      "100%|█████████████████████████████████████████████████████████████████████████████████████| 1/1 [00:00<00:00,  3.36it/s]"
     ]
    },
    {
     "name": "stdout",
     "output_type": "stream",
     "text": [
      "1 calculation combinations to check\n",
      "1 new records to prepare\n"
     ]
    },
    {
     "name": "stderr",
     "output_type": "stream",
     "text": [
      "\n",
      "preparing: 100%|##########################################################################| 1/1 [00:00<00:00, 73.26it/s]\n"
     ]
    },
    {
     "name": "stdout",
     "output_type": "stream",
     "text": [
      "af3a3109-7fc5-4896-b49c-06d13fd8133d\n",
      "sim calculated successfully\n",
      "\n",
      "1687.701 0.6406 1826.609\n",
      "0 existing calculation records provided\n"
     ]
    },
    {
     "name": "stderr",
     "output_type": "stream",
     "text": [
      "100%|█████████████████████████████████████████████████████████████████████████████████████| 1/1 [00:00<00:00,  3.31it/s]"
     ]
    },
    {
     "name": "stdout",
     "output_type": "stream",
     "text": [
      "1 calculation combinations to check\n",
      "1 new records to prepare\n"
     ]
    },
    {
     "name": "stderr",
     "output_type": "stream",
     "text": [
      "\n",
      "preparing: 100%|##########################################################################| 1/1 [00:00<00:00, 35.65it/s]\n"
     ]
    },
    {
     "name": "stdout",
     "output_type": "stream",
     "text": [
      "16316e5d-7eb9-4e9f-b576-9d5911608a94\n",
      "sim calculated successfully\n",
      "\n",
      "1777.835 0.2454 1717.105\n",
      "0 existing calculation records provided\n"
     ]
    },
    {
     "name": "stderr",
     "output_type": "stream",
     "text": [
      "100%|█████████████████████████████████████████████████████████████████████████████████████| 1/1 [00:00<00:00,  3.45it/s]"
     ]
    },
    {
     "name": "stdout",
     "output_type": "stream",
     "text": [
      "1 calculation combinations to check\n",
      "1 new records to prepare\n"
     ]
    },
    {
     "name": "stderr",
     "output_type": "stream",
     "text": [
      "\n",
      "preparing: 100%|##########################################################################| 1/1 [00:00<00:00, 57.74it/s]\n"
     ]
    },
    {
     "name": "stdout",
     "output_type": "stream",
     "text": [
      "d9843d0e-6f51-4f26-a96c-8eda70af2f3b\n",
      "sim calculated successfully\n",
      "\n",
      "1691.798 0.6403 1834.768\n",
      "0 existing calculation records provided\n"
     ]
    },
    {
     "name": "stderr",
     "output_type": "stream",
     "text": [
      "100%|█████████████████████████████████████████████████████████████████████████████████████| 1/1 [00:00<00:00,  3.38it/s]"
     ]
    },
    {
     "name": "stdout",
     "output_type": "stream",
     "text": [
      "1 calculation combinations to check\n",
      "1 new records to prepare\n"
     ]
    },
    {
     "name": "stderr",
     "output_type": "stream",
     "text": [
      "\n",
      "preparing: 100%|##########################################################################| 1/1 [00:00<00:00, 29.12it/s]\n"
     ]
    },
    {
     "name": "stdout",
     "output_type": "stream",
     "text": [
      "cb315e6d-e3d0-447f-b692-6415bae625c9\n",
      "sim calculated successfully\n",
      "\n",
      "1734.817 0.3547 1713.301\n",
      "\n",
      "57 2004--Zhou-X-W--Fe--LAMMPS--ipr1\n",
      "0 existing calculation records provided\n"
     ]
    },
    {
     "name": "stderr",
     "output_type": "stream",
     "text": [
      "100%|█████████████████████████████████████████████████████████████████████████████████████| 1/1 [00:00<00:00,  3.22it/s]"
     ]
    },
    {
     "name": "stdout",
     "output_type": "stream",
     "text": [
      "1 calculation combinations to check\n",
      "1 new records to prepare\n"
     ]
    },
    {
     "name": "stderr",
     "output_type": "stream",
     "text": [
      "\n",
      "preparing: 100%|##########################################################################| 1/1 [00:00<00:00, 81.84it/s]\n"
     ]
    },
    {
     "name": "stdout",
     "output_type": "stream",
     "text": [
      "48dd2449-ee44-4de8-a2cd-514b73c761aa\n",
      "sim calculated successfully\n",
      "\n",
      "4525.000 1.034e-05 4591.952\n",
      "0 existing calculation records provided\n"
     ]
    },
    {
     "name": "stderr",
     "output_type": "stream",
     "text": [
      "100%|█████████████████████████████████████████████████████████████████████████████████████| 1/1 [00:00<00:00,  3.06it/s]"
     ]
    },
    {
     "name": "stdout",
     "output_type": "stream",
     "text": [
      "1 calculation combinations to check\n",
      "1 new records to prepare\n"
     ]
    },
    {
     "name": "stderr",
     "output_type": "stream",
     "text": [
      "\n",
      "preparing: 100%|##########################################################################| 1/1 [00:00<00:00, 33.86it/s]\n"
     ]
    },
    {
     "name": "stdout",
     "output_type": "stream",
     "text": [
      "97951fdb-2f74-43ce-b7e4-512dd06d2f44\n",
      "sim calculated successfully\n",
      "\n",
      "2287.500 0.0004138 2058.018\n",
      "0 existing calculation records provided\n"
     ]
    },
    {
     "name": "stderr",
     "output_type": "stream",
     "text": [
      "100%|█████████████████████████████████████████████████████████████████████████████████████| 1/1 [00:00<00:00,  4.23it/s]"
     ]
    },
    {
     "name": "stdout",
     "output_type": "stream",
     "text": [
      "1 calculation combinations to check\n",
      "1 new records to prepare\n"
     ]
    },
    {
     "name": "stderr",
     "output_type": "stream",
     "text": [
      "\n",
      "preparing: 100%|##########################################################################| 1/1 [00:00<00:00, 70.95it/s]\n"
     ]
    },
    {
     "name": "stdout",
     "output_type": "stream",
     "text": [
      "fb930794-0cfa-4830-8e05-a52543f6533e\n",
      "sim calculated successfully\n",
      "\n",
      "1168.750 0.9992 1165.409\n",
      "0 existing calculation records provided\n"
     ]
    },
    {
     "name": "stderr",
     "output_type": "stream",
     "text": [
      "100%|█████████████████████████████████████████████████████████████████████████████████████| 1/1 [00:00<00:00,  3.47it/s]"
     ]
    },
    {
     "name": "stdout",
     "output_type": "stream",
     "text": [
      "1 calculation combinations to check\n",
      "1 new records to prepare\n"
     ]
    },
    {
     "name": "stderr",
     "output_type": "stream",
     "text": [
      "\n",
      "preparing: 100%|##########################################################################| 1/1 [00:00<00:00, 35.64it/s]\n"
     ]
    },
    {
     "name": "stdout",
     "output_type": "stream",
     "text": [
      "800383d2-2405-46c9-8476-8bac68c4e79b\n",
      "sim calculated successfully\n",
      "\n",
      "1728.125 0.9498 1808.290\n",
      "0 existing calculation records provided\n"
     ]
    },
    {
     "name": "stderr",
     "output_type": "stream",
     "text": [
      "100%|█████████████████████████████████████████████████████████████████████████████████████| 1/1 [00:00<00:00,  3.96it/s]"
     ]
    },
    {
     "name": "stdout",
     "output_type": "stream",
     "text": [
      "1 calculation combinations to check\n",
      "1 new records to prepare\n"
     ]
    },
    {
     "name": "stderr",
     "output_type": "stream",
     "text": [
      "\n",
      "preparing: 100%|##########################################################################| 1/1 [00:00<00:00, 68.89it/s]\n"
     ]
    },
    {
     "name": "stdout",
     "output_type": "stream",
     "text": [
      "9d7c2255-ad4d-42ac-8551-c1d8a0811ef6\n",
      "sim calculated successfully\n",
      "\n",
      "2007.812 0.7582 2188.151\n",
      "0 existing calculation records provided\n"
     ]
    },
    {
     "name": "stderr",
     "output_type": "stream",
     "text": [
      "100%|█████████████████████████████████████████████████████████████████████████████████████| 1/1 [00:00<00:00,  3.43it/s]"
     ]
    },
    {
     "name": "stdout",
     "output_type": "stream",
     "text": [
      "1 calculation combinations to check\n",
      "1 new records to prepare\n"
     ]
    },
    {
     "name": "stderr",
     "output_type": "stream",
     "text": [
      "\n",
      "preparing: 100%|##########################################################################| 1/1 [00:00<00:00, 36.96it/s]\n"
     ]
    },
    {
     "name": "stdout",
     "output_type": "stream",
     "text": [
      "733c749f-a077-489a-9eba-48474b803f30\n",
      "sim calculated successfully\n",
      "\n",
      "2147.656 0.2462 2048.854\n",
      "0 existing calculation records provided\n"
     ]
    },
    {
     "name": "stderr",
     "output_type": "stream",
     "text": [
      "100%|█████████████████████████████████████████████████████████████████████████████████████| 1/1 [00:00<00:00,  4.25it/s]"
     ]
    },
    {
     "name": "stdout",
     "output_type": "stream",
     "text": [
      "1 calculation combinations to check\n",
      "1 new records to prepare\n"
     ]
    },
    {
     "name": "stderr",
     "output_type": "stream",
     "text": [
      "\n",
      "preparing: 100%|##########################################################################| 1/1 [00:00<00:00, 72.16it/s]\n"
     ]
    },
    {
     "name": "stdout",
     "output_type": "stream",
     "text": [
      "03650883-8620-4e36-9171-abf68e3430eb\n",
      "sim calculated successfully\n",
      "\n",
      "2077.734 0.3958 2038.425\n",
      "0 existing calculation records provided\n"
     ]
    },
    {
     "name": "stderr",
     "output_type": "stream",
     "text": [
      "100%|█████████████████████████████████████████████████████████████████████████████████████| 1/1 [00:00<00:00,  3.28it/s]"
     ]
    },
    {
     "name": "stdout",
     "output_type": "stream",
     "text": [
      "1 calculation combinations to check\n",
      "1 new records to prepare\n"
     ]
    },
    {
     "name": "stderr",
     "output_type": "stream",
     "text": [
      "\n",
      "preparing: 100%|##########################################################################| 1/1 [00:00<00:00, 36.40it/s]\n"
     ]
    },
    {
     "name": "stdout",
     "output_type": "stream",
     "text": [
      "1cc742a6-1592-4b05-a3cd-a1453c2a1ded\n",
      "sim calculated successfully\n",
      "\n",
      "2042.773 0.4631 2037.575\n",
      "0 existing calculation records provided\n"
     ]
    },
    {
     "name": "stderr",
     "output_type": "stream",
     "text": [
      "100%|█████████████████████████████████████████████████████████████████████████████████████| 1/1 [00:00<00:00,  4.34it/s]"
     ]
    },
    {
     "name": "stdout",
     "output_type": "stream",
     "text": [
      "1 calculation combinations to check\n",
      "1 new records to prepare\n"
     ]
    },
    {
     "name": "stderr",
     "output_type": "stream",
     "text": [
      "\n",
      "preparing: 100%|##########################################################################| 1/1 [00:00<00:00, 45.79it/s]\n"
     ]
    },
    {
     "name": "stdout",
     "output_type": "stream",
     "text": [
      "81a56832-b80e-4fd6-8355-ee8f7382c317\n",
      "sim calculated successfully\n",
      "\n",
      "2042.773 0.4906 2044.203\n",
      "0 existing calculation records provided\n"
     ]
    },
    {
     "name": "stderr",
     "output_type": "stream",
     "text": [
      "100%|█████████████████████████████████████████████████████████████████████████████████████| 1/1 [00:00<00:00,  3.62it/s]"
     ]
    },
    {
     "name": "stdout",
     "output_type": "stream",
     "text": [
      "1 calculation combinations to check\n",
      "1 new records to prepare\n"
     ]
    },
    {
     "name": "stderr",
     "output_type": "stream",
     "text": [
      "\n",
      "preparing: 100%|##########################################################################| 1/1 [00:00<00:00, 34.68it/s]\n"
     ]
    },
    {
     "name": "stdout",
     "output_type": "stream",
     "text": [
      "2181fd32-e910-482b-96d0-1b531b6673b8\n",
      "sim calculated successfully\n",
      "\n",
      "2042.773 0.46 2045.329\n",
      "0 existing calculation records provided\n"
     ]
    },
    {
     "name": "stderr",
     "output_type": "stream",
     "text": [
      "100%|█████████████████████████████████████████████████████████████████████████████████████| 1/1 [00:00<00:00,  3.31it/s]"
     ]
    },
    {
     "name": "stdout",
     "output_type": "stream",
     "text": [
      "1 calculation combinations to check\n",
      "1 new records to prepare\n"
     ]
    },
    {
     "name": "stderr",
     "output_type": "stream",
     "text": [
      "\n",
      "preparing: 100%|##########################################################################| 1/1 [00:00<00:00, 36.87it/s]\n"
     ]
    },
    {
     "name": "stdout",
     "output_type": "stream",
     "text": [
      "d240988b-9be7-4cf8-a2ac-fd2bbfe79065\n",
      "sim calculated successfully\n",
      "\n",
      "2042.773 0.465 2033.444\n",
      "0 existing calculation records provided\n"
     ]
    },
    {
     "name": "stderr",
     "output_type": "stream",
     "text": [
      "100%|█████████████████████████████████████████████████████████████████████████████████████| 1/1 [00:00<00:00,  3.35it/s]"
     ]
    },
    {
     "name": "stdout",
     "output_type": "stream",
     "text": [
      "1 calculation combinations to check\n",
      "1 new records to prepare\n"
     ]
    },
    {
     "name": "stderr",
     "output_type": "stream",
     "text": [
      "\n",
      "preparing: 100%|##########################################################################| 1/1 [00:00<00:00, 61.41it/s]\n"
     ]
    },
    {
     "name": "stdout",
     "output_type": "stream",
     "text": [
      "9149f99d-57de-44fd-ae24-ce2b66db7805\n",
      "sim calculated successfully\n",
      "\n",
      "2042.773 0.4783 2047.288\n",
      "0 existing calculation records provided\n"
     ]
    },
    {
     "name": "stderr",
     "output_type": "stream",
     "text": [
      "100%|█████████████████████████████████████████████████████████████████████████████████████| 1/1 [00:00<00:00,  3.24it/s]"
     ]
    },
    {
     "name": "stdout",
     "output_type": "stream",
     "text": [
      "1 calculation combinations to check\n",
      "1 new records to prepare\n"
     ]
    },
    {
     "name": "stderr",
     "output_type": "stream",
     "text": [
      "\n",
      "preparing: 100%|##########################################################################| 1/1 [00:00<00:00, 32.23it/s]\n"
     ]
    },
    {
     "name": "stdout",
     "output_type": "stream",
     "text": [
      "4e9e63e5-ac5f-407a-b763-f9c6c1336e3d\n",
      "sim calculated successfully\n",
      "\n",
      "2042.773 0.4991 2044.341\n",
      "0 existing calculation records provided\n"
     ]
    },
    {
     "name": "stderr",
     "output_type": "stream",
     "text": [
      "100%|█████████████████████████████████████████████████████████████████████████████████████| 1/1 [00:00<00:00,  3.42it/s]"
     ]
    },
    {
     "name": "stdout",
     "output_type": "stream",
     "text": [
      "1 calculation combinations to check\n",
      "1 new records to prepare\n"
     ]
    },
    {
     "name": "stderr",
     "output_type": "stream",
     "text": [
      "\n",
      "preparing: 100%|##########################################################################| 1/1 [00:00<00:00, 69.53it/s]\n"
     ]
    },
    {
     "name": "stdout",
     "output_type": "stream",
     "text": [
      "b7e6e9f1-5023-4c0a-9ef7-834cfad6cdfc\n",
      "sim calculated successfully\n",
      "\n",
      "2042.773 0.469 2042.509\n",
      "0 existing calculation records provided\n"
     ]
    },
    {
     "name": "stderr",
     "output_type": "stream",
     "text": [
      "100%|█████████████████████████████████████████████████████████████████████████████████████| 1/1 [00:00<00:00,  3.45it/s]"
     ]
    },
    {
     "name": "stdout",
     "output_type": "stream",
     "text": [
      "1 calculation combinations to check\n",
      "1 new records to prepare\n"
     ]
    },
    {
     "name": "stderr",
     "output_type": "stream",
     "text": [
      "\n",
      "preparing: 100%|##########################################################################| 1/1 [00:00<00:00, 32.81it/s]\n"
     ]
    },
    {
     "name": "stdout",
     "output_type": "stream",
     "text": [
      "2ca0b683-d387-4951-8b2f-1b5bc5bd4892\n",
      "sim calculated successfully\n",
      "\n",
      "2042.773 0.4711 2048.797\n",
      "0 existing calculation records provided\n"
     ]
    },
    {
     "name": "stderr",
     "output_type": "stream",
     "text": [
      "100%|█████████████████████████████████████████████████████████████████████████████████████| 1/1 [00:00<00:00,  3.66it/s]"
     ]
    },
    {
     "name": "stdout",
     "output_type": "stream",
     "text": [
      "1 calculation combinations to check\n",
      "1 new records to prepare\n"
     ]
    },
    {
     "name": "stderr",
     "output_type": "stream",
     "text": [
      "\n",
      "preparing: 100%|##########################################################################| 1/1 [00:00<00:00, 71.82it/s]\n"
     ]
    },
    {
     "name": "stdout",
     "output_type": "stream",
     "text": [
      "d59ed44a-6801-40f8-9a17-a898ad6916bc\n",
      "sim calculated successfully\n",
      "\n",
      "2042.773 0.4911 2042.673\n",
      "\n",
      "58 2004--Zhou-X-W--Fe--LAMMPS--ipr2\n",
      "0 existing calculation records provided\n"
     ]
    },
    {
     "name": "stderr",
     "output_type": "stream",
     "text": [
      "100%|█████████████████████████████████████████████████████████████████████████████████████| 1/1 [00:00<00:00,  3.37it/s]"
     ]
    },
    {
     "name": "stdout",
     "output_type": "stream",
     "text": [
      "1 calculation combinations to check\n",
      "1 new records to prepare\n"
     ]
    },
    {
     "name": "stderr",
     "output_type": "stream",
     "text": [
      "\n",
      "preparing: 100%|##########################################################################| 1/1 [00:00<00:00, 35.09it/s]\n"
     ]
    },
    {
     "name": "stdout",
     "output_type": "stream",
     "text": [
      "79731e22-816e-4731-995d-48883339fc15\n",
      "sim calculated successfully\n",
      "\n",
      "4525.000 0.0 4598.069\n",
      "0 existing calculation records provided\n"
     ]
    },
    {
     "name": "stderr",
     "output_type": "stream",
     "text": [
      "100%|█████████████████████████████████████████████████████████████████████████████████████| 1/1 [00:00<00:00,  4.21it/s]"
     ]
    },
    {
     "name": "stdout",
     "output_type": "stream",
     "text": [
      "1 calculation combinations to check\n",
      "1 new records to prepare\n"
     ]
    },
    {
     "name": "stderr",
     "output_type": "stream",
     "text": [
      "\n",
      "preparing: 100%|##########################################################################| 1/1 [00:00<00:00, 65.44it/s]\n"
     ]
    },
    {
     "name": "stdout",
     "output_type": "stream",
     "text": [
      "b8e2f55e-c944-42a2-a64f-05c03538caab\n",
      "sim calculated successfully\n",
      "\n",
      "2287.500 0.0003828 2052.419\n",
      "0 existing calculation records provided\n"
     ]
    },
    {
     "name": "stderr",
     "output_type": "stream",
     "text": [
      "100%|█████████████████████████████████████████████████████████████████████████████████████| 1/1 [00:00<00:00,  3.49it/s]"
     ]
    },
    {
     "name": "stdout",
     "output_type": "stream",
     "text": [
      "1 calculation combinations to check\n",
      "1 new records to prepare\n"
     ]
    },
    {
     "name": "stderr",
     "output_type": "stream",
     "text": [
      "\n",
      "preparing: 100%|##########################################################################| 1/1 [00:00<00:00, 36.60it/s]\n"
     ]
    },
    {
     "name": "stdout",
     "output_type": "stream",
     "text": [
      "3d095213-b265-4c3a-b85e-4c6cf2323f06\n",
      "sim calculated successfully\n",
      "\n",
      "1168.750 0.999 1164.017\n",
      "0 existing calculation records provided\n"
     ]
    },
    {
     "name": "stderr",
     "output_type": "stream",
     "text": [
      "100%|█████████████████████████████████████████████████████████████████████████████████████| 1/1 [00:00<00:00,  4.55it/s]"
     ]
    },
    {
     "name": "stdout",
     "output_type": "stream",
     "text": [
      "1 calculation combinations to check\n",
      "1 new records to prepare\n"
     ]
    },
    {
     "name": "stderr",
     "output_type": "stream",
     "text": [
      "\n",
      "preparing: 100%|#########################################################################| 1/1 [00:00<00:00, 114.71it/s]\n"
     ]
    },
    {
     "name": "stdout",
     "output_type": "stream",
     "text": [
      "7ec133de-9f9e-4efc-823d-7f6ee5991713\n",
      "sim calculated successfully\n",
      "\n",
      "1728.125 0.9573 1742.134\n",
      "0 existing calculation records provided\n"
     ]
    },
    {
     "name": "stderr",
     "output_type": "stream",
     "text": [
      "100%|█████████████████████████████████████████████████████████████████████████████████████| 1/1 [00:00<00:00,  4.21it/s]"
     ]
    },
    {
     "name": "stdout",
     "output_type": "stream",
     "text": [
      "1 calculation combinations to check\n",
      "1 new records to prepare\n"
     ]
    },
    {
     "name": "stderr",
     "output_type": "stream",
     "text": [
      "\n",
      "preparing: 100%|##########################################################################| 1/1 [00:00<00:00, 81.47it/s]\n"
     ]
    },
    {
     "name": "stdout",
     "output_type": "stream",
     "text": [
      "2757d9e7-a741-4b8e-8ce7-568a71b1159c\n",
      "sim calculated successfully\n",
      "\n",
      "2007.812 0.5402 2038.441\n",
      "0 existing calculation records provided\n"
     ]
    },
    {
     "name": "stderr",
     "output_type": "stream",
     "text": [
      "100%|█████████████████████████████████████████████████████████████████████████████████████| 1/1 [00:00<00:00,  4.28it/s]"
     ]
    },
    {
     "name": "stdout",
     "output_type": "stream",
     "text": [
      "1 calculation combinations to check\n",
      "1 new records to prepare\n"
     ]
    },
    {
     "name": "stderr",
     "output_type": "stream",
     "text": [
      "\n",
      "preparing: 100%|##########################################################################| 1/1 [00:00<00:00, 47.43it/s]\n"
     ]
    },
    {
     "name": "stdout",
     "output_type": "stream",
     "text": [
      "173f6753-1ec2-4327-8a0b-8c2db33e5b8e\n",
      "sim calculated successfully\n",
      "\n",
      "2007.812 0.634 2112.904\n",
      "0 existing calculation records provided\n"
     ]
    },
    {
     "name": "stderr",
     "output_type": "stream",
     "text": [
      "100%|█████████████████████████████████████████████████████████████████████████████████████| 1/1 [00:00<00:00,  4.30it/s]"
     ]
    },
    {
     "name": "stdout",
     "output_type": "stream",
     "text": [
      "1 calculation combinations to check\n",
      "1 new records to prepare\n"
     ]
    },
    {
     "name": "stderr",
     "output_type": "stream",
     "text": [
      "\n",
      "preparing: 100%|##########################################################################| 1/1 [00:00<00:00, 41.80it/s]\n"
     ]
    },
    {
     "name": "stdout",
     "output_type": "stream",
     "text": [
      "081c1a16-9b68-4914-b9ba-f0298649181b\n",
      "sim calculated successfully\n",
      "\n",
      "2147.656 0.24 2046.802\n",
      "0 existing calculation records provided\n"
     ]
    },
    {
     "name": "stderr",
     "output_type": "stream",
     "text": [
      "100%|█████████████████████████████████████████████████████████████████████████████████████| 1/1 [00:00<00:00,  4.35it/s]"
     ]
    },
    {
     "name": "stdout",
     "output_type": "stream",
     "text": [
      "1 calculation combinations to check\n",
      "1 new records to prepare\n"
     ]
    },
    {
     "name": "stderr",
     "output_type": "stream",
     "text": [
      "\n",
      "preparing: 100%|##########################################################################| 1/1 [00:00<00:00, 73.31it/s]\n"
     ]
    },
    {
     "name": "stdout",
     "output_type": "stream",
     "text": [
      "5b5492f3-7b39-4979-88f3-372f815f995f\n",
      "sim calculated successfully\n",
      "\n",
      "1937.891 0.8206 2107.525\n",
      "0 existing calculation records provided\n"
     ]
    },
    {
     "name": "stderr",
     "output_type": "stream",
     "text": [
      "100%|█████████████████████████████████████████████████████████████████████████████████████| 1/1 [00:00<00:00,  4.21it/s]"
     ]
    },
    {
     "name": "stdout",
     "output_type": "stream",
     "text": [
      "1 calculation combinations to check\n",
      "1 new records to prepare\n"
     ]
    },
    {
     "name": "stderr",
     "output_type": "stream",
     "text": [
      "\n",
      "preparing: 100%|##########################################################################| 1/1 [00:00<00:00, 74.28it/s]\n"
     ]
    },
    {
     "name": "stdout",
     "output_type": "stream",
     "text": [
      "0838de5a-e63c-45bb-95c3-aef82f711f9a\n",
      "sim calculated successfully\n",
      "\n",
      "2042.773 0.4871 2047.160\n",
      "0 existing calculation records provided\n"
     ]
    },
    {
     "name": "stderr",
     "output_type": "stream",
     "text": [
      "100%|█████████████████████████████████████████████████████████████████████████████████████| 1/1 [00:00<00:00,  4.27it/s]"
     ]
    },
    {
     "name": "stdout",
     "output_type": "stream",
     "text": [
      "1 calculation combinations to check\n",
      "1 new records to prepare\n"
     ]
    },
    {
     "name": "stderr",
     "output_type": "stream",
     "text": [
      "\n",
      "preparing: 100%|##########################################################################| 1/1 [00:00<00:00, 78.60it/s]\n"
     ]
    },
    {
     "name": "stdout",
     "output_type": "stream",
     "text": [
      "121dd108-938c-4fa8-a0d4-729997c83eb8\n",
      "sim calculated successfully\n",
      "\n",
      "2042.773 0.4678 2040.407\n",
      "0 existing calculation records provided\n"
     ]
    },
    {
     "name": "stderr",
     "output_type": "stream",
     "text": [
      "100%|█████████████████████████████████████████████████████████████████████████████████████| 1/1 [00:00<00:00,  4.32it/s]"
     ]
    },
    {
     "name": "stdout",
     "output_type": "stream",
     "text": [
      "1 calculation combinations to check\n",
      "1 new records to prepare\n"
     ]
    },
    {
     "name": "stderr",
     "output_type": "stream",
     "text": [
      "\n",
      "preparing: 100%|##########################################################################| 1/1 [00:00<00:00, 45.01it/s]\n"
     ]
    },
    {
     "name": "stdout",
     "output_type": "stream",
     "text": [
      "c65c198d-da63-4758-900f-3e0069d14fef\n",
      "sim calculated successfully\n",
      "\n",
      "2042.773 0.5045 2042.398\n",
      "0 existing calculation records provided\n"
     ]
    },
    {
     "name": "stderr",
     "output_type": "stream",
     "text": [
      "100%|█████████████████████████████████████████████████████████████████████████████████████| 1/1 [00:00<00:00,  4.24it/s]"
     ]
    },
    {
     "name": "stdout",
     "output_type": "stream",
     "text": [
      "1 calculation combinations to check\n",
      "1 new records to prepare\n"
     ]
    },
    {
     "name": "stderr",
     "output_type": "stream",
     "text": [
      "\n",
      "preparing: 100%|##########################################################################| 1/1 [00:00<00:00, 36.51it/s]\n"
     ]
    },
    {
     "name": "stdout",
     "output_type": "stream",
     "text": [
      "16730f81-d4f7-4d71-92ac-49571beef0ab\n",
      "sim calculated successfully\n",
      "\n",
      "2042.773 0.4487 2040.431\n",
      "0 existing calculation records provided\n"
     ]
    },
    {
     "name": "stderr",
     "output_type": "stream",
     "text": [
      "100%|█████████████████████████████████████████████████████████████████████████████████████| 1/1 [00:00<00:00,  4.36it/s]"
     ]
    },
    {
     "name": "stdout",
     "output_type": "stream",
     "text": [
      "1 calculation combinations to check\n",
      "1 new records to prepare\n"
     ]
    },
    {
     "name": "stderr",
     "output_type": "stream",
     "text": [
      "\n",
      "preparing: 100%|##########################################################################| 1/1 [00:00<00:00, 81.83it/s]\n"
     ]
    },
    {
     "name": "stdout",
     "output_type": "stream",
     "text": [
      "df624ec9-2e86-45d5-902b-65a809d8bd66\n",
      "sim calculated successfully\n",
      "\n",
      "2042.773 0.495 2047.209\n",
      "0 existing calculation records provided\n"
     ]
    },
    {
     "name": "stderr",
     "output_type": "stream",
     "text": [
      "100%|█████████████████████████████████████████████████████████████████████████████████████| 1/1 [00:00<00:00,  4.31it/s]"
     ]
    },
    {
     "name": "stdout",
     "output_type": "stream",
     "text": [
      "1 calculation combinations to check\n",
      "1 new records to prepare\n"
     ]
    },
    {
     "name": "stderr",
     "output_type": "stream",
     "text": [
      "\n",
      "preparing: 100%|##########################################################################| 1/1 [00:00<00:00, 50.79it/s]\n"
     ]
    },
    {
     "name": "stdout",
     "output_type": "stream",
     "text": [
      "e3d87999-c731-42b7-9ebf-8a929f9afb4c\n",
      "sim calculated successfully\n",
      "\n",
      "2042.773 0.4832 2054.664\n",
      "0 existing calculation records provided\n"
     ]
    },
    {
     "name": "stderr",
     "output_type": "stream",
     "text": [
      "100%|█████████████████████████████████████████████████████████████████████████████████████| 1/1 [00:00<00:00,  4.24it/s]"
     ]
    },
    {
     "name": "stdout",
     "output_type": "stream",
     "text": [
      "1 calculation combinations to check\n",
      "1 new records to prepare\n"
     ]
    },
    {
     "name": "stderr",
     "output_type": "stream",
     "text": [
      "\n",
      "preparing: 100%|##########################################################################| 1/1 [00:00<00:00, 85.00it/s]\n"
     ]
    },
    {
     "name": "stdout",
     "output_type": "stream",
     "text": [
      "fe7c4d56-a053-4797-8558-e16a65814f84\n",
      "sim calculated successfully\n",
      "\n",
      "2042.773 0.4639 2035.285\n",
      "0 existing calculation records provided\n"
     ]
    },
    {
     "name": "stderr",
     "output_type": "stream",
     "text": [
      "100%|█████████████████████████████████████████████████████████████████████████████████████| 1/1 [00:00<00:00,  4.29it/s]"
     ]
    },
    {
     "name": "stdout",
     "output_type": "stream",
     "text": [
      "1 calculation combinations to check\n",
      "1 new records to prepare\n"
     ]
    },
    {
     "name": "stderr",
     "output_type": "stream",
     "text": [
      "\n",
      "preparing: 100%|##########################################################################| 1/1 [00:00<00:00, 40.84it/s]\n"
     ]
    },
    {
     "name": "stdout",
     "output_type": "stream",
     "text": [
      "3230e5d7-89dc-4f19-b4c3-5438d3953ae2\n",
      "sim calculated successfully\n",
      "\n",
      "2042.773 0.446 2038.324\n",
      "\n",
      "59 2004--Zhou-X-W--Mo--LAMMPS--ipr1\n",
      "0 existing calculation records provided\n"
     ]
    },
    {
     "name": "stderr",
     "output_type": "stream",
     "text": [
      "100%|█████████████████████████████████████████████████████████████████████████████████████| 1/1 [00:00<00:00,  3.96it/s]"
     ]
    },
    {
     "name": "stdout",
     "output_type": "stream",
     "text": [
      "1 calculation combinations to check\n",
      "1 new records to prepare\n"
     ]
    },
    {
     "name": "stderr",
     "output_type": "stream",
     "text": [
      "\n",
      "preparing: 100%|##########################################################################| 1/1 [00:00<00:00, 66.73it/s]\n"
     ]
    },
    {
     "name": "stdout",
     "output_type": "stream",
     "text": [
      "ae128413-9e00-44a4-ae26-0ca40be5162f\n",
      "sim calculated successfully\n",
      "\n",
      "4525.000 0.0001655 4228.204\n",
      "0 existing calculation records provided\n"
     ]
    },
    {
     "name": "stderr",
     "output_type": "stream",
     "text": [
      "100%|█████████████████████████████████████████████████████████████████████████████████████| 1/1 [00:00<00:00,  4.09it/s]"
     ]
    },
    {
     "name": "stdout",
     "output_type": "stream",
     "text": [
      "1 calculation combinations to check\n",
      "1 new records to prepare\n"
     ]
    },
    {
     "name": "stderr",
     "output_type": "stream",
     "text": [
      "\n",
      "preparing: 100%|##########################################################################| 1/1 [00:00<00:00, 39.59it/s]\n"
     ]
    },
    {
     "name": "stdout",
     "output_type": "stream",
     "text": [
      "b5f57eb0-02ac-4e5c-a0ef-2aaa93cdbd7d\n",
      "sim calculated successfully\n",
      "\n",
      "2287.500 0.9986 2278.591\n",
      "0 existing calculation records provided\n"
     ]
    },
    {
     "name": "stderr",
     "output_type": "stream",
     "text": [
      "100%|█████████████████████████████████████████████████████████████████████████████████████| 1/1 [00:00<00:00,  4.28it/s]"
     ]
    },
    {
     "name": "stdout",
     "output_type": "stream",
     "text": [
      "1 calculation combinations to check\n",
      "1 new records to prepare\n"
     ]
    },
    {
     "name": "stderr",
     "output_type": "stream",
     "text": [
      "\n",
      "preparing: 100%|##########################################################################| 1/1 [00:00<00:00, 38.65it/s]\n"
     ]
    },
    {
     "name": "stdout",
     "output_type": "stream",
     "text": [
      "9b5d416c-9480-419a-99d9-bb5c13bbe044\n",
      "sim calculated successfully\n",
      "\n",
      "3406.250 0.8818 3698.249\n",
      "0 existing calculation records provided\n"
     ]
    },
    {
     "name": "stderr",
     "output_type": "stream",
     "text": [
      "100%|█████████████████████████████████████████████████████████████████████████████████████| 1/1 [00:00<00:00,  4.24it/s]"
     ]
    },
    {
     "name": "stdout",
     "output_type": "stream",
     "text": [
      "1 calculation combinations to check\n",
      "1 new records to prepare\n"
     ]
    },
    {
     "name": "stderr",
     "output_type": "stream",
     "text": [
      "\n",
      "preparing: 100%|##########################################################################| 1/1 [00:00<00:00, 78.29it/s]\n"
     ]
    },
    {
     "name": "stdout",
     "output_type": "stream",
     "text": [
      "f44ea0a5-fea5-4534-aa8a-168d8bea058f\n",
      "sim calculated successfully\n",
      "\n",
      "3965.625 0.219 3728.963\n",
      "0 existing calculation records provided\n"
     ]
    },
    {
     "name": "stderr",
     "output_type": "stream",
     "text": [
      "100%|█████████████████████████████████████████████████████████████████████████████████████| 1/1 [00:00<00:00,  3.53it/s]"
     ]
    },
    {
     "name": "stdout",
     "output_type": "stream",
     "text": [
      "1 calculation combinations to check\n",
      "1 new records to prepare\n"
     ]
    },
    {
     "name": "stderr",
     "output_type": "stream",
     "text": [
      "\n",
      "preparing: 100%|##########################################################################| 1/1 [00:00<00:00, 74.09it/s]\n"
     ]
    },
    {
     "name": "stdout",
     "output_type": "stream",
     "text": [
      "50f379a9-badb-4264-951f-cd11526faac9\n",
      "sim calculated successfully\n",
      "\n",
      "3685.938 0.5299 3714.058\n",
      "0 existing calculation records provided\n"
     ]
    },
    {
     "name": "stderr",
     "output_type": "stream",
     "text": [
      "100%|█████████████████████████████████████████████████████████████████████████████████████| 1/1 [00:00<00:00,  4.20it/s]"
     ]
    },
    {
     "name": "stdout",
     "output_type": "stream",
     "text": [
      "1 calculation combinations to check\n",
      "1 new records to prepare\n"
     ]
    },
    {
     "name": "stderr",
     "output_type": "stream",
     "text": [
      "\n",
      "preparing: 100%|##########################################################################| 1/1 [00:00<00:00, 45.51it/s]\n"
     ]
    },
    {
     "name": "stdout",
     "output_type": "stream",
     "text": [
      "053b648d-ba16-4dad-86c4-45e5339e6245\n",
      "sim calculated successfully\n",
      "\n",
      "3685.938 0.5455 3758.859\n",
      "0 existing calculation records provided\n"
     ]
    },
    {
     "name": "stderr",
     "output_type": "stream",
     "text": [
      "100%|█████████████████████████████████████████████████████████████████████████████████████| 1/1 [00:00<00:00,  4.31it/s]"
     ]
    },
    {
     "name": "stdout",
     "output_type": "stream",
     "text": [
      "1 calculation combinations to check\n",
      "1 new records to prepare\n"
     ]
    },
    {
     "name": "stderr",
     "output_type": "stream",
     "text": [
      "\n",
      "preparing: 100%|##########################################################################| 1/1 [00:00<00:00, 72.91it/s]\n"
     ]
    },
    {
     "name": "stdout",
     "output_type": "stream",
     "text": [
      "8e1ea7f6-22e1-4ec0-8de2-b8ae7962b640\n",
      "sim calculated successfully\n",
      "\n",
      "3685.938 0.5378 3736.409\n",
      "0 existing calculation records provided\n"
     ]
    },
    {
     "name": "stderr",
     "output_type": "stream",
     "text": [
      "100%|█████████████████████████████████████████████████████████████████████████████████████| 1/1 [00:00<00:00,  4.26it/s]"
     ]
    },
    {
     "name": "stdout",
     "output_type": "stream",
     "text": [
      "1 calculation combinations to check\n",
      "1 new records to prepare\n"
     ]
    },
    {
     "name": "stderr",
     "output_type": "stream",
     "text": [
      "\n",
      "preparing: 100%|##########################################################################| 1/1 [00:00<00:00, 82.41it/s]\n"
     ]
    },
    {
     "name": "stdout",
     "output_type": "stream",
     "text": [
      "64bc57b0-6b64-4406-a8f0-a91544cd4564\n",
      "sim calculated successfully\n",
      "\n",
      "3685.938 0.6692 3906.364\n",
      "0 existing calculation records provided\n"
     ]
    },
    {
     "name": "stderr",
     "output_type": "stream",
     "text": [
      "100%|█████████████████████████████████████████████████████████████████████████████████████| 1/1 [00:00<00:00,  4.46it/s]"
     ]
    },
    {
     "name": "stdout",
     "output_type": "stream",
     "text": [
      "1 calculation combinations to check\n",
      "1 new records to prepare\n"
     ]
    },
    {
     "name": "stderr",
     "output_type": "stream",
     "text": [
      "\n",
      "preparing: 100%|##########################################################################| 1/1 [00:00<00:00, 44.67it/s]\n"
     ]
    },
    {
     "name": "stdout",
     "output_type": "stream",
     "text": [
      "152cfb0c-c111-4801-b400-ad6261fc7e62\n",
      "sim calculated successfully\n",
      "\n",
      "3825.781 0.3501 3710.956\n",
      "0 existing calculation records provided\n"
     ]
    },
    {
     "name": "stderr",
     "output_type": "stream",
     "text": [
      "100%|█████████████████████████████████████████████████████████████████████████████████████| 1/1 [00:00<00:00,  4.22it/s]"
     ]
    },
    {
     "name": "stdout",
     "output_type": "stream",
     "text": [
      "1 calculation combinations to check\n",
      "1 new records to prepare\n"
     ]
    },
    {
     "name": "stderr",
     "output_type": "stream",
     "text": [
      "\n",
      "preparing: 100%|##########################################################################| 1/1 [00:00<00:00, 68.88it/s]\n"
     ]
    },
    {
     "name": "stdout",
     "output_type": "stream",
     "text": [
      "183bd4c0-6758-4a55-8b51-a2f625a0b136\n",
      "sim calculated successfully\n",
      "\n",
      "3616.016 0.7864 3962.290\n",
      "0 existing calculation records provided\n"
     ]
    },
    {
     "name": "stderr",
     "output_type": "stream",
     "text": [
      "100%|█████████████████████████████████████████████████████████████████████████████████████| 1/1 [00:00<00:00,  4.15it/s]"
     ]
    },
    {
     "name": "stdout",
     "output_type": "stream",
     "text": [
      "1 calculation combinations to check\n",
      "1 new records to prepare\n"
     ]
    },
    {
     "name": "stderr",
     "output_type": "stream",
     "text": [
      "\n",
      "preparing: 100%|##########################################################################| 1/1 [00:00<00:00, 68.90it/s]\n"
     ]
    },
    {
     "name": "stdout",
     "output_type": "stream",
     "text": [
      "ba20bb53-b0a0-4431-9fca-b1715dcbe5dc\n",
      "sim calculated successfully\n",
      "\n",
      "3790.820 0.4001 3734.620\n",
      "0 existing calculation records provided\n"
     ]
    },
    {
     "name": "stderr",
     "output_type": "stream",
     "text": [
      "100%|█████████████████████████████████████████████████████████████████████████████████████| 1/1 [00:00<00:00,  4.71it/s]"
     ]
    },
    {
     "name": "stdout",
     "output_type": "stream",
     "text": [
      "1 calculation combinations to check\n",
      "1 new records to prepare\n"
     ]
    },
    {
     "name": "stderr",
     "output_type": "stream",
     "text": [
      "\n",
      "preparing: 100%|##########################################################################| 1/1 [00:00<00:00, 37.74it/s]\n"
     ]
    },
    {
     "name": "stdout",
     "output_type": "stream",
     "text": [
      "db3396b2-ae39-4403-8ed8-c7df59618ced\n",
      "sim calculated successfully\n",
      "\n",
      "3790.820 0.4148 3746.772\n",
      "0 existing calculation records provided\n"
     ]
    },
    {
     "name": "stderr",
     "output_type": "stream",
     "text": [
      "100%|█████████████████████████████████████████████████████████████████████████████████████| 1/1 [00:00<00:00,  4.24it/s]"
     ]
    },
    {
     "name": "stdout",
     "output_type": "stream",
     "text": [
      "1 calculation combinations to check\n",
      "1 new records to prepare\n"
     ]
    },
    {
     "name": "stderr",
     "output_type": "stream",
     "text": [
      "\n",
      "preparing: 100%|##########################################################################| 1/1 [00:00<00:00, 43.92it/s]\n"
     ]
    },
    {
     "name": "stdout",
     "output_type": "stream",
     "text": [
      "d18edfb8-1978-47fa-8d80-bb1cb917435c\n",
      "sim calculated successfully\n",
      "\n",
      "3790.820 0.4382 3740.827\n",
      "0 existing calculation records provided\n"
     ]
    },
    {
     "name": "stderr",
     "output_type": "stream",
     "text": [
      "100%|█████████████████████████████████████████████████████████████████████████████████████| 1/1 [00:00<00:00,  4.18it/s]"
     ]
    },
    {
     "name": "stdout",
     "output_type": "stream",
     "text": [
      "1 calculation combinations to check\n",
      "1 new records to prepare\n"
     ]
    },
    {
     "name": "stderr",
     "output_type": "stream",
     "text": [
      "\n",
      "preparing: 100%|##########################################################################| 1/1 [00:00<00:00, 38.21it/s]\n"
     ]
    },
    {
     "name": "stdout",
     "output_type": "stream",
     "text": [
      "082b3213-4666-43a0-9925-16f8e63b658b\n",
      "sim calculated successfully\n",
      "\n",
      "3790.820 0.3937 3734.671\n",
      "0 existing calculation records provided\n"
     ]
    },
    {
     "name": "stderr",
     "output_type": "stream",
     "text": [
      "100%|█████████████████████████████████████████████████████████████████████████████████████| 1/1 [00:00<00:00,  4.38it/s]"
     ]
    },
    {
     "name": "stdout",
     "output_type": "stream",
     "text": [
      "1 calculation combinations to check\n",
      "1 new records to prepare\n"
     ]
    },
    {
     "name": "stderr",
     "output_type": "stream",
     "text": [
      "\n",
      "preparing: 100%|##########################################################################| 1/1 [00:00<00:00, 43.76it/s]\n"
     ]
    },
    {
     "name": "stdout",
     "output_type": "stream",
     "text": [
      "53e25d9b-fbe6-4e22-bb02-2105a89e774b\n",
      "sim calculated successfully\n",
      "\n",
      "3703.418 0.5174 3728.657\n",
      "\n",
      "60 2004--Zhou-X-W--Mo--LAMMPS--ipr2\n",
      "0 existing calculation records provided\n"
     ]
    },
    {
     "name": "stderr",
     "output_type": "stream",
     "text": [
      "100%|█████████████████████████████████████████████████████████████████████████████████████| 1/1 [00:00<00:00,  4.15it/s]"
     ]
    },
    {
     "name": "stdout",
     "output_type": "stream",
     "text": [
      "1 calculation combinations to check\n",
      "1 new records to prepare\n"
     ]
    },
    {
     "name": "stderr",
     "output_type": "stream",
     "text": [
      "\n",
      "preparing: 100%|##########################################################################| 1/1 [00:00<00:00, 46.36it/s]\n"
     ]
    },
    {
     "name": "stdout",
     "output_type": "stream",
     "text": [
      "fedabae8-7b05-4f28-a8a3-2f49a4b512bd\n",
      "sim calculated successfully\n",
      "\n",
      "4525.000 0.0001759 4228.981\n",
      "0 existing calculation records provided\n"
     ]
    },
    {
     "name": "stderr",
     "output_type": "stream",
     "text": [
      "100%|█████████████████████████████████████████████████████████████████████████████████████| 1/1 [00:00<00:00,  4.33it/s]"
     ]
    },
    {
     "name": "stdout",
     "output_type": "stream",
     "text": [
      "1 calculation combinations to check\n",
      "1 new records to prepare\n"
     ]
    },
    {
     "name": "stderr",
     "output_type": "stream",
     "text": [
      "\n",
      "preparing: 100%|##########################################################################| 1/1 [00:00<00:00, 38.99it/s]\n"
     ]
    },
    {
     "name": "stdout",
     "output_type": "stream",
     "text": [
      "a23bb4ea-289b-4df5-ae8e-41ed84637093\n",
      "sim calculated successfully\n",
      "\n",
      "2287.500 0.9983 2275.989\n",
      "0 existing calculation records provided\n"
     ]
    },
    {
     "name": "stderr",
     "output_type": "stream",
     "text": [
      "100%|█████████████████████████████████████████████████████████████████████████████████████| 1/1 [00:00<00:00,  4.65it/s]"
     ]
    },
    {
     "name": "stdout",
     "output_type": "stream",
     "text": [
      "1 calculation combinations to check\n",
      "1 new records to prepare\n"
     ]
    },
    {
     "name": "stderr",
     "output_type": "stream",
     "text": [
      "\n",
      "preparing: 100%|##########################################################################| 1/1 [00:00<00:00, 48.51it/s]\n"
     ]
    },
    {
     "name": "stdout",
     "output_type": "stream",
     "text": [
      "4b3772ee-f82a-4b47-bc2b-d3a3172505b8\n",
      "sim calculated successfully\n",
      "\n",
      "3406.250 0.8742 3688.553\n",
      "0 existing calculation records provided\n"
     ]
    },
    {
     "name": "stderr",
     "output_type": "stream",
     "text": [
      "100%|█████████████████████████████████████████████████████████████████████████████████████| 1/1 [00:00<00:00,  4.02it/s]"
     ]
    },
    {
     "name": "stdout",
     "output_type": "stream",
     "text": [
      "1 calculation combinations to check\n",
      "1 new records to prepare\n"
     ]
    },
    {
     "name": "stderr",
     "output_type": "stream",
     "text": [
      "\n",
      "preparing: 100%|##########################################################################| 1/1 [00:00<00:00, 43.86it/s]\n"
     ]
    },
    {
     "name": "stdout",
     "output_type": "stream",
     "text": [
      "f030e6d1-6609-4fce-8739-e041024fd21c\n",
      "sim calculated successfully\n",
      "\n",
      "3965.625 0.2043 3737.379\n",
      "0 existing calculation records provided\n"
     ]
    },
    {
     "name": "stderr",
     "output_type": "stream",
     "text": [
      "100%|█████████████████████████████████████████████████████████████████████████████████████| 1/1 [00:00<00:00,  4.31it/s]"
     ]
    },
    {
     "name": "stdout",
     "output_type": "stream",
     "text": [
      "1 calculation combinations to check\n",
      "1 new records to prepare\n"
     ]
    },
    {
     "name": "stderr",
     "output_type": "stream",
     "text": [
      "\n",
      "preparing: 100%|##########################################################################| 1/1 [00:00<00:00, 69.42it/s]\n"
     ]
    },
    {
     "name": "stdout",
     "output_type": "stream",
     "text": [
      "fe4268b2-3fd5-42bc-8e4d-94d251cdd955\n",
      "sim calculated successfully\n",
      "\n",
      "3685.938 0.6489 3851.993\n",
      "0 existing calculation records provided\n"
     ]
    },
    {
     "name": "stderr",
     "output_type": "stream",
     "text": [
      "100%|█████████████████████████████████████████████████████████████████████████████████████| 1/1 [00:00<00:00,  4.49it/s]"
     ]
    },
    {
     "name": "stdout",
     "output_type": "stream",
     "text": [
      "1 calculation combinations to check\n",
      "1 new records to prepare\n"
     ]
    },
    {
     "name": "stderr",
     "output_type": "stream",
     "text": [
      "\n",
      "preparing: 100%|##########################################################################| 1/1 [00:00<00:00, 37.19it/s]\n"
     ]
    },
    {
     "name": "stdout",
     "output_type": "stream",
     "text": [
      "97795c6e-552f-493b-b131-a70b40cd4dc3\n",
      "sim calculated successfully\n",
      "\n",
      "3825.781 0.3791 3744.668\n",
      "0 existing calculation records provided\n"
     ]
    },
    {
     "name": "stderr",
     "output_type": "stream",
     "text": [
      "100%|█████████████████████████████████████████████████████████████████████████████████████| 1/1 [00:00<00:00,  3.87it/s]"
     ]
    },
    {
     "name": "stdout",
     "output_type": "stream",
     "text": [
      "1 calculation combinations to check\n",
      "1 new records to prepare\n"
     ]
    },
    {
     "name": "stderr",
     "output_type": "stream",
     "text": [
      "\n",
      "preparing: 100%|##########################################################################| 1/1 [00:00<00:00, 43.14it/s]\n"
     ]
    },
    {
     "name": "stdout",
     "output_type": "stream",
     "text": [
      "a2436fc5-aa9c-4b4b-9156-29c3e5c3b496\n",
      "sim calculated successfully\n",
      "\n",
      "3616.016 0.7906 3952.199\n",
      "0 existing calculation records provided\n"
     ]
    },
    {
     "name": "stderr",
     "output_type": "stream",
     "text": [
      "100%|█████████████████████████████████████████████████████████████████████████████████████| 1/1 [00:00<00:00,  4.26it/s]"
     ]
    },
    {
     "name": "stdout",
     "output_type": "stream",
     "text": [
      "1 calculation combinations to check\n",
      "1 new records to prepare\n"
     ]
    },
    {
     "name": "stderr",
     "output_type": "stream",
     "text": [
      "\n",
      "preparing: 100%|##########################################################################| 1/1 [00:00<00:00, 41.25it/s]\n"
     ]
    },
    {
     "name": "stdout",
     "output_type": "stream",
     "text": [
      "1b45db12-eee4-49ed-993d-1bcb32f33c80\n",
      "sim calculated successfully\n",
      "\n",
      "3790.820 0.3925 3720.790\n",
      "0 existing calculation records provided\n"
     ]
    },
    {
     "name": "stderr",
     "output_type": "stream",
     "text": [
      "100%|█████████████████████████████████████████████████████████████████████████████████████| 1/1 [00:00<00:00,  3.94it/s]"
     ]
    },
    {
     "name": "stdout",
     "output_type": "stream",
     "text": [
      "1 calculation combinations to check\n",
      "1 new records to prepare\n"
     ]
    },
    {
     "name": "stderr",
     "output_type": "stream",
     "text": [
      "\n",
      "preparing: 100%|##########################################################################| 1/1 [00:00<00:00, 45.93it/s]\n"
     ]
    },
    {
     "name": "stdout",
     "output_type": "stream",
     "text": [
      "b605a8f8-199a-4e7d-adaf-ca2586c2f17e\n",
      "sim calculated successfully\n",
      "\n",
      "3703.418 0.4918 3720.904\n",
      "0 existing calculation records provided\n"
     ]
    },
    {
     "name": "stderr",
     "output_type": "stream",
     "text": [
      "100%|█████████████████████████████████████████████████████████████████████████████████████| 1/1 [00:00<00:00,  4.46it/s]"
     ]
    },
    {
     "name": "stdout",
     "output_type": "stream",
     "text": [
      "1 calculation combinations to check\n",
      "1 new records to prepare\n"
     ]
    },
    {
     "name": "stderr",
     "output_type": "stream",
     "text": [
      "\n",
      "preparing: 100%|##########################################################################| 1/1 [00:00<00:00, 46.26it/s]\n"
     ]
    },
    {
     "name": "stdout",
     "output_type": "stream",
     "text": [
      "2328dd7b-0ae7-40b1-b38d-acf70b3a1bed\n",
      "sim calculated successfully\n",
      "\n",
      "3703.418 0.5097 3728.091\n",
      "0 existing calculation records provided\n"
     ]
    },
    {
     "name": "stderr",
     "output_type": "stream",
     "text": [
      "100%|█████████████████████████████████████████████████████████████████████████████████████| 1/1 [00:00<00:00,  4.47it/s]"
     ]
    },
    {
     "name": "stdout",
     "output_type": "stream",
     "text": [
      "1 calculation combinations to check\n",
      "1 new records to prepare\n"
     ]
    },
    {
     "name": "stderr",
     "output_type": "stream",
     "text": [
      "\n",
      "preparing: 100%|##########################################################################| 1/1 [00:00<00:00, 46.36it/s]\n"
     ]
    },
    {
     "name": "stdout",
     "output_type": "stream",
     "text": [
      "f1ab9947-ba0b-4873-8a7a-6488e97956ba\n",
      "sim calculated successfully\n",
      "\n",
      "3703.418 0.5086 3732.540\n",
      "0 existing calculation records provided\n"
     ]
    },
    {
     "name": "stderr",
     "output_type": "stream",
     "text": [
      "100%|█████████████████████████████████████████████████████████████████████████████████████| 1/1 [00:00<00:00,  4.38it/s]"
     ]
    },
    {
     "name": "stdout",
     "output_type": "stream",
     "text": [
      "1 calculation combinations to check\n",
      "1 new records to prepare\n"
     ]
    },
    {
     "name": "stderr",
     "output_type": "stream",
     "text": [
      "\n",
      "preparing: 100%|##########################################################################| 1/1 [00:00<00:00, 35.22it/s]\n"
     ]
    },
    {
     "name": "stdout",
     "output_type": "stream",
     "text": [
      "091213b5-3615-4220-855f-d16c1544e31b\n",
      "sim calculated successfully\n",
      "\n",
      "3703.418 0.4946 3719.931\n",
      "0 existing calculation records provided\n"
     ]
    },
    {
     "name": "stderr",
     "output_type": "stream",
     "text": [
      "100%|█████████████████████████████████████████████████████████████████████████████████████| 1/1 [00:00<00:00,  4.38it/s]"
     ]
    },
    {
     "name": "stdout",
     "output_type": "stream",
     "text": [
      "1 calculation combinations to check\n",
      "1 new records to prepare\n"
     ]
    },
    {
     "name": "stderr",
     "output_type": "stream",
     "text": [
      "\n",
      "preparing: 100%|##########################################################################| 1/1 [00:00<00:00, 81.81it/s]\n"
     ]
    },
    {
     "name": "stdout",
     "output_type": "stream",
     "text": [
      "029333a3-9cfa-49f7-a533-688647f8a85a\n",
      "sim calculated successfully\n",
      "\n",
      "3703.418 0.4755 3733.641\n",
      "0 existing calculation records provided\n"
     ]
    },
    {
     "name": "stderr",
     "output_type": "stream",
     "text": [
      "100%|█████████████████████████████████████████████████████████████████████████████████████| 1/1 [00:00<00:00,  4.30it/s]"
     ]
    },
    {
     "name": "stdout",
     "output_type": "stream",
     "text": [
      "1 calculation combinations to check\n",
      "1 new records to prepare\n"
     ]
    },
    {
     "name": "stderr",
     "output_type": "stream",
     "text": [
      "\n",
      "preparing: 100%|##########################################################################| 1/1 [00:00<00:00, 43.18it/s]\n"
     ]
    },
    {
     "name": "stdout",
     "output_type": "stream",
     "text": [
      "c88aa532-34c3-4888-9dba-78189d3e20d7\n",
      "sim calculated successfully\n",
      "\n",
      "3703.418 0.5143 3735.993\n",
      "0 existing calculation records provided\n"
     ]
    },
    {
     "name": "stderr",
     "output_type": "stream",
     "text": [
      "100%|█████████████████████████████████████████████████████████████████████████████████████| 1/1 [00:00<00:00,  4.27it/s]"
     ]
    },
    {
     "name": "stdout",
     "output_type": "stream",
     "text": [
      "1 calculation combinations to check\n",
      "1 new records to prepare\n"
     ]
    },
    {
     "name": "stderr",
     "output_type": "stream",
     "text": [
      "\n",
      "preparing: 100%|##########################################################################| 1/1 [00:00<00:00, 47.72it/s]\n"
     ]
    },
    {
     "name": "stdout",
     "output_type": "stream",
     "text": [
      "08095e8e-2bec-440a-9bb7-167201969acd\n",
      "sim calculated successfully\n",
      "\n",
      "3703.418 0.5224 3729.549\n",
      "\n",
      "61 2004--Zhou-X-W--Ta--LAMMPS--ipr1\n",
      "0 existing calculation records provided\n"
     ]
    },
    {
     "name": "stderr",
     "output_type": "stream",
     "text": [
      "100%|█████████████████████████████████████████████████████████████████████████████████████| 1/1 [00:00<00:00,  4.79it/s]"
     ]
    },
    {
     "name": "stdout",
     "output_type": "stream",
     "text": [
      "1 calculation combinations to check\n",
      "1 new records to prepare\n"
     ]
    },
    {
     "name": "stderr",
     "output_type": "stream",
     "text": [
      "\n",
      "preparing: 100%|##########################################################################| 1/1 [00:00<00:00, 50.97it/s]\n"
     ]
    },
    {
     "name": "stdout",
     "output_type": "stream",
     "text": [
      "6c44dd43-05e3-404d-a314-79a728a77660\n",
      "sim calculated successfully\n",
      "\n",
      "4525.000 6.207e-05 4473.143\n",
      "0 existing calculation records provided\n"
     ]
    },
    {
     "name": "stderr",
     "output_type": "stream",
     "text": [
      "100%|█████████████████████████████████████████████████████████████████████████████████████| 1/1 [00:00<00:00,  4.27it/s]"
     ]
    },
    {
     "name": "stdout",
     "output_type": "stream",
     "text": [
      "1 calculation combinations to check\n",
      "1 new records to prepare\n"
     ]
    },
    {
     "name": "stderr",
     "output_type": "stream",
     "text": [
      "\n",
      "preparing: 100%|##########################################################################| 1/1 [00:00<00:00, 46.02it/s]\n"
     ]
    },
    {
     "name": "stdout",
     "output_type": "stream",
     "text": [
      "1bd4976b-748d-4a34-929f-8c2e56c6ef65\n",
      "sim calculated successfully\n",
      "\n",
      "2287.500 0.9872 2279.884\n",
      "0 existing calculation records provided\n"
     ]
    },
    {
     "name": "stderr",
     "output_type": "stream",
     "text": [
      "100%|█████████████████████████████████████████████████████████████████████████████████████| 1/1 [00:00<00:00,  3.95it/s]"
     ]
    },
    {
     "name": "stdout",
     "output_type": "stream",
     "text": [
      "1 calculation combinations to check\n",
      "1 new records to prepare\n"
     ]
    },
    {
     "name": "stderr",
     "output_type": "stream",
     "text": [
      "\n",
      "preparing: 100%|##########################################################################| 1/1 [00:00<00:00, 42.06it/s]\n"
     ]
    },
    {
     "name": "stdout",
     "output_type": "stream",
     "text": [
      "e5901280-a584-4ad0-9598-eacaec0c05d2\n",
      "sim calculated successfully\n",
      "\n",
      "3406.250 0.2074 3223.903\n",
      "0 existing calculation records provided\n"
     ]
    },
    {
     "name": "stderr",
     "output_type": "stream",
     "text": [
      "100%|█████████████████████████████████████████████████████████████████████████████████████| 1/1 [00:00<00:00,  4.30it/s]"
     ]
    },
    {
     "name": "stdout",
     "output_type": "stream",
     "text": [
      "1 calculation combinations to check\n",
      "1 new records to prepare\n"
     ]
    },
    {
     "name": "stderr",
     "output_type": "stream",
     "text": [
      "\n",
      "preparing: 100%|##########################################################################| 1/1 [00:00<00:00, 46.45it/s]\n"
     ]
    },
    {
     "name": "stdout",
     "output_type": "stream",
     "text": [
      "6cd32c9b-14b3-4d56-9e35-2ecc001c1b65\n",
      "sim calculated successfully\n",
      "\n",
      "2846.875 0.8704 3069.292\n",
      "0 existing calculation records provided\n"
     ]
    },
    {
     "name": "stderr",
     "output_type": "stream",
     "text": [
      "100%|█████████████████████████████████████████████████████████████████████████████████████| 1/1 [00:00<00:00,  4.44it/s]"
     ]
    },
    {
     "name": "stdout",
     "output_type": "stream",
     "text": [
      "1 calculation combinations to check\n",
      "1 new records to prepare\n"
     ]
    },
    {
     "name": "stderr",
     "output_type": "stream",
     "text": [
      "\n",
      "preparing: 100%|##########################################################################| 1/1 [00:00<00:00, 74.72it/s]\n"
     ]
    },
    {
     "name": "stdout",
     "output_type": "stream",
     "text": [
      "5441fc4a-18fe-417b-bd34-7ee2bb31bee9\n",
      "sim calculated successfully\n",
      "\n",
      "3126.562 0.7109 3428.999\n",
      "0 existing calculation records provided\n"
     ]
    },
    {
     "name": "stderr",
     "output_type": "stream",
     "text": [
      "100%|█████████████████████████████████████████████████████████████████████████████████████| 1/1 [00:00<00:00,  4.37it/s]"
     ]
    },
    {
     "name": "stdout",
     "output_type": "stream",
     "text": [
      "1 calculation combinations to check\n",
      "1 new records to prepare\n"
     ]
    },
    {
     "name": "stderr",
     "output_type": "stream",
     "text": [
      "\n",
      "preparing: 100%|##########################################################################| 1/1 [00:00<00:00, 48.04it/s]\n"
     ]
    },
    {
     "name": "stdout",
     "output_type": "stream",
     "text": [
      "bd175a0e-b5a7-4ed4-b281-eb78b0850e80\n",
      "sim calculated successfully\n",
      "\n",
      "3266.406 0.4006 3224.736\n",
      "0 existing calculation records provided\n"
     ]
    },
    {
     "name": "stderr",
     "output_type": "stream",
     "text": [
      "100%|█████████████████████████████████████████████████████████████████████████████████████| 1/1 [00:00<00:00,  4.72it/s]"
     ]
    },
    {
     "name": "stdout",
     "output_type": "stream",
     "text": [
      "1 calculation combinations to check\n",
      "1 new records to prepare\n"
     ]
    },
    {
     "name": "stderr",
     "output_type": "stream",
     "text": [
      "\n",
      "preparing: 100%|##########################################################################| 1/1 [00:00<00:00, 84.48it/s]\n"
     ]
    },
    {
     "name": "stdout",
     "output_type": "stream",
     "text": [
      "31f089c0-2739-4115-bf80-e9f17828f394\n",
      "sim calculated successfully\n",
      "\n",
      "3266.406 0.3795 3209.022\n",
      "0 existing calculation records provided\n"
     ]
    },
    {
     "name": "stderr",
     "output_type": "stream",
     "text": [
      "100%|█████████████████████████████████████████████████████████████████████████████████████| 1/1 [00:00<00:00,  3.84it/s]"
     ]
    },
    {
     "name": "stdout",
     "output_type": "stream",
     "text": [
      "1 calculation combinations to check\n",
      "1 new records to prepare\n"
     ]
    },
    {
     "name": "stderr",
     "output_type": "stream",
     "text": [
      "\n",
      "preparing: 100%|##########################################################################| 1/1 [00:00<00:00, 47.05it/s]\n"
     ]
    },
    {
     "name": "stdout",
     "output_type": "stream",
     "text": [
      "25d36d64-c4c9-4a9a-a3c6-d995638c250a\n",
      "sim calculated successfully\n",
      "\n",
      "3056.641 0.7715 3340.783\n",
      "0 existing calculation records provided\n"
     ]
    },
    {
     "name": "stderr",
     "output_type": "stream",
     "text": [
      "100%|█████████████████████████████████████████████████████████████████████████████████████| 1/1 [00:00<00:00,  3.82it/s]"
     ]
    },
    {
     "name": "stdout",
     "output_type": "stream",
     "text": [
      "1 calculation combinations to check\n",
      "1 new records to prepare\n"
     ]
    },
    {
     "name": "stderr",
     "output_type": "stream",
     "text": [
      "\n",
      "preparing: 100%|##########################################################################| 1/1 [00:00<00:00, 77.13it/s]\n"
     ]
    },
    {
     "name": "stdout",
     "output_type": "stream",
     "text": [
      "7d3d9319-0234-49d1-876b-2e328821ff4d\n",
      "sim calculated successfully\n",
      "\n",
      "3231.445 0.4356 3230.536\n",
      "0 existing calculation records provided\n"
     ]
    },
    {
     "name": "stderr",
     "output_type": "stream",
     "text": [
      "100%|█████████████████████████████████████████████████████████████████████████████████████| 1/1 [00:00<00:00,  4.43it/s]"
     ]
    },
    {
     "name": "stdout",
     "output_type": "stream",
     "text": [
      "1 calculation combinations to check\n",
      "1 new records to prepare\n"
     ]
    },
    {
     "name": "stderr",
     "output_type": "stream",
     "text": [
      "\n",
      "preparing: 100%|##########################################################################| 1/1 [00:00<00:00, 41.39it/s]\n"
     ]
    },
    {
     "name": "stdout",
     "output_type": "stream",
     "text": [
      "35370129-949b-4b9e-9949-4bae73c4e7d4\n",
      "sim calculated successfully\n",
      "\n",
      "3231.445 0.4381 3212.373\n",
      "0 existing calculation records provided\n"
     ]
    },
    {
     "name": "stderr",
     "output_type": "stream",
     "text": [
      "100%|█████████████████████████████████████████████████████████████████████████████████████| 1/1 [00:00<00:00,  4.61it/s]"
     ]
    },
    {
     "name": "stdout",
     "output_type": "stream",
     "text": [
      "1 calculation combinations to check\n",
      "1 new records to prepare\n"
     ]
    },
    {
     "name": "stderr",
     "output_type": "stream",
     "text": [
      "\n",
      "preparing: 100%|##########################################################################| 1/1 [00:00<00:00, 80.16it/s]\n"
     ]
    },
    {
     "name": "stdout",
     "output_type": "stream",
     "text": [
      "f002d097-3c1a-4317-9bac-fba4388f7e8a\n",
      "sim calculated successfully\n",
      "\n",
      "3231.445 0.4276 3225.937\n",
      "0 existing calculation records provided\n"
     ]
    },
    {
     "name": "stderr",
     "output_type": "stream",
     "text": [
      "100%|█████████████████████████████████████████████████████████████████████████████████████| 1/1 [00:00<00:00,  4.02it/s]"
     ]
    },
    {
     "name": "stdout",
     "output_type": "stream",
     "text": [
      "1 calculation combinations to check\n",
      "1 new records to prepare\n"
     ]
    },
    {
     "name": "stderr",
     "output_type": "stream",
     "text": [
      "\n",
      "preparing: 100%|##########################################################################| 1/1 [00:00<00:00, 42.62it/s]\n"
     ]
    },
    {
     "name": "stdout",
     "output_type": "stream",
     "text": [
      "743040dc-938b-4c89-99ed-1d35ee8b8ab9\n",
      "sim calculated successfully\n",
      "\n",
      "3231.445 0.4431 3219.776\n",
      "0 existing calculation records provided\n"
     ]
    },
    {
     "name": "stderr",
     "output_type": "stream",
     "text": [
      "100%|█████████████████████████████████████████████████████████████████████████████████████| 1/1 [00:00<00:00,  3.94it/s]"
     ]
    },
    {
     "name": "stdout",
     "output_type": "stream",
     "text": [
      "1 calculation combinations to check\n",
      "1 new records to prepare\n"
     ]
    },
    {
     "name": "stderr",
     "output_type": "stream",
     "text": [
      "\n",
      "preparing: 100%|##########################################################################| 1/1 [00:00<00:00, 40.75it/s]\n"
     ]
    },
    {
     "name": "stdout",
     "output_type": "stream",
     "text": [
      "d57e4067-da9d-4d0d-809d-7386b00e32d8\n",
      "sim calculated successfully\n",
      "\n",
      "3231.445 0.4483 3233.406\n",
      "0 existing calculation records provided\n"
     ]
    },
    {
     "name": "stderr",
     "output_type": "stream",
     "text": [
      "100%|█████████████████████████████████████████████████████████████████████████████████████| 1/1 [00:00<00:00,  3.88it/s]"
     ]
    },
    {
     "name": "stdout",
     "output_type": "stream",
     "text": [
      "1 calculation combinations to check\n",
      "1 new records to prepare\n"
     ]
    },
    {
     "name": "stderr",
     "output_type": "stream",
     "text": [
      "\n",
      "preparing: 100%|##########################################################################| 1/1 [00:00<00:00, 38.38it/s]\n"
     ]
    },
    {
     "name": "stdout",
     "output_type": "stream",
     "text": [
      "5e0360c4-ffaf-4620-a9b0-732aa397e22a\n",
      "sim calculated successfully\n",
      "\n",
      "3231.445 0.431 3241.350\n",
      "0 existing calculation records provided\n"
     ]
    },
    {
     "name": "stderr",
     "output_type": "stream",
     "text": [
      "100%|█████████████████████████████████████████████████████████████████████████████████████| 1/1 [00:00<00:00,  4.24it/s]"
     ]
    },
    {
     "name": "stdout",
     "output_type": "stream",
     "text": [
      "1 calculation combinations to check\n",
      "1 new records to prepare\n"
     ]
    },
    {
     "name": "stderr",
     "output_type": "stream",
     "text": [
      "\n",
      "preparing: 100%|##########################################################################| 1/1 [00:00<00:00, 37.26it/s]\n"
     ]
    },
    {
     "name": "stdout",
     "output_type": "stream",
     "text": [
      "6e37a4fa-846c-4eb3-b740-150b8718df1c\n",
      "sim calculated successfully\n",
      "\n",
      "3231.445 0.4158 3222.875\n",
      "\n",
      "62 2004--Zhou-X-W--Ta--LAMMPS--ipr2\n",
      "0 existing calculation records provided\n"
     ]
    },
    {
     "name": "stderr",
     "output_type": "stream",
     "text": [
      "100%|█████████████████████████████████████████████████████████████████████████████████████| 1/1 [00:00<00:00,  3.81it/s]"
     ]
    },
    {
     "name": "stdout",
     "output_type": "stream",
     "text": [
      "1 calculation combinations to check\n",
      "1 new records to prepare\n"
     ]
    },
    {
     "name": "stderr",
     "output_type": "stream",
     "text": [
      "\n",
      "preparing: 100%|##########################################################################| 1/1 [00:00<00:00, 48.91it/s]\n"
     ]
    },
    {
     "name": "stdout",
     "output_type": "stream",
     "text": [
      "c3fa8ec0-a2b7-4cb3-b1a4-bee9387567fb\n",
      "sim calculated successfully\n",
      "\n",
      "4525.000 4.138e-05 4477.879\n",
      "0 existing calculation records provided\n"
     ]
    },
    {
     "name": "stderr",
     "output_type": "stream",
     "text": [
      "100%|█████████████████████████████████████████████████████████████████████████████████████| 1/1 [00:00<00:00,  3.78it/s]"
     ]
    },
    {
     "name": "stdout",
     "output_type": "stream",
     "text": [
      "1 calculation combinations to check\n",
      "1 new records to prepare\n"
     ]
    },
    {
     "name": "stderr",
     "output_type": "stream",
     "text": [
      "\n",
      "preparing: 100%|##########################################################################| 1/1 [00:00<00:00, 76.82it/s]\n"
     ]
    },
    {
     "name": "stdout",
     "output_type": "stream",
     "text": [
      "85f74cfe-b01f-4048-a451-3b64c0df4c35\n",
      "sim calculated successfully\n",
      "\n",
      "2287.500 0.9869 2283.161\n",
      "0 existing calculation records provided\n"
     ]
    },
    {
     "name": "stderr",
     "output_type": "stream",
     "text": [
      "100%|█████████████████████████████████████████████████████████████████████████████████████| 1/1 [00:00<00:00,  4.01it/s]"
     ]
    },
    {
     "name": "stdout",
     "output_type": "stream",
     "text": [
      "1 calculation combinations to check\n",
      "1 new records to prepare\n"
     ]
    },
    {
     "name": "stderr",
     "output_type": "stream",
     "text": [
      "\n",
      "preparing: 100%|##########################################################################| 1/1 [00:00<00:00, 41.57it/s]\n"
     ]
    },
    {
     "name": "stdout",
     "output_type": "stream",
     "text": [
      "581c5ccb-096b-43c1-8a51-b1823186d7bd\n",
      "sim calculated successfully\n",
      "\n",
      "3406.250 0.1958 3228.244\n",
      "0 existing calculation records provided\n"
     ]
    },
    {
     "name": "stderr",
     "output_type": "stream",
     "text": [
      "100%|█████████████████████████████████████████████████████████████████████████████████████| 1/1 [00:00<00:00,  4.01it/s]"
     ]
    },
    {
     "name": "stdout",
     "output_type": "stream",
     "text": [
      "1 calculation combinations to check\n",
      "1 new records to prepare\n"
     ]
    },
    {
     "name": "stderr",
     "output_type": "stream",
     "text": [
      "\n",
      "preparing: 100%|##########################################################################| 1/1 [00:00<00:00, 44.50it/s]\n"
     ]
    },
    {
     "name": "stdout",
     "output_type": "stream",
     "text": [
      "2aab4c75-562e-4068-aa38-9bea40fe2ab1\n",
      "sim calculated successfully\n",
      "\n",
      "2846.875 0.8692 3096.802\n",
      "0 existing calculation records provided\n"
     ]
    },
    {
     "name": "stderr",
     "output_type": "stream",
     "text": [
      "100%|█████████████████████████████████████████████████████████████████████████████████████| 1/1 [00:00<00:00,  4.69it/s]"
     ]
    },
    {
     "name": "stdout",
     "output_type": "stream",
     "text": [
      "1 calculation combinations to check\n",
      "1 new records to prepare\n"
     ]
    },
    {
     "name": "stderr",
     "output_type": "stream",
     "text": [
      "\n",
      "preparing: 100%|##########################################################################| 1/1 [00:00<00:00, 93.92it/s]\n"
     ]
    },
    {
     "name": "stdout",
     "output_type": "stream",
     "text": [
      "a905c77c-c235-4f2e-afbb-9fd408acd7eb\n",
      "sim calculated successfully\n",
      "\n",
      "3126.562 0.6974 3442.112\n",
      "0 existing calculation records provided\n"
     ]
    },
    {
     "name": "stderr",
     "output_type": "stream",
     "text": [
      "100%|█████████████████████████████████████████████████████████████████████████████████████| 1/1 [00:00<00:00,  3.81it/s]"
     ]
    },
    {
     "name": "stdout",
     "output_type": "stream",
     "text": [
      "1 calculation combinations to check\n",
      "1 new records to prepare\n"
     ]
    },
    {
     "name": "stderr",
     "output_type": "stream",
     "text": [
      "\n",
      "preparing: 100%|##########################################################################| 1/1 [00:00<00:00, 83.78it/s]\n"
     ]
    },
    {
     "name": "stdout",
     "output_type": "stream",
     "text": [
      "78a12991-1895-478e-8cd7-5119c084740b\n",
      "sim calculated successfully\n",
      "\n",
      "3266.406 0.3791 3226.311\n",
      "0 existing calculation records provided\n"
     ]
    },
    {
     "name": "stderr",
     "output_type": "stream",
     "text": [
      "100%|█████████████████████████████████████████████████████████████████████████████████████| 1/1 [00:00<00:00,  4.47it/s]"
     ]
    },
    {
     "name": "stdout",
     "output_type": "stream",
     "text": [
      "1 calculation combinations to check\n",
      "1 new records to prepare\n"
     ]
    },
    {
     "name": "stderr",
     "output_type": "stream",
     "text": [
      "\n",
      "preparing: 100%|##########################################################################| 1/1 [00:00<00:00, 44.96it/s]\n"
     ]
    },
    {
     "name": "stdout",
     "output_type": "stream",
     "text": [
      "d97f2c35-2a8b-46d3-9dc3-4758a8083705\n",
      "sim calculated successfully\n",
      "\n",
      "3056.641 0.7594 3348.984\n",
      "0 existing calculation records provided\n"
     ]
    },
    {
     "name": "stderr",
     "output_type": "stream",
     "text": [
      "100%|█████████████████████████████████████████████████████████████████████████████████████| 1/1 [00:00<00:00,  3.64it/s]"
     ]
    },
    {
     "name": "stdout",
     "output_type": "stream",
     "text": [
      "1 calculation combinations to check\n",
      "1 new records to prepare\n"
     ]
    },
    {
     "name": "stderr",
     "output_type": "stream",
     "text": [
      "\n",
      "preparing: 100%|##########################################################################| 1/1 [00:00<00:00, 79.66it/s]\n"
     ]
    },
    {
     "name": "stdout",
     "output_type": "stream",
     "text": [
      "bec80128-e064-4bae-a892-fba0025efb47\n",
      "sim calculated successfully\n",
      "\n",
      "3231.445 0.4248 3218.751\n",
      "0 existing calculation records provided\n"
     ]
    },
    {
     "name": "stderr",
     "output_type": "stream",
     "text": [
      "100%|█████████████████████████████████████████████████████████████████████████████████████| 1/1 [00:00<00:00,  4.51it/s]"
     ]
    },
    {
     "name": "stdout",
     "output_type": "stream",
     "text": [
      "1 calculation combinations to check\n",
      "1 new records to prepare\n"
     ]
    },
    {
     "name": "stderr",
     "output_type": "stream",
     "text": [
      "\n",
      "preparing: 100%|##########################################################################| 1/1 [00:00<00:00, 70.22it/s]\n"
     ]
    },
    {
     "name": "stdout",
     "output_type": "stream",
     "text": [
      "e21e2d1d-4389-4f50-8a41-67f0dc48b15c\n",
      "sim calculated successfully\n",
      "\n",
      "3231.445 0.4251 3216.979\n",
      "0 existing calculation records provided\n"
     ]
    },
    {
     "name": "stderr",
     "output_type": "stream",
     "text": [
      "100%|█████████████████████████████████████████████████████████████████████████████████████| 1/1 [00:00<00:00,  4.42it/s]"
     ]
    },
    {
     "name": "stdout",
     "output_type": "stream",
     "text": [
      "1 calculation combinations to check\n",
      "1 new records to prepare\n"
     ]
    },
    {
     "name": "stderr",
     "output_type": "stream",
     "text": [
      "\n",
      "preparing: 100%|##########################################################################| 1/1 [00:00<00:00, 43.86it/s]\n"
     ]
    },
    {
     "name": "stdout",
     "output_type": "stream",
     "text": [
      "c26b7d6e-584f-4081-a715-09aaeb3be5c9\n",
      "sim calculated successfully\n",
      "\n",
      "3231.445 0.4087 3213.156\n",
      "0 existing calculation records provided\n"
     ]
    },
    {
     "name": "stderr",
     "output_type": "stream",
     "text": [
      "100%|█████████████████████████████████████████████████████████████████████████████████████| 1/1 [00:00<00:00,  3.76it/s]"
     ]
    },
    {
     "name": "stdout",
     "output_type": "stream",
     "text": [
      "1 calculation combinations to check\n",
      "1 new records to prepare\n"
     ]
    },
    {
     "name": "stderr",
     "output_type": "stream",
     "text": [
      "\n",
      "preparing: 100%|##########################################################################| 1/1 [00:00<00:00, 80.65it/s]\n"
     ]
    },
    {
     "name": "stdout",
     "output_type": "stream",
     "text": [
      "70ce7d46-0635-40c9-9ae1-788d90201e27\n",
      "sim calculated successfully\n",
      "\n",
      "3231.445 0.4234 3215.999\n",
      "0 existing calculation records provided\n"
     ]
    },
    {
     "name": "stderr",
     "output_type": "stream",
     "text": [
      "100%|█████████████████████████████████████████████████████████████████████████████████████| 1/1 [00:00<00:00,  4.39it/s]"
     ]
    },
    {
     "name": "stdout",
     "output_type": "stream",
     "text": [
      "1 calculation combinations to check\n",
      "1 new records to prepare\n"
     ]
    },
    {
     "name": "stderr",
     "output_type": "stream",
     "text": [
      "\n",
      "preparing: 100%|##########################################################################| 1/1 [00:00<00:00, 37.28it/s]\n"
     ]
    },
    {
     "name": "stdout",
     "output_type": "stream",
     "text": [
      "a73d644e-b5d7-4cb3-a372-46289d618658\n",
      "sim calculated successfully\n",
      "\n",
      "3231.445 0.435 3230.542\n",
      "0 existing calculation records provided\n"
     ]
    },
    {
     "name": "stderr",
     "output_type": "stream",
     "text": [
      "100%|█████████████████████████████████████████████████████████████████████████████████████| 1/1 [00:00<00:00,  4.06it/s]"
     ]
    },
    {
     "name": "stdout",
     "output_type": "stream",
     "text": [
      "1 calculation combinations to check\n",
      "1 new records to prepare\n"
     ]
    },
    {
     "name": "stderr",
     "output_type": "stream",
     "text": [
      "\n",
      "preparing: 100%|##########################################################################| 1/1 [00:00<00:00, 71.66it/s]\n"
     ]
    },
    {
     "name": "stdout",
     "output_type": "stream",
     "text": [
      "c92fae5b-60a2-4190-8627-a4feac6a447f\n",
      "sim calculated successfully\n",
      "\n",
      "3231.445 0.4255 3222.866\n",
      "0 existing calculation records provided\n"
     ]
    },
    {
     "name": "stderr",
     "output_type": "stream",
     "text": [
      "100%|█████████████████████████████████████████████████████████████████████████████████████| 1/1 [00:00<00:00,  4.41it/s]"
     ]
    },
    {
     "name": "stdout",
     "output_type": "stream",
     "text": [
      "1 calculation combinations to check\n",
      "1 new records to prepare\n"
     ]
    },
    {
     "name": "stderr",
     "output_type": "stream",
     "text": [
      "\n",
      "preparing: 100%|##########################################################################| 1/1 [00:00<00:00, 47.09it/s]\n"
     ]
    },
    {
     "name": "stdout",
     "output_type": "stream",
     "text": [
      "ba7e56e9-01eb-4373-b434-04fb38f07f72\n",
      "sim calculated successfully\n",
      "\n",
      "3231.445 0.4501 3233.763\n",
      "0 existing calculation records provided\n"
     ]
    },
    {
     "name": "stderr",
     "output_type": "stream",
     "text": [
      "100%|█████████████████████████████████████████████████████████████████████████████████████| 1/1 [00:00<00:00,  4.20it/s]"
     ]
    },
    {
     "name": "stdout",
     "output_type": "stream",
     "text": [
      "1 calculation combinations to check\n",
      "1 new records to prepare\n"
     ]
    },
    {
     "name": "stderr",
     "output_type": "stream",
     "text": [
      "\n",
      "preparing: 100%|##########################################################################| 1/1 [00:00<00:00, 46.70it/s]\n"
     ]
    },
    {
     "name": "stdout",
     "output_type": "stream",
     "text": [
      "3b88b37e-e498-4b3e-8907-945804d92119\n",
      "sim calculated successfully\n",
      "\n",
      "3231.445 0.444 3219.378\n",
      "\n",
      "63 2004--Zhou-X-W--Ta-Cu--LAMMPS--ipr1\n",
      "0 existing calculation records provided\n"
     ]
    },
    {
     "name": "stderr",
     "output_type": "stream",
     "text": [
      "100%|█████████████████████████████████████████████████████████████████████████████████████| 1/1 [00:00<00:00,  4.07it/s]"
     ]
    },
    {
     "name": "stdout",
     "output_type": "stream",
     "text": [
      "1 calculation combinations to check\n",
      "1 new records to prepare\n"
     ]
    },
    {
     "name": "stderr",
     "output_type": "stream",
     "text": [
      "\n",
      "preparing: 100%|##########################################################################| 1/1 [00:00<00:00, 46.67it/s]\n"
     ]
    },
    {
     "name": "stdout",
     "output_type": "stream",
     "text": [
      "738ff849-3524-4c15-bb65-424101c08312\n",
      "sim calculated successfully\n",
      "\n",
      "4525.000 6.207e-05 4473.143\n",
      "0 existing calculation records provided\n"
     ]
    },
    {
     "name": "stderr",
     "output_type": "stream",
     "text": [
      "100%|█████████████████████████████████████████████████████████████████████████████████████| 1/1 [00:00<00:00,  4.16it/s]"
     ]
    },
    {
     "name": "stdout",
     "output_type": "stream",
     "text": [
      "1 calculation combinations to check\n",
      "1 new records to prepare\n"
     ]
    },
    {
     "name": "stderr",
     "output_type": "stream",
     "text": [
      "\n",
      "preparing: 100%|##########################################################################| 1/1 [00:00<00:00, 40.11it/s]\n"
     ]
    },
    {
     "name": "stdout",
     "output_type": "stream",
     "text": [
      "b105fe86-2836-43f0-ad08-b7432c38e9d4\n",
      "sim calculated successfully\n",
      "\n",
      "2287.500 0.9872 2279.884\n",
      "0 existing calculation records provided\n"
     ]
    },
    {
     "name": "stderr",
     "output_type": "stream",
     "text": [
      "100%|█████████████████████████████████████████████████████████████████████████████████████| 1/1 [00:00<00:00,  4.29it/s]"
     ]
    },
    {
     "name": "stdout",
     "output_type": "stream",
     "text": [
      "1 calculation combinations to check\n",
      "1 new records to prepare\n"
     ]
    },
    {
     "name": "stderr",
     "output_type": "stream",
     "text": [
      "\n",
      "preparing: 100%|##########################################################################| 1/1 [00:00<00:00, 39.39it/s]\n"
     ]
    },
    {
     "name": "stdout",
     "output_type": "stream",
     "text": [
      "512c0a47-7629-484d-8850-a594a89cfa09\n",
      "sim calculated successfully\n",
      "\n",
      "3406.250 0.2074 3223.903\n",
      "0 existing calculation records provided\n"
     ]
    },
    {
     "name": "stderr",
     "output_type": "stream",
     "text": [
      "100%|█████████████████████████████████████████████████████████████████████████████████████| 1/1 [00:00<00:00,  4.19it/s]"
     ]
    },
    {
     "name": "stdout",
     "output_type": "stream",
     "text": [
      "1 calculation combinations to check\n",
      "1 new records to prepare\n"
     ]
    },
    {
     "name": "stderr",
     "output_type": "stream",
     "text": [
      "\n",
      "preparing: 100%|##########################################################################| 1/1 [00:00<00:00, 36.84it/s]\n"
     ]
    },
    {
     "name": "stdout",
     "output_type": "stream",
     "text": [
      "f67034b6-9ad3-44ce-b513-e78cdb74d062\n",
      "sim calculated successfully\n",
      "\n",
      "2846.875 0.8704 3069.292\n",
      "0 existing calculation records provided\n"
     ]
    },
    {
     "name": "stderr",
     "output_type": "stream",
     "text": [
      "100%|█████████████████████████████████████████████████████████████████████████████████████| 1/1 [00:00<00:00,  4.31it/s]"
     ]
    },
    {
     "name": "stdout",
     "output_type": "stream",
     "text": [
      "1 calculation combinations to check\n",
      "1 new records to prepare\n"
     ]
    },
    {
     "name": "stderr",
     "output_type": "stream",
     "text": [
      "\n",
      "preparing: 100%|##########################################################################| 1/1 [00:00<00:00, 39.28it/s]\n"
     ]
    },
    {
     "name": "stdout",
     "output_type": "stream",
     "text": [
      "c070546b-c531-4ca8-826f-5e9db9ec4b65\n",
      "sim calculated successfully\n",
      "\n",
      "3126.562 0.7109 3428.999\n",
      "0 existing calculation records provided\n"
     ]
    },
    {
     "name": "stderr",
     "output_type": "stream",
     "text": [
      "100%|█████████████████████████████████████████████████████████████████████████████████████| 1/1 [00:00<00:00,  4.35it/s]"
     ]
    },
    {
     "name": "stdout",
     "output_type": "stream",
     "text": [
      "1 calculation combinations to check\n",
      "1 new records to prepare\n"
     ]
    },
    {
     "name": "stderr",
     "output_type": "stream",
     "text": [
      "\n",
      "preparing: 100%|##########################################################################| 1/1 [00:00<00:00, 38.56it/s]\n"
     ]
    },
    {
     "name": "stdout",
     "output_type": "stream",
     "text": [
      "17d9951e-59f5-45d9-b875-07dfbfa3c164\n",
      "sim calculated successfully\n",
      "\n",
      "3266.406 0.4006 3224.736\n",
      "0 existing calculation records provided\n"
     ]
    },
    {
     "name": "stderr",
     "output_type": "stream",
     "text": [
      "100%|█████████████████████████████████████████████████████████████████████████████████████| 1/1 [00:00<00:00,  3.90it/s]"
     ]
    },
    {
     "name": "stdout",
     "output_type": "stream",
     "text": [
      "1 calculation combinations to check\n",
      "1 new records to prepare\n"
     ]
    },
    {
     "name": "stderr",
     "output_type": "stream",
     "text": [
      "\n",
      "preparing: 100%|##########################################################################| 1/1 [00:00<00:00, 43.96it/s]\n"
     ]
    },
    {
     "name": "stdout",
     "output_type": "stream",
     "text": [
      "5511254b-5591-4080-b213-99f5cbb1321e\n",
      "sim calculated successfully\n",
      "\n",
      "3266.406 0.3795 3209.022\n",
      "0 existing calculation records provided\n"
     ]
    },
    {
     "name": "stderr",
     "output_type": "stream",
     "text": [
      "100%|█████████████████████████████████████████████████████████████████████████████████████| 1/1 [00:00<00:00,  4.43it/s]"
     ]
    },
    {
     "name": "stdout",
     "output_type": "stream",
     "text": [
      "1 calculation combinations to check\n",
      "1 new records to prepare\n"
     ]
    },
    {
     "name": "stderr",
     "output_type": "stream",
     "text": [
      "\n",
      "preparing: 100%|##########################################################################| 1/1 [00:00<00:00, 70.31it/s]\n"
     ]
    },
    {
     "name": "stdout",
     "output_type": "stream",
     "text": [
      "718b974d-246a-487a-92d1-3a07870c1405\n",
      "sim calculated successfully\n",
      "\n",
      "3056.641 0.7715 3340.783\n",
      "0 existing calculation records provided\n"
     ]
    },
    {
     "name": "stderr",
     "output_type": "stream",
     "text": [
      "100%|█████████████████████████████████████████████████████████████████████████████████████| 1/1 [00:00<00:00,  4.41it/s]"
     ]
    },
    {
     "name": "stdout",
     "output_type": "stream",
     "text": [
      "1 calculation combinations to check\n",
      "1 new records to prepare\n"
     ]
    },
    {
     "name": "stderr",
     "output_type": "stream",
     "text": [
      "\n",
      "preparing: 100%|##########################################################################| 1/1 [00:00<00:00, 38.82it/s]\n"
     ]
    },
    {
     "name": "stdout",
     "output_type": "stream",
     "text": [
      "ea07dbcc-38fa-4f8b-8479-288c705b0010\n",
      "sim calculated successfully\n",
      "\n",
      "3231.445 0.4356 3230.536\n",
      "0 existing calculation records provided\n"
     ]
    },
    {
     "name": "stderr",
     "output_type": "stream",
     "text": [
      "100%|█████████████████████████████████████████████████████████████████████████████████████| 1/1 [00:00<00:00,  3.87it/s]"
     ]
    },
    {
     "name": "stdout",
     "output_type": "stream",
     "text": [
      "1 calculation combinations to check\n",
      "1 new records to prepare\n"
     ]
    },
    {
     "name": "stderr",
     "output_type": "stream",
     "text": [
      "\n",
      "preparing: 100%|##########################################################################| 1/1 [00:00<00:00, 43.08it/s]\n"
     ]
    },
    {
     "name": "stdout",
     "output_type": "stream",
     "text": [
      "8ef64a6f-64ce-49aa-bc34-65720c6c00f3\n",
      "sim calculated successfully\n",
      "\n",
      "3231.445 0.4381 3212.373\n",
      "0 existing calculation records provided\n"
     ]
    },
    {
     "name": "stderr",
     "output_type": "stream",
     "text": [
      "100%|█████████████████████████████████████████████████████████████████████████████████████| 1/1 [00:00<00:00,  3.82it/s]"
     ]
    },
    {
     "name": "stdout",
     "output_type": "stream",
     "text": [
      "1 calculation combinations to check\n",
      "1 new records to prepare\n"
     ]
    },
    {
     "name": "stderr",
     "output_type": "stream",
     "text": [
      "\n",
      "preparing: 100%|##########################################################################| 1/1 [00:00<00:00, 73.39it/s]\n"
     ]
    },
    {
     "name": "stdout",
     "output_type": "stream",
     "text": [
      "5a8092c6-b554-4c68-903b-aca7d763049d\n",
      "sim calculated successfully\n",
      "\n",
      "3231.445 0.4276 3225.937\n",
      "0 existing calculation records provided\n"
     ]
    },
    {
     "name": "stderr",
     "output_type": "stream",
     "text": [
      "100%|█████████████████████████████████████████████████████████████████████████████████████| 1/1 [00:00<00:00,  3.45it/s]"
     ]
    },
    {
     "name": "stdout",
     "output_type": "stream",
     "text": [
      "1 calculation combinations to check\n",
      "1 new records to prepare\n"
     ]
    },
    {
     "name": "stderr",
     "output_type": "stream",
     "text": [
      "\n",
      "preparing: 100%|##########################################################################| 1/1 [00:00<00:00, 72.28it/s]\n"
     ]
    },
    {
     "name": "stdout",
     "output_type": "stream",
     "text": [
      "5a74004f-9599-4807-9b2d-985dad8b0082\n",
      "sim calculated successfully\n",
      "\n",
      "3231.445 0.4431 3219.776\n",
      "0 existing calculation records provided\n"
     ]
    },
    {
     "name": "stderr",
     "output_type": "stream",
     "text": [
      "100%|█████████████████████████████████████████████████████████████████████████████████████| 1/1 [00:00<00:00,  3.37it/s]"
     ]
    },
    {
     "name": "stdout",
     "output_type": "stream",
     "text": [
      "1 calculation combinations to check\n",
      "1 new records to prepare\n"
     ]
    },
    {
     "name": "stderr",
     "output_type": "stream",
     "text": [
      "\n",
      "preparing: 100%|##########################################################################| 1/1 [00:00<00:00, 71.77it/s]\n"
     ]
    },
    {
     "name": "stdout",
     "output_type": "stream",
     "text": [
      "48968855-2e03-4cc0-8152-a5349e8369df\n",
      "sim calculated successfully\n",
      "\n",
      "3231.445 0.4483 3233.406\n",
      "0 existing calculation records provided\n"
     ]
    },
    {
     "name": "stderr",
     "output_type": "stream",
     "text": [
      "100%|█████████████████████████████████████████████████████████████████████████████████████| 1/1 [00:00<00:00,  3.62it/s]"
     ]
    },
    {
     "name": "stdout",
     "output_type": "stream",
     "text": [
      "1 calculation combinations to check\n",
      "1 new records to prepare\n"
     ]
    },
    {
     "name": "stderr",
     "output_type": "stream",
     "text": [
      "\n",
      "preparing: 100%|##########################################################################| 1/1 [00:00<00:00, 62.42it/s]\n"
     ]
    },
    {
     "name": "stdout",
     "output_type": "stream",
     "text": [
      "7fa1e4df-c919-49ce-8860-f8d9cca8ee88\n",
      "sim calculated successfully\n",
      "\n",
      "3231.445 0.431 3241.350\n",
      "0 existing calculation records provided\n"
     ]
    },
    {
     "name": "stderr",
     "output_type": "stream",
     "text": [
      "100%|█████████████████████████████████████████████████████████████████████████████████████| 1/1 [00:00<00:00,  4.30it/s]"
     ]
    },
    {
     "name": "stdout",
     "output_type": "stream",
     "text": [
      "1 calculation combinations to check\n",
      "1 new records to prepare\n"
     ]
    },
    {
     "name": "stderr",
     "output_type": "stream",
     "text": [
      "\n",
      "preparing: 100%|##########################################################################| 1/1 [00:00<00:00, 62.46it/s]\n"
     ]
    },
    {
     "name": "stdout",
     "output_type": "stream",
     "text": [
      "faf2c723-2f6d-4f84-af23-7b5ce33c8f1f\n",
      "sim calculated successfully\n",
      "\n",
      "3231.445 0.4158 3222.875\n",
      "\n",
      "64 2004--Zhou-X-W--Ta-Cu--LAMMPS--ipr2\n",
      "0 existing calculation records provided\n"
     ]
    },
    {
     "name": "stderr",
     "output_type": "stream",
     "text": [
      "100%|█████████████████████████████████████████████████████████████████████████████████████| 1/1 [00:00<00:00,  3.65it/s]"
     ]
    },
    {
     "name": "stdout",
     "output_type": "stream",
     "text": [
      "1 calculation combinations to check\n",
      "1 new records to prepare\n"
     ]
    },
    {
     "name": "stderr",
     "output_type": "stream",
     "text": [
      "\n",
      "preparing: 100%|##########################################################################| 1/1 [00:00<00:00, 44.11it/s]\n"
     ]
    },
    {
     "name": "stdout",
     "output_type": "stream",
     "text": [
      "c4627614-af51-41d4-8db8-dc0123893c75\n",
      "sim calculated successfully\n",
      "\n",
      "4525.000 4.138e-05 4477.879\n",
      "0 existing calculation records provided\n"
     ]
    },
    {
     "name": "stderr",
     "output_type": "stream",
     "text": [
      "100%|█████████████████████████████████████████████████████████████████████████████████████| 1/1 [00:00<00:00,  4.15it/s]"
     ]
    },
    {
     "name": "stdout",
     "output_type": "stream",
     "text": [
      "1 calculation combinations to check\n",
      "1 new records to prepare\n"
     ]
    },
    {
     "name": "stderr",
     "output_type": "stream",
     "text": [
      "\n",
      "preparing: 100%|##########################################################################| 1/1 [00:00<00:00, 42.91it/s]\n"
     ]
    },
    {
     "name": "stdout",
     "output_type": "stream",
     "text": [
      "c912821d-9bce-4384-9545-325f5b13070f\n",
      "sim calculated successfully\n",
      "\n",
      "2287.500 0.9869 2283.161\n",
      "0 existing calculation records provided\n"
     ]
    },
    {
     "name": "stderr",
     "output_type": "stream",
     "text": [
      "100%|█████████████████████████████████████████████████████████████████████████████████████| 1/1 [00:00<00:00,  3.76it/s]"
     ]
    },
    {
     "name": "stdout",
     "output_type": "stream",
     "text": [
      "1 calculation combinations to check\n",
      "1 new records to prepare\n"
     ]
    },
    {
     "name": "stderr",
     "output_type": "stream",
     "text": [
      "\n",
      "preparing: 100%|##########################################################################| 1/1 [00:00<00:00, 74.22it/s]\n"
     ]
    },
    {
     "name": "stdout",
     "output_type": "stream",
     "text": [
      "60d54004-bd28-454c-8dbc-48a558df7b0c\n",
      "sim calculated successfully\n",
      "\n",
      "3406.250 0.1958 3228.244\n",
      "0 existing calculation records provided\n"
     ]
    },
    {
     "name": "stderr",
     "output_type": "stream",
     "text": [
      "100%|█████████████████████████████████████████████████████████████████████████████████████| 1/1 [00:00<00:00,  4.05it/s]"
     ]
    },
    {
     "name": "stdout",
     "output_type": "stream",
     "text": [
      "1 calculation combinations to check\n",
      "1 new records to prepare\n"
     ]
    },
    {
     "name": "stderr",
     "output_type": "stream",
     "text": [
      "\n",
      "preparing: 100%|##########################################################################| 1/1 [00:00<00:00, 34.92it/s]\n"
     ]
    },
    {
     "name": "stdout",
     "output_type": "stream",
     "text": [
      "417a7c7d-6067-446d-9a72-a6979795b3b8\n",
      "sim calculated successfully\n",
      "\n",
      "2846.875 0.8692 3096.802\n",
      "0 existing calculation records provided\n"
     ]
    },
    {
     "name": "stderr",
     "output_type": "stream",
     "text": [
      "100%|█████████████████████████████████████████████████████████████████████████████████████| 1/1 [00:00<00:00,  3.99it/s]"
     ]
    },
    {
     "name": "stdout",
     "output_type": "stream",
     "text": [
      "1 calculation combinations to check\n",
      "1 new records to prepare\n"
     ]
    },
    {
     "name": "stderr",
     "output_type": "stream",
     "text": [
      "\n",
      "preparing: 100%|##########################################################################| 1/1 [00:00<00:00, 39.89it/s]\n"
     ]
    },
    {
     "name": "stdout",
     "output_type": "stream",
     "text": [
      "426de988-650d-4785-825c-4e66a029f4ae\n",
      "sim calculated successfully\n",
      "\n",
      "3126.562 0.6974 3442.112\n",
      "0 existing calculation records provided\n"
     ]
    },
    {
     "name": "stderr",
     "output_type": "stream",
     "text": [
      "100%|█████████████████████████████████████████████████████████████████████████████████████| 1/1 [00:00<00:00,  4.43it/s]"
     ]
    },
    {
     "name": "stdout",
     "output_type": "stream",
     "text": [
      "1 calculation combinations to check\n",
      "1 new records to prepare\n"
     ]
    },
    {
     "name": "stderr",
     "output_type": "stream",
     "text": [
      "\n",
      "preparing: 100%|##########################################################################| 1/1 [00:00<00:00, 43.09it/s]\n"
     ]
    },
    {
     "name": "stdout",
     "output_type": "stream",
     "text": [
      "7a183cab-0685-41e6-880e-ade4e9aa65e9\n",
      "sim calculated successfully\n",
      "\n",
      "3266.406 0.3791 3226.311\n",
      "0 existing calculation records provided\n"
     ]
    },
    {
     "name": "stderr",
     "output_type": "stream",
     "text": [
      "100%|█████████████████████████████████████████████████████████████████████████████████████| 1/1 [00:00<00:00,  3.74it/s]"
     ]
    },
    {
     "name": "stdout",
     "output_type": "stream",
     "text": [
      "1 calculation combinations to check\n",
      "1 new records to prepare\n"
     ]
    },
    {
     "name": "stderr",
     "output_type": "stream",
     "text": [
      "\n",
      "preparing: 100%|##########################################################################| 1/1 [00:00<00:00, 69.39it/s]\n"
     ]
    },
    {
     "name": "stdout",
     "output_type": "stream",
     "text": [
      "3c873330-cec1-4357-ae1d-ab7bc9d3c264\n",
      "sim calculated successfully\n",
      "\n",
      "3056.641 0.7594 3348.984\n",
      "0 existing calculation records provided\n"
     ]
    },
    {
     "name": "stderr",
     "output_type": "stream",
     "text": [
      "100%|█████████████████████████████████████████████████████████████████████████████████████| 1/1 [00:00<00:00,  4.30it/s]"
     ]
    },
    {
     "name": "stdout",
     "output_type": "stream",
     "text": [
      "1 calculation combinations to check\n",
      "1 new records to prepare\n"
     ]
    },
    {
     "name": "stderr",
     "output_type": "stream",
     "text": [
      "\n",
      "preparing: 100%|##########################################################################| 1/1 [00:00<00:00, 41.66it/s]\n"
     ]
    },
    {
     "name": "stdout",
     "output_type": "stream",
     "text": [
      "889085c8-9e04-4283-8fd1-1ff2bf9be754\n",
      "sim calculated successfully\n",
      "\n",
      "3231.445 0.4248 3218.751\n",
      "0 existing calculation records provided\n"
     ]
    },
    {
     "name": "stderr",
     "output_type": "stream",
     "text": [
      "100%|█████████████████████████████████████████████████████████████████████████████████████| 1/1 [00:00<00:00,  4.43it/s]"
     ]
    },
    {
     "name": "stdout",
     "output_type": "stream",
     "text": [
      "1 calculation combinations to check\n",
      "1 new records to prepare\n"
     ]
    },
    {
     "name": "stderr",
     "output_type": "stream",
     "text": [
      "\n",
      "preparing: 100%|##########################################################################| 1/1 [00:00<00:00, 70.95it/s]\n"
     ]
    },
    {
     "name": "stdout",
     "output_type": "stream",
     "text": [
      "e4f807dc-fa19-46c2-849c-d94ddabe4022\n",
      "sim calculated successfully\n",
      "\n",
      "3231.445 0.4251 3216.979\n",
      "0 existing calculation records provided\n"
     ]
    },
    {
     "name": "stderr",
     "output_type": "stream",
     "text": [
      "100%|█████████████████████████████████████████████████████████████████████████████████████| 1/1 [00:00<00:00,  4.25it/s]"
     ]
    },
    {
     "name": "stdout",
     "output_type": "stream",
     "text": [
      "1 calculation combinations to check\n",
      "1 new records to prepare\n"
     ]
    },
    {
     "name": "stderr",
     "output_type": "stream",
     "text": [
      "\n",
      "preparing: 100%|##########################################################################| 1/1 [00:00<00:00, 69.70it/s]\n"
     ]
    },
    {
     "name": "stdout",
     "output_type": "stream",
     "text": [
      "141ea8f6-41a7-4d4b-8eb5-5b8b22815776\n",
      "sim calculated successfully\n",
      "\n",
      "3231.445 0.4087 3213.156\n",
      "0 existing calculation records provided\n"
     ]
    },
    {
     "name": "stderr",
     "output_type": "stream",
     "text": [
      "100%|█████████████████████████████████████████████████████████████████████████████████████| 1/1 [00:00<00:00,  3.99it/s]"
     ]
    },
    {
     "name": "stdout",
     "output_type": "stream",
     "text": [
      "1 calculation combinations to check\n",
      "1 new records to prepare\n"
     ]
    },
    {
     "name": "stderr",
     "output_type": "stream",
     "text": [
      "\n",
      "preparing: 100%|##########################################################################| 1/1 [00:00<00:00, 68.23it/s]\n"
     ]
    },
    {
     "name": "stdout",
     "output_type": "stream",
     "text": [
      "487aa0ea-11f7-47ed-98c6-064afc884cda\n",
      "sim calculated successfully\n",
      "\n",
      "3231.445 0.4234 3215.999\n",
      "0 existing calculation records provided\n"
     ]
    },
    {
     "name": "stderr",
     "output_type": "stream",
     "text": [
      "100%|█████████████████████████████████████████████████████████████████████████████████████| 1/1 [00:00<00:00,  4.18it/s]"
     ]
    },
    {
     "name": "stdout",
     "output_type": "stream",
     "text": [
      "1 calculation combinations to check\n",
      "1 new records to prepare\n"
     ]
    },
    {
     "name": "stderr",
     "output_type": "stream",
     "text": [
      "\n",
      "preparing: 100%|##########################################################################| 1/1 [00:00<00:00, 44.32it/s]\n"
     ]
    },
    {
     "name": "stdout",
     "output_type": "stream",
     "text": [
      "b5859ddc-7eb2-423c-aa14-ff774977553a\n",
      "sim calculated successfully\n",
      "\n",
      "3231.445 0.435 3230.542\n",
      "0 existing calculation records provided\n"
     ]
    },
    {
     "name": "stderr",
     "output_type": "stream",
     "text": [
      "100%|█████████████████████████████████████████████████████████████████████████████████████| 1/1 [00:00<00:00,  4.05it/s]"
     ]
    },
    {
     "name": "stdout",
     "output_type": "stream",
     "text": [
      "1 calculation combinations to check\n",
      "1 new records to prepare\n"
     ]
    },
    {
     "name": "stderr",
     "output_type": "stream",
     "text": [
      "\n",
      "preparing: 100%|##########################################################################| 1/1 [00:00<00:00, 68.99it/s]\n"
     ]
    },
    {
     "name": "stdout",
     "output_type": "stream",
     "text": [
      "d38fe39c-6e8b-4488-b116-413fff01378e\n",
      "sim calculated successfully\n",
      "\n",
      "3231.445 0.4255 3222.866\n",
      "0 existing calculation records provided\n"
     ]
    },
    {
     "name": "stderr",
     "output_type": "stream",
     "text": [
      "100%|█████████████████████████████████████████████████████████████████████████████████████| 1/1 [00:00<00:00,  3.89it/s]"
     ]
    },
    {
     "name": "stdout",
     "output_type": "stream",
     "text": [
      "1 calculation combinations to check\n",
      "1 new records to prepare\n"
     ]
    },
    {
     "name": "stderr",
     "output_type": "stream",
     "text": [
      "\n",
      "preparing: 100%|##########################################################################| 1/1 [00:00<00:00, 69.57it/s]\n"
     ]
    },
    {
     "name": "stdout",
     "output_type": "stream",
     "text": [
      "7785d4b8-c25b-4aa6-9b98-0658acb84957\n",
      "sim calculated successfully\n",
      "\n",
      "3231.445 0.4501 3233.763\n",
      "0 existing calculation records provided\n"
     ]
    },
    {
     "name": "stderr",
     "output_type": "stream",
     "text": [
      "100%|█████████████████████████████████████████████████████████████████████████████████████| 1/1 [00:00<00:00,  3.33it/s]"
     ]
    },
    {
     "name": "stdout",
     "output_type": "stream",
     "text": [
      "1 calculation combinations to check\n",
      "1 new records to prepare\n"
     ]
    },
    {
     "name": "stderr",
     "output_type": "stream",
     "text": [
      "\n",
      "preparing: 100%|##########################################################################| 1/1 [00:00<00:00, 69.29it/s]\n"
     ]
    },
    {
     "name": "stdout",
     "output_type": "stream",
     "text": [
      "1d7a5374-56e4-400c-a276-12e4d848caa5\n",
      "sim calculated successfully\n",
      "\n",
      "3231.445 0.444 3219.378\n",
      "\n",
      "65 2004--Zhou-X-W--Ti--LAMMPS--ipr1\n",
      "0 existing calculation records provided\n"
     ]
    },
    {
     "name": "stderr",
     "output_type": "stream",
     "text": [
      "100%|█████████████████████████████████████████████████████████████████████████████████████| 1/1 [00:00<00:00,  3.87it/s]"
     ]
    },
    {
     "name": "stdout",
     "output_type": "stream",
     "text": [
      "1 calculation combinations to check\n",
      "1 new records to prepare\n"
     ]
    },
    {
     "name": "stderr",
     "output_type": "stream",
     "text": [
      "\n",
      "preparing: 100%|##########################################################################| 1/1 [00:00<00:00, 84.01it/s]\n"
     ]
    },
    {
     "name": "stdout",
     "output_type": "stream",
     "text": [
      "abaff5ac-d787-48d7-a2a9-0f6495fd1978\n",
      "sim calculated successfully\n",
      "\n",
      "4525.000 0.0 4502.561\n",
      "0 existing calculation records provided\n"
     ]
    },
    {
     "name": "stderr",
     "output_type": "stream",
     "text": [
      "100%|█████████████████████████████████████████████████████████████████████████████████████| 1/1 [00:00<00:00,  4.44it/s]"
     ]
    },
    {
     "name": "stdout",
     "output_type": "stream",
     "text": [
      "1 calculation combinations to check\n",
      "1 new records to prepare\n"
     ]
    },
    {
     "name": "stderr",
     "output_type": "stream",
     "text": [
      "\n",
      "preparing: 100%|##########################################################################| 1/1 [00:00<00:00, 46.75it/s]\n"
     ]
    },
    {
     "name": "stdout",
     "output_type": "stream",
     "text": [
      "2f394285-b26c-47a7-ab4f-519de7e49bda\n",
      "sim calculated successfully\n",
      "\n",
      "2287.500 6.207e-05 2266.306\n",
      "0 existing calculation records provided\n"
     ]
    },
    {
     "name": "stderr",
     "output_type": "stream",
     "text": [
      "100%|█████████████████████████████████████████████████████████████████████████████████████| 1/1 [00:00<00:00,  3.97it/s]"
     ]
    },
    {
     "name": "stdout",
     "output_type": "stream",
     "text": [
      "1 calculation combinations to check\n",
      "1 new records to prepare\n"
     ]
    },
    {
     "name": "stderr",
     "output_type": "stream",
     "text": [
      "\n",
      "preparing: 100%|##########################################################################| 1/1 [00:00<00:00, 41.11it/s]\n"
     ]
    },
    {
     "name": "stdout",
     "output_type": "stream",
     "text": [
      "c66ad99b-4877-4134-b96a-a08d21354b9f\n",
      "sim calculated successfully\n",
      "\n",
      "1168.750 0.953 1162.907\n",
      "0 existing calculation records provided\n"
     ]
    },
    {
     "name": "stderr",
     "output_type": "stream",
     "text": [
      "100%|█████████████████████████████████████████████████████████████████████████████████████| 1/1 [00:00<00:00,  3.87it/s]"
     ]
    },
    {
     "name": "stdout",
     "output_type": "stream",
     "text": [
      "1 calculation combinations to check\n",
      "1 new records to prepare\n"
     ]
    },
    {
     "name": "stderr",
     "output_type": "stream",
     "text": [
      "\n",
      "preparing: 100%|##########################################################################| 1/1 [00:00<00:00, 75.16it/s]\n"
     ]
    },
    {
     "name": "stdout",
     "output_type": "stream",
     "text": [
      "aefae414-16f7-45d3-8e67-b09dbda68fec\n",
      "sim calculated successfully\n",
      "\n",
      "1728.125 0.0004241 1576.380\n",
      "0 existing calculation records provided\n"
     ]
    },
    {
     "name": "stderr",
     "output_type": "stream",
     "text": [
      "100%|█████████████████████████████████████████████████████████████████████████████████████| 1/1 [00:00<00:00,  3.97it/s]"
     ]
    },
    {
     "name": "stdout",
     "output_type": "stream",
     "text": [
      "1 calculation combinations to check\n",
      "1 new records to prepare\n"
     ]
    },
    {
     "name": "stderr",
     "output_type": "stream",
     "text": [
      "\n",
      "preparing: 100%|##########################################################################| 1/1 [00:00<00:00, 40.91it/s]\n"
     ]
    },
    {
     "name": "stdout",
     "output_type": "stream",
     "text": [
      "03019f3d-bb39-4c41-99c7-0e9f17fb4c26\n",
      "sim calculated successfully\n",
      "\n",
      "1448.438 0.7415 1563.671\n",
      "0 existing calculation records provided\n"
     ]
    },
    {
     "name": "stderr",
     "output_type": "stream",
     "text": [
      "100%|█████████████████████████████████████████████████████████████████████████████████████| 1/1 [00:00<00:00,  4.46it/s]"
     ]
    },
    {
     "name": "stdout",
     "output_type": "stream",
     "text": [
      "1 calculation combinations to check\n",
      "1 new records to prepare\n"
     ]
    },
    {
     "name": "stderr",
     "output_type": "stream",
     "text": [
      "\n",
      "preparing: 100%|##########################################################################| 1/1 [00:00<00:00, 41.65it/s]\n"
     ]
    },
    {
     "name": "stdout",
     "output_type": "stream",
     "text": [
      "95e61a65-5573-45c7-b1c0-27f05426e7cc\n",
      "sim calculated successfully\n",
      "\n",
      "1588.281 0.2782 1555.653\n",
      "0 existing calculation records provided\n"
     ]
    },
    {
     "name": "stderr",
     "output_type": "stream",
     "text": [
      "100%|█████████████████████████████████████████████████████████████████████████████████████| 1/1 [00:00<00:00,  3.71it/s]"
     ]
    },
    {
     "name": "stdout",
     "output_type": "stream",
     "text": [
      "1 calculation combinations to check\n",
      "1 new records to prepare\n"
     ]
    },
    {
     "name": "stderr",
     "output_type": "stream",
     "text": [
      "\n",
      "preparing: 100%|##########################################################################| 1/1 [00:00<00:00, 74.63it/s]\n"
     ]
    },
    {
     "name": "stdout",
     "output_type": "stream",
     "text": [
      "54e1b837-5128-4c37-b08b-3875db9ccf28\n",
      "sim calculated successfully\n",
      "\n",
      "1378.516 0.8122 1471.880\n",
      "0 existing calculation records provided\n"
     ]
    },
    {
     "name": "stderr",
     "output_type": "stream",
     "text": [
      "100%|█████████████████████████████████████████████████████████████████████████████████████| 1/1 [00:00<00:00,  4.25it/s]"
     ]
    },
    {
     "name": "stdout",
     "output_type": "stream",
     "text": [
      "1 calculation combinations to check\n",
      "1 new records to prepare\n"
     ]
    },
    {
     "name": "stderr",
     "output_type": "stream",
     "text": [
      "\n",
      "preparing: 100%|##########################################################################| 1/1 [00:00<00:00, 80.77it/s]\n"
     ]
    },
    {
     "name": "stdout",
     "output_type": "stream",
     "text": [
      "7630e822-8c6b-4d42-aee2-5afcaa7c6fb0\n",
      "sim calculated successfully\n",
      "\n",
      "1553.320 0.3844 1546.322\n",
      "0 existing calculation records provided\n"
     ]
    },
    {
     "name": "stderr",
     "output_type": "stream",
     "text": [
      "100%|█████████████████████████████████████████████████████████████████████████████████████| 1/1 [00:00<00:00,  4.14it/s]"
     ]
    },
    {
     "name": "stdout",
     "output_type": "stream",
     "text": [
      "1 calculation combinations to check\n",
      "1 new records to prepare\n"
     ]
    },
    {
     "name": "stderr",
     "output_type": "stream",
     "text": [
      "\n",
      "preparing: 100%|##########################################################################| 1/1 [00:00<00:00, 77.36it/s]\n"
     ]
    },
    {
     "name": "stdout",
     "output_type": "stream",
     "text": [
      "e0bce6b7-dc2c-4561-9108-6562057e5065\n",
      "sim calculated successfully\n",
      "\n",
      "1465.918 0.7267 1578.652\n",
      "0 existing calculation records provided\n"
     ]
    },
    {
     "name": "stderr",
     "output_type": "stream",
     "text": [
      "100%|█████████████████████████████████████████████████████████████████████████████████████| 1/1 [00:00<00:00,  3.85it/s]"
     ]
    },
    {
     "name": "stdout",
     "output_type": "stream",
     "text": [
      "1 calculation combinations to check\n",
      "1 new records to prepare\n"
     ]
    },
    {
     "name": "stderr",
     "output_type": "stream",
     "text": [
      "\n",
      "preparing: 100%|##########################################################################| 1/1 [00:00<00:00, 73.79it/s]\n"
     ]
    },
    {
     "name": "stdout",
     "output_type": "stream",
     "text": [
      "4bb66f0e-3378-42c3-ad4d-39befb39ef07\n",
      "sim calculated successfully\n",
      "\n",
      "1597.021 0.2348 1540.215\n",
      "0 existing calculation records provided\n"
     ]
    },
    {
     "name": "stderr",
     "output_type": "stream",
     "text": [
      "100%|█████████████████████████████████████████████████████████████████████████████████████| 1/1 [00:00<00:00,  3.97it/s]"
     ]
    },
    {
     "name": "stdout",
     "output_type": "stream",
     "text": [
      "1 calculation combinations to check\n",
      "1 new records to prepare\n"
     ]
    },
    {
     "name": "stderr",
     "output_type": "stream",
     "text": [
      "\n",
      "preparing: 100%|##########################################################################| 1/1 [00:00<00:00, 45.01it/s]\n"
     ]
    },
    {
     "name": "stdout",
     "output_type": "stream",
     "text": [
      "43d48b1e-ac47-4dea-b726-4e201e3aa64d\n",
      "sim calculated successfully\n",
      "\n",
      "1487.769 0.6762 1622.125\n",
      "0 existing calculation records provided\n"
     ]
    },
    {
     "name": "stderr",
     "output_type": "stream",
     "text": [
      "100%|█████████████████████████████████████████████████████████████████████████████████████| 1/1 [00:00<00:00,  4.55it/s]"
     ]
    },
    {
     "name": "stdout",
     "output_type": "stream",
     "text": [
      "1 calculation combinations to check\n",
      "1 new records to prepare\n"
     ]
    },
    {
     "name": "stderr",
     "output_type": "stream",
     "text": [
      "\n",
      "preparing: 100%|##########################################################################| 1/1 [00:00<00:00, 46.61it/s]\n"
     ]
    },
    {
     "name": "stdout",
     "output_type": "stream",
     "text": [
      "4a4a3a2f-d08f-4573-a47d-151998aecdb0\n",
      "sim calculated successfully\n",
      "\n",
      "1542.395 0.3972 1551.886\n",
      "0 existing calculation records provided\n"
     ]
    },
    {
     "name": "stderr",
     "output_type": "stream",
     "text": [
      "100%|█████████████████████████████████████████████████████████████████████████████████████| 1/1 [00:00<00:00,  4.11it/s]"
     ]
    },
    {
     "name": "stdout",
     "output_type": "stream",
     "text": [
      "1 calculation combinations to check\n",
      "1 new records to prepare\n"
     ]
    },
    {
     "name": "stderr",
     "output_type": "stream",
     "text": [
      "\n",
      "preparing: 100%|##########################################################################| 1/1 [00:00<00:00, 68.80it/s]\n"
     ]
    },
    {
     "name": "stdout",
     "output_type": "stream",
     "text": [
      "5ce7ce06-37ac-406f-8122-3df979985438\n",
      "sim calculated successfully\n",
      "\n",
      "1460.455 0.7353 1573.659\n",
      "0 existing calculation records provided\n"
     ]
    },
    {
     "name": "stderr",
     "output_type": "stream",
     "text": [
      "100%|█████████████████████████████████████████████████████████████████████████████████████| 1/1 [00:00<00:00,  4.10it/s]"
     ]
    },
    {
     "name": "stdout",
     "output_type": "stream",
     "text": [
      "1 calculation combinations to check\n",
      "1 new records to prepare\n"
     ]
    },
    {
     "name": "stderr",
     "output_type": "stream",
     "text": [
      "\n",
      "preparing: 100%|#########################################################################| 1/1 [00:00<00:00, 114.04it/s]\n"
     ]
    },
    {
     "name": "stdout",
     "output_type": "stream",
     "text": [
      "60b8dc6d-29b8-4470-b53d-4675b0b05892\n",
      "sim calculated successfully\n",
      "\n",
      "1528.738 0.4529 1549.705\n",
      "0 existing calculation records provided\n"
     ]
    },
    {
     "name": "stderr",
     "output_type": "stream",
     "text": [
      "100%|█████████████████████████████████████████████████████████████████████████████████████| 1/1 [00:00<00:00,  3.81it/s]"
     ]
    },
    {
     "name": "stdout",
     "output_type": "stream",
     "text": [
      "1 calculation combinations to check\n",
      "1 new records to prepare\n"
     ]
    },
    {
     "name": "stderr",
     "output_type": "stream",
     "text": [
      "\n",
      "preparing: 100%|##########################################################################| 1/1 [00:00<00:00, 56.64it/s]\n"
     ]
    },
    {
     "name": "stdout",
     "output_type": "stream",
     "text": [
      "71fca697-8dcf-4882-be51-656d9398ccab\n",
      "sim calculated successfully\n",
      "\n",
      "1528.738 0.4418 1544.873\n",
      "0 existing calculation records provided\n"
     ]
    },
    {
     "name": "stderr",
     "output_type": "stream",
     "text": [
      "100%|█████████████████████████████████████████████████████████████████████████████████████| 1/1 [00:00<00:00,  3.23it/s]"
     ]
    },
    {
     "name": "stdout",
     "output_type": "stream",
     "text": [
      "1 calculation combinations to check\n",
      "1 new records to prepare\n"
     ]
    },
    {
     "name": "stderr",
     "output_type": "stream",
     "text": [
      "\n",
      "preparing: 100%|##########################################################################| 1/1 [00:00<00:00, 72.45it/s]\n"
     ]
    },
    {
     "name": "stdout",
     "output_type": "stream",
     "text": [
      "4ce82f3b-4cad-4f70-88ce-986108741bd6\n",
      "sim calculated successfully\n",
      "\n",
      "1528.738 0.4723 1554.409\n",
      "\n",
      "66 2004--Zhou-X-W--Ti--LAMMPS--ipr2\n",
      "0 existing calculation records provided\n"
     ]
    },
    {
     "name": "stderr",
     "output_type": "stream",
     "text": [
      "100%|█████████████████████████████████████████████████████████████████████████████████████| 1/1 [00:00<00:00,  3.41it/s]"
     ]
    },
    {
     "name": "stdout",
     "output_type": "stream",
     "text": [
      "1 calculation combinations to check\n",
      "1 new records to prepare\n"
     ]
    },
    {
     "name": "stderr",
     "output_type": "stream",
     "text": [
      "\n",
      "preparing: 100%|##########################################################################| 1/1 [00:00<00:00, 68.46it/s]\n"
     ]
    },
    {
     "name": "stdout",
     "output_type": "stream",
     "text": [
      "a71e17d1-f917-48b9-a6ea-0f4812b4da77\n",
      "sim calculated successfully\n",
      "\n",
      "4525.000 1.034e-05 4501.607\n",
      "0 existing calculation records provided\n"
     ]
    },
    {
     "name": "stderr",
     "output_type": "stream",
     "text": [
      "100%|█████████████████████████████████████████████████████████████████████████████████████| 1/1 [00:00<00:00,  3.75it/s]"
     ]
    },
    {
     "name": "stdout",
     "output_type": "stream",
     "text": [
      "1 calculation combinations to check\n",
      "1 new records to prepare\n"
     ]
    },
    {
     "name": "stderr",
     "output_type": "stream",
     "text": [
      "\n",
      "preparing: 100%|##########################################################################| 1/1 [00:00<00:00, 73.11it/s]\n"
     ]
    },
    {
     "name": "stdout",
     "output_type": "stream",
     "text": [
      "d546821b-c651-473f-b096-1565a47225e8\n",
      "sim calculated successfully\n",
      "\n",
      "2287.500 8.276e-05 2276.766\n",
      "0 existing calculation records provided\n"
     ]
    },
    {
     "name": "stderr",
     "output_type": "stream",
     "text": [
      "100%|█████████████████████████████████████████████████████████████████████████████████████| 1/1 [00:00<00:00,  3.82it/s]"
     ]
    },
    {
     "name": "stdout",
     "output_type": "stream",
     "text": [
      "1 calculation combinations to check\n",
      "1 new records to prepare\n"
     ]
    },
    {
     "name": "stderr",
     "output_type": "stream",
     "text": [
      "\n",
      "preparing: 100%|##########################################################################| 1/1 [00:00<00:00, 40.65it/s]\n"
     ]
    },
    {
     "name": "stdout",
     "output_type": "stream",
     "text": [
      "1d9e6a51-df61-4e9f-a25a-a936108c8007\n",
      "sim calculated successfully\n",
      "\n",
      "1168.750 0.9546 1162.235\n",
      "0 existing calculation records provided\n"
     ]
    },
    {
     "name": "stderr",
     "output_type": "stream",
     "text": [
      "100%|█████████████████████████████████████████████████████████████████████████████████████| 1/1 [00:00<00:00,  3.46it/s]"
     ]
    },
    {
     "name": "stdout",
     "output_type": "stream",
     "text": [
      "1 calculation combinations to check\n",
      "1 new records to prepare\n"
     ]
    },
    {
     "name": "stderr",
     "output_type": "stream",
     "text": [
      "\n",
      "preparing: 100%|##########################################################################| 1/1 [00:00<00:00, 72.04it/s]\n"
     ]
    },
    {
     "name": "stdout",
     "output_type": "stream",
     "text": [
      "12c70fc9-f2ae-40ff-ba6f-5bd6d9b89e78\n",
      "sim calculated successfully\n",
      "\n",
      "1728.125 0.0003724 1583.947\n",
      "0 existing calculation records provided\n"
     ]
    },
    {
     "name": "stderr",
     "output_type": "stream",
     "text": [
      "100%|█████████████████████████████████████████████████████████████████████████████████████| 1/1 [00:00<00:00,  4.00it/s]"
     ]
    },
    {
     "name": "stdout",
     "output_type": "stream",
     "text": [
      "1 calculation combinations to check\n",
      "1 new records to prepare\n"
     ]
    },
    {
     "name": "stderr",
     "output_type": "stream",
     "text": [
      "\n",
      "preparing: 100%|##########################################################################| 1/1 [00:00<00:00, 76.99it/s]\n"
     ]
    },
    {
     "name": "stdout",
     "output_type": "stream",
     "text": [
      "1a68699c-2292-4dce-8cd6-4f0a2f40665a\n",
      "sim calculated successfully\n",
      "\n",
      "1448.438 0.7411 1564.645\n",
      "0 existing calculation records provided\n"
     ]
    },
    {
     "name": "stderr",
     "output_type": "stream",
     "text": [
      "100%|█████████████████████████████████████████████████████████████████████████████████████| 1/1 [00:00<00:00,  3.11it/s]"
     ]
    },
    {
     "name": "stdout",
     "output_type": "stream",
     "text": [
      "1 calculation combinations to check\n",
      "1 new records to prepare\n"
     ]
    },
    {
     "name": "stderr",
     "output_type": "stream",
     "text": [
      "\n",
      "preparing: 100%|##########################################################################| 1/1 [00:00<00:00, 66.38it/s]\n"
     ]
    },
    {
     "name": "stdout",
     "output_type": "stream",
     "text": [
      "4d6a4fe0-ce98-49bc-b272-2f6308135afc\n",
      "sim calculated successfully\n",
      "\n",
      "1588.281 0.2852 1550.395\n",
      "0 existing calculation records provided\n"
     ]
    },
    {
     "name": "stderr",
     "output_type": "stream",
     "text": [
      "100%|█████████████████████████████████████████████████████████████████████████████████████| 1/1 [00:00<00:00,  3.27it/s]"
     ]
    },
    {
     "name": "stdout",
     "output_type": "stream",
     "text": [
      "1 calculation combinations to check\n",
      "1 new records to prepare\n"
     ]
    },
    {
     "name": "stderr",
     "output_type": "stream",
     "text": [
      "\n",
      "preparing: 100%|##########################################################################| 1/1 [00:00<00:00, 40.24it/s]\n"
     ]
    },
    {
     "name": "stdout",
     "output_type": "stream",
     "text": [
      "434d31b3-9dc1-406d-9068-f2462b4ae86c\n",
      "sim calculated successfully\n",
      "\n",
      "1378.516 0.8165 1475.061\n",
      "0 existing calculation records provided\n"
     ]
    },
    {
     "name": "stderr",
     "output_type": "stream",
     "text": [
      "100%|█████████████████████████████████████████████████████████████████████████████████████| 1/1 [00:00<00:00,  3.69it/s]"
     ]
    },
    {
     "name": "stdout",
     "output_type": "stream",
     "text": [
      "1 calculation combinations to check\n",
      "1 new records to prepare\n"
     ]
    },
    {
     "name": "stderr",
     "output_type": "stream",
     "text": [
      "\n",
      "preparing: 100%|##########################################################################| 1/1 [00:00<00:00, 70.63it/s]\n"
     ]
    },
    {
     "name": "stdout",
     "output_type": "stream",
     "text": [
      "5324c8d9-c7eb-48a1-b831-bfa3e5eb4972\n",
      "sim calculated successfully\n",
      "\n",
      "1553.320 0.4059 1547.353\n",
      "0 existing calculation records provided\n"
     ]
    },
    {
     "name": "stderr",
     "output_type": "stream",
     "text": [
      "100%|█████████████████████████████████████████████████████████████████████████████████████| 1/1 [00:00<00:00,  3.98it/s]"
     ]
    },
    {
     "name": "stdout",
     "output_type": "stream",
     "text": [
      "1 calculation combinations to check\n",
      "1 new records to prepare\n"
     ]
    },
    {
     "name": "stderr",
     "output_type": "stream",
     "text": [
      "\n",
      "preparing: 100%|##########################################################################| 1/1 [00:00<00:00, 27.60it/s]\n"
     ]
    },
    {
     "name": "stdout",
     "output_type": "stream",
     "text": [
      "b6c1c940-d830-4112-b015-8e20e2fb9f01\n",
      "sim calculated successfully\n",
      "\n",
      "1553.320 0.3954 1550.529\n",
      "0 existing calculation records provided\n"
     ]
    },
    {
     "name": "stderr",
     "output_type": "stream",
     "text": [
      "100%|█████████████████████████████████████████████████████████████████████████████████████| 1/1 [00:00<00:00,  3.71it/s]"
     ]
    },
    {
     "name": "stdout",
     "output_type": "stream",
     "text": [
      "1 calculation combinations to check\n",
      "1 new records to prepare\n"
     ]
    },
    {
     "name": "stderr",
     "output_type": "stream",
     "text": [
      "\n",
      "preparing: 100%|##########################################################################| 1/1 [00:00<00:00, 76.69it/s]\n"
     ]
    },
    {
     "name": "stdout",
     "output_type": "stream",
     "text": [
      "b19ecc80-30b7-4d97-a80f-9132112261de\n",
      "sim calculated successfully\n",
      "\n",
      "1465.918 0.717 1582.595\n",
      "0 existing calculation records provided\n"
     ]
    },
    {
     "name": "stderr",
     "output_type": "stream",
     "text": [
      "100%|█████████████████████████████████████████████████████████████████████████████████████| 1/1 [00:00<00:00,  3.80it/s]"
     ]
    },
    {
     "name": "stdout",
     "output_type": "stream",
     "text": [
      "1 calculation combinations to check\n",
      "1 new records to prepare\n"
     ]
    },
    {
     "name": "stderr",
     "output_type": "stream",
     "text": [
      "\n",
      "preparing: 100%|##########################################################################| 1/1 [00:00<00:00, 72.00it/s]\n"
     ]
    },
    {
     "name": "stdout",
     "output_type": "stream",
     "text": [
      "ba0006a7-23f1-49b7-ae42-ccf4e68f74f4\n",
      "sim calculated successfully\n",
      "\n",
      "1597.021 0.2605 1539.896\n",
      "0 existing calculation records provided\n"
     ]
    },
    {
     "name": "stderr",
     "output_type": "stream",
     "text": [
      "100%|█████████████████████████████████████████████████████████████████████████████████████| 1/1 [00:00<00:00,  3.71it/s]"
     ]
    },
    {
     "name": "stdout",
     "output_type": "stream",
     "text": [
      "1 calculation combinations to check\n",
      "1 new records to prepare\n"
     ]
    },
    {
     "name": "stderr",
     "output_type": "stream",
     "text": [
      "\n",
      "preparing: 100%|##########################################################################| 1/1 [00:00<00:00, 65.54it/s]\n"
     ]
    },
    {
     "name": "stdout",
     "output_type": "stream",
     "text": [
      "2f962d9d-b471-420f-a519-4456f4472e66\n",
      "sim calculated successfully\n",
      "\n",
      "1487.769 0.6691 1626.776\n",
      "0 existing calculation records provided\n"
     ]
    },
    {
     "name": "stderr",
     "output_type": "stream",
     "text": [
      "100%|█████████████████████████████████████████████████████████████████████████████████████| 1/1 [00:00<00:00,  3.99it/s]"
     ]
    },
    {
     "name": "stdout",
     "output_type": "stream",
     "text": [
      "1 calculation combinations to check\n",
      "1 new records to prepare\n"
     ]
    },
    {
     "name": "stderr",
     "output_type": "stream",
     "text": [
      "\n",
      "preparing: 100%|##########################################################################| 1/1 [00:00<00:00, 37.85it/s]\n"
     ]
    },
    {
     "name": "stdout",
     "output_type": "stream",
     "text": [
      "d2a2e08c-574b-4d33-99c7-3327ec89c2ce\n",
      "sim calculated successfully\n",
      "\n",
      "1607.947 0.2536 1553.229\n",
      "0 existing calculation records provided\n"
     ]
    },
    {
     "name": "stderr",
     "output_type": "stream",
     "text": [
      "100%|█████████████████████████████████████████████████████████████████████████████████████| 1/1 [00:00<00:00,  3.90it/s]"
     ]
    },
    {
     "name": "stdout",
     "output_type": "stream",
     "text": [
      "1 calculation combinations to check\n",
      "1 new records to prepare\n"
     ]
    },
    {
     "name": "stderr",
     "output_type": "stream",
     "text": [
      "\n",
      "preparing: 100%|##########################################################################| 1/1 [00:00<00:00, 76.45it/s]\n"
     ]
    },
    {
     "name": "stdout",
     "output_type": "stream",
     "text": [
      "b6bf4d84-2517-4c69-9f63-1ef80fa2a27a\n",
      "sim calculated successfully\n",
      "\n",
      "1493.231 0.6832 1616.197\n",
      "0 existing calculation records provided\n"
     ]
    },
    {
     "name": "stderr",
     "output_type": "stream",
     "text": [
      "100%|█████████████████████████████████████████████████████████████████████████████████████| 1/1 [00:00<00:00,  4.02it/s]"
     ]
    },
    {
     "name": "stdout",
     "output_type": "stream",
     "text": [
      "1 calculation combinations to check\n",
      "1 new records to prepare\n"
     ]
    },
    {
     "name": "stderr",
     "output_type": "stream",
     "text": [
      "\n",
      "preparing: 100%|##########################################################################| 1/1 [00:00<00:00, 36.96it/s]\n"
     ]
    },
    {
     "name": "stdout",
     "output_type": "stream",
     "text": [
      "a2f6d340-65a0-4dd6-a251-69dad802d3f7\n",
      "sim calculated successfully\n",
      "\n",
      "1610.678 0.2205 1540.948\n",
      "0 existing calculation records provided\n"
     ]
    },
    {
     "name": "stderr",
     "output_type": "stream",
     "text": [
      "100%|█████████████████████████████████████████████████████████████████████████████████████| 1/1 [00:00<00:00,  3.94it/s]"
     ]
    },
    {
     "name": "stdout",
     "output_type": "stream",
     "text": [
      "1 calculation combinations to check\n",
      "1 new records to prepare\n"
     ]
    },
    {
     "name": "stderr",
     "output_type": "stream",
     "text": [
      "\n",
      "preparing: 100%|##########################################################################| 1/1 [00:00<00:00, 79.69it/s]\n"
     ]
    },
    {
     "name": "stdout",
     "output_type": "stream",
     "text": [
      "b2402d2f-701e-446e-951d-1feddf67bc85\n",
      "sim calculated successfully\n",
      "\n",
      "1494.597 0.6692 1622.152\n",
      "\n",
      "67 2004--Zhou-X-W--W--LAMMPS--ipr1\n",
      "0 existing calculation records provided\n"
     ]
    },
    {
     "name": "stderr",
     "output_type": "stream",
     "text": [
      "100%|█████████████████████████████████████████████████████████████████████████████████████| 1/1 [00:00<00:00,  3.94it/s]"
     ]
    },
    {
     "name": "stdout",
     "output_type": "stream",
     "text": [
      "1 calculation combinations to check\n",
      "1 new records to prepare\n"
     ]
    },
    {
     "name": "stderr",
     "output_type": "stream",
     "text": [
      "\n",
      "preparing: 100%|##########################################################################| 1/1 [00:00<00:00, 81.67it/s]\n"
     ]
    },
    {
     "name": "stdout",
     "output_type": "stream",
     "text": [
      "910b7c88-af00-472d-a408-184288bd9970\n",
      "sim calculated successfully\n",
      "\n",
      "4525.000 0.5432 4582.081\n",
      "0 existing calculation records provided\n"
     ]
    },
    {
     "name": "stderr",
     "output_type": "stream",
     "text": [
      "100%|█████████████████████████████████████████████████████████████████████████████████████| 1/1 [00:00<00:00,  3.37it/s]"
     ]
    },
    {
     "name": "stdout",
     "output_type": "stream",
     "text": [
      "1 calculation combinations to check\n",
      "1 new records to prepare\n"
     ]
    },
    {
     "name": "stderr",
     "output_type": "stream",
     "text": [
      "\n",
      "preparing: 100%|##########################################################################| 1/1 [00:00<00:00, 77.27it/s]\n"
     ]
    },
    {
     "name": "stdout",
     "output_type": "stream",
     "text": [
      "3d0b77c0-b359-4949-b633-25aa87aecdee\n",
      "sim calculated successfully\n",
      "\n",
      "4525.000 0.5292 4586.363\n",
      "0 existing calculation records provided\n"
     ]
    },
    {
     "name": "stderr",
     "output_type": "stream",
     "text": [
      "100%|█████████████████████████████████████████████████████████████████████████████████████| 1/1 [00:00<00:00,  4.12it/s]"
     ]
    },
    {
     "name": "stdout",
     "output_type": "stream",
     "text": [
      "1 calculation combinations to check\n",
      "1 new records to prepare\n"
     ]
    },
    {
     "name": "stderr",
     "output_type": "stream",
     "text": [
      "\n",
      "preparing: 100%|##########################################################################| 1/1 [00:00<00:00, 82.39it/s]\n"
     ]
    },
    {
     "name": "stdout",
     "output_type": "stream",
     "text": [
      "6fdc7b2a-6d5f-42c7-87e0-27f09f0081af\n",
      "sim calculated successfully\n",
      "\n",
      "4525.000 0.5161 4580.839\n",
      "0 existing calculation records provided\n"
     ]
    },
    {
     "name": "stderr",
     "output_type": "stream",
     "text": [
      "100%|█████████████████████████████████████████████████████████████████████████████████████| 1/1 [00:00<00:00,  4.01it/s]"
     ]
    },
    {
     "name": "stdout",
     "output_type": "stream",
     "text": [
      "1 calculation combinations to check\n",
      "1 new records to prepare\n"
     ]
    },
    {
     "name": "stderr",
     "output_type": "stream",
     "text": [
      "\n",
      "preparing: 100%|##########################################################################| 1/1 [00:00<00:00, 68.79it/s]\n"
     ]
    },
    {
     "name": "stdout",
     "output_type": "stream",
     "text": [
      "349cb8d4-426a-44ba-8e87-b07952308f3a\n",
      "sim calculated successfully\n",
      "\n",
      "4525.000 0.5383 4598.391\n",
      "0 existing calculation records provided\n"
     ]
    },
    {
     "name": "stderr",
     "output_type": "stream",
     "text": [
      "100%|█████████████████████████████████████████████████████████████████████████████████████| 1/1 [00:00<00:00,  3.89it/s]"
     ]
    },
    {
     "name": "stdout",
     "output_type": "stream",
     "text": [
      "1 calculation combinations to check\n",
      "1 new records to prepare\n"
     ]
    },
    {
     "name": "stderr",
     "output_type": "stream",
     "text": [
      "\n",
      "preparing: 100%|##########################################################################| 1/1 [00:00<00:00, 71.03it/s]\n"
     ]
    },
    {
     "name": "stdout",
     "output_type": "stream",
     "text": [
      "fafbe617-16b6-4051-bb3c-0a63d9a9bcb4\n",
      "sim calculated successfully\n",
      "\n",
      "4525.000 0.5381 4606.291\n",
      "0 existing calculation records provided\n"
     ]
    },
    {
     "name": "stderr",
     "output_type": "stream",
     "text": [
      "100%|█████████████████████████████████████████████████████████████████████████████████████| 1/1 [00:00<00:00,  3.50it/s]"
     ]
    },
    {
     "name": "stdout",
     "output_type": "stream",
     "text": [
      "1 calculation combinations to check\n",
      "1 new records to prepare\n"
     ]
    },
    {
     "name": "stderr",
     "output_type": "stream",
     "text": [
      "\n",
      "preparing: 100%|##########################################################################| 1/1 [00:00<00:00, 78.41it/s]\n"
     ]
    },
    {
     "name": "stdout",
     "output_type": "stream",
     "text": [
      "76d159b9-5474-4dbf-8293-300a763de069\n",
      "sim calculated successfully\n",
      "\n",
      "4525.000 0.5141 4577.387\n",
      "0 existing calculation records provided\n"
     ]
    },
    {
     "name": "stderr",
     "output_type": "stream",
     "text": [
      "100%|█████████████████████████████████████████████████████████████████████████████████████| 1/1 [00:00<00:00,  3.45it/s]"
     ]
    },
    {
     "name": "stdout",
     "output_type": "stream",
     "text": [
      "1 calculation combinations to check\n",
      "1 new records to prepare\n"
     ]
    },
    {
     "name": "stderr",
     "output_type": "stream",
     "text": [
      "\n",
      "preparing: 100%|##########################################################################| 1/1 [00:00<00:00, 79.88it/s]\n"
     ]
    },
    {
     "name": "stdout",
     "output_type": "stream",
     "text": [
      "e99ee6b9-cea0-4b04-8f2b-312fc47d251f\n",
      "sim calculated successfully\n",
      "\n",
      "4525.000 0.528 4598.648\n",
      "0 existing calculation records provided\n"
     ]
    },
    {
     "name": "stderr",
     "output_type": "stream",
     "text": [
      "100%|█████████████████████████████████████████████████████████████████████████████████████| 1/1 [00:00<00:00,  4.27it/s]"
     ]
    },
    {
     "name": "stdout",
     "output_type": "stream",
     "text": [
      "1 calculation combinations to check\n",
      "1 new records to prepare\n"
     ]
    },
    {
     "name": "stderr",
     "output_type": "stream",
     "text": [
      "\n",
      "preparing: 100%|##########################################################################| 1/1 [00:00<00:00, 82.38it/s]\n"
     ]
    },
    {
     "name": "stdout",
     "output_type": "stream",
     "text": [
      "985bf64b-522b-43ab-8149-e2f67552e98f\n",
      "sim calculated successfully\n",
      "\n",
      "4525.000 0.5256 4590.110\n",
      "0 existing calculation records provided\n"
     ]
    },
    {
     "name": "stderr",
     "output_type": "stream",
     "text": [
      "100%|█████████████████████████████████████████████████████████████████████████████████████| 1/1 [00:00<00:00,  3.86it/s]"
     ]
    },
    {
     "name": "stdout",
     "output_type": "stream",
     "text": [
      "1 calculation combinations to check\n",
      "1 new records to prepare\n"
     ]
    },
    {
     "name": "stderr",
     "output_type": "stream",
     "text": [
      "\n",
      "preparing: 100%|##########################################################################| 1/1 [00:00<00:00, 67.45it/s]\n"
     ]
    },
    {
     "name": "stdout",
     "output_type": "stream",
     "text": [
      "a3fec54f-c1f4-41d7-b46b-9658c2256ec7\n",
      "sim calculated successfully\n",
      "\n",
      "4525.000 0.5359 4565.397\n",
      "0 existing calculation records provided\n"
     ]
    },
    {
     "name": "stderr",
     "output_type": "stream",
     "text": [
      "100%|█████████████████████████████████████████████████████████████████████████████████████| 1/1 [00:00<00:00,  3.95it/s]"
     ]
    },
    {
     "name": "stdout",
     "output_type": "stream",
     "text": [
      "1 calculation combinations to check\n",
      "1 new records to prepare\n"
     ]
    },
    {
     "name": "stderr",
     "output_type": "stream",
     "text": [
      "\n",
      "preparing: 100%|##########################################################################| 1/1 [00:00<00:00, 38.41it/s]\n"
     ]
    },
    {
     "name": "stdout",
     "output_type": "stream",
     "text": [
      "08b65ed6-f383-4475-b682-ac9279969ff5\n",
      "sim calculated successfully\n",
      "\n",
      "4525.000 0.5289 4606.325\n",
      "\n",
      "68 2004--Zhou-X-W--W--LAMMPS--ipr2\n",
      "0 existing calculation records provided\n"
     ]
    },
    {
     "name": "stderr",
     "output_type": "stream",
     "text": [
      "100%|█████████████████████████████████████████████████████████████████████████████████████| 1/1 [00:00<00:00,  4.00it/s]"
     ]
    },
    {
     "name": "stdout",
     "output_type": "stream",
     "text": [
      "1 calculation combinations to check\n",
      "1 new records to prepare\n"
     ]
    },
    {
     "name": "stderr",
     "output_type": "stream",
     "text": [
      "\n",
      "preparing: 100%|##########################################################################| 1/1 [00:00<00:00, 45.35it/s]\n"
     ]
    },
    {
     "name": "stdout",
     "output_type": "stream",
     "text": [
      "6247c593-39a3-41b3-8998-882d29d309ca\n",
      "sim calculated successfully\n",
      "\n",
      "4525.000 0.5187 4574.557\n",
      "0 existing calculation records provided\n"
     ]
    },
    {
     "name": "stderr",
     "output_type": "stream",
     "text": [
      "100%|█████████████████████████████████████████████████████████████████████████████████████| 1/1 [00:00<00:00,  3.80it/s]"
     ]
    },
    {
     "name": "stdout",
     "output_type": "stream",
     "text": [
      "1 calculation combinations to check\n",
      "1 new records to prepare\n"
     ]
    },
    {
     "name": "stderr",
     "output_type": "stream",
     "text": [
      "\n",
      "preparing: 100%|##########################################################################| 1/1 [00:00<00:00, 39.37it/s]\n"
     ]
    },
    {
     "name": "stdout",
     "output_type": "stream",
     "text": [
      "1cc8cdf5-69a3-4e67-9a57-13dc72030a4a\n",
      "sim calculated successfully\n",
      "\n",
      "4525.000 0.5625 4570.610\n",
      "0 existing calculation records provided\n"
     ]
    },
    {
     "name": "stderr",
     "output_type": "stream",
     "text": [
      "100%|█████████████████████████████████████████████████████████████████████████████████████| 1/1 [00:00<00:00,  3.92it/s]"
     ]
    },
    {
     "name": "stdout",
     "output_type": "stream",
     "text": [
      "1 calculation combinations to check\n",
      "1 new records to prepare\n"
     ]
    },
    {
     "name": "stderr",
     "output_type": "stream",
     "text": [
      "\n",
      "preparing: 100%|##########################################################################| 1/1 [00:00<00:00, 41.38it/s]\n"
     ]
    },
    {
     "name": "stdout",
     "output_type": "stream",
     "text": [
      "6e34d3bd-5b29-435c-a21a-7456cef645d5\n",
      "sim calculated successfully\n",
      "\n",
      "4525.000 0.5161 4585.761\n",
      "0 existing calculation records provided\n"
     ]
    },
    {
     "name": "stderr",
     "output_type": "stream",
     "text": [
      "100%|█████████████████████████████████████████████████████████████████████████████████████| 1/1 [00:00<00:00,  4.09it/s]"
     ]
    },
    {
     "name": "stdout",
     "output_type": "stream",
     "text": [
      "1 calculation combinations to check\n",
      "1 new records to prepare\n"
     ]
    },
    {
     "name": "stderr",
     "output_type": "stream",
     "text": [
      "\n",
      "preparing: 100%|##########################################################################| 1/1 [00:00<00:00, 39.81it/s]\n"
     ]
    },
    {
     "name": "stdout",
     "output_type": "stream",
     "text": [
      "b57137e2-dc98-4f0c-a103-f7dc01ae5883\n",
      "sim calculated successfully\n",
      "\n",
      "4525.000 0.5269 4607.249\n",
      "0 existing calculation records provided\n"
     ]
    },
    {
     "name": "stderr",
     "output_type": "stream",
     "text": [
      "100%|█████████████████████████████████████████████████████████████████████████████████████| 1/1 [00:00<00:00,  3.95it/s]"
     ]
    },
    {
     "name": "stdout",
     "output_type": "stream",
     "text": [
      "1 calculation combinations to check\n",
      "1 new records to prepare\n"
     ]
    },
    {
     "name": "stderr",
     "output_type": "stream",
     "text": [
      "\n",
      "preparing: 100%|##########################################################################| 1/1 [00:00<00:00, 74.48it/s]\n"
     ]
    },
    {
     "name": "stdout",
     "output_type": "stream",
     "text": [
      "b93d13db-5da3-483f-b6fe-1aef3de4bc59\n",
      "sim calculated successfully\n",
      "\n",
      "4525.000 0.5336 4589.228\n",
      "0 existing calculation records provided\n"
     ]
    },
    {
     "name": "stderr",
     "output_type": "stream",
     "text": [
      "100%|█████████████████████████████████████████████████████████████████████████████████████| 1/1 [00:00<00:00,  3.88it/s]"
     ]
    },
    {
     "name": "stdout",
     "output_type": "stream",
     "text": [
      "1 calculation combinations to check\n",
      "1 new records to prepare\n"
     ]
    },
    {
     "name": "stderr",
     "output_type": "stream",
     "text": [
      "\n",
      "preparing: 100%|##########################################################################| 1/1 [00:00<00:00, 67.19it/s]\n"
     ]
    },
    {
     "name": "stdout",
     "output_type": "stream",
     "text": [
      "b82bb361-30ca-4599-857f-6c84df770eb8\n",
      "sim calculated successfully\n",
      "\n",
      "4525.000 0.5218 4572.411\n",
      "0 existing calculation records provided\n"
     ]
    },
    {
     "name": "stderr",
     "output_type": "stream",
     "text": [
      "100%|█████████████████████████████████████████████████████████████████████████████████████| 1/1 [00:00<00:00,  3.85it/s]"
     ]
    },
    {
     "name": "stdout",
     "output_type": "stream",
     "text": [
      "1 calculation combinations to check\n",
      "1 new records to prepare\n"
     ]
    },
    {
     "name": "stderr",
     "output_type": "stream",
     "text": [
      "\n",
      "preparing: 100%|##########################################################################| 1/1 [00:00<00:00, 74.87it/s]\n"
     ]
    },
    {
     "name": "stdout",
     "output_type": "stream",
     "text": [
      "c6fe4107-f19b-4915-a324-4d2a7f5c9e50\n",
      "sim calculated successfully\n",
      "\n",
      "4525.000 0.6266 4668.169\n",
      "0 existing calculation records provided\n"
     ]
    },
    {
     "name": "stderr",
     "output_type": "stream",
     "text": [
      "100%|█████████████████████████████████████████████████████████████████████████████████████| 1/1 [00:00<00:00,  3.83it/s]"
     ]
    },
    {
     "name": "stdout",
     "output_type": "stream",
     "text": [
      "1 calculation combinations to check\n",
      "1 new records to prepare\n"
     ]
    },
    {
     "name": "stderr",
     "output_type": "stream",
     "text": [
      "\n",
      "preparing: 100%|##########################################################################| 1/1 [00:00<00:00, 72.11it/s]\n"
     ]
    },
    {
     "name": "stdout",
     "output_type": "stream",
     "text": [
      "2f0e5a78-fc9f-46e4-8b0e-442d2dc9de98\n",
      "sim calculated successfully\n",
      "\n",
      "6762.500 0.0 6686.153\n",
      "0 existing calculation records provided\n"
     ]
    },
    {
     "name": "stderr",
     "output_type": "stream",
     "text": [
      "100%|█████████████████████████████████████████████████████████████████████████████████████| 1/1 [00:00<00:00,  3.85it/s]"
     ]
    },
    {
     "name": "stdout",
     "output_type": "stream",
     "text": [
      "1 calculation combinations to check\n",
      "1 new records to prepare\n"
     ]
    },
    {
     "name": "stderr",
     "output_type": "stream",
     "text": [
      "\n",
      "preparing: 100%|##########################################################################| 1/1 [00:00<00:00, 41.21it/s]\n"
     ]
    },
    {
     "name": "stdout",
     "output_type": "stream",
     "text": [
      "afc275c6-a95f-48c4-87e5-9bfa52041550\n",
      "sim calculated successfully\n",
      "\n",
      "3406.250 0.9903 3389.610\n",
      "0 existing calculation records provided\n"
     ]
    },
    {
     "name": "stderr",
     "output_type": "stream",
     "text": [
      "100%|█████████████████████████████████████████████████████████████████████████████████████| 1/1 [00:00<00:00,  3.25it/s]"
     ]
    },
    {
     "name": "stdout",
     "output_type": "stream",
     "text": [
      "1 calculation combinations to check\n",
      "1 new records to prepare\n"
     ]
    },
    {
     "name": "stderr",
     "output_type": "stream",
     "text": [
      "\n",
      "preparing: 100%|##########################################################################| 1/1 [00:00<00:00, 76.82it/s]\n"
     ]
    },
    {
     "name": "stdout",
     "output_type": "stream",
     "text": [
      "98db26db-fc69-47ec-8167-0f108d929f73\n",
      "sim calculated successfully\n",
      "\n",
      "5084.375 0.0003724 4498.065\n",
      "0 existing calculation records provided\n"
     ]
    },
    {
     "name": "stderr",
     "output_type": "stream",
     "text": [
      "100%|█████████████████████████████████████████████████████████████████████████████████████| 1/1 [00:00<00:00,  3.47it/s]"
     ]
    },
    {
     "name": "stdout",
     "output_type": "stream",
     "text": [
      "1 calculation combinations to check\n",
      "1 new records to prepare\n"
     ]
    },
    {
     "name": "stderr",
     "output_type": "stream",
     "text": [
      "\n",
      "preparing: 100%|##########################################################################| 1/1 [00:00<00:00, 76.43it/s]\n"
     ]
    },
    {
     "name": "stdout",
     "output_type": "stream",
     "text": [
      "73706b45-c48f-4fa0-8b21-95a32fa5e679\n",
      "sim calculated successfully\n",
      "\n",
      "4245.312 0.8605 4626.567\n",
      "0 existing calculation records provided\n"
     ]
    },
    {
     "name": "stderr",
     "output_type": "stream",
     "text": [
      "100%|█████████████████████████████████████████████████████████████████████████████████████| 1/1 [00:00<00:00,  3.79it/s]"
     ]
    },
    {
     "name": "stdout",
     "output_type": "stream",
     "text": [
      "1 calculation combinations to check\n",
      "1 new records to prepare\n"
     ]
    },
    {
     "name": "stderr",
     "output_type": "stream",
     "text": [
      "\n",
      "preparing: 100%|##########################################################################| 1/1 [00:00<00:00, 38.52it/s]\n"
     ]
    },
    {
     "name": "stdout",
     "output_type": "stream",
     "text": [
      "40b9837c-7121-4760-8ef9-c515356d9b1a\n",
      "sim calculated successfully\n",
      "\n",
      "4664.844 0.3803 4594.253\n",
      "0 existing calculation records provided\n"
     ]
    },
    {
     "name": "stderr",
     "output_type": "stream",
     "text": [
      "100%|█████████████████████████████████████████████████████████████████████████████████████| 1/1 [00:00<00:00,  3.86it/s]"
     ]
    },
    {
     "name": "stdout",
     "output_type": "stream",
     "text": [
      "1 calculation combinations to check\n",
      "1 new records to prepare\n"
     ]
    },
    {
     "name": "stderr",
     "output_type": "stream",
     "text": [
      "\n",
      "preparing: 100%|##########################################################################| 1/1 [00:00<00:00, 36.84it/s]\n"
     ]
    },
    {
     "name": "stdout",
     "output_type": "stream",
     "text": [
      "c06d035b-bb27-4e7b-a36a-beb7cb76280a\n",
      "sim calculated successfully\n",
      "\n",
      "4455.078 0.7559 4863.092\n",
      "0 existing calculation records provided\n"
     ]
    },
    {
     "name": "stderr",
     "output_type": "stream",
     "text": [
      "100%|█████████████████████████████████████████████████████████████████████████████████████| 1/1 [00:00<00:00,  3.87it/s]"
     ]
    },
    {
     "name": "stdout",
     "output_type": "stream",
     "text": [
      "1 calculation combinations to check\n",
      "1 new records to prepare\n"
     ]
    },
    {
     "name": "stderr",
     "output_type": "stream",
     "text": [
      "\n",
      "preparing: 100%|##########################################################################| 1/1 [00:00<00:00, 43.11it/s]\n"
     ]
    },
    {
     "name": "stdout",
     "output_type": "stream",
     "text": [
      "fea1e6a4-6b0e-4d43-8889-ddbc3dd6d70b\n",
      "sim calculated successfully\n",
      "\n",
      "4769.727 0.3189 4580.055\n",
      "0 existing calculation records provided\n"
     ]
    },
    {
     "name": "stderr",
     "output_type": "stream",
     "text": [
      "100%|█████████████████████████████████████████████████████████████████████████████████████| 1/1 [00:00<00:00,  3.82it/s]"
     ]
    },
    {
     "name": "stdout",
     "output_type": "stream",
     "text": [
      "1 calculation combinations to check\n",
      "1 new records to prepare\n"
     ]
    },
    {
     "name": "stderr",
     "output_type": "stream",
     "text": [
      "\n",
      "preparing: 100%|##########################################################################| 1/1 [00:00<00:00, 78.25it/s]\n"
     ]
    },
    {
     "name": "stdout",
     "output_type": "stream",
     "text": [
      "de07e01b-185f-4419-9e90-4e43990be6d2\n",
      "sim calculated successfully\n",
      "\n",
      "4612.402 0.4633 4598.423\n",
      "\n",
      "69 2004--Zhou-X-W--Zr--LAMMPS--ipr1\n",
      "0 existing calculation records provided\n"
     ]
    },
    {
     "name": "stderr",
     "output_type": "stream",
     "text": [
      "100%|█████████████████████████████████████████████████████████████████████████████████████| 1/1 [00:00<00:00,  3.54it/s]"
     ]
    },
    {
     "name": "stdout",
     "output_type": "stream",
     "text": [
      "1 calculation combinations to check\n",
      "1 new records to prepare\n"
     ]
    },
    {
     "name": "stderr",
     "output_type": "stream",
     "text": [
      "\n",
      "preparing: 100%|##########################################################################| 1/1 [00:00<00:00, 92.33it/s]\n"
     ]
    },
    {
     "name": "stdout",
     "output_type": "stream",
     "text": [
      "210dba7f-a1d3-44a2-9050-8b48077f6ad9\n",
      "sim calculated successfully\n",
      "\n",
      "4525.000 0.0 4487.904\n",
      "0 existing calculation records provided\n"
     ]
    },
    {
     "name": "stderr",
     "output_type": "stream",
     "text": [
      "100%|█████████████████████████████████████████████████████████████████████████████████████| 1/1 [00:00<00:00,  3.27it/s]"
     ]
    },
    {
     "name": "stdout",
     "output_type": "stream",
     "text": [
      "1 calculation combinations to check\n",
      "1 new records to prepare\n"
     ]
    },
    {
     "name": "stderr",
     "output_type": "stream",
     "text": [
      "\n",
      "preparing: 100%|##########################################################################| 1/1 [00:00<00:00, 74.23it/s]\n"
     ]
    },
    {
     "name": "stdout",
     "output_type": "stream",
     "text": [
      "4da0ecc8-3b43-425f-91f7-9a4b00beed1b\n",
      "sim calculated successfully\n",
      "\n",
      "2287.500 0.0001655 2216.448\n",
      "0 existing calculation records provided\n"
     ]
    },
    {
     "name": "stderr",
     "output_type": "stream",
     "text": [
      "100%|█████████████████████████████████████████████████████████████████████████████████████| 1/1 [00:00<00:00,  3.37it/s]"
     ]
    },
    {
     "name": "stdout",
     "output_type": "stream",
     "text": [
      "1 calculation combinations to check\n",
      "1 new records to prepare\n"
     ]
    },
    {
     "name": "stderr",
     "output_type": "stream",
     "text": [
      "\n",
      "preparing: 100%|##########################################################################| 1/1 [00:00<00:00, 70.68it/s]\n"
     ]
    },
    {
     "name": "stdout",
     "output_type": "stream",
     "text": [
      "ad416794-991b-41f9-a7f8-77ad3c068c42\n",
      "sim calculated successfully\n",
      "\n",
      "1168.750 0.9814 1164.535\n",
      "0 existing calculation records provided\n"
     ]
    },
    {
     "name": "stderr",
     "output_type": "stream",
     "text": [
      "100%|█████████████████████████████████████████████████████████████████████████████████████| 1/1 [00:00<00:00,  3.54it/s]"
     ]
    },
    {
     "name": "stdout",
     "output_type": "stream",
     "text": [
      "1 calculation combinations to check\n",
      "1 new records to prepare\n"
     ]
    },
    {
     "name": "stderr",
     "output_type": "stream",
     "text": [
      "\n",
      "preparing: 100%|##########################################################################| 1/1 [00:00<00:00, 76.94it/s]\n"
     ]
    },
    {
     "name": "stdout",
     "output_type": "stream",
     "text": [
      "9877529b-8149-4b1a-80bf-7e3374c6cf11\n",
      "sim calculated successfully\n",
      "\n",
      "1728.125 0.6013 1849.307\n",
      "0 existing calculation records provided\n"
     ]
    },
    {
     "name": "stderr",
     "output_type": "stream",
     "text": [
      "100%|█████████████████████████████████████████████████████████████████████████████████████| 1/1 [00:00<00:00,  3.93it/s]"
     ]
    },
    {
     "name": "stdout",
     "output_type": "stream",
     "text": [
      "1 calculation combinations to check\n",
      "1 new records to prepare\n"
     ]
    },
    {
     "name": "stderr",
     "output_type": "stream",
     "text": [
      "\n",
      "preparing: 100%|##########################################################################| 1/1 [00:00<00:00, 79.00it/s]\n"
     ]
    },
    {
     "name": "stdout",
     "output_type": "stream",
     "text": [
      "cd0904fe-b9f9-47f8-9e87-c3708d56fe1a\n",
      "sim calculated successfully\n",
      "\n",
      "2007.812 0.0003828 1849.816\n",
      "0 existing calculation records provided\n"
     ]
    },
    {
     "name": "stderr",
     "output_type": "stream",
     "text": [
      "100%|█████████████████████████████████████████████████████████████████████████████████████| 1/1 [00:00<00:00,  4.48it/s]"
     ]
    },
    {
     "name": "stdout",
     "output_type": "stream",
     "text": [
      "1 calculation combinations to check\n",
      "1 new records to prepare\n"
     ]
    },
    {
     "name": "stderr",
     "output_type": "stream",
     "text": [
      "\n",
      "preparing: 100%|#########################################################################| 1/1 [00:00<00:00, 106.11it/s]\n"
     ]
    },
    {
     "name": "stdout",
     "output_type": "stream",
     "text": [
      "ee3a7698-7437-4547-99ef-8775025dec16\n",
      "sim calculated successfully\n",
      "\n",
      "1588.281 0.7899 1698.523\n",
      "0 existing calculation records provided\n"
     ]
    },
    {
     "name": "stderr",
     "output_type": "stream",
     "text": [
      "100%|█████████████████████████████████████████████████████████████████████████████████████| 1/1 [00:00<00:00,  3.19it/s]"
     ]
    },
    {
     "name": "stdout",
     "output_type": "stream",
     "text": [
      "1 calculation combinations to check\n",
      "1 new records to prepare\n"
     ]
    },
    {
     "name": "stderr",
     "output_type": "stream",
     "text": [
      "\n",
      "preparing: 100%|##########################################################################| 1/1 [00:00<00:00, 79.85it/s]\n"
     ]
    },
    {
     "name": "stdout",
     "output_type": "stream",
     "text": [
      "94531aa3-155a-4b59-94f6-c47081435382\n",
      "sim calculated successfully\n",
      "\n",
      "1798.047 0.2705 1747.912\n",
      "0 existing calculation records provided\n"
     ]
    },
    {
     "name": "stderr",
     "output_type": "stream",
     "text": [
      "100%|█████████████████████████████████████████████████████████████████████████████████████| 1/1 [00:00<00:00,  3.33it/s]"
     ]
    },
    {
     "name": "stdout",
     "output_type": "stream",
     "text": [
      "1 calculation combinations to check\n",
      "1 new records to prepare\n"
     ]
    },
    {
     "name": "stderr",
     "output_type": "stream",
     "text": [
      "\n",
      "preparing: 100%|##########################################################################| 1/1 [00:00<00:00, 73.69it/s]\n"
     ]
    },
    {
     "name": "stdout",
     "output_type": "stream",
     "text": [
      "2290ac1d-879c-4db9-93ce-cb372d1c9a92\n",
      "sim calculated successfully\n",
      "\n",
      "1693.164 0.6613 1836.639\n",
      "0 existing calculation records provided\n"
     ]
    },
    {
     "name": "stderr",
     "output_type": "stream",
     "text": [
      "100%|█████████████████████████████████████████████████████████████████████████████████████| 1/1 [00:00<00:00,  3.42it/s]"
     ]
    },
    {
     "name": "stdout",
     "output_type": "stream",
     "text": [
      "1 calculation combinations to check\n",
      "1 new records to prepare\n"
     ]
    },
    {
     "name": "stderr",
     "output_type": "stream",
     "text": [
      "\n",
      "preparing: 100%|##########################################################################| 1/1 [00:00<00:00, 78.64it/s]\n"
     ]
    },
    {
     "name": "stdout",
     "output_type": "stream",
     "text": [
      "6c50c101-3882-4c60-8b6a-a520f6b13392\n",
      "sim calculated successfully\n",
      "\n",
      "1850.488 0.1264 1737.473\n",
      "0 existing calculation records provided\n"
     ]
    },
    {
     "name": "stderr",
     "output_type": "stream",
     "text": [
      "100%|█████████████████████████████████████████████████████████████████████████████████████| 1/1 [00:00<00:00,  4.04it/s]"
     ]
    },
    {
     "name": "stdout",
     "output_type": "stream",
     "text": [
      "1 calculation combinations to check\n",
      "1 new records to prepare\n"
     ]
    },
    {
     "name": "stderr",
     "output_type": "stream",
     "text": [
      "\n",
      "preparing: 100%|##########################################################################| 1/1 [00:00<00:00, 82.32it/s]\n"
     ]
    },
    {
     "name": "stdout",
     "output_type": "stream",
     "text": [
      "2dc25794-9360-4ecb-806c-6539b446b372\n",
      "sim calculated successfully\n",
      "\n",
      "1719.385 0.6286 1850.487\n",
      "0 existing calculation records provided\n"
     ]
    },
    {
     "name": "stderr",
     "output_type": "stream",
     "text": [
      "100%|█████████████████████████████████████████████████████████████████████████████████████| 1/1 [00:00<00:00,  3.37it/s]"
     ]
    },
    {
     "name": "stdout",
     "output_type": "stream",
     "text": [
      "1 calculation combinations to check\n",
      "1 new records to prepare\n"
     ]
    },
    {
     "name": "stderr",
     "output_type": "stream",
     "text": [
      "\n",
      "preparing: 100%|##########################################################################| 1/1 [00:00<00:00, 76.15it/s]\n"
     ]
    },
    {
     "name": "stdout",
     "output_type": "stream",
     "text": [
      "da84aa9d-5c91-43b1-8c96-e7232a85747f\n",
      "sim calculated successfully\n",
      "\n",
      "1784.937 0.3127 1748.987\n",
      "0 existing calculation records provided\n"
     ]
    },
    {
     "name": "stderr",
     "output_type": "stream",
     "text": [
      "100%|█████████████████████████████████████████████████████████████████████████████████████| 1/1 [00:00<00:00,  3.43it/s]"
     ]
    },
    {
     "name": "stdout",
     "output_type": "stream",
     "text": [
      "1 calculation combinations to check\n",
      "1 new records to prepare\n"
     ]
    },
    {
     "name": "stderr",
     "output_type": "stream",
     "text": [
      "\n",
      "preparing: 100%|##########################################################################| 1/1 [00:00<00:00, 78.96it/s]\n"
     ]
    },
    {
     "name": "stdout",
     "output_type": "stream",
     "text": [
      "15d812b3-a7c0-4d04-9936-1bb65aa9a0b6\n",
      "sim calculated successfully\n",
      "\n",
      "1686.609 0.6558 1836.178\n",
      "0 existing calculation records provided\n"
     ]
    },
    {
     "name": "stderr",
     "output_type": "stream",
     "text": [
      "100%|█████████████████████████████████████████████████████████████████████████████████████| 1/1 [00:00<00:00,  3.27it/s]"
     ]
    },
    {
     "name": "stdout",
     "output_type": "stream",
     "text": [
      "1 calculation combinations to check\n",
      "1 new records to prepare\n"
     ]
    },
    {
     "name": "stderr",
     "output_type": "stream",
     "text": [
      "\n",
      "preparing: 100%|##########################################################################| 1/1 [00:00<00:00, 79.05it/s]\n"
     ]
    },
    {
     "name": "stdout",
     "output_type": "stream",
     "text": [
      "52313159-ac2f-4faf-baa2-c7428d859aab\n",
      "sim calculated successfully\n",
      "\n",
      "1768.549 0.3396 1735.585\n",
      "0 existing calculation records provided\n"
     ]
    },
    {
     "name": "stderr",
     "output_type": "stream",
     "text": [
      "100%|█████████████████████████████████████████████████████████████████████████████████████| 1/1 [00:00<00:00,  3.38it/s]"
     ]
    },
    {
     "name": "stdout",
     "output_type": "stream",
     "text": [
      "1 calculation combinations to check\n",
      "1 new records to prepare\n"
     ]
    },
    {
     "name": "stderr",
     "output_type": "stream",
     "text": [
      "\n",
      "preparing: 100%|##########################################################################| 1/1 [00:00<00:00, 80.53it/s]\n"
     ]
    },
    {
     "name": "stdout",
     "output_type": "stream",
     "text": [
      "ed059ab7-59ef-48e7-86f4-45af749e0385\n",
      "sim calculated successfully\n",
      "\n",
      "1678.415 0.6849 1819.897\n",
      "0 existing calculation records provided\n"
     ]
    },
    {
     "name": "stderr",
     "output_type": "stream",
     "text": [
      "100%|█████████████████████████████████████████████████████████████████████████████████████| 1/1 [00:00<00:00,  3.47it/s]"
     ]
    },
    {
     "name": "stdout",
     "output_type": "stream",
     "text": [
      "1 calculation combinations to check\n",
      "1 new records to prepare\n"
     ]
    },
    {
     "name": "stderr",
     "output_type": "stream",
     "text": [
      "\n",
      "preparing: 100%|##########################################################################| 1/1 [00:00<00:00, 75.01it/s]\n"
     ]
    },
    {
     "name": "stdout",
     "output_type": "stream",
     "text": [
      "b41d1ee4-b664-4142-9b60-5a2994c71eaf\n",
      "sim calculated successfully\n",
      "\n",
      "1764.452 0.3419 1742.095\n",
      "0 existing calculation records provided\n"
     ]
    },
    {
     "name": "stderr",
     "output_type": "stream",
     "text": [
      "100%|█████████████████████████████████████████████████████████████████████████████████████| 1/1 [00:00<00:00,  3.29it/s]"
     ]
    },
    {
     "name": "stdout",
     "output_type": "stream",
     "text": [
      "1 calculation combinations to check\n",
      "1 new records to prepare\n"
     ]
    },
    {
     "name": "stderr",
     "output_type": "stream",
     "text": [
      "\n",
      "preparing: 100%|##########################################################################| 1/1 [00:00<00:00, 80.37it/s]\n"
     ]
    },
    {
     "name": "stdout",
     "output_type": "stream",
     "text": [
      "b31daa3b-a7bb-4575-95cd-228c7b6c7929\n",
      "sim calculated successfully\n",
      "\n",
      "1676.366 0.6627 1814.985\n",
      "\n",
      "70 2004--Zhou-X-W--Zr--LAMMPS--ipr2\n",
      "0 existing calculation records provided\n"
     ]
    },
    {
     "name": "stderr",
     "output_type": "stream",
     "text": [
      "100%|█████████████████████████████████████████████████████████████████████████████████████| 1/1 [00:00<00:00,  3.37it/s]"
     ]
    },
    {
     "name": "stdout",
     "output_type": "stream",
     "text": [
      "1 calculation combinations to check\n",
      "1 new records to prepare\n"
     ]
    },
    {
     "name": "stderr",
     "output_type": "stream",
     "text": [
      "\n",
      "preparing: 100%|##########################################################################| 1/1 [00:00<00:00, 82.88it/s]\n"
     ]
    },
    {
     "name": "stdout",
     "output_type": "stream",
     "text": [
      "1cace43a-46ef-42b6-b9f9-40cf191645de\n",
      "sim calculated successfully\n",
      "\n",
      "4525.000 0.0 4502.804\n",
      "0 existing calculation records provided\n"
     ]
    },
    {
     "name": "stderr",
     "output_type": "stream",
     "text": [
      "100%|█████████████████████████████████████████████████████████████████████████████████████| 1/1 [00:00<00:00,  3.79it/s]"
     ]
    },
    {
     "name": "stdout",
     "output_type": "stream",
     "text": [
      "1 calculation combinations to check\n",
      "1 new records to prepare\n"
     ]
    },
    {
     "name": "stderr",
     "output_type": "stream",
     "text": [
      "\n",
      "preparing: 100%|##########################################################################| 1/1 [00:00<00:00, 45.13it/s]\n"
     ]
    },
    {
     "name": "stdout",
     "output_type": "stream",
     "text": [
      "63b6ab08-e9a0-4aa2-a453-7cf48aa29414\n",
      "sim calculated successfully\n",
      "\n",
      "2287.500 0.0001655 2240.257\n",
      "0 existing calculation records provided\n"
     ]
    },
    {
     "name": "stderr",
     "output_type": "stream",
     "text": [
      "100%|█████████████████████████████████████████████████████████████████████████████████████| 1/1 [00:00<00:00,  4.13it/s]"
     ]
    },
    {
     "name": "stdout",
     "output_type": "stream",
     "text": [
      "1 calculation combinations to check\n",
      "1 new records to prepare\n"
     ]
    },
    {
     "name": "stderr",
     "output_type": "stream",
     "text": [
      "\n",
      "preparing: 100%|##########################################################################| 1/1 [00:00<00:00, 81.27it/s]\n"
     ]
    },
    {
     "name": "stdout",
     "output_type": "stream",
     "text": [
      "e32961f3-1814-4b63-a06c-207bc90f63d1\n",
      "sim calculated successfully\n",
      "\n",
      "1168.750 0.9806 1163.466\n",
      "0 existing calculation records provided\n"
     ]
    },
    {
     "name": "stderr",
     "output_type": "stream",
     "text": [
      "100%|█████████████████████████████████████████████████████████████████████████████████████| 1/1 [00:00<00:00,  3.41it/s]"
     ]
    },
    {
     "name": "stdout",
     "output_type": "stream",
     "text": [
      "1 calculation combinations to check\n",
      "1 new records to prepare\n"
     ]
    },
    {
     "name": "stderr",
     "output_type": "stream",
     "text": [
      "\n",
      "preparing: 100%|##########################################################################| 1/1 [00:00<00:00, 70.88it/s]\n"
     ]
    },
    {
     "name": "stdout",
     "output_type": "stream",
     "text": [
      "918a714b-4e24-4598-86b8-cec9a5c8f047\n",
      "sim calculated successfully\n",
      "\n",
      "1728.125 0.5129 1788.149\n",
      "0 existing calculation records provided\n"
     ]
    },
    {
     "name": "stderr",
     "output_type": "stream",
     "text": [
      "100%|█████████████████████████████████████████████████████████████████████████████████████| 1/1 [00:00<00:00,  3.44it/s]"
     ]
    },
    {
     "name": "stdout",
     "output_type": "stream",
     "text": [
      "1 calculation combinations to check\n",
      "1 new records to prepare\n"
     ]
    },
    {
     "name": "stderr",
     "output_type": "stream",
     "text": [
      "\n",
      "preparing: 100%|##########################################################################| 1/1 [00:00<00:00, 36.32it/s]\n"
     ]
    },
    {
     "name": "stdout",
     "output_type": "stream",
     "text": [
      "71187d22-f6e7-465d-90b5-2fd9123da637\n",
      "sim calculated successfully\n",
      "\n",
      "1728.125 0.4271 1746.002\n",
      "0 existing calculation records provided\n"
     ]
    },
    {
     "name": "stderr",
     "output_type": "stream",
     "text": [
      "100%|█████████████████████████████████████████████████████████████████████████████████████| 1/1 [00:00<00:00,  3.43it/s]"
     ]
    },
    {
     "name": "stdout",
     "output_type": "stream",
     "text": [
      "1 calculation combinations to check\n",
      "1 new records to prepare\n"
     ]
    },
    {
     "name": "stderr",
     "output_type": "stream",
     "text": [
      "\n",
      "preparing: 100%|##########################################################################| 1/1 [00:00<00:00, 79.24it/s]\n"
     ]
    },
    {
     "name": "stdout",
     "output_type": "stream",
     "text": [
      "0d53bca6-b894-44f7-ae49-95d1d9051374\n",
      "sim calculated successfully\n",
      "\n",
      "1728.125 0.4224 1741.011\n",
      "0 existing calculation records provided\n"
     ]
    },
    {
     "name": "stderr",
     "output_type": "stream",
     "text": [
      "100%|█████████████████████████████████████████████████████████████████████████████████████| 1/1 [00:00<00:00,  3.38it/s]"
     ]
    },
    {
     "name": "stdout",
     "output_type": "stream",
     "text": [
      "1 calculation combinations to check\n",
      "1 new records to prepare\n"
     ]
    },
    {
     "name": "stderr",
     "output_type": "stream",
     "text": [
      "\n",
      "preparing: 100%|##########################################################################| 1/1 [00:00<00:00, 79.41it/s]\n"
     ]
    },
    {
     "name": "stdout",
     "output_type": "stream",
     "text": [
      "38769d79-c107-41d9-af41-5443c618cc2d\n",
      "sim calculated successfully\n",
      "\n",
      "1728.125 0.4582 1763.382\n",
      "0 existing calculation records provided\n"
     ]
    },
    {
     "name": "stderr",
     "output_type": "stream",
     "text": [
      "100%|█████████████████████████████████████████████████████████████████████████████████████| 1/1 [00:00<00:00,  3.26it/s]"
     ]
    },
    {
     "name": "stdout",
     "output_type": "stream",
     "text": [
      "1 calculation combinations to check\n",
      "1 new records to prepare\n"
     ]
    },
    {
     "name": "stderr",
     "output_type": "stream",
     "text": [
      "\n",
      "preparing: 100%|##########################################################################| 1/1 [00:00<00:00, 75.61it/s]\n"
     ]
    },
    {
     "name": "stdout",
     "output_type": "stream",
     "text": [
      "64f5814a-8e7e-4547-824b-d015fbd6090e\n",
      "sim calculated successfully\n",
      "\n",
      "1728.125 0.438 1745.264\n",
      "0 existing calculation records provided\n"
     ]
    },
    {
     "name": "stderr",
     "output_type": "stream",
     "text": [
      "100%|█████████████████████████████████████████████████████████████████████████████████████| 1/1 [00:00<00:00,  3.45it/s]"
     ]
    },
    {
     "name": "stdout",
     "output_type": "stream",
     "text": [
      "1 calculation combinations to check\n",
      "1 new records to prepare\n"
     ]
    },
    {
     "name": "stderr",
     "output_type": "stream",
     "text": [
      "\n",
      "preparing: 100%|##########################################################################| 1/1 [00:00<00:00, 78.73it/s]\n"
     ]
    },
    {
     "name": "stdout",
     "output_type": "stream",
     "text": [
      "0816a4ab-7620-480e-82a4-8b98cfd09541\n",
      "sim calculated successfully\n",
      "\n",
      "1728.125 0.4206 1736.652\n",
      "0 existing calculation records provided\n"
     ]
    },
    {
     "name": "stderr",
     "output_type": "stream",
     "text": [
      "100%|█████████████████████████████████████████████████████████████████████████████████████| 1/1 [00:00<00:00,  3.39it/s]"
     ]
    },
    {
     "name": "stdout",
     "output_type": "stream",
     "text": [
      "1 calculation combinations to check\n",
      "1 new records to prepare\n"
     ]
    },
    {
     "name": "stderr",
     "output_type": "stream",
     "text": [
      "\n",
      "preparing: 100%|##########################################################################| 1/1 [00:00<00:00, 80.15it/s]\n"
     ]
    },
    {
     "name": "stdout",
     "output_type": "stream",
     "text": [
      "20fb4961-9bc4-461c-a6fb-e6bebd8160bc\n",
      "sim calculated successfully\n",
      "\n",
      "1728.125 0.4508 1757.680\n",
      "0 existing calculation records provided\n"
     ]
    },
    {
     "name": "stderr",
     "output_type": "stream",
     "text": [
      "100%|█████████████████████████████████████████████████████████████████████████████████████| 1/1 [00:00<00:00,  3.42it/s]"
     ]
    },
    {
     "name": "stdout",
     "output_type": "stream",
     "text": [
      "1 calculation combinations to check\n",
      "1 new records to prepare\n"
     ]
    },
    {
     "name": "stderr",
     "output_type": "stream",
     "text": [
      "\n",
      "preparing: 100%|##########################################################################| 1/1 [00:00<00:00, 68.23it/s]\n"
     ]
    },
    {
     "name": "stdout",
     "output_type": "stream",
     "text": [
      "62e17048-f519-419f-ad58-c8d1f2298c2a\n",
      "sim calculated successfully\n",
      "\n",
      "1728.125 0.4321 1739.279\n",
      "0 existing calculation records provided\n"
     ]
    },
    {
     "name": "stderr",
     "output_type": "stream",
     "text": [
      "100%|█████████████████████████████████████████████████████████████████████████████████████| 1/1 [00:00<00:00,  3.34it/s]"
     ]
    },
    {
     "name": "stdout",
     "output_type": "stream",
     "text": [
      "1 calculation combinations to check\n",
      "1 new records to prepare\n"
     ]
    },
    {
     "name": "stderr",
     "output_type": "stream",
     "text": [
      "\n",
      "preparing: 100%|##########################################################################| 1/1 [00:00<00:00, 78.71it/s]\n"
     ]
    },
    {
     "name": "stdout",
     "output_type": "stream",
     "text": [
      "2364c992-9d38-4442-93a7-f71be8dfb00c\n",
      "sim calculated successfully\n",
      "\n",
      "1728.125 0.4218 1749.435\n",
      "0 existing calculation records provided\n"
     ]
    },
    {
     "name": "stderr",
     "output_type": "stream",
     "text": [
      "100%|█████████████████████████████████████████████████████████████████████████████████████| 1/1 [00:00<00:00,  3.84it/s]"
     ]
    },
    {
     "name": "stdout",
     "output_type": "stream",
     "text": [
      "1 calculation combinations to check\n",
      "1 new records to prepare\n"
     ]
    },
    {
     "name": "stderr",
     "output_type": "stream",
     "text": [
      "\n",
      "preparing: 100%|##########################################################################| 1/1 [00:00<00:00, 68.74it/s]\n"
     ]
    },
    {
     "name": "stdout",
     "output_type": "stream",
     "text": [
      "03d727cd-ef3c-4dbc-a213-a7e47cd30e15\n",
      "sim calculated successfully\n",
      "\n",
      "1728.125 0.4302 1743.757\n",
      "\n",
      "71 2005--Mendelev-M-I--Al-Fe--LAMMPS--ipr1\n",
      "0 existing calculation records provided\n"
     ]
    },
    {
     "name": "stderr",
     "output_type": "stream",
     "text": [
      "100%|█████████████████████████████████████████████████████████████████████████████████████| 1/1 [00:00<00:00,  3.49it/s]"
     ]
    },
    {
     "name": "stdout",
     "output_type": "stream",
     "text": [
      "1 calculation combinations to check\n",
      "1 new records to prepare\n"
     ]
    },
    {
     "name": "stderr",
     "output_type": "stream",
     "text": [
      "\n",
      "preparing: 100%|##########################################################################| 1/1 [00:00<00:00, 48.64it/s]\n"
     ]
    },
    {
     "name": "stdout",
     "output_type": "stream",
     "text": [
      "91123213-571a-4adb-851f-c5f115e718c9\n",
      "sim calculated successfully\n",
      "\n",
      "4525.000 0.002845 4427.509\n",
      "0 existing calculation records provided\n"
     ]
    },
    {
     "name": "stderr",
     "output_type": "stream",
     "text": [
      "100%|█████████████████████████████████████████████████████████████████████████████████████| 1/1 [00:00<00:00,  3.54it/s]"
     ]
    },
    {
     "name": "stdout",
     "output_type": "stream",
     "text": [
      "1 calculation combinations to check\n",
      "1 new records to prepare\n"
     ]
    },
    {
     "name": "stderr",
     "output_type": "stream",
     "text": [
      "\n",
      "preparing: 100%|##########################################################################| 1/1 [00:00<00:00, 44.15it/s]\n"
     ]
    },
    {
     "name": "stdout",
     "output_type": "stream",
     "text": [
      "d38ad684-c82e-4d93-9b4b-b3a4750f7c0d\n",
      "sim calculated successfully\n",
      "\n",
      "2287.500 0.0001655 2218.106\n",
      "0 existing calculation records provided\n"
     ]
    },
    {
     "name": "stderr",
     "output_type": "stream",
     "text": [
      "100%|█████████████████████████████████████████████████████████████████████████████████████| 1/1 [00:00<00:00,  3.34it/s]"
     ]
    },
    {
     "name": "stdout",
     "output_type": "stream",
     "text": [
      "1 calculation combinations to check\n",
      "1 new records to prepare\n"
     ]
    },
    {
     "name": "stderr",
     "output_type": "stream",
     "text": [
      "\n",
      "preparing: 100%|##########################################################################| 1/1 [00:00<00:00, 43.93it/s]\n"
     ]
    },
    {
     "name": "stdout",
     "output_type": "stream",
     "text": [
      "b0aa14a7-da6a-45d8-b806-4fd76f0ee364\n",
      "sim calculated successfully\n",
      "\n",
      "1168.750 0.9976 1165.398\n",
      "0 existing calculation records provided\n"
     ]
    },
    {
     "name": "stderr",
     "output_type": "stream",
     "text": [
      "100%|█████████████████████████████████████████████████████████████████████████████████████| 1/1 [00:00<00:00,  3.44it/s]"
     ]
    },
    {
     "name": "stdout",
     "output_type": "stream",
     "text": [
      "1 calculation combinations to check\n",
      "1 new records to prepare\n"
     ]
    },
    {
     "name": "stderr",
     "output_type": "stream",
     "text": [
      "\n",
      "preparing: 100%|##########################################################################| 1/1 [00:00<00:00, 42.98it/s]\n"
     ]
    },
    {
     "name": "stdout",
     "output_type": "stream",
     "text": [
      "09140871-da6b-4689-b34d-f975f912246d\n",
      "sim calculated successfully\n",
      "\n",
      "1728.125 0.8104 1886.011\n",
      "0 existing calculation records provided\n"
     ]
    },
    {
     "name": "stderr",
     "output_type": "stream",
     "text": [
      "100%|█████████████████████████████████████████████████████████████████████████████████████| 1/1 [00:00<00:00,  3.25it/s]"
     ]
    },
    {
     "name": "stdout",
     "output_type": "stream",
     "text": [
      "1 calculation combinations to check\n",
      "1 new records to prepare\n"
     ]
    },
    {
     "name": "stderr",
     "output_type": "stream",
     "text": [
      "\n",
      "preparing: 100%|##########################################################################| 1/1 [00:00<00:00, 24.58it/s]\n"
     ]
    },
    {
     "name": "stdout",
     "output_type": "stream",
     "text": [
      "ff4f6622-1603-4306-a095-02c3a35dd549\n",
      "sim calculated successfully\n",
      "\n",
      "2007.812 0.0002276 1824.193\n",
      "0 existing calculation records provided\n"
     ]
    },
    {
     "name": "stderr",
     "output_type": "stream",
     "text": [
      "100%|█████████████████████████████████████████████████████████████████████████████████████| 1/1 [00:00<00:00,  3.89it/s]"
     ]
    },
    {
     "name": "stdout",
     "output_type": "stream",
     "text": [
      "1 calculation combinations to check\n",
      "1 new records to prepare\n"
     ]
    },
    {
     "name": "stderr",
     "output_type": "stream",
     "text": [
      "\n",
      "preparing: 100%|##########################################################################| 1/1 [00:00<00:00, 23.73it/s]\n"
     ]
    },
    {
     "name": "stdout",
     "output_type": "stream",
     "text": [
      "a8b3abea-7cbc-42e0-8110-1398ba0c67bc\n",
      "sim calculated successfully\n",
      "\n",
      "1867.969 0.2891 1798.397\n",
      "0 existing calculation records provided\n"
     ]
    },
    {
     "name": "stderr",
     "output_type": "stream",
     "text": [
      "100%|█████████████████████████████████████████████████████████████████████████████████████| 1/1 [00:00<00:00,  3.73it/s]"
     ]
    },
    {
     "name": "stdout",
     "output_type": "stream",
     "text": [
      "1 calculation combinations to check\n",
      "1 new records to prepare\n"
     ]
    },
    {
     "name": "stderr",
     "output_type": "stream",
     "text": [
      "\n",
      "preparing: 100%|##########################################################################| 1/1 [00:00<00:00, 27.85it/s]\n"
     ]
    },
    {
     "name": "stdout",
     "output_type": "stream",
     "text": [
      "bff8429f-a1ad-4532-a64f-6d6ff908ef71\n",
      "sim calculated successfully\n",
      "\n",
      "1798.047 0.4766 1802.478\n",
      "0 existing calculation records provided\n"
     ]
    },
    {
     "name": "stderr",
     "output_type": "stream",
     "text": [
      "100%|█████████████████████████████████████████████████████████████████████████████████████| 1/1 [00:00<00:00,  3.45it/s]"
     ]
    },
    {
     "name": "stdout",
     "output_type": "stream",
     "text": [
      "1 calculation combinations to check\n",
      "1 new records to prepare\n"
     ]
    },
    {
     "name": "stderr",
     "output_type": "stream",
     "text": [
      "\n",
      "preparing: 100%|##########################################################################| 1/1 [00:00<00:00, 43.13it/s]\n"
     ]
    },
    {
     "name": "stdout",
     "output_type": "stream",
     "text": [
      "ae2f6ae6-c217-4365-b093-ace4f01e0d36\n",
      "sim calculated successfully\n",
      "\n",
      "1798.047 0.4735 1787.925\n",
      "0 existing calculation records provided\n"
     ]
    },
    {
     "name": "stderr",
     "output_type": "stream",
     "text": [
      "100%|█████████████████████████████████████████████████████████████████████████████████████| 1/1 [00:00<00:00,  3.32it/s]"
     ]
    },
    {
     "name": "stdout",
     "output_type": "stream",
     "text": [
      "1 calculation combinations to check\n",
      "1 new records to prepare\n"
     ]
    },
    {
     "name": "stderr",
     "output_type": "stream",
     "text": [
      "\n",
      "preparing: 100%|##########################################################################| 1/1 [00:00<00:00, 41.92it/s]\n"
     ]
    },
    {
     "name": "stdout",
     "output_type": "stream",
     "text": [
      "0a61b9af-5a59-4d7f-bd01-0a295b06d3de\n",
      "sim calculated successfully\n",
      "\n",
      "1798.047 0.4871 1795.188\n",
      "0 existing calculation records provided\n"
     ]
    },
    {
     "name": "stderr",
     "output_type": "stream",
     "text": [
      "100%|█████████████████████████████████████████████████████████████████████████████████████| 1/1 [00:00<00:00,  3.44it/s]"
     ]
    },
    {
     "name": "stdout",
     "output_type": "stream",
     "text": [
      "1 calculation combinations to check\n",
      "1 new records to prepare\n"
     ]
    },
    {
     "name": "stderr",
     "output_type": "stream",
     "text": [
      "\n",
      "preparing: 100%|##########################################################################| 1/1 [00:00<00:00, 43.47it/s]\n"
     ]
    },
    {
     "name": "stdout",
     "output_type": "stream",
     "text": [
      "7816f625-6abd-4f83-a6af-c47d5aad8e93\n",
      "sim calculated successfully\n",
      "\n",
      "1798.047 0.488 1794.009\n",
      "0 existing calculation records provided\n"
     ]
    },
    {
     "name": "stderr",
     "output_type": "stream",
     "text": [
      "100%|█████████████████████████████████████████████████████████████████████████████████████| 1/1 [00:00<00:00,  3.18it/s]"
     ]
    },
    {
     "name": "stdout",
     "output_type": "stream",
     "text": [
      "1 calculation combinations to check\n",
      "1 new records to prepare\n"
     ]
    },
    {
     "name": "stderr",
     "output_type": "stream",
     "text": [
      "\n",
      "preparing: 100%|##########################################################################| 1/1 [00:00<00:00, 43.33it/s]\n"
     ]
    },
    {
     "name": "stdout",
     "output_type": "stream",
     "text": [
      "68adbe4d-2311-4547-b71b-1735213a936e\n",
      "sim calculated successfully\n",
      "\n",
      "1798.047 0.495 1790.145\n",
      "0 existing calculation records provided\n"
     ]
    },
    {
     "name": "stderr",
     "output_type": "stream",
     "text": [
      "100%|█████████████████████████████████████████████████████████████████████████████████████| 1/1 [00:00<00:00,  3.23it/s]"
     ]
    },
    {
     "name": "stdout",
     "output_type": "stream",
     "text": [
      "1 calculation combinations to check\n",
      "1 new records to prepare\n"
     ]
    },
    {
     "name": "stderr",
     "output_type": "stream",
     "text": [
      "\n",
      "preparing: 100%|##########################################################################| 1/1 [00:00<00:00, 43.41it/s]\n"
     ]
    },
    {
     "name": "stdout",
     "output_type": "stream",
     "text": [
      "8d527409-6873-44b6-afc5-5d64f77aa102\n",
      "sim calculated successfully\n",
      "\n",
      "1798.047 0.4936 1791.087\n",
      "0 existing calculation records provided\n"
     ]
    },
    {
     "name": "stderr",
     "output_type": "stream",
     "text": [
      "100%|█████████████████████████████████████████████████████████████████████████████████████| 1/1 [00:00<00:00,  3.51it/s]"
     ]
    },
    {
     "name": "stdout",
     "output_type": "stream",
     "text": [
      "1 calculation combinations to check\n",
      "1 new records to prepare\n"
     ]
    },
    {
     "name": "stderr",
     "output_type": "stream",
     "text": [
      "\n",
      "preparing: 100%|##########################################################################| 1/1 [00:00<00:00, 42.17it/s]\n"
     ]
    },
    {
     "name": "stdout",
     "output_type": "stream",
     "text": [
      "cea9311d-c964-4439-bd9b-e807a747b620\n",
      "sim calculated successfully\n",
      "\n",
      "1798.047 0.4795 1794.570\n",
      "0 existing calculation records provided\n"
     ]
    },
    {
     "name": "stderr",
     "output_type": "stream",
     "text": [
      "100%|█████████████████████████████████████████████████████████████████████████████████████| 1/1 [00:00<00:00,  3.22it/s]"
     ]
    },
    {
     "name": "stdout",
     "output_type": "stream",
     "text": [
      "1 calculation combinations to check\n",
      "1 new records to prepare\n"
     ]
    },
    {
     "name": "stderr",
     "output_type": "stream",
     "text": [
      "\n",
      "preparing: 100%|##########################################################################| 1/1 [00:00<00:00, 41.15it/s]\n"
     ]
    },
    {
     "name": "stdout",
     "output_type": "stream",
     "text": [
      "5ac77230-3ace-4225-b4fc-5c3b5bb926fb\n",
      "sim calculated successfully\n",
      "\n",
      "1798.047 0.5009 1804.541\n",
      "0 existing calculation records provided\n"
     ]
    },
    {
     "name": "stderr",
     "output_type": "stream",
     "text": [
      "100%|█████████████████████████████████████████████████████████████████████████████████████| 1/1 [00:00<00:00,  3.48it/s]"
     ]
    },
    {
     "name": "stdout",
     "output_type": "stream",
     "text": [
      "1 calculation combinations to check\n",
      "1 new records to prepare\n"
     ]
    },
    {
     "name": "stderr",
     "output_type": "stream",
     "text": [
      "\n",
      "preparing: 100%|##########################################################################| 1/1 [00:00<00:00, 38.98it/s]\n"
     ]
    },
    {
     "name": "stdout",
     "output_type": "stream",
     "text": [
      "6e076e49-ec40-481e-807d-5526a275ce7e\n",
      "sim calculated successfully\n",
      "\n",
      "1798.047 0.4828 1802.028\n",
      "\n",
      "72 2006--Chamati-H--Fe--LAMMPS--ipr1\n",
      "0 existing calculation records provided\n"
     ]
    },
    {
     "name": "stderr",
     "output_type": "stream",
     "text": [
      "100%|█████████████████████████████████████████████████████████████████████████████████████| 1/1 [00:00<00:00,  3.59it/s]"
     ]
    },
    {
     "name": "stdout",
     "output_type": "stream",
     "text": [
      "1 calculation combinations to check\n",
      "1 new records to prepare\n"
     ]
    },
    {
     "name": "stderr",
     "output_type": "stream",
     "text": [
      "\n",
      "preparing: 100%|##########################################################################| 1/1 [00:00<00:00, 78.65it/s]\n"
     ]
    },
    {
     "name": "stdout",
     "output_type": "stream",
     "text": [
      "9d04d7f6-d38f-4b63-89b5-08138abebfe9\n",
      "sim calculated successfully\n",
      "\n",
      "4525.000 0.0 4499.250\n",
      "0 existing calculation records provided\n"
     ]
    },
    {
     "name": "stderr",
     "output_type": "stream",
     "text": [
      "100%|█████████████████████████████████████████████████████████████████████████████████████| 1/1 [00:00<00:00,  4.25it/s]"
     ]
    },
    {
     "name": "stdout",
     "output_type": "stream",
     "text": [
      "1 calculation combinations to check\n",
      "1 new records to prepare\n"
     ]
    },
    {
     "name": "stderr",
     "output_type": "stream",
     "text": [
      "\n",
      "preparing: 100%|##########################################################################| 1/1 [00:00<00:00, 84.84it/s]\n"
     ]
    },
    {
     "name": "stdout",
     "output_type": "stream",
     "text": [
      "7d719e0a-d8a5-41ce-a33d-8f4d5496adaf\n",
      "sim calculated successfully\n",
      "\n",
      "2287.500 0.0001138 2142.508\n",
      "0 existing calculation records provided\n"
     ]
    },
    {
     "name": "stderr",
     "output_type": "stream",
     "text": [
      "100%|█████████████████████████████████████████████████████████████████████████████████████| 1/1 [00:00<00:00,  4.15it/s]"
     ]
    },
    {
     "name": "stdout",
     "output_type": "stream",
     "text": [
      "1 calculation combinations to check\n",
      "1 new records to prepare\n"
     ]
    },
    {
     "name": "stderr",
     "output_type": "stream",
     "text": [
      "\n",
      "preparing: 100%|##########################################################################| 1/1 [00:00<00:00, 72.76it/s]\n"
     ]
    },
    {
     "name": "stdout",
     "output_type": "stream",
     "text": [
      "cc4bcea5-538f-4716-b333-c9bbe962e251\n",
      "sim calculated successfully\n",
      "\n",
      "1168.750 0.9985 1165.799\n",
      "0 existing calculation records provided\n"
     ]
    },
    {
     "name": "stderr",
     "output_type": "stream",
     "text": [
      "100%|█████████████████████████████████████████████████████████████████████████████████████| 1/1 [00:00<00:00,  3.41it/s]"
     ]
    },
    {
     "name": "stdout",
     "output_type": "stream",
     "text": [
      "1 calculation combinations to check\n",
      "1 new records to prepare\n"
     ]
    },
    {
     "name": "stderr",
     "output_type": "stream",
     "text": [
      "\n",
      "preparing: 100%|##########################################################################| 1/1 [00:00<00:00, 69.38it/s]\n"
     ]
    },
    {
     "name": "stdout",
     "output_type": "stream",
     "text": [
      "b3b14fb1-50d2-4fbb-8f17-1472d86a13ea\n",
      "sim calculated successfully\n",
      "\n",
      "1728.125 0.8978 1854.663\n",
      "0 existing calculation records provided\n"
     ]
    },
    {
     "name": "stderr",
     "output_type": "stream",
     "text": [
      "100%|█████████████████████████████████████████████████████████████████████████████████████| 1/1 [00:00<00:00,  3.51it/s]"
     ]
    },
    {
     "name": "stdout",
     "output_type": "stream",
     "text": [
      "1 calculation combinations to check\n",
      "1 new records to prepare\n"
     ]
    },
    {
     "name": "stderr",
     "output_type": "stream",
     "text": [
      "\n",
      "preparing: 100%|##########################################################################| 1/1 [00:00<00:00, 69.60it/s]\n"
     ]
    },
    {
     "name": "stdout",
     "output_type": "stream",
     "text": [
      "b6b413da-7763-4672-b2ae-bf30626926ec\n",
      "sim calculated successfully\n",
      "\n",
      "2007.812 0.317 1945.516\n",
      "0 existing calculation records provided\n"
     ]
    },
    {
     "name": "stderr",
     "output_type": "stream",
     "text": [
      "100%|█████████████████████████████████████████████████████████████████████████████████████| 1/1 [00:00<00:00,  3.93it/s]"
     ]
    },
    {
     "name": "stdout",
     "output_type": "stream",
     "text": [
      "1 calculation combinations to check\n",
      "1 new records to prepare\n"
     ]
    },
    {
     "name": "stderr",
     "output_type": "stream",
     "text": [
      "\n",
      "preparing: 100%|##########################################################################| 1/1 [00:00<00:00, 70.11it/s]\n"
     ]
    },
    {
     "name": "stdout",
     "output_type": "stream",
     "text": [
      "daad4f7d-ae85-4a2e-853a-1f80a67f3ebd\n",
      "sim calculated successfully\n",
      "\n",
      "1867.969 0.7675 2046.422\n",
      "0 existing calculation records provided\n"
     ]
    },
    {
     "name": "stderr",
     "output_type": "stream",
     "text": [
      "100%|█████████████████████████████████████████████████████████████████████████████████████| 1/1 [00:00<00:00,  3.83it/s]"
     ]
    },
    {
     "name": "stdout",
     "output_type": "stream",
     "text": [
      "1 calculation combinations to check\n",
      "1 new records to prepare\n"
     ]
    },
    {
     "name": "stderr",
     "output_type": "stream",
     "text": [
      "\n",
      "preparing: 100%|##########################################################################| 1/1 [00:00<00:00, 59.50it/s]\n"
     ]
    },
    {
     "name": "stdout",
     "output_type": "stream",
     "text": [
      "247d0317-a96c-419c-afc1-c5da64142fc0\n",
      "sim calculated successfully\n",
      "\n",
      "2077.734 0.1229 1927.237\n",
      "0 existing calculation records provided\n"
     ]
    },
    {
     "name": "stderr",
     "output_type": "stream",
     "text": [
      "100%|█████████████████████████████████████████████████████████████████████████████████████| 1/1 [00:00<00:00,  3.42it/s]"
     ]
    },
    {
     "name": "stdout",
     "output_type": "stream",
     "text": [
      "1 calculation combinations to check\n",
      "1 new records to prepare\n"
     ]
    },
    {
     "name": "stderr",
     "output_type": "stream",
     "text": [
      "\n",
      "preparing: 100%|##########################################################################| 1/1 [00:00<00:00, 62.32it/s]\n"
     ]
    },
    {
     "name": "stdout",
     "output_type": "stream",
     "text": [
      "e2726887-2639-4b06-885a-da10381e79a5\n",
      "sim calculated successfully\n",
      "\n",
      "1972.852 0.4003 1954.002\n",
      "0 existing calculation records provided\n"
     ]
    },
    {
     "name": "stderr",
     "output_type": "stream",
     "text": [
      "100%|█████████████████████████████████████████████████████████████████████████████████████| 1/1 [00:00<00:00,  3.35it/s]"
     ]
    },
    {
     "name": "stdout",
     "output_type": "stream",
     "text": [
      "1 calculation combinations to check\n",
      "1 new records to prepare\n"
     ]
    },
    {
     "name": "stderr",
     "output_type": "stream",
     "text": [
      "\n",
      "preparing: 100%|##########################################################################| 1/1 [00:00<00:00, 69.77it/s]\n"
     ]
    },
    {
     "name": "stdout",
     "output_type": "stream",
     "text": [
      "7590a357-ec85-40da-a5be-383823af0d83\n",
      "sim calculated successfully\n",
      "\n",
      "1972.852 0.3838 1942.827\n",
      "0 existing calculation records provided\n"
     ]
    },
    {
     "name": "stderr",
     "output_type": "stream",
     "text": [
      "100%|█████████████████████████████████████████████████████████████████████████████████████| 1/1 [00:00<00:00,  3.48it/s]"
     ]
    },
    {
     "name": "stdout",
     "output_type": "stream",
     "text": [
      "1 calculation combinations to check\n",
      "1 new records to prepare\n"
     ]
    },
    {
     "name": "stderr",
     "output_type": "stream",
     "text": [
      "\n",
      "preparing: 100%|##########################################################################| 1/1 [00:00<00:00, 69.90it/s]\n"
     ]
    },
    {
     "name": "stdout",
     "output_type": "stream",
     "text": [
      "8a27e153-4d9c-4de7-a4fa-370fbc84663a\n",
      "sim calculated successfully\n",
      "\n",
      "1920.410 0.5264 1951.254\n",
      "0 existing calculation records provided\n"
     ]
    },
    {
     "name": "stderr",
     "output_type": "stream",
     "text": [
      "100%|█████████████████████████████████████████████████████████████████████████████████████| 1/1 [00:00<00:00,  3.41it/s]"
     ]
    },
    {
     "name": "stdout",
     "output_type": "stream",
     "text": [
      "1 calculation combinations to check\n",
      "1 new records to prepare\n"
     ]
    },
    {
     "name": "stderr",
     "output_type": "stream",
     "text": [
      "\n",
      "preparing: 100%|##########################################################################| 1/1 [00:00<00:00, 68.83it/s]\n"
     ]
    },
    {
     "name": "stdout",
     "output_type": "stream",
     "text": [
      "b66ee964-3343-4e58-a26d-1ca808b11386\n",
      "sim calculated successfully\n",
      "\n",
      "1920.410 0.5205 1941.542\n",
      "0 existing calculation records provided\n"
     ]
    },
    {
     "name": "stderr",
     "output_type": "stream",
     "text": [
      "100%|█████████████████████████████████████████████████████████████████████████████████████| 1/1 [00:00<00:00,  3.31it/s]"
     ]
    },
    {
     "name": "stdout",
     "output_type": "stream",
     "text": [
      "1 calculation combinations to check\n",
      "1 new records to prepare\n"
     ]
    },
    {
     "name": "stderr",
     "output_type": "stream",
     "text": [
      "\n",
      "preparing: 100%|##########################################################################| 1/1 [00:00<00:00, 65.95it/s]\n"
     ]
    },
    {
     "name": "stdout",
     "output_type": "stream",
     "text": [
      "7369b179-c269-482d-9260-1a2def722db4\n",
      "sim calculated successfully\n",
      "\n",
      "1920.410 0.5293 1945.883\n",
      "0 existing calculation records provided\n"
     ]
    },
    {
     "name": "stderr",
     "output_type": "stream",
     "text": [
      "100%|█████████████████████████████████████████████████████████████████████████████████████| 1/1 [00:00<00:00,  3.37it/s]"
     ]
    },
    {
     "name": "stdout",
     "output_type": "stream",
     "text": [
      "1 calculation combinations to check\n",
      "1 new records to prepare\n"
     ]
    },
    {
     "name": "stderr",
     "output_type": "stream",
     "text": [
      "\n",
      "preparing: 100%|##########################################################################| 1/1 [00:00<00:00, 65.49it/s]\n"
     ]
    },
    {
     "name": "stdout",
     "output_type": "stream",
     "text": [
      "51ea3542-8057-490c-aa14-e89e5821199c\n",
      "sim calculated successfully\n",
      "\n",
      "1920.410 0.5019 1942.143\n",
      "0 existing calculation records provided\n"
     ]
    },
    {
     "name": "stderr",
     "output_type": "stream",
     "text": [
      "100%|█████████████████████████████████████████████████████████████████████████████████████| 1/1 [00:00<00:00,  3.42it/s]"
     ]
    },
    {
     "name": "stdout",
     "output_type": "stream",
     "text": [
      "1 calculation combinations to check\n",
      "1 new records to prepare\n"
     ]
    },
    {
     "name": "stderr",
     "output_type": "stream",
     "text": [
      "\n",
      "preparing: 100%|##########################################################################| 1/1 [00:00<00:00, 68.47it/s]\n"
     ]
    },
    {
     "name": "stdout",
     "output_type": "stream",
     "text": [
      "cdffa275-cf8d-4243-a557-94e74e68e334\n",
      "sim calculated successfully\n",
      "\n",
      "1920.410 0.5346 1943.120\n",
      "0 existing calculation records provided\n"
     ]
    },
    {
     "name": "stderr",
     "output_type": "stream",
     "text": [
      "100%|█████████████████████████████████████████████████████████████████████████████████████| 1/1 [00:00<00:00,  3.49it/s]"
     ]
    },
    {
     "name": "stdout",
     "output_type": "stream",
     "text": [
      "1 calculation combinations to check\n",
      "1 new records to prepare\n"
     ]
    },
    {
     "name": "stderr",
     "output_type": "stream",
     "text": [
      "\n",
      "preparing: 100%|##########################################################################| 1/1 [00:00<00:00, 74.52it/s]\n"
     ]
    },
    {
     "name": "stdout",
     "output_type": "stream",
     "text": [
      "c52837ba-913f-4d85-9e3c-b50349b2080a\n",
      "sim calculated successfully\n",
      "\n",
      "1920.410 0.5223 1948.337\n",
      "0 existing calculation records provided\n"
     ]
    },
    {
     "name": "stderr",
     "output_type": "stream",
     "text": [
      "100%|█████████████████████████████████████████████████████████████████████████████████████| 1/1 [00:00<00:00,  3.52it/s]"
     ]
    },
    {
     "name": "stdout",
     "output_type": "stream",
     "text": [
      "1 calculation combinations to check\n",
      "1 new records to prepare\n"
     ]
    },
    {
     "name": "stderr",
     "output_type": "stream",
     "text": [
      "\n",
      "preparing: 100%|##########################################################################| 1/1 [00:00<00:00, 63.26it/s]\n"
     ]
    },
    {
     "name": "stdout",
     "output_type": "stream",
     "text": [
      "af539fab-f800-439d-bb86-3cb8de9903a8\n",
      "sim calculated successfully\n",
      "\n",
      "1920.410 0.5365 1958.622\n",
      "\n",
      "73 2006--Sun-D-Y--Mg--LAMMPS--ipr1\n",
      "0 existing calculation records provided\n"
     ]
    },
    {
     "name": "stderr",
     "output_type": "stream",
     "text": [
      "100%|█████████████████████████████████████████████████████████████████████████████████████| 1/1 [00:00<00:00,  3.30it/s]"
     ]
    },
    {
     "name": "stdout",
     "output_type": "stream",
     "text": [
      "1 calculation combinations to check\n",
      "1 new records to prepare\n"
     ]
    },
    {
     "name": "stderr",
     "output_type": "stream",
     "text": [
      "\n",
      "preparing: 100%|##########################################################################| 1/1 [00:00<00:00, 62.22it/s]\n"
     ]
    },
    {
     "name": "stdout",
     "output_type": "stream",
     "text": [
      "47a794e6-2d5d-4e48-a1e8-120cff5fd0eb\n",
      "sim calculated successfully\n",
      "\n",
      "4525.000 0.1994 736.200\n",
      "0 existing calculation records provided\n"
     ]
    },
    {
     "name": "stderr",
     "output_type": "stream",
     "text": [
      "100%|█████████████████████████████████████████████████████████████████████████████████████| 1/1 [00:00<00:00,  3.35it/s]"
     ]
    },
    {
     "name": "stdout",
     "output_type": "stream",
     "text": [
      "1 calculation combinations to check\n",
      "1 new records to prepare\n"
     ]
    },
    {
     "name": "stderr",
     "output_type": "stream",
     "text": [
      "\n",
      "preparing: 100%|##########################################################################| 1/1 [00:00<00:00, 62.76it/s]\n"
     ]
    },
    {
     "name": "stdout",
     "output_type": "stream",
     "text": [
      "9d2bd173-7456-42ac-b51b-f123f0e1e951\n",
      "sim calculated successfully\n",
      "\n",
      "2287.500 0.05142 925.324\n",
      "0 existing calculation records provided\n"
     ]
    },
    {
     "name": "stderr",
     "output_type": "stream",
     "text": [
      "100%|█████████████████████████████████████████████████████████████████████████████████████| 1/1 [00:00<00:00,  3.46it/s]"
     ]
    },
    {
     "name": "stdout",
     "output_type": "stream",
     "text": [
      "1 calculation combinations to check\n",
      "1 new records to prepare\n"
     ]
    },
    {
     "name": "stderr",
     "output_type": "stream",
     "text": [
      "\n",
      "preparing: 100%|##########################################################################| 1/1 [00:00<00:00, 66.39it/s]\n"
     ]
    },
    {
     "name": "stdout",
     "output_type": "stream",
     "text": [
      "2e68bbed-8284-4068-b8a0-154ed9b1790c\n",
      "sim calculated successfully\n",
      "\n",
      "1168.750 0.0002069 1146.686\n",
      "0 existing calculation records provided\n"
     ]
    },
    {
     "name": "stderr",
     "output_type": "stream",
     "text": [
      "100%|█████████████████████████████████████████████████████████████████████████████████████| 1/1 [00:00<00:00,  3.39it/s]"
     ]
    },
    {
     "name": "stdout",
     "output_type": "stream",
     "text": [
      "1 calculation combinations to check\n",
      "1 new records to prepare\n"
     ]
    },
    {
     "name": "stderr",
     "output_type": "stream",
     "text": [
      "\n",
      "preparing: 100%|##########################################################################| 1/1 [00:00<00:00, 61.46it/s]\n"
     ]
    },
    {
     "name": "stdout",
     "output_type": "stream",
     "text": [
      "594ca945-5206-42e5-83e4-69c4e45737da\n",
      "sim calculated successfully\n",
      "\n",
      "609.375 0.2892 605.461\n",
      "0 existing calculation records provided\n"
     ]
    },
    {
     "name": "stderr",
     "output_type": "stream",
     "text": [
      "100%|█████████████████████████████████████████████████████████████████████████████████████| 1/1 [00:00<00:00,  3.32it/s]"
     ]
    },
    {
     "name": "stdout",
     "output_type": "stream",
     "text": [
      "1 calculation combinations to check\n",
      "1 new records to prepare\n"
     ]
    },
    {
     "name": "stderr",
     "output_type": "stream",
     "text": [
      "\n",
      "preparing: 100%|##########################################################################| 1/1 [00:00<00:00, 62.29it/s]\n"
     ]
    },
    {
     "name": "stdout",
     "output_type": "stream",
     "text": [
      "79efe623-074f-4a2e-bc9b-6c114d33355b\n",
      "sim calculated successfully\n",
      "\n",
      "329.688 0.3538 328.022\n",
      "0 existing calculation records provided\n"
     ]
    },
    {
     "name": "stderr",
     "output_type": "stream",
     "text": [
      "100%|█████████████████████████████████████████████████████████████████████████████████████| 1/1 [00:00<00:00,  3.26it/s]"
     ]
    },
    {
     "name": "stdout",
     "output_type": "stream",
     "text": [
      "1 calculation combinations to check\n",
      "1 new records to prepare\n"
     ]
    },
    {
     "name": "stderr",
     "output_type": "stream",
     "text": [
      "\n",
      "preparing: 100%|##########################################################################| 1/1 [00:00<00:00, 58.68it/s]\n"
     ]
    },
    {
     "name": "stdout",
     "output_type": "stream",
     "text": [
      "3b348dfb-951d-44f9-95e0-2ea449e57efc\n",
      "sim calculated successfully\n",
      "\n",
      "189.844 0.5005 189.025\n",
      "0 existing calculation records provided\n"
     ]
    },
    {
     "name": "stderr",
     "output_type": "stream",
     "text": [
      "100%|█████████████████████████████████████████████████████████████████████████████████████| 1/1 [00:00<00:00,  3.25it/s]"
     ]
    },
    {
     "name": "stdout",
     "output_type": "stream",
     "text": [
      "1 calculation combinations to check\n",
      "1 new records to prepare\n"
     ]
    },
    {
     "name": "stderr",
     "output_type": "stream",
     "text": [
      "\n",
      "preparing: 100%|##########################################################################| 1/1 [00:00<00:00, 61.93it/s]\n"
     ]
    },
    {
     "name": "stdout",
     "output_type": "stream",
     "text": [
      "29c56e44-00fc-4020-88be-aeb6dfde5327\n",
      "sim calculated successfully\n",
      "\n",
      "189.844 0.5159 188.880\n",
      "0 existing calculation records provided\n"
     ]
    },
    {
     "name": "stderr",
     "output_type": "stream",
     "text": [
      "100%|█████████████████████████████████████████████████████████████████████████████████████| 1/1 [00:00<00:00,  3.30it/s]"
     ]
    },
    {
     "name": "stdout",
     "output_type": "stream",
     "text": [
      "1 calculation combinations to check\n",
      "1 new records to prepare\n"
     ]
    },
    {
     "name": "stderr",
     "output_type": "stream",
     "text": [
      "\n",
      "preparing: 100%|##########################################################################| 1/1 [00:00<00:00, 62.62it/s]\n"
     ]
    },
    {
     "name": "stdout",
     "output_type": "stream",
     "text": [
      "0b6657c7-b07a-4731-ae0b-33f6bea42986\n",
      "sim calculated successfully\n",
      "\n",
      "189.844 0.5126 189.195\n",
      "0 existing calculation records provided\n"
     ]
    },
    {
     "name": "stderr",
     "output_type": "stream",
     "text": [
      "100%|█████████████████████████████████████████████████████████████████████████████████████| 1/1 [00:00<00:00,  3.44it/s]"
     ]
    },
    {
     "name": "stdout",
     "output_type": "stream",
     "text": [
      "1 calculation combinations to check\n",
      "1 new records to prepare\n"
     ]
    },
    {
     "name": "stderr",
     "output_type": "stream",
     "text": [
      "\n",
      "preparing: 100%|##########################################################################| 1/1 [00:00<00:00, 60.05it/s]\n"
     ]
    },
    {
     "name": "stdout",
     "output_type": "stream",
     "text": [
      "d97739e3-56d8-4f99-8347-fbc1266d9f84\n",
      "sim calculated successfully\n",
      "\n",
      "189.844 0.5148 188.974\n",
      "0 existing calculation records provided\n"
     ]
    },
    {
     "name": "stderr",
     "output_type": "stream",
     "text": [
      "100%|█████████████████████████████████████████████████████████████████████████████████████| 1/1 [00:00<00:00,  3.59it/s]"
     ]
    },
    {
     "name": "stdout",
     "output_type": "stream",
     "text": [
      "1 calculation combinations to check\n",
      "1 new records to prepare\n"
     ]
    },
    {
     "name": "stderr",
     "output_type": "stream",
     "text": [
      "\n",
      "preparing: 100%|##########################################################################| 1/1 [00:00<00:00, 64.29it/s]\n"
     ]
    },
    {
     "name": "stdout",
     "output_type": "stream",
     "text": [
      "c4a8bf36-5576-41b5-9527-07c2da1dcb05\n",
      "sim calculated successfully\n",
      "\n",
      "189.844 0.5231 188.911\n",
      "0 existing calculation records provided\n"
     ]
    },
    {
     "name": "stderr",
     "output_type": "stream",
     "text": [
      "100%|█████████████████████████████████████████████████████████████████████████████████████| 1/1 [00:00<00:00,  3.19it/s]"
     ]
    },
    {
     "name": "stdout",
     "output_type": "stream",
     "text": [
      "1 calculation combinations to check\n",
      "1 new records to prepare\n"
     ]
    },
    {
     "name": "stderr",
     "output_type": "stream",
     "text": [
      "\n",
      "preparing: 100%|##########################################################################| 1/1 [00:00<00:00, 52.38it/s]\n"
     ]
    },
    {
     "name": "stdout",
     "output_type": "stream",
     "text": [
      "dd540c7b-5e22-41c9-9bbf-567aebdbb2fe\n",
      "sim calculated successfully\n",
      "\n",
      "189.844 0.5178 189.084\n",
      "0 existing calculation records provided\n"
     ]
    },
    {
     "name": "stderr",
     "output_type": "stream",
     "text": [
      "100%|█████████████████████████████████████████████████████████████████████████████████████| 1/1 [00:00<00:00,  3.64it/s]"
     ]
    },
    {
     "name": "stdout",
     "output_type": "stream",
     "text": [
      "1 calculation combinations to check\n",
      "1 new records to prepare\n"
     ]
    },
    {
     "name": "stderr",
     "output_type": "stream",
     "text": [
      "\n",
      "preparing: 100%|##########################################################################| 1/1 [00:00<00:00, 50.79it/s]\n"
     ]
    },
    {
     "name": "stdout",
     "output_type": "stream",
     "text": [
      "1ebc1458-9b23-4400-a6fb-b70709bdc85e\n",
      "sim calculated successfully\n",
      "\n",
      "189.844 0.5159 188.977\n",
      "0 existing calculation records provided\n"
     ]
    },
    {
     "name": "stderr",
     "output_type": "stream",
     "text": [
      "100%|█████████████████████████████████████████████████████████████████████████████████████| 1/1 [00:00<00:00,  3.40it/s]"
     ]
    },
    {
     "name": "stdout",
     "output_type": "stream",
     "text": [
      "1 calculation combinations to check\n",
      "1 new records to prepare\n"
     ]
    },
    {
     "name": "stderr",
     "output_type": "stream",
     "text": [
      "\n",
      "preparing: 100%|##########################################################################| 1/1 [00:00<00:00, 51.17it/s]\n"
     ]
    },
    {
     "name": "stdout",
     "output_type": "stream",
     "text": [
      "1d9c0b91-2e0c-4190-a14a-60a744f552b3\n",
      "sim calculated successfully\n",
      "\n",
      "189.844 0.5212 188.858\n",
      "\n",
      "74 2006--Williams-P-L--Ag--LAMMPS--ipr1\n",
      "0 existing calculation records provided\n"
     ]
    },
    {
     "name": "stderr",
     "output_type": "stream",
     "text": [
      "100%|█████████████████████████████████████████████████████████████████████████████████████| 1/1 [00:00<00:00,  3.47it/s]"
     ]
    },
    {
     "name": "stdout",
     "output_type": "stream",
     "text": [
      "1 calculation combinations to check\n",
      "1 new records to prepare\n"
     ]
    },
    {
     "name": "stderr",
     "output_type": "stream",
     "text": [
      "\n",
      "preparing: 100%|##########################################################################| 1/1 [00:00<00:00, 61.00it/s]\n"
     ]
    },
    {
     "name": "stdout",
     "output_type": "stream",
     "text": [
      "027ff5e3-9711-4b8d-b943-6db428b598c2\n",
      "sim calculated successfully\n",
      "\n",
      "4525.000 0.07953 3495.409\n",
      "0 existing calculation records provided\n"
     ]
    },
    {
     "name": "stderr",
     "output_type": "stream",
     "text": [
      "100%|█████████████████████████████████████████████████████████████████████████████████████| 1/1 [00:00<00:00,  3.36it/s]"
     ]
    },
    {
     "name": "stdout",
     "output_type": "stream",
     "text": [
      "1 calculation combinations to check\n",
      "1 new records to prepare\n"
     ]
    },
    {
     "name": "stderr",
     "output_type": "stream",
     "text": [
      "\n",
      "preparing: 100%|##########################################################################| 1/1 [00:00<00:00, 51.36it/s]\n"
     ]
    },
    {
     "name": "stdout",
     "output_type": "stream",
     "text": [
      "224c64a9-af75-4b84-aaf7-b376d9c6978b\n",
      "sim calculated successfully\n",
      "\n",
      "2287.500 1.034e-05 2259.232\n",
      "0 existing calculation records provided\n"
     ]
    },
    {
     "name": "stderr",
     "output_type": "stream",
     "text": [
      "100%|█████████████████████████████████████████████████████████████████████████████████████| 1/1 [00:00<00:00,  3.51it/s]"
     ]
    },
    {
     "name": "stdout",
     "output_type": "stream",
     "text": [
      "1 calculation combinations to check\n",
      "1 new records to prepare\n"
     ]
    },
    {
     "name": "stderr",
     "output_type": "stream",
     "text": [
      "\n",
      "preparing: 100%|##########################################################################| 1/1 [00:00<00:00, 49.56it/s]\n"
     ]
    },
    {
     "name": "stdout",
     "output_type": "stream",
     "text": [
      "7c64f251-143e-4034-9b7e-fecb28c01456\n",
      "sim calculated successfully\n",
      "\n",
      "1168.750 0.07448 1280.506\n",
      "0 existing calculation records provided\n"
     ]
    },
    {
     "name": "stderr",
     "output_type": "stream",
     "text": [
      "100%|█████████████████████████████████████████████████████████████████████████████████████| 1/1 [00:00<00:00,  3.40it/s]"
     ]
    },
    {
     "name": "stdout",
     "output_type": "stream",
     "text": [
      "1 calculation combinations to check\n",
      "1 new records to prepare\n"
     ]
    },
    {
     "name": "stderr",
     "output_type": "stream",
     "text": [
      "\n",
      "preparing: 100%|##########################################################################| 1/1 [00:00<00:00, 48.56it/s]\n"
     ]
    },
    {
     "name": "stdout",
     "output_type": "stream",
     "text": [
      "4c158e1e-6980-4dc4-b53f-416ba2672960\n",
      "sim calculated successfully\n",
      "\n",
      "609.375 0.1296 605.840\n",
      "0 existing calculation records provided\n"
     ]
    },
    {
     "name": "stderr",
     "output_type": "stream",
     "text": [
      "100%|█████████████████████████████████████████████████████████████████████████████████████| 1/1 [00:00<00:00,  3.39it/s]"
     ]
    },
    {
     "name": "stdout",
     "output_type": "stream",
     "text": [
      "1 calculation combinations to check\n",
      "1 new records to prepare\n"
     ]
    },
    {
     "name": "stderr",
     "output_type": "stream",
     "text": [
      "\n",
      "preparing: 100%|##########################################################################| 1/1 [00:00<00:00, 50.44it/s]\n"
     ]
    },
    {
     "name": "stdout",
     "output_type": "stream",
     "text": [
      "261c30eb-35df-415f-8bc3-8aa908e78ff0\n",
      "sim calculated successfully\n",
      "\n",
      "329.688 0.1563 327.083\n",
      "0 existing calculation records provided\n"
     ]
    },
    {
     "name": "stderr",
     "output_type": "stream",
     "text": [
      "100%|█████████████████████████████████████████████████████████████████████████████████████| 1/1 [00:00<00:00,  3.51it/s]"
     ]
    },
    {
     "name": "stdout",
     "output_type": "stream",
     "text": [
      "1 calculation combinations to check\n",
      "1 new records to prepare\n"
     ]
    },
    {
     "name": "stderr",
     "output_type": "stream",
     "text": [
      "\n",
      "preparing: 100%|##########################################################################| 1/1 [00:00<00:00, 54.14it/s]\n"
     ]
    },
    {
     "name": "stdout",
     "output_type": "stream",
     "text": [
      "35dfb9a7-628e-4fe4-a086-58f762029e10\n",
      "sim calculated successfully\n",
      "\n",
      "189.844 0.1272 188.963\n",
      "0 existing calculation records provided\n"
     ]
    },
    {
     "name": "stderr",
     "output_type": "stream",
     "text": [
      "100%|█████████████████████████████████████████████████████████████████████████████████████| 1/1 [00:00<00:00,  3.36it/s]"
     ]
    },
    {
     "name": "stdout",
     "output_type": "stream",
     "text": [
      "1 calculation combinations to check\n",
      "1 new records to prepare\n"
     ]
    },
    {
     "name": "stderr",
     "output_type": "stream",
     "text": [
      "\n",
      "preparing: 100%|##########################################################################| 1/1 [00:00<00:00, 47.95it/s]\n"
     ]
    },
    {
     "name": "stdout",
     "output_type": "stream",
     "text": [
      "65184f9b-cc1b-40c0-8fcc-11305bc7fe7f\n",
      "sim calculated successfully\n",
      "\n",
      "119.922 0.1387 120.415\n",
      "0 existing calculation records provided\n"
     ]
    },
    {
     "name": "stderr",
     "output_type": "stream",
     "text": [
      "100%|█████████████████████████████████████████████████████████████████████████████████████| 1/1 [00:00<00:00,  3.32it/s]"
     ]
    },
    {
     "name": "stdout",
     "output_type": "stream",
     "text": [
      "1 calculation combinations to check\n",
      "1 new records to prepare\n"
     ]
    },
    {
     "name": "stderr",
     "output_type": "stream",
     "text": [
      "\n",
      "preparing: 100%|##########################################################################| 1/1 [00:00<00:00, 48.46it/s]\n"
     ]
    },
    {
     "name": "stdout",
     "output_type": "stream",
     "text": [
      "5325de19-b775-4ff9-b098-cb9047f165f6\n",
      "sim calculated successfully\n",
      "\n",
      "84.961 0.09311 84.849\n",
      "0 existing calculation records provided\n"
     ]
    },
    {
     "name": "stderr",
     "output_type": "stream",
     "text": [
      "100%|█████████████████████████████████████████████████████████████████████████████████████| 1/1 [00:00<00:00,  3.40it/s]"
     ]
    },
    {
     "name": "stdout",
     "output_type": "stream",
     "text": [
      "1 calculation combinations to check\n",
      "1 new records to prepare\n"
     ]
    },
    {
     "name": "stderr",
     "output_type": "stream",
     "text": [
      "\n",
      "preparing: 100%|##########################################################################| 1/1 [00:00<00:00, 44.70it/s]\n"
     ]
    },
    {
     "name": "stdout",
     "output_type": "stream",
     "text": [
      "05e416b6-867d-4b4a-9f0c-9b12a931a810\n",
      "sim calculated successfully\n",
      "\n",
      "67.480 0.06069 67.415\n",
      "0 existing calculation records provided\n"
     ]
    },
    {
     "name": "stderr",
     "output_type": "stream",
     "text": [
      "100%|█████████████████████████████████████████████████████████████████████████████████████| 1/1 [00:00<00:00,  3.50it/s]"
     ]
    },
    {
     "name": "stdout",
     "output_type": "stream",
     "text": [
      "1 calculation combinations to check\n",
      "1 new records to prepare\n"
     ]
    },
    {
     "name": "stderr",
     "output_type": "stream",
     "text": [
      "\n",
      "preparing: 100%|##########################################################################| 1/1 [00:00<00:00, 45.50it/s]\n"
     ]
    },
    {
     "name": "stdout",
     "output_type": "stream",
     "text": [
      "b3b40f7b-deb8-4253-946d-6578c011da6c\n",
      "sim calculated successfully\n",
      "\n",
      "58.740 0.06308 58.582\n",
      "0 existing calculation records provided\n"
     ]
    },
    {
     "name": "stderr",
     "output_type": "stream",
     "text": [
      "100%|█████████████████████████████████████████████████████████████████████████████████████| 1/1 [00:00<00:00,  3.50it/s]"
     ]
    },
    {
     "name": "stdout",
     "output_type": "stream",
     "text": [
      "1 calculation combinations to check\n",
      "1 new records to prepare\n"
     ]
    },
    {
     "name": "stderr",
     "output_type": "stream",
     "text": [
      "\n",
      "preparing: 100%|##########################################################################| 1/1 [00:00<00:00, 47.14it/s]\n"
     ]
    },
    {
     "name": "stdout",
     "output_type": "stream",
     "text": [
      "030abdb4-22ac-4ce7-abe4-2d90ba4dbedc\n",
      "sim calculated successfully\n",
      "\n",
      "54.370 0.001965 54.065\n",
      "0 existing calculation records provided\n"
     ]
    },
    {
     "name": "stderr",
     "output_type": "stream",
     "text": [
      "100%|█████████████████████████████████████████████████████████████████████████████████████| 1/1 [00:00<00:00,  3.38it/s]"
     ]
    },
    {
     "name": "stdout",
     "output_type": "stream",
     "text": [
      "1 calculation combinations to check\n",
      "1 new records to prepare\n"
     ]
    },
    {
     "name": "stderr",
     "output_type": "stream",
     "text": [
      "\n",
      "preparing: 100%|##########################################################################| 1/1 [00:00<00:00, 50.00it/s]\n"
     ]
    },
    {
     "name": "stdout",
     "output_type": "stream",
     "text": [
      "6cc2693f-c215-4e0f-bec5-a6106aba3612\n",
      "sim calculated successfully\n",
      "\n",
      "52.185 0.001862 51.957\n",
      "0 existing calculation records provided\n"
     ]
    },
    {
     "name": "stderr",
     "output_type": "stream",
     "text": [
      "100%|█████████████████████████████████████████████████████████████████████████████████████| 1/1 [00:00<00:00,  3.19it/s]"
     ]
    },
    {
     "name": "stdout",
     "output_type": "stream",
     "text": [
      "1 calculation combinations to check\n",
      "1 new records to prepare\n"
     ]
    },
    {
     "name": "stderr",
     "output_type": "stream",
     "text": [
      "\n",
      "preparing: 100%|##########################################################################| 1/1 [00:00<00:00, 46.96it/s]\n"
     ]
    },
    {
     "name": "stdout",
     "output_type": "stream",
     "text": [
      "fff9842a-358f-4877-8688-bf2b34c597a8\n",
      "sim calculated successfully\n",
      "\n",
      "51.093 0.002483 51.054\n",
      "0 existing calculation records provided\n"
     ]
    },
    {
     "name": "stderr",
     "output_type": "stream",
     "text": [
      "100%|█████████████████████████████████████████████████████████████████████████████████████| 1/1 [00:00<00:00,  3.48it/s]"
     ]
    },
    {
     "name": "stdout",
     "output_type": "stream",
     "text": [
      "1 calculation combinations to check\n",
      "1 new records to prepare\n"
     ]
    },
    {
     "name": "stderr",
     "output_type": "stream",
     "text": [
      "\n",
      "preparing: 100%|##########################################################################| 1/1 [00:00<00:00, 48.30it/s]\n"
     ]
    },
    {
     "name": "stdout",
     "output_type": "stream",
     "text": [
      "ff834b2f-59b6-460c-9f3a-6247d4c8fcec\n",
      "sim calculated successfully\n",
      "\n",
      "50.546 0.001976 50.463\n",
      "0 existing calculation records provided\n"
     ]
    },
    {
     "name": "stderr",
     "output_type": "stream",
     "text": [
      "100%|█████████████████████████████████████████████████████████████████████████████████████| 1/1 [00:00<00:00,  3.47it/s]"
     ]
    },
    {
     "name": "stdout",
     "output_type": "stream",
     "text": [
      "1 calculation combinations to check\n",
      "1 new records to prepare\n"
     ]
    },
    {
     "name": "stderr",
     "output_type": "stream",
     "text": [
      "\n",
      "preparing: 100%|##########################################################################| 1/1 [00:00<00:00, 47.79it/s]\n"
     ]
    },
    {
     "name": "stdout",
     "output_type": "stream",
     "text": [
      "ba3fd5da-8592-4b43-80ac-0842284ae153\n",
      "sim calculated successfully\n",
      "\n",
      "50.273 0.002328 50.200\n",
      "0 existing calculation records provided\n"
     ]
    },
    {
     "name": "stderr",
     "output_type": "stream",
     "text": [
      "100%|█████████████████████████████████████████████████████████████████████████████████████| 1/1 [00:00<00:00,  3.44it/s]"
     ]
    },
    {
     "name": "stdout",
     "output_type": "stream",
     "text": [
      "1 calculation combinations to check\n",
      "1 new records to prepare\n"
     ]
    },
    {
     "name": "stderr",
     "output_type": "stream",
     "text": [
      "\n",
      "preparing: 100%|##########################################################################| 1/1 [00:00<00:00, 55.76it/s]\n"
     ]
    },
    {
     "name": "stdout",
     "output_type": "stream",
     "text": [
      "d52b076a-a6f0-4f38-a0d6-b3e777eb2466\n",
      "sim calculated successfully\n",
      "\n",
      "50.137 0.002007 50.062\n",
      "0 existing calculation records provided\n"
     ]
    },
    {
     "name": "stderr",
     "output_type": "stream",
     "text": [
      "100%|█████████████████████████████████████████████████████████████████████████████████████| 1/1 [00:00<00:00,  3.33it/s]"
     ]
    },
    {
     "name": "stdout",
     "output_type": "stream",
     "text": [
      "1 calculation combinations to check\n",
      "1 new records to prepare\n"
     ]
    },
    {
     "name": "stderr",
     "output_type": "stream",
     "text": [
      "\n",
      "preparing: 100%|##########################################################################| 1/1 [00:00<00:00, 49.85it/s]\n"
     ]
    },
    {
     "name": "stdout",
     "output_type": "stream",
     "text": [
      "ccf56c5a-f2b0-491c-80ba-a7508f65b73b\n",
      "sim calculated successfully\n",
      "\n",
      "50.068 0.002121 50.008\n",
      "0 existing calculation records provided\n"
     ]
    },
    {
     "name": "stderr",
     "output_type": "stream",
     "text": [
      "100%|█████████████████████████████████████████████████████████████████████████████████████| 1/1 [00:00<00:00,  3.15it/s]"
     ]
    },
    {
     "name": "stdout",
     "output_type": "stream",
     "text": [
      "1 calculation combinations to check\n",
      "1 new records to prepare\n"
     ]
    },
    {
     "name": "stderr",
     "output_type": "stream",
     "text": [
      "\n",
      "preparing: 100%|##########################################################################| 1/1 [00:00<00:00, 26.90it/s]\n"
     ]
    },
    {
     "name": "stdout",
     "output_type": "stream",
     "text": [
      "a790c54c-2714-42b5-b66b-c6203d652b71\n",
      "sim calculated successfully\n",
      "\n",
      "50.034 0.002203 49.965\n",
      "0 existing calculation records provided\n"
     ]
    },
    {
     "name": "stderr",
     "output_type": "stream",
     "text": [
      "100%|█████████████████████████████████████████████████████████████████████████████████████| 1/1 [00:00<00:00,  3.42it/s]"
     ]
    },
    {
     "name": "stdout",
     "output_type": "stream",
     "text": [
      "1 calculation combinations to check\n",
      "1 new records to prepare\n"
     ]
    },
    {
     "name": "stderr",
     "output_type": "stream",
     "text": [
      "\n",
      "preparing: 100%|##########################################################################| 1/1 [00:00<00:00, 27.91it/s]\n"
     ]
    },
    {
     "name": "stdout",
     "output_type": "stream",
     "text": [
      "c0e4087d-632c-40a6-b04d-4be1f32d7d0f\n",
      "sim calculated successfully\n",
      "\n",
      "50.017 0.002079 49.943\n",
      "0 existing calculation records provided\n"
     ]
    },
    {
     "name": "stderr",
     "output_type": "stream",
     "text": [
      "100%|█████████████████████████████████████████████████████████████████████████████████████| 1/1 [00:00<00:00,  4.22it/s]"
     ]
    },
    {
     "name": "stdout",
     "output_type": "stream",
     "text": [
      "1 calculation combinations to check\n",
      "1 new records to prepare\n"
     ]
    },
    {
     "name": "stderr",
     "output_type": "stream",
     "text": [
      "\n",
      "preparing: 100%|##########################################################################| 1/1 [00:00<00:00, 50.29it/s]\n"
     ]
    },
    {
     "name": "stdout",
     "output_type": "stream",
     "text": [
      "9d901dc4-ae86-445b-93c5-a646e85e79f9\n",
      "sim calculated successfully\n",
      "\n",
      "50.009 0.00181 49.977\n",
      "0 existing calculation records provided\n"
     ]
    },
    {
     "name": "stderr",
     "output_type": "stream",
     "text": [
      "100%|█████████████████████████████████████████████████████████████████████████████████████| 1/1 [00:00<00:00,  4.14it/s]"
     ]
    },
    {
     "name": "stdout",
     "output_type": "stream",
     "text": [
      "1 calculation combinations to check\n",
      "1 new records to prepare\n"
     ]
    },
    {
     "name": "stderr",
     "output_type": "stream",
     "text": [
      "\n",
      "preparing: 100%|##########################################################################| 1/1 [00:00<00:00, 48.78it/s]\n"
     ]
    },
    {
     "name": "stdout",
     "output_type": "stream",
     "text": [
      "472dddd7-5ce0-41cb-8433-61b7b5fe5f6f\n",
      "sim calculated successfully\n",
      "\n",
      "50.004 0.001976 49.939\n",
      "0 existing calculation records provided\n"
     ]
    },
    {
     "name": "stderr",
     "output_type": "stream",
     "text": [
      "100%|█████████████████████████████████████████████████████████████████████████████████████| 1/1 [00:00<00:00,  3.48it/s]"
     ]
    },
    {
     "name": "stdout",
     "output_type": "stream",
     "text": [
      "1 calculation combinations to check\n",
      "1 new records to prepare\n"
     ]
    },
    {
     "name": "stderr",
     "output_type": "stream",
     "text": [
      "\n",
      "preparing: 100%|##########################################################################| 1/1 [00:00<00:00, 27.45it/s]\n"
     ]
    },
    {
     "name": "stdout",
     "output_type": "stream",
     "text": [
      "ef58a02f-2ad6-4617-8f28-acd8bcaf7b1c\n",
      "sim calculated successfully\n",
      "\n",
      "50.002 0.002141 49.921\n",
      "0 existing calculation records provided\n"
     ]
    },
    {
     "name": "stderr",
     "output_type": "stream",
     "text": [
      "100%|█████████████████████████████████████████████████████████████████████████████████████| 1/1 [00:00<00:00,  3.56it/s]"
     ]
    },
    {
     "name": "stdout",
     "output_type": "stream",
     "text": [
      "1 calculation combinations to check\n",
      "1 new records to prepare\n"
     ]
    },
    {
     "name": "stderr",
     "output_type": "stream",
     "text": [
      "\n",
      "preparing: 100%|##########################################################################| 1/1 [00:00<00:00, 54.18it/s]\n"
     ]
    },
    {
     "name": "stdout",
     "output_type": "stream",
     "text": [
      "0a3c974c-a345-4e50-af11-dc95202d7be2\n",
      "sim calculated successfully\n",
      "\n",
      "50.001 0.002028 49.926\n",
      "0 existing calculation records provided\n"
     ]
    },
    {
     "name": "stderr",
     "output_type": "stream",
     "text": [
      "100%|█████████████████████████████████████████████████████████████████████████████████████| 1/1 [00:00<00:00,  3.62it/s]"
     ]
    },
    {
     "name": "stdout",
     "output_type": "stream",
     "text": [
      "1 calculation combinations to check\n",
      "1 new records to prepare\n"
     ]
    },
    {
     "name": "stderr",
     "output_type": "stream",
     "text": [
      "\n",
      "preparing: 100%|##########################################################################| 1/1 [00:00<00:00, 28.20it/s]\n"
     ]
    },
    {
     "name": "stdout",
     "output_type": "stream",
     "text": [
      "be3d7a54-a94e-4848-92dd-5e3632b8f5ff\n",
      "sim calculated successfully\n",
      "\n",
      "50.001 0.002048 49.934\n",
      "0 existing calculation records provided\n"
     ]
    },
    {
     "name": "stderr",
     "output_type": "stream",
     "text": [
      "100%|█████████████████████████████████████████████████████████████████████████████████████| 1/1 [00:00<00:00,  4.19it/s]"
     ]
    },
    {
     "name": "stdout",
     "output_type": "stream",
     "text": [
      "1 calculation combinations to check\n",
      "1 new records to prepare\n"
     ]
    },
    {
     "name": "stderr",
     "output_type": "stream",
     "text": [
      "\n",
      "preparing: 100%|##########################################################################| 1/1 [00:00<00:00, 43.40it/s]\n"
     ]
    },
    {
     "name": "stdout",
     "output_type": "stream",
     "text": [
      "acab6810-b1ce-4d02-b4f5-966ecf54d332\n",
      "sim calculated successfully\n",
      "\n",
      "50.000 0.002017 49.928\n",
      "0 existing calculation records provided\n"
     ]
    },
    {
     "name": "stderr",
     "output_type": "stream",
     "text": [
      "100%|█████████████████████████████████████████████████████████████████████████████████████| 1/1 [00:00<00:00,  3.19it/s]"
     ]
    },
    {
     "name": "stdout",
     "output_type": "stream",
     "text": [
      "1 calculation combinations to check\n",
      "1 new records to prepare\n"
     ]
    },
    {
     "name": "stderr",
     "output_type": "stream",
     "text": [
      "\n",
      "preparing: 100%|##########################################################################| 1/1 [00:00<00:00, 31.04it/s]\n"
     ]
    },
    {
     "name": "stdout",
     "output_type": "stream",
     "text": [
      "9aa48352-fa47-48dd-82f9-ad1a92ce072a\n",
      "sim calculated successfully\n",
      "\n",
      "50.000 0.002007 49.928\n",
      "0 existing calculation records provided\n"
     ]
    },
    {
     "name": "stderr",
     "output_type": "stream",
     "text": [
      "100%|█████████████████████████████████████████████████████████████████████████████████████| 1/1 [00:00<00:00,  3.95it/s]"
     ]
    },
    {
     "name": "stdout",
     "output_type": "stream",
     "text": [
      "1 calculation combinations to check\n",
      "1 new records to prepare\n"
     ]
    },
    {
     "name": "stderr",
     "output_type": "stream",
     "text": [
      "\n",
      "preparing: 100%|##########################################################################| 1/1 [00:00<00:00, 41.59it/s]\n"
     ]
    },
    {
     "name": "stdout",
     "output_type": "stream",
     "text": [
      "5f25bfe0-16c9-48d8-8aed-279b10163e07\n",
      "sim calculated successfully\n",
      "\n",
      "50.000 0.001997 49.931\n",
      "0 existing calculation records provided\n"
     ]
    },
    {
     "name": "stderr",
     "output_type": "stream",
     "text": [
      "100%|█████████████████████████████████████████████████████████████████████████████████████| 1/1 [00:00<00:00,  3.44it/s]"
     ]
    },
    {
     "name": "stdout",
     "output_type": "stream",
     "text": [
      "1 calculation combinations to check\n",
      "1 new records to prepare\n"
     ]
    },
    {
     "name": "stderr",
     "output_type": "stream",
     "text": [
      "\n",
      "preparing: 100%|##########################################################################| 1/1 [00:00<00:00, 27.40it/s]\n"
     ]
    },
    {
     "name": "stdout",
     "output_type": "stream",
     "text": [
      "fda8192b-6fe9-4367-bce6-ef62bc4894d1\n",
      "sim calculated successfully\n",
      "\n",
      "50.000 0.002059 49.932\n",
      "0 existing calculation records provided\n"
     ]
    },
    {
     "name": "stderr",
     "output_type": "stream",
     "text": [
      "100%|█████████████████████████████████████████████████████████████████████████████████████| 1/1 [00:00<00:00,  3.41it/s]"
     ]
    },
    {
     "name": "stdout",
     "output_type": "stream",
     "text": [
      "1 calculation combinations to check\n",
      "1 new records to prepare\n"
     ]
    },
    {
     "name": "stderr",
     "output_type": "stream",
     "text": [
      "\n",
      "preparing: 100%|##########################################################################| 1/1 [00:00<00:00, 22.75it/s]\n"
     ]
    },
    {
     "name": "stdout",
     "output_type": "stream",
     "text": [
      "927bfcdb-a338-4cba-9aac-154c62de1fc1\n",
      "sim calculated successfully\n",
      "\n",
      "50.000 0.002183 49.933\n",
      "0 existing calculation records provided\n"
     ]
    },
    {
     "name": "stderr",
     "output_type": "stream",
     "text": [
      "100%|█████████████████████████████████████████████████████████████████████████████████████| 1/1 [00:00<00:00,  3.59it/s]"
     ]
    },
    {
     "name": "stdout",
     "output_type": "stream",
     "text": [
      "1 calculation combinations to check\n",
      "1 new records to prepare\n"
     ]
    },
    {
     "name": "stderr",
     "output_type": "stream",
     "text": [
      "\n",
      "preparing: 100%|##########################################################################| 1/1 [00:00<00:00, 43.57it/s]\n"
     ]
    },
    {
     "name": "stdout",
     "output_type": "stream",
     "text": [
      "26bd3298-4081-4510-98ac-17369f720e5d\n",
      "sim calculated successfully\n",
      "\n",
      "50.000 0.002214 49.933\n",
      "0 existing calculation records provided\n"
     ]
    },
    {
     "name": "stderr",
     "output_type": "stream",
     "text": [
      "100%|█████████████████████████████████████████████████████████████████████████████████████| 1/1 [00:00<00:00,  3.44it/s]"
     ]
    },
    {
     "name": "stdout",
     "output_type": "stream",
     "text": [
      "1 calculation combinations to check\n",
      "1 new records to prepare\n"
     ]
    },
    {
     "name": "stderr",
     "output_type": "stream",
     "text": [
      "\n",
      "preparing: 100%|##########################################################################| 1/1 [00:00<00:00, 25.12it/s]\n"
     ]
    },
    {
     "name": "stdout",
     "output_type": "stream",
     "text": [
      "b8a82e91-fc00-4029-995c-8a32f5f01068\n",
      "sim calculated successfully\n",
      "\n",
      "50.000 0.002193 49.933\n",
      "0 existing calculation records provided\n"
     ]
    },
    {
     "name": "stderr",
     "output_type": "stream",
     "text": [
      "100%|█████████████████████████████████████████████████████████████████████████████████████| 1/1 [00:00<00:00,  4.21it/s]"
     ]
    },
    {
     "name": "stdout",
     "output_type": "stream",
     "text": [
      "1 calculation combinations to check\n",
      "1 new records to prepare\n"
     ]
    },
    {
     "name": "stderr",
     "output_type": "stream",
     "text": [
      "\n",
      "preparing: 100%|##########################################################################| 1/1 [00:00<00:00, 48.98it/s]\n"
     ]
    },
    {
     "name": "stdout",
     "output_type": "stream",
     "text": [
      "1e03dbbd-0ac1-4d9c-a0c9-c10c0137dfa2\n",
      "sim calculated successfully\n",
      "\n",
      "50.000 0.002183 49.933\n",
      "0 existing calculation records provided\n"
     ]
    },
    {
     "name": "stderr",
     "output_type": "stream",
     "text": [
      "100%|█████████████████████████████████████████████████████████████████████████████████████| 1/1 [00:00<00:00,  3.18it/s]"
     ]
    },
    {
     "name": "stdout",
     "output_type": "stream",
     "text": [
      "1 calculation combinations to check\n",
      "1 new records to prepare\n"
     ]
    },
    {
     "name": "stderr",
     "output_type": "stream",
     "text": [
      "\n",
      "preparing: 100%|##########################################################################| 1/1 [00:00<00:00, 28.30it/s]\n"
     ]
    },
    {
     "name": "stdout",
     "output_type": "stream",
     "text": [
      "70ea82f2-2562-4c15-8d03-ff2f8aa15ac4\n",
      "sim calculated successfully\n",
      "\n",
      "50.000 0.002183 49.933\n",
      "0 existing calculation records provided\n"
     ]
    },
    {
     "name": "stderr",
     "output_type": "stream",
     "text": [
      "100%|█████████████████████████████████████████████████████████████████████████████████████| 1/1 [00:00<00:00,  4.76it/s]"
     ]
    },
    {
     "name": "stdout",
     "output_type": "stream",
     "text": [
      "1 calculation combinations to check\n",
      "1 new records to prepare\n"
     ]
    },
    {
     "name": "stderr",
     "output_type": "stream",
     "text": [
      "\n",
      "preparing: 100%|##########################################################################| 1/1 [00:00<00:00, 48.06it/s]\n"
     ]
    },
    {
     "name": "stdout",
     "output_type": "stream",
     "text": [
      "00fcf33c-d959-4176-a6ab-b37996eaa747\n",
      "sim calculated successfully\n",
      "\n",
      "50.000 0.002183 49.933\n",
      "0 existing calculation records provided\n"
     ]
    },
    {
     "name": "stderr",
     "output_type": "stream",
     "text": [
      "100%|█████████████████████████████████████████████████████████████████████████████████████| 1/1 [00:00<00:00,  3.27it/s]"
     ]
    },
    {
     "name": "stdout",
     "output_type": "stream",
     "text": [
      "1 calculation combinations to check\n",
      "1 new records to prepare\n"
     ]
    },
    {
     "name": "stderr",
     "output_type": "stream",
     "text": [
      "\n",
      "preparing: 100%|##########################################################################| 1/1 [00:00<00:00, 31.59it/s]\n"
     ]
    },
    {
     "name": "stdout",
     "output_type": "stream",
     "text": [
      "cbcb98a2-5c7b-4786-9b90-19e8bc0f901e\n",
      "sim calculated successfully\n",
      "\n",
      "50.000 0.002183 49.933\n",
      "Max number of runs reached!\n",
      "\n",
      "75 2006--Williams-P-L--Cu-Ag--LAMMPS--ipr1\n",
      "0 existing calculation records provided\n"
     ]
    },
    {
     "name": "stderr",
     "output_type": "stream",
     "text": [
      "100%|█████████████████████████████████████████████████████████████████████████████████████| 1/1 [00:00<00:00,  3.11it/s]"
     ]
    },
    {
     "name": "stdout",
     "output_type": "stream",
     "text": [
      "1 calculation combinations to check\n",
      "1 new records to prepare\n"
     ]
    },
    {
     "name": "stderr",
     "output_type": "stream",
     "text": [
      "\n",
      "preparing: 100%|##########################################################################| 1/1 [00:00<00:00, 25.28it/s]\n"
     ]
    },
    {
     "name": "stdout",
     "output_type": "stream",
     "text": [
      "fc952112-6082-424e-a8a3-4dde215488b7\n",
      "sim calculated successfully\n",
      "\n",
      "4525.000 0.07778 3524.469\n",
      "0 existing calculation records provided\n"
     ]
    },
    {
     "name": "stderr",
     "output_type": "stream",
     "text": [
      "100%|█████████████████████████████████████████████████████████████████████████████████████| 1/1 [00:00<00:00,  3.76it/s]"
     ]
    },
    {
     "name": "stdout",
     "output_type": "stream",
     "text": [
      "1 calculation combinations to check\n",
      "1 new records to prepare\n"
     ]
    },
    {
     "name": "stderr",
     "output_type": "stream",
     "text": [
      "\n",
      "preparing: 100%|##########################################################################| 1/1 [00:00<00:00, 38.90it/s]\n"
     ]
    },
    {
     "name": "stdout",
     "output_type": "stream",
     "text": [
      "03c629bc-1798-47c6-bf01-ae81a39753c6\n",
      "sim calculated successfully\n",
      "\n",
      "2287.500 1.034e-05 2270.724\n",
      "0 existing calculation records provided\n"
     ]
    },
    {
     "name": "stderr",
     "output_type": "stream",
     "text": [
      "100%|█████████████████████████████████████████████████████████████████████████████████████| 1/1 [00:00<00:00,  3.52it/s]"
     ]
    },
    {
     "name": "stdout",
     "output_type": "stream",
     "text": [
      "1 calculation combinations to check\n",
      "1 new records to prepare\n"
     ]
    },
    {
     "name": "stderr",
     "output_type": "stream",
     "text": [
      "\n",
      "preparing: 100%|##########################################################################| 1/1 [00:00<00:00, 23.93it/s]\n"
     ]
    },
    {
     "name": "stdout",
     "output_type": "stream",
     "text": [
      "5450d351-318a-40c2-aa94-39fa52d4ce4b\n",
      "sim calculated successfully\n",
      "\n",
      "1168.750 0.07289 1254.598\n",
      "0 existing calculation records provided\n"
     ]
    },
    {
     "name": "stderr",
     "output_type": "stream",
     "text": [
      "100%|█████████████████████████████████████████████████████████████████████████████████████| 1/1 [00:00<00:00,  3.48it/s]"
     ]
    },
    {
     "name": "stdout",
     "output_type": "stream",
     "text": [
      "1 calculation combinations to check\n",
      "1 new records to prepare\n"
     ]
    },
    {
     "name": "stderr",
     "output_type": "stream",
     "text": [
      "\n",
      "preparing: 100%|##########################################################################| 1/1 [00:00<00:00, 22.55it/s]\n"
     ]
    },
    {
     "name": "stdout",
     "output_type": "stream",
     "text": [
      "49bc0d32-e5e3-4326-9bd2-48207c1c1713\n",
      "sim calculated successfully\n",
      "\n",
      "609.375 0.1425 606.781\n",
      "0 existing calculation records provided\n"
     ]
    },
    {
     "name": "stderr",
     "output_type": "stream",
     "text": [
      "100%|█████████████████████████████████████████████████████████████████████████████████████| 1/1 [00:00<00:00,  4.11it/s]"
     ]
    },
    {
     "name": "stdout",
     "output_type": "stream",
     "text": [
      "1 calculation combinations to check\n",
      "1 new records to prepare\n"
     ]
    },
    {
     "name": "stderr",
     "output_type": "stream",
     "text": [
      "\n",
      "preparing: 100%|##########################################################################| 1/1 [00:00<00:00, 37.35it/s]\n"
     ]
    },
    {
     "name": "stdout",
     "output_type": "stream",
     "text": [
      "d81f3306-e2d4-44a8-b256-ade81377b914\n",
      "sim calculated successfully\n",
      "\n",
      "329.688 0.1547 328.187\n",
      "0 existing calculation records provided\n"
     ]
    },
    {
     "name": "stderr",
     "output_type": "stream",
     "text": [
      "100%|█████████████████████████████████████████████████████████████████████████████████████| 1/1 [00:00<00:00,  3.17it/s]"
     ]
    },
    {
     "name": "stdout",
     "output_type": "stream",
     "text": [
      "1 calculation combinations to check\n",
      "1 new records to prepare\n"
     ]
    },
    {
     "name": "stderr",
     "output_type": "stream",
     "text": [
      "\n",
      "preparing: 100%|##########################################################################| 1/1 [00:00<00:00, 21.65it/s]\n"
     ]
    },
    {
     "name": "stdout",
     "output_type": "stream",
     "text": [
      "1d8000ba-8598-4645-9fa0-0dfd5219eb9e\n",
      "sim calculated successfully\n",
      "\n",
      "189.844 0.1287 188.725\n",
      "0 existing calculation records provided\n"
     ]
    },
    {
     "name": "stderr",
     "output_type": "stream",
     "text": [
      "100%|█████████████████████████████████████████████████████████████████████████████████████| 1/1 [00:00<00:00,  4.41it/s]"
     ]
    },
    {
     "name": "stdout",
     "output_type": "stream",
     "text": [
      "1 calculation combinations to check\n",
      "1 new records to prepare\n"
     ]
    },
    {
     "name": "stderr",
     "output_type": "stream",
     "text": [
      "\n",
      "preparing: 100%|##########################################################################| 1/1 [00:00<00:00, 31.23it/s]\n"
     ]
    },
    {
     "name": "stdout",
     "output_type": "stream",
     "text": [
      "25f980d9-56a7-4195-92f5-7372fb748ef0\n",
      "sim calculated successfully\n",
      "\n",
      "119.922 0.1383 120.316\n",
      "0 existing calculation records provided\n"
     ]
    },
    {
     "name": "stderr",
     "output_type": "stream",
     "text": [
      "100%|█████████████████████████████████████████████████████████████████████████████████████| 1/1 [00:00<00:00,  2.95it/s]"
     ]
    },
    {
     "name": "stdout",
     "output_type": "stream",
     "text": [
      "1 calculation combinations to check\n",
      "1 new records to prepare\n"
     ]
    },
    {
     "name": "stderr",
     "output_type": "stream",
     "text": [
      "\n",
      "preparing: 100%|##########################################################################| 1/1 [00:00<00:00,  7.47it/s]\n"
     ]
    },
    {
     "name": "stdout",
     "output_type": "stream",
     "text": [
      "7d91eea2-522f-48f4-938d-714adba20b25\n",
      "sim calculated successfully\n",
      "\n",
      "84.961 0.09359 84.825\n",
      "0 existing calculation records provided\n"
     ]
    },
    {
     "name": "stderr",
     "output_type": "stream",
     "text": [
      "100%|█████████████████████████████████████████████████████████████████████████████████████| 1/1 [00:00<00:00,  3.38it/s]"
     ]
    },
    {
     "name": "stdout",
     "output_type": "stream",
     "text": [
      "1 calculation combinations to check\n",
      "1 new records to prepare\n"
     ]
    },
    {
     "name": "stderr",
     "output_type": "stream",
     "text": [
      "\n",
      "preparing: 100%|##########################################################################| 1/1 [00:00<00:00, 21.67it/s]\n"
     ]
    },
    {
     "name": "stdout",
     "output_type": "stream",
     "text": [
      "55f06ca6-b57f-4af3-960a-7e631ede9604\n",
      "sim calculated successfully\n",
      "\n",
      "67.480 0.06019 67.428\n",
      "0 existing calculation records provided\n"
     ]
    },
    {
     "name": "stderr",
     "output_type": "stream",
     "text": [
      "100%|█████████████████████████████████████████████████████████████████████████████████████| 1/1 [00:00<00:00,  3.59it/s]"
     ]
    },
    {
     "name": "stdout",
     "output_type": "stream",
     "text": [
      "1 calculation combinations to check\n",
      "1 new records to prepare\n"
     ]
    },
    {
     "name": "stderr",
     "output_type": "stream",
     "text": [
      "\n",
      "preparing: 100%|##########################################################################| 1/1 [00:00<00:00, 34.77it/s]\n"
     ]
    },
    {
     "name": "stdout",
     "output_type": "stream",
     "text": [
      "c2991d76-698b-4d9c-9da5-904cc54aa4db\n",
      "sim calculated successfully\n",
      "\n",
      "58.740 0.06274 58.582\n",
      "0 existing calculation records provided\n"
     ]
    },
    {
     "name": "stderr",
     "output_type": "stream",
     "text": [
      "100%|█████████████████████████████████████████████████████████████████████████████████████| 1/1 [00:00<00:00,  3.44it/s]"
     ]
    },
    {
     "name": "stdout",
     "output_type": "stream",
     "text": [
      "1 calculation combinations to check\n",
      "1 new records to prepare\n"
     ]
    },
    {
     "name": "stderr",
     "output_type": "stream",
     "text": [
      "\n",
      "preparing: 100%|##########################################################################| 1/1 [00:00<00:00, 22.38it/s]\n"
     ]
    },
    {
     "name": "stdout",
     "output_type": "stream",
     "text": [
      "fd436f62-c27c-4c52-8145-630ee5a7b21c\n",
      "sim calculated successfully\n",
      "\n",
      "54.370 0.001955 54.065\n",
      "0 existing calculation records provided\n"
     ]
    },
    {
     "name": "stderr",
     "output_type": "stream",
     "text": [
      "100%|█████████████████████████████████████████████████████████████████████████████████████| 1/1 [00:00<00:00,  4.24it/s]"
     ]
    },
    {
     "name": "stdout",
     "output_type": "stream",
     "text": [
      "1 calculation combinations to check\n",
      "1 new records to prepare\n"
     ]
    },
    {
     "name": "stderr",
     "output_type": "stream",
     "text": [
      "\n",
      "preparing: 100%|##########################################################################| 1/1 [00:00<00:00, 35.53it/s]\n"
     ]
    },
    {
     "name": "stdout",
     "output_type": "stream",
     "text": [
      "f0254af6-f770-423b-bf5c-b001ffa5aff9\n",
      "sim calculated successfully\n",
      "\n",
      "52.185 0.001852 51.957\n",
      "0 existing calculation records provided\n"
     ]
    },
    {
     "name": "stderr",
     "output_type": "stream",
     "text": [
      "100%|█████████████████████████████████████████████████████████████████████████████████████| 1/1 [00:00<00:00,  3.28it/s]"
     ]
    },
    {
     "name": "stdout",
     "output_type": "stream",
     "text": [
      "1 calculation combinations to check\n",
      "1 new records to prepare\n"
     ]
    },
    {
     "name": "stderr",
     "output_type": "stream",
     "text": [
      "\n",
      "preparing: 100%|##########################################################################| 1/1 [00:00<00:00, 23.85it/s]\n"
     ]
    },
    {
     "name": "stdout",
     "output_type": "stream",
     "text": [
      "3ab36b10-5951-448a-9161-94949c101077\n",
      "sim calculated successfully\n",
      "\n",
      "51.093 0.002472 51.054\n",
      "0 existing calculation records provided\n"
     ]
    },
    {
     "name": "stderr",
     "output_type": "stream",
     "text": [
      "100%|█████████████████████████████████████████████████████████████████████████████████████| 1/1 [00:00<00:00,  3.55it/s]"
     ]
    },
    {
     "name": "stdout",
     "output_type": "stream",
     "text": [
      "1 calculation combinations to check\n",
      "1 new records to prepare\n"
     ]
    },
    {
     "name": "stderr",
     "output_type": "stream",
     "text": [
      "\n",
      "preparing: 100%|##########################################################################| 1/1 [00:00<00:00, 25.03it/s]\n"
     ]
    },
    {
     "name": "stdout",
     "output_type": "stream",
     "text": [
      "41d5e63e-65ee-4d36-9bbb-53497774a8a1\n",
      "sim calculated successfully\n",
      "\n",
      "50.546 0.001976 50.463\n",
      "0 existing calculation records provided\n"
     ]
    },
    {
     "name": "stderr",
     "output_type": "stream",
     "text": [
      "100%|█████████████████████████████████████████████████████████████████████████████████████| 1/1 [00:00<00:00,  3.56it/s]"
     ]
    },
    {
     "name": "stdout",
     "output_type": "stream",
     "text": [
      "1 calculation combinations to check\n",
      "1 new records to prepare\n"
     ]
    },
    {
     "name": "stderr",
     "output_type": "stream",
     "text": [
      "\n",
      "preparing: 100%|##########################################################################| 1/1 [00:00<00:00, 40.45it/s]\n"
     ]
    },
    {
     "name": "stdout",
     "output_type": "stream",
     "text": [
      "f462d8e5-a4d7-4694-9725-5ca92fca07d3\n",
      "sim calculated successfully\n",
      "\n",
      "50.273 0.002328 50.200\n",
      "0 existing calculation records provided\n"
     ]
    },
    {
     "name": "stderr",
     "output_type": "stream",
     "text": [
      "100%|█████████████████████████████████████████████████████████████████████████████████████| 1/1 [00:00<00:00,  3.35it/s]"
     ]
    },
    {
     "name": "stdout",
     "output_type": "stream",
     "text": [
      "1 calculation combinations to check\n",
      "1 new records to prepare\n"
     ]
    },
    {
     "name": "stderr",
     "output_type": "stream",
     "text": [
      "\n",
      "preparing: 100%|##########################################################################| 1/1 [00:00<00:00, 25.37it/s]\n"
     ]
    },
    {
     "name": "stdout",
     "output_type": "stream",
     "text": [
      "610643bd-175a-416e-9905-600ca8e91f55\n",
      "sim calculated successfully\n",
      "\n",
      "50.137 0.002017 50.062\n",
      "0 existing calculation records provided\n"
     ]
    },
    {
     "name": "stderr",
     "output_type": "stream",
     "text": [
      "100%|█████████████████████████████████████████████████████████████████████████████████████| 1/1 [00:00<00:00,  4.07it/s]"
     ]
    },
    {
     "name": "stdout",
     "output_type": "stream",
     "text": [
      "1 calculation combinations to check\n",
      "1 new records to prepare\n"
     ]
    },
    {
     "name": "stderr",
     "output_type": "stream",
     "text": [
      "\n",
      "preparing: 100%|##########################################################################| 1/1 [00:00<00:00, 29.97it/s]\n"
     ]
    },
    {
     "name": "stdout",
     "output_type": "stream",
     "text": [
      "aad112b1-72a9-456a-b56f-8aae95edb04a\n",
      "sim calculated successfully\n",
      "\n",
      "50.068 0.002131 50.008\n",
      "0 existing calculation records provided\n"
     ]
    },
    {
     "name": "stderr",
     "output_type": "stream",
     "text": [
      "100%|█████████████████████████████████████████████████████████████████████████████████████| 1/1 [00:00<00:00,  3.45it/s]"
     ]
    },
    {
     "name": "stdout",
     "output_type": "stream",
     "text": [
      "1 calculation combinations to check\n",
      "1 new records to prepare\n"
     ]
    },
    {
     "name": "stderr",
     "output_type": "stream",
     "text": [
      "\n",
      "preparing: 100%|##########################################################################| 1/1 [00:00<00:00, 18.98it/s]\n"
     ]
    },
    {
     "name": "stdout",
     "output_type": "stream",
     "text": [
      "1772f359-77bd-4a75-afe3-e0882e94dbb3\n",
      "sim calculated successfully\n",
      "\n",
      "50.034 0.002193 49.965\n",
      "0 existing calculation records provided\n"
     ]
    },
    {
     "name": "stderr",
     "output_type": "stream",
     "text": [
      "100%|█████████████████████████████████████████████████████████████████████████████████████| 1/1 [00:00<00:00,  4.27it/s]"
     ]
    },
    {
     "name": "stdout",
     "output_type": "stream",
     "text": [
      "1 calculation combinations to check\n",
      "1 new records to prepare\n"
     ]
    },
    {
     "name": "stderr",
     "output_type": "stream",
     "text": [
      "\n",
      "preparing: 100%|##########################################################################| 1/1 [00:00<00:00, 24.84it/s]\n"
     ]
    },
    {
     "name": "stdout",
     "output_type": "stream",
     "text": [
      "33ef3447-971c-4c8d-8735-cd7bd844ccd5\n",
      "sim calculated successfully\n",
      "\n",
      "50.017 0.002079 49.943\n",
      "0 existing calculation records provided\n"
     ]
    },
    {
     "name": "stderr",
     "output_type": "stream",
     "text": [
      "100%|█████████████████████████████████████████████████████████████████████████████████████| 1/1 [00:00<00:00,  3.42it/s]"
     ]
    },
    {
     "name": "stdout",
     "output_type": "stream",
     "text": [
      "1 calculation combinations to check\n",
      "1 new records to prepare\n"
     ]
    },
    {
     "name": "stderr",
     "output_type": "stream",
     "text": [
      "\n",
      "preparing: 100%|##########################################################################| 1/1 [00:00<00:00, 27.28it/s]\n"
     ]
    },
    {
     "name": "stdout",
     "output_type": "stream",
     "text": [
      "f1240c07-0ac8-441e-bcf0-16b4ae95d810\n",
      "sim calculated successfully\n",
      "\n",
      "50.009 0.00181 49.977\n",
      "0 existing calculation records provided\n"
     ]
    },
    {
     "name": "stderr",
     "output_type": "stream",
     "text": [
      "100%|█████████████████████████████████████████████████████████████████████████████████████| 1/1 [00:00<00:00,  3.28it/s]"
     ]
    },
    {
     "name": "stdout",
     "output_type": "stream",
     "text": [
      "1 calculation combinations to check\n",
      "1 new records to prepare\n"
     ]
    },
    {
     "name": "stderr",
     "output_type": "stream",
     "text": [
      "\n",
      "preparing: 100%|##########################################################################| 1/1 [00:00<00:00, 27.49it/s]\n"
     ]
    },
    {
     "name": "stdout",
     "output_type": "stream",
     "text": [
      "fba6894e-702e-48ae-ad69-9608ac5cc6bb\n",
      "sim calculated successfully\n",
      "\n",
      "50.004 0.001976 49.939\n",
      "0 existing calculation records provided\n"
     ]
    },
    {
     "name": "stderr",
     "output_type": "stream",
     "text": [
      "100%|█████████████████████████████████████████████████████████████████████████████████████| 1/1 [00:00<00:00,  3.94it/s]"
     ]
    },
    {
     "name": "stdout",
     "output_type": "stream",
     "text": [
      "1 calculation combinations to check\n",
      "1 new records to prepare\n"
     ]
    },
    {
     "name": "stderr",
     "output_type": "stream",
     "text": [
      "\n",
      "preparing: 100%|##########################################################################| 1/1 [00:00<00:00, 40.63it/s]\n"
     ]
    },
    {
     "name": "stdout",
     "output_type": "stream",
     "text": [
      "df99b3bf-42b9-4914-92d7-47abf49eb9b7\n",
      "sim calculated successfully\n",
      "\n",
      "50.002 0.002141 49.921\n",
      "0 existing calculation records provided\n"
     ]
    },
    {
     "name": "stderr",
     "output_type": "stream",
     "text": [
      "100%|█████████████████████████████████████████████████████████████████████████████████████| 1/1 [00:00<00:00,  3.32it/s]"
     ]
    },
    {
     "name": "stdout",
     "output_type": "stream",
     "text": [
      "1 calculation combinations to check\n",
      "1 new records to prepare\n"
     ]
    },
    {
     "name": "stderr",
     "output_type": "stream",
     "text": [
      "\n",
      "preparing: 100%|##########################################################################| 1/1 [00:00<00:00, 22.92it/s]\n"
     ]
    },
    {
     "name": "stdout",
     "output_type": "stream",
     "text": [
      "2c02301f-14a5-4bb7-b88c-616cfbb3e694\n",
      "sim calculated successfully\n",
      "\n",
      "50.001 0.002038 49.926\n",
      "0 existing calculation records provided\n"
     ]
    },
    {
     "name": "stderr",
     "output_type": "stream",
     "text": [
      "100%|█████████████████████████████████████████████████████████████████████████████████████| 1/1 [00:00<00:00,  4.15it/s]"
     ]
    },
    {
     "name": "stdout",
     "output_type": "stream",
     "text": [
      "1 calculation combinations to check\n",
      "1 new records to prepare\n"
     ]
    },
    {
     "name": "stderr",
     "output_type": "stream",
     "text": [
      "\n",
      "preparing: 100%|##########################################################################| 1/1 [00:00<00:00, 42.40it/s]\n"
     ]
    },
    {
     "name": "stdout",
     "output_type": "stream",
     "text": [
      "bc319bdf-9bf0-4338-8a23-9f195561b159\n",
      "sim calculated successfully\n",
      "\n",
      "50.001 0.002048 49.934\n",
      "0 existing calculation records provided\n"
     ]
    },
    {
     "name": "stderr",
     "output_type": "stream",
     "text": [
      "100%|█████████████████████████████████████████████████████████████████████████████████████| 1/1 [00:00<00:00,  3.38it/s]"
     ]
    },
    {
     "name": "stdout",
     "output_type": "stream",
     "text": [
      "1 calculation combinations to check\n",
      "1 new records to prepare\n"
     ]
    },
    {
     "name": "stderr",
     "output_type": "stream",
     "text": [
      "\n",
      "preparing: 100%|##########################################################################| 1/1 [00:00<00:00, 26.46it/s]\n"
     ]
    },
    {
     "name": "stdout",
     "output_type": "stream",
     "text": [
      "12298076-c8df-4390-bf2b-4dc7830ae426\n",
      "sim calculated successfully\n",
      "\n",
      "50.000 0.002017 49.928\n",
      "0 existing calculation records provided\n"
     ]
    },
    {
     "name": "stderr",
     "output_type": "stream",
     "text": [
      "100%|█████████████████████████████████████████████████████████████████████████████████████| 1/1 [00:00<00:00,  4.73it/s]"
     ]
    },
    {
     "name": "stdout",
     "output_type": "stream",
     "text": [
      "1 calculation combinations to check\n",
      "1 new records to prepare\n"
     ]
    },
    {
     "name": "stderr",
     "output_type": "stream",
     "text": [
      "\n",
      "preparing: 100%|##########################################################################| 1/1 [00:00<00:00, 53.70it/s]\n"
     ]
    },
    {
     "name": "stdout",
     "output_type": "stream",
     "text": [
      "e8afa674-de49-4cc5-bb6d-c63e2de63d2b\n",
      "sim calculated successfully\n",
      "\n",
      "50.000 0.002007 49.928\n",
      "0 existing calculation records provided\n"
     ]
    },
    {
     "name": "stderr",
     "output_type": "stream",
     "text": [
      "100%|█████████████████████████████████████████████████████████████████████████████████████| 1/1 [00:00<00:00,  3.48it/s]"
     ]
    },
    {
     "name": "stdout",
     "output_type": "stream",
     "text": [
      "1 calculation combinations to check\n",
      "1 new records to prepare\n"
     ]
    },
    {
     "name": "stderr",
     "output_type": "stream",
     "text": [
      "\n",
      "preparing: 100%|##########################################################################| 1/1 [00:00<00:00, 24.94it/s]\n"
     ]
    },
    {
     "name": "stdout",
     "output_type": "stream",
     "text": [
      "fd02821b-de87-4a4c-9e8f-efe2a94304ca\n",
      "sim calculated successfully\n",
      "\n",
      "50.000 0.002007 49.931\n",
      "0 existing calculation records provided\n"
     ]
    },
    {
     "name": "stderr",
     "output_type": "stream",
     "text": [
      "100%|█████████████████████████████████████████████████████████████████████████████████████| 1/1 [00:00<00:00,  3.56it/s]"
     ]
    },
    {
     "name": "stdout",
     "output_type": "stream",
     "text": [
      "1 calculation combinations to check\n",
      "1 new records to prepare\n"
     ]
    },
    {
     "name": "stderr",
     "output_type": "stream",
     "text": [
      "\n",
      "preparing: 100%|##########################################################################| 1/1 [00:00<00:00, 24.29it/s]\n"
     ]
    },
    {
     "name": "stdout",
     "output_type": "stream",
     "text": [
      "8192b923-ec38-4a1d-a005-71637734a00f\n",
      "sim calculated successfully\n",
      "\n",
      "50.000 0.002059 49.932\n",
      "0 existing calculation records provided\n"
     ]
    },
    {
     "name": "stderr",
     "output_type": "stream",
     "text": [
      "100%|█████████████████████████████████████████████████████████████████████████████████████| 1/1 [00:00<00:00,  4.21it/s]"
     ]
    },
    {
     "name": "stdout",
     "output_type": "stream",
     "text": [
      "1 calculation combinations to check\n",
      "1 new records to prepare\n"
     ]
    },
    {
     "name": "stderr",
     "output_type": "stream",
     "text": [
      "\n",
      "preparing: 100%|##########################################################################| 1/1 [00:00<00:00, 28.61it/s]\n"
     ]
    },
    {
     "name": "stdout",
     "output_type": "stream",
     "text": [
      "b83bc8f5-4838-4039-a5c8-326654322228\n",
      "sim calculated successfully\n",
      "\n",
      "50.000 0.002183 49.933\n",
      "0 existing calculation records provided\n"
     ]
    },
    {
     "name": "stderr",
     "output_type": "stream",
     "text": [
      "100%|█████████████████████████████████████████████████████████████████████████████████████| 1/1 [00:00<00:00,  2.74it/s]"
     ]
    },
    {
     "name": "stdout",
     "output_type": "stream",
     "text": [
      "1 calculation combinations to check\n",
      "1 new records to prepare\n"
     ]
    },
    {
     "name": "stderr",
     "output_type": "stream",
     "text": [
      "\n",
      "preparing: 100%|##########################################################################| 1/1 [00:00<00:00, 14.63it/s]\n"
     ]
    },
    {
     "name": "stdout",
     "output_type": "stream",
     "text": [
      "c286928f-4805-46ee-be0b-640c5de98695\n",
      "sim calculated successfully\n",
      "\n",
      "50.000 0.002214 49.933\n",
      "0 existing calculation records provided\n"
     ]
    },
    {
     "name": "stderr",
     "output_type": "stream",
     "text": [
      "100%|█████████████████████████████████████████████████████████████████████████████████████| 1/1 [00:00<00:00,  4.10it/s]"
     ]
    },
    {
     "name": "stdout",
     "output_type": "stream",
     "text": [
      "1 calculation combinations to check\n",
      "1 new records to prepare\n"
     ]
    },
    {
     "name": "stderr",
     "output_type": "stream",
     "text": [
      "\n",
      "preparing: 100%|##########################################################################| 1/1 [00:00<00:00, 26.86it/s]\n"
     ]
    },
    {
     "name": "stdout",
     "output_type": "stream",
     "text": [
      "20fb2e40-d658-437d-9d1e-f1ba1d699d67\n",
      "sim calculated successfully\n",
      "\n",
      "50.000 0.002203 49.933\n",
      "0 existing calculation records provided\n"
     ]
    },
    {
     "name": "stderr",
     "output_type": "stream",
     "text": [
      "100%|█████████████████████████████████████████████████████████████████████████████████████| 1/1 [00:00<00:00,  2.72it/s]"
     ]
    },
    {
     "name": "stdout",
     "output_type": "stream",
     "text": [
      "1 calculation combinations to check\n",
      "1 new records to prepare\n"
     ]
    },
    {
     "name": "stderr",
     "output_type": "stream",
     "text": [
      "\n",
      "preparing: 100%|##########################################################################| 1/1 [00:00<00:00, 30.66it/s]\n"
     ]
    },
    {
     "name": "stdout",
     "output_type": "stream",
     "text": [
      "60fe6cea-95a5-4b83-bc55-6cbda8b6a242\n",
      "sim calculated successfully\n",
      "\n",
      "50.000 0.002183 49.933\n",
      "0 existing calculation records provided\n"
     ]
    },
    {
     "name": "stderr",
     "output_type": "stream",
     "text": [
      "100%|█████████████████████████████████████████████████████████████████████████████████████| 1/1 [00:00<00:00,  3.10it/s]"
     ]
    },
    {
     "name": "stdout",
     "output_type": "stream",
     "text": [
      "1 calculation combinations to check\n",
      "1 new records to prepare\n"
     ]
    },
    {
     "name": "stderr",
     "output_type": "stream",
     "text": [
      "\n",
      "preparing: 100%|##########################################################################| 1/1 [00:00<00:00, 15.08it/s]\n"
     ]
    },
    {
     "name": "stdout",
     "output_type": "stream",
     "text": [
      "cb6262cf-6d9b-4d35-88a7-a72a38466f20\n",
      "sim calculated successfully\n",
      "\n",
      "50.000 0.002183 49.933\n",
      "0 existing calculation records provided\n"
     ]
    },
    {
     "name": "stderr",
     "output_type": "stream",
     "text": [
      "100%|█████████████████████████████████████████████████████████████████████████████████████| 1/1 [00:00<00:00,  3.11it/s]"
     ]
    },
    {
     "name": "stdout",
     "output_type": "stream",
     "text": [
      "1 calculation combinations to check\n",
      "1 new records to prepare\n"
     ]
    },
    {
     "name": "stderr",
     "output_type": "stream",
     "text": [
      "\n",
      "preparing: 100%|##########################################################################| 1/1 [00:00<00:00, 19.09it/s]\n"
     ]
    },
    {
     "name": "stdout",
     "output_type": "stream",
     "text": [
      "1a414b77-abf5-4f04-ab24-b8e249da63f2\n",
      "sim calculated successfully\n",
      "\n",
      "50.000 0.002183 49.933\n",
      "0 existing calculation records provided\n"
     ]
    },
    {
     "name": "stderr",
     "output_type": "stream",
     "text": [
      "100%|█████████████████████████████████████████████████████████████████████████████████████| 1/1 [00:00<00:00,  3.49it/s]"
     ]
    },
    {
     "name": "stdout",
     "output_type": "stream",
     "text": [
      "1 calculation combinations to check\n",
      "1 new records to prepare\n"
     ]
    },
    {
     "name": "stderr",
     "output_type": "stream",
     "text": [
      "\n",
      "preparing: 100%|##########################################################################| 1/1 [00:00<00:00, 23.31it/s]\n"
     ]
    },
    {
     "name": "stdout",
     "output_type": "stream",
     "text": [
      "be5bf482-e2cc-4e65-9735-f4ad660fc498\n",
      "sim calculated successfully\n",
      "\n",
      "50.000 0.002183 49.933\n",
      "Max number of runs reached!\n",
      "\n",
      "76 2007--Mendelev-M-I--Cu-Zr--LAMMPS--ipr1\n",
      "0 existing calculation records provided\n"
     ]
    },
    {
     "name": "stderr",
     "output_type": "stream",
     "text": [
      "100%|█████████████████████████████████████████████████████████████████████████████████████| 1/1 [00:00<00:00,  2.71it/s]"
     ]
    },
    {
     "name": "stdout",
     "output_type": "stream",
     "text": [
      "1 calculation combinations to check\n",
      "1 new records to prepare\n"
     ]
    },
    {
     "name": "stderr",
     "output_type": "stream",
     "text": [
      "\n",
      "preparing: 100%|##########################################################################| 1/1 [00:00<00:00, 17.94it/s]\n"
     ]
    },
    {
     "name": "stdout",
     "output_type": "stream",
     "text": [
      "0fca57f5-ab1d-4a51-b715-0ebef400ca54\n",
      "sim calculated successfully\n",
      "\n",
      "4525.000 0.03182 3067.899\n",
      "0 existing calculation records provided\n"
     ]
    },
    {
     "name": "stderr",
     "output_type": "stream",
     "text": [
      "100%|█████████████████████████████████████████████████████████████████████████████████████| 1/1 [00:00<00:00,  3.45it/s]"
     ]
    },
    {
     "name": "stdout",
     "output_type": "stream",
     "text": [
      "1 calculation combinations to check\n",
      "1 new records to prepare\n"
     ]
    },
    {
     "name": "stderr",
     "output_type": "stream",
     "text": [
      "\n",
      "preparing: 100%|##########################################################################| 1/1 [00:00<00:00, 15.98it/s]\n"
     ]
    },
    {
     "name": "stdout",
     "output_type": "stream",
     "text": [
      "72405404-004f-46e5-afe0-d7adf7ba6c30\n",
      "sim calculated successfully\n",
      "\n",
      "2287.500 1.034e-05 2268.344\n",
      "0 existing calculation records provided\n"
     ]
    },
    {
     "name": "stderr",
     "output_type": "stream",
     "text": [
      "100%|█████████████████████████████████████████████████████████████████████████████████████| 1/1 [00:00<00:00,  3.05it/s]"
     ]
    },
    {
     "name": "stdout",
     "output_type": "stream",
     "text": [
      "1 calculation combinations to check\n",
      "1 new records to prepare\n"
     ]
    },
    {
     "name": "stderr",
     "output_type": "stream",
     "text": [
      "\n",
      "preparing: 100%|##########################################################################| 1/1 [00:00<00:00, 16.14it/s]\n"
     ]
    },
    {
     "name": "stdout",
     "output_type": "stream",
     "text": [
      "e4e11354-be0f-4033-a569-655e91f54238\n",
      "sim calculated successfully\n",
      "\n",
      "1168.750 0.8001 1262.659\n",
      "0 existing calculation records provided\n"
     ]
    },
    {
     "name": "stderr",
     "output_type": "stream",
     "text": [
      "100%|█████████████████████████████████████████████████████████████████████████████████████| 1/1 [00:00<00:00,  4.10it/s]"
     ]
    },
    {
     "name": "stdout",
     "output_type": "stream",
     "text": [
      "1 calculation combinations to check\n",
      "1 new records to prepare\n"
     ]
    },
    {
     "name": "stderr",
     "output_type": "stream",
     "text": [
      "\n",
      "preparing: 100%|##########################################################################| 1/1 [00:00<00:00, 26.81it/s]\n"
     ]
    },
    {
     "name": "stdout",
     "output_type": "stream",
     "text": [
      "41037a71-fd3a-41dd-a64f-f51fa405ab89\n",
      "sim calculated successfully\n",
      "\n",
      "1728.125 0.0001138 1691.302\n",
      "0 existing calculation records provided\n"
     ]
    },
    {
     "name": "stderr",
     "output_type": "stream",
     "text": [
      "100%|█████████████████████████████████████████████████████████████████████████████████████| 1/1 [00:00<00:00,  3.36it/s]"
     ]
    },
    {
     "name": "stdout",
     "output_type": "stream",
     "text": [
      "1 calculation combinations to check\n",
      "1 new records to prepare\n"
     ]
    },
    {
     "name": "stderr",
     "output_type": "stream",
     "text": [
      "\n",
      "preparing: 100%|##########################################################################| 1/1 [00:00<00:00, 18.30it/s]\n"
     ]
    },
    {
     "name": "stdout",
     "output_type": "stream",
     "text": [
      "1f91e1fc-bc5e-464f-baf7-bb2f49d84387\n",
      "sim calculated successfully\n",
      "\n",
      "1448.438 0.0004552 1305.080\n",
      "0 existing calculation records provided\n"
     ]
    },
    {
     "name": "stderr",
     "output_type": "stream",
     "text": [
      "100%|█████████████████████████████████████████████████████████████████████████████████████| 1/1 [00:00<00:00,  3.34it/s]"
     ]
    },
    {
     "name": "stdout",
     "output_type": "stream",
     "text": [
      "1 calculation combinations to check\n",
      "1 new records to prepare\n"
     ]
    },
    {
     "name": "stderr",
     "output_type": "stream",
     "text": [
      "\n",
      "preparing: 100%|##########################################################################| 1/1 [00:00<00:00, 20.35it/s]\n"
     ]
    },
    {
     "name": "stdout",
     "output_type": "stream",
     "text": [
      "42295c9f-93e0-422e-b84a-78ceb616cf14\n",
      "sim calculated successfully\n",
      "\n",
      "1308.594 0.02482 1342.052\n",
      "0 existing calculation records provided\n"
     ]
    },
    {
     "name": "stderr",
     "output_type": "stream",
     "text": [
      "100%|█████████████████████████████████████████████████████████████████████████████████████| 1/1 [00:00<00:00,  4.06it/s]"
     ]
    },
    {
     "name": "stdout",
     "output_type": "stream",
     "text": [
      "1 calculation combinations to check\n",
      "1 new records to prepare\n"
     ]
    },
    {
     "name": "stderr",
     "output_type": "stream",
     "text": [
      "\n",
      "preparing: 100%|##########################################################################| 1/1 [00:00<00:00, 14.03it/s]\n"
     ]
    },
    {
     "name": "stdout",
     "output_type": "stream",
     "text": [
      "15aa7310-c640-4d49-a95e-8cfcae6effa6\n",
      "sim calculated successfully\n",
      "\n",
      "1238.672 0.4692 1257.339\n",
      "0 existing calculation records provided\n"
     ]
    },
    {
     "name": "stderr",
     "output_type": "stream",
     "text": [
      "100%|█████████████████████████████████████████████████████████████████████████████████████| 1/1 [00:00<00:00,  4.07it/s]"
     ]
    },
    {
     "name": "stdout",
     "output_type": "stream",
     "text": [
      "1 calculation combinations to check\n",
      "1 new records to prepare\n"
     ]
    },
    {
     "name": "stderr",
     "output_type": "stream",
     "text": [
      "\n",
      "preparing: 100%|##########################################################################| 1/1 [00:00<00:00, 30.33it/s]\n"
     ]
    },
    {
     "name": "stdout",
     "output_type": "stream",
     "text": [
      "31b958a1-e175-4990-b1a9-78a0c7cf50cf\n",
      "sim calculated successfully\n",
      "\n",
      "1238.672 0.4579 1257.468\n",
      "0 existing calculation records provided\n"
     ]
    },
    {
     "name": "stderr",
     "output_type": "stream",
     "text": [
      "100%|█████████████████████████████████████████████████████████████████████████████████████| 1/1 [00:00<00:00,  3.49it/s]"
     ]
    },
    {
     "name": "stdout",
     "output_type": "stream",
     "text": [
      "1 calculation combinations to check\n",
      "1 new records to prepare\n"
     ]
    },
    {
     "name": "stderr",
     "output_type": "stream",
     "text": [
      "\n",
      "preparing: 100%|##########################################################################| 1/1 [00:00<00:00, 19.68it/s]\n"
     ]
    },
    {
     "name": "stdout",
     "output_type": "stream",
     "text": [
      "83ce3a44-8286-433b-bc4e-d88a6e2357db\n",
      "sim calculated successfully\n",
      "\n",
      "1238.672 0.6864 1324.125\n",
      "0 existing calculation records provided\n"
     ]
    },
    {
     "name": "stderr",
     "output_type": "stream",
     "text": [
      "100%|█████████████████████████████████████████████████████████████████████████████████████| 1/1 [00:00<00:00,  4.36it/s]"
     ]
    },
    {
     "name": "stdout",
     "output_type": "stream",
     "text": [
      "1 calculation combinations to check\n",
      "1 new records to prepare\n"
     ]
    },
    {
     "name": "stderr",
     "output_type": "stream",
     "text": [
      "\n",
      "preparing: 100%|##########################################################################| 1/1 [00:00<00:00, 29.80it/s]\n"
     ]
    },
    {
     "name": "stdout",
     "output_type": "stream",
     "text": [
      "db7279dd-3d95-4608-acd7-e132ced95536\n",
      "sim calculated successfully\n",
      "\n",
      "1273.633 0.03419 1412.935\n",
      "0 existing calculation records provided\n"
     ]
    },
    {
     "name": "stderr",
     "output_type": "stream",
     "text": [
      "100%|█████████████████████████████████████████████████████████████████████████████████████| 1/1 [00:00<00:00,  3.46it/s]"
     ]
    },
    {
     "name": "stdout",
     "output_type": "stream",
     "text": [
      "1 calculation combinations to check\n",
      "1 new records to prepare\n"
     ]
    },
    {
     "name": "stderr",
     "output_type": "stream",
     "text": [
      "\n",
      "preparing: 100%|##########################################################################| 1/1 [00:00<00:00, 16.59it/s]\n"
     ]
    },
    {
     "name": "stdout",
     "output_type": "stream",
     "text": [
      "9fc7bd20-d800-42a2-8110-6e4a55f11d4b\n",
      "sim calculated successfully\n",
      "\n",
      "1221.191 0.7061 1322.142\n",
      "0 existing calculation records provided\n"
     ]
    },
    {
     "name": "stderr",
     "output_type": "stream",
     "text": [
      "100%|█████████████████████████████████████████████████████████████████████████████████████| 1/1 [00:00<00:00,  2.41it/s]"
     ]
    },
    {
     "name": "stdout",
     "output_type": "stream",
     "text": [
      "1 calculation combinations to check\n",
      "1 new records to prepare\n"
     ]
    },
    {
     "name": "stderr",
     "output_type": "stream",
     "text": [
      "\n",
      "preparing: 100%|##########################################################################| 1/1 [00:00<00:00, 12.47it/s]\n"
     ]
    },
    {
     "name": "stdout",
     "output_type": "stream",
     "text": [
      "41b9f9dc-97c7-40b2-96c2-e5c3626ad50a\n",
      "sim calculated successfully\n",
      "\n",
      "1247.412 0.04528 1370.338\n",
      "0 existing calculation records provided\n"
     ]
    },
    {
     "name": "stderr",
     "output_type": "stream",
     "text": [
      "100%|█████████████████████████████████████████████████████████████████████████████████████| 1/1 [00:00<00:00,  2.14it/s]"
     ]
    },
    {
     "name": "stdout",
     "output_type": "stream",
     "text": [
      "1 calculation combinations to check\n",
      "1 new records to prepare\n"
     ]
    },
    {
     "name": "stderr",
     "output_type": "stream",
     "text": [
      "\n",
      "preparing: 100%|##########################################################################| 1/1 [00:00<00:00, 12.80it/s]\n"
     ]
    },
    {
     "name": "stdout",
     "output_type": "stream",
     "text": [
      "b8684316-c633-45a4-8f66-622123ac4560\n",
      "sim calculated successfully\n",
      "\n",
      "1208.081 0.03135 1398.220\n",
      "0 existing calculation records provided\n"
     ]
    },
    {
     "name": "stderr",
     "output_type": "stream",
     "text": [
      "100%|█████████████████████████████████████████████████████████████████████████████████████| 1/1 [00:00<00:00,  1.87it/s]"
     ]
    },
    {
     "name": "stdout",
     "output_type": "stream",
     "text": [
      "1 calculation combinations to check\n",
      "1 new records to prepare\n"
     ]
    },
    {
     "name": "stderr",
     "output_type": "stream",
     "text": [
      "\n",
      "preparing: 100%|##########################################################################| 1/1 [00:00<00:00,  7.02it/s]\n"
     ]
    },
    {
     "name": "stdout",
     "output_type": "stream",
     "text": [
      "ad21c796-6d0e-4f40-b808-e838c92a03bc\n",
      "sim calculated successfully\n",
      "\n",
      "1188.416 0.03562 1311.111\n",
      "0 existing calculation records provided\n"
     ]
    },
    {
     "name": "stderr",
     "output_type": "stream",
     "text": [
      "100%|█████████████████████████████████████████████████████████████████████████████████████| 1/1 [00:00<00:00,  3.05it/s]"
     ]
    },
    {
     "name": "stdout",
     "output_type": "stream",
     "text": [
      "1 calculation combinations to check\n",
      "1 new records to prepare\n"
     ]
    },
    {
     "name": "stderr",
     "output_type": "stream",
     "text": [
      "\n",
      "preparing: 100%|##########################################################################| 1/1 [00:00<00:00, 18.68it/s]\n"
     ]
    },
    {
     "name": "stdout",
     "output_type": "stream",
     "text": [
      "6510bcf4-3b17-4397-91c0-55a40b597bb6\n",
      "sim calculated successfully\n",
      "\n",
      "1178.583 0.7931 1268.952\n",
      "0 existing calculation records provided\n"
     ]
    },
    {
     "name": "stderr",
     "output_type": "stream",
     "text": [
      "100%|█████████████████████████████████████████████████████████████████████████████████████| 1/1 [00:00<00:00,  3.30it/s]"
     ]
    },
    {
     "name": "stdout",
     "output_type": "stream",
     "text": [
      "1 calculation combinations to check\n",
      "1 new records to prepare\n"
     ]
    },
    {
     "name": "stderr",
     "output_type": "stream",
     "text": [
      "\n",
      "preparing: 100%|##########################################################################| 1/1 [00:00<00:00, 24.64it/s]\n"
     ]
    },
    {
     "name": "stdout",
     "output_type": "stream",
     "text": [
      "a7f9ff93-7067-4584-b4c7-6000cb396d48\n",
      "sim calculated successfully\n",
      "\n",
      "1183.499 0.03625 1305.652\n",
      "0 existing calculation records provided\n"
     ]
    },
    {
     "name": "stderr",
     "output_type": "stream",
     "text": [
      "100%|█████████████████████████████████████████████████████████████████████████████████████| 1/1 [00:00<00:00,  4.14it/s]"
     ]
    },
    {
     "name": "stdout",
     "output_type": "stream",
     "text": [
      "1 calculation combinations to check\n",
      "1 new records to prepare\n"
     ]
    },
    {
     "name": "stderr",
     "output_type": "stream",
     "text": [
      "\n",
      "preparing: 100%|##########################################################################| 1/1 [00:00<00:00, 31.76it/s]\n"
     ]
    },
    {
     "name": "stdout",
     "output_type": "stream",
     "text": [
      "a003afab-12c6-4df0-9d75-dc1fed3c73cc\n",
      "sim calculated successfully\n",
      "\n",
      "1181.041 0.7891 1275.104\n",
      "0 existing calculation records provided\n"
     ]
    },
    {
     "name": "stderr",
     "output_type": "stream",
     "text": [
      "100%|█████████████████████████████████████████████████████████████████████████████████████| 1/1 [00:00<00:00,  3.67it/s]"
     ]
    },
    {
     "name": "stdout",
     "output_type": "stream",
     "text": [
      "1 calculation combinations to check\n",
      "1 new records to prepare\n"
     ]
    },
    {
     "name": "stderr",
     "output_type": "stream",
     "text": [
      "\n",
      "preparing: 100%|##########################################################################| 1/1 [00:00<00:00, 33.32it/s]\n"
     ]
    },
    {
     "name": "stdout",
     "output_type": "stream",
     "text": [
      "afbf3f35-534b-4a08-b376-e41435a1382f\n",
      "sim calculated successfully\n",
      "\n",
      "1182.270 0.03398 1334.319\n",
      "0 existing calculation records provided\n"
     ]
    },
    {
     "name": "stderr",
     "output_type": "stream",
     "text": [
      "100%|█████████████████████████████████████████████████████████████████████████████████████| 1/1 [00:00<00:00,  4.28it/s]"
     ]
    },
    {
     "name": "stdout",
     "output_type": "stream",
     "text": [
      "1 calculation combinations to check\n",
      "1 new records to prepare\n"
     ]
    },
    {
     "name": "stderr",
     "output_type": "stream",
     "text": [
      "\n",
      "preparing: 100%|##########################################################################| 1/1 [00:00<00:00, 35.65it/s]\n"
     ]
    },
    {
     "name": "stdout",
     "output_type": "stream",
     "text": [
      "44732e21-9910-4cc9-9a4e-4ad7754c53dc\n",
      "sim calculated successfully\n",
      "\n",
      "1181.656 0.7807 1273.121\n",
      "0 existing calculation records provided\n"
     ]
    },
    {
     "name": "stderr",
     "output_type": "stream",
     "text": [
      "100%|█████████████████████████████████████████████████████████████████████████████████████| 1/1 [00:00<00:00,  3.10it/s]"
     ]
    },
    {
     "name": "stdout",
     "output_type": "stream",
     "text": [
      "1 calculation combinations to check\n",
      "1 new records to prepare\n"
     ]
    },
    {
     "name": "stderr",
     "output_type": "stream",
     "text": [
      "\n",
      "preparing: 100%|##########################################################################| 1/1 [00:00<00:00, 22.19it/s]\n"
     ]
    },
    {
     "name": "stdout",
     "output_type": "stream",
     "text": [
      "21741dc5-fbc4-4f22-843d-01fb3417fb4b\n"
     ]
    }
   ],
   "source": [
    "for i in bcc_props.index[31:]:\n",
    "    series = bcc_props.loc[i]\n",
    "\n",
    "    commander = MeltCommander(database,\n",
    "                              lammps_command, \n",
    "                              series.potential_LAMMPS_id,\n",
    "                              series.composition,\n",
    "                              'A2--W--bcc',\n",
    "                              min_temperature=min_temperature,\n",
    "                              max_temperature=max_temperature,\n",
    "                              verbose=False,\n",
    "                             )\n",
    "    alat = alat_mult * series.a\n",
    "    print(i, series.potential_LAMMPS_id)\n",
    "    commander.run(run_directory, alat, max_melts, max_runs)\n",
    "    print()"
   ]
  },
  {
   "cell_type": "code",
   "execution_count": null,
   "id": "d4b07f35-1b9a-4a65-9287-7aa2dd7ec22f",
   "metadata": {},
   "outputs": [],
   "source": []
  }
 ],
 "metadata": {
  "kernelspec": {
   "display_name": "ipr",
   "language": "python",
   "name": "ipr"
  },
  "language_info": {
   "codemirror_mode": {
    "name": "ipython",
    "version": 3
   },
   "file_extension": ".py",
   "mimetype": "text/x-python",
   "name": "python",
   "nbconvert_exporter": "python",
   "pygments_lexer": "ipython3",
   "version": "3.11.11"
  }
 },
 "nbformat": 4,
 "nbformat_minor": 5
}
