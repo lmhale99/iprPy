{
 "cells": [
  {
   "cell_type": "markdown",
   "id": "03fb6613-22cc-47d6-b61c-16475621b1c3",
   "metadata": {},
   "source": [
    "# Run all bcc"
   ]
  },
  {
   "cell_type": "code",
   "execution_count": 1,
   "id": "be2c722b-e434-4085-bbcf-554620d56c1a",
   "metadata": {},
   "outputs": [],
   "source": [
    "import iprPy\n",
    "import atomman as am\n",
    "\n",
    "from MeltCommander import MeltCommander\n",
    "\n",
    "import pandas as pd"
   ]
  },
  {
   "cell_type": "markdown",
   "id": "4c7c4ca9-ed2b-4cd1-8db9-b264887aac48",
   "metadata": {},
   "source": [
    "Load bcc structure info"
   ]
  },
  {
   "cell_type": "code",
   "execution_count": 2,
   "id": "3eb1e772-dc98-46a9-aca6-eb8584145a64",
   "metadata": {},
   "outputs": [],
   "source": [
    "bcc_props = pd.read_csv('Melting_temperatures_bcc.csv')"
   ]
  },
  {
   "cell_type": "markdown",
   "id": "85ad437b-5480-46a1-a9f0-d8fec322ea13",
   "metadata": {},
   "source": [
    "Check for duplicate entries"
   ]
  },
  {
   "cell_type": "code",
   "execution_count": 3,
   "id": "f30c129b-b980-4ef0-80d4-208c4b173321",
   "metadata": {},
   "outputs": [],
   "source": [
    "for i in bcc_props.index[:-1]:\n",
    "    series0 = bcc_props.loc[i]\n",
    "    series1 = bcc_props.loc[i+1]\n",
    "    if ((series0.potential_LAMMPS_id == series1.potential_LAMMPS_id) &\n",
    "        (series0.composition == series1.composition)):\n",
    "        print(series0.to_dict())\n",
    "        print(series1.to_dict())\n",
    "        print()"
   ]
  },
  {
   "cell_type": "markdown",
   "id": "04404545-8259-4d98-9408-669f0cd4cab9",
   "metadata": {},
   "source": [
    "## Simulation settings"
   ]
  },
  {
   "cell_type": "code",
   "execution_count": 4,
   "id": "6d283cf6-eada-446d-bd92-3f80c783dae9",
   "metadata": {},
   "outputs": [],
   "source": [
    "database = 'master'\n",
    "lammps_command = '/home/lmh1/LAMMPS/2022-06-23/src/lmp_serial'\n",
    "run_directory = 'master_4'\n",
    "\n",
    "min_temperature = 50\n",
    "max_temperature = 9000\n",
    "alat_mult = 1.03\n",
    "max_melts = 10\n",
    "max_runs = 35"
   ]
  },
  {
   "cell_type": "code",
   "execution_count": 5,
   "id": "846f8dd3-ee37-4359-8aae-ece18ae7defd",
   "metadata": {},
   "outputs": [
    {
     "data": {
      "text/html": [
       "<div>\n",
       "<style scoped>\n",
       "    .dataframe tbody tr th:only-of-type {\n",
       "        vertical-align: middle;\n",
       "    }\n",
       "\n",
       "    .dataframe tbody tr th {\n",
       "        vertical-align: top;\n",
       "    }\n",
       "\n",
       "    .dataframe thead th {\n",
       "        text-align: right;\n",
       "    }\n",
       "</style>\n",
       "<table border=\"1\" class=\"dataframe\">\n",
       "  <thead>\n",
       "    <tr style=\"text-align: right;\">\n",
       "      <th></th>\n",
       "      <th>potential_LAMMPS_id</th>\n",
       "      <th>composition</th>\n",
       "      <th>a</th>\n",
       "    </tr>\n",
       "  </thead>\n",
       "  <tbody>\n",
       "    <tr>\n",
       "      <th>0</th>\n",
       "      <td>1986--Foiles-S-M--Ag-Au-Cu-Ni-Pd-Pt--LAMMPS--ipr1</td>\n",
       "      <td>Au</td>\n",
       "      <td>3.236873</td>\n",
       "    </tr>\n",
       "    <tr>\n",
       "      <th>1</th>\n",
       "      <td>1986--Foiles-S-M--Ag-Au-Cu-Ni-Pd-Pt--LAMMPS--ipr1</td>\n",
       "      <td>Cu</td>\n",
       "      <td>2.870142</td>\n",
       "    </tr>\n",
       "    <tr>\n",
       "      <th>2</th>\n",
       "      <td>1986--Foiles-S-M--Ag-Au-Cu-Ni-Pd-Pt--LAMMPS--ipr1</td>\n",
       "      <td>Pd</td>\n",
       "      <td>3.086859</td>\n",
       "    </tr>\n",
       "    <tr>\n",
       "      <th>3</th>\n",
       "      <td>1986--Foiles-S-M--Ag-Au-Cu-Ni-Pd-Pt--LAMMPS--ipr1</td>\n",
       "      <td>Pt</td>\n",
       "      <td>3.109047</td>\n",
       "    </tr>\n",
       "    <tr>\n",
       "      <th>4</th>\n",
       "      <td>1986--Foiles-S-M--Au--LAMMPS--ipr1</td>\n",
       "      <td>Au</td>\n",
       "      <td>3.236873</td>\n",
       "    </tr>\n",
       "    <tr>\n",
       "      <th>5</th>\n",
       "      <td>1986--Foiles-S-M--Cu--LAMMPS--ipr1</td>\n",
       "      <td>Cu</td>\n",
       "      <td>2.870142</td>\n",
       "    </tr>\n",
       "    <tr>\n",
       "      <th>6</th>\n",
       "      <td>1986--Foiles-S-M--Pd--LAMMPS--ipr1</td>\n",
       "      <td>Pd</td>\n",
       "      <td>3.086859</td>\n",
       "    </tr>\n",
       "    <tr>\n",
       "      <th>7</th>\n",
       "      <td>1986--Foiles-S-M--Pt--LAMMPS--ipr1</td>\n",
       "      <td>Pt</td>\n",
       "      <td>3.109047</td>\n",
       "    </tr>\n",
       "    <tr>\n",
       "      <th>8</th>\n",
       "      <td>1987--Ackland-G-J--Ag--LAMMPS--ipr1</td>\n",
       "      <td>Ag</td>\n",
       "      <td>3.317864</td>\n",
       "    </tr>\n",
       "    <tr>\n",
       "      <th>9</th>\n",
       "      <td>1987--Ackland-G-J--Ag--LAMMPS--ipr2</td>\n",
       "      <td>Ag</td>\n",
       "      <td>3.317864</td>\n",
       "    </tr>\n",
       "    <tr>\n",
       "      <th>10</th>\n",
       "      <td>1987--Ackland-G-J--Au--LAMMPS--ipr1</td>\n",
       "      <td>Au</td>\n",
       "      <td>3.324444</td>\n",
       "    </tr>\n",
       "    <tr>\n",
       "      <th>11</th>\n",
       "      <td>1987--Ackland-G-J--Au--LAMMPS--ipr2</td>\n",
       "      <td>Au</td>\n",
       "      <td>3.324444</td>\n",
       "    </tr>\n",
       "    <tr>\n",
       "      <th>12</th>\n",
       "      <td>1987--Ackland-G-J--Cu--LAMMPS--ipr1</td>\n",
       "      <td>Cu</td>\n",
       "      <td>2.960709</td>\n",
       "    </tr>\n",
       "    <tr>\n",
       "      <th>13</th>\n",
       "      <td>1987--Ackland-G-J--Cu--LAMMPS--ipr2</td>\n",
       "      <td>Cu</td>\n",
       "      <td>2.960523</td>\n",
       "    </tr>\n",
       "    <tr>\n",
       "      <th>14</th>\n",
       "      <td>1987--Ackland-G-J--Mo--LAMMPS--ipr1</td>\n",
       "      <td>Mo</td>\n",
       "      <td>3.157695</td>\n",
       "    </tr>\n",
       "    <tr>\n",
       "      <th>15</th>\n",
       "      <td>1987--Ackland-G-J--Mo--LAMMPS--ipr2</td>\n",
       "      <td>Mo</td>\n",
       "      <td>3.147200</td>\n",
       "    </tr>\n",
       "    <tr>\n",
       "      <th>16</th>\n",
       "      <td>1987--Ackland-G-J--Mo--LAMMPS--ipr3</td>\n",
       "      <td>Mo</td>\n",
       "      <td>3.147200</td>\n",
       "    </tr>\n",
       "    <tr>\n",
       "      <th>17</th>\n",
       "      <td>1989--Adams-J-B--Ag-Au-Cu-Ni-Pd-Pt--LAMMPS--ipr1</td>\n",
       "      <td>Au</td>\n",
       "      <td>3.236691</td>\n",
       "    </tr>\n",
       "    <tr>\n",
       "      <th>18</th>\n",
       "      <td>1989--Adams-J-B--Ag-Au-Cu-Ni-Pd-Pt--LAMMPS--ipr1</td>\n",
       "      <td>Cu</td>\n",
       "      <td>2.870080</td>\n",
       "    </tr>\n",
       "    <tr>\n",
       "      <th>19</th>\n",
       "      <td>1989--Adams-J-B--Ag-Au-Cu-Ni-Pd-Pt--LAMMPS--ipr1</td>\n",
       "      <td>Pd</td>\n",
       "      <td>3.087021</td>\n",
       "    </tr>\n",
       "    <tr>\n",
       "      <th>20</th>\n",
       "      <td>1989--Adams-J-B--Ag-Au-Cu-Ni-Pd-Pt--LAMMPS--ipr1</td>\n",
       "      <td>Pt</td>\n",
       "      <td>3.108902</td>\n",
       "    </tr>\n",
       "  </tbody>\n",
       "</table>\n",
       "</div>"
      ],
      "text/plain": [
       "                                  potential_LAMMPS_id composition         a\n",
       "0   1986--Foiles-S-M--Ag-Au-Cu-Ni-Pd-Pt--LAMMPS--ipr1          Au  3.236873\n",
       "1   1986--Foiles-S-M--Ag-Au-Cu-Ni-Pd-Pt--LAMMPS--ipr1          Cu  2.870142\n",
       "2   1986--Foiles-S-M--Ag-Au-Cu-Ni-Pd-Pt--LAMMPS--ipr1          Pd  3.086859\n",
       "3   1986--Foiles-S-M--Ag-Au-Cu-Ni-Pd-Pt--LAMMPS--ipr1          Pt  3.109047\n",
       "4                  1986--Foiles-S-M--Au--LAMMPS--ipr1          Au  3.236873\n",
       "5                  1986--Foiles-S-M--Cu--LAMMPS--ipr1          Cu  2.870142\n",
       "6                  1986--Foiles-S-M--Pd--LAMMPS--ipr1          Pd  3.086859\n",
       "7                  1986--Foiles-S-M--Pt--LAMMPS--ipr1          Pt  3.109047\n",
       "8                 1987--Ackland-G-J--Ag--LAMMPS--ipr1          Ag  3.317864\n",
       "9                 1987--Ackland-G-J--Ag--LAMMPS--ipr2          Ag  3.317864\n",
       "10                1987--Ackland-G-J--Au--LAMMPS--ipr1          Au  3.324444\n",
       "11                1987--Ackland-G-J--Au--LAMMPS--ipr2          Au  3.324444\n",
       "12                1987--Ackland-G-J--Cu--LAMMPS--ipr1          Cu  2.960709\n",
       "13                1987--Ackland-G-J--Cu--LAMMPS--ipr2          Cu  2.960523\n",
       "14                1987--Ackland-G-J--Mo--LAMMPS--ipr1          Mo  3.157695\n",
       "15                1987--Ackland-G-J--Mo--LAMMPS--ipr2          Mo  3.147200\n",
       "16                1987--Ackland-G-J--Mo--LAMMPS--ipr3          Mo  3.147200\n",
       "17   1989--Adams-J-B--Ag-Au-Cu-Ni-Pd-Pt--LAMMPS--ipr1          Au  3.236691\n",
       "18   1989--Adams-J-B--Ag-Au-Cu-Ni-Pd-Pt--LAMMPS--ipr1          Cu  2.870080\n",
       "19   1989--Adams-J-B--Ag-Au-Cu-Ni-Pd-Pt--LAMMPS--ipr1          Pd  3.087021\n",
       "20   1989--Adams-J-B--Ag-Au-Cu-Ni-Pd-Pt--LAMMPS--ipr1          Pt  3.108902"
      ]
     },
     "execution_count": 5,
     "metadata": {},
     "output_type": "execute_result"
    }
   ],
   "source": [
    "bcc_props.loc[:20]"
   ]
  },
  {
   "cell_type": "markdown",
   "id": "bd9ac4da-2fc5-4248-ad5e-2fab8684bae6",
   "metadata": {},
   "source": [
    "## Run loop"
   ]
  },
  {
   "cell_type": "code",
   "execution_count": null,
   "id": "3b9591ae-5b71-4e66-a096-c7fb19d175b3",
   "metadata": {},
   "outputs": [
    {
     "name": "stdout",
     "output_type": "stream",
     "text": [
      "227 2024--Sun-Y--Fe-Ni--LAMMPS--ipr1\n",
      "0 existing calculation records provided\n"
     ]
    },
    {
     "name": "stderr",
     "output_type": "stream",
     "text": [
      "100%|█████████████████████████████████████████████████████████████████████████████████████| 1/1 [00:00<00:00,  5.00it/s]"
     ]
    },
    {
     "name": "stdout",
     "output_type": "stream",
     "text": [
      "1 calculation combinations to check\n",
      "1 new records to prepare\n"
     ]
    },
    {
     "name": "stderr",
     "output_type": "stream",
     "text": [
      "\n",
      "preparing: 100%|##########################################################################| 1/1 [00:00<00:00, 66.68it/s]\n"
     ]
    },
    {
     "name": "stdout",
     "output_type": "stream",
     "text": [
      "8a7dddf7-dbe3-464a-a734-ca49566bf854\n",
      "sim calculated successfully\n",
      "\n",
      "4525.000 0.0 4498.600\n",
      "0 existing calculation records provided\n"
     ]
    },
    {
     "name": "stderr",
     "output_type": "stream",
     "text": [
      "100%|█████████████████████████████████████████████████████████████████████████████████████| 1/1 [00:00<00:00,  2.77it/s]"
     ]
    },
    {
     "name": "stdout",
     "output_type": "stream",
     "text": [
      "1 calculation combinations to check\n",
      "1 new records to prepare\n"
     ]
    },
    {
     "name": "stderr",
     "output_type": "stream",
     "text": [
      "\n",
      "preparing: 100%|##########################################################################| 1/1 [00:00<00:00, 52.66it/s]\n"
     ]
    },
    {
     "name": "stdout",
     "output_type": "stream",
     "text": [
      "8645ee6d-4028-4df0-8000-0687e57647e6\n",
      "sim calculated successfully\n",
      "\n",
      "2287.500 4.138e-05 2268.234\n",
      "0 existing calculation records provided\n"
     ]
    },
    {
     "name": "stderr",
     "output_type": "stream",
     "text": [
      "100%|█████████████████████████████████████████████████████████████████████████████████████| 1/1 [00:00<00:00,  2.45it/s]"
     ]
    },
    {
     "name": "stdout",
     "output_type": "stream",
     "text": [
      "1 calculation combinations to check\n",
      "1 new records to prepare\n"
     ]
    },
    {
     "name": "stderr",
     "output_type": "stream",
     "text": [
      "\n",
      "preparing: 100%|##########################################################################| 1/1 [00:00<00:00, 41.99it/s]\n"
     ]
    },
    {
     "name": "stdout",
     "output_type": "stream",
     "text": [
      "987da8a2-bc6c-4390-bee8-d2044035a1be\n",
      "sim calculated successfully\n",
      "\n",
      "1168.750 0.09967 1163.942\n",
      "0 existing calculation records provided\n"
     ]
    },
    {
     "name": "stderr",
     "output_type": "stream",
     "text": [
      "100%|█████████████████████████████████████████████████████████████████████████████████████| 1/1 [00:00<00:00,  4.09it/s]"
     ]
    },
    {
     "name": "stdout",
     "output_type": "stream",
     "text": [
      "1 calculation combinations to check\n",
      "1 new records to prepare\n"
     ]
    },
    {
     "name": "stderr",
     "output_type": "stream",
     "text": [
      "\n",
      "preparing: 100%|##########################################################################| 1/1 [00:00<00:00, 42.30it/s]\n"
     ]
    },
    {
     "name": "stdout",
     "output_type": "stream",
     "text": [
      "9d544459-f728-44a6-b9a5-7b5255c7c628\n",
      "sim calculated successfully\n",
      "\n",
      "609.375 0.03343 606.812\n",
      "0 existing calculation records provided\n"
     ]
    },
    {
     "name": "stderr",
     "output_type": "stream",
     "text": [
      "100%|█████████████████████████████████████████████████████████████████████████████████████| 1/1 [00:00<00:00,  2.73it/s]"
     ]
    },
    {
     "name": "stdout",
     "output_type": "stream",
     "text": [
      "1 calculation combinations to check\n",
      "1 new records to prepare\n"
     ]
    },
    {
     "name": "stderr",
     "output_type": "stream",
     "text": [
      "\n",
      "preparing: 100%|##########################################################################| 1/1 [00:00<00:00, 44.75it/s]\n"
     ]
    },
    {
     "name": "stdout",
     "output_type": "stream",
     "text": [
      "dd3fa732-6219-4a8d-b27e-67bbfafb6e98\n",
      "sim calculated successfully\n",
      "\n",
      "329.688 0.0311 329.426\n",
      "0 existing calculation records provided\n"
     ]
    },
    {
     "name": "stderr",
     "output_type": "stream",
     "text": [
      "100%|█████████████████████████████████████████████████████████████████████████████████████| 1/1 [00:00<00:00,  3.24it/s]"
     ]
    },
    {
     "name": "stdout",
     "output_type": "stream",
     "text": [
      "1 calculation combinations to check\n",
      "1 new records to prepare\n"
     ]
    },
    {
     "name": "stderr",
     "output_type": "stream",
     "text": [
      "\n",
      "preparing: 100%|##########################################################################| 1/1 [00:00<00:00, 57.05it/s]\n"
     ]
    },
    {
     "name": "stdout",
     "output_type": "stream",
     "text": [
      "9aa0cac0-1a2a-4d40-86c3-42d9bb91a193\n",
      "sim calculated successfully\n",
      "\n",
      "189.844 1.0 188.591\n",
      "0 existing calculation records provided\n"
     ]
    },
    {
     "name": "stderr",
     "output_type": "stream",
     "text": [
      "100%|█████████████████████████████████████████████████████████████████████████████████████| 1/1 [00:00<00:00,  2.57it/s]"
     ]
    },
    {
     "name": "stdout",
     "output_type": "stream",
     "text": [
      "1 calculation combinations to check\n",
      "1 new records to prepare\n"
     ]
    },
    {
     "name": "stderr",
     "output_type": "stream",
     "text": [
      "\n",
      "preparing: 100%|##########################################################################| 1/1 [00:00<00:00, 43.03it/s]\n"
     ]
    },
    {
     "name": "stdout",
     "output_type": "stream",
     "text": [
      "eb4a701c-ccb1-4c14-931a-322a7a630de6\n",
      "sim calculated successfully\n",
      "\n",
      "259.766 1.0 258.075\n",
      "0 existing calculation records provided\n"
     ]
    },
    {
     "name": "stderr",
     "output_type": "stream",
     "text": [
      "100%|█████████████████████████████████████████████████████████████████████████████████████| 1/1 [00:00<00:00,  4.08it/s]"
     ]
    },
    {
     "name": "stdout",
     "output_type": "stream",
     "text": [
      "1 calculation combinations to check\n",
      "1 new records to prepare\n"
     ]
    },
    {
     "name": "stderr",
     "output_type": "stream",
     "text": [
      "\n",
      "preparing: 100%|##########################################################################| 1/1 [00:00<00:00, 47.16it/s]\n"
     ]
    },
    {
     "name": "stdout",
     "output_type": "stream",
     "text": [
      "75b00173-e863-45ee-826b-873d392d8fb2\n",
      "sim calculated successfully\n",
      "\n",
      "294.727 1.0 293.604\n",
      "0 existing calculation records provided\n"
     ]
    },
    {
     "name": "stderr",
     "output_type": "stream",
     "text": [
      "100%|█████████████████████████████████████████████████████████████████████████████████████| 1/1 [00:00<00:00,  2.42it/s]"
     ]
    },
    {
     "name": "stdout",
     "output_type": "stream",
     "text": [
      "1 calculation combinations to check\n",
      "1 new records to prepare\n"
     ]
    },
    {
     "name": "stderr",
     "output_type": "stream",
     "text": [
      "\n",
      "preparing: 100%|##########################################################################| 1/1 [00:00<00:00, 44.19it/s]\n"
     ]
    },
    {
     "name": "stdout",
     "output_type": "stream",
     "text": [
      "e180c729-e9fe-4d03-90a5-86a8bded010c\n",
      "sim calculated successfully\n",
      "\n",
      "312.207 0.07021 310.638\n",
      "0 existing calculation records provided\n"
     ]
    },
    {
     "name": "stderr",
     "output_type": "stream",
     "text": [
      "100%|█████████████████████████████████████████████████████████████████████████████████████| 1/1 [00:00<00:00,  3.11it/s]"
     ]
    },
    {
     "name": "stdout",
     "output_type": "stream",
     "text": [
      "1 calculation combinations to check\n",
      "1 new records to prepare\n"
     ]
    },
    {
     "name": "stderr",
     "output_type": "stream",
     "text": [
      "\n",
      "preparing: 100%|##########################################################################| 1/1 [00:00<00:00, 48.55it/s]\n"
     ]
    },
    {
     "name": "stdout",
     "output_type": "stream",
     "text": [
      "2a54ac71-864b-4d09-b73e-a2cfd98e8e6f\n",
      "sim calculated successfully\n",
      "\n",
      "303.467 1.0 301.770\n",
      "0 existing calculation records provided\n"
     ]
    },
    {
     "name": "stderr",
     "output_type": "stream",
     "text": [
      "100%|█████████████████████████████████████████████████████████████████████████████████████| 1/1 [00:00<00:00,  4.17it/s]"
     ]
    },
    {
     "name": "stdout",
     "output_type": "stream",
     "text": [
      "1 calculation combinations to check\n",
      "1 new records to prepare\n"
     ]
    },
    {
     "name": "stderr",
     "output_type": "stream",
     "text": [
      "\n",
      "preparing: 100%|##########################################################################| 1/1 [00:00<00:00, 27.35it/s]\n"
     ]
    },
    {
     "name": "stdout",
     "output_type": "stream",
     "text": [
      "4da68b49-ce93-4c4e-8f86-103e3b1c1093\n",
      "sim calculated successfully\n",
      "\n",
      "307.837 1.0 306.510\n",
      "0 existing calculation records provided\n"
     ]
    },
    {
     "name": "stderr",
     "output_type": "stream",
     "text": [
      "100%|█████████████████████████████████████████████████████████████████████████████████████| 1/1 [00:00<00:00,  4.47it/s]"
     ]
    },
    {
     "name": "stdout",
     "output_type": "stream",
     "text": [
      "1 calculation combinations to check\n",
      "1 new records to prepare\n"
     ]
    },
    {
     "name": "stderr",
     "output_type": "stream",
     "text": [
      "\n",
      "preparing: 100%|##########################################################################| 1/1 [00:00<00:00, 46.82it/s]\n"
     ]
    },
    {
     "name": "stdout",
     "output_type": "stream",
     "text": [
      "ab539f72-430e-48f9-ba67-61c2fedd0c2b\n",
      "sim calculated successfully\n",
      "\n",
      "310.022 1.0 308.041\n",
      "0 existing calculation records provided\n"
     ]
    },
    {
     "name": "stderr",
     "output_type": "stream",
     "text": [
      "100%|█████████████████████████████████████████████████████████████████████████████████████| 1/1 [00:00<00:00,  2.29it/s]"
     ]
    },
    {
     "name": "stdout",
     "output_type": "stream",
     "text": [
      "1 calculation combinations to check\n",
      "1 new records to prepare\n"
     ]
    },
    {
     "name": "stderr",
     "output_type": "stream",
     "text": [
      "\n",
      "preparing: 100%|##########################################################################| 1/1 [00:00<00:00, 43.81it/s]\n"
     ]
    },
    {
     "name": "stdout",
     "output_type": "stream",
     "text": [
      "d4ca5955-4058-485d-a753-df938f9c1c0e\n",
      "sim calculated successfully\n",
      "\n",
      "311.115 1.0 309.751\n",
      "0 existing calculation records provided\n"
     ]
    },
    {
     "name": "stderr",
     "output_type": "stream",
     "text": [
      "100%|█████████████████████████████████████████████████████████████████████████████████████| 1/1 [00:00<00:00,  2.77it/s]"
     ]
    },
    {
     "name": "stdout",
     "output_type": "stream",
     "text": [
      "1 calculation combinations to check\n",
      "1 new records to prepare\n"
     ]
    },
    {
     "name": "stderr",
     "output_type": "stream",
     "text": [
      "\n",
      "preparing: 100%|##########################################################################| 1/1 [00:00<00:00, 43.47it/s]\n"
     ]
    },
    {
     "name": "stdout",
     "output_type": "stream",
     "text": [
      "e0790862-c2da-4f18-b807-8f89e5b4b7ae\n",
      "sim calculated successfully\n",
      "\n",
      "311.661 0.0322 354.028\n",
      "0 existing calculation records provided\n"
     ]
    },
    {
     "name": "stderr",
     "output_type": "stream",
     "text": [
      "100%|█████████████████████████████████████████████████████████████████████████████████████| 1/1 [00:00<00:00,  4.16it/s]"
     ]
    },
    {
     "name": "stdout",
     "output_type": "stream",
     "text": [
      "1 calculation combinations to check\n",
      "1 new records to prepare\n"
     ]
    },
    {
     "name": "stderr",
     "output_type": "stream",
     "text": [
      "\n",
      "preparing: 100%|##########################################################################| 1/1 [00:00<00:00, 42.10it/s]\n"
     ]
    },
    {
     "name": "stdout",
     "output_type": "stream",
     "text": [
      "664f040c-2242-40e3-b84d-c3bc93dd6f7b\n",
      "sim calculated successfully\n",
      "\n",
      "311.388 0.02921 310.814\n",
      "0 existing calculation records provided\n"
     ]
    },
    {
     "name": "stderr",
     "output_type": "stream",
     "text": [
      "100%|█████████████████████████████████████████████████████████████████████████████████████| 1/1 [00:00<00:00,  2.53it/s]"
     ]
    },
    {
     "name": "stdout",
     "output_type": "stream",
     "text": [
      "1 calculation combinations to check\n",
      "1 new records to prepare\n"
     ]
    },
    {
     "name": "stderr",
     "output_type": "stream",
     "text": [
      "\n",
      "preparing: 100%|##########################################################################| 1/1 [00:00<00:00, 38.83it/s]\n"
     ]
    },
    {
     "name": "stdout",
     "output_type": "stream",
     "text": [
      "62ae8466-2f6c-4ea6-9a7e-6f75bbdbcb5f\n",
      "sim calculated successfully\n",
      "\n",
      "311.251 0.2189 308.839\n",
      "0 existing calculation records provided\n"
     ]
    },
    {
     "name": "stderr",
     "output_type": "stream",
     "text": [
      "100%|█████████████████████████████████████████████████████████████████████████████████████| 1/1 [00:00<00:00,  2.37it/s]"
     ]
    },
    {
     "name": "stdout",
     "output_type": "stream",
     "text": [
      "1 calculation combinations to check\n",
      "1 new records to prepare\n"
     ]
    },
    {
     "name": "stderr",
     "output_type": "stream",
     "text": [
      "\n",
      "preparing: 100%|##########################################################################| 1/1 [00:00<00:00, 37.24it/s]\n"
     ]
    },
    {
     "name": "stdout",
     "output_type": "stream",
     "text": [
      "d529a8d7-41fc-4933-a816-3af981367467\n",
      "sim calculated successfully\n",
      "\n",
      "311.183 1.0 308.995\n",
      "0 existing calculation records provided\n"
     ]
    },
    {
     "name": "stderr",
     "output_type": "stream",
     "text": [
      "100%|█████████████████████████████████████████████████████████████████████████████████████| 1/1 [00:00<00:00,  4.04it/s]"
     ]
    },
    {
     "name": "stdout",
     "output_type": "stream",
     "text": [
      "1 calculation combinations to check\n",
      "1 new records to prepare\n"
     ]
    },
    {
     "name": "stderr",
     "output_type": "stream",
     "text": [
      "\n",
      "preparing: 100%|##########################################################################| 1/1 [00:00<00:00, 30.85it/s]\n"
     ]
    },
    {
     "name": "stdout",
     "output_type": "stream",
     "text": [
      "36fc9154-6f78-4011-bf4a-8717fe6247fa\n",
      "sim calculated successfully\n",
      "\n",
      "311.217 1.0 310.180\n",
      "0 existing calculation records provided\n"
     ]
    },
    {
     "name": "stderr",
     "output_type": "stream",
     "text": [
      "100%|█████████████████████████████████████████████████████████████████████████████████████| 1/1 [00:00<00:00,  4.08it/s]"
     ]
    },
    {
     "name": "stdout",
     "output_type": "stream",
     "text": [
      "1 calculation combinations to check\n",
      "1 new records to prepare\n"
     ]
    },
    {
     "name": "stderr",
     "output_type": "stream",
     "text": [
      "\n",
      "preparing: 100%|##########################################################################| 1/1 [00:00<00:00, 40.80it/s]\n"
     ]
    },
    {
     "name": "stdout",
     "output_type": "stream",
     "text": [
      "f6b10197-ebe8-4aa8-b696-924cf32c6141\n",
      "sim calculated successfully\n",
      "\n",
      "311.234 1.0 309.750\n",
      "0 existing calculation records provided\n"
     ]
    },
    {
     "name": "stderr",
     "output_type": "stream",
     "text": [
      "100%|█████████████████████████████████████████████████████████████████████████████████████| 1/1 [00:00<00:00,  2.52it/s]"
     ]
    },
    {
     "name": "stdout",
     "output_type": "stream",
     "text": [
      "1 calculation combinations to check\n",
      "1 new records to prepare\n"
     ]
    },
    {
     "name": "stderr",
     "output_type": "stream",
     "text": [
      "\n",
      "preparing: 100%|##########################################################################| 1/1 [00:00<00:00, 42.35it/s]\n"
     ]
    },
    {
     "name": "stdout",
     "output_type": "stream",
     "text": [
      "4fb5e3cb-a0c2-40f2-acd4-f01cfbbe1a49\n",
      "sim calculated successfully\n",
      "\n",
      "311.243 1.0 309.153\n",
      "0 existing calculation records provided\n"
     ]
    },
    {
     "name": "stderr",
     "output_type": "stream",
     "text": [
      "100%|█████████████████████████████████████████████████████████████████████████████████████| 1/1 [00:00<00:00,  2.28it/s]"
     ]
    },
    {
     "name": "stdout",
     "output_type": "stream",
     "text": [
      "1 calculation combinations to check\n",
      "1 new records to prepare\n"
     ]
    },
    {
     "name": "stderr",
     "output_type": "stream",
     "text": [
      "\n",
      "preparing: 100%|##########################################################################| 1/1 [00:00<00:00, 44.38it/s]\n"
     ]
    },
    {
     "name": "stdout",
     "output_type": "stream",
     "text": [
      "d0798b0d-b665-4b4e-932c-d0446a710043\n",
      "sim calculated successfully\n",
      "\n",
      "311.247 0.1065 309.706\n",
      "0 existing calculation records provided\n"
     ]
    },
    {
     "name": "stderr",
     "output_type": "stream",
     "text": [
      "100%|█████████████████████████████████████████████████████████████████████████████████████| 1/1 [00:00<00:00,  4.11it/s]"
     ]
    },
    {
     "name": "stdout",
     "output_type": "stream",
     "text": [
      "1 calculation combinations to check\n",
      "1 new records to prepare\n"
     ]
    },
    {
     "name": "stderr",
     "output_type": "stream",
     "text": [
      "\n",
      "preparing: 100%|##########################################################################| 1/1 [00:00<00:00, 30.62it/s]\n"
     ]
    },
    {
     "name": "stdout",
     "output_type": "stream",
     "text": [
      "5022d284-e1a6-47a0-ae91-ed3bd17b20f6\n",
      "sim calculated successfully\n",
      "\n",
      "311.245 1.0 310.064\n",
      "0 existing calculation records provided\n"
     ]
    },
    {
     "name": "stderr",
     "output_type": "stream",
     "text": [
      "100%|█████████████████████████████████████████████████████████████████████████████████████| 1/1 [00:00<00:00,  2.27it/s]"
     ]
    },
    {
     "name": "stdout",
     "output_type": "stream",
     "text": [
      "1 calculation combinations to check\n",
      "1 new records to prepare\n"
     ]
    },
    {
     "name": "stderr",
     "output_type": "stream",
     "text": [
      "\n",
      "preparing: 100%|##########################################################################| 1/1 [00:00<00:00, 45.19it/s]\n"
     ]
    },
    {
     "name": "stdout",
     "output_type": "stream",
     "text": [
      "885c932f-0c93-4050-ab9d-9f68277b6c7d\n",
      "sim calculated successfully\n",
      "\n",
      "311.246 1.0 309.763\n",
      "0 existing calculation records provided\n"
     ]
    },
    {
     "name": "stderr",
     "output_type": "stream",
     "text": [
      "100%|█████████████████████████████████████████████████████████████████████████████████████| 1/1 [00:00<00:00,  2.52it/s]"
     ]
    },
    {
     "name": "stdout",
     "output_type": "stream",
     "text": [
      "1 calculation combinations to check\n",
      "1 new records to prepare\n"
     ]
    },
    {
     "name": "stderr",
     "output_type": "stream",
     "text": [
      "\n",
      "preparing: 100%|##########################################################################| 1/1 [00:00<00:00, 45.89it/s]\n"
     ]
    },
    {
     "name": "stdout",
     "output_type": "stream",
     "text": [
      "0e7841d7-bd48-4931-a690-b9945f0b7655\n",
      "sim calculated successfully\n",
      "\n",
      "311.246 0.396 309.177\n",
      "0 existing calculation records provided\n"
     ]
    },
    {
     "name": "stderr",
     "output_type": "stream",
     "text": [
      "100%|█████████████████████████████████████████████████████████████████████████████████████| 1/1 [00:00<00:00,  3.93it/s]"
     ]
    },
    {
     "name": "stdout",
     "output_type": "stream",
     "text": [
      "1 calculation combinations to check\n",
      "1 new records to prepare\n"
     ]
    },
    {
     "name": "stderr",
     "output_type": "stream",
     "text": [
      "\n",
      "preparing: 100%|##########################################################################| 1/1 [00:00<00:00, 28.95it/s]\n"
     ]
    },
    {
     "name": "stdout",
     "output_type": "stream",
     "text": [
      "44af8ff0-64bc-48d2-b362-d7996f2cfa9f\n",
      "sim calculated successfully\n",
      "\n",
      "311.246 1.0 309.738\n",
      "0 existing calculation records provided\n"
     ]
    },
    {
     "name": "stderr",
     "output_type": "stream",
     "text": [
      "100%|█████████████████████████████████████████████████████████████████████████████████████| 1/1 [00:00<00:00,  4.61it/s]"
     ]
    },
    {
     "name": "stdout",
     "output_type": "stream",
     "text": [
      "1 calculation combinations to check\n",
      "1 new records to prepare\n"
     ]
    },
    {
     "name": "stderr",
     "output_type": "stream",
     "text": [
      "\n",
      "preparing: 100%|##########################################################################| 1/1 [00:00<00:00, 46.87it/s]\n"
     ]
    },
    {
     "name": "stdout",
     "output_type": "stream",
     "text": [
      "8d8b4335-1921-4938-b7b0-a9fbd70e4147\n",
      "sim calculated successfully\n",
      "\n",
      "311.246 1.0 310.063\n",
      "0 existing calculation records provided\n"
     ]
    },
    {
     "name": "stderr",
     "output_type": "stream",
     "text": [
      "100%|█████████████████████████████████████████████████████████████████████████████████████| 1/1 [00:00<00:00,  2.35it/s]"
     ]
    },
    {
     "name": "stdout",
     "output_type": "stream",
     "text": [
      "1 calculation combinations to check\n",
      "1 new records to prepare\n"
     ]
    },
    {
     "name": "stderr",
     "output_type": "stream",
     "text": [
      "\n",
      "preparing: 100%|##########################################################################| 1/1 [00:00<00:00, 45.07it/s]\n"
     ]
    },
    {
     "name": "stdout",
     "output_type": "stream",
     "text": [
      "d27a544c-448b-4647-be12-33ceec4f2b41\n",
      "sim calculated successfully\n",
      "\n",
      "311.247 1.0 308.561\n",
      "0 existing calculation records provided\n"
     ]
    },
    {
     "name": "stderr",
     "output_type": "stream",
     "text": [
      "100%|█████████████████████████████████████████████████████████████████████████████████████| 1/1 [00:00<00:00,  2.88it/s]"
     ]
    },
    {
     "name": "stdout",
     "output_type": "stream",
     "text": [
      "1 calculation combinations to check\n",
      "1 new records to prepare\n"
     ]
    },
    {
     "name": "stderr",
     "output_type": "stream",
     "text": [
      "\n",
      "preparing: 100%|##########################################################################| 1/1 [00:00<00:00, 31.80it/s]\n"
     ]
    },
    {
     "name": "stdout",
     "output_type": "stream",
     "text": [
      "4abac524-e02b-43ef-9837-39196e55ab4b\n",
      "sim calculated successfully\n",
      "\n",
      "311.247 1.0 309.352\n",
      "0 existing calculation records provided\n"
     ]
    },
    {
     "name": "stderr",
     "output_type": "stream",
     "text": [
      "100%|█████████████████████████████████████████████████████████████████████████████████████| 1/1 [00:00<00:00,  4.26it/s]"
     ]
    },
    {
     "name": "stdout",
     "output_type": "stream",
     "text": [
      "1 calculation combinations to check\n",
      "1 new records to prepare\n"
     ]
    },
    {
     "name": "stderr",
     "output_type": "stream",
     "text": [
      "\n",
      "preparing: 100%|##########################################################################| 1/1 [00:00<00:00, 28.80it/s]\n"
     ]
    },
    {
     "name": "stdout",
     "output_type": "stream",
     "text": [
      "4f70aaa4-aaf9-4fc8-971c-1ae40d12a87c\n",
      "sim calculated successfully\n",
      "\n",
      "311.247 1.0 309.610\n",
      "0 existing calculation records provided\n"
     ]
    },
    {
     "name": "stderr",
     "output_type": "stream",
     "text": [
      "100%|█████████████████████████████████████████████████████████████████████████████████████| 1/1 [00:00<00:00,  2.47it/s]"
     ]
    },
    {
     "name": "stdout",
     "output_type": "stream",
     "text": [
      "1 calculation combinations to check\n",
      "1 new records to prepare\n"
     ]
    },
    {
     "name": "stderr",
     "output_type": "stream",
     "text": [
      "\n",
      "preparing: 100%|##########################################################################| 1/1 [00:00<00:00, 37.95it/s]\n"
     ]
    },
    {
     "name": "stdout",
     "output_type": "stream",
     "text": [
      "e9a20275-43ac-40ad-9096-fe3e6af6c27e\n",
      "sim calculated successfully\n",
      "\n",
      "311.247 1.0 308.781\n",
      "0 existing calculation records provided\n"
     ]
    },
    {
     "name": "stderr",
     "output_type": "stream",
     "text": [
      "100%|█████████████████████████████████████████████████████████████████████████████████████| 1/1 [00:00<00:00,  2.71it/s]"
     ]
    },
    {
     "name": "stdout",
     "output_type": "stream",
     "text": [
      "1 calculation combinations to check\n",
      "1 new records to prepare\n"
     ]
    },
    {
     "name": "stderr",
     "output_type": "stream",
     "text": [
      "\n",
      "preparing: 100%|##########################################################################| 1/1 [00:00<00:00, 26.61it/s]\n"
     ]
    },
    {
     "name": "stdout",
     "output_type": "stream",
     "text": [
      "158bba05-22e0-4454-82a7-fbe0877cb7af\n",
      "sim calculated successfully\n",
      "\n",
      "311.247 1.0 309.427\n",
      "0 existing calculation records provided\n"
     ]
    },
    {
     "name": "stderr",
     "output_type": "stream",
     "text": [
      "100%|█████████████████████████████████████████████████████████████████████████████████████| 1/1 [00:00<00:00,  2.19it/s]"
     ]
    },
    {
     "name": "stdout",
     "output_type": "stream",
     "text": [
      "1 calculation combinations to check\n",
      "1 new records to prepare\n"
     ]
    },
    {
     "name": "stderr",
     "output_type": "stream",
     "text": [
      "\n",
      "preparing: 100%|##########################################################################| 1/1 [00:00<00:00, 40.62it/s]\n"
     ]
    },
    {
     "name": "stdout",
     "output_type": "stream",
     "text": [
      "7f13cb7f-bcf9-470c-ba21-1ba806af686a\n",
      "sim calculated successfully\n",
      "\n",
      "311.247 1.0 310.491\n",
      "0 existing calculation records provided\n"
     ]
    },
    {
     "name": "stderr",
     "output_type": "stream",
     "text": [
      "100%|█████████████████████████████████████████████████████████████████████████████████████| 1/1 [00:00<00:00,  2.67it/s]"
     ]
    },
    {
     "name": "stdout",
     "output_type": "stream",
     "text": [
      "1 calculation combinations to check\n",
      "1 new records to prepare\n"
     ]
    },
    {
     "name": "stderr",
     "output_type": "stream",
     "text": [
      "\n",
      "preparing: 100%|##########################################################################| 1/1 [00:00<00:00, 46.15it/s]\n"
     ]
    },
    {
     "name": "stdout",
     "output_type": "stream",
     "text": [
      "4f9829e1-f6c1-4a08-b567-6f05bf9c6ffa\n",
      "sim calculated successfully\n",
      "\n",
      "311.247 1.0 310.478\n",
      "0 existing calculation records provided\n"
     ]
    },
    {
     "name": "stderr",
     "output_type": "stream",
     "text": [
      "100%|█████████████████████████████████████████████████████████████████████████████████████| 1/1 [00:00<00:00,  4.35it/s]"
     ]
    },
    {
     "name": "stdout",
     "output_type": "stream",
     "text": [
      "1 calculation combinations to check\n",
      "1 new records to prepare\n"
     ]
    },
    {
     "name": "stderr",
     "output_type": "stream",
     "text": [
      "\n",
      "preparing: 100%|##########################################################################| 1/1 [00:00<00:00, 31.97it/s]\n"
     ]
    },
    {
     "name": "stdout",
     "output_type": "stream",
     "text": [
      "216e0de9-b56f-4267-99c3-183f3561b584\n",
      "sim calculated successfully\n",
      "\n",
      "311.247 1.0 309.363\n",
      "0 existing calculation records provided\n"
     ]
    },
    {
     "name": "stderr",
     "output_type": "stream",
     "text": [
      "100%|█████████████████████████████████████████████████████████████████████████████████████| 1/1 [00:00<00:00,  2.55it/s]"
     ]
    },
    {
     "name": "stdout",
     "output_type": "stream",
     "text": [
      "1 calculation combinations to check\n",
      "1 new records to prepare\n"
     ]
    },
    {
     "name": "stderr",
     "output_type": "stream",
     "text": [
      "\n",
      "preparing: 100%|##########################################################################| 1/1 [00:00<00:00, 44.17it/s]\n"
     ]
    },
    {
     "name": "stdout",
     "output_type": "stream",
     "text": [
      "bfdd55a9-ad21-45d8-aea5-288115096fec\n",
      "sim calculated successfully\n",
      "\n",
      "311.247 1.0 309.908\n",
      "Max number of runs reached!\n",
      "\n",
      "226 2024--Sun-Y--Fe-Ni--LAMMPS--ipr1\n",
      "0 existing calculation records provided\n"
     ]
    },
    {
     "name": "stderr",
     "output_type": "stream",
     "text": [
      "100%|█████████████████████████████████████████████████████████████████████████████████████| 1/1 [00:00<00:00,  4.41it/s]"
     ]
    },
    {
     "name": "stdout",
     "output_type": "stream",
     "text": [
      "1 calculation combinations to check\n",
      "1 new records to prepare\n"
     ]
    },
    {
     "name": "stderr",
     "output_type": "stream",
     "text": [
      "\n",
      "preparing: 100%|##########################################################################| 1/1 [00:00<00:00, 49.05it/s]\n"
     ]
    },
    {
     "name": "stdout",
     "output_type": "stream",
     "text": [
      "96cc684f-0b18-4857-8597-0774140bc11f\n",
      "sim calculated successfully\n",
      "\n",
      "4525.000 0.0 4503.929\n",
      "0 existing calculation records provided\n"
     ]
    },
    {
     "name": "stderr",
     "output_type": "stream",
     "text": [
      "100%|█████████████████████████████████████████████████████████████████████████████████████| 1/1 [00:00<00:00,  4.39it/s]"
     ]
    },
    {
     "name": "stdout",
     "output_type": "stream",
     "text": [
      "1 calculation combinations to check\n",
      "1 new records to prepare\n"
     ]
    },
    {
     "name": "stderr",
     "output_type": "stream",
     "text": [
      "\n",
      "preparing: 100%|##########################################################################| 1/1 [00:00<00:00, 44.80it/s]\n"
     ]
    },
    {
     "name": "stdout",
     "output_type": "stream",
     "text": [
      "314ff1fe-6ba2-4820-8db2-05eaa2e4c3cb\n",
      "sim calculated successfully\n",
      "\n",
      "2287.500 0.0 2277.792\n",
      "0 existing calculation records provided\n"
     ]
    },
    {
     "name": "stderr",
     "output_type": "stream",
     "text": [
      "100%|█████████████████████████████████████████████████████████████████████████████████████| 1/1 [00:00<00:00,  3.07it/s]"
     ]
    },
    {
     "name": "stdout",
     "output_type": "stream",
     "text": [
      "1 calculation combinations to check\n",
      "1 new records to prepare\n"
     ]
    },
    {
     "name": "stderr",
     "output_type": "stream",
     "text": [
      "\n",
      "preparing: 100%|##########################################################################| 1/1 [00:00<00:00, 28.86it/s]\n"
     ]
    },
    {
     "name": "stdout",
     "output_type": "stream",
     "text": [
      "8dd8b54d-7707-4eb0-8945-bb1954f27d98\n",
      "sim calculated successfully\n",
      "\n",
      "1168.750 0.0 1159.094\n",
      "0 existing calculation records provided\n"
     ]
    },
    {
     "name": "stderr",
     "output_type": "stream",
     "text": [
      "100%|█████████████████████████████████████████████████████████████████████████████████████| 1/1 [00:00<00:00,  4.07it/s]"
     ]
    },
    {
     "name": "stdout",
     "output_type": "stream",
     "text": [
      "1 calculation combinations to check\n",
      "1 new records to prepare\n"
     ]
    },
    {
     "name": "stderr",
     "output_type": "stream",
     "text": [
      "\n",
      "preparing: 100%|##########################################################################| 1/1 [00:00<00:00, 26.74it/s]\n"
     ]
    },
    {
     "name": "stdout",
     "output_type": "stream",
     "text": [
      "fbea119e-e0b8-45b3-8625-f4da9102a97c\n",
      "sim calculated successfully\n",
      "\n",
      "609.375 0.0 586.008\n",
      "0 existing calculation records provided\n"
     ]
    },
    {
     "name": "stderr",
     "output_type": "stream",
     "text": [
      "100%|█████████████████████████████████████████████████████████████████████████████████████| 1/1 [00:00<00:00,  4.02it/s]"
     ]
    },
    {
     "name": "stdout",
     "output_type": "stream",
     "text": [
      "1 calculation combinations to check\n",
      "1 new records to prepare\n"
     ]
    },
    {
     "name": "stderr",
     "output_type": "stream",
     "text": [
      "\n",
      "preparing: 100%|##########################################################################| 1/1 [00:00<00:00, 46.34it/s]\n"
     ]
    },
    {
     "name": "stdout",
     "output_type": "stream",
     "text": [
      "448a6086-1a0c-49dd-9c8e-94391830d161\n",
      "sim calculated successfully\n",
      "\n",
      "329.688 1.0 327.910\n",
      "0 existing calculation records provided\n"
     ]
    },
    {
     "name": "stderr",
     "output_type": "stream",
     "text": [
      "100%|█████████████████████████████████████████████████████████████████████████████████████| 1/1 [00:00<00:00,  4.30it/s]"
     ]
    },
    {
     "name": "stdout",
     "output_type": "stream",
     "text": [
      "1 calculation combinations to check\n",
      "1 new records to prepare\n"
     ]
    },
    {
     "name": "stderr",
     "output_type": "stream",
     "text": [
      "\n",
      "preparing: 100%|##########################################################################| 1/1 [00:00<00:00, 26.39it/s]\n"
     ]
    },
    {
     "name": "stdout",
     "output_type": "stream",
     "text": [
      "0529b6aa-b8c0-4d2d-be0e-034faa4f835f\n",
      "sim calculated successfully\n",
      "\n",
      "469.531 1.0 467.871\n",
      "0 existing calculation records provided\n"
     ]
    },
    {
     "name": "stderr",
     "output_type": "stream",
     "text": [
      "100%|█████████████████████████████████████████████████████████████████████████████████████| 1/1 [00:00<00:00,  4.15it/s]"
     ]
    },
    {
     "name": "stdout",
     "output_type": "stream",
     "text": [
      "1 calculation combinations to check\n",
      "1 new records to prepare\n"
     ]
    },
    {
     "name": "stderr",
     "output_type": "stream",
     "text": [
      "\n",
      "preparing: 100%|##########################################################################| 1/1 [00:00<00:00, 44.34it/s]\n"
     ]
    },
    {
     "name": "stdout",
     "output_type": "stream",
     "text": [
      "0ee12aa2-bfb8-4400-a95c-621b71525276\n",
      "sim calculated successfully\n",
      "\n",
      "539.453 0.0 481.574\n",
      "0 existing calculation records provided\n"
     ]
    },
    {
     "name": "stderr",
     "output_type": "stream",
     "text": [
      "100%|█████████████████████████████████████████████████████████████████████████████████████| 1/1 [00:00<00:00,  4.04it/s]"
     ]
    },
    {
     "name": "stdout",
     "output_type": "stream",
     "text": [
      "1 calculation combinations to check\n",
      "1 new records to prepare\n"
     ]
    },
    {
     "name": "stderr",
     "output_type": "stream",
     "text": [
      "\n",
      "preparing: 100%|##########################################################################| 1/1 [00:00<00:00, 45.06it/s]\n"
     ]
    },
    {
     "name": "stdout",
     "output_type": "stream",
     "text": [
      "b47aed4a-f757-496e-8ab2-8e2cf9d4abdc\n",
      "sim calculated successfully\n",
      "\n",
      "504.492 0.0 435.835\n",
      "0 existing calculation records provided\n"
     ]
    },
    {
     "name": "stderr",
     "output_type": "stream",
     "text": [
      "100%|█████████████████████████████████████████████████████████████████████████████████████| 1/1 [00:00<00:00,  4.41it/s]"
     ]
    },
    {
     "name": "stdout",
     "output_type": "stream",
     "text": [
      "1 calculation combinations to check\n",
      "1 new records to prepare\n"
     ]
    },
    {
     "name": "stderr",
     "output_type": "stream",
     "text": [
      "\n",
      "preparing: 100%|##########################################################################| 1/1 [00:00<00:00, 31.88it/s]\n"
     ]
    },
    {
     "name": "stdout",
     "output_type": "stream",
     "text": [
      "5e4dee87-9ffc-400a-825d-4c76da6d6749\n",
      "sim calculated successfully\n",
      "\n",
      "487.012 0.9999 482.956\n",
      "0 existing calculation records provided\n"
     ]
    },
    {
     "name": "stderr",
     "output_type": "stream",
     "text": [
      "100%|█████████████████████████████████████████████████████████████████████████████████████| 1/1 [00:00<00:00,  4.33it/s]"
     ]
    },
    {
     "name": "stdout",
     "output_type": "stream",
     "text": [
      "1 calculation combinations to check\n",
      "1 new records to prepare\n"
     ]
    },
    {
     "name": "stderr",
     "output_type": "stream",
     "text": [
      "\n",
      "preparing: 100%|##########################################################################| 1/1 [00:00<00:00, 45.34it/s]\n"
     ]
    },
    {
     "name": "stdout",
     "output_type": "stream",
     "text": [
      "e8463074-22fd-4a9e-bdcc-b5445f953d00\n",
      "sim calculated successfully\n",
      "\n",
      "495.752 0.0 421.621\n",
      "0 existing calculation records provided\n"
     ]
    },
    {
     "name": "stderr",
     "output_type": "stream",
     "text": [
      "100%|█████████████████████████████████████████████████████████████████████████████████████| 1/1 [00:00<00:00,  4.06it/s]"
     ]
    },
    {
     "name": "stdout",
     "output_type": "stream",
     "text": [
      "1 calculation combinations to check\n",
      "1 new records to prepare\n"
     ]
    },
    {
     "name": "stderr",
     "output_type": "stream",
     "text": [
      "\n",
      "preparing: 100%|##########################################################################| 1/1 [00:00<00:00, 31.80it/s]\n"
     ]
    },
    {
     "name": "stdout",
     "output_type": "stream",
     "text": [
      "19168821-4bd7-4f00-b0c2-a5d68c8e2109\n",
      "sim calculated successfully\n",
      "\n",
      "491.382 1.0 489.114\n",
      "0 existing calculation records provided\n"
     ]
    },
    {
     "name": "stderr",
     "output_type": "stream",
     "text": [
      "100%|█████████████████████████████████████████████████████████████████████████████████████| 1/1 [00:00<00:00,  4.02it/s]"
     ]
    },
    {
     "name": "stdout",
     "output_type": "stream",
     "text": [
      "1 calculation combinations to check\n",
      "1 new records to prepare\n"
     ]
    },
    {
     "name": "stderr",
     "output_type": "stream",
     "text": [
      "\n",
      "preparing: 100%|##########################################################################| 1/1 [00:00<00:00, 45.29it/s]\n"
     ]
    },
    {
     "name": "stdout",
     "output_type": "stream",
     "text": [
      "0dc57eb3-38eb-4806-aeef-f1bb644aaefb\n",
      "sim calculated successfully\n",
      "\n",
      "493.567 0.9999 491.286\n",
      "0 existing calculation records provided\n"
     ]
    },
    {
     "name": "stderr",
     "output_type": "stream",
     "text": [
      "100%|█████████████████████████████████████████████████████████████████████████████████████| 1/1 [00:00<00:00,  4.49it/s]"
     ]
    },
    {
     "name": "stdout",
     "output_type": "stream",
     "text": [
      "1 calculation combinations to check\n",
      "1 new records to prepare\n"
     ]
    },
    {
     "name": "stderr",
     "output_type": "stream",
     "text": [
      "\n",
      "preparing: 100%|##########################################################################| 1/1 [00:00<00:00, 46.19it/s]\n"
     ]
    },
    {
     "name": "stdout",
     "output_type": "stream",
     "text": [
      "43e91399-985c-4791-9280-346eed35bd7e\n",
      "sim calculated successfully\n",
      "\n",
      "494.659 0.0 418.126\n",
      "0 existing calculation records provided\n"
     ]
    },
    {
     "name": "stderr",
     "output_type": "stream",
     "text": [
      "100%|█████████████████████████████████████████████████████████████████████████████████████| 1/1 [00:00<00:00,  3.99it/s]"
     ]
    },
    {
     "name": "stdout",
     "output_type": "stream",
     "text": [
      "1 calculation combinations to check\n",
      "1 new records to prepare\n"
     ]
    },
    {
     "name": "stderr",
     "output_type": "stream",
     "text": [
      "\n",
      "preparing: 100%|##########################################################################| 1/1 [00:00<00:00, 31.93it/s]\n"
     ]
    },
    {
     "name": "stdout",
     "output_type": "stream",
     "text": [
      "ec1164ad-6f7e-4589-b84d-11395fd0a5af\n",
      "sim calculated successfully\n",
      "\n",
      "494.113 0.0 424.871\n",
      "0 existing calculation records provided\n"
     ]
    },
    {
     "name": "stderr",
     "output_type": "stream",
     "text": [
      "100%|█████████████████████████████████████████████████████████████████████████████████████| 1/1 [00:00<00:00,  4.33it/s]"
     ]
    },
    {
     "name": "stdout",
     "output_type": "stream",
     "text": [
      "1 calculation combinations to check\n",
      "1 new records to prepare\n"
     ]
    },
    {
     "name": "stderr",
     "output_type": "stream",
     "text": [
      "\n",
      "preparing: 100%|##########################################################################| 1/1 [00:00<00:00, 32.61it/s]\n"
     ]
    },
    {
     "name": "stdout",
     "output_type": "stream",
     "text": [
      "5b31cd58-162d-4485-a93a-57bca88a8e7f\n",
      "sim calculated successfully\n",
      "\n",
      "493.840 1.0 490.598\n",
      "0 existing calculation records provided\n"
     ]
    },
    {
     "name": "stderr",
     "output_type": "stream",
     "text": [
      "100%|█████████████████████████████████████████████████████████████████████████████████████| 1/1 [00:00<00:00,  3.98it/s]"
     ]
    },
    {
     "name": "stdout",
     "output_type": "stream",
     "text": [
      "1 calculation combinations to check\n",
      "1 new records to prepare\n"
     ]
    },
    {
     "name": "stderr",
     "output_type": "stream",
     "text": [
      "\n",
      "preparing: 100%|##########################################################################| 1/1 [00:00<00:00, 26.60it/s]\n"
     ]
    },
    {
     "name": "stdout",
     "output_type": "stream",
     "text": [
      "b6c010f0-e556-46a4-9fef-7cf9c38efba6\n",
      "sim calculated successfully\n",
      "\n",
      "493.977 0.0 414.501\n",
      "0 existing calculation records provided\n"
     ]
    },
    {
     "name": "stderr",
     "output_type": "stream",
     "text": [
      "100%|█████████████████████████████████████████████████████████████████████████████████████| 1/1 [00:00<00:00,  3.99it/s]"
     ]
    },
    {
     "name": "stdout",
     "output_type": "stream",
     "text": [
      "1 calculation combinations to check\n",
      "1 new records to prepare\n"
     ]
    },
    {
     "name": "stderr",
     "output_type": "stream",
     "text": [
      "\n",
      "preparing: 100%|##########################################################################| 1/1 [00:00<00:00, 32.29it/s]\n"
     ]
    },
    {
     "name": "stdout",
     "output_type": "stream",
     "text": [
      "1e106a02-d0e2-44f9-828c-568580b2acf6\n",
      "sim calculated successfully\n",
      "\n",
      "493.908 0.0 418.050\n",
      "0 existing calculation records provided\n"
     ]
    },
    {
     "name": "stderr",
     "output_type": "stream",
     "text": [
      "100%|█████████████████████████████████████████████████████████████████████████████████████| 1/1 [00:00<00:00,  4.26it/s]"
     ]
    },
    {
     "name": "stdout",
     "output_type": "stream",
     "text": [
      "1 calculation combinations to check\n",
      "1 new records to prepare\n"
     ]
    },
    {
     "name": "stderr",
     "output_type": "stream",
     "text": [
      "\n",
      "preparing: 100%|##########################################################################| 1/1 [00:00<00:00, 31.04it/s]\n"
     ]
    },
    {
     "name": "stdout",
     "output_type": "stream",
     "text": [
      "6a173705-76e7-45c5-b74c-71f4b5be5ef1\n",
      "sim calculated successfully\n",
      "\n",
      "493.874 0.0 415.292\n",
      "0 existing calculation records provided\n"
     ]
    },
    {
     "name": "stderr",
     "output_type": "stream",
     "text": [
      "100%|█████████████████████████████████████████████████████████████████████████████████████| 1/1 [00:00<00:00,  4.16it/s]"
     ]
    },
    {
     "name": "stdout",
     "output_type": "stream",
     "text": [
      "1 calculation combinations to check\n",
      "1 new records to prepare\n"
     ]
    },
    {
     "name": "stderr",
     "output_type": "stream",
     "text": [
      "\n",
      "preparing: 100%|##########################################################################| 1/1 [00:00<00:00, 31.87it/s]\n"
     ]
    },
    {
     "name": "stdout",
     "output_type": "stream",
     "text": [
      "e9fdabc3-e1ea-4bb7-84de-129ac7571ab9\n",
      "sim calculated successfully\n",
      "\n",
      "493.857 0.0 414.526\n",
      "0 existing calculation records provided\n"
     ]
    },
    {
     "name": "stderr",
     "output_type": "stream",
     "text": [
      "100%|█████████████████████████████████████████████████████████████████████████████████████| 1/1 [00:00<00:00,  2.55it/s]"
     ]
    },
    {
     "name": "stdout",
     "output_type": "stream",
     "text": [
      "1 calculation combinations to check\n",
      "1 new records to prepare\n"
     ]
    },
    {
     "name": "stderr",
     "output_type": "stream",
     "text": [
      "\n",
      "preparing: 100%|##########################################################################| 1/1 [00:00<00:00, 45.44it/s]\n"
     ]
    },
    {
     "name": "stdout",
     "output_type": "stream",
     "text": [
      "480b6aca-edc7-4bae-8f5e-cb13dee0b20b\n",
      "sim calculated successfully\n",
      "\n",
      "493.849 0.0 417.271\n",
      "0 existing calculation records provided\n"
     ]
    },
    {
     "name": "stderr",
     "output_type": "stream",
     "text": [
      "100%|█████████████████████████████████████████████████████████████████████████████████████| 1/1 [00:00<00:00,  2.71it/s]"
     ]
    },
    {
     "name": "stdout",
     "output_type": "stream",
     "text": [
      "1 calculation combinations to check\n",
      "1 new records to prepare\n"
     ]
    },
    {
     "name": "stderr",
     "output_type": "stream",
     "text": [
      "\n",
      "preparing: 100%|##########################################################################| 1/1 [00:00<00:00,  6.84it/s]\n"
     ]
    },
    {
     "name": "stdout",
     "output_type": "stream",
     "text": [
      "6a482abb-ac2f-45e6-89cf-e951fd192901\n",
      "sim calculated successfully\n",
      "\n",
      "493.844 0.0 420.135\n",
      "0 existing calculation records provided\n"
     ]
    },
    {
     "name": "stderr",
     "output_type": "stream",
     "text": [
      "100%|█████████████████████████████████████████████████████████████████████████████████████| 1/1 [00:00<00:00,  4.12it/s]"
     ]
    },
    {
     "name": "stdout",
     "output_type": "stream",
     "text": [
      "1 calculation combinations to check\n",
      "1 new records to prepare\n"
     ]
    },
    {
     "name": "stderr",
     "output_type": "stream",
     "text": [
      "\n",
      "preparing: 100%|##########################################################################| 1/1 [00:00<00:00, 42.32it/s]\n"
     ]
    },
    {
     "name": "stdout",
     "output_type": "stream",
     "text": [
      "bf92d3a0-f3d6-4cb3-b2d1-0a3e01f3c1d9\n",
      "sim calculated successfully\n",
      "\n",
      "493.842 0.0 420.033\n",
      "0 existing calculation records provided\n"
     ]
    },
    {
     "name": "stderr",
     "output_type": "stream",
     "text": [
      "100%|█████████████████████████████████████████████████████████████████████████████████████| 1/1 [00:00<00:00,  3.78it/s]"
     ]
    },
    {
     "name": "stdout",
     "output_type": "stream",
     "text": [
      "1 calculation combinations to check\n",
      "1 new records to prepare\n"
     ]
    },
    {
     "name": "stderr",
     "output_type": "stream",
     "text": [
      "\n",
      "preparing: 100%|##########################################################################| 1/1 [00:00<00:00, 24.48it/s]\n"
     ]
    },
    {
     "name": "stdout",
     "output_type": "stream",
     "text": [
      "6c7d77cd-0a18-4353-927b-8431345a8f03\n",
      "sim calculated successfully\n",
      "\n",
      "493.841 0.0 414.355\n",
      "0 existing calculation records provided\n"
     ]
    },
    {
     "name": "stderr",
     "output_type": "stream",
     "text": [
      "100%|█████████████████████████████████████████████████████████████████████████████████████| 1/1 [00:00<00:00,  4.25it/s]"
     ]
    },
    {
     "name": "stdout",
     "output_type": "stream",
     "text": [
      "1 calculation combinations to check\n",
      "1 new records to prepare\n"
     ]
    },
    {
     "name": "stderr",
     "output_type": "stream",
     "text": [
      "\n",
      "preparing: 100%|##########################################################################| 1/1 [00:00<00:00, 31.77it/s]\n"
     ]
    },
    {
     "name": "stdout",
     "output_type": "stream",
     "text": [
      "38b836d5-eb95-42d8-9cca-cb211e573017\n",
      "sim calculated successfully\n",
      "\n",
      "493.841 0.0 417.023\n",
      "0 existing calculation records provided\n"
     ]
    },
    {
     "name": "stderr",
     "output_type": "stream",
     "text": [
      "100%|█████████████████████████████████████████████████████████████████████████████████████| 1/1 [00:00<00:00,  4.11it/s]"
     ]
    },
    {
     "name": "stdout",
     "output_type": "stream",
     "text": [
      "1 calculation combinations to check\n",
      "1 new records to prepare\n"
     ]
    },
    {
     "name": "stderr",
     "output_type": "stream",
     "text": [
      "\n",
      "preparing: 100%|##########################################################################| 1/1 [00:00<00:00, 30.12it/s]\n"
     ]
    },
    {
     "name": "stdout",
     "output_type": "stream",
     "text": [
      "3f1998ec-cd40-4a92-bc1a-6b9dc3a46c2c\n",
      "sim calculated successfully\n",
      "\n",
      "493.840 0.0 421.339\n",
      "0 existing calculation records provided\n"
     ]
    },
    {
     "name": "stderr",
     "output_type": "stream",
     "text": [
      "100%|█████████████████████████████████████████████████████████████████████████████████████| 1/1 [00:00<00:00,  4.31it/s]"
     ]
    },
    {
     "name": "stdout",
     "output_type": "stream",
     "text": [
      "1 calculation combinations to check\n",
      "1 new records to prepare\n"
     ]
    },
    {
     "name": "stderr",
     "output_type": "stream",
     "text": [
      "\n",
      "preparing: 100%|##########################################################################| 1/1 [00:00<00:00, 38.40it/s]\n"
     ]
    },
    {
     "name": "stdout",
     "output_type": "stream",
     "text": [
      "6a41ea60-3f8d-41e5-b098-26f0c0d9724d\n",
      "sim calculated successfully\n",
      "\n",
      "493.840 0.0 419.506\n",
      "0 existing calculation records provided\n"
     ]
    },
    {
     "name": "stderr",
     "output_type": "stream",
     "text": [
      "100%|█████████████████████████████████████████████████████████████████████████████████████| 1/1 [00:00<00:00,  4.25it/s]"
     ]
    },
    {
     "name": "stdout",
     "output_type": "stream",
     "text": [
      "1 calculation combinations to check\n",
      "1 new records to prepare\n"
     ]
    },
    {
     "name": "stderr",
     "output_type": "stream",
     "text": [
      "\n",
      "preparing: 100%|##########################################################################| 1/1 [00:00<00:00, 28.57it/s]\n"
     ]
    },
    {
     "name": "stdout",
     "output_type": "stream",
     "text": [
      "8a91bdab-0d29-412a-8b34-94649230b499\n",
      "sim calculated successfully\n",
      "\n",
      "493.840 0.0 417.941\n",
      "0 existing calculation records provided\n"
     ]
    },
    {
     "name": "stderr",
     "output_type": "stream",
     "text": [
      "100%|█████████████████████████████████████████████████████████████████████████████████████| 1/1 [00:00<00:00,  4.62it/s]"
     ]
    },
    {
     "name": "stdout",
     "output_type": "stream",
     "text": [
      "1 calculation combinations to check\n",
      "1 new records to prepare\n"
     ]
    },
    {
     "name": "stderr",
     "output_type": "stream",
     "text": [
      "\n",
      "preparing: 100%|##########################################################################| 1/1 [00:00<00:00, 31.16it/s]\n"
     ]
    },
    {
     "name": "stdout",
     "output_type": "stream",
     "text": [
      "24e539da-4bad-4fed-b915-65a0b8bee2a0\n",
      "sim calculated successfully\n",
      "\n",
      "493.840 0.0 403.649\n",
      "0 existing calculation records provided\n"
     ]
    },
    {
     "name": "stderr",
     "output_type": "stream",
     "text": [
      "100%|█████████████████████████████████████████████████████████████████████████████████████| 1/1 [00:00<00:00,  4.29it/s]"
     ]
    },
    {
     "name": "stdout",
     "output_type": "stream",
     "text": [
      "1 calculation combinations to check\n",
      "1 new records to prepare\n"
     ]
    },
    {
     "name": "stderr",
     "output_type": "stream",
     "text": [
      "\n",
      "preparing: 100%|##########################################################################| 1/1 [00:00<00:00, 25.48it/s]\n"
     ]
    },
    {
     "name": "stdout",
     "output_type": "stream",
     "text": [
      "d40c4f61-18a0-4618-a394-9b7f85a8bda3\n",
      "sim calculated successfully\n",
      "\n",
      "493.840 0.0 419.054\n",
      "0 existing calculation records provided\n"
     ]
    },
    {
     "name": "stderr",
     "output_type": "stream",
     "text": [
      "100%|█████████████████████████████████████████████████████████████████████████████████████| 1/1 [00:00<00:00,  4.42it/s]"
     ]
    },
    {
     "name": "stdout",
     "output_type": "stream",
     "text": [
      "1 calculation combinations to check\n",
      "1 new records to prepare\n"
     ]
    },
    {
     "name": "stderr",
     "output_type": "stream",
     "text": [
      "\n",
      "preparing: 100%|##########################################################################| 1/1 [00:00<00:00, 30.89it/s]\n"
     ]
    },
    {
     "name": "stdout",
     "output_type": "stream",
     "text": [
      "745446ad-d674-4f98-babb-005c845e376f\n",
      "sim calculated successfully\n",
      "\n",
      "493.840 0.0 419.569\n",
      "0 existing calculation records provided\n"
     ]
    },
    {
     "name": "stderr",
     "output_type": "stream",
     "text": [
      "100%|█████████████████████████████████████████████████████████████████████████████████████| 1/1 [00:00<00:00,  4.11it/s]"
     ]
    },
    {
     "name": "stdout",
     "output_type": "stream",
     "text": [
      "1 calculation combinations to check\n",
      "1 new records to prepare\n"
     ]
    },
    {
     "name": "stderr",
     "output_type": "stream",
     "text": [
      "\n",
      "preparing: 100%|##########################################################################| 1/1 [00:00<00:00, 42.53it/s]\n"
     ]
    },
    {
     "name": "stdout",
     "output_type": "stream",
     "text": [
      "8472dac3-747d-413e-8390-1a4f93450d9a\n",
      "sim calculated successfully\n",
      "\n",
      "493.840 0.0 419.088\n",
      "0 existing calculation records provided\n"
     ]
    },
    {
     "name": "stderr",
     "output_type": "stream",
     "text": [
      "100%|█████████████████████████████████████████████████████████████████████████████████████| 1/1 [00:00<00:00,  2.56it/s]"
     ]
    },
    {
     "name": "stdout",
     "output_type": "stream",
     "text": [
      "1 calculation combinations to check\n",
      "1 new records to prepare\n"
     ]
    },
    {
     "name": "stderr",
     "output_type": "stream",
     "text": [
      "\n",
      "preparing: 100%|##########################################################################| 1/1 [00:00<00:00, 30.46it/s]\n"
     ]
    },
    {
     "name": "stdout",
     "output_type": "stream",
     "text": [
      "fd3b3d35-fb9a-41bb-a7a8-897108e195aa\n",
      "sim calculated successfully\n",
      "\n",
      "493.840 0.0 421.011\n",
      "0 existing calculation records provided\n"
     ]
    },
    {
     "name": "stderr",
     "output_type": "stream",
     "text": [
      "100%|█████████████████████████████████████████████████████████████████████████████████████| 1/1 [00:00<00:00,  4.42it/s]"
     ]
    },
    {
     "name": "stdout",
     "output_type": "stream",
     "text": [
      "1 calculation combinations to check\n",
      "1 new records to prepare\n"
     ]
    },
    {
     "name": "stderr",
     "output_type": "stream",
     "text": [
      "\n",
      "preparing: 100%|##########################################################################| 1/1 [00:00<00:00, 42.41it/s]\n"
     ]
    },
    {
     "name": "stdout",
     "output_type": "stream",
     "text": [
      "6b6ca733-6ede-496e-820e-63e98cdbe256\n",
      "sim calculated successfully\n",
      "\n",
      "493.840 0.0 419.284\n",
      "0 existing calculation records provided\n"
     ]
    },
    {
     "name": "stderr",
     "output_type": "stream",
     "text": [
      "100%|█████████████████████████████████████████████████████████████████████████████████████| 1/1 [00:00<00:00,  4.44it/s]"
     ]
    },
    {
     "name": "stdout",
     "output_type": "stream",
     "text": [
      "1 calculation combinations to check\n",
      "1 new records to prepare\n"
     ]
    },
    {
     "name": "stderr",
     "output_type": "stream",
     "text": [
      "\n",
      "preparing: 100%|##########################################################################| 1/1 [00:00<00:00, 42.90it/s]\n"
     ]
    },
    {
     "name": "stdout",
     "output_type": "stream",
     "text": [
      "33a22835-2c3e-4d12-a098-ed61d4ab7d71\n",
      "sim calculated successfully\n",
      "\n",
      "493.840 0.0 416.490\n",
      "0 existing calculation records provided\n"
     ]
    },
    {
     "name": "stderr",
     "output_type": "stream",
     "text": [
      "100%|█████████████████████████████████████████████████████████████████████████████████████| 1/1 [00:00<00:00,  4.33it/s]"
     ]
    },
    {
     "name": "stdout",
     "output_type": "stream",
     "text": [
      "1 calculation combinations to check\n",
      "1 new records to prepare\n"
     ]
    },
    {
     "name": "stderr",
     "output_type": "stream",
     "text": [
      "\n",
      "preparing: 100%|##########################################################################| 1/1 [00:00<00:00, 43.71it/s]\n"
     ]
    },
    {
     "name": "stdout",
     "output_type": "stream",
     "text": [
      "dde49dfe-76ab-40f1-94d1-cc35a5bffed7\n",
      "sim calculated successfully\n",
      "\n",
      "493.840 0.0 414.586\n",
      "Max number of runs reached!\n",
      "\n",
      "225 2024--Mendelev-M-I--Ni-Ti--LAMMPS--ipr1\n",
      "0 existing calculation records provided\n"
     ]
    },
    {
     "name": "stderr",
     "output_type": "stream",
     "text": [
      "100%|█████████████████████████████████████████████████████████████████████████████████████| 1/1 [00:00<00:00,  4.25it/s]"
     ]
    },
    {
     "name": "stdout",
     "output_type": "stream",
     "text": [
      "1 calculation combinations to check\n",
      "1 new records to prepare\n"
     ]
    },
    {
     "name": "stderr",
     "output_type": "stream",
     "text": [
      "\n",
      "preparing: 100%|##########################################################################| 1/1 [00:00<00:00, 41.76it/s]\n"
     ]
    },
    {
     "name": "stdout",
     "output_type": "stream",
     "text": [
      "5bf31fe2-4349-49da-81b8-8ba264c97358\n",
      "sim calculated successfully\n",
      "\n",
      "4525.000 0.0 4516.698\n",
      "0 existing calculation records provided\n"
     ]
    },
    {
     "name": "stderr",
     "output_type": "stream",
     "text": [
      "100%|█████████████████████████████████████████████████████████████████████████████████████| 1/1 [00:00<00:00,  3.71it/s]"
     ]
    },
    {
     "name": "stdout",
     "output_type": "stream",
     "text": [
      "1 calculation combinations to check\n",
      "1 new records to prepare\n"
     ]
    },
    {
     "name": "stderr",
     "output_type": "stream",
     "text": [
      "\n",
      "preparing: 100%|##########################################################################| 1/1 [00:00<00:00, 29.14it/s]\n"
     ]
    },
    {
     "name": "stdout",
     "output_type": "stream",
     "text": [
      "59175355-59e6-4f05-8d91-b750f706bc69\n",
      "sim calculated successfully\n",
      "\n",
      "2287.500 8.276e-05 2257.778\n",
      "0 existing calculation records provided\n"
     ]
    },
    {
     "name": "stderr",
     "output_type": "stream",
     "text": [
      "100%|█████████████████████████████████████████████████████████████████████████████████████| 1/1 [00:00<00:00,  4.06it/s]"
     ]
    },
    {
     "name": "stdout",
     "output_type": "stream",
     "text": [
      "1 calculation combinations to check\n",
      "1 new records to prepare\n"
     ]
    },
    {
     "name": "stderr",
     "output_type": "stream",
     "text": [
      "\n",
      "preparing: 100%|##########################################################################| 1/1 [00:00<00:00, 33.61it/s]\n"
     ]
    },
    {
     "name": "stdout",
     "output_type": "stream",
     "text": [
      "65b3b127-d595-4b0b-95e0-f8b3fda117f7\n",
      "sim calculated successfully\n",
      "\n",
      "1168.750 0.9949 1163.909\n",
      "0 existing calculation records provided\n"
     ]
    },
    {
     "name": "stderr",
     "output_type": "stream",
     "text": [
      "100%|█████████████████████████████████████████████████████████████████████████████████████| 1/1 [00:00<00:00,  4.21it/s]"
     ]
    },
    {
     "name": "stdout",
     "output_type": "stream",
     "text": [
      "1 calculation combinations to check\n",
      "1 new records to prepare\n"
     ]
    },
    {
     "name": "stderr",
     "output_type": "stream",
     "text": [
      "\n",
      "preparing: 100%|##########################################################################| 1/1 [00:00<00:00, 32.48it/s]\n"
     ]
    },
    {
     "name": "stdout",
     "output_type": "stream",
     "text": [
      "ba4d4763-1e81-40a2-99a5-9baa434ee314\n",
      "sim calculated successfully\n",
      "\n",
      "1728.125 0.2772 1707.415\n",
      "0 existing calculation records provided\n"
     ]
    },
    {
     "name": "stderr",
     "output_type": "stream",
     "text": [
      "100%|█████████████████████████████████████████████████████████████████████████████████████| 1/1 [00:00<00:00,  4.47it/s]"
     ]
    },
    {
     "name": "stdout",
     "output_type": "stream",
     "text": [
      "1 calculation combinations to check\n",
      "1 new records to prepare\n"
     ]
    },
    {
     "name": "stderr",
     "output_type": "stream",
     "text": [
      "\n",
      "preparing: 100%|##########################################################################| 1/1 [00:00<00:00, 46.21it/s]\n"
     ]
    },
    {
     "name": "stdout",
     "output_type": "stream",
     "text": [
      "3e48224d-9c97-41cc-829b-6f5cd6ada2c9\n",
      "sim calculated successfully\n",
      "\n",
      "1448.438 0.9691 1441.564\n",
      "0 existing calculation records provided\n"
     ]
    },
    {
     "name": "stderr",
     "output_type": "stream",
     "text": [
      "100%|█████████████████████████████████████████████████████████████████████████████████████| 1/1 [00:00<00:00,  4.08it/s]"
     ]
    },
    {
     "name": "stdout",
     "output_type": "stream",
     "text": [
      "1 calculation combinations to check\n",
      "1 new records to prepare\n"
     ]
    },
    {
     "name": "stderr",
     "output_type": "stream",
     "text": [
      "\n",
      "preparing: 100%|##########################################################################| 1/1 [00:00<00:00, 32.89it/s]\n"
     ]
    },
    {
     "name": "stdout",
     "output_type": "stream",
     "text": [
      "fca1eda7-3100-43bd-948f-9dbed59cae1a\n",
      "sim calculated successfully\n",
      "\n",
      "1867.969 0.0003517 1651.867\n",
      "0 existing calculation records provided\n"
     ]
    },
    {
     "name": "stderr",
     "output_type": "stream",
     "text": [
      "100%|█████████████████████████████████████████████████████████████████████████████████████| 1/1 [00:00<00:00,  4.05it/s]"
     ]
    },
    {
     "name": "stdout",
     "output_type": "stream",
     "text": [
      "1 calculation combinations to check\n",
      "1 new records to prepare\n"
     ]
    },
    {
     "name": "stderr",
     "output_type": "stream",
     "text": [
      "\n",
      "preparing: 100%|##########################################################################| 1/1 [00:00<00:00, 31.35it/s]\n"
     ]
    },
    {
     "name": "stdout",
     "output_type": "stream",
     "text": [
      "7f44553e-68ab-435d-b795-efa00c801963\n",
      "sim calculated successfully\n",
      "\n",
      "1658.203 0.3001 1702.241\n",
      "0 existing calculation records provided\n"
     ]
    },
    {
     "name": "stderr",
     "output_type": "stream",
     "text": [
      "100%|█████████████████████████████████████████████████████████████████████████████████████| 1/1 [00:00<00:00,  4.32it/s]"
     ]
    },
    {
     "name": "stdout",
     "output_type": "stream",
     "text": [
      "1 calculation combinations to check\n",
      "1 new records to prepare\n"
     ]
    },
    {
     "name": "stderr",
     "output_type": "stream",
     "text": [
      "\n",
      "preparing: 100%|##########################################################################| 1/1 [00:00<00:00, 27.08it/s]\n"
     ]
    },
    {
     "name": "stdout",
     "output_type": "stream",
     "text": [
      "9e16724d-8918-425f-b4c1-527438606c4c\n",
      "sim calculated successfully\n",
      "\n",
      "1553.320 0.5816 1612.083\n",
      "0 existing calculation records provided\n"
     ]
    },
    {
     "name": "stderr",
     "output_type": "stream",
     "text": [
      "100%|█████████████████████████████████████████████████████████████████████████████████████| 1/1 [00:00<00:00,  4.54it/s]"
     ]
    },
    {
     "name": "stdout",
     "output_type": "stream",
     "text": [
      "1 calculation combinations to check\n",
      "1 new records to prepare\n"
     ]
    },
    {
     "name": "stderr",
     "output_type": "stream",
     "text": [
      "\n",
      "preparing: 100%|##########################################################################| 1/1 [00:00<00:00, 31.53it/s]\n"
     ]
    },
    {
     "name": "stdout",
     "output_type": "stream",
     "text": [
      "cd5618ac-dd95-48b9-92a6-3d764d4d7d88\n",
      "sim calculated successfully\n",
      "\n",
      "1553.320 0.5787 1609.998\n",
      "0 existing calculation records provided\n"
     ]
    },
    {
     "name": "stderr",
     "output_type": "stream",
     "text": [
      "100%|█████████████████████████████████████████████████████████████████████████████████████| 1/1 [00:00<00:00,  4.16it/s]"
     ]
    },
    {
     "name": "stdout",
     "output_type": "stream",
     "text": [
      "1 calculation combinations to check\n",
      "1 new records to prepare\n"
     ]
    },
    {
     "name": "stderr",
     "output_type": "stream",
     "text": [
      "\n",
      "preparing: 100%|##########################################################################| 1/1 [00:00<00:00, 42.60it/s]\n"
     ]
    },
    {
     "name": "stdout",
     "output_type": "stream",
     "text": [
      "67da703e-7a24-44ed-853a-54a36b03bc02\n",
      "sim calculated successfully\n",
      "\n",
      "1553.320 0.5787 1605.943\n",
      "0 existing calculation records provided\n"
     ]
    },
    {
     "name": "stderr",
     "output_type": "stream",
     "text": [
      "100%|█████████████████████████████████████████████████████████████████████████████████████| 1/1 [00:00<00:00,  4.39it/s]"
     ]
    },
    {
     "name": "stdout",
     "output_type": "stream",
     "text": [
      "1 calculation combinations to check\n",
      "1 new records to prepare\n"
     ]
    },
    {
     "name": "stderr",
     "output_type": "stream",
     "text": [
      "\n",
      "preparing: 100%|##########################################################################| 1/1 [00:00<00:00, 28.43it/s]\n"
     ]
    },
    {
     "name": "stdout",
     "output_type": "stream",
     "text": [
      "f2de35c1-2fc2-43e7-9953-b8b0e4293453\n",
      "sim calculated successfully\n",
      "\n",
      "1553.320 0.5756 1612.353\n",
      "0 existing calculation records provided\n"
     ]
    },
    {
     "name": "stderr",
     "output_type": "stream",
     "text": [
      "100%|█████████████████████████████████████████████████████████████████████████████████████| 1/1 [00:00<00:00,  4.30it/s]"
     ]
    },
    {
     "name": "stdout",
     "output_type": "stream",
     "text": [
      "1 calculation combinations to check\n",
      "1 new records to prepare\n"
     ]
    },
    {
     "name": "stderr",
     "output_type": "stream",
     "text": [
      "\n",
      "preparing: 100%|##########################################################################| 1/1 [00:00<00:00, 45.58it/s]\n"
     ]
    },
    {
     "name": "stdout",
     "output_type": "stream",
     "text": [
      "285ab099-51c1-4273-badb-670ff272773c\n",
      "sim calculated successfully\n",
      "\n",
      "1553.320 0.5848 1596.515\n",
      "0 existing calculation records provided\n"
     ]
    },
    {
     "name": "stderr",
     "output_type": "stream",
     "text": [
      "100%|█████████████████████████████████████████████████████████████████████████████████████| 1/1 [00:00<00:00,  4.39it/s]"
     ]
    },
    {
     "name": "stdout",
     "output_type": "stream",
     "text": [
      "1 calculation combinations to check\n",
      "1 new records to prepare\n"
     ]
    },
    {
     "name": "stderr",
     "output_type": "stream",
     "text": [
      "\n",
      "preparing: 100%|##########################################################################| 1/1 [00:00<00:00, 32.07it/s]\n"
     ]
    },
    {
     "name": "stdout",
     "output_type": "stream",
     "text": [
      "33b0a639-5b10-4c38-b123-97f7d8224145\n",
      "sim calculated successfully\n",
      "\n",
      "1553.320 0.5861 1610.808\n",
      "0 existing calculation records provided\n"
     ]
    },
    {
     "name": "stderr",
     "output_type": "stream",
     "text": [
      "100%|█████████████████████████████████████████████████████████████████████████████████████| 1/1 [00:00<00:00,  2.70it/s]"
     ]
    },
    {
     "name": "stdout",
     "output_type": "stream",
     "text": [
      "1 calculation combinations to check\n",
      "1 new records to prepare\n"
     ]
    },
    {
     "name": "stderr",
     "output_type": "stream",
     "text": [
      "\n",
      "preparing: 100%|##########################################################################| 1/1 [00:00<00:00, 46.58it/s]\n"
     ]
    },
    {
     "name": "stdout",
     "output_type": "stream",
     "text": [
      "3b3f2fcb-c45a-4e3d-a70a-0f1a6dedc545\n",
      "sim calculated successfully\n",
      "\n",
      "1553.320 0.5729 1612.310\n",
      "0 existing calculation records provided\n"
     ]
    },
    {
     "name": "stderr",
     "output_type": "stream",
     "text": [
      "100%|█████████████████████████████████████████████████████████████████████████████████████| 1/1 [00:00<00:00,  4.85it/s]"
     ]
    },
    {
     "name": "stdout",
     "output_type": "stream",
     "text": [
      "1 calculation combinations to check\n",
      "1 new records to prepare\n"
     ]
    },
    {
     "name": "stderr",
     "output_type": "stream",
     "text": [
      "\n",
      "preparing: 100%|##########################################################################| 1/1 [00:00<00:00, 35.45it/s]\n"
     ]
    },
    {
     "name": "stdout",
     "output_type": "stream",
     "text": [
      "786a8322-acd4-487a-8f86-143d394c1f83\n",
      "sim calculated successfully\n",
      "\n",
      "1553.320 0.5798 1603.661\n",
      "\n",
      "224 2024--Mendelev-M-I--Ni-Co-Cr--LAMMPS--ipr1\n",
      "0 existing calculation records provided\n"
     ]
    },
    {
     "name": "stderr",
     "output_type": "stream",
     "text": [
      "100%|█████████████████████████████████████████████████████████████████████████████████████| 1/1 [00:00<00:00,  2.53it/s]"
     ]
    },
    {
     "name": "stdout",
     "output_type": "stream",
     "text": [
      "1 calculation combinations to check\n",
      "1 new records to prepare\n"
     ]
    },
    {
     "name": "stderr",
     "output_type": "stream",
     "text": [
      "\n",
      "preparing: 100%|##########################################################################| 1/1 [00:00<00:00, 31.88it/s]\n"
     ]
    },
    {
     "name": "stdout",
     "output_type": "stream",
     "text": [
      "051c394c-6f7b-48e4-8221-82196cdef1dc\n",
      "sim calculated successfully\n",
      "\n",
      "4525.000 1.034e-05 4503.766\n",
      "0 existing calculation records provided\n"
     ]
    },
    {
     "name": "stderr",
     "output_type": "stream",
     "text": [
      "100%|█████████████████████████████████████████████████████████████████████████████████████| 1/1 [00:00<00:00,  4.38it/s]"
     ]
    },
    {
     "name": "stdout",
     "output_type": "stream",
     "text": [
      "1 calculation combinations to check\n",
      "1 new records to prepare\n"
     ]
    },
    {
     "name": "stderr",
     "output_type": "stream",
     "text": [
      "\n",
      "preparing: 100%|##########################################################################| 1/1 [00:00<00:00, 21.80it/s]\n"
     ]
    },
    {
     "name": "stdout",
     "output_type": "stream",
     "text": [
      "6f6c7133-eacd-4dac-99c8-a544d4892f5f\n",
      "sim calculated successfully\n",
      "\n",
      "2287.500 0.1762 2155.828\n",
      "0 existing calculation records provided\n"
     ]
    },
    {
     "name": "stderr",
     "output_type": "stream",
     "text": [
      "100%|█████████████████████████████████████████████████████████████████████████████████████| 1/1 [00:00<00:00,  4.10it/s]"
     ]
    },
    {
     "name": "stdout",
     "output_type": "stream",
     "text": [
      "1 calculation combinations to check\n",
      "1 new records to prepare\n"
     ]
    },
    {
     "name": "stderr",
     "output_type": "stream",
     "text": [
      "\n",
      "preparing: 100%|##########################################################################| 1/1 [00:00<00:00, 29.16it/s]\n"
     ]
    },
    {
     "name": "stdout",
     "output_type": "stream",
     "text": [
      "03128100-fa44-4694-a7aa-1ca88f23b427\n",
      "sim calculated successfully\n",
      "\n",
      "1168.750 0.9992 1165.636\n",
      "0 existing calculation records provided\n"
     ]
    },
    {
     "name": "stderr",
     "output_type": "stream",
     "text": [
      "100%|█████████████████████████████████████████████████████████████████████████████████████| 1/1 [00:00<00:00,  4.34it/s]"
     ]
    },
    {
     "name": "stdout",
     "output_type": "stream",
     "text": [
      "1 calculation combinations to check\n",
      "1 new records to prepare\n"
     ]
    },
    {
     "name": "stderr",
     "output_type": "stream",
     "text": [
      "\n",
      "preparing: 100%|##########################################################################| 1/1 [00:00<00:00, 29.05it/s]\n"
     ]
    },
    {
     "name": "stdout",
     "output_type": "stream",
     "text": [
      "6dde3df4-6505-4bb0-b482-932aa6f119af\n",
      "sim calculated successfully\n",
      "\n",
      "1728.125 0.9781 1720.449\n",
      "0 existing calculation records provided\n"
     ]
    },
    {
     "name": "stderr",
     "output_type": "stream",
     "text": [
      "100%|█████████████████████████████████████████████████████████████████████████████████████| 1/1 [00:00<00:00,  4.25it/s]"
     ]
    },
    {
     "name": "stdout",
     "output_type": "stream",
     "text": [
      "1 calculation combinations to check\n",
      "1 new records to prepare\n"
     ]
    },
    {
     "name": "stderr",
     "output_type": "stream",
     "text": [
      "\n",
      "preparing: 100%|##########################################################################| 1/1 [00:00<00:00, 22.63it/s]\n"
     ]
    },
    {
     "name": "stdout",
     "output_type": "stream",
     "text": [
      "c6bdaa20-cdbe-4d30-96e3-65e27f81e413\n",
      "sim calculated successfully\n",
      "\n",
      "2007.812 0.5922 2114.636\n",
      "0 existing calculation records provided\n"
     ]
    },
    {
     "name": "stderr",
     "output_type": "stream",
     "text": [
      "100%|█████████████████████████████████████████████████████████████████████████████████████| 1/1 [00:00<00:00,  4.09it/s]"
     ]
    },
    {
     "name": "stdout",
     "output_type": "stream",
     "text": [
      "1 calculation combinations to check\n",
      "1 new records to prepare\n"
     ]
    },
    {
     "name": "stderr",
     "output_type": "stream",
     "text": [
      "\n",
      "preparing: 100%|##########################################################################| 1/1 [00:00<00:00, 21.32it/s]\n"
     ]
    },
    {
     "name": "stdout",
     "output_type": "stream",
     "text": [
      "a8096c7f-d2db-474c-91a1-bc6420a9579d\n",
      "sim calculated successfully\n",
      "\n",
      "2007.812 0.5902 2117.555\n",
      "0 existing calculation records provided\n"
     ]
    },
    {
     "name": "stderr",
     "output_type": "stream",
     "text": [
      "100%|█████████████████████████████████████████████████████████████████████████████████████| 1/1 [00:00<00:00,  4.35it/s]"
     ]
    },
    {
     "name": "stdout",
     "output_type": "stream",
     "text": [
      "1 calculation combinations to check\n",
      "1 new records to prepare\n"
     ]
    },
    {
     "name": "stderr",
     "output_type": "stream",
     "text": [
      "\n",
      "preparing: 100%|##########################################################################| 1/1 [00:00<00:00, 23.71it/s]\n"
     ]
    },
    {
     "name": "stdout",
     "output_type": "stream",
     "text": [
      "a7762c63-2cd4-43ad-ab85-88ea7bcd7927\n",
      "sim calculated successfully\n",
      "\n",
      "2007.812 0.8267 2180.972\n",
      "0 existing calculation records provided\n"
     ]
    },
    {
     "name": "stderr",
     "output_type": "stream",
     "text": [
      "100%|█████████████████████████████████████████████████████████████████████████████████████| 1/1 [00:00<00:00,  3.64it/s]"
     ]
    },
    {
     "name": "stdout",
     "output_type": "stream",
     "text": [
      "1 calculation combinations to check\n",
      "1 new records to prepare\n"
     ]
    },
    {
     "name": "stderr",
     "output_type": "stream",
     "text": [
      "\n",
      "preparing: 100%|##########################################################################| 1/1 [00:00<00:00, 26.16it/s]\n"
     ]
    },
    {
     "name": "stdout",
     "output_type": "stream",
     "text": [
      "2864dc08-47e1-45ad-8f7f-c1e73c99670b\n",
      "sim calculated successfully\n",
      "\n",
      "2147.656 0.4315 2146.218\n",
      "0 existing calculation records provided\n"
     ]
    },
    {
     "name": "stderr",
     "output_type": "stream",
     "text": [
      "100%|█████████████████████████████████████████████████████████████████████████████████████| 1/1 [00:00<00:00,  4.03it/s]"
     ]
    },
    {
     "name": "stdout",
     "output_type": "stream",
     "text": [
      "1 calculation combinations to check\n",
      "1 new records to prepare\n"
     ]
    },
    {
     "name": "stderr",
     "output_type": "stream",
     "text": [
      "\n",
      "preparing: 100%|##########################################################################| 1/1 [00:00<00:00, 28.89it/s]\n"
     ]
    },
    {
     "name": "stdout",
     "output_type": "stream",
     "text": [
      "bc153089-791b-4891-b261-3a83ae4d09e8\n",
      "sim calculated successfully\n",
      "\n",
      "2147.656 0.3852 2192.823\n",
      "0 existing calculation records provided\n"
     ]
    },
    {
     "name": "stderr",
     "output_type": "stream",
     "text": [
      "100%|█████████████████████████████████████████████████████████████████████████████████████| 1/1 [00:00<00:00,  4.60it/s]"
     ]
    },
    {
     "name": "stdout",
     "output_type": "stream",
     "text": [
      "1 calculation combinations to check\n",
      "1 new records to prepare\n"
     ]
    },
    {
     "name": "stderr",
     "output_type": "stream",
     "text": [
      "\n",
      "preparing: 100%|##########################################################################| 1/1 [00:00<00:00, 31.50it/s]\n"
     ]
    },
    {
     "name": "stdout",
     "output_type": "stream",
     "text": [
      "3a67bd94-51f9-4384-9e61-2f680703244e\n",
      "sim calculated successfully\n",
      "\n",
      "2077.734 0.4958 2113.109\n",
      "0 existing calculation records provided\n"
     ]
    },
    {
     "name": "stderr",
     "output_type": "stream",
     "text": [
      "100%|█████████████████████████████████████████████████████████████████████████████████████| 1/1 [00:00<00:00,  4.11it/s]"
     ]
    },
    {
     "name": "stdout",
     "output_type": "stream",
     "text": [
      "1 calculation combinations to check\n",
      "1 new records to prepare\n"
     ]
    },
    {
     "name": "stderr",
     "output_type": "stream",
     "text": [
      "\n",
      "preparing: 100%|##########################################################################| 1/1 [00:00<00:00, 27.88it/s]\n"
     ]
    },
    {
     "name": "stdout",
     "output_type": "stream",
     "text": [
      "84c36dfb-f8f7-4645-976d-2960bc277078\n",
      "sim calculated successfully\n",
      "\n",
      "2077.734 0.4888 2107.551\n",
      "0 existing calculation records provided\n"
     ]
    },
    {
     "name": "stderr",
     "output_type": "stream",
     "text": [
      "100%|█████████████████████████████████████████████████████████████████████████████████████| 1/1 [00:00<00:00,  4.24it/s]"
     ]
    },
    {
     "name": "stdout",
     "output_type": "stream",
     "text": [
      "1 calculation combinations to check\n",
      "1 new records to prepare\n"
     ]
    },
    {
     "name": "stderr",
     "output_type": "stream",
     "text": [
      "\n",
      "preparing: 100%|##########################################################################| 1/1 [00:00<00:00, 20.90it/s]\n"
     ]
    },
    {
     "name": "stdout",
     "output_type": "stream",
     "text": [
      "7f4c0cab-1d55-4fc0-bb59-c3fa7995a6c8\n",
      "sim calculated successfully\n",
      "\n",
      "2077.734 0.5058 2105.370\n",
      "0 existing calculation records provided\n"
     ]
    },
    {
     "name": "stderr",
     "output_type": "stream",
     "text": [
      "100%|█████████████████████████████████████████████████████████████████████████████████████| 1/1 [00:00<00:00,  4.37it/s]"
     ]
    },
    {
     "name": "stdout",
     "output_type": "stream",
     "text": [
      "1 calculation combinations to check\n",
      "1 new records to prepare\n"
     ]
    },
    {
     "name": "stderr",
     "output_type": "stream",
     "text": [
      "\n",
      "preparing: 100%|##########################################################################| 1/1 [00:00<00:00, 21.88it/s]\n"
     ]
    },
    {
     "name": "stdout",
     "output_type": "stream",
     "text": [
      "6d310264-26a2-49d1-89af-dfb2cce02ced\n",
      "sim calculated successfully\n",
      "\n",
      "2077.734 0.482 2120.444\n",
      "0 existing calculation records provided\n"
     ]
    },
    {
     "name": "stderr",
     "output_type": "stream",
     "text": [
      "100%|█████████████████████████████████████████████████████████████████████████████████████| 1/1 [00:00<00:00,  4.28it/s]"
     ]
    },
    {
     "name": "stdout",
     "output_type": "stream",
     "text": [
      "1 calculation combinations to check\n",
      "1 new records to prepare\n"
     ]
    },
    {
     "name": "stderr",
     "output_type": "stream",
     "text": [
      "\n",
      "preparing: 100%|##########################################################################| 1/1 [00:00<00:00, 19.69it/s]\n"
     ]
    },
    {
     "name": "stdout",
     "output_type": "stream",
     "text": [
      "57690fb5-453c-4664-a2ac-3429c18c8fa9\n",
      "sim calculated successfully\n",
      "\n",
      "2077.734 0.5419 2156.001\n",
      "0 existing calculation records provided\n"
     ]
    },
    {
     "name": "stderr",
     "output_type": "stream",
     "text": [
      "100%|█████████████████████████████████████████████████████████████████████████████████████| 1/1 [00:00<00:00,  4.31it/s]"
     ]
    },
    {
     "name": "stdout",
     "output_type": "stream",
     "text": [
      "1 calculation combinations to check\n",
      "1 new records to prepare\n"
     ]
    },
    {
     "name": "stderr",
     "output_type": "stream",
     "text": [
      "\n",
      "preparing: 100%|##########################################################################| 1/1 [00:00<00:00, 23.81it/s]\n"
     ]
    },
    {
     "name": "stdout",
     "output_type": "stream",
     "text": [
      "e718fb9d-20a3-4ae3-bb66-941718556b64\n",
      "sim calculated successfully\n",
      "\n",
      "2077.734 0.5135 2108.296\n",
      "\n",
      "223 2024--Mendelev-M-I--Ni-Al-Nb--LAMMPS--ipr1\n",
      "0 existing calculation records provided\n"
     ]
    },
    {
     "name": "stderr",
     "output_type": "stream",
     "text": [
      "100%|█████████████████████████████████████████████████████████████████████████████████████| 1/1 [00:00<00:00,  4.27it/s]"
     ]
    },
    {
     "name": "stdout",
     "output_type": "stream",
     "text": [
      "1 calculation combinations to check\n",
      "1 new records to prepare\n"
     ]
    },
    {
     "name": "stderr",
     "output_type": "stream",
     "text": [
      "\n",
      "preparing: 100%|##########################################################################| 1/1 [00:00<00:00, 34.42it/s]\n"
     ]
    },
    {
     "name": "stdout",
     "output_type": "stream",
     "text": [
      "64950e47-6682-467f-9fa2-7cd9ad157289\n",
      "sim calculated successfully\n",
      "\n",
      "4525.000 0.0 4675.415\n",
      "0 existing calculation records provided\n"
     ]
    },
    {
     "name": "stderr",
     "output_type": "stream",
     "text": [
      "100%|█████████████████████████████████████████████████████████████████████████████████████| 1/1 [00:00<00:00,  2.57it/s]"
     ]
    },
    {
     "name": "stdout",
     "output_type": "stream",
     "text": [
      "1 calculation combinations to check\n",
      "1 new records to prepare\n"
     ]
    },
    {
     "name": "stderr",
     "output_type": "stream",
     "text": [
      "\n",
      "preparing: 100%|##########################################################################| 1/1 [00:00<00:00, 28.29it/s]\n"
     ]
    },
    {
     "name": "stdout",
     "output_type": "stream",
     "text": [
      "aaed50a3-3ede-4c23-966d-af6831e18dd2\n",
      "sim calculated successfully\n",
      "\n",
      "2287.500 5.172e-05 2261.886\n",
      "0 existing calculation records provided\n"
     ]
    },
    {
     "name": "stderr",
     "output_type": "stream",
     "text": [
      "100%|█████████████████████████████████████████████████████████████████████████████████████| 1/1 [00:00<00:00,  4.36it/s]"
     ]
    },
    {
     "name": "stdout",
     "output_type": "stream",
     "text": [
      "1 calculation combinations to check\n",
      "1 new records to prepare\n"
     ]
    },
    {
     "name": "stderr",
     "output_type": "stream",
     "text": [
      "\n",
      "preparing: 100%|##########################################################################| 1/1 [00:00<00:00, 23.56it/s]\n"
     ]
    },
    {
     "name": "stdout",
     "output_type": "stream",
     "text": [
      "4bab52f6-9672-4865-a399-c1f5ad23d3b4\n",
      "sim calculated successfully\n",
      "\n",
      "1168.750 0.07904 1165.343\n",
      "0 existing calculation records provided\n"
     ]
    },
    {
     "name": "stderr",
     "output_type": "stream",
     "text": [
      "100%|█████████████████████████████████████████████████████████████████████████████████████| 1/1 [00:00<00:00,  4.35it/s]"
     ]
    },
    {
     "name": "stdout",
     "output_type": "stream",
     "text": [
      "1 calculation combinations to check\n",
      "1 new records to prepare\n"
     ]
    },
    {
     "name": "stderr",
     "output_type": "stream",
     "text": [
      "\n",
      "preparing: 100%|##########################################################################| 1/1 [00:00<00:00, 21.83it/s]\n"
     ]
    },
    {
     "name": "stdout",
     "output_type": "stream",
     "text": [
      "b162dfb7-030c-4be2-b1c8-28223d2e742e\n",
      "sim calculated successfully\n",
      "\n",
      "609.375 0.07564 608.106\n",
      "0 existing calculation records provided\n"
     ]
    },
    {
     "name": "stderr",
     "output_type": "stream",
     "text": [
      "100%|█████████████████████████████████████████████████████████████████████████████████████| 1/1 [00:00<00:00,  4.39it/s]"
     ]
    },
    {
     "name": "stdout",
     "output_type": "stream",
     "text": [
      "1 calculation combinations to check\n",
      "1 new records to prepare\n"
     ]
    },
    {
     "name": "stderr",
     "output_type": "stream",
     "text": [
      "\n",
      "preparing: 100%|##########################################################################| 1/1 [00:00<00:00, 20.79it/s]\n"
     ]
    },
    {
     "name": "stdout",
     "output_type": "stream",
     "text": [
      "3e079bf1-228b-4c33-8c76-bbfe29001e43\n",
      "sim calculated successfully\n",
      "\n",
      "329.688 0.02788 328.608\n",
      "0 existing calculation records provided\n"
     ]
    },
    {
     "name": "stderr",
     "output_type": "stream",
     "text": [
      "100%|█████████████████████████████████████████████████████████████████████████████████████| 1/1 [00:00<00:00,  2.91it/s]"
     ]
    },
    {
     "name": "stdout",
     "output_type": "stream",
     "text": [
      "1 calculation combinations to check\n",
      "1 new records to prepare\n"
     ]
    },
    {
     "name": "stderr",
     "output_type": "stream",
     "text": [
      "\n",
      "preparing: 100%|##########################################################################| 1/1 [00:00<00:00, 20.27it/s]\n"
     ]
    },
    {
     "name": "stdout",
     "output_type": "stream",
     "text": [
      "3f4203ae-12ca-490b-be8a-9012b6861946\n",
      "sim calculated successfully\n",
      "\n",
      "189.844 0.1391 188.386\n",
      "0 existing calculation records provided\n"
     ]
    },
    {
     "name": "stderr",
     "output_type": "stream",
     "text": [
      "100%|█████████████████████████████████████████████████████████████████████████████████████| 1/1 [00:00<00:00,  2.36it/s]"
     ]
    },
    {
     "name": "stdout",
     "output_type": "stream",
     "text": [
      "1 calculation combinations to check\n",
      "1 new records to prepare\n"
     ]
    },
    {
     "name": "stderr",
     "output_type": "stream",
     "text": [
      "\n",
      "preparing: 100%|##########################################################################| 1/1 [00:00<00:00, 29.63it/s]\n"
     ]
    },
    {
     "name": "stdout",
     "output_type": "stream",
     "text": [
      "12307097-8f26-4609-b515-b5d45e0e99a6\n",
      "sim calculated successfully\n",
      "\n",
      "119.922 0.1323 118.760\n",
      "0 existing calculation records provided\n"
     ]
    },
    {
     "name": "stderr",
     "output_type": "stream",
     "text": [
      "100%|█████████████████████████████████████████████████████████████████████████████████████| 1/1 [00:00<00:00,  3.71it/s]"
     ]
    },
    {
     "name": "stdout",
     "output_type": "stream",
     "text": [
      "1 calculation combinations to check\n",
      "1 new records to prepare\n"
     ]
    },
    {
     "name": "stderr",
     "output_type": "stream",
     "text": [
      "\n",
      "preparing: 100%|##########################################################################| 1/1 [00:00<00:00, 14.61it/s]\n"
     ]
    },
    {
     "name": "stdout",
     "output_type": "stream",
     "text": [
      "1e150c5b-951f-4571-a2ce-3e1dfd626c02\n",
      "sim calculated successfully\n",
      "\n",
      "84.961 0.1285 84.408\n",
      "0 existing calculation records provided\n"
     ]
    },
    {
     "name": "stderr",
     "output_type": "stream",
     "text": [
      "100%|█████████████████████████████████████████████████████████████████████████████████████| 1/1 [00:00<00:00,  4.48it/s]"
     ]
    },
    {
     "name": "stdout",
     "output_type": "stream",
     "text": [
      "1 calculation combinations to check\n",
      "1 new records to prepare\n"
     ]
    },
    {
     "name": "stderr",
     "output_type": "stream",
     "text": [
      "\n",
      "preparing: 100%|##########################################################################| 1/1 [00:00<00:00, 21.65it/s]\n"
     ]
    },
    {
     "name": "stdout",
     "output_type": "stream",
     "text": [
      "5ec63ee6-96ef-4c70-8573-72280d153419\n",
      "sim calculated successfully\n",
      "\n",
      "67.480 0.0005586 67.364\n",
      "0 existing calculation records provided\n"
     ]
    },
    {
     "name": "stderr",
     "output_type": "stream",
     "text": [
      "100%|█████████████████████████████████████████████████████████████████████████████████████| 1/1 [00:00<00:00,  2.35it/s]"
     ]
    },
    {
     "name": "stdout",
     "output_type": "stream",
     "text": [
      "1 calculation combinations to check\n",
      "1 new records to prepare\n"
     ]
    },
    {
     "name": "stderr",
     "output_type": "stream",
     "text": [
      "\n",
      "preparing: 100%|##########################################################################| 1/1 [00:00<00:00, 29.51it/s]\n"
     ]
    },
    {
     "name": "stdout",
     "output_type": "stream",
     "text": [
      "8c49991a-abbd-4a36-99a3-18ff72208baf\n",
      "sim calculated successfully\n",
      "\n",
      "58.740 0.0005379 58.826\n",
      "0 existing calculation records provided\n"
     ]
    },
    {
     "name": "stderr",
     "output_type": "stream",
     "text": [
      "100%|█████████████████████████████████████████████████████████████████████████████████████| 1/1 [00:00<00:00,  4.43it/s]"
     ]
    },
    {
     "name": "stdout",
     "output_type": "stream",
     "text": [
      "1 calculation combinations to check\n",
      "1 new records to prepare\n"
     ]
    },
    {
     "name": "stderr",
     "output_type": "stream",
     "text": [
      "\n",
      "preparing: 100%|##########################################################################| 1/1 [00:00<00:00, 21.12it/s]\n"
     ]
    },
    {
     "name": "stdout",
     "output_type": "stream",
     "text": [
      "1da92bfd-1783-493c-836a-6ffc170055fc\n",
      "sim calculated successfully\n",
      "\n",
      "54.370 0.0001655 54.424\n",
      "0 existing calculation records provided\n"
     ]
    },
    {
     "name": "stderr",
     "output_type": "stream",
     "text": [
      "100%|█████████████████████████████████████████████████████████████████████████████████████| 1/1 [00:00<00:00,  2.96it/s]"
     ]
    },
    {
     "name": "stdout",
     "output_type": "stream",
     "text": [
      "1 calculation combinations to check\n",
      "1 new records to prepare\n"
     ]
    },
    {
     "name": "stderr",
     "output_type": "stream",
     "text": [
      "\n",
      "preparing: 100%|##########################################################################| 1/1 [00:00<00:00, 20.98it/s]\n"
     ]
    },
    {
     "name": "stdout",
     "output_type": "stream",
     "text": [
      "fcc40c0b-f0a8-448b-85a3-f8d72e51313e\n",
      "sim calculated successfully\n",
      "\n",
      "52.185 0.0002172 52.105\n",
      "0 existing calculation records provided\n"
     ]
    },
    {
     "name": "stderr",
     "output_type": "stream",
     "text": [
      "100%|█████████████████████████████████████████████████████████████████████████████████████| 1/1 [00:00<00:00,  3.18it/s]"
     ]
    },
    {
     "name": "stdout",
     "output_type": "stream",
     "text": [
      "1 calculation combinations to check\n",
      "1 new records to prepare\n"
     ]
    },
    {
     "name": "stderr",
     "output_type": "stream",
     "text": [
      "\n",
      "preparing: 100%|##########################################################################| 1/1 [00:00<00:00, 34.40it/s]\n"
     ]
    },
    {
     "name": "stdout",
     "output_type": "stream",
     "text": [
      "1c0a3fec-051d-4f6e-a6d4-3e5e91cfb5f3\n",
      "sim calculated successfully\n",
      "\n",
      "51.093 0.0002379 51.017\n",
      "0 existing calculation records provided\n"
     ]
    },
    {
     "name": "stderr",
     "output_type": "stream",
     "text": [
      "100%|█████████████████████████████████████████████████████████████████████████████████████| 1/1 [00:00<00:00,  2.45it/s]"
     ]
    },
    {
     "name": "stdout",
     "output_type": "stream",
     "text": [
      "1 calculation combinations to check\n",
      "1 new records to prepare\n"
     ]
    },
    {
     "name": "stderr",
     "output_type": "stream",
     "text": [
      "\n",
      "preparing: 100%|##########################################################################| 1/1 [00:00<00:00, 30.36it/s]\n"
     ]
    },
    {
     "name": "stdout",
     "output_type": "stream",
     "text": [
      "8bcbb715-543f-43ae-9e03-5ee7c3e1a5e0\n",
      "sim calculated successfully\n",
      "\n",
      "50.546 0.0001138 50.540\n",
      "0 existing calculation records provided\n"
     ]
    },
    {
     "name": "stderr",
     "output_type": "stream",
     "text": [
      "100%|█████████████████████████████████████████████████████████████████████████████████████| 1/1 [00:00<00:00,  4.44it/s]"
     ]
    },
    {
     "name": "stdout",
     "output_type": "stream",
     "text": [
      "1 calculation combinations to check\n",
      "1 new records to prepare\n"
     ]
    },
    {
     "name": "stderr",
     "output_type": "stream",
     "text": [
      "\n",
      "preparing: 100%|##########################################################################| 1/1 [00:00<00:00, 21.54it/s]\n"
     ]
    },
    {
     "name": "stdout",
     "output_type": "stream",
     "text": [
      "d7135658-d5d3-498a-b517-7cc9fba1abc6\n",
      "sim calculated successfully\n",
      "\n",
      "50.273 0.0003 50.417\n",
      "0 existing calculation records provided\n"
     ]
    },
    {
     "name": "stderr",
     "output_type": "stream",
     "text": [
      "100%|█████████████████████████████████████████████████████████████████████████████████████| 1/1 [00:00<00:00,  2.76it/s]"
     ]
    },
    {
     "name": "stdout",
     "output_type": "stream",
     "text": [
      "1 calculation combinations to check\n",
      "1 new records to prepare\n"
     ]
    },
    {
     "name": "stderr",
     "output_type": "stream",
     "text": [
      "\n",
      "preparing: 100%|##########################################################################| 1/1 [00:00<00:00, 20.82it/s]\n"
     ]
    },
    {
     "name": "stdout",
     "output_type": "stream",
     "text": [
      "931d8faf-75b3-4da5-a846-e138226ebff3\n",
      "sim calculated successfully\n",
      "\n",
      "50.137 0.0002276 50.225\n",
      "0 existing calculation records provided\n"
     ]
    },
    {
     "name": "stderr",
     "output_type": "stream",
     "text": [
      "100%|█████████████████████████████████████████████████████████████████████████████████████| 1/1 [00:00<00:00,  2.54it/s]"
     ]
    },
    {
     "name": "stdout",
     "output_type": "stream",
     "text": [
      "1 calculation combinations to check\n",
      "1 new records to prepare\n"
     ]
    },
    {
     "name": "stderr",
     "output_type": "stream",
     "text": [
      "\n",
      "preparing: 100%|##########################################################################| 1/1 [00:00<00:00, 29.44it/s]\n"
     ]
    },
    {
     "name": "stdout",
     "output_type": "stream",
     "text": [
      "15895299-2fa7-4160-a02d-60c61a028442\n",
      "sim calculated successfully\n",
      "\n",
      "50.068 0.0001965 50.138\n",
      "0 existing calculation records provided\n"
     ]
    },
    {
     "name": "stderr",
     "output_type": "stream",
     "text": [
      "100%|█████████████████████████████████████████████████████████████████████████████████████| 1/1 [00:00<00:00,  2.30it/s]"
     ]
    },
    {
     "name": "stdout",
     "output_type": "stream",
     "text": [
      "1 calculation combinations to check\n",
      "1 new records to prepare\n"
     ]
    },
    {
     "name": "stderr",
     "output_type": "stream",
     "text": [
      "\n",
      "preparing: 100%|##########################################################################| 1/1 [00:00<00:00, 28.78it/s]\n"
     ]
    },
    {
     "name": "stdout",
     "output_type": "stream",
     "text": [
      "4d8ed041-6297-420c-92d0-055b849173f3\n",
      "sim calculated successfully\n",
      "\n",
      "50.034 0.0002172 50.013\n",
      "0 existing calculation records provided\n"
     ]
    },
    {
     "name": "stderr",
     "output_type": "stream",
     "text": [
      "100%|█████████████████████████████████████████████████████████████████████████████████████| 1/1 [00:00<00:00,  2.82it/s]"
     ]
    },
    {
     "name": "stdout",
     "output_type": "stream",
     "text": [
      "1 calculation combinations to check\n",
      "1 new records to prepare\n"
     ]
    },
    {
     "name": "stderr",
     "output_type": "stream",
     "text": [
      "\n",
      "preparing: 100%|##########################################################################| 1/1 [00:00<00:00, 21.42it/s]\n"
     ]
    },
    {
     "name": "stdout",
     "output_type": "stream",
     "text": [
      "458217dd-a7ad-4783-9b5f-eb721f9430e7\n",
      "sim calculated successfully\n",
      "\n",
      "50.017 0.0002379 50.045\n",
      "0 existing calculation records provided\n"
     ]
    },
    {
     "name": "stderr",
     "output_type": "stream",
     "text": [
      "100%|█████████████████████████████████████████████████████████████████████████████████████| 1/1 [00:00<00:00,  2.98it/s]"
     ]
    },
    {
     "name": "stdout",
     "output_type": "stream",
     "text": [
      "1 calculation combinations to check\n",
      "1 new records to prepare\n"
     ]
    },
    {
     "name": "stderr",
     "output_type": "stream",
     "text": [
      "\n",
      "preparing: 100%|##########################################################################| 1/1 [00:00<00:00, 27.68it/s]\n"
     ]
    },
    {
     "name": "stdout",
     "output_type": "stream",
     "text": [
      "b01d9b9d-1226-4b6a-9264-8eb2bf997678\n",
      "sim calculated successfully\n",
      "\n",
      "50.009 0.0002793 50.103\n",
      "0 existing calculation records provided\n"
     ]
    },
    {
     "name": "stderr",
     "output_type": "stream",
     "text": [
      "100%|█████████████████████████████████████████████████████████████████████████████████████| 1/1 [00:00<00:00,  2.45it/s]"
     ]
    },
    {
     "name": "stdout",
     "output_type": "stream",
     "text": [
      "1 calculation combinations to check\n",
      "1 new records to prepare\n"
     ]
    },
    {
     "name": "stderr",
     "output_type": "stream",
     "text": [
      "\n",
      "preparing: 100%|##########################################################################| 1/1 [00:00<00:00, 29.40it/s]\n"
     ]
    },
    {
     "name": "stdout",
     "output_type": "stream",
     "text": [
      "fdf3f97e-dbaf-4497-86d0-3560cf9dcae5\n",
      "sim calculated successfully\n",
      "\n",
      "50.004 0.0002483 50.081\n",
      "0 existing calculation records provided\n"
     ]
    },
    {
     "name": "stderr",
     "output_type": "stream",
     "text": [
      "100%|█████████████████████████████████████████████████████████████████████████████████████| 1/1 [00:00<00:00,  2.52it/s]"
     ]
    },
    {
     "name": "stdout",
     "output_type": "stream",
     "text": [
      "1 calculation combinations to check\n",
      "1 new records to prepare\n"
     ]
    },
    {
     "name": "stderr",
     "output_type": "stream",
     "text": [
      "\n",
      "preparing: 100%|##########################################################################| 1/1 [00:00<00:00, 29.98it/s]\n"
     ]
    },
    {
     "name": "stdout",
     "output_type": "stream",
     "text": [
      "e4506bc2-0199-4fdc-9c34-ab70a045b66e\n",
      "sim calculated successfully\n",
      "\n",
      "50.002 0.0002586 50.043\n",
      "0 existing calculation records provided\n"
     ]
    },
    {
     "name": "stderr",
     "output_type": "stream",
     "text": [
      "100%|█████████████████████████████████████████████████████████████████████████████████████| 1/1 [00:00<00:00,  2.36it/s]"
     ]
    },
    {
     "name": "stdout",
     "output_type": "stream",
     "text": [
      "1 calculation combinations to check\n",
      "1 new records to prepare\n"
     ]
    },
    {
     "name": "stderr",
     "output_type": "stream",
     "text": [
      "\n",
      "preparing: 100%|##########################################################################| 1/1 [00:00<00:00, 26.83it/s]\n"
     ]
    },
    {
     "name": "stdout",
     "output_type": "stream",
     "text": [
      "047ed33c-a34b-4ed8-b958-70ff73844209\n",
      "sim calculated successfully\n",
      "\n",
      "50.001 0.0001552 50.003\n",
      "0 existing calculation records provided\n"
     ]
    },
    {
     "name": "stderr",
     "output_type": "stream",
     "text": [
      "100%|█████████████████████████████████████████████████████████████████████████████████████| 1/1 [00:00<00:00,  2.33it/s]"
     ]
    },
    {
     "name": "stdout",
     "output_type": "stream",
     "text": [
      "1 calculation combinations to check\n",
      "1 new records to prepare\n"
     ]
    },
    {
     "name": "stderr",
     "output_type": "stream",
     "text": [
      "\n",
      "preparing: 100%|##########################################################################| 1/1 [00:00<00:00, 27.08it/s]\n"
     ]
    },
    {
     "name": "stdout",
     "output_type": "stream",
     "text": [
      "59a3ed13-6d4c-43dc-9fd4-ae9480ba2859\n",
      "sim calculated successfully\n",
      "\n",
      "50.001 0.0002586 50.088\n",
      "0 existing calculation records provided\n"
     ]
    },
    {
     "name": "stderr",
     "output_type": "stream",
     "text": [
      "100%|█████████████████████████████████████████████████████████████████████████████████████| 1/1 [00:00<00:00,  2.69it/s]"
     ]
    },
    {
     "name": "stdout",
     "output_type": "stream",
     "text": [
      "1 calculation combinations to check\n",
      "1 new records to prepare\n"
     ]
    },
    {
     "name": "stderr",
     "output_type": "stream",
     "text": [
      "\n",
      "preparing: 100%|##########################################################################| 1/1 [00:00<00:00, 29.10it/s]\n"
     ]
    },
    {
     "name": "stdout",
     "output_type": "stream",
     "text": [
      "13d0eb1b-d66b-4a88-b0e1-4983d15d1539\n",
      "sim calculated successfully\n",
      "\n",
      "50.000 0.0002069 50.109\n",
      "0 existing calculation records provided\n"
     ]
    },
    {
     "name": "stderr",
     "output_type": "stream",
     "text": [
      "100%|█████████████████████████████████████████████████████████████████████████████████████| 1/1 [00:00<00:00,  2.24it/s]"
     ]
    },
    {
     "name": "stdout",
     "output_type": "stream",
     "text": [
      "1 calculation combinations to check\n",
      "1 new records to prepare\n"
     ]
    },
    {
     "name": "stderr",
     "output_type": "stream",
     "text": [
      "\n",
      "preparing: 100%|##########################################################################| 1/1 [00:00<00:00, 24.58it/s]\n"
     ]
    },
    {
     "name": "stdout",
     "output_type": "stream",
     "text": [
      "5583d749-d747-4fb3-99c7-3aa08b788d3e\n",
      "sim calculated successfully\n",
      "\n",
      "50.000 0.0002276 50.002\n",
      "0 existing calculation records provided\n"
     ]
    },
    {
     "name": "stderr",
     "output_type": "stream",
     "text": [
      "100%|█████████████████████████████████████████████████████████████████████████████████████| 1/1 [00:00<00:00,  2.24it/s]"
     ]
    },
    {
     "name": "stdout",
     "output_type": "stream",
     "text": [
      "1 calculation combinations to check\n",
      "1 new records to prepare\n"
     ]
    },
    {
     "name": "stderr",
     "output_type": "stream",
     "text": [
      "\n",
      "preparing: 100%|##########################################################################| 1/1 [00:00<00:00, 24.98it/s]\n"
     ]
    },
    {
     "name": "stdout",
     "output_type": "stream",
     "text": [
      "3b094f04-ee3b-47b1-84b5-50868ec31d13\n",
      "sim calculated successfully\n",
      "\n",
      "50.000 0.0002586 49.943\n",
      "0 existing calculation records provided\n"
     ]
    },
    {
     "name": "stderr",
     "output_type": "stream",
     "text": [
      "100%|█████████████████████████████████████████████████████████████████████████████████████| 1/1 [00:00<00:00,  2.16it/s]"
     ]
    },
    {
     "name": "stdout",
     "output_type": "stream",
     "text": [
      "1 calculation combinations to check\n",
      "1 new records to prepare\n"
     ]
    },
    {
     "name": "stderr",
     "output_type": "stream",
     "text": [
      "\n",
      "preparing: 100%|##########################################################################| 1/1 [00:00<00:00, 24.47it/s]\n"
     ]
    },
    {
     "name": "stdout",
     "output_type": "stream",
     "text": [
      "791f514f-aef8-4476-819e-90c47e84aae8\n",
      "sim calculated successfully\n",
      "\n",
      "50.000 0.0001655 50.005\n",
      "0 existing calculation records provided\n"
     ]
    },
    {
     "name": "stderr",
     "output_type": "stream",
     "text": [
      "100%|█████████████████████████████████████████████████████████████████████████████████████| 1/1 [00:00<00:00,  2.60it/s]"
     ]
    },
    {
     "name": "stdout",
     "output_type": "stream",
     "text": [
      "1 calculation combinations to check\n",
      "1 new records to prepare\n"
     ]
    },
    {
     "name": "stderr",
     "output_type": "stream",
     "text": [
      "\n",
      "preparing: 100%|##########################################################################| 1/1 [00:00<00:00, 28.60it/s]\n"
     ]
    },
    {
     "name": "stdout",
     "output_type": "stream",
     "text": [
      "07df4cd6-45bf-41f0-b36e-e44f569d6a5f\n",
      "sim calculated successfully\n",
      "\n",
      "50.000 0.0001552 50.001\n",
      "0 existing calculation records provided\n"
     ]
    },
    {
     "name": "stderr",
     "output_type": "stream",
     "text": [
      "100%|█████████████████████████████████████████████████████████████████████████████████████| 1/1 [00:00<00:00,  2.40it/s]"
     ]
    },
    {
     "name": "stdout",
     "output_type": "stream",
     "text": [
      "1 calculation combinations to check\n",
      "1 new records to prepare\n"
     ]
    },
    {
     "name": "stderr",
     "output_type": "stream",
     "text": [
      "\n",
      "preparing: 100%|##########################################################################| 1/1 [00:00<00:00, 27.99it/s]\n"
     ]
    },
    {
     "name": "stdout",
     "output_type": "stream",
     "text": [
      "e9a2e314-bf0e-4aaf-8b60-193e1ff19ae8\n",
      "sim calculated successfully\n",
      "\n",
      "50.000 0.0001759 50.050\n",
      "0 existing calculation records provided\n"
     ]
    },
    {
     "name": "stderr",
     "output_type": "stream",
     "text": [
      "100%|█████████████████████████████████████████████████████████████████████████████████████| 1/1 [00:00<00:00,  2.22it/s]"
     ]
    },
    {
     "name": "stdout",
     "output_type": "stream",
     "text": [
      "1 calculation combinations to check\n",
      "1 new records to prepare\n"
     ]
    },
    {
     "name": "stderr",
     "output_type": "stream",
     "text": [
      "\n",
      "preparing: 100%|##########################################################################| 1/1 [00:00<00:00, 27.28it/s]\n"
     ]
    },
    {
     "name": "stdout",
     "output_type": "stream",
     "text": [
      "a229e2ad-a460-4e11-9c64-209bde06341f\n",
      "sim calculated successfully\n",
      "\n",
      "50.000 0.0001862 50.084\n",
      "0 existing calculation records provided\n"
     ]
    },
    {
     "name": "stderr",
     "output_type": "stream",
     "text": [
      "100%|█████████████████████████████████████████████████████████████████████████████████████| 1/1 [00:00<00:00,  2.55it/s]"
     ]
    },
    {
     "name": "stdout",
     "output_type": "stream",
     "text": [
      "1 calculation combinations to check\n",
      "1 new records to prepare\n"
     ]
    },
    {
     "name": "stderr",
     "output_type": "stream",
     "text": [
      "\n",
      "preparing: 100%|##########################################################################| 1/1 [00:00<00:00, 29.09it/s]\n"
     ]
    },
    {
     "name": "stdout",
     "output_type": "stream",
     "text": [
      "b3d12aba-8616-4309-aaf3-3c9793b60de4\n",
      "sim calculated successfully\n",
      "\n",
      "50.000 0.0002276 50.011\n",
      "0 existing calculation records provided\n"
     ]
    },
    {
     "name": "stderr",
     "output_type": "stream",
     "text": [
      "100%|█████████████████████████████████████████████████████████████████████████████████████| 1/1 [00:00<00:00,  4.37it/s]"
     ]
    },
    {
     "name": "stdout",
     "output_type": "stream",
     "text": [
      "1 calculation combinations to check\n",
      "1 new records to prepare\n"
     ]
    },
    {
     "name": "stderr",
     "output_type": "stream",
     "text": [
      "\n",
      "preparing: 100%|##########################################################################| 1/1 [00:00<00:00, 22.41it/s]\n"
     ]
    },
    {
     "name": "stdout",
     "output_type": "stream",
     "text": [
      "6d525a16-effe-468e-b999-bf014ba67ddf\n",
      "sim calculated successfully\n",
      "\n",
      "50.000 0.0001965 50.056\n",
      "0 existing calculation records provided\n"
     ]
    },
    {
     "name": "stderr",
     "output_type": "stream",
     "text": [
      "100%|█████████████████████████████████████████████████████████████████████████████████████| 1/1 [00:00<00:00,  4.13it/s]"
     ]
    },
    {
     "name": "stdout",
     "output_type": "stream",
     "text": [
      "1 calculation combinations to check\n",
      "1 new records to prepare\n"
     ]
    },
    {
     "name": "stderr",
     "output_type": "stream",
     "text": [
      "\n",
      "preparing: 100%|##########################################################################| 1/1 [00:00<00:00, 23.38it/s]\n"
     ]
    },
    {
     "name": "stdout",
     "output_type": "stream",
     "text": [
      "53d868c2-679c-4575-9109-8ebc04875bbb\n",
      "sim calculated successfully\n",
      "\n",
      "50.000 0.0001862 50.025\n",
      "0 existing calculation records provided\n"
     ]
    },
    {
     "name": "stderr",
     "output_type": "stream",
     "text": [
      "100%|█████████████████████████████████████████████████████████████████████████████████████| 1/1 [00:00<00:00,  2.65it/s]"
     ]
    },
    {
     "name": "stdout",
     "output_type": "stream",
     "text": [
      "1 calculation combinations to check\n",
      "1 new records to prepare\n"
     ]
    },
    {
     "name": "stderr",
     "output_type": "stream",
     "text": [
      "\n",
      "preparing: 100%|##########################################################################| 1/1 [00:00<00:00, 21.39it/s]\n"
     ]
    },
    {
     "name": "stdout",
     "output_type": "stream",
     "text": [
      "feec45b3-a380-4dbb-9757-21e958290d2d\n",
      "sim calculated successfully\n",
      "\n",
      "50.000 0.0001655 50.036\n",
      "Max number of runs reached!\n",
      "\n",
      "222 2024--Mendelev-M-I--Ni-Al-Nb--LAMMPS--ipr1\n",
      "0 existing calculation records provided\n"
     ]
    },
    {
     "name": "stderr",
     "output_type": "stream",
     "text": [
      "100%|█████████████████████████████████████████████████████████████████████████████████████| 1/1 [00:00<00:00,  4.31it/s]"
     ]
    },
    {
     "name": "stdout",
     "output_type": "stream",
     "text": [
      "1 calculation combinations to check\n",
      "1 new records to prepare\n"
     ]
    },
    {
     "name": "stderr",
     "output_type": "stream",
     "text": [
      "\n",
      "preparing: 100%|##########################################################################| 1/1 [00:00<00:00, 24.24it/s]\n"
     ]
    },
    {
     "name": "stdout",
     "output_type": "stream",
     "text": [
      "5df44639-2528-4d60-b3aa-2d85c0d9b50c\n",
      "sim calculated successfully\n",
      "\n",
      "4525.000 3.103e-05 4512.358\n",
      "0 existing calculation records provided\n"
     ]
    },
    {
     "name": "stderr",
     "output_type": "stream",
     "text": [
      "100%|█████████████████████████████████████████████████████████████████████████████████████| 1/1 [00:00<00:00,  4.12it/s]"
     ]
    },
    {
     "name": "stdout",
     "output_type": "stream",
     "text": [
      "1 calculation combinations to check\n",
      "1 new records to prepare\n"
     ]
    },
    {
     "name": "stderr",
     "output_type": "stream",
     "text": [
      "\n",
      "preparing: 100%|##########################################################################| 1/1 [00:00<00:00, 20.03it/s]\n"
     ]
    },
    {
     "name": "stdout",
     "output_type": "stream",
     "text": [
      "6219b3cf-708d-4d7f-af27-f866719e9152\n",
      "sim calculated successfully\n",
      "\n",
      "2287.500 0.9915 2281.396\n",
      "0 existing calculation records provided\n"
     ]
    },
    {
     "name": "stderr",
     "output_type": "stream",
     "text": [
      "100%|█████████████████████████████████████████████████████████████████████████████████████| 1/1 [00:00<00:00,  4.59it/s]"
     ]
    },
    {
     "name": "stdout",
     "output_type": "stream",
     "text": [
      "1 calculation combinations to check\n",
      "1 new records to prepare\n"
     ]
    },
    {
     "name": "stderr",
     "output_type": "stream",
     "text": [
      "\n",
      "preparing: 100%|##########################################################################| 1/1 [00:00<00:00, 25.33it/s]\n"
     ]
    },
    {
     "name": "stdout",
     "output_type": "stream",
     "text": [
      "5521c125-095a-4e1c-9b57-4267beb08fc2\n",
      "sim calculated successfully\n",
      "\n",
      "3406.250 0.000331 3171.431\n",
      "0 existing calculation records provided\n"
     ]
    },
    {
     "name": "stderr",
     "output_type": "stream",
     "text": [
      "100%|█████████████████████████████████████████████████████████████████████████████████████| 1/1 [00:00<00:00,  2.44it/s]"
     ]
    },
    {
     "name": "stdout",
     "output_type": "stream",
     "text": [
      "1 calculation combinations to check\n",
      "1 new records to prepare\n"
     ]
    },
    {
     "name": "stderr",
     "output_type": "stream",
     "text": [
      "\n",
      "preparing: 100%|##########################################################################| 1/1 [00:00<00:00, 27.22it/s]\n"
     ]
    },
    {
     "name": "stdout",
     "output_type": "stream",
     "text": [
      "9566069d-adc0-451c-a0a1-73e735458c3d\n",
      "sim calculated successfully\n",
      "\n",
      "2846.875 0.5439 2865.758\n",
      "0 existing calculation records provided\n"
     ]
    },
    {
     "name": "stderr",
     "output_type": "stream",
     "text": [
      "100%|█████████████████████████████████████████████████████████████████████████████████████| 1/1 [00:00<00:00,  2.87it/s]"
     ]
    },
    {
     "name": "stdout",
     "output_type": "stream",
     "text": [
      "1 calculation combinations to check\n",
      "1 new records to prepare\n"
     ]
    },
    {
     "name": "stderr",
     "output_type": "stream",
     "text": [
      "\n",
      "preparing: 100%|##########################################################################| 1/1 [00:00<00:00, 28.09it/s]\n"
     ]
    },
    {
     "name": "stdout",
     "output_type": "stream",
     "text": [
      "9924ca23-ca81-4f67-8f55-a28d375e139c\n",
      "sim calculated successfully\n",
      "\n",
      "2846.875 0.5586 2879.722\n",
      "0 existing calculation records provided\n"
     ]
    },
    {
     "name": "stderr",
     "output_type": "stream",
     "text": [
      "100%|█████████████████████████████████████████████████████████████████████████████████████| 1/1 [00:00<00:00,  2.96it/s]"
     ]
    },
    {
     "name": "stdout",
     "output_type": "stream",
     "text": [
      "1 calculation combinations to check\n",
      "1 new records to prepare\n"
     ]
    },
    {
     "name": "stderr",
     "output_type": "stream",
     "text": [
      "\n",
      "preparing: 100%|##########################################################################| 1/1 [00:00<00:00, 28.81it/s]\n"
     ]
    },
    {
     "name": "stdout",
     "output_type": "stream",
     "text": [
      "4f57d783-0c22-4342-9c1f-46ae0c56db44\n",
      "sim calculated successfully\n",
      "\n",
      "2846.875 0.5592 2866.073\n",
      "0 existing calculation records provided\n"
     ]
    },
    {
     "name": "stderr",
     "output_type": "stream",
     "text": [
      "100%|█████████████████████████████████████████████████████████████████████████████████████| 1/1 [00:00<00:00,  2.74it/s]"
     ]
    },
    {
     "name": "stdout",
     "output_type": "stream",
     "text": [
      "1 calculation combinations to check\n",
      "1 new records to prepare\n"
     ]
    },
    {
     "name": "stderr",
     "output_type": "stream",
     "text": [
      "\n",
      "preparing: 100%|##########################################################################| 1/1 [00:00<00:00, 29.33it/s]\n"
     ]
    },
    {
     "name": "stdout",
     "output_type": "stream",
     "text": [
      "89946218-01b6-4992-b2dc-21315e099f1a\n",
      "sim calculated successfully\n",
      "\n",
      "2846.875 0.5697 2877.217\n",
      "0 existing calculation records provided\n"
     ]
    },
    {
     "name": "stderr",
     "output_type": "stream",
     "text": [
      "100%|█████████████████████████████████████████████████████████████████████████████████████| 1/1 [00:00<00:00,  4.22it/s]"
     ]
    },
    {
     "name": "stdout",
     "output_type": "stream",
     "text": [
      "1 calculation combinations to check\n",
      "1 new records to prepare\n"
     ]
    },
    {
     "name": "stderr",
     "output_type": "stream",
     "text": [
      "\n",
      "preparing: 100%|##########################################################################| 1/1 [00:00<00:00, 27.88it/s]\n"
     ]
    },
    {
     "name": "stdout",
     "output_type": "stream",
     "text": [
      "fa096c57-06ec-4b55-9e84-be2cd08fe2db\n",
      "sim calculated successfully\n",
      "\n",
      "2846.875 0.5295 2872.123\n",
      "0 existing calculation records provided\n"
     ]
    },
    {
     "name": "stderr",
     "output_type": "stream",
     "text": [
      "100%|█████████████████████████████████████████████████████████████████████████████████████| 1/1 [00:00<00:00,  2.72it/s]"
     ]
    },
    {
     "name": "stdout",
     "output_type": "stream",
     "text": [
      "1 calculation combinations to check\n",
      "1 new records to prepare\n"
     ]
    },
    {
     "name": "stderr",
     "output_type": "stream",
     "text": [
      "\n",
      "preparing: 100%|##########################################################################| 1/1 [00:00<00:00, 27.16it/s]\n"
     ]
    },
    {
     "name": "stdout",
     "output_type": "stream",
     "text": [
      "dacd5f87-fb1a-4752-87e6-217f90cddb11\n",
      "sim calculated successfully\n",
      "\n",
      "2846.875 0.5334 2878.349\n",
      "0 existing calculation records provided\n"
     ]
    },
    {
     "name": "stderr",
     "output_type": "stream",
     "text": [
      "100%|█████████████████████████████████████████████████████████████████████████████████████| 1/1 [00:00<00:00,  2.37it/s]"
     ]
    },
    {
     "name": "stdout",
     "output_type": "stream",
     "text": [
      "1 calculation combinations to check\n",
      "1 new records to prepare\n"
     ]
    },
    {
     "name": "stderr",
     "output_type": "stream",
     "text": [
      "\n",
      "preparing: 100%|##########################################################################| 1/1 [00:00<00:00, 27.88it/s]\n"
     ]
    },
    {
     "name": "stdout",
     "output_type": "stream",
     "text": [
      "8323672d-80a5-45c7-a970-c6d51ddb2d12\n",
      "sim calculated successfully\n",
      "\n",
      "2846.875 0.5632 2889.828\n",
      "0 existing calculation records provided\n"
     ]
    },
    {
     "name": "stderr",
     "output_type": "stream",
     "text": [
      "100%|█████████████████████████████████████████████████████████████████████████████████████| 1/1 [00:00<00:00,  2.24it/s]"
     ]
    },
    {
     "name": "stdout",
     "output_type": "stream",
     "text": [
      "1 calculation combinations to check\n",
      "1 new records to prepare\n"
     ]
    },
    {
     "name": "stderr",
     "output_type": "stream",
     "text": [
      "\n",
      "preparing: 100%|##########################################################################| 1/1 [00:00<00:00, 26.57it/s]\n"
     ]
    },
    {
     "name": "stdout",
     "output_type": "stream",
     "text": [
      "faae9959-499e-4931-baff-fdc91719c980\n",
      "sim calculated successfully\n",
      "\n",
      "2846.875 0.5482 2869.216\n",
      "0 existing calculation records provided\n"
     ]
    },
    {
     "name": "stderr",
     "output_type": "stream",
     "text": [
      "100%|█████████████████████████████████████████████████████████████████████████████████████| 1/1 [00:00<00:00,  3.87it/s]"
     ]
    },
    {
     "name": "stdout",
     "output_type": "stream",
     "text": [
      "1 calculation combinations to check\n",
      "1 new records to prepare\n"
     ]
    },
    {
     "name": "stderr",
     "output_type": "stream",
     "text": [
      "\n",
      "preparing: 100%|##########################################################################| 1/1 [00:00<00:00, 26.01it/s]\n"
     ]
    },
    {
     "name": "stdout",
     "output_type": "stream",
     "text": [
      "e973a025-3982-4f19-9d2a-818171dad0bf\n",
      "sim calculated successfully\n",
      "\n",
      "2846.875 0.5649 2880.393\n",
      "0 existing calculation records provided\n"
     ]
    },
    {
     "name": "stderr",
     "output_type": "stream",
     "text": [
      "100%|█████████████████████████████████████████████████████████████████████████████████████| 1/1 [00:00<00:00,  2.37it/s]"
     ]
    },
    {
     "name": "stdout",
     "output_type": "stream",
     "text": [
      "1 calculation combinations to check\n",
      "1 new records to prepare\n"
     ]
    },
    {
     "name": "stderr",
     "output_type": "stream",
     "text": [
      "\n",
      "preparing: 100%|##########################################################################| 1/1 [00:00<00:00, 21.94it/s]\n"
     ]
    },
    {
     "name": "stdout",
     "output_type": "stream",
     "text": [
      "9f20c236-2de9-48bc-81dd-c81dd4b95eae\n",
      "sim calculated successfully\n",
      "\n",
      "2846.875 0.5601 2877.136\n",
      "\n",
      "221 2024--Mendelev-M-I--Ni-Al-Cr--LAMMPS--ipr1\n",
      "0 existing calculation records provided\n"
     ]
    },
    {
     "name": "stderr",
     "output_type": "stream",
     "text": [
      "100%|█████████████████████████████████████████████████████████████████████████████████████| 1/1 [00:00<00:00,  2.59it/s]"
     ]
    },
    {
     "name": "stdout",
     "output_type": "stream",
     "text": [
      "1 calculation combinations to check\n",
      "1 new records to prepare\n"
     ]
    },
    {
     "name": "stderr",
     "output_type": "stream",
     "text": [
      "\n",
      "preparing: 100%|##########################################################################| 1/1 [00:00<00:00, 33.34it/s]\n"
     ]
    },
    {
     "name": "stdout",
     "output_type": "stream",
     "text": [
      "0eee4984-90cb-4544-b8fb-0e10149d4161\n",
      "sim calculated successfully\n",
      "\n",
      "4525.000 0.0 4689.980\n",
      "0 existing calculation records provided\n"
     ]
    },
    {
     "name": "stderr",
     "output_type": "stream",
     "text": [
      "100%|█████████████████████████████████████████████████████████████████████████████████████| 1/1 [00:00<00:00,  2.30it/s]"
     ]
    },
    {
     "name": "stdout",
     "output_type": "stream",
     "text": [
      "1 calculation combinations to check\n",
      "1 new records to prepare\n"
     ]
    },
    {
     "name": "stderr",
     "output_type": "stream",
     "text": [
      "\n",
      "preparing: 100%|##########################################################################| 1/1 [00:00<00:00, 25.67it/s]\n"
     ]
    },
    {
     "name": "stdout",
     "output_type": "stream",
     "text": [
      "e96c6794-af15-46c1-8740-737eac000868\n",
      "sim calculated successfully\n",
      "\n",
      "2287.500 2.069e-05 2279.475\n",
      "0 existing calculation records provided\n"
     ]
    },
    {
     "name": "stderr",
     "output_type": "stream",
     "text": [
      "100%|█████████████████████████████████████████████████████████████████████████████████████| 1/1 [00:00<00:00,  2.21it/s]"
     ]
    },
    {
     "name": "stdout",
     "output_type": "stream",
     "text": [
      "1 calculation combinations to check\n",
      "1 new records to prepare\n"
     ]
    },
    {
     "name": "stderr",
     "output_type": "stream",
     "text": [
      "\n",
      "preparing: 100%|##########################################################################| 1/1 [00:00<00:00, 25.42it/s]\n"
     ]
    },
    {
     "name": "stdout",
     "output_type": "stream",
     "text": [
      "c0280735-a567-47b0-a66c-a747283f3d35\n",
      "sim calculated successfully\n",
      "\n",
      "1168.750 0.07568 1164.595\n",
      "0 existing calculation records provided\n"
     ]
    },
    {
     "name": "stderr",
     "output_type": "stream",
     "text": [
      "100%|█████████████████████████████████████████████████████████████████████████████████████| 1/1 [00:00<00:00,  3.93it/s]"
     ]
    },
    {
     "name": "stdout",
     "output_type": "stream",
     "text": [
      "1 calculation combinations to check\n",
      "1 new records to prepare\n"
     ]
    },
    {
     "name": "stderr",
     "output_type": "stream",
     "text": [
      "\n",
      "preparing: 100%|##########################################################################| 1/1 [00:00<00:00, 29.76it/s]\n"
     ]
    },
    {
     "name": "stdout",
     "output_type": "stream",
     "text": [
      "354ff668-f1a3-46e6-ba3b-fd1206972473\n",
      "sim calculated successfully\n",
      "\n",
      "609.375 0.0778 607.418\n",
      "0 existing calculation records provided\n"
     ]
    },
    {
     "name": "stderr",
     "output_type": "stream",
     "text": [
      "100%|█████████████████████████████████████████████████████████████████████████████████████| 1/1 [00:00<00:00,  2.39it/s]"
     ]
    },
    {
     "name": "stdout",
     "output_type": "stream",
     "text": [
      "1 calculation combinations to check\n",
      "1 new records to prepare\n"
     ]
    },
    {
     "name": "stderr",
     "output_type": "stream",
     "text": [
      "\n",
      "preparing: 100%|##########################################################################| 1/1 [00:00<00:00, 25.89it/s]\n"
     ]
    },
    {
     "name": "stdout",
     "output_type": "stream",
     "text": [
      "3bff48b4-f10a-4f3f-919f-309e759b8fb7\n",
      "sim calculated successfully\n",
      "\n",
      "329.688 0.02794 327.823\n",
      "0 existing calculation records provided\n"
     ]
    },
    {
     "name": "stderr",
     "output_type": "stream",
     "text": [
      "100%|█████████████████████████████████████████████████████████████████████████████████████| 1/1 [00:00<00:00,  2.38it/s]"
     ]
    },
    {
     "name": "stdout",
     "output_type": "stream",
     "text": [
      "1 calculation combinations to check\n",
      "1 new records to prepare\n"
     ]
    },
    {
     "name": "stderr",
     "output_type": "stream",
     "text": [
      "\n",
      "preparing: 100%|##########################################################################| 1/1 [00:00<00:00, 23.28it/s]\n"
     ]
    },
    {
     "name": "stdout",
     "output_type": "stream",
     "text": [
      "9aa68c10-26f2-40ae-a48a-9d3affd86042\n",
      "sim calculated successfully\n",
      "\n",
      "189.844 0.1391 188.269\n",
      "0 existing calculation records provided\n"
     ]
    },
    {
     "name": "stderr",
     "output_type": "stream",
     "text": [
      "100%|█████████████████████████████████████████████████████████████████████████████████████| 1/1 [00:00<00:00,  2.40it/s]"
     ]
    },
    {
     "name": "stdout",
     "output_type": "stream",
     "text": [
      "1 calculation combinations to check\n",
      "1 new records to prepare\n"
     ]
    },
    {
     "name": "stderr",
     "output_type": "stream",
     "text": [
      "\n",
      "preparing: 100%|##########################################################################| 1/1 [00:00<00:00, 27.38it/s]\n"
     ]
    },
    {
     "name": "stdout",
     "output_type": "stream",
     "text": [
      "9bd56485-4801-441f-b8db-94fd9ee01212\n",
      "sim calculated successfully\n",
      "\n",
      "119.922 0.1341 118.720\n",
      "0 existing calculation records provided\n"
     ]
    },
    {
     "name": "stderr",
     "output_type": "stream",
     "text": [
      "100%|█████████████████████████████████████████████████████████████████████████████████████| 1/1 [00:00<00:00,  2.33it/s]"
     ]
    },
    {
     "name": "stdout",
     "output_type": "stream",
     "text": [
      "1 calculation combinations to check\n",
      "1 new records to prepare\n"
     ]
    },
    {
     "name": "stderr",
     "output_type": "stream",
     "text": [
      "\n",
      "preparing: 100%|##########################################################################| 1/1 [00:00<00:00, 26.17it/s]\n"
     ]
    },
    {
     "name": "stdout",
     "output_type": "stream",
     "text": [
      "e2a4414e-28be-4196-a7ed-507d83dfbfa7\n",
      "sim calculated successfully\n",
      "\n",
      "84.961 0.1293 84.441\n",
      "0 existing calculation records provided\n"
     ]
    },
    {
     "name": "stderr",
     "output_type": "stream",
     "text": [
      "100%|█████████████████████████████████████████████████████████████████████████████████████| 1/1 [00:00<00:00,  2.27it/s]"
     ]
    },
    {
     "name": "stdout",
     "output_type": "stream",
     "text": [
      "1 calculation combinations to check\n",
      "1 new records to prepare\n"
     ]
    },
    {
     "name": "stderr",
     "output_type": "stream",
     "text": [
      "\n",
      "preparing: 100%|##########################################################################| 1/1 [00:00<00:00, 21.44it/s]\n"
     ]
    },
    {
     "name": "stdout",
     "output_type": "stream",
     "text": [
      "b4fc29ec-0402-4264-aac0-9d2cb4a5c358\n",
      "sim calculated successfully\n",
      "\n",
      "67.480 0.0007138 67.440\n",
      "0 existing calculation records provided\n"
     ]
    },
    {
     "name": "stderr",
     "output_type": "stream",
     "text": [
      "100%|█████████████████████████████████████████████████████████████████████████████████████| 1/1 [00:00<00:00,  2.21it/s]"
     ]
    },
    {
     "name": "stdout",
     "output_type": "stream",
     "text": [
      "1 calculation combinations to check\n",
      "1 new records to prepare\n"
     ]
    },
    {
     "name": "stderr",
     "output_type": "stream",
     "text": [
      "\n",
      "preparing: 100%|##########################################################################| 1/1 [00:00<00:00, 23.53it/s]\n"
     ]
    },
    {
     "name": "stdout",
     "output_type": "stream",
     "text": [
      "f387eda7-fb11-4ba3-a86e-e41556b650b6\n",
      "sim calculated successfully\n",
      "\n",
      "58.740 0.0003828 58.725\n",
      "0 existing calculation records provided\n"
     ]
    },
    {
     "name": "stderr",
     "output_type": "stream",
     "text": [
      "100%|█████████████████████████████████████████████████████████████████████████████████████| 1/1 [00:00<00:00,  2.46it/s]"
     ]
    },
    {
     "name": "stdout",
     "output_type": "stream",
     "text": [
      "1 calculation combinations to check\n",
      "1 new records to prepare\n"
     ]
    },
    {
     "name": "stderr",
     "output_type": "stream",
     "text": [
      "\n",
      "preparing: 100%|##########################################################################| 1/1 [00:00<00:00, 21.54it/s]\n"
     ]
    },
    {
     "name": "stdout",
     "output_type": "stream",
     "text": [
      "6eb10e85-c90f-4db7-a883-536f8a296337\n",
      "sim calculated successfully\n",
      "\n",
      "54.370 0.000269 54.454\n",
      "0 existing calculation records provided\n"
     ]
    },
    {
     "name": "stderr",
     "output_type": "stream",
     "text": [
      "100%|█████████████████████████████████████████████████████████████████████████████████████| 1/1 [00:00<00:00,  2.33it/s]"
     ]
    },
    {
     "name": "stdout",
     "output_type": "stream",
     "text": [
      "1 calculation combinations to check\n",
      "1 new records to prepare\n"
     ]
    },
    {
     "name": "stderr",
     "output_type": "stream",
     "text": [
      "\n",
      "preparing: 100%|##########################################################################| 1/1 [00:00<00:00, 22.37it/s]\n"
     ]
    },
    {
     "name": "stdout",
     "output_type": "stream",
     "text": [
      "6c468eef-7637-4916-bdd7-59b2e0caf399\n",
      "sim calculated successfully\n",
      "\n",
      "52.185 0.0001759 52.117\n",
      "0 existing calculation records provided\n"
     ]
    },
    {
     "name": "stderr",
     "output_type": "stream",
     "text": [
      "100%|█████████████████████████████████████████████████████████████████████████████████████| 1/1 [00:00<00:00,  4.60it/s]"
     ]
    },
    {
     "name": "stdout",
     "output_type": "stream",
     "text": [
      "1 calculation combinations to check\n",
      "1 new records to prepare\n"
     ]
    },
    {
     "name": "stderr",
     "output_type": "stream",
     "text": [
      "\n",
      "preparing: 100%|##########################################################################| 1/1 [00:00<00:00, 27.70it/s]\n"
     ]
    },
    {
     "name": "stdout",
     "output_type": "stream",
     "text": [
      "472505dc-50ec-4487-85ff-535d7d48abc8\n",
      "sim calculated successfully\n",
      "\n",
      "51.093 0.0002172 51.055\n",
      "0 existing calculation records provided\n"
     ]
    },
    {
     "name": "stderr",
     "output_type": "stream",
     "text": [
      "100%|█████████████████████████████████████████████████████████████████████████████████████| 1/1 [00:00<00:00,  4.11it/s]"
     ]
    },
    {
     "name": "stdout",
     "output_type": "stream",
     "text": [
      "1 calculation combinations to check\n",
      "1 new records to prepare\n"
     ]
    },
    {
     "name": "stderr",
     "output_type": "stream",
     "text": [
      "\n",
      "preparing: 100%|##########################################################################| 1/1 [00:00<00:00, 26.50it/s]\n"
     ]
    },
    {
     "name": "stdout",
     "output_type": "stream",
     "text": [
      "abf646d2-82cb-4513-a895-c05614a4b15b\n",
      "sim calculated successfully\n",
      "\n",
      "50.546 0.0002069 50.577\n",
      "0 existing calculation records provided\n"
     ]
    },
    {
     "name": "stderr",
     "output_type": "stream",
     "text": [
      "100%|█████████████████████████████████████████████████████████████████████████████████████| 1/1 [00:00<00:00,  4.02it/s]"
     ]
    },
    {
     "name": "stdout",
     "output_type": "stream",
     "text": [
      "1 calculation combinations to check\n",
      "1 new records to prepare\n"
     ]
    },
    {
     "name": "stderr",
     "output_type": "stream",
     "text": [
      "\n",
      "preparing: 100%|##########################################################################| 1/1 [00:00<00:00, 29.69it/s]\n"
     ]
    },
    {
     "name": "stdout",
     "output_type": "stream",
     "text": [
      "5aceed70-ab58-4b16-ac63-dae2be7a8f0b\n",
      "sim calculated successfully\n",
      "\n",
      "50.273 0.0001862 50.314\n",
      "0 existing calculation records provided\n"
     ]
    },
    {
     "name": "stderr",
     "output_type": "stream",
     "text": [
      "100%|█████████████████████████████████████████████████████████████████████████████████████| 1/1 [00:00<00:00,  4.10it/s]"
     ]
    },
    {
     "name": "stdout",
     "output_type": "stream",
     "text": [
      "1 calculation combinations to check\n",
      "1 new records to prepare\n"
     ]
    },
    {
     "name": "stderr",
     "output_type": "stream",
     "text": [
      "\n",
      "preparing: 100%|##########################################################################| 1/1 [00:00<00:00, 26.05it/s]\n"
     ]
    },
    {
     "name": "stdout",
     "output_type": "stream",
     "text": [
      "caf938b2-50f1-4143-906e-d825203a9ab4\n",
      "sim calculated successfully\n",
      "\n",
      "50.137 0.0002069 50.233\n",
      "0 existing calculation records provided\n"
     ]
    },
    {
     "name": "stderr",
     "output_type": "stream",
     "text": [
      "100%|█████████████████████████████████████████████████████████████████████████████████████| 1/1 [00:00<00:00,  3.99it/s]"
     ]
    },
    {
     "name": "stdout",
     "output_type": "stream",
     "text": [
      "1 calculation combinations to check\n",
      "1 new records to prepare\n"
     ]
    },
    {
     "name": "stderr",
     "output_type": "stream",
     "text": [
      "\n",
      "preparing: 100%|##########################################################################| 1/1 [00:00<00:00, 27.85it/s]\n"
     ]
    },
    {
     "name": "stdout",
     "output_type": "stream",
     "text": [
      "7cb60ce0-923e-44cc-bb9d-4116e8284f59\n",
      "sim calculated successfully\n",
      "\n",
      "50.068 0.0001655 50.103\n",
      "0 existing calculation records provided\n"
     ]
    },
    {
     "name": "stderr",
     "output_type": "stream",
     "text": [
      "100%|█████████████████████████████████████████████████████████████████████████████████████| 1/1 [00:00<00:00,  2.51it/s]"
     ]
    },
    {
     "name": "stdout",
     "output_type": "stream",
     "text": [
      "1 calculation combinations to check\n",
      "1 new records to prepare\n"
     ]
    },
    {
     "name": "stderr",
     "output_type": "stream",
     "text": [
      "\n",
      "preparing: 100%|##########################################################################| 1/1 [00:00<00:00, 24.93it/s]\n"
     ]
    },
    {
     "name": "stdout",
     "output_type": "stream",
     "text": [
      "1a8b93df-cb01-4c3d-ae47-fbfd12ebe45d\n",
      "sim calculated successfully\n",
      "\n",
      "50.034 0.0001241 50.038\n",
      "0 existing calculation records provided\n"
     ]
    },
    {
     "name": "stderr",
     "output_type": "stream",
     "text": [
      "100%|█████████████████████████████████████████████████████████████████████████████████████| 1/1 [00:00<00:00,  2.45it/s]"
     ]
    },
    {
     "name": "stdout",
     "output_type": "stream",
     "text": [
      "1 calculation combinations to check\n",
      "1 new records to prepare\n"
     ]
    },
    {
     "name": "stderr",
     "output_type": "stream",
     "text": [
      "\n",
      "preparing: 100%|##########################################################################| 1/1 [00:00<00:00, 25.44it/s]\n"
     ]
    },
    {
     "name": "stdout",
     "output_type": "stream",
     "text": [
      "4d085f4f-97dd-4dea-aae3-957087e58c21\n",
      "sim calculated successfully\n",
      "\n",
      "50.017 0.0002172 50.093\n",
      "0 existing calculation records provided\n"
     ]
    },
    {
     "name": "stderr",
     "output_type": "stream",
     "text": [
      "100%|█████████████████████████████████████████████████████████████████████████████████████| 1/1 [00:00<00:00,  2.42it/s]"
     ]
    },
    {
     "name": "stdout",
     "output_type": "stream",
     "text": [
      "1 calculation combinations to check\n",
      "1 new records to prepare\n"
     ]
    },
    {
     "name": "stderr",
     "output_type": "stream",
     "text": [
      "\n",
      "preparing: 100%|##########################################################################| 1/1 [00:00<00:00, 28.39it/s]\n"
     ]
    },
    {
     "name": "stdout",
     "output_type": "stream",
     "text": [
      "6f7c4fbf-48a4-405e-8f87-afb7881eb69f\n",
      "sim calculated successfully\n",
      "\n",
      "50.009 0.0002586 50.113\n",
      "0 existing calculation records provided\n"
     ]
    },
    {
     "name": "stderr",
     "output_type": "stream",
     "text": [
      "100%|█████████████████████████████████████████████████████████████████████████████████████| 1/1 [00:00<00:00,  2.72it/s]"
     ]
    },
    {
     "name": "stdout",
     "output_type": "stream",
     "text": [
      "1 calculation combinations to check\n",
      "1 new records to prepare\n"
     ]
    },
    {
     "name": "stderr",
     "output_type": "stream",
     "text": [
      "\n",
      "preparing: 100%|##########################################################################| 1/1 [00:00<00:00, 27.44it/s]\n"
     ]
    },
    {
     "name": "stdout",
     "output_type": "stream",
     "text": [
      "7f64d6dd-6cd1-4f51-8a65-3a5da6f7dd56\n",
      "sim calculated successfully\n",
      "\n",
      "50.004 0.0002069 49.945\n",
      "0 existing calculation records provided\n"
     ]
    },
    {
     "name": "stderr",
     "output_type": "stream",
     "text": [
      "100%|█████████████████████████████████████████████████████████████████████████████████████| 1/1 [00:00<00:00,  2.31it/s]"
     ]
    },
    {
     "name": "stdout",
     "output_type": "stream",
     "text": [
      "1 calculation combinations to check\n",
      "1 new records to prepare\n"
     ]
    },
    {
     "name": "stderr",
     "output_type": "stream",
     "text": [
      "\n",
      "preparing: 100%|##########################################################################| 1/1 [00:00<00:00, 26.04it/s]\n"
     ]
    },
    {
     "name": "stdout",
     "output_type": "stream",
     "text": [
      "83874820-2649-4989-9ad6-c0e54c2f88df\n",
      "sim calculated successfully\n",
      "\n",
      "50.002 0.0001345 50.020\n",
      "0 existing calculation records provided\n"
     ]
    },
    {
     "name": "stderr",
     "output_type": "stream",
     "text": [
      "100%|█████████████████████████████████████████████████████████████████████████████████████| 1/1 [00:00<00:00,  2.40it/s]"
     ]
    },
    {
     "name": "stdout",
     "output_type": "stream",
     "text": [
      "1 calculation combinations to check\n",
      "1 new records to prepare\n"
     ]
    },
    {
     "name": "stderr",
     "output_type": "stream",
     "text": [
      "\n",
      "preparing: 100%|##########################################################################| 1/1 [00:00<00:00, 25.30it/s]\n"
     ]
    },
    {
     "name": "stdout",
     "output_type": "stream",
     "text": [
      "97497232-93cd-47f5-93bd-6f4326142ec2\n",
      "sim calculated successfully\n",
      "\n",
      "50.001 0.0002172 50.117\n",
      "0 existing calculation records provided\n"
     ]
    },
    {
     "name": "stderr",
     "output_type": "stream",
     "text": [
      "100%|█████████████████████████████████████████████████████████████████████████████████████| 1/1 [00:00<00:00,  2.40it/s]"
     ]
    },
    {
     "name": "stdout",
     "output_type": "stream",
     "text": [
      "1 calculation combinations to check\n",
      "1 new records to prepare\n"
     ]
    },
    {
     "name": "stderr",
     "output_type": "stream",
     "text": [
      "\n",
      "preparing: 100%|##########################################################################| 1/1 [00:00<00:00, 18.20it/s]\n"
     ]
    },
    {
     "name": "stdout",
     "output_type": "stream",
     "text": [
      "4f332535-6e78-42a9-ac82-2fea981abc57\n",
      "sim calculated successfully\n",
      "\n",
      "50.001 0.0002586 50.035\n",
      "0 existing calculation records provided\n"
     ]
    },
    {
     "name": "stderr",
     "output_type": "stream",
     "text": [
      "100%|█████████████████████████████████████████████████████████████████████████████████████| 1/1 [00:00<00:00,  2.33it/s]"
     ]
    },
    {
     "name": "stdout",
     "output_type": "stream",
     "text": [
      "1 calculation combinations to check\n",
      "1 new records to prepare\n"
     ]
    },
    {
     "name": "stderr",
     "output_type": "stream",
     "text": [
      "\n",
      "preparing: 100%|##########################################################################| 1/1 [00:00<00:00, 21.28it/s]\n"
     ]
    },
    {
     "name": "stdout",
     "output_type": "stream",
     "text": [
      "bc4fb0a1-09eb-40bb-abea-9f3259d6a134\n",
      "sim calculated successfully\n",
      "\n",
      "50.000 0.0001655 50.054\n",
      "0 existing calculation records provided\n"
     ]
    },
    {
     "name": "stderr",
     "output_type": "stream",
     "text": [
      "100%|█████████████████████████████████████████████████████████████████████████████████████| 1/1 [00:00<00:00,  2.31it/s]"
     ]
    },
    {
     "name": "stdout",
     "output_type": "stream",
     "text": [
      "1 calculation combinations to check\n",
      "1 new records to prepare\n"
     ]
    },
    {
     "name": "stderr",
     "output_type": "stream",
     "text": [
      "\n",
      "preparing: 100%|##########################################################################| 1/1 [00:00<00:00, 23.41it/s]\n"
     ]
    },
    {
     "name": "stdout",
     "output_type": "stream",
     "text": [
      "b0c9ddb4-f915-47cc-b166-df89e416d2ae\n",
      "sim calculated successfully\n",
      "\n",
      "50.000 0.0001448 50.011\n",
      "0 existing calculation records provided\n"
     ]
    },
    {
     "name": "stderr",
     "output_type": "stream",
     "text": [
      "100%|█████████████████████████████████████████████████████████████████████████████████████| 1/1 [00:00<00:00,  4.40it/s]"
     ]
    },
    {
     "name": "stdout",
     "output_type": "stream",
     "text": [
      "1 calculation combinations to check\n",
      "1 new records to prepare\n"
     ]
    },
    {
     "name": "stderr",
     "output_type": "stream",
     "text": [
      "\n",
      "preparing: 100%|##########################################################################| 1/1 [00:00<00:00, 31.13it/s]\n"
     ]
    },
    {
     "name": "stdout",
     "output_type": "stream",
     "text": [
      "267c49af-1263-4001-9a48-42bc01fdd7ef\n",
      "sim calculated successfully\n",
      "\n",
      "50.000 0.0002276 50.015\n",
      "0 existing calculation records provided\n"
     ]
    },
    {
     "name": "stderr",
     "output_type": "stream",
     "text": [
      "100%|█████████████████████████████████████████████████████████████████████████████████████| 1/1 [00:00<00:00,  4.30it/s]"
     ]
    },
    {
     "name": "stdout",
     "output_type": "stream",
     "text": [
      "1 calculation combinations to check\n",
      "1 new records to prepare\n"
     ]
    },
    {
     "name": "stderr",
     "output_type": "stream",
     "text": [
      "\n",
      "preparing: 100%|##########################################################################| 1/1 [00:00<00:00, 26.33it/s]\n"
     ]
    },
    {
     "name": "stdout",
     "output_type": "stream",
     "text": [
      "1efbc11c-3e53-4630-b5ae-939ab5125a3b\n",
      "sim calculated successfully\n",
      "\n",
      "50.000 0.000269 50.075\n",
      "0 existing calculation records provided\n"
     ]
    },
    {
     "name": "stderr",
     "output_type": "stream",
     "text": [
      "100%|█████████████████████████████████████████████████████████████████████████████████████| 1/1 [00:00<00:00,  4.31it/s]"
     ]
    },
    {
     "name": "stdout",
     "output_type": "stream",
     "text": [
      "1 calculation combinations to check\n",
      "1 new records to prepare\n"
     ]
    },
    {
     "name": "stderr",
     "output_type": "stream",
     "text": [
      "\n",
      "preparing: 100%|##########################################################################| 1/1 [00:00<00:00, 24.83it/s]\n"
     ]
    },
    {
     "name": "stdout",
     "output_type": "stream",
     "text": [
      "75ee1579-e960-42e7-8379-3a493dd52c3c\n",
      "sim calculated successfully\n",
      "\n",
      "50.000 0.0002586 50.022\n",
      "0 existing calculation records provided\n"
     ]
    },
    {
     "name": "stderr",
     "output_type": "stream",
     "text": [
      "100%|█████████████████████████████████████████████████████████████████████████████████████| 1/1 [00:00<00:00,  4.12it/s]"
     ]
    },
    {
     "name": "stdout",
     "output_type": "stream",
     "text": [
      "1 calculation combinations to check\n",
      "1 new records to prepare\n"
     ]
    },
    {
     "name": "stderr",
     "output_type": "stream",
     "text": [
      "\n",
      "preparing: 100%|##########################################################################| 1/1 [00:00<00:00, 24.04it/s]\n"
     ]
    },
    {
     "name": "stdout",
     "output_type": "stream",
     "text": [
      "a9f58282-3ea8-413b-b0a8-4de6d1b7815d\n",
      "sim calculated successfully\n",
      "\n",
      "50.000 0.0001655 50.016\n",
      "0 existing calculation records provided\n"
     ]
    },
    {
     "name": "stderr",
     "output_type": "stream",
     "text": [
      "100%|█████████████████████████████████████████████████████████████████████████████████████| 1/1 [00:00<00:00,  4.46it/s]"
     ]
    },
    {
     "name": "stdout",
     "output_type": "stream",
     "text": [
      "1 calculation combinations to check\n",
      "1 new records to prepare\n"
     ]
    },
    {
     "name": "stderr",
     "output_type": "stream",
     "text": [
      "\n",
      "preparing: 100%|##########################################################################| 1/1 [00:00<00:00, 29.11it/s]\n"
     ]
    },
    {
     "name": "stdout",
     "output_type": "stream",
     "text": [
      "fd55793f-746d-4461-9f1c-cd7bf25218c2\n",
      "sim calculated successfully\n",
      "\n",
      "50.000 0.0001759 50.031\n",
      "0 existing calculation records provided\n"
     ]
    },
    {
     "name": "stderr",
     "output_type": "stream",
     "text": [
      "100%|█████████████████████████████████████████████████████████████████████████████████████| 1/1 [00:00<00:00,  4.31it/s]"
     ]
    },
    {
     "name": "stdout",
     "output_type": "stream",
     "text": [
      "1 calculation combinations to check\n",
      "1 new records to prepare\n"
     ]
    },
    {
     "name": "stderr",
     "output_type": "stream",
     "text": [
      "\n",
      "preparing: 100%|##########################################################################| 1/1 [00:00<00:00, 22.56it/s]\n"
     ]
    },
    {
     "name": "stdout",
     "output_type": "stream",
     "text": [
      "5b9ef62f-5dcc-47c0-9847-670200aa6765\n",
      "sim calculated successfully\n",
      "\n",
      "50.000 0.0001552 50.033\n",
      "0 existing calculation records provided\n"
     ]
    },
    {
     "name": "stderr",
     "output_type": "stream",
     "text": [
      "100%|█████████████████████████████████████████████████████████████████████████████████████| 1/1 [00:00<00:00,  4.26it/s]"
     ]
    },
    {
     "name": "stdout",
     "output_type": "stream",
     "text": [
      "1 calculation combinations to check\n",
      "1 new records to prepare\n"
     ]
    },
    {
     "name": "stderr",
     "output_type": "stream",
     "text": [
      "\n",
      "preparing: 100%|##########################################################################| 1/1 [00:00<00:00, 32.47it/s]\n"
     ]
    },
    {
     "name": "stdout",
     "output_type": "stream",
     "text": [
      "2ac072e7-659b-4001-820b-82b80f7c0117\n",
      "sim calculated successfully\n",
      "\n",
      "50.000 0.0001655 49.990\n",
      "0 existing calculation records provided\n"
     ]
    },
    {
     "name": "stderr",
     "output_type": "stream",
     "text": [
      "100%|█████████████████████████████████████████████████████████████████████████████████████| 1/1 [00:00<00:00,  4.87it/s]"
     ]
    },
    {
     "name": "stdout",
     "output_type": "stream",
     "text": [
      "1 calculation combinations to check\n",
      "1 new records to prepare\n"
     ]
    },
    {
     "name": "stderr",
     "output_type": "stream",
     "text": [
      "\n",
      "preparing: 100%|##########################################################################| 1/1 [00:00<00:00, 33.15it/s]\n"
     ]
    },
    {
     "name": "stdout",
     "output_type": "stream",
     "text": [
      "874bde83-d417-4f7d-906e-d0ae42b8cf95\n",
      "sim calculated successfully\n",
      "\n",
      "50.000 0.000269 50.050\n",
      "0 existing calculation records provided\n"
     ]
    },
    {
     "name": "stderr",
     "output_type": "stream",
     "text": [
      "100%|█████████████████████████████████████████████████████████████████████████████████████| 1/1 [00:00<00:00,  4.55it/s]"
     ]
    },
    {
     "name": "stdout",
     "output_type": "stream",
     "text": [
      "1 calculation combinations to check\n",
      "1 new records to prepare\n"
     ]
    },
    {
     "name": "stderr",
     "output_type": "stream",
     "text": [
      "\n",
      "preparing: 100%|##########################################################################| 1/1 [00:00<00:00, 23.31it/s]\n"
     ]
    },
    {
     "name": "stdout",
     "output_type": "stream",
     "text": [
      "1f0a3363-3fb8-4c5a-b693-1ef09df669fa\n",
      "sim calculated successfully\n",
      "\n",
      "50.000 0.0002069 49.973\n",
      "Max number of runs reached!\n",
      "\n",
      "220 2024--Mendelev-M-I--Ni-Al-Cr--LAMMPS--ipr1\n",
      "0 existing calculation records provided\n"
     ]
    },
    {
     "name": "stderr",
     "output_type": "stream",
     "text": [
      "100%|█████████████████████████████████████████████████████████████████████████████████████| 1/1 [00:00<00:00,  2.54it/s]"
     ]
    },
    {
     "name": "stdout",
     "output_type": "stream",
     "text": [
      "1 calculation combinations to check\n",
      "1 new records to prepare\n"
     ]
    },
    {
     "name": "stderr",
     "output_type": "stream",
     "text": [
      "\n",
      "preparing: 100%|##########################################################################| 1/1 [00:00<00:00, 23.95it/s]\n"
     ]
    },
    {
     "name": "stdout",
     "output_type": "stream",
     "text": [
      "0f5b071a-e9f6-49ea-aebd-e59aaf2a98fd\n",
      "sim calculated successfully\n",
      "\n",
      "4525.000 1.034e-05 4493.012\n",
      "0 existing calculation records provided\n"
     ]
    },
    {
     "name": "stderr",
     "output_type": "stream",
     "text": [
      "100%|█████████████████████████████████████████████████████████████████████████████████████| 1/1 [00:00<00:00,  4.14it/s]"
     ]
    },
    {
     "name": "stdout",
     "output_type": "stream",
     "text": [
      "1 calculation combinations to check\n",
      "1 new records to prepare\n"
     ]
    },
    {
     "name": "stderr",
     "output_type": "stream",
     "text": [
      "\n",
      "preparing: 100%|##########################################################################| 1/1 [00:00<00:00, 26.99it/s]\n"
     ]
    },
    {
     "name": "stdout",
     "output_type": "stream",
     "text": [
      "c9b230f8-b528-4056-8b74-f84c8f9ff609\n",
      "sim calculated successfully\n",
      "\n",
      "2287.500 0.2076 2160.745\n",
      "0 existing calculation records provided\n"
     ]
    },
    {
     "name": "stderr",
     "output_type": "stream",
     "text": [
      "100%|█████████████████████████████████████████████████████████████████████████████████████| 1/1 [00:00<00:00,  2.97it/s]"
     ]
    },
    {
     "name": "stdout",
     "output_type": "stream",
     "text": [
      "1 calculation combinations to check\n",
      "1 new records to prepare\n"
     ]
    },
    {
     "name": "stderr",
     "output_type": "stream",
     "text": [
      "\n",
      "preparing: 100%|##########################################################################| 1/1 [00:00<00:00, 29.89it/s]\n"
     ]
    },
    {
     "name": "stdout",
     "output_type": "stream",
     "text": [
      "a00b98d2-5ba7-45ec-89ad-11c06280cb1a\n",
      "sim calculated successfully\n",
      "\n",
      "1168.750 0.9999 1163.468\n",
      "0 existing calculation records provided\n"
     ]
    },
    {
     "name": "stderr",
     "output_type": "stream",
     "text": [
      "100%|█████████████████████████████████████████████████████████████████████████████████████| 1/1 [00:00<00:00,  4.35it/s]"
     ]
    },
    {
     "name": "stdout",
     "output_type": "stream",
     "text": [
      "1 calculation combinations to check\n",
      "1 new records to prepare\n"
     ]
    },
    {
     "name": "stderr",
     "output_type": "stream",
     "text": [
      "\n",
      "preparing: 100%|##########################################################################| 1/1 [00:00<00:00, 27.64it/s]\n"
     ]
    },
    {
     "name": "stdout",
     "output_type": "stream",
     "text": [
      "a6aa3374-c6e4-4e5b-9323-6293265ee811\n",
      "sim calculated successfully\n",
      "\n",
      "1728.125 0.9961 1722.879\n",
      "0 existing calculation records provided\n"
     ]
    },
    {
     "name": "stderr",
     "output_type": "stream",
     "text": [
      "100%|█████████████████████████████████████████████████████████████████████████████████████| 1/1 [00:00<00:00,  3.00it/s]"
     ]
    },
    {
     "name": "stdout",
     "output_type": "stream",
     "text": [
      "1 calculation combinations to check\n",
      "1 new records to prepare\n"
     ]
    },
    {
     "name": "stderr",
     "output_type": "stream",
     "text": [
      "\n",
      "preparing: 100%|##########################################################################| 1/1 [00:00<00:00, 23.43it/s]\n"
     ]
    },
    {
     "name": "stdout",
     "output_type": "stream",
     "text": [
      "f87faca6-515c-4a48-a4f0-f50a1141d8f9\n",
      "sim calculated successfully\n",
      "\n",
      "2007.812 0.9785 2003.929\n",
      "0 existing calculation records provided\n"
     ]
    },
    {
     "name": "stderr",
     "output_type": "stream",
     "text": [
      "100%|█████████████████████████████████████████████████████████████████████████████████████| 1/1 [00:00<00:00,  3.00it/s]"
     ]
    },
    {
     "name": "stdout",
     "output_type": "stream",
     "text": [
      "1 calculation combinations to check\n",
      "1 new records to prepare\n"
     ]
    },
    {
     "name": "stderr",
     "output_type": "stream",
     "text": [
      "\n",
      "preparing: 100%|##########################################################################| 1/1 [00:00<00:00, 27.61it/s]\n"
     ]
    },
    {
     "name": "stdout",
     "output_type": "stream",
     "text": [
      "039885f5-3cc7-4455-bd6c-d93e7dbdd496\n",
      "sim calculated successfully\n",
      "\n",
      "2147.656 0.4478 2253.095\n",
      "0 existing calculation records provided\n"
     ]
    },
    {
     "name": "stderr",
     "output_type": "stream",
     "text": [
      "100%|█████████████████████████████████████████████████████████████████████████████████████| 1/1 [00:00<00:00,  4.01it/s]"
     ]
    },
    {
     "name": "stdout",
     "output_type": "stream",
     "text": [
      "1 calculation combinations to check\n",
      "1 new records to prepare\n"
     ]
    },
    {
     "name": "stderr",
     "output_type": "stream",
     "text": [
      "\n",
      "preparing: 100%|##########################################################################| 1/1 [00:00<00:00, 26.53it/s]\n"
     ]
    },
    {
     "name": "stdout",
     "output_type": "stream",
     "text": [
      "f9d6c24a-1752-405e-b3de-ee92bfb87c8e\n",
      "sim calculated successfully\n",
      "\n",
      "2147.656 0.4513 2235.655\n",
      "0 existing calculation records provided\n"
     ]
    },
    {
     "name": "stderr",
     "output_type": "stream",
     "text": [
      "100%|█████████████████████████████████████████████████████████████████████████████████████| 1/1 [00:00<00:00,  3.01it/s]"
     ]
    },
    {
     "name": "stdout",
     "output_type": "stream",
     "text": [
      "1 calculation combinations to check\n",
      "1 new records to prepare\n"
     ]
    },
    {
     "name": "stderr",
     "output_type": "stream",
     "text": [
      "\n",
      "preparing: 100%|##########################################################################| 1/1 [00:00<00:00, 29.91it/s]\n"
     ]
    },
    {
     "name": "stdout",
     "output_type": "stream",
     "text": [
      "a35823ee-3f2a-498c-b0c7-87ae26592a76\n",
      "sim calculated successfully\n",
      "\n",
      "2147.656 0.4519 2253.907\n",
      "0 existing calculation records provided\n"
     ]
    },
    {
     "name": "stderr",
     "output_type": "stream",
     "text": [
      "100%|█████████████████████████████████████████████████████████████████████████████████████| 1/1 [00:00<00:00,  2.85it/s]"
     ]
    },
    {
     "name": "stdout",
     "output_type": "stream",
     "text": [
      "1 calculation combinations to check\n",
      "1 new records to prepare\n"
     ]
    },
    {
     "name": "stderr",
     "output_type": "stream",
     "text": [
      "\n",
      "preparing: 100%|##########################################################################| 1/1 [00:00<00:00, 28.19it/s]\n"
     ]
    },
    {
     "name": "stdout",
     "output_type": "stream",
     "text": [
      "24990ba5-c297-4c20-93b4-cf14451a74a2\n",
      "sim calculated successfully\n",
      "\n",
      "2147.656 0.4545 2259.621\n",
      "0 existing calculation records provided\n"
     ]
    },
    {
     "name": "stderr",
     "output_type": "stream",
     "text": [
      "100%|█████████████████████████████████████████████████████████████████████████████████████| 1/1 [00:00<00:00,  4.39it/s]"
     ]
    },
    {
     "name": "stdout",
     "output_type": "stream",
     "text": [
      "1 calculation combinations to check\n",
      "1 new records to prepare\n"
     ]
    },
    {
     "name": "stderr",
     "output_type": "stream",
     "text": [
      "\n",
      "preparing: 100%|##########################################################################| 1/1 [00:00<00:00, 27.37it/s]\n"
     ]
    },
    {
     "name": "stdout",
     "output_type": "stream",
     "text": [
      "22082ed8-c9ad-43a5-b98e-51434f8dc90a\n",
      "sim calculated successfully\n",
      "\n",
      "2147.656 0.4505 2249.260\n",
      "0 existing calculation records provided\n"
     ]
    },
    {
     "name": "stderr",
     "output_type": "stream",
     "text": [
      "100%|█████████████████████████████████████████████████████████████████████████████████████| 1/1 [00:00<00:00,  3.32it/s]"
     ]
    },
    {
     "name": "stdout",
     "output_type": "stream",
     "text": [
      "1 calculation combinations to check\n",
      "1 new records to prepare\n"
     ]
    },
    {
     "name": "stderr",
     "output_type": "stream",
     "text": [
      "\n",
      "preparing: 100%|##########################################################################| 1/1 [00:00<00:00, 14.55it/s]\n"
     ]
    },
    {
     "name": "stdout",
     "output_type": "stream",
     "text": [
      "e77f0749-8c1d-491c-81a0-a4222fdf0282\n",
      "sim calculated successfully\n",
      "\n",
      "2147.656 0.453 2238.373\n",
      "0 existing calculation records provided\n"
     ]
    },
    {
     "name": "stderr",
     "output_type": "stream",
     "text": [
      "100%|█████████████████████████████████████████████████████████████████████████████████████| 1/1 [00:00<00:00,  2.90it/s]"
     ]
    },
    {
     "name": "stdout",
     "output_type": "stream",
     "text": [
      "1 calculation combinations to check\n",
      "1 new records to prepare\n"
     ]
    },
    {
     "name": "stderr",
     "output_type": "stream",
     "text": [
      "\n",
      "preparing: 100%|##########################################################################| 1/1 [00:00<00:00, 24.81it/s]\n"
     ]
    },
    {
     "name": "stdout",
     "output_type": "stream",
     "text": [
      "faf336a3-48f9-4d0e-b0c3-981879f583ad\n",
      "sim calculated successfully\n",
      "\n",
      "2147.656 0.4587 2244.096\n",
      "0 existing calculation records provided\n"
     ]
    },
    {
     "name": "stderr",
     "output_type": "stream",
     "text": [
      "100%|█████████████████████████████████████████████████████████████████████████████████████| 1/1 [00:00<00:00,  2.96it/s]"
     ]
    },
    {
     "name": "stdout",
     "output_type": "stream",
     "text": [
      "1 calculation combinations to check\n",
      "1 new records to prepare\n"
     ]
    },
    {
     "name": "stderr",
     "output_type": "stream",
     "text": [
      "\n",
      "preparing: 100%|##########################################################################| 1/1 [00:00<00:00, 28.41it/s]\n"
     ]
    },
    {
     "name": "stdout",
     "output_type": "stream",
     "text": [
      "e70a096e-0c62-479c-9557-12d2f232dae5\n",
      "sim calculated successfully\n",
      "\n",
      "2147.656 0.4562 2243.323\n",
      "0 existing calculation records provided\n"
     ]
    },
    {
     "name": "stderr",
     "output_type": "stream",
     "text": [
      "100%|█████████████████████████████████████████████████████████████████████████████████████| 1/1 [00:00<00:00,  2.64it/s]"
     ]
    },
    {
     "name": "stdout",
     "output_type": "stream",
     "text": [
      "1 calculation combinations to check\n",
      "1 new records to prepare\n"
     ]
    },
    {
     "name": "stderr",
     "output_type": "stream",
     "text": [
      "\n",
      "preparing: 100%|##########################################################################| 1/1 [00:00<00:00, 27.70it/s]\n"
     ]
    },
    {
     "name": "stdout",
     "output_type": "stream",
     "text": [
      "1f637303-8188-45c3-a25c-1a1fccb886d2\n",
      "sim calculated successfully\n",
      "\n",
      "2147.656 0.4549 2245.524\n",
      "0 existing calculation records provided\n"
     ]
    },
    {
     "name": "stderr",
     "output_type": "stream",
     "text": [
      "100%|█████████████████████████████████████████████████████████████████████████████████████| 1/1 [00:00<00:00,  4.48it/s]"
     ]
    },
    {
     "name": "stdout",
     "output_type": "stream",
     "text": [
      "1 calculation combinations to check\n",
      "1 new records to prepare\n"
     ]
    },
    {
     "name": "stderr",
     "output_type": "stream",
     "text": [
      "\n",
      "preparing: 100%|##########################################################################| 1/1 [00:00<00:00, 20.80it/s]\n"
     ]
    },
    {
     "name": "stdout",
     "output_type": "stream",
     "text": [
      "fc66697b-5bb5-47db-b53d-9611cbf0105c\n",
      "sim calculated successfully\n",
      "\n",
      "2147.656 0.4566 2239.478\n",
      "\n",
      "219 2023--Mason-D-R--W-H--LAMMPS--ipr1\n",
      "0 existing calculation records provided\n"
     ]
    },
    {
     "name": "stderr",
     "output_type": "stream",
     "text": [
      "100%|█████████████████████████████████████████████████████████████████████████████████████| 1/1 [00:00<00:00,  4.14it/s]"
     ]
    },
    {
     "name": "stdout",
     "output_type": "stream",
     "text": [
      "1 calculation combinations to check\n",
      "1 new records to prepare\n"
     ]
    },
    {
     "name": "stderr",
     "output_type": "stream",
     "text": [
      "\n",
      "preparing: 100%|##########################################################################| 1/1 [00:00<00:00, 41.10it/s]\n"
     ]
    },
    {
     "name": "stdout",
     "output_type": "stream",
     "text": [
      "a8e21d35-3307-486c-a445-d24a3c4910cf\n",
      "sim calculated successfully\n",
      "\n",
      "4525.000 0.8115 4839.673\n",
      "0 existing calculation records provided\n"
     ]
    },
    {
     "name": "stderr",
     "output_type": "stream",
     "text": [
      "100%|█████████████████████████████████████████████████████████████████████████████████████| 1/1 [00:00<00:00,  2.40it/s]"
     ]
    },
    {
     "name": "stdout",
     "output_type": "stream",
     "text": [
      "1 calculation combinations to check\n",
      "1 new records to prepare\n"
     ]
    },
    {
     "name": "stderr",
     "output_type": "stream",
     "text": [
      "\n",
      "preparing: 100%|##########################################################################| 1/1 [00:00<00:00, 59.94it/s]\n"
     ]
    },
    {
     "name": "stdout",
     "output_type": "stream",
     "text": [
      "2f27eeb0-fcaf-4e90-9326-163cf03c2d14\n",
      "sim calculated successfully\n",
      "\n",
      "6762.500 6.207e-05 6688.344\n",
      "0 existing calculation records provided\n"
     ]
    },
    {
     "name": "stderr",
     "output_type": "stream",
     "text": [
      "100%|█████████████████████████████████████████████████████████████████████████████████████| 1/1 [00:00<00:00,  3.02it/s]"
     ]
    },
    {
     "name": "stdout",
     "output_type": "stream",
     "text": [
      "1 calculation combinations to check\n",
      "1 new records to prepare\n"
     ]
    },
    {
     "name": "stderr",
     "output_type": "stream",
     "text": [
      "\n",
      "preparing: 100%|##########################################################################| 1/1 [00:00<00:00, 48.21it/s]\n"
     ]
    },
    {
     "name": "stdout",
     "output_type": "stream",
     "text": [
      "59b83cea-2ed5-44ea-a407-6c8f3025a5b3\n",
      "sim calculated successfully\n",
      "\n",
      "5643.750 0.0005276 5157.839\n",
      "0 existing calculation records provided\n"
     ]
    },
    {
     "name": "stderr",
     "output_type": "stream",
     "text": [
      "100%|█████████████████████████████████████████████████████████████████████████████████████| 1/1 [00:00<00:00,  2.35it/s]"
     ]
    },
    {
     "name": "stdout",
     "output_type": "stream",
     "text": [
      "1 calculation combinations to check\n",
      "1 new records to prepare\n"
     ]
    },
    {
     "name": "stderr",
     "output_type": "stream",
     "text": [
      "\n",
      "preparing: 100%|##########################################################################| 1/1 [00:00<00:00, 54.41it/s]\n"
     ]
    },
    {
     "name": "stdout",
     "output_type": "stream",
     "text": [
      "1f1039c4-1d76-4a56-b2bc-6c8cfc08f7f9\n",
      "sim calculated successfully\n",
      "\n",
      "5084.375 0.3065 4977.751\n",
      "0 existing calculation records provided\n"
     ]
    },
    {
     "name": "stderr",
     "output_type": "stream",
     "text": [
      "100%|█████████████████████████████████████████████████████████████████████████████████████| 1/1 [00:00<00:00,  2.66it/s]"
     ]
    },
    {
     "name": "stdout",
     "output_type": "stream",
     "text": [
      "1 calculation combinations to check\n",
      "1 new records to prepare\n"
     ]
    },
    {
     "name": "stderr",
     "output_type": "stream",
     "text": [
      "\n",
      "preparing: 100%|##########################################################################| 1/1 [00:00<00:00, 57.93it/s]\n"
     ]
    },
    {
     "name": "stdout",
     "output_type": "stream",
     "text": [
      "4def9c8d-b9ef-4fed-8391-98e7cc65808a\n",
      "sim calculated successfully\n",
      "\n",
      "4804.688 0.7121 5182.825\n",
      "0 existing calculation records provided\n"
     ]
    },
    {
     "name": "stderr",
     "output_type": "stream",
     "text": [
      "100%|█████████████████████████████████████████████████████████████████████████████████████| 1/1 [00:00<00:00,  2.60it/s]"
     ]
    },
    {
     "name": "stdout",
     "output_type": "stream",
     "text": [
      "1 calculation combinations to check\n",
      "1 new records to prepare\n"
     ]
    },
    {
     "name": "stderr",
     "output_type": "stream",
     "text": [
      "\n",
      "preparing: 100%|##########################################################################| 1/1 [00:00<00:00, 61.24it/s]\n"
     ]
    },
    {
     "name": "stdout",
     "output_type": "stream",
     "text": [
      "ebef739f-5ee1-4ca9-a8f2-fe3983296141\n",
      "sim calculated successfully\n",
      "\n",
      "5224.219 0.2198 5000.452\n",
      "0 existing calculation records provided\n"
     ]
    },
    {
     "name": "stderr",
     "output_type": "stream",
     "text": [
      "100%|█████████████████████████████████████████████████████████████████████████████████████| 1/1 [00:00<00:00,  4.38it/s]"
     ]
    },
    {
     "name": "stdout",
     "output_type": "stream",
     "text": [
      "1 calculation combinations to check\n",
      "1 new records to prepare\n"
     ]
    },
    {
     "name": "stderr",
     "output_type": "stream",
     "text": [
      "\n",
      "preparing: 100%|##########################################################################| 1/1 [00:00<00:00, 25.36it/s]\n"
     ]
    },
    {
     "name": "stdout",
     "output_type": "stream",
     "text": [
      "d98e94ed-5d64-496e-9fe1-b0543ab3964b\n",
      "sim calculated successfully\n",
      "\n",
      "4874.609 0.6767 5269.489\n",
      "0 existing calculation records provided\n"
     ]
    },
    {
     "name": "stderr",
     "output_type": "stream",
     "text": [
      "100%|█████████████████████████████████████████████████████████████████████████████████████| 1/1 [00:00<00:00,  4.19it/s]"
     ]
    },
    {
     "name": "stdout",
     "output_type": "stream",
     "text": [
      "1 calculation combinations to check\n",
      "1 new records to prepare\n"
     ]
    },
    {
     "name": "stderr",
     "output_type": "stream",
     "text": [
      "\n",
      "preparing: 100%|##########################################################################| 1/1 [00:00<00:00, 32.38it/s]\n"
     ]
    },
    {
     "name": "stdout",
     "output_type": "stream",
     "text": [
      "a88b3285-057c-411c-aad2-ef7086e63c68\n",
      "sim calculated successfully\n",
      "\n",
      "5049.414 0.3657 5012.178\n",
      "0 existing calculation records provided\n"
     ]
    },
    {
     "name": "stderr",
     "output_type": "stream",
     "text": [
      "100%|█████████████████████████████████████████████████████████████████████████████████████| 1/1 [00:00<00:00,  4.36it/s]"
     ]
    },
    {
     "name": "stdout",
     "output_type": "stream",
     "text": [
      "1 calculation combinations to check\n",
      "1 new records to prepare\n"
     ]
    },
    {
     "name": "stderr",
     "output_type": "stream",
     "text": [
      "\n",
      "preparing: 100%|##########################################################################| 1/1 [00:00<00:00, 61.08it/s]\n"
     ]
    },
    {
     "name": "stdout",
     "output_type": "stream",
     "text": [
      "1dafcb3b-89bf-4072-aca8-6602ee4aaf3e\n",
      "sim calculated successfully\n",
      "\n",
      "4787.207 0.7016 5198.954\n",
      "0 existing calculation records provided\n"
     ]
    },
    {
     "name": "stderr",
     "output_type": "stream",
     "text": [
      "100%|█████████████████████████████████████████████████████████████████████████████████████| 1/1 [00:00<00:00,  4.22it/s]"
     ]
    },
    {
     "name": "stdout",
     "output_type": "stream",
     "text": [
      "1 calculation combinations to check\n",
      "1 new records to prepare\n"
     ]
    },
    {
     "name": "stderr",
     "output_type": "stream",
     "text": [
      "\n",
      "preparing: 100%|##########################################################################| 1/1 [00:00<00:00, 59.73it/s]\n"
     ]
    },
    {
     "name": "stdout",
     "output_type": "stream",
     "text": [
      "41afc4cd-7f8c-482b-8b9f-c78f5ae301e7\n",
      "sim calculated successfully\n",
      "\n",
      "5005.713 0.3907 4980.068\n",
      "0 existing calculation records provided\n"
     ]
    },
    {
     "name": "stderr",
     "output_type": "stream",
     "text": [
      "100%|█████████████████████████████████████████████████████████████████████████████████████| 1/1 [00:00<00:00,  4.44it/s]"
     ]
    },
    {
     "name": "stdout",
     "output_type": "stream",
     "text": [
      "1 calculation combinations to check\n",
      "1 new records to prepare\n"
     ]
    },
    {
     "name": "stderr",
     "output_type": "stream",
     "text": [
      "\n",
      "preparing: 100%|##########################################################################| 1/1 [00:00<00:00, 37.61it/s]\n"
     ]
    },
    {
     "name": "stdout",
     "output_type": "stream",
     "text": [
      "5f3e6624-e3b9-4d80-b642-a65bfa8f5e5d\n",
      "sim calculated successfully\n",
      "\n",
      "4765.356 0.7068 5160.467\n",
      "0 existing calculation records provided\n"
     ]
    },
    {
     "name": "stderr",
     "output_type": "stream",
     "text": [
      "100%|█████████████████████████████████████████████████████████████████████████████████████| 1/1 [00:00<00:00,  4.30it/s]"
     ]
    },
    {
     "name": "stdout",
     "output_type": "stream",
     "text": [
      "1 calculation combinations to check\n",
      "1 new records to prepare\n"
     ]
    },
    {
     "name": "stderr",
     "output_type": "stream",
     "text": [
      "\n",
      "preparing: 100%|##########################################################################| 1/1 [00:00<00:00, 66.88it/s]\n"
     ]
    },
    {
     "name": "stdout",
     "output_type": "stream",
     "text": [
      "ac559414-1825-4c78-807a-52796fce24fe\n",
      "sim calculated successfully\n",
      "\n",
      "4994.788 0.4432 5031.259\n",
      "0 existing calculation records provided\n"
     ]
    },
    {
     "name": "stderr",
     "output_type": "stream",
     "text": [
      "100%|█████████████████████████████████████████████████████████████████████████████████████| 1/1 [00:00<00:00,  2.66it/s]"
     ]
    },
    {
     "name": "stdout",
     "output_type": "stream",
     "text": [
      "1 calculation combinations to check\n",
      "1 new records to prepare\n"
     ]
    },
    {
     "name": "stderr",
     "output_type": "stream",
     "text": [
      "\n",
      "preparing: 100%|##########################################################################| 1/1 [00:00<00:00, 59.06it/s]\n"
     ]
    },
    {
     "name": "stdout",
     "output_type": "stream",
     "text": [
      "06dac9db-8f0c-49c0-b4e7-2f187d790e3d\n",
      "sim calculated successfully\n",
      "\n",
      "4994.788 0.3865 4994.521\n",
      "0 existing calculation records provided\n"
     ]
    },
    {
     "name": "stderr",
     "output_type": "stream",
     "text": [
      "100%|█████████████████████████████████████████████████████████████████████████████████████| 1/1 [00:00<00:00,  2.87it/s]"
     ]
    },
    {
     "name": "stdout",
     "output_type": "stream",
     "text": [
      "1 calculation combinations to check\n",
      "1 new records to prepare\n"
     ]
    },
    {
     "name": "stderr",
     "output_type": "stream",
     "text": [
      "\n",
      "preparing: 100%|##########################################################################| 1/1 [00:00<00:00, 52.98it/s]\n"
     ]
    },
    {
     "name": "stdout",
     "output_type": "stream",
     "text": [
      "8f08de0e-713a-409c-a1d1-be26c2e6d2f1\n",
      "sim calculated successfully\n",
      "\n",
      "4759.894 0.7276 5162.974\n",
      "\n",
      "218 2023--Mason-D-R--W-H--LAMMPS--ipr1\n",
      "0 existing calculation records provided\n"
     ]
    },
    {
     "name": "stderr",
     "output_type": "stream",
     "text": [
      "100%|█████████████████████████████████████████████████████████████████████████████████████| 1/1 [00:00<00:00,  2.73it/s]"
     ]
    },
    {
     "name": "stdout",
     "output_type": "stream",
     "text": [
      "1 calculation combinations to check\n",
      "1 new records to prepare\n"
     ]
    },
    {
     "name": "stderr",
     "output_type": "stream",
     "text": [
      "\n",
      "preparing: 100%|##########################################################################| 1/1 [00:00<00:00, 64.73it/s]\n"
     ]
    },
    {
     "name": "stdout",
     "output_type": "stream",
     "text": [
      "43a7fc63-6ea5-43ef-8596-1c2ec1bf0ba4\n",
      "error: \n",
      "0 existing calculation records provided\n"
     ]
    },
    {
     "name": "stderr",
     "output_type": "stream",
     "text": [
      "100%|█████████████████████████████████████████████████████████████████████████████████████| 1/1 [00:00<00:00,  2.66it/s]"
     ]
    },
    {
     "name": "stdout",
     "output_type": "stream",
     "text": [
      "1 calculation combinations to check\n",
      "1 new records to prepare\n"
     ]
    },
    {
     "name": "stderr",
     "output_type": "stream",
     "text": [
      "\n",
      "preparing: 100%|##########################################################################| 1/1 [00:00<00:00, 61.20it/s]\n"
     ]
    },
    {
     "name": "stdout",
     "output_type": "stream",
     "text": [
      "b3184750-e049-4cc2-9ce6-e5ae6eac9fbb\n",
      "error: \n",
      "0 existing calculation records provided\n"
     ]
    },
    {
     "name": "stderr",
     "output_type": "stream",
     "text": [
      "100%|█████████████████████████████████████████████████████████████████████████████████████| 1/1 [00:00<00:00,  4.77it/s]"
     ]
    },
    {
     "name": "stdout",
     "output_type": "stream",
     "text": [
      "1 calculation combinations to check\n",
      "1 new records to prepare\n"
     ]
    },
    {
     "name": "stderr",
     "output_type": "stream",
     "text": [
      "\n",
      "preparing: 100%|##########################################################################| 1/1 [00:00<00:00, 42.54it/s]\n"
     ]
    },
    {
     "name": "stdout",
     "output_type": "stream",
     "text": [
      "275a16ba-b602-4397-a840-00e52f79c0e9\n",
      "error: \n",
      "0 existing calculation records provided\n"
     ]
    },
    {
     "name": "stderr",
     "output_type": "stream",
     "text": [
      "100%|█████████████████████████████████████████████████████████████████████████████████████| 1/1 [00:00<00:00,  2.59it/s]"
     ]
    },
    {
     "name": "stdout",
     "output_type": "stream",
     "text": [
      "1 calculation combinations to check\n",
      "1 new records to prepare\n"
     ]
    },
    {
     "name": "stderr",
     "output_type": "stream",
     "text": [
      "\n",
      "preparing: 100%|##########################################################################| 1/1 [00:00<00:00, 40.34it/s]\n"
     ]
    },
    {
     "name": "stdout",
     "output_type": "stream",
     "text": [
      "15d6d104-4142-40ed-9f70-dbe1681c3723\n",
      "error: \n",
      "0 existing calculation records provided\n"
     ]
    },
    {
     "name": "stderr",
     "output_type": "stream",
     "text": [
      "100%|█████████████████████████████████████████████████████████████████████████████████████| 1/1 [00:00<00:00,  2.76it/s]"
     ]
    },
    {
     "name": "stdout",
     "output_type": "stream",
     "text": [
      "1 calculation combinations to check\n",
      "1 new records to prepare\n"
     ]
    },
    {
     "name": "stderr",
     "output_type": "stream",
     "text": [
      "\n",
      "preparing: 100%|##########################################################################| 1/1 [00:00<00:00, 38.17it/s]\n"
     ]
    },
    {
     "name": "stdout",
     "output_type": "stream",
     "text": [
      "7d0e109a-8973-4e74-907e-5e219d66b530\n",
      "error: \n",
      "0 existing calculation records provided\n"
     ]
    },
    {
     "name": "stderr",
     "output_type": "stream",
     "text": [
      "100%|█████████████████████████████████████████████████████████████████████████████████████| 1/1 [00:00<00:00,  2.95it/s]"
     ]
    },
    {
     "name": "stdout",
     "output_type": "stream",
     "text": [
      "1 calculation combinations to check\n",
      "1 new records to prepare\n"
     ]
    },
    {
     "name": "stderr",
     "output_type": "stream",
     "text": [
      "\n",
      "preparing: 100%|##########################################################################| 1/1 [00:00<00:00, 36.37it/s]\n"
     ]
    },
    {
     "name": "stdout",
     "output_type": "stream",
     "text": [
      "ab934a07-127b-41f7-9793-efd4a22beadc\n",
      "error: \n",
      "0 existing calculation records provided\n"
     ]
    },
    {
     "name": "stderr",
     "output_type": "stream",
     "text": [
      "100%|█████████████████████████████████████████████████████████████████████████████████████| 1/1 [00:00<00:00,  2.86it/s]"
     ]
    },
    {
     "name": "stdout",
     "output_type": "stream",
     "text": [
      "1 calculation combinations to check\n",
      "1 new records to prepare\n"
     ]
    },
    {
     "name": "stderr",
     "output_type": "stream",
     "text": [
      "\n",
      "preparing: 100%|##########################################################################| 1/1 [00:00<00:00, 62.82it/s]\n"
     ]
    },
    {
     "name": "stdout",
     "output_type": "stream",
     "text": [
      "8499fabd-e547-4a8d-ae58-56fdb708714f\n",
      "error: \n",
      "0 existing calculation records provided\n"
     ]
    },
    {
     "name": "stderr",
     "output_type": "stream",
     "text": [
      "100%|█████████████████████████████████████████████████████████████████████████████████████| 1/1 [00:00<00:00,  2.60it/s]"
     ]
    },
    {
     "name": "stdout",
     "output_type": "stream",
     "text": [
      "1 calculation combinations to check\n",
      "1 new records to prepare\n"
     ]
    },
    {
     "name": "stderr",
     "output_type": "stream",
     "text": [
      "\n",
      "preparing: 100%|##########################################################################| 1/1 [00:00<00:00, 56.07it/s]\n"
     ]
    },
    {
     "name": "stdout",
     "output_type": "stream",
     "text": [
      "5ce89f06-6f69-4e7e-a11e-3c6489d104fc\n",
      "error: \n",
      "0 existing calculation records provided\n"
     ]
    },
    {
     "name": "stderr",
     "output_type": "stream",
     "text": [
      "100%|█████████████████████████████████████████████████████████████████████████████████████| 1/1 [00:00<00:00,  2.62it/s]"
     ]
    },
    {
     "name": "stdout",
     "output_type": "stream",
     "text": [
      "1 calculation combinations to check\n",
      "1 new records to prepare\n"
     ]
    },
    {
     "name": "stderr",
     "output_type": "stream",
     "text": [
      "\n",
      "preparing: 100%|##########################################################################| 1/1 [00:00<00:00, 59.14it/s]\n"
     ]
    },
    {
     "name": "stdout",
     "output_type": "stream",
     "text": [
      "0cb1bf6f-30d9-4e7e-aa44-2fed6abc67aa\n",
      "error: \n",
      "0 existing calculation records provided\n"
     ]
    },
    {
     "name": "stderr",
     "output_type": "stream",
     "text": [
      "100%|█████████████████████████████████████████████████████████████████████████████████████| 1/1 [00:00<00:00,  2.49it/s]"
     ]
    },
    {
     "name": "stdout",
     "output_type": "stream",
     "text": [
      "1 calculation combinations to check\n",
      "1 new records to prepare\n"
     ]
    },
    {
     "name": "stderr",
     "output_type": "stream",
     "text": [
      "\n",
      "preparing: 100%|##########################################################################| 1/1 [00:00<00:00, 53.28it/s]\n"
     ]
    },
    {
     "name": "stdout",
     "output_type": "stream",
     "text": [
      "af736130-c8bb-4846-bbd4-2470d8c91641\n",
      "error: \n",
      "0 existing calculation records provided\n"
     ]
    },
    {
     "name": "stderr",
     "output_type": "stream",
     "text": [
      "100%|█████████████████████████████████████████████████████████████████████████████████████| 1/1 [00:00<00:00,  2.36it/s]"
     ]
    },
    {
     "name": "stdout",
     "output_type": "stream",
     "text": [
      "1 calculation combinations to check\n",
      "1 new records to prepare\n"
     ]
    },
    {
     "name": "stderr",
     "output_type": "stream",
     "text": [
      "\n",
      "preparing: 100%|##########################################################################| 1/1 [00:00<00:00, 59.08it/s]\n"
     ]
    },
    {
     "name": "stdout",
     "output_type": "stream",
     "text": [
      "0d383bf1-e2f5-4ac3-a9ad-60de816fa9ab\n",
      "error: \n",
      "0 existing calculation records provided\n"
     ]
    },
    {
     "name": "stderr",
     "output_type": "stream",
     "text": [
      "100%|█████████████████████████████████████████████████████████████████████████████████████| 1/1 [00:00<00:00,  2.31it/s]"
     ]
    },
    {
     "name": "stdout",
     "output_type": "stream",
     "text": [
      "1 calculation combinations to check\n",
      "1 new records to prepare\n"
     ]
    },
    {
     "name": "stderr",
     "output_type": "stream",
     "text": [
      "\n",
      "preparing: 100%|##########################################################################| 1/1 [00:00<00:00, 57.95it/s]\n"
     ]
    },
    {
     "name": "stdout",
     "output_type": "stream",
     "text": [
      "45b94484-b91f-48b9-bc42-f4fc8f94d837\n",
      "error: \n",
      "0 existing calculation records provided\n"
     ]
    },
    {
     "name": "stderr",
     "output_type": "stream",
     "text": [
      "100%|█████████████████████████████████████████████████████████████████████████████████████| 1/1 [00:00<00:00,  2.24it/s]"
     ]
    },
    {
     "name": "stdout",
     "output_type": "stream",
     "text": [
      "1 calculation combinations to check\n",
      "1 new records to prepare\n"
     ]
    },
    {
     "name": "stderr",
     "output_type": "stream",
     "text": [
      "\n",
      "preparing: 100%|##########################################################################| 1/1 [00:00<00:00, 52.20it/s]\n"
     ]
    },
    {
     "name": "stdout",
     "output_type": "stream",
     "text": [
      "04b87370-363f-4003-8401-d05adc05bb4c\n",
      "error: \n",
      "0 existing calculation records provided\n"
     ]
    },
    {
     "name": "stderr",
     "output_type": "stream",
     "text": [
      "100%|█████████████████████████████████████████████████████████████████████████████████████| 1/1 [00:00<00:00,  2.54it/s]"
     ]
    },
    {
     "name": "stdout",
     "output_type": "stream",
     "text": [
      "1 calculation combinations to check\n",
      "1 new records to prepare\n"
     ]
    },
    {
     "name": "stderr",
     "output_type": "stream",
     "text": [
      "\n",
      "preparing: 100%|##########################################################################| 1/1 [00:00<00:00, 32.72it/s]\n"
     ]
    },
    {
     "name": "stdout",
     "output_type": "stream",
     "text": [
      "8e3a01f7-1f3e-4835-a59e-a29e61a404d7\n",
      "error: \n",
      "0 existing calculation records provided\n"
     ]
    },
    {
     "name": "stderr",
     "output_type": "stream",
     "text": [
      "100%|█████████████████████████████████████████████████████████████████████████████████████| 1/1 [00:00<00:00,  4.38it/s]"
     ]
    },
    {
     "name": "stdout",
     "output_type": "stream",
     "text": [
      "1 calculation combinations to check\n",
      "1 new records to prepare\n"
     ]
    },
    {
     "name": "stderr",
     "output_type": "stream",
     "text": [
      "\n",
      "preparing: 100%|##########################################################################| 1/1 [00:00<00:00, 36.76it/s]\n"
     ]
    },
    {
     "name": "stdout",
     "output_type": "stream",
     "text": [
      "6b076584-2dcc-4e4c-a18c-ef525dae2ab1\n",
      "error: \n",
      "0 existing calculation records provided\n"
     ]
    },
    {
     "name": "stderr",
     "output_type": "stream",
     "text": [
      "100%|█████████████████████████████████████████████████████████████████████████████████████| 1/1 [00:00<00:00,  4.44it/s]"
     ]
    },
    {
     "name": "stdout",
     "output_type": "stream",
     "text": [
      "1 calculation combinations to check\n",
      "1 new records to prepare\n"
     ]
    },
    {
     "name": "stderr",
     "output_type": "stream",
     "text": [
      "\n",
      "preparing: 100%|##########################################################################| 1/1 [00:00<00:00, 59.84it/s]\n"
     ]
    },
    {
     "name": "stdout",
     "output_type": "stream",
     "text": [
      "100dc6fc-ad6c-4ceb-b814-ca3bbb08853e\n",
      "error: \n",
      "0 existing calculation records provided\n"
     ]
    },
    {
     "name": "stderr",
     "output_type": "stream",
     "text": [
      "100%|█████████████████████████████████████████████████████████████████████████████████████| 1/1 [00:00<00:00,  4.54it/s]"
     ]
    },
    {
     "name": "stdout",
     "output_type": "stream",
     "text": [
      "1 calculation combinations to check\n",
      "1 new records to prepare\n"
     ]
    },
    {
     "name": "stderr",
     "output_type": "stream",
     "text": [
      "\n",
      "preparing: 100%|##########################################################################| 1/1 [00:00<00:00, 40.27it/s]\n"
     ]
    },
    {
     "name": "stdout",
     "output_type": "stream",
     "text": [
      "8526f47f-47c3-44bf-9dc4-632edf5284a6\n",
      "error: \n",
      "0 existing calculation records provided\n"
     ]
    },
    {
     "name": "stderr",
     "output_type": "stream",
     "text": [
      "100%|█████████████████████████████████████████████████████████████████████████████████████| 1/1 [00:00<00:00,  4.48it/s]"
     ]
    },
    {
     "name": "stdout",
     "output_type": "stream",
     "text": [
      "1 calculation combinations to check\n",
      "1 new records to prepare\n"
     ]
    },
    {
     "name": "stderr",
     "output_type": "stream",
     "text": [
      "\n",
      "preparing: 100%|##########################################################################| 1/1 [00:00<00:00, 55.85it/s]\n"
     ]
    },
    {
     "name": "stdout",
     "output_type": "stream",
     "text": [
      "dfa39e2d-a9b6-43d4-8fd0-5ed2f6cda741\n",
      "error: \n",
      "0 existing calculation records provided\n"
     ]
    },
    {
     "name": "stderr",
     "output_type": "stream",
     "text": [
      "100%|█████████████████████████████████████████████████████████████████████████████████████| 1/1 [00:00<00:00,  4.38it/s]"
     ]
    },
    {
     "name": "stdout",
     "output_type": "stream",
     "text": [
      "1 calculation combinations to check\n",
      "1 new records to prepare\n"
     ]
    },
    {
     "name": "stderr",
     "output_type": "stream",
     "text": [
      "\n",
      "preparing: 100%|##########################################################################| 1/1 [00:00<00:00, 58.06it/s]\n"
     ]
    },
    {
     "name": "stdout",
     "output_type": "stream",
     "text": [
      "d7e20919-79be-4bab-9377-94127f7a33b0\n",
      "error: \n",
      "0 existing calculation records provided\n"
     ]
    },
    {
     "name": "stderr",
     "output_type": "stream",
     "text": [
      "100%|█████████████████████████████████████████████████████████████████████████████████████| 1/1 [00:00<00:00,  4.52it/s]"
     ]
    },
    {
     "name": "stdout",
     "output_type": "stream",
     "text": [
      "1 calculation combinations to check\n",
      "1 new records to prepare\n"
     ]
    },
    {
     "name": "stderr",
     "output_type": "stream",
     "text": [
      "\n",
      "preparing: 100%|##########################################################################| 1/1 [00:00<00:00, 60.14it/s]\n"
     ]
    },
    {
     "name": "stdout",
     "output_type": "stream",
     "text": [
      "f08dd70b-12a8-4bce-81ac-c01d4146e3c5\n",
      "error: \n",
      "0 existing calculation records provided\n"
     ]
    },
    {
     "name": "stderr",
     "output_type": "stream",
     "text": [
      "100%|█████████████████████████████████████████████████████████████████████████████████████| 1/1 [00:00<00:00,  4.52it/s]"
     ]
    },
    {
     "name": "stdout",
     "output_type": "stream",
     "text": [
      "1 calculation combinations to check\n",
      "1 new records to prepare\n"
     ]
    },
    {
     "name": "stderr",
     "output_type": "stream",
     "text": [
      "\n",
      "preparing: 100%|##########################################################################| 1/1 [00:00<00:00, 59.53it/s]\n"
     ]
    },
    {
     "name": "stdout",
     "output_type": "stream",
     "text": [
      "a2e381e8-907c-439a-9d66-80216595afad\n",
      "error: \n",
      "0 existing calculation records provided\n"
     ]
    },
    {
     "name": "stderr",
     "output_type": "stream",
     "text": [
      "100%|█████████████████████████████████████████████████████████████████████████████████████| 1/1 [00:00<00:00,  4.49it/s]"
     ]
    },
    {
     "name": "stdout",
     "output_type": "stream",
     "text": [
      "1 calculation combinations to check\n",
      "1 new records to prepare\n"
     ]
    },
    {
     "name": "stderr",
     "output_type": "stream",
     "text": [
      "\n",
      "preparing: 100%|##########################################################################| 1/1 [00:00<00:00, 37.30it/s]\n"
     ]
    },
    {
     "name": "stdout",
     "output_type": "stream",
     "text": [
      "8cc050ff-913e-4d8f-bb6e-a77dadc6b5b8\n",
      "error: \n",
      "0 existing calculation records provided\n"
     ]
    },
    {
     "name": "stderr",
     "output_type": "stream",
     "text": [
      "100%|█████████████████████████████████████████████████████████████████████████████████████| 1/1 [00:00<00:00,  4.21it/s]"
     ]
    },
    {
     "name": "stdout",
     "output_type": "stream",
     "text": [
      "1 calculation combinations to check\n",
      "1 new records to prepare\n"
     ]
    },
    {
     "name": "stderr",
     "output_type": "stream",
     "text": [
      "\n",
      "preparing: 100%|##########################################################################| 1/1 [00:00<00:00, 59.82it/s]\n"
     ]
    },
    {
     "name": "stdout",
     "output_type": "stream",
     "text": [
      "a1eb567b-23c5-4f21-a4c2-44cb4df081e5\n",
      "error: \n",
      "0 existing calculation records provided\n"
     ]
    },
    {
     "name": "stderr",
     "output_type": "stream",
     "text": [
      "100%|█████████████████████████████████████████████████████████████████████████████████████| 1/1 [00:00<00:00,  5.22it/s]"
     ]
    },
    {
     "name": "stdout",
     "output_type": "stream",
     "text": [
      "1 calculation combinations to check\n",
      "1 new records to prepare\n"
     ]
    },
    {
     "name": "stderr",
     "output_type": "stream",
     "text": [
      "\n",
      "preparing: 100%|##########################################################################| 1/1 [00:00<00:00, 41.74it/s]\n"
     ]
    },
    {
     "name": "stdout",
     "output_type": "stream",
     "text": [
      "b93dc932-06c0-4a86-b39d-dbeae77e014b\n",
      "error: \n",
      "0 existing calculation records provided\n"
     ]
    },
    {
     "name": "stderr",
     "output_type": "stream",
     "text": [
      "100%|█████████████████████████████████████████████████████████████████████████████████████| 1/1 [00:00<00:00,  4.50it/s]"
     ]
    },
    {
     "name": "stdout",
     "output_type": "stream",
     "text": [
      "1 calculation combinations to check\n",
      "1 new records to prepare\n"
     ]
    },
    {
     "name": "stderr",
     "output_type": "stream",
     "text": [
      "\n",
      "preparing: 100%|##########################################################################| 1/1 [00:00<00:00, 38.18it/s]\n"
     ]
    },
    {
     "name": "stdout",
     "output_type": "stream",
     "text": [
      "37511b29-8123-4662-830f-510ae079eff6\n",
      "error: \n",
      "0 existing calculation records provided\n"
     ]
    },
    {
     "name": "stderr",
     "output_type": "stream",
     "text": [
      "100%|█████████████████████████████████████████████████████████████████████████████████████| 1/1 [00:00<00:00,  4.43it/s]"
     ]
    },
    {
     "name": "stdout",
     "output_type": "stream",
     "text": [
      "1 calculation combinations to check\n",
      "1 new records to prepare\n"
     ]
    },
    {
     "name": "stderr",
     "output_type": "stream",
     "text": [
      "\n",
      "preparing: 100%|##########################################################################| 1/1 [00:00<00:00, 61.31it/s]\n"
     ]
    },
    {
     "name": "stdout",
     "output_type": "stream",
     "text": [
      "ff09d8b5-53d5-412c-852f-ba0641ea6e4f\n",
      "error: \n",
      "0 existing calculation records provided\n"
     ]
    },
    {
     "name": "stderr",
     "output_type": "stream",
     "text": [
      "100%|█████████████████████████████████████████████████████████████████████████████████████| 1/1 [00:00<00:00,  4.48it/s]"
     ]
    },
    {
     "name": "stdout",
     "output_type": "stream",
     "text": [
      "1 calculation combinations to check\n",
      "1 new records to prepare\n"
     ]
    },
    {
     "name": "stderr",
     "output_type": "stream",
     "text": [
      "\n",
      "preparing: 100%|##########################################################################| 1/1 [00:00<00:00, 37.52it/s]\n"
     ]
    },
    {
     "name": "stdout",
     "output_type": "stream",
     "text": [
      "e33e795a-856a-41d6-846c-7938a62fc614\n",
      "error: \n",
      "0 existing calculation records provided\n"
     ]
    },
    {
     "name": "stderr",
     "output_type": "stream",
     "text": [
      "100%|█████████████████████████████████████████████████████████████████████████████████████| 1/1 [00:00<00:00,  4.45it/s]"
     ]
    },
    {
     "name": "stdout",
     "output_type": "stream",
     "text": [
      "1 calculation combinations to check\n",
      "1 new records to prepare\n"
     ]
    },
    {
     "name": "stderr",
     "output_type": "stream",
     "text": [
      "\n",
      "preparing: 100%|##########################################################################| 1/1 [00:00<00:00, 59.20it/s]\n"
     ]
    },
    {
     "name": "stdout",
     "output_type": "stream",
     "text": [
      "5f620ca8-3697-407c-b0c4-b7adc8ac91aa\n",
      "error: \n",
      "0 existing calculation records provided\n"
     ]
    },
    {
     "name": "stderr",
     "output_type": "stream",
     "text": [
      "100%|█████████████████████████████████████████████████████████████████████████████████████| 1/1 [00:00<00:00,  4.28it/s]"
     ]
    },
    {
     "name": "stdout",
     "output_type": "stream",
     "text": [
      "1 calculation combinations to check\n",
      "1 new records to prepare\n"
     ]
    },
    {
     "name": "stderr",
     "output_type": "stream",
     "text": [
      "\n",
      "preparing: 100%|##########################################################################| 1/1 [00:00<00:00, 61.76it/s]\n"
     ]
    },
    {
     "name": "stdout",
     "output_type": "stream",
     "text": [
      "cce7b4e3-00b1-43cb-9b3c-3102eed79701\n",
      "error: \n",
      "0 existing calculation records provided\n"
     ]
    },
    {
     "name": "stderr",
     "output_type": "stream",
     "text": [
      "100%|█████████████████████████████████████████████████████████████████████████████████████| 1/1 [00:00<00:00,  2.77it/s]"
     ]
    },
    {
     "name": "stdout",
     "output_type": "stream",
     "text": [
      "1 calculation combinations to check\n",
      "1 new records to prepare\n"
     ]
    },
    {
     "name": "stderr",
     "output_type": "stream",
     "text": [
      "\n",
      "preparing: 100%|##########################################################################| 1/1 [00:00<00:00, 64.65it/s]\n"
     ]
    },
    {
     "name": "stdout",
     "output_type": "stream",
     "text": [
      "db403dbc-b54b-4913-83d2-a278ec0b144f\n",
      "error: \n",
      "0 existing calculation records provided\n"
     ]
    },
    {
     "name": "stderr",
     "output_type": "stream",
     "text": [
      "100%|█████████████████████████████████████████████████████████████████████████████████████| 1/1 [00:00<00:00,  2.82it/s]"
     ]
    },
    {
     "name": "stdout",
     "output_type": "stream",
     "text": [
      "1 calculation combinations to check\n",
      "1 new records to prepare\n"
     ]
    },
    {
     "name": "stderr",
     "output_type": "stream",
     "text": [
      "\n",
      "preparing: 100%|##########################################################################| 1/1 [00:00<00:00, 52.67it/s]\n"
     ]
    },
    {
     "name": "stdout",
     "output_type": "stream",
     "text": [
      "9a816130-232c-4a3e-8d2b-b097a4cef5d8\n",
      "error: \n",
      "0 existing calculation records provided\n"
     ]
    },
    {
     "name": "stderr",
     "output_type": "stream",
     "text": [
      "100%|█████████████████████████████████████████████████████████████████████████████████████| 1/1 [00:00<00:00,  2.85it/s]"
     ]
    },
    {
     "name": "stdout",
     "output_type": "stream",
     "text": [
      "1 calculation combinations to check\n",
      "1 new records to prepare\n"
     ]
    },
    {
     "name": "stderr",
     "output_type": "stream",
     "text": [
      "\n",
      "preparing: 100%|##########################################################################| 1/1 [00:00<00:00, 39.60it/s]\n"
     ]
    },
    {
     "name": "stdout",
     "output_type": "stream",
     "text": [
      "dcbe17a6-c093-4805-be4e-bdcfe91dad8f\n",
      "error: \n",
      "0 existing calculation records provided\n"
     ]
    },
    {
     "name": "stderr",
     "output_type": "stream",
     "text": [
      "100%|█████████████████████████████████████████████████████████████████████████████████████| 1/1 [00:00<00:00,  3.02it/s]"
     ]
    },
    {
     "name": "stdout",
     "output_type": "stream",
     "text": [
      "1 calculation combinations to check\n",
      "1 new records to prepare\n"
     ]
    },
    {
     "name": "stderr",
     "output_type": "stream",
     "text": [
      "\n",
      "preparing: 100%|##########################################################################| 1/1 [00:00<00:00, 36.76it/s]\n"
     ]
    },
    {
     "name": "stdout",
     "output_type": "stream",
     "text": [
      "02c80532-4b7e-4e40-8d02-cc30c20573d2\n",
      "error: \n",
      "0 existing calculation records provided\n"
     ]
    },
    {
     "name": "stderr",
     "output_type": "stream",
     "text": [
      "100%|█████████████████████████████████████████████████████████████████████████████████████| 1/1 [00:00<00:00,  2.93it/s]"
     ]
    },
    {
     "name": "stdout",
     "output_type": "stream",
     "text": [
      "1 calculation combinations to check\n",
      "1 new records to prepare\n"
     ]
    },
    {
     "name": "stderr",
     "output_type": "stream",
     "text": [
      "\n",
      "preparing: 100%|##########################################################################| 1/1 [00:00<00:00, 33.37it/s]\n"
     ]
    },
    {
     "name": "stdout",
     "output_type": "stream",
     "text": [
      "5ce09c75-293f-4e05-9cd9-63bad437b780\n",
      "error: \n",
      "0 existing calculation records provided\n"
     ]
    },
    {
     "name": "stderr",
     "output_type": "stream",
     "text": [
      "100%|█████████████████████████████████████████████████████████████████████████████████████| 1/1 [00:00<00:00,  4.18it/s]"
     ]
    },
    {
     "name": "stdout",
     "output_type": "stream",
     "text": [
      "1 calculation combinations to check\n",
      "1 new records to prepare\n"
     ]
    },
    {
     "name": "stderr",
     "output_type": "stream",
     "text": [
      "\n",
      "preparing: 100%|##########################################################################| 1/1 [00:00<00:00, 39.37it/s]\n"
     ]
    },
    {
     "name": "stdout",
     "output_type": "stream",
     "text": [
      "8f3e09f0-68be-4d80-9d0c-43d69209ae62\n",
      "error: \n",
      "Max number of runs reached!\n",
      "\n",
      "217 2023--Liang-A--Fe-Ni-Cr-Co-Ti--LAMMPS--ipr1\n",
      "0 existing calculation records provided\n"
     ]
    },
    {
     "name": "stderr",
     "output_type": "stream",
     "text": [
      "100%|█████████████████████████████████████████████████████████████████████████████████████| 1/1 [00:00<00:00,  2.79it/s]"
     ]
    },
    {
     "name": "stdout",
     "output_type": "stream",
     "text": [
      "1 calculation combinations to check\n",
      "1 new records to prepare\n"
     ]
    },
    {
     "name": "stderr",
     "output_type": "stream",
     "text": [
      "\n",
      "preparing: 100%|##########################################################################| 1/1 [00:00<00:00, 54.68it/s]\n"
     ]
    },
    {
     "name": "stdout",
     "output_type": "stream",
     "text": [
      "558b11fc-f313-42fc-a37d-0d7d87bebcb4\n",
      "sim calculated successfully\n",
      "\n",
      "4525.000 0.0 4439.742\n",
      "0 existing calculation records provided\n"
     ]
    },
    {
     "name": "stderr",
     "output_type": "stream",
     "text": [
      "100%|█████████████████████████████████████████████████████████████████████████████████████| 1/1 [00:00<00:00,  3.08it/s]"
     ]
    },
    {
     "name": "stdout",
     "output_type": "stream",
     "text": [
      "1 calculation combinations to check\n",
      "1 new records to prepare\n"
     ]
    },
    {
     "name": "stderr",
     "output_type": "stream",
     "text": [
      "\n",
      "preparing: 100%|##########################################################################| 1/1 [00:00<00:00, 33.57it/s]\n"
     ]
    },
    {
     "name": "stdout",
     "output_type": "stream",
     "text": [
      "99083438-f705-4fd4-870a-0c2645cbd80a\n",
      "sim calculated successfully\n",
      "\n",
      "2287.500 0.03711 2542.541\n",
      "0 existing calculation records provided\n"
     ]
    },
    {
     "name": "stderr",
     "output_type": "stream",
     "text": [
      "100%|█████████████████████████████████████████████████████████████████████████████████████| 1/1 [00:00<00:00,  3.09it/s]"
     ]
    },
    {
     "name": "stdout",
     "output_type": "stream",
     "text": [
      "1 calculation combinations to check\n",
      "1 new records to prepare\n"
     ]
    },
    {
     "name": "stderr",
     "output_type": "stream",
     "text": [
      "\n",
      "preparing: 100%|##########################################################################| 1/1 [00:00<00:00, 58.98it/s]\n"
     ]
    },
    {
     "name": "stdout",
     "output_type": "stream",
     "text": [
      "36cf0899-21d7-45a9-889f-220a4d4ba969\n",
      "sim calculated successfully\n",
      "\n",
      "1168.750 0.06544 1164.609\n",
      "0 existing calculation records provided\n"
     ]
    },
    {
     "name": "stderr",
     "output_type": "stream",
     "text": [
      "100%|█████████████████████████████████████████████████████████████████████████████████████| 1/1 [00:00<00:00,  4.34it/s]"
     ]
    },
    {
     "name": "stdout",
     "output_type": "stream",
     "text": [
      "1 calculation combinations to check\n",
      "1 new records to prepare\n"
     ]
    },
    {
     "name": "stderr",
     "output_type": "stream",
     "text": [
      "\n",
      "preparing: 100%|##########################################################################| 1/1 [00:00<00:00, 51.78it/s]\n"
     ]
    },
    {
     "name": "stdout",
     "output_type": "stream",
     "text": [
      "517c2ba4-10a8-4464-b47c-9fa9e7a21ec4\n",
      "sim calculated successfully\n",
      "\n",
      "609.375 0.03323 606.865\n",
      "0 existing calculation records provided\n"
     ]
    },
    {
     "name": "stderr",
     "output_type": "stream",
     "text": [
      "100%|█████████████████████████████████████████████████████████████████████████████████████| 1/1 [00:00<00:00,  2.65it/s]"
     ]
    },
    {
     "name": "stdout",
     "output_type": "stream",
     "text": [
      "1 calculation combinations to check\n",
      "1 new records to prepare\n"
     ]
    },
    {
     "name": "stderr",
     "output_type": "stream",
     "text": [
      "\n",
      "preparing: 100%|##########################################################################| 1/1 [00:00<00:00, 51.68it/s]\n"
     ]
    },
    {
     "name": "stdout",
     "output_type": "stream",
     "text": [
      "a52a3d36-5fb9-4ccc-8710-dd4659999ae1\n",
      "sim calculated successfully\n",
      "\n",
      "329.688 0.02201 346.953\n",
      "0 existing calculation records provided\n"
     ]
    },
    {
     "name": "stderr",
     "output_type": "stream",
     "text": [
      "100%|█████████████████████████████████████████████████████████████████████████████████████| 1/1 [00:00<00:00,  2.71it/s]"
     ]
    },
    {
     "name": "stdout",
     "output_type": "stream",
     "text": [
      "1 calculation combinations to check\n",
      "1 new records to prepare\n"
     ]
    },
    {
     "name": "stderr",
     "output_type": "stream",
     "text": [
      "\n",
      "preparing: 100%|##########################################################################| 1/1 [00:00<00:00, 68.31it/s]\n"
     ]
    },
    {
     "name": "stdout",
     "output_type": "stream",
     "text": [
      "72ca360d-72ff-4bd1-825c-9d5449409184\n",
      "sim calculated successfully\n",
      "\n",
      "189.844 1.0 189.609\n",
      "0 existing calculation records provided\n"
     ]
    },
    {
     "name": "stderr",
     "output_type": "stream",
     "text": [
      "100%|█████████████████████████████████████████████████████████████████████████████████████| 1/1 [00:00<00:00,  2.34it/s]"
     ]
    },
    {
     "name": "stdout",
     "output_type": "stream",
     "text": [
      "1 calculation combinations to check\n",
      "1 new records to prepare\n"
     ]
    },
    {
     "name": "stderr",
     "output_type": "stream",
     "text": [
      "\n",
      "preparing: 100%|##########################################################################| 1/1 [00:00<00:00, 53.51it/s]\n"
     ]
    },
    {
     "name": "stdout",
     "output_type": "stream",
     "text": [
      "8e068095-c4ad-4886-a1ec-99beb92da89a\n",
      "sim calculated successfully\n",
      "\n",
      "259.766 0.0125 258.423\n",
      "0 existing calculation records provided\n"
     ]
    },
    {
     "name": "stderr",
     "output_type": "stream",
     "text": [
      "100%|█████████████████████████████████████████████████████████████████████████████████████| 1/1 [00:00<00:00,  4.42it/s]"
     ]
    },
    {
     "name": "stdout",
     "output_type": "stream",
     "text": [
      "1 calculation combinations to check\n",
      "1 new records to prepare\n"
     ]
    },
    {
     "name": "stderr",
     "output_type": "stream",
     "text": [
      "\n",
      "preparing: 100%|##########################################################################| 1/1 [00:00<00:00, 30.67it/s]\n"
     ]
    },
    {
     "name": "stdout",
     "output_type": "stream",
     "text": [
      "cce344c6-ad7a-4590-9c36-8a3f40fe85f1\n",
      "sim calculated successfully\n",
      "\n",
      "224.805 0.02455 232.266\n",
      "0 existing calculation records provided\n"
     ]
    },
    {
     "name": "stderr",
     "output_type": "stream",
     "text": [
      "100%|█████████████████████████████████████████████████████████████████████████████████████| 1/1 [00:00<00:00,  4.47it/s]"
     ]
    },
    {
     "name": "stdout",
     "output_type": "stream",
     "text": [
      "1 calculation combinations to check\n",
      "1 new records to prepare\n"
     ]
    },
    {
     "name": "stderr",
     "output_type": "stream",
     "text": [
      "\n",
      "preparing: 100%|##########################################################################| 1/1 [00:00<00:00, 36.52it/s]\n"
     ]
    },
    {
     "name": "stdout",
     "output_type": "stream",
     "text": [
      "bc2a1575-c418-4fe4-909d-a0f7cea12985\n",
      "sim calculated successfully\n",
      "\n",
      "207.324 0.02902 207.457\n",
      "0 existing calculation records provided\n"
     ]
    },
    {
     "name": "stderr",
     "output_type": "stream",
     "text": [
      "100%|█████████████████████████████████████████████████████████████████████████████████████| 1/1 [00:00<00:00,  2.77it/s]"
     ]
    },
    {
     "name": "stdout",
     "output_type": "stream",
     "text": [
      "1 calculation combinations to check\n",
      "1 new records to prepare\n"
     ]
    },
    {
     "name": "stderr",
     "output_type": "stream",
     "text": [
      "\n",
      "preparing: 100%|##########################################################################| 1/1 [00:00<00:00, 31.33it/s]\n"
     ]
    },
    {
     "name": "stdout",
     "output_type": "stream",
     "text": [
      "951f11ae-a932-49ed-a987-f37c1665ed6a\n",
      "sim calculated successfully\n",
      "\n",
      "198.584 1.0 198.475\n",
      "0 existing calculation records provided\n"
     ]
    },
    {
     "name": "stderr",
     "output_type": "stream",
     "text": [
      "100%|█████████████████████████████████████████████████████████████████████████████████████| 1/1 [00:00<00:00,  2.74it/s]"
     ]
    },
    {
     "name": "stdout",
     "output_type": "stream",
     "text": [
      "1 calculation combinations to check\n",
      "1 new records to prepare\n"
     ]
    },
    {
     "name": "stderr",
     "output_type": "stream",
     "text": [
      "\n",
      "preparing: 100%|##########################################################################| 1/1 [00:00<00:00, 51.95it/s]\n"
     ]
    },
    {
     "name": "stdout",
     "output_type": "stream",
     "text": [
      "5620ec0c-fbf4-4291-802e-7c3dbd5cb91d\n",
      "sim calculated successfully\n",
      "\n",
      "202.954 1.0 202.732\n",
      "0 existing calculation records provided\n"
     ]
    },
    {
     "name": "stderr",
     "output_type": "stream",
     "text": [
      "100%|█████████████████████████████████████████████████████████████████████████████████████| 1/1 [00:00<00:00,  2.93it/s]"
     ]
    },
    {
     "name": "stdout",
     "output_type": "stream",
     "text": [
      "1 calculation combinations to check\n",
      "1 new records to prepare\n"
     ]
    },
    {
     "name": "stderr",
     "output_type": "stream",
     "text": [
      "\n",
      "preparing: 100%|##########################################################################| 1/1 [00:00<00:00, 52.85it/s]\n"
     ]
    },
    {
     "name": "stdout",
     "output_type": "stream",
     "text": [
      "bb51a8f0-65b2-49e2-84ec-9cf5ff659755\n",
      "sim calculated successfully\n",
      "\n",
      "205.139 0.009869 204.528\n",
      "0 existing calculation records provided\n"
     ]
    },
    {
     "name": "stderr",
     "output_type": "stream",
     "text": [
      "100%|█████████████████████████████████████████████████████████████████████████████████████| 1/1 [00:00<00:00,  4.32it/s]"
     ]
    },
    {
     "name": "stdout",
     "output_type": "stream",
     "text": [
      "1 calculation combinations to check\n",
      "1 new records to prepare\n"
     ]
    },
    {
     "name": "stderr",
     "output_type": "stream",
     "text": [
      "\n",
      "preparing: 100%|##########################################################################| 1/1 [00:00<00:00, 31.40it/s]\n"
     ]
    },
    {
     "name": "stdout",
     "output_type": "stream",
     "text": [
      "a6547858-a96e-47c9-9fe8-5c621bdd7426\n",
      "sim calculated successfully\n",
      "\n",
      "204.047 0.005245 202.594\n",
      "0 existing calculation records provided\n"
     ]
    },
    {
     "name": "stderr",
     "output_type": "stream",
     "text": [
      "100%|█████████████████████████████████████████████████████████████████████████████████████| 1/1 [00:00<00:00,  2.49it/s]"
     ]
    },
    {
     "name": "stdout",
     "output_type": "stream",
     "text": [
      "1 calculation combinations to check\n",
      "1 new records to prepare\n"
     ]
    },
    {
     "name": "stderr",
     "output_type": "stream",
     "text": [
      "\n",
      "preparing: 100%|##########################################################################| 1/1 [00:00<00:00, 54.53it/s]\n"
     ]
    },
    {
     "name": "stdout",
     "output_type": "stream",
     "text": [
      "343be739-7afd-42a5-8967-efc0eabe8cb2\n",
      "sim calculated successfully\n",
      "\n",
      "203.500 1.0 203.482\n",
      "0 existing calculation records provided\n"
     ]
    },
    {
     "name": "stderr",
     "output_type": "stream",
     "text": [
      "100%|█████████████████████████████████████████████████████████████████████████████████████| 1/1 [00:00<00:00,  2.48it/s]"
     ]
    },
    {
     "name": "stdout",
     "output_type": "stream",
     "text": [
      "1 calculation combinations to check\n",
      "1 new records to prepare\n"
     ]
    },
    {
     "name": "stderr",
     "output_type": "stream",
     "text": [
      "\n",
      "preparing: 100%|##########################################################################| 1/1 [00:00<00:00, 51.63it/s]\n"
     ]
    },
    {
     "name": "stdout",
     "output_type": "stream",
     "text": [
      "7d9764eb-766f-4738-9659-5c5256a867f7\n",
      "sim calculated successfully\n",
      "\n",
      "203.773 1.0 203.807\n",
      "0 existing calculation records provided\n"
     ]
    },
    {
     "name": "stderr",
     "output_type": "stream",
     "text": [
      "100%|█████████████████████████████████████████████████████████████████████████████████████| 1/1 [00:00<00:00,  2.78it/s]"
     ]
    },
    {
     "name": "stdout",
     "output_type": "stream",
     "text": [
      "1 calculation combinations to check\n",
      "1 new records to prepare\n"
     ]
    },
    {
     "name": "stderr",
     "output_type": "stream",
     "text": [
      "\n",
      "preparing: 100%|##########################################################################| 1/1 [00:00<00:00, 49.85it/s]\n"
     ]
    },
    {
     "name": "stdout",
     "output_type": "stream",
     "text": [
      "3055b16a-b394-4e1a-a772-47e5ef243b9f\n",
      "sim calculated successfully\n",
      "\n",
      "203.910 0.003228 202.590\n",
      "0 existing calculation records provided\n"
     ]
    },
    {
     "name": "stderr",
     "output_type": "stream",
     "text": [
      "100%|█████████████████████████████████████████████████████████████████████████████████████| 1/1 [00:00<00:00,  2.82it/s]"
     ]
    },
    {
     "name": "stdout",
     "output_type": "stream",
     "text": [
      "1 calculation combinations to check\n",
      "1 new records to prepare\n"
     ]
    },
    {
     "name": "stderr",
     "output_type": "stream",
     "text": [
      "\n",
      "preparing: 100%|##########################################################################| 1/1 [00:00<00:00, 63.07it/s]\n"
     ]
    },
    {
     "name": "stdout",
     "output_type": "stream",
     "text": [
      "6b143339-a5f7-4387-8bda-58091aedab89\n",
      "sim calculated successfully\n",
      "\n",
      "203.842 1.0 204.002\n",
      "0 existing calculation records provided\n"
     ]
    },
    {
     "name": "stderr",
     "output_type": "stream",
     "text": [
      "100%|█████████████████████████████████████████████████████████████████████████████████████| 1/1 [00:00<00:00,  2.82it/s]"
     ]
    },
    {
     "name": "stdout",
     "output_type": "stream",
     "text": [
      "1 calculation combinations to check\n",
      "1 new records to prepare\n"
     ]
    },
    {
     "name": "stderr",
     "output_type": "stream",
     "text": [
      "\n",
      "preparing: 100%|##########################################################################| 1/1 [00:00<00:00, 50.89it/s]\n"
     ]
    },
    {
     "name": "stdout",
     "output_type": "stream",
     "text": [
      "1454e3df-88e5-47c0-9c12-0517fcfbd8c6\n",
      "sim calculated successfully\n",
      "\n",
      "203.876 1.0 203.944\n",
      "0 existing calculation records provided\n"
     ]
    },
    {
     "name": "stderr",
     "output_type": "stream",
     "text": [
      "100%|█████████████████████████████████████████████████████████████████████████████████████| 1/1 [00:00<00:00,  2.62it/s]"
     ]
    },
    {
     "name": "stdout",
     "output_type": "stream",
     "text": [
      "1 calculation combinations to check\n",
      "1 new records to prepare\n"
     ]
    },
    {
     "name": "stderr",
     "output_type": "stream",
     "text": [
      "\n",
      "preparing: 100%|##########################################################################| 1/1 [00:00<00:00, 52.41it/s]\n"
     ]
    },
    {
     "name": "stdout",
     "output_type": "stream",
     "text": [
      "7c9ae090-ce22-44f2-a96d-50950d7bccdc\n",
      "sim calculated successfully\n",
      "\n",
      "203.893 0.07837 203.332\n",
      "0 existing calculation records provided\n"
     ]
    },
    {
     "name": "stderr",
     "output_type": "stream",
     "text": [
      "100%|█████████████████████████████████████████████████████████████████████████████████████| 1/1 [00:00<00:00,  2.75it/s]"
     ]
    },
    {
     "name": "stdout",
     "output_type": "stream",
     "text": [
      "1 calculation combinations to check\n",
      "1 new records to prepare\n"
     ]
    },
    {
     "name": "stderr",
     "output_type": "stream",
     "text": [
      "\n",
      "preparing: 100%|##########################################################################| 1/1 [00:00<00:00, 52.29it/s]\n"
     ]
    },
    {
     "name": "stdout",
     "output_type": "stream",
     "text": [
      "af0cd166-c214-4fc2-a9a4-82cc07a5d934\n",
      "sim calculated successfully\n",
      "\n",
      "203.884 0.01213 221.321\n",
      "0 existing calculation records provided\n"
     ]
    },
    {
     "name": "stderr",
     "output_type": "stream",
     "text": [
      "100%|█████████████████████████████████████████████████████████████████████████████████████| 1/1 [00:00<00:00,  4.02it/s]"
     ]
    },
    {
     "name": "stdout",
     "output_type": "stream",
     "text": [
      "1 calculation combinations to check\n",
      "1 new records to prepare\n"
     ]
    },
    {
     "name": "stderr",
     "output_type": "stream",
     "text": [
      "\n",
      "preparing: 100%|##########################################################################| 1/1 [00:00<00:00, 54.58it/s]\n"
     ]
    },
    {
     "name": "stdout",
     "output_type": "stream",
     "text": [
      "e30726e5-69b1-41d1-89d0-73fcdc914004\n",
      "sim calculated successfully\n",
      "\n",
      "203.880 1.0 203.810\n",
      "0 existing calculation records provided\n"
     ]
    },
    {
     "name": "stderr",
     "output_type": "stream",
     "text": [
      "100%|█████████████████████████████████████████████████████████████████████████████████████| 1/1 [00:00<00:00,  2.90it/s]"
     ]
    },
    {
     "name": "stdout",
     "output_type": "stream",
     "text": [
      "1 calculation combinations to check\n",
      "1 new records to prepare\n"
     ]
    },
    {
     "name": "stderr",
     "output_type": "stream",
     "text": [
      "\n",
      "preparing: 100%|##########################################################################| 1/1 [00:00<00:00, 55.67it/s]\n"
     ]
    },
    {
     "name": "stdout",
     "output_type": "stream",
     "text": [
      "9c43f696-7ad1-4002-8c5b-4f231c50bdeb\n",
      "sim calculated successfully\n",
      "\n",
      "203.882 1.0 203.794\n",
      "0 existing calculation records provided\n"
     ]
    },
    {
     "name": "stderr",
     "output_type": "stream",
     "text": [
      "100%|█████████████████████████████████████████████████████████████████████████████████████| 1/1 [00:00<00:00,  2.92it/s]"
     ]
    },
    {
     "name": "stdout",
     "output_type": "stream",
     "text": [
      "1 calculation combinations to check\n",
      "1 new records to prepare\n"
     ]
    },
    {
     "name": "stderr",
     "output_type": "stream",
     "text": [
      "\n",
      "preparing: 100%|##########################################################################| 1/1 [00:00<00:00, 53.06it/s]\n"
     ]
    },
    {
     "name": "stdout",
     "output_type": "stream",
     "text": [
      "336018b9-fda8-4a8c-b691-637b75834939\n",
      "sim calculated successfully\n",
      "\n",
      "203.883 1.0 203.784\n",
      "0 existing calculation records provided\n"
     ]
    },
    {
     "name": "stderr",
     "output_type": "stream",
     "text": [
      "100%|█████████████████████████████████████████████████████████████████████████████████████| 1/1 [00:00<00:00,  2.84it/s]"
     ]
    },
    {
     "name": "stdout",
     "output_type": "stream",
     "text": [
      "1 calculation combinations to check\n",
      "1 new records to prepare\n"
     ]
    },
    {
     "name": "stderr",
     "output_type": "stream",
     "text": [
      "\n",
      "preparing: 100%|##########################################################################| 1/1 [00:00<00:00, 52.12it/s]\n"
     ]
    },
    {
     "name": "stdout",
     "output_type": "stream",
     "text": [
      "cde2ab16-3ac8-4ef0-9ab0-7c72950c2c81\n",
      "sim calculated successfully\n",
      "\n",
      "203.884 0.03358 202.608\n",
      "0 existing calculation records provided\n"
     ]
    },
    {
     "name": "stderr",
     "output_type": "stream",
     "text": [
      "100%|█████████████████████████████████████████████████████████████████████████████████████| 1/1 [00:00<00:00,  4.38it/s]"
     ]
    },
    {
     "name": "stdout",
     "output_type": "stream",
     "text": [
      "1 calculation combinations to check\n",
      "1 new records to prepare\n"
     ]
    },
    {
     "name": "stderr",
     "output_type": "stream",
     "text": [
      "\n",
      "preparing: 100%|##########################################################################| 1/1 [00:00<00:00, 35.54it/s]\n"
     ]
    },
    {
     "name": "stdout",
     "output_type": "stream",
     "text": [
      "6277da9b-9766-424a-9290-646ebb24282d\n",
      "sim calculated successfully\n",
      "\n",
      "203.884 1.0 203.816\n",
      "0 existing calculation records provided\n"
     ]
    },
    {
     "name": "stderr",
     "output_type": "stream",
     "text": [
      "100%|█████████████████████████████████████████████████████████████████████████████████████| 1/1 [00:00<00:00,  2.97it/s]"
     ]
    },
    {
     "name": "stdout",
     "output_type": "stream",
     "text": [
      "1 calculation combinations to check\n",
      "1 new records to prepare\n"
     ]
    },
    {
     "name": "stderr",
     "output_type": "stream",
     "text": [
      "\n",
      "preparing: 100%|##########################################################################| 1/1 [00:00<00:00, 36.87it/s]\n"
     ]
    },
    {
     "name": "stdout",
     "output_type": "stream",
     "text": [
      "f9e2465a-6ff4-4ca7-8bdb-1a6ee705c258\n",
      "sim calculated successfully\n",
      "\n",
      "203.884 0.004159 200.897\n",
      "0 existing calculation records provided\n"
     ]
    },
    {
     "name": "stderr",
     "output_type": "stream",
     "text": [
      "100%|█████████████████████████████████████████████████████████████████████████████████████| 1/1 [00:00<00:00,  3.94it/s]"
     ]
    },
    {
     "name": "stdout",
     "output_type": "stream",
     "text": [
      "1 calculation combinations to check\n",
      "1 new records to prepare\n"
     ]
    },
    {
     "name": "stderr",
     "output_type": "stream",
     "text": [
      "\n",
      "preparing: 100%|##########################################################################| 1/1 [00:00<00:00, 31.52it/s]\n"
     ]
    },
    {
     "name": "stdout",
     "output_type": "stream",
     "text": [
      "d1d17b05-2eda-45c3-b944-069af57366e7\n",
      "sim calculated successfully\n",
      "\n",
      "203.884 0.003352 202.478\n",
      "0 existing calculation records provided\n"
     ]
    },
    {
     "name": "stderr",
     "output_type": "stream",
     "text": [
      "100%|█████████████████████████████████████████████████████████████████████████████████████| 1/1 [00:00<00:00,  2.60it/s]"
     ]
    },
    {
     "name": "stdout",
     "output_type": "stream",
     "text": [
      "1 calculation combinations to check\n",
      "1 new records to prepare\n"
     ]
    },
    {
     "name": "stderr",
     "output_type": "stream",
     "text": [
      "\n",
      "preparing: 100%|##########################################################################| 1/1 [00:00<00:00, 55.34it/s]\n"
     ]
    },
    {
     "name": "stdout",
     "output_type": "stream",
     "text": [
      "24b3413a-6d46-4bf6-8854-6ee736452055\n",
      "sim calculated successfully\n",
      "\n",
      "203.884 1.0 203.766\n",
      "0 existing calculation records provided\n"
     ]
    },
    {
     "name": "stderr",
     "output_type": "stream",
     "text": [
      "100%|█████████████████████████████████████████████████████████████████████████████████████| 1/1 [00:00<00:00,  4.37it/s]"
     ]
    },
    {
     "name": "stdout",
     "output_type": "stream",
     "text": [
      "1 calculation combinations to check\n",
      "1 new records to prepare\n"
     ]
    },
    {
     "name": "stderr",
     "output_type": "stream",
     "text": [
      "\n",
      "preparing: 100%|##########################################################################| 1/1 [00:00<00:00, 35.04it/s]\n"
     ]
    },
    {
     "name": "stdout",
     "output_type": "stream",
     "text": [
      "0b04b15f-eee7-4842-bf03-9c5c34d724d6\n",
      "sim calculated successfully\n",
      "\n",
      "203.884 0.02935 202.309\n",
      "0 existing calculation records provided\n"
     ]
    },
    {
     "name": "stderr",
     "output_type": "stream",
     "text": [
      "100%|█████████████████████████████████████████████████████████████████████████████████████| 1/1 [00:00<00:00,  4.33it/s]"
     ]
    },
    {
     "name": "stdout",
     "output_type": "stream",
     "text": [
      "1 calculation combinations to check\n",
      "1 new records to prepare\n"
     ]
    },
    {
     "name": "stderr",
     "output_type": "stream",
     "text": [
      "\n",
      "preparing: 100%|##########################################################################| 1/1 [00:00<00:00, 54.37it/s]\n"
     ]
    },
    {
     "name": "stdout",
     "output_type": "stream",
     "text": [
      "353a3a8c-f0ed-4ba3-812a-63e2da1999e3\n",
      "sim calculated successfully\n",
      "\n",
      "203.884 1.0 203.810\n",
      "0 existing calculation records provided\n"
     ]
    },
    {
     "name": "stderr",
     "output_type": "stream",
     "text": [
      "100%|█████████████████████████████████████████████████████████████████████████████████████| 1/1 [00:00<00:00,  2.71it/s]"
     ]
    },
    {
     "name": "stdout",
     "output_type": "stream",
     "text": [
      "1 calculation combinations to check\n",
      "1 new records to prepare\n"
     ]
    },
    {
     "name": "stderr",
     "output_type": "stream",
     "text": [
      "\n",
      "preparing: 100%|##########################################################################| 1/1 [00:00<00:00, 53.26it/s]\n"
     ]
    },
    {
     "name": "stdout",
     "output_type": "stream",
     "text": [
      "fa6d025c-8c22-459b-b80f-52f0ee5be9b7\n",
      "sim calculated successfully\n",
      "\n",
      "203.884 1.0 203.723\n",
      "0 existing calculation records provided\n"
     ]
    },
    {
     "name": "stderr",
     "output_type": "stream",
     "text": [
      "100%|█████████████████████████████████████████████████████████████████████████████████████| 1/1 [00:00<00:00,  4.52it/s]"
     ]
    },
    {
     "name": "stdout",
     "output_type": "stream",
     "text": [
      "1 calculation combinations to check\n",
      "1 new records to prepare\n"
     ]
    },
    {
     "name": "stderr",
     "output_type": "stream",
     "text": [
      "\n",
      "preparing: 100%|##########################################################################| 1/1 [00:00<00:00, 30.80it/s]\n"
     ]
    },
    {
     "name": "stdout",
     "output_type": "stream",
     "text": [
      "be34fd92-9a9f-4e28-b53d-9703889733e1\n",
      "sim calculated successfully\n",
      "\n",
      "203.884 1.0 203.655\n",
      "0 existing calculation records provided\n"
     ]
    },
    {
     "name": "stderr",
     "output_type": "stream",
     "text": [
      "100%|█████████████████████████████████████████████████████████████████████████████████████| 1/1 [00:00<00:00,  4.36it/s]"
     ]
    },
    {
     "name": "stdout",
     "output_type": "stream",
     "text": [
      "1 calculation combinations to check\n",
      "1 new records to prepare\n"
     ]
    },
    {
     "name": "stderr",
     "output_type": "stream",
     "text": [
      "\n",
      "preparing: 100%|##########################################################################| 1/1 [00:00<00:00, 32.87it/s]\n"
     ]
    },
    {
     "name": "stdout",
     "output_type": "stream",
     "text": [
      "45ed636f-ace3-4d68-ab52-f2b71612a83a\n",
      "sim calculated successfully\n",
      "\n",
      "203.884 1.0 203.681\n",
      "0 existing calculation records provided\n"
     ]
    },
    {
     "name": "stderr",
     "output_type": "stream",
     "text": [
      "100%|█████████████████████████████████████████████████████████████████████████████████████| 1/1 [00:00<00:00,  4.18it/s]"
     ]
    },
    {
     "name": "stdout",
     "output_type": "stream",
     "text": [
      "1 calculation combinations to check\n",
      "1 new records to prepare\n"
     ]
    },
    {
     "name": "stderr",
     "output_type": "stream",
     "text": [
      "\n",
      "preparing: 100%|##########################################################################| 1/1 [00:00<00:00, 49.96it/s]\n"
     ]
    },
    {
     "name": "stdout",
     "output_type": "stream",
     "text": [
      "0f3aaed8-ada7-48d8-b4c3-013be22d7661\n",
      "sim calculated successfully\n",
      "\n",
      "203.884 1.0 203.878\n",
      "0 existing calculation records provided\n"
     ]
    },
    {
     "name": "stderr",
     "output_type": "stream",
     "text": [
      "100%|█████████████████████████████████████████████████████████████████████████████████████| 1/1 [00:00<00:00,  4.17it/s]"
     ]
    },
    {
     "name": "stdout",
     "output_type": "stream",
     "text": [
      "1 calculation combinations to check\n",
      "1 new records to prepare\n"
     ]
    },
    {
     "name": "stderr",
     "output_type": "stream",
     "text": [
      "\n",
      "preparing: 100%|##########################################################################| 1/1 [00:00<00:00, 31.25it/s]\n"
     ]
    },
    {
     "name": "stdout",
     "output_type": "stream",
     "text": [
      "b17b01d2-9886-4366-b76c-0718d1b49217\n",
      "sim calculated successfully\n",
      "\n",
      "203.884 0.005576 203.162\n",
      "Max number of runs reached!\n",
      "\n",
      "216 2023--Liang-A--Fe-Ni-Cr-Co-Ti--LAMMPS--ipr1\n",
      "0 existing calculation records provided\n"
     ]
    },
    {
     "name": "stderr",
     "output_type": "stream",
     "text": [
      "100%|█████████████████████████████████████████████████████████████████████████████████████| 1/1 [00:00<00:00,  2.48it/s]"
     ]
    },
    {
     "name": "stdout",
     "output_type": "stream",
     "text": [
      "1 calculation combinations to check\n",
      "1 new records to prepare\n"
     ]
    },
    {
     "name": "stderr",
     "output_type": "stream",
     "text": [
      "\n",
      "preparing: 100%|##########################################################################| 1/1 [00:00<00:00, 36.07it/s]\n"
     ]
    },
    {
     "name": "stdout",
     "output_type": "stream",
     "text": [
      "d1831f4f-d869-497c-bd31-93a199cb3952\n",
      "sim calculated successfully\n",
      "\n",
      "4525.000 0.1179 3647.313\n",
      "0 existing calculation records provided\n"
     ]
    },
    {
     "name": "stderr",
     "output_type": "stream",
     "text": [
      "100%|█████████████████████████████████████████████████████████████████████████████████████| 1/1 [00:00<00:00,  4.44it/s]"
     ]
    },
    {
     "name": "stdout",
     "output_type": "stream",
     "text": [
      "1 calculation combinations to check\n",
      "1 new records to prepare\n"
     ]
    },
    {
     "name": "stderr",
     "output_type": "stream",
     "text": [
      "\n",
      "preparing: 100%|##########################################################################| 1/1 [00:00<00:00, 51.54it/s]\n"
     ]
    },
    {
     "name": "stdout",
     "output_type": "stream",
     "text": [
      "0dfb368c-2ce9-4ba6-80b2-72d2c13f9183\n",
      "sim calculated successfully\n",
      "\n",
      "2287.500 0.01174 2536.256\n",
      "0 existing calculation records provided\n"
     ]
    },
    {
     "name": "stderr",
     "output_type": "stream",
     "text": [
      "100%|█████████████████████████████████████████████████████████████████████████████████████| 1/1 [00:00<00:00,  4.34it/s]"
     ]
    },
    {
     "name": "stdout",
     "output_type": "stream",
     "text": [
      "1 calculation combinations to check\n",
      "1 new records to prepare\n"
     ]
    },
    {
     "name": "stderr",
     "output_type": "stream",
     "text": [
      "\n",
      "preparing: 100%|##########################################################################| 1/1 [00:00<00:00, 50.97it/s]\n"
     ]
    },
    {
     "name": "stdout",
     "output_type": "stream",
     "text": [
      "fa508fd5-f93d-45ca-ac52-7f3af7a19442\n",
      "sim calculated successfully\n",
      "\n",
      "1168.750 0.008483 1306.535\n",
      "0 existing calculation records provided\n"
     ]
    },
    {
     "name": "stderr",
     "output_type": "stream",
     "text": [
      "100%|█████████████████████████████████████████████████████████████████████████████████████| 1/1 [00:00<00:00,  4.27it/s]"
     ]
    },
    {
     "name": "stdout",
     "output_type": "stream",
     "text": [
      "1 calculation combinations to check\n",
      "1 new records to prepare\n"
     ]
    },
    {
     "name": "stderr",
     "output_type": "stream",
     "text": [
      "\n",
      "preparing: 100%|##########################################################################| 1/1 [00:00<00:00, 51.01it/s]\n"
     ]
    },
    {
     "name": "stdout",
     "output_type": "stream",
     "text": [
      "bd63d381-1fe9-4de7-b00e-77908bcdeb72\n",
      "sim calculated successfully\n",
      "\n",
      "609.375 0.006507 738.687\n",
      "0 existing calculation records provided\n"
     ]
    },
    {
     "name": "stderr",
     "output_type": "stream",
     "text": [
      "100%|█████████████████████████████████████████████████████████████████████████████████████| 1/1 [00:00<00:00,  4.70it/s]"
     ]
    },
    {
     "name": "stdout",
     "output_type": "stream",
     "text": [
      "1 calculation combinations to check\n",
      "1 new records to prepare\n"
     ]
    },
    {
     "name": "stderr",
     "output_type": "stream",
     "text": [
      "\n",
      "preparing: 100%|##########################################################################| 1/1 [00:00<00:00, 55.72it/s]\n"
     ]
    },
    {
     "name": "stdout",
     "output_type": "stream",
     "text": [
      "771ebdf2-74aa-46fb-baa8-b18d2ad95134\n",
      "sim calculated successfully\n",
      "\n",
      "329.688 0.0669 645.096\n",
      "0 existing calculation records provided\n"
     ]
    },
    {
     "name": "stderr",
     "output_type": "stream",
     "text": [
      "100%|█████████████████████████████████████████████████████████████████████████████████████| 1/1 [00:00<00:00,  4.46it/s]"
     ]
    },
    {
     "name": "stdout",
     "output_type": "stream",
     "text": [
      "1 calculation combinations to check\n",
      "1 new records to prepare\n"
     ]
    },
    {
     "name": "stderr",
     "output_type": "stream",
     "text": [
      "\n",
      "preparing: 100%|##########################################################################| 1/1 [00:00<00:00, 51.68it/s]\n"
     ]
    },
    {
     "name": "stdout",
     "output_type": "stream",
     "text": [
      "42915e60-d056-469b-8415-c1bae594e000\n",
      "sim calculated successfully\n",
      "\n",
      "189.844 0.02484 218.181\n",
      "0 existing calculation records provided\n"
     ]
    },
    {
     "name": "stderr",
     "output_type": "stream",
     "text": [
      "100%|█████████████████████████████████████████████████████████████████████████████████████| 1/1 [00:00<00:00,  2.35it/s]"
     ]
    },
    {
     "name": "stdout",
     "output_type": "stream",
     "text": [
      "1 calculation combinations to check\n",
      "1 new records to prepare\n"
     ]
    },
    {
     "name": "stderr",
     "output_type": "stream",
     "text": [
      "\n",
      "preparing: 100%|##########################################################################| 1/1 [00:00<00:00, 32.02it/s]\n"
     ]
    },
    {
     "name": "stdout",
     "output_type": "stream",
     "text": [
      "70573509-3bfc-45d7-9286-7f695bc1664b\n",
      "sim calculated successfully\n",
      "\n",
      "119.922 0.02185 133.969\n",
      "0 existing calculation records provided\n"
     ]
    },
    {
     "name": "stderr",
     "output_type": "stream",
     "text": [
      "100%|█████████████████████████████████████████████████████████████████████████████████████| 1/1 [00:00<00:00,  2.51it/s]"
     ]
    },
    {
     "name": "stdout",
     "output_type": "stream",
     "text": [
      "1 calculation combinations to check\n",
      "1 new records to prepare\n"
     ]
    },
    {
     "name": "stderr",
     "output_type": "stream",
     "text": [
      "\n",
      "preparing: 100%|##########################################################################| 1/1 [00:00<00:00, 49.33it/s]\n"
     ]
    },
    {
     "name": "stdout",
     "output_type": "stream",
     "text": [
      "c2c4c4c9-83b7-43c0-9c6d-c9e238b6a7d8\n",
      "sim calculated successfully\n",
      "\n",
      "84.961 0.01515 94.711\n",
      "0 existing calculation records provided\n"
     ]
    },
    {
     "name": "stderr",
     "output_type": "stream",
     "text": [
      "100%|█████████████████████████████████████████████████████████████████████████████████████| 1/1 [00:00<00:00,  4.29it/s]"
     ]
    },
    {
     "name": "stdout",
     "output_type": "stream",
     "text": [
      "1 calculation combinations to check\n",
      "1 new records to prepare\n"
     ]
    },
    {
     "name": "stderr",
     "output_type": "stream",
     "text": [
      "\n",
      "preparing: 100%|##########################################################################| 1/1 [00:00<00:00, 52.43it/s]\n"
     ]
    },
    {
     "name": "stdout",
     "output_type": "stream",
     "text": [
      "88f2ead2-eda7-4db1-9a99-25c089c69688\n",
      "sim calculated successfully\n",
      "\n",
      "67.480 0.02341 73.383\n",
      "0 existing calculation records provided\n"
     ]
    },
    {
     "name": "stderr",
     "output_type": "stream",
     "text": [
      "100%|█████████████████████████████████████████████████████████████████████████████████████| 1/1 [00:00<00:00,  4.37it/s]"
     ]
    },
    {
     "name": "stdout",
     "output_type": "stream",
     "text": [
      "1 calculation combinations to check\n",
      "1 new records to prepare\n"
     ]
    },
    {
     "name": "stderr",
     "output_type": "stream",
     "text": [
      "\n",
      "preparing: 100%|##########################################################################| 1/1 [00:00<00:00, 48.39it/s]\n"
     ]
    },
    {
     "name": "stdout",
     "output_type": "stream",
     "text": [
      "5f2bc697-527c-458a-bb4a-8d96fd3e93fe\n",
      "sim calculated successfully\n",
      "\n",
      "58.740 0.3438 654.298\n",
      "0 existing calculation records provided\n"
     ]
    },
    {
     "name": "stderr",
     "output_type": "stream",
     "text": [
      "100%|█████████████████████████████████████████████████████████████████████████████████████| 1/1 [00:00<00:00,  4.34it/s]"
     ]
    },
    {
     "name": "stdout",
     "output_type": "stream",
     "text": [
      "1 calculation combinations to check\n",
      "1 new records to prepare\n"
     ]
    },
    {
     "name": "stderr",
     "output_type": "stream",
     "text": [
      "\n",
      "preparing: 100%|##########################################################################| 1/1 [00:00<00:00, 40.69it/s]\n"
     ]
    },
    {
     "name": "stdout",
     "output_type": "stream",
     "text": [
      "d2ae2fda-67aa-4054-85dc-0f393a0f12e8\n",
      "sim calculated successfully\n",
      "\n",
      "54.370 0.3976 524.141\n",
      "0 existing calculation records provided\n"
     ]
    },
    {
     "name": "stderr",
     "output_type": "stream",
     "text": [
      "100%|█████████████████████████████████████████████████████████████████████████████████████| 1/1 [00:00<00:00,  4.34it/s]"
     ]
    },
    {
     "name": "stdout",
     "output_type": "stream",
     "text": [
      "1 calculation combinations to check\n",
      "1 new records to prepare\n"
     ]
    },
    {
     "name": "stderr",
     "output_type": "stream",
     "text": [
      "\n",
      "preparing: 100%|##########################################################################| 1/1 [00:00<00:00, 48.68it/s]\n"
     ]
    },
    {
     "name": "stdout",
     "output_type": "stream",
     "text": [
      "37d19709-5cdc-41cd-b0ec-f4ba64905759\n",
      "sim calculated successfully\n",
      "\n",
      "52.185 0.4318 503.493\n",
      "0 existing calculation records provided\n"
     ]
    },
    {
     "name": "stderr",
     "output_type": "stream",
     "text": [
      "100%|█████████████████████████████████████████████████████████████████████████████████████| 1/1 [00:00<00:00,  4.29it/s]"
     ]
    },
    {
     "name": "stdout",
     "output_type": "stream",
     "text": [
      "1 calculation combinations to check\n",
      "1 new records to prepare\n"
     ]
    },
    {
     "name": "stderr",
     "output_type": "stream",
     "text": [
      "\n",
      "preparing: 100%|##########################################################################| 1/1 [00:00<00:00, 51.19it/s]\n"
     ]
    },
    {
     "name": "stdout",
     "output_type": "stream",
     "text": [
      "238c58d6-230b-4bf4-9919-ac0af94009ea\n",
      "sim calculated successfully\n",
      "\n",
      "52.185 0.4337 426.682\n",
      "0 existing calculation records provided\n"
     ]
    },
    {
     "name": "stderr",
     "output_type": "stream",
     "text": [
      "100%|█████████████████████████████████████████████████████████████████████████████████████| 1/1 [00:00<00:00,  3.99it/s]"
     ]
    },
    {
     "name": "stdout",
     "output_type": "stream",
     "text": [
      "1 calculation combinations to check\n",
      "1 new records to prepare\n"
     ]
    },
    {
     "name": "stderr",
     "output_type": "stream",
     "text": [
      "\n",
      "preparing: 100%|##########################################################################| 1/1 [00:00<00:00, 50.87it/s]\n"
     ]
    },
    {
     "name": "stdout",
     "output_type": "stream",
     "text": [
      "abad6206-d0e0-4ffe-adf8-07b9dfed3062\n",
      "sim calculated successfully\n",
      "\n",
      "52.185 0.431 440.153\n",
      "0 existing calculation records provided\n"
     ]
    },
    {
     "name": "stderr",
     "output_type": "stream",
     "text": [
      "100%|█████████████████████████████████████████████████████████████████████████████████████| 1/1 [00:00<00:00,  4.35it/s]"
     ]
    },
    {
     "name": "stdout",
     "output_type": "stream",
     "text": [
      "1 calculation combinations to check\n",
      "1 new records to prepare\n"
     ]
    },
    {
     "name": "stderr",
     "output_type": "stream",
     "text": [
      "\n",
      "preparing: 100%|##########################################################################| 1/1 [00:00<00:00, 48.22it/s]\n"
     ]
    },
    {
     "name": "stdout",
     "output_type": "stream",
     "text": [
      "15787125-c3d3-47ec-ba18-4c2f0a20add0\n",
      "sim calculated successfully\n",
      "\n",
      "52.185 0.4281 560.502\n",
      "0 existing calculation records provided\n"
     ]
    },
    {
     "name": "stderr",
     "output_type": "stream",
     "text": [
      "100%|█████████████████████████████████████████████████████████████████████████████████████| 1/1 [00:00<00:00,  4.23it/s]"
     ]
    },
    {
     "name": "stdout",
     "output_type": "stream",
     "text": [
      "1 calculation combinations to check\n",
      "1 new records to prepare\n"
     ]
    },
    {
     "name": "stderr",
     "output_type": "stream",
     "text": [
      "\n",
      "preparing: 100%|##########################################################################| 1/1 [00:00<00:00, 35.93it/s]\n"
     ]
    },
    {
     "name": "stdout",
     "output_type": "stream",
     "text": [
      "63165724-369d-4361-ba6a-fd8ec6425a5d\n",
      "sim calculated successfully\n",
      "\n",
      "52.185 0.4207 482.850\n",
      "0 existing calculation records provided\n"
     ]
    },
    {
     "name": "stderr",
     "output_type": "stream",
     "text": [
      "100%|█████████████████████████████████████████████████████████████████████████████████████| 1/1 [00:00<00:00,  4.29it/s]"
     ]
    },
    {
     "name": "stdout",
     "output_type": "stream",
     "text": [
      "1 calculation combinations to check\n",
      "1 new records to prepare\n"
     ]
    },
    {
     "name": "stderr",
     "output_type": "stream",
     "text": [
      "\n",
      "preparing: 100%|##########################################################################| 1/1 [00:00<00:00, 27.89it/s]\n"
     ]
    },
    {
     "name": "stdout",
     "output_type": "stream",
     "text": [
      "a339c79f-2a9c-4713-ac18-29fb44f0bdc8\n",
      "sim calculated successfully\n",
      "\n",
      "52.185 0.416 472.798\n",
      "0 existing calculation records provided\n"
     ]
    },
    {
     "name": "stderr",
     "output_type": "stream",
     "text": [
      "100%|█████████████████████████████████████████████████████████████████████████████████████| 1/1 [00:00<00:00,  4.39it/s]"
     ]
    },
    {
     "name": "stdout",
     "output_type": "stream",
     "text": [
      "1 calculation combinations to check\n",
      "1 new records to prepare\n"
     ]
    },
    {
     "name": "stderr",
     "output_type": "stream",
     "text": [
      "\n",
      "preparing: 100%|##########################################################################| 1/1 [00:00<00:00, 37.21it/s]\n"
     ]
    },
    {
     "name": "stdout",
     "output_type": "stream",
     "text": [
      "c658f8af-47d5-4960-86ce-aeef2c514965\n",
      "sim calculated successfully\n",
      "\n",
      "52.185 0.4184 498.092\n",
      "0 existing calculation records provided\n"
     ]
    },
    {
     "name": "stderr",
     "output_type": "stream",
     "text": [
      "100%|█████████████████████████████████████████████████████████████████████████████████████| 1/1 [00:00<00:00,  4.31it/s]"
     ]
    },
    {
     "name": "stdout",
     "output_type": "stream",
     "text": [
      "1 calculation combinations to check\n",
      "1 new records to prepare\n"
     ]
    },
    {
     "name": "stderr",
     "output_type": "stream",
     "text": [
      "\n",
      "preparing: 100%|##########################################################################| 1/1 [00:00<00:00, 46.68it/s]\n"
     ]
    },
    {
     "name": "stdout",
     "output_type": "stream",
     "text": [
      "99e11878-a3bc-4f91-b373-d668f1c297c7\n",
      "sim calculated successfully\n",
      "\n",
      "52.185 0.4406 521.551\n",
      "\n",
      "215 2023--Liang-A--Fe-Ni-Cr-Co-Ti--LAMMPS--ipr1\n",
      "0 existing calculation records provided\n"
     ]
    },
    {
     "name": "stderr",
     "output_type": "stream",
     "text": [
      "100%|█████████████████████████████████████████████████████████████████████████████████████| 1/1 [00:00<00:00,  4.37it/s]"
     ]
    },
    {
     "name": "stdout",
     "output_type": "stream",
     "text": [
      "1 calculation combinations to check\n",
      "1 new records to prepare\n"
     ]
    },
    {
     "name": "stderr",
     "output_type": "stream",
     "text": [
      "\n",
      "preparing: 100%|##########################################################################| 1/1 [00:00<00:00, 57.23it/s]\n"
     ]
    },
    {
     "name": "stdout",
     "output_type": "stream",
     "text": [
      "b3e68479-9e37-4caf-a94b-981100e73696\n",
      "sim calculated successfully\n",
      "\n",
      "4525.000 0.4275 2094.184\n",
      "0 existing calculation records provided\n"
     ]
    },
    {
     "name": "stderr",
     "output_type": "stream",
     "text": [
      "100%|█████████████████████████████████████████████████████████████████████████████████████| 1/1 [00:00<00:00,  4.40it/s]"
     ]
    },
    {
     "name": "stdout",
     "output_type": "stream",
     "text": [
      "1 calculation combinations to check\n",
      "1 new records to prepare\n"
     ]
    },
    {
     "name": "stderr",
     "output_type": "stream",
     "text": [
      "\n",
      "preparing: 100%|##########################################################################| 1/1 [00:00<00:00, 39.54it/s]\n"
     ]
    },
    {
     "name": "stdout",
     "output_type": "stream",
     "text": [
      "7141f974-31bd-437d-843b-76c4661695d7\n",
      "sim calculated successfully\n",
      "\n",
      "4525.000 0.442 2057.372\n",
      "0 existing calculation records provided\n"
     ]
    },
    {
     "name": "stderr",
     "output_type": "stream",
     "text": [
      "100%|█████████████████████████████████████████████████████████████████████████████████████| 1/1 [00:00<00:00,  4.28it/s]"
     ]
    },
    {
     "name": "stdout",
     "output_type": "stream",
     "text": [
      "1 calculation combinations to check\n",
      "1 new records to prepare\n"
     ]
    },
    {
     "name": "stderr",
     "output_type": "stream",
     "text": [
      "\n",
      "preparing: 100%|##########################################################################| 1/1 [00:00<00:00, 31.99it/s]\n"
     ]
    },
    {
     "name": "stdout",
     "output_type": "stream",
     "text": [
      "bb6dfa7f-2890-4c09-bd72-603adfb751ce\n",
      "sim calculated successfully\n",
      "\n",
      "4525.000 0.4479 1993.141\n",
      "0 existing calculation records provided\n"
     ]
    },
    {
     "name": "stderr",
     "output_type": "stream",
     "text": [
      "100%|█████████████████████████████████████████████████████████████████████████████████████| 1/1 [00:00<00:00,  4.36it/s]"
     ]
    },
    {
     "name": "stdout",
     "output_type": "stream",
     "text": [
      "1 calculation combinations to check\n",
      "1 new records to prepare\n"
     ]
    },
    {
     "name": "stderr",
     "output_type": "stream",
     "text": [
      "\n",
      "preparing: 100%|##########################################################################| 1/1 [00:00<00:00, 43.23it/s]\n"
     ]
    },
    {
     "name": "stdout",
     "output_type": "stream",
     "text": [
      "732b44e0-9318-46b9-8499-3a07e44ee104\n",
      "sim calculated successfully\n",
      "\n",
      "4525.000 0.4434 2020.470\n",
      "0 existing calculation records provided\n"
     ]
    },
    {
     "name": "stderr",
     "output_type": "stream",
     "text": [
      "100%|█████████████████████████████████████████████████████████████████████████████████████| 1/1 [00:00<00:00,  4.42it/s]"
     ]
    },
    {
     "name": "stdout",
     "output_type": "stream",
     "text": [
      "1 calculation combinations to check\n",
      "1 new records to prepare\n"
     ]
    },
    {
     "name": "stderr",
     "output_type": "stream",
     "text": [
      "\n",
      "preparing: 100%|##########################################################################| 1/1 [00:00<00:00, 34.32it/s]\n"
     ]
    },
    {
     "name": "stdout",
     "output_type": "stream",
     "text": [
      "96918780-f3ba-4905-b7d5-0cf0ab751c5f\n",
      "sim calculated successfully\n",
      "\n",
      "4525.000 0.4446 1998.216\n",
      "0 existing calculation records provided\n"
     ]
    },
    {
     "name": "stderr",
     "output_type": "stream",
     "text": [
      "100%|█████████████████████████████████████████████████████████████████████████████████████| 1/1 [00:00<00:00,  4.12it/s]"
     ]
    },
    {
     "name": "stdout",
     "output_type": "stream",
     "text": [
      "1 calculation combinations to check\n",
      "1 new records to prepare\n"
     ]
    },
    {
     "name": "stderr",
     "output_type": "stream",
     "text": [
      "\n",
      "preparing: 100%|##########################################################################| 1/1 [00:00<00:00, 48.57it/s]\n"
     ]
    },
    {
     "name": "stdout",
     "output_type": "stream",
     "text": [
      "9137d45a-52a8-440a-85b0-fbb44310a893\n",
      "sim calculated successfully\n",
      "\n",
      "4525.000 0.4368 2048.403\n",
      "0 existing calculation records provided\n"
     ]
    },
    {
     "name": "stderr",
     "output_type": "stream",
     "text": [
      "100%|█████████████████████████████████████████████████████████████████████████████████████| 1/1 [00:00<00:00,  4.47it/s]"
     ]
    },
    {
     "name": "stdout",
     "output_type": "stream",
     "text": [
      "1 calculation combinations to check\n",
      "1 new records to prepare\n"
     ]
    },
    {
     "name": "stderr",
     "output_type": "stream",
     "text": [
      "\n",
      "preparing: 100%|##########################################################################| 1/1 [00:00<00:00, 55.39it/s]\n"
     ]
    },
    {
     "name": "stdout",
     "output_type": "stream",
     "text": [
      "6dae30c9-fb13-4fc9-af0c-2c38e49bfbf1\n",
      "sim calculated successfully\n",
      "\n",
      "4525.000 0.4381 2032.834\n",
      "0 existing calculation records provided\n"
     ]
    },
    {
     "name": "stderr",
     "output_type": "stream",
     "text": [
      "100%|█████████████████████████████████████████████████████████████████████████████████████| 1/1 [00:00<00:00,  4.35it/s]"
     ]
    },
    {
     "name": "stdout",
     "output_type": "stream",
     "text": [
      "1 calculation combinations to check\n",
      "1 new records to prepare\n"
     ]
    },
    {
     "name": "stderr",
     "output_type": "stream",
     "text": [
      "\n",
      "preparing: 100%|##########################################################################| 1/1 [00:00<00:00, 30.46it/s]\n"
     ]
    },
    {
     "name": "stdout",
     "output_type": "stream",
     "text": [
      "e74f2031-79ba-414a-a3a2-1b4af151bf7b\n",
      "sim calculated successfully\n",
      "\n",
      "4525.000 0.4443 2040.377\n",
      "0 existing calculation records provided\n"
     ]
    },
    {
     "name": "stderr",
     "output_type": "stream",
     "text": [
      "100%|█████████████████████████████████████████████████████████████████████████████████████| 1/1 [00:00<00:00,  4.41it/s]"
     ]
    },
    {
     "name": "stdout",
     "output_type": "stream",
     "text": [
      "1 calculation combinations to check\n",
      "1 new records to prepare\n"
     ]
    },
    {
     "name": "stderr",
     "output_type": "stream",
     "text": [
      "\n",
      "preparing: 100%|##########################################################################| 1/1 [00:00<00:00, 50.08it/s]\n"
     ]
    },
    {
     "name": "stdout",
     "output_type": "stream",
     "text": [
      "635fe48e-4766-4f28-9840-3164a004435e\n",
      "sim calculated successfully\n",
      "\n",
      "4525.000 0.447 2014.622\n",
      "0 existing calculation records provided\n"
     ]
    },
    {
     "name": "stderr",
     "output_type": "stream",
     "text": [
      "100%|█████████████████████████████████████████████████████████████████████████████████████| 1/1 [00:00<00:00,  4.33it/s]"
     ]
    },
    {
     "name": "stdout",
     "output_type": "stream",
     "text": [
      "1 calculation combinations to check\n",
      "1 new records to prepare\n"
     ]
    },
    {
     "name": "stderr",
     "output_type": "stream",
     "text": [
      "\n",
      "preparing: 100%|##########################################################################| 1/1 [00:00<00:00, 47.07it/s]\n"
     ]
    },
    {
     "name": "stdout",
     "output_type": "stream",
     "text": [
      "554fceb6-6998-4580-b6da-a78f367a4724\n",
      "sim calculated successfully\n",
      "\n",
      "4525.000 0.4424 2052.256\n",
      "\n",
      "214 2023--Liang-A--Fe-Ni-Cr-Co-Ti--LAMMPS--ipr1\n",
      "0 existing calculation records provided\n"
     ]
    },
    {
     "name": "stderr",
     "output_type": "stream",
     "text": [
      "100%|█████████████████████████████████████████████████████████████████████████████████████| 1/1 [00:00<00:00,  4.40it/s]"
     ]
    },
    {
     "name": "stdout",
     "output_type": "stream",
     "text": [
      "1 calculation combinations to check\n",
      "1 new records to prepare\n"
     ]
    },
    {
     "name": "stderr",
     "output_type": "stream",
     "text": [
      "\n",
      "preparing: 100%|##########################################################################| 1/1 [00:00<00:00, 37.04it/s]\n"
     ]
    },
    {
     "name": "stdout",
     "output_type": "stream",
     "text": [
      "af71561b-5e75-4457-aa65-79e0e76468ca\n",
      "sim calculated successfully\n",
      "\n",
      "4525.000 0.1794 2996.967\n",
      "0 existing calculation records provided\n"
     ]
    },
    {
     "name": "stderr",
     "output_type": "stream",
     "text": [
      "100%|█████████████████████████████████████████████████████████████████████████████████████| 1/1 [00:00<00:00,  4.36it/s]"
     ]
    },
    {
     "name": "stdout",
     "output_type": "stream",
     "text": [
      "1 calculation combinations to check\n",
      "1 new records to prepare\n"
     ]
    },
    {
     "name": "stderr",
     "output_type": "stream",
     "text": [
      "\n",
      "preparing: 100%|##########################################################################| 1/1 [00:00<00:00, 54.20it/s]\n"
     ]
    },
    {
     "name": "stdout",
     "output_type": "stream",
     "text": [
      "6b97dba8-3f36-4380-865a-439a22b5ae16\n",
      "sim calculated successfully\n",
      "\n",
      "2287.500 0.01517 2690.403\n",
      "0 existing calculation records provided\n"
     ]
    },
    {
     "name": "stderr",
     "output_type": "stream",
     "text": [
      "100%|█████████████████████████████████████████████████████████████████████████████████████| 1/1 [00:00<00:00,  4.46it/s]"
     ]
    },
    {
     "name": "stdout",
     "output_type": "stream",
     "text": [
      "1 calculation combinations to check\n",
      "1 new records to prepare\n"
     ]
    },
    {
     "name": "stderr",
     "output_type": "stream",
     "text": [
      "\n",
      "preparing: 100%|##########################################################################| 1/1 [00:00<00:00, 34.23it/s]\n"
     ]
    },
    {
     "name": "stdout",
     "output_type": "stream",
     "text": [
      "16488e31-2431-4185-b09b-8dfd604b02ed\n",
      "sim calculated successfully\n",
      "\n",
      "1168.750 0.02677 1720.040\n",
      "0 existing calculation records provided\n"
     ]
    },
    {
     "name": "stderr",
     "output_type": "stream",
     "text": [
      "100%|█████████████████████████████████████████████████████████████████████████████████████| 1/1 [00:00<00:00,  4.39it/s]"
     ]
    },
    {
     "name": "stdout",
     "output_type": "stream",
     "text": [
      "1 calculation combinations to check\n",
      "1 new records to prepare\n"
     ]
    },
    {
     "name": "stderr",
     "output_type": "stream",
     "text": [
      "\n",
      "preparing: 100%|##########################################################################| 1/1 [00:00<00:00, 52.00it/s]\n"
     ]
    },
    {
     "name": "stdout",
     "output_type": "stream",
     "text": [
      "98efe0ba-a989-48a8-a24a-bc662a769041\n",
      "sim calculated successfully\n",
      "\n",
      "609.375 0.09481 2127.867\n",
      "0 existing calculation records provided\n"
     ]
    },
    {
     "name": "stderr",
     "output_type": "stream",
     "text": [
      "100%|█████████████████████████████████████████████████████████████████████████████████████| 1/1 [00:00<00:00,  4.49it/s]"
     ]
    },
    {
     "name": "stdout",
     "output_type": "stream",
     "text": [
      "1 calculation combinations to check\n",
      "1 new records to prepare\n"
     ]
    },
    {
     "name": "stderr",
     "output_type": "stream",
     "text": [
      "\n",
      "preparing: 100%|##########################################################################| 1/1 [00:00<00:00, 36.89it/s]\n"
     ]
    },
    {
     "name": "stdout",
     "output_type": "stream",
     "text": [
      "830a23a7-4a8a-4c92-b1ca-3492f0bc58a1\n",
      "sim calculated successfully\n",
      "\n",
      "329.688 0.241 1340.236\n",
      "0 existing calculation records provided\n"
     ]
    },
    {
     "name": "stderr",
     "output_type": "stream",
     "text": [
      "100%|█████████████████████████████████████████████████████████████████████████████████████| 1/1 [00:00<00:00,  4.18it/s]"
     ]
    },
    {
     "name": "stdout",
     "output_type": "stream",
     "text": [
      "1 calculation combinations to check\n",
      "1 new records to prepare\n"
     ]
    },
    {
     "name": "stderr",
     "output_type": "stream",
     "text": [
      "\n",
      "preparing: 100%|##########################################################################| 1/1 [00:00<00:00, 32.04it/s]\n"
     ]
    },
    {
     "name": "stdout",
     "output_type": "stream",
     "text": [
      "1d303612-eda7-46c3-9330-335f16801983\n",
      "sim calculated successfully\n",
      "\n",
      "189.844 0.5043 722.164\n",
      "0 existing calculation records provided\n"
     ]
    },
    {
     "name": "stderr",
     "output_type": "stream",
     "text": [
      "100%|█████████████████████████████████████████████████████████████████████████████████████| 1/1 [00:00<00:00,  4.13it/s]"
     ]
    },
    {
     "name": "stdout",
     "output_type": "stream",
     "text": [
      "1 calculation combinations to check\n",
      "1 new records to prepare\n"
     ]
    },
    {
     "name": "stderr",
     "output_type": "stream",
     "text": [
      "\n",
      "preparing: 100%|##########################################################################| 1/1 [00:00<00:00, 30.29it/s]\n"
     ]
    },
    {
     "name": "stdout",
     "output_type": "stream",
     "text": [
      "3b0eed45-11b3-4c5c-837c-2a2453c794bd\n",
      "sim calculated successfully\n",
      "\n",
      "189.844 0.4962 718.695\n",
      "0 existing calculation records provided\n"
     ]
    },
    {
     "name": "stderr",
     "output_type": "stream",
     "text": [
      "100%|█████████████████████████████████████████████████████████████████████████████████████| 1/1 [00:00<00:00,  4.36it/s]"
     ]
    },
    {
     "name": "stdout",
     "output_type": "stream",
     "text": [
      "1 calculation combinations to check\n",
      "1 new records to prepare\n"
     ]
    },
    {
     "name": "stderr",
     "output_type": "stream",
     "text": [
      "\n",
      "preparing: 100%|##########################################################################| 1/1 [00:00<00:00, 30.02it/s]\n"
     ]
    },
    {
     "name": "stdout",
     "output_type": "stream",
     "text": [
      "6a46527a-2f62-48c0-8c4f-366acee18545\n",
      "sim calculated successfully\n",
      "\n",
      "189.844 0.4628 880.214\n",
      "0 existing calculation records provided\n"
     ]
    },
    {
     "name": "stderr",
     "output_type": "stream",
     "text": [
      "100%|█████████████████████████████████████████████████████████████████████████████████████| 1/1 [00:00<00:00,  4.85it/s]"
     ]
    },
    {
     "name": "stdout",
     "output_type": "stream",
     "text": [
      "1 calculation combinations to check\n",
      "1 new records to prepare\n"
     ]
    },
    {
     "name": "stderr",
     "output_type": "stream",
     "text": [
      "\n",
      "preparing: 100%|##########################################################################| 1/1 [00:00<00:00, 29.96it/s]\n"
     ]
    },
    {
     "name": "stdout",
     "output_type": "stream",
     "text": [
      "9fb1d0ad-b321-4c14-a9ba-b0ef11a91c45\n",
      "sim calculated successfully\n",
      "\n",
      "189.844 0.4836 856.033\n",
      "0 existing calculation records provided\n"
     ]
    },
    {
     "name": "stderr",
     "output_type": "stream",
     "text": [
      "100%|█████████████████████████████████████████████████████████████████████████████████████| 1/1 [00:00<00:00,  4.37it/s]"
     ]
    },
    {
     "name": "stdout",
     "output_type": "stream",
     "text": [
      "1 calculation combinations to check\n",
      "1 new records to prepare\n"
     ]
    },
    {
     "name": "stderr",
     "output_type": "stream",
     "text": [
      "\n",
      "preparing: 100%|##########################################################################| 1/1 [00:00<00:00, 50.26it/s]\n"
     ]
    },
    {
     "name": "stdout",
     "output_type": "stream",
     "text": [
      "abdfd55f-2318-4a98-a3d8-bdd776d55d66\n",
      "sim calculated successfully\n",
      "\n",
      "189.844 0.5001 801.725\n",
      "0 existing calculation records provided\n"
     ]
    },
    {
     "name": "stderr",
     "output_type": "stream",
     "text": [
      "100%|█████████████████████████████████████████████████████████████████████████████████████| 1/1 [00:00<00:00,  4.73it/s]"
     ]
    },
    {
     "name": "stdout",
     "output_type": "stream",
     "text": [
      "1 calculation combinations to check\n",
      "1 new records to prepare\n"
     ]
    },
    {
     "name": "stderr",
     "output_type": "stream",
     "text": [
      "\n",
      "preparing: 100%|##########################################################################| 1/1 [00:00<00:00, 53.92it/s]\n"
     ]
    },
    {
     "name": "stdout",
     "output_type": "stream",
     "text": [
      "23e2743d-6eaa-4455-8f21-6ae5c5ee042e\n",
      "sim calculated successfully\n",
      "\n",
      "189.844 0.4883 770.845\n",
      "0 existing calculation records provided\n"
     ]
    },
    {
     "name": "stderr",
     "output_type": "stream",
     "text": [
      "100%|█████████████████████████████████████████████████████████████████████████████████████| 1/1 [00:00<00:00,  4.66it/s]"
     ]
    },
    {
     "name": "stdout",
     "output_type": "stream",
     "text": [
      "1 calculation combinations to check\n",
      "1 new records to prepare\n"
     ]
    },
    {
     "name": "stderr",
     "output_type": "stream",
     "text": [
      "\n",
      "preparing: 100%|##########################################################################| 1/1 [00:00<00:00, 66.10it/s]\n"
     ]
    },
    {
     "name": "stdout",
     "output_type": "stream",
     "text": [
      "4fdaddd5-6643-4d82-bc07-4dfcc51264af\n",
      "sim calculated successfully\n",
      "\n",
      "189.844 0.4942 836.390\n",
      "0 existing calculation records provided\n"
     ]
    },
    {
     "name": "stderr",
     "output_type": "stream",
     "text": [
      "100%|█████████████████████████████████████████████████████████████████████████████████████| 1/1 [00:00<00:00,  4.30it/s]"
     ]
    },
    {
     "name": "stdout",
     "output_type": "stream",
     "text": [
      "1 calculation combinations to check\n",
      "1 new records to prepare\n"
     ]
    },
    {
     "name": "stderr",
     "output_type": "stream",
     "text": [
      "\n",
      "preparing: 100%|##########################################################################| 1/1 [00:00<00:00, 48.48it/s]\n"
     ]
    },
    {
     "name": "stdout",
     "output_type": "stream",
     "text": [
      "e02210ee-bdd6-471e-b1cf-4114811d8650\n",
      "sim calculated successfully\n",
      "\n",
      "189.844 0.4921 827.985\n",
      "0 existing calculation records provided\n"
     ]
    },
    {
     "name": "stderr",
     "output_type": "stream",
     "text": [
      "100%|█████████████████████████████████████████████████████████████████████████████████████| 1/1 [00:00<00:00,  4.22it/s]"
     ]
    },
    {
     "name": "stdout",
     "output_type": "stream",
     "text": [
      "1 calculation combinations to check\n",
      "1 new records to prepare\n"
     ]
    },
    {
     "name": "stderr",
     "output_type": "stream",
     "text": [
      "\n",
      "preparing: 100%|##########################################################################| 1/1 [00:00<00:00, 38.38it/s]\n"
     ]
    },
    {
     "name": "stdout",
     "output_type": "stream",
     "text": [
      "923f856e-b181-47c3-b936-21800102eb32\n",
      "sim calculated successfully\n",
      "\n",
      "189.844 0.4978 786.976\n",
      "0 existing calculation records provided\n"
     ]
    },
    {
     "name": "stderr",
     "output_type": "stream",
     "text": [
      "100%|█████████████████████████████████████████████████████████████████████████████████████| 1/1 [00:00<00:00,  4.27it/s]"
     ]
    },
    {
     "name": "stdout",
     "output_type": "stream",
     "text": [
      "1 calculation combinations to check\n",
      "1 new records to prepare\n"
     ]
    },
    {
     "name": "stderr",
     "output_type": "stream",
     "text": [
      "\n",
      "preparing: 100%|##########################################################################| 1/1 [00:00<00:00, 49.69it/s]\n"
     ]
    },
    {
     "name": "stdout",
     "output_type": "stream",
     "text": [
      "f817cdac-92dd-41f1-87ab-14dbb183fc94\n",
      "sim calculated successfully\n",
      "\n",
      "189.844 0.4759 778.957\n",
      "\n",
      "213 2023--Kumar-P--Fe-H--LAMMPS--ipr1\n",
      "0 existing calculation records provided\n"
     ]
    },
    {
     "name": "stderr",
     "output_type": "stream",
     "text": [
      "100%|█████████████████████████████████████████████████████████████████████████████████████| 1/1 [00:00<00:00,  3.71it/s]"
     ]
    },
    {
     "name": "stdout",
     "output_type": "stream",
     "text": [
      "1 calculation combinations to check\n",
      "1 new records to prepare\n"
     ]
    },
    {
     "name": "stderr",
     "output_type": "stream",
     "text": [
      "\n",
      "preparing: 100%|##########################################################################| 1/1 [00:00<00:00, 18.05it/s]\n"
     ]
    },
    {
     "name": "stdout",
     "output_type": "stream",
     "text": [
      "7907eade-f2c5-443a-8396-987ad8b64fc1\n",
      "error: \n",
      "0 existing calculation records provided\n"
     ]
    },
    {
     "name": "stderr",
     "output_type": "stream",
     "text": [
      "100%|█████████████████████████████████████████████████████████████████████████████████████| 1/1 [00:00<00:00,  4.42it/s]"
     ]
    },
    {
     "name": "stdout",
     "output_type": "stream",
     "text": [
      "1 calculation combinations to check\n",
      "1 new records to prepare\n"
     ]
    },
    {
     "name": "stderr",
     "output_type": "stream",
     "text": [
      "\n",
      "preparing: 100%|##########################################################################| 1/1 [00:00<00:00, 12.33it/s]\n"
     ]
    },
    {
     "name": "stdout",
     "output_type": "stream",
     "text": [
      "0efd72d7-8a46-4638-9fe8-0d5995111176\n",
      "error: \n",
      "0 existing calculation records provided\n"
     ]
    },
    {
     "name": "stderr",
     "output_type": "stream",
     "text": [
      "100%|█████████████████████████████████████████████████████████████████████████████████████| 1/1 [00:00<00:00,  4.31it/s]"
     ]
    },
    {
     "name": "stdout",
     "output_type": "stream",
     "text": [
      "1 calculation combinations to check\n",
      "1 new records to prepare\n"
     ]
    },
    {
     "name": "stderr",
     "output_type": "stream",
     "text": [
      "\n",
      "preparing: 100%|##########################################################################| 1/1 [00:00<00:00, 17.05it/s]\n"
     ]
    },
    {
     "name": "stdout",
     "output_type": "stream",
     "text": [
      "d3f08ed5-d0c1-4439-86fb-8de15bf23bf3\n",
      "error: \n",
      "0 existing calculation records provided\n"
     ]
    },
    {
     "name": "stderr",
     "output_type": "stream",
     "text": [
      "100%|█████████████████████████████████████████████████████████████████████████████████████| 1/1 [00:00<00:00,  4.32it/s]"
     ]
    },
    {
     "name": "stdout",
     "output_type": "stream",
     "text": [
      "1 calculation combinations to check\n",
      "1 new records to prepare\n"
     ]
    },
    {
     "name": "stderr",
     "output_type": "stream",
     "text": [
      "\n",
      "preparing: 100%|##########################################################################| 1/1 [00:00<00:00, 14.79it/s]\n"
     ]
    },
    {
     "name": "stdout",
     "output_type": "stream",
     "text": [
      "2ed6956f-6b26-4c27-8290-fab2a0035b29\n",
      "error: \n",
      "0 existing calculation records provided\n"
     ]
    },
    {
     "name": "stderr",
     "output_type": "stream",
     "text": [
      "100%|█████████████████████████████████████████████████████████████████████████████████████| 1/1 [00:00<00:00,  4.06it/s]"
     ]
    },
    {
     "name": "stdout",
     "output_type": "stream",
     "text": [
      "1 calculation combinations to check\n",
      "1 new records to prepare\n"
     ]
    },
    {
     "name": "stderr",
     "output_type": "stream",
     "text": [
      "\n",
      "preparing: 100%|##########################################################################| 1/1 [00:00<00:00, 16.31it/s]\n"
     ]
    },
    {
     "name": "stdout",
     "output_type": "stream",
     "text": [
      "c610561d-c4b2-472d-aedb-706bb17ad8fb\n",
      "error: \n",
      "0 existing calculation records provided\n"
     ]
    },
    {
     "name": "stderr",
     "output_type": "stream",
     "text": [
      "100%|█████████████████████████████████████████████████████████████████████████████████████| 1/1 [00:00<00:00,  4.06it/s]"
     ]
    },
    {
     "name": "stdout",
     "output_type": "stream",
     "text": [
      "1 calculation combinations to check\n",
      "1 new records to prepare\n"
     ]
    },
    {
     "name": "stderr",
     "output_type": "stream",
     "text": [
      "\n",
      "preparing: 100%|##########################################################################| 1/1 [00:00<00:00, 15.65it/s]\n"
     ]
    },
    {
     "name": "stdout",
     "output_type": "stream",
     "text": [
      "4b979c7a-6d31-432e-a511-864ebb15b9e2\n",
      "error: \n",
      "0 existing calculation records provided\n"
     ]
    },
    {
     "name": "stderr",
     "output_type": "stream",
     "text": [
      "100%|█████████████████████████████████████████████████████████████████████████████████████| 1/1 [00:00<00:00,  4.27it/s]"
     ]
    },
    {
     "name": "stdout",
     "output_type": "stream",
     "text": [
      "1 calculation combinations to check\n",
      "1 new records to prepare\n"
     ]
    },
    {
     "name": "stderr",
     "output_type": "stream",
     "text": [
      "\n",
      "preparing: 100%|##########################################################################| 1/1 [00:00<00:00, 15.26it/s]\n"
     ]
    },
    {
     "name": "stdout",
     "output_type": "stream",
     "text": [
      "5c95a749-c09e-4c70-b67d-df382b214d58\n",
      "error: \n",
      "0 existing calculation records provided\n"
     ]
    },
    {
     "name": "stderr",
     "output_type": "stream",
     "text": [
      "100%|█████████████████████████████████████████████████████████████████████████████████████| 1/1 [00:00<00:00,  4.19it/s]"
     ]
    },
    {
     "name": "stdout",
     "output_type": "stream",
     "text": [
      "1 calculation combinations to check\n",
      "1 new records to prepare\n"
     ]
    },
    {
     "name": "stderr",
     "output_type": "stream",
     "text": [
      "\n",
      "preparing: 100%|##########################################################################| 1/1 [00:00<00:00, 14.72it/s]\n"
     ]
    },
    {
     "name": "stdout",
     "output_type": "stream",
     "text": [
      "6bc82a97-33e5-4181-a6ab-837c46a73433\n",
      "error: \n",
      "0 existing calculation records provided\n"
     ]
    },
    {
     "name": "stderr",
     "output_type": "stream",
     "text": [
      "100%|█████████████████████████████████████████████████████████████████████████████████████| 1/1 [00:00<00:00,  4.31it/s]"
     ]
    },
    {
     "name": "stdout",
     "output_type": "stream",
     "text": [
      "1 calculation combinations to check\n",
      "1 new records to prepare\n"
     ]
    },
    {
     "name": "stderr",
     "output_type": "stream",
     "text": [
      "\n",
      "preparing: 100%|##########################################################################| 1/1 [00:00<00:00, 15.87it/s]\n"
     ]
    },
    {
     "name": "stdout",
     "output_type": "stream",
     "text": [
      "42411e3e-7f95-4dbe-8a44-5ba0aeef399c\n",
      "error: \n",
      "0 existing calculation records provided\n"
     ]
    },
    {
     "name": "stderr",
     "output_type": "stream",
     "text": [
      "100%|█████████████████████████████████████████████████████████████████████████████████████| 1/1 [00:00<00:00,  4.29it/s]"
     ]
    },
    {
     "name": "stdout",
     "output_type": "stream",
     "text": [
      "1 calculation combinations to check\n",
      "1 new records to prepare\n"
     ]
    },
    {
     "name": "stderr",
     "output_type": "stream",
     "text": [
      "\n",
      "preparing: 100%|##########################################################################| 1/1 [00:00<00:00, 15.49it/s]\n"
     ]
    },
    {
     "name": "stdout",
     "output_type": "stream",
     "text": [
      "ea89ac4d-2d7d-429e-a107-496a2ef1e70c\n",
      "error: \n",
      "0 existing calculation records provided\n"
     ]
    },
    {
     "name": "stderr",
     "output_type": "stream",
     "text": [
      "100%|█████████████████████████████████████████████████████████████████████████████████████| 1/1 [00:00<00:00,  4.23it/s]"
     ]
    },
    {
     "name": "stdout",
     "output_type": "stream",
     "text": [
      "1 calculation combinations to check\n",
      "1 new records to prepare\n"
     ]
    },
    {
     "name": "stderr",
     "output_type": "stream",
     "text": [
      "\n",
      "preparing: 100%|##########################################################################| 1/1 [00:00<00:00, 14.43it/s]\n"
     ]
    },
    {
     "name": "stdout",
     "output_type": "stream",
     "text": [
      "979ecb38-5395-4b0e-94aa-0f76c8c978e4\n",
      "error: \n",
      "0 existing calculation records provided\n"
     ]
    },
    {
     "name": "stderr",
     "output_type": "stream",
     "text": [
      "100%|█████████████████████████████████████████████████████████████████████████████████████| 1/1 [00:00<00:00,  4.17it/s]"
     ]
    },
    {
     "name": "stdout",
     "output_type": "stream",
     "text": [
      "1 calculation combinations to check\n",
      "1 new records to prepare\n"
     ]
    },
    {
     "name": "stderr",
     "output_type": "stream",
     "text": [
      "\n",
      "preparing: 100%|##########################################################################| 1/1 [00:00<00:00, 14.17it/s]\n"
     ]
    },
    {
     "name": "stdout",
     "output_type": "stream",
     "text": [
      "5f112070-6a0a-4b20-b4aa-87b2d56886b7\n",
      "error: \n",
      "0 existing calculation records provided\n"
     ]
    },
    {
     "name": "stderr",
     "output_type": "stream",
     "text": [
      "100%|█████████████████████████████████████████████████████████████████████████████████████| 1/1 [00:00<00:00,  3.93it/s]"
     ]
    },
    {
     "name": "stdout",
     "output_type": "stream",
     "text": [
      "1 calculation combinations to check\n",
      "1 new records to prepare\n"
     ]
    },
    {
     "name": "stderr",
     "output_type": "stream",
     "text": [
      "\n",
      "preparing: 100%|##########################################################################| 1/1 [00:00<00:00, 12.91it/s]\n"
     ]
    },
    {
     "name": "stdout",
     "output_type": "stream",
     "text": [
      "3628b5a1-f897-4ed8-a126-2d41cb9d90f1\n",
      "error: \n",
      "0 existing calculation records provided\n"
     ]
    },
    {
     "name": "stderr",
     "output_type": "stream",
     "text": [
      "100%|█████████████████████████████████████████████████████████████████████████████████████| 1/1 [00:00<00:00,  4.27it/s]"
     ]
    },
    {
     "name": "stdout",
     "output_type": "stream",
     "text": [
      "1 calculation combinations to check\n",
      "1 new records to prepare\n"
     ]
    },
    {
     "name": "stderr",
     "output_type": "stream",
     "text": [
      "\n",
      "preparing: 100%|##########################################################################| 1/1 [00:00<00:00, 15.03it/s]\n"
     ]
    },
    {
     "name": "stdout",
     "output_type": "stream",
     "text": [
      "9296f42f-aa69-4f0b-8bb4-6983b2e02daa\n",
      "error: \n",
      "0 existing calculation records provided\n"
     ]
    },
    {
     "name": "stderr",
     "output_type": "stream",
     "text": [
      "100%|█████████████████████████████████████████████████████████████████████████████████████| 1/1 [00:00<00:00,  4.34it/s]"
     ]
    },
    {
     "name": "stdout",
     "output_type": "stream",
     "text": [
      "1 calculation combinations to check\n",
      "1 new records to prepare\n"
     ]
    },
    {
     "name": "stderr",
     "output_type": "stream",
     "text": [
      "\n",
      "preparing: 100%|##########################################################################| 1/1 [00:00<00:00, 15.78it/s]\n"
     ]
    },
    {
     "name": "stdout",
     "output_type": "stream",
     "text": [
      "d9dfc3de-95b5-4fa2-92cb-8605a5bd48db\n",
      "error: \n",
      "0 existing calculation records provided\n"
     ]
    },
    {
     "name": "stderr",
     "output_type": "stream",
     "text": [
      "100%|█████████████████████████████████████████████████████████████████████████████████████| 1/1 [00:00<00:00,  4.03it/s]"
     ]
    },
    {
     "name": "stdout",
     "output_type": "stream",
     "text": [
      "1 calculation combinations to check\n",
      "1 new records to prepare\n"
     ]
    },
    {
     "name": "stderr",
     "output_type": "stream",
     "text": [
      "\n",
      "preparing: 100%|##########################################################################| 1/1 [00:00<00:00, 15.28it/s]\n"
     ]
    },
    {
     "name": "stdout",
     "output_type": "stream",
     "text": [
      "45c78aca-c37b-458a-9dce-5b54982eb419\n",
      "error: \n",
      "0 existing calculation records provided\n"
     ]
    },
    {
     "name": "stderr",
     "output_type": "stream",
     "text": [
      "100%|█████████████████████████████████████████████████████████████████████████████████████| 1/1 [00:00<00:00,  4.31it/s]"
     ]
    },
    {
     "name": "stdout",
     "output_type": "stream",
     "text": [
      "1 calculation combinations to check\n",
      "1 new records to prepare\n"
     ]
    },
    {
     "name": "stderr",
     "output_type": "stream",
     "text": [
      "\n",
      "preparing: 100%|##########################################################################| 1/1 [00:00<00:00, 15.94it/s]\n"
     ]
    },
    {
     "name": "stdout",
     "output_type": "stream",
     "text": [
      "5d7ce36e-e14e-4081-978d-268782c8f772\n",
      "error: \n",
      "0 existing calculation records provided\n"
     ]
    },
    {
     "name": "stderr",
     "output_type": "stream",
     "text": [
      "100%|█████████████████████████████████████████████████████████████████████████████████████| 1/1 [00:00<00:00,  4.09it/s]"
     ]
    },
    {
     "name": "stdout",
     "output_type": "stream",
     "text": [
      "1 calculation combinations to check\n",
      "1 new records to prepare\n"
     ]
    },
    {
     "name": "stderr",
     "output_type": "stream",
     "text": [
      "\n",
      "preparing: 100%|##########################################################################| 1/1 [00:00<00:00, 16.07it/s]\n"
     ]
    },
    {
     "name": "stdout",
     "output_type": "stream",
     "text": [
      "e6bb58d0-8363-471c-86ed-e3e1996f0abb\n",
      "error: \n",
      "0 existing calculation records provided\n"
     ]
    },
    {
     "name": "stderr",
     "output_type": "stream",
     "text": [
      "100%|█████████████████████████████████████████████████████████████████████████████████████| 1/1 [00:00<00:00,  4.06it/s]"
     ]
    },
    {
     "name": "stdout",
     "output_type": "stream",
     "text": [
      "1 calculation combinations to check\n",
      "1 new records to prepare\n"
     ]
    },
    {
     "name": "stderr",
     "output_type": "stream",
     "text": [
      "\n",
      "preparing: 100%|##########################################################################| 1/1 [00:00<00:00, 12.96it/s]\n"
     ]
    },
    {
     "name": "stdout",
     "output_type": "stream",
     "text": [
      "ffc44f9c-0954-46f2-b884-aaa20fd808a5\n",
      "error: \n",
      "0 existing calculation records provided\n"
     ]
    },
    {
     "name": "stderr",
     "output_type": "stream",
     "text": [
      "100%|█████████████████████████████████████████████████████████████████████████████████████| 1/1 [00:00<00:00,  4.29it/s]"
     ]
    },
    {
     "name": "stdout",
     "output_type": "stream",
     "text": [
      "1 calculation combinations to check\n",
      "1 new records to prepare\n"
     ]
    },
    {
     "name": "stderr",
     "output_type": "stream",
     "text": [
      "\n",
      "preparing: 100%|##########################################################################| 1/1 [00:00<00:00, 14.67it/s]\n"
     ]
    },
    {
     "name": "stdout",
     "output_type": "stream",
     "text": [
      "5d267c4a-0184-4c1d-8c16-5a747f5e3095\n",
      "error: \n",
      "0 existing calculation records provided\n"
     ]
    },
    {
     "name": "stderr",
     "output_type": "stream",
     "text": [
      "100%|█████████████████████████████████████████████████████████████████████████████████████| 1/1 [00:00<00:00,  4.08it/s]"
     ]
    },
    {
     "name": "stdout",
     "output_type": "stream",
     "text": [
      "1 calculation combinations to check\n",
      "1 new records to prepare\n"
     ]
    },
    {
     "name": "stderr",
     "output_type": "stream",
     "text": [
      "\n",
      "preparing: 100%|##########################################################################| 1/1 [00:00<00:00, 14.52it/s]\n"
     ]
    },
    {
     "name": "stdout",
     "output_type": "stream",
     "text": [
      "675e94c5-e192-40de-b352-027a38a1adf1\n",
      "error: \n",
      "0 existing calculation records provided\n"
     ]
    },
    {
     "name": "stderr",
     "output_type": "stream",
     "text": [
      "100%|█████████████████████████████████████████████████████████████████████████████████████| 1/1 [00:00<00:00,  4.49it/s]"
     ]
    },
    {
     "name": "stdout",
     "output_type": "stream",
     "text": [
      "1 calculation combinations to check\n",
      "1 new records to prepare\n"
     ]
    },
    {
     "name": "stderr",
     "output_type": "stream",
     "text": [
      "\n",
      "preparing: 100%|##########################################################################| 1/1 [00:00<00:00, 14.31it/s]\n"
     ]
    },
    {
     "name": "stdout",
     "output_type": "stream",
     "text": [
      "3bdba2e5-39e1-44ca-9b49-54d945cfc6a4\n",
      "error: \n",
      "0 existing calculation records provided\n"
     ]
    },
    {
     "name": "stderr",
     "output_type": "stream",
     "text": [
      "100%|█████████████████████████████████████████████████████████████████████████████████████| 1/1 [00:00<00:00,  4.37it/s]"
     ]
    },
    {
     "name": "stdout",
     "output_type": "stream",
     "text": [
      "1 calculation combinations to check\n",
      "1 new records to prepare\n"
     ]
    },
    {
     "name": "stderr",
     "output_type": "stream",
     "text": [
      "\n",
      "preparing: 100%|##########################################################################| 1/1 [00:00<00:00, 15.46it/s]\n"
     ]
    },
    {
     "name": "stdout",
     "output_type": "stream",
     "text": [
      "f99335ae-a820-49b0-a3ea-d111c5f8f2e8\n",
      "error: \n",
      "0 existing calculation records provided\n"
     ]
    },
    {
     "name": "stderr",
     "output_type": "stream",
     "text": [
      "100%|█████████████████████████████████████████████████████████████████████████████████████| 1/1 [00:00<00:00,  3.81it/s]"
     ]
    },
    {
     "name": "stdout",
     "output_type": "stream",
     "text": [
      "1 calculation combinations to check\n",
      "1 new records to prepare\n"
     ]
    },
    {
     "name": "stderr",
     "output_type": "stream",
     "text": [
      "\n",
      "preparing: 100%|##########################################################################| 1/1 [00:00<00:00, 16.56it/s]\n"
     ]
    },
    {
     "name": "stdout",
     "output_type": "stream",
     "text": [
      "3febe93e-f2df-4b91-956e-a1d742e2f9bd\n",
      "error: \n",
      "0 existing calculation records provided\n"
     ]
    },
    {
     "name": "stderr",
     "output_type": "stream",
     "text": [
      "100%|█████████████████████████████████████████████████████████████████████████████████████| 1/1 [00:00<00:00,  4.09it/s]"
     ]
    },
    {
     "name": "stdout",
     "output_type": "stream",
     "text": [
      "1 calculation combinations to check\n",
      "1 new records to prepare\n"
     ]
    },
    {
     "name": "stderr",
     "output_type": "stream",
     "text": [
      "\n",
      "preparing: 100%|##########################################################################| 1/1 [00:00<00:00, 13.27it/s]\n"
     ]
    },
    {
     "name": "stdout",
     "output_type": "stream",
     "text": [
      "dd2c2ab6-c2bc-4b90-b524-b182f6aaf11d\n",
      "error: \n",
      "0 existing calculation records provided\n"
     ]
    },
    {
     "name": "stderr",
     "output_type": "stream",
     "text": [
      "100%|█████████████████████████████████████████████████████████████████████████████████████| 1/1 [00:00<00:00,  4.00it/s]"
     ]
    },
    {
     "name": "stdout",
     "output_type": "stream",
     "text": [
      "1 calculation combinations to check\n",
      "1 new records to prepare\n"
     ]
    },
    {
     "name": "stderr",
     "output_type": "stream",
     "text": [
      "\n",
      "preparing: 100%|##########################################################################| 1/1 [00:00<00:00, 15.28it/s]\n"
     ]
    },
    {
     "name": "stdout",
     "output_type": "stream",
     "text": [
      "9d9e1871-0a57-48b7-b4dc-8854bede4a55\n",
      "error: \n",
      "0 existing calculation records provided\n"
     ]
    },
    {
     "name": "stderr",
     "output_type": "stream",
     "text": [
      "100%|█████████████████████████████████████████████████████████████████████████████████████| 1/1 [00:00<00:00,  4.04it/s]"
     ]
    },
    {
     "name": "stdout",
     "output_type": "stream",
     "text": [
      "1 calculation combinations to check\n",
      "1 new records to prepare\n"
     ]
    },
    {
     "name": "stderr",
     "output_type": "stream",
     "text": [
      "\n",
      "preparing: 100%|##########################################################################| 1/1 [00:00<00:00, 14.99it/s]\n"
     ]
    },
    {
     "name": "stdout",
     "output_type": "stream",
     "text": [
      "453db736-8623-4da3-a8f3-8e2dc11827d8\n",
      "error: \n",
      "0 existing calculation records provided\n"
     ]
    },
    {
     "name": "stderr",
     "output_type": "stream",
     "text": [
      "100%|█████████████████████████████████████████████████████████████████████████████████████| 1/1 [00:00<00:00,  4.29it/s]"
     ]
    },
    {
     "name": "stdout",
     "output_type": "stream",
     "text": [
      "1 calculation combinations to check\n",
      "1 new records to prepare\n"
     ]
    },
    {
     "name": "stderr",
     "output_type": "stream",
     "text": [
      "\n",
      "preparing: 100%|##########################################################################| 1/1 [00:00<00:00, 12.37it/s]\n"
     ]
    },
    {
     "name": "stdout",
     "output_type": "stream",
     "text": [
      "7ec6922f-1c8b-4ff5-9fdd-bd2279a63eb2\n",
      "error: \n",
      "0 existing calculation records provided\n"
     ]
    },
    {
     "name": "stderr",
     "output_type": "stream",
     "text": [
      "100%|█████████████████████████████████████████████████████████████████████████████████████| 1/1 [00:00<00:00,  4.27it/s]"
     ]
    },
    {
     "name": "stdout",
     "output_type": "stream",
     "text": [
      "1 calculation combinations to check\n",
      "1 new records to prepare\n"
     ]
    },
    {
     "name": "stderr",
     "output_type": "stream",
     "text": [
      "\n",
      "preparing: 100%|##########################################################################| 1/1 [00:00<00:00, 12.95it/s]\n"
     ]
    },
    {
     "name": "stdout",
     "output_type": "stream",
     "text": [
      "2c76fce4-569d-4f4a-88a7-aa2d474d017e\n",
      "error: \n",
      "0 existing calculation records provided\n"
     ]
    },
    {
     "name": "stderr",
     "output_type": "stream",
     "text": [
      "100%|█████████████████████████████████████████████████████████████████████████████████████| 1/1 [00:00<00:00,  4.15it/s]"
     ]
    },
    {
     "name": "stdout",
     "output_type": "stream",
     "text": [
      "1 calculation combinations to check\n",
      "1 new records to prepare\n"
     ]
    },
    {
     "name": "stderr",
     "output_type": "stream",
     "text": [
      "\n",
      "preparing: 100%|##########################################################################| 1/1 [00:00<00:00, 15.91it/s]\n"
     ]
    },
    {
     "name": "stdout",
     "output_type": "stream",
     "text": [
      "503c1930-96a3-4671-a881-9e25a8ba971f\n",
      "error: \n",
      "0 existing calculation records provided\n"
     ]
    },
    {
     "name": "stderr",
     "output_type": "stream",
     "text": [
      "100%|█████████████████████████████████████████████████████████████████████████████████████| 1/1 [00:00<00:00,  4.16it/s]"
     ]
    },
    {
     "name": "stdout",
     "output_type": "stream",
     "text": [
      "1 calculation combinations to check\n",
      "1 new records to prepare\n"
     ]
    },
    {
     "name": "stderr",
     "output_type": "stream",
     "text": [
      "\n",
      "preparing: 100%|##########################################################################| 1/1 [00:00<00:00, 16.33it/s]\n"
     ]
    },
    {
     "name": "stdout",
     "output_type": "stream",
     "text": [
      "2617a346-a9b5-48d1-ada4-47aa8f0d14ec\n",
      "error: \n",
      "0 existing calculation records provided\n"
     ]
    },
    {
     "name": "stderr",
     "output_type": "stream",
     "text": [
      "100%|█████████████████████████████████████████████████████████████████████████████████████| 1/1 [00:00<00:00,  3.99it/s]"
     ]
    },
    {
     "name": "stdout",
     "output_type": "stream",
     "text": [
      "1 calculation combinations to check\n",
      "1 new records to prepare\n"
     ]
    },
    {
     "name": "stderr",
     "output_type": "stream",
     "text": [
      "\n",
      "preparing: 100%|##########################################################################| 1/1 [00:00<00:00, 12.68it/s]\n"
     ]
    },
    {
     "name": "stdout",
     "output_type": "stream",
     "text": [
      "fb1da473-46ac-46f4-811b-d8bea7210dbc\n",
      "error: \n",
      "0 existing calculation records provided\n"
     ]
    },
    {
     "name": "stderr",
     "output_type": "stream",
     "text": [
      "100%|█████████████████████████████████████████████████████████████████████████████████████| 1/1 [00:00<00:00,  4.36it/s]"
     ]
    },
    {
     "name": "stdout",
     "output_type": "stream",
     "text": [
      "1 calculation combinations to check\n",
      "1 new records to prepare\n"
     ]
    },
    {
     "name": "stderr",
     "output_type": "stream",
     "text": [
      "\n",
      "preparing: 100%|##########################################################################| 1/1 [00:00<00:00, 14.34it/s]\n"
     ]
    },
    {
     "name": "stdout",
     "output_type": "stream",
     "text": [
      "12644686-dcd9-4ad8-8409-f3999541a5bc\n",
      "error: \n",
      "0 existing calculation records provided\n"
     ]
    },
    {
     "name": "stderr",
     "output_type": "stream",
     "text": [
      "100%|█████████████████████████████████████████████████████████████████████████████████████| 1/1 [00:00<00:00,  4.32it/s]"
     ]
    },
    {
     "name": "stdout",
     "output_type": "stream",
     "text": [
      "1 calculation combinations to check\n",
      "1 new records to prepare\n"
     ]
    },
    {
     "name": "stderr",
     "output_type": "stream",
     "text": [
      "\n",
      "preparing: 100%|##########################################################################| 1/1 [00:00<00:00, 16.35it/s]\n"
     ]
    },
    {
     "name": "stdout",
     "output_type": "stream",
     "text": [
      "f6dc0041-f8fd-4967-b579-c9a93efd9780\n",
      "error: \n",
      "0 existing calculation records provided\n"
     ]
    },
    {
     "name": "stderr",
     "output_type": "stream",
     "text": [
      "100%|█████████████████████████████████████████████████████████████████████████████████████| 1/1 [00:00<00:00,  4.21it/s]"
     ]
    },
    {
     "name": "stdout",
     "output_type": "stream",
     "text": [
      "1 calculation combinations to check\n",
      "1 new records to prepare\n"
     ]
    },
    {
     "name": "stderr",
     "output_type": "stream",
     "text": [
      "\n",
      "preparing: 100%|##########################################################################| 1/1 [00:00<00:00, 13.58it/s]\n"
     ]
    },
    {
     "name": "stdout",
     "output_type": "stream",
     "text": [
      "98e279b4-57d7-4c08-9057-907599ef9f96\n",
      "error: \n",
      "Max number of runs reached!\n",
      "\n",
      "212 2023--Kumar-P--Fe-H--LAMMPS--ipr1\n",
      "0 existing calculation records provided\n"
     ]
    },
    {
     "name": "stderr",
     "output_type": "stream",
     "text": [
      "100%|█████████████████████████████████████████████████████████████████████████████████████| 1/1 [00:00<00:00,  4.15it/s]"
     ]
    },
    {
     "name": "stdout",
     "output_type": "stream",
     "text": [
      "1 calculation combinations to check\n",
      "1 new records to prepare\n"
     ]
    },
    {
     "name": "stderr",
     "output_type": "stream",
     "text": [
      "\n",
      "preparing: 100%|##########################################################################| 1/1 [00:00<00:00, 17.07it/s]\n"
     ]
    },
    {
     "name": "stdout",
     "output_type": "stream",
     "text": [
      "ef846889-a09a-4cb8-baa7-35b0710c3d04\n",
      "sim calculated successfully\n",
      "\n",
      "4525.000 0.0107 4518.073\n",
      "0 existing calculation records provided\n"
     ]
    },
    {
     "name": "stderr",
     "output_type": "stream",
     "text": [
      "100%|█████████████████████████████████████████████████████████████████████████████████████| 1/1 [00:00<00:00,  4.32it/s]"
     ]
    },
    {
     "name": "stdout",
     "output_type": "stream",
     "text": [
      "1 calculation combinations to check\n",
      "1 new records to prepare\n"
     ]
    },
    {
     "name": "stderr",
     "output_type": "stream",
     "text": [
      "\n",
      "preparing: 100%|##########################################################################| 1/1 [00:00<00:00, 13.98it/s]\n"
     ]
    },
    {
     "name": "stdout",
     "output_type": "stream",
     "text": [
      "19751ccd-845e-4ac0-a33c-8bae7d14effe\n",
      "sim calculated successfully\n",
      "\n",
      "2287.500 0.0003414 2378.870\n",
      "0 existing calculation records provided\n"
     ]
    },
    {
     "name": "stderr",
     "output_type": "stream",
     "text": [
      "100%|█████████████████████████████████████████████████████████████████████████████████████| 1/1 [00:00<00:00,  4.33it/s]"
     ]
    },
    {
     "name": "stdout",
     "output_type": "stream",
     "text": [
      "1 calculation combinations to check\n",
      "1 new records to prepare\n"
     ]
    },
    {
     "name": "stderr",
     "output_type": "stream",
     "text": [
      "\n",
      "preparing: 100%|##########################################################################| 1/1 [00:00<00:00, 16.50it/s]\n"
     ]
    },
    {
     "name": "stdout",
     "output_type": "stream",
     "text": [
      "ab7f9a0e-eda4-436a-afc2-82c381b696df\n",
      "sim calculated successfully\n",
      "\n",
      "1168.750 0.9811 1578.041\n",
      "0 existing calculation records provided\n"
     ]
    },
    {
     "name": "stderr",
     "output_type": "stream",
     "text": [
      "100%|█████████████████████████████████████████████████████████████████████████████████████| 1/1 [00:00<00:00,  4.13it/s]"
     ]
    },
    {
     "name": "stdout",
     "output_type": "stream",
     "text": [
      "1 calculation combinations to check\n",
      "1 new records to prepare\n"
     ]
    },
    {
     "name": "stderr",
     "output_type": "stream",
     "text": [
      "\n",
      "preparing: 100%|##########################################################################| 1/1 [00:00<00:00, 16.36it/s]\n"
     ]
    },
    {
     "name": "stdout",
     "output_type": "stream",
     "text": [
      "65292614-b04d-442b-9f3b-d59e6759a481\n",
      "sim calculated successfully\n",
      "\n",
      "1728.125 0.844 2115.498\n",
      "0 existing calculation records provided\n"
     ]
    },
    {
     "name": "stderr",
     "output_type": "stream",
     "text": [
      "100%|█████████████████████████████████████████████████████████████████████████████████████| 1/1 [00:00<00:00,  4.38it/s]"
     ]
    },
    {
     "name": "stdout",
     "output_type": "stream",
     "text": [
      "1 calculation combinations to check\n",
      "1 new records to prepare\n"
     ]
    },
    {
     "name": "stderr",
     "output_type": "stream",
     "text": [
      "\n",
      "preparing: 100%|##########################################################################| 1/1 [00:00<00:00, 12.05it/s]\n"
     ]
    },
    {
     "name": "stdout",
     "output_type": "stream",
     "text": [
      "c6b53afc-40d0-4ff1-96df-9f03867b9826\n",
      "sim calculated successfully\n",
      "\n",
      "2007.812 0.5432 2482.021\n",
      "0 existing calculation records provided\n"
     ]
    },
    {
     "name": "stderr",
     "output_type": "stream",
     "text": [
      "100%|█████████████████████████████████████████████████████████████████████████████████████| 1/1 [00:00<00:00,  4.34it/s]"
     ]
    },
    {
     "name": "stdout",
     "output_type": "stream",
     "text": [
      "1 calculation combinations to check\n",
      "1 new records to prepare\n"
     ]
    },
    {
     "name": "stderr",
     "output_type": "stream",
     "text": [
      "\n",
      "preparing: 100%|##########################################################################| 1/1 [00:00<00:00, 14.38it/s]\n"
     ]
    },
    {
     "name": "stdout",
     "output_type": "stream",
     "text": [
      "8b97a4e9-ca1d-4a0d-851e-f0a579e48bbe\n",
      "sim calculated successfully\n",
      "\n",
      "2007.812 0.5534 2483.935\n",
      "0 existing calculation records provided\n"
     ]
    },
    {
     "name": "stderr",
     "output_type": "stream",
     "text": [
      "100%|█████████████████████████████████████████████████████████████████████████████████████| 1/1 [00:00<00:00,  4.36it/s]"
     ]
    },
    {
     "name": "stdout",
     "output_type": "stream",
     "text": [
      "1 calculation combinations to check\n",
      "1 new records to prepare\n"
     ]
    },
    {
     "name": "stderr",
     "output_type": "stream",
     "text": [
      "\n",
      "preparing: 100%|##########################################################################| 1/1 [00:00<00:00, 16.38it/s]\n"
     ]
    },
    {
     "name": "stdout",
     "output_type": "stream",
     "text": [
      "adba67d1-ae82-475a-89f2-7855f00bdaa1\n",
      "sim calculated successfully\n",
      "\n",
      "2007.812 0.5478 2472.527\n",
      "0 existing calculation records provided\n"
     ]
    },
    {
     "name": "stderr",
     "output_type": "stream",
     "text": [
      "100%|█████████████████████████████████████████████████████████████████████████████████████| 1/1 [00:00<00:00,  4.26it/s]"
     ]
    },
    {
     "name": "stdout",
     "output_type": "stream",
     "text": [
      "1 calculation combinations to check\n",
      "1 new records to prepare\n"
     ]
    },
    {
     "name": "stderr",
     "output_type": "stream",
     "text": [
      "\n",
      "preparing: 100%|##########################################################################| 1/1 [00:00<00:00, 16.02it/s]\n"
     ]
    },
    {
     "name": "stdout",
     "output_type": "stream",
     "text": [
      "eb55e686-ba89-44ab-87a8-1336d39c099a\n",
      "sim calculated successfully\n",
      "\n",
      "2007.812 0.5254 2486.333\n",
      "0 existing calculation records provided\n"
     ]
    },
    {
     "name": "stderr",
     "output_type": "stream",
     "text": [
      "100%|█████████████████████████████████████████████████████████████████████████████████████| 1/1 [00:00<00:00,  4.27it/s]"
     ]
    },
    {
     "name": "stdout",
     "output_type": "stream",
     "text": [
      "1 calculation combinations to check\n",
      "1 new records to prepare\n"
     ]
    },
    {
     "name": "stderr",
     "output_type": "stream",
     "text": [
      "\n",
      "preparing: 100%|##########################################################################| 1/1 [00:00<00:00, 16.92it/s]\n"
     ]
    },
    {
     "name": "stdout",
     "output_type": "stream",
     "text": [
      "4ed7ba0d-82fa-4ff2-ab4d-81693205b01d\n",
      "sim calculated successfully\n",
      "\n",
      "2007.812 0.5421 2482.381\n",
      "0 existing calculation records provided\n"
     ]
    },
    {
     "name": "stderr",
     "output_type": "stream",
     "text": [
      "100%|█████████████████████████████████████████████████████████████████████████████████████| 1/1 [00:00<00:00,  4.32it/s]"
     ]
    },
    {
     "name": "stdout",
     "output_type": "stream",
     "text": [
      "1 calculation combinations to check\n",
      "1 new records to prepare\n"
     ]
    },
    {
     "name": "stderr",
     "output_type": "stream",
     "text": [
      "\n",
      "preparing: 100%|##########################################################################| 1/1 [00:00<00:00, 14.75it/s]\n"
     ]
    },
    {
     "name": "stdout",
     "output_type": "stream",
     "text": [
      "16eaaee0-5bfd-4b77-a644-40fa9b397c97\n",
      "sim calculated successfully\n",
      "\n",
      "2007.812 0.5607 2464.931\n",
      "0 existing calculation records provided\n"
     ]
    },
    {
     "name": "stderr",
     "output_type": "stream",
     "text": [
      "100%|█████████████████████████████████████████████████████████████████████████████████████| 1/1 [00:00<00:00,  4.37it/s]"
     ]
    },
    {
     "name": "stdout",
     "output_type": "stream",
     "text": [
      "1 calculation combinations to check\n",
      "1 new records to prepare\n"
     ]
    },
    {
     "name": "stderr",
     "output_type": "stream",
     "text": [
      "\n",
      "preparing: 100%|##########################################################################| 1/1 [00:00<00:00, 13.92it/s]\n"
     ]
    },
    {
     "name": "stdout",
     "output_type": "stream",
     "text": [
      "520ec621-d312-4cbf-bb25-b89b693cf93e\n",
      "sim calculated successfully\n",
      "\n",
      "2007.812 0.5706 2467.202\n",
      "0 existing calculation records provided\n"
     ]
    },
    {
     "name": "stderr",
     "output_type": "stream",
     "text": [
      "100%|█████████████████████████████████████████████████████████████████████████████████████| 1/1 [00:00<00:00,  4.36it/s]"
     ]
    },
    {
     "name": "stdout",
     "output_type": "stream",
     "text": [
      "1 calculation combinations to check\n",
      "1 new records to prepare\n"
     ]
    },
    {
     "name": "stderr",
     "output_type": "stream",
     "text": [
      "\n",
      "preparing: 100%|##########################################################################| 1/1 [00:00<00:00, 12.84it/s]\n"
     ]
    },
    {
     "name": "stdout",
     "output_type": "stream",
     "text": [
      "14b78c21-b401-4f08-a311-0bd385e9e72f\n",
      "sim calculated successfully\n",
      "\n",
      "2007.812 0.5915 2445.335\n",
      "0 existing calculation records provided\n"
     ]
    },
    {
     "name": "stderr",
     "output_type": "stream",
     "text": [
      "100%|█████████████████████████████████████████████████████████████████████████████████████| 1/1 [00:00<00:00,  4.22it/s]"
     ]
    },
    {
     "name": "stdout",
     "output_type": "stream",
     "text": [
      "1 calculation combinations to check\n",
      "1 new records to prepare\n"
     ]
    },
    {
     "name": "stderr",
     "output_type": "stream",
     "text": [
      "\n",
      "preparing: 100%|##########################################################################| 1/1 [00:00<00:00, 14.22it/s]\n"
     ]
    },
    {
     "name": "stdout",
     "output_type": "stream",
     "text": [
      "3dcfdc6e-1f54-4992-950b-1fba1c14df6f\n",
      "sim calculated successfully\n",
      "\n",
      "2007.812 0.5372 2488.274\n",
      "0 existing calculation records provided\n"
     ]
    },
    {
     "name": "stderr",
     "output_type": "stream",
     "text": [
      "100%|█████████████████████████████████████████████████████████████████████████████████████| 1/1 [00:00<00:00,  4.37it/s]"
     ]
    },
    {
     "name": "stdout",
     "output_type": "stream",
     "text": [
      "1 calculation combinations to check\n",
      "1 new records to prepare\n"
     ]
    },
    {
     "name": "stderr",
     "output_type": "stream",
     "text": [
      "\n",
      "preparing: 100%|##########################################################################| 1/1 [00:00<00:00, 14.48it/s]\n"
     ]
    },
    {
     "name": "stdout",
     "output_type": "stream",
     "text": [
      "d334e6f2-4093-4d14-b4be-3eaf6b87afda\n",
      "sim calculated successfully\n",
      "\n",
      "2007.812 0.5482 2479.616\n",
      "\n",
      "211 2023--Al-Awad-A-S--Pb-Li--LAMMPS--ipr1\n",
      "0 existing calculation records provided\n"
     ]
    },
    {
     "name": "stderr",
     "output_type": "stream",
     "text": [
      "100%|█████████████████████████████████████████████████████████████████████████████████████| 1/1 [00:00<00:00,  3.92it/s]"
     ]
    },
    {
     "name": "stdout",
     "output_type": "stream",
     "text": [
      "1 calculation combinations to check\n",
      "1 new records to prepare\n"
     ]
    },
    {
     "name": "stderr",
     "output_type": "stream",
     "text": [
      "\n",
      "preparing: 100%|##########################################################################| 1/1 [00:00<00:00, 30.13it/s]\n"
     ]
    },
    {
     "name": "stdout",
     "output_type": "stream",
     "text": [
      "552a7a4f-98bb-4b31-afbf-aabc476da835\n",
      "sim calculated successfully\n",
      "\n",
      "4525.000 0.4274 779.172\n",
      "0 existing calculation records provided\n"
     ]
    },
    {
     "name": "stderr",
     "output_type": "stream",
     "text": [
      "100%|█████████████████████████████████████████████████████████████████████████████████████| 1/1 [00:00<00:00,  4.38it/s]"
     ]
    },
    {
     "name": "stdout",
     "output_type": "stream",
     "text": [
      "1 calculation combinations to check\n",
      "1 new records to prepare\n"
     ]
    },
    {
     "name": "stderr",
     "output_type": "stream",
     "text": [
      "\n",
      "preparing: 100%|##########################################################################| 1/1 [00:00<00:00, 69.56it/s]\n"
     ]
    },
    {
     "name": "stdout",
     "output_type": "stream",
     "text": [
      "5fb4b6b0-0228-4a8c-985d-efd9873e1c2b\n",
      "sim calculated successfully\n",
      "\n",
      "4525.000 0.4285 778.164\n",
      "0 existing calculation records provided\n"
     ]
    },
    {
     "name": "stderr",
     "output_type": "stream",
     "text": [
      "100%|█████████████████████████████████████████████████████████████████████████████████████| 1/1 [00:00<00:00,  4.42it/s]"
     ]
    },
    {
     "name": "stdout",
     "output_type": "stream",
     "text": [
      "1 calculation combinations to check\n",
      "1 new records to prepare\n"
     ]
    },
    {
     "name": "stderr",
     "output_type": "stream",
     "text": [
      "\n",
      "preparing: 100%|##########################################################################| 1/1 [00:00<00:00, 53.22it/s]\n"
     ]
    },
    {
     "name": "stdout",
     "output_type": "stream",
     "text": [
      "e82792c7-1c19-40fe-bf0f-d6244256269d\n",
      "sim calculated successfully\n",
      "\n",
      "4525.000 0.4266 793.313\n",
      "0 existing calculation records provided\n"
     ]
    },
    {
     "name": "stderr",
     "output_type": "stream",
     "text": [
      "100%|█████████████████████████████████████████████████████████████████████████████████████| 1/1 [00:00<00:00,  4.36it/s]"
     ]
    },
    {
     "name": "stdout",
     "output_type": "stream",
     "text": [
      "1 calculation combinations to check\n",
      "1 new records to prepare\n"
     ]
    },
    {
     "name": "stderr",
     "output_type": "stream",
     "text": [
      "\n",
      "preparing: 100%|##########################################################################| 1/1 [00:00<00:00, 44.43it/s]\n"
     ]
    },
    {
     "name": "stdout",
     "output_type": "stream",
     "text": [
      "32340f25-b3c4-4745-a9f0-8bcf1ec4734d\n",
      "sim calculated successfully\n",
      "\n",
      "4525.000 0.4395 764.594\n",
      "0 existing calculation records provided\n"
     ]
    },
    {
     "name": "stderr",
     "output_type": "stream",
     "text": [
      "100%|█████████████████████████████████████████████████████████████████████████████████████| 1/1 [00:00<00:00,  4.44it/s]"
     ]
    },
    {
     "name": "stdout",
     "output_type": "stream",
     "text": [
      "1 calculation combinations to check\n",
      "1 new records to prepare\n"
     ]
    },
    {
     "name": "stderr",
     "output_type": "stream",
     "text": [
      "\n",
      "preparing: 100%|##########################################################################| 1/1 [00:00<00:00, 27.91it/s]\n"
     ]
    },
    {
     "name": "stdout",
     "output_type": "stream",
     "text": [
      "38a9daac-5013-4e2c-adb5-02310823f3c2\n",
      "sim calculated successfully\n",
      "\n",
      "4525.000 0.4261 765.702\n",
      "0 existing calculation records provided\n"
     ]
    },
    {
     "name": "stderr",
     "output_type": "stream",
     "text": [
      "100%|█████████████████████████████████████████████████████████████████████████████████████| 1/1 [00:00<00:00,  4.32it/s]"
     ]
    },
    {
     "name": "stdout",
     "output_type": "stream",
     "text": [
      "1 calculation combinations to check\n",
      "1 new records to prepare\n"
     ]
    },
    {
     "name": "stderr",
     "output_type": "stream",
     "text": [
      "\n",
      "preparing: 100%|##########################################################################| 1/1 [00:00<00:00, 31.80it/s]\n"
     ]
    },
    {
     "name": "stdout",
     "output_type": "stream",
     "text": [
      "4da95c63-1948-450b-9873-d526a54d8419\n",
      "sim calculated successfully\n",
      "\n",
      "4525.000 0.4266 777.882\n",
      "0 existing calculation records provided\n"
     ]
    },
    {
     "name": "stderr",
     "output_type": "stream",
     "text": [
      "100%|█████████████████████████████████████████████████████████████████████████████████████| 1/1 [00:00<00:00,  4.39it/s]"
     ]
    },
    {
     "name": "stdout",
     "output_type": "stream",
     "text": [
      "1 calculation combinations to check\n",
      "1 new records to prepare\n"
     ]
    },
    {
     "name": "stderr",
     "output_type": "stream",
     "text": [
      "\n",
      "preparing: 100%|##########################################################################| 1/1 [00:00<00:00, 50.86it/s]\n"
     ]
    },
    {
     "name": "stdout",
     "output_type": "stream",
     "text": [
      "98ac646b-ff00-4c23-bdaa-8570f93ae3c4\n",
      "sim calculated successfully\n",
      "\n",
      "4525.000 0.432 775.857\n",
      "0 existing calculation records provided\n"
     ]
    },
    {
     "name": "stderr",
     "output_type": "stream",
     "text": [
      "100%|█████████████████████████████████████████████████████████████████████████████████████| 1/1 [00:00<00:00,  4.45it/s]"
     ]
    },
    {
     "name": "stdout",
     "output_type": "stream",
     "text": [
      "1 calculation combinations to check\n",
      "1 new records to prepare\n"
     ]
    },
    {
     "name": "stderr",
     "output_type": "stream",
     "text": [
      "\n",
      "preparing: 100%|##########################################################################| 1/1 [00:00<00:00, 30.94it/s]\n"
     ]
    },
    {
     "name": "stdout",
     "output_type": "stream",
     "text": [
      "1bd2cadd-3f10-4428-a066-9ca43a05e2cd\n",
      "sim calculated successfully\n",
      "\n",
      "4525.000 0.4254 788.202\n",
      "0 existing calculation records provided\n"
     ]
    },
    {
     "name": "stderr",
     "output_type": "stream",
     "text": [
      "100%|█████████████████████████████████████████████████████████████████████████████████████| 1/1 [00:00<00:00,  4.12it/s]"
     ]
    },
    {
     "name": "stdout",
     "output_type": "stream",
     "text": [
      "1 calculation combinations to check\n",
      "1 new records to prepare\n"
     ]
    },
    {
     "name": "stderr",
     "output_type": "stream",
     "text": [
      "\n",
      "preparing: 100%|##########################################################################| 1/1 [00:00<00:00, 31.47it/s]\n"
     ]
    },
    {
     "name": "stdout",
     "output_type": "stream",
     "text": [
      "ce090db3-2c58-4224-af75-187d35762a58\n",
      "sim calculated successfully\n",
      "\n",
      "4525.000 0.4258 792.527\n",
      "0 existing calculation records provided\n"
     ]
    },
    {
     "name": "stderr",
     "output_type": "stream",
     "text": [
      "100%|█████████████████████████████████████████████████████████████████████████████████████| 1/1 [00:00<00:00,  4.27it/s]"
     ]
    },
    {
     "name": "stdout",
     "output_type": "stream",
     "text": [
      "1 calculation combinations to check\n",
      "1 new records to prepare\n"
     ]
    },
    {
     "name": "stderr",
     "output_type": "stream",
     "text": [
      "\n",
      "preparing: 100%|##########################################################################| 1/1 [00:00<00:00, 37.60it/s]\n"
     ]
    },
    {
     "name": "stdout",
     "output_type": "stream",
     "text": [
      "22ac254f-833a-42e9-927e-d96560535c35\n",
      "sim calculated successfully\n",
      "\n",
      "4525.000 0.4214 790.620\n",
      "\n",
      "210 2023--Al-Awad-A-S--Li--LAMMPS--ipr1\n",
      "0 existing calculation records provided\n"
     ]
    },
    {
     "name": "stderr",
     "output_type": "stream",
     "text": [
      "100%|█████████████████████████████████████████████████████████████████████████████████████| 1/1 [00:00<00:00,  4.42it/s]"
     ]
    },
    {
     "name": "stdout",
     "output_type": "stream",
     "text": [
      "1 calculation combinations to check\n",
      "1 new records to prepare\n"
     ]
    },
    {
     "name": "stderr",
     "output_type": "stream",
     "text": [
      "\n",
      "preparing: 100%|##########################################################################| 1/1 [00:00<00:00, 46.52it/s]\n"
     ]
    },
    {
     "name": "stdout",
     "output_type": "stream",
     "text": [
      "6d1c84b9-ffeb-4bce-910e-30c7f8970e72\n",
      "sim calculated successfully\n",
      "\n",
      "4525.000 0.4037 795.737\n",
      "0 existing calculation records provided\n"
     ]
    },
    {
     "name": "stderr",
     "output_type": "stream",
     "text": [
      "100%|█████████████████████████████████████████████████████████████████████████████████████| 1/1 [00:00<00:00,  4.09it/s]"
     ]
    },
    {
     "name": "stdout",
     "output_type": "stream",
     "text": [
      "1 calculation combinations to check\n",
      "1 new records to prepare\n"
     ]
    },
    {
     "name": "stderr",
     "output_type": "stream",
     "text": [
      "\n",
      "preparing: 100%|##########################################################################| 1/1 [00:00<00:00, 42.01it/s]\n"
     ]
    },
    {
     "name": "stdout",
     "output_type": "stream",
     "text": [
      "f9c845b2-74d0-4778-8eeb-bf1ea07151fc\n",
      "sim calculated successfully\n",
      "\n",
      "4525.000 0.3947 810.878\n",
      "0 existing calculation records provided\n"
     ]
    },
    {
     "name": "stderr",
     "output_type": "stream",
     "text": [
      "100%|█████████████████████████████████████████████████████████████████████████████████████| 1/1 [00:00<00:00,  4.12it/s]"
     ]
    },
    {
     "name": "stdout",
     "output_type": "stream",
     "text": [
      "1 calculation combinations to check\n",
      "1 new records to prepare\n"
     ]
    },
    {
     "name": "stderr",
     "output_type": "stream",
     "text": [
      "\n",
      "preparing: 100%|##########################################################################| 1/1 [00:00<00:00, 62.25it/s]\n"
     ]
    },
    {
     "name": "stdout",
     "output_type": "stream",
     "text": [
      "d8480e61-b0ff-4425-9653-cf6b71783c44\n",
      "sim calculated successfully\n",
      "\n",
      "2287.500 0.01387 2246.913\n",
      "0 existing calculation records provided\n"
     ]
    },
    {
     "name": "stderr",
     "output_type": "stream",
     "text": [
      "100%|█████████████████████████████████████████████████████████████████████████████████████| 1/1 [00:00<00:00,  4.39it/s]"
     ]
    },
    {
     "name": "stdout",
     "output_type": "stream",
     "text": [
      "1 calculation combinations to check\n",
      "1 new records to prepare\n"
     ]
    },
    {
     "name": "stderr",
     "output_type": "stream",
     "text": [
      "\n",
      "preparing: 100%|##########################################################################| 1/1 [00:00<00:00, 32.70it/s]\n"
     ]
    },
    {
     "name": "stdout",
     "output_type": "stream",
     "text": [
      "b8341483-7370-4d6a-b198-2c635c0e5ce0\n",
      "sim calculated successfully\n",
      "\n",
      "1168.750 0.0 1161.455\n",
      "0 existing calculation records provided\n"
     ]
    },
    {
     "name": "stderr",
     "output_type": "stream",
     "text": [
      "100%|█████████████████████████████████████████████████████████████████████████████████████| 1/1 [00:00<00:00,  4.46it/s]"
     ]
    },
    {
     "name": "stdout",
     "output_type": "stream",
     "text": [
      "1 calculation combinations to check\n",
      "1 new records to prepare\n"
     ]
    },
    {
     "name": "stderr",
     "output_type": "stream",
     "text": [
      "\n",
      "preparing: 100%|##########################################################################| 1/1 [00:00<00:00, 35.58it/s]\n"
     ]
    },
    {
     "name": "stdout",
     "output_type": "stream",
     "text": [
      "3e3581ba-694a-4655-bbfe-b6830a3b6ea6\n",
      "sim calculated successfully\n",
      "\n",
      "609.375 9.31e-05 603.168\n",
      "0 existing calculation records provided\n"
     ]
    },
    {
     "name": "stderr",
     "output_type": "stream",
     "text": [
      "100%|█████████████████████████████████████████████████████████████████████████████████████| 1/1 [00:00<00:00,  4.18it/s]"
     ]
    },
    {
     "name": "stdout",
     "output_type": "stream",
     "text": [
      "1 calculation combinations to check\n",
      "1 new records to prepare\n"
     ]
    },
    {
     "name": "stderr",
     "output_type": "stream",
     "text": [
      "\n",
      "preparing: 100%|##########################################################################| 1/1 [00:00<00:00, 39.48it/s]\n"
     ]
    },
    {
     "name": "stdout",
     "output_type": "stream",
     "text": [
      "34546de0-ffc7-415a-bc6a-8efbb56e8d59\n",
      "sim calculated successfully\n",
      "\n",
      "329.688 0.9572 327.995\n",
      "0 existing calculation records provided\n"
     ]
    },
    {
     "name": "stderr",
     "output_type": "stream",
     "text": [
      "100%|█████████████████████████████████████████████████████████████████████████████████████| 1/1 [00:00<00:00,  4.08it/s]"
     ]
    },
    {
     "name": "stdout",
     "output_type": "stream",
     "text": [
      "1 calculation combinations to check\n",
      "1 new records to prepare\n"
     ]
    },
    {
     "name": "stderr",
     "output_type": "stream",
     "text": [
      "\n",
      "preparing: 100%|##########################################################################| 1/1 [00:00<00:00, 41.65it/s]\n"
     ]
    },
    {
     "name": "stdout",
     "output_type": "stream",
     "text": [
      "1710783b-745e-45fb-9293-23d4bd3c997d\n",
      "sim calculated successfully\n",
      "\n",
      "469.531 0.2174 455.522\n",
      "0 existing calculation records provided\n"
     ]
    },
    {
     "name": "stderr",
     "output_type": "stream",
     "text": [
      "100%|█████████████████████████████████████████████████████████████████████████████████████| 1/1 [00:00<00:00,  4.24it/s]"
     ]
    },
    {
     "name": "stdout",
     "output_type": "stream",
     "text": [
      "1 calculation combinations to check\n",
      "1 new records to prepare\n"
     ]
    },
    {
     "name": "stderr",
     "output_type": "stream",
     "text": [
      "\n",
      "preparing: 100%|##########################################################################| 1/1 [00:00<00:00, 41.18it/s]\n"
     ]
    },
    {
     "name": "stdout",
     "output_type": "stream",
     "text": [
      "0b108587-8b7a-49e5-9042-6f6fbb110b84\n",
      "sim calculated successfully\n",
      "\n",
      "399.609 0.8418 415.838\n",
      "0 existing calculation records provided\n"
     ]
    },
    {
     "name": "stderr",
     "output_type": "stream",
     "text": [
      "100%|█████████████████████████████████████████████████████████████████████████████████████| 1/1 [00:00<00:00,  4.88it/s]"
     ]
    },
    {
     "name": "stdout",
     "output_type": "stream",
     "text": [
      "1 calculation combinations to check\n",
      "1 new records to prepare\n"
     ]
    },
    {
     "name": "stderr",
     "output_type": "stream",
     "text": [
      "\n",
      "preparing: 100%|##########################################################################| 1/1 [00:00<00:00, 43.25it/s]\n"
     ]
    },
    {
     "name": "stdout",
     "output_type": "stream",
     "text": [
      "bfc67273-292b-4126-b6b9-9f781fdf4d8b\n",
      "sim calculated successfully\n",
      "\n",
      "434.570 0.6648 470.218\n",
      "0 existing calculation records provided\n"
     ]
    },
    {
     "name": "stderr",
     "output_type": "stream",
     "text": [
      "100%|█████████████████████████████████████████████████████████████████████████████████████| 1/1 [00:00<00:00,  4.43it/s]"
     ]
    },
    {
     "name": "stdout",
     "output_type": "stream",
     "text": [
      "1 calculation combinations to check\n",
      "1 new records to prepare\n"
     ]
    },
    {
     "name": "stderr",
     "output_type": "stream",
     "text": [
      "\n",
      "preparing: 100%|##########################################################################| 1/1 [00:00<00:00, 45.60it/s]\n"
     ]
    },
    {
     "name": "stdout",
     "output_type": "stream",
     "text": [
      "a0b37bd8-72c9-48f1-a1c5-580ee318b8ac\n",
      "sim calculated successfully\n",
      "\n",
      "452.051 0.4173 453.968\n",
      "0 existing calculation records provided\n"
     ]
    },
    {
     "name": "stderr",
     "output_type": "stream",
     "text": [
      "100%|█████████████████████████████████████████████████████████████████████████████████████| 1/1 [00:00<00:00,  4.88it/s]"
     ]
    },
    {
     "name": "stdout",
     "output_type": "stream",
     "text": [
      "1 calculation combinations to check\n",
      "1 new records to prepare\n"
     ]
    },
    {
     "name": "stderr",
     "output_type": "stream",
     "text": [
      "\n",
      "preparing: 100%|##########################################################################| 1/1 [00:00<00:00, 41.87it/s]\n"
     ]
    },
    {
     "name": "stdout",
     "output_type": "stream",
     "text": [
      "59531ea5-ddb5-453c-9940-c93a5e9d3f60\n",
      "sim calculated successfully\n",
      "\n",
      "452.051 0.3715 453.903\n",
      "0 existing calculation records provided\n"
     ]
    },
    {
     "name": "stderr",
     "output_type": "stream",
     "text": [
      "100%|█████████████████████████████████████████████████████████████████████████████████████| 1/1 [00:00<00:00,  4.40it/s]"
     ]
    },
    {
     "name": "stdout",
     "output_type": "stream",
     "text": [
      "1 calculation combinations to check\n",
      "1 new records to prepare\n"
     ]
    },
    {
     "name": "stderr",
     "output_type": "stream",
     "text": [
      "\n",
      "preparing: 100%|##########################################################################| 1/1 [00:00<00:00, 71.06it/s]\n"
     ]
    },
    {
     "name": "stdout",
     "output_type": "stream",
     "text": [
      "9e3bfb44-f946-489a-afc9-2073d816f12d\n",
      "sim calculated successfully\n",
      "\n",
      "425.830 0.7114 459.747\n",
      "0 existing calculation records provided\n"
     ]
    },
    {
     "name": "stderr",
     "output_type": "stream",
     "text": [
      "100%|█████████████████████████████████████████████████████████████████████████████████████| 1/1 [00:00<00:00,  4.37it/s]"
     ]
    },
    {
     "name": "stdout",
     "output_type": "stream",
     "text": [
      "1 calculation combinations to check\n",
      "1 new records to prepare\n"
     ]
    },
    {
     "name": "stderr",
     "output_type": "stream",
     "text": [
      "\n",
      "preparing: 100%|##########################################################################| 1/1 [00:00<00:00, 36.55it/s]\n"
     ]
    },
    {
     "name": "stdout",
     "output_type": "stream",
     "text": [
      "b7da9a13-50e6-4c8c-aa29-3d23109109c6\n",
      "sim calculated successfully\n",
      "\n",
      "447.681 0.5829 487.884\n",
      "0 existing calculation records provided\n"
     ]
    },
    {
     "name": "stderr",
     "output_type": "stream",
     "text": [
      "100%|█████████████████████████████████████████████████████████████████████████████████████| 1/1 [00:00<00:00,  4.28it/s]"
     ]
    },
    {
     "name": "stdout",
     "output_type": "stream",
     "text": [
      "1 calculation combinations to check\n",
      "1 new records to prepare\n"
     ]
    },
    {
     "name": "stderr",
     "output_type": "stream",
     "text": [
      "\n",
      "preparing: 100%|##########################################################################| 1/1 [00:00<00:00, 73.79it/s]\n"
     ]
    },
    {
     "name": "stdout",
     "output_type": "stream",
     "text": [
      "2c18ee9e-af33-4623-a6e4-e5fea512d8c5\n",
      "sim calculated successfully\n",
      "\n",
      "447.681 0.5758 487.442\n",
      "0 existing calculation records provided\n"
     ]
    },
    {
     "name": "stderr",
     "output_type": "stream",
     "text": [
      "100%|█████████████████████████████████████████████████████████████████████████████████████| 1/1 [00:00<00:00,  4.17it/s]"
     ]
    },
    {
     "name": "stdout",
     "output_type": "stream",
     "text": [
      "1 calculation combinations to check\n",
      "1 new records to prepare\n"
     ]
    },
    {
     "name": "stderr",
     "output_type": "stream",
     "text": [
      "\n",
      "preparing: 100%|##########################################################################| 1/1 [00:00<00:00, 69.58it/s]\n"
     ]
    },
    {
     "name": "stdout",
     "output_type": "stream",
     "text": [
      "8f84c15a-f6e7-4138-85ee-15b03b3d1b21\n",
      "sim calculated successfully\n",
      "\n",
      "447.681 0.5809 486.470\n",
      "0 existing calculation records provided\n"
     ]
    },
    {
     "name": "stderr",
     "output_type": "stream",
     "text": [
      "100%|█████████████████████████████████████████████████████████████████████████████████████| 1/1 [00:00<00:00,  4.45it/s]"
     ]
    },
    {
     "name": "stdout",
     "output_type": "stream",
     "text": [
      "1 calculation combinations to check\n",
      "1 new records to prepare\n"
     ]
    },
    {
     "name": "stderr",
     "output_type": "stream",
     "text": [
      "\n",
      "preparing: 100%|##########################################################################| 1/1 [00:00<00:00, 34.40it/s]\n"
     ]
    },
    {
     "name": "stdout",
     "output_type": "stream",
     "text": [
      "b2245ea2-0f91-423b-bb0d-2b161b248f7e\n",
      "sim calculated successfully\n",
      "\n",
      "447.681 0.5966 486.468\n",
      "\n",
      "209 2022--Zhou-M--Zr--LAMMPS--ipr1\n",
      "0 existing calculation records provided\n"
     ]
    },
    {
     "name": "stderr",
     "output_type": "stream",
     "text": [
      "100%|█████████████████████████████████████████████████████████████████████████████████████| 1/1 [00:00<00:00,  4.08it/s]"
     ]
    },
    {
     "name": "stdout",
     "output_type": "stream",
     "text": [
      "1 calculation combinations to check\n",
      "1 new records to prepare\n"
     ]
    },
    {
     "name": "stderr",
     "output_type": "stream",
     "text": [
      "\n",
      "preparing: 100%|##########################################################################| 1/1 [00:00<00:00, 45.65it/s]\n"
     ]
    },
    {
     "name": "stdout",
     "output_type": "stream",
     "text": [
      "f8dbc428-b210-4d3a-ac5d-9b22da28487b\n",
      "sim calculated successfully\n",
      "\n",
      "4525.000 0.0 4480.041\n",
      "0 existing calculation records provided\n"
     ]
    },
    {
     "name": "stderr",
     "output_type": "stream",
     "text": [
      "100%|█████████████████████████████████████████████████████████████████████████████████████| 1/1 [00:00<00:00,  4.10it/s]"
     ]
    },
    {
     "name": "stdout",
     "output_type": "stream",
     "text": [
      "1 calculation combinations to check\n",
      "1 new records to prepare\n"
     ]
    },
    {
     "name": "stderr",
     "output_type": "stream",
     "text": [
      "\n",
      "preparing: 100%|##########################################################################| 1/1 [00:00<00:00, 35.72it/s]\n"
     ]
    },
    {
     "name": "stdout",
     "output_type": "stream",
     "text": [
      "c4fb7634-2816-4a2e-9d14-9e026564b1b6\n",
      "sim calculated successfully\n",
      "\n",
      "2287.500 9.31e-05 2258.941\n",
      "0 existing calculation records provided\n"
     ]
    },
    {
     "name": "stderr",
     "output_type": "stream",
     "text": [
      "100%|█████████████████████████████████████████████████████████████████████████████████████| 1/1 [00:00<00:00,  4.67it/s]"
     ]
    },
    {
     "name": "stdout",
     "output_type": "stream",
     "text": [
      "1 calculation combinations to check\n",
      "1 new records to prepare\n"
     ]
    },
    {
     "name": "stderr",
     "output_type": "stream",
     "text": [
      "\n",
      "preparing: 100%|##########################################################################| 1/1 [00:00<00:00, 42.97it/s]\n"
     ]
    },
    {
     "name": "stdout",
     "output_type": "stream",
     "text": [
      "28df0650-3a42-4d72-9ba7-8b216449ca39\n",
      "sim calculated successfully\n",
      "\n",
      "1168.750 0.9675 1167.248\n",
      "0 existing calculation records provided\n"
     ]
    },
    {
     "name": "stderr",
     "output_type": "stream",
     "text": [
      "100%|█████████████████████████████████████████████████████████████████████████████████████| 1/1 [00:00<00:00,  4.49it/s]"
     ]
    },
    {
     "name": "stdout",
     "output_type": "stream",
     "text": [
      "1 calculation combinations to check\n",
      "1 new records to prepare\n"
     ]
    },
    {
     "name": "stderr",
     "output_type": "stream",
     "text": [
      "\n",
      "preparing: 100%|##########################################################################| 1/1 [00:00<00:00, 43.06it/s]\n"
     ]
    },
    {
     "name": "stdout",
     "output_type": "stream",
     "text": [
      "c7add030-a4c2-4053-83e0-bbfc165e876e\n",
      "sim calculated successfully\n",
      "\n",
      "1728.125 0.0006414 1559.971\n",
      "0 existing calculation records provided\n"
     ]
    },
    {
     "name": "stderr",
     "output_type": "stream",
     "text": [
      "100%|█████████████████████████████████████████████████████████████████████████████████████| 1/1 [00:00<00:00,  4.43it/s]"
     ]
    },
    {
     "name": "stdout",
     "output_type": "stream",
     "text": [
      "1 calculation combinations to check\n",
      "1 new records to prepare\n"
     ]
    },
    {
     "name": "stderr",
     "output_type": "stream",
     "text": [
      "\n",
      "preparing: 100%|##########################################################################| 1/1 [00:00<00:00, 42.11it/s]\n"
     ]
    },
    {
     "name": "stdout",
     "output_type": "stream",
     "text": [
      "68524475-502b-4c2d-aa2c-eb0d7ddd75ff\n",
      "sim calculated successfully\n",
      "\n",
      "1448.438 0.7971 1561.321\n",
      "0 existing calculation records provided\n"
     ]
    },
    {
     "name": "stderr",
     "output_type": "stream",
     "text": [
      "100%|█████████████████████████████████████████████████████████████████████████████████████| 1/1 [00:00<00:00,  3.65it/s]"
     ]
    },
    {
     "name": "stdout",
     "output_type": "stream",
     "text": [
      "1 calculation combinations to check\n",
      "1 new records to prepare\n"
     ]
    },
    {
     "name": "stderr",
     "output_type": "stream",
     "text": [
      "\n",
      "preparing: 100%|##########################################################################| 1/1 [00:00<00:00, 70.40it/s]\n"
     ]
    },
    {
     "name": "stdout",
     "output_type": "stream",
     "text": [
      "a4a8e492-1fde-4b72-8004-c7688e39c47c\n",
      "sim calculated successfully\n",
      "\n",
      "1588.281 0.4494 1601.762\n",
      "0 existing calculation records provided\n"
     ]
    },
    {
     "name": "stderr",
     "output_type": "stream",
     "text": [
      "100%|█████████████████████████████████████████████████████████████████████████████████████| 1/1 [00:00<00:00,  4.17it/s]"
     ]
    },
    {
     "name": "stdout",
     "output_type": "stream",
     "text": [
      "1 calculation combinations to check\n",
      "1 new records to prepare\n"
     ]
    },
    {
     "name": "stderr",
     "output_type": "stream",
     "text": [
      "\n",
      "preparing: 100%|##########################################################################| 1/1 [00:00<00:00, 63.51it/s]\n"
     ]
    },
    {
     "name": "stdout",
     "output_type": "stream",
     "text": [
      "77fd6c7b-473f-4aee-b88e-96a09c87bb3c\n",
      "sim calculated successfully\n",
      "\n",
      "1588.281 0.4306 1599.168\n",
      "0 existing calculation records provided\n"
     ]
    },
    {
     "name": "stderr",
     "output_type": "stream",
     "text": [
      "100%|█████████████████████████████████████████████████████████████████████████████████████| 1/1 [00:00<00:00,  4.36it/s]"
     ]
    },
    {
     "name": "stdout",
     "output_type": "stream",
     "text": [
      "1 calculation combinations to check\n",
      "1 new records to prepare\n"
     ]
    },
    {
     "name": "stderr",
     "output_type": "stream",
     "text": [
      "\n",
      "preparing: 100%|##########################################################################| 1/1 [00:00<00:00, 71.16it/s]\n"
     ]
    },
    {
     "name": "stdout",
     "output_type": "stream",
     "text": [
      "b64376e9-6d3a-434a-8685-031b806aaea8\n",
      "sim calculated successfully\n",
      "\n",
      "1588.281 0.4473 1614.157\n",
      "0 existing calculation records provided\n"
     ]
    },
    {
     "name": "stderr",
     "output_type": "stream",
     "text": [
      "100%|█████████████████████████████████████████████████████████████████████████████████████| 1/1 [00:00<00:00,  4.35it/s]"
     ]
    },
    {
     "name": "stdout",
     "output_type": "stream",
     "text": [
      "1 calculation combinations to check\n",
      "1 new records to prepare\n"
     ]
    },
    {
     "name": "stderr",
     "output_type": "stream",
     "text": [
      "\n",
      "preparing: 100%|##########################################################################| 1/1 [00:00<00:00, 71.82it/s]\n"
     ]
    },
    {
     "name": "stdout",
     "output_type": "stream",
     "text": [
      "45fbd917-fa7c-4003-8250-65588c964b1d\n",
      "sim calculated successfully\n",
      "\n",
      "1588.281 0.4495 1611.751\n",
      "0 existing calculation records provided\n"
     ]
    },
    {
     "name": "stderr",
     "output_type": "stream",
     "text": [
      "100%|█████████████████████████████████████████████████████████████████████████████████████| 1/1 [00:00<00:00,  4.85it/s]"
     ]
    },
    {
     "name": "stdout",
     "output_type": "stream",
     "text": [
      "1 calculation combinations to check\n",
      "1 new records to prepare\n"
     ]
    },
    {
     "name": "stderr",
     "output_type": "stream",
     "text": [
      "\n",
      "preparing: 100%|##########################################################################| 1/1 [00:00<00:00, 47.02it/s]\n"
     ]
    },
    {
     "name": "stdout",
     "output_type": "stream",
     "text": [
      "48115d13-8108-4df3-877a-fd53ec5174ee\n",
      "sim calculated successfully\n",
      "\n",
      "1588.281 0.444 1614.703\n",
      "0 existing calculation records provided\n"
     ]
    },
    {
     "name": "stderr",
     "output_type": "stream",
     "text": [
      "100%|█████████████████████████████████████████████████████████████████████████████████████| 1/1 [00:00<00:00,  4.68it/s]"
     ]
    },
    {
     "name": "stdout",
     "output_type": "stream",
     "text": [
      "1 calculation combinations to check\n",
      "1 new records to prepare\n"
     ]
    },
    {
     "name": "stderr",
     "output_type": "stream",
     "text": [
      "\n",
      "preparing: 100%|##########################################################################| 1/1 [00:00<00:00, 42.36it/s]\n"
     ]
    },
    {
     "name": "stdout",
     "output_type": "stream",
     "text": [
      "24e14033-c0ae-4ca2-b693-e1f8de16b17a\n",
      "sim calculated successfully\n",
      "\n",
      "1588.281 0.4394 1608.567\n",
      "0 existing calculation records provided\n"
     ]
    },
    {
     "name": "stderr",
     "output_type": "stream",
     "text": [
      "100%|█████████████████████████████████████████████████████████████████████████████████████| 1/1 [00:00<00:00,  4.39it/s]"
     ]
    },
    {
     "name": "stdout",
     "output_type": "stream",
     "text": [
      "1 calculation combinations to check\n",
      "1 new records to prepare\n"
     ]
    },
    {
     "name": "stderr",
     "output_type": "stream",
     "text": [
      "\n",
      "preparing: 100%|##########################################################################| 1/1 [00:00<00:00, 45.69it/s]\n"
     ]
    },
    {
     "name": "stdout",
     "output_type": "stream",
     "text": [
      "24981279-1641-4bfd-a098-7e2872ac691a\n",
      "sim calculated successfully\n",
      "\n",
      "1588.281 0.4582 1602.387\n",
      "0 existing calculation records provided\n"
     ]
    },
    {
     "name": "stderr",
     "output_type": "stream",
     "text": [
      "100%|█████████████████████████████████████████████████████████████████████████████████████| 1/1 [00:00<00:00,  4.02it/s]"
     ]
    },
    {
     "name": "stdout",
     "output_type": "stream",
     "text": [
      "1 calculation combinations to check\n",
      "1 new records to prepare\n"
     ]
    },
    {
     "name": "stderr",
     "output_type": "stream",
     "text": [
      "\n",
      "preparing: 100%|##########################################################################| 1/1 [00:00<00:00, 40.80it/s]\n"
     ]
    },
    {
     "name": "stdout",
     "output_type": "stream",
     "text": [
      "bb3e3b40-96aa-46ef-bea6-26850c542698\n",
      "sim calculated successfully\n",
      "\n",
      "1588.281 0.4431 1607.556\n",
      "0 existing calculation records provided\n"
     ]
    },
    {
     "name": "stderr",
     "output_type": "stream",
     "text": [
      "100%|█████████████████████████████████████████████████████████████████████████████████████| 1/1 [00:00<00:00,  4.35it/s]"
     ]
    },
    {
     "name": "stdout",
     "output_type": "stream",
     "text": [
      "1 calculation combinations to check\n",
      "1 new records to prepare\n"
     ]
    },
    {
     "name": "stderr",
     "output_type": "stream",
     "text": [
      "\n",
      "preparing: 100%|##########################################################################| 1/1 [00:00<00:00, 72.04it/s]\n"
     ]
    },
    {
     "name": "stdout",
     "output_type": "stream",
     "text": [
      "052f267b-2ec3-4418-9d27-2fe50de043fe\n",
      "sim calculated successfully\n",
      "\n",
      "1588.281 0.5813 1692.113\n",
      "0 existing calculation records provided\n"
     ]
    },
    {
     "name": "stderr",
     "output_type": "stream",
     "text": [
      "100%|█████████████████████████████████████████████████████████████████████████████████████| 1/1 [00:00<00:00,  4.07it/s]"
     ]
    },
    {
     "name": "stdout",
     "output_type": "stream",
     "text": [
      "1 calculation combinations to check\n",
      "1 new records to prepare\n"
     ]
    },
    {
     "name": "stderr",
     "output_type": "stream",
     "text": [
      "\n",
      "preparing: 100%|##########################################################################| 1/1 [00:00<00:00, 40.28it/s]\n"
     ]
    },
    {
     "name": "stdout",
     "output_type": "stream",
     "text": [
      "436f4dc1-3d3d-45c8-9be7-94c3a1b7abd5\n",
      "sim calculated successfully\n",
      "\n",
      "1588.281 0.4272 1600.732\n",
      "\n",
      "208 2022--Sun-Y--Fe--LAMMPS--ipr1\n",
      "0 existing calculation records provided\n"
     ]
    },
    {
     "name": "stderr",
     "output_type": "stream",
     "text": [
      "100%|█████████████████████████████████████████████████████████████████████████████████████| 1/1 [00:00<00:00,  3.92it/s]"
     ]
    },
    {
     "name": "stdout",
     "output_type": "stream",
     "text": [
      "1 calculation combinations to check\n",
      "1 new records to prepare\n"
     ]
    },
    {
     "name": "stderr",
     "output_type": "stream",
     "text": [
      "\n",
      "preparing: 100%|##########################################################################| 1/1 [00:00<00:00, 42.86it/s]\n"
     ]
    },
    {
     "name": "stdout",
     "output_type": "stream",
     "text": [
      "d19aff98-2fbb-4e60-b58f-38ed958c8afb\n",
      "sim calculated successfully\n",
      "\n",
      "4525.000 0.0 4503.929\n",
      "0 existing calculation records provided\n"
     ]
    },
    {
     "name": "stderr",
     "output_type": "stream",
     "text": [
      "100%|█████████████████████████████████████████████████████████████████████████████████████| 1/1 [00:00<00:00,  4.19it/s]"
     ]
    },
    {
     "name": "stdout",
     "output_type": "stream",
     "text": [
      "1 calculation combinations to check\n",
      "1 new records to prepare\n"
     ]
    },
    {
     "name": "stderr",
     "output_type": "stream",
     "text": [
      "\n",
      "preparing: 100%|##########################################################################| 1/1 [00:00<00:00, 38.82it/s]\n"
     ]
    },
    {
     "name": "stdout",
     "output_type": "stream",
     "text": [
      "f04e3ded-3697-45a5-aa44-3475c41b4c52\n",
      "sim calculated successfully\n",
      "\n",
      "2287.500 0.0 2277.792\n",
      "0 existing calculation records provided\n"
     ]
    },
    {
     "name": "stderr",
     "output_type": "stream",
     "text": [
      "100%|█████████████████████████████████████████████████████████████████████████████████████| 1/1 [00:00<00:00,  3.97it/s]"
     ]
    },
    {
     "name": "stdout",
     "output_type": "stream",
     "text": [
      "1 calculation combinations to check\n",
      "1 new records to prepare\n"
     ]
    },
    {
     "name": "stderr",
     "output_type": "stream",
     "text": [
      "\n",
      "preparing: 100%|##########################################################################| 1/1 [00:00<00:00, 62.17it/s]\n"
     ]
    },
    {
     "name": "stdout",
     "output_type": "stream",
     "text": [
      "991741be-ca14-4376-a8bf-c2fd0833f3b3\n",
      "sim calculated successfully\n",
      "\n",
      "1168.750 0.0 1159.094\n",
      "0 existing calculation records provided\n"
     ]
    },
    {
     "name": "stderr",
     "output_type": "stream",
     "text": [
      "100%|█████████████████████████████████████████████████████████████████████████████████████| 1/1 [00:00<00:00,  4.31it/s]"
     ]
    },
    {
     "name": "stdout",
     "output_type": "stream",
     "text": [
      "1 calculation combinations to check\n",
      "1 new records to prepare\n"
     ]
    },
    {
     "name": "stderr",
     "output_type": "stream",
     "text": [
      "\n",
      "preparing: 100%|##########################################################################| 1/1 [00:00<00:00, 41.42it/s]\n"
     ]
    },
    {
     "name": "stdout",
     "output_type": "stream",
     "text": [
      "c168bcf7-f7c8-4c42-96e8-b95a09089677\n",
      "sim calculated successfully\n",
      "\n",
      "609.375 0.0 586.008\n",
      "0 existing calculation records provided\n"
     ]
    },
    {
     "name": "stderr",
     "output_type": "stream",
     "text": [
      "100%|█████████████████████████████████████████████████████████████████████████████████████| 1/1 [00:00<00:00,  3.93it/s]"
     ]
    },
    {
     "name": "stdout",
     "output_type": "stream",
     "text": [
      "1 calculation combinations to check\n",
      "1 new records to prepare\n"
     ]
    },
    {
     "name": "stderr",
     "output_type": "stream",
     "text": [
      "\n",
      "preparing: 100%|##########################################################################| 1/1 [00:00<00:00, 40.14it/s]\n"
     ]
    },
    {
     "name": "stdout",
     "output_type": "stream",
     "text": [
      "27f19b27-b5bc-488f-bdb1-f898e18b3005\n",
      "sim calculated successfully\n",
      "\n",
      "329.688 1.0 327.910\n",
      "0 existing calculation records provided\n"
     ]
    },
    {
     "name": "stderr",
     "output_type": "stream",
     "text": [
      "100%|█████████████████████████████████████████████████████████████████████████████████████| 1/1 [00:00<00:00,  3.88it/s]"
     ]
    },
    {
     "name": "stdout",
     "output_type": "stream",
     "text": [
      "1 calculation combinations to check\n",
      "1 new records to prepare\n"
     ]
    },
    {
     "name": "stderr",
     "output_type": "stream",
     "text": [
      "\n",
      "preparing: 100%|##########################################################################| 1/1 [00:00<00:00, 59.82it/s]\n"
     ]
    },
    {
     "name": "stdout",
     "output_type": "stream",
     "text": [
      "30255d35-e0cc-4000-8580-771f39f80c3f\n",
      "sim calculated successfully\n",
      "\n",
      "469.531 1.0 467.871\n",
      "0 existing calculation records provided\n"
     ]
    },
    {
     "name": "stderr",
     "output_type": "stream",
     "text": [
      "100%|█████████████████████████████████████████████████████████████████████████████████████| 1/1 [00:00<00:00,  3.83it/s]"
     ]
    },
    {
     "name": "stdout",
     "output_type": "stream",
     "text": [
      "1 calculation combinations to check\n",
      "1 new records to prepare\n"
     ]
    },
    {
     "name": "stderr",
     "output_type": "stream",
     "text": [
      "\n",
      "preparing: 100%|##########################################################################| 1/1 [00:00<00:00, 63.13it/s]\n"
     ]
    },
    {
     "name": "stdout",
     "output_type": "stream",
     "text": [
      "59757b6e-552d-480d-b86d-53e7cc5eb946\n",
      "sim calculated successfully\n",
      "\n",
      "539.453 0.0 481.574\n",
      "0 existing calculation records provided\n"
     ]
    },
    {
     "name": "stderr",
     "output_type": "stream",
     "text": [
      "100%|█████████████████████████████████████████████████████████████████████████████████████| 1/1 [00:00<00:00,  3.82it/s]"
     ]
    },
    {
     "name": "stdout",
     "output_type": "stream",
     "text": [
      "1 calculation combinations to check\n",
      "1 new records to prepare\n"
     ]
    },
    {
     "name": "stderr",
     "output_type": "stream",
     "text": [
      "\n",
      "preparing: 100%|##########################################################################| 1/1 [00:00<00:00, 35.90it/s]\n"
     ]
    },
    {
     "name": "stdout",
     "output_type": "stream",
     "text": [
      "d412f83c-bb60-4cf1-8d59-6c9742c05b82\n",
      "sim calculated successfully\n",
      "\n",
      "504.492 0.0 435.835\n",
      "0 existing calculation records provided\n"
     ]
    },
    {
     "name": "stderr",
     "output_type": "stream",
     "text": [
      "100%|█████████████████████████████████████████████████████████████████████████████████████| 1/1 [00:00<00:00,  4.35it/s]"
     ]
    },
    {
     "name": "stdout",
     "output_type": "stream",
     "text": [
      "1 calculation combinations to check\n",
      "1 new records to prepare\n"
     ]
    },
    {
     "name": "stderr",
     "output_type": "stream",
     "text": [
      "\n",
      "preparing: 100%|##########################################################################| 1/1 [00:00<00:00, 36.73it/s]\n"
     ]
    },
    {
     "name": "stdout",
     "output_type": "stream",
     "text": [
      "7c4dd2d7-4677-4507-a5e4-09a90290a6b8\n",
      "sim calculated successfully\n",
      "\n",
      "487.012 0.9999 482.956\n",
      "0 existing calculation records provided\n"
     ]
    },
    {
     "name": "stderr",
     "output_type": "stream",
     "text": [
      "100%|█████████████████████████████████████████████████████████████████████████████████████| 1/1 [00:00<00:00,  4.32it/s]"
     ]
    },
    {
     "name": "stdout",
     "output_type": "stream",
     "text": [
      "1 calculation combinations to check\n",
      "1 new records to prepare\n"
     ]
    },
    {
     "name": "stderr",
     "output_type": "stream",
     "text": [
      "\n",
      "preparing: 100%|##########################################################################| 1/1 [00:00<00:00, 40.92it/s]\n"
     ]
    },
    {
     "name": "stdout",
     "output_type": "stream",
     "text": [
      "69de90c3-db9e-4d25-b412-e4d9ef0a8637\n",
      "sim calculated successfully\n",
      "\n",
      "495.752 0.0 421.621\n",
      "0 existing calculation records provided\n"
     ]
    },
    {
     "name": "stderr",
     "output_type": "stream",
     "text": [
      "100%|█████████████████████████████████████████████████████████████████████████████████████| 1/1 [00:00<00:00,  4.32it/s]"
     ]
    },
    {
     "name": "stdout",
     "output_type": "stream",
     "text": [
      "1 calculation combinations to check\n",
      "1 new records to prepare\n"
     ]
    },
    {
     "name": "stderr",
     "output_type": "stream",
     "text": [
      "\n",
      "preparing: 100%|##########################################################################| 1/1 [00:00<00:00, 36.12it/s]\n"
     ]
    },
    {
     "name": "stdout",
     "output_type": "stream",
     "text": [
      "9a70a93f-9025-4498-beac-571b3a337a90\n",
      "sim calculated successfully\n",
      "\n",
      "491.382 1.0 489.114\n",
      "0 existing calculation records provided\n"
     ]
    },
    {
     "name": "stderr",
     "output_type": "stream",
     "text": [
      "100%|█████████████████████████████████████████████████████████████████████████████████████| 1/1 [00:00<00:00,  4.16it/s]"
     ]
    },
    {
     "name": "stdout",
     "output_type": "stream",
     "text": [
      "1 calculation combinations to check\n",
      "1 new records to prepare\n"
     ]
    },
    {
     "name": "stderr",
     "output_type": "stream",
     "text": [
      "\n",
      "preparing: 100%|##########################################################################| 1/1 [00:00<00:00, 64.51it/s]\n"
     ]
    },
    {
     "name": "stdout",
     "output_type": "stream",
     "text": [
      "d66a3564-0c59-49ae-a430-aec50be6ccd2\n",
      "sim calculated successfully\n",
      "\n",
      "493.567 0.9999 491.286\n",
      "0 existing calculation records provided\n"
     ]
    },
    {
     "name": "stderr",
     "output_type": "stream",
     "text": [
      "100%|█████████████████████████████████████████████████████████████████████████████████████| 1/1 [00:00<00:00,  4.62it/s]"
     ]
    },
    {
     "name": "stdout",
     "output_type": "stream",
     "text": [
      "1 calculation combinations to check\n",
      "1 new records to prepare\n"
     ]
    },
    {
     "name": "stderr",
     "output_type": "stream",
     "text": [
      "\n",
      "preparing: 100%|##########################################################################| 1/1 [00:00<00:00, 41.63it/s]\n"
     ]
    },
    {
     "name": "stdout",
     "output_type": "stream",
     "text": [
      "3d3b67ca-4d80-4787-af2a-ddb26a34abe7\n",
      "sim calculated successfully\n",
      "\n",
      "494.659 0.0 418.126\n",
      "0 existing calculation records provided\n"
     ]
    },
    {
     "name": "stderr",
     "output_type": "stream",
     "text": [
      "100%|█████████████████████████████████████████████████████████████████████████████████████| 1/1 [00:00<00:00,  4.75it/s]"
     ]
    },
    {
     "name": "stdout",
     "output_type": "stream",
     "text": [
      "1 calculation combinations to check\n",
      "1 new records to prepare\n"
     ]
    },
    {
     "name": "stderr",
     "output_type": "stream",
     "text": [
      "\n",
      "preparing: 100%|##########################################################################| 1/1 [00:00<00:00, 41.76it/s]\n"
     ]
    },
    {
     "name": "stdout",
     "output_type": "stream",
     "text": [
      "d24be2d1-dd6d-4f38-9603-e2a198ca92d2\n",
      "sim calculated successfully\n",
      "\n",
      "494.113 0.0 424.871\n",
      "0 existing calculation records provided\n"
     ]
    },
    {
     "name": "stderr",
     "output_type": "stream",
     "text": [
      "100%|█████████████████████████████████████████████████████████████████████████████████████| 1/1 [00:00<00:00,  4.81it/s]"
     ]
    },
    {
     "name": "stdout",
     "output_type": "stream",
     "text": [
      "1 calculation combinations to check\n",
      "1 new records to prepare\n"
     ]
    },
    {
     "name": "stderr",
     "output_type": "stream",
     "text": [
      "\n",
      "preparing: 100%|##########################################################################| 1/1 [00:00<00:00, 40.65it/s]\n"
     ]
    },
    {
     "name": "stdout",
     "output_type": "stream",
     "text": [
      "eedce310-8e9e-424e-b217-6454ecde3083\n",
      "sim calculated successfully\n",
      "\n",
      "493.840 1.0 490.598\n",
      "0 existing calculation records provided\n"
     ]
    },
    {
     "name": "stderr",
     "output_type": "stream",
     "text": [
      "100%|█████████████████████████████████████████████████████████████████████████████████████| 1/1 [00:00<00:00,  4.09it/s]"
     ]
    },
    {
     "name": "stdout",
     "output_type": "stream",
     "text": [
      "1 calculation combinations to check\n",
      "1 new records to prepare\n"
     ]
    },
    {
     "name": "stderr",
     "output_type": "stream",
     "text": [
      "\n",
      "preparing: 100%|##########################################################################| 1/1 [00:00<00:00, 38.14it/s]\n"
     ]
    },
    {
     "name": "stdout",
     "output_type": "stream",
     "text": [
      "816107e1-717c-4a0f-b1de-8b3fe9645805\n",
      "sim calculated successfully\n",
      "\n",
      "493.977 0.0 414.501\n",
      "0 existing calculation records provided\n"
     ]
    },
    {
     "name": "stderr",
     "output_type": "stream",
     "text": [
      "100%|█████████████████████████████████████████████████████████████████████████████████████| 1/1 [00:00<00:00,  4.37it/s]"
     ]
    },
    {
     "name": "stdout",
     "output_type": "stream",
     "text": [
      "1 calculation combinations to check\n",
      "1 new records to prepare\n"
     ]
    },
    {
     "name": "stderr",
     "output_type": "stream",
     "text": [
      "\n",
      "preparing: 100%|##########################################################################| 1/1 [00:00<00:00, 37.79it/s]\n"
     ]
    },
    {
     "name": "stdout",
     "output_type": "stream",
     "text": [
      "16cd365e-c232-4f8f-aff4-d6a7da887694\n",
      "sim calculated successfully\n",
      "\n",
      "493.908 0.0 418.050\n",
      "0 existing calculation records provided\n"
     ]
    },
    {
     "name": "stderr",
     "output_type": "stream",
     "text": [
      "100%|█████████████████████████████████████████████████████████████████████████████████████| 1/1 [00:00<00:00,  4.39it/s]"
     ]
    },
    {
     "name": "stdout",
     "output_type": "stream",
     "text": [
      "1 calculation combinations to check\n",
      "1 new records to prepare\n"
     ]
    },
    {
     "name": "stderr",
     "output_type": "stream",
     "text": [
      "\n",
      "preparing: 100%|##########################################################################| 1/1 [00:00<00:00, 62.01it/s]\n"
     ]
    },
    {
     "name": "stdout",
     "output_type": "stream",
     "text": [
      "028cc58b-5f09-4d6c-8d08-4c2f6a5ae63e\n",
      "sim calculated successfully\n",
      "\n",
      "493.874 0.0 415.292\n",
      "0 existing calculation records provided\n"
     ]
    },
    {
     "name": "stderr",
     "output_type": "stream",
     "text": [
      "100%|█████████████████████████████████████████████████████████████████████████████████████| 1/1 [00:00<00:00,  4.40it/s]"
     ]
    },
    {
     "name": "stdout",
     "output_type": "stream",
     "text": [
      "1 calculation combinations to check\n",
      "1 new records to prepare\n"
     ]
    },
    {
     "name": "stderr",
     "output_type": "stream",
     "text": [
      "\n",
      "preparing: 100%|##########################################################################| 1/1 [00:00<00:00, 41.14it/s]\n"
     ]
    },
    {
     "name": "stdout",
     "output_type": "stream",
     "text": [
      "46c6764f-52e7-4b2f-a00d-6307f2764d37\n",
      "sim calculated successfully\n",
      "\n",
      "493.857 0.0 414.526\n",
      "0 existing calculation records provided\n"
     ]
    },
    {
     "name": "stderr",
     "output_type": "stream",
     "text": [
      "100%|█████████████████████████████████████████████████████████████████████████████████████| 1/1 [00:00<00:00,  4.05it/s]"
     ]
    },
    {
     "name": "stdout",
     "output_type": "stream",
     "text": [
      "1 calculation combinations to check\n",
      "1 new records to prepare\n"
     ]
    },
    {
     "name": "stderr",
     "output_type": "stream",
     "text": [
      "\n",
      "preparing: 100%|##########################################################################| 1/1 [00:00<00:00, 54.49it/s]\n"
     ]
    },
    {
     "name": "stdout",
     "output_type": "stream",
     "text": [
      "4dadb399-d52d-419f-a9d3-917983ec89cb\n",
      "sim calculated successfully\n",
      "\n",
      "493.849 0.0 417.271\n",
      "0 existing calculation records provided\n"
     ]
    },
    {
     "name": "stderr",
     "output_type": "stream",
     "text": [
      "100%|█████████████████████████████████████████████████████████████████████████████████████| 1/1 [00:00<00:00,  4.35it/s]"
     ]
    },
    {
     "name": "stdout",
     "output_type": "stream",
     "text": [
      "1 calculation combinations to check\n",
      "1 new records to prepare\n"
     ]
    },
    {
     "name": "stderr",
     "output_type": "stream",
     "text": [
      "\n",
      "preparing: 100%|##########################################################################| 1/1 [00:00<00:00, 59.51it/s]\n"
     ]
    },
    {
     "name": "stdout",
     "output_type": "stream",
     "text": [
      "455a98cf-784b-4930-ab83-944267bcc778\n",
      "sim calculated successfully\n",
      "\n",
      "493.844 0.0 420.135\n",
      "0 existing calculation records provided\n"
     ]
    },
    {
     "name": "stderr",
     "output_type": "stream",
     "text": [
      "100%|█████████████████████████████████████████████████████████████████████████████████████| 1/1 [00:00<00:00,  4.07it/s]"
     ]
    },
    {
     "name": "stdout",
     "output_type": "stream",
     "text": [
      "1 calculation combinations to check\n",
      "1 new records to prepare\n"
     ]
    },
    {
     "name": "stderr",
     "output_type": "stream",
     "text": [
      "\n",
      "preparing: 100%|##########################################################################| 1/1 [00:00<00:00, 37.92it/s]\n"
     ]
    },
    {
     "name": "stdout",
     "output_type": "stream",
     "text": [
      "bff465d4-c2c9-476a-b169-8827feae8fd1\n",
      "sim calculated successfully\n",
      "\n",
      "493.842 0.0 420.033\n",
      "0 existing calculation records provided\n"
     ]
    },
    {
     "name": "stderr",
     "output_type": "stream",
     "text": [
      "100%|█████████████████████████████████████████████████████████████████████████████████████| 1/1 [00:00<00:00,  4.36it/s]"
     ]
    },
    {
     "name": "stdout",
     "output_type": "stream",
     "text": [
      "1 calculation combinations to check\n",
      "1 new records to prepare\n"
     ]
    },
    {
     "name": "stderr",
     "output_type": "stream",
     "text": [
      "\n",
      "preparing: 100%|##########################################################################| 1/1 [00:00<00:00, 36.86it/s]\n"
     ]
    },
    {
     "name": "stdout",
     "output_type": "stream",
     "text": [
      "274e7f1e-5fe2-4922-be1d-1f7833040209\n",
      "sim calculated successfully\n",
      "\n",
      "493.841 0.0 414.355\n",
      "0 existing calculation records provided\n"
     ]
    },
    {
     "name": "stderr",
     "output_type": "stream",
     "text": [
      "100%|█████████████████████████████████████████████████████████████████████████████████████| 1/1 [00:00<00:00,  4.34it/s]"
     ]
    },
    {
     "name": "stdout",
     "output_type": "stream",
     "text": [
      "1 calculation combinations to check\n",
      "1 new records to prepare\n"
     ]
    },
    {
     "name": "stderr",
     "output_type": "stream",
     "text": [
      "\n",
      "preparing: 100%|##########################################################################| 1/1 [00:00<00:00, 67.43it/s]\n"
     ]
    },
    {
     "name": "stdout",
     "output_type": "stream",
     "text": [
      "7df58baa-ff2e-4b7e-9e73-973c645b2146\n",
      "sim calculated successfully\n",
      "\n",
      "493.841 0.0 417.023\n",
      "0 existing calculation records provided\n"
     ]
    },
    {
     "name": "stderr",
     "output_type": "stream",
     "text": [
      "100%|█████████████████████████████████████████████████████████████████████████████████████| 1/1 [00:00<00:00,  4.29it/s]"
     ]
    },
    {
     "name": "stdout",
     "output_type": "stream",
     "text": [
      "1 calculation combinations to check\n",
      "1 new records to prepare\n"
     ]
    },
    {
     "name": "stderr",
     "output_type": "stream",
     "text": [
      "\n",
      "preparing: 100%|##########################################################################| 1/1 [00:00<00:00, 40.41it/s]\n"
     ]
    },
    {
     "name": "stdout",
     "output_type": "stream",
     "text": [
      "03875c04-1e01-442e-b4c8-2278c0eda4d2\n",
      "sim calculated successfully\n",
      "\n",
      "493.840 0.0 421.339\n",
      "0 existing calculation records provided\n"
     ]
    },
    {
     "name": "stderr",
     "output_type": "stream",
     "text": [
      "100%|█████████████████████████████████████████████████████████████████████████████████████| 1/1 [00:00<00:00,  4.45it/s]"
     ]
    },
    {
     "name": "stdout",
     "output_type": "stream",
     "text": [
      "1 calculation combinations to check\n",
      "1 new records to prepare\n"
     ]
    },
    {
     "name": "stderr",
     "output_type": "stream",
     "text": [
      "\n",
      "preparing: 100%|##########################################################################| 1/1 [00:00<00:00, 60.56it/s]\n"
     ]
    },
    {
     "name": "stdout",
     "output_type": "stream",
     "text": [
      "d317dc7c-f3e8-480f-92d0-f0651e749829\n",
      "sim calculated successfully\n",
      "\n",
      "493.840 0.0 419.506\n",
      "0 existing calculation records provided\n"
     ]
    },
    {
     "name": "stderr",
     "output_type": "stream",
     "text": [
      "100%|█████████████████████████████████████████████████████████████████████████████████████| 1/1 [00:00<00:00,  3.82it/s]"
     ]
    },
    {
     "name": "stdout",
     "output_type": "stream",
     "text": [
      "1 calculation combinations to check\n",
      "1 new records to prepare\n"
     ]
    },
    {
     "name": "stderr",
     "output_type": "stream",
     "text": [
      "\n",
      "preparing: 100%|##########################################################################| 1/1 [00:00<00:00, 64.35it/s]\n"
     ]
    },
    {
     "name": "stdout",
     "output_type": "stream",
     "text": [
      "6172f0d7-b678-4b8a-941e-926f6fa2a4c9\n",
      "sim calculated successfully\n",
      "\n",
      "493.840 0.0 417.941\n",
      "0 existing calculation records provided\n"
     ]
    },
    {
     "name": "stderr",
     "output_type": "stream",
     "text": [
      "100%|█████████████████████████████████████████████████████████████████████████████████████| 1/1 [00:00<00:00,  3.34it/s]"
     ]
    },
    {
     "name": "stdout",
     "output_type": "stream",
     "text": [
      "1 calculation combinations to check\n",
      "1 new records to prepare\n"
     ]
    },
    {
     "name": "stderr",
     "output_type": "stream",
     "text": [
      "\n",
      "preparing: 100%|##########################################################################| 1/1 [00:00<00:00, 62.16it/s]\n"
     ]
    },
    {
     "name": "stdout",
     "output_type": "stream",
     "text": [
      "98684f01-a43e-4cc6-a9cd-565ee3522a3b\n",
      "sim calculated successfully\n",
      "\n",
      "493.840 0.0 403.649\n",
      "0 existing calculation records provided\n"
     ]
    },
    {
     "name": "stderr",
     "output_type": "stream",
     "text": [
      "100%|█████████████████████████████████████████████████████████████████████████████████████| 1/1 [00:00<00:00,  3.30it/s]"
     ]
    },
    {
     "name": "stdout",
     "output_type": "stream",
     "text": [
      "1 calculation combinations to check\n",
      "1 new records to prepare\n"
     ]
    },
    {
     "name": "stderr",
     "output_type": "stream",
     "text": [
      "\n",
      "preparing: 100%|##########################################################################| 1/1 [00:00<00:00, 62.37it/s]\n"
     ]
    },
    {
     "name": "stdout",
     "output_type": "stream",
     "text": [
      "1d90c27b-8bad-4f1f-8407-1b63aff4bb37\n",
      "sim calculated successfully\n",
      "\n",
      "493.840 0.0 419.054\n",
      "0 existing calculation records provided\n"
     ]
    },
    {
     "name": "stderr",
     "output_type": "stream",
     "text": [
      "100%|█████████████████████████████████████████████████████████████████████████████████████| 1/1 [00:00<00:00,  3.84it/s]"
     ]
    },
    {
     "name": "stdout",
     "output_type": "stream",
     "text": [
      "1 calculation combinations to check\n",
      "1 new records to prepare\n"
     ]
    },
    {
     "name": "stderr",
     "output_type": "stream",
     "text": [
      "\n",
      "preparing: 100%|##########################################################################| 1/1 [00:00<00:00, 38.16it/s]\n"
     ]
    },
    {
     "name": "stdout",
     "output_type": "stream",
     "text": [
      "a31f50d3-c5f9-4ebe-8913-be25aed88aa6\n",
      "sim calculated successfully\n",
      "\n",
      "493.840 0.0 419.569\n",
      "0 existing calculation records provided\n"
     ]
    },
    {
     "name": "stderr",
     "output_type": "stream",
     "text": [
      "100%|█████████████████████████████████████████████████████████████████████████████████████| 1/1 [00:00<00:00,  3.66it/s]"
     ]
    },
    {
     "name": "stdout",
     "output_type": "stream",
     "text": [
      "1 calculation combinations to check\n",
      "1 new records to prepare\n"
     ]
    },
    {
     "name": "stderr",
     "output_type": "stream",
     "text": [
      "\n",
      "preparing: 100%|##########################################################################| 1/1 [00:00<00:00, 42.13it/s]\n"
     ]
    },
    {
     "name": "stdout",
     "output_type": "stream",
     "text": [
      "0f16fee5-59c2-4c9b-85f2-5a017a1e0205\n",
      "sim calculated successfully\n",
      "\n",
      "493.840 0.0 419.088\n",
      "0 existing calculation records provided\n"
     ]
    },
    {
     "name": "stderr",
     "output_type": "stream",
     "text": [
      "100%|█████████████████████████████████████████████████████████████████████████████████████| 1/1 [00:00<00:00,  3.82it/s]"
     ]
    },
    {
     "name": "stdout",
     "output_type": "stream",
     "text": [
      "1 calculation combinations to check\n",
      "1 new records to prepare\n"
     ]
    },
    {
     "name": "stderr",
     "output_type": "stream",
     "text": [
      "\n",
      "preparing: 100%|##########################################################################| 1/1 [00:00<00:00, 61.46it/s]\n"
     ]
    },
    {
     "name": "stdout",
     "output_type": "stream",
     "text": [
      "c6929538-a84f-4948-b135-f1a47fa92fde\n",
      "sim calculated successfully\n",
      "\n",
      "493.840 0.0 421.011\n",
      "0 existing calculation records provided\n"
     ]
    },
    {
     "name": "stderr",
     "output_type": "stream",
     "text": [
      "100%|█████████████████████████████████████████████████████████████████████████████████████| 1/1 [00:00<00:00,  3.48it/s]"
     ]
    },
    {
     "name": "stdout",
     "output_type": "stream",
     "text": [
      "1 calculation combinations to check\n",
      "1 new records to prepare\n"
     ]
    },
    {
     "name": "stderr",
     "output_type": "stream",
     "text": [
      "\n",
      "preparing: 100%|##########################################################################| 1/1 [00:00<00:00, 35.19it/s]\n"
     ]
    },
    {
     "name": "stdout",
     "output_type": "stream",
     "text": [
      "d774d910-deda-48a3-83eb-6d80e877daf5\n",
      "sim calculated successfully\n",
      "\n",
      "493.840 0.0 419.284\n",
      "0 existing calculation records provided\n"
     ]
    },
    {
     "name": "stderr",
     "output_type": "stream",
     "text": [
      "100%|█████████████████████████████████████████████████████████████████████████████████████| 1/1 [00:00<00:00,  3.79it/s]"
     ]
    },
    {
     "name": "stdout",
     "output_type": "stream",
     "text": [
      "1 calculation combinations to check\n",
      "1 new records to prepare\n"
     ]
    },
    {
     "name": "stderr",
     "output_type": "stream",
     "text": [
      "\n",
      "preparing: 100%|##########################################################################| 1/1 [00:00<00:00, 62.93it/s]\n"
     ]
    },
    {
     "name": "stdout",
     "output_type": "stream",
     "text": [
      "7b688461-4e13-4167-88b7-f23edbdff4b6\n",
      "sim calculated successfully\n",
      "\n",
      "493.840 0.0 416.490\n",
      "0 existing calculation records provided\n"
     ]
    },
    {
     "name": "stderr",
     "output_type": "stream",
     "text": [
      "100%|█████████████████████████████████████████████████████████████████████████████████████| 1/1 [00:00<00:00,  3.89it/s]"
     ]
    },
    {
     "name": "stdout",
     "output_type": "stream",
     "text": [
      "1 calculation combinations to check\n",
      "1 new records to prepare\n"
     ]
    },
    {
     "name": "stderr",
     "output_type": "stream",
     "text": [
      "\n",
      "preparing: 100%|##########################################################################| 1/1 [00:00<00:00, 44.01it/s]\n"
     ]
    },
    {
     "name": "stdout",
     "output_type": "stream",
     "text": [
      "8a1f1979-858f-47e1-a93a-cc1ad139d401\n",
      "sim calculated successfully\n",
      "\n",
      "493.840 0.0 414.586\n",
      "Max number of runs reached!\n",
      "\n",
      "207 2022--Mendelev-M-I--Ni-Nb--LAMMPS--ipr1\n",
      "0 existing calculation records provided\n"
     ]
    },
    {
     "name": "stderr",
     "output_type": "stream",
     "text": [
      "100%|█████████████████████████████████████████████████████████████████████████████████████| 1/1 [00:00<00:00,  4.40it/s]"
     ]
    },
    {
     "name": "stdout",
     "output_type": "stream",
     "text": [
      "1 calculation combinations to check\n",
      "1 new records to prepare\n"
     ]
    },
    {
     "name": "stderr",
     "output_type": "stream",
     "text": [
      "\n",
      "preparing: 100%|##########################################################################| 1/1 [00:00<00:00, 58.73it/s]\n"
     ]
    },
    {
     "name": "stdout",
     "output_type": "stream",
     "text": [
      "f36074fc-e42d-497a-8b86-71df3f33f844\n",
      "sim calculated successfully\n",
      "\n",
      "4525.000 1.034e-05 4498.123\n",
      "0 existing calculation records provided\n"
     ]
    },
    {
     "name": "stderr",
     "output_type": "stream",
     "text": [
      "100%|█████████████████████████████████████████████████████████████████████████████████████| 1/1 [00:00<00:00,  4.50it/s]"
     ]
    },
    {
     "name": "stdout",
     "output_type": "stream",
     "text": [
      "1 calculation combinations to check\n",
      "1 new records to prepare\n"
     ]
    },
    {
     "name": "stderr",
     "output_type": "stream",
     "text": [
      "\n",
      "preparing: 100%|##########################################################################| 1/1 [00:00<00:00, 29.03it/s]\n"
     ]
    },
    {
     "name": "stdout",
     "output_type": "stream",
     "text": [
      "33e472f9-bc37-4c96-b165-83ed99220c31\n",
      "sim calculated successfully\n",
      "\n",
      "2287.500 0.9221 2328.727\n",
      "0 existing calculation records provided\n"
     ]
    },
    {
     "name": "stderr",
     "output_type": "stream",
     "text": [
      "100%|█████████████████████████████████████████████████████████████████████████████████████| 1/1 [00:00<00:00,  3.83it/s]"
     ]
    },
    {
     "name": "stdout",
     "output_type": "stream",
     "text": [
      "1 calculation combinations to check\n",
      "1 new records to prepare\n"
     ]
    },
    {
     "name": "stderr",
     "output_type": "stream",
     "text": [
      "\n",
      "preparing: 100%|##########################################################################| 1/1 [00:00<00:00, 44.18it/s]\n"
     ]
    },
    {
     "name": "stdout",
     "output_type": "stream",
     "text": [
      "5ef5fb3d-2e4c-491e-91a0-b33b77989c22\n",
      "sim calculated successfully\n",
      "\n",
      "3406.250 0.0001034 3295.833\n",
      "0 existing calculation records provided\n"
     ]
    },
    {
     "name": "stderr",
     "output_type": "stream",
     "text": [
      "100%|█████████████████████████████████████████████████████████████████████████████████████| 1/1 [00:00<00:00,  3.71it/s]"
     ]
    },
    {
     "name": "stdout",
     "output_type": "stream",
     "text": [
      "1 calculation combinations to check\n",
      "1 new records to prepare\n"
     ]
    },
    {
     "name": "stderr",
     "output_type": "stream",
     "text": [
      "\n",
      "preparing: 100%|##########################################################################| 1/1 [00:00<00:00, 43.89it/s]\n"
     ]
    },
    {
     "name": "stdout",
     "output_type": "stream",
     "text": [
      "e2ee7bd1-da3f-4f2b-afb1-e757605946cc\n",
      "sim calculated successfully\n",
      "\n",
      "2846.875 0.1937 2702.675\n",
      "0 existing calculation records provided\n"
     ]
    },
    {
     "name": "stderr",
     "output_type": "stream",
     "text": [
      "100%|█████████████████████████████████████████████████████████████████████████████████████| 1/1 [00:00<00:00,  4.07it/s]"
     ]
    },
    {
     "name": "stdout",
     "output_type": "stream",
     "text": [
      "1 calculation combinations to check\n",
      "1 new records to prepare\n"
     ]
    },
    {
     "name": "stderr",
     "output_type": "stream",
     "text": [
      "\n",
      "preparing: 100%|##########################################################################| 1/1 [00:00<00:00, 30.71it/s]\n"
     ]
    },
    {
     "name": "stdout",
     "output_type": "stream",
     "text": [
      "38c89723-1772-422e-a78f-92e9e405808d\n",
      "sim calculated successfully\n",
      "\n",
      "2567.188 0.7375 2792.975\n",
      "0 existing calculation records provided\n"
     ]
    },
    {
     "name": "stderr",
     "output_type": "stream",
     "text": [
      "100%|█████████████████████████████████████████████████████████████████████████████████████| 1/1 [00:00<00:00,  4.24it/s]"
     ]
    },
    {
     "name": "stdout",
     "output_type": "stream",
     "text": [
      "1 calculation combinations to check\n",
      "1 new records to prepare\n"
     ]
    },
    {
     "name": "stderr",
     "output_type": "stream",
     "text": [
      "\n",
      "preparing: 100%|##########################################################################| 1/1 [00:00<00:00, 40.75it/s]\n"
     ]
    },
    {
     "name": "stdout",
     "output_type": "stream",
     "text": [
      "a5a0bf4d-c90d-4eef-86d6-6a9a21115dc4\n",
      "sim calculated successfully\n",
      "\n",
      "2707.031 0.3928 2683.522\n",
      "0 existing calculation records provided\n"
     ]
    },
    {
     "name": "stderr",
     "output_type": "stream",
     "text": [
      "100%|█████████████████████████████████████████████████████████████████████████████████████| 1/1 [00:00<00:00,  4.29it/s]"
     ]
    },
    {
     "name": "stdout",
     "output_type": "stream",
     "text": [
      "1 calculation combinations to check\n",
      "1 new records to prepare\n"
     ]
    },
    {
     "name": "stderr",
     "output_type": "stream",
     "text": [
      "\n",
      "preparing: 100%|##########################################################################| 1/1 [00:00<00:00, 41.65it/s]\n"
     ]
    },
    {
     "name": "stdout",
     "output_type": "stream",
     "text": [
      "aae10c8f-f951-48ab-8983-db20796ee740\n",
      "sim calculated successfully\n",
      "\n",
      "2497.266 0.7851 2713.541\n",
      "0 existing calculation records provided\n"
     ]
    },
    {
     "name": "stderr",
     "output_type": "stream",
     "text": [
      "100%|█████████████████████████████████████████████████████████████████████████████████████| 1/1 [00:00<00:00,  4.32it/s]"
     ]
    },
    {
     "name": "stdout",
     "output_type": "stream",
     "text": [
      "1 calculation combinations to check\n",
      "1 new records to prepare\n"
     ]
    },
    {
     "name": "stderr",
     "output_type": "stream",
     "text": [
      "\n",
      "preparing: 100%|##########################################################################| 1/1 [00:00<00:00, 36.77it/s]\n"
     ]
    },
    {
     "name": "stdout",
     "output_type": "stream",
     "text": [
      "d027747d-0ff4-4052-891f-c2d84f3f170f\n",
      "sim calculated successfully\n",
      "\n",
      "2672.070 0.4618 2687.020\n",
      "0 existing calculation records provided\n"
     ]
    },
    {
     "name": "stderr",
     "output_type": "stream",
     "text": [
      "100%|█████████████████████████████████████████████████████████████████████████████████████| 1/1 [00:00<00:00,  3.78it/s]"
     ]
    },
    {
     "name": "stdout",
     "output_type": "stream",
     "text": [
      "1 calculation combinations to check\n",
      "1 new records to prepare\n"
     ]
    },
    {
     "name": "stderr",
     "output_type": "stream",
     "text": [
      "\n",
      "preparing: 100%|##########################################################################| 1/1 [00:00<00:00, 42.01it/s]\n"
     ]
    },
    {
     "name": "stdout",
     "output_type": "stream",
     "text": [
      "0034ba76-c4e0-4a7c-afcc-47e693923b47\n",
      "sim calculated successfully\n",
      "\n",
      "2672.070 0.4507 2682.472\n",
      "0 existing calculation records provided\n"
     ]
    },
    {
     "name": "stderr",
     "output_type": "stream",
     "text": [
      "100%|█████████████████████████████████████████████████████████████████████████████████████| 1/1 [00:00<00:00,  4.01it/s]"
     ]
    },
    {
     "name": "stdout",
     "output_type": "stream",
     "text": [
      "1 calculation combinations to check\n",
      "1 new records to prepare\n"
     ]
    },
    {
     "name": "stderr",
     "output_type": "stream",
     "text": [
      "\n",
      "preparing: 100%|##########################################################################| 1/1 [00:00<00:00, 29.85it/s]\n"
     ]
    },
    {
     "name": "stdout",
     "output_type": "stream",
     "text": [
      "0f90a1ca-e9e1-4616-994d-de0252ba9346\n",
      "sim calculated successfully\n",
      "\n",
      "2672.070 0.4506 2677.186\n",
      "0 existing calculation records provided\n"
     ]
    },
    {
     "name": "stderr",
     "output_type": "stream",
     "text": [
      "100%|█████████████████████████████████████████████████████████████████████████████████████| 1/1 [00:00<00:00,  4.32it/s]"
     ]
    },
    {
     "name": "stdout",
     "output_type": "stream",
     "text": [
      "1 calculation combinations to check\n",
      "1 new records to prepare\n"
     ]
    },
    {
     "name": "stderr",
     "output_type": "stream",
     "text": [
      "\n",
      "preparing: 100%|##########################################################################| 1/1 [00:00<00:00, 29.41it/s]\n"
     ]
    },
    {
     "name": "stdout",
     "output_type": "stream",
     "text": [
      "2d33ce47-ee56-4c73-9cfa-479ba035399a\n",
      "sim calculated successfully\n",
      "\n",
      "2672.070 0.4543 2688.307\n",
      "0 existing calculation records provided\n"
     ]
    },
    {
     "name": "stderr",
     "output_type": "stream",
     "text": [
      "100%|█████████████████████████████████████████████████████████████████████████████████████| 1/1 [00:00<00:00,  4.12it/s]"
     ]
    },
    {
     "name": "stdout",
     "output_type": "stream",
     "text": [
      "1 calculation combinations to check\n",
      "1 new records to prepare\n"
     ]
    },
    {
     "name": "stderr",
     "output_type": "stream",
     "text": [
      "\n",
      "preparing: 100%|##########################################################################| 1/1 [00:00<00:00, 31.28it/s]\n"
     ]
    },
    {
     "name": "stdout",
     "output_type": "stream",
     "text": [
      "c81af18d-7ac1-4d9f-91b5-4aecab638756\n",
      "sim calculated successfully\n",
      "\n",
      "2672.070 0.5123 2731.157\n",
      "0 existing calculation records provided\n"
     ]
    },
    {
     "name": "stderr",
     "output_type": "stream",
     "text": [
      "100%|█████████████████████████████████████████████████████████████████████████████████████| 1/1 [00:00<00:00,  4.38it/s]"
     ]
    },
    {
     "name": "stdout",
     "output_type": "stream",
     "text": [
      "1 calculation combinations to check\n",
      "1 new records to prepare\n"
     ]
    },
    {
     "name": "stderr",
     "output_type": "stream",
     "text": [
      "\n",
      "preparing: 100%|##########################################################################| 1/1 [00:00<00:00, 42.30it/s]\n"
     ]
    },
    {
     "name": "stdout",
     "output_type": "stream",
     "text": [
      "666b3184-ad74-4ef2-9bc0-2182bda7ffa4\n",
      "sim calculated successfully\n",
      "\n",
      "2672.070 0.4798 2693.593\n",
      "0 existing calculation records provided\n"
     ]
    },
    {
     "name": "stderr",
     "output_type": "stream",
     "text": [
      "100%|█████████████████████████████████████████████████████████████████████████████████████| 1/1 [00:00<00:00,  4.38it/s]"
     ]
    },
    {
     "name": "stdout",
     "output_type": "stream",
     "text": [
      "1 calculation combinations to check\n",
      "1 new records to prepare\n"
     ]
    },
    {
     "name": "stderr",
     "output_type": "stream",
     "text": [
      "\n",
      "preparing: 100%|##########################################################################| 1/1 [00:00<00:00, 27.12it/s]\n"
     ]
    },
    {
     "name": "stdout",
     "output_type": "stream",
     "text": [
      "4dfe8bd5-b975-41f7-90f3-4dab4f90bc62\n",
      "sim calculated successfully\n",
      "\n",
      "2672.070 0.629 2902.277\n",
      "0 existing calculation records provided\n"
     ]
    },
    {
     "name": "stderr",
     "output_type": "stream",
     "text": [
      "100%|█████████████████████████████████████████████████████████████████████████████████████| 1/1 [00:00<00:00,  3.67it/s]"
     ]
    },
    {
     "name": "stdout",
     "output_type": "stream",
     "text": [
      "1 calculation combinations to check\n",
      "1 new records to prepare\n"
     ]
    },
    {
     "name": "stderr",
     "output_type": "stream",
     "text": [
      "\n",
      "preparing: 100%|##########################################################################| 1/1 [00:00<00:00, 41.52it/s]\n"
     ]
    },
    {
     "name": "stdout",
     "output_type": "stream",
     "text": [
      "3da19d0c-8a36-4546-865a-f901779caafb\n",
      "sim calculated successfully\n",
      "\n",
      "2759.473 0.2996 2680.418\n",
      "\n",
      "206 2022--Mendelev-M-I--Ni-Al--LAMMPS--ipr1\n",
      "0 existing calculation records provided\n"
     ]
    },
    {
     "name": "stderr",
     "output_type": "stream",
     "text": [
      "100%|█████████████████████████████████████████████████████████████████████████████████████| 1/1 [00:00<00:00,  4.05it/s]"
     ]
    },
    {
     "name": "stdout",
     "output_type": "stream",
     "text": [
      "1 calculation combinations to check\n",
      "1 new records to prepare\n"
     ]
    },
    {
     "name": "stderr",
     "output_type": "stream",
     "text": [
      "\n",
      "preparing: 100%|##########################################################################| 1/1 [00:00<00:00, 32.00it/s]\n"
     ]
    },
    {
     "name": "stdout",
     "output_type": "stream",
     "text": [
      "478edc15-c202-44d4-b01d-0d697dcd495d\n",
      "sim calculated successfully\n",
      "\n",
      "4525.000 0.0 4689.980\n",
      "0 existing calculation records provided\n"
     ]
    },
    {
     "name": "stderr",
     "output_type": "stream",
     "text": [
      "100%|█████████████████████████████████████████████████████████████████████████████████████| 1/1 [00:00<00:00,  4.13it/s]"
     ]
    },
    {
     "name": "stdout",
     "output_type": "stream",
     "text": [
      "1 calculation combinations to check\n",
      "1 new records to prepare\n"
     ]
    },
    {
     "name": "stderr",
     "output_type": "stream",
     "text": [
      "\n",
      "preparing: 100%|##########################################################################| 1/1 [00:00<00:00, 43.34it/s]\n"
     ]
    },
    {
     "name": "stdout",
     "output_type": "stream",
     "text": [
      "f09ec67b-d83b-42e8-ad16-fc76fa3bc2f3\n",
      "sim calculated successfully\n",
      "\n",
      "2287.500 2.069e-05 2279.475\n",
      "0 existing calculation records provided\n"
     ]
    },
    {
     "name": "stderr",
     "output_type": "stream",
     "text": [
      "100%|█████████████████████████████████████████████████████████████████████████████████████| 1/1 [00:00<00:00,  4.51it/s]"
     ]
    },
    {
     "name": "stdout",
     "output_type": "stream",
     "text": [
      "1 calculation combinations to check\n",
      "1 new records to prepare\n"
     ]
    },
    {
     "name": "stderr",
     "output_type": "stream",
     "text": [
      "\n",
      "preparing: 100%|##########################################################################| 1/1 [00:00<00:00, 29.12it/s]\n"
     ]
    },
    {
     "name": "stdout",
     "output_type": "stream",
     "text": [
      "5797a778-341b-4512-b47b-1a6fd88be30d\n",
      "sim calculated successfully\n",
      "\n",
      "1168.750 0.07568 1164.595\n",
      "0 existing calculation records provided\n"
     ]
    },
    {
     "name": "stderr",
     "output_type": "stream",
     "text": [
      "100%|█████████████████████████████████████████████████████████████████████████████████████| 1/1 [00:00<00:00,  4.34it/s]"
     ]
    },
    {
     "name": "stdout",
     "output_type": "stream",
     "text": [
      "1 calculation combinations to check\n",
      "1 new records to prepare\n"
     ]
    },
    {
     "name": "stderr",
     "output_type": "stream",
     "text": [
      "\n",
      "preparing: 100%|##########################################################################| 1/1 [00:00<00:00, 28.38it/s]\n"
     ]
    },
    {
     "name": "stdout",
     "output_type": "stream",
     "text": [
      "2a1b5f6c-d0c8-467b-9ceb-41bdeeeede26\n",
      "sim calculated successfully\n",
      "\n",
      "609.375 0.0778 607.418\n",
      "0 existing calculation records provided\n"
     ]
    },
    {
     "name": "stderr",
     "output_type": "stream",
     "text": [
      "100%|█████████████████████████████████████████████████████████████████████████████████████| 1/1 [00:00<00:00,  3.14it/s]"
     ]
    },
    {
     "name": "stdout",
     "output_type": "stream",
     "text": [
      "1 calculation combinations to check\n",
      "1 new records to prepare\n"
     ]
    },
    {
     "name": "stderr",
     "output_type": "stream",
     "text": [
      "\n",
      "preparing: 100%|##########################################################################| 1/1 [00:00<00:00, 35.80it/s]\n"
     ]
    },
    {
     "name": "stdout",
     "output_type": "stream",
     "text": [
      "81ce7e54-875c-4ebc-a959-3dc48b8c506d\n",
      "sim calculated successfully\n",
      "\n",
      "329.688 0.02794 327.823\n",
      "0 existing calculation records provided\n"
     ]
    },
    {
     "name": "stderr",
     "output_type": "stream",
     "text": [
      "100%|█████████████████████████████████████████████████████████████████████████████████████| 1/1 [00:00<00:00,  3.08it/s]"
     ]
    },
    {
     "name": "stdout",
     "output_type": "stream",
     "text": [
      "1 calculation combinations to check\n",
      "1 new records to prepare\n"
     ]
    },
    {
     "name": "stderr",
     "output_type": "stream",
     "text": [
      "\n",
      "preparing: 100%|##########################################################################| 1/1 [00:00<00:00, 39.52it/s]\n"
     ]
    },
    {
     "name": "stdout",
     "output_type": "stream",
     "text": [
      "830f9e52-9df7-473a-a3ed-cc5998e0e2fe\n",
      "sim calculated successfully\n",
      "\n",
      "189.844 0.1391 188.269\n",
      "0 existing calculation records provided\n"
     ]
    },
    {
     "name": "stderr",
     "output_type": "stream",
     "text": [
      "100%|█████████████████████████████████████████████████████████████████████████████████████| 1/1 [00:00<00:00,  4.00it/s]"
     ]
    },
    {
     "name": "stdout",
     "output_type": "stream",
     "text": [
      "1 calculation combinations to check\n",
      "1 new records to prepare\n"
     ]
    },
    {
     "name": "stderr",
     "output_type": "stream",
     "text": [
      "\n",
      "preparing: 100%|##########################################################################| 1/1 [00:00<00:00, 27.36it/s]\n"
     ]
    },
    {
     "name": "stdout",
     "output_type": "stream",
     "text": [
      "c0e456f9-5cfd-4615-bb0f-2c3afabe3b85\n",
      "sim calculated successfully\n",
      "\n",
      "119.922 0.1341 118.720\n",
      "0 existing calculation records provided\n"
     ]
    },
    {
     "name": "stderr",
     "output_type": "stream",
     "text": [
      "100%|█████████████████████████████████████████████████████████████████████████████████████| 1/1 [00:00<00:00,  3.03it/s]"
     ]
    },
    {
     "name": "stdout",
     "output_type": "stream",
     "text": [
      "1 calculation combinations to check\n",
      "1 new records to prepare\n"
     ]
    },
    {
     "name": "stderr",
     "output_type": "stream",
     "text": [
      "\n",
      "preparing: 100%|##########################################################################| 1/1 [00:00<00:00, 37.57it/s]\n"
     ]
    },
    {
     "name": "stdout",
     "output_type": "stream",
     "text": [
      "29b51941-420c-42ed-bdbc-3f8ec983029b\n",
      "sim calculated successfully\n",
      "\n",
      "84.961 0.1293 84.441\n",
      "0 existing calculation records provided\n"
     ]
    },
    {
     "name": "stderr",
     "output_type": "stream",
     "text": [
      "100%|█████████████████████████████████████████████████████████████████████████████████████| 1/1 [00:00<00:00,  3.20it/s]"
     ]
    },
    {
     "name": "stdout",
     "output_type": "stream",
     "text": [
      "1 calculation combinations to check\n",
      "1 new records to prepare\n"
     ]
    },
    {
     "name": "stderr",
     "output_type": "stream",
     "text": [
      "\n",
      "preparing: 100%|##########################################################################| 1/1 [00:00<00:00, 39.45it/s]\n"
     ]
    },
    {
     "name": "stdout",
     "output_type": "stream",
     "text": [
      "79a5de12-a036-4378-9ca6-11c788b36a78\n",
      "sim calculated successfully\n",
      "\n",
      "67.480 0.0007138 67.440\n",
      "0 existing calculation records provided\n"
     ]
    },
    {
     "name": "stderr",
     "output_type": "stream",
     "text": [
      "100%|█████████████████████████████████████████████████████████████████████████████████████| 1/1 [00:00<00:00,  3.82it/s]"
     ]
    },
    {
     "name": "stdout",
     "output_type": "stream",
     "text": [
      "1 calculation combinations to check\n",
      "1 new records to prepare\n"
     ]
    },
    {
     "name": "stderr",
     "output_type": "stream",
     "text": [
      "\n",
      "preparing: 100%|##########################################################################| 1/1 [00:00<00:00, 26.93it/s]\n"
     ]
    },
    {
     "name": "stdout",
     "output_type": "stream",
     "text": [
      "2df4c63f-b53e-4b57-b415-d8bf01131500\n",
      "sim calculated successfully\n",
      "\n",
      "58.740 0.0003828 58.725\n",
      "0 existing calculation records provided\n"
     ]
    },
    {
     "name": "stderr",
     "output_type": "stream",
     "text": [
      "100%|█████████████████████████████████████████████████████████████████████████████████████| 1/1 [00:00<00:00,  3.90it/s]"
     ]
    },
    {
     "name": "stdout",
     "output_type": "stream",
     "text": [
      "1 calculation combinations to check\n",
      "1 new records to prepare\n"
     ]
    },
    {
     "name": "stderr",
     "output_type": "stream",
     "text": [
      "\n",
      "preparing: 100%|##########################################################################| 1/1 [00:00<00:00, 40.38it/s]\n"
     ]
    },
    {
     "name": "stdout",
     "output_type": "stream",
     "text": [
      "b926dbd0-de3c-4d2f-b9c7-a8c6d56c3b03\n",
      "sim calculated successfully\n",
      "\n",
      "54.370 0.000269 54.454\n",
      "0 existing calculation records provided\n"
     ]
    },
    {
     "name": "stderr",
     "output_type": "stream",
     "text": [
      "100%|█████████████████████████████████████████████████████████████████████████████████████| 1/1 [00:00<00:00,  3.93it/s]"
     ]
    },
    {
     "name": "stdout",
     "output_type": "stream",
     "text": [
      "1 calculation combinations to check\n",
      "1 new records to prepare\n"
     ]
    },
    {
     "name": "stderr",
     "output_type": "stream",
     "text": [
      "\n",
      "preparing: 100%|##########################################################################| 1/1 [00:00<00:00, 28.38it/s]\n"
     ]
    },
    {
     "name": "stdout",
     "output_type": "stream",
     "text": [
      "356dd5b5-c5a4-4aed-80e0-edf2ec328ae9\n",
      "sim calculated successfully\n",
      "\n",
      "52.185 0.0001759 52.117\n",
      "0 existing calculation records provided\n"
     ]
    },
    {
     "name": "stderr",
     "output_type": "stream",
     "text": [
      "100%|█████████████████████████████████████████████████████████████████████████████████████| 1/1 [00:00<00:00,  4.46it/s]"
     ]
    },
    {
     "name": "stdout",
     "output_type": "stream",
     "text": [
      "1 calculation combinations to check\n",
      "1 new records to prepare\n"
     ]
    },
    {
     "name": "stderr",
     "output_type": "stream",
     "text": [
      "\n",
      "preparing: 100%|##########################################################################| 1/1 [00:00<00:00, 27.10it/s]\n"
     ]
    },
    {
     "name": "stdout",
     "output_type": "stream",
     "text": [
      "5935af6a-4d10-4dc2-9f66-45868c34f963\n",
      "sim calculated successfully\n",
      "\n",
      "51.093 0.0002172 51.055\n",
      "0 existing calculation records provided\n"
     ]
    },
    {
     "name": "stderr",
     "output_type": "stream",
     "text": [
      "100%|█████████████████████████████████████████████████████████████████████████████████████| 1/1 [00:00<00:00,  3.21it/s]"
     ]
    },
    {
     "name": "stdout",
     "output_type": "stream",
     "text": [
      "1 calculation combinations to check\n",
      "1 new records to prepare\n"
     ]
    },
    {
     "name": "stderr",
     "output_type": "stream",
     "text": [
      "\n",
      "preparing: 100%|##########################################################################| 1/1 [00:00<00:00, 40.67it/s]\n"
     ]
    },
    {
     "name": "stdout",
     "output_type": "stream",
     "text": [
      "e8950843-1547-4fa3-8f32-51e6c509c04a\n",
      "sim calculated successfully\n",
      "\n",
      "50.546 0.0002069 50.577\n",
      "0 existing calculation records provided\n"
     ]
    },
    {
     "name": "stderr",
     "output_type": "stream",
     "text": [
      "100%|█████████████████████████████████████████████████████████████████████████████████████| 1/1 [00:00<00:00,  3.76it/s]"
     ]
    },
    {
     "name": "stdout",
     "output_type": "stream",
     "text": [
      "1 calculation combinations to check\n",
      "1 new records to prepare\n"
     ]
    },
    {
     "name": "stderr",
     "output_type": "stream",
     "text": [
      "\n",
      "preparing: 100%|##########################################################################| 1/1 [00:00<00:00, 39.43it/s]\n"
     ]
    },
    {
     "name": "stdout",
     "output_type": "stream",
     "text": [
      "ca4d4521-6b98-4026-aec8-06106d0a7970\n",
      "sim calculated successfully\n",
      "\n",
      "50.273 0.0001862 50.314\n",
      "0 existing calculation records provided\n"
     ]
    },
    {
     "name": "stderr",
     "output_type": "stream",
     "text": [
      "100%|█████████████████████████████████████████████████████████████████████████████████████| 1/1 [00:00<00:00,  4.20it/s]"
     ]
    },
    {
     "name": "stdout",
     "output_type": "stream",
     "text": [
      "1 calculation combinations to check\n",
      "1 new records to prepare\n"
     ]
    },
    {
     "name": "stderr",
     "output_type": "stream",
     "text": [
      "\n",
      "preparing: 100%|##########################################################################| 1/1 [00:00<00:00, 49.34it/s]\n"
     ]
    },
    {
     "name": "stdout",
     "output_type": "stream",
     "text": [
      "080c716a-042d-449a-882c-997b8fa63b8d\n",
      "sim calculated successfully\n",
      "\n",
      "50.137 0.0002069 50.233\n",
      "0 existing calculation records provided\n"
     ]
    },
    {
     "name": "stderr",
     "output_type": "stream",
     "text": [
      "100%|█████████████████████████████████████████████████████████████████████████████████████| 1/1 [00:00<00:00,  4.03it/s]"
     ]
    },
    {
     "name": "stdout",
     "output_type": "stream",
     "text": [
      "1 calculation combinations to check\n",
      "1 new records to prepare\n"
     ]
    },
    {
     "name": "stderr",
     "output_type": "stream",
     "text": [
      "\n",
      "preparing: 100%|##########################################################################| 1/1 [00:00<00:00, 40.66it/s]\n"
     ]
    },
    {
     "name": "stdout",
     "output_type": "stream",
     "text": [
      "94be2c47-b8d0-45fc-84a4-ef2992921bf9\n",
      "sim calculated successfully\n",
      "\n",
      "50.068 0.0001655 50.103\n",
      "0 existing calculation records provided\n"
     ]
    },
    {
     "name": "stderr",
     "output_type": "stream",
     "text": [
      "100%|█████████████████████████████████████████████████████████████████████████████████████| 1/1 [00:00<00:00,  3.94it/s]"
     ]
    },
    {
     "name": "stdout",
     "output_type": "stream",
     "text": [
      "1 calculation combinations to check\n",
      "1 new records to prepare\n"
     ]
    },
    {
     "name": "stderr",
     "output_type": "stream",
     "text": [
      "\n",
      "preparing: 100%|##########################################################################| 1/1 [00:00<00:00, 27.77it/s]\n"
     ]
    },
    {
     "name": "stdout",
     "output_type": "stream",
     "text": [
      "5ebbbd69-67e0-4db2-9ca6-bd4a3b1888f1\n",
      "sim calculated successfully\n",
      "\n",
      "50.034 0.0001241 50.038\n",
      "0 existing calculation records provided\n"
     ]
    },
    {
     "name": "stderr",
     "output_type": "stream",
     "text": [
      "100%|█████████████████████████████████████████████████████████████████████████████████████| 1/1 [00:00<00:00,  3.32it/s]"
     ]
    },
    {
     "name": "stdout",
     "output_type": "stream",
     "text": [
      "1 calculation combinations to check\n",
      "1 new records to prepare\n"
     ]
    },
    {
     "name": "stderr",
     "output_type": "stream",
     "text": [
      "\n",
      "preparing: 100%|##########################################################################| 1/1 [00:00<00:00, 41.28it/s]\n"
     ]
    },
    {
     "name": "stdout",
     "output_type": "stream",
     "text": [
      "35fe896e-e619-49e2-8e79-b71ac6b0855d\n",
      "sim calculated successfully\n",
      "\n",
      "50.017 0.0002172 50.093\n",
      "0 existing calculation records provided\n"
     ]
    },
    {
     "name": "stderr",
     "output_type": "stream",
     "text": [
      "100%|█████████████████████████████████████████████████████████████████████████████████████| 1/1 [00:00<00:00,  3.99it/s]"
     ]
    },
    {
     "name": "stdout",
     "output_type": "stream",
     "text": [
      "1 calculation combinations to check\n",
      "1 new records to prepare\n"
     ]
    },
    {
     "name": "stderr",
     "output_type": "stream",
     "text": [
      "\n",
      "preparing: 100%|##########################################################################| 1/1 [00:00<00:00, 27.72it/s]\n"
     ]
    },
    {
     "name": "stdout",
     "output_type": "stream",
     "text": [
      "e6e551a4-f5c2-4791-8e79-9c01a3bd4069\n",
      "sim calculated successfully\n",
      "\n",
      "50.009 0.0002586 50.113\n",
      "0 existing calculation records provided\n"
     ]
    },
    {
     "name": "stderr",
     "output_type": "stream",
     "text": [
      "100%|█████████████████████████████████████████████████████████████████████████████████████| 1/1 [00:00<00:00,  3.66it/s]"
     ]
    },
    {
     "name": "stdout",
     "output_type": "stream",
     "text": [
      "1 calculation combinations to check\n",
      "1 new records to prepare\n"
     ]
    },
    {
     "name": "stderr",
     "output_type": "stream",
     "text": [
      "\n",
      "preparing: 100%|##########################################################################| 1/1 [00:00<00:00, 37.97it/s]\n"
     ]
    },
    {
     "name": "stdout",
     "output_type": "stream",
     "text": [
      "862d2cc7-c73a-49cf-8f85-5b638bfdf36f\n",
      "sim calculated successfully\n",
      "\n",
      "50.004 0.0002069 49.945\n",
      "0 existing calculation records provided\n"
     ]
    },
    {
     "name": "stderr",
     "output_type": "stream",
     "text": [
      "100%|█████████████████████████████████████████████████████████████████████████████████████| 1/1 [00:00<00:00,  4.24it/s]"
     ]
    },
    {
     "name": "stdout",
     "output_type": "stream",
     "text": [
      "1 calculation combinations to check\n",
      "1 new records to prepare\n"
     ]
    },
    {
     "name": "stderr",
     "output_type": "stream",
     "text": [
      "\n",
      "preparing: 100%|##########################################################################| 1/1 [00:00<00:00, 29.35it/s]\n"
     ]
    },
    {
     "name": "stdout",
     "output_type": "stream",
     "text": [
      "40396903-6c74-4046-a109-2741ff3675bf\n",
      "sim calculated successfully\n",
      "\n",
      "50.002 0.0001345 50.020\n",
      "0 existing calculation records provided\n"
     ]
    },
    {
     "name": "stderr",
     "output_type": "stream",
     "text": [
      "100%|█████████████████████████████████████████████████████████████████████████████████████| 1/1 [00:00<00:00,  3.96it/s]"
     ]
    },
    {
     "name": "stdout",
     "output_type": "stream",
     "text": [
      "1 calculation combinations to check\n",
      "1 new records to prepare\n"
     ]
    },
    {
     "name": "stderr",
     "output_type": "stream",
     "text": [
      "\n",
      "preparing: 100%|##########################################################################| 1/1 [00:00<00:00, 34.22it/s]\n"
     ]
    },
    {
     "name": "stdout",
     "output_type": "stream",
     "text": [
      "43984ec4-f1f4-43ad-8d50-8f80ef11e1d4\n",
      "sim calculated successfully\n",
      "\n",
      "50.001 0.0002172 50.117\n",
      "0 existing calculation records provided\n"
     ]
    },
    {
     "name": "stderr",
     "output_type": "stream",
     "text": [
      "100%|█████████████████████████████████████████████████████████████████████████████████████| 1/1 [00:00<00:00,  3.81it/s]"
     ]
    },
    {
     "name": "stdout",
     "output_type": "stream",
     "text": [
      "1 calculation combinations to check\n",
      "1 new records to prepare\n"
     ]
    },
    {
     "name": "stderr",
     "output_type": "stream",
     "text": [
      "\n",
      "preparing: 100%|##########################################################################| 1/1 [00:00<00:00, 40.95it/s]\n"
     ]
    },
    {
     "name": "stdout",
     "output_type": "stream",
     "text": [
      "de8e69dc-d209-4089-a6fa-49a3e901b2e9\n",
      "sim calculated successfully\n",
      "\n",
      "50.001 0.0002586 50.035\n",
      "0 existing calculation records provided\n"
     ]
    },
    {
     "name": "stderr",
     "output_type": "stream",
     "text": [
      "100%|█████████████████████████████████████████████████████████████████████████████████████| 1/1 [00:00<00:00,  3.84it/s]"
     ]
    },
    {
     "name": "stdout",
     "output_type": "stream",
     "text": [
      "1 calculation combinations to check\n",
      "1 new records to prepare\n"
     ]
    },
    {
     "name": "stderr",
     "output_type": "stream",
     "text": [
      "\n",
      "preparing: 100%|##########################################################################| 1/1 [00:00<00:00, 40.33it/s]\n"
     ]
    },
    {
     "name": "stdout",
     "output_type": "stream",
     "text": [
      "d7c3b19a-e808-4363-ae7a-f819d21cf086\n",
      "sim calculated successfully\n",
      "\n",
      "50.000 0.0001655 50.054\n",
      "0 existing calculation records provided\n"
     ]
    },
    {
     "name": "stderr",
     "output_type": "stream",
     "text": [
      "100%|█████████████████████████████████████████████████████████████████████████████████████| 1/1 [00:00<00:00,  4.53it/s]"
     ]
    },
    {
     "name": "stdout",
     "output_type": "stream",
     "text": [
      "1 calculation combinations to check\n",
      "1 new records to prepare\n"
     ]
    },
    {
     "name": "stderr",
     "output_type": "stream",
     "text": [
      "\n",
      "preparing: 100%|##########################################################################| 1/1 [00:00<00:00, 28.95it/s]\n"
     ]
    },
    {
     "name": "stdout",
     "output_type": "stream",
     "text": [
      "0e650a6a-7077-44d6-abc8-c9dda6f3b7db\n",
      "sim calculated successfully\n",
      "\n",
      "50.000 0.0001448 50.011\n",
      "0 existing calculation records provided\n"
     ]
    },
    {
     "name": "stderr",
     "output_type": "stream",
     "text": [
      "100%|█████████████████████████████████████████████████████████████████████████████████████| 1/1 [00:00<00:00,  4.13it/s]"
     ]
    },
    {
     "name": "stdout",
     "output_type": "stream",
     "text": [
      "1 calculation combinations to check\n",
      "1 new records to prepare\n"
     ]
    },
    {
     "name": "stderr",
     "output_type": "stream",
     "text": [
      "\n",
      "preparing: 100%|##########################################################################| 1/1 [00:00<00:00, 39.56it/s]\n"
     ]
    },
    {
     "name": "stdout",
     "output_type": "stream",
     "text": [
      "e9c53fa6-abf8-407c-a81f-9af57a2cd8a4\n",
      "sim calculated successfully\n",
      "\n",
      "50.000 0.0002276 50.015\n",
      "0 existing calculation records provided\n"
     ]
    },
    {
     "name": "stderr",
     "output_type": "stream",
     "text": [
      "100%|█████████████████████████████████████████████████████████████████████████████████████| 1/1 [00:00<00:00,  3.07it/s]"
     ]
    },
    {
     "name": "stdout",
     "output_type": "stream",
     "text": [
      "1 calculation combinations to check\n",
      "1 new records to prepare\n"
     ]
    },
    {
     "name": "stderr",
     "output_type": "stream",
     "text": [
      "\n",
      "preparing: 100%|##########################################################################| 1/1 [00:00<00:00, 40.27it/s]\n"
     ]
    },
    {
     "name": "stdout",
     "output_type": "stream",
     "text": [
      "dd453edf-49df-4a20-bc3d-41859adcc1ac\n",
      "sim calculated successfully\n",
      "\n",
      "50.000 0.000269 50.075\n",
      "0 existing calculation records provided\n"
     ]
    },
    {
     "name": "stderr",
     "output_type": "stream",
     "text": [
      "100%|█████████████████████████████████████████████████████████████████████████████████████| 1/1 [00:00<00:00,  3.88it/s]"
     ]
    },
    {
     "name": "stdout",
     "output_type": "stream",
     "text": [
      "1 calculation combinations to check\n",
      "1 new records to prepare\n"
     ]
    },
    {
     "name": "stderr",
     "output_type": "stream",
     "text": [
      "\n",
      "preparing: 100%|##########################################################################| 1/1 [00:00<00:00, 39.70it/s]\n"
     ]
    },
    {
     "name": "stdout",
     "output_type": "stream",
     "text": [
      "63a722c0-bf46-4273-a87c-f98cbad94756\n",
      "sim calculated successfully\n",
      "\n",
      "50.000 0.0002586 50.022\n",
      "0 existing calculation records provided\n"
     ]
    },
    {
     "name": "stderr",
     "output_type": "stream",
     "text": [
      "100%|█████████████████████████████████████████████████████████████████████████████████████| 1/1 [00:00<00:00,  3.33it/s]"
     ]
    },
    {
     "name": "stdout",
     "output_type": "stream",
     "text": [
      "1 calculation combinations to check\n",
      "1 new records to prepare\n"
     ]
    },
    {
     "name": "stderr",
     "output_type": "stream",
     "text": [
      "\n",
      "preparing: 100%|##########################################################################| 1/1 [00:00<00:00, 41.43it/s]\n"
     ]
    },
    {
     "name": "stdout",
     "output_type": "stream",
     "text": [
      "e269bfa8-43aa-441c-86ee-41f4e41a3f4e\n",
      "sim calculated successfully\n",
      "\n",
      "50.000 0.0001655 50.016\n",
      "0 existing calculation records provided\n"
     ]
    },
    {
     "name": "stderr",
     "output_type": "stream",
     "text": [
      "100%|█████████████████████████████████████████████████████████████████████████████████████| 1/1 [00:00<00:00,  3.34it/s]"
     ]
    },
    {
     "name": "stdout",
     "output_type": "stream",
     "text": [
      "1 calculation combinations to check\n",
      "1 new records to prepare\n"
     ]
    },
    {
     "name": "stderr",
     "output_type": "stream",
     "text": [
      "\n",
      "preparing: 100%|##########################################################################| 1/1 [00:00<00:00, 37.78it/s]\n"
     ]
    },
    {
     "name": "stdout",
     "output_type": "stream",
     "text": [
      "1ad681b0-3a6d-4fca-b7ed-1ba24193dc76\n",
      "sim calculated successfully\n",
      "\n",
      "50.000 0.0001759 50.031\n",
      "0 existing calculation records provided\n"
     ]
    },
    {
     "name": "stderr",
     "output_type": "stream",
     "text": [
      "100%|█████████████████████████████████████████████████████████████████████████████████████| 1/1 [00:00<00:00,  3.55it/s]"
     ]
    },
    {
     "name": "stdout",
     "output_type": "stream",
     "text": [
      "1 calculation combinations to check\n",
      "1 new records to prepare\n"
     ]
    },
    {
     "name": "stderr",
     "output_type": "stream",
     "text": [
      "\n",
      "preparing: 100%|##########################################################################| 1/1 [00:00<00:00, 34.67it/s]\n"
     ]
    },
    {
     "name": "stdout",
     "output_type": "stream",
     "text": [
      "73cf26db-e7f9-4783-b810-89d53f726b09\n",
      "sim calculated successfully\n",
      "\n",
      "50.000 0.0001552 50.033\n",
      "0 existing calculation records provided\n"
     ]
    },
    {
     "name": "stderr",
     "output_type": "stream",
     "text": [
      "100%|█████████████████████████████████████████████████████████████████████████████████████| 1/1 [00:00<00:00,  3.28it/s]"
     ]
    },
    {
     "name": "stdout",
     "output_type": "stream",
     "text": [
      "1 calculation combinations to check\n",
      "1 new records to prepare\n"
     ]
    },
    {
     "name": "stderr",
     "output_type": "stream",
     "text": [
      "\n",
      "preparing: 100%|##########################################################################| 1/1 [00:00<00:00, 39.31it/s]\n"
     ]
    },
    {
     "name": "stdout",
     "output_type": "stream",
     "text": [
      "3fec81f8-6897-4ad2-a1cd-d0641adcde3a\n",
      "sim calculated successfully\n",
      "\n",
      "50.000 0.0001655 49.990\n",
      "0 existing calculation records provided\n"
     ]
    },
    {
     "name": "stderr",
     "output_type": "stream",
     "text": [
      "100%|█████████████████████████████████████████████████████████████████████████████████████| 1/1 [00:00<00:00,  3.84it/s]"
     ]
    },
    {
     "name": "stdout",
     "output_type": "stream",
     "text": [
      "1 calculation combinations to check\n",
      "1 new records to prepare\n"
     ]
    },
    {
     "name": "stderr",
     "output_type": "stream",
     "text": [
      "\n",
      "preparing: 100%|##########################################################################| 1/1 [00:00<00:00, 40.19it/s]\n"
     ]
    },
    {
     "name": "stdout",
     "output_type": "stream",
     "text": [
      "924a272f-74bb-411b-b32c-00980d6d8cdd\n",
      "sim calculated successfully\n",
      "\n",
      "50.000 0.000269 50.050\n",
      "0 existing calculation records provided\n"
     ]
    },
    {
     "name": "stderr",
     "output_type": "stream",
     "text": [
      "100%|█████████████████████████████████████████████████████████████████████████████████████| 1/1 [00:00<00:00,  3.44it/s]"
     ]
    },
    {
     "name": "stdout",
     "output_type": "stream",
     "text": [
      "1 calculation combinations to check\n",
      "1 new records to prepare\n"
     ]
    },
    {
     "name": "stderr",
     "output_type": "stream",
     "text": [
      "\n",
      "preparing: 100%|##########################################################################| 1/1 [00:00<00:00, 41.96it/s]\n"
     ]
    },
    {
     "name": "stdout",
     "output_type": "stream",
     "text": [
      "7e88be72-7ceb-49ac-bf67-66c2c31c419f\n",
      "sim calculated successfully\n",
      "\n",
      "50.000 0.0002069 49.973\n",
      "Max number of runs reached!\n",
      "\n",
      "205 2022--Daramola-A--Fe-Ni-Cr-Mn--LAMMPS--ipr1\n",
      "0 existing calculation records provided\n"
     ]
    },
    {
     "name": "stderr",
     "output_type": "stream",
     "text": [
      "100%|█████████████████████████████████████████████████████████████████████████████████████| 1/1 [00:00<00:00,  3.50it/s]"
     ]
    },
    {
     "name": "stdout",
     "output_type": "stream",
     "text": [
      "1 calculation combinations to check\n",
      "1 new records to prepare\n"
     ]
    },
    {
     "name": "stderr",
     "output_type": "stream",
     "text": [
      "\n",
      "preparing: 100%|##########################################################################| 1/1 [00:00<00:00, 51.20it/s]\n"
     ]
    },
    {
     "name": "stdout",
     "output_type": "stream",
     "text": [
      "b9f198af-765e-4f34-aba6-d12f5fb76222\n",
      "sim calculated successfully\n",
      "\n",
      "4525.000 0.05683 3532.324\n",
      "0 existing calculation records provided\n"
     ]
    },
    {
     "name": "stderr",
     "output_type": "stream",
     "text": [
      "100%|█████████████████████████████████████████████████████████████████████████████████████| 1/1 [00:00<00:00,  3.56it/s]"
     ]
    },
    {
     "name": "stdout",
     "output_type": "stream",
     "text": [
      "1 calculation combinations to check\n",
      "1 new records to prepare\n"
     ]
    },
    {
     "name": "stderr",
     "output_type": "stream",
     "text": [
      "\n",
      "preparing: 100%|##########################################################################| 1/1 [00:00<00:00, 59.65it/s]\n"
     ]
    },
    {
     "name": "stdout",
     "output_type": "stream",
     "text": [
      "e4905d6b-e4ef-4616-b0ec-d3a8c0d6669a\n",
      "sim calculated successfully\n",
      "\n",
      "2287.500 4.138e-05 2268.221\n",
      "0 existing calculation records provided\n"
     ]
    },
    {
     "name": "stderr",
     "output_type": "stream",
     "text": [
      "100%|█████████████████████████████████████████████████████████████████████████████████████| 1/1 [00:00<00:00,  3.30it/s]"
     ]
    },
    {
     "name": "stdout",
     "output_type": "stream",
     "text": [
      "1 calculation combinations to check\n",
      "1 new records to prepare\n"
     ]
    },
    {
     "name": "stderr",
     "output_type": "stream",
     "text": [
      "\n",
      "preparing: 100%|##########################################################################| 1/1 [00:00<00:00, 46.35it/s]\n"
     ]
    },
    {
     "name": "stdout",
     "output_type": "stream",
     "text": [
      "5c8949ae-83e7-45cc-9741-1b5b54a99b78\n",
      "sim calculated successfully\n",
      "\n",
      "1168.750 0.1297 1278.980\n",
      "0 existing calculation records provided\n"
     ]
    },
    {
     "name": "stderr",
     "output_type": "stream",
     "text": [
      "100%|█████████████████████████████████████████████████████████████████████████████████████| 1/1 [00:00<00:00,  3.20it/s]"
     ]
    },
    {
     "name": "stdout",
     "output_type": "stream",
     "text": [
      "1 calculation combinations to check\n",
      "1 new records to prepare\n"
     ]
    },
    {
     "name": "stderr",
     "output_type": "stream",
     "text": [
      "\n",
      "preparing: 100%|##########################################################################| 1/1 [00:00<00:00, 46.85it/s]\n"
     ]
    },
    {
     "name": "stdout",
     "output_type": "stream",
     "text": [
      "f808b67c-3b25-48c3-8657-783e91306b92\n",
      "sim calculated successfully\n",
      "\n",
      "609.375 0.1525 612.822\n",
      "0 existing calculation records provided\n"
     ]
    },
    {
     "name": "stderr",
     "output_type": "stream",
     "text": [
      "100%|█████████████████████████████████████████████████████████████████████████████████████| 1/1 [00:00<00:00,  3.94it/s]"
     ]
    },
    {
     "name": "stdout",
     "output_type": "stream",
     "text": [
      "1 calculation combinations to check\n",
      "1 new records to prepare\n"
     ]
    },
    {
     "name": "stderr",
     "output_type": "stream",
     "text": [
      "\n",
      "preparing: 100%|##########################################################################| 1/1 [00:00<00:00, 30.23it/s]\n"
     ]
    },
    {
     "name": "stdout",
     "output_type": "stream",
     "text": [
      "2d179eda-dc29-4743-aa10-e0829032903e\n",
      "sim calculated successfully\n",
      "\n",
      "329.688 0.05815 328.844\n",
      "0 existing calculation records provided\n"
     ]
    },
    {
     "name": "stderr",
     "output_type": "stream",
     "text": [
      "100%|█████████████████████████████████████████████████████████████████████████████████████| 1/1 [00:00<00:00,  3.35it/s]"
     ]
    },
    {
     "name": "stdout",
     "output_type": "stream",
     "text": [
      "1 calculation combinations to check\n",
      "1 new records to prepare\n"
     ]
    },
    {
     "name": "stderr",
     "output_type": "stream",
     "text": [
      "\n",
      "preparing: 100%|##########################################################################| 1/1 [00:00<00:00, 44.48it/s]\n"
     ]
    },
    {
     "name": "stdout",
     "output_type": "stream",
     "text": [
      "7f54be6d-4d58-431e-80da-5ec7b11a2f0f\n",
      "sim calculated successfully\n",
      "\n",
      "189.844 0.1633 196.648\n",
      "0 existing calculation records provided\n"
     ]
    },
    {
     "name": "stderr",
     "output_type": "stream",
     "text": [
      "100%|█████████████████████████████████████████████████████████████████████████████████████| 1/1 [00:00<00:00,  3.38it/s]"
     ]
    },
    {
     "name": "stdout",
     "output_type": "stream",
     "text": [
      "1 calculation combinations to check\n",
      "1 new records to prepare\n"
     ]
    },
    {
     "name": "stderr",
     "output_type": "stream",
     "text": [
      "\n",
      "preparing: 100%|##########################################################################| 1/1 [00:00<00:00, 47.98it/s]\n"
     ]
    },
    {
     "name": "stdout",
     "output_type": "stream",
     "text": [
      "8e82c0fa-1fad-4bcc-95f9-c71b3cf8b87a\n",
      "sim calculated successfully\n",
      "\n",
      "119.922 0.1704 212.349\n",
      "0 existing calculation records provided\n"
     ]
    },
    {
     "name": "stderr",
     "output_type": "stream",
     "text": [
      "100%|█████████████████████████████████████████████████████████████████████████████████████| 1/1 [00:00<00:00,  3.55it/s]"
     ]
    },
    {
     "name": "stdout",
     "output_type": "stream",
     "text": [
      "1 calculation combinations to check\n",
      "1 new records to prepare\n"
     ]
    },
    {
     "name": "stderr",
     "output_type": "stream",
     "text": [
      "\n",
      "preparing: 100%|##########################################################################| 1/1 [00:00<00:00, 45.60it/s]\n"
     ]
    },
    {
     "name": "stdout",
     "output_type": "stream",
     "text": [
      "ad149651-c70c-445a-9d52-ce5fd837fa57\n",
      "sim calculated successfully\n",
      "\n",
      "84.961 0.0827 211.657\n",
      "0 existing calculation records provided\n"
     ]
    },
    {
     "name": "stderr",
     "output_type": "stream",
     "text": [
      "100%|█████████████████████████████████████████████████████████████████████████████████████| 1/1 [00:00<00:00,  3.44it/s]"
     ]
    },
    {
     "name": "stdout",
     "output_type": "stream",
     "text": [
      "1 calculation combinations to check\n",
      "1 new records to prepare\n"
     ]
    },
    {
     "name": "stderr",
     "output_type": "stream",
     "text": [
      "\n",
      "preparing: 100%|##########################################################################| 1/1 [00:00<00:00, 46.17it/s]\n"
     ]
    },
    {
     "name": "stdout",
     "output_type": "stream",
     "text": [
      "a402fed6-8758-4057-946b-980f4e14f45f\n",
      "sim calculated successfully\n",
      "\n",
      "67.480 0.7886 75.282\n",
      "0 existing calculation records provided\n"
     ]
    },
    {
     "name": "stderr",
     "output_type": "stream",
     "text": [
      "100%|█████████████████████████████████████████████████████████████████████████████████████| 1/1 [00:00<00:00,  4.07it/s]"
     ]
    },
    {
     "name": "stdout",
     "output_type": "stream",
     "text": [
      "1 calculation combinations to check\n",
      "1 new records to prepare\n"
     ]
    },
    {
     "name": "stderr",
     "output_type": "stream",
     "text": [
      "\n",
      "preparing: 100%|##########################################################################| 1/1 [00:00<00:00, 31.04it/s]\n"
     ]
    },
    {
     "name": "stdout",
     "output_type": "stream",
     "text": [
      "1602e20d-b413-44d4-a505-617566e2e18d\n",
      "sim calculated successfully\n",
      "\n",
      "76.221 0.8497 78.673\n",
      "0 existing calculation records provided\n"
     ]
    },
    {
     "name": "stderr",
     "output_type": "stream",
     "text": [
      "100%|█████████████████████████████████████████████████████████████████████████████████████| 1/1 [00:00<00:00,  3.94it/s]"
     ]
    },
    {
     "name": "stdout",
     "output_type": "stream",
     "text": [
      "1 calculation combinations to check\n",
      "1 new records to prepare\n"
     ]
    },
    {
     "name": "stderr",
     "output_type": "stream",
     "text": [
      "\n",
      "preparing: 100%|##########################################################################| 1/1 [00:00<00:00, 49.97it/s]\n"
     ]
    },
    {
     "name": "stdout",
     "output_type": "stream",
     "text": [
      "d291bda3-2a27-441b-b4f5-374211676cf5\n",
      "sim calculated successfully\n",
      "\n",
      "80.591 0.6766 98.091\n",
      "0 existing calculation records provided\n"
     ]
    },
    {
     "name": "stderr",
     "output_type": "stream",
     "text": [
      "100%|█████████████████████████████████████████████████████████████████████████████████████| 1/1 [00:00<00:00,  3.32it/s]"
     ]
    },
    {
     "name": "stdout",
     "output_type": "stream",
     "text": [
      "1 calculation combinations to check\n",
      "1 new records to prepare\n"
     ]
    },
    {
     "name": "stderr",
     "output_type": "stream",
     "text": [
      "\n",
      "preparing: 100%|##########################################################################| 1/1 [00:00<00:00, 37.64it/s]\n"
     ]
    },
    {
     "name": "stdout",
     "output_type": "stream",
     "text": [
      "e02067b8-a89b-482f-8550-0d6684817a99\n",
      "sim calculated successfully\n",
      "\n",
      "82.776 0.7649 88.919\n",
      "0 existing calculation records provided\n"
     ]
    },
    {
     "name": "stderr",
     "output_type": "stream",
     "text": [
      "100%|█████████████████████████████████████████████████████████████████████████████████████| 1/1 [00:00<00:00,  3.41it/s]"
     ]
    },
    {
     "name": "stdout",
     "output_type": "stream",
     "text": [
      "1 calculation combinations to check\n",
      "1 new records to prepare\n"
     ]
    },
    {
     "name": "stderr",
     "output_type": "stream",
     "text": [
      "\n",
      "preparing: 100%|##########################################################################| 1/1 [00:00<00:00, 46.94it/s]\n"
     ]
    },
    {
     "name": "stdout",
     "output_type": "stream",
     "text": [
      "f725775e-3ae2-4cf3-b359-ccaa41f1a1ba\n",
      "sim calculated successfully\n",
      "\n",
      "83.868 0.2642 191.640\n",
      "0 existing calculation records provided\n"
     ]
    },
    {
     "name": "stderr",
     "output_type": "stream",
     "text": [
      "100%|█████████████████████████████████████████████████████████████████████████████████████| 1/1 [00:00<00:00,  3.52it/s]"
     ]
    },
    {
     "name": "stdout",
     "output_type": "stream",
     "text": [
      "1 calculation combinations to check\n",
      "1 new records to prepare\n"
     ]
    },
    {
     "name": "stderr",
     "output_type": "stream",
     "text": [
      "\n",
      "preparing: 100%|##########################################################################| 1/1 [00:00<00:00, 47.34it/s]\n"
     ]
    },
    {
     "name": "stdout",
     "output_type": "stream",
     "text": [
      "7a2af78e-3c55-471f-8361-bb6b1e29fedb\n",
      "sim calculated successfully\n",
      "\n",
      "83.322 0.8132 87.215\n",
      "0 existing calculation records provided\n"
     ]
    },
    {
     "name": "stderr",
     "output_type": "stream",
     "text": [
      "100%|█████████████████████████████████████████████████████████████████████████████████████| 1/1 [00:00<00:00,  3.30it/s]"
     ]
    },
    {
     "name": "stdout",
     "output_type": "stream",
     "text": [
      "1 calculation combinations to check\n",
      "1 new records to prepare\n"
     ]
    },
    {
     "name": "stderr",
     "output_type": "stream",
     "text": [
      "\n",
      "preparing: 100%|##########################################################################| 1/1 [00:00<00:00, 47.22it/s]\n"
     ]
    },
    {
     "name": "stdout",
     "output_type": "stream",
     "text": [
      "290558a7-9fc8-4ed6-9042-42cbb58dc845\n",
      "sim calculated successfully\n",
      "\n",
      "84.142 0.08254 225.926\n",
      "0 existing calculation records provided\n"
     ]
    },
    {
     "name": "stderr",
     "output_type": "stream",
     "text": [
      "100%|█████████████████████████████████████████████████████████████████████████████████████| 1/1 [00:00<00:00,  3.42it/s]"
     ]
    },
    {
     "name": "stdout",
     "output_type": "stream",
     "text": [
      "1 calculation combinations to check\n",
      "1 new records to prepare\n"
     ]
    },
    {
     "name": "stderr",
     "output_type": "stream",
     "text": [
      "\n",
      "preparing: 100%|##########################################################################| 1/1 [00:00<00:00, 47.02it/s]\n"
     ]
    },
    {
     "name": "stdout",
     "output_type": "stream",
     "text": [
      "43e7b6a2-3825-4475-ba1a-fa51917cb61d\n",
      "sim calculated successfully\n",
      "\n",
      "83.732 0.8425 86.026\n",
      "0 existing calculation records provided\n"
     ]
    },
    {
     "name": "stderr",
     "output_type": "stream",
     "text": [
      "100%|█████████████████████████████████████████████████████████████████████████████████████| 1/1 [00:00<00:00,  3.42it/s]"
     ]
    },
    {
     "name": "stdout",
     "output_type": "stream",
     "text": [
      "1 calculation combinations to check\n",
      "1 new records to prepare\n"
     ]
    },
    {
     "name": "stderr",
     "output_type": "stream",
     "text": [
      "\n",
      "preparing: 100%|##########################################################################| 1/1 [00:00<00:00, 45.97it/s]\n"
     ]
    },
    {
     "name": "stdout",
     "output_type": "stream",
     "text": [
      "88109143-144a-468a-8d6f-0ad5c02fab6a\n",
      "sim calculated successfully\n",
      "\n",
      "83.937 0.823 87.965\n",
      "0 existing calculation records provided\n"
     ]
    },
    {
     "name": "stderr",
     "output_type": "stream",
     "text": [
      "100%|█████████████████████████████████████████████████████████████████████████████████████| 1/1 [00:00<00:00,  3.13it/s]"
     ]
    },
    {
     "name": "stdout",
     "output_type": "stream",
     "text": [
      "1 calculation combinations to check\n",
      "1 new records to prepare\n"
     ]
    },
    {
     "name": "stderr",
     "output_type": "stream",
     "text": [
      "\n",
      "preparing: 100%|##########################################################################| 1/1 [00:00<00:00, 43.44it/s]\n"
     ]
    },
    {
     "name": "stdout",
     "output_type": "stream",
     "text": [
      "6b95caf1-266d-450d-bb97-6b9ad362ebe8\n",
      "sim calculated successfully\n",
      "\n",
      "84.039 0.812 89.417\n",
      "0 existing calculation records provided\n"
     ]
    },
    {
     "name": "stderr",
     "output_type": "stream",
     "text": [
      "100%|█████████████████████████████████████████████████████████████████████████████████████| 1/1 [00:00<00:00,  3.17it/s]"
     ]
    },
    {
     "name": "stdout",
     "output_type": "stream",
     "text": [
      "1 calculation combinations to check\n",
      "1 new records to prepare\n"
     ]
    },
    {
     "name": "stderr",
     "output_type": "stream",
     "text": [
      "\n",
      "preparing: 100%|##########################################################################| 1/1 [00:00<00:00, 47.73it/s]\n"
     ]
    },
    {
     "name": "stdout",
     "output_type": "stream",
     "text": [
      "8bd2687e-99de-4b84-befc-df70bcdaa916\n",
      "sim calculated successfully\n",
      "\n",
      "84.090 0.1909 213.198\n",
      "0 existing calculation records provided\n"
     ]
    },
    {
     "name": "stderr",
     "output_type": "stream",
     "text": [
      "100%|█████████████████████████████████████████████████████████████████████████████████████| 1/1 [00:00<00:00,  3.36it/s]"
     ]
    },
    {
     "name": "stdout",
     "output_type": "stream",
     "text": [
      "1 calculation combinations to check\n",
      "1 new records to prepare\n"
     ]
    },
    {
     "name": "stderr",
     "output_type": "stream",
     "text": [
      "\n",
      "preparing: 100%|##########################################################################| 1/1 [00:00<00:00, 48.19it/s]\n"
     ]
    },
    {
     "name": "stdout",
     "output_type": "stream",
     "text": [
      "f5486a2f-93f4-449c-b82d-85e75736d02a\n",
      "sim calculated successfully\n",
      "\n",
      "84.065 0.5389 133.295\n",
      "0 existing calculation records provided\n"
     ]
    },
    {
     "name": "stderr",
     "output_type": "stream",
     "text": [
      "100%|█████████████████████████████████████████████████████████████████████████████████████| 1/1 [00:00<00:00,  3.32it/s]"
     ]
    },
    {
     "name": "stdout",
     "output_type": "stream",
     "text": [
      "1 calculation combinations to check\n",
      "1 new records to prepare\n"
     ]
    },
    {
     "name": "stderr",
     "output_type": "stream",
     "text": [
      "\n",
      "preparing: 100%|##########################################################################| 1/1 [00:00<00:00, 25.39it/s]\n"
     ]
    },
    {
     "name": "stdout",
     "output_type": "stream",
     "text": [
      "148c580b-3fd0-43b6-b73b-8c0824a99139\n",
      "sim calculated successfully\n",
      "\n",
      "84.065 0.07123 227.293\n",
      "0 existing calculation records provided\n"
     ]
    },
    {
     "name": "stderr",
     "output_type": "stream",
     "text": [
      "100%|█████████████████████████████████████████████████████████████████████████████████████| 1/1 [00:00<00:00,  3.15it/s]"
     ]
    },
    {
     "name": "stdout",
     "output_type": "stream",
     "text": [
      "1 calculation combinations to check\n",
      "1 new records to prepare\n"
     ]
    },
    {
     "name": "stderr",
     "output_type": "stream",
     "text": [
      "\n",
      "preparing: 100%|##########################################################################| 1/1 [00:00<00:00, 39.99it/s]\n"
     ]
    },
    {
     "name": "stdout",
     "output_type": "stream",
     "text": [
      "5f5a42de-a087-4474-b029-0ceb4e1b4c7e\n",
      "sim calculated successfully\n",
      "\n",
      "84.052 0.06984 230.376\n",
      "0 existing calculation records provided\n"
     ]
    },
    {
     "name": "stderr",
     "output_type": "stream",
     "text": [
      "100%|█████████████████████████████████████████████████████████████████████████████████████| 1/1 [00:00<00:00,  3.99it/s]"
     ]
    },
    {
     "name": "stdout",
     "output_type": "stream",
     "text": [
      "1 calculation combinations to check\n",
      "1 new records to prepare\n"
     ]
    },
    {
     "name": "stderr",
     "output_type": "stream",
     "text": [
      "\n",
      "preparing: 100%|##########################################################################| 1/1 [00:00<00:00, 27.92it/s]\n"
     ]
    },
    {
     "name": "stdout",
     "output_type": "stream",
     "text": [
      "d478eef5-e9aa-43f3-b0c3-a63127ca02aa\n",
      "sim calculated successfully\n",
      "\n",
      "84.046 0.07653 228.093\n",
      "0 existing calculation records provided\n"
     ]
    },
    {
     "name": "stderr",
     "output_type": "stream",
     "text": [
      "100%|█████████████████████████████████████████████████████████████████████████████████████| 1/1 [00:00<00:00,  3.93it/s]"
     ]
    },
    {
     "name": "stdout",
     "output_type": "stream",
     "text": [
      "1 calculation combinations to check\n",
      "1 new records to prepare\n"
     ]
    },
    {
     "name": "stderr",
     "output_type": "stream",
     "text": [
      "\n",
      "preparing: 100%|##########################################################################| 1/1 [00:00<00:00, 29.29it/s]\n"
     ]
    },
    {
     "name": "stdout",
     "output_type": "stream",
     "text": [
      "da3599c1-ca19-4045-97f5-673c27ae4889\n",
      "sim calculated successfully\n",
      "\n",
      "84.042 0.1767 204.806\n",
      "0 existing calculation records provided\n"
     ]
    },
    {
     "name": "stderr",
     "output_type": "stream",
     "text": [
      "100%|█████████████████████████████████████████████████████████████████████████████████████| 1/1 [00:00<00:00,  3.32it/s]"
     ]
    },
    {
     "name": "stdout",
     "output_type": "stream",
     "text": [
      "1 calculation combinations to check\n",
      "1 new records to prepare\n"
     ]
    },
    {
     "name": "stderr",
     "output_type": "stream",
     "text": [
      "\n",
      "preparing: 100%|##########################################################################| 1/1 [00:00<00:00, 47.11it/s]\n"
     ]
    },
    {
     "name": "stdout",
     "output_type": "stream",
     "text": [
      "ad4bdcf9-b9d7-4a46-a976-cb2ead57d66f\n",
      "sim calculated successfully\n",
      "\n",
      "84.041 0.2729 190.095\n",
      "0 existing calculation records provided\n"
     ]
    },
    {
     "name": "stderr",
     "output_type": "stream",
     "text": [
      "100%|█████████████████████████████████████████████████████████████████████████████████████| 1/1 [00:00<00:00,  4.16it/s]"
     ]
    },
    {
     "name": "stdout",
     "output_type": "stream",
     "text": [
      "1 calculation combinations to check\n",
      "1 new records to prepare\n"
     ]
    },
    {
     "name": "stderr",
     "output_type": "stream",
     "text": [
      "\n",
      "preparing: 100%|##########################################################################| 1/1 [00:00<00:00, 29.23it/s]\n"
     ]
    },
    {
     "name": "stdout",
     "output_type": "stream",
     "text": [
      "952f1799-c394-4787-af82-c1d59070437e\n",
      "sim calculated successfully\n",
      "\n",
      "84.040 0.8206 87.590\n",
      "0 existing calculation records provided\n"
     ]
    },
    {
     "name": "stderr",
     "output_type": "stream",
     "text": [
      "100%|█████████████████████████████████████████████████████████████████████████████████████| 1/1 [00:00<00:00,  3.25it/s]"
     ]
    },
    {
     "name": "stdout",
     "output_type": "stream",
     "text": [
      "1 calculation combinations to check\n",
      "1 new records to prepare\n"
     ]
    },
    {
     "name": "stderr",
     "output_type": "stream",
     "text": [
      "\n",
      "preparing: 100%|##########################################################################| 1/1 [00:00<00:00, 45.57it/s]\n"
     ]
    },
    {
     "name": "stdout",
     "output_type": "stream",
     "text": [
      "c2606285-4730-4dd5-8b14-db1acbda2aba\n",
      "sim calculated successfully\n",
      "\n",
      "84.041 0.8385 87.311\n",
      "0 existing calculation records provided\n"
     ]
    },
    {
     "name": "stderr",
     "output_type": "stream",
     "text": [
      "100%|█████████████████████████████████████████████████████████████████████████████████████| 1/1 [00:00<00:00,  3.19it/s]"
     ]
    },
    {
     "name": "stdout",
     "output_type": "stream",
     "text": [
      "1 calculation combinations to check\n",
      "1 new records to prepare\n"
     ]
    },
    {
     "name": "stderr",
     "output_type": "stream",
     "text": [
      "\n",
      "preparing: 100%|##########################################################################| 1/1 [00:00<00:00, 44.82it/s]\n"
     ]
    },
    {
     "name": "stdout",
     "output_type": "stream",
     "text": [
      "c94306d0-ddd5-49db-a2f2-55968bcc4988\n",
      "sim calculated successfully\n",
      "\n",
      "84.042 0.8089 87.356\n",
      "0 existing calculation records provided\n"
     ]
    },
    {
     "name": "stderr",
     "output_type": "stream",
     "text": [
      "100%|█████████████████████████████████████████████████████████████████████████████████████| 1/1 [00:00<00:00,  3.47it/s]"
     ]
    },
    {
     "name": "stdout",
     "output_type": "stream",
     "text": [
      "1 calculation combinations to check\n",
      "1 new records to prepare\n"
     ]
    },
    {
     "name": "stderr",
     "output_type": "stream",
     "text": [
      "\n",
      "preparing: 100%|##########################################################################| 1/1 [00:00<00:00, 47.57it/s]\n"
     ]
    },
    {
     "name": "stdout",
     "output_type": "stream",
     "text": [
      "bde71a07-a60b-4526-8d0e-e1d6480c1398\n",
      "sim calculated successfully\n",
      "\n",
      "84.042 0.8146 88.628\n",
      "0 existing calculation records provided\n"
     ]
    },
    {
     "name": "stderr",
     "output_type": "stream",
     "text": [
      "100%|█████████████████████████████████████████████████████████████████████████████████████| 1/1 [00:00<00:00,  3.36it/s]"
     ]
    },
    {
     "name": "stdout",
     "output_type": "stream",
     "text": [
      "1 calculation combinations to check\n",
      "1 new records to prepare\n"
     ]
    },
    {
     "name": "stderr",
     "output_type": "stream",
     "text": [
      "\n",
      "preparing: 100%|##########################################################################| 1/1 [00:00<00:00, 46.76it/s]\n"
     ]
    },
    {
     "name": "stdout",
     "output_type": "stream",
     "text": [
      "bafc6806-42c6-49f2-b28c-ba981fc348b8\n",
      "sim calculated successfully\n",
      "\n",
      "84.042 0.8205 88.321\n",
      "0 existing calculation records provided\n"
     ]
    },
    {
     "name": "stderr",
     "output_type": "stream",
     "text": [
      "100%|█████████████████████████████████████████████████████████████████████████████████████| 1/1 [00:00<00:00,  3.42it/s]"
     ]
    },
    {
     "name": "stdout",
     "output_type": "stream",
     "text": [
      "1 calculation combinations to check\n",
      "1 new records to prepare\n"
     ]
    },
    {
     "name": "stderr",
     "output_type": "stream",
     "text": [
      "\n",
      "preparing: 100%|##########################################################################| 1/1 [00:00<00:00, 47.45it/s]\n"
     ]
    },
    {
     "name": "stdout",
     "output_type": "stream",
     "text": [
      "b7a376e4-d00a-469d-8496-1e21bf67b48a\n",
      "sim calculated successfully\n",
      "\n",
      "84.042 0.8358 87.323\n",
      "0 existing calculation records provided\n"
     ]
    },
    {
     "name": "stderr",
     "output_type": "stream",
     "text": [
      "100%|█████████████████████████████████████████████████████████████████████████████████████| 1/1 [00:00<00:00,  3.35it/s]"
     ]
    },
    {
     "name": "stdout",
     "output_type": "stream",
     "text": [
      "1 calculation combinations to check\n",
      "1 new records to prepare\n"
     ]
    },
    {
     "name": "stderr",
     "output_type": "stream",
     "text": [
      "\n",
      "preparing: 100%|##########################################################################| 1/1 [00:00<00:00, 46.40it/s]\n"
     ]
    },
    {
     "name": "stdout",
     "output_type": "stream",
     "text": [
      "40c62982-aaf8-463d-b40b-6eeff98bed10\n",
      "sim calculated successfully\n",
      "\n",
      "84.042 0.8362 87.830\n",
      "0 existing calculation records provided\n"
     ]
    },
    {
     "name": "stderr",
     "output_type": "stream",
     "text": [
      "100%|█████████████████████████████████████████████████████████████████████████████████████| 1/1 [00:00<00:00,  3.45it/s]"
     ]
    },
    {
     "name": "stdout",
     "output_type": "stream",
     "text": [
      "1 calculation combinations to check\n",
      "1 new records to prepare\n"
     ]
    },
    {
     "name": "stderr",
     "output_type": "stream",
     "text": [
      "\n",
      "preparing: 100%|##########################################################################| 1/1 [00:00<00:00, 47.86it/s]\n"
     ]
    },
    {
     "name": "stdout",
     "output_type": "stream",
     "text": [
      "51099ec7-360b-43be-8ae0-7ca688cd720e\n",
      "sim calculated successfully\n",
      "\n",
      "84.042 0.8116 87.865\n",
      "0 existing calculation records provided\n"
     ]
    },
    {
     "name": "stderr",
     "output_type": "stream",
     "text": [
      "100%|█████████████████████████████████████████████████████████████████████████████████████| 1/1 [00:00<00:00,  3.41it/s]"
     ]
    },
    {
     "name": "stdout",
     "output_type": "stream",
     "text": [
      "1 calculation combinations to check\n",
      "1 new records to prepare\n"
     ]
    },
    {
     "name": "stderr",
     "output_type": "stream",
     "text": [
      "\n",
      "preparing: 100%|##########################################################################| 1/1 [00:00<00:00, 46.49it/s]\n"
     ]
    },
    {
     "name": "stdout",
     "output_type": "stream",
     "text": [
      "f7b67628-c219-4546-bd59-e45ab21c97ca\n",
      "sim calculated successfully\n",
      "\n",
      "84.042 0.7799 91.038\n",
      "0 existing calculation records provided\n"
     ]
    },
    {
     "name": "stderr",
     "output_type": "stream",
     "text": [
      "100%|█████████████████████████████████████████████████████████████████████████████████████| 1/1 [00:00<00:00,  3.75it/s]"
     ]
    },
    {
     "name": "stdout",
     "output_type": "stream",
     "text": [
      "1 calculation combinations to check\n",
      "1 new records to prepare\n"
     ]
    },
    {
     "name": "stderr",
     "output_type": "stream",
     "text": [
      "\n",
      "preparing: 100%|##########################################################################| 1/1 [00:00<00:00, 30.69it/s]\n"
     ]
    },
    {
     "name": "stdout",
     "output_type": "stream",
     "text": [
      "7dd1a38f-a50d-4cf8-950f-a704a408002f\n",
      "sim calculated successfully\n",
      "\n",
      "84.042 0.8307 87.283\n",
      "Max number of runs reached!\n",
      "\n",
      "204 2022--Daramola-A--Fe-Ni-Cr-Mn--LAMMPS--ipr1\n",
      "0 existing calculation records provided\n"
     ]
    },
    {
     "name": "stderr",
     "output_type": "stream",
     "text": [
      "100%|█████████████████████████████████████████████████████████████████████████████████████| 1/1 [00:00<00:00,  3.53it/s]"
     ]
    },
    {
     "name": "stdout",
     "output_type": "stream",
     "text": [
      "1 calculation combinations to check\n",
      "1 new records to prepare\n"
     ]
    },
    {
     "name": "stderr",
     "output_type": "stream",
     "text": [
      "\n",
      "preparing: 100%|##########################################################################| 1/1 [00:00<00:00, 62.32it/s]\n"
     ]
    },
    {
     "name": "stdout",
     "output_type": "stream",
     "text": [
      "e8248f3b-57ca-41a7-ae38-ff582cf21cac\n",
      "sim calculated successfully\n",
      "\n",
      "4525.000 0.1183 2367.045\n",
      "0 existing calculation records provided\n"
     ]
    },
    {
     "name": "stderr",
     "output_type": "stream",
     "text": [
      "100%|█████████████████████████████████████████████████████████████████████████████████████| 1/1 [00:00<00:00,  3.33it/s]"
     ]
    },
    {
     "name": "stdout",
     "output_type": "stream",
     "text": [
      "1 calculation combinations to check\n",
      "1 new records to prepare\n"
     ]
    },
    {
     "name": "stderr",
     "output_type": "stream",
     "text": [
      "\n",
      "preparing: 100%|##########################################################################| 1/1 [00:00<00:00, 45.57it/s]\n"
     ]
    },
    {
     "name": "stdout",
     "output_type": "stream",
     "text": [
      "4021e963-9919-468c-a5ff-e3ac4004d326\n",
      "sim calculated successfully\n",
      "\n",
      "2287.500 0.007614 2493.771\n",
      "0 existing calculation records provided\n"
     ]
    },
    {
     "name": "stderr",
     "output_type": "stream",
     "text": [
      "100%|█████████████████████████████████████████████████████████████████████████████████████| 1/1 [00:00<00:00,  3.43it/s]"
     ]
    },
    {
     "name": "stdout",
     "output_type": "stream",
     "text": [
      "1 calculation combinations to check\n",
      "1 new records to prepare\n"
     ]
    },
    {
     "name": "stderr",
     "output_type": "stream",
     "text": [
      "\n",
      "preparing: 100%|##########################################################################| 1/1 [00:00<00:00, 39.32it/s]\n"
     ]
    },
    {
     "name": "stdout",
     "output_type": "stream",
     "text": [
      "4c96ee88-2262-4561-a1b0-13204fddc979\n",
      "sim calculated successfully\n",
      "\n",
      "1168.750 4.138e-05 1319.223\n",
      "0 existing calculation records provided\n"
     ]
    },
    {
     "name": "stderr",
     "output_type": "stream",
     "text": [
      "100%|█████████████████████████████████████████████████████████████████████████████████████| 1/1 [00:00<00:00,  3.43it/s]"
     ]
    },
    {
     "name": "stdout",
     "output_type": "stream",
     "text": [
      "1 calculation combinations to check\n",
      "1 new records to prepare\n"
     ]
    },
    {
     "name": "stderr",
     "output_type": "stream",
     "text": [
      "\n",
      "preparing: 100%|##########################################################################| 1/1 [00:00<00:00, 47.24it/s]\n"
     ]
    },
    {
     "name": "stdout",
     "output_type": "stream",
     "text": [
      "0efab72d-0cea-47d6-b8fc-3eb671cc2684\n",
      "sim calculated successfully\n",
      "\n",
      "609.375 2.069e-05 748.442\n",
      "0 existing calculation records provided\n"
     ]
    },
    {
     "name": "stderr",
     "output_type": "stream",
     "text": [
      "100%|█████████████████████████████████████████████████████████████████████████████████████| 1/1 [00:00<00:00,  3.29it/s]"
     ]
    },
    {
     "name": "stdout",
     "output_type": "stream",
     "text": [
      "1 calculation combinations to check\n",
      "1 new records to prepare\n"
     ]
    },
    {
     "name": "stderr",
     "output_type": "stream",
     "text": [
      "\n",
      "preparing: 100%|##########################################################################| 1/1 [00:00<00:00, 43.33it/s]\n"
     ]
    },
    {
     "name": "stdout",
     "output_type": "stream",
     "text": [
      "df55a9ed-4c13-4203-bb87-0875c405c30b\n",
      "sim calculated successfully\n",
      "\n",
      "329.688 0.0 424.876\n",
      "0 existing calculation records provided\n"
     ]
    },
    {
     "name": "stderr",
     "output_type": "stream",
     "text": [
      "100%|█████████████████████████████████████████████████████████████████████████████████████| 1/1 [00:00<00:00,  3.43it/s]"
     ]
    },
    {
     "name": "stdout",
     "output_type": "stream",
     "text": [
      "1 calculation combinations to check\n",
      "1 new records to prepare\n"
     ]
    },
    {
     "name": "stderr",
     "output_type": "stream",
     "text": [
      "\n",
      "preparing: 100%|##########################################################################| 1/1 [00:00<00:00, 46.98it/s]\n"
     ]
    },
    {
     "name": "stdout",
     "output_type": "stream",
     "text": [
      "4444b154-e3f0-47ec-a13a-f13207453931\n",
      "sim calculated successfully\n",
      "\n",
      "189.844 3.103e-05 436.859\n",
      "0 existing calculation records provided\n"
     ]
    },
    {
     "name": "stderr",
     "output_type": "stream",
     "text": [
      "100%|█████████████████████████████████████████████████████████████████████████████████████| 1/1 [00:00<00:00,  3.27it/s]"
     ]
    },
    {
     "name": "stdout",
     "output_type": "stream",
     "text": [
      "1 calculation combinations to check\n",
      "1 new records to prepare\n"
     ]
    },
    {
     "name": "stderr",
     "output_type": "stream",
     "text": [
      "\n",
      "preparing: 100%|##########################################################################| 1/1 [00:00<00:00, 46.65it/s]\n"
     ]
    },
    {
     "name": "stdout",
     "output_type": "stream",
     "text": [
      "1ba899c8-eec7-4ed5-8558-1fb8c38ace0d\n",
      "sim calculated successfully\n",
      "\n",
      "119.922 3.103e-05 805.313\n",
      "0 existing calculation records provided\n"
     ]
    },
    {
     "name": "stderr",
     "output_type": "stream",
     "text": [
      "100%|█████████████████████████████████████████████████████████████████████████████████████| 1/1 [00:00<00:00,  3.32it/s]"
     ]
    },
    {
     "name": "stdout",
     "output_type": "stream",
     "text": [
      "1 calculation combinations to check\n",
      "1 new records to prepare\n"
     ]
    },
    {
     "name": "stderr",
     "output_type": "stream",
     "text": [
      "\n",
      "preparing: 100%|##########################################################################| 1/1 [00:00<00:00, 45.89it/s]\n"
     ]
    },
    {
     "name": "stdout",
     "output_type": "stream",
     "text": [
      "2f60a972-d3ee-4dc1-bf9e-e5d53aaab82d\n",
      "sim calculated successfully\n",
      "\n",
      "84.961 0.0003207 1084.118\n",
      "0 existing calculation records provided\n"
     ]
    },
    {
     "name": "stderr",
     "output_type": "stream",
     "text": [
      "100%|█████████████████████████████████████████████████████████████████████████████████████| 1/1 [00:00<00:00,  3.63it/s]"
     ]
    },
    {
     "name": "stdout",
     "output_type": "stream",
     "text": [
      "1 calculation combinations to check\n",
      "1 new records to prepare\n"
     ]
    },
    {
     "name": "stderr",
     "output_type": "stream",
     "text": [
      "\n",
      "preparing: 100%|##########################################################################| 1/1 [00:00<00:00, 64.11it/s]\n"
     ]
    },
    {
     "name": "stdout",
     "output_type": "stream",
     "text": [
      "097f0474-8295-4163-aa08-382e8bf31e3b\n",
      "sim calculated successfully\n",
      "\n",
      "67.480 0.0003414 354.850\n",
      "0 existing calculation records provided\n"
     ]
    },
    {
     "name": "stderr",
     "output_type": "stream",
     "text": [
      "100%|█████████████████████████████████████████████████████████████████████████████████████| 1/1 [00:00<00:00,  3.47it/s]"
     ]
    },
    {
     "name": "stdout",
     "output_type": "stream",
     "text": [
      "1 calculation combinations to check\n",
      "1 new records to prepare\n"
     ]
    },
    {
     "name": "stderr",
     "output_type": "stream",
     "text": [
      "\n",
      "preparing: 100%|##########################################################################| 1/1 [00:00<00:00, 45.98it/s]\n"
     ]
    },
    {
     "name": "stdout",
     "output_type": "stream",
     "text": [
      "8718d06b-83a8-43c3-98aa-0fb0b07c15b0\n",
      "sim calculated successfully\n",
      "\n",
      "58.740 0.0002379 224.724\n",
      "0 existing calculation records provided\n"
     ]
    },
    {
     "name": "stderr",
     "output_type": "stream",
     "text": [
      "100%|█████████████████████████████████████████████████████████████████████████████████████| 1/1 [00:00<00:00,  3.38it/s]"
     ]
    },
    {
     "name": "stdout",
     "output_type": "stream",
     "text": [
      "1 calculation combinations to check\n",
      "1 new records to prepare\n"
     ]
    },
    {
     "name": "stderr",
     "output_type": "stream",
     "text": [
      "\n",
      "preparing: 100%|##########################################################################| 1/1 [00:00<00:00, 47.94it/s]\n"
     ]
    },
    {
     "name": "stdout",
     "output_type": "stream",
     "text": [
      "d4cf55c6-32de-482b-aba6-bb57624ceeb3\n",
      "sim calculated successfully\n",
      "\n",
      "54.370 0.000331 173.054\n",
      "0 existing calculation records provided\n"
     ]
    },
    {
     "name": "stderr",
     "output_type": "stream",
     "text": [
      "100%|█████████████████████████████████████████████████████████████████████████████████████| 1/1 [00:00<00:00,  3.58it/s]"
     ]
    },
    {
     "name": "stdout",
     "output_type": "stream",
     "text": [
      "1 calculation combinations to check\n",
      "1 new records to prepare\n"
     ]
    },
    {
     "name": "stderr",
     "output_type": "stream",
     "text": [
      "\n",
      "preparing: 100%|##########################################################################| 1/1 [00:00<00:00, 47.91it/s]\n"
     ]
    },
    {
     "name": "stdout",
     "output_type": "stream",
     "text": [
      "3d00a297-f2b7-4a0f-82d8-ebfdfba66afa\n",
      "sim calculated successfully\n",
      "\n",
      "52.185 0.0005069 143.614\n",
      "0 existing calculation records provided\n"
     ]
    },
    {
     "name": "stderr",
     "output_type": "stream",
     "text": [
      "100%|█████████████████████████████████████████████████████████████████████████████████████| 1/1 [00:00<00:00,  3.30it/s]"
     ]
    },
    {
     "name": "stdout",
     "output_type": "stream",
     "text": [
      "1 calculation combinations to check\n",
      "1 new records to prepare\n"
     ]
    },
    {
     "name": "stderr",
     "output_type": "stream",
     "text": [
      "\n",
      "preparing: 100%|##########################################################################| 1/1 [00:00<00:00, 46.66it/s]\n"
     ]
    },
    {
     "name": "stdout",
     "output_type": "stream",
     "text": [
      "86e7384c-9d2c-4c3d-9cf7-d94fc7506b5a\n",
      "sim calculated successfully\n",
      "\n",
      "51.093 0.0005276 116.868\n",
      "0 existing calculation records provided\n"
     ]
    },
    {
     "name": "stderr",
     "output_type": "stream",
     "text": [
      "100%|█████████████████████████████████████████████████████████████████████████████████████| 1/1 [00:00<00:00,  3.50it/s]"
     ]
    },
    {
     "name": "stdout",
     "output_type": "stream",
     "text": [
      "1 calculation combinations to check\n",
      "1 new records to prepare\n"
     ]
    },
    {
     "name": "stderr",
     "output_type": "stream",
     "text": [
      "\n",
      "preparing: 100%|##########################################################################| 1/1 [00:00<00:00, 48.86it/s]\n"
     ]
    },
    {
     "name": "stdout",
     "output_type": "stream",
     "text": [
      "7b029dc5-a136-4455-94b3-641da6b1b436\n",
      "sim calculated successfully\n",
      "\n",
      "50.546 0.0001552 189.818\n",
      "0 existing calculation records provided\n"
     ]
    },
    {
     "name": "stderr",
     "output_type": "stream",
     "text": [
      "100%|█████████████████████████████████████████████████████████████████████████████████████| 1/1 [00:00<00:00,  3.78it/s]"
     ]
    },
    {
     "name": "stdout",
     "output_type": "stream",
     "text": [
      "1 calculation combinations to check\n",
      "1 new records to prepare\n"
     ]
    },
    {
     "name": "stderr",
     "output_type": "stream",
     "text": [
      "\n",
      "preparing: 100%|##########################################################################| 1/1 [00:00<00:00, 46.45it/s]\n"
     ]
    },
    {
     "name": "stdout",
     "output_type": "stream",
     "text": [
      "4d74b1fa-9f61-41d7-b89c-6a6d36f2dc31\n",
      "sim calculated successfully\n",
      "\n",
      "50.273 0.0005069 132.343\n",
      "0 existing calculation records provided\n"
     ]
    },
    {
     "name": "stderr",
     "output_type": "stream",
     "text": [
      "100%|█████████████████████████████████████████████████████████████████████████████████████| 1/1 [00:00<00:00,  3.54it/s]"
     ]
    },
    {
     "name": "stdout",
     "output_type": "stream",
     "text": [
      "1 calculation combinations to check\n",
      "1 new records to prepare\n"
     ]
    },
    {
     "name": "stderr",
     "output_type": "stream",
     "text": [
      "\n",
      "preparing: 100%|##########################################################################| 1/1 [00:00<00:00, 47.76it/s]\n"
     ]
    },
    {
     "name": "stdout",
     "output_type": "stream",
     "text": [
      "755910b4-f89a-462d-968e-640281132475\n",
      "sim calculated successfully\n",
      "\n",
      "50.137 0.0003724 133.572\n",
      "0 existing calculation records provided\n"
     ]
    },
    {
     "name": "stderr",
     "output_type": "stream",
     "text": [
      "100%|█████████████████████████████████████████████████████████████████████████████████████| 1/1 [00:00<00:00,  3.57it/s]"
     ]
    },
    {
     "name": "stdout",
     "output_type": "stream",
     "text": [
      "1 calculation combinations to check\n",
      "1 new records to prepare\n"
     ]
    },
    {
     "name": "stderr",
     "output_type": "stream",
     "text": [
      "\n",
      "preparing: 100%|##########################################################################| 1/1 [00:00<00:00, 46.72it/s]\n"
     ]
    },
    {
     "name": "stdout",
     "output_type": "stream",
     "text": [
      "7ac11f70-7656-4c3d-a1a6-d37ee9ec0cb5\n",
      "sim calculated successfully\n",
      "\n",
      "50.068 0.0003931 108.024\n",
      "0 existing calculation records provided\n"
     ]
    },
    {
     "name": "stderr",
     "output_type": "stream",
     "text": [
      "100%|█████████████████████████████████████████████████████████████████████████████████████| 1/1 [00:00<00:00,  3.29it/s]"
     ]
    },
    {
     "name": "stdout",
     "output_type": "stream",
     "text": [
      "1 calculation combinations to check\n",
      "1 new records to prepare\n"
     ]
    },
    {
     "name": "stderr",
     "output_type": "stream",
     "text": [
      "\n",
      "preparing: 100%|##########################################################################| 1/1 [00:00<00:00, 43.53it/s]\n"
     ]
    },
    {
     "name": "stdout",
     "output_type": "stream",
     "text": [
      "aeea5a82-68a9-418f-9e95-38bcbc22702f\n",
      "sim calculated successfully\n",
      "\n",
      "50.034 0.000631 157.708\n",
      "0 existing calculation records provided\n"
     ]
    },
    {
     "name": "stderr",
     "output_type": "stream",
     "text": [
      "100%|█████████████████████████████████████████████████████████████████████████████████████| 1/1 [00:00<00:00,  3.47it/s]"
     ]
    },
    {
     "name": "stdout",
     "output_type": "stream",
     "text": [
      "1 calculation combinations to check\n",
      "1 new records to prepare\n"
     ]
    },
    {
     "name": "stderr",
     "output_type": "stream",
     "text": [
      "\n",
      "preparing: 100%|##########################################################################| 1/1 [00:00<00:00, 46.84it/s]\n"
     ]
    },
    {
     "name": "stdout",
     "output_type": "stream",
     "text": [
      "ddca1693-02e3-4eea-bd1f-8a32727855b4\n",
      "sim calculated successfully\n",
      "\n",
      "50.017 0.0004138 112.378\n",
      "0 existing calculation records provided\n"
     ]
    },
    {
     "name": "stderr",
     "output_type": "stream",
     "text": [
      "100%|█████████████████████████████████████████████████████████████████████████████████████| 1/1 [00:00<00:00,  3.44it/s]"
     ]
    },
    {
     "name": "stdout",
     "output_type": "stream",
     "text": [
      "1 calculation combinations to check\n",
      "1 new records to prepare\n"
     ]
    },
    {
     "name": "stderr",
     "output_type": "stream",
     "text": [
      "\n",
      "preparing: 100%|##########################################################################| 1/1 [00:00<00:00, 46.30it/s]\n"
     ]
    },
    {
     "name": "stdout",
     "output_type": "stream",
     "text": [
      "d77e2a3b-6c0e-46de-bb72-7fe3b8bda2bd\n",
      "sim calculated successfully\n",
      "\n",
      "50.009 0.0007759 103.885\n",
      "0 existing calculation records provided\n"
     ]
    },
    {
     "name": "stderr",
     "output_type": "stream",
     "text": [
      "100%|█████████████████████████████████████████████████████████████████████████████████████| 1/1 [00:00<00:00,  3.41it/s]"
     ]
    },
    {
     "name": "stdout",
     "output_type": "stream",
     "text": [
      "1 calculation combinations to check\n",
      "1 new records to prepare\n"
     ]
    },
    {
     "name": "stderr",
     "output_type": "stream",
     "text": [
      "\n",
      "preparing: 100%|##########################################################################| 1/1 [00:00<00:00, 46.80it/s]\n"
     ]
    },
    {
     "name": "stdout",
     "output_type": "stream",
     "text": [
      "77966e9b-296b-4872-9c8b-283b85480455\n",
      "sim calculated successfully\n",
      "\n",
      "50.004 0.0005483 108.247\n",
      "0 existing calculation records provided\n"
     ]
    },
    {
     "name": "stderr",
     "output_type": "stream",
     "text": [
      "100%|█████████████████████████████████████████████████████████████████████████████████████| 1/1 [00:00<00:00,  3.30it/s]"
     ]
    },
    {
     "name": "stdout",
     "output_type": "stream",
     "text": [
      "1 calculation combinations to check\n",
      "1 new records to prepare\n"
     ]
    },
    {
     "name": "stderr",
     "output_type": "stream",
     "text": [
      "\n",
      "preparing: 100%|##########################################################################| 1/1 [00:00<00:00, 45.55it/s]\n"
     ]
    },
    {
     "name": "stdout",
     "output_type": "stream",
     "text": [
      "2d6ec2d6-5b29-4a68-8db6-ab7196374988\n",
      "sim calculated successfully\n",
      "\n",
      "50.002 0.0001034 157.515\n",
      "0 existing calculation records provided\n"
     ]
    },
    {
     "name": "stderr",
     "output_type": "stream",
     "text": [
      "100%|█████████████████████████████████████████████████████████████████████████████████████| 1/1 [00:00<00:00,  3.33it/s]"
     ]
    },
    {
     "name": "stdout",
     "output_type": "stream",
     "text": [
      "1 calculation combinations to check\n",
      "1 new records to prepare\n"
     ]
    },
    {
     "name": "stderr",
     "output_type": "stream",
     "text": [
      "\n",
      "preparing: 100%|##########################################################################| 1/1 [00:00<00:00, 45.26it/s]\n"
     ]
    },
    {
     "name": "stdout",
     "output_type": "stream",
     "text": [
      "b75a384f-f452-4ea2-a54f-e0d93033e4c6\n",
      "sim calculated successfully\n",
      "\n",
      "50.001 0.0004552 174.860\n",
      "0 existing calculation records provided\n"
     ]
    },
    {
     "name": "stderr",
     "output_type": "stream",
     "text": [
      "100%|█████████████████████████████████████████████████████████████████████████████████████| 1/1 [00:00<00:00,  3.80it/s]"
     ]
    },
    {
     "name": "stdout",
     "output_type": "stream",
     "text": [
      "1 calculation combinations to check\n",
      "1 new records to prepare\n"
     ]
    },
    {
     "name": "stderr",
     "output_type": "stream",
     "text": [
      "\n",
      "preparing: 100%|##########################################################################| 1/1 [00:00<00:00, 53.73it/s]\n"
     ]
    },
    {
     "name": "stdout",
     "output_type": "stream",
     "text": [
      "d73c8d00-50a3-4e1e-820d-da83350162f8\n",
      "sim calculated successfully\n",
      "\n",
      "50.001 0.0005896 156.702\n",
      "0 existing calculation records provided\n"
     ]
    },
    {
     "name": "stderr",
     "output_type": "stream",
     "text": [
      "100%|█████████████████████████████████████████████████████████████████████████████████████| 1/1 [00:00<00:00,  3.48it/s]"
     ]
    },
    {
     "name": "stdout",
     "output_type": "stream",
     "text": [
      "1 calculation combinations to check\n",
      "1 new records to prepare\n"
     ]
    },
    {
     "name": "stderr",
     "output_type": "stream",
     "text": [
      "\n",
      "preparing: 100%|##########################################################################| 1/1 [00:00<00:00, 44.63it/s]\n"
     ]
    },
    {
     "name": "stdout",
     "output_type": "stream",
     "text": [
      "a3251f38-3631-46b0-8c09-6feebcf8156c\n",
      "sim calculated successfully\n",
      "\n",
      "50.000 0.0002586 179.849\n",
      "0 existing calculation records provided\n"
     ]
    },
    {
     "name": "stderr",
     "output_type": "stream",
     "text": [
      "100%|█████████████████████████████████████████████████████████████████████████████████████| 1/1 [00:00<00:00,  3.33it/s]"
     ]
    },
    {
     "name": "stdout",
     "output_type": "stream",
     "text": [
      "1 calculation combinations to check\n",
      "1 new records to prepare\n"
     ]
    },
    {
     "name": "stderr",
     "output_type": "stream",
     "text": [
      "\n",
      "preparing: 100%|##########################################################################| 1/1 [00:00<00:00, 46.97it/s]\n"
     ]
    },
    {
     "name": "stdout",
     "output_type": "stream",
     "text": [
      "f3df07f8-1b62-42b7-992d-e6b049b8f539\n",
      "sim calculated successfully\n",
      "\n",
      "50.000 0.0002069 177.756\n",
      "0 existing calculation records provided\n"
     ]
    },
    {
     "name": "stderr",
     "output_type": "stream",
     "text": [
      "100%|█████████████████████████████████████████████████████████████████████████████████████| 1/1 [00:00<00:00,  3.18it/s]"
     ]
    },
    {
     "name": "stdout",
     "output_type": "stream",
     "text": [
      "1 calculation combinations to check\n",
      "1 new records to prepare\n"
     ]
    },
    {
     "name": "stderr",
     "output_type": "stream",
     "text": [
      "\n",
      "preparing: 100%|##########################################################################| 1/1 [00:00<00:00, 45.68it/s]\n"
     ]
    },
    {
     "name": "stdout",
     "output_type": "stream",
     "text": [
      "3cc69a67-d11b-4070-b59a-4e6f70c6167d\n",
      "sim calculated successfully\n",
      "\n",
      "50.000 0.0004448 95.999\n",
      "0 existing calculation records provided\n"
     ]
    },
    {
     "name": "stderr",
     "output_type": "stream",
     "text": [
      "100%|█████████████████████████████████████████████████████████████████████████████████████| 1/1 [00:00<00:00,  3.43it/s]"
     ]
    },
    {
     "name": "stdout",
     "output_type": "stream",
     "text": [
      "1 calculation combinations to check\n",
      "1 new records to prepare\n"
     ]
    },
    {
     "name": "stderr",
     "output_type": "stream",
     "text": [
      "\n",
      "preparing: 100%|##########################################################################| 1/1 [00:00<00:00, 44.47it/s]\n"
     ]
    },
    {
     "name": "stdout",
     "output_type": "stream",
     "text": [
      "6a6c749a-f26f-4563-980b-b43fc8a3c346\n",
      "sim calculated successfully\n",
      "\n",
      "50.000 0.0005276 153.441\n",
      "0 existing calculation records provided\n"
     ]
    },
    {
     "name": "stderr",
     "output_type": "stream",
     "text": [
      "100%|█████████████████████████████████████████████████████████████████████████████████████| 1/1 [00:00<00:00,  3.32it/s]"
     ]
    },
    {
     "name": "stdout",
     "output_type": "stream",
     "text": [
      "1 calculation combinations to check\n",
      "1 new records to prepare\n"
     ]
    },
    {
     "name": "stderr",
     "output_type": "stream",
     "text": [
      "\n",
      "preparing: 100%|##########################################################################| 1/1 [00:00<00:00, 45.65it/s]\n"
     ]
    },
    {
     "name": "stdout",
     "output_type": "stream",
     "text": [
      "a262ca04-cab4-47bd-bff2-9bab70a7ae27\n",
      "sim calculated successfully\n",
      "\n",
      "50.000 0.0003724 99.100\n",
      "0 existing calculation records provided\n"
     ]
    },
    {
     "name": "stderr",
     "output_type": "stream",
     "text": [
      "100%|█████████████████████████████████████████████████████████████████████████████████████| 1/1 [00:00<00:00,  3.40it/s]"
     ]
    },
    {
     "name": "stdout",
     "output_type": "stream",
     "text": [
      "1 calculation combinations to check\n",
      "1 new records to prepare\n"
     ]
    },
    {
     "name": "stderr",
     "output_type": "stream",
     "text": [
      "\n",
      "preparing: 100%|##########################################################################| 1/1 [00:00<00:00, 46.21it/s]\n"
     ]
    },
    {
     "name": "stdout",
     "output_type": "stream",
     "text": [
      "4cc8e6c8-e6cc-4e63-a024-53fced28fb86\n",
      "sim calculated successfully\n",
      "\n",
      "50.000 0.0003207 147.817\n",
      "0 existing calculation records provided\n"
     ]
    },
    {
     "name": "stderr",
     "output_type": "stream",
     "text": [
      "100%|█████████████████████████████████████████████████████████████████████████████████████| 1/1 [00:00<00:00,  3.59it/s]"
     ]
    },
    {
     "name": "stdout",
     "output_type": "stream",
     "text": [
      "1 calculation combinations to check\n",
      "1 new records to prepare\n"
     ]
    },
    {
     "name": "stderr",
     "output_type": "stream",
     "text": [
      "\n",
      "preparing: 100%|##########################################################################| 1/1 [00:00<00:00, 51.00it/s]\n"
     ]
    },
    {
     "name": "stdout",
     "output_type": "stream",
     "text": [
      "6fd033cc-fecb-4cc5-ab2f-45da3c9f7eda\n",
      "sim calculated successfully\n",
      "\n",
      "50.000 0.0004965 202.336\n",
      "0 existing calculation records provided\n"
     ]
    },
    {
     "name": "stderr",
     "output_type": "stream",
     "text": [
      "100%|█████████████████████████████████████████████████████████████████████████████████████| 1/1 [00:00<00:00,  3.22it/s]"
     ]
    },
    {
     "name": "stdout",
     "output_type": "stream",
     "text": [
      "1 calculation combinations to check\n",
      "1 new records to prepare\n"
     ]
    },
    {
     "name": "stderr",
     "output_type": "stream",
     "text": [
      "\n",
      "preparing: 100%|##########################################################################| 1/1 [00:00<00:00, 47.03it/s]\n"
     ]
    },
    {
     "name": "stdout",
     "output_type": "stream",
     "text": [
      "d5f7e231-f66c-4498-bc80-928c82ef9a99\n",
      "sim calculated successfully\n",
      "\n",
      "50.000 0.0003828 144.486\n",
      "0 existing calculation records provided\n"
     ]
    },
    {
     "name": "stderr",
     "output_type": "stream",
     "text": [
      "100%|█████████████████████████████████████████████████████████████████████████████████████| 1/1 [00:00<00:00,  3.24it/s]"
     ]
    },
    {
     "name": "stdout",
     "output_type": "stream",
     "text": [
      "1 calculation combinations to check\n",
      "1 new records to prepare\n"
     ]
    },
    {
     "name": "stderr",
     "output_type": "stream",
     "text": [
      "\n",
      "preparing: 100%|##########################################################################| 1/1 [00:00<00:00, 28.07it/s]\n"
     ]
    },
    {
     "name": "stdout",
     "output_type": "stream",
     "text": [
      "4c90b0d0-acff-451e-9cb0-20f7f5301b78\n",
      "sim calculated successfully\n",
      "\n",
      "50.000 0.0001448 131.496\n",
      "0 existing calculation records provided\n"
     ]
    },
    {
     "name": "stderr",
     "output_type": "stream",
     "text": [
      "100%|█████████████████████████████████████████████████████████████████████████████████████| 1/1 [00:00<00:00,  3.38it/s]"
     ]
    },
    {
     "name": "stdout",
     "output_type": "stream",
     "text": [
      "1 calculation combinations to check\n",
      "1 new records to prepare\n"
     ]
    },
    {
     "name": "stderr",
     "output_type": "stream",
     "text": [
      "\n",
      "preparing: 100%|##########################################################################| 1/1 [00:00<00:00, 45.33it/s]\n"
     ]
    },
    {
     "name": "stdout",
     "output_type": "stream",
     "text": [
      "d0c9cfdf-ecf2-475b-bb2c-bcf39f016154\n",
      "sim calculated successfully\n",
      "\n",
      "50.000 0.0006517 135.940\n",
      "0 existing calculation records provided\n"
     ]
    },
    {
     "name": "stderr",
     "output_type": "stream",
     "text": [
      "100%|█████████████████████████████████████████████████████████████████████████████████████| 1/1 [00:00<00:00,  3.41it/s]"
     ]
    },
    {
     "name": "stdout",
     "output_type": "stream",
     "text": [
      "1 calculation combinations to check\n",
      "1 new records to prepare\n"
     ]
    },
    {
     "name": "stderr",
     "output_type": "stream",
     "text": [
      "\n",
      "preparing: 100%|##########################################################################| 1/1 [00:00<00:00, 46.22it/s]\n"
     ]
    },
    {
     "name": "stdout",
     "output_type": "stream",
     "text": [
      "ea409435-9c8d-4afe-a8f8-b6fc8a2a7969\n",
      "sim calculated successfully\n",
      "\n",
      "50.000 7.241e-05 160.184\n",
      "Max number of runs reached!\n",
      "\n",
      "203 2022--Allera-A--Fe-C--LAMMPS--ipr1\n",
      "0 existing calculation records provided\n"
     ]
    },
    {
     "name": "stderr",
     "output_type": "stream",
     "text": [
      "100%|█████████████████████████████████████████████████████████████████████████████████████| 1/1 [00:00<00:00,  3.40it/s]"
     ]
    },
    {
     "name": "stdout",
     "output_type": "stream",
     "text": [
      "1 calculation combinations to check\n",
      "1 new records to prepare\n"
     ]
    },
    {
     "name": "stderr",
     "output_type": "stream",
     "text": [
      "\n",
      "preparing: 100%|##########################################################################| 1/1 [00:00<00:00, 65.81it/s]\n"
     ]
    },
    {
     "name": "stdout",
     "output_type": "stream",
     "text": [
      "a742ec10-e588-4683-bfc3-f1b8aa334e77\n",
      "sim calculated successfully\n",
      "\n",
      "4525.000 0.007883 4370.661\n",
      "0 existing calculation records provided\n"
     ]
    },
    {
     "name": "stderr",
     "output_type": "stream",
     "text": [
      "100%|█████████████████████████████████████████████████████████████████████████████████████| 1/1 [00:00<00:00,  3.43it/s]"
     ]
    },
    {
     "name": "stdout",
     "output_type": "stream",
     "text": [
      "1 calculation combinations to check\n",
      "1 new records to prepare\n"
     ]
    },
    {
     "name": "stderr",
     "output_type": "stream",
     "text": [
      "\n",
      "preparing: 100%|##########################################################################| 1/1 [00:00<00:00, 75.51it/s]\n"
     ]
    },
    {
     "name": "stdout",
     "output_type": "stream",
     "text": [
      "7b1042f0-aee3-48d1-b7d0-2ae0ad2012b4\n",
      "sim calculated successfully\n",
      "\n",
      "2287.500 0.3449 2254.389\n",
      "0 existing calculation records provided\n"
     ]
    },
    {
     "name": "stderr",
     "output_type": "stream",
     "text": [
      "100%|█████████████████████████████████████████████████████████████████████████████████████| 1/1 [00:00<00:00,  3.55it/s]"
     ]
    },
    {
     "name": "stdout",
     "output_type": "stream",
     "text": [
      "1 calculation combinations to check\n",
      "1 new records to prepare\n"
     ]
    },
    {
     "name": "stderr",
     "output_type": "stream",
     "text": [
      "\n",
      "preparing: 100%|##########################################################################| 1/1 [00:00<00:00, 73.60it/s]\n"
     ]
    },
    {
     "name": "stdout",
     "output_type": "stream",
     "text": [
      "4275b87d-b440-496b-8265-6ed891515fb3\n",
      "sim calculated successfully\n",
      "\n",
      "1168.750 0.9989 1165.401\n",
      "0 existing calculation records provided\n"
     ]
    },
    {
     "name": "stderr",
     "output_type": "stream",
     "text": [
      "100%|█████████████████████████████████████████████████████████████████████████████████████| 1/1 [00:00<00:00,  3.37it/s]"
     ]
    },
    {
     "name": "stdout",
     "output_type": "stream",
     "text": [
      "1 calculation combinations to check\n",
      "1 new records to prepare\n"
     ]
    },
    {
     "name": "stderr",
     "output_type": "stream",
     "text": [
      "\n",
      "preparing: 100%|##########################################################################| 1/1 [00:00<00:00, 75.97it/s]\n"
     ]
    },
    {
     "name": "stdout",
     "output_type": "stream",
     "text": [
      "10383295-09a8-4efb-8555-8839dd14b8f2\n",
      "sim calculated successfully\n",
      "\n",
      "2846.875 9.31e-05 2808.846\n",
      "0 existing calculation records provided\n"
     ]
    },
    {
     "name": "stderr",
     "output_type": "stream",
     "text": [
      "100%|█████████████████████████████████████████████████████████████████████████████████████| 1/1 [00:00<00:00,  3.41it/s]"
     ]
    },
    {
     "name": "stdout",
     "output_type": "stream",
     "text": [
      "1 calculation combinations to check\n",
      "1 new records to prepare\n"
     ]
    },
    {
     "name": "stderr",
     "output_type": "stream",
     "text": [
      "\n",
      "preparing: 100%|##########################################################################| 1/1 [00:00<00:00, 36.58it/s]\n"
     ]
    },
    {
     "name": "stdout",
     "output_type": "stream",
     "text": [
      "9fb7a466-4597-48de-ab1b-18cb3fb5596c\n",
      "sim calculated successfully\n",
      "\n",
      "2007.812 0.8382 2124.697\n",
      "0 existing calculation records provided\n"
     ]
    },
    {
     "name": "stderr",
     "output_type": "stream",
     "text": [
      "100%|█████████████████████████████████████████████████████████████████████████████████████| 1/1 [00:00<00:00,  3.44it/s]"
     ]
    },
    {
     "name": "stdout",
     "output_type": "stream",
     "text": [
      "1 calculation combinations to check\n",
      "1 new records to prepare\n"
     ]
    },
    {
     "name": "stderr",
     "output_type": "stream",
     "text": [
      "\n",
      "preparing: 100%|##########################################################################| 1/1 [00:00<00:00, 77.08it/s]\n"
     ]
    },
    {
     "name": "stdout",
     "output_type": "stream",
     "text": [
      "4ea360a7-c9bc-45cf-98a4-66f564829cb4\n",
      "sim calculated successfully\n",
      "\n",
      "2427.344 0.0004965 2187.883\n",
      "0 existing calculation records provided\n"
     ]
    },
    {
     "name": "stderr",
     "output_type": "stream",
     "text": [
      "100%|█████████████████████████████████████████████████████████████████████████████████████| 1/1 [00:00<00:00,  3.37it/s]"
     ]
    },
    {
     "name": "stdout",
     "output_type": "stream",
     "text": [
      "1 calculation combinations to check\n",
      "1 new records to prepare\n"
     ]
    },
    {
     "name": "stderr",
     "output_type": "stream",
     "text": [
      "\n",
      "preparing: 100%|##########################################################################| 1/1 [00:00<00:00, 64.76it/s]\n"
     ]
    },
    {
     "name": "stdout",
     "output_type": "stream",
     "text": [
      "34101f46-76a3-4f52-af61-fa66b7d38559\n",
      "sim calculated successfully\n",
      "\n",
      "2217.578 0.6221 2408.525\n",
      "0 existing calculation records provided\n"
     ]
    },
    {
     "name": "stderr",
     "output_type": "stream",
     "text": [
      "100%|█████████████████████████████████████████████████████████████████████████████████████| 1/1 [00:00<00:00,  3.71it/s]"
     ]
    },
    {
     "name": "stdout",
     "output_type": "stream",
     "text": [
      "1 calculation combinations to check\n",
      "1 new records to prepare\n"
     ]
    },
    {
     "name": "stderr",
     "output_type": "stream",
     "text": [
      "\n",
      "preparing: 100%|##########################################################################| 1/1 [00:00<00:00, 67.99it/s]\n"
     ]
    },
    {
     "name": "stdout",
     "output_type": "stream",
     "text": [
      "f15b3e2d-adb4-4544-b33e-f6d0495ec9b6\n",
      "sim calculated successfully\n",
      "\n",
      "2322.461 0.2745 2247.763\n",
      "0 existing calculation records provided\n"
     ]
    },
    {
     "name": "stderr",
     "output_type": "stream",
     "text": [
      "100%|█████████████████████████████████████████████████████████████████████████████████████| 1/1 [00:00<00:00,  3.48it/s]"
     ]
    },
    {
     "name": "stdout",
     "output_type": "stream",
     "text": [
      "1 calculation combinations to check\n",
      "1 new records to prepare\n"
     ]
    },
    {
     "name": "stderr",
     "output_type": "stream",
     "text": [
      "\n",
      "preparing: 100%|##########################################################################| 1/1 [00:00<00:00, 80.06it/s]\n"
     ]
    },
    {
     "name": "stdout",
     "output_type": "stream",
     "text": [
      "5f7cffff-ef0f-4ec5-8e7b-496bc10324b0\n",
      "sim calculated successfully\n",
      "\n",
      "2165.137 0.691 2346.231\n",
      "0 existing calculation records provided\n"
     ]
    },
    {
     "name": "stderr",
     "output_type": "stream",
     "text": [
      "100%|█████████████████████████████████████████████████████████████████████████████████████| 1/1 [00:00<00:00,  3.30it/s]"
     ]
    },
    {
     "name": "stdout",
     "output_type": "stream",
     "text": [
      "1 calculation combinations to check\n",
      "1 new records to prepare\n"
     ]
    },
    {
     "name": "stderr",
     "output_type": "stream",
     "text": [
      "\n",
      "preparing: 100%|##########################################################################| 1/1 [00:00<00:00, 75.60it/s]\n"
     ]
    },
    {
     "name": "stdout",
     "output_type": "stream",
     "text": [
      "cd60b60d-272d-46e1-87ff-57d035b70ddf\n",
      "sim calculated successfully\n",
      "\n",
      "2296.240 0.3077 2255.442\n",
      "0 existing calculation records provided\n"
     ]
    },
    {
     "name": "stderr",
     "output_type": "stream",
     "text": [
      "100%|█████████████████████████████████████████████████████████████████████████████████████| 1/1 [00:00<00:00,  3.29it/s]"
     ]
    },
    {
     "name": "stdout",
     "output_type": "stream",
     "text": [
      "1 calculation combinations to check\n",
      "1 new records to prepare\n"
     ]
    },
    {
     "name": "stderr",
     "output_type": "stream",
     "text": [
      "\n",
      "preparing: 100%|##########################################################################| 1/1 [00:00<00:00, 74.75it/s]\n"
     ]
    },
    {
     "name": "stdout",
     "output_type": "stream",
     "text": [
      "76990281-e595-48f5-bd11-06bec54a629d\n",
      "sim calculated successfully\n",
      "\n",
      "2152.026 0.7027 2333.132\n",
      "0 existing calculation records provided\n"
     ]
    },
    {
     "name": "stderr",
     "output_type": "stream",
     "text": [
      "100%|█████████████████████████████████████████████████████████████████████████████████████| 1/1 [00:00<00:00,  3.41it/s]"
     ]
    },
    {
     "name": "stdout",
     "output_type": "stream",
     "text": [
      "1 calculation combinations to check\n",
      "1 new records to prepare\n"
     ]
    },
    {
     "name": "stderr",
     "output_type": "stream",
     "text": [
      "\n",
      "preparing: 100%|##########################################################################| 1/1 [00:00<00:00, 65.94it/s]\n"
     ]
    },
    {
     "name": "stdout",
     "output_type": "stream",
     "text": [
      "c9e6ac8f-ec36-4c19-bd3a-6f38ca3db512\n",
      "sim calculated successfully\n",
      "\n",
      "2289.685 0.32 2246.584\n",
      "0 existing calculation records provided\n"
     ]
    },
    {
     "name": "stderr",
     "output_type": "stream",
     "text": [
      "100%|█████████████████████████████████████████████████████████████████████████████████████| 1/1 [00:00<00:00,  3.46it/s]"
     ]
    },
    {
     "name": "stdout",
     "output_type": "stream",
     "text": [
      "1 calculation combinations to check\n",
      "1 new records to prepare\n"
     ]
    },
    {
     "name": "stderr",
     "output_type": "stream",
     "text": [
      "\n",
      "preparing: 100%|##########################################################################| 1/1 [00:00<00:00, 77.79it/s]\n"
     ]
    },
    {
     "name": "stdout",
     "output_type": "stream",
     "text": [
      "97a5dbd4-c477-4c6b-8651-11ddc64a071e\n",
      "sim calculated successfully\n",
      "\n",
      "2148.749 0.7036 2325.232\n",
      "0 existing calculation records provided\n"
     ]
    },
    {
     "name": "stderr",
     "output_type": "stream",
     "text": [
      "100%|█████████████████████████████████████████████████████████████████████████████████████| 1/1 [00:00<00:00,  3.33it/s]"
     ]
    },
    {
     "name": "stdout",
     "output_type": "stream",
     "text": [
      "1 calculation combinations to check\n",
      "1 new records to prepare\n"
     ]
    },
    {
     "name": "stderr",
     "output_type": "stream",
     "text": [
      "\n",
      "preparing: 100%|##########################################################################| 1/1 [00:00<00:00, 73.59it/s]\n"
     ]
    },
    {
     "name": "stdout",
     "output_type": "stream",
     "text": [
      "f8a6ac8b-2728-43cb-8406-0c17ac538cae\n",
      "sim calculated successfully\n",
      "\n",
      "2288.046 0.3225 2260.631\n",
      "0 existing calculation records provided\n"
     ]
    },
    {
     "name": "stderr",
     "output_type": "stream",
     "text": [
      "100%|█████████████████████████████████████████████████████████████████████████████████████| 1/1 [00:00<00:00,  3.50it/s]"
     ]
    },
    {
     "name": "stdout",
     "output_type": "stream",
     "text": [
      "1 calculation combinations to check\n",
      "1 new records to prepare\n"
     ]
    },
    {
     "name": "stderr",
     "output_type": "stream",
     "text": [
      "\n",
      "preparing: 100%|##########################################################################| 1/1 [00:00<00:00, 78.96it/s]\n"
     ]
    },
    {
     "name": "stdout",
     "output_type": "stream",
     "text": [
      "9e9094e6-164e-47ee-870f-d1aef948b39d\n",
      "sim calculated successfully\n",
      "\n",
      "2147.929 0.724 2309.352\n",
      "\n",
      "202 2021--Wen-M--Fe-H--LAMMPS--ipr1\n",
      "0 existing calculation records provided\n"
     ]
    },
    {
     "name": "stderr",
     "output_type": "stream",
     "text": [
      "100%|█████████████████████████████████████████████████████████████████████████████████████| 1/1 [00:00<00:00,  3.21it/s]"
     ]
    },
    {
     "name": "stdout",
     "output_type": "stream",
     "text": [
      "1 calculation combinations to check\n",
      "1 new records to prepare\n"
     ]
    },
    {
     "name": "stderr",
     "output_type": "stream",
     "text": [
      "\n",
      "preparing: 100%|##########################################################################| 1/1 [00:00<00:00, 38.49it/s]\n"
     ]
    },
    {
     "name": "stdout",
     "output_type": "stream",
     "text": [
      "a659396e-0c07-493b-817e-acdda490b019\n",
      "error: \n",
      "0 existing calculation records provided\n"
     ]
    },
    {
     "name": "stderr",
     "output_type": "stream",
     "text": [
      "100%|█████████████████████████████████████████████████████████████████████████████████████| 1/1 [00:00<00:00,  4.13it/s]"
     ]
    },
    {
     "name": "stdout",
     "output_type": "stream",
     "text": [
      "1 calculation combinations to check\n",
      "1 new records to prepare\n"
     ]
    },
    {
     "name": "stderr",
     "output_type": "stream",
     "text": [
      "\n",
      "preparing: 100%|##########################################################################| 1/1 [00:00<00:00, 31.64it/s]\n"
     ]
    },
    {
     "name": "stdout",
     "output_type": "stream",
     "text": [
      "346f9acb-dcdb-40ca-9f5b-0d0c411587b5\n",
      "error: \n",
      "0 existing calculation records provided\n"
     ]
    },
    {
     "name": "stderr",
     "output_type": "stream",
     "text": [
      "100%|█████████████████████████████████████████████████████████████████████████████████████| 1/1 [00:00<00:00,  4.25it/s]"
     ]
    },
    {
     "name": "stdout",
     "output_type": "stream",
     "text": [
      "1 calculation combinations to check\n",
      "1 new records to prepare\n"
     ]
    },
    {
     "name": "stderr",
     "output_type": "stream",
     "text": [
      "\n",
      "preparing: 100%|##########################################################################| 1/1 [00:00<00:00, 42.01it/s]\n"
     ]
    },
    {
     "name": "stdout",
     "output_type": "stream",
     "text": [
      "8647a4cb-4d56-460f-9858-e9abec9586e2\n",
      "error: \n",
      "0 existing calculation records provided\n"
     ]
    },
    {
     "name": "stderr",
     "output_type": "stream",
     "text": [
      "100%|█████████████████████████████████████████████████████████████████████████████████████| 1/1 [00:00<00:00,  4.11it/s]"
     ]
    },
    {
     "name": "stdout",
     "output_type": "stream",
     "text": [
      "1 calculation combinations to check\n",
      "1 new records to prepare\n"
     ]
    },
    {
     "name": "stderr",
     "output_type": "stream",
     "text": [
      "\n",
      "preparing: 100%|##########################################################################| 1/1 [00:00<00:00, 39.36it/s]\n"
     ]
    },
    {
     "name": "stdout",
     "output_type": "stream",
     "text": [
      "ff61e183-f395-451c-9a02-b25e93b81cd2\n",
      "error: \n",
      "0 existing calculation records provided\n"
     ]
    },
    {
     "name": "stderr",
     "output_type": "stream",
     "text": [
      "100%|█████████████████████████████████████████████████████████████████████████████████████| 1/1 [00:00<00:00,  4.13it/s]"
     ]
    },
    {
     "name": "stdout",
     "output_type": "stream",
     "text": [
      "1 calculation combinations to check\n",
      "1 new records to prepare\n"
     ]
    },
    {
     "name": "stderr",
     "output_type": "stream",
     "text": [
      "\n",
      "preparing: 100%|##########################################################################| 1/1 [00:00<00:00, 38.26it/s]\n"
     ]
    },
    {
     "name": "stdout",
     "output_type": "stream",
     "text": [
      "ce803dc9-938c-4ddc-a9b6-372b6fc3760a\n",
      "error: \n",
      "0 existing calculation records provided\n"
     ]
    },
    {
     "name": "stderr",
     "output_type": "stream",
     "text": [
      "100%|█████████████████████████████████████████████████████████████████████████████████████| 1/1 [00:00<00:00,  4.36it/s]"
     ]
    },
    {
     "name": "stdout",
     "output_type": "stream",
     "text": [
      "1 calculation combinations to check\n",
      "1 new records to prepare\n"
     ]
    },
    {
     "name": "stderr",
     "output_type": "stream",
     "text": [
      "\n",
      "preparing: 100%|##########################################################################| 1/1 [00:00<00:00, 35.82it/s]\n"
     ]
    },
    {
     "name": "stdout",
     "output_type": "stream",
     "text": [
      "c2abca00-581f-4afc-aff8-f68091f5fae5\n",
      "error: \n",
      "0 existing calculation records provided\n"
     ]
    },
    {
     "name": "stderr",
     "output_type": "stream",
     "text": [
      "100%|█████████████████████████████████████████████████████████████████████████████████████| 1/1 [00:00<00:00,  4.63it/s]"
     ]
    },
    {
     "name": "stdout",
     "output_type": "stream",
     "text": [
      "1 calculation combinations to check\n",
      "1 new records to prepare\n"
     ]
    },
    {
     "name": "stderr",
     "output_type": "stream",
     "text": [
      "\n",
      "preparing: 100%|##########################################################################| 1/1 [00:00<00:00, 36.07it/s]\n"
     ]
    },
    {
     "name": "stdout",
     "output_type": "stream",
     "text": [
      "ca20d38d-5587-4836-9f9c-560c168f8ceb\n",
      "error: \n",
      "0 existing calculation records provided\n"
     ]
    },
    {
     "name": "stderr",
     "output_type": "stream",
     "text": [
      "100%|█████████████████████████████████████████████████████████████████████████████████████| 1/1 [00:00<00:00,  4.78it/s]"
     ]
    },
    {
     "name": "stdout",
     "output_type": "stream",
     "text": [
      "1 calculation combinations to check\n",
      "1 new records to prepare\n"
     ]
    },
    {
     "name": "stderr",
     "output_type": "stream",
     "text": [
      "\n",
      "preparing: 100%|##########################################################################| 1/1 [00:00<00:00, 40.70it/s]\n"
     ]
    },
    {
     "name": "stdout",
     "output_type": "stream",
     "text": [
      "41681e33-6e50-49b9-8ca4-0ecc4eec2a47\n",
      "error: \n",
      "0 existing calculation records provided\n"
     ]
    },
    {
     "name": "stderr",
     "output_type": "stream",
     "text": [
      "100%|█████████████████████████████████████████████████████████████████████████████████████| 1/1 [00:00<00:00,  4.06it/s]"
     ]
    },
    {
     "name": "stdout",
     "output_type": "stream",
     "text": [
      "1 calculation combinations to check\n",
      "1 new records to prepare\n"
     ]
    },
    {
     "name": "stderr",
     "output_type": "stream",
     "text": [
      "\n",
      "preparing: 100%|##########################################################################| 1/1 [00:00<00:00, 35.57it/s]\n"
     ]
    },
    {
     "name": "stdout",
     "output_type": "stream",
     "text": [
      "4e5aa755-1de3-405d-a137-e60b7f145dd3\n",
      "error: \n",
      "0 existing calculation records provided\n"
     ]
    },
    {
     "name": "stderr",
     "output_type": "stream",
     "text": [
      "100%|█████████████████████████████████████████████████████████████████████████████████████| 1/1 [00:00<00:00,  4.06it/s]"
     ]
    },
    {
     "name": "stdout",
     "output_type": "stream",
     "text": [
      "1 calculation combinations to check\n",
      "1 new records to prepare\n"
     ]
    },
    {
     "name": "stderr",
     "output_type": "stream",
     "text": [
      "\n",
      "preparing: 100%|##########################################################################| 1/1 [00:00<00:00, 33.86it/s]\n"
     ]
    },
    {
     "name": "stdout",
     "output_type": "stream",
     "text": [
      "ab124ed4-8232-4cdf-8a44-b70b4fe62686\n",
      "error: \n",
      "0 existing calculation records provided\n"
     ]
    },
    {
     "name": "stderr",
     "output_type": "stream",
     "text": [
      "100%|█████████████████████████████████████████████████████████████████████████████████████| 1/1 [00:00<00:00,  4.14it/s]"
     ]
    },
    {
     "name": "stdout",
     "output_type": "stream",
     "text": [
      "1 calculation combinations to check\n",
      "1 new records to prepare\n"
     ]
    },
    {
     "name": "stderr",
     "output_type": "stream",
     "text": [
      "\n",
      "preparing: 100%|##########################################################################| 1/1 [00:00<00:00, 36.68it/s]\n"
     ]
    },
    {
     "name": "stdout",
     "output_type": "stream",
     "text": [
      "8fa230a5-fa44-49a2-8ca4-ce347d684e5a\n",
      "error: \n",
      "0 existing calculation records provided\n"
     ]
    },
    {
     "name": "stderr",
     "output_type": "stream",
     "text": [
      "100%|█████████████████████████████████████████████████████████████████████████████████████| 1/1 [00:00<00:00,  4.29it/s]"
     ]
    },
    {
     "name": "stdout",
     "output_type": "stream",
     "text": [
      "1 calculation combinations to check\n",
      "1 new records to prepare\n"
     ]
    },
    {
     "name": "stderr",
     "output_type": "stream",
     "text": [
      "\n",
      "preparing: 100%|##########################################################################| 1/1 [00:00<00:00, 41.81it/s]\n"
     ]
    },
    {
     "name": "stdout",
     "output_type": "stream",
     "text": [
      "a3318fff-1208-424c-ac3f-d2da590a884f\n",
      "error: \n",
      "0 existing calculation records provided\n"
     ]
    },
    {
     "name": "stderr",
     "output_type": "stream",
     "text": [
      "100%|█████████████████████████████████████████████████████████████████████████████████████| 1/1 [00:00<00:00,  4.03it/s]"
     ]
    },
    {
     "name": "stdout",
     "output_type": "stream",
     "text": [
      "1 calculation combinations to check\n",
      "1 new records to prepare\n"
     ]
    },
    {
     "name": "stderr",
     "output_type": "stream",
     "text": [
      "\n",
      "preparing: 100%|##########################################################################| 1/1 [00:00<00:00, 39.10it/s]\n"
     ]
    },
    {
     "name": "stdout",
     "output_type": "stream",
     "text": [
      "6e195c87-fbdf-49e9-845c-51fd58dd09a1\n",
      "error: \n",
      "0 existing calculation records provided\n"
     ]
    },
    {
     "name": "stderr",
     "output_type": "stream",
     "text": [
      "100%|█████████████████████████████████████████████████████████████████████████████████████| 1/1 [00:00<00:00,  4.25it/s]"
     ]
    },
    {
     "name": "stdout",
     "output_type": "stream",
     "text": [
      "1 calculation combinations to check\n",
      "1 new records to prepare\n"
     ]
    },
    {
     "name": "stderr",
     "output_type": "stream",
     "text": [
      "\n",
      "preparing: 100%|##########################################################################| 1/1 [00:00<00:00, 40.39it/s]\n"
     ]
    },
    {
     "name": "stdout",
     "output_type": "stream",
     "text": [
      "3e9e65a2-bfca-42e1-8997-01762b906bef\n",
      "error: \n",
      "0 existing calculation records provided\n"
     ]
    },
    {
     "name": "stderr",
     "output_type": "stream",
     "text": [
      "100%|█████████████████████████████████████████████████████████████████████████████████████| 1/1 [00:00<00:00,  4.62it/s]"
     ]
    },
    {
     "name": "stdout",
     "output_type": "stream",
     "text": [
      "1 calculation combinations to check\n",
      "1 new records to prepare\n"
     ]
    },
    {
     "name": "stderr",
     "output_type": "stream",
     "text": [
      "\n",
      "preparing: 100%|##########################################################################| 1/1 [00:00<00:00, 41.71it/s]\n"
     ]
    },
    {
     "name": "stdout",
     "output_type": "stream",
     "text": [
      "b9db9bf5-de6f-4460-80d2-8fb5d1ea7c4a\n",
      "error: \n",
      "0 existing calculation records provided\n"
     ]
    },
    {
     "name": "stderr",
     "output_type": "stream",
     "text": [
      "100%|█████████████████████████████████████████████████████████████████████████████████████| 1/1 [00:00<00:00,  4.08it/s]"
     ]
    },
    {
     "name": "stdout",
     "output_type": "stream",
     "text": [
      "1 calculation combinations to check\n",
      "1 new records to prepare\n"
     ]
    },
    {
     "name": "stderr",
     "output_type": "stream",
     "text": [
      "\n",
      "preparing: 100%|##########################################################################| 1/1 [00:00<00:00, 32.26it/s]\n"
     ]
    },
    {
     "name": "stdout",
     "output_type": "stream",
     "text": [
      "1b88a564-db4d-4adc-b7a7-fcb506cef080\n",
      "error: \n",
      "0 existing calculation records provided\n"
     ]
    },
    {
     "name": "stderr",
     "output_type": "stream",
     "text": [
      "100%|█████████████████████████████████████████████████████████████████████████████████████| 1/1 [00:00<00:00,  3.97it/s]"
     ]
    },
    {
     "name": "stdout",
     "output_type": "stream",
     "text": [
      "1 calculation combinations to check\n",
      "1 new records to prepare\n"
     ]
    },
    {
     "name": "stderr",
     "output_type": "stream",
     "text": [
      "\n",
      "preparing: 100%|##########################################################################| 1/1 [00:00<00:00, 34.98it/s]\n"
     ]
    },
    {
     "name": "stdout",
     "output_type": "stream",
     "text": [
      "87390564-a52b-4dbc-bb8e-1118406b3f44\n",
      "error: \n",
      "0 existing calculation records provided\n"
     ]
    },
    {
     "name": "stderr",
     "output_type": "stream",
     "text": [
      "100%|█████████████████████████████████████████████████████████████████████████████████████| 1/1 [00:00<00:00,  4.21it/s]"
     ]
    },
    {
     "name": "stdout",
     "output_type": "stream",
     "text": [
      "1 calculation combinations to check\n",
      "1 new records to prepare\n"
     ]
    },
    {
     "name": "stderr",
     "output_type": "stream",
     "text": [
      "\n",
      "preparing: 100%|##########################################################################| 1/1 [00:00<00:00, 39.09it/s]\n"
     ]
    },
    {
     "name": "stdout",
     "output_type": "stream",
     "text": [
      "a070be83-50ab-46c7-a666-225f4fd53b4c\n",
      "error: \n",
      "0 existing calculation records provided\n"
     ]
    },
    {
     "name": "stderr",
     "output_type": "stream",
     "text": [
      "100%|█████████████████████████████████████████████████████████████████████████████████████| 1/1 [00:00<00:00,  4.69it/s]"
     ]
    },
    {
     "name": "stdout",
     "output_type": "stream",
     "text": [
      "1 calculation combinations to check\n",
      "1 new records to prepare\n"
     ]
    },
    {
     "name": "stderr",
     "output_type": "stream",
     "text": [
      "\n",
      "preparing: 100%|##########################################################################| 1/1 [00:00<00:00, 37.82it/s]\n"
     ]
    },
    {
     "name": "stdout",
     "output_type": "stream",
     "text": [
      "b5288ad8-e146-4c8b-a0ac-ef8adfb7f153\n",
      "error: \n",
      "0 existing calculation records provided\n"
     ]
    },
    {
     "name": "stderr",
     "output_type": "stream",
     "text": [
      "100%|█████████████████████████████████████████████████████████████████████████████████████| 1/1 [00:00<00:00,  4.33it/s]"
     ]
    },
    {
     "name": "stdout",
     "output_type": "stream",
     "text": [
      "1 calculation combinations to check\n",
      "1 new records to prepare\n"
     ]
    },
    {
     "name": "stderr",
     "output_type": "stream",
     "text": [
      "\n",
      "preparing: 100%|##########################################################################| 1/1 [00:00<00:00, 38.46it/s]\n"
     ]
    },
    {
     "name": "stdout",
     "output_type": "stream",
     "text": [
      "ae6dbb1a-55c9-4a60-9420-7c44a1fafde9\n",
      "error: \n",
      "0 existing calculation records provided\n"
     ]
    },
    {
     "name": "stderr",
     "output_type": "stream",
     "text": [
      "100%|█████████████████████████████████████████████████████████████████████████████████████| 1/1 [00:00<00:00,  2.98it/s]"
     ]
    },
    {
     "name": "stdout",
     "output_type": "stream",
     "text": [
      "1 calculation combinations to check\n",
      "1 new records to prepare\n"
     ]
    },
    {
     "name": "stderr",
     "output_type": "stream",
     "text": [
      "\n",
      "preparing: 100%|##########################################################################| 1/1 [00:00<00:00, 16.18it/s]\n"
     ]
    },
    {
     "name": "stdout",
     "output_type": "stream",
     "text": [
      "394a50de-a7ed-44bb-85b7-756c7945d44b\n",
      "error: \n",
      "0 existing calculation records provided\n"
     ]
    },
    {
     "name": "stderr",
     "output_type": "stream",
     "text": [
      "100%|█████████████████████████████████████████████████████████████████████████████████████| 1/1 [00:00<00:00,  3.91it/s]"
     ]
    },
    {
     "name": "stdout",
     "output_type": "stream",
     "text": [
      "1 calculation combinations to check\n",
      "1 new records to prepare\n"
     ]
    },
    {
     "name": "stderr",
     "output_type": "stream",
     "text": [
      "\n",
      "preparing: 100%|##########################################################################| 1/1 [00:00<00:00, 28.15it/s]\n"
     ]
    },
    {
     "name": "stdout",
     "output_type": "stream",
     "text": [
      "64028801-6805-4f2a-8dca-4c20933198ed\n",
      "error: \n",
      "0 existing calculation records provided\n"
     ]
    },
    {
     "name": "stderr",
     "output_type": "stream",
     "text": [
      "100%|█████████████████████████████████████████████████████████████████████████████████████| 1/1 [00:00<00:00,  3.65it/s]"
     ]
    },
    {
     "name": "stdout",
     "output_type": "stream",
     "text": [
      "1 calculation combinations to check\n",
      "1 new records to prepare\n"
     ]
    },
    {
     "name": "stderr",
     "output_type": "stream",
     "text": [
      "\n",
      "preparing: 100%|##########################################################################| 1/1 [00:00<00:00, 18.15it/s]\n"
     ]
    },
    {
     "name": "stdout",
     "output_type": "stream",
     "text": [
      "d8f0376c-b6ba-45af-8695-48b7b1ad480e\n",
      "error: \n",
      "0 existing calculation records provided\n"
     ]
    },
    {
     "name": "stderr",
     "output_type": "stream",
     "text": [
      "100%|█████████████████████████████████████████████████████████████████████████████████████| 1/1 [00:00<00:00,  4.21it/s]"
     ]
    },
    {
     "name": "stdout",
     "output_type": "stream",
     "text": [
      "1 calculation combinations to check\n",
      "1 new records to prepare\n"
     ]
    },
    {
     "name": "stderr",
     "output_type": "stream",
     "text": [
      "\n",
      "preparing: 100%|##########################################################################| 1/1 [00:00<00:00, 28.59it/s]\n"
     ]
    },
    {
     "name": "stdout",
     "output_type": "stream",
     "text": [
      "86373ada-678a-4962-931f-96647673a4ae\n",
      "error: \n",
      "0 existing calculation records provided\n"
     ]
    },
    {
     "name": "stderr",
     "output_type": "stream",
     "text": [
      "100%|█████████████████████████████████████████████████████████████████████████████████████| 1/1 [00:00<00:00,  2.96it/s]"
     ]
    },
    {
     "name": "stdout",
     "output_type": "stream",
     "text": [
      "1 calculation combinations to check\n",
      "1 new records to prepare\n"
     ]
    },
    {
     "name": "stderr",
     "output_type": "stream",
     "text": [
      "\n",
      "preparing: 100%|##########################################################################| 1/1 [00:00<00:00, 18.11it/s]\n"
     ]
    },
    {
     "name": "stdout",
     "output_type": "stream",
     "text": [
      "56fd9764-2100-41a4-b7c9-032c97f8a751\n",
      "error: \n",
      "0 existing calculation records provided\n"
     ]
    },
    {
     "name": "stderr",
     "output_type": "stream",
     "text": [
      "100%|█████████████████████████████████████████████████████████████████████████████████████| 1/1 [00:00<00:00,  4.21it/s]"
     ]
    },
    {
     "name": "stdout",
     "output_type": "stream",
     "text": [
      "1 calculation combinations to check\n",
      "1 new records to prepare\n"
     ]
    },
    {
     "name": "stderr",
     "output_type": "stream",
     "text": [
      "\n",
      "preparing: 100%|##########################################################################| 1/1 [00:00<00:00, 27.41it/s]\n"
     ]
    },
    {
     "name": "stdout",
     "output_type": "stream",
     "text": [
      "a01aa328-7cd2-418c-a319-13e1f0f51ae2\n",
      "error: \n",
      "0 existing calculation records provided\n"
     ]
    },
    {
     "name": "stderr",
     "output_type": "stream",
     "text": [
      "100%|█████████████████████████████████████████████████████████████████████████████████████| 1/1 [00:00<00:00,  3.91it/s]"
     ]
    },
    {
     "name": "stdout",
     "output_type": "stream",
     "text": [
      "1 calculation combinations to check\n",
      "1 new records to prepare\n"
     ]
    },
    {
     "name": "stderr",
     "output_type": "stream",
     "text": [
      "\n",
      "preparing: 100%|##########################################################################| 1/1 [00:00<00:00, 31.28it/s]\n"
     ]
    },
    {
     "name": "stdout",
     "output_type": "stream",
     "text": [
      "0d91b8dd-7488-4db6-9eaa-6303fae83b4f\n",
      "error: \n",
      "0 existing calculation records provided\n"
     ]
    },
    {
     "name": "stderr",
     "output_type": "stream",
     "text": [
      "100%|█████████████████████████████████████████████████████████████████████████████████████| 1/1 [00:00<00:00,  3.58it/s]"
     ]
    },
    {
     "name": "stdout",
     "output_type": "stream",
     "text": [
      "1 calculation combinations to check\n",
      "1 new records to prepare\n"
     ]
    },
    {
     "name": "stderr",
     "output_type": "stream",
     "text": [
      "\n",
      "preparing: 100%|##########################################################################| 1/1 [00:00<00:00, 20.68it/s]\n"
     ]
    },
    {
     "name": "stdout",
     "output_type": "stream",
     "text": [
      "acafa9d9-93ef-4c4b-83cc-66675a0bf406\n",
      "error: \n",
      "0 existing calculation records provided\n"
     ]
    },
    {
     "name": "stderr",
     "output_type": "stream",
     "text": [
      "100%|█████████████████████████████████████████████████████████████████████████████████████| 1/1 [00:00<00:00,  4.19it/s]"
     ]
    },
    {
     "name": "stdout",
     "output_type": "stream",
     "text": [
      "1 calculation combinations to check\n",
      "1 new records to prepare\n"
     ]
    },
    {
     "name": "stderr",
     "output_type": "stream",
     "text": [
      "\n",
      "preparing: 100%|##########################################################################| 1/1 [00:00<00:00, 26.97it/s]\n"
     ]
    },
    {
     "name": "stdout",
     "output_type": "stream",
     "text": [
      "d3ad20a6-d698-4606-b372-5414a8cb10fb\n",
      "error: \n",
      "0 existing calculation records provided\n"
     ]
    },
    {
     "name": "stderr",
     "output_type": "stream",
     "text": [
      "100%|█████████████████████████████████████████████████████████████████████████████████████| 1/1 [00:00<00:00,  3.49it/s]"
     ]
    },
    {
     "name": "stdout",
     "output_type": "stream",
     "text": [
      "1 calculation combinations to check\n",
      "1 new records to prepare\n"
     ]
    },
    {
     "name": "stderr",
     "output_type": "stream",
     "text": [
      "\n",
      "preparing: 100%|##########################################################################| 1/1 [00:00<00:00, 19.84it/s]\n"
     ]
    },
    {
     "name": "stdout",
     "output_type": "stream",
     "text": [
      "be072df7-b61b-430f-8b4f-4ed5c202d081\n",
      "error: \n",
      "0 existing calculation records provided\n"
     ]
    },
    {
     "name": "stderr",
     "output_type": "stream",
     "text": [
      "100%|█████████████████████████████████████████████████████████████████████████████████████| 1/1 [00:00<00:00,  3.66it/s]"
     ]
    },
    {
     "name": "stdout",
     "output_type": "stream",
     "text": [
      "1 calculation combinations to check\n",
      "1 new records to prepare\n"
     ]
    },
    {
     "name": "stderr",
     "output_type": "stream",
     "text": [
      "\n",
      "preparing: 100%|##########################################################################| 1/1 [00:00<00:00, 26.98it/s]\n"
     ]
    },
    {
     "name": "stdout",
     "output_type": "stream",
     "text": [
      "fd85eb08-6fe2-44b3-a72d-c909e695ab53\n",
      "error: \n",
      "0 existing calculation records provided\n"
     ]
    },
    {
     "name": "stderr",
     "output_type": "stream",
     "text": [
      "100%|█████████████████████████████████████████████████████████████████████████████████████| 1/1 [00:00<00:00,  3.45it/s]"
     ]
    },
    {
     "name": "stdout",
     "output_type": "stream",
     "text": [
      "1 calculation combinations to check\n",
      "1 new records to prepare\n"
     ]
    },
    {
     "name": "stderr",
     "output_type": "stream",
     "text": [
      "\n",
      "preparing: 100%|##########################################################################| 1/1 [00:00<00:00, 18.43it/s]\n"
     ]
    },
    {
     "name": "stdout",
     "output_type": "stream",
     "text": [
      "7a8dc22b-9eb1-4b88-8e2b-36ffd3504f7f\n",
      "error: \n",
      "0 existing calculation records provided\n"
     ]
    },
    {
     "name": "stderr",
     "output_type": "stream",
     "text": [
      "100%|█████████████████████████████████████████████████████████████████████████████████████| 1/1 [00:00<00:00,  3.18it/s]"
     ]
    },
    {
     "name": "stdout",
     "output_type": "stream",
     "text": [
      "1 calculation combinations to check\n",
      "1 new records to prepare\n"
     ]
    },
    {
     "name": "stderr",
     "output_type": "stream",
     "text": [
      "\n",
      "preparing: 100%|##########################################################################| 1/1 [00:00<00:00, 19.15it/s]\n"
     ]
    },
    {
     "name": "stdout",
     "output_type": "stream",
     "text": [
      "08820edf-906d-449f-adbb-c1e3e76963cf\n",
      "error: \n",
      "0 existing calculation records provided\n"
     ]
    },
    {
     "name": "stderr",
     "output_type": "stream",
     "text": [
      "100%|█████████████████████████████████████████████████████████████████████████████████████| 1/1 [00:00<00:00,  3.84it/s]"
     ]
    },
    {
     "name": "stdout",
     "output_type": "stream",
     "text": [
      "1 calculation combinations to check\n",
      "1 new records to prepare\n"
     ]
    },
    {
     "name": "stderr",
     "output_type": "stream",
     "text": [
      "\n",
      "preparing: 100%|##########################################################################| 1/1 [00:00<00:00, 30.08it/s]\n"
     ]
    },
    {
     "name": "stdout",
     "output_type": "stream",
     "text": [
      "c7f9d2df-d0ab-44da-84d2-8b6050f340f8\n",
      "error: \n",
      "0 existing calculation records provided\n"
     ]
    },
    {
     "name": "stderr",
     "output_type": "stream",
     "text": [
      "100%|█████████████████████████████████████████████████████████████████████████████████████| 1/1 [00:00<00:00,  2.88it/s]"
     ]
    },
    {
     "name": "stdout",
     "output_type": "stream",
     "text": [
      "1 calculation combinations to check\n",
      "1 new records to prepare\n"
     ]
    },
    {
     "name": "stderr",
     "output_type": "stream",
     "text": [
      "\n",
      "preparing: 100%|##########################################################################| 1/1 [00:00<00:00, 13.64it/s]\n"
     ]
    },
    {
     "name": "stdout",
     "output_type": "stream",
     "text": [
      "47de1338-858e-40d8-804e-8b37d83158d1\n",
      "error: \n",
      "Max number of runs reached!\n",
      "\n",
      "201 2021--Wen-M--Fe-H--LAMMPS--ipr1\n",
      "0 existing calculation records provided\n"
     ]
    },
    {
     "name": "stderr",
     "output_type": "stream",
     "text": [
      "100%|█████████████████████████████████████████████████████████████████████████████████████| 1/1 [00:00<00:00,  3.77it/s]"
     ]
    },
    {
     "name": "stdout",
     "output_type": "stream",
     "text": [
      "1 calculation combinations to check\n",
      "1 new records to prepare\n"
     ]
    },
    {
     "name": "stderr",
     "output_type": "stream",
     "text": [
      "\n",
      "preparing: 100%|##########################################################################| 1/1 [00:00<00:00, 44.06it/s]\n"
     ]
    },
    {
     "name": "stdout",
     "output_type": "stream",
     "text": [
      "bca28e79-bd25-441c-84bf-47171a91899a\n",
      "sim calculated successfully\n",
      "\n",
      "4525.000 0.005772 4406.908\n",
      "0 existing calculation records provided\n"
     ]
    },
    {
     "name": "stderr",
     "output_type": "stream",
     "text": [
      "100%|█████████████████████████████████████████████████████████████████████████████████████| 1/1 [00:00<00:00,  3.32it/s]"
     ]
    },
    {
     "name": "stdout",
     "output_type": "stream",
     "text": [
      "1 calculation combinations to check\n",
      "1 new records to prepare\n"
     ]
    },
    {
     "name": "stderr",
     "output_type": "stream",
     "text": [
      "\n",
      "preparing: 100%|##########################################################################| 1/1 [00:00<00:00, 22.44it/s]\n"
     ]
    },
    {
     "name": "stdout",
     "output_type": "stream",
     "text": [
      "7818d286-b60e-456b-9a03-86c5964c9cb4\n",
      "sim calculated successfully\n",
      "\n",
      "2287.500 0.0001138 2216.275\n",
      "0 existing calculation records provided\n"
     ]
    },
    {
     "name": "stderr",
     "output_type": "stream",
     "text": [
      "100%|█████████████████████████████████████████████████████████████████████████████████████| 1/1 [00:00<00:00,  4.58it/s]"
     ]
    },
    {
     "name": "stdout",
     "output_type": "stream",
     "text": [
      "1 calculation combinations to check\n",
      "1 new records to prepare\n"
     ]
    },
    {
     "name": "stderr",
     "output_type": "stream",
     "text": [
      "\n",
      "preparing: 100%|##########################################################################| 1/1 [00:00<00:00, 44.87it/s]\n"
     ]
    },
    {
     "name": "stdout",
     "output_type": "stream",
     "text": [
      "87b2f521-1919-4bb7-875d-6f8602d03ddc\n",
      "sim calculated successfully\n",
      "\n",
      "1168.750 0.9978 1164.639\n",
      "0 existing calculation records provided\n"
     ]
    },
    {
     "name": "stderr",
     "output_type": "stream",
     "text": [
      "100%|█████████████████████████████████████████████████████████████████████████████████████| 1/1 [00:00<00:00,  3.50it/s]"
     ]
    },
    {
     "name": "stdout",
     "output_type": "stream",
     "text": [
      "1 calculation combinations to check\n",
      "1 new records to prepare\n"
     ]
    },
    {
     "name": "stderr",
     "output_type": "stream",
     "text": [
      "\n",
      "preparing: 100%|##########################################################################| 1/1 [00:00<00:00, 22.54it/s]\n"
     ]
    },
    {
     "name": "stdout",
     "output_type": "stream",
     "text": [
      "48f5f890-2e7a-4ad9-9542-abde09acb62b\n",
      "sim calculated successfully\n",
      "\n",
      "1728.125 0.8019 1889.937\n",
      "0 existing calculation records provided\n"
     ]
    },
    {
     "name": "stderr",
     "output_type": "stream",
     "text": [
      "100%|█████████████████████████████████████████████████████████████████████████████████████| 1/1 [00:00<00:00,  3.37it/s]"
     ]
    },
    {
     "name": "stdout",
     "output_type": "stream",
     "text": [
      "1 calculation combinations to check\n",
      "1 new records to prepare\n"
     ]
    },
    {
     "name": "stderr",
     "output_type": "stream",
     "text": [
      "\n",
      "preparing: 100%|##########################################################################| 1/1 [00:00<00:00, 26.38it/s]\n"
     ]
    },
    {
     "name": "stdout",
     "output_type": "stream",
     "text": [
      "cb75d1ff-f5c4-4d13-ac84-c03fbc542af8\n",
      "sim calculated successfully\n",
      "\n",
      "2007.812 0.0004759 1793.633\n",
      "0 existing calculation records provided\n"
     ]
    },
    {
     "name": "stderr",
     "output_type": "stream",
     "text": [
      "100%|█████████████████████████████████████████████████████████████████████████████████████| 1/1 [00:00<00:00,  4.30it/s]"
     ]
    },
    {
     "name": "stdout",
     "output_type": "stream",
     "text": [
      "1 calculation combinations to check\n",
      "1 new records to prepare\n"
     ]
    },
    {
     "name": "stderr",
     "output_type": "stream",
     "text": [
      "\n",
      "preparing: 100%|##########################################################################| 1/1 [00:00<00:00, 34.48it/s]\n"
     ]
    },
    {
     "name": "stdout",
     "output_type": "stream",
     "text": [
      "d79cd38b-5a68-49af-96fa-fe667b3ff408\n",
      "sim calculated successfully\n",
      "\n",
      "1867.969 0.3069 1792.092\n",
      "0 existing calculation records provided\n"
     ]
    },
    {
     "name": "stderr",
     "output_type": "stream",
     "text": [
      "100%|█████████████████████████████████████████████████████████████████████████████████████| 1/1 [00:00<00:00,  3.63it/s]"
     ]
    },
    {
     "name": "stdout",
     "output_type": "stream",
     "text": [
      "1 calculation combinations to check\n",
      "1 new records to prepare\n"
     ]
    },
    {
     "name": "stderr",
     "output_type": "stream",
     "text": [
      "\n",
      "preparing: 100%|##########################################################################| 1/1 [00:00<00:00, 26.84it/s]\n"
     ]
    },
    {
     "name": "stdout",
     "output_type": "stream",
     "text": [
      "69043c8e-a508-44e9-a2e0-1a4b87594dcc\n",
      "sim calculated successfully\n",
      "\n",
      "1798.047 0.4672 1789.392\n",
      "0 existing calculation records provided\n"
     ]
    },
    {
     "name": "stderr",
     "output_type": "stream",
     "text": [
      "100%|█████████████████████████████████████████████████████████████████████████████████████| 1/1 [00:00<00:00,  4.04it/s]"
     ]
    },
    {
     "name": "stdout",
     "output_type": "stream",
     "text": [
      "1 calculation combinations to check\n",
      "1 new records to prepare\n"
     ]
    },
    {
     "name": "stderr",
     "output_type": "stream",
     "text": [
      "\n",
      "preparing: 100%|##########################################################################| 1/1 [00:00<00:00, 27.52it/s]\n"
     ]
    },
    {
     "name": "stdout",
     "output_type": "stream",
     "text": [
      "fb6f89ad-557f-464a-af93-39e42259368e\n",
      "sim calculated successfully\n",
      "\n",
      "1798.047 0.486 1797.968\n",
      "0 existing calculation records provided\n"
     ]
    },
    {
     "name": "stderr",
     "output_type": "stream",
     "text": [
      "100%|█████████████████████████████████████████████████████████████████████████████████████| 1/1 [00:00<00:00,  3.32it/s]"
     ]
    },
    {
     "name": "stdout",
     "output_type": "stream",
     "text": [
      "1 calculation combinations to check\n",
      "1 new records to prepare\n"
     ]
    },
    {
     "name": "stderr",
     "output_type": "stream",
     "text": [
      "\n",
      "preparing: 100%|##########################################################################| 1/1 [00:00<00:00, 24.91it/s]\n"
     ]
    },
    {
     "name": "stdout",
     "output_type": "stream",
     "text": [
      "cfb8e847-ca0e-4265-8a3f-7bb934b5b887\n",
      "sim calculated successfully\n",
      "\n",
      "1798.047 0.4709 1797.102\n",
      "0 existing calculation records provided\n"
     ]
    },
    {
     "name": "stderr",
     "output_type": "stream",
     "text": [
      "100%|█████████████████████████████████████████████████████████████████████████████████████| 1/1 [00:00<00:00,  3.45it/s]"
     ]
    },
    {
     "name": "stdout",
     "output_type": "stream",
     "text": [
      "1 calculation combinations to check\n",
      "1 new records to prepare\n"
     ]
    },
    {
     "name": "stderr",
     "output_type": "stream",
     "text": [
      "\n",
      "preparing: 100%|##########################################################################| 1/1 [00:00<00:00, 26.51it/s]\n"
     ]
    },
    {
     "name": "stdout",
     "output_type": "stream",
     "text": [
      "7adab40d-a003-4ca5-908b-b0a99fa51b4c\n",
      "sim calculated successfully\n",
      "\n",
      "1798.047 0.4806 1795.566\n",
      "0 existing calculation records provided\n"
     ]
    },
    {
     "name": "stderr",
     "output_type": "stream",
     "text": [
      "100%|█████████████████████████████████████████████████████████████████████████████████████| 1/1 [00:00<00:00,  4.19it/s]"
     ]
    },
    {
     "name": "stdout",
     "output_type": "stream",
     "text": [
      "1 calculation combinations to check\n",
      "1 new records to prepare\n"
     ]
    },
    {
     "name": "stderr",
     "output_type": "stream",
     "text": [
      "\n",
      "preparing: 100%|##########################################################################| 1/1 [00:00<00:00, 41.18it/s]\n"
     ]
    },
    {
     "name": "stdout",
     "output_type": "stream",
     "text": [
      "3de1e4cb-121d-4945-ab4b-24952176d28d\n",
      "sim calculated successfully\n",
      "\n",
      "1798.047 0.4525 1794.193\n",
      "0 existing calculation records provided\n"
     ]
    },
    {
     "name": "stderr",
     "output_type": "stream",
     "text": [
      "100%|█████████████████████████████████████████████████████████████████████████████████████| 1/1 [00:00<00:00,  3.39it/s]"
     ]
    },
    {
     "name": "stdout",
     "output_type": "stream",
     "text": [
      "1 calculation combinations to check\n",
      "1 new records to prepare\n"
     ]
    },
    {
     "name": "stderr",
     "output_type": "stream",
     "text": [
      "\n",
      "preparing: 100%|##########################################################################| 1/1 [00:00<00:00, 21.55it/s]\n"
     ]
    },
    {
     "name": "stdout",
     "output_type": "stream",
     "text": [
      "f27aeabe-2bc4-4570-9686-fdf121f5bad5\n",
      "sim calculated successfully\n",
      "\n",
      "1798.047 0.449 1783.561\n",
      "0 existing calculation records provided\n"
     ]
    },
    {
     "name": "stderr",
     "output_type": "stream",
     "text": [
      "100%|█████████████████████████████████████████████████████████████████████████████████████| 1/1 [00:00<00:00,  3.36it/s]"
     ]
    },
    {
     "name": "stdout",
     "output_type": "stream",
     "text": [
      "1 calculation combinations to check\n",
      "1 new records to prepare\n"
     ]
    },
    {
     "name": "stderr",
     "output_type": "stream",
     "text": [
      "\n",
      "preparing: 100%|##########################################################################| 1/1 [00:00<00:00, 22.33it/s]\n"
     ]
    },
    {
     "name": "stdout",
     "output_type": "stream",
     "text": [
      "06862a1d-1176-47f8-9d9c-c6e6b1346fb3\n",
      "sim calculated successfully\n",
      "\n",
      "1798.047 0.4644 1782.718\n",
      "0 existing calculation records provided\n"
     ]
    },
    {
     "name": "stderr",
     "output_type": "stream",
     "text": [
      "100%|█████████████████████████████████████████████████████████████████████████████████████| 1/1 [00:00<00:00,  4.19it/s]"
     ]
    },
    {
     "name": "stdout",
     "output_type": "stream",
     "text": [
      "1 calculation combinations to check\n",
      "1 new records to prepare\n"
     ]
    },
    {
     "name": "stderr",
     "output_type": "stream",
     "text": [
      "\n",
      "preparing: 100%|##########################################################################| 1/1 [00:00<00:00, 38.87it/s]\n"
     ]
    },
    {
     "name": "stdout",
     "output_type": "stream",
     "text": [
      "73c5c7ac-57ab-467f-b392-c4c4479c14f1\n"
     ]
    }
   ],
   "source": [
    "for i in bcc_props.index[::-1]:\n",
    "    series = bcc_props.loc[i]\n",
    "\n",
    "    commander = MeltCommander(database,\n",
    "                              lammps_command, \n",
    "                              series.potential_LAMMPS_id,\n",
    "                              series.composition,\n",
    "                              'A2--W--bcc',\n",
    "                              min_temperature=min_temperature,\n",
    "                              max_temperature=max_temperature,\n",
    "                              verbose=False,\n",
    "                             )\n",
    "    alat = alat_mult * series.a\n",
    "    print(i, series.potential_LAMMPS_id)\n",
    "    commander.run(run_directory, alat, max_melts, max_runs)\n",
    "    print()"
   ]
  },
  {
   "cell_type": "code",
   "execution_count": null,
   "id": "d4b07f35-1b9a-4a65-9287-7aa2dd7ec22f",
   "metadata": {},
   "outputs": [],
   "source": []
  }
 ],
 "metadata": {
  "kernelspec": {
   "display_name": "ipr",
   "language": "python",
   "name": "ipr"
  },
  "language_info": {
   "codemirror_mode": {
    "name": "ipython",
    "version": 3
   },
   "file_extension": ".py",
   "mimetype": "text/x-python",
   "name": "python",
   "nbconvert_exporter": "python",
   "pygments_lexer": "ipython3",
   "version": "3.11.11"
  }
 },
 "nbformat": 4,
 "nbformat_minor": 5
}
