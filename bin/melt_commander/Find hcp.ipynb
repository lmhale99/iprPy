{
 "cells": [
  {
   "cell_type": "markdown",
   "id": "a343b864-a2a9-4a49-9d25-298fc2f22cc1",
   "metadata": {},
   "source": [
    "# Find hcp"
   ]
  },
  {
   "cell_type": "code",
   "execution_count": 1,
   "id": "f7a0ca9c-c503-4807-aeec-1dd260033c0a",
   "metadata": {},
   "outputs": [],
   "source": [
    "import iprPy\n",
    "import atomman as am"
   ]
  },
  {
   "cell_type": "code",
   "execution_count": 2,
   "id": "cb8c7dbf-66fa-463d-83fd-5c4ad32d38c4",
   "metadata": {},
   "outputs": [],
   "source": [
    "database = iprPy.load_database('master')"
   ]
  },
  {
   "cell_type": "code",
   "execution_count": 3,
   "id": "016efdb1-b87a-4269-a85a-5c2e4a1a0d7e",
   "metadata": {},
   "outputs": [
    {
     "data": {
      "text/plain": [
       "787"
      ]
     },
     "execution_count": 3,
     "metadata": {},
     "output_type": "execute_result"
    }
   ],
   "source": [
    "hcp_crystals, hcp_crystals_df = database.get_records('relaxed_crystal', family='A3--Mg--hcp', method='dynamic', standing='good', return_df=True)\n",
    "len(hcp_crystals)"
   ]
  },
  {
   "cell_type": "code",
   "execution_count": 4,
   "id": "cc032746-3127-4d42-bfc2-258a2a8ddcd0",
   "metadata": {},
   "outputs": [],
   "source": [
    "eam_potentials_df = database.get_records_df('potential_LAMMPS', pair_style=['eam', 'eam/alloy', 'eam/fs'])"
   ]
  },
  {
   "cell_type": "code",
   "execution_count": 5,
   "id": "5a7bf18a-3d5c-4db9-9f92-c12aefb18695",
   "metadata": {},
   "outputs": [
    {
     "data": {
      "text/plain": [
       "259"
      ]
     },
     "execution_count": 5,
     "metadata": {},
     "output_type": "execute_result"
    }
   ],
   "source": [
    "hcp_eam_df = hcp_crystals_df[hcp_crystals_df.potential_LAMMPS_id.isin(eam_potentials_df.id)]\n",
    "len(hcp_eam_df)"
   ]
  },
  {
   "cell_type": "code",
   "execution_count": 6,
   "id": "677e01b4-f133-4f12-abda-638535f20e81",
   "metadata": {},
   "outputs": [
    {
     "data": {
      "text/plain": [
       "Index(['name', 'key', 'url', 'method', 'standing', 'potential_LAMMPS_key',\n",
       "       'potential_LAMMPS_id', 'potential_LAMMPS_url', 'potential_key',\n",
       "       'potential_id', 'potential_url', 'family', 'family_url', 'parent_key',\n",
       "       'parent_url', 'symbols', 'composition', 'crystalfamily', 'natypes', 'a',\n",
       "       'b', 'c', 'alpha', 'beta', 'gamma', 'natoms', 'Epot (eV/atom)',\n",
       "       'Ecoh (eV/atom)'],\n",
       "      dtype='object')"
      ]
     },
     "execution_count": 6,
     "metadata": {},
     "output_type": "execute_result"
    }
   ],
   "source": [
    "hcp_eam_df.keys()"
   ]
  },
  {
   "cell_type": "code",
   "execution_count": 7,
   "id": "914216a8-04bc-4b0b-a012-79fed9f9534c",
   "metadata": {},
   "outputs": [],
   "source": [
    "keys = ['potential_LAMMPS_id', 'composition', 'a', 'Epot (eV/atom)']\n",
    "hcp_eam_df[keys].sort_values(keys).to_csv('Melting_temperatures_hcp.csv', index=False)"
   ]
  },
  {
   "cell_type": "code",
   "execution_count": null,
   "id": "84df1c3e-38e2-42d9-8a52-2c09cb4edf37",
   "metadata": {},
   "outputs": [],
   "source": []
  }
 ],
 "metadata": {
  "kernelspec": {
   "display_name": "ipr",
   "language": "python",
   "name": "ipr"
  },
  "language_info": {
   "codemirror_mode": {
    "name": "ipython",
    "version": 3
   },
   "file_extension": ".py",
   "mimetype": "text/x-python",
   "name": "python",
   "nbconvert_exporter": "python",
   "pygments_lexer": "ipython3",
   "version": "3.11.11"
  }
 },
 "nbformat": 4,
 "nbformat_minor": 5
}
