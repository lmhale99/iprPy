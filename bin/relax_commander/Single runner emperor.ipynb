{
 "cells": [
  {
   "cell_type": "code",
   "execution_count": 2,
   "id": "f4e17fa9-82f6-4faa-87a4-ed594640af7b",
   "metadata": {},
   "outputs": [],
   "source": [
    "import iprPy"
   ]
  },
  {
   "cell_type": "code",
   "execution_count": 2,
   "id": "823f0e0f-e73a-4001-9dc2-508e92da5600",
   "metadata": {},
   "outputs": [],
   "source": [
    "emperor = iprPy.workflow.Emperor('test', \n",
    "                                 lammps_command = '/home/lmh1/LAMMPS/2022-06-23/src/lmp_mpi',\n",
    "                                 mpi_command = 'mpiexec -n {np_per_runner}',\n",
    "                                 lammps_command_snap_1 = '/home/lmh1/LAMMPS/2017-03-31/src/lmp_mpi',\n",
    "                                 lammps_command_snap_2 = '/home/lmh1/LAMMPS/2019-06-05/src/lmp_mpi',\n",
    "                                 lammps_command_old = '/home/lmh1/LAMMPS/2019-06-05/src/lmp_mpi')"
   ]
  },
  {
   "cell_type": "code",
   "execution_count": 3,
   "id": "6103163c-1fdf-429a-a6dd-10c87b258f15",
   "metadata": {
    "scrolled": true
   },
   "outputs": [
    {
     "name": "stdout",
     "output_type": "stream",
     "text": [
      "1 potential ids found\n",
      "Preparing calculation isolated_atom branch main\n",
      "Using potential #s 0 to 0\n",
      "\n",
      "0 existing calculation records provided\n",
      "1 matching interatomic potentials found\n"
     ]
    },
    {
     "name": "stderr",
     "output_type": "stream",
     "text": [
      "100%|█████████████████████████████████████████████████████████████████████████████████████| 1/1 [00:00<00:00,  1.47it/s]"
     ]
    },
    {
     "name": "stdout",
     "output_type": "stream",
     "text": [
      "1 calculation combinations to check\n",
      "1 new records to prepare\n"
     ]
    },
    {
     "name": "stderr",
     "output_type": "stream",
     "text": [
      "\n",
      "preparing: 100%|##########################################################################| 1/1 [00:00<00:00, 13.72it/s]"
     ]
    },
    {
     "name": "stdout",
     "output_type": "stream",
     "text": [
      "\n",
      "Preparing calculation diatom_scan branch main\n",
      "Using potential #s 0 to 0\n",
      "\n",
      "0 existing calculation records provided\n"
     ]
    },
    {
     "name": "stderr",
     "output_type": "stream",
     "text": [
      "\n"
     ]
    },
    {
     "name": "stdout",
     "output_type": "stream",
     "text": [
      "1 matching interatomic potentials found\n"
     ]
    },
    {
     "name": "stderr",
     "output_type": "stream",
     "text": [
      "100%|█████████████████████████████████████████████████████████████████████████████████████| 1/1 [00:00<00:00,  3.60it/s]"
     ]
    },
    {
     "name": "stdout",
     "output_type": "stream",
     "text": [
      "1 calculation combinations to check\n",
      "1 new records to prepare\n"
     ]
    },
    {
     "name": "stderr",
     "output_type": "stream",
     "text": [
      "\n",
      "preparing: 100%|##########################################################################| 1/1 [00:00<00:00, 15.14it/s]"
     ]
    },
    {
     "name": "stdout",
     "output_type": "stream",
     "text": [
      "\n",
      "Preparing calculation E_vs_r_scan branch bop\n",
      "Using potential #s 0 to 0\n",
      "\n",
      "0 existing calculation records provided\n"
     ]
    },
    {
     "name": "stderr",
     "output_type": "stream",
     "text": [
      "\n"
     ]
    },
    {
     "name": "stdout",
     "output_type": "stream",
     "text": [
      "19 matching crystal prototypes found\n",
      "0 matching interatomic potentials found\n"
     ]
    },
    {
     "name": "stderr",
     "output_type": "stream",
     "text": [
      "100%|███████████████████████████████████████████████████████████████████████████████████| 1/1 [00:00<00:00, 2651.27it/s]"
     ]
    },
    {
     "name": "stdout",
     "output_type": "stream",
     "text": [
      "1 invalid calculations skipped\n",
      "0 calculation combinations to check\n",
      "\n",
      "Preparing calculation E_vs_r_scan branch main\n",
      "Using potential #s 0 to 0\n",
      "\n",
      "0 existing calculation records provided\n"
     ]
    },
    {
     "name": "stderr",
     "output_type": "stream",
     "text": [
      "\n"
     ]
    },
    {
     "name": "stdout",
     "output_type": "stream",
     "text": [
      "19 matching crystal prototypes found\n",
      "1 matching interatomic potentials found\n"
     ]
    },
    {
     "name": "stderr",
     "output_type": "stream",
     "text": [
      "100%|███████████████████████████████████████████████████████████████████████████████████| 10/10 [00:02<00:00,  3.68it/s]"
     ]
    },
    {
     "name": "stdout",
     "output_type": "stream",
     "text": [
      "10 calculation combinations to check\n",
      "10 new records to prepare\n"
     ]
    },
    {
     "name": "stderr",
     "output_type": "stream",
     "text": [
      "\n",
      "preparing: 100%|########################################################################| 10/10 [00:00<00:00, 14.43it/s]\n"
     ]
    },
    {
     "name": "stdout",
     "output_type": "stream",
     "text": [
      "\n",
      "2294697a-a0c8-435a-8dd9-73322e60eed7\n",
      "sim calculated successfully\n",
      "\n",
      "71905d63-2565-4a65-9a9f-9ae1589a8b53\n",
      "sim calculated successfully\n",
      "\n",
      "7aa8f6be-5548-44d8-a1b7-63de1bca2aca\n",
      "sim calculated successfully\n",
      "\n",
      "4152fd16-4724-45aa-8d43-fd2fb98b0240\n",
      "sim calculated successfully\n",
      "\n",
      "07b53f56-cc2d-4d6e-9b44-de3366d364bb\n",
      "sim calculated successfully\n",
      "\n",
      "06f1fb66-4ebd-45bd-8859-5bc94f136739\n",
      "sim calculated successfully\n",
      "\n",
      "9a700f35-68db-488f-b967-d24fa4f8c7e7\n",
      "sim calculated successfully\n",
      "\n",
      "4d9b1408-5932-4dbc-b112-4618292db0b4\n",
      "sim calculated successfully\n",
      "\n",
      "94242de4-ee8a-4337-b004-64a1bc2be85b\n",
      "sim calculated successfully\n",
      "\n",
      "13ce3427-f0e2-48f8-b772-b5d1a7462a29\n",
      "sim calculated successfully\n",
      "\n",
      "c286aff7-3f7c-4ea3-a1be-e2d9c6c89e20\n",
      "sim calculated successfully\n",
      "\n",
      "9e11a227-d939-458f-9128-67c0005f6ea4\n",
      "sim calculated successfully\n",
      "\n",
      "1 potential ids found\n",
      "Preparing calculation relax_dynamic branch main\n",
      "Using potential #s 0 to 0\n",
      "\n",
      "0 existing calculation records provided\n",
      "6587 matching atomic references found\n",
      "1 matching interatomic potentials found\n",
      "1 matching interatomic potentials found\n",
      "10 matching atomic parents found\n"
     ]
    },
    {
     "name": "stderr",
     "output_type": "stream",
     "text": [
      "100%|███████████████████████████████████████████████████████████████████████████████████| 35/35 [00:09<00:00,  3.70it/s]"
     ]
    },
    {
     "name": "stdout",
     "output_type": "stream",
     "text": [
      "35 calculation combinations to check\n",
      "35 new records to prepare\n"
     ]
    },
    {
     "name": "stderr",
     "output_type": "stream",
     "text": [
      "\n",
      "preparing: 100%|########################################################################| 35/35 [00:02<00:00, 15.34it/s]\n"
     ]
    },
    {
     "name": "stdout",
     "output_type": "stream",
     "text": [
      "\n",
      "60c7fc7b-bba4-4f4e-8af3-1f9ec735feb5\n",
      "sim calculated successfully\n",
      "\n",
      "6704c082-1a94-49e1-ac98-c0c2abef2950\n",
      "sim calculated successfully\n",
      "\n",
      "12717525-f762-4f44-a92e-66dbbb657ea1\n",
      "sim calculated successfully\n",
      "\n",
      "0e05e4f0-fcb8-4899-8df8-a725cb68c882\n",
      "sim calculated successfully\n",
      "\n",
      "512f4229-a289-48c4-806b-2442da294a32\n",
      "sim calculated successfully\n",
      "\n",
      "ba98bda0-f56a-4860-9177-8b6b7cf42f38\n",
      "sim calculated successfully\n",
      "\n",
      "968cc45c-0e3f-4034-ab61-d836c359c149\n",
      "sim calculated successfully\n",
      "\n",
      "370ba6d1-c721-4e3a-b8c5-3cf5169b3c6d\n",
      "sim calculated successfully\n",
      "\n",
      "03671716-bc94-4797-b8ff-d897701ccb2d\n",
      "sim calculated successfully\n",
      "\n",
      "881713de-c128-4205-8378-530b6acaa9c9\n",
      "sim calculated successfully\n",
      "\n",
      "57feb29c-9ab9-4697-9354-1e9486899ffe\n",
      "sim calculated successfully\n",
      "\n",
      "389bb8d1-f4fd-4651-bf9e-cc1e14c0362d\n",
      "sim calculated successfully\n",
      "\n",
      "546de263-65e9-41c9-8481-9c939d33106f\n",
      "sim calculated successfully\n",
      "\n",
      "8e7846d1-28f5-4aea-a31c-42f4e38197a5\n",
      "sim calculated successfully\n",
      "\n",
      "7a26fc8d-3ff7-46cd-8a64-df998a06b4dd\n",
      "sim calculated successfully\n",
      "\n",
      "7a90174e-38d6-460f-8bb5-cdef1d2f134e\n",
      "sim calculated successfully\n",
      "\n",
      "90598826-a5f0-4e7b-b2ef-197a5bed2249\n",
      "sim calculated successfully\n",
      "\n",
      "b6773801-1ae8-4b5b-9329-3193e85947a4\n",
      "sim calculated successfully\n",
      "\n",
      "9c86e270-90e6-4d3c-a00f-a48511a82faa\n",
      "sim calculated successfully\n",
      "\n",
      "458fddec-80b7-4f45-a7fb-23e13b7a5486\n",
      "sim calculated successfully\n",
      "\n",
      "5f49eca8-b93b-4d46-838d-5fe920ea001c\n",
      "sim calculated successfully\n",
      "\n",
      "efc19c3a-a991-4368-bd16-3d5db1ba3c4c\n",
      "sim calculated successfully\n",
      "\n",
      "beeb403d-7bf0-48a2-a8b0-52b8e56705b3\n",
      "sim calculated successfully\n",
      "\n",
      "3b576e40-bbfb-40ad-bf09-44d319d3cd7b\n",
      "sim calculated successfully\n",
      "\n",
      "fed20037-48b8-45e4-81e0-5fa6a3d054b7\n",
      "sim calculated successfully\n",
      "\n",
      "7a85d389-7691-4f68-aa89-b4d5fd1e94d5\n",
      "sim calculated successfully\n",
      "\n",
      "c14e4ed9-b286-44e1-83ec-df2dbf1d04f3\n",
      "sim calculated successfully\n",
      "\n",
      "a63eaaec-8f7f-4a17-8482-9cf38eabe555\n",
      "sim calculated successfully\n",
      "\n",
      "c021565e-6083-4e08-be71-28f71cbac120\n",
      "sim calculated successfully\n",
      "\n",
      "77fe2bd1-8aa9-4462-a25d-b13084585b9f\n",
      "sim calculated successfully\n",
      "\n",
      "8b8725d3-3539-456e-becb-fa8b0f8dd048\n",
      "sim calculated successfully\n",
      "\n",
      "1a84d0ba-767f-40dc-ba63-e5a6f09598ff\n",
      "sim calculated successfully\n",
      "\n",
      "97778ff4-f9cc-4577-90f0-35035fd5d91a\n",
      "sim calculated successfully\n",
      "\n",
      "eb05a899-28c9-4405-bd65-bee0c6fe052c\n",
      "sim calculated successfully\n",
      "\n",
      "db730dee-dc48-494e-a563-ca4242bc9e87\n",
      "sim calculated successfully\n",
      "\n",
      "1 potential ids found\n",
      "Preparing calculation relax_static branch main\n",
      "Using potential #s 0 to 0\n",
      "\n",
      "0 existing calculation records provided\n",
      "6587 matching atomic references found\n",
      "1 matching interatomic potentials found\n",
      "1 matching interatomic potentials found\n",
      "10 matching atomic parents found\n"
     ]
    },
    {
     "name": "stderr",
     "output_type": "stream",
     "text": [
      "100%|███████████████████████████████████████████████████████████████████████████████████| 10/10 [00:02<00:00,  3.70it/s]"
     ]
    },
    {
     "name": "stdout",
     "output_type": "stream",
     "text": [
      "10 calculation combinations to check\n",
      "10 new records to prepare\n"
     ]
    },
    {
     "name": "stderr",
     "output_type": "stream",
     "text": [
      "\n",
      "preparing: 100%|########################################################################| 10/10 [00:00<00:00, 14.33it/s]"
     ]
    },
    {
     "name": "stdout",
     "output_type": "stream",
     "text": [
      "\n",
      "Preparing calculation relax_static branch from_dynamic\n",
      "Using potential #s 0 to 0\n",
      "\n",
      "10 existing calculation records provided\n"
     ]
    },
    {
     "name": "stderr",
     "output_type": "stream",
     "text": [
      "\n"
     ]
    },
    {
     "name": "stdout",
     "output_type": "stream",
     "text": [
      "1 matching interatomic potentials found\n",
      "35 matching atomic archives found\n"
     ]
    },
    {
     "name": "stderr",
     "output_type": "stream",
     "text": [
      "100%|███████████████████████████████████████████████████████████████████████████████████| 35/35 [00:09<00:00,  3.72it/s]"
     ]
    },
    {
     "name": "stdout",
     "output_type": "stream",
     "text": [
      "35 calculation combinations to check\n",
      "35 new records to prepare\n"
     ]
    },
    {
     "name": "stderr",
     "output_type": "stream",
     "text": [
      "\n",
      "preparing: 100%|########################################################################| 35/35 [00:04<00:00,  7.19it/s]"
     ]
    },
    {
     "name": "stdout",
     "output_type": "stream",
     "text": [
      "\n",
      "Preparing calculation relax_box branch main\n",
      "Using potential #s 0 to 0\n",
      "\n",
      "0 existing calculation records provided\n"
     ]
    },
    {
     "name": "stderr",
     "output_type": "stream",
     "text": [
      "\n"
     ]
    },
    {
     "name": "stdout",
     "output_type": "stream",
     "text": [
      "6587 matching atomic references found\n",
      "1 matching interatomic potentials found\n",
      "1 matching interatomic potentials found\n",
      "10 matching atomic parents found\n"
     ]
    },
    {
     "name": "stderr",
     "output_type": "stream",
     "text": [
      "100%|███████████████████████████████████████████████████████████████████████████████████| 10/10 [00:02<00:00,  3.72it/s]"
     ]
    },
    {
     "name": "stdout",
     "output_type": "stream",
     "text": [
      "10 calculation combinations to check\n",
      "10 new records to prepare\n"
     ]
    },
    {
     "name": "stderr",
     "output_type": "stream",
     "text": [
      "\n",
      "preparing: 100%|########################################################################| 10/10 [00:00<00:00, 14.96it/s]\n"
     ]
    },
    {
     "name": "stdout",
     "output_type": "stream",
     "text": [
      "\n",
      "1278e074-ec70-47cf-9b01-15a20910c3e4\n",
      "sim calculated successfully\n",
      "\n",
      "1bae9540-b9c5-4c24-96f7-b5c5eefe3768\n",
      "sim calculated successfully\n",
      "\n",
      "53b3d6e3-cebf-44fd-b14c-2a7727cbe930\n",
      "sim calculated successfully\n",
      "\n",
      "56a0fd49-2310-4d8d-9291-b5c51a15a47f\n",
      "sim calculated successfully\n",
      "\n",
      "78703492-6876-4983-9b7f-21882e215490\n",
      "sim calculated successfully\n",
      "\n",
      "d4a9c911-10f5-4c27-ab3a-1e1002bfc172\n",
      "sim calculated successfully\n",
      "\n",
      "1978c997-ee57-4834-80c1-db0ae1325f4f\n",
      "sim calculated successfully\n",
      "\n",
      "c849a35c-0ca8-4a7a-bec5-9584492a79db\n",
      "sim calculated successfully\n",
      "\n",
      "0a7eb1e9-b9f4-4495-9c37-c6ea5eb8f063\n",
      "sim calculated successfully\n",
      "\n",
      "e27515a0-3fff-4d34-b6ab-5a317b472165\n",
      "sim calculated successfully\n",
      "\n",
      "ec114ecb-142b-4c14-8337-d17942d37a80\n",
      "sim calculated successfully\n",
      "\n",
      "aadbd8b3-221b-41e4-a7bc-8180d1ceaec6\n",
      "sim calculated successfully\n",
      "\n",
      "91fce590-010f-4a66-9e46-022ff922c919\n",
      "sim calculated successfully\n",
      "\n",
      "b0af51ed-867a-4ab3-aa6c-9d08bf029eca\n",
      "sim calculated successfully\n",
      "\n",
      "84846ecf-8a49-4484-bfe6-48713afa3cae\n",
      "sim calculated successfully\n",
      "\n",
      "f6700eeb-80ea-4829-97c8-eb6f03715230\n",
      "sim calculated successfully\n",
      "\n",
      "9d45b8a6-aedc-401a-999a-e80fd35fe3a2\n",
      "sim calculated successfully\n",
      "\n",
      "6d4f8aa2-106e-44ce-93cc-30bb315f695d\n",
      "sim calculated successfully\n",
      "\n",
      "ae961704-ab1c-4269-98f0-3ce2d80d21f7\n",
      "sim calculated successfully\n",
      "\n",
      "2ca2b299-834e-4372-b525-6ae333488609\n",
      "sim calculated successfully\n",
      "\n",
      "643d2bf8-72c1-41dc-9a5f-6e5b7d95d083\n",
      "sim calculated successfully\n",
      "\n",
      "370a5b9d-a329-4aaa-a7e3-d49b270ce368\n",
      "sim calculated successfully\n",
      "\n",
      "7a8d80a3-f486-4994-9fc8-1563c0cd003d\n",
      "sim calculated successfully\n",
      "\n",
      "9afb9a90-d6ad-43a0-a812-9d6620199ce3\n",
      "sim calculated successfully\n",
      "\n",
      "d5993cdc-b40c-464c-8479-b0c8e43c2ce7\n",
      "sim calculated successfully\n",
      "\n",
      "27ce36de-48f3-4923-83c1-f4298f554150\n",
      "sim calculated successfully\n",
      "\n",
      "a2b6f0e9-3997-4ff7-be3a-4db6405d57e7\n",
      "sim calculated successfully\n",
      "\n",
      "8a15339e-257e-4525-89b9-0445fbb70b90\n",
      "sim calculated successfully\n",
      "\n",
      "9ea59705-7524-494a-87d8-3cbee61bfa43\n",
      "sim calculated successfully\n",
      "\n",
      "fe996bb7-625a-4120-b2ce-6fdeb202de1b\n",
      "sim calculated successfully\n",
      "\n",
      "df41afaf-4db4-44a6-abe5-93d4b7e7a3d8\n",
      "sim calculated successfully\n",
      "\n",
      "b5d041cd-e829-4808-9ff4-94c35f9267ae\n",
      "sim calculated successfully\n",
      "\n",
      "3308f257-f6f7-4dca-b90a-7cf3da015ec7\n",
      "sim calculated successfully\n",
      "\n",
      "ae5def0d-6bab-4f1f-8348-62d186f4b090\n",
      "sim calculated successfully\n",
      "\n",
      "e0effc98-5be8-4b4b-af3e-61fb505d4cc8\n",
      "sim calculated successfully\n",
      "\n",
      "44318315-8905-41a9-9d4c-701779ec4af0\n",
      "sim calculated successfully\n",
      "\n",
      "27730d73-8ad1-40ab-a124-ca3849960b7e\n",
      "sim calculated successfully\n",
      "\n",
      "ca93b03c-7ffe-449b-888e-3c3ba84a935d\n",
      "sim calculated successfully\n",
      "\n",
      "9a630e2b-36f2-41a7-b4e0-0fb2237ddcd0\n",
      "sim calculated successfully\n",
      "\n",
      "ad55c975-85b2-4616-9886-f8e67a80afab\n",
      "sim calculated successfully\n",
      "\n",
      "d9594e58-e195-4cc3-bacf-bb4d03dc1d48\n",
      "sim calculated successfully\n",
      "\n",
      "f23e2f36-ab9d-49f6-b86b-536fd20f09ff\n",
      "sim calculated successfully\n",
      "\n",
      "97d10c0b-87ce-444d-8a46-e657b00abf21\n",
      "sim calculated successfully\n",
      "\n",
      "11d4de3b-d9ce-452f-9b46-e58179363c52\n",
      "sim calculated successfully\n",
      "\n",
      "d6639f55-9369-4649-ac58-ba9b8180b82f\n",
      "sim calculated successfully\n",
      "\n",
      "837cd715-bf01-4cac-99ea-166d19699ead\n",
      "sim calculated successfully\n",
      "\n",
      "a4193689-2ee6-46a7-aa7d-24deb46c93a4\n",
      "sim calculated successfully\n",
      "\n",
      "07964e57-5a3e-46ac-9e79-5d3970a38dcc\n",
      "sim calculated successfully\n",
      "\n",
      "baaee350-d16f-4c1d-a7a0-55dc58ce1bcf\n",
      "sim calculated successfully\n",
      "\n",
      "b7470347-e9a0-4370-950e-47f3c35afd0f\n",
      "sim calculated successfully\n",
      "\n",
      "f4ff662e-935a-4b18-9935-5d20602d48e1\n",
      "sim calculated successfully\n",
      "\n",
      "f87af6ba-7270-4214-bc60-e3837d3805f5\n",
      "sim calculated successfully\n",
      "\n",
      "12c54ac3-26fe-49cd-a3db-95578efc0837\n",
      "sim calculated successfully\n",
      "\n",
      "05da1421-a098-4fc5-b584-80634468c39c\n",
      "sim calculated successfully\n",
      "\n",
      "e5c1ab30-fa74-4cce-b067-06aec367bd2a\n",
      "sim calculated successfully\n",
      "\n",
      "1 potential ids found\n",
      "Preparing calculation crystal_space_group branch relax\n",
      "Using potential #s 0 to 0\n",
      "\n",
      "0 existing calculation records provided\n",
      "35 matching atomic archives found\n",
      "10 matching atomic archives found\n"
     ]
    },
    {
     "name": "stderr",
     "output_type": "stream",
     "text": [
      "100%|█████████████████████████████████████████████████████████████████████████████████| 45/45 [00:00<00:00, 4711.29it/s]"
     ]
    },
    {
     "name": "stdout",
     "output_type": "stream",
     "text": [
      "45 calculation combinations to check\n",
      "45 new records to prepare\n"
     ]
    },
    {
     "name": "stderr",
     "output_type": "stream",
     "text": [
      "\n",
      "preparing: 100%|########################################################################| 45/45 [00:03<00:00, 12.09it/s]\n"
     ]
    },
    {
     "name": "stdout",
     "output_type": "stream",
     "text": [
      "\n",
      "1937cff6-2a59-4d34-95e2-0ba35cd352b8\n",
      "error: 'SpaceGroupType' object does not support item assignment\n"
     ]
    },
    {
     "name": "stderr",
     "output_type": "stream",
     "text": [
      "/home/lmh1/anaconda3/envs/ipr/lib/python3.11/site-packages/spglib/spglib.py:115: DeprecationWarning: dict interface (SpglibDataset['mapping_to_primitive']) is deprecated.Use attribute interface ({self.__class__.__name__}.{key}) instead\n",
      "  warnings.warn(\n",
      "/home/lmh1/anaconda3/envs/ipr/lib/python3.11/site-packages/spglib/spglib.py:115: DeprecationWarning: dict interface (SpglibDataset['std_mapping_to_primitive']) is deprecated.Use attribute interface ({self.__class__.__name__}.{key}) instead\n",
      "  warnings.warn(\n",
      "/home/lmh1/anaconda3/envs/ipr/lib/python3.11/site-packages/spglib/spglib.py:115: DeprecationWarning: dict interface (SpglibDataset['hall_number']) is deprecated.Use attribute interface ({self.__class__.__name__}.{key}) instead\n",
      "  warnings.warn(\n",
      "/home/lmh1/anaconda3/envs/ipr/lib/python3.11/site-packages/spglib/spglib.py:115: DeprecationWarning: dict interface (SpaceGroupType['number']) is deprecated.Use attribute interface ({self.__class__.__name__}.{key}) instead\n",
      "  warnings.warn(\n",
      "/home/lmh1/anaconda3/envs/ipr/lib/python3.11/site-packages/spglib/spglib.py:115: DeprecationWarning: dict interface (SpaceGroupType['international']) is deprecated.Use attribute interface ({self.__class__.__name__}.{key}) instead\n",
      "  warnings.warn(\n",
      "/home/lmh1/anaconda3/envs/ipr/lib/python3.11/site-packages/spglib/spglib.py:115: DeprecationWarning: dict interface (SpglibDataset['equivalent_atoms']) is deprecated.Use attribute interface ({self.__class__.__name__}.{key}) instead\n",
      "  warnings.warn(\n",
      "/home/lmh1/anaconda3/envs/ipr/lib/python3.11/site-packages/spglib/spglib.py:115: DeprecationWarning: dict interface (SpglibDataset['wyckoffs']) is deprecated.Use attribute interface ({self.__class__.__name__}.{key}) instead\n",
      "  warnings.warn(\n"
     ]
    },
    {
     "name": "stdout",
     "output_type": "stream",
     "text": [
      "6f0bdb19-44bd-49e4-8ce3-a586a9443f69\n",
      "error: 'SpaceGroupType' object does not support item assignment\n"
     ]
    },
    {
     "name": "stderr",
     "output_type": "stream",
     "text": [
      "/home/lmh1/anaconda3/envs/ipr/lib/python3.11/site-packages/spglib/spglib.py:115: DeprecationWarning: dict interface (SpglibDataset['mapping_to_primitive']) is deprecated.Use attribute interface ({self.__class__.__name__}.{key}) instead\n",
      "  warnings.warn(\n",
      "/home/lmh1/anaconda3/envs/ipr/lib/python3.11/site-packages/spglib/spglib.py:115: DeprecationWarning: dict interface (SpglibDataset['std_mapping_to_primitive']) is deprecated.Use attribute interface ({self.__class__.__name__}.{key}) instead\n",
      "  warnings.warn(\n",
      "/home/lmh1/anaconda3/envs/ipr/lib/python3.11/site-packages/spglib/spglib.py:115: DeprecationWarning: dict interface (SpglibDataset['hall_number']) is deprecated.Use attribute interface ({self.__class__.__name__}.{key}) instead\n",
      "  warnings.warn(\n",
      "/home/lmh1/anaconda3/envs/ipr/lib/python3.11/site-packages/spglib/spglib.py:115: DeprecationWarning: dict interface (SpaceGroupType['number']) is deprecated.Use attribute interface ({self.__class__.__name__}.{key}) instead\n",
      "  warnings.warn(\n",
      "/home/lmh1/anaconda3/envs/ipr/lib/python3.11/site-packages/spglib/spglib.py:115: DeprecationWarning: dict interface (SpaceGroupType['international']) is deprecated.Use attribute interface ({self.__class__.__name__}.{key}) instead\n",
      "  warnings.warn(\n",
      "/home/lmh1/anaconda3/envs/ipr/lib/python3.11/site-packages/spglib/spglib.py:115: DeprecationWarning: dict interface (SpglibDataset['equivalent_atoms']) is deprecated.Use attribute interface ({self.__class__.__name__}.{key}) instead\n",
      "  warnings.warn(\n",
      "/home/lmh1/anaconda3/envs/ipr/lib/python3.11/site-packages/spglib/spglib.py:115: DeprecationWarning: dict interface (SpglibDataset['wyckoffs']) is deprecated.Use attribute interface ({self.__class__.__name__}.{key}) instead\n",
      "  warnings.warn(\n"
     ]
    },
    {
     "name": "stdout",
     "output_type": "stream",
     "text": [
      "990838de-c46a-47ca-a50c-cc3869971f4f\n",
      "error: 'SpaceGroupType' object does not support item assignment\n"
     ]
    },
    {
     "name": "stderr",
     "output_type": "stream",
     "text": [
      "/home/lmh1/anaconda3/envs/ipr/lib/python3.11/site-packages/spglib/spglib.py:115: DeprecationWarning: dict interface (SpglibDataset['mapping_to_primitive']) is deprecated.Use attribute interface ({self.__class__.__name__}.{key}) instead\n",
      "  warnings.warn(\n",
      "/home/lmh1/anaconda3/envs/ipr/lib/python3.11/site-packages/spglib/spglib.py:115: DeprecationWarning: dict interface (SpglibDataset['std_mapping_to_primitive']) is deprecated.Use attribute interface ({self.__class__.__name__}.{key}) instead\n",
      "  warnings.warn(\n",
      "/home/lmh1/anaconda3/envs/ipr/lib/python3.11/site-packages/spglib/spglib.py:115: DeprecationWarning: dict interface (SpglibDataset['hall_number']) is deprecated.Use attribute interface ({self.__class__.__name__}.{key}) instead\n",
      "  warnings.warn(\n",
      "/home/lmh1/anaconda3/envs/ipr/lib/python3.11/site-packages/spglib/spglib.py:115: DeprecationWarning: dict interface (SpaceGroupType['number']) is deprecated.Use attribute interface ({self.__class__.__name__}.{key}) instead\n",
      "  warnings.warn(\n",
      "/home/lmh1/anaconda3/envs/ipr/lib/python3.11/site-packages/spglib/spglib.py:115: DeprecationWarning: dict interface (SpaceGroupType['international']) is deprecated.Use attribute interface ({self.__class__.__name__}.{key}) instead\n",
      "  warnings.warn(\n",
      "/home/lmh1/anaconda3/envs/ipr/lib/python3.11/site-packages/spglib/spglib.py:115: DeprecationWarning: dict interface (SpglibDataset['equivalent_atoms']) is deprecated.Use attribute interface ({self.__class__.__name__}.{key}) instead\n",
      "  warnings.warn(\n",
      "/home/lmh1/anaconda3/envs/ipr/lib/python3.11/site-packages/spglib/spglib.py:115: DeprecationWarning: dict interface (SpglibDataset['wyckoffs']) is deprecated.Use attribute interface ({self.__class__.__name__}.{key}) instead\n",
      "  warnings.warn(\n"
     ]
    },
    {
     "name": "stdout",
     "output_type": "stream",
     "text": [
      "a2501216-034b-473a-bc3d-ba7154441bfe\n",
      "error: 'SpaceGroupType' object does not support item assignment"
     ]
    },
    {
     "name": "stderr",
     "output_type": "stream",
     "text": [
      "/home/lmh1/anaconda3/envs/ipr/lib/python3.11/site-packages/spglib/spglib.py:115: DeprecationWarning: dict interface (SpglibDataset['mapping_to_primitive']) is deprecated.Use attribute interface ({self.__class__.__name__}.{key}) instead\n",
      "  warnings.warn(\n",
      "/home/lmh1/anaconda3/envs/ipr/lib/python3.11/site-packages/spglib/spglib.py:115: DeprecationWarning: dict interface (SpglibDataset['std_mapping_to_primitive']) is deprecated.Use attribute interface ({self.__class__.__name__}.{key}) instead\n",
      "  warnings.warn(\n",
      "/home/lmh1/anaconda3/envs/ipr/lib/python3.11/site-packages/spglib/spglib.py:115: DeprecationWarning: dict interface (SpglibDataset['hall_number']) is deprecated.Use attribute interface ({self.__class__.__name__}.{key}) instead\n",
      "  warnings.warn(\n",
      "/home/lmh1/anaconda3/envs/ipr/lib/python3.11/site-packages/spglib/spglib.py:115: DeprecationWarning: dict interface (SpaceGroupType['number']) is deprecated.Use attribute interface ({self.__class__.__name__}.{key}) instead\n",
      "  warnings.warn(\n",
      "/home/lmh1/anaconda3/envs/ipr/lib/python3.11/site-packages/spglib/spglib.py:115: DeprecationWarning: dict interface (SpaceGroupType['international']) is deprecated.Use attribute interface ({self.__class__.__name__}.{key}) instead\n",
      "  warnings.warn(\n",
      "/home/lmh1/anaconda3/envs/ipr/lib/python3.11/site-packages/spglib/spglib.py:115: DeprecationWarning: dict interface (SpglibDataset['equivalent_atoms']) is deprecated.Use attribute interface ({self.__class__.__name__}.{key}) instead\n",
      "  warnings.warn(\n",
      "/home/lmh1/anaconda3/envs/ipr/lib/python3.11/site-packages/spglib/spglib.py:115: DeprecationWarning: dict interface (SpglibDataset['wyckoffs']) is deprecated.Use attribute interface ({self.__class__.__name__}.{key}) instead\n",
      "  warnings.warn(\n"
     ]
    },
    {
     "name": "stdout",
     "output_type": "stream",
     "text": [
      "\n",
      "86f8d909-3d8d-4f32-8f98-232fa713927b\n",
      "error: 'SpaceGroupType' object does not support item assignment\n"
     ]
    },
    {
     "name": "stderr",
     "output_type": "stream",
     "text": [
      "/home/lmh1/anaconda3/envs/ipr/lib/python3.11/site-packages/spglib/spglib.py:115: DeprecationWarning: dict interface (SpglibDataset['mapping_to_primitive']) is deprecated.Use attribute interface ({self.__class__.__name__}.{key}) instead\n",
      "  warnings.warn(\n",
      "/home/lmh1/anaconda3/envs/ipr/lib/python3.11/site-packages/spglib/spglib.py:115: DeprecationWarning: dict interface (SpglibDataset['std_mapping_to_primitive']) is deprecated.Use attribute interface ({self.__class__.__name__}.{key}) instead\n",
      "  warnings.warn(\n",
      "/home/lmh1/anaconda3/envs/ipr/lib/python3.11/site-packages/spglib/spglib.py:115: DeprecationWarning: dict interface (SpglibDataset['hall_number']) is deprecated.Use attribute interface ({self.__class__.__name__}.{key}) instead\n",
      "  warnings.warn(\n",
      "/home/lmh1/anaconda3/envs/ipr/lib/python3.11/site-packages/spglib/spglib.py:115: DeprecationWarning: dict interface (SpaceGroupType['number']) is deprecated.Use attribute interface ({self.__class__.__name__}.{key}) instead\n",
      "  warnings.warn(\n",
      "/home/lmh1/anaconda3/envs/ipr/lib/python3.11/site-packages/spglib/spglib.py:115: DeprecationWarning: dict interface (SpaceGroupType['international']) is deprecated.Use attribute interface ({self.__class__.__name__}.{key}) instead\n",
      "  warnings.warn(\n",
      "/home/lmh1/anaconda3/envs/ipr/lib/python3.11/site-packages/spglib/spglib.py:115: DeprecationWarning: dict interface (SpglibDataset['equivalent_atoms']) is deprecated.Use attribute interface ({self.__class__.__name__}.{key}) instead\n",
      "  warnings.warn(\n",
      "/home/lmh1/anaconda3/envs/ipr/lib/python3.11/site-packages/spglib/spglib.py:115: DeprecationWarning: dict interface (SpglibDataset['wyckoffs']) is deprecated.Use attribute interface ({self.__class__.__name__}.{key}) instead\n",
      "  warnings.warn(\n"
     ]
    },
    {
     "name": "stdout",
     "output_type": "stream",
     "text": [
      "fce03ae8-1853-429f-a326-2e3cd5d5e64f\n",
      "error: 'SpaceGroupType' object does not support item assignment\n"
     ]
    },
    {
     "name": "stderr",
     "output_type": "stream",
     "text": [
      "/home/lmh1/anaconda3/envs/ipr/lib/python3.11/site-packages/spglib/spglib.py:115: DeprecationWarning: dict interface (SpglibDataset['mapping_to_primitive']) is deprecated.Use attribute interface ({self.__class__.__name__}.{key}) instead\n",
      "  warnings.warn(\n",
      "/home/lmh1/anaconda3/envs/ipr/lib/python3.11/site-packages/spglib/spglib.py:115: DeprecationWarning: dict interface (SpglibDataset['std_mapping_to_primitive']) is deprecated.Use attribute interface ({self.__class__.__name__}.{key}) instead\n",
      "  warnings.warn(\n",
      "/home/lmh1/anaconda3/envs/ipr/lib/python3.11/site-packages/spglib/spglib.py:115: DeprecationWarning: dict interface (SpglibDataset['hall_number']) is deprecated.Use attribute interface ({self.__class__.__name__}.{key}) instead\n",
      "  warnings.warn(\n",
      "/home/lmh1/anaconda3/envs/ipr/lib/python3.11/site-packages/spglib/spglib.py:115: DeprecationWarning: dict interface (SpaceGroupType['number']) is deprecated.Use attribute interface ({self.__class__.__name__}.{key}) instead\n",
      "  warnings.warn(\n",
      "/home/lmh1/anaconda3/envs/ipr/lib/python3.11/site-packages/spglib/spglib.py:115: DeprecationWarning: dict interface (SpaceGroupType['international']) is deprecated.Use attribute interface ({self.__class__.__name__}.{key}) instead\n",
      "  warnings.warn(\n",
      "/home/lmh1/anaconda3/envs/ipr/lib/python3.11/site-packages/spglib/spglib.py:115: DeprecationWarning: dict interface (SpglibDataset['equivalent_atoms']) is deprecated.Use attribute interface ({self.__class__.__name__}.{key}) instead\n",
      "  warnings.warn(\n",
      "/home/lmh1/anaconda3/envs/ipr/lib/python3.11/site-packages/spglib/spglib.py:115: DeprecationWarning: dict interface (SpglibDataset['wyckoffs']) is deprecated.Use attribute interface ({self.__class__.__name__}.{key}) instead\n",
      "  warnings.warn(\n"
     ]
    },
    {
     "name": "stdout",
     "output_type": "stream",
     "text": [
      "412bbb35-aa29-4c5b-ae49-f1236e59d045\n",
      "error: 'SpaceGroupType' object does not support item assignment\n"
     ]
    },
    {
     "name": "stderr",
     "output_type": "stream",
     "text": [
      "/home/lmh1/anaconda3/envs/ipr/lib/python3.11/site-packages/spglib/spglib.py:115: DeprecationWarning: dict interface (SpglibDataset['mapping_to_primitive']) is deprecated.Use attribute interface ({self.__class__.__name__}.{key}) instead\n",
      "  warnings.warn(\n",
      "/home/lmh1/anaconda3/envs/ipr/lib/python3.11/site-packages/spglib/spglib.py:115: DeprecationWarning: dict interface (SpglibDataset['std_mapping_to_primitive']) is deprecated.Use attribute interface ({self.__class__.__name__}.{key}) instead\n",
      "  warnings.warn(\n",
      "/home/lmh1/anaconda3/envs/ipr/lib/python3.11/site-packages/spglib/spglib.py:115: DeprecationWarning: dict interface (SpglibDataset['hall_number']) is deprecated.Use attribute interface ({self.__class__.__name__}.{key}) instead\n",
      "  warnings.warn(\n",
      "/home/lmh1/anaconda3/envs/ipr/lib/python3.11/site-packages/spglib/spglib.py:115: DeprecationWarning: dict interface (SpaceGroupType['number']) is deprecated.Use attribute interface ({self.__class__.__name__}.{key}) instead\n",
      "  warnings.warn(\n",
      "/home/lmh1/anaconda3/envs/ipr/lib/python3.11/site-packages/spglib/spglib.py:115: DeprecationWarning: dict interface (SpaceGroupType['international']) is deprecated.Use attribute interface ({self.__class__.__name__}.{key}) instead\n",
      "  warnings.warn(\n",
      "/home/lmh1/anaconda3/envs/ipr/lib/python3.11/site-packages/spglib/spglib.py:115: DeprecationWarning: dict interface (SpglibDataset['equivalent_atoms']) is deprecated.Use attribute interface ({self.__class__.__name__}.{key}) instead\n",
      "  warnings.warn(\n",
      "/home/lmh1/anaconda3/envs/ipr/lib/python3.11/site-packages/spglib/spglib.py:115: DeprecationWarning: dict interface (SpglibDataset['wyckoffs']) is deprecated.Use attribute interface ({self.__class__.__name__}.{key}) instead\n",
      "  warnings.warn(\n"
     ]
    },
    {
     "name": "stdout",
     "output_type": "stream",
     "text": [
      "93284b23-c7e1-468d-8721-0f74a4381ea1\n"
     ]
    },
    {
     "name": "stderr",
     "output_type": "stream",
     "text": [
      "/home/lmh1/anaconda3/envs/ipr/lib/python3.11/site-packages/spglib/spglib.py:115: DeprecationWarning: dict interface (SpglibDataset['mapping_to_primitive']) is deprecated.Use attribute interface ({self.__class__.__name__}.{key}) instead\n",
      "  warnings.warn(\n",
      "/home/lmh1/anaconda3/envs/ipr/lib/python3.11/site-packages/spglib/spglib.py:115: DeprecationWarning: dict interface (SpglibDataset['std_mapping_to_primitive']) is deprecated.Use attribute interface ({self.__class__.__name__}.{key}) instead\n",
      "  warnings.warn(\n"
     ]
    },
    {
     "name": "stdout",
     "output_type": "stream",
     "text": [
      "error: 'SpaceGroupType' object does not support item assignment"
     ]
    },
    {
     "name": "stderr",
     "output_type": "stream",
     "text": [
      "/home/lmh1/anaconda3/envs/ipr/lib/python3.11/site-packages/spglib/spglib.py:115: DeprecationWarning: dict interface (SpglibDataset['hall_number']) is deprecated.Use attribute interface ({self.__class__.__name__}.{key}) instead\n",
      "  warnings.warn(\n",
      "/home/lmh1/anaconda3/envs/ipr/lib/python3.11/site-packages/spglib/spglib.py:115: DeprecationWarning: dict interface (SpaceGroupType['number']) is deprecated.Use attribute interface ({self.__class__.__name__}.{key}) instead\n",
      "  warnings.warn(\n",
      "/home/lmh1/anaconda3/envs/ipr/lib/python3.11/site-packages/spglib/spglib.py:115: DeprecationWarning: dict interface (SpaceGroupType['international']) is deprecated.Use attribute interface ({self.__class__.__name__}.{key}) instead\n",
      "  warnings.warn(\n",
      "/home/lmh1/anaconda3/envs/ipr/lib/python3.11/site-packages/spglib/spglib.py:115: DeprecationWarning: dict interface (SpglibDataset['equivalent_atoms']) is deprecated.Use attribute interface ({self.__class__.__name__}.{key}) instead\n",
      "  warnings.warn(\n",
      "/home/lmh1/anaconda3/envs/ipr/lib/python3.11/site-packages/spglib/spglib.py:115: DeprecationWarning: dict interface (SpglibDataset['wyckoffs']) is deprecated.Use attribute interface ({self.__class__.__name__}.{key}) instead\n",
      "  warnings.warn(\n"
     ]
    },
    {
     "name": "stdout",
     "output_type": "stream",
     "text": [
      "\n",
      "47439f1f-0a23-420e-a71e-445bd900a426\n",
      "error: 'SpaceGroupType' object does not support item assignment\n"
     ]
    },
    {
     "name": "stderr",
     "output_type": "stream",
     "text": [
      "/home/lmh1/anaconda3/envs/ipr/lib/python3.11/site-packages/spglib/spglib.py:115: DeprecationWarning: dict interface (SpglibDataset['mapping_to_primitive']) is deprecated.Use attribute interface ({self.__class__.__name__}.{key}) instead\n",
      "  warnings.warn(\n",
      "/home/lmh1/anaconda3/envs/ipr/lib/python3.11/site-packages/spglib/spglib.py:115: DeprecationWarning: dict interface (SpglibDataset['std_mapping_to_primitive']) is deprecated.Use attribute interface ({self.__class__.__name__}.{key}) instead\n",
      "  warnings.warn(\n",
      "/home/lmh1/anaconda3/envs/ipr/lib/python3.11/site-packages/spglib/spglib.py:115: DeprecationWarning: dict interface (SpglibDataset['hall_number']) is deprecated.Use attribute interface ({self.__class__.__name__}.{key}) instead\n",
      "  warnings.warn(\n",
      "/home/lmh1/anaconda3/envs/ipr/lib/python3.11/site-packages/spglib/spglib.py:115: DeprecationWarning: dict interface (SpaceGroupType['number']) is deprecated.Use attribute interface ({self.__class__.__name__}.{key}) instead\n",
      "  warnings.warn(\n",
      "/home/lmh1/anaconda3/envs/ipr/lib/python3.11/site-packages/spglib/spglib.py:115: DeprecationWarning: dict interface (SpaceGroupType['international']) is deprecated.Use attribute interface ({self.__class__.__name__}.{key}) instead\n",
      "  warnings.warn(\n",
      "/home/lmh1/anaconda3/envs/ipr/lib/python3.11/site-packages/spglib/spglib.py:115: DeprecationWarning: dict interface (SpglibDataset['equivalent_atoms']) is deprecated.Use attribute interface ({self.__class__.__name__}.{key}) instead\n",
      "  warnings.warn(\n",
      "/home/lmh1/anaconda3/envs/ipr/lib/python3.11/site-packages/spglib/spglib.py:115: DeprecationWarning: dict interface (SpglibDataset['wyckoffs']) is deprecated.Use attribute interface ({self.__class__.__name__}.{key}) instead\n",
      "  warnings.warn(\n"
     ]
    },
    {
     "name": "stdout",
     "output_type": "stream",
     "text": [
      "791ecab6-f56b-42cf-badd-dcc442a6c89d\n",
      "error: 'SpaceGroupType' object does not support item assignment\n"
     ]
    },
    {
     "name": "stderr",
     "output_type": "stream",
     "text": [
      "/home/lmh1/anaconda3/envs/ipr/lib/python3.11/site-packages/spglib/spglib.py:115: DeprecationWarning: dict interface (SpglibDataset['mapping_to_primitive']) is deprecated.Use attribute interface ({self.__class__.__name__}.{key}) instead\n",
      "  warnings.warn(\n",
      "/home/lmh1/anaconda3/envs/ipr/lib/python3.11/site-packages/spglib/spglib.py:115: DeprecationWarning: dict interface (SpglibDataset['std_mapping_to_primitive']) is deprecated.Use attribute interface ({self.__class__.__name__}.{key}) instead\n",
      "  warnings.warn(\n",
      "/home/lmh1/anaconda3/envs/ipr/lib/python3.11/site-packages/spglib/spglib.py:115: DeprecationWarning: dict interface (SpglibDataset['hall_number']) is deprecated.Use attribute interface ({self.__class__.__name__}.{key}) instead\n",
      "  warnings.warn(\n",
      "/home/lmh1/anaconda3/envs/ipr/lib/python3.11/site-packages/spglib/spglib.py:115: DeprecationWarning: dict interface (SpaceGroupType['number']) is deprecated.Use attribute interface ({self.__class__.__name__}.{key}) instead\n",
      "  warnings.warn(\n",
      "/home/lmh1/anaconda3/envs/ipr/lib/python3.11/site-packages/spglib/spglib.py:115: DeprecationWarning: dict interface (SpaceGroupType['international']) is deprecated.Use attribute interface ({self.__class__.__name__}.{key}) instead\n",
      "  warnings.warn(\n",
      "/home/lmh1/anaconda3/envs/ipr/lib/python3.11/site-packages/spglib/spglib.py:115: DeprecationWarning: dict interface (SpglibDataset['equivalent_atoms']) is deprecated.Use attribute interface ({self.__class__.__name__}.{key}) instead\n",
      "  warnings.warn(\n",
      "/home/lmh1/anaconda3/envs/ipr/lib/python3.11/site-packages/spglib/spglib.py:115: DeprecationWarning: dict interface (SpglibDataset['wyckoffs']) is deprecated.Use attribute interface ({self.__class__.__name__}.{key}) instead\n",
      "  warnings.warn(\n"
     ]
    },
    {
     "name": "stdout",
     "output_type": "stream",
     "text": [
      "d3fb5a75-aa33-404a-a5bd-ee7ba6618fa8\n",
      "error: 'SpaceGroupType' object does not support item assignment\n"
     ]
    },
    {
     "name": "stderr",
     "output_type": "stream",
     "text": [
      "/home/lmh1/anaconda3/envs/ipr/lib/python3.11/site-packages/spglib/spglib.py:115: DeprecationWarning: dict interface (SpglibDataset['mapping_to_primitive']) is deprecated.Use attribute interface ({self.__class__.__name__}.{key}) instead\n",
      "  warnings.warn(\n",
      "/home/lmh1/anaconda3/envs/ipr/lib/python3.11/site-packages/spglib/spglib.py:115: DeprecationWarning: dict interface (SpglibDataset['std_mapping_to_primitive']) is deprecated.Use attribute interface ({self.__class__.__name__}.{key}) instead\n",
      "  warnings.warn(\n",
      "/home/lmh1/anaconda3/envs/ipr/lib/python3.11/site-packages/spglib/spglib.py:115: DeprecationWarning: dict interface (SpglibDataset['hall_number']) is deprecated.Use attribute interface ({self.__class__.__name__}.{key}) instead\n",
      "  warnings.warn(\n",
      "/home/lmh1/anaconda3/envs/ipr/lib/python3.11/site-packages/spglib/spglib.py:115: DeprecationWarning: dict interface (SpaceGroupType['number']) is deprecated.Use attribute interface ({self.__class__.__name__}.{key}) instead\n",
      "  warnings.warn(\n",
      "/home/lmh1/anaconda3/envs/ipr/lib/python3.11/site-packages/spglib/spglib.py:115: DeprecationWarning: dict interface (SpaceGroupType['international']) is deprecated.Use attribute interface ({self.__class__.__name__}.{key}) instead\n",
      "  warnings.warn(\n",
      "/home/lmh1/anaconda3/envs/ipr/lib/python3.11/site-packages/spglib/spglib.py:115: DeprecationWarning: dict interface (SpglibDataset['equivalent_atoms']) is deprecated.Use attribute interface ({self.__class__.__name__}.{key}) instead\n",
      "  warnings.warn(\n",
      "/home/lmh1/anaconda3/envs/ipr/lib/python3.11/site-packages/spglib/spglib.py:115: DeprecationWarning: dict interface (SpglibDataset['wyckoffs']) is deprecated.Use attribute interface ({self.__class__.__name__}.{key}) instead\n",
      "  warnings.warn(\n"
     ]
    },
    {
     "name": "stdout",
     "output_type": "stream",
     "text": [
      "e6d0a894-0376-418f-bd01-c29d2f35fc85\n",
      "error: 'SpaceGroupType' object does not support item assignment\n"
     ]
    },
    {
     "name": "stderr",
     "output_type": "stream",
     "text": [
      "/home/lmh1/anaconda3/envs/ipr/lib/python3.11/site-packages/spglib/spglib.py:115: DeprecationWarning: dict interface (SpglibDataset['mapping_to_primitive']) is deprecated.Use attribute interface ({self.__class__.__name__}.{key}) instead\n",
      "  warnings.warn(\n",
      "/home/lmh1/anaconda3/envs/ipr/lib/python3.11/site-packages/spglib/spglib.py:115: DeprecationWarning: dict interface (SpglibDataset['std_mapping_to_primitive']) is deprecated.Use attribute interface ({self.__class__.__name__}.{key}) instead\n",
      "  warnings.warn(\n",
      "/home/lmh1/anaconda3/envs/ipr/lib/python3.11/site-packages/spglib/spglib.py:115: DeprecationWarning: dict interface (SpglibDataset['hall_number']) is deprecated.Use attribute interface ({self.__class__.__name__}.{key}) instead\n",
      "  warnings.warn(\n",
      "/home/lmh1/anaconda3/envs/ipr/lib/python3.11/site-packages/spglib/spglib.py:115: DeprecationWarning: dict interface (SpaceGroupType['number']) is deprecated.Use attribute interface ({self.__class__.__name__}.{key}) instead\n",
      "  warnings.warn(\n",
      "/home/lmh1/anaconda3/envs/ipr/lib/python3.11/site-packages/spglib/spglib.py:115: DeprecationWarning: dict interface (SpaceGroupType['international']) is deprecated.Use attribute interface ({self.__class__.__name__}.{key}) instead\n",
      "  warnings.warn(\n",
      "/home/lmh1/anaconda3/envs/ipr/lib/python3.11/site-packages/spglib/spglib.py:115: DeprecationWarning: dict interface (SpglibDataset['equivalent_atoms']) is deprecated.Use attribute interface ({self.__class__.__name__}.{key}) instead\n",
      "  warnings.warn(\n",
      "/home/lmh1/anaconda3/envs/ipr/lib/python3.11/site-packages/spglib/spglib.py:115: DeprecationWarning: dict interface (SpglibDataset['wyckoffs']) is deprecated.Use attribute interface ({self.__class__.__name__}.{key}) instead\n",
      "  warnings.warn(\n"
     ]
    },
    {
     "name": "stdout",
     "output_type": "stream",
     "text": [
      "a462e637-5dd3-4eed-89f4-ff7c4d69f8e8\n",
      "error: 'SpaceGroupType' object does not support item assignment\n"
     ]
    },
    {
     "name": "stderr",
     "output_type": "stream",
     "text": [
      "/home/lmh1/anaconda3/envs/ipr/lib/python3.11/site-packages/spglib/spglib.py:115: DeprecationWarning: dict interface (SpglibDataset['mapping_to_primitive']) is deprecated.Use attribute interface ({self.__class__.__name__}.{key}) instead\n",
      "  warnings.warn(\n",
      "/home/lmh1/anaconda3/envs/ipr/lib/python3.11/site-packages/spglib/spglib.py:115: DeprecationWarning: dict interface (SpglibDataset['std_mapping_to_primitive']) is deprecated.Use attribute interface ({self.__class__.__name__}.{key}) instead\n",
      "  warnings.warn(\n",
      "/home/lmh1/anaconda3/envs/ipr/lib/python3.11/site-packages/spglib/spglib.py:115: DeprecationWarning: dict interface (SpglibDataset['hall_number']) is deprecated.Use attribute interface ({self.__class__.__name__}.{key}) instead\n",
      "  warnings.warn(\n",
      "/home/lmh1/anaconda3/envs/ipr/lib/python3.11/site-packages/spglib/spglib.py:115: DeprecationWarning: dict interface (SpaceGroupType['number']) is deprecated.Use attribute interface ({self.__class__.__name__}.{key}) instead\n",
      "  warnings.warn(\n",
      "/home/lmh1/anaconda3/envs/ipr/lib/python3.11/site-packages/spglib/spglib.py:115: DeprecationWarning: dict interface (SpaceGroupType['international']) is deprecated.Use attribute interface ({self.__class__.__name__}.{key}) instead\n",
      "  warnings.warn(\n",
      "/home/lmh1/anaconda3/envs/ipr/lib/python3.11/site-packages/spglib/spglib.py:115: DeprecationWarning: dict interface (SpglibDataset['equivalent_atoms']) is deprecated.Use attribute interface ({self.__class__.__name__}.{key}) instead\n",
      "  warnings.warn(\n",
      "/home/lmh1/anaconda3/envs/ipr/lib/python3.11/site-packages/spglib/spglib.py:115: DeprecationWarning: dict interface (SpglibDataset['wyckoffs']) is deprecated.Use attribute interface ({self.__class__.__name__}.{key}) instead\n",
      "  warnings.warn(\n"
     ]
    },
    {
     "name": "stdout",
     "output_type": "stream",
     "text": [
      "bbef1e23-89c0-4424-9e53-7ba02888ae1c\n",
      "error: 'SpaceGroupType' object does not support item assignment\n"
     ]
    },
    {
     "name": "stderr",
     "output_type": "stream",
     "text": [
      "/home/lmh1/anaconda3/envs/ipr/lib/python3.11/site-packages/spglib/spglib.py:115: DeprecationWarning: dict interface (SpglibDataset['mapping_to_primitive']) is deprecated.Use attribute interface ({self.__class__.__name__}.{key}) instead\n",
      "  warnings.warn(\n",
      "/home/lmh1/anaconda3/envs/ipr/lib/python3.11/site-packages/spglib/spglib.py:115: DeprecationWarning: dict interface (SpglibDataset['std_mapping_to_primitive']) is deprecated.Use attribute interface ({self.__class__.__name__}.{key}) instead\n",
      "  warnings.warn(\n",
      "/home/lmh1/anaconda3/envs/ipr/lib/python3.11/site-packages/spglib/spglib.py:115: DeprecationWarning: dict interface (SpglibDataset['hall_number']) is deprecated.Use attribute interface ({self.__class__.__name__}.{key}) instead\n",
      "  warnings.warn(\n",
      "/home/lmh1/anaconda3/envs/ipr/lib/python3.11/site-packages/spglib/spglib.py:115: DeprecationWarning: dict interface (SpaceGroupType['number']) is deprecated.Use attribute interface ({self.__class__.__name__}.{key}) instead\n",
      "  warnings.warn(\n",
      "/home/lmh1/anaconda3/envs/ipr/lib/python3.11/site-packages/spglib/spglib.py:115: DeprecationWarning: dict interface (SpaceGroupType['international']) is deprecated.Use attribute interface ({self.__class__.__name__}.{key}) instead\n",
      "  warnings.warn(\n",
      "/home/lmh1/anaconda3/envs/ipr/lib/python3.11/site-packages/spglib/spglib.py:115: DeprecationWarning: dict interface (SpglibDataset['equivalent_atoms']) is deprecated.Use attribute interface ({self.__class__.__name__}.{key}) instead\n",
      "  warnings.warn(\n",
      "/home/lmh1/anaconda3/envs/ipr/lib/python3.11/site-packages/spglib/spglib.py:115: DeprecationWarning: dict interface (SpglibDataset['wyckoffs']) is deprecated.Use attribute interface ({self.__class__.__name__}.{key}) instead\n",
      "  warnings.warn(\n"
     ]
    },
    {
     "name": "stdout",
     "output_type": "stream",
     "text": [
      "0bd2a6cf-fea8-425e-997b-a95aa7ce68d5\n",
      "error: 'SpaceGroupType' object does not support item assignment"
     ]
    },
    {
     "name": "stderr",
     "output_type": "stream",
     "text": [
      "/home/lmh1/anaconda3/envs/ipr/lib/python3.11/site-packages/spglib/spglib.py:115: DeprecationWarning: dict interface (SpglibDataset['mapping_to_primitive']) is deprecated.Use attribute interface ({self.__class__.__name__}.{key}) instead\n",
      "  warnings.warn(\n",
      "/home/lmh1/anaconda3/envs/ipr/lib/python3.11/site-packages/spglib/spglib.py:115: DeprecationWarning: dict interface (SpglibDataset['std_mapping_to_primitive']) is deprecated.Use attribute interface ({self.__class__.__name__}.{key}) instead\n",
      "  warnings.warn(\n",
      "/home/lmh1/anaconda3/envs/ipr/lib/python3.11/site-packages/spglib/spglib.py:115: DeprecationWarning: dict interface (SpglibDataset['hall_number']) is deprecated.Use attribute interface ({self.__class__.__name__}.{key}) instead\n",
      "  warnings.warn(\n",
      "/home/lmh1/anaconda3/envs/ipr/lib/python3.11/site-packages/spglib/spglib.py:115: DeprecationWarning: dict interface (SpaceGroupType['number']) is deprecated.Use attribute interface ({self.__class__.__name__}.{key}) instead\n",
      "  warnings.warn(\n",
      "/home/lmh1/anaconda3/envs/ipr/lib/python3.11/site-packages/spglib/spglib.py:115: DeprecationWarning: dict interface (SpaceGroupType['international']) is deprecated.Use attribute interface ({self.__class__.__name__}.{key}) instead\n",
      "  warnings.warn(\n",
      "/home/lmh1/anaconda3/envs/ipr/lib/python3.11/site-packages/spglib/spglib.py:115: DeprecationWarning: dict interface (SpglibDataset['equivalent_atoms']) is deprecated.Use attribute interface ({self.__class__.__name__}.{key}) instead\n",
      "  warnings.warn(\n",
      "/home/lmh1/anaconda3/envs/ipr/lib/python3.11/site-packages/spglib/spglib.py:115: DeprecationWarning: dict interface (SpglibDataset['wyckoffs']) is deprecated.Use attribute interface ({self.__class__.__name__}.{key}) instead\n",
      "  warnings.warn(\n"
     ]
    },
    {
     "name": "stdout",
     "output_type": "stream",
     "text": [
      "\n",
      "180efbfb-6e70-429b-b708-f5cdcf04deea\n",
      "error: 'SpaceGroupType' object does not support item assignment\n"
     ]
    },
    {
     "name": "stderr",
     "output_type": "stream",
     "text": [
      "/home/lmh1/anaconda3/envs/ipr/lib/python3.11/site-packages/spglib/spglib.py:115: DeprecationWarning: dict interface (SpglibDataset['mapping_to_primitive']) is deprecated.Use attribute interface ({self.__class__.__name__}.{key}) instead\n",
      "  warnings.warn(\n",
      "/home/lmh1/anaconda3/envs/ipr/lib/python3.11/site-packages/spglib/spglib.py:115: DeprecationWarning: dict interface (SpglibDataset['std_mapping_to_primitive']) is deprecated.Use attribute interface ({self.__class__.__name__}.{key}) instead\n",
      "  warnings.warn(\n",
      "/home/lmh1/anaconda3/envs/ipr/lib/python3.11/site-packages/spglib/spglib.py:115: DeprecationWarning: dict interface (SpglibDataset['hall_number']) is deprecated.Use attribute interface ({self.__class__.__name__}.{key}) instead\n",
      "  warnings.warn(\n",
      "/home/lmh1/anaconda3/envs/ipr/lib/python3.11/site-packages/spglib/spglib.py:115: DeprecationWarning: dict interface (SpaceGroupType['number']) is deprecated.Use attribute interface ({self.__class__.__name__}.{key}) instead\n",
      "  warnings.warn(\n",
      "/home/lmh1/anaconda3/envs/ipr/lib/python3.11/site-packages/spglib/spglib.py:115: DeprecationWarning: dict interface (SpaceGroupType['international']) is deprecated.Use attribute interface ({self.__class__.__name__}.{key}) instead\n",
      "  warnings.warn(\n",
      "/home/lmh1/anaconda3/envs/ipr/lib/python3.11/site-packages/spglib/spglib.py:115: DeprecationWarning: dict interface (SpglibDataset['equivalent_atoms']) is deprecated.Use attribute interface ({self.__class__.__name__}.{key}) instead\n",
      "  warnings.warn(\n",
      "/home/lmh1/anaconda3/envs/ipr/lib/python3.11/site-packages/spglib/spglib.py:115: DeprecationWarning: dict interface (SpglibDataset['wyckoffs']) is deprecated.Use attribute interface ({self.__class__.__name__}.{key}) instead\n",
      "  warnings.warn(\n"
     ]
    },
    {
     "name": "stdout",
     "output_type": "stream",
     "text": [
      "32584fdc-1935-4321-a2d7-1bad30b0daac\n",
      "error: 'SpaceGroupType' object does not support item assignment\n"
     ]
    },
    {
     "name": "stderr",
     "output_type": "stream",
     "text": [
      "/home/lmh1/anaconda3/envs/ipr/lib/python3.11/site-packages/spglib/spglib.py:115: DeprecationWarning: dict interface (SpglibDataset['mapping_to_primitive']) is deprecated.Use attribute interface ({self.__class__.__name__}.{key}) instead\n",
      "  warnings.warn(\n",
      "/home/lmh1/anaconda3/envs/ipr/lib/python3.11/site-packages/spglib/spglib.py:115: DeprecationWarning: dict interface (SpglibDataset['std_mapping_to_primitive']) is deprecated.Use attribute interface ({self.__class__.__name__}.{key}) instead\n",
      "  warnings.warn(\n",
      "/home/lmh1/anaconda3/envs/ipr/lib/python3.11/site-packages/spglib/spglib.py:115: DeprecationWarning: dict interface (SpglibDataset['hall_number']) is deprecated.Use attribute interface ({self.__class__.__name__}.{key}) instead\n",
      "  warnings.warn(\n",
      "/home/lmh1/anaconda3/envs/ipr/lib/python3.11/site-packages/spglib/spglib.py:115: DeprecationWarning: dict interface (SpaceGroupType['number']) is deprecated.Use attribute interface ({self.__class__.__name__}.{key}) instead\n",
      "  warnings.warn(\n",
      "/home/lmh1/anaconda3/envs/ipr/lib/python3.11/site-packages/spglib/spglib.py:115: DeprecationWarning: dict interface (SpaceGroupType['international']) is deprecated.Use attribute interface ({self.__class__.__name__}.{key}) instead\n",
      "  warnings.warn(\n",
      "/home/lmh1/anaconda3/envs/ipr/lib/python3.11/site-packages/spglib/spglib.py:115: DeprecationWarning: dict interface (SpglibDataset['equivalent_atoms']) is deprecated.Use attribute interface ({self.__class__.__name__}.{key}) instead\n",
      "  warnings.warn(\n",
      "/home/lmh1/anaconda3/envs/ipr/lib/python3.11/site-packages/spglib/spglib.py:115: DeprecationWarning: dict interface (SpglibDataset['wyckoffs']) is deprecated.Use attribute interface ({self.__class__.__name__}.{key}) instead\n",
      "  warnings.warn(\n"
     ]
    },
    {
     "name": "stdout",
     "output_type": "stream",
     "text": [
      "3b45f74e-cf4c-40c7-9598-42151f6c8357\n"
     ]
    },
    {
     "name": "stderr",
     "output_type": "stream",
     "text": [
      "/home/lmh1/anaconda3/envs/ipr/lib/python3.11/site-packages/spglib/spglib.py:115: DeprecationWarning: dict interface (SpglibDataset['mapping_to_primitive']) is deprecated.Use attribute interface ({self.__class__.__name__}.{key}) instead\n",
      "  warnings.warn(\n",
      "/home/lmh1/anaconda3/envs/ipr/lib/python3.11/site-packages/spglib/spglib.py:115: DeprecationWarning: dict interface (SpglibDataset['std_mapping_to_primitive']) is deprecated.Use attribute interface ({self.__class__.__name__}.{key}) instead\n",
      "  warnings.warn(\n"
     ]
    },
    {
     "name": "stdout",
     "output_type": "stream",
     "text": [
      "error: 'SpaceGroupType' object does not support item assignment"
     ]
    },
    {
     "name": "stderr",
     "output_type": "stream",
     "text": [
      "/home/lmh1/anaconda3/envs/ipr/lib/python3.11/site-packages/spglib/spglib.py:115: DeprecationWarning: dict interface (SpglibDataset['hall_number']) is deprecated.Use attribute interface ({self.__class__.__name__}.{key}) instead\n",
      "  warnings.warn(\n",
      "/home/lmh1/anaconda3/envs/ipr/lib/python3.11/site-packages/spglib/spglib.py:115: DeprecationWarning: dict interface (SpaceGroupType['number']) is deprecated.Use attribute interface ({self.__class__.__name__}.{key}) instead\n",
      "  warnings.warn(\n",
      "/home/lmh1/anaconda3/envs/ipr/lib/python3.11/site-packages/spglib/spglib.py:115: DeprecationWarning: dict interface (SpaceGroupType['international']) is deprecated.Use attribute interface ({self.__class__.__name__}.{key}) instead\n",
      "  warnings.warn(\n",
      "/home/lmh1/anaconda3/envs/ipr/lib/python3.11/site-packages/spglib/spglib.py:115: DeprecationWarning: dict interface (SpglibDataset['equivalent_atoms']) is deprecated.Use attribute interface ({self.__class__.__name__}.{key}) instead\n",
      "  warnings.warn(\n",
      "/home/lmh1/anaconda3/envs/ipr/lib/python3.11/site-packages/spglib/spglib.py:115: DeprecationWarning: dict interface (SpglibDataset['wyckoffs']) is deprecated.Use attribute interface ({self.__class__.__name__}.{key}) instead\n",
      "  warnings.warn(\n"
     ]
    },
    {
     "name": "stdout",
     "output_type": "stream",
     "text": [
      "\n",
      "fef780ed-b16a-4f13-a042-0191ae296a62\n",
      "error: 'SpaceGroupType' object does not support item assignment\n"
     ]
    },
    {
     "name": "stderr",
     "output_type": "stream",
     "text": [
      "/home/lmh1/anaconda3/envs/ipr/lib/python3.11/site-packages/spglib/spglib.py:115: DeprecationWarning: dict interface (SpglibDataset['mapping_to_primitive']) is deprecated.Use attribute interface ({self.__class__.__name__}.{key}) instead\n",
      "  warnings.warn(\n",
      "/home/lmh1/anaconda3/envs/ipr/lib/python3.11/site-packages/spglib/spglib.py:115: DeprecationWarning: dict interface (SpglibDataset['std_mapping_to_primitive']) is deprecated.Use attribute interface ({self.__class__.__name__}.{key}) instead\n",
      "  warnings.warn(\n",
      "/home/lmh1/anaconda3/envs/ipr/lib/python3.11/site-packages/spglib/spglib.py:115: DeprecationWarning: dict interface (SpglibDataset['hall_number']) is deprecated.Use attribute interface ({self.__class__.__name__}.{key}) instead\n",
      "  warnings.warn(\n",
      "/home/lmh1/anaconda3/envs/ipr/lib/python3.11/site-packages/spglib/spglib.py:115: DeprecationWarning: dict interface (SpaceGroupType['number']) is deprecated.Use attribute interface ({self.__class__.__name__}.{key}) instead\n",
      "  warnings.warn(\n",
      "/home/lmh1/anaconda3/envs/ipr/lib/python3.11/site-packages/spglib/spglib.py:115: DeprecationWarning: dict interface (SpaceGroupType['international']) is deprecated.Use attribute interface ({self.__class__.__name__}.{key}) instead\n",
      "  warnings.warn(\n",
      "/home/lmh1/anaconda3/envs/ipr/lib/python3.11/site-packages/spglib/spglib.py:115: DeprecationWarning: dict interface (SpglibDataset['equivalent_atoms']) is deprecated.Use attribute interface ({self.__class__.__name__}.{key}) instead\n",
      "  warnings.warn(\n",
      "/home/lmh1/anaconda3/envs/ipr/lib/python3.11/site-packages/spglib/spglib.py:115: DeprecationWarning: dict interface (SpglibDataset['wyckoffs']) is deprecated.Use attribute interface ({self.__class__.__name__}.{key}) instead\n",
      "  warnings.warn(\n"
     ]
    },
    {
     "name": "stdout",
     "output_type": "stream",
     "text": [
      "a650f2bd-197c-4f5a-8df5-1c9e18e6501a\n",
      "error: 'SpaceGroupType' object does not support item assignment"
     ]
    },
    {
     "name": "stderr",
     "output_type": "stream",
     "text": [
      "/home/lmh1/anaconda3/envs/ipr/lib/python3.11/site-packages/spglib/spglib.py:115: DeprecationWarning: dict interface (SpglibDataset['mapping_to_primitive']) is deprecated.Use attribute interface ({self.__class__.__name__}.{key}) instead\n",
      "  warnings.warn(\n",
      "/home/lmh1/anaconda3/envs/ipr/lib/python3.11/site-packages/spglib/spglib.py:115: DeprecationWarning: dict interface (SpglibDataset['std_mapping_to_primitive']) is deprecated.Use attribute interface ({self.__class__.__name__}.{key}) instead\n",
      "  warnings.warn(\n",
      "/home/lmh1/anaconda3/envs/ipr/lib/python3.11/site-packages/spglib/spglib.py:115: DeprecationWarning: dict interface (SpglibDataset['hall_number']) is deprecated.Use attribute interface ({self.__class__.__name__}.{key}) instead\n",
      "  warnings.warn(\n",
      "/home/lmh1/anaconda3/envs/ipr/lib/python3.11/site-packages/spglib/spglib.py:115: DeprecationWarning: dict interface (SpaceGroupType['number']) is deprecated.Use attribute interface ({self.__class__.__name__}.{key}) instead\n",
      "  warnings.warn(\n",
      "/home/lmh1/anaconda3/envs/ipr/lib/python3.11/site-packages/spglib/spglib.py:115: DeprecationWarning: dict interface (SpaceGroupType['international']) is deprecated.Use attribute interface ({self.__class__.__name__}.{key}) instead\n",
      "  warnings.warn(\n",
      "/home/lmh1/anaconda3/envs/ipr/lib/python3.11/site-packages/spglib/spglib.py:115: DeprecationWarning: dict interface (SpglibDataset['equivalent_atoms']) is deprecated.Use attribute interface ({self.__class__.__name__}.{key}) instead\n",
      "  warnings.warn(\n",
      "/home/lmh1/anaconda3/envs/ipr/lib/python3.11/site-packages/spglib/spglib.py:115: DeprecationWarning: dict interface (SpglibDataset['wyckoffs']) is deprecated.Use attribute interface ({self.__class__.__name__}.{key}) instead\n",
      "  warnings.warn(\n"
     ]
    },
    {
     "name": "stdout",
     "output_type": "stream",
     "text": [
      "\n",
      "7496a12f-b398-43ff-b036-ded5c3e886f8\n"
     ]
    },
    {
     "name": "stderr",
     "output_type": "stream",
     "text": [
      "/home/lmh1/anaconda3/envs/ipr/lib/python3.11/site-packages/spglib/spglib.py:115: DeprecationWarning: dict interface (SpglibDataset['mapping_to_primitive']) is deprecated.Use attribute interface ({self.__class__.__name__}.{key}) instead\n",
      "  warnings.warn(\n",
      "/home/lmh1/anaconda3/envs/ipr/lib/python3.11/site-packages/spglib/spglib.py:115: DeprecationWarning: dict interface (SpglibDataset['std_mapping_to_primitive']) is deprecated.Use attribute interface ({self.__class__.__name__}.{key}) instead\n",
      "  warnings.warn(\n"
     ]
    },
    {
     "name": "stdout",
     "output_type": "stream",
     "text": [
      "error: 'SpaceGroupType' object does not support item assignment"
     ]
    },
    {
     "name": "stderr",
     "output_type": "stream",
     "text": [
      "/home/lmh1/anaconda3/envs/ipr/lib/python3.11/site-packages/spglib/spglib.py:115: DeprecationWarning: dict interface (SpglibDataset['hall_number']) is deprecated.Use attribute interface ({self.__class__.__name__}.{key}) instead\n",
      "  warnings.warn(\n",
      "/home/lmh1/anaconda3/envs/ipr/lib/python3.11/site-packages/spglib/spglib.py:115: DeprecationWarning: dict interface (SpaceGroupType['number']) is deprecated.Use attribute interface ({self.__class__.__name__}.{key}) instead\n",
      "  warnings.warn(\n",
      "/home/lmh1/anaconda3/envs/ipr/lib/python3.11/site-packages/spglib/spglib.py:115: DeprecationWarning: dict interface (SpaceGroupType['international']) is deprecated.Use attribute interface ({self.__class__.__name__}.{key}) instead\n",
      "  warnings.warn(\n",
      "/home/lmh1/anaconda3/envs/ipr/lib/python3.11/site-packages/spglib/spglib.py:115: DeprecationWarning: dict interface (SpglibDataset['equivalent_atoms']) is deprecated.Use attribute interface ({self.__class__.__name__}.{key}) instead\n",
      "  warnings.warn(\n",
      "/home/lmh1/anaconda3/envs/ipr/lib/python3.11/site-packages/spglib/spglib.py:115: DeprecationWarning: dict interface (SpglibDataset['wyckoffs']) is deprecated.Use attribute interface ({self.__class__.__name__}.{key}) instead\n",
      "  warnings.warn(\n"
     ]
    },
    {
     "name": "stdout",
     "output_type": "stream",
     "text": [
      "\n",
      "f64a7b52-ed1a-44fd-8d94-31f38f472e92\n",
      "error: 'SpaceGroupType' object does not support item assignment\n"
     ]
    },
    {
     "name": "stderr",
     "output_type": "stream",
     "text": [
      "/home/lmh1/anaconda3/envs/ipr/lib/python3.11/site-packages/spglib/spglib.py:115: DeprecationWarning: dict interface (SpglibDataset['mapping_to_primitive']) is deprecated.Use attribute interface ({self.__class__.__name__}.{key}) instead\n",
      "  warnings.warn(\n",
      "/home/lmh1/anaconda3/envs/ipr/lib/python3.11/site-packages/spglib/spglib.py:115: DeprecationWarning: dict interface (SpglibDataset['std_mapping_to_primitive']) is deprecated.Use attribute interface ({self.__class__.__name__}.{key}) instead\n",
      "  warnings.warn(\n",
      "/home/lmh1/anaconda3/envs/ipr/lib/python3.11/site-packages/spglib/spglib.py:115: DeprecationWarning: dict interface (SpglibDataset['hall_number']) is deprecated.Use attribute interface ({self.__class__.__name__}.{key}) instead\n",
      "  warnings.warn(\n",
      "/home/lmh1/anaconda3/envs/ipr/lib/python3.11/site-packages/spglib/spglib.py:115: DeprecationWarning: dict interface (SpaceGroupType['number']) is deprecated.Use attribute interface ({self.__class__.__name__}.{key}) instead\n",
      "  warnings.warn(\n",
      "/home/lmh1/anaconda3/envs/ipr/lib/python3.11/site-packages/spglib/spglib.py:115: DeprecationWarning: dict interface (SpaceGroupType['international']) is deprecated.Use attribute interface ({self.__class__.__name__}.{key}) instead\n",
      "  warnings.warn(\n",
      "/home/lmh1/anaconda3/envs/ipr/lib/python3.11/site-packages/spglib/spglib.py:115: DeprecationWarning: dict interface (SpglibDataset['equivalent_atoms']) is deprecated.Use attribute interface ({self.__class__.__name__}.{key}) instead\n",
      "  warnings.warn(\n",
      "/home/lmh1/anaconda3/envs/ipr/lib/python3.11/site-packages/spglib/spglib.py:115: DeprecationWarning: dict interface (SpglibDataset['wyckoffs']) is deprecated.Use attribute interface ({self.__class__.__name__}.{key}) instead\n",
      "  warnings.warn(\n"
     ]
    },
    {
     "name": "stdout",
     "output_type": "stream",
     "text": [
      "d3cbc66c-55d7-432a-8f97-8839f144b720\n",
      "error: 'SpaceGroupType' object does not support item assignment\n"
     ]
    },
    {
     "name": "stderr",
     "output_type": "stream",
     "text": [
      "/home/lmh1/anaconda3/envs/ipr/lib/python3.11/site-packages/spglib/spglib.py:115: DeprecationWarning: dict interface (SpglibDataset['mapping_to_primitive']) is deprecated.Use attribute interface ({self.__class__.__name__}.{key}) instead\n",
      "  warnings.warn(\n",
      "/home/lmh1/anaconda3/envs/ipr/lib/python3.11/site-packages/spglib/spglib.py:115: DeprecationWarning: dict interface (SpglibDataset['std_mapping_to_primitive']) is deprecated.Use attribute interface ({self.__class__.__name__}.{key}) instead\n",
      "  warnings.warn(\n",
      "/home/lmh1/anaconda3/envs/ipr/lib/python3.11/site-packages/spglib/spglib.py:115: DeprecationWarning: dict interface (SpglibDataset['hall_number']) is deprecated.Use attribute interface ({self.__class__.__name__}.{key}) instead\n",
      "  warnings.warn(\n",
      "/home/lmh1/anaconda3/envs/ipr/lib/python3.11/site-packages/spglib/spglib.py:115: DeprecationWarning: dict interface (SpaceGroupType['number']) is deprecated.Use attribute interface ({self.__class__.__name__}.{key}) instead\n",
      "  warnings.warn(\n",
      "/home/lmh1/anaconda3/envs/ipr/lib/python3.11/site-packages/spglib/spglib.py:115: DeprecationWarning: dict interface (SpaceGroupType['international']) is deprecated.Use attribute interface ({self.__class__.__name__}.{key}) instead\n",
      "  warnings.warn(\n",
      "/home/lmh1/anaconda3/envs/ipr/lib/python3.11/site-packages/spglib/spglib.py:115: DeprecationWarning: dict interface (SpglibDataset['equivalent_atoms']) is deprecated.Use attribute interface ({self.__class__.__name__}.{key}) instead\n",
      "  warnings.warn(\n",
      "/home/lmh1/anaconda3/envs/ipr/lib/python3.11/site-packages/spglib/spglib.py:115: DeprecationWarning: dict interface (SpglibDataset['wyckoffs']) is deprecated.Use attribute interface ({self.__class__.__name__}.{key}) instead\n",
      "  warnings.warn(\n"
     ]
    },
    {
     "name": "stdout",
     "output_type": "stream",
     "text": [
      "faf131ff-f642-4916-9533-3cefa510ec0d\n",
      "error: 'SpaceGroupType' object does not support item assignment\n"
     ]
    },
    {
     "name": "stderr",
     "output_type": "stream",
     "text": [
      "/home/lmh1/anaconda3/envs/ipr/lib/python3.11/site-packages/spglib/spglib.py:115: DeprecationWarning: dict interface (SpglibDataset['mapping_to_primitive']) is deprecated.Use attribute interface ({self.__class__.__name__}.{key}) instead\n",
      "  warnings.warn(\n",
      "/home/lmh1/anaconda3/envs/ipr/lib/python3.11/site-packages/spglib/spglib.py:115: DeprecationWarning: dict interface (SpglibDataset['std_mapping_to_primitive']) is deprecated.Use attribute interface ({self.__class__.__name__}.{key}) instead\n",
      "  warnings.warn(\n",
      "/home/lmh1/anaconda3/envs/ipr/lib/python3.11/site-packages/spglib/spglib.py:115: DeprecationWarning: dict interface (SpglibDataset['hall_number']) is deprecated.Use attribute interface ({self.__class__.__name__}.{key}) instead\n",
      "  warnings.warn(\n",
      "/home/lmh1/anaconda3/envs/ipr/lib/python3.11/site-packages/spglib/spglib.py:115: DeprecationWarning: dict interface (SpaceGroupType['number']) is deprecated.Use attribute interface ({self.__class__.__name__}.{key}) instead\n",
      "  warnings.warn(\n",
      "/home/lmh1/anaconda3/envs/ipr/lib/python3.11/site-packages/spglib/spglib.py:115: DeprecationWarning: dict interface (SpaceGroupType['international']) is deprecated.Use attribute interface ({self.__class__.__name__}.{key}) instead\n",
      "  warnings.warn(\n",
      "/home/lmh1/anaconda3/envs/ipr/lib/python3.11/site-packages/spglib/spglib.py:115: DeprecationWarning: dict interface (SpglibDataset['equivalent_atoms']) is deprecated.Use attribute interface ({self.__class__.__name__}.{key}) instead\n",
      "  warnings.warn(\n",
      "/home/lmh1/anaconda3/envs/ipr/lib/python3.11/site-packages/spglib/spglib.py:115: DeprecationWarning: dict interface (SpglibDataset['wyckoffs']) is deprecated.Use attribute interface ({self.__class__.__name__}.{key}) instead\n",
      "  warnings.warn(\n"
     ]
    },
    {
     "name": "stdout",
     "output_type": "stream",
     "text": [
      "88fc5598-4fc4-4f32-b87e-9f567d2bd4eb\n",
      "error: 'SpaceGroupType' object does not support item assignment"
     ]
    },
    {
     "name": "stderr",
     "output_type": "stream",
     "text": [
      "/home/lmh1/anaconda3/envs/ipr/lib/python3.11/site-packages/spglib/spglib.py:115: DeprecationWarning: dict interface (SpglibDataset['mapping_to_primitive']) is deprecated.Use attribute interface ({self.__class__.__name__}.{key}) instead\n",
      "  warnings.warn(\n",
      "/home/lmh1/anaconda3/envs/ipr/lib/python3.11/site-packages/spglib/spglib.py:115: DeprecationWarning: dict interface (SpglibDataset['std_mapping_to_primitive']) is deprecated.Use attribute interface ({self.__class__.__name__}.{key}) instead\n",
      "  warnings.warn(\n",
      "/home/lmh1/anaconda3/envs/ipr/lib/python3.11/site-packages/spglib/spglib.py:115: DeprecationWarning: dict interface (SpglibDataset['hall_number']) is deprecated.Use attribute interface ({self.__class__.__name__}.{key}) instead\n",
      "  warnings.warn(\n",
      "/home/lmh1/anaconda3/envs/ipr/lib/python3.11/site-packages/spglib/spglib.py:115: DeprecationWarning: dict interface (SpaceGroupType['number']) is deprecated.Use attribute interface ({self.__class__.__name__}.{key}) instead\n",
      "  warnings.warn(\n",
      "/home/lmh1/anaconda3/envs/ipr/lib/python3.11/site-packages/spglib/spglib.py:115: DeprecationWarning: dict interface (SpaceGroupType['international']) is deprecated.Use attribute interface ({self.__class__.__name__}.{key}) instead\n",
      "  warnings.warn(\n",
      "/home/lmh1/anaconda3/envs/ipr/lib/python3.11/site-packages/spglib/spglib.py:115: DeprecationWarning: dict interface (SpglibDataset['equivalent_atoms']) is deprecated.Use attribute interface ({self.__class__.__name__}.{key}) instead\n",
      "  warnings.warn(\n",
      "/home/lmh1/anaconda3/envs/ipr/lib/python3.11/site-packages/spglib/spglib.py:115: DeprecationWarning: dict interface (SpglibDataset['wyckoffs']) is deprecated.Use attribute interface ({self.__class__.__name__}.{key}) instead\n",
      "  warnings.warn(\n"
     ]
    },
    {
     "name": "stdout",
     "output_type": "stream",
     "text": [
      "\n",
      "6533137f-b7b4-400f-adc1-97eac06fd167\n",
      "error: 'SpaceGroupType' object does not support item assignment"
     ]
    },
    {
     "name": "stderr",
     "output_type": "stream",
     "text": [
      "/home/lmh1/anaconda3/envs/ipr/lib/python3.11/site-packages/spglib/spglib.py:115: DeprecationWarning: dict interface (SpglibDataset['mapping_to_primitive']) is deprecated.Use attribute interface ({self.__class__.__name__}.{key}) instead\n",
      "  warnings.warn(\n",
      "/home/lmh1/anaconda3/envs/ipr/lib/python3.11/site-packages/spglib/spglib.py:115: DeprecationWarning: dict interface (SpglibDataset['std_mapping_to_primitive']) is deprecated.Use attribute interface ({self.__class__.__name__}.{key}) instead\n",
      "  warnings.warn(\n",
      "/home/lmh1/anaconda3/envs/ipr/lib/python3.11/site-packages/spglib/spglib.py:115: DeprecationWarning: dict interface (SpglibDataset['hall_number']) is deprecated.Use attribute interface ({self.__class__.__name__}.{key}) instead\n",
      "  warnings.warn(\n",
      "/home/lmh1/anaconda3/envs/ipr/lib/python3.11/site-packages/spglib/spglib.py:115: DeprecationWarning: dict interface (SpaceGroupType['number']) is deprecated.Use attribute interface ({self.__class__.__name__}.{key}) instead\n",
      "  warnings.warn(\n",
      "/home/lmh1/anaconda3/envs/ipr/lib/python3.11/site-packages/spglib/spglib.py:115: DeprecationWarning: dict interface (SpaceGroupType['international']) is deprecated.Use attribute interface ({self.__class__.__name__}.{key}) instead\n",
      "  warnings.warn(\n",
      "/home/lmh1/anaconda3/envs/ipr/lib/python3.11/site-packages/spglib/spglib.py:115: DeprecationWarning: dict interface (SpglibDataset['equivalent_atoms']) is deprecated.Use attribute interface ({self.__class__.__name__}.{key}) instead\n",
      "  warnings.warn(\n",
      "/home/lmh1/anaconda3/envs/ipr/lib/python3.11/site-packages/spglib/spglib.py:115: DeprecationWarning: dict interface (SpglibDataset['wyckoffs']) is deprecated.Use attribute interface ({self.__class__.__name__}.{key}) instead\n",
      "  warnings.warn(\n"
     ]
    },
    {
     "name": "stdout",
     "output_type": "stream",
     "text": [
      "\n",
      "b10fdb29-b808-4e9f-b119-b6166d174e01\n",
      "error: 'SpaceGroupType' object does not support item assignment\n"
     ]
    },
    {
     "name": "stderr",
     "output_type": "stream",
     "text": [
      "/home/lmh1/anaconda3/envs/ipr/lib/python3.11/site-packages/spglib/spglib.py:115: DeprecationWarning: dict interface (SpglibDataset['mapping_to_primitive']) is deprecated.Use attribute interface ({self.__class__.__name__}.{key}) instead\n",
      "  warnings.warn(\n",
      "/home/lmh1/anaconda3/envs/ipr/lib/python3.11/site-packages/spglib/spglib.py:115: DeprecationWarning: dict interface (SpglibDataset['std_mapping_to_primitive']) is deprecated.Use attribute interface ({self.__class__.__name__}.{key}) instead\n",
      "  warnings.warn(\n",
      "/home/lmh1/anaconda3/envs/ipr/lib/python3.11/site-packages/spglib/spglib.py:115: DeprecationWarning: dict interface (SpglibDataset['hall_number']) is deprecated.Use attribute interface ({self.__class__.__name__}.{key}) instead\n",
      "  warnings.warn(\n",
      "/home/lmh1/anaconda3/envs/ipr/lib/python3.11/site-packages/spglib/spglib.py:115: DeprecationWarning: dict interface (SpaceGroupType['number']) is deprecated.Use attribute interface ({self.__class__.__name__}.{key}) instead\n",
      "  warnings.warn(\n",
      "/home/lmh1/anaconda3/envs/ipr/lib/python3.11/site-packages/spglib/spglib.py:115: DeprecationWarning: dict interface (SpaceGroupType['international']) is deprecated.Use attribute interface ({self.__class__.__name__}.{key}) instead\n",
      "  warnings.warn(\n",
      "/home/lmh1/anaconda3/envs/ipr/lib/python3.11/site-packages/spglib/spglib.py:115: DeprecationWarning: dict interface (SpglibDataset['equivalent_atoms']) is deprecated.Use attribute interface ({self.__class__.__name__}.{key}) instead\n",
      "  warnings.warn(\n",
      "/home/lmh1/anaconda3/envs/ipr/lib/python3.11/site-packages/spglib/spglib.py:115: DeprecationWarning: dict interface (SpglibDataset['wyckoffs']) is deprecated.Use attribute interface ({self.__class__.__name__}.{key}) instead\n",
      "  warnings.warn(\n"
     ]
    },
    {
     "name": "stdout",
     "output_type": "stream",
     "text": [
      "ddba3650-5765-413b-b551-2028bb381d0b\n",
      "error: 'SpaceGroupType' object does not support item assignment\n"
     ]
    },
    {
     "name": "stderr",
     "output_type": "stream",
     "text": [
      "/home/lmh1/anaconda3/envs/ipr/lib/python3.11/site-packages/spglib/spglib.py:115: DeprecationWarning: dict interface (SpglibDataset['mapping_to_primitive']) is deprecated.Use attribute interface ({self.__class__.__name__}.{key}) instead\n",
      "  warnings.warn(\n",
      "/home/lmh1/anaconda3/envs/ipr/lib/python3.11/site-packages/spglib/spglib.py:115: DeprecationWarning: dict interface (SpglibDataset['std_mapping_to_primitive']) is deprecated.Use attribute interface ({self.__class__.__name__}.{key}) instead\n",
      "  warnings.warn(\n",
      "/home/lmh1/anaconda3/envs/ipr/lib/python3.11/site-packages/spglib/spglib.py:115: DeprecationWarning: dict interface (SpglibDataset['hall_number']) is deprecated.Use attribute interface ({self.__class__.__name__}.{key}) instead\n",
      "  warnings.warn(\n",
      "/home/lmh1/anaconda3/envs/ipr/lib/python3.11/site-packages/spglib/spglib.py:115: DeprecationWarning: dict interface (SpaceGroupType['number']) is deprecated.Use attribute interface ({self.__class__.__name__}.{key}) instead\n",
      "  warnings.warn(\n",
      "/home/lmh1/anaconda3/envs/ipr/lib/python3.11/site-packages/spglib/spglib.py:115: DeprecationWarning: dict interface (SpaceGroupType['international']) is deprecated.Use attribute interface ({self.__class__.__name__}.{key}) instead\n",
      "  warnings.warn(\n",
      "/home/lmh1/anaconda3/envs/ipr/lib/python3.11/site-packages/spglib/spglib.py:115: DeprecationWarning: dict interface (SpglibDataset['equivalent_atoms']) is deprecated.Use attribute interface ({self.__class__.__name__}.{key}) instead\n",
      "  warnings.warn(\n",
      "/home/lmh1/anaconda3/envs/ipr/lib/python3.11/site-packages/spglib/spglib.py:115: DeprecationWarning: dict interface (SpglibDataset['wyckoffs']) is deprecated.Use attribute interface ({self.__class__.__name__}.{key}) instead\n",
      "  warnings.warn(\n"
     ]
    },
    {
     "name": "stdout",
     "output_type": "stream",
     "text": [
      "3b2b175f-4c2a-409a-805a-db05000b4c1b\n",
      "error: 'SpaceGroupType' object does not support item assignment\n"
     ]
    },
    {
     "name": "stderr",
     "output_type": "stream",
     "text": [
      "/home/lmh1/anaconda3/envs/ipr/lib/python3.11/site-packages/spglib/spglib.py:115: DeprecationWarning: dict interface (SpglibDataset['mapping_to_primitive']) is deprecated.Use attribute interface ({self.__class__.__name__}.{key}) instead\n",
      "  warnings.warn(\n",
      "/home/lmh1/anaconda3/envs/ipr/lib/python3.11/site-packages/spglib/spglib.py:115: DeprecationWarning: dict interface (SpglibDataset['std_mapping_to_primitive']) is deprecated.Use attribute interface ({self.__class__.__name__}.{key}) instead\n",
      "  warnings.warn(\n",
      "/home/lmh1/anaconda3/envs/ipr/lib/python3.11/site-packages/spglib/spglib.py:115: DeprecationWarning: dict interface (SpglibDataset['hall_number']) is deprecated.Use attribute interface ({self.__class__.__name__}.{key}) instead\n",
      "  warnings.warn(\n",
      "/home/lmh1/anaconda3/envs/ipr/lib/python3.11/site-packages/spglib/spglib.py:115: DeprecationWarning: dict interface (SpaceGroupType['number']) is deprecated.Use attribute interface ({self.__class__.__name__}.{key}) instead\n",
      "  warnings.warn(\n",
      "/home/lmh1/anaconda3/envs/ipr/lib/python3.11/site-packages/spglib/spglib.py:115: DeprecationWarning: dict interface (SpaceGroupType['international']) is deprecated.Use attribute interface ({self.__class__.__name__}.{key}) instead\n",
      "  warnings.warn(\n",
      "/home/lmh1/anaconda3/envs/ipr/lib/python3.11/site-packages/spglib/spglib.py:115: DeprecationWarning: dict interface (SpglibDataset['equivalent_atoms']) is deprecated.Use attribute interface ({self.__class__.__name__}.{key}) instead\n",
      "  warnings.warn(\n",
      "/home/lmh1/anaconda3/envs/ipr/lib/python3.11/site-packages/spglib/spglib.py:115: DeprecationWarning: dict interface (SpglibDataset['wyckoffs']) is deprecated.Use attribute interface ({self.__class__.__name__}.{key}) instead\n",
      "  warnings.warn(\n"
     ]
    },
    {
     "name": "stdout",
     "output_type": "stream",
     "text": [
      "27eb44a5-5a2e-497b-9c34-2efe25a8318c\n",
      "error: 'SpaceGroupType' object does not support item assignment\n"
     ]
    },
    {
     "name": "stderr",
     "output_type": "stream",
     "text": [
      "/home/lmh1/anaconda3/envs/ipr/lib/python3.11/site-packages/spglib/spglib.py:115: DeprecationWarning: dict interface (SpglibDataset['mapping_to_primitive']) is deprecated.Use attribute interface ({self.__class__.__name__}.{key}) instead\n",
      "  warnings.warn(\n",
      "/home/lmh1/anaconda3/envs/ipr/lib/python3.11/site-packages/spglib/spglib.py:115: DeprecationWarning: dict interface (SpglibDataset['std_mapping_to_primitive']) is deprecated.Use attribute interface ({self.__class__.__name__}.{key}) instead\n",
      "  warnings.warn(\n",
      "/home/lmh1/anaconda3/envs/ipr/lib/python3.11/site-packages/spglib/spglib.py:115: DeprecationWarning: dict interface (SpglibDataset['hall_number']) is deprecated.Use attribute interface ({self.__class__.__name__}.{key}) instead\n",
      "  warnings.warn(\n",
      "/home/lmh1/anaconda3/envs/ipr/lib/python3.11/site-packages/spglib/spglib.py:115: DeprecationWarning: dict interface (SpaceGroupType['number']) is deprecated.Use attribute interface ({self.__class__.__name__}.{key}) instead\n",
      "  warnings.warn(\n",
      "/home/lmh1/anaconda3/envs/ipr/lib/python3.11/site-packages/spglib/spglib.py:115: DeprecationWarning: dict interface (SpaceGroupType['international']) is deprecated.Use attribute interface ({self.__class__.__name__}.{key}) instead\n",
      "  warnings.warn(\n",
      "/home/lmh1/anaconda3/envs/ipr/lib/python3.11/site-packages/spglib/spglib.py:115: DeprecationWarning: dict interface (SpglibDataset['equivalent_atoms']) is deprecated.Use attribute interface ({self.__class__.__name__}.{key}) instead\n",
      "  warnings.warn(\n",
      "/home/lmh1/anaconda3/envs/ipr/lib/python3.11/site-packages/spglib/spglib.py:115: DeprecationWarning: dict interface (SpglibDataset['wyckoffs']) is deprecated.Use attribute interface ({self.__class__.__name__}.{key}) instead\n",
      "  warnings.warn(\n"
     ]
    },
    {
     "name": "stdout",
     "output_type": "stream",
     "text": [
      "f0fb1dc5-a358-46b4-901e-9f732bd9eaf6\n",
      "error: 'SpaceGroupType' object does not support item assignment\n"
     ]
    },
    {
     "name": "stderr",
     "output_type": "stream",
     "text": [
      "/home/lmh1/anaconda3/envs/ipr/lib/python3.11/site-packages/spglib/spglib.py:115: DeprecationWarning: dict interface (SpglibDataset['mapping_to_primitive']) is deprecated.Use attribute interface ({self.__class__.__name__}.{key}) instead\n",
      "  warnings.warn(\n",
      "/home/lmh1/anaconda3/envs/ipr/lib/python3.11/site-packages/spglib/spglib.py:115: DeprecationWarning: dict interface (SpglibDataset['std_mapping_to_primitive']) is deprecated.Use attribute interface ({self.__class__.__name__}.{key}) instead\n",
      "  warnings.warn(\n",
      "/home/lmh1/anaconda3/envs/ipr/lib/python3.11/site-packages/spglib/spglib.py:115: DeprecationWarning: dict interface (SpglibDataset['hall_number']) is deprecated.Use attribute interface ({self.__class__.__name__}.{key}) instead\n",
      "  warnings.warn(\n",
      "/home/lmh1/anaconda3/envs/ipr/lib/python3.11/site-packages/spglib/spglib.py:115: DeprecationWarning: dict interface (SpaceGroupType['number']) is deprecated.Use attribute interface ({self.__class__.__name__}.{key}) instead\n",
      "  warnings.warn(\n",
      "/home/lmh1/anaconda3/envs/ipr/lib/python3.11/site-packages/spglib/spglib.py:115: DeprecationWarning: dict interface (SpaceGroupType['international']) is deprecated.Use attribute interface ({self.__class__.__name__}.{key}) instead\n",
      "  warnings.warn(\n",
      "/home/lmh1/anaconda3/envs/ipr/lib/python3.11/site-packages/spglib/spglib.py:115: DeprecationWarning: dict interface (SpglibDataset['equivalent_atoms']) is deprecated.Use attribute interface ({self.__class__.__name__}.{key}) instead\n",
      "  warnings.warn(\n",
      "/home/lmh1/anaconda3/envs/ipr/lib/python3.11/site-packages/spglib/spglib.py:115: DeprecationWarning: dict interface (SpglibDataset['wyckoffs']) is deprecated.Use attribute interface ({self.__class__.__name__}.{key}) instead\n",
      "  warnings.warn(\n"
     ]
    },
    {
     "name": "stdout",
     "output_type": "stream",
     "text": [
      "bb03b7eb-01ef-452c-b98b-75023baa5c47\n",
      "error: 'SpaceGroupType' object does not support item assignment"
     ]
    },
    {
     "name": "stderr",
     "output_type": "stream",
     "text": [
      "/home/lmh1/anaconda3/envs/ipr/lib/python3.11/site-packages/spglib/spglib.py:115: DeprecationWarning: dict interface (SpglibDataset['mapping_to_primitive']) is deprecated.Use attribute interface ({self.__class__.__name__}.{key}) instead\n",
      "  warnings.warn(\n",
      "/home/lmh1/anaconda3/envs/ipr/lib/python3.11/site-packages/spglib/spglib.py:115: DeprecationWarning: dict interface (SpglibDataset['std_mapping_to_primitive']) is deprecated.Use attribute interface ({self.__class__.__name__}.{key}) instead\n",
      "  warnings.warn(\n",
      "/home/lmh1/anaconda3/envs/ipr/lib/python3.11/site-packages/spglib/spglib.py:115: DeprecationWarning: dict interface (SpglibDataset['hall_number']) is deprecated.Use attribute interface ({self.__class__.__name__}.{key}) instead\n",
      "  warnings.warn(\n",
      "/home/lmh1/anaconda3/envs/ipr/lib/python3.11/site-packages/spglib/spglib.py:115: DeprecationWarning: dict interface (SpaceGroupType['number']) is deprecated.Use attribute interface ({self.__class__.__name__}.{key}) instead\n",
      "  warnings.warn(\n",
      "/home/lmh1/anaconda3/envs/ipr/lib/python3.11/site-packages/spglib/spglib.py:115: DeprecationWarning: dict interface (SpaceGroupType['international']) is deprecated.Use attribute interface ({self.__class__.__name__}.{key}) instead\n",
      "  warnings.warn(\n",
      "/home/lmh1/anaconda3/envs/ipr/lib/python3.11/site-packages/spglib/spglib.py:115: DeprecationWarning: dict interface (SpglibDataset['equivalent_atoms']) is deprecated.Use attribute interface ({self.__class__.__name__}.{key}) instead\n",
      "  warnings.warn(\n",
      "/home/lmh1/anaconda3/envs/ipr/lib/python3.11/site-packages/spglib/spglib.py:115: DeprecationWarning: dict interface (SpglibDataset['wyckoffs']) is deprecated.Use attribute interface ({self.__class__.__name__}.{key}) instead\n",
      "  warnings.warn(\n"
     ]
    },
    {
     "name": "stdout",
     "output_type": "stream",
     "text": [
      "\n",
      "fb70d7f7-c2d2-48be-bf11-5cc9f1272317\n",
      "error: 'SpaceGroupType' object does not support item assignment\n"
     ]
    },
    {
     "name": "stderr",
     "output_type": "stream",
     "text": [
      "/home/lmh1/anaconda3/envs/ipr/lib/python3.11/site-packages/spglib/spglib.py:115: DeprecationWarning: dict interface (SpglibDataset['mapping_to_primitive']) is deprecated.Use attribute interface ({self.__class__.__name__}.{key}) instead\n",
      "  warnings.warn(\n",
      "/home/lmh1/anaconda3/envs/ipr/lib/python3.11/site-packages/spglib/spglib.py:115: DeprecationWarning: dict interface (SpglibDataset['std_mapping_to_primitive']) is deprecated.Use attribute interface ({self.__class__.__name__}.{key}) instead\n",
      "  warnings.warn(\n",
      "/home/lmh1/anaconda3/envs/ipr/lib/python3.11/site-packages/spglib/spglib.py:115: DeprecationWarning: dict interface (SpglibDataset['hall_number']) is deprecated.Use attribute interface ({self.__class__.__name__}.{key}) instead\n",
      "  warnings.warn(\n",
      "/home/lmh1/anaconda3/envs/ipr/lib/python3.11/site-packages/spglib/spglib.py:115: DeprecationWarning: dict interface (SpaceGroupType['number']) is deprecated.Use attribute interface ({self.__class__.__name__}.{key}) instead\n",
      "  warnings.warn(\n",
      "/home/lmh1/anaconda3/envs/ipr/lib/python3.11/site-packages/spglib/spglib.py:115: DeprecationWarning: dict interface (SpaceGroupType['international']) is deprecated.Use attribute interface ({self.__class__.__name__}.{key}) instead\n",
      "  warnings.warn(\n",
      "/home/lmh1/anaconda3/envs/ipr/lib/python3.11/site-packages/spglib/spglib.py:115: DeprecationWarning: dict interface (SpglibDataset['equivalent_atoms']) is deprecated.Use attribute interface ({self.__class__.__name__}.{key}) instead\n",
      "  warnings.warn(\n",
      "/home/lmh1/anaconda3/envs/ipr/lib/python3.11/site-packages/spglib/spglib.py:115: DeprecationWarning: dict interface (SpglibDataset['wyckoffs']) is deprecated.Use attribute interface ({self.__class__.__name__}.{key}) instead\n",
      "  warnings.warn(\n"
     ]
    },
    {
     "name": "stdout",
     "output_type": "stream",
     "text": [
      "89320e5d-81de-449c-8388-655f8b1936eb\n"
     ]
    },
    {
     "name": "stderr",
     "output_type": "stream",
     "text": [
      "/home/lmh1/anaconda3/envs/ipr/lib/python3.11/site-packages/spglib/spglib.py:115: DeprecationWarning: dict interface (SpglibDataset['mapping_to_primitive']) is deprecated.Use attribute interface ({self.__class__.__name__}.{key}) instead\n",
      "  warnings.warn(\n",
      "/home/lmh1/anaconda3/envs/ipr/lib/python3.11/site-packages/spglib/spglib.py:115: DeprecationWarning: dict interface (SpglibDataset['std_mapping_to_primitive']) is deprecated.Use attribute interface ({self.__class__.__name__}.{key}) instead\n",
      "  warnings.warn(\n"
     ]
    },
    {
     "name": "stdout",
     "output_type": "stream",
     "text": [
      "error: 'SpaceGroupType' object does not support item assignment\n"
     ]
    },
    {
     "name": "stderr",
     "output_type": "stream",
     "text": [
      "/home/lmh1/anaconda3/envs/ipr/lib/python3.11/site-packages/spglib/spglib.py:115: DeprecationWarning: dict interface (SpglibDataset['hall_number']) is deprecated.Use attribute interface ({self.__class__.__name__}.{key}) instead\n",
      "  warnings.warn(\n",
      "/home/lmh1/anaconda3/envs/ipr/lib/python3.11/site-packages/spglib/spglib.py:115: DeprecationWarning: dict interface (SpaceGroupType['number']) is deprecated.Use attribute interface ({self.__class__.__name__}.{key}) instead\n",
      "  warnings.warn(\n",
      "/home/lmh1/anaconda3/envs/ipr/lib/python3.11/site-packages/spglib/spglib.py:115: DeprecationWarning: dict interface (SpaceGroupType['international']) is deprecated.Use attribute interface ({self.__class__.__name__}.{key}) instead\n",
      "  warnings.warn(\n",
      "/home/lmh1/anaconda3/envs/ipr/lib/python3.11/site-packages/spglib/spglib.py:115: DeprecationWarning: dict interface (SpglibDataset['equivalent_atoms']) is deprecated.Use attribute interface ({self.__class__.__name__}.{key}) instead\n",
      "  warnings.warn(\n",
      "/home/lmh1/anaconda3/envs/ipr/lib/python3.11/site-packages/spglib/spglib.py:115: DeprecationWarning: dict interface (SpglibDataset['wyckoffs']) is deprecated.Use attribute interface ({self.__class__.__name__}.{key}) instead\n",
      "  warnings.warn(\n"
     ]
    },
    {
     "name": "stdout",
     "output_type": "stream",
     "text": [
      "8a969df1-9496-4c18-a89e-b7d38049def3\n",
      "error: 'SpaceGroupType' object does not support item assignment\n"
     ]
    },
    {
     "name": "stderr",
     "output_type": "stream",
     "text": [
      "/home/lmh1/anaconda3/envs/ipr/lib/python3.11/site-packages/spglib/spglib.py:115: DeprecationWarning: dict interface (SpglibDataset['mapping_to_primitive']) is deprecated.Use attribute interface ({self.__class__.__name__}.{key}) instead\n",
      "  warnings.warn(\n",
      "/home/lmh1/anaconda3/envs/ipr/lib/python3.11/site-packages/spglib/spglib.py:115: DeprecationWarning: dict interface (SpglibDataset['std_mapping_to_primitive']) is deprecated.Use attribute interface ({self.__class__.__name__}.{key}) instead\n",
      "  warnings.warn(\n",
      "/home/lmh1/anaconda3/envs/ipr/lib/python3.11/site-packages/spglib/spglib.py:115: DeprecationWarning: dict interface (SpglibDataset['hall_number']) is deprecated.Use attribute interface ({self.__class__.__name__}.{key}) instead\n",
      "  warnings.warn(\n",
      "/home/lmh1/anaconda3/envs/ipr/lib/python3.11/site-packages/spglib/spglib.py:115: DeprecationWarning: dict interface (SpaceGroupType['number']) is deprecated.Use attribute interface ({self.__class__.__name__}.{key}) instead\n",
      "  warnings.warn(\n",
      "/home/lmh1/anaconda3/envs/ipr/lib/python3.11/site-packages/spglib/spglib.py:115: DeprecationWarning: dict interface (SpaceGroupType['international']) is deprecated.Use attribute interface ({self.__class__.__name__}.{key}) instead\n",
      "  warnings.warn(\n",
      "/home/lmh1/anaconda3/envs/ipr/lib/python3.11/site-packages/spglib/spglib.py:115: DeprecationWarning: dict interface (SpglibDataset['equivalent_atoms']) is deprecated.Use attribute interface ({self.__class__.__name__}.{key}) instead\n",
      "  warnings.warn(\n",
      "/home/lmh1/anaconda3/envs/ipr/lib/python3.11/site-packages/spglib/spglib.py:115: DeprecationWarning: dict interface (SpglibDataset['wyckoffs']) is deprecated.Use attribute interface ({self.__class__.__name__}.{key}) instead\n",
      "  warnings.warn(\n"
     ]
    },
    {
     "name": "stdout",
     "output_type": "stream",
     "text": [
      "06072cdf-6014-4f6c-b27d-5e4f4abb4969\n",
      "error: 'SpaceGroupType' object does not support item assignment\n"
     ]
    },
    {
     "name": "stderr",
     "output_type": "stream",
     "text": [
      "/home/lmh1/anaconda3/envs/ipr/lib/python3.11/site-packages/spglib/spglib.py:115: DeprecationWarning: dict interface (SpglibDataset['mapping_to_primitive']) is deprecated.Use attribute interface ({self.__class__.__name__}.{key}) instead\n",
      "  warnings.warn(\n",
      "/home/lmh1/anaconda3/envs/ipr/lib/python3.11/site-packages/spglib/spglib.py:115: DeprecationWarning: dict interface (SpglibDataset['std_mapping_to_primitive']) is deprecated.Use attribute interface ({self.__class__.__name__}.{key}) instead\n",
      "  warnings.warn(\n",
      "/home/lmh1/anaconda3/envs/ipr/lib/python3.11/site-packages/spglib/spglib.py:115: DeprecationWarning: dict interface (SpglibDataset['hall_number']) is deprecated.Use attribute interface ({self.__class__.__name__}.{key}) instead\n",
      "  warnings.warn(\n",
      "/home/lmh1/anaconda3/envs/ipr/lib/python3.11/site-packages/spglib/spglib.py:115: DeprecationWarning: dict interface (SpaceGroupType['number']) is deprecated.Use attribute interface ({self.__class__.__name__}.{key}) instead\n",
      "  warnings.warn(\n",
      "/home/lmh1/anaconda3/envs/ipr/lib/python3.11/site-packages/spglib/spglib.py:115: DeprecationWarning: dict interface (SpaceGroupType['international']) is deprecated.Use attribute interface ({self.__class__.__name__}.{key}) instead\n",
      "  warnings.warn(\n",
      "/home/lmh1/anaconda3/envs/ipr/lib/python3.11/site-packages/spglib/spglib.py:115: DeprecationWarning: dict interface (SpglibDataset['equivalent_atoms']) is deprecated.Use attribute interface ({self.__class__.__name__}.{key}) instead\n",
      "  warnings.warn(\n",
      "/home/lmh1/anaconda3/envs/ipr/lib/python3.11/site-packages/spglib/spglib.py:115: DeprecationWarning: dict interface (SpglibDataset['wyckoffs']) is deprecated.Use attribute interface ({self.__class__.__name__}.{key}) instead\n",
      "  warnings.warn(\n"
     ]
    },
    {
     "name": "stdout",
     "output_type": "stream",
     "text": [
      "5afd46e6-be39-4a90-9de9-71d4a8535a20\n",
      "error: 'SpaceGroupType' object does not support item assignment\n"
     ]
    },
    {
     "name": "stderr",
     "output_type": "stream",
     "text": [
      "/home/lmh1/anaconda3/envs/ipr/lib/python3.11/site-packages/spglib/spglib.py:115: DeprecationWarning: dict interface (SpglibDataset['mapping_to_primitive']) is deprecated.Use attribute interface ({self.__class__.__name__}.{key}) instead\n",
      "  warnings.warn(\n",
      "/home/lmh1/anaconda3/envs/ipr/lib/python3.11/site-packages/spglib/spglib.py:115: DeprecationWarning: dict interface (SpglibDataset['std_mapping_to_primitive']) is deprecated.Use attribute interface ({self.__class__.__name__}.{key}) instead\n",
      "  warnings.warn(\n",
      "/home/lmh1/anaconda3/envs/ipr/lib/python3.11/site-packages/spglib/spglib.py:115: DeprecationWarning: dict interface (SpglibDataset['hall_number']) is deprecated.Use attribute interface ({self.__class__.__name__}.{key}) instead\n",
      "  warnings.warn(\n",
      "/home/lmh1/anaconda3/envs/ipr/lib/python3.11/site-packages/spglib/spglib.py:115: DeprecationWarning: dict interface (SpaceGroupType['number']) is deprecated.Use attribute interface ({self.__class__.__name__}.{key}) instead\n",
      "  warnings.warn(\n",
      "/home/lmh1/anaconda3/envs/ipr/lib/python3.11/site-packages/spglib/spglib.py:115: DeprecationWarning: dict interface (SpaceGroupType['international']) is deprecated.Use attribute interface ({self.__class__.__name__}.{key}) instead\n",
      "  warnings.warn(\n",
      "/home/lmh1/anaconda3/envs/ipr/lib/python3.11/site-packages/spglib/spglib.py:115: DeprecationWarning: dict interface (SpglibDataset['equivalent_atoms']) is deprecated.Use attribute interface ({self.__class__.__name__}.{key}) instead\n",
      "  warnings.warn(\n",
      "/home/lmh1/anaconda3/envs/ipr/lib/python3.11/site-packages/spglib/spglib.py:115: DeprecationWarning: dict interface (SpglibDataset['wyckoffs']) is deprecated.Use attribute interface ({self.__class__.__name__}.{key}) instead\n",
      "  warnings.warn(\n"
     ]
    },
    {
     "name": "stdout",
     "output_type": "stream",
     "text": [
      "37d3b33b-e0f7-484a-aa78-c69caea8f995\n",
      "error: 'SpaceGroupType' object does not support item assignment\n"
     ]
    },
    {
     "name": "stderr",
     "output_type": "stream",
     "text": [
      "/home/lmh1/anaconda3/envs/ipr/lib/python3.11/site-packages/spglib/spglib.py:115: DeprecationWarning: dict interface (SpglibDataset['mapping_to_primitive']) is deprecated.Use attribute interface ({self.__class__.__name__}.{key}) instead\n",
      "  warnings.warn(\n",
      "/home/lmh1/anaconda3/envs/ipr/lib/python3.11/site-packages/spglib/spglib.py:115: DeprecationWarning: dict interface (SpglibDataset['std_mapping_to_primitive']) is deprecated.Use attribute interface ({self.__class__.__name__}.{key}) instead\n",
      "  warnings.warn(\n",
      "/home/lmh1/anaconda3/envs/ipr/lib/python3.11/site-packages/spglib/spglib.py:115: DeprecationWarning: dict interface (SpglibDataset['hall_number']) is deprecated.Use attribute interface ({self.__class__.__name__}.{key}) instead\n",
      "  warnings.warn(\n",
      "/home/lmh1/anaconda3/envs/ipr/lib/python3.11/site-packages/spglib/spglib.py:115: DeprecationWarning: dict interface (SpaceGroupType['number']) is deprecated.Use attribute interface ({self.__class__.__name__}.{key}) instead\n",
      "  warnings.warn(\n",
      "/home/lmh1/anaconda3/envs/ipr/lib/python3.11/site-packages/spglib/spglib.py:115: DeprecationWarning: dict interface (SpaceGroupType['international']) is deprecated.Use attribute interface ({self.__class__.__name__}.{key}) instead\n",
      "  warnings.warn(\n",
      "/home/lmh1/anaconda3/envs/ipr/lib/python3.11/site-packages/spglib/spglib.py:115: DeprecationWarning: dict interface (SpglibDataset['equivalent_atoms']) is deprecated.Use attribute interface ({self.__class__.__name__}.{key}) instead\n",
      "  warnings.warn(\n",
      "/home/lmh1/anaconda3/envs/ipr/lib/python3.11/site-packages/spglib/spglib.py:115: DeprecationWarning: dict interface (SpglibDataset['wyckoffs']) is deprecated.Use attribute interface ({self.__class__.__name__}.{key}) instead\n",
      "  warnings.warn(\n"
     ]
    },
    {
     "name": "stdout",
     "output_type": "stream",
     "text": [
      "2d36b689-995e-488f-a70e-2edadfa1c32e\n",
      "error: 'SpaceGroupType' object does not support item assignment\n"
     ]
    },
    {
     "name": "stderr",
     "output_type": "stream",
     "text": [
      "/home/lmh1/anaconda3/envs/ipr/lib/python3.11/site-packages/spglib/spglib.py:115: DeprecationWarning: dict interface (SpglibDataset['mapping_to_primitive']) is deprecated.Use attribute interface ({self.__class__.__name__}.{key}) instead\n",
      "  warnings.warn(\n",
      "/home/lmh1/anaconda3/envs/ipr/lib/python3.11/site-packages/spglib/spglib.py:115: DeprecationWarning: dict interface (SpglibDataset['std_mapping_to_primitive']) is deprecated.Use attribute interface ({self.__class__.__name__}.{key}) instead\n",
      "  warnings.warn(\n",
      "/home/lmh1/anaconda3/envs/ipr/lib/python3.11/site-packages/spglib/spglib.py:115: DeprecationWarning: dict interface (SpglibDataset['hall_number']) is deprecated.Use attribute interface ({self.__class__.__name__}.{key}) instead\n",
      "  warnings.warn(\n",
      "/home/lmh1/anaconda3/envs/ipr/lib/python3.11/site-packages/spglib/spglib.py:115: DeprecationWarning: dict interface (SpaceGroupType['number']) is deprecated.Use attribute interface ({self.__class__.__name__}.{key}) instead\n",
      "  warnings.warn(\n",
      "/home/lmh1/anaconda3/envs/ipr/lib/python3.11/site-packages/spglib/spglib.py:115: DeprecationWarning: dict interface (SpaceGroupType['international']) is deprecated.Use attribute interface ({self.__class__.__name__}.{key}) instead\n",
      "  warnings.warn(\n",
      "/home/lmh1/anaconda3/envs/ipr/lib/python3.11/site-packages/spglib/spglib.py:115: DeprecationWarning: dict interface (SpglibDataset['equivalent_atoms']) is deprecated.Use attribute interface ({self.__class__.__name__}.{key}) instead\n",
      "  warnings.warn(\n",
      "/home/lmh1/anaconda3/envs/ipr/lib/python3.11/site-packages/spglib/spglib.py:115: DeprecationWarning: dict interface (SpglibDataset['wyckoffs']) is deprecated.Use attribute interface ({self.__class__.__name__}.{key}) instead\n",
      "  warnings.warn(\n"
     ]
    },
    {
     "name": "stdout",
     "output_type": "stream",
     "text": [
      "cf425662-aad4-4a3f-a5dc-37f314743dfd\n",
      "error: 'SpaceGroupType' object does not support item assignment\n"
     ]
    },
    {
     "name": "stderr",
     "output_type": "stream",
     "text": [
      "/home/lmh1/anaconda3/envs/ipr/lib/python3.11/site-packages/spglib/spglib.py:115: DeprecationWarning: dict interface (SpglibDataset['mapping_to_primitive']) is deprecated.Use attribute interface ({self.__class__.__name__}.{key}) instead\n",
      "  warnings.warn(\n",
      "/home/lmh1/anaconda3/envs/ipr/lib/python3.11/site-packages/spglib/spglib.py:115: DeprecationWarning: dict interface (SpglibDataset['std_mapping_to_primitive']) is deprecated.Use attribute interface ({self.__class__.__name__}.{key}) instead\n",
      "  warnings.warn(\n",
      "/home/lmh1/anaconda3/envs/ipr/lib/python3.11/site-packages/spglib/spglib.py:115: DeprecationWarning: dict interface (SpglibDataset['hall_number']) is deprecated.Use attribute interface ({self.__class__.__name__}.{key}) instead\n",
      "  warnings.warn(\n",
      "/home/lmh1/anaconda3/envs/ipr/lib/python3.11/site-packages/spglib/spglib.py:115: DeprecationWarning: dict interface (SpaceGroupType['number']) is deprecated.Use attribute interface ({self.__class__.__name__}.{key}) instead\n",
      "  warnings.warn(\n",
      "/home/lmh1/anaconda3/envs/ipr/lib/python3.11/site-packages/spglib/spglib.py:115: DeprecationWarning: dict interface (SpaceGroupType['international']) is deprecated.Use attribute interface ({self.__class__.__name__}.{key}) instead\n",
      "  warnings.warn(\n",
      "/home/lmh1/anaconda3/envs/ipr/lib/python3.11/site-packages/spglib/spglib.py:115: DeprecationWarning: dict interface (SpglibDataset['equivalent_atoms']) is deprecated.Use attribute interface ({self.__class__.__name__}.{key}) instead\n",
      "  warnings.warn(\n",
      "/home/lmh1/anaconda3/envs/ipr/lib/python3.11/site-packages/spglib/spglib.py:115: DeprecationWarning: dict interface (SpglibDataset['wyckoffs']) is deprecated.Use attribute interface ({self.__class__.__name__}.{key}) instead\n",
      "  warnings.warn(\n"
     ]
    },
    {
     "name": "stdout",
     "output_type": "stream",
     "text": [
      "e840a150-fd86-47dd-8094-2794273353fb\n",
      "error: 'SpaceGroupType' object does not support item assignment\n"
     ]
    },
    {
     "name": "stderr",
     "output_type": "stream",
     "text": [
      "/home/lmh1/anaconda3/envs/ipr/lib/python3.11/site-packages/spglib/spglib.py:115: DeprecationWarning: dict interface (SpglibDataset['mapping_to_primitive']) is deprecated.Use attribute interface ({self.__class__.__name__}.{key}) instead\n",
      "  warnings.warn(\n",
      "/home/lmh1/anaconda3/envs/ipr/lib/python3.11/site-packages/spglib/spglib.py:115: DeprecationWarning: dict interface (SpglibDataset['std_mapping_to_primitive']) is deprecated.Use attribute interface ({self.__class__.__name__}.{key}) instead\n",
      "  warnings.warn(\n",
      "/home/lmh1/anaconda3/envs/ipr/lib/python3.11/site-packages/spglib/spglib.py:115: DeprecationWarning: dict interface (SpglibDataset['hall_number']) is deprecated.Use attribute interface ({self.__class__.__name__}.{key}) instead\n",
      "  warnings.warn(\n",
      "/home/lmh1/anaconda3/envs/ipr/lib/python3.11/site-packages/spglib/spglib.py:115: DeprecationWarning: dict interface (SpaceGroupType['number']) is deprecated.Use attribute interface ({self.__class__.__name__}.{key}) instead\n",
      "  warnings.warn(\n",
      "/home/lmh1/anaconda3/envs/ipr/lib/python3.11/site-packages/spglib/spglib.py:115: DeprecationWarning: dict interface (SpaceGroupType['international']) is deprecated.Use attribute interface ({self.__class__.__name__}.{key}) instead\n",
      "  warnings.warn(\n",
      "/home/lmh1/anaconda3/envs/ipr/lib/python3.11/site-packages/spglib/spglib.py:115: DeprecationWarning: dict interface (SpglibDataset['equivalent_atoms']) is deprecated.Use attribute interface ({self.__class__.__name__}.{key}) instead\n",
      "  warnings.warn(\n",
      "/home/lmh1/anaconda3/envs/ipr/lib/python3.11/site-packages/spglib/spglib.py:115: DeprecationWarning: dict interface (SpglibDataset['wyckoffs']) is deprecated.Use attribute interface ({self.__class__.__name__}.{key}) instead\n",
      "  warnings.warn(\n"
     ]
    },
    {
     "name": "stdout",
     "output_type": "stream",
     "text": [
      "3c149f8e-6027-4fa3-8f8e-0fa9d936102c\n"
     ]
    },
    {
     "name": "stderr",
     "output_type": "stream",
     "text": [
      "/home/lmh1/anaconda3/envs/ipr/lib/python3.11/site-packages/spglib/spglib.py:115: DeprecationWarning: dict interface (SpglibDataset['mapping_to_primitive']) is deprecated.Use attribute interface ({self.__class__.__name__}.{key}) instead\n",
      "  warnings.warn(\n",
      "/home/lmh1/anaconda3/envs/ipr/lib/python3.11/site-packages/spglib/spglib.py:115: DeprecationWarning: dict interface (SpglibDataset['std_mapping_to_primitive']) is deprecated.Use attribute interface ({self.__class__.__name__}.{key}) instead\n",
      "  warnings.warn(\n"
     ]
    },
    {
     "name": "stdout",
     "output_type": "stream",
     "text": [
      "error: 'SpaceGroupType' object does not support item assignment\n"
     ]
    },
    {
     "name": "stderr",
     "output_type": "stream",
     "text": [
      "/home/lmh1/anaconda3/envs/ipr/lib/python3.11/site-packages/spglib/spglib.py:115: DeprecationWarning: dict interface (SpglibDataset['hall_number']) is deprecated.Use attribute interface ({self.__class__.__name__}.{key}) instead\n",
      "  warnings.warn(\n",
      "/home/lmh1/anaconda3/envs/ipr/lib/python3.11/site-packages/spglib/spglib.py:115: DeprecationWarning: dict interface (SpaceGroupType['number']) is deprecated.Use attribute interface ({self.__class__.__name__}.{key}) instead\n",
      "  warnings.warn(\n",
      "/home/lmh1/anaconda3/envs/ipr/lib/python3.11/site-packages/spglib/spglib.py:115: DeprecationWarning: dict interface (SpaceGroupType['international']) is deprecated.Use attribute interface ({self.__class__.__name__}.{key}) instead\n",
      "  warnings.warn(\n",
      "/home/lmh1/anaconda3/envs/ipr/lib/python3.11/site-packages/spglib/spglib.py:115: DeprecationWarning: dict interface (SpglibDataset['equivalent_atoms']) is deprecated.Use attribute interface ({self.__class__.__name__}.{key}) instead\n",
      "  warnings.warn(\n",
      "/home/lmh1/anaconda3/envs/ipr/lib/python3.11/site-packages/spglib/spglib.py:115: DeprecationWarning: dict interface (SpglibDataset['wyckoffs']) is deprecated.Use attribute interface ({self.__class__.__name__}.{key}) instead\n",
      "  warnings.warn(\n"
     ]
    },
    {
     "name": "stdout",
     "output_type": "stream",
     "text": [
      "bcea1038-5635-4b5d-903b-e01b63fb82b7\n",
      "error: 'SpaceGroupType' object does not support item assignment\n"
     ]
    },
    {
     "name": "stderr",
     "output_type": "stream",
     "text": [
      "/home/lmh1/anaconda3/envs/ipr/lib/python3.11/site-packages/spglib/spglib.py:115: DeprecationWarning: dict interface (SpglibDataset['mapping_to_primitive']) is deprecated.Use attribute interface ({self.__class__.__name__}.{key}) instead\n",
      "  warnings.warn(\n",
      "/home/lmh1/anaconda3/envs/ipr/lib/python3.11/site-packages/spglib/spglib.py:115: DeprecationWarning: dict interface (SpglibDataset['std_mapping_to_primitive']) is deprecated.Use attribute interface ({self.__class__.__name__}.{key}) instead\n",
      "  warnings.warn(\n",
      "/home/lmh1/anaconda3/envs/ipr/lib/python3.11/site-packages/spglib/spglib.py:115: DeprecationWarning: dict interface (SpglibDataset['hall_number']) is deprecated.Use attribute interface ({self.__class__.__name__}.{key}) instead\n",
      "  warnings.warn(\n",
      "/home/lmh1/anaconda3/envs/ipr/lib/python3.11/site-packages/spglib/spglib.py:115: DeprecationWarning: dict interface (SpaceGroupType['number']) is deprecated.Use attribute interface ({self.__class__.__name__}.{key}) instead\n",
      "  warnings.warn(\n",
      "/home/lmh1/anaconda3/envs/ipr/lib/python3.11/site-packages/spglib/spglib.py:115: DeprecationWarning: dict interface (SpaceGroupType['international']) is deprecated.Use attribute interface ({self.__class__.__name__}.{key}) instead\n",
      "  warnings.warn(\n",
      "/home/lmh1/anaconda3/envs/ipr/lib/python3.11/site-packages/spglib/spglib.py:115: DeprecationWarning: dict interface (SpglibDataset['equivalent_atoms']) is deprecated.Use attribute interface ({self.__class__.__name__}.{key}) instead\n",
      "  warnings.warn(\n",
      "/home/lmh1/anaconda3/envs/ipr/lib/python3.11/site-packages/spglib/spglib.py:115: DeprecationWarning: dict interface (SpglibDataset['wyckoffs']) is deprecated.Use attribute interface ({self.__class__.__name__}.{key}) instead\n",
      "  warnings.warn(\n"
     ]
    },
    {
     "name": "stdout",
     "output_type": "stream",
     "text": [
      "e5b0b1cb-9c88-4755-8478-392881dbcf33\n",
      "error: 'SpaceGroupType' object does not support item assignment\n"
     ]
    },
    {
     "name": "stderr",
     "output_type": "stream",
     "text": [
      "/home/lmh1/anaconda3/envs/ipr/lib/python3.11/site-packages/spglib/spglib.py:115: DeprecationWarning: dict interface (SpglibDataset['mapping_to_primitive']) is deprecated.Use attribute interface ({self.__class__.__name__}.{key}) instead\n",
      "  warnings.warn(\n",
      "/home/lmh1/anaconda3/envs/ipr/lib/python3.11/site-packages/spglib/spglib.py:115: DeprecationWarning: dict interface (SpglibDataset['std_mapping_to_primitive']) is deprecated.Use attribute interface ({self.__class__.__name__}.{key}) instead\n",
      "  warnings.warn(\n",
      "/home/lmh1/anaconda3/envs/ipr/lib/python3.11/site-packages/spglib/spglib.py:115: DeprecationWarning: dict interface (SpglibDataset['hall_number']) is deprecated.Use attribute interface ({self.__class__.__name__}.{key}) instead\n",
      "  warnings.warn(\n",
      "/home/lmh1/anaconda3/envs/ipr/lib/python3.11/site-packages/spglib/spglib.py:115: DeprecationWarning: dict interface (SpaceGroupType['number']) is deprecated.Use attribute interface ({self.__class__.__name__}.{key}) instead\n",
      "  warnings.warn(\n",
      "/home/lmh1/anaconda3/envs/ipr/lib/python3.11/site-packages/spglib/spglib.py:115: DeprecationWarning: dict interface (SpaceGroupType['international']) is deprecated.Use attribute interface ({self.__class__.__name__}.{key}) instead\n",
      "  warnings.warn(\n",
      "/home/lmh1/anaconda3/envs/ipr/lib/python3.11/site-packages/spglib/spglib.py:115: DeprecationWarning: dict interface (SpglibDataset['equivalent_atoms']) is deprecated.Use attribute interface ({self.__class__.__name__}.{key}) instead\n",
      "  warnings.warn(\n",
      "/home/lmh1/anaconda3/envs/ipr/lib/python3.11/site-packages/spglib/spglib.py:115: DeprecationWarning: dict interface (SpglibDataset['wyckoffs']) is deprecated.Use attribute interface ({self.__class__.__name__}.{key}) instead\n",
      "  warnings.warn(\n"
     ]
    },
    {
     "name": "stdout",
     "output_type": "stream",
     "text": [
      "f4c2915b-1387-4de3-832d-c2e493e64a62\n",
      "error: 'SpaceGroupType' object does not support item assignment\n"
     ]
    },
    {
     "name": "stderr",
     "output_type": "stream",
     "text": [
      "/home/lmh1/anaconda3/envs/ipr/lib/python3.11/site-packages/spglib/spglib.py:115: DeprecationWarning: dict interface (SpglibDataset['mapping_to_primitive']) is deprecated.Use attribute interface ({self.__class__.__name__}.{key}) instead\n",
      "  warnings.warn(\n",
      "/home/lmh1/anaconda3/envs/ipr/lib/python3.11/site-packages/spglib/spglib.py:115: DeprecationWarning: dict interface (SpglibDataset['std_mapping_to_primitive']) is deprecated.Use attribute interface ({self.__class__.__name__}.{key}) instead\n",
      "  warnings.warn(\n",
      "/home/lmh1/anaconda3/envs/ipr/lib/python3.11/site-packages/spglib/spglib.py:115: DeprecationWarning: dict interface (SpglibDataset['hall_number']) is deprecated.Use attribute interface ({self.__class__.__name__}.{key}) instead\n",
      "  warnings.warn(\n",
      "/home/lmh1/anaconda3/envs/ipr/lib/python3.11/site-packages/spglib/spglib.py:115: DeprecationWarning: dict interface (SpaceGroupType['number']) is deprecated.Use attribute interface ({self.__class__.__name__}.{key}) instead\n",
      "  warnings.warn(\n",
      "/home/lmh1/anaconda3/envs/ipr/lib/python3.11/site-packages/spglib/spglib.py:115: DeprecationWarning: dict interface (SpaceGroupType['international']) is deprecated.Use attribute interface ({self.__class__.__name__}.{key}) instead\n",
      "  warnings.warn(\n",
      "/home/lmh1/anaconda3/envs/ipr/lib/python3.11/site-packages/spglib/spglib.py:115: DeprecationWarning: dict interface (SpglibDataset['equivalent_atoms']) is deprecated.Use attribute interface ({self.__class__.__name__}.{key}) instead\n",
      "  warnings.warn(\n",
      "/home/lmh1/anaconda3/envs/ipr/lib/python3.11/site-packages/spglib/spglib.py:115: DeprecationWarning: dict interface (SpglibDataset['wyckoffs']) is deprecated.Use attribute interface ({self.__class__.__name__}.{key}) instead\n",
      "  warnings.warn(\n"
     ]
    }
   ],
   "source": [
    "emperor.workflow(pools = [1,2,3,4], runner_style='serial', potential_id='1986--Foiles-S-M--Ag--LAMMPS--ipr1')"
   ]
  },
  {
   "cell_type": "code",
   "execution_count": 3,
   "id": "12a8ef19-5cca-493d-8da7-735bf41fbe82",
   "metadata": {},
   "outputs": [
    {
     "name": "stdout",
     "output_type": "stream",
     "text": [
      "database style local at /home/lmh1/iprPy_test\n"
     ]
    }
   ],
   "source": [
    "database = iprPy.load_database('test')\n",
    "print(database)"
   ]
  },
  {
   "cell_type": "code",
   "execution_count": 4,
   "id": "4cb88e50-18c7-48dc-9864-38c931e8ada9",
   "metadata": {},
   "outputs": [
    {
     "name": "stdout",
     "output_type": "stream",
     "text": [
      "5 records to clean\n"
     ]
    }
   ],
   "source": [
    "database.clean_records('test_4', 'calculation_crystal_space_group')"
   ]
  },
  {
   "cell_type": "code",
   "execution_count": 6,
   "id": "c2693904-eb46-411f-9a1c-50cad016176f",
   "metadata": {},
   "outputs": [
    {
     "name": "stdout",
     "output_type": "stream",
     "text": [
      "Runner started with pid 10969\n",
      "f4c2915b-1387-4de3-832d-c2e493e64a62\n",
      "sim calculated successfully\n",
      "\n",
      "3c149f8e-6027-4fa3-8f8e-0fa9d936102c\n",
      "sim calculated successfully\n",
      "\n",
      "d3fb5a75-aa33-404a-a5bd-ee7ba6618fa8\n",
      "sim calculated successfully\n",
      "\n",
      "412bbb35-aa29-4c5b-ae49-f1236e59d045\n",
      "sim calculated successfully\n",
      "\n",
      "2d36b689-995e-488f-a70e-2edadfa1c32e\n",
      "sim calculated successfully\n",
      "\n",
      "a2501216-034b-473a-bc3d-ba7154441bfe\n",
      "sim calculated successfully\n",
      "\n",
      "6533137f-b7b4-400f-adc1-97eac06fd167\n",
      "sim calculated successfully\n",
      "\n",
      "32584fdc-1935-4321-a2d7-1bad30b0daac\n",
      "sim calculated successfully\n",
      "\n",
      "47439f1f-0a23-420e-a71e-445bd900a426\n",
      "sim calculated successfully\n",
      "\n",
      "e840a150-fd86-47dd-8094-2794273353fb\n",
      "sim calculated successfully\n",
      "\n",
      "d3cbc66c-55d7-432a-8f97-8839f144b720\n",
      "sim calculated successfully\n",
      "\n",
      "3b45f74e-cf4c-40c7-9598-42151f6c8357\n",
      "sim calculated successfully\n",
      "\n",
      "7496a12f-b398-43ff-b036-ded5c3e886f8\n",
      "sim calculated successfully\n",
      "\n",
      "b10fdb29-b808-4e9f-b119-b6166d174e01\n",
      "sim calculated successfully\n",
      "\n",
      "180efbfb-6e70-429b-b708-f5cdcf04deea\n",
      "sim calculated successfully\n",
      "\n",
      "bcea1038-5635-4b5d-903b-e01b63fb82b7\n",
      "sim calculated successfully\n",
      "\n",
      "fb70d7f7-c2d2-48be-bf11-5cc9f1272317\n",
      "sim calculated successfully\n",
      "\n",
      "88fc5598-4fc4-4f32-b87e-9f567d2bd4eb\n",
      "sim calculated successfully\n",
      "\n",
      "f64a7b52-ed1a-44fd-8d94-31f38f472e92\n",
      "sim calculated successfully\n",
      "\n",
      "e6d0a894-0376-418f-bd01-c29d2f35fc85\n",
      "sim calculated successfully\n",
      "\n",
      "a650f2bd-197c-4f5a-8df5-1c9e18e6501a\n",
      "sim calculated successfully\n",
      "\n",
      "0bd2a6cf-fea8-425e-997b-a95aa7ce68d5\n",
      "sim calculated successfully\n",
      "\n",
      "bbef1e23-89c0-4424-9e53-7ba02888ae1c\n",
      "sim calculated successfully\n",
      "\n",
      "fef780ed-b16a-4f13-a042-0191ae296a62\n",
      "sim calculated successfully\n",
      "\n",
      "86f8d909-3d8d-4f32-8f98-232fa713927b\n",
      "sim calculated successfully\n",
      "\n",
      "ddba3650-5765-413b-b551-2028bb381d0b\n",
      "sim calculated successfully\n",
      "\n",
      "8a969df1-9496-4c18-a89e-b7d38049def3\n",
      "sim calculated successfully\n",
      "\n",
      "bb03b7eb-01ef-452c-b98b-75023baa5c47\n",
      "sim calculated successfully\n",
      "\n",
      "e5b0b1cb-9c88-4755-8478-392881dbcf33\n",
      "sim calculated successfully\n",
      "\n",
      "990838de-c46a-47ca-a50c-cc3869971f4f\n",
      "sim calculated successfully\n",
      "\n",
      "a462e637-5dd3-4eed-89f4-ff7c4d69f8e8\n",
      "sim calculated successfully\n",
      "\n",
      "27eb44a5-5a2e-497b-9c34-2efe25a8318c\n",
      "sim calculated successfully\n",
      "\n",
      "f0fb1dc5-a358-46b4-901e-9f732bd9eaf6\n",
      "sim calculated successfully\n",
      "\n",
      "6f0bdb19-44bd-49e4-8ce3-a586a9443f69\n",
      "sim calculated successfully\n",
      "\n",
      "faf131ff-f642-4916-9533-3cefa510ec0d\n",
      "sim calculated successfully\n",
      "\n",
      "fce03ae8-1853-429f-a326-2e3cd5d5e64f\n",
      "sim calculated successfully\n",
      "\n",
      "3b2b175f-4c2a-409a-805a-db05000b4c1b\n",
      "sim calculated successfully\n",
      "\n",
      "cf425662-aad4-4a3f-a5dc-37f314743dfd\n",
      "sim calculated successfully\n",
      "\n",
      "37d3b33b-e0f7-484a-aa78-c69caea8f995\n",
      "sim calculated successfully\n",
      "\n",
      "791ecab6-f56b-42cf-badd-dcc442a6c89d\n",
      "sim calculated successfully\n",
      "\n",
      "1937cff6-2a59-4d34-95e2-0ba35cd352b8\n",
      "sim calculated successfully\n",
      "\n",
      "5afd46e6-be39-4a90-9de9-71d4a8535a20\n",
      "sim calculated successfully\n",
      "\n",
      "89320e5d-81de-449c-8388-655f8b1936eb\n",
      "sim calculated successfully\n",
      "\n",
      "93284b23-c7e1-468d-8721-0f74a4381ea1\n",
      "sim calculated successfully\n",
      "\n",
      "No simulations left to run\n"
     ]
    }
   ],
   "source": [
    "database.runner('test_4')"
   ]
  },
  {
   "cell_type": "code",
   "execution_count": null,
   "id": "080130c9-b82b-47e2-92d5-b3d42030c648",
   "metadata": {},
   "outputs": [],
   "source": []
  },
  {
   "cell_type": "code",
   "execution_count": null,
   "id": "39a13c98-d9e7-4574-9dbb-c1b74d372cbc",
   "metadata": {},
   "outputs": [],
   "source": []
  }
 ],
 "metadata": {
  "kernelspec": {
   "display_name": "ipr",
   "language": "python",
   "name": "ipr"
  },
  "language_info": {
   "codemirror_mode": {
    "name": "ipython",
    "version": 3
   },
   "file_extension": ".py",
   "mimetype": "text/x-python",
   "name": "python",
   "nbconvert_exporter": "python",
   "pygments_lexer": "ipython3",
   "version": "3.11.11"
  }
 },
 "nbformat": 4,
 "nbformat_minor": 5
}
