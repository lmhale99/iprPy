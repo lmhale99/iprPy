{
 "cells": [
  {
   "cell_type": "markdown",
   "metadata": {},
   "source": [
    "# energy_check - Methodology and code"
   ]
  },
  {
   "cell_type": "markdown",
   "metadata": {},
   "source": [
    "__Python imports__\n",
    "\n",
    "- [numpy](http://www.numpy.org/)\n",
    "- [IPython](https://ipython.org)\n",
    "- [atomman](https://github.com/usnistgov/atomman)\n",
    "- [iprPy](https://github.com/usnistgov/iprPy)"
   ]
  },
  {
   "cell_type": "code",
   "execution_count": 1,
   "metadata": {},
   "outputs": [
    {
     "name": "stdout",
     "output_type": "stream",
     "text": [
      "Notebook last executed on 2025-02-27 using iprPy version 0.11.7\n"
     ]
    }
   ],
   "source": [
    "# Standard library imports\n",
    "from pathlib import Path\n",
    "import datetime\n",
    "from typing import Optional, Union\n",
    "\n",
    "# http://www.numpy.org/\n",
    "import numpy as np\n",
    "\n",
    "# https://ipython.org/\n",
    "from IPython.display import display, Markdown\n",
    "\n",
    "# https://github.com/usnistgov/atomman \n",
    "import atomman as am\n",
    "import atomman.lammps as lmp\n",
    "import atomman.unitconvert as uc\n",
    "from atomman.tools import filltemplate\n",
    "\n",
    "# https://github.com/usnistgov/iprPy\n",
    "import iprPy\n",
    "from iprPy.tools import read_calc_file\n",
    "\n",
    "print('Notebook last executed on', datetime.date.today(), 'using iprPy version', iprPy.__version__)"
   ]
  },
  {
   "cell_type": "markdown",
   "metadata": {},
   "source": [
    "## 1. Load calculation and view description\n",
    "\n",
    "### 1.1. Load the calculation"
   ]
  },
  {
   "cell_type": "code",
   "execution_count": 2,
   "metadata": {},
   "outputs": [],
   "source": [
    "# Load the calculation being demoed\n",
    "calculation = iprPy.load_calculation('energy_check')"
   ]
  },
  {
   "cell_type": "markdown",
   "metadata": {},
   "source": [
    "### 1.2. Display calculation description and theory"
   ]
  },
  {
   "cell_type": "code",
   "execution_count": 3,
   "metadata": {},
   "outputs": [
    {
     "data": {
      "text/markdown": [
       "# energy_check calculation style\n",
       "\n",
       "**Lucas M. Hale**, [lucas.hale@nist.gov](mailto:lucas.hale@nist.gov?Subject=ipr-demo), *Materials Science and Engineering Division, NIST*.\n",
       "\n",
       "Idea suggested by Udo v. Toussaint (Max-Planck-Institute f. Plasmaphysics)\n",
       "\n",
       "## Introduction\n",
       "\n",
       "The energy_check calculation style provides a quick check if the energy of an atomic configuration matches with an expected one.\n",
       "\n",
       "### Version notes\n",
       "\n",
       "- 2/25/2025 : Calculation updated to include more outputs and option to create a dumpfile with atomic forces.\n",
       "\n",
       "### Additional dependencies\n",
       "\n",
       "### Disclaimers\n",
       "\n",
       "- [NIST disclaimers](http://www.nist.gov/public_affairs/disclaimer.cfm)\n",
       "\n",
       "- Small variations in the energy are to be expected due to numerical precisions. \n"
      ],
      "text/plain": [
       "<IPython.core.display.Markdown object>"
      ]
     },
     "metadata": {},
     "output_type": "display_data"
    },
    {
     "data": {
      "text/markdown": [
       "## Method and Theory\n",
       "\n",
       "The calculation performs a quick run 0 (no relaxation) energy calculation on a given atomic configuration using a given potential and compares the computed potential energy versus an expected energy value. "
      ],
      "text/plain": [
       "<IPython.core.display.Markdown object>"
      ]
     },
     "metadata": {},
     "output_type": "display_data"
    }
   ],
   "source": [
    "# Display main docs and theory\n",
    "display(Markdown(calculation.maindoc))\n",
    "display(Markdown(calculation.theorydoc))"
   ]
  },
  {
   "cell_type": "markdown",
   "metadata": {},
   "source": [
    "## 2. Define calculation functions and generate files\n",
    "\n",
    "This section defines the calculation functions and associated resource files exactly as they exist inside the iprPy package.  This allows for the code used to be directly visible and modifiable by anyone looking to see how it works."
   ]
  },
  {
   "cell_type": "markdown",
   "metadata": {},
   "source": [
    "### 2.1. energy_check()\n",
    "\n",
    "This is the primary function for the calculation.  The version of this function built in iprPy can be accessed by calling the calc() method of an object of the associated calculation class."
   ]
  },
  {
   "cell_type": "code",
   "execution_count": 4,
   "metadata": {},
   "outputs": [],
   "source": [
    "def energy_check(lammps_command: str,\n",
    "                 system: am.System,\n",
    "                 potential: lmp.Potential,\n",
    "                 mpi_command: Optional[str] = None,\n",
    "                 dumpforces: bool = False) -> dict:\n",
    "    \"\"\"\n",
    "    Performs a quick run 0 calculation to evaluate the potential energy of a\n",
    "    configuration.\n",
    "    \n",
    "    Parameters\n",
    "    ----------\n",
    "    lammps_command :str\n",
    "        Command for running LAMMPS.\n",
    "    system : atomman.System\n",
    "        The atomic configuration to evaluate.\n",
    "    potential : atomman.lammps.Potential\n",
    "        The LAMMPS implemented potential to use.\n",
    "    mpi_command : str, optional\n",
    "        The MPI command for running LAMMPS in parallel.  If not given, LAMMPS\n",
    "        will run serially.\n",
    "    dumpforces : bool, optional\n",
    "        If True, a dump file will also be created that contains evaluations of\n",
    "        the atomic forces.\n",
    "    \n",
    "    Returns\n",
    "    -------\n",
    "    dict\n",
    "        Dictionary of results consisting of keys:\n",
    "        - **'E_pot_total'** (*float*) - The total potential energy of the system.\n",
    "        - **'E_pot_atom'** (*float*) - The per-atom potential energy of the system.\n",
    "        - **'P_xx'** (*float*) - The measured xx component of the pressure on the system.\n",
    "        - **'P_yy'** (*float*) - The measured yy component of the pressure on the system.\n",
    "        - **'P_zz'** (*float*) - The measured zz component of the pressure on the system.\n",
    "    \"\"\"\n",
    "    \n",
    "    # Get lammps units\n",
    "    lammps_units = lmp.style.unit(potential.units)\n",
    "    \n",
    "    # Define lammps variables\n",
    "    lammps_variables = {}\n",
    "    system_info = system.dump('atom_data', f='init.dat',\n",
    "                              potential=potential)\n",
    "    lammps_variables['atomman_system_pair_info'] = system_info\n",
    "\n",
    "    # Add dump lines if requested\n",
    "    if dumpforces:\n",
    "        lammps_variables['dump_lines'] = '\\n'.join([\n",
    "            'dump dumpy all custom 1 forces.dump id type x y z fx fy fz',\n",
    "            'dump_modify dumpy format float %.13e', ''])\n",
    "    else:\n",
    "        lammps_variables['dump_lines'] = ''\n",
    "\n",
    "    # Fill in lammps input script\n",
    "    template = read_calc_file('iprPy.calculation.energy_check', 'run0.template')\n",
    "    script = filltemplate(template, lammps_variables, '<', '>')\n",
    "    \n",
    "    # Run LAMMPS\n",
    "    output = lmp.run(lammps_command, script=script,\n",
    "                     mpi_command=mpi_command, logfile=None)\n",
    "    \n",
    "    # Extract output values\n",
    "    thermo = output.simulations[-1]['thermo']\n",
    "    results = {}\n",
    "    results['E_pot_total'] = uc.set_in_units(thermo.PotEng.values[-1],\n",
    "                                             lammps_units['energy'])\n",
    "    results['E_pot_atom'] = uc.set_in_units(thermo.v_peatom.values[-1],\n",
    "                                            lammps_units['energy'])\n",
    "    results['P_xx'] = uc.set_in_units(thermo.Pxx.values[-1],\n",
    "                                      lammps_units['pressure'])\n",
    "    results['P_yy'] = uc.set_in_units(thermo.Pyy.values[-1],\n",
    "                                      lammps_units['pressure'])\n",
    "    results['P_zz'] = uc.set_in_units(thermo.Pzz.values[-1],\n",
    "                                      lammps_units['pressure'])\n",
    "    return results"
   ]
  },
  {
   "cell_type": "markdown",
   "metadata": {},
   "source": [
    "### 2.2. run0.template file"
   ]
  },
  {
   "cell_type": "code",
   "execution_count": 5,
   "metadata": {},
   "outputs": [],
   "source": [
    "with open('run0.template', 'w') as f:\n",
    "    f.write(\"\"\"#LAMMPS input script that evaluates a system's energy, pressure and atomic forces without relaxing\n",
    "\n",
    "box tilt large\n",
    "\n",
    "<atomman_system_pair_info>\n",
    "\n",
    "variable peatom equal pe/atoms\n",
    "\n",
    "thermo_style custom step lx ly lz pxx pyy pzz pe v_peatom\n",
    "thermo_modify format float %.13e\n",
    "\n",
    "<dump_lines>\n",
    "run 0\"\"\")"
   ]
  },
  {
   "cell_type": "markdown",
   "metadata": {},
   "source": [
    "## 3. Specify input parameters"
   ]
  },
  {
   "cell_type": "markdown",
   "metadata": {},
   "source": [
    "### 3.1. System-specific paths\n",
    "\n",
    "- __lammps_command__ is the LAMMPS command to use (required).\n",
    "- __mpi_command__ MPI command for running LAMMPS in parallel. A value of None will run simulations serially."
   ]
  },
  {
   "cell_type": "code",
   "execution_count": 6,
   "metadata": {},
   "outputs": [
    {
     "name": "stdout",
     "output_type": "stream",
     "text": [
      "LAMMPS version = 23 Jun 2022\n"
     ]
    }
   ],
   "source": [
    "lammps_command = '/home/lmh1/LAMMPS/2022-06-23/src/lmp_serial'\n",
    "mpi_command = None\n",
    "\n",
    "# Optional: check that LAMMPS works and show its version \n",
    "print(f'LAMMPS version = {am.lammps.checkversion(lammps_command)[\"version\"]}')"
   ]
  },
  {
   "cell_type": "markdown",
   "metadata": {},
   "source": [
    "### 3.2. Interatomic potential\n",
    "\n",
    "- __potential_name__ gives the name of the potential_LAMMPS reference record in the iprPy library to use for the calculation.  \n",
    "- __potential__ is an atomman.lammps.Potential object (required)."
   ]
  },
  {
   "cell_type": "code",
   "execution_count": 7,
   "metadata": {},
   "outputs": [],
   "source": [
    "potential_name = '1999--Mishin-Y--Ni--LAMMPS--ipr1'\n",
    "\n",
    "# Retrieve potential and parameter file(s) using atomman\n",
    "potential = am.load_lammps_potential(id=potential_name, getfiles=True)"
   ]
  },
  {
   "cell_type": "markdown",
   "metadata": {},
   "source": [
    "### 3.3. System\n",
    "\n",
    "- __system__ is an atomman.System representing a fundamental unit cell of the system (required).  Here, this is loaded as the ucell from a relaxed_crystal record.\n",
    "- __expected_potential_energy__ is the expected per-atom potential energy for the system.  Not needed for the calculation itself, but used here to compare with the computed value.  This is taken from the relaxed_crystal record."
   ]
  },
  {
   "cell_type": "code",
   "execution_count": 8,
   "metadata": {},
   "outputs": [
    {
     "name": "stdout",
     "output_type": "stream",
     "text": [
      "Multiple matching record retrieved from local\n",
      "#  family               symbols  alat    Ecoh    method  standing\n",
      " 1 A1--Cu--fcc          Ni        3.5200 -4.4500 dynamic good\n",
      " 2 A1--Cu--fcc          Ni        7.3760  0.0119 dynamic good\n"
     ]
    },
    {
     "name": "stdin",
     "output_type": "stream",
     "text": [
      "Please select one: 1\n"
     ]
    }
   ],
   "source": [
    "# Fetch a relaxed crystal record from the database\n",
    "potdb = am.library.Database(remote=False)\n",
    "crystal = potdb.get_relaxed_crystal(potential_LAMMPS_id=potential.id, family='A1--Cu--fcc',standing='good')\n",
    "\n",
    "# Set ucell from the crystal record\n",
    "system = crystal.ucell\n",
    "\n",
    "# Set the expected potential energy from the crystal record\n",
    "expected_potential_energy = crystal.potential_energy"
   ]
  },
  {
   "cell_type": "markdown",
   "metadata": {},
   "source": [
    "## 4. Run calculation and view results\n",
    "\n",
    "### 4.1. Run calculation\n",
    "\n",
    "All primary calculation method functions take a series of inputs and return a dictionary of outputs."
   ]
  },
  {
   "cell_type": "code",
   "execution_count": 9,
   "metadata": {},
   "outputs": [
    {
     "name": "stdout",
     "output_type": "stream",
     "text": [
      "dict_keys(['E_pot_total', 'E_pot_atom', 'P_xx', 'P_yy', 'P_zz'])\n"
     ]
    }
   ],
   "source": [
    "results_dict = energy_check(lammps_command, system, potential, mpi_command=mpi_command)\n",
    "print(results_dict.keys())"
   ]
  },
  {
   "cell_type": "markdown",
   "metadata": {},
   "source": [
    "### 4.2. Report results\n",
    "\n",
    "Values returned in the results_dict:\n",
    "\n",
    "- 'E_pot_total' is the computed total potential energy across all atoms.\n",
    "- 'E_pot_atom' is the computed average potential energy across all atoms.\n",
    "- 'P_xx' is the computed xx component of pressure on the system.\n",
    "- 'P_yy' is the computed yy component of pressure on the system.\n",
    "- 'P_zz' is the computed zz component of pressure on the system."
   ]
  },
  {
   "cell_type": "code",
   "execution_count": 10,
   "metadata": {},
   "outputs": [
    {
     "name": "stdout",
     "output_type": "stream",
     "text": [
      "Measured potential energy: -4.4499999983489 eV\n",
      "Expected potential energy: -4.44999999835575 eV\n"
     ]
    }
   ],
   "source": [
    "energy_unit = 'eV'\n",
    "print('Measured potential energy:', uc.get_in_units(results_dict['E_pot_atom'], energy_unit), energy_unit)\n",
    "if expected_potential_energy is not None:\n",
    "    print('Expected potential energy:', uc.get_in_units(expected_potential_energy, energy_unit), energy_unit)"
   ]
  },
  {
   "cell_type": "code",
   "execution_count": 11,
   "metadata": {},
   "outputs": [
    {
     "name": "stdout",
     "output_type": "stream",
     "text": [
      "Measured P_xx: -1.4933367745432999e-09 GPa\n",
      "Measured P_yy: -1.4933386353261002e-09 GPa\n",
      "Measured P_zz: -1.4933426340973e-09 GPa\n"
     ]
    }
   ],
   "source": [
    "pressure_unit = 'GPa'\n",
    "print('Measured P_xx:', uc.get_in_units(results_dict['P_xx'], pressure_unit), pressure_unit)\n",
    "print('Measured P_yy:', uc.get_in_units(results_dict['P_yy'], pressure_unit), pressure_unit)\n",
    "print('Measured P_zz:', uc.get_in_units(results_dict['P_zz'], pressure_unit), pressure_unit)"
   ]
  },
  {
   "cell_type": "markdown",
   "metadata": {},
   "source": [
    " "
   ]
  }
 ],
 "metadata": {
  "kernelspec": {
   "display_name": "ipr",
   "language": "python",
   "name": "ipr"
  },
  "language_info": {
   "codemirror_mode": {
    "name": "ipython",
    "version": 3
   },
   "file_extension": ".py",
   "mimetype": "text/x-python",
   "name": "python",
   "nbconvert_exporter": "python",
   "pygments_lexer": "ipython3",
   "version": "3.11.11"
  }
 },
 "nbformat": 4,
 "nbformat_minor": 4
}
